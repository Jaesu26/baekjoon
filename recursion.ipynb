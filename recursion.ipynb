{
 "cells": [
  {
   "cell_type": "markdown",
   "id": "78db9fdd-e859-45a8-9b50-81f0d6d09358",
   "metadata": {},
   "source": [
    "# 재귀 (Recursion)"
   ]
  },
  {
   "cell_type": "markdown",
   "id": "38a7d10e-8bbe-48ce-aca3-8098ce8b9d52",
   "metadata": {},
   "source": [
    "## 하노이 탑\n",
    "\n",
    "- 문제 출처: [백준 1914번](https://www.acmicpc.net/problem/1914)"
   ]
  },
  {
   "cell_type": "markdown",
   "id": "2b61beba-894d-440e-bc54-ff3593c9321d",
   "metadata": {},
   "source": [
    "`-` $n$개의 원판이 쌓여있는 상황에서 목표 장대로 옮기는 것을 생각하자\n",
    "\n",
    "`-` 이를 목표 장대로 옮기기 위해선 가장 큰 원판을 뺀 나머지가 보조 장대에 있고 가장 큰 원판을 목표 장대로 옮겨야 한다\n",
    "\n",
    "`-` 목표 장대에 위치한 가장 큰 원판은 다른 원판에 이동에 전혀 영향을 끼치지 않는다 (가장 크므로 어느 원판이든 자신의 위에 위치할 수 있다)\n",
    "\n",
    "`-` 그래서 없다고 생각해도 무방하다\n",
    "\n",
    "`-` 목표 장대에 위치한 가장 큰 원판을 제외한 나머지 원판은 보조 장대에 위치하며 이들은 크기 순으로 있어야 하므로 유일하다\n",
    "\n",
    "`-` 그러면 이제 $n-1$개의 원판이 쌓여있는 상황에서 목표 장대를 옮기는 것을 생각하자\n",
    "\n",
    "`-` 이는 위의 알고리즘에서 $n$만 $n-1$로 바꾼 것과 동일하다\n",
    "\n",
    "`-` $n=1$인 경우 가장 작은 원판만 남은 것이고 이동에 제약이 없으므로 바로 목표 장대로 옮기면 된다\n",
    "\n",
    "`-` 그런데 처음 상황에서 가장 큰 원판을 뺀 나머지 $n-1$개의 원판을 보조 장대로 옮긴 것은 어떻게 하냐고?\n",
    "\n",
    "`-` 가장 큰 원판은 움직임에 영향을 안주니 $n-1$개의 원판을 보조 장대로 옮기면 되고 이는 재귀로 해결가능하다\n",
    "\n",
    "`-` 참고로 원판이 $n$개 있을 때 움직임의 최소 횟수는 $2^n-1$이다\n",
    "\n",
    "`-` $n$개의 원판을 옮기기 위해 $n-1$개의 원판을 보조 장대에 옮기고 가장 큰 원판을 목표 장대에 옮기고 다시 $n-1$개의 원판을 목표 장대로 옮겨야 한다\n",
    "\n",
    "`-` 이에 따라 $f(n)$을 $n$개의 원판을 목표 장대로 옮기기 위해 필요한 최소 횟수라고 하면 $f(n)=2f(n-1)+1$이 된다\n",
    "\n",
    "`-` $f(n)=2f(n-1)+1=2(2f(n-2)+1)+1= \\cdots= 2^{n-1}f(1)+1+2+\\cdots+2^{n-2} = 2^{n-1} + \\dfrac{2^{n-1}-1}{2-1} = 2^n -1$"
   ]
  },
  {
   "cell_type": "code",
   "execution_count": 2,
   "id": "75d8c2bb-58fc-4483-9b92-775026958048",
   "metadata": {},
   "outputs": [
    {
     "name": "stdin",
     "output_type": "stream",
     "text": [
      " 3\n"
     ]
    },
    {
     "name": "stdout",
     "output_type": "stream",
     "text": [
      "7\n",
      "1 3\n",
      "1 2\n",
      "3 2\n",
      "1 3\n",
      "2 1\n",
      "2 3\n",
      "1 3\n"
     ]
    }
   ],
   "source": [
    "def hanoi(n, from_pos, to_pos, aux_pos):  # from_pos에 있는 n개의 원판을 to_pos로 옮기는 과정을 출력\n",
    "    if n == 1:\n",
    "        print(from_pos, to_pos)\n",
    "        return\n",
    "    hanoi(n - 1, from_pos, aux_pos, to_pos)  # 가장 큰 원판을 목표 장대로 옮기기 위해 n - 1개의 원판을 보조 장대로 옮기자\n",
    "    print(from_pos, to_pos)  # 가장 큰 원판을 목표 장대로 옮기자\n",
    "    hanoi(n - 1, aux_pos, to_pos, from_pos)  # 아까 보조 장대로 옮긴 원판을 목표 장대로 옮기자\n",
    "\n",
    "\n",
    "def solution():\n",
    "    n = int(input())\n",
    "    k = 2**n - 1\n",
    "    print(k)\n",
    "    if n <= 20:\n",
    "        hanoi(n, 1, 3, 2)\n",
    "\n",
    "\n",
    "solution()\n",
    "\n",
    "# input\n",
    "# 3"
   ]
  },
  {
   "cell_type": "code",
   "execution_count": null,
   "id": "08eccf1e-edf8-43a5-a2ae-9d476cf9219d",
   "metadata": {},
   "outputs": [],
   "source": []
  }
 ],
 "metadata": {
  "kernelspec": {
   "display_name": "Python 3 (ipykernel)",
   "language": "python",
   "name": "python3"
  },
  "language_info": {
   "codemirror_mode": {
    "name": "ipython",
    "version": 3
   },
   "file_extension": ".py",
   "mimetype": "text/x-python",
   "name": "python",
   "nbconvert_exporter": "python",
   "pygments_lexer": "ipython3",
   "version": "3.8.11"
  }
 },
 "nbformat": 4,
 "nbformat_minor": 5
}
