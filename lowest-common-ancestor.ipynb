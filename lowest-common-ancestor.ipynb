{
 "cells": [
  {
   "cell_type": "markdown",
   "id": "d4d10269-2d41-4e09-825c-f6bcc6228398",
   "metadata": {},
   "source": [
    "# 최소 공통 조상 (Lowest Common Ancestor)"
   ]
  },
  {
   "cell_type": "markdown",
   "id": "caa03052-a177-435c-ba47-0aaf8ddc9743",
   "metadata": {},
   "source": [
    "`-` 최소 공통 조상: 루트가 있는 트리에서 두 정점를 모두 자손으로 가지면서 깊이가 가장 깊은 정점"
   ]
  },
  {
   "cell_type": "markdown",
   "id": "1860a871-9757-4f11-b317-6a15d1ae7f5b",
   "metadata": {},
   "source": [
    "## 가장 가까운 공통 조상\n",
    "\n",
    "- 문제 출처: [백준 3584번](https://www.acmicpc.net/problem/3584)"
   ]
  },
  {
   "cell_type": "markdown",
   "id": "5e13308f-6fa7-44a6-9124-6d24afb1e10b",
   "metadata": {},
   "source": [
    "`-` 두 정점을 $u$와 $v$라고 하자\n",
    "\n",
    "`-` $u$에서 부모로 계속 거슬러 올라가면서 정점을 집합에 기록한다\n",
    "\n",
    "`-` $v$에서 부모로 계속 거슬러 올라가면서 $u$의 부모 집합에 해당 정점이 있는지 판단한다\n",
    "\n",
    "`-` 존재한다면 그것이 가장 가까운 공통 조상이다\n",
    "\n",
    "`-` 먼저 탐색한다는 것은 가장 가까운 부모라는 것이고 이는 깊이가 깊은 것이기 때문이다\n",
    "\n",
    "`-` 최악의 경우 트리의 높이는 $N$이고 이를 $2$번 탐색하므로 알고리즘의 시간 복잡도는 $O(N)$이다"
   ]
  },
  {
   "cell_type": "code",
   "execution_count": 5,
   "id": "8040d849-77d2-4b2c-9c8f-369470f3244a",
   "metadata": {},
   "outputs": [
    {
     "name": "stdin",
     "output_type": "stream",
     "text": [
      " 2\n",
      " 16\n",
      " 1 14\n",
      " 8 5\n",
      " 10 16\n",
      " 5 9\n",
      " 4 6\n",
      " 8 4\n",
      " 4 10\n",
      " 1 13\n",
      " 6 15\n",
      " 10 11\n",
      " 6 7\n",
      " 10 2\n",
      " 16 3\n",
      " 8 1\n",
      " 16 12\n",
      " 16 7\n"
     ]
    },
    {
     "name": "stdout",
     "output_type": "stream",
     "text": [
      "4\n"
     ]
    },
    {
     "name": "stdin",
     "output_type": "stream",
     "text": [
      " 5\n",
      " 2 3\n",
      " 3 4\n",
      " 3 1\n",
      " 1 5\n",
      " 3 5\n"
     ]
    },
    {
     "name": "stdout",
     "output_type": "stream",
     "text": [
      "3\n"
     ]
    }
   ],
   "source": [
    "def trace_to_root(u, root, node2parent):\n",
    "    route = [u]\n",
    "    while u != root:\n",
    "        u = node2parent[u]\n",
    "        route.append(u)\n",
    "    return route\n",
    "\n",
    "\n",
    "def find_nearest_common_ancestor(u, v, root, node2parent):\n",
    "    route = trace_to_root(u, root, node2parent)\n",
    "    route = set(route)\n",
    "    while v not in route:\n",
    "        v = node2parent[v]\n",
    "    return v\n",
    "\n",
    "\n",
    "def solve_testcase():\n",
    "    N = int(input())\n",
    "    node2parent = [-1 for _ in range(N + 1)]\n",
    "    for _ in range(N - 1):\n",
    "        A, B = map(int, input().split())\n",
    "        node2parent[B] = A\n",
    "    for i in range(1, N + 1):\n",
    "        if node2parent[i] == -1:\n",
    "            root = i\n",
    "            break\n",
    "    u, v = map(int, input().split())\n",
    "    nearest_common_ancestor = find_nearest_common_ancestor(u, v, root, node2parent)\n",
    "    print(nearest_common_ancestor)\n",
    "\n",
    "\n",
    "def solution():\n",
    "    T = int(input())\n",
    "    for _ in range(T):\n",
    "        solve_testcase()\n",
    "\n",
    "\n",
    "solution()\n",
    "\n",
    "# input\n",
    "# 2\n",
    "# 16\n",
    "# 1 14\n",
    "# 8 5\n",
    "# 10 16\n",
    "# 5 9\n",
    "# 4 6\n",
    "# 8 4\n",
    "# 4 10\n",
    "# 1 13\n",
    "# 6 15\n",
    "# 10 11\n",
    "# 6 7\n",
    "# 10 2\n",
    "# 16 3\n",
    "# 8 1\n",
    "# 16 12\n",
    "# 16 7\n",
    "# 5\n",
    "# 2 3\n",
    "# 3 4\n",
    "# 3 1\n",
    "# 1 5\n",
    "# 3 5"
   ]
  },
  {
   "cell_type": "markdown",
   "id": "5b720214-9c20-4a24-a4f2-f1c9eae4a42a",
   "metadata": {},
   "source": [
    "## LCA\n",
    "\n",
    "- 문제 출처: [백준 11437번](https://www.acmicpc.net/problem/11437)"
   ]
  },
  {
   "cell_type": "markdown",
   "id": "cb44f37e-216d-45e2-8822-fdb636f13bbc",
   "metadata": {},
   "source": [
    "`-` 루트가 있는 트리에서 두 정점의 최소 공통 조상(Lowest Common Ancestor)를 찾자\n",
    "\n",
    "`-` [가장 가까운 공통 조상](https://www.acmicpc.net/problem/3584)과 본질적으로 동일한 문제이다\n",
    "\n",
    "`-` 정점의 수가 $N$, 쿼리의 수가 $M$일 때 전체 동작의 시간 복잡도는 $O(NM)$이다\n",
    "\n",
    "`-` 같은 방법으로 푸니 $22\\%$에서 시간 초과가 발생했다\n",
    "\n",
    "`-` 조금 최적화를 해보자\n",
    "\n",
    "`-` $u$와 $v$가 다른 서브 트리에 있고 최소 공통 조상이 $p$라고 해보자\n",
    "\n",
    "`-` $u$와 $v$가 다른 서브 트리에 있으므로 $p$는 $u$와 $v$가 아닌 다른 정점이다\n",
    "\n",
    "`-` $v$의 서브 트리 안에 있는 정점 $c$가 있을 때 $u$와 $c$의 최소 공통 조상은 누구일까?\n",
    "\n",
    "`-` 이는 $p$인데 $c$가 부모를 따라 거슬러 올라가다 보면 $v$를 만나게 되고 $u$와 $v$의 최소 공통 조상은 $p$이기 때문이다\n",
    "\n",
    "`-` 즉, $u$와 $v$의 최소 공통 조상이 $p$이면 각각의 서브 트리 안에 있는 정점 $c_u, c_v$의 최소 공통 조상도 $p$이다\n",
    "\n",
    "`-` 자식뿐만 아니라 $p$와 $u$를 잇는 경로에 있는 정점과 $p$와 $v$를 잇는 정점간의 최소 공통 조상도 $p$이다\n",
    "\n",
    "`-` 그런데 서브 트리는 고려하지 않는게 낫다\n",
    "\n",
    "`-` 루트를 기준으로 $\\frac{N-1}{2}$씩 나눠 가졌다고 해보자\n",
    "\n",
    "`-` 그러면 루트의 두 자식 각각의 서브 트리에는 $\\frac{N-1}{2}$만큼의 정점이 있다\n",
    "\n",
    "`-` 이들간의 최소 공통 조상은 루트인데 연산 횟수가 $\\frac{(N-1)^2}{4}$으로 $O\\left(N^2\\right)$이다\n",
    "\n",
    "`-` $N$이 최대 $50000$이므로 제한 시간안에 통과하지 못한다\n",
    "\n",
    "`-` 대신 $p$와 $v$를 잇는 정점과 $u$간의 최소 공통 조상도 $p$가 되도록 메모이제이션 하겠다\n",
    "\n",
    "`-` 이 작업은 원래 최소 공통 조상 구하려면 필요했던 것이었고 시간 복잡도는 $O(N)$이다\n",
    "\n",
    "`-` $u$와 $v$가 바뀐 반대 상황은 메모리를 아끼기 위해 기록하지 않겠다\n",
    "\n",
    "`-` 일단 해보고 그래도 시간 초과나면 같은 서브 트리에 속한 경우도 최적화 해보자\n",
    "\n",
    "`-` $N$과 $M$이 크지 않아서 이 정도만 최적화해도 통과했다"
   ]
  },
  {
   "cell_type": "code",
   "execution_count": 23,
   "id": "200c1565-1335-425d-b137-9999d5076ada",
   "metadata": {},
   "outputs": [
    {
     "name": "stdin",
     "output_type": "stream",
     "text": [
      " 15\n",
      " 1 2\n",
      " 1 3\n",
      " 2 4\n",
      " 3 7\n",
      " 6 2\n",
      " 3 8\n",
      " 4 9\n",
      " 2 5\n",
      " 5 11\n",
      " 7 13\n",
      " 10 4\n",
      " 11 15\n",
      " 12 5\n",
      " 14 7\n",
      " 6\n",
      " 6 11\n"
     ]
    },
    {
     "name": "stdout",
     "output_type": "stream",
     "text": [
      "2\n"
     ]
    },
    {
     "name": "stdin",
     "output_type": "stream",
     "text": [
      " 10 9\n"
     ]
    },
    {
     "name": "stdout",
     "output_type": "stream",
     "text": [
      "4\n"
     ]
    },
    {
     "name": "stdin",
     "output_type": "stream",
     "text": [
      " 2 6\n"
     ]
    },
    {
     "name": "stdout",
     "output_type": "stream",
     "text": [
      "2\n"
     ]
    },
    {
     "name": "stdin",
     "output_type": "stream",
     "text": [
      " 7 6\n"
     ]
    },
    {
     "name": "stdout",
     "output_type": "stream",
     "text": [
      "1\n"
     ]
    },
    {
     "name": "stdin",
     "output_type": "stream",
     "text": [
      " 8 13\n"
     ]
    },
    {
     "name": "stdout",
     "output_type": "stream",
     "text": [
      "3\n"
     ]
    },
    {
     "name": "stdin",
     "output_type": "stream",
     "text": [
      " 8 15\n"
     ]
    },
    {
     "name": "stdout",
     "output_type": "stream",
     "text": [
      "1\n"
     ]
    }
   ],
   "source": [
    "from collections import defaultdict\n",
    "\n",
    "\n",
    "def make_tree(node, parent, node2parent):\n",
    "    node2parent[node] = parent\n",
    "    stack = [(node, parent)]\n",
    "    while stack:\n",
    "        u, u_parent = stack.pop()\n",
    "        for child in tree[u]:\n",
    "            if child == u_parent:\n",
    "                continue\n",
    "            node2parent[child] = u\n",
    "            stack.append((child, u))\n",
    "\n",
    "\n",
    "def trace_to_root(u, node2parent):\n",
    "    route = [u]\n",
    "    while u != ROOT:\n",
    "        u = node2parent[u]\n",
    "        route.append(u)\n",
    "    return route\n",
    "\n",
    "\n",
    "def find_lowest_common_ancestor(u, v, node2parent):\n",
    "    if v < u:\n",
    "        u, v = v, u\n",
    "    if (u, v) in dp:\n",
    "        return dp[(u, v)]\n",
    "    route = trace_to_root(u, node2parent)\n",
    "    route_set = set(route)\n",
    "    pair = [(u, v)]\n",
    "    lowest_common_ancestor = v\n",
    "    while v not in route_set:\n",
    "        if (u, v) in dp:\n",
    "            lowest_common_ancestor = dp[(u, v)]\n",
    "            break\n",
    "        v = node2parent[v]\n",
    "        pair.append((u, v))\n",
    "        lowest_common_ancestor = v\n",
    "    for a, b in pair:\n",
    "        if b < a:\n",
    "            a, b = b, a\n",
    "        dp[(a, b)] = lowest_common_ancestor\n",
    "    return lowest_common_ancestor\n",
    "\n",
    "\n",
    "def solution():\n",
    "    global tree, dp, ROOT\n",
    "    N = int(input())\n",
    "    node2parent = [-1 for _ in range(N + 1)]\n",
    "    dp = {}  # dp[(u, v)]는 u와 v의 최소 공통 조상\n",
    "    ROOT = 1\n",
    "    NONE = -1\n",
    "    tree = defaultdict(list)\n",
    "    for _ in range(N - 1):\n",
    "        A, B = map(int, input().split())\n",
    "        tree[A].append(B)\n",
    "        tree[B].append(A)\n",
    "    make_tree(ROOT, NONE, node2parent)\n",
    "    M = int(input())\n",
    "    for _ in range(M):\n",
    "        u, v = map(int, input().split())\n",
    "        nearest_common_ancestor = find_lowest_common_ancestor(u, v, node2parent)\n",
    "        print(nearest_common_ancestor)\n",
    "\n",
    "\n",
    "solution()\n",
    "\n",
    "# input\n",
    "# 15\n",
    "# 1 2\n",
    "# 1 3\n",
    "# 2 4\n",
    "# 3 7\n",
    "# 6 2\n",
    "# 3 8\n",
    "# 4 9\n",
    "# 2 5\n",
    "# 5 11\n",
    "# 7 13\n",
    "# 10 4\n",
    "# 11 15\n",
    "# 12 5\n",
    "# 14 7\n",
    "# 6\n",
    "# 6 11\n",
    "# 10 9\n",
    "# 2 6\n",
    "# 7 6\n",
    "# 8 13\n",
    "# 8 15"
   ]
  },
  {
   "cell_type": "markdown",
   "id": "530cdcd1-1c86-4ded-81a2-1a2a26743d5e",
   "metadata": {},
   "source": [
    "## 합성함수와 쿼리\n",
    "\n",
    "- 문제 출처: [백준 17435번](https://www.acmicpc.net/problem/17435)"
   ]
  },
  {
   "cell_type": "markdown",
   "id": "5e800c27-a5b5-44c7-8081-303f6d3cd136",
   "metadata": {},
   "source": [
    "`-` 효율적인 최소 공통 조상 구현을 위한 sparse table 구현\n",
    "\n",
    "`-` 많은 시도 끝에 포기 당했다\n",
    "\n",
    "`-` 함수 $f: \\{1, \\dots, m\\} \\to \\{1, \\dots, m\\}$이므로 비둘기집 원리에 의해 $x$에 $f$를 취하다보면 사이클이 생긴다\n",
    "\n",
    "`-` 나는 이를 비사이클 부분과 사이클 부분으로 나누어 풀고자 했다\n",
    "\n",
    "`-` 하지만 실패했고 질문 검색을 보고 희소 배열의 개념을 알게 됐다\n",
    "\n",
    "`-` $f_n(x)$에서 $n$을 $2$의 거듭제곱꼴로 나누어 연산을 적용한다\n",
    "\n",
    "`-` 간단하게 $19 = 16 + 2 + 1$이므로 $1$부터 $m$까지의 모든 $x$에 대해 $f_{16}(x), f_2(x), f_1(x)$를 알고 있다면 $f_{19}(x) = f_{16}(f_2(f_1(x)))$로 나타낼 수 있다\n",
    "\n",
    "`-` 나이브하게 하면 $f$를 $19$번 적용해야 되지만 미리 세팅만 해두면 $3$번만 적용하면 된다\n",
    "\n",
    "`-` 즉, $O\\left(\\log n\\right)$의 연산이면 $f_n(x)$를 계산할 수 있다\n",
    "\n",
    "`-` 그럼 이제 $k$는 $2$의 거듭제곱꼴일 때 $f_k(x)$를 미리 계산해보자\n",
    "\n",
    "`-` 여기서부터는 안 봐서 모른다\n",
    "\n",
    "`-` 일단 $f_1(x)$ 계산은 쉽고 $f_2(x)$도 마찬가지다\n",
    "\n",
    "`-` $f_4(1)$을 고려하자\n",
    "\n",
    "`-` 이건 $f_2(f_2(1))$이다\n",
    "\n",
    "`-` $f_2(x)$는 알고 있으니 $f_2(f_2(1))$을 계산할 수 있다\n",
    "\n",
    "`-` 그냥 간단하게 $f_2(x)$를 알고 있고 거기에 $f_2$를 다시 취하면 $f_4$를 계산한 결과이다\n",
    "\n",
    "`-` 즉, $f_{2k}(x)$를 알기 위해 $f_k(x)$에 $f_k$를 취해주면 된다\n",
    "\n",
    "`-` 배열의 원소가 $m$개이므로 매 단계마다 $O(m)$의 시간 복잡도를 가진다\n",
    "\n",
    "`-` 그리고 단계의 횟수는 $O\\left(\\log n\\right)$이므로 배열을 미리 준비하는 것은 $O(m \\log n)$의 시간 복잡도를 가진다\n",
    "\n",
    "`-` 쿼리당 $O(\\log n)$의 시간 복잡도를 가지고 쿼리가 $Q$개이므로 $O\\left(Q \\log n\\right)$이다\n",
    "\n",
    "`-` 따라서 전체 알고리즘으 시간 복잡도는 $O\\left(\\left(m+Q\\right)\\log n\\right)$이다"
   ]
  },
  {
   "cell_type": "code",
   "execution_count": 1,
   "id": "0776d17c-0ba2-48e9-924f-02e76102f646",
   "metadata": {},
   "outputs": [
    {
     "name": "stdin",
     "output_type": "stream",
     "text": [
      " 5\n",
      " 3 3 5 4 3\n",
      " 5\n",
      " 1 1\n"
     ]
    },
    {
     "name": "stdout",
     "output_type": "stream",
     "text": [
      "3\n"
     ]
    },
    {
     "name": "stdin",
     "output_type": "stream",
     "text": [
      " 2 1\n"
     ]
    },
    {
     "name": "stdout",
     "output_type": "stream",
     "text": [
      "5\n"
     ]
    },
    {
     "name": "stdin",
     "output_type": "stream",
     "text": [
      " 11 3\n"
     ]
    },
    {
     "name": "stdout",
     "output_type": "stream",
     "text": [
      "5\n"
     ]
    },
    {
     "name": "stdin",
     "output_type": "stream",
     "text": [
      " 1000 4\n"
     ]
    },
    {
     "name": "stdout",
     "output_type": "stream",
     "text": [
      "4\n"
     ]
    },
    {
     "name": "stdin",
     "output_type": "stream",
     "text": [
      " 5 1\n"
     ]
    },
    {
     "name": "stdout",
     "output_type": "stream",
     "text": [
      "3\n"
     ]
    }
   ],
   "source": [
    "import math\n",
    "\n",
    "\n",
    "def query(n, x, dp):\n",
    "    binary = bin(n)[2:]\n",
    "    for i, b in enumerate(binary[::-1]):\n",
    "        if b == \"0\":\n",
    "            continue\n",
    "        x = dp[i][x]\n",
    "    return x\n",
    "\n",
    "\n",
    "def sparse_table(f_results, max_n):\n",
    "    m = len(f_results)\n",
    "    dp = [[0] * (m + 1) for _ in range(int(math.log2(max_n)) + 1)]  # dp[i][x]는 f_{2^i}(x)\n",
    "    for x, f_x in enumerate(f_results, start=1):\n",
    "        dp[0][x] = f_x\n",
    "    for i in range(1, int(math.log2(max_n)) + 1):\n",
    "        for x in range(1, m + 1):\n",
    "            dp[i][x] = dp[i - 1][dp[i - 1][x]]\n",
    "    return dp\n",
    "\n",
    "\n",
    "def solution():\n",
    "    m = int(input())\n",
    "    f_results = list(map(int, input().split()))\n",
    "    max_n = 500000\n",
    "    dp = sparse_table(f_results, max_n)\n",
    "    Q = int(input())\n",
    "    for _ in range(Q):\n",
    "        n, x = map(int, input().split())\n",
    "        answer = query(n, x, dp)\n",
    "        print(answer)\n",
    "\n",
    "\n",
    "solution()\n",
    "\n",
    "# input\n",
    "# 5\n",
    "# 3 3 5 4 3\n",
    "# 5\n",
    "# 1 1\n",
    "# 2 1\n",
    "# 11 3\n",
    "# 1000 4\n",
    "# 5 1"
   ]
  },
  {
   "cell_type": "markdown",
   "id": "1bd4241b-5310-4a33-bf8b-6adee5cce4f9",
   "metadata": {},
   "source": [
    "## LCA 2\n",
    "\n",
    "- 문제 출처: [백준 11438번](https://www.acmicpc.net/problem/11438)"
   ]
  },
  {
   "cell_type": "markdown",
   "id": "252313ab-796d-44aa-9188-ba344767deac",
   "metadata": {},
   "source": [
    "`-` 두 노드의 가장 가까운 공통 조상이 몇 번인지 찾아내는 쿼리를 수행하자\n",
    "\n",
    "`-` 트리의 루트는 $1$번이다\n",
    "\n",
    "`-` $x$를 노드라고 할 때 $f(x)$는 $x$의 부모를 뜻한다고 하자\n",
    "\n",
    "`-` 두 노드 $u,v$가 주어졌을 때 둘의 최소 공통 조상을 찾는 것은 $f^n(u) = f^m(v)$를 만족하는 노드 중 $u,v$와 가장 가까운 노드를 찾는 것이다\n",
    "\n",
    "`-` $f^n(u) = f^m(v)$를 만족하는 $n$ 중에서 최솟값을 $n_{\\min}$이라 하자\n",
    "\n",
    "`-` 그럼 $f^{n_{\\min}}(u)$가 $u,v$의 최소 공통 조상이다\n",
    "\n",
    "`-` 트리의 구조를 생각해보면 당연하다\n",
    "\n",
    "`-` 물론 $f^{m_{\\min}}(v)$도 $u,v$의 최소 공통 조상이다\n",
    "\n",
    "`-` 어느것이든 상관없다\n",
    "\n",
    "`-` 중요한 건 $f^n(u) = f^m(v)$를 만족하는 $n,m$을 어떻게 찾을 것인지이다\n",
    "\n",
    "`-` 트리의 루트가 $1$번이므로 노드 $u,v$에 $f$를 취하다보면 결국엔 $1$이 도출된다\n",
    "\n",
    "`-` 노드의 개수가 $N$이므로 임의의 노드에 $f$를 적용하는 걸 $N-1$번 반복하다 보면 $1$이 나오게 된다\n",
    "\n",
    "`-` 하지만 $f$를 $N-1$번 적용하는 건 $O(N)$의 시간 복잡도를 가지게 되므로 모든 노드에 대해 수행하는 건 $O\\left(N^2\\right)$이다\n",
    "\n",
    "`-` 이는 시간 초과를 면할 수 없다\n",
    "\n",
    "`-` 이를 해결하기 위해 [합성함수와 쿼리](https://www.acmicpc.net/problem/17435)를 해결하는데 사용한 희소 배열을 이용할 것이다\n",
    "\n",
    "`-` 희소 배열을 이용하면 $f^N(u)$를 $O(\\log N)$에 계산할 수 있다\n",
    "\n",
    "`-` 두 노드 $u,v$와 루트 $1$ 사이의 거리를 $d_u, d_v$라고 하자\n",
    "\n",
    "`-` 그럼 $f^{d_u}(u) = f^{d_v}(v) = 1$이다\n",
    "\n",
    "`-` $u,v$가 루트까지 가는 경로를 생각해보면 공통 경로와 개별 경로로 나눌 수 있다\n",
    "\n",
    "`-` 둘의 최소 공통 조상을 $a$라 하자\n",
    "\n",
    "`-` $u \\to a$와 $v \\to a$는 개별 경로이고 $a \\to 1$은 공통 경로이다\n",
    "\n",
    "`-` $f^k(a) = 1$을 만족하는 $k$가 존재한다\n",
    "\n",
    "`-` 따라서 $f^{d_u - k}(u) = f^{d_v - k}(v) = 1$\n",
    "\n",
    "`-` 근데 우리는 최소 공통 조상을 모르기 때문에 당연히 $k$가 얼마인지도 모른다\n",
    "\n",
    "`-` 임의의 $i$에 대해 $f^{d_u - i}(u)$와 $f^{d_v - i}(v)$를 계산하자\n",
    "\n",
    "`-` 만약 $f^{d_u - i}(u) = f^{d_v - i}(v)$라면 해당 노드는 공통 경로에 위치하고 있는 것이다\n",
    "\n",
    "`-` 따라서 최소 공통 조상을 찾으려면 $i$를 더 키워서 탐색해야 한다\n",
    "\n",
    "`-` 만약 두 값이 다르다면 각 노드는 개별 경로에 위치하고 있는 것이고 최소 공통 조상을 찾기 위해 $i$를 더 작게 해야 한다\n",
    "\n",
    "`-` 이를 반복하다 보면 $i=k$가 된다\n",
    "\n",
    "`-` 효율적으로 범위를 줄이기 위해 $d = \\min(d_u, d_v)$라 하고 $i = \\left\\lfloor\\frac{d}{2}\\right\\rfloor$부터 시작할 것이다\n",
    "\n",
    "`-` 범위를 반 씩 줄여가면서 더 이상 탐색할 공간이 없을 때까지 반복하자\n",
    "\n",
    "`-` 두 노드의 최소 공통 조상을 계산하는 건 최악의 경우 $O\\left(\\log^2 N\\right)$이다\n",
    "\n",
    "`-` 쿼리의 개수가 $M$이므로 전체 쿼리의 시간 복잡도는 $O\\left(M \\log^2 N\\right)$이다\n",
    "\n",
    "`-` 희소 배열을 준비하는 것은 $O(N \\log N)$이다\n",
    "\n",
    "`-` 따라서 전체 알고리즘의 시간 복잡도는 $O\\left(N \\log N + M \\log^2 N\\right)$이다\n",
    "\n",
    "`-` 임의의 노드에서 루트까지의 거리도 희소 배열을 사용해 미리 계산해두어야 한다\n",
    "\n",
    "`-` 알고리즘은 올바른데 시간 초과에 걸린다 ($N$이 더 작은 LCA 문제 해결함)\n",
    "\n",
    "`-` 합성함수 연산에서 내장 함수 `bin`을 사용했는데 비트 연산으로 바꿨다\n",
    "\n",
    "`-` 루트까지의 거리(깊이) 측정을 dfs를 사용해 $O(N)$에 수행하도록 만들었다\n",
    "\n",
    "`-` 이렇게 하니 시간 안에 해결할 수 있었다"
   ]
  },
  {
   "cell_type": "code",
   "execution_count": 2,
   "id": "f87ef257-3e93-4819-ab07-f2e30d3a1f65",
   "metadata": {},
   "outputs": [
    {
     "name": "stdin",
     "output_type": "stream",
     "text": [
      " 15\n",
      " 1 2\n",
      " 1 3\n",
      " 2 4\n",
      " 3 7\n",
      " 6 2\n",
      " 3 8\n",
      " 4 9\n",
      " 2 5\n",
      " 5 11\n",
      " 7 13\n",
      " 10 4\n",
      " 11 15\n",
      " 12 5\n",
      " 14 7\n",
      " 6\n",
      " 6 11\n"
     ]
    },
    {
     "name": "stdout",
     "output_type": "stream",
     "text": [
      "2\n"
     ]
    },
    {
     "name": "stdin",
     "output_type": "stream",
     "text": [
      " 10 9\n"
     ]
    },
    {
     "name": "stdout",
     "output_type": "stream",
     "text": [
      "4\n"
     ]
    },
    {
     "name": "stdin",
     "output_type": "stream",
     "text": [
      " 2 6\n"
     ]
    },
    {
     "name": "stdout",
     "output_type": "stream",
     "text": [
      "2\n"
     ]
    },
    {
     "name": "stdin",
     "output_type": "stream",
     "text": [
      " 7 6\n"
     ]
    },
    {
     "name": "stdout",
     "output_type": "stream",
     "text": [
      "1\n"
     ]
    },
    {
     "name": "stdin",
     "output_type": "stream",
     "text": [
      " 8 13\n"
     ]
    },
    {
     "name": "stdout",
     "output_type": "stream",
     "text": [
      "3\n"
     ]
    },
    {
     "name": "stdin",
     "output_type": "stream",
     "text": [
      " 8 15\n"
     ]
    },
    {
     "name": "stdout",
     "output_type": "stream",
     "text": [
      "1\n"
     ]
    }
   ],
   "source": [
    "import math\n",
    "import sys\n",
    "from collections import defaultdict\n",
    "\n",
    "sys.setrecursionlimit(10**5 + 2)\n",
    "\n",
    "\n",
    "def dfs(tree, node, parent, parents):\n",
    "    for child in tree[node]:\n",
    "        if child == parent:\n",
    "            continue\n",
    "        parents[child] = node\n",
    "        dfs(tree, child, node, parents)\n",
    "    return parents\n",
    "\n",
    "\n",
    "def compute_sparse_table(parents, n_max):\n",
    "    dp = [[NONE] * (N + 1) for _ in range(n_max + 1)]  # dp[i][u] = f^{2^i}(u)\n",
    "    for j, p in enumerate(parents):\n",
    "        dp[0][j] = p\n",
    "    for i in range(1, n_max + 1):\n",
    "        for u in range(1, N + 1):\n",
    "            dp[i][u] = dp[i - 1][dp[i - 1][u]]\n",
    "    return dp\n",
    "\n",
    "\n",
    "def composite_func(x, n, sparse_table):\n",
    "    i = 0\n",
    "    while True:\n",
    "        if n & 1:\n",
    "            x = sparse_table[i][x]\n",
    "        n >>= 1\n",
    "        i += 1\n",
    "        if n == 0:\n",
    "            break\n",
    "    return x\n",
    "\n",
    "\n",
    "def compute_dists_to_root(tree, sparse_table):\n",
    "    dists_to_root = [0] * (N + 1)\n",
    "    stack = [(ROOT, 0)]\n",
    "    visited = set([ROOT])\n",
    "    while stack:\n",
    "        node, dist = stack.pop()\n",
    "        for child in tree[node]:\n",
    "            if child in visited:\n",
    "                continue\n",
    "            dists_to_root[child] = dist + 1\n",
    "            visited.add(child)\n",
    "            stack.append((child, dist + 1))\n",
    "    return dists_to_root\n",
    "\n",
    "\n",
    "def query(u, v, dists_to_root, sparse_table):\n",
    "    if u == v:\n",
    "        return u\n",
    "    d_u = dists_to_root[u]\n",
    "    d_v = dists_to_root[v]\n",
    "    d = min(d_u, d_v)\n",
    "    upper = d\n",
    "    lower = 0\n",
    "    while lower <= upper:\n",
    "        mid = (upper + lower) // 2\n",
    "        f_u = composite_func(u, d_u - mid, sparse_table)\n",
    "        f_v = composite_func(v, d_v - mid, sparse_table)\n",
    "        if f_u == f_v:\n",
    "            lower = mid + 1\n",
    "        else:\n",
    "            upper = mid - 1\n",
    "    lca = composite_func(u, d_u - upper, sparse_table)\n",
    "    return lca\n",
    "\n",
    "\n",
    "def solution():\n",
    "    global N, ROOT, NONE\n",
    "    N = int(input())\n",
    "    n_max = int(math.log2(N))\n",
    "    ROOT = 1\n",
    "    NONE = 0\n",
    "    tree = defaultdict(list)\n",
    "    for _ in range(N - 1):\n",
    "        u, v = map(int, input().split())\n",
    "        tree[u].append(v)\n",
    "        tree[v].append(u)\n",
    "    parents = [NONE] * (N + 1)\n",
    "    parents = dfs(tree, ROOT, NONE, parents)\n",
    "    sparse_table = compute_sparse_table(parents, n_max)\n",
    "    dists_to_root = compute_dists_to_root(tree, sparse_table)\n",
    "    M = int(input())\n",
    "    for _ in range(M):\n",
    "        u, v = map(int, input().split())\n",
    "        answer = query(u, v, dists_to_root, sparse_table)\n",
    "        print(answer)\n",
    "\n",
    "\n",
    "solution()\n",
    "\n",
    "# input\n",
    "# 15\n",
    "# 1 2\n",
    "# 1 3\n",
    "# 2 4\n",
    "# 3 7\n",
    "# 6 2\n",
    "# 3 8\n",
    "# 4 9\n",
    "# 2 5\n",
    "# 5 11\n",
    "# 7 13\n",
    "# 10 4\n",
    "# 11 15\n",
    "# 12 5\n",
    "# 14 7\n",
    "# 6\n",
    "# 6 11\n",
    "# 10 9\n",
    "# 2 6\n",
    "# 7 6\n",
    "# 8 13\n",
    "# 8 15"
   ]
  },
  {
   "cell_type": "code",
   "execution_count": null,
   "id": "08568373-4ba2-4d94-bb87-c89b212f4d26",
   "metadata": {},
   "outputs": [],
   "source": []
  }
 ],
 "metadata": {
  "kernelspec": {
   "display_name": "Python 3 (ipykernel)",
   "language": "python",
   "name": "python3"
  },
  "language_info": {
   "codemirror_mode": {
    "name": "ipython",
    "version": 3
   },
   "file_extension": ".py",
   "mimetype": "text/x-python",
   "name": "python",
   "nbconvert_exporter": "python",
   "pygments_lexer": "ipython3",
   "version": "3.8.11"
  }
 },
 "nbformat": 4,
 "nbformat_minor": 5
}
