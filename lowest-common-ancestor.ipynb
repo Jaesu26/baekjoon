{
 "cells": [
  {
   "cell_type": "markdown",
   "id": "d4d10269-2d41-4e09-825c-f6bcc6228398",
   "metadata": {},
   "source": [
    "# 최소 공통 조상 (Lowest Common Ancestor)"
   ]
  },
  {
   "cell_type": "markdown",
   "id": "caa03052-a177-435c-ba47-0aaf8ddc9743",
   "metadata": {},
   "source": [
    "`-` 최소 공통 조상: 루트가 있는 트리에서 두 정점를 모두 자손으로 가지면서 깊이가 가장 깊은 정점"
   ]
  },
  {
   "cell_type": "markdown",
   "id": "1860a871-9757-4f11-b317-6a15d1ae7f5b",
   "metadata": {},
   "source": [
    "## 가장 가까운 공통 조상\n",
    "\n",
    "- 문제 출처: [백준 3584번](https://www.acmicpc.net/problem/3584)"
   ]
  },
  {
   "cell_type": "markdown",
   "id": "5e13308f-6fa7-44a6-9124-6d24afb1e10b",
   "metadata": {},
   "source": [
    "`-` 두 정점을 $u$와 $v$라고 하자\n",
    "\n",
    "`-` $u$에서 부모로 계속 거슬러 올라가면서 정점을 집합에 기록한다\n",
    "\n",
    "`-` $v$에서 부모로 계속 거슬러 올라가면서 $u$의 부모 집합에 해당 정점이 있는지 판단한다\n",
    "\n",
    "`-` 존재한다면 그것이 가장 가까운 공통 조상이다\n",
    "\n",
    "`-` 먼저 탐색한다는 것은 가장 가까운 부모라는 것이고 이는 깊이가 깊은 것이기 때문이다\n",
    "\n",
    "`-` 최악의 경우 트리의 높이는 $N$이고 이를 $2$번 탐색하므로 알고리즘의 시간 복잡도는 $O(N)$이다"
   ]
  },
  {
   "cell_type": "code",
   "execution_count": 5,
   "id": "8040d849-77d2-4b2c-9c8f-369470f3244a",
   "metadata": {},
   "outputs": [
    {
     "name": "stdin",
     "output_type": "stream",
     "text": [
      " 2\n",
      " 16\n",
      " 1 14\n",
      " 8 5\n",
      " 10 16\n",
      " 5 9\n",
      " 4 6\n",
      " 8 4\n",
      " 4 10\n",
      " 1 13\n",
      " 6 15\n",
      " 10 11\n",
      " 6 7\n",
      " 10 2\n",
      " 16 3\n",
      " 8 1\n",
      " 16 12\n",
      " 16 7\n"
     ]
    },
    {
     "name": "stdout",
     "output_type": "stream",
     "text": [
      "4\n"
     ]
    },
    {
     "name": "stdin",
     "output_type": "stream",
     "text": [
      " 5\n",
      " 2 3\n",
      " 3 4\n",
      " 3 1\n",
      " 1 5\n",
      " 3 5\n"
     ]
    },
    {
     "name": "stdout",
     "output_type": "stream",
     "text": [
      "3\n"
     ]
    }
   ],
   "source": [
    "def trace_to_root(u, root, node2parent):\n",
    "    route = [u]\n",
    "    while u != root:\n",
    "        u = node2parent[u]\n",
    "        route.append(u)\n",
    "    return route\n",
    "\n",
    "\n",
    "def find_nearest_common_ancestor(u, v, root, node2parent):\n",
    "    route = trace_to_root(u, root, node2parent)\n",
    "    route = set(route)\n",
    "    while v not in route:\n",
    "        v = node2parent[v]\n",
    "    return v\n",
    "\n",
    "\n",
    "def solve_testcase():\n",
    "    N = int(input())\n",
    "    node2parent = [-1 for _ in range(N + 1)]\n",
    "    for _ in range(N - 1):\n",
    "        A, B = map(int, input().split())\n",
    "        node2parent[B] = A\n",
    "    for i in range(1, N + 1):\n",
    "        if node2parent[i] == -1:\n",
    "            root = i\n",
    "            break\n",
    "    u, v = map(int, input().split())\n",
    "    nearest_common_ancestor = find_nearest_common_ancestor(u, v, root, node2parent)\n",
    "    print(nearest_common_ancestor)\n",
    "\n",
    "\n",
    "def solution():\n",
    "    T = int(input())\n",
    "    for _ in range(T):\n",
    "        solve_testcase()\n",
    "\n",
    "\n",
    "solution()\n",
    "\n",
    "# input\n",
    "# 2\n",
    "# 16\n",
    "# 1 14\n",
    "# 8 5\n",
    "# 10 16\n",
    "# 5 9\n",
    "# 4 6\n",
    "# 8 4\n",
    "# 4 10\n",
    "# 1 13\n",
    "# 6 15\n",
    "# 10 11\n",
    "# 6 7\n",
    "# 10 2\n",
    "# 16 3\n",
    "# 8 1\n",
    "# 16 12\n",
    "# 16 7\n",
    "# 5\n",
    "# 2 3\n",
    "# 3 4\n",
    "# 3 1\n",
    "# 1 5\n",
    "# 3 5"
   ]
  },
  {
   "cell_type": "markdown",
   "id": "5b720214-9c20-4a24-a4f2-f1c9eae4a42a",
   "metadata": {},
   "source": [
    "## LCA\n",
    "\n",
    "- 문제 출처: [백준 11437번](https://www.acmicpc.net/problem/11437)"
   ]
  },
  {
   "cell_type": "markdown",
   "id": "cb44f37e-216d-45e2-8822-fdb636f13bbc",
   "metadata": {},
   "source": [
    "`-` 루트가 있는 트리에서 두 정점의 최소 공통 조상(Lowest Common Ancestor)를 찾자\n",
    "\n",
    "`-` [가장 가까운 공통 조상](https://www.acmicpc.net/problem/3584)과 본질적으로 동일한 문제이다\n",
    "\n",
    "`-` 정점의 수가 $N$, 쿼리의 수가 $M$일 때 전체 동작의 시간 복잡도는 $O(NM)$이다\n",
    "\n",
    "`-` 같은 방법으로 푸니 $22\\%$에서 시간 초과가 발생했다\n",
    "\n",
    "`-` 조금 최적화를 해보자\n",
    "\n",
    "`-` $u$와 $v$가 다른 서브 트리에 있고 최소 공통 조상이 $p$라고 해보자\n",
    "\n",
    "`-` $u$와 $v$가 다른 서브 트리에 있으므로 $p$는 $u$와 $v$가 아닌 다른 정점이다\n",
    "\n",
    "`-` $v$의 서브 트리 안에 있는 정점 $c$가 있을 때 $u$와 $c$의 최소 공통 조상은 누구일까?\n",
    "\n",
    "`-` 이는 $p$인데 $c$가 부모를 따라 거슬러 올라가다 보면 $v$를 만나게 되고 $u$와 $v$의 최소 공통 조상은 $p$이기 때문이다\n",
    "\n",
    "`-` 즉, $u$와 $v$의 최소 공통 조상이 $p$이면 각각의 서브 트리 안에 있는 정점 $c_u, c_v$의 최소 공통 조상도 $p$이다\n",
    "\n",
    "`-` 자식뿐만 아니라 $p$와 $u$를 잇는 경로에 있는 정점과 $p$와 $v$를 잇는 정점간의 최소 공통 조상도 $p$이다\n",
    "\n",
    "`-` 그런데 서브 트리는 고려하지 않는게 낫다\n",
    "\n",
    "`-` 루트를 기준으로 $\\frac{N-1}{2}$씩 나눠 가졌다고 해보자\n",
    "\n",
    "`-` 그러면 루트의 두 자식 각각의 서브 트리에는 $\\frac{N-1}{2}$만큼의 정점이 있다\n",
    "\n",
    "`-` 이들간의 최소 공통 조상은 루트인데 연산 횟수가 $\\frac{(N-1)^2}{4}$으로 $O\\left(N^2\\right)$이다\n",
    "\n",
    "`-` $N$이 최대 $50000$이므로 제한 시간안에 통과하지 못한다\n",
    "\n",
    "`-` 대신 $p$와 $v$를 잇는 정점과 $u$간의 최소 공통 조상도 $p$가 되도록 메모이제이션 하겠다\n",
    "\n",
    "`-` 이 작업은 원래 최소 공통 조상 구하려면 필요했던 것이었고 시간 복잡도는 $O(N)$이다\n",
    "\n",
    "`-` $u$와 $v$가 바뀐 반대 상황은 메모리를 아끼기 위해 기록하지 않겠다\n",
    "\n",
    "`-` 일단 해보고 그래도 시간 초과나면 같은 서브 트리에 속한 경우도 최적화 해보자\n",
    "\n",
    "`-` $N$과 $M$이 크지 않아서 이 정도만 최적화해도 통과했다"
   ]
  },
  {
   "cell_type": "code",
   "execution_count": 23,
   "id": "200c1565-1335-425d-b137-9999d5076ada",
   "metadata": {},
   "outputs": [
    {
     "name": "stdin",
     "output_type": "stream",
     "text": [
      " 15\n",
      " 1 2\n",
      " 1 3\n",
      " 2 4\n",
      " 3 7\n",
      " 6 2\n",
      " 3 8\n",
      " 4 9\n",
      " 2 5\n",
      " 5 11\n",
      " 7 13\n",
      " 10 4\n",
      " 11 15\n",
      " 12 5\n",
      " 14 7\n",
      " 6\n",
      " 6 11\n"
     ]
    },
    {
     "name": "stdout",
     "output_type": "stream",
     "text": [
      "2\n"
     ]
    },
    {
     "name": "stdin",
     "output_type": "stream",
     "text": [
      " 10 9\n"
     ]
    },
    {
     "name": "stdout",
     "output_type": "stream",
     "text": [
      "4\n"
     ]
    },
    {
     "name": "stdin",
     "output_type": "stream",
     "text": [
      " 2 6\n"
     ]
    },
    {
     "name": "stdout",
     "output_type": "stream",
     "text": [
      "2\n"
     ]
    },
    {
     "name": "stdin",
     "output_type": "stream",
     "text": [
      " 7 6\n"
     ]
    },
    {
     "name": "stdout",
     "output_type": "stream",
     "text": [
      "1\n"
     ]
    },
    {
     "name": "stdin",
     "output_type": "stream",
     "text": [
      " 8 13\n"
     ]
    },
    {
     "name": "stdout",
     "output_type": "stream",
     "text": [
      "3\n"
     ]
    },
    {
     "name": "stdin",
     "output_type": "stream",
     "text": [
      " 8 15\n"
     ]
    },
    {
     "name": "stdout",
     "output_type": "stream",
     "text": [
      "1\n"
     ]
    }
   ],
   "source": [
    "from collections import defaultdict\n",
    "\n",
    "\n",
    "def make_tree(node, parent, node2parent):\n",
    "    node2parent[node] = parent\n",
    "    stack = [(node, parent)]\n",
    "    while stack:\n",
    "        u, u_parent = stack.pop()\n",
    "        for child in tree[u]:\n",
    "            if child == u_parent:\n",
    "                continue\n",
    "            node2parent[child] = u\n",
    "            stack.append((child, u))\n",
    "\n",
    "\n",
    "def trace_to_root(u, node2parent):\n",
    "    route = [u]\n",
    "    while u != ROOT:\n",
    "        u = node2parent[u]\n",
    "        route.append(u)\n",
    "    return route\n",
    "\n",
    "\n",
    "def find_lowest_common_ancestor(u, v, node2parent):\n",
    "    if v < u:\n",
    "        u, v = v, u\n",
    "    if (u, v) in dp:\n",
    "        return dp[(u, v)]\n",
    "    route = trace_to_root(u, node2parent)\n",
    "    route_set = set(route)\n",
    "    pair = [(u, v)]\n",
    "    lowest_common_ancestor = v\n",
    "    while v not in route_set:\n",
    "        if (u, v) in dp:\n",
    "            lowest_common_ancestor = dp[(u, v)]\n",
    "            break\n",
    "        v = node2parent[v]\n",
    "        pair.append((u, v))\n",
    "        lowest_common_ancestor = v\n",
    "    for a, b in pair:\n",
    "        if b < a:\n",
    "            a, b = b, a\n",
    "        dp[(a, b)] = lowest_common_ancestor\n",
    "    return lowest_common_ancestor\n",
    "\n",
    "\n",
    "def solution():\n",
    "    global tree, dp, ROOT\n",
    "    N = int(input())\n",
    "    node2parent = [-1 for _ in range(N + 1)]\n",
    "    dp = {}  # dp[(u, v)]는 u와 v의 최소 공통 조상\n",
    "    ROOT = 1\n",
    "    NONE = -1\n",
    "    tree = defaultdict(list)\n",
    "    for _ in range(N - 1):\n",
    "        A, B = map(int, input().split())\n",
    "        tree[A].append(B)\n",
    "        tree[B].append(A)\n",
    "    make_tree(ROOT, NONE, node2parent)\n",
    "    M = int(input())\n",
    "    for _ in range(M):\n",
    "        u, v = map(int, input().split())\n",
    "        nearest_common_ancestor = find_lowest_common_ancestor(u, v, node2parent)\n",
    "        print(nearest_common_ancestor)\n",
    "\n",
    "\n",
    "solution()\n",
    "\n",
    "# input\n",
    "# 15\n",
    "# 1 2\n",
    "# 1 3\n",
    "# 2 4\n",
    "# 3 7\n",
    "# 6 2\n",
    "# 3 8\n",
    "# 4 9\n",
    "# 2 5\n",
    "# 5 11\n",
    "# 7 13\n",
    "# 10 4\n",
    "# 11 15\n",
    "# 12 5\n",
    "# 14 7\n",
    "# 6\n",
    "# 6 11\n",
    "# 10 9\n",
    "# 2 6\n",
    "# 7 6\n",
    "# 8 13\n",
    "# 8 15"
   ]
  },
  {
   "cell_type": "markdown",
   "id": "530cdcd1-1c86-4ded-81a2-1a2a26743d5e",
   "metadata": {},
   "source": [
    "## 합성함수와 쿼리\n",
    "\n",
    "- 문제 출처: [백준 17435번](https://www.acmicpc.net/problem/17435)"
   ]
  },
  {
   "cell_type": "code",
   "execution_count": 1,
   "id": "ecdbe776-c7bf-495e-8ab8-6a0ddeb45b5d",
   "metadata": {},
   "outputs": [],
   "source": [
    "# 합성함수와 쿼리\n",
    "# 많은 시도 끝에 포기 당했다\n",
    "# {1, ..., m} -> {1, ..., m}이므로 비둘기집 원리에 의해 x에 f를 취하다보면 사이클이 생긴다\n",
    "# 나는 이를 비사이클 부분과 사이클 부분으로 나누어 풀고자 했다\n",
    "# 하지만 실패했고 질문 검색을 보고 희소 배열의 개념을 알게 됐다\n",
    "# f_n(x)에서 n을 2의 거듭제곱꼴로 나누어 연산을 적용한다\n",
    "# 간단하게 19 = 16 + 2 + 1이므로 1부터 m까지의 모든 x에 대해 f_16(x), f_2(x), f_1(x)를 알고 있다면 f_19(x) = f_16(f_2(f_1(x)))로 나타낼 수 있다\n",
    "# 나이브하게 하면 f를 19번 적용해야 되지만 미리 세팅만 해두면 3번만 적용하면 된다\n",
    "# 즉, O(log n)의 연산이면 f_n(x)를 계산할 수 있다\n",
    "# 그럼 이제 k는 2의 거듭제곱꼴일 때 f_k(x)를 미리 계산해보자\n",
    "# 여기서부터는 안 봐서 모른다\n",
    "# 일단 f_1(x) 계산은 쉽다, f_2(x)도 마찬가지다\n",
    "# f_4(1)을 고려하자\n",
    "# 이건 f_2(f_2(1))이다\n",
    "# f_2(x)는 알고 있으니 f_2(f_2(1))을 계산할 수 있다\n",
    "# 그냥 간단하게 f_2(x)를 알고 있고 거기에 f_2를 다시 취하면 f_4를 계산한 결과이다\n",
    "# 즉, f_2k(x)를 알기 위해 f_k(x)에 f_k를 취해주면 된다\n",
    "# 배열 크기가 m개이므로 매 스탭마다 O(m)의 시간 복잡도를 가진다\n",
    "# 그리고 스탭의 횟수는 O(log n)이므로 배열을 미리 준비하는 것은 O(m log n)의 시간 복잡도를 가진다"
   ]
  },
  {
   "cell_type": "code",
   "execution_count": 2,
   "id": "0776d17c-0ba2-48e9-924f-02e76102f646",
   "metadata": {},
   "outputs": [
    {
     "name": "stdin",
     "output_type": "stream",
     "text": [
      " 5\n",
      " 3 3 5 4 3\n",
      " 5\n",
      " 1 1\n"
     ]
    },
    {
     "name": "stdout",
     "output_type": "stream",
     "text": [
      "3\n"
     ]
    },
    {
     "name": "stdin",
     "output_type": "stream",
     "text": [
      " 2 1\n"
     ]
    },
    {
     "name": "stdout",
     "output_type": "stream",
     "text": [
      "5\n"
     ]
    },
    {
     "name": "stdin",
     "output_type": "stream",
     "text": [
      " 11 3\n"
     ]
    },
    {
     "name": "stdout",
     "output_type": "stream",
     "text": [
      "5\n"
     ]
    },
    {
     "name": "stdin",
     "output_type": "stream",
     "text": [
      " 1000 4\n"
     ]
    },
    {
     "name": "stdout",
     "output_type": "stream",
     "text": [
      "4\n"
     ]
    },
    {
     "name": "stdin",
     "output_type": "stream",
     "text": [
      " 5 1\n"
     ]
    },
    {
     "name": "stdout",
     "output_type": "stream",
     "text": [
      "3\n"
     ]
    }
   ],
   "source": [
    "import math\n",
    "\n",
    "\n",
    "def query(n, x, dp):\n",
    "    binary = bin(n)[2:]\n",
    "    for i, b in enumerate(binary[::-1]):\n",
    "        if b == \"0\":\n",
    "            continue\n",
    "        x = dp[i][x]\n",
    "    return x\n",
    "\n",
    "\n",
    "def solution():\n",
    "    m = int(input())\n",
    "    f_results = list(map(int, input().split()))\n",
    "    max_n = 500000\n",
    "    dp = [[0] * (m + 1) for _ in range(int(math.log2(max_n)) + 1)]  # dp[i][x]는 f_{2^i}(x)의 결과\n",
    "    for x, f_x in enumerate(f_results, start=1):\n",
    "        dp[0][x] = f_x\n",
    "    for i in range(1, int(math.log2(max_n)) + 1):\n",
    "        for x in range(1, m + 1):\n",
    "            dp[i][x] = dp[i - 1][dp[i - 1][x]]\n",
    "    Q = int(input())\n",
    "    for _ in range(Q):\n",
    "        n, x = map(int, input().split())\n",
    "        answer = query(n, x, dp)\n",
    "        print(answer)\n",
    "\n",
    "\n",
    "solution()\n",
    "\n",
    "# # input\n",
    "# 5\n",
    "# 3 3 5 4 3\n",
    "# 5\n",
    "# 1 1\n",
    "# 2 1\n",
    "# 11 3\n",
    "# 1000 4\n",
    "# 5 1"
   ]
  },
  {
   "cell_type": "code",
   "execution_count": null,
   "id": "662780b6-9504-4192-a9e7-67d46dc2a518",
   "metadata": {},
   "outputs": [],
   "source": []
  }
 ],
 "metadata": {
  "kernelspec": {
   "display_name": "Python 3 (ipykernel)",
   "language": "python",
   "name": "python3"
  },
  "language_info": {
   "codemirror_mode": {
    "name": "ipython",
    "version": 3
   },
   "file_extension": ".py",
   "mimetype": "text/x-python",
   "name": "python",
   "nbconvert_exporter": "python",
   "pygments_lexer": "ipython3",
   "version": "3.8.11"
  }
 },
 "nbformat": 4,
 "nbformat_minor": 5
}
