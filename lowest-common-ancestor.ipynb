{
 "cells": [
  {
   "cell_type": "markdown",
   "id": "d4d10269-2d41-4e09-825c-f6bcc6228398",
   "metadata": {},
   "source": [
    "# 최소 공통 조상 (Lowest Common Ancestor)"
   ]
  },
  {
   "cell_type": "markdown",
   "id": "caa03052-a177-435c-ba47-0aaf8ddc9743",
   "metadata": {},
   "source": [
    "`-` 최소 공통 조상: 루트가 있는 트리에서 두 정점를 모두 자손으로 가지면서 깊이가 가장 깊은 정점"
   ]
  },
  {
   "cell_type": "markdown",
   "id": "1860a871-9757-4f11-b317-6a15d1ae7f5b",
   "metadata": {},
   "source": [
    "## 가장 가까운 공통 조상\n",
    "\n",
    "- 문제 출처: [백준 3584번](https://www.acmicpc.net/problem/3584)"
   ]
  },
  {
   "cell_type": "markdown",
   "id": "5e13308f-6fa7-44a6-9124-6d24afb1e10b",
   "metadata": {},
   "source": [
    "`-` 두 정점을 $u$와 $v$라고 하자\n",
    "\n",
    "`-` $u$에서 부모로 계속 거슬러 올라가면서 정점을 집합에 기록한다\n",
    "\n",
    "`-` $v$에서 부모로 계속 거슬러 올라가면서 $u$의 부모 집합에 해당 정점이 있는지 판단한다\n",
    "\n",
    "`-` 존재한다면 그것이 가장 가까운 공통 조상이다\n",
    "\n",
    "`-` 먼저 탐색한다는 것은 가장 가까운 부모라는 것이고 이는 깊이가 깊은 것이기 때문이다\n",
    "\n",
    "`-` 최악의 경우 트리의 높이는 $N$이고 이를 $2$번 탐색하므로 알고리즘의 시간 복잡도는 $O(N)$이다"
   ]
  },
  {
   "cell_type": "code",
   "execution_count": 5,
   "id": "8040d849-77d2-4b2c-9c8f-369470f3244a",
   "metadata": {},
   "outputs": [
    {
     "name": "stdin",
     "output_type": "stream",
     "text": [
      " 2\n",
      " 16\n",
      " 1 14\n",
      " 8 5\n",
      " 10 16\n",
      " 5 9\n",
      " 4 6\n",
      " 8 4\n",
      " 4 10\n",
      " 1 13\n",
      " 6 15\n",
      " 10 11\n",
      " 6 7\n",
      " 10 2\n",
      " 16 3\n",
      " 8 1\n",
      " 16 12\n",
      " 16 7\n"
     ]
    },
    {
     "name": "stdout",
     "output_type": "stream",
     "text": [
      "4\n"
     ]
    },
    {
     "name": "stdin",
     "output_type": "stream",
     "text": [
      " 5\n",
      " 2 3\n",
      " 3 4\n",
      " 3 1\n",
      " 1 5\n",
      " 3 5\n"
     ]
    },
    {
     "name": "stdout",
     "output_type": "stream",
     "text": [
      "3\n"
     ]
    }
   ],
   "source": [
    "def trace_to_root(u, root, node2parent):\n",
    "    route = [u]\n",
    "    while u != root:\n",
    "        u = node2parent[u]\n",
    "        route.append(u)\n",
    "    return route\n",
    "\n",
    "\n",
    "def find_nearest_common_ancestor(u, v, root, node2parent):\n",
    "    route = trace_to_root(u, root, node2parent)\n",
    "    route = set(route)\n",
    "    while v not in route:\n",
    "        v = node2parent[v]\n",
    "    return v\n",
    "\n",
    "\n",
    "def solve_testcase():\n",
    "    N = int(input())\n",
    "    node2parent = [-1 for _ in range(N + 1)]\n",
    "    for _ in range(N - 1):\n",
    "        A, B = map(int, input().split())\n",
    "        node2parent[B] = A\n",
    "    for i in range(1, N + 1):\n",
    "        if node2parent[i] == -1:\n",
    "            root = i\n",
    "            break\n",
    "    u, v = map(int, input().split())\n",
    "    nearest_common_ancestor = find_nearest_common_ancestor(u, v, root, node2parent)\n",
    "    print(nearest_common_ancestor)\n",
    "\n",
    "\n",
    "def solution():\n",
    "    T = int(input())\n",
    "    for _ in range(T):\n",
    "        solve_testcase()\n",
    "\n",
    "\n",
    "solution()\n",
    "\n",
    "# input\n",
    "# 2\n",
    "# 16\n",
    "# 1 14\n",
    "# 8 5\n",
    "# 10 16\n",
    "# 5 9\n",
    "# 4 6\n",
    "# 8 4\n",
    "# 4 10\n",
    "# 1 13\n",
    "# 6 15\n",
    "# 10 11\n",
    "# 6 7\n",
    "# 10 2\n",
    "# 16 3\n",
    "# 8 1\n",
    "# 16 12\n",
    "# 16 7\n",
    "# 5\n",
    "# 2 3\n",
    "# 3 4\n",
    "# 3 1\n",
    "# 1 5\n",
    "# 3 5"
   ]
  },
  {
   "cell_type": "markdown",
   "id": "5b720214-9c20-4a24-a4f2-f1c9eae4a42a",
   "metadata": {},
   "source": [
    "## LCA\n",
    "\n",
    "- 문제 출처: [백준 11437번](https://www.acmicpc.net/problem/11437)"
   ]
  },
  {
   "cell_type": "markdown",
   "id": "cb44f37e-216d-45e2-8822-fdb636f13bbc",
   "metadata": {},
   "source": [
    "`-` 루트가 있는 트리에서 두 정점의 최소 공통 조상(Lowest Common Ancestor)를 찾자\n",
    "\n",
    "`-` [가장 가까운 공통 조상](https://www.acmicpc.net/problem/3584)과 본질적으로 동일한 문제이다\n",
    "\n",
    "`-` 정점의 수가 $N$, 쿼리의 수가 $M$일 때 전체 동작의 시간 복잡도는 $O(NM)$이다\n",
    "\n",
    "`-` 같은 방법으로 푸니 $22\\%$에서 시간 초과가 발생했다\n",
    "\n",
    "`-` 조금 최적화를 해보자\n",
    "\n",
    "`-` $u$와 $v$가 다른 서브 트리에 있고 최소 공통 조상이 $p$라고 해보자\n",
    "\n",
    "`-` $u$와 $v$가 다른 서브 트리에 있으므로 $p$는 $u$와 $v$가 아닌 다른 정점이다\n",
    "\n",
    "`-` $v$의 서브 트리 안에 있는 정점 $c$가 있을 때 $u$와 $c$의 최소 공통 조상은 누구일까?\n",
    "\n",
    "`-` 이는 $p$인데 $c$가 부모를 따라 거슬러 올라가다 보면 $v$를 만나게 되고 $u$와 $v$의 최소 공통 조상은 $p$이기 때문이다\n",
    "\n",
    "`-` 즉, $u$와 $v$의 최소 공통 조상이 $p$이면 각각의 서브 트리 안에 있는 정점 $c_u, c_v$의 최소 공통 조상도 $p$이다\n",
    "\n",
    "`-` 자식뿐만 아니라 $p$와 $u$를 잇는 경로에 있는 정점과 $p$와 $v$를 잇는 정점간의 최소 공통 조상도 $p$이다\n",
    "\n",
    "`-` 그런데 서브 트리는 고려하지 않는게 낫다\n",
    "\n",
    "`-` 루트를 기준으로 $\\frac{N-1}{2}$씩 나눠 가졌다고 해보자\n",
    "\n",
    "`-` 그러면 루트의 두 자식 각각의 서브 트리에는 $\\frac{N-1}{2}$만큼의 정점이 있다\n",
    "\n",
    "`-` 이들간의 최소 공통 조상은 루트인데 연산 횟수가 $\\frac{(N-1)^2}{4}$으로 $O\\left(N^2\\right)$이다\n",
    "\n",
    "`-` $N$이 최대 $50000$이므로 제한 시간안에 통과하지 못한다\n",
    "\n",
    "`-` 대신 $p$와 $v$를 잇는 정점과 $u$간의 최소 공통 조상도 $p$가 되도록 메모이제이션 하겠다\n",
    "\n",
    "`-` 이 작업은 원래 최소 공통 조상 구하려면 필요했던 것이었고 시간 복잡도는 $O(N)$이다\n",
    "\n",
    "`-` $u$와 $v$가 바뀐 반대 상황은 메모리를 아끼기 위해 기록하지 않겠다\n",
    "\n",
    "`-` 일단 해보고 그래도 시간 초과나면 같은 서브 트리에 속한 경우도 최적화 해보자\n",
    "\n",
    "`-` $N$과 $M$이 크지 않아서 이 정도만 최적화해도 통과했다"
   ]
  },
  {
   "cell_type": "code",
   "execution_count": 23,
   "id": "200c1565-1335-425d-b137-9999d5076ada",
   "metadata": {},
   "outputs": [
    {
     "name": "stdin",
     "output_type": "stream",
     "text": [
      " 15\n",
      " 1 2\n",
      " 1 3\n",
      " 2 4\n",
      " 3 7\n",
      " 6 2\n",
      " 3 8\n",
      " 4 9\n",
      " 2 5\n",
      " 5 11\n",
      " 7 13\n",
      " 10 4\n",
      " 11 15\n",
      " 12 5\n",
      " 14 7\n",
      " 6\n",
      " 6 11\n"
     ]
    },
    {
     "name": "stdout",
     "output_type": "stream",
     "text": [
      "2\n"
     ]
    },
    {
     "name": "stdin",
     "output_type": "stream",
     "text": [
      " 10 9\n"
     ]
    },
    {
     "name": "stdout",
     "output_type": "stream",
     "text": [
      "4\n"
     ]
    },
    {
     "name": "stdin",
     "output_type": "stream",
     "text": [
      " 2 6\n"
     ]
    },
    {
     "name": "stdout",
     "output_type": "stream",
     "text": [
      "2\n"
     ]
    },
    {
     "name": "stdin",
     "output_type": "stream",
     "text": [
      " 7 6\n"
     ]
    },
    {
     "name": "stdout",
     "output_type": "stream",
     "text": [
      "1\n"
     ]
    },
    {
     "name": "stdin",
     "output_type": "stream",
     "text": [
      " 8 13\n"
     ]
    },
    {
     "name": "stdout",
     "output_type": "stream",
     "text": [
      "3\n"
     ]
    },
    {
     "name": "stdin",
     "output_type": "stream",
     "text": [
      " 8 15\n"
     ]
    },
    {
     "name": "stdout",
     "output_type": "stream",
     "text": [
      "1\n"
     ]
    }
   ],
   "source": [
    "from collections import defaultdict\n",
    "\n",
    "\n",
    "def make_tree(node, parent, node2parent):\n",
    "    node2parent[node] = parent\n",
    "    stack = [(node, parent)]\n",
    "    while stack:\n",
    "        u, u_parent = stack.pop()\n",
    "        for child in tree[u]:\n",
    "            if child == u_parent:\n",
    "                continue\n",
    "            node2parent[child] = u\n",
    "            stack.append((child, u))\n",
    "\n",
    "\n",
    "def trace_to_root(u, node2parent):\n",
    "    route = [u]\n",
    "    while u != ROOT:\n",
    "        u = node2parent[u]\n",
    "        route.append(u)\n",
    "    return route\n",
    "\n",
    "\n",
    "def find_lowest_common_ancestor(u, v, node2parent):\n",
    "    if v < u:\n",
    "        u, v = v, u\n",
    "    if (u, v) in dp:\n",
    "        return dp[(u, v)]\n",
    "    route = trace_to_root(u, node2parent)\n",
    "    route_set = set(route)\n",
    "    pair = [(u, v)]\n",
    "    lowest_common_ancestor = v\n",
    "    while v not in route_set:\n",
    "        if (u, v) in dp:\n",
    "            lowest_common_ancestor = dp[(u, v)]\n",
    "            break\n",
    "        v = node2parent[v]\n",
    "        pair.append((u, v))\n",
    "        lowest_common_ancestor = v\n",
    "    for a, b in pair:\n",
    "        if b < a:\n",
    "            a, b = b, a\n",
    "        dp[(a, b)] = lowest_common_ancestor\n",
    "    return lowest_common_ancestor\n",
    "\n",
    "\n",
    "def solution():\n",
    "    global tree, dp, ROOT\n",
    "    N = int(input())\n",
    "    node2parent = [-1 for _ in range(N + 1)]\n",
    "    dp = {}  # dp[(u, v)]는 u와 v의 최소 공통 조상\n",
    "    ROOT = 1\n",
    "    NONE = -1\n",
    "    tree = defaultdict(list)\n",
    "    for _ in range(N - 1):\n",
    "        A, B = map(int, input().split())\n",
    "        tree[A].append(B)\n",
    "        tree[B].append(A)\n",
    "    make_tree(ROOT, NONE, node2parent)\n",
    "    M = int(input())\n",
    "    for _ in range(M):\n",
    "        u, v = map(int, input().split())\n",
    "        nearest_common_ancestor = find_lowest_common_ancestor(u, v, node2parent)\n",
    "        print(nearest_common_ancestor)\n",
    "\n",
    "\n",
    "solution()\n",
    "\n",
    "# input\n",
    "# 15\n",
    "# 1 2\n",
    "# 1 3\n",
    "# 2 4\n",
    "# 3 7\n",
    "# 6 2\n",
    "# 3 8\n",
    "# 4 9\n",
    "# 2 5\n",
    "# 5 11\n",
    "# 7 13\n",
    "# 10 4\n",
    "# 11 15\n",
    "# 12 5\n",
    "# 14 7\n",
    "# 6\n",
    "# 6 11\n",
    "# 10 9\n",
    "# 2 6\n",
    "# 7 6\n",
    "# 8 13\n",
    "# 8 15"
   ]
  }
 ],
 "metadata": {
  "kernelspec": {
   "display_name": "Python 3 (ipykernel)",
   "language": "python",
   "name": "python3"
  },
  "language_info": {
   "codemirror_mode": {
    "name": "ipython",
    "version": 3
   },
   "file_extension": ".py",
   "mimetype": "text/x-python",
   "name": "python",
   "nbconvert_exporter": "python",
   "pygments_lexer": "ipython3",
   "version": "3.8.11"
  }
 },
 "nbformat": 4,
 "nbformat_minor": 5
}
