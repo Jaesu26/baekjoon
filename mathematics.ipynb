{
 "cells": [
  {
   "cell_type": "markdown",
   "id": "be34b93c-db75-496c-bcb2-d3b5e85ec534",
   "metadata": {},
   "source": [
    "# 기본 수학1 (시간 초과 주의)"
   ]
  },
  {
   "cell_type": "markdown",
   "id": "e6fe8ed4-a2e9-4cdd-9f32-fb52b653179f",
   "metadata": {},
   "source": [
    "## 달팽이는 올라가고 싶다\n",
    "\n",
    "`-` 땅 위에 달팽이가 있다\n",
    "\n",
    "`-` 이 달팽이는 높이가 V미터인 나무 막대를 올라갈 것이다\n",
    "\n",
    "`-` 달팽이는 낮에 A미터 올라갈 수 있다 \n",
    "\n",
    "`-` 하지만, 밤에 잠을 자는 동안 B미터 미끄러진다\n",
    "\n",
    "`-` 또, 정상에 올라간 후에는 미끄러지지 않는다\n",
    "\n",
    "`-` 달팽이가 나무 막대를 모두 올라가려면, 며칠이 걸리는지 구하는 프로그램을 작성하시오"
   ]
  },
  {
   "cell_type": "markdown",
   "id": "746e74dc-d54a-4212-9945-a6fa1f174feb",
   "metadata": {},
   "source": [
    "`-` 달팽이는 올라가고 싶다 ---> 시간 초과 코드(while 반복문 사용)"
   ]
  },
  {
   "cell_type": "code",
   "execution_count": 6,
   "id": "7bcb0edf-1063-406f-b570-2ce142a2860f",
   "metadata": {},
   "outputs": [
    {
     "name": "stdin",
     "output_type": "stream",
     "text": [
      " 5 1 100\n"
     ]
    },
    {
     "name": "stdout",
     "output_type": "stream",
     "text": [
      "25\n"
     ]
    }
   ],
   "source": [
    "A, B, V = map(int,input().split())  ### 시간 초과\n",
    "\n",
    "day = 1\n",
    "h = 0\n",
    "\n",
    "while 1:\n",
    "    h += A\n",
    "    \n",
    "    if h >= V:\n",
    "        break   \n",
    "        \n",
    "    h -= B\n",
    "    day += 1 \n",
    "    \n",
    "print(day)  \n",
    "\n",
    "# input\n",
    "# 5 1 100"
   ]
  },
  {
   "cell_type": "markdown",
   "id": "f5e4c21d-dc61-44f1-a49f-d4d8710ba428",
   "metadata": {},
   "source": [
    "`-` 달팽이는 올라가고 싶다 ---> 시간 초과 해결한 코드(한 줄 수식)"
   ]
  },
  {
   "cell_type": "code",
   "execution_count": 7,
   "id": "ac7a9632-fa6a-495b-b4a8-a1ea0ccfd8d4",
   "metadata": {},
   "outputs": [
    {
     "name": "stdin",
     "output_type": "stream",
     "text": [
      " 5 1 100\n"
     ]
    },
    {
     "name": "stdout",
     "output_type": "stream",
     "text": [
      "25\n"
     ]
    }
   ],
   "source": [
    "import math\n",
    "A, B, V = map(int,input().split())  ### 시간 초과 해결\n",
    "print(math.ceil((V-A)/(A-B))+1)"
   ]
  },
  {
   "cell_type": "markdown",
   "id": "f813544b-802e-4d9b-90d1-d3f1979c8313",
   "metadata": {
    "tags": []
   },
   "source": [
    "## 손익분기점\n",
    "\n",
    "`-` A는 고정 비용, B는 가변 비용, C는 수익, k는 판매량\n",
    "\n",
    "`-` $C*k > A + B*k$ --> $k > \\frac{A}{C-B}$"
   ]
  },
  {
   "cell_type": "code",
   "execution_count": 35,
   "id": "820555ea-ec95-44a8-b15d-e6ec1d05bfd0",
   "metadata": {},
   "outputs": [
    {
     "name": "stdin",
     "output_type": "stream",
     "text": [
      " 3 2 1\n"
     ]
    },
    {
     "name": "stdout",
     "output_type": "stream",
     "text": [
      "-1\n"
     ]
    }
   ],
   "source": [
    "A, B, C = map(int, input().split())\n",
    "if abs(C-B) < 0.5:   ### C == B 여부를 판단\n",
    "    print(-1)\n",
    "    \n",
    "elif int(A/(C-B)) < 0:\n",
    "    print(-1)\n",
    "\n",
    "else:\n",
    "    print(int(A/(C-B)) + 1)\n",
    "    \n",
    "# input\n",
    "# 3 2 1"
   ]
  },
  {
   "cell_type": "markdown",
   "id": "a8856d11-d5ec-4eaa-a099-82bfff0cb922",
   "metadata": {},
   "source": [
    "`-` 위에 코드보다 더 간결한 코드\n",
    "\n",
    "`-` A에 관계없이 B >= C이면 손익분기점이 없다."
   ]
  },
  {
   "cell_type": "code",
   "execution_count": 36,
   "id": "d60f3201-c910-4a3c-8d7a-5e488c073745",
   "metadata": {},
   "outputs": [
    {
     "name": "stdin",
     "output_type": "stream",
     "text": [
      " 1000 70 170\n"
     ]
    },
    {
     "name": "stdout",
     "output_type": "stream",
     "text": [
      "11\n"
     ]
    }
   ],
   "source": [
    "A, B, C = map(int, input().split())\n",
    "if B >= C:   ### C == B 여부를 판단\n",
    "    print(-1)   \n",
    "else:\n",
    "    print(int(A/(C-B)) + 1)\n",
    "    \n",
    "# input\n",
    "# 1000 70 170"
   ]
  },
  {
   "cell_type": "markdown",
   "id": "102c407b-23cb-4643-ac58-495a526bd114",
   "metadata": {},
   "source": [
    "## Fly me to the Alpha Centauri\n",
    "\n",
    "`-` 시작할 땐 1만큼 도착할 때도 1만큼 이동\n",
    "\n",
    "`-` k만큼 이동한 후에 k-1 or k or k+1 만큼 이동 가능"
   ]
  },
  {
   "cell_type": "markdown",
   "id": "f9c4be0b-8ae3-461c-aaff-b12f34b38496",
   "metadata": {},
   "source": [
    "`-` 이동 횟수를 최소화할려면?\n",
    "\n",
    "`-` $x지점(출발=0)\\to{1}\\to{2}\\to{3}\\to\\dots\\to{n}\\to{n-1}\\to\\dots\\to{2}\\to{1}\\to{y지점}(도착=0)$\n",
    "\n",
    "`-` $이동\\,거리 = \\sum\\limits_{i=1}^{n}{k} + \\sum\\limits_{i=1}^{n-1}{k} = \\dfrac{n(n+1)}{2} + \\dfrac{(n-1)n}{2} = n^2$ \n",
    "\n",
    "`-` $y-x = n^2$\n",
    "\n",
    "`-` $이동\\,횟수 = 화살표의\\,개수 = n+(n-1)=2n-1$\n",
    "\n",
    "`-` 즉 $n^2$의 거리를 이동하기 위한 최소한의 이동 횟수는 $2n-1$이다\n",
    "\n",
    "`-` 바꿔말하면 $2n-1$번의 이동으로 갈 수 있는 최대 거리는 $n^2$이다"
   ]
  },
  {
   "cell_type": "markdown",
   "id": "367b662c-104a-443a-ac2b-57a07f749efd",
   "metadata": {},
   "source": [
    "`-` 위에 방법에 기반하여 정리를 해봤다\n",
    "\n",
    "`-` 위에서는 이동 거리가 $n^2$에 대해서 고려했다\n",
    "\n",
    "`-` 하지만 이동 거리가 제곱수가 아닐 수 도 있다\n",
    "\n",
    "`-` 예로 이동 거리가 110이면 이동 횟수는 $\\sqrt{100} \\leq \\sqrt{110} \\leq \\sqrt{121}$ 이므로 10 or 11 or 12이다\n",
    "\n",
    "`-` $n^2 = 1+1+2+2+\\dots+(n-1)+(n-1)+n$ 이다\n",
    "\n",
    "`-` 100 과 121의 차이는 21 = 10 + 11 --> 100은 이동 횟수 $2n-1=19$, 101$\\sim$110 은 $2n=20$, 111$\\sim$121은 $2n+1=21$이다"
   ]
  },
  {
   "cell_type": "code",
   "execution_count": 1,
   "id": "2d2bdf18-51f2-490e-8ac2-ffd39a2d466b",
   "metadata": {},
   "outputs": [
    {
     "name": "stdin",
     "output_type": "stream",
     "text": [
      " 3\n",
      " 0 3\n"
     ]
    },
    {
     "name": "stdout",
     "output_type": "stream",
     "text": [
      "3\n"
     ]
    },
    {
     "name": "stdin",
     "output_type": "stream",
     "text": [
      " 1 5\n"
     ]
    },
    {
     "name": "stdout",
     "output_type": "stream",
     "text": [
      "3\n"
     ]
    },
    {
     "name": "stdin",
     "output_type": "stream",
     "text": [
      " 45 50\n"
     ]
    },
    {
     "name": "stdout",
     "output_type": "stream",
     "text": [
      "4\n"
     ]
    }
   ],
   "source": [
    "T = int(input())\n",
    "\n",
    "for i in range(T):\n",
    "    x, y = map(int, input().split())\n",
    "    n = y - x\n",
    "    \n",
    "    m = int(n**0.5)\n",
    "    \n",
    "    if n**0.5 == m:\n",
    "        print(2*m - 1)\n",
    "    \n",
    "    elif n - m**2 <= m:\n",
    "        print(2*m)\n",
    "    \n",
    "    else:\n",
    "        print(2*m + 1)\n",
    "        \n",
    "# input\n",
    "# 3\n",
    "# 0 3\n",
    "# 1 5\n",
    "# 45 50"
   ]
  },
  {
   "cell_type": "markdown",
   "id": "b7e1c8e1-d7d5-4edf-8e23-5e75d6bc4ba5",
   "metadata": {},
   "source": [
    "## 설탕 배달\n",
    "\n",
    "- 문제 출처: [백준 2839번](https://www.acmicpc.net/problem/2839)"
   ]
  },
  {
   "cell_type": "markdown",
   "id": "8038a93c-4839-4a90-ba4d-48f617d9bdd6",
   "metadata": {},
   "source": [
    "`-` 봉지를 최소화 해야 한다 ---> 5kg 봉지를 최대한 많이 써야 한다\n",
    "\n",
    "`-` 설탕의 무게를 5로 나눈다\n",
    "\n",
    "`-` 만약 5로 나눠지면 끝이다\n",
    "\n",
    "`-` 그러지 않다면 5kg 봉지를 하나씩 줄여나가고 나머지를 3kg 봉지로 담는다\n",
    "\n",
    "`-` 5kg 봉지를 하나씩 줄이다가 0이 됐다면 전부 3kg 봉지를 사용한다\n",
    "\n",
    "`-` 그래도 안된다면 정확하게 Nkg을 만드는 것이 불가능하므로 -1을 출력한다"
   ]
  },
  {
   "cell_type": "markdown",
   "id": "7858b18b-b690-4575-a60f-578605c15cac",
   "metadata": {},
   "source": [
    "```python\n",
    "N = int(input())\n",
    "\n",
    "def sugar(n):\n",
    "    k = n//5\n",
    "    l = n % 5\n",
    "    if l == 0:\n",
    "        return k\n",
    "    \n",
    "    else:\n",
    "        n = n - k*5\n",
    "        if n % 3 ==0:\n",
    "            return k + 1\n",
    "        \n",
    "        else:\n",
    "            n = n - (k-1)*5\n",
    "            if n % 3 ==0:\n",
    "                return k - 1 + n//3\n",
    "            \n",
    "            else:\n",
    "                n = n - (k-2)*5\n",
    "                if n % 3 == 0:\n",
    "                    return k - 2 + n//3\n",
    "                \n",
    "                else:\n",
    "                    n = n -(k-3)*5\n",
    "                    if n % 3 ==0:\n",
    "                        return k - 3 + n//3\n",
    "                    \n",
    "                    else:\n",
    "                        \n",
    "                        ......\n",
    "                        \n",
    "                        if n < 0:\n",
    "                            return -1\n",
    "            \n",
    "```   \n",
    "`-` 이런식으로 전개될 것이다"
   ]
  },
  {
   "cell_type": "code",
   "execution_count": 1,
   "id": "bc31f4e0-02ec-4e85-ad40-27eb04edf253",
   "metadata": {},
   "outputs": [
    {
     "name": "stdin",
     "output_type": "stream",
     "text": [
      " 1001\n"
     ]
    },
    {
     "name": "stdout",
     "output_type": "stream",
     "text": [
      "201\n"
     ]
    }
   ],
   "source": [
    "N = int(input())\n",
    "\n",
    "def sugar(n):\n",
    "    k = n // 5\n",
    "    l = n % 5\n",
    "    \n",
    "    for i in range(k+1):\n",
    "        if l == 0:\n",
    "            return k\n",
    "            break\n",
    "        elif l % 3 == 0:\n",
    "            return k + l // 3\n",
    "            break\n",
    "        else:\n",
    "            l += 5\n",
    "            k -= 1\n",
    "    \n",
    "    return -1\n",
    "    \n",
    "print(sugar(N))\n",
    "        \n",
    "# input\n",
    "# 1001"
   ]
  },
  {
   "cell_type": "markdown",
   "id": "bbd5b642-a00d-41d4-a9d4-b2f50d82b6db",
   "metadata": {},
   "source": [
    "`-` 코드를 둘러보던 중 위의 코드가 비효율적이라 느껴졌다\n",
    "\n",
    "`-` 왜냐하면 `for문`에서 `if l == 0:` 은 처음 한 번 해서 False이면 영원히 False이다 ---> `else: l += 5` 때문\n",
    "\n",
    "`-` 하지만 for문 안에 있어서 `k+1`번 쓸모없는 행위를 반복해야 한다\n",
    "\n",
    "`-` 그래서 아래와 같이 수정했다\n",
    "\n",
    "`-` 그런데 시간이 64ms 에서 72ms가 됐다???"
   ]
  },
  {
   "cell_type": "code",
   "execution_count": 1,
   "id": "c4ba17a9-7e5b-4fe4-a090-6571ad34d9f2",
   "metadata": {},
   "outputs": [
    {
     "name": "stdin",
     "output_type": "stream",
     "text": [
      " 1001\n"
     ]
    },
    {
     "name": "stdout",
     "output_type": "stream",
     "text": [
      "201\n"
     ]
    }
   ],
   "source": [
    "N = int(input())\n",
    "\n",
    "def sugar(n):\n",
    "    k = n // 5\n",
    "    l = n % 5\n",
    "    \n",
    "    if l == 0:\n",
    "        return k\n",
    "    \n",
    "    for i in range(k+1):\n",
    "        if l % 3 == 0:\n",
    "            return k + l // 3\n",
    "            break\n",
    "        else:\n",
    "            l += 5\n",
    "            k -= 1\n",
    "    \n",
    "    return -1\n",
    "    \n",
    "print(sugar(N))\n",
    "   \n",
    "# input\n",
    "# 1001"
   ]
  },
  {
   "cell_type": "markdown",
   "id": "e8f2e3c8-779a-4670-bf13-6b63f1b2cc84",
   "metadata": {},
   "source": [
    "## print 와 return 의 차이(간단히)\n",
    "\n",
    "`-` return 은 종료문이다\n",
    "\n",
    "`-` 함수에서 return을 만나면 함수가 종료된다\n",
    "\n",
    "`-` 그렇기에 return이 여러개여도 하나만 반환된다\n",
    "\n",
    "`-` 여러 값을 반환하고 싶다면 return a,b,c, $\\dots$ \n",
    "\n",
    "`-` print()는 그렇지 않다\n",
    "\n",
    "`-` 위에 설탕배달 코드에서 return을 print()로 바꾼다면 항상 -1을 출력하지만\n",
    "\n",
    "`-` return이기 때문에 `return k` or `return k + l//3`이 실행되지 않을 때만 `return -1`이 실행된다"
   ]
  },
  {
   "cell_type": "markdown",
   "id": "4ea0b9b1-193b-4e2b-aa6a-3899cffd7422",
   "metadata": {},
   "source": [
    "## 분수찾기"
   ]
  },
  {
   "cell_type": "markdown",
   "id": "58275d2d-2eff-4cd2-b225-dcf38f674538",
   "metadata": {},
   "source": [
    "- 이와 같이 나열된 분수들을 1/1 -> 1/2 -> 2/1 -> 3/1 -> 2/2 ---> … 과 같은 지그재그 순서로 차례대로 1번, 2번, 3번, 4번, 5번, … 분수라고 하자\n",
    "\n",
    "- X가 주어졌을 때, X번째 분수를 구하는 프로그램을 작성하시오"
   ]
  },
  {
   "cell_type": "markdown",
   "id": "134a92f8-3175-4d90-b3bf-4d94c3a64796",
   "metadata": {},
   "source": [
    "`-` `분모 + 분자 = n + 1`인 분수가 `n개` 있다\n",
    "\n",
    "`-` 분모 + 분자가 `2`인 분수가 `1개`, `3`인 분수가 `2개`, `4`인 분수가 `3개`, $\\dots$, `n+1`인 분수가 `n개`\n",
    "\n",
    "`-` 분모 + 분자가 $n+1$인 끝점: $1+2+3+\\dots+n-2+n-1+n$ "
   ]
  },
  {
   "cell_type": "code",
   "execution_count": 1,
   "id": "ef3c145b-222d-4b03-91cf-4e3b41df9843",
   "metadata": {},
   "outputs": [
    {
     "name": "stdin",
     "output_type": "stream",
     "text": [
      " 11\n"
     ]
    },
    {
     "name": "stdout",
     "output_type": "stream",
     "text": [
      "5/1\n"
     ]
    }
   ],
   "source": [
    "x = int(input())\n",
    "n = int((x * 2) ** 0.5)\n",
    "k = n * (n + 1) // 2\n",
    "a = k - x\n",
    "\n",
    "if a < 0:\n",
    "    n += 1\n",
    "    k += n\n",
    "    a = k - x  \n",
    "\n",
    "if n % 2 == 0:\n",
    "    print(str(n-a) + '/' + str(1+a))\n",
    "    \n",
    "else:\n",
    "    print(str(1+a) + '/' + str(n-a))\n",
    "    \n",
    "# input\n",
    "# 11"
   ]
  },
  {
   "cell_type": "markdown",
   "id": "486a30f5-fc17-4dc3-a3c2-98199d707ac6",
   "metadata": {},
   "source": [
    "## 수학은 비대면강의입니다(19532번) "
   ]
  },
  {
   "cell_type": "markdown",
   "id": "f0c8b24b-531c-488e-9ca5-4e460a4def33",
   "metadata": {},
   "source": [
    "`-` 백준은 내부 라이브러리만 사용 가능, `numpy`는 외부 라이브러리라 사용 불가능"
   ]
  },
  {
   "cell_type": "markdown",
   "id": "d1a7dcbc-3d93-4706-a833-2552f399b7de",
   "metadata": {},
   "source": [
    "```python\n",
    "import numpy as np\n",
    "\n",
    "a, b, c, d, e, f = map(int, input().split())\n",
    "\n",
    "array1 = np.array([[a, b], [d, e]])  \n",
    "array2 = np.array([c, f])\n",
    "\n",
    "x, y = np.linalg.inv(array1) @ array2\n",
    "print(round(x), round(y))\n",
    "```"
   ]
  },
  {
   "cell_type": "markdown",
   "id": "bad38f5a-3a4b-4faf-9a2a-498e1ea61c26",
   "metadata": {},
   "source": [
    "`-` 연립 일차 방정식을 행렬을 통해 풀어 보자"
   ]
  },
  {
   "cell_type": "code",
   "execution_count": 6,
   "id": "770ea71a-5996-4c25-ab3a-9d3c5fcec2e1",
   "metadata": {},
   "outputs": [
    {
     "name": "stdin",
     "output_type": "stream",
     "text": [
      " 2 5 8 3 -4 -11\n"
     ]
    },
    {
     "name": "stdout",
     "output_type": "stream",
     "text": [
      "-1 2\n"
     ]
    }
   ],
   "source": [
    "a, b, c, d, e, f = map(int, input().split())\n",
    "\n",
    "det = a * e - b * d\n",
    "print(round((e * c - f *b ) / det), round((a * f - c * d) / det))\n",
    "\n",
    "# input\n",
    "# 2 5 8 3 -4 -11"
   ]
  },
  {
   "cell_type": "markdown",
   "id": "cba8335e-c90b-427c-a692-5975d06a0c01",
   "metadata": {},
   "source": [
    "## 부녀회장이 될테야\n",
    "\n",
    "- 문제 출처:[백준 2775번](https://www.acmicpc.net/problem/2775) "
   ]
  },
  {
   "cell_type": "markdown",
   "id": "06a095d1-3d46-4f9a-8138-9022143d7094",
   "metadata": {},
   "source": [
    "`-` a층의 b호 사람 수 = a층의 b-1호 사람 수 + a-1층의 b호 사람 수\n",
    "\n",
    "`-` 기본적으로 생각하면 0층 b호에는 n명이 살고 a층 1호에는 1명이 a층 2호에는 a+2명이 산다\n",
    "\n",
    "`-` 점화식을 알고 있으므로 재귀 함수를 사용했음\n",
    "\n",
    "`-` 호출을 여러 번 해야해서 좋지 않음\n",
    "\n",
    "`-` 시간 초과에 걸림"
   ]
  },
  {
   "cell_type": "code",
   "execution_count": 40,
   "id": "e82b8653-e2d5-4b27-9513-db02eb432368",
   "metadata": {},
   "outputs": [
    {
     "name": "stdin",
     "output_type": "stream",
     "text": [
      " 1\n",
      " 14\n",
      " 14\n"
     ]
    },
    {
     "name": "stdout",
     "output_type": "stream",
     "text": [
      "37442160\n"
     ]
    }
   ],
   "source": [
    "def apart(a, b):\n",
    "    \n",
    "    if a == 0:\n",
    "        return b\n",
    "    \n",
    "    if b == 1:\n",
    "        return 1\n",
    "    \n",
    "    return apart(a, b - 1) + apart(a - 1, b)    \n",
    "    \n",
    "    \n",
    "T = int(input())\n",
    "\n",
    "for i in range(T):\n",
    "    k = int(input())\n",
    "    n = int(input())\n",
    "    print(apart(k, n))\n",
    "   \n",
    " \n",
    "# input\n",
    "# 1\n",
    "# 14\n",
    "# 14"
   ]
  },
  {
   "cell_type": "markdown",
   "id": "76206e5e-28a2-444c-950f-dc7c1f106371",
   "metadata": {},
   "source": [
    "`-` 이미 구한 층,호수 사람 수는 기록하는 방법 사용(메모이제이션)\n",
    "\n",
    "`-` 똑같이 시간 초과"
   ]
  },
  {
   "cell_type": "code",
   "execution_count": 38,
   "id": "eb48c78c-13e0-435b-adf4-919dcad6e9a6",
   "metadata": {},
   "outputs": [
    {
     "name": "stdin",
     "output_type": "stream",
     "text": [
      " 1\n",
      " 14\n",
      " 14\n"
     ]
    },
    {
     "name": "stdout",
     "output_type": "stream",
     "text": [
      "37442160\n"
     ]
    }
   ],
   "source": [
    "List = [[0] * 14 for _ in range(15)] \n",
    "List[0] = [x for x in range(1, 15)]\n",
    "for i in range(len(List)):\n",
    "    List[i][0] = 1\n",
    "for j in range(len(List)):\n",
    "    List[j][1] = j + 2\n",
    "    \n",
    "def apart(a, b):\n",
    "    if List[a][b - 1] != 0:\n",
    "        return List[a][b - 1]\n",
    "    \n",
    "    return apart(a, b - 1) + apart(a - 1, b)    \n",
    "    \n",
    "    \n",
    "T = int(input())\n",
    "\n",
    "for i in range(T):\n",
    "    k = int(input())\n",
    "    n = int(input())\n",
    "    print(apart(k, n))\n",
    "    \n",
    "# input은 위와 동일함"
   ]
  },
  {
   "cell_type": "markdown",
   "id": "79242c6c-5547-47d9-8e9a-5d3b01af1419",
   "metadata": {},
   "source": [
    "`-` 난 위의 코드가 메모이제이션인 것 같았다.\n",
    "\n",
    "`-` 근데 처음 짠 코드와 다른 게 없었다. 메모이제이션이 아닌 가 보다.\n",
    "\n",
    "`-` 수학으로 풀려면 계차수열을 사용해야 하는데 복잡해 보인다.\n",
    "\n",
    "`-` 그래서 이번에는 처음부터 아파트를 채워놓고 시작하는 방법을 사용했다.\n",
    "\n",
    "`-` 층과 호수를 입력하면 채워진 아파트에서 그 층과 호수에 사는 사람 수를 출력한다.\n",
    "\n",
    "`-` 최대 사람수가 사는 14층 14호를 입력하면 첫 번째와 두 번째 코드는 2초 정도 걸렸는데 이 코드는 바로 출력된다.\n",
    "\n",
    "`-` 시간 초과 해결"
   ]
  },
  {
   "cell_type": "code",
   "execution_count": 48,
   "id": "1103cd1f-a775-445b-897e-6fc2d338733f",
   "metadata": {},
   "outputs": [
    {
     "name": "stdin",
     "output_type": "stream",
     "text": [
      " 1\n",
      " 14\n",
      " 14\n"
     ]
    },
    {
     "name": "stdout",
     "output_type": "stream",
     "text": [
      "37442160\n"
     ]
    }
   ],
   "source": [
    "apart = [[0] * 14 for _ in range(15)] \n",
    "apart[0] = [x for x in range(1, 15)]\n",
    "\n",
    "x = len(apart) \n",
    "\n",
    "for i in range(x):\n",
    "    apart[i][0] = 1\n",
    "for j in range(x):\n",
    "    apart[j][1] = j + 2\n",
    "\n",
    "for i in range(1, x):\n",
    "    for j in range(1, x - 1):\n",
    "        apart[i][j] = apart[i][j-1] + apart[i - 1][j]\n",
    "    \n",
    "T = int(input())\n",
    "\n",
    "for i in range(T):\n",
    "    k = int(input())\n",
    "    n = int(input())\n",
    "    print(apart[k][n - 1])\n",
    "    "
   ]
  },
  {
   "cell_type": "markdown",
   "id": "6ab245fa-dfac-4b4f-8194-9dfb4fe2c486",
   "metadata": {},
   "source": [
    "## 분산처리\n",
    "\n",
    "- 문제 출처: [백준 1009번](https://www.acmicpc.net/problem/1009)"
   ]
  },
  {
   "cell_type": "markdown",
   "id": "21a78bc1-c46d-495b-814b-d51e3b154e3d",
   "metadata": {},
   "source": [
    "`-` 이 문제는 $a^b$의 일의 자리 숫자만 알면 풀 수 있음\n",
    "\n",
    "`-` 그런데 $a^b$의 값은 최대 $100^{1000000}$이므로 이를 계산하기는 불가능함\n",
    "\n",
    "`-` 여기서 중요한 점은 전체 값이 필요한 게 아니라 일의 자리만 필요하다는 것\n",
    "\n",
    "`-` 데이터가 $a^b$꼴로 주어진 점에서 힌트를 얻었는데 어떤 수 $m$의 일의 자리수가 $n$이면 $m^x$의 일의 자리수는 $n^x$의 일의 자리수와 동일함 ---> 당연한 소리\n",
    "\n",
    "`-` 그리고 $0 \\leq n\\leq 9$이고 $n^x$의 일의 자리수는 규칙성을 띈다\n",
    "\n",
    "`-` 예시로 $7^x$꼴의 일의 자리수는 7, 9, 3, 1이 반복된다\n",
    "\n",
    "`-` 이를 이용하여 문제를 해결하자"
   ]
  },
  {
   "cell_type": "code",
   "execution_count": 33,
   "id": "f6ffe057-9521-404b-8dc3-ab8d82f3fc2e",
   "metadata": {},
   "outputs": [
    {
     "name": "stdin",
     "output_type": "stream",
     "text": [
      " 5\n",
      " 1 6\n"
     ]
    },
    {
     "name": "stdout",
     "output_type": "stream",
     "text": [
      "1\n"
     ]
    },
    {
     "name": "stdin",
     "output_type": "stream",
     "text": [
      " 3 7\n"
     ]
    },
    {
     "name": "stdout",
     "output_type": "stream",
     "text": [
      "7\n"
     ]
    },
    {
     "name": "stdin",
     "output_type": "stream",
     "text": [
      " 6 2\n"
     ]
    },
    {
     "name": "stdout",
     "output_type": "stream",
     "text": [
      "6\n"
     ]
    },
    {
     "name": "stdin",
     "output_type": "stream",
     "text": [
      " 7 100\n"
     ]
    },
    {
     "name": "stdout",
     "output_type": "stream",
     "text": [
      "1\n"
     ]
    },
    {
     "name": "stdin",
     "output_type": "stream",
     "text": [
      " 9 635\n"
     ]
    },
    {
     "name": "stdout",
     "output_type": "stream",
     "text": [
      "9\n"
     ]
    }
   ],
   "source": [
    "T = int(input())\n",
    "\n",
    "for _ in range(T):\n",
    "    a, b = map(int, input().split())\n",
    "    a = a % 10\n",
    "    b = (b % 4) + 4 ## x^0 = 1이므로\n",
    "    x = str(a ** b)[-1]\n",
    "    \n",
    "    if x == '0':\n",
    "        print(10)\n",
    "        \n",
    "    else:\n",
    "        print(int(x))\n",
    "        "
   ]
  },
  {
   "cell_type": "markdown",
   "id": "4c3895bc-07bc-48a5-a575-8afaa8179b74",
   "metadata": {},
   "source": [
    "## 3의 배수\n",
    "\n",
    "- 문제 출처: [백준 1769번](https://www.acmicpc.net/problem/1769)"
   ]
  },
  {
   "cell_type": "code",
   "execution_count": 5,
   "id": "b305ba6d-cf9b-4c6c-936d-410fc7203c15",
   "metadata": {},
   "outputs": [
    {
     "name": "stdin",
     "output_type": "stream",
     "text": [
      " 1234567\n"
     ]
    },
    {
     "name": "stdout",
     "output_type": "stream",
     "text": [
      "3\n",
      "NO\n"
     ]
    }
   ],
   "source": [
    "x = input()\n",
    "cnt = 0\n",
    "\n",
    "while len(x) > 1:\n",
    "    x = str(sum([int(i) for i in x]))\n",
    "    cnt += 1\n",
    "\n",
    "print(cnt)\n",
    "\n",
    "if int(x) % 3 == 0:\n",
    "    print('YES')\n",
    "    \n",
    "else:\n",
    "    print('NO')\n",
    "    \n",
    "# input\n",
    "# 1234567"
   ]
  },
  {
   "cell_type": "markdown",
   "id": "f046e275-2e80-4b80-b306-46000714598f",
   "metadata": {},
   "source": [
    "## 벌집\n",
    "\n",
    "- 문제 출처: [백준 2292번](https://www.acmicpc.net/problem/2292)"
   ]
  },
  {
   "cell_type": "markdown",
   "id": "ba7ee1a6-f4df-4de7-b35e-2137ceab2a4d",
   "metadata": {},
   "source": [
    "`-` $n$칸 움직여서 갈 수 있는 최소숫자와 최대숫자와 범위는 아래와 같음(비효율적으로 이동하는것은 고려 X)\n",
    "\n",
    "`-` 숫자 1칸을 포함하면 $+1$을 해야되지만 편의상 하지 않음\n",
    "\n",
    "`-` 0칸 ---> 1, 0\n",
    "\n",
    "`-` 1칸 ---> 2~7, 6\n",
    "\n",
    "`-` 2칸 ---> 8~19, 12\n",
    "\n",
    "`-` 3칸 ---> 20~37, 18\n",
    "\n",
    "`-` $n$칸을 이동해서 갈 수 있는 최대숫자: $1(\\text{start_number})+6 + 12 + 18 + \\cdots+6n = 1+6(1+2+3+\\cdots+n)=3n(n+1)+1$\n",
    "\n",
    "`-` $n$칸을 이동해서 갈 수 있는 최소숫자: $1(\\text{start_number})+1 + 6 + 12 + \\cdots+6(n-1) = 2+6(1+2+3+\\cdots+n-1)=3n(n-1)+2,\\,n>1$\n",
    "\n",
    "`-` $3n(n+1)+1$을 통해 -$1$을 하고 $3$으로 나누고 루트를 씌우면 대략적인 이동 칸 수를 알 수 있음 ---> $\\sqrt{n^2+n}$ : maximum\n",
    "\n",
    "`-` $3n(n-1)+2$을 통해 $-2$를 하고 $3$으로 나누고 루트를 씌우면 대략적인 이동 칸 수를 알 수 있음 ---> $\\sqrt{n^2-n}$ : minimum"
   ]
  },
  {
   "cell_type": "code",
   "execution_count": 14,
   "id": "955acc22-72cb-4f49-991d-908930335f56",
   "metadata": {},
   "outputs": [
    {
     "name": "stdin",
     "output_type": "stream",
     "text": [
      " 38\n"
     ]
    },
    {
     "name": "stdout",
     "output_type": "stream",
     "text": [
      "5\n"
     ]
    }
   ],
   "source": [
    "def f(x):\n",
    "    return 3*x*(x+1)+1\n",
    "def g(x):\n",
    "    return 3*x*(x-1)+2\n",
    "\n",
    "N = int(input())\n",
    "if N == 1:\n",
    "    print(1)\n",
    "\n",
    "else:\n",
    "    max_ = ((N - 1) // 3) ** 0.5\n",
    "    min_ = ((N - 2) // 3) ** 0.5 \n",
    "    x = int(max_)\n",
    "    if g(x) <= N <= f(x):\n",
    "        print(x+1)\n",
    "    elif f(x) < N:\n",
    "        print(x+2)\n",
    "        \n",
    "# input\n",
    "# 38"
   ]
  },
  {
   "cell_type": "markdown",
   "id": "ad795a7b-d247-407d-8139-00e7246dd161",
   "metadata": {},
   "source": [
    "## 이항 계수1\n",
    "\n",
    "- 문제 출처: [백준 11050번](https://www.acmicpc.net/problem/11050)"
   ]
  },
  {
   "cell_type": "code",
   "execution_count": 3,
   "id": "e024c062-2d2a-48ba-aa47-5ca676a49918",
   "metadata": {},
   "outputs": [
    {
     "name": "stdin",
     "output_type": "stream",
     "text": [
      " 5 2\n"
     ]
    },
    {
     "name": "stdout",
     "output_type": "stream",
     "text": [
      "10\n"
     ]
    }
   ],
   "source": [
    "from math import factorial\n",
    "n, k = map(int, input().split())\n",
    "print(factorial(n) // factorial(k) // factorial(n-k))\n",
    "\n",
    "# input\n",
    "# 5\n",
    "# 2"
   ]
  },
  {
   "cell_type": "markdown",
   "id": "5adbdbe6-cef9-4a7a-9540-32849eed13a5",
   "metadata": {},
   "source": [
    "## 직사각형에서 탈출\n",
    "\n",
    "- 문제 출처: [백준 1085번](https://www.acmicpc.net/problem/1085)"
   ]
  },
  {
   "cell_type": "markdown",
   "id": "72a2f39e-22e5-4bfe-a571-326943cd5fd1",
   "metadata": {},
   "source": [
    "`-` 경계선까지 가는 최소거리는 위로 직진, 아래로 직진, 오른쪽으로 직진, 왼쪽으로 직진 중에 하나이다"
   ]
  },
  {
   "cell_type": "code",
   "execution_count": 1,
   "id": "19f1f83b-fa73-421c-97b5-74ca18213b9e",
   "metadata": {},
   "outputs": [
    {
     "name": "stdin",
     "output_type": "stream",
     "text": [
      " 6 2 10 3\n"
     ]
    },
    {
     "name": "stdout",
     "output_type": "stream",
     "text": [
      "1\n"
     ]
    }
   ],
   "source": [
    "x, y, w, h = map(int, input().split())\n",
    "print(min([x, y, w-x, h-y]))\n",
    "# 6 2 10 3"
   ]
  },
  {
   "cell_type": "markdown",
   "id": "09b72806-301c-4513-b3db-83f95d2d59b4",
   "metadata": {},
   "source": [
    "## Hashing\n",
    "\n",
    "- 문제 출처: [백준 15829번](https://www.acmicpc.net/problem/15829)"
   ]
  },
  {
   "cell_type": "code",
   "execution_count": 21,
   "id": "9bb54c24-0674-4f6d-b028-033cdaf322b8",
   "metadata": {},
   "outputs": [
    {
     "name": "stdin",
     "output_type": "stream",
     "text": [
      " 5\n",
      " abcde\n"
     ]
    },
    {
     "name": "stdout",
     "output_type": "stream",
     "text": [
      "4739715\n"
     ]
    }
   ],
   "source": [
    "english = 'abcdefghijklmnopqrstuvwxyz'\n",
    "nums = list(range(1, 27))\n",
    "dict_ = dict(zip(english, nums))\n",
    "M = 1234567891\n",
    "input()\n",
    "\n",
    "L = input()\n",
    "print(sum([(dict_[L[i]] * (31 ** i)) % M for i in range(len(L))]) % M)\n",
    "# abcde"
   ]
  },
  {
   "cell_type": "markdown",
   "id": "a9ff5518-4c10-4968-85cf-ed9cd5ae1f17",
   "metadata": {},
   "source": [
    "## 최대공약수와 최소공배수\n",
    "\n",
    "- 문제 출처: [백준 2609번](https://www.acmicpc.net/problem/2609)"
   ]
  },
  {
   "cell_type": "markdown",
   "id": "4f699f5f-c84d-400d-b5a8-8f2ac593e006",
   "metadata": {},
   "source": [
    "`-` 유클리드 호제법: https://ko.wikipedia.org/wiki/%EC%9C%A0%ED%81%B4%EB%A6%AC%EB%93%9C_%ED%98%B8%EC%A0%9C%EB%B2%95"
   ]
  },
  {
   "cell_type": "code",
   "execution_count": 4,
   "id": "1c44a648-2c17-43f8-9b58-2daea8fc804f",
   "metadata": {},
   "outputs": [
    {
     "name": "stdin",
     "output_type": "stream",
     "text": [
      " 24 18\n"
     ]
    },
    {
     "name": "stdout",
     "output_type": "stream",
     "text": [
      "6\n",
      "72\n"
     ]
    }
   ],
   "source": [
    "n, m = map(int, input().split()) \n",
    "if n > m:\n",
    "    a, b = n, m\n",
    "else:\n",
    "    a, b = m, n\n",
    "r = a % b\n",
    "\n",
    "while r:\n",
    "    tmp = r\n",
    "    r = b % r\n",
    "    b = tmp\n",
    "print(b) ## 최대공약수\n",
    "\n",
    "n //= b\n",
    "m //= b\n",
    "print(n * m * b) ## 최소공배수 = 최대공약수(k) * (n // k) * (m // k)\n",
    "## 24 18"
   ]
  },
  {
   "cell_type": "markdown",
   "id": "9ffed9a2-8756-478e-91ec-15be0a0d794f",
   "metadata": {},
   "source": [
    "## ACM 호텔\n",
    "\n",
    "- 문제 출처: [백준 10250번](https://www.acmicpc.net/problem/10250)"
   ]
  },
  {
   "cell_type": "code",
   "execution_count": 5,
   "id": "0ef3ee33-d0bb-4973-9f84-aa9c880c9a51",
   "metadata": {},
   "outputs": [
    {
     "name": "stdin",
     "output_type": "stream",
     "text": [
      " 2\n",
      " 6 12 10\n"
     ]
    },
    {
     "name": "stdout",
     "output_type": "stream",
     "text": [
      "402\n"
     ]
    },
    {
     "name": "stdin",
     "output_type": "stream",
     "text": [
      " 30 50 72\n"
     ]
    },
    {
     "name": "stdout",
     "output_type": "stream",
     "text": [
      "1203\n"
     ]
    }
   ],
   "source": [
    "T = int(input())\n",
    "for _ in range(T):\n",
    "    h, w, n = map(int, input().split())  ## h는 높이, w는 방의 개수, n은 n번째 방문한 손님\n",
    "    if n == (n // h) * h:\n",
    "        if n // h < 10:\n",
    "            print(str(h) + '0' + str(n // h))\n",
    "        else:\n",
    "            print(str(h) + str(n // h))\n",
    "    else:\n",
    "        if n // h < 9:\n",
    "            print(str(n - (n // h) * h) + '0' + str((n // h) + 1))\n",
    "        else:\n",
    "            print(str(n - (n // h) * h) + str((n // h) + 1))\n",
    "# 2\n",
    "# 6 12 10\n",
    "# 30 50 72"
   ]
  },
  {
   "cell_type": "markdown",
   "id": "cf5a08e7-df49-4cbf-b36f-c26664c6342a",
   "metadata": {},
   "source": [
    "## 수 이어 쓰기 1\n",
    "\n",
    "- 문제 출처 : [백준 1748번](https://www.acmicpc.net/problem/1748)"
   ]
  },
  {
   "cell_type": "markdown",
   "id": "4729eceb-5145-4c5b-b428-92f7cf2463c4",
   "metadata": {},
   "source": [
    "`-` 일의 자리수는 $9$개, 십의 자리수는 $90$개, 백의 자리수는 $900$개, $\\cdots$, $10^n$의 자리수는 $9\\times 10^{(n-1)}$개  \n",
    "\n",
    "`-` 먼저 N의 길이는 판단한다\n",
    "\n",
    "`-` 예컨대 N이 1500이라면 길이는 4이다\n",
    "\n",
    "`-` 그러면 4보다 작은 자리수는 일의 자리수, 십의 자리수, 백의 자리수이고\n",
    "\n",
    "`-` 이들을 이어쓴 숫자의 자리수는 $9\\times 1+90\\times 2+900\\times 3$이다\n",
    "\n",
    "`-` 그리고 천의 자리수는 9000개가 존재하는데 시작은 1000이다\n",
    "\n",
    "`-` 그러므로 $1500-1000+1$개의 천의 자리수가 존재하고\n",
    "\n",
    "`-` 최종적으로 전체를 이어쓴 숫자의 자리수는 $9\\times 1+90\\times 2+900\\times 3 + 1499\\times 4$이다"
   ]
  },
  {
   "cell_type": "code",
   "execution_count": 1,
   "id": "2ba44b5f-cbc2-4034-ab2f-d0023d2c4117",
   "metadata": {},
   "outputs": [
    {
     "name": "stdin",
     "output_type": "stream",
     "text": [
      " 120\n"
     ]
    },
    {
     "name": "stdout",
     "output_type": "stream",
     "text": [
      "252\n"
     ]
    }
   ],
   "source": [
    "N = int(input())\n",
    "length = 0\n",
    "strlen = len(str(N))  ## str(N) -> O(logN)\n",
    "for i in range(1, strlen):  ## i: 1~N-1\n",
    "    length += (9*i * 10**(i-1))\n",
    "    \n",
    "length += (N - 10**(strlen-1) + 1) * strlen  ## i: N\n",
    "print(length)\n",
    "\n",
    "## input\n",
    "## 120"
   ]
  },
  {
   "cell_type": "markdown",
   "id": "ca9cbd20-2ea7-4525-aa24-92b1ec52d84e",
   "metadata": {},
   "source": [
    "## 소금 폭탄\n",
    "\n",
    "- 문제 출처: [백준 13223번](https://www.acmicpc.net/problem/13223)"
   ]
  },
  {
   "cell_type": "markdown",
   "id": "7108b99e-6132-47a4-b2e1-4a4f8545786c",
   "metadata": {},
   "source": [
    "`-` 간단한 시간 계산 문제이다\n",
    "\n",
    "`-` 현재 시각이 소금 투하 시각보다 이르다면 소금 투하 시각에서 현재 시각을 빼고 반대라면 소금 투하 시각에 24시간을 더하고 현재 시각을 뺀다 "
   ]
  },
  {
   "cell_type": "code",
   "execution_count": 114,
   "id": "19f3d398-eee4-4276-9a48-595dbf5c3e28",
   "metadata": {},
   "outputs": [
    {
     "name": "stdin",
     "output_type": "stream",
     "text": [
      " 12:34:56\n",
      " 14:36:22\n"
     ]
    },
    {
     "name": "stdout",
     "output_type": "stream",
     "text": [
      "02:01:26\n"
     ]
    }
   ],
   "source": [
    "now = input().replace(':', '')\n",
    "next_time = input().replace(':', '')\n",
    "next_time = str(int(next_time) + 240000) if int(next_time) < int(now) else next_time\n",
    "diff = str(int(next_time) - int(now)) ## 소금 투하 시각 - 현재 시각\n",
    "\n",
    "while len(diff) < 6:\n",
    "    diff = '0' + diff ## diff의 형식을 hh:mm:ss:로 맞춰준다\n",
    "\n",
    "    \n",
    "diff = list(diff) ## 편의상 리스트로 변경\n",
    "for i in [2, 4]:\n",
    "    if int(str(next_time)[i:i+2]) <= int(str(now)[i:i+2]) and int(''.join(diff[i:i+2])) >= 40:\n",
    "        tmp = str(int(''.join(diff)[i:i+2]) - 40)\n",
    "        if len(tmp) < 2:\n",
    "            tmp = '0' + tmp\n",
    "        diff[i:i+2] = tmp\n",
    "        \n",
    "diff = ''.join(diff)\n",
    "if diff == '000000':\n",
    "    diff = '240000'\n",
    "print(':'.join([diff[:2], diff[2:4], diff[4:]]))\n",
    "\n",
    "# input\n",
    "# 12:34:56\n",
    "# 14:36:22"
   ]
  },
  {
   "cell_type": "markdown",
   "id": "dcbaf021-27b3-4708-b1e8-6decb8beaf2d",
   "metadata": {},
   "source": [
    "`-` 문제를 잘 읽자\n",
    "\n",
    "`-` 소금을 투하할때까지 필요한 시간은 1초보다 크거나 같고 24시간보다 작거나 같다\n",
    "\n",
    "`-` 즉 현재 시각과 소금 투하 시각이 동일한 경우 요구되는 시간은 0초가 아닌 24시간이다"
   ]
  },
  {
   "cell_type": "markdown",
   "id": "46ab0d66-26e3-43cc-bdfa-3edfae607fd0",
   "metadata": {},
   "source": [
    "---"
   ]
  },
  {
   "cell_type": "markdown",
   "id": "9ce5d9ae-9075-45b1-aed4-71dbf113bfc1",
   "metadata": {},
   "source": [
    "# 기본 수학 2 -- 기하"
   ]
  },
  {
   "cell_type": "markdown",
   "id": "6ee73bac-f6aa-46a3-9a8c-14cca99b45aa",
   "metadata": {},
   "source": [
    "## 터렛(참고해서 풀었음)\n",
    "\n",
    "- 두 원의 중심과 반지름이 각각 주어졌을 때 교점의 개수를 출력하시오"
   ]
  },
  {
   "cell_type": "markdown",
   "id": "7d4c9242-8af1-489b-84c8-4ba406ee0c2d",
   "metadata": {},
   "source": [
    "`-` 두 점에서 만나는 경우 \n",
    "```python\n",
    "r1 + r2 > d and abs(r1 - r2) < d\n",
    "```\n",
    "`-` 두 원의 위치관계 참고 : [https://mathbang.net/101](https://mathbang.net/101)"
   ]
  },
  {
   "cell_type": "code",
   "execution_count": 92,
   "id": "e7772a56-0a02-4988-b5ed-b92bc54858d6",
   "metadata": {},
   "outputs": [
    {
     "name": "stdin",
     "output_type": "stream",
     "text": [
      " 3\n",
      " 0 0 13 40 0 37\n"
     ]
    },
    {
     "name": "stdout",
     "output_type": "stream",
     "text": [
      "2\n"
     ]
    },
    {
     "name": "stdin",
     "output_type": "stream",
     "text": [
      " 0 0 3 0 7 4\n"
     ]
    },
    {
     "name": "stdout",
     "output_type": "stream",
     "text": [
      "1\n"
     ]
    },
    {
     "name": "stdin",
     "output_type": "stream",
     "text": [
      " 1 1 1 1 1 5\n"
     ]
    },
    {
     "name": "stdout",
     "output_type": "stream",
     "text": [
      "0\n"
     ]
    }
   ],
   "source": [
    "T = int(input())\n",
    "for i in range(T):\n",
    "    x1, y1, r1, x2, y2, r2 = map(int, input().split())\n",
    "    d = ((x1 - x2)**2 + (y1 - y2)**2)**0.5\n",
    "    \n",
    "    if d == 0:\n",
    "        if r1 == r2:\n",
    "            print(-1)\n",
    "        else:\n",
    "            print(0)\n",
    "            \n",
    "    elif r1 + r2 < d:\n",
    "        print(0)\n",
    "    \n",
    "    elif r1 + r2 > d and abs(r1 -r2) < d:\n",
    "        print(2)\n",
    "        \n",
    "    elif r1 + r2 == d:\n",
    "        print(1)\n",
    "        \n",
    "    elif abs(r2 - r1) == d:\n",
    "        print(1)\n",
    "        \n",
    "    elif abs(r2 - r1) > d:\n",
    "        print(0)\n",
    "\n",
    "# input\n",
    "# 3\n",
    "# 0 0 13 40 0 37\n",
    "# 0 0 3 0 7 4\n",
    "# 1 1 1 1 1 5"
   ]
  },
  {
   "cell_type": "markdown",
   "id": "dc8ef7ad-f7b6-4d94-9497-0c875e469e44",
   "metadata": {},
   "source": [
    "## 택시 기하학\n",
    "\n",
    "`-` 택시 기하학에서 두 점 $T_1(x_1,y_1)$, $T_2(x_2,y_2)$ 사이의 거리는 다음과 같이 구할 수 있다\n",
    "\n",
    "`-` $D(T_1, T_2) = |x_1 - x_2| + |y_1 - y_2|$\n",
    "\n",
    "`-` 첫째 줄에는 유클리드 기하학에서 반지름이 R인 원의 넓이를, 둘째 줄에는 택시 기하학에서 반지름이 R인 원의 넓이를 출력한다"
   ]
  },
  {
   "cell_type": "markdown",
   "id": "3774be65-0f01-437a-b466-8e4845c1fb1b",
   "metadata": {},
   "source": [
    "`-` 반지름이 $R$일 때 원은 $|x_1 - x_2| + |y_1 - y_2| = R$의 자취임\n",
    "\n",
    "`-` 이를 그려본면 택시 기하학에서 원은 마름모임을 쉽게 알 수 있음\n",
    "\n",
    "`-` 넓이는 $\\dfrac{2R\\times 2R}{2} = 2R^2$"
   ]
  },
  {
   "cell_type": "code",
   "execution_count": 2,
   "id": "590a5f1c-2c1d-4ce6-921a-11be11b702f6",
   "metadata": {},
   "outputs": [
    {
     "name": "stdin",
     "output_type": "stream",
     "text": [
      " 21\n"
     ]
    },
    {
     "name": "stdout",
     "output_type": "stream",
     "text": [
      "1385.4423602330987\n",
      "882\n"
     ]
    }
   ],
   "source": [
    "import math\n",
    "R = int(input())\n",
    "π = math.pi\n",
    "print(π*R**2)\n",
    "print(2*R**2)\n",
    "\n",
    "# input \n",
    "# 21"
   ]
  },
  {
   "cell_type": "markdown",
   "id": "195d7147-c9b9-4eb6-a2f5-1e4c8024053c",
   "metadata": {},
   "source": [
    "## 직각삼각형\n",
    "\n",
    "- 문제 출처: [백준 4153번](https://www.acmicpc.net/problem/4153)"
   ]
  },
  {
   "cell_type": "code",
   "execution_count": 17,
   "id": "b493d4b1-75ac-4f85-a127-c9f84e3b0e9f",
   "metadata": {},
   "outputs": [
    {
     "name": "stdin",
     "output_type": "stream",
     "text": [
      " 6 8 10\n"
     ]
    },
    {
     "name": "stdout",
     "output_type": "stream",
     "text": [
      "right\n"
     ]
    },
    {
     "name": "stdin",
     "output_type": "stream",
     "text": [
      " 25 52 60\n"
     ]
    },
    {
     "name": "stdout",
     "output_type": "stream",
     "text": [
      "wrong\n"
     ]
    },
    {
     "name": "stdin",
     "output_type": "stream",
     "text": [
      " 5 12 13\n"
     ]
    },
    {
     "name": "stdout",
     "output_type": "stream",
     "text": [
      "right\n"
     ]
    },
    {
     "name": "stdin",
     "output_type": "stream",
     "text": [
      " 0 0 0\n"
     ]
    }
   ],
   "source": [
    "while True:\n",
    "    t = list(map(lambda x: int(x) ** 2, input().split()))\n",
    "    if sum(t) == 0:\n",
    "        break\n",
    "    if sum(t) == 2 * max(t):\n",
    "        print('right')\n",
    "    else:\n",
    "        print('wrong')\n",
    "        \n",
    "# input\n",
    "# 6 8 10\n",
    "# 25 52 60\n",
    "# 5 12 13\n",
    "# 0 0 0"
   ]
  },
  {
   "cell_type": "markdown",
   "id": "508e0544-ca51-48ae-846e-761381909e2d",
   "metadata": {},
   "source": [
    "## 네 번째 점\n",
    "\n",
    "- 문제 출처: [백준 3009번](https://www.acmicpc.net/problem/3009)"
   ]
  },
  {
   "cell_type": "markdown",
   "id": "8a1f73b2-3f0a-4754-bcf0-8551a94f6d9f",
   "metadata": {},
   "source": [
    "`-` 입력이 3개 들어옴 ---> ($x$축에서 유일한 값, $y$축에서 유일한 값)이 마지막 네 번째 점의 좌표"
   ]
  },
  {
   "cell_type": "code",
   "execution_count": 44,
   "id": "31dadb5d-b654-49b6-875b-51bd925f701f",
   "metadata": {},
   "outputs": [
    {
     "name": "stdin",
     "output_type": "stream",
     "text": [
      " 5 5\n",
      " 5 7\n",
      " 7 5\n"
     ]
    },
    {
     "name": "stdout",
     "output_type": "stream",
     "text": [
      "7 7\n"
     ]
    }
   ],
   "source": [
    "a1, a2 = map(int, input().split())\n",
    "b1, b2 = map(int, input().split())\n",
    "c1, c2 = map(int, input().split())\n",
    "x = [a1, b1, c1]\n",
    "x.sort()\n",
    "y = [a2, b2, c2]\n",
    "y.sort()\n",
    "print([x[i] for i in range(3) if x[i] != x[1]][0], [y[j] for j in range(3) if y[j] != y[1]][0])\n",
    "\n",
    "# input\n",
    "# 5 5\n",
    "# 5 7\n",
    "# 7 5"
   ]
  },
  {
   "cell_type": "markdown",
   "id": "64b35375-9969-459b-8de3-3582b7b2d176",
   "metadata": {},
   "source": [
    "## 선분 교차 2\n",
    "\n",
    "- 문제 출처: [백준 17387번](https://www.acmicpc.net/problem/17387)"
   ]
  },
  {
   "cell_type": "markdown",
   "id": "2fece88a-6dd7-4683-9fab-917d27046817",
   "metadata": {},
   "source": [
    "`-` 한 선분의 끝 점이 다른 선분이나 끝 점 위에 있는 것도 교차하는 것이다\n",
    "\n",
    "`-` $L1$의 양 끝 점은 $(x_1, y_1), (x_2, y_2)$이고 $L2$의 양 끝 점은 $(x_3, y_3), (x_4, y_4)$이다\n",
    "\n",
    "`-` 직선의 방정식은 각각 $y-y_1=\\cfrac{y_2-y_1}{x_2-x_1}(x-x_1),\\quad y-y_3=\\cfrac{y_4-y_3}{x_4-x_3}(x-x_3)$이다\n",
    "\n",
    "`-` 여기서 기울기를 각각 $m, n$이라고 한다면 직선의 방정식은 각각 $y=mx+a\\,(a=-mx_1+y_1),\\quad y=nx+b\\,(b=-nx_3+y_3)$이다\n",
    "\n",
    "`-` 만약 기울기가 같다면 두 직선의 $x, y$절편이 동일해야 두 직선이 교차한다\n",
    "\n",
    "`-` 두 직선이 교차하는 점의 좌표는 $\\left(\\cfrac{b-a}{m-n},\\quad \\cfrac{mb-na}{m-n}\\right)$이다\n",
    "\n",
    "`-` 그런데 문제에서는 직선이 아니라 선분이므로 교차하지 않을 수 있다(직선은 길이가 무한, 선분은 길이가 유한)\n",
    "\n",
    "`-` 교차하는 점의 좌표를 $(x,y)$라 했을 때 $x_1,x_3\\leq x \\leq x_2,x_4,\\quad y_1,y_3\\leq y \\leq y_2,y_4$이면 교점이 존재한다\n",
    "\n",
    "`-` 위는 일반적인 경우이고 기울기가 $\\infty$인 경우 예외처리를 해줘야 한다\n",
    "\n",
    "`-` 기울기가 $\\infty$인 경우 직선의 방정식의 형태는 $x=k$이다\n",
    "\n",
    "`-` 만약 $L2$의 기울기가 $\\infty$이라면 이때의 교점은 $(x_3, mx_3+b)$이다\n",
    "\n",
    "`-` 이 밖에도 예외 케이스가 존재하니 잘 처리해줘야 한다(예외 케이스는 코드 주석에 적어놓음)"
   ]
  },
  {
   "cell_type": "code",
   "execution_count": 99,
   "id": "8aab926d-1dae-4431-a4ad-ae7444928099",
   "metadata": {},
   "outputs": [
    {
     "name": "stdout",
     "output_type": "stream",
     "text": [
      "3.5999999999999996\n",
      "3.6\n"
     ]
    }
   ],
   "source": [
    "## 반올림 오차의 문제점\n",
    "print(1.2 * 3)\n",
    "print(7.2 / 2)"
   ]
  },
  {
   "cell_type": "code",
   "execution_count": 40,
   "id": "f2f3e19a-3b88-4393-8771-02225f036d4c",
   "metadata": {},
   "outputs": [
    {
     "name": "stdin",
     "output_type": "stream",
     "text": [
      " 1 1 5 5\n",
      " 6 6 1 5\n"
     ]
    },
    {
     "name": "stdout",
     "output_type": "stream",
     "text": [
      "0\n"
     ]
    }
   ],
   "source": [
    "def check_cross_lines(x1: int, y1: int, x2: int, y2: int, x3: int, y3: int, x4: int, y4: int) -> int:\n",
    "    error = 0.0000001 ## 반올림 오차\n",
    "    \n",
    "    ## 기본적인 기울기와 절편을 계산한다\n",
    "    if x1 != x2: ## L1의 기울기가 무한이 아니다\n",
    "        m = (y2 - y1) / (x2 - x1) ## 기울기\n",
    "        a = -m*x1 + y1 ## y절편\n",
    "    else: ## L1의 기울기가 무한(세로 직선)\n",
    "        m, a = 3000000, 0 ## 임의값 부여함(기울기가 무한이 아닌경우 최대값은 x, y 범위에 의해 2백만이다)\n",
    "        \n",
    "    if x3 != x4: ## 기울기가 무한이 아니다\n",
    "        n = (y4 - y3) / (x4 - x3) ## 기울기\n",
    "        b = -n*x3 + y3 ## y절편\n",
    "    else: ## L2의 기울기가 무한(세로 직선)\n",
    "        n, b = 3000000, 0 ## 임의값 부여함\n",
    "    \n",
    "    ## 기울기와 절편을 바탕으로 두 선분의 교차여부를 판단한다\n",
    "    if m != n: ## 기울기가 다르다면(일반 케이스)\n",
    "        ## L1의 기울기만 무한(L2는 무한 아님)\n",
    "        if x1 == x2:\n",
    "            x = x1 ## 교점의 x좌표\n",
    "            y = n*x1 + b ## 교점의 y좌표\n",
    "\n",
    "        ## L2의 기울기만 무한(L1은 무한 아님)\n",
    "        elif x3 == x4:\n",
    "            x = x3 ## 교점의 x좌표\n",
    "            y = m*x3 + a ## 교점의 y좌표\n",
    "        \n",
    "        ## L1과 L2모두 기울기가 무한이 아니면서 서로 기울기가 다르다\n",
    "        else:\n",
    "            x = (b - a) / (m - n) ## 교점의 x좌표\n",
    "            y = (m*b - n*a) / (m - n) ## 교점의 y좌표\n",
    "        \n",
    "        ## 두 선분의 기울기가 다를 때 두 선분의 교차여부 판단\n",
    "        if min(x1, x2) - error <= x <= max(x1, x2) + error and min(x3, x4) - error <= x <= max(x3, x4) + error and\\\n",
    "        min(y1, y2) - error <= y <= max(y1, y2) + error and min(y3, y4) - error <= y <= max(y3, y4) + error:\n",
    "            return 1\n",
    "        else:\n",
    "            return 0\n",
    "        \n",
    "    else: ## 기울기가 똑같다면(특이 케이스)\n",
    "        ## L1과 L2의 기울기가 무한\n",
    "        if x1 == x2 and x3 == x4:\n",
    "            if x1 != x3: ## x절편이 다르다면 서로 교차하지 않는다\n",
    "                return 0\n",
    "            else: ## x절편이 같은 경우\n",
    "                if max(y1, y2) > max(y3, y4): ## L1이 L2보다 위쪽으로 길다\n",
    "                    if max(y3, y4) >= min(y1, y2):\n",
    "                        return 1\n",
    "                    else:\n",
    "                        return 0\n",
    "                else: ## L2가 L1보다 위쪽으로 길거나 같다\n",
    "                    if max(y1, y2) >= min(y3, y4):\n",
    "                        return 1\n",
    "                    else:\n",
    "                        return 0\n",
    "\n",
    "    ## 두 선분의 기울기가 같은 경우(둘다 0인 경우도 포함, 둘다 무한인 경우 제외)\n",
    "        else:\n",
    "            if a != b: ## y절편이 다르면 겹칠 수 없다\n",
    "                return 0\n",
    "            else: ## y절편이 같은 경우\n",
    "                if max(x1, x2) > max(x3, x4): ## L1이 L2보다 오른쪽으로 길다\n",
    "                    if max(x3, x4) >= min(x1, x2):\n",
    "                        return 1\n",
    "                    else:\n",
    "                        return 0\n",
    "                else: ## L2가 L1보다 오른쪽으로 길거나 같다\n",
    "                    if max(x1, x2) >= min(x3, x4):\n",
    "                        return 1\n",
    "                    else:\n",
    "                        return 0\n",
    "\n",
    "x1, y1, x2, y2 = map(int, input().split())\n",
    "x3, y3, x4, y4 = map(int, input().split())\n",
    "print(check_cross_lines(x1, y1, x2, y2, x3, y3, x4, y4))\n",
    "# input\n",
    "# 1 1 5 5\n",
    "# 6 6 1 5"
   ]
  },
  {
   "cell_type": "markdown",
   "id": "615ca4c8-55ab-4b1a-b749-2683ae2a63dc",
   "metadata": {},
   "source": [
    "## 선분 교차 1\n",
    "\n",
    "- 문제 출처: [백준 17386번](https://www.acmicpc.net/problem/17386)\n",
    "\n",
    "`-` [선분 교차 2](https://www.acmicpc.net/problem/17387)와 비슷한데 예외조건이 더 적다\n",
    "\n",
    "`-` 세 점이 일직선 위에 있는 경우는 없다(네 점이 일직선 위에 있는 경우는 존재함)\n",
    "\n",
    "`-` 한 선분의 끝 점이 다른 선분이나 끝 점 위에 있는 것은 교차하는 것이 아니다\n",
    "\n",
    "`-` 선분 교차 2 풀이에 사용한 코드 그대로 입력하니 맞았다...?\n",
    "\n",
    "`-` 선분 교차 1 에서 추가적인 예외케이스를 고려한 것이 선분 교차 2 여서 그런 것"
   ]
  },
  {
   "cell_type": "markdown",
   "id": "e90a6a38-24df-459c-a30b-ce07c6e9a944",
   "metadata": {
    "tags": []
   },
   "source": [
    "## 선분 교차 3\n",
    "\n",
    "- 문제 출처: [백준 20149번](https://www.acmicpc.net/problem/20149)\n",
    "\n",
    "`-` [선분 교차 2](https://www.acmicpc.net/problem/17387) 문제에서 교점의 좌표만 추가로 출력하면 된다(한 점에서 교차하는 경우)\n",
    "\n",
    "`-` 교차하는데 기울기가 다르다면 무조건 교점이 존재\n",
    "\n",
    "`-` 만약 교차하는데 기울기가 같다면 $L1$의 점 하나와 $L2$의 점 하나가 일치해야 교점이 존재한다(그 외는 겹쳐서 교점이 하나가 아니라 무한개)"
   ]
  },
  {
   "cell_type": "code",
   "execution_count": 86,
   "id": "44f18ab2-681f-4fb4-b450-9c32ade42304",
   "metadata": {},
   "outputs": [
    {
     "name": "stdin",
     "output_type": "stream",
     "text": [
      " 2 8 9 23\n",
      " 1 10 9 8\n"
     ]
    },
    {
     "name": "stdout",
     "output_type": "stream",
     "text": [
      "1\n",
      "2.7313432835820897 9.567164179104477\n"
     ]
    }
   ],
   "source": [
    "def check_cross_lines(x1: int, y1: int, x2: int, y2: int, x3: int, y3: int, x4: int, y4: int) -> int:\n",
    "    error = 1e-7 ## 반올림 오차\n",
    "    \n",
    "    ## 기본적인 기울기와 절편을 계산한다\n",
    "    if x1 != x2: ## L1의 기울기가 무한이 아니다\n",
    "        m = (y2 - y1) / (x2 - x1) ## 기울기\n",
    "        a = -m*x1 + y1 ## y절편\n",
    "    else: ## L1의 기울기가 무한(세로 직선)\n",
    "        m, a = 3000000, 0 ## 임의값 부여함(기울기가 무한이 아닌경우 최대값은 x, y 범위에 의해 2백만이다)\n",
    "        \n",
    "    if x3 != x4: ## 기울기가 무한이 아니다\n",
    "        n = (y4 - y3) / (x4 - x3) ## 기울기\n",
    "        b = -n*x3 + y3 ## y절편\n",
    "    else: ## L2의 기울기가 무한(세로 직선)\n",
    "        n, b = 3000000, 0 ## 임의값 부여함\n",
    "    \n",
    "    ## 기울기와 절편을 바탕으로 두 선분의 교차여부를 판단한다\n",
    "    if m != n: ## 기울기가 다르다면(일반 케이스)\n",
    "        ## L1의 기울기만 무한(L2는 무한 아님)\n",
    "        if x1 == x2:\n",
    "            x = x1 ## 교점의 x좌표\n",
    "            y = n*x1 + b ## 교점의 y좌표\n",
    "\n",
    "        ## L2의 기울기만 무한(L1은 무한 아님)\n",
    "        elif x3 == x4:\n",
    "            x = x3 ## 교점의 x좌표\n",
    "            y = m*x3 + a ## 교점의 y좌표\n",
    "        \n",
    "        ## L1과 L2모두 기울기가 무한이 아니면서 서로 기울기가 다르다\n",
    "        else:\n",
    "            x = (b - a) / (m - n) ## 교점의 x좌표\n",
    "            y = (m*b - n*a) / (m - n) ## 교점의 y좌표\n",
    "        \n",
    "        ## 두 선분의 기울기가 다를 때 두 선분의 교차여부 판단\n",
    "        if min(x1, x2) - error <= x <= max(x1, x2) + error and min(x3, x4) - error <= x <= max(x3, x4) + error and\\\n",
    "        min(y1, y2) - error <= y <= max(y1, y2) + error and min(y3, y4) - error <= y <= max(y3, y4) + error:\n",
    "            return f'1\\n{x} {y}' ## 기울기가 다를 때 교점은 위에서 계산한 x, y\n",
    "        else:\n",
    "            return 0\n",
    "        \n",
    "    else: ## 기울기가 똑같다면(특이 케이스)\n",
    "        ## L1과 L2의 기울기가 무한\n",
    "        if x1 == x2 and x3 == x4:\n",
    "            if x1 != x3: ## x절편이 다르다면 서로 교차하지 않는다\n",
    "                return 0\n",
    "            else: ## x절편이 같은 경우\n",
    "                if max(y1, y2) > max(y3, y4): ## L1이 L2보다 위쪽으로 길다\n",
    "                    if max(y3, y4) > min(y1, y2): \n",
    "                        return 1 ## L1과 L2가 겹친다(교점 무한개)\n",
    "                    elif max(y3, y4) == min(y1, y2):\n",
    "                        return f'1\\n{x1} {min(y1, y2)}' ## L1의 점 하나와 L2의 점 하나가 일치해야 교점이 존재\n",
    "                    else:\n",
    "                        return 0\n",
    "                else: ## L2가 L1보다 위쪽으로 길거나 같다\n",
    "                    if max(y1, y2) > min(y3, y4):\n",
    "                        return 1 ## L1과 L2가 겹친다(교점 무한개) \n",
    "                    elif max(y1, y2) == min(y3, y4):\n",
    "                        return f'1\\n{x1} {min(y3, y4)}' ## L1의 점 하나와 L2의 점 하나가 일치해야 교점이 존재\n",
    "                    else:\n",
    "                        return 0\n",
    "\n",
    "    ## 두 선분의 기울기가 같은 경우(둘다 0인 경우도 포함, 둘다 무한인 경우 제외)\n",
    "        else:\n",
    "            if a != b: ## y절편이 다르면 겹칠 수 없다\n",
    "                return 0\n",
    "            else: ## y절편이 같은 경우\n",
    "                if max(x1, x2) > max(x3, x4): ## L1이 L2보다 오른쪽으로 길다\n",
    "                    if max(x3, x4) > min(x1, x2):\n",
    "                        return 1 ## L1과 L2가 겹친다(교점 무한개)\n",
    "                    elif max(x3, x4) == min(x1, x2): ## L1의 점 하나와 L2의 점 하나가 일치해야 교점이 존재\n",
    "                        if x1 < x2: \n",
    "                            return f'1\\n{x1} {y1}'\n",
    "                        else:\n",
    "                            return f'1\\n{x2} {y2}'\n",
    "                    else:\n",
    "                        return 0\n",
    "                else: ## L2가 L1보다 오른쪽으로 길거나 같다\n",
    "                    if max(x1, x2) > min(x3, x4):\n",
    "                        return 1 ## L1과 L2가 겹친다(교점 무한개)\n",
    "                    elif min(x3, x4) == max(x1, x2): ## L1의 점 하나와 L2의 점 하나가 일치해야 교점이 존재\n",
    "                        if x3 < x4:\n",
    "                            return f'1\\n{x3} {y3}'\n",
    "                        else:\n",
    "                            return f'1\\n{x4} {y4}'\n",
    "                    else:\n",
    "                        return 0\n",
    "\n",
    "x1, y1, x2, y2 = map(int, input().split())\n",
    "x3, y3, x4, y4 = map(int, input().split())\n",
    "print(check_cross_lines(x1, y1, x2, y2, x3, y3, x4, y4))\n",
    "# input\n",
    "# 2 8 9 23\n",
    "# 1 10 9 8"
   ]
  },
  {
   "cell_type": "code",
   "execution_count": null,
   "id": "4bff3b01-b8ae-4a64-be71-0475cb8e1a68",
   "metadata": {},
   "outputs": [],
   "source": []
  }
 ],
 "metadata": {
  "kernelspec": {
   "display_name": "Python 3 (ipykernel)",
   "language": "python",
   "name": "python3"
  },
  "language_info": {
   "codemirror_mode": {
    "name": "ipython",
    "version": 3
   },
   "file_extension": ".py",
   "mimetype": "text/x-python",
   "name": "python",
   "nbconvert_exporter": "python",
   "pygments_lexer": "ipython3",
   "version": "3.8.11"
  }
 },
 "nbformat": 4,
 "nbformat_minor": 5
}
