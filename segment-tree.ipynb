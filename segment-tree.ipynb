{
 "cells": [
  {
   "cell_type": "markdown",
   "id": "6edefac5-4c31-4016-936c-d8432e62ff31",
   "metadata": {},
   "source": [
    "# 세그먼트 트리 (Segment Tree)"
   ]
  },
  {
   "cell_type": "markdown",
   "id": "c3a6ed22-d0ed-4826-bd14-b36bbe6c7635",
   "metadata": {},
   "source": [
    "`-` 참고: https://en.wikipedia.org/wiki/Segment_tree\n",
    "\n",
    "`-` 참고: https://book.acmicpc.net/ds/segment-tree"
   ]
  },
  {
   "cell_type": "markdown",
   "id": "a01df928-c64d-4090-969d-ea509519c189",
   "metadata": {},
   "source": [
    "## 구간 합 구하기\n",
    "\n",
    "- 문제 출처: [백준 2042번](https://www.acmicpc.net/problem/2042)"
   ]
  },
  {
   "cell_type": "markdown",
   "id": "eb0c8278-5b5d-45d7-8f71-c3d0b7e0b961",
   "metadata": {},
   "source": [
    "`-` 세그먼트 트리를 건실하게 구현할 수 있으면 문제를 해결할 수 있다\n",
    "\n",
    "`-` 세그먼트 트리에서 리프 노드는 각 배열의 단일 값이다\n",
    "\n",
    "`-` 데이터의 개수가 $N$이라면 리프 노드의 개수도 $N$이다\n",
    "\n",
    "`-` 완전 이진 트리라면 리프 노드의 개수는 $2^{H}$이며 $H$는 트리의 높이이다\n",
    "\n",
    "`-` 루트 노드의 높이는 $0$이며 자식으로 거슬러 내려갈수록 높이가 $1$씩 증가한다\n",
    "\n",
    "`-` 트리의 높이가 $H$일 때 가능한 리프 노드의 개수는 $1 \\sim 2^H$이다\n",
    "\n",
    "`-` 따라서 $H=\\lceil\\log_2{N}\\rceil$이다\n",
    "\n",
    "`-` $\\log_2{N}$개의 리프 노드를 담기 위한 트리의 높이는 $\\lceil\\log_2{N}\\rceil$개의 리프 노드를 담기 위한 트리의 높이와 같다\n",
    "\n",
    "`-` 즉, 리프 노드의 개수를 $2^H$ 꼴로 만든 것이고 이때의 트리의 높이는 $H$이다\n",
    "\n",
    "`-` 트리의 높이가 $H$일 때 총 노드의 개수는 $2^{H+1} - 1$이다\n",
    "\n",
    "`-` 이진 트리에서 루트의 번호를 $1$이라고 하자\n",
    "\n",
    "`-` 그러면 $i$번째 루트의 왼쪽 자식의 번호는 $2i$이고 오른쪽 자식의 번호는 $2i + 1$이다\n",
    "\n",
    "`-` 구간 합을 위한 세그먼트 트리에선 $\\operatorname{tree}[i] = \\operatorname{tree}[2i] + \\operatorname{tree}[2i + 1]$이다\n",
    "\n",
    "`-` 즉, 부모 노드는 자식 노드의 합과 같으며 루트 노드는 모든 리트 노드들의 합이다"
   ]
  },
  {
   "cell_type": "markdown",
   "id": "a04b1409-aa76-4fd9-8a18-713f50e215d8",
   "metadata": {},
   "source": [
    "- 초기화\n",
    "\n",
    "`-` 우선 세그먼트 트리를 초기화 해야 한다\n",
    "\n",
    "`-` 점화식 $\\operatorname{tree}[i] = \\operatorname{tree}[2i] + \\operatorname{tree}[2i + 1]$를 바탕으로 트리를 초기화하자\n",
    "\n",
    "`-` 재귀적으로 자식 노드에게 함수를 전파하기 위해 트리의 인덱스가 필요하다\n",
    "\n",
    "`-` 또한 해당 노드가 배열의 어디서부터 어디까지의 구간 합을 나타내는지 위한 $\\operatorname{start}$와 $\\operatorname{end}$ 변수가 필요하다\n",
    "\n",
    "`-` 트리를 크기가 $2^H$인 빈 배열로 초기화하자\n",
    "\n",
    "`-` 이 트리 배열에서 루트는 $1$번이다\n",
    "\n",
    "`-` 전체 배열의 구간 합은 처음부터 끝이므로 인덱스는 $0$부터 $N-1$이다\n",
    "\n",
    "`-` 또한 루트부터 시작하므로 트리의 인덱스는 $1$이다\n",
    "\n",
    "`-` $\\operatorname{start}$와 $\\operatorname{end}$가 같으면 리프 노드이므로 구간 합은 배열에서 $\\operatorname{start}$번 째의 값과 같다\n",
    "\n",
    "`-` 다르다면 자식 노드에 대해 재귀적으로 수행하자\n",
    "\n",
    "`-` $\\operatorname{mid}$를 $\\operatorname{start}$와 $\\operatorname{end}$의 가운데라고 하자\n",
    "\n",
    "`-` 왼쪽 자식의 트리 인덱스는 $2i$이며 $\\operatorname{start}$부터 $\\operatorname{mid}$까지의 구간 합을 계산할 것이다\n",
    "\n",
    "`-` 오른쪽 자식의 트리 인덱스는 $2i + 1$이며 $\\operatorname{mid}+1$부터 $\\operatorname{end}$까지의 구간 합을 계산할 것이다\n",
    "\n",
    "`-` 그리고 구간 합 점화식 $\\operatorname{tree}[i] = \\operatorname{tree}[2i] + \\operatorname{tree}[2i + 1]$에 따라 트리를 업데이트 한다\n",
    "\n",
    "`-` $2^H$개의 노드를 초기화하므로 시간 복잡도는 $O\\left(2^H\\right) = O(N)$이다"
   ]
  },
  {
   "cell_type": "markdown",
   "id": "2e40ec21-71cd-4c74-b724-67788bfc6c2e",
   "metadata": {},
   "source": [
    "- 배열 원소 변경\n",
    "\n",
    "`-` 바뀐 배열의 인덱스를 $\\operatorname{index}$라고 하자\n",
    "\n",
    "`-` 그럼 세그먼트 트리에서 해당 $\\operatorname{index}$를 포함하는 구간 합 노드의 값도 변경해야 한다\n",
    "\n",
    "`-` 루트 트리에서 시작하여 해당 인덱스를 포함하는 구간 합 노드의 원소를 변경할 것이다\n",
    "\n",
    "`-` 일단 해당 인덱스를 포함하는 리프 노드로 가서 배열의 원소와 해당 리프 노드의 값을 변경한다\n",
    "\n",
    "`-` 그리고 점화식 $\\operatorname{tree}[i] = \\operatorname{tree}[2i] + \\operatorname{tree}[2i + 1]$에 따라 변경된 원소를 기반으로 트리를 업데이트 한다\n",
    "\n",
    "`-` 최악의 경우 트리의 높이만큼 연산하므로 시간 복잡도는 $O(\\log N)$이다"
   ]
  },
  {
   "cell_type": "markdown",
   "id": "0c55f204-d515-4587-8ab2-fa656803208a",
   "metadata": {},
   "source": [
    "- 구간 합 계산\n",
    "\n",
    "`-` 트리의 노드가 구간 합을 계산할 구간에 포함된다면 그 트리가 가진 값을 결괏값에 더해주고 함수를 종료하면 된다\n",
    "\n",
    "`-` 만약 해당 구간을 벗어난다면 자식 노드를 탐색할 필요 없이 항등원을 반환하며 함수를 종료한다\n",
    "\n",
    "`-` 일부 구간만 걸친다면 왼쪽 자식과 오른쪽 자식에 대해 재귀적으로 연산을 반복하자\n",
    "\n",
    "`-` 최악의 경우 트리의 높이만큼 연산하므로 시간 복잡도는 $O(\\log N)$이다"
   ]
  },
  {
   "cell_type": "code",
   "execution_count": 7,
   "id": "54101016-347a-4c83-81ce-fc6f7919c627",
   "metadata": {},
   "outputs": [
    {
     "name": "stdin",
     "output_type": "stream",
     "text": [
      " 5 2 2\n",
      " 1\n",
      " 2\n",
      " 3\n",
      " 4\n",
      " 5\n",
      " 1 3 6\n",
      " 2 2 5\n"
     ]
    },
    {
     "name": "stdout",
     "output_type": "stream",
     "text": [
      "17\n"
     ]
    },
    {
     "name": "stdin",
     "output_type": "stream",
     "text": [
      " 1 5 2\n",
      " 2 3 5\n"
     ]
    },
    {
     "name": "stdout",
     "output_type": "stream",
     "text": [
      "12\n"
     ]
    }
   ],
   "source": [
    "import math\n",
    "import sys\n",
    "\n",
    "sys.setrecursionlimit(10**6)\n",
    "\n",
    "\n",
    "def init_tree(array, tree, i, start, end):\n",
    "    if start > end:\n",
    "        tree[i] = 0\n",
    "        return\n",
    "    if start == end:\n",
    "        tree[i] = array[start]\n",
    "        return\n",
    "    mid = (start + end) // 2\n",
    "    left_child = 2 * i\n",
    "    right_child = left_child + 1\n",
    "    init_tree(array, tree, left_child, start, mid)\n",
    "    init_tree(array, tree, right_child, mid + 1, end)\n",
    "    tree[i] = tree[left_child] + tree[right_child]\n",
    "\n",
    "\n",
    "def update_tree(index, value, array, tree, i, start, end):\n",
    "    if index < start or index > end:\n",
    "        return\n",
    "    if start == end:\n",
    "        array[index] = value\n",
    "        tree[i] = value\n",
    "        return\n",
    "    mid = (start + end) // 2\n",
    "    left_child = 2 * i\n",
    "    right_child = left_child + 1\n",
    "    update_tree(index, value, array, tree, left_child, start, mid)\n",
    "    update_tree(index, value, array, tree, right_child, mid + 1, end)\n",
    "    tree[i] = tree[left_child] + tree[right_child]\n",
    "    \n",
    "    \n",
    "def compute_prefix_sum(left, right, tree, i, start, end):\n",
    "    if left <= start <= end <= right:\n",
    "        return tree[i]\n",
    "    if start > right or end < left:\n",
    "        return 0\n",
    "    mid = (start + end) // 2\n",
    "    left_child = 2 * i\n",
    "    right_child = left_child + 1\n",
    "    left_sum = compute_prefix_sum(left, right, tree, left_child, start, mid)\n",
    "    right_sum = compute_prefix_sum(left, right, tree, right_child, mid + 1, end)\n",
    "    return left_sum + right_sum\n",
    "\n",
    "\n",
    "def solution():\n",
    "    N, M, K = map(int, input().split())\n",
    "    UPDATE = 1\n",
    "    SUM = 2\n",
    "    H = math.ceil(math.log2(N))\n",
    "    start = 0\n",
    "    end = N - 1\n",
    "    tree = [0 for _ in range(2**(H + 1))]  # i의 왼쪽 자식은 2i, 오른쪽 자식은 2i + 1, 루트는 1번\n",
    "    array = [int(input()) for _ in range(N)]\n",
    "    ROOT = 1\n",
    "    init_tree(array, tree, ROOT, start, end)\n",
    "    for _ in range(M + K):\n",
    "        a, b, c = map(int, input().split())\n",
    "        if a == UPDATE:\n",
    "            index = b - 1\n",
    "            update_tree(index, c, array, tree, ROOT, start, end)\n",
    "        elif a == SUM:\n",
    "            left = b - 1\n",
    "            right = c - 1\n",
    "            prefix_sum = compute_prefix_sum(left, right, tree, ROOT, start, end)\n",
    "            print(prefix_sum)\n",
    "\n",
    "\n",
    "solution()\n",
    "\n",
    "# input\n",
    "# 5 2 2\n",
    "# 1\n",
    "# 2\n",
    "# 3\n",
    "# 4\n",
    "# 5\n",
    "# 1 3 6\n",
    "# 2 2 5\n",
    "# 1 5 2\n",
    "# 2 3 5"
   ]
  },
  {
   "cell_type": "markdown",
   "id": "6193d853-ead5-4b6a-80d6-cb32d70a2327",
   "metadata": {},
   "source": [
    "## 구간 곱 구하기\n",
    "\n",
    "- 문제 출처: [백준 11505번](https://www.acmicpc.net/problem/11505)"
   ]
  },
  {
   "cell_type": "markdown",
   "id": "e6c8c211-6354-4c89-a6b9-1e6cf41216de",
   "metadata": {},
   "source": [
    "`-` [구간 합 구하기](https://www.acmicpc.net/problem/2042) 문제에서 구간 합을 계산했다면 이번엔 구간 곱을 계산해야 한다\n",
    "\n",
    "`-` 합이 아니라 곱이므로 항등원으로 $0$ 대신 $1$을 사용해야 한다\n",
    "\n",
    "`-` 나머지는 동일하게 수행하면 된다"
   ]
  },
  {
   "cell_type": "code",
   "execution_count": 8,
   "id": "f82cea1e-37ef-4dbc-b93e-098efbc9964e",
   "metadata": {},
   "outputs": [
    {
     "name": "stdin",
     "output_type": "stream",
     "text": [
      " 5 2 2\n",
      " 1\n",
      " 2\n",
      " 3\n",
      " 4\n",
      " 5\n",
      " 1 3 6\n",
      " 2 2 5\n"
     ]
    },
    {
     "name": "stdout",
     "output_type": "stream",
     "text": [
      "240\n"
     ]
    },
    {
     "name": "stdin",
     "output_type": "stream",
     "text": [
      " 1 5 2\n",
      " 2 3 5\n"
     ]
    },
    {
     "name": "stdout",
     "output_type": "stream",
     "text": [
      "48\n"
     ]
    }
   ],
   "source": [
    "import math\n",
    "import sys\n",
    "\n",
    "sys.setrecursionlimit(10**6)\n",
    "\n",
    "\n",
    "def init_tree(array, tree, node, start, end):\n",
    "    if start == end:\n",
    "        tree[node] = array[start]\n",
    "        return\n",
    "    mid = (start + end) // 2\n",
    "    left_child = 2 * node\n",
    "    right_child = left_child + 1\n",
    "    init_tree(array, tree, left_child, start, mid)\n",
    "    init_tree(array, tree, right_child, mid + 1, end)\n",
    "    tree[node] = (tree[left_child] * tree[right_child]) % P\n",
    "\n",
    "\n",
    "def update_tree(index, value, array, tree, node, start, end):\n",
    "    if index < start or index > end:\n",
    "        return\n",
    "    if start == end:\n",
    "        array[index] = value\n",
    "        tree[node] = value\n",
    "        return\n",
    "    mid = (start + end) // 2\n",
    "    left_child = 2 * node\n",
    "    right_child = left_child + 1\n",
    "    update_tree(index, value, array, tree, left_child, start, mid)\n",
    "    update_tree(index, value, array, tree, right_child, mid + 1, end)\n",
    "    tree[node] = (tree[left_child] * tree[right_child]) % P\n",
    "\n",
    "\n",
    "def compute_prefix_product(left, right, tree, node, start, end):\n",
    "    if left > end or right < start:\n",
    "        return 1\n",
    "    if left <= start <= end <= right:\n",
    "        return tree[node]\n",
    "    mid = (start + end) // 2\n",
    "    left_child = 2 * node\n",
    "    right_child = left_child + 1\n",
    "    left_product = compute_prefix_product(left, right, tree, left_child, start, mid)\n",
    "    right_product = compute_prefix_product(left, right, tree, right_child, mid + 1, end)\n",
    "    return (left_product * right_product) % P\n",
    "\n",
    "\n",
    "def solution():\n",
    "    global P\n",
    "    N, M, K = map(int, input().split())\n",
    "    P = 10**9 + 7\n",
    "    UPDATE = 1\n",
    "    PRODUCT = 2\n",
    "    H = math.ceil(math.log2(N))\n",
    "    start = 0\n",
    "    end = N - 1\n",
    "    tree = [1 for _ in range(2**(H + 1))]\n",
    "    array = [int(input()) % P for _ in range(N)]\n",
    "    ROOT = 1\n",
    "    init_tree(array, tree, ROOT, start, end)\n",
    "    for _ in range(M + K):\n",
    "        a, b, c = map(int, input().split())\n",
    "        if a == UPDATE:\n",
    "            index = b - 1\n",
    "            value = c % P\n",
    "            update_tree(index, value, array, tree, ROOT, start, end)\n",
    "        elif a == PRODUCT:\n",
    "            left = b - 1\n",
    "            right = c - 1\n",
    "            prefix_sum = compute_prefix_product(left, right, tree, ROOT, start, end)\n",
    "            print(prefix_sum)\n",
    "\n",
    "\n",
    "solution()\n",
    "\n",
    "# input\n",
    "# 5 2 2\n",
    "# 1\n",
    "# 2\n",
    "# 3\n",
    "# 4\n",
    "# 5\n",
    "# 1 3 6\n",
    "# 2 2 5\n",
    "# 1 5 2\n",
    "# 2 3 5"
   ]
  },
  {
   "cell_type": "markdown",
   "id": "c9c6381b-177f-4bdb-8115-47ad7ae70a3f",
   "metadata": {},
   "source": [
    "## 최솟값과 최댓값\n",
    "\n",
    "- 문제 출처: [백준 2357번](https://www.acmicpc.net/problem/2357)"
   ]
  },
  {
   "cell_type": "markdown",
   "id": "fe9e1015-f308-43ec-a879-39dd5c26ff73",
   "metadata": {},
   "source": [
    "`-` 세그먼트 트리에 구간 최솟값과 구간 최댓값을 저장하는 문제이다\n",
    "\n",
    "`-` 구간 합 세그먼트 트리에서 더하기 연산을 최솟값 연산으로 변경하면 구간 최솟값을 계산할 수 있다\n",
    "\n",
    "`-` 최댓값은 더하기 연산을 최댓값 연산으로 변경하면 된다\n",
    "\n",
    "`-` 항등원은 최솟값의 경우 $\\infty$, 최댓값의 경우 $-\\infty$이다\n",
    "\n",
    "`-` `min`, `max` 함수를 사용하기보다 부등호를 사용하는 것이 더 빠르다"
   ]
  },
  {
   "cell_type": "code",
   "execution_count": 16,
   "id": "d1bf06cb-afc0-43cb-882f-93f1f08101f9",
   "metadata": {},
   "outputs": [
    {
     "name": "stdin",
     "output_type": "stream",
     "text": [
      " 10 4\n",
      " 75\n",
      " 30\n",
      " 100\n",
      " 38\n",
      " 50\n",
      " 51\n",
      " 52\n",
      " 20\n",
      " 81\n",
      " 5\n",
      " 1 10\n"
     ]
    },
    {
     "name": "stdout",
     "output_type": "stream",
     "text": [
      "5 100\n"
     ]
    },
    {
     "name": "stdin",
     "output_type": "stream",
     "text": [
      " 3 5\n"
     ]
    },
    {
     "name": "stdout",
     "output_type": "stream",
     "text": [
      "38 100\n"
     ]
    },
    {
     "name": "stdin",
     "output_type": "stream",
     "text": [
      " 6 9\n"
     ]
    },
    {
     "name": "stdout",
     "output_type": "stream",
     "text": [
      "20 81\n"
     ]
    },
    {
     "name": "stdin",
     "output_type": "stream",
     "text": [
      " 8 10\n"
     ]
    },
    {
     "name": "stdout",
     "output_type": "stream",
     "text": [
      "5 81\n"
     ]
    }
   ],
   "source": [
    "import math\n",
    "import sys\n",
    "\n",
    "sys.setrecursionlimit(10**5)\n",
    "\n",
    "\n",
    "def init_tree(array, tree, node, start, end, operator):\n",
    "    if start == end:\n",
    "        tree[node] = array[start]\n",
    "        return\n",
    "    mid = (start + end) // 2\n",
    "    left_child = 2 * node\n",
    "    right_child = left_child + 1\n",
    "    init_tree(array, tree, left_child, start, mid, operator)\n",
    "    init_tree(array, tree, right_child, mid + 1, end, operator)\n",
    "    tree[node] = operator(tree[left_child], tree[right_child])\n",
    "\n",
    "\n",
    "def query(left, right, tree, node, start, end, operator, identity):\n",
    "    if left > end or right < start:\n",
    "        return identity\n",
    "    if left <= start <= end <= right:\n",
    "        return tree[node]\n",
    "    mid = (start + end) // 2\n",
    "    left_child = 2 * node\n",
    "    right_child = left_child + 1\n",
    "    left_query = query(left, right, tree, left_child, start, mid, operator, identity)\n",
    "    right_query = query(left, right, tree, right_child, mid + 1, end, operator, identity)\n",
    "    return operator(left_query, right_query)\n",
    "\n",
    "\n",
    "def solution():\n",
    "    N, M = map(int, input().split())\n",
    "    INF = float(\"inf\") \n",
    "    array = [int(input()) for _ in range(N)]\n",
    "    H = math.ceil(math.log2(N))\n",
    "    tree_size = 2**(H + 1)\n",
    "    min_tree = [INF for _ in range(tree_size)]\n",
    "    max_tree = [-INF for _ in range(tree_size)]\n",
    "    ROOT = 1\n",
    "    start = 0\n",
    "    end = N - 1\n",
    "    min_operator = min\n",
    "    max_operator = max\n",
    "    init_tree(array, min_tree, ROOT, start, end, min_operator)\n",
    "    init_tree(array, max_tree, ROOT, start, end, max_operator)\n",
    "    for _ in range(M):\n",
    "        a, b = map(int, input().split())\n",
    "        left = a - 1\n",
    "        right = b - 1\n",
    "        prefix_min = query(left, right, min_tree, ROOT, start, end, min_operator, INF)\n",
    "        prefix_max = query(left, right, max_tree, ROOT, start, end, max_operator, -INF)\n",
    "        print(prefix_min, prefix_max)\n",
    "\n",
    "\n",
    "solution()\n",
    "\n",
    "# input\n",
    "# 10 4\n",
    "# 75\n",
    "# 30\n",
    "# 100\n",
    "# 38\n",
    "# 50\n",
    "# 51\n",
    "# 52\n",
    "# 20\n",
    "# 81\n",
    "# 5\n",
    "# 1 10\n",
    "# 3 5\n",
    "# 6 9\n",
    "# 8 10"
   ]
  },
  {
   "cell_type": "markdown",
   "id": "8745ab7e-b06f-4a9a-acc1-ae64259d3d90",
   "metadata": {},
   "source": [
    "## 수열과 쿼리 16\n",
    "\n",
    "- 문제 출처: [백준 14428번](https://www.acmicpc.net/problem/14428)"
   ]
  },
  {
   "cell_type": "markdown",
   "id": "e4198c81-6ccd-4466-8e7e-5d81d4d16993",
   "metadata": {},
   "source": [
    "`-` [최솟값과 최댓값](https://www.acmicpc.net/problem/2357) 문제에서 구간 최솟값을 계산했었다\n",
    "\n",
    "`-` 여기서는 최솟값의 인덱스를 출력해야 한다\n",
    "\n",
    "`-` 트리의 노드에 인덱스를 저장하고 트리를 갱신할 땐 배열의 인덱스에 접근하여 더 작은 값의 인덱스로 설정한다\n",
    "\n",
    "`-` 만약 둘의 배열 값이 같다면 인덱스가 더 작은 값으로 갱신해야 한다\n",
    "\n",
    "`-` 수열의 인덱스는 $1$부터 시작하니 주의하자\n",
    "\n",
    "`-` 배열의 $0$번째 원소를 무한으로 설정하여 항등원이 $0$을 반환하도록 만들었다"
   ]
  },
  {
   "cell_type": "code",
   "execution_count": 3,
   "id": "5954a6fc-bae0-45e4-8fee-d42b1732ba4d",
   "metadata": {},
   "outputs": [
    {
     "name": "stdin",
     "output_type": "stream",
     "text": [
      " 5\n",
      " 5 4 3 2 1\n",
      " 6\n",
      " 2 1 3\n"
     ]
    },
    {
     "name": "stdout",
     "output_type": "stream",
     "text": [
      "3\n"
     ]
    },
    {
     "name": "stdin",
     "output_type": "stream",
     "text": [
      " 2 1 4\n"
     ]
    },
    {
     "name": "stdout",
     "output_type": "stream",
     "text": [
      "4\n"
     ]
    },
    {
     "name": "stdin",
     "output_type": "stream",
     "text": [
      " 1 5 3\n",
      " 2 3 5\n"
     ]
    },
    {
     "name": "stdout",
     "output_type": "stream",
     "text": [
      "4\n"
     ]
    },
    {
     "name": "stdin",
     "output_type": "stream",
     "text": [
      " 1 4 3\n",
      " 2 3 5\n"
     ]
    },
    {
     "name": "stdout",
     "output_type": "stream",
     "text": [
      "3\n"
     ]
    }
   ],
   "source": [
    "import math\n",
    "import sys\n",
    "\n",
    "sys.setrecursionlimit(10**5)\n",
    "\n",
    "\n",
    "def init_tree(array, tree, node, start, end):\n",
    "    if start == end:\n",
    "        tree[node] = start\n",
    "        return\n",
    "    mid = (start + end) // 2\n",
    "    left_child = 2 * node\n",
    "    right_child = left_child + 1\n",
    "    init_tree(array, tree, left_child, start, mid)\n",
    "    init_tree(array, tree, right_child, mid + 1, end)\n",
    "    left_argmin = tree[left_child]\n",
    "    right_argmin = tree[right_child]\n",
    "    if array[left_argmin] < array[right_argmin]:\n",
    "        tree[node] = left_argmin\n",
    "    elif array[right_argmin] < array[left_argmin]:\n",
    "        tree[node] = right_argmin\n",
    "    else:\n",
    "        if left_argmin < right_argmin:\n",
    "            tree[node] = left_argmin\n",
    "        else:\n",
    "            tree[node] = right_argmin\n",
    "\n",
    "\n",
    "def update_tree(index, value, array, tree, node, start, end):\n",
    "    if index < start or index > end:\n",
    "        return\n",
    "    if start == end:\n",
    "        array[index] = value\n",
    "        tree[node] = index\n",
    "        return\n",
    "    mid = (start + end) // 2\n",
    "    left_child = 2 * node\n",
    "    right_child = left_child + 1\n",
    "    update_tree(index, value, array, tree, left_child, start, mid)\n",
    "    update_tree(index, value, array, tree, right_child, mid + 1, end)\n",
    "    left_argmin = tree[left_child]\n",
    "    right_argmin = tree[right_child]\n",
    "    if array[left_argmin] < array[right_argmin]:\n",
    "        tree[node] = left_argmin\n",
    "    elif array[right_argmin] < array[left_argmin]:\n",
    "        tree[node] = right_argmin\n",
    "    else:\n",
    "        if left_argmin < right_argmin:\n",
    "            tree[node] = left_argmin\n",
    "        else:\n",
    "            tree[node] = right_argmin\n",
    "\n",
    "\n",
    "def compute_prefix_argmin(left, right, array, tree, node, start, end):\n",
    "    if left > end or right < start:\n",
    "        return 0  # array[0] == INF\n",
    "    if left <= start <= end <= right:\n",
    "        return tree[node]\n",
    "    mid = (start + end) // 2\n",
    "    left_child = 2 * node\n",
    "    right_child = left_child + 1\n",
    "    left_argmin = compute_prefix_argmin(left, right, array, tree, left_child, start, mid)\n",
    "    right_argmin = compute_prefix_argmin(left, right, array, tree, right_child, mid + 1, end)\n",
    "    if array[left_argmin] < array[right_argmin]:\n",
    "        return left_argmin\n",
    "    if array[right_argmin] < array[left_argmin]:\n",
    "        return right_argmin\n",
    "    if left_argmin < right_argmin:\n",
    "        return left_argmin\n",
    "    return right_argmin\n",
    "\n",
    "\n",
    "def solution():\n",
    "    N = int(input())\n",
    "    UPDATE = 1\n",
    "    ARGMIN = 2\n",
    "    INF = float(\"inf\")\n",
    "    array = [INF] + list(map(int, input().split()))\n",
    "    M = int(input())\n",
    "    H = math.ceil(math.log2(N))\n",
    "    tree_size = 2**(H + 1)\n",
    "    tree = [INF for _ in range(tree_size)]\n",
    "    ROOT = 1\n",
    "    start = 1\n",
    "    end = N\n",
    "    init_tree(array, tree, ROOT, start, end)\n",
    "    for _ in range(M):\n",
    "        operator, i, j = map(int, input().split())\n",
    "        if operator == UPDATE:\n",
    "            update_tree(i, j, array, tree, ROOT, start, end)\n",
    "        elif operator == ARGMIN:\n",
    "            left = i\n",
    "            right = j\n",
    "            prefix_argmin = compute_prefix_argmin(left, right, array, tree, ROOT, start, end)\n",
    "            print(prefix_argmin)\n",
    "\n",
    "\n",
    "solution()\n",
    "\n",
    "# input\n",
    "# 5\n",
    "# 5 4 3 2 1\n",
    "# 6\n",
    "# 2 1 3\n",
    "# 2 1 4\n",
    "# 1 5 3\n",
    "# 2 3 5\n",
    "# 1 4 3\n",
    "# 2 3 5"
   ]
  },
  {
   "cell_type": "code",
   "execution_count": null,
   "id": "1c99b492-da4a-40a4-ab0f-f6b8bdc3ffa3",
   "metadata": {},
   "outputs": [],
   "source": []
  }
 ],
 "metadata": {
  "kernelspec": {
   "display_name": "Python 3 (ipykernel)",
   "language": "python",
   "name": "python3"
  },
  "language_info": {
   "codemirror_mode": {
    "name": "ipython",
    "version": 3
   },
   "file_extension": ".py",
   "mimetype": "text/x-python",
   "name": "python",
   "nbconvert_exporter": "python",
   "pygments_lexer": "ipython3",
   "version": "3.8.11"
  }
 },
 "nbformat": 4,
 "nbformat_minor": 5
}
