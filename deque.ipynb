{
 "cells": [
  {
   "cell_type": "markdown",
   "id": "c80324d9-4fe3-4743-8737-54dec477d972",
   "metadata": {},
   "source": [
    "# 덱 (Deque)"
   ]
  },
  {
   "cell_type": "markdown",
   "id": "ead832d4-0090-4216-b9e5-ed06896e0811",
   "metadata": {},
   "source": [
    "## 덱\n",
    "- 문제 출처: [백준 10866번](https://www.acmicpc.net/problem/10866)"
   ]
  },
  {
   "cell_type": "markdown",
   "id": "452cbaeb-391e-4a1d-9f99-f41fd646994a",
   "metadata": {},
   "source": [
    "`-` 덱은 스택과 큐를 합친 구조 ---> 양쪽으로 넣고(append) 빼기(pop) 가능함"
   ]
  },
  {
   "cell_type": "code",
   "execution_count": 6,
   "id": "a9d66559-f916-40ca-90fc-c0bf345d8a71",
   "metadata": {},
   "outputs": [
    {
     "name": "stdin",
     "output_type": "stream",
     "text": [
      " 15\n",
      " push_back 1\n",
      " push_front 2\n",
      " front\n"
     ]
    },
    {
     "name": "stdout",
     "output_type": "stream",
     "text": [
      "2\n"
     ]
    },
    {
     "name": "stdin",
     "output_type": "stream",
     "text": [
      " back\n"
     ]
    },
    {
     "name": "stdout",
     "output_type": "stream",
     "text": [
      "1\n"
     ]
    },
    {
     "name": "stdin",
     "output_type": "stream",
     "text": [
      " size\n"
     ]
    },
    {
     "name": "stdout",
     "output_type": "stream",
     "text": [
      "2\n"
     ]
    },
    {
     "name": "stdin",
     "output_type": "stream",
     "text": [
      " empty\n"
     ]
    },
    {
     "name": "stdout",
     "output_type": "stream",
     "text": [
      "0\n"
     ]
    },
    {
     "name": "stdin",
     "output_type": "stream",
     "text": [
      " pop_front\n"
     ]
    },
    {
     "name": "stdout",
     "output_type": "stream",
     "text": [
      "2\n"
     ]
    },
    {
     "name": "stdin",
     "output_type": "stream",
     "text": [
      " pop_back\n"
     ]
    },
    {
     "name": "stdout",
     "output_type": "stream",
     "text": [
      "1\n"
     ]
    },
    {
     "name": "stdin",
     "output_type": "stream",
     "text": [
      " pop_front\n"
     ]
    },
    {
     "name": "stdout",
     "output_type": "stream",
     "text": [
      "-1\n"
     ]
    },
    {
     "name": "stdin",
     "output_type": "stream",
     "text": [
      " size\n"
     ]
    },
    {
     "name": "stdout",
     "output_type": "stream",
     "text": [
      "0\n"
     ]
    },
    {
     "name": "stdin",
     "output_type": "stream",
     "text": [
      " empty\n"
     ]
    },
    {
     "name": "stdout",
     "output_type": "stream",
     "text": [
      "1\n"
     ]
    },
    {
     "name": "stdin",
     "output_type": "stream",
     "text": [
      " pop_back\n"
     ]
    },
    {
     "name": "stdout",
     "output_type": "stream",
     "text": [
      "-1\n"
     ]
    },
    {
     "name": "stdin",
     "output_type": "stream",
     "text": [
      " push_front 3\n",
      " empty\n"
     ]
    },
    {
     "name": "stdout",
     "output_type": "stream",
     "text": [
      "0\n"
     ]
    },
    {
     "name": "stdin",
     "output_type": "stream",
     "text": [
      " front\n"
     ]
    },
    {
     "name": "stdout",
     "output_type": "stream",
     "text": [
      "3\n"
     ]
    }
   ],
   "source": [
    "from collections import deque\n",
    "\n",
    "N = int(input())\n",
    "deque = deque()\n",
    "        \n",
    "for _ in range(N):\n",
    "    input_ = input()\n",
    "    \n",
    "    if input_[:2] == 'pu':\n",
    "        num = int(input_.split()[1])\n",
    "        \n",
    "        if input_[5] == 'f': ## push_front와 push_back구별\n",
    "            deque.appendleft(num)\n",
    "        \n",
    "        else:\n",
    "            deque.append(num)\n",
    "            \n",
    "    elif input_[:2] == 'po':\n",
    "        if input_[4] == 'f':\n",
    "            if deque:\n",
    "                print(deque.popleft())\n",
    "                \n",
    "            else:\n",
    "                print(-1)\n",
    "                \n",
    "        else:\n",
    "            if deque:\n",
    "                print(deque.pop())\n",
    "                \n",
    "            else:\n",
    "                print(-1)\n",
    "                \n",
    "    elif input_[:2] == 'si':\n",
    "        print(len(deque))\n",
    "        \n",
    "    elif input_[:2] == 'em':\n",
    "        if deque:\n",
    "            print(0)\n",
    "            \n",
    "        else:\n",
    "            print(1)\n",
    "            \n",
    "    elif input_[:2] == 'fr':\n",
    "        if deque:\n",
    "            print(deque[0])\n",
    "            \n",
    "        else:\n",
    "            print(-1)\n",
    "            \n",
    "    elif input_[:2] == 'ba':\n",
    "        if deque:\n",
    "            print(deque[-1])\n",
    "            \n",
    "        else:\n",
    "            print(-1)\n",
    "            \n",
    "## input\n",
    "## 15\n",
    "## push_back 1\n",
    "## push_front 2\n",
    "## front\n",
    "## back\n",
    "## size\n",
    "## empty\n",
    "## pop_front\n",
    "## pop_back\n",
    "## pop_front\n",
    "## size\n",
    "## empty\n",
    "## pop_back\n",
    "## push_front 3\n",
    "## empty\n",
    "## front\n"
   ]
  },
  {
   "cell_type": "markdown",
   "id": "f52ce2bc-bb6a-46c4-8241-feba44445fb5",
   "metadata": {},
   "source": [
    "## 회전하는 큐\n",
    "- 문제 출처: [백준 1021번](https://www.acmicpc.net/problem/1021)"
   ]
  },
  {
   "cell_type": "markdown",
   "id": "f2c66aa7-f275-4651-bd9f-50fe4a9a1546",
   "metadata": {},
   "source": [
    "`-` 오랜만에 풀어서 머리가 굳었음\n",
    "\n",
    "`-` 일단 내 생각은 x[0]의 원소가 deque의 왼쪽 입구와 가까운지 오른쪽 입구와 가까운지 판단하는 것\n",
    "\n",
    "`-` 가까운쪽으로 x[0]을 보내고 deque[0]을 pop하면 된다\n",
    "\n",
    "`-` 참고로 오른쪽 입구 끝으로 간 다음에 한번더 오른쪽으로 한칸씩 이동시켜야 첫번째에 도달한다(오른쪽끝까지 가는 거리 + 1)\n",
    "\n",
    "`-` x[0]의 원소를 pop하면 새로운 x[0]를 위와같이 pop하자 "
   ]
  },
  {
   "cell_type": "code",
   "execution_count": 25,
   "id": "cb9224f5-5972-41b3-886b-3f973e437d97",
   "metadata": {},
   "outputs": [
    {
     "name": "stdin",
     "output_type": "stream",
     "text": [
      " 10 10\n",
      " 1 6 3 2 7 9 8 4 10 5\n"
     ]
    },
    {
     "name": "stdout",
     "output_type": "stream",
     "text": [
      "14\n"
     ]
    }
   ],
   "source": [
    "from collections import deque\n",
    "\n",
    "N, M = map(int, input().split())\n",
    "x = deque(list(map(int, input().split())))\n",
    "deque = deque(list(range(1, N+1)))\n",
    "min_ = 0\n",
    "\n",
    "while x:\n",
    "    n = len(deque)\n",
    "    mid = n // 2\n",
    "    loc = deque.index(x[0])\n",
    "\n",
    "    if loc > mid:\n",
    "        while deque[0] != x[0]:\n",
    "            deque.appendleft(deque.pop())\n",
    "            min_ += 1\n",
    "    \n",
    "    else:\n",
    "        while deque[0] != x[0]:\n",
    "            deque.append(deque.popleft())\n",
    "            min_ += 1\n",
    "        \n",
    "    deque.popleft()\n",
    "    x.popleft()\n",
    "\n",
    "print(min_)\n",
    "\n",
    "# input\n",
    "# 10 10\n",
    "# 1 6 3 2 7 9 8 4 10 5"
   ]
  },
  {
   "cell_type": "markdown",
   "id": "7c93422c-1b50-4b27-a207-fcc2c04b2c93",
   "metadata": {
    "tags": []
   },
   "source": [
    "## AC \n",
    "- 문제 출처: [백준 5430번](https://www.acmicpc.net/problem/5430)"
   ]
  },
  {
   "cell_type": "markdown",
   "id": "bfde9bb3-fcfd-4af5-ab34-28eb96ce26ad",
   "metadata": {},
   "source": [
    "`-` 그냥 하면 된다\n",
    "\n",
    "`-` 풀고나서 다른 정답봤는데 RR은 어차피 의미가 없으니 그냥 없앴음(매우 좋은 생각)\n",
    "\n",
    "```python\n",
    "List.replace('RR', '')\n",
    "````\n",
    "\n",
    "`-` 나는 생각이 안나서 그냥 했다\n",
    "\n",
    "`-` R이면 그냥 popleft() 대신에 pop()을 수행했음"
   ]
  },
  {
   "cell_type": "code",
   "execution_count": 70,
   "id": "87181e18-594e-4386-b412-ff49635b49c6",
   "metadata": {},
   "outputs": [
    {
     "name": "stdin",
     "output_type": "stream",
     "text": [
      " 1\n",
      " RRD\n",
      " 6\n",
      " [1,1,2,3,5,8]\n"
     ]
    },
    {
     "name": "stdout",
     "output_type": "stream",
     "text": [
      "[1,2,3,5,8]\n"
     ]
    }
   ],
   "source": [
    "from collections import deque\n",
    "\n",
    "T = int(input())\n",
    "\n",
    "for _ in range(T):\n",
    "    funcs = input()\n",
    "    n = int(input())\n",
    "    nums = input()\n",
    "    \n",
    "    if n == 0:\n",
    "        nums = deque()\n",
    "        \n",
    "    else:\n",
    "        nums = deque(list(map(int, nums[1:-1].split(','))))\n",
    "        \n",
    "    z = 'True'\n",
    "    c = 0\n",
    "                \n",
    "    for i in range(len(funcs)):\n",
    "        if funcs[i] == 'R':\n",
    "            c += 1\n",
    "            \n",
    "        elif funcs[i] == 'D' and nums:\n",
    "            if c % 2 == 0:\n",
    "                nums.popleft()\n",
    "                \n",
    "            else:\n",
    "                nums.pop()\n",
    "                \n",
    "        else:\n",
    "            z = 'error'\n",
    "\n",
    "    nums2 = []\n",
    "    if c % 2 == 1:\n",
    "        for j in range(len(nums)):\n",
    "            nums2.append(nums.pop())\n",
    "            \n",
    "    else:\n",
    "        nums2 = list(nums.copy()) \n",
    "            \n",
    "    nums2 = list(map(str, nums2))\n",
    "    nums2 = '[' + ','.join(nums2) + ']'\n",
    "    \n",
    "    if z == 'True':\n",
    "        print(nums2)\n",
    "                \n",
    "    else:\n",
    "        print(z)\n",
    "\n",
    "# input\n",
    "# 1\n",
    "# RRD\n",
    "# 6\n",
    "# [1,1,2,3,5,8]"
   ]
  },
  {
   "cell_type": "markdown",
   "id": "2f63d8a0-0352-4109-a61a-3e086efe92b6",
   "metadata": {},
   "source": [
    "## 풍선 터뜨리기\n",
    "\n",
    "- 문제 출처: [백준 2346번](https://www.acmicpc.net/problem/2346)"
   ]
  },
  {
   "cell_type": "markdown",
   "id": "13195c01-9cc1-470a-abd7-dcf2400e24ca",
   "metadata": {},
   "source": [
    "`-` 풍선은 원형으로 배치되어 있어 단순한 배열로는 원형 배치를 나타낼 수 없다\n",
    "\n",
    "`-` 풍선은 회전시켜도 순서가 유지되는데 이를 위해 배열에서 첫 번째 원소가 마지막 원소의 오른쪽에 존재한다고 생각하자\n",
    "\n",
    "`-` 풍선을 터뜨린다는 것은 원소를 pop 한다는 것인데 pop을 하는 과정에서 순회하는 원소를 방향에 따라 왼쪽 또는 오른쪽에 pop하고 append하면 된다"
   ]
  },
  {
   "cell_type": "code",
   "execution_count": 12,
   "id": "585dd572-11ae-41a1-abe4-14914aa3f32a",
   "metadata": {},
   "outputs": [
    {
     "name": "stdin",
     "output_type": "stream",
     "text": [
      " 5\n",
      " 3 2 1 -3 -1\n"
     ]
    },
    {
     "name": "stdout",
     "output_type": "stream",
     "text": [
      "1 4 5 3 2\n"
     ]
    }
   ],
   "source": [
    "from collections import deque\n",
    "\n",
    "N = int(input())\n",
    "values = deque(map(int, input().split()))  # 풍선 안에 들어있는 종이\n",
    "ballons = deque(range(1, N + 1))  # 풍선 번호\n",
    "order = []\n",
    "while True:\n",
    "    ballon = ballons.popleft()  # 터뜨릴 풍선을 첫 번째 원소에 위치하도록 유지할 것임 (시작은 1번 풍선)\n",
    "    value = values.popleft()\n",
    "    order.append(ballon)\n",
    "    if len(order) == N:  # 종료 조건\n",
    "        break\n",
    "    if value > 0:  # 오른쪽으로 순회\n",
    "        for _ in range(value - 1):\n",
    "            v = values.popleft()\n",
    "            values.append(v)\n",
    "            ballon = ballons.popleft()\n",
    "            ballons.append(ballon)\n",
    "    else:  # 왼쪽으로 순회\n",
    "        value = -value\n",
    "        for _ in range(value):\n",
    "            v = values.pop()\n",
    "            values.appendleft(v)\n",
    "            ballon = ballons.pop()\n",
    "            ballons.appendleft(ballon)\n",
    "print(*order)\n",
    "\n",
    "# input\n",
    "# 5\n",
    "# 3 2 1 -3 -1"
   ]
  },
  {
   "cell_type": "markdown",
   "id": "19e07caf-189a-4097-87e9-3ef5903d5efe",
   "metadata": {},
   "source": [
    "## 덱 2\n",
    "\n",
    "- 문제 출처: [백준 28279번](https://www.acmicpc.net/problem/28279)"
   ]
  },
  {
   "cell_type": "code",
   "execution_count": 5,
   "id": "023d6b5e-b2bd-4fb5-bd02-b2fb3c25b253",
   "metadata": {},
   "outputs": [
    {
     "name": "stdin",
     "output_type": "stream",
     "text": [
      " 11\n",
      " 6\n"
     ]
    },
    {
     "name": "stdout",
     "output_type": "stream",
     "text": [
      "1\n"
     ]
    },
    {
     "name": "stdin",
     "output_type": "stream",
     "text": [
      " 1 3\n",
      " 1 8\n",
      " 7\n"
     ]
    },
    {
     "name": "stdout",
     "output_type": "stream",
     "text": [
      "8\n"
     ]
    },
    {
     "name": "stdin",
     "output_type": "stream",
     "text": [
      " 8\n"
     ]
    },
    {
     "name": "stdout",
     "output_type": "stream",
     "text": [
      "3\n"
     ]
    },
    {
     "name": "stdin",
     "output_type": "stream",
     "text": [
      " 3\n"
     ]
    },
    {
     "name": "stdout",
     "output_type": "stream",
     "text": [
      "8\n"
     ]
    },
    {
     "name": "stdin",
     "output_type": "stream",
     "text": [
      " 2 5\n",
      " 1 2\n",
      " 5\n"
     ]
    },
    {
     "name": "stdout",
     "output_type": "stream",
     "text": [
      "3\n"
     ]
    },
    {
     "name": "stdin",
     "output_type": "stream",
     "text": [
      " 4\n"
     ]
    },
    {
     "name": "stdout",
     "output_type": "stream",
     "text": [
      "5\n"
     ]
    },
    {
     "name": "stdin",
     "output_type": "stream",
     "text": [
      " 4\n"
     ]
    },
    {
     "name": "stdout",
     "output_type": "stream",
     "text": [
      "3\n"
     ]
    }
   ],
   "source": [
    "from collections import deque\n",
    "\n",
    "\n",
    "def order1(a, x):\n",
    "    a.appendleft(x)\n",
    "\n",
    "\n",
    "def order2(a, x):\n",
    "    a.append(x)\n",
    "\n",
    "\n",
    "def order3(a):\n",
    "    if not a:\n",
    "        print(-1)\n",
    "        return\n",
    "    print(a.popleft())\n",
    "\n",
    "\n",
    "def order4(a):\n",
    "    if not a:\n",
    "        print(-1)\n",
    "        return\n",
    "    print(a.pop())\n",
    "\n",
    "\n",
    "def order5(a):\n",
    "    print(len(a))\n",
    "\n",
    "\n",
    "def order6(a):\n",
    "    if a:\n",
    "        print(0)\n",
    "    else:\n",
    "        print(1)\n",
    "\n",
    "\n",
    "def order7(a):\n",
    "    if not a:\n",
    "        print(-1)\n",
    "        return\n",
    "    print(a[0])\n",
    "\n",
    "\n",
    "def order8(a):\n",
    "    if not a:\n",
    "        print(-1)\n",
    "        return\n",
    "    print(a[-1])\n",
    "\n",
    "\n",
    "def solution():\n",
    "    num2order = {n: eval(f\"order{n}\") for n in range(1, 9)}\n",
    "    a = deque([])\n",
    "    N = int(input())\n",
    "    for _ in range(N):\n",
    "        order = list(map(int, input().split()))\n",
    "        if len(order) == 2:\n",
    "            n, x = order\n",
    "            num2order[n](a, x)\n",
    "        else:\n",
    "            n = order[0]\n",
    "            num2order[n](a)\n",
    "\n",
    "solution()\n",
    "\n",
    "# input\n",
    "# 11\n",
    "# 6\n",
    "# 1 3\n",
    "# 1 8\n",
    "# 7\n",
    "# 8\n",
    "# 3\n",
    "# 2 5\n",
    "# 1 2\n",
    "# 5\n",
    "# 4\n",
    "# 4"
   ]
  },
  {
   "cell_type": "code",
   "execution_count": null,
   "id": "651ffd00-48a2-4a37-bffd-836a1bf03243",
   "metadata": {},
   "outputs": [],
   "source": []
  }
 ],
 "metadata": {
  "kernelspec": {
   "display_name": "Python 3 (ipykernel)",
   "language": "python",
   "name": "python3"
  },
  "language_info": {
   "codemirror_mode": {
    "name": "ipython",
    "version": 3
   },
   "file_extension": ".py",
   "mimetype": "text/x-python",
   "name": "python",
   "nbconvert_exporter": "python",
   "pygments_lexer": "ipython3",
   "version": "3.8.11"
  }
 },
 "nbformat": 4,
 "nbformat_minor": 5
}
