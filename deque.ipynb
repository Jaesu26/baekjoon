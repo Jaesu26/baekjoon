{
 "cells": [
  {
   "cell_type": "markdown",
   "id": "c80324d9-4fe3-4743-8737-54dec477d972",
   "metadata": {},
   "source": [
    "# 덱 (Deque)"
   ]
  },
  {
   "cell_type": "markdown",
   "id": "ead832d4-0090-4216-b9e5-ed06896e0811",
   "metadata": {},
   "source": [
    "## 덱\n",
    "- 문제 출처: [백준 10866번](https://www.acmicpc.net/problem/10866)"
   ]
  },
  {
   "cell_type": "markdown",
   "id": "452cbaeb-391e-4a1d-9f99-f41fd646994a",
   "metadata": {},
   "source": [
    "`-` 덱은 스택과 큐를 합친 구조 ---> 양쪽으로 넣고(append) 빼기(pop) 가능함"
   ]
  },
  {
   "cell_type": "code",
   "execution_count": 6,
   "id": "a9d66559-f916-40ca-90fc-c0bf345d8a71",
   "metadata": {},
   "outputs": [
    {
     "name": "stdin",
     "output_type": "stream",
     "text": [
      " 15\n",
      " push_back 1\n",
      " push_front 2\n",
      " front\n"
     ]
    },
    {
     "name": "stdout",
     "output_type": "stream",
     "text": [
      "2\n"
     ]
    },
    {
     "name": "stdin",
     "output_type": "stream",
     "text": [
      " back\n"
     ]
    },
    {
     "name": "stdout",
     "output_type": "stream",
     "text": [
      "1\n"
     ]
    },
    {
     "name": "stdin",
     "output_type": "stream",
     "text": [
      " size\n"
     ]
    },
    {
     "name": "stdout",
     "output_type": "stream",
     "text": [
      "2\n"
     ]
    },
    {
     "name": "stdin",
     "output_type": "stream",
     "text": [
      " empty\n"
     ]
    },
    {
     "name": "stdout",
     "output_type": "stream",
     "text": [
      "0\n"
     ]
    },
    {
     "name": "stdin",
     "output_type": "stream",
     "text": [
      " pop_front\n"
     ]
    },
    {
     "name": "stdout",
     "output_type": "stream",
     "text": [
      "2\n"
     ]
    },
    {
     "name": "stdin",
     "output_type": "stream",
     "text": [
      " pop_back\n"
     ]
    },
    {
     "name": "stdout",
     "output_type": "stream",
     "text": [
      "1\n"
     ]
    },
    {
     "name": "stdin",
     "output_type": "stream",
     "text": [
      " pop_front\n"
     ]
    },
    {
     "name": "stdout",
     "output_type": "stream",
     "text": [
      "-1\n"
     ]
    },
    {
     "name": "stdin",
     "output_type": "stream",
     "text": [
      " size\n"
     ]
    },
    {
     "name": "stdout",
     "output_type": "stream",
     "text": [
      "0\n"
     ]
    },
    {
     "name": "stdin",
     "output_type": "stream",
     "text": [
      " empty\n"
     ]
    },
    {
     "name": "stdout",
     "output_type": "stream",
     "text": [
      "1\n"
     ]
    },
    {
     "name": "stdin",
     "output_type": "stream",
     "text": [
      " pop_back\n"
     ]
    },
    {
     "name": "stdout",
     "output_type": "stream",
     "text": [
      "-1\n"
     ]
    },
    {
     "name": "stdin",
     "output_type": "stream",
     "text": [
      " push_front 3\n",
      " empty\n"
     ]
    },
    {
     "name": "stdout",
     "output_type": "stream",
     "text": [
      "0\n"
     ]
    },
    {
     "name": "stdin",
     "output_type": "stream",
     "text": [
      " front\n"
     ]
    },
    {
     "name": "stdout",
     "output_type": "stream",
     "text": [
      "3\n"
     ]
    }
   ],
   "source": [
    "from collections import deque\n",
    "\n",
    "N = int(input())\n",
    "deque = deque()\n",
    "        \n",
    "for _ in range(N):\n",
    "    input_ = input()\n",
    "    \n",
    "    if input_[:2] == 'pu':\n",
    "        num = int(input_.split()[1])\n",
    "        \n",
    "        if input_[5] == 'f': ## push_front와 push_back구별\n",
    "            deque.appendleft(num)\n",
    "        \n",
    "        else:\n",
    "            deque.append(num)\n",
    "            \n",
    "    elif input_[:2] == 'po':\n",
    "        if input_[4] == 'f':\n",
    "            if deque:\n",
    "                print(deque.popleft())\n",
    "                \n",
    "            else:\n",
    "                print(-1)\n",
    "                \n",
    "        else:\n",
    "            if deque:\n",
    "                print(deque.pop())\n",
    "                \n",
    "            else:\n",
    "                print(-1)\n",
    "                \n",
    "    elif input_[:2] == 'si':\n",
    "        print(len(deque))\n",
    "        \n",
    "    elif input_[:2] == 'em':\n",
    "        if deque:\n",
    "            print(0)\n",
    "            \n",
    "        else:\n",
    "            print(1)\n",
    "            \n",
    "    elif input_[:2] == 'fr':\n",
    "        if deque:\n",
    "            print(deque[0])\n",
    "            \n",
    "        else:\n",
    "            print(-1)\n",
    "            \n",
    "    elif input_[:2] == 'ba':\n",
    "        if deque:\n",
    "            print(deque[-1])\n",
    "            \n",
    "        else:\n",
    "            print(-1)\n",
    "            \n",
    "## input\n",
    "## 15\n",
    "## push_back 1\n",
    "## push_front 2\n",
    "## front\n",
    "## back\n",
    "## size\n",
    "## empty\n",
    "## pop_front\n",
    "## pop_back\n",
    "## pop_front\n",
    "## size\n",
    "## empty\n",
    "## pop_back\n",
    "## push_front 3\n",
    "## empty\n",
    "## front\n"
   ]
  },
  {
   "cell_type": "markdown",
   "id": "f52ce2bc-bb6a-46c4-8241-feba44445fb5",
   "metadata": {},
   "source": [
    "## 회전하는 큐\n",
    "- 문제 출처: [백준 1021번](https://www.acmicpc.net/problem/1021)"
   ]
  },
  {
   "cell_type": "markdown",
   "id": "f2c66aa7-f275-4651-bd9f-50fe4a9a1546",
   "metadata": {},
   "source": [
    "`-` 오랜만에 풀어서 머리가 굳었음\n",
    "\n",
    "`-` 일단 내 생각은 x[0]의 원소가 deque의 왼쪽 입구와 가까운지 오른쪽 입구와 가까운지 판단하는 것\n",
    "\n",
    "`-` 가까운쪽으로 x[0]을 보내고 deque[0]을 pop하면 된다\n",
    "\n",
    "`-` 참고로 오른쪽 입구 끝으로 간 다음에 한번더 오른쪽으로 한칸씩 이동시켜야 첫번째에 도달한다(오른쪽끝까지 가는 거리 + 1)\n",
    "\n",
    "`-` x[0]의 원소를 pop하면 새로운 x[0]를 위와같이 pop하자 "
   ]
  },
  {
   "cell_type": "code",
   "execution_count": 25,
   "id": "cb9224f5-5972-41b3-886b-3f973e437d97",
   "metadata": {},
   "outputs": [
    {
     "name": "stdin",
     "output_type": "stream",
     "text": [
      " 10 10\n",
      " 1 6 3 2 7 9 8 4 10 5\n"
     ]
    },
    {
     "name": "stdout",
     "output_type": "stream",
     "text": [
      "14\n"
     ]
    }
   ],
   "source": [
    "from collections import deque\n",
    "\n",
    "N, M = map(int, input().split())\n",
    "x = deque(list(map(int, input().split())))\n",
    "deque = deque(list(range(1, N+1)))\n",
    "min_ = 0\n",
    "\n",
    "while x:\n",
    "    n = len(deque)\n",
    "    mid = n // 2\n",
    "    loc = deque.index(x[0])\n",
    "\n",
    "    if loc > mid:\n",
    "        while deque[0] != x[0]:\n",
    "            deque.appendleft(deque.pop())\n",
    "            min_ += 1\n",
    "    \n",
    "    else:\n",
    "        while deque[0] != x[0]:\n",
    "            deque.append(deque.popleft())\n",
    "            min_ += 1\n",
    "        \n",
    "    deque.popleft()\n",
    "    x.popleft()\n",
    "\n",
    "print(min_)\n",
    "\n",
    "# input\n",
    "# 10 10\n",
    "# 1 6 3 2 7 9 8 4 10 5"
   ]
  },
  {
   "cell_type": "markdown",
   "id": "7c93422c-1b50-4b27-a207-fcc2c04b2c93",
   "metadata": {
    "tags": []
   },
   "source": [
    "## AC \n",
    "- 문제 출처: [백준 5430번](https://www.acmicpc.net/problem/5430)"
   ]
  },
  {
   "cell_type": "markdown",
   "id": "bfde9bb3-fcfd-4af5-ab34-28eb96ce26ad",
   "metadata": {},
   "source": [
    "`-` 그냥 하면 된다\n",
    "\n",
    "`-` 풀고나서 다른 정답봤는데 RR은 어차피 의미가 없으니 그냥 없앴음(매우 좋은 생각)\n",
    "\n",
    "```python\n",
    "List.replace('RR', '')\n",
    "````\n",
    "\n",
    "`-` 나는 생각이 안나서 그냥 했다\n",
    "\n",
    "`-` R이면 그냥 popleft() 대신에 pop()을 수행했음"
   ]
  },
  {
   "cell_type": "code",
   "execution_count": 70,
   "id": "87181e18-594e-4386-b412-ff49635b49c6",
   "metadata": {},
   "outputs": [
    {
     "name": "stdin",
     "output_type": "stream",
     "text": [
      " 1\n",
      " RRD\n",
      " 6\n",
      " [1,1,2,3,5,8]\n"
     ]
    },
    {
     "name": "stdout",
     "output_type": "stream",
     "text": [
      "[1,2,3,5,8]\n"
     ]
    }
   ],
   "source": [
    "from collections import deque\n",
    "\n",
    "T = int(input())\n",
    "\n",
    "for _ in range(T):\n",
    "    funcs = input()\n",
    "    n = int(input())\n",
    "    nums = input()\n",
    "    \n",
    "    if n == 0:\n",
    "        nums = deque()\n",
    "        \n",
    "    else:\n",
    "        nums = deque(list(map(int, nums[1:-1].split(','))))\n",
    "        \n",
    "    z = 'True'\n",
    "    c = 0\n",
    "                \n",
    "    for i in range(len(funcs)):\n",
    "        if funcs[i] == 'R':\n",
    "            c += 1\n",
    "            \n",
    "        elif funcs[i] == 'D' and nums:\n",
    "            if c % 2 == 0:\n",
    "                nums.popleft()\n",
    "                \n",
    "            else:\n",
    "                nums.pop()\n",
    "                \n",
    "        else:\n",
    "            z = 'error'\n",
    "\n",
    "    nums2 = []\n",
    "    if c % 2 == 1:\n",
    "        for j in range(len(nums)):\n",
    "            nums2.append(nums.pop())\n",
    "            \n",
    "    else:\n",
    "        nums2 = list(nums.copy()) \n",
    "            \n",
    "    nums2 = list(map(str, nums2))\n",
    "    nums2 = '[' + ','.join(nums2) + ']'\n",
    "    \n",
    "    if z == 'True':\n",
    "        print(nums2)\n",
    "                \n",
    "    else:\n",
    "        print(z)\n",
    "\n",
    "# input\n",
    "# 1\n",
    "# RRD\n",
    "# 6\n",
    "# [1,1,2,3,5,8]"
   ]
  },
  {
   "cell_type": "markdown",
   "id": "2f63d8a0-0352-4109-a61a-3e086efe92b6",
   "metadata": {},
   "source": [
    "## 풍선 터뜨리기\n",
    "\n",
    "- 문제 출처: [백준 2346번](https://www.acmicpc.net/problem/2346)"
   ]
  },
  {
   "cell_type": "markdown",
   "id": "13195c01-9cc1-470a-abd7-dcf2400e24ca",
   "metadata": {},
   "source": [
    "`-` 풍선은 원형으로 배치되어 있어 단순한 배열로는 원형 배치를 나타낼 수 없다\n",
    "\n",
    "`-` 풍선은 회전시켜도 순서가 유지되는데 이를 위해 배열에서 첫 번째 원소가 마지막 원소의 오른쪽에 존재한다고 생각하자\n",
    "\n",
    "`-` 풍선을 터뜨린다는 것은 원소를 pop 한다는 것인데 pop을 하는 과정에서 순회하는 원소를 방향에 따라 왼쪽 또는 오른쪽에 pop하고 append하면 된다"
   ]
  },
  {
   "cell_type": "code",
   "execution_count": 12,
   "id": "585dd572-11ae-41a1-abe4-14914aa3f32a",
   "metadata": {},
   "outputs": [
    {
     "name": "stdin",
     "output_type": "stream",
     "text": [
      " 5\n",
      " 3 2 1 -3 -1\n"
     ]
    },
    {
     "name": "stdout",
     "output_type": "stream",
     "text": [
      "1 4 5 3 2\n"
     ]
    }
   ],
   "source": [
    "from collections import deque\n",
    "\n",
    "N = int(input())\n",
    "values = deque(map(int, input().split()))  # 풍선 안에 들어있는 종이\n",
    "ballons = deque(range(1, N + 1))  # 풍선 번호\n",
    "order = []\n",
    "while True:\n",
    "    ballon = ballons.popleft()  # 터뜨릴 풍선을 첫 번째 원소에 위치하도록 유지할 것임 (시작은 1번 풍선)\n",
    "    value = values.popleft()\n",
    "    order.append(ballon)\n",
    "    if len(order) == N:  # 종료 조건\n",
    "        break\n",
    "    if value > 0:  # 오른쪽으로 순회\n",
    "        for _ in range(value - 1):\n",
    "            v = values.popleft()\n",
    "            values.append(v)\n",
    "            ballon = ballons.popleft()\n",
    "            ballons.append(ballon)\n",
    "    else:  # 왼쪽으로 순회\n",
    "        value = -value\n",
    "        for _ in range(value):\n",
    "            v = values.pop()\n",
    "            values.appendleft(v)\n",
    "            ballon = ballons.pop()\n",
    "            ballons.appendleft(ballon)\n",
    "print(*order)\n",
    "\n",
    "# input\n",
    "# 5\n",
    "# 3 2 1 -3 -1"
   ]
  },
  {
   "cell_type": "markdown",
   "id": "19e07caf-189a-4097-87e9-3ef5903d5efe",
   "metadata": {},
   "source": [
    "## 덱 2\n",
    "\n",
    "- 문제 출처: [백준 28279번](https://www.acmicpc.net/problem/28279)"
   ]
  },
  {
   "cell_type": "code",
   "execution_count": 5,
   "id": "023d6b5e-b2bd-4fb5-bd02-b2fb3c25b253",
   "metadata": {},
   "outputs": [
    {
     "name": "stdin",
     "output_type": "stream",
     "text": [
      " 11\n",
      " 6\n"
     ]
    },
    {
     "name": "stdout",
     "output_type": "stream",
     "text": [
      "1\n"
     ]
    },
    {
     "name": "stdin",
     "output_type": "stream",
     "text": [
      " 1 3\n",
      " 1 8\n",
      " 7\n"
     ]
    },
    {
     "name": "stdout",
     "output_type": "stream",
     "text": [
      "8\n"
     ]
    },
    {
     "name": "stdin",
     "output_type": "stream",
     "text": [
      " 8\n"
     ]
    },
    {
     "name": "stdout",
     "output_type": "stream",
     "text": [
      "3\n"
     ]
    },
    {
     "name": "stdin",
     "output_type": "stream",
     "text": [
      " 3\n"
     ]
    },
    {
     "name": "stdout",
     "output_type": "stream",
     "text": [
      "8\n"
     ]
    },
    {
     "name": "stdin",
     "output_type": "stream",
     "text": [
      " 2 5\n",
      " 1 2\n",
      " 5\n"
     ]
    },
    {
     "name": "stdout",
     "output_type": "stream",
     "text": [
      "3\n"
     ]
    },
    {
     "name": "stdin",
     "output_type": "stream",
     "text": [
      " 4\n"
     ]
    },
    {
     "name": "stdout",
     "output_type": "stream",
     "text": [
      "5\n"
     ]
    },
    {
     "name": "stdin",
     "output_type": "stream",
     "text": [
      " 4\n"
     ]
    },
    {
     "name": "stdout",
     "output_type": "stream",
     "text": [
      "3\n"
     ]
    }
   ],
   "source": [
    "from collections import deque\n",
    "\n",
    "\n",
    "def order1(a, x):\n",
    "    a.appendleft(x)\n",
    "\n",
    "\n",
    "def order2(a, x):\n",
    "    a.append(x)\n",
    "\n",
    "\n",
    "def order3(a):\n",
    "    if not a:\n",
    "        print(-1)\n",
    "        return\n",
    "    print(a.popleft())\n",
    "\n",
    "\n",
    "def order4(a):\n",
    "    if not a:\n",
    "        print(-1)\n",
    "        return\n",
    "    print(a.pop())\n",
    "\n",
    "\n",
    "def order5(a):\n",
    "    print(len(a))\n",
    "\n",
    "\n",
    "def order6(a):\n",
    "    if a:\n",
    "        print(0)\n",
    "    else:\n",
    "        print(1)\n",
    "\n",
    "\n",
    "def order7(a):\n",
    "    if not a:\n",
    "        print(-1)\n",
    "        return\n",
    "    print(a[0])\n",
    "\n",
    "\n",
    "def order8(a):\n",
    "    if not a:\n",
    "        print(-1)\n",
    "        return\n",
    "    print(a[-1])\n",
    "\n",
    "\n",
    "def solution():\n",
    "    num2order = {n: eval(f\"order{n}\") for n in range(1, 9)}\n",
    "    a = deque([])\n",
    "    N = int(input())\n",
    "    for _ in range(N):\n",
    "        order = list(map(int, input().split()))\n",
    "        if len(order) == 2:\n",
    "            n, x = order\n",
    "            num2order[n](a, x)\n",
    "        else:\n",
    "            n = order[0]\n",
    "            num2order[n](a)\n",
    "\n",
    "solution()\n",
    "\n",
    "# input\n",
    "# 11\n",
    "# 6\n",
    "# 1 3\n",
    "# 1 8\n",
    "# 7\n",
    "# 8\n",
    "# 3\n",
    "# 2 5\n",
    "# 1 2\n",
    "# 5\n",
    "# 4\n",
    "# 4"
   ]
  },
  {
   "cell_type": "markdown",
   "id": "85e25398-b93a-45ea-ab57-6c5fabbc776d",
   "metadata": {},
   "source": [
    "## 최솟값 찾기\n",
    "\n",
    "- 문제 출처: [백준 11003번](https://www.acmicpc.net/problem/11003)"
   ]
  },
  {
   "cell_type": "code",
   "execution_count": 4,
   "id": "d462dfc2-fab4-473e-8cfd-f1323e864c54",
   "metadata": {},
   "outputs": [],
   "source": [
    "# 최솟값의 후보를 덱에 저장하여 범위 내 최솟값을 빠르게 찾는 문제\n",
    "# N개의 수 A_1, ..., A_N과 L이 주어진다\n",
    "# D_i = A_i-L+1 ~ A_i 중의 최솟값, i <= 0인 A_i는 무시\n",
    "# 배열 D를 출력 (D_i부터 D_N까지)\n",
    "# D_1부터 D_N까지 만들어지는 상황을 생각해보자\n",
    "# A_i 이후에 A_i+a가 들어오는데 이게 더 작다고 해보자\n",
    "# 그럼 A_i는 아예 쓸모 없다\n",
    "# 배열 A가 있고 L 길이의 구간만큼 확인하고 이를 한 칸씩 오른쪽으로 움직이며 반복한다\n",
    "# 즉, 새로운 값이 들어오고 기존의 가장 왼쪽 인덱스 값은 사라진다\n",
    "# 다르게 말하자면 A_i가 A_i+a보다 먼저 사라지므로 A_i가 D_j가 될 수 없다\n",
    "# A_i+a 이후에 A_i+b가 들어왔다고 해보자, 근데 얘가 더 크다\n",
    "# 그래도 최솟값 후보가 될 수 있다\n",
    "# 왜냐하면 A_i+b보다 A_i+a가 먼저 사라지니 이게 없는 구간에선 A_i+b가 최솟값일 수 있기 때문이다\n",
    "# D를 알기 위해선 새롭게 고려되는 원소들을 모두 알고 있어야 한다\n",
    "# 일단 i - L + 1이 1이 될 땐까진 추가만 한다\n",
    "# 즉, i = L이 될 때까진 추가만 한다\n",
    "# L + 1번째 원소를 추가할 땐 이제 L + 1 - L번째 원소를 삭제해야 한다\n",
    "# 근데 이제 최솟값이 갱신되면 삭제는 해야 한다\n",
    "# 일단 첫번째 원소는 넣는다, 그리고 D_1 = A_1이 된다\n",
    "# A_2가 더 작으면 첫 번째 원소 pop하고 앞에 삽입한다\n",
    "# 그게 아니라면 뒤에 추가한다\n",
    "# 그리고 첫 번째 원소가 최솟값이니 출력한다\n",
    "# 근데 이제 원소를 추가할 때 단순히 값만 넣는게 아니라 인덱스도 같이 넣어야 한다\n",
    "# 그래야 L 구간에 포함되지 않는 때가 도래했을 때 pop할 수 있다\n",
    "# 첫 번째 원소가 L구간에 포함되지 않으면 pop한다\n",
    "# 이걸 첫 번째 원소가 L 구간에 포함되거나 빈 deque이 될 때까지 반복한다\n",
    "# 그리고 비어있으면 해당 차례의 A 원소 추가한다\n",
    "# 아니라면 위의 스탭을 밟는다\n",
    "# 그리고 첫 번째 원소 출력한다\n",
    "# 시간복잡도는 O(N)이다\n",
    "# 생각해보니까 최솟값 갱신은 쉬운데 최솟값 아닌 값을 추가하는 건 좀 더 고려해야 한다\n",
    "# 예를 들어 배열이 [10, 15]라고 하자\n",
    "# 이번 차례의 A 값은 13이다\n",
    "# 그럼 단순히 [10, 15, 13]을 하면 안된다, 13은 15보다 작다\n",
    "# 잘 생각해보면 13이 새롭게 고려된 순간 15는 D가 될 수 없다\n",
    "# 따라서 pop 해야 한다\n",
    "# 즉, 배열에 마지막 원소에 대해 새롭게 고려되는 원소보다 크거나 같으면 버린다\n",
    "# 애초에 고려를 마지막 원소부터 하면 된다\n",
    "# 새롭게 고려되는게 최솟값이면 모든 원소가 제거될 것이다\n",
    "# 제거했으면 오른쪽에 추가하면 된다\n"
   ]
  },
  {
   "cell_type": "code",
   "execution_count": 3,
   "id": "651ffd00-48a2-4a37-bffd-836a1bf03243",
   "metadata": {},
   "outputs": [
    {
     "name": "stdin",
     "output_type": "stream",
     "text": [
      " 12 3\n",
      " 1 5 2 3 6 2 3 7 3 5 2 6\n"
     ]
    },
    {
     "name": "stdout",
     "output_type": "stream",
     "text": [
      "1 1 1 2 2 2 2 2 3 3 2 2\n"
     ]
    }
   ],
   "source": [
    "from collections import deque\n",
    "\n",
    "\n",
    "def solution():\n",
    "    N, L = map(int, input().split())\n",
    "    A = list(map(int, input().split()))\n",
    "    min_array = deque([])\n",
    "    answer = []\n",
    "    for i, a in enumerate(A, start=1):\n",
    "        while min_array and min_array[0][1] <= i - L:\n",
    "            min_array.popleft()\n",
    "        while min_array and min_array[-1][0] >= a:\n",
    "            min_array.pop()\n",
    "        min_array.append((a, i))\n",
    "        answer.append(min_array[0][0])\n",
    "    print(*answer)\n",
    "\n",
    "\n",
    "solution()\n",
    "\n",
    "# input\n",
    "# 12 3\n",
    "# 1 5 2 3 6 2 3 7 3 5 2 6"
   ]
  },
  {
   "cell_type": "code",
   "execution_count": null,
   "id": "266bc386-68c8-4153-b8fb-36b282dbe157",
   "metadata": {},
   "outputs": [],
   "source": []
  }
 ],
 "metadata": {
  "kernelspec": {
   "display_name": "Python 3 (ipykernel)",
   "language": "python",
   "name": "python3"
  },
  "language_info": {
   "codemirror_mode": {
    "name": "ipython",
    "version": 3
   },
   "file_extension": ".py",
   "mimetype": "text/x-python",
   "name": "python",
   "nbconvert_exporter": "python",
   "pygments_lexer": "ipython3",
   "version": "3.8.11"
  }
 },
 "nbformat": 4,
 "nbformat_minor": 5
}
