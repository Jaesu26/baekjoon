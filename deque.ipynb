{
 "cells": [
  {
   "cell_type": "markdown",
   "id": "c80324d9-4fe3-4743-8737-54dec477d972",
   "metadata": {},
   "source": [
    "# 덱 (Deque)"
   ]
  },
  {
   "cell_type": "markdown",
   "id": "ead832d4-0090-4216-b9e5-ed06896e0811",
   "metadata": {},
   "source": [
    "## 덱\n",
    "- 문제 출처: [백준 10866번](https://www.acmicpc.net/problem/10866)"
   ]
  },
  {
   "cell_type": "markdown",
   "id": "452cbaeb-391e-4a1d-9f99-f41fd646994a",
   "metadata": {},
   "source": [
    "`-` 덱은 스택과 큐를 합친 구조 ---> 양쪽으로 넣고(append) 빼기(pop) $O(1)$에 가능함"
   ]
  },
  {
   "cell_type": "code",
   "execution_count": 6,
   "id": "a9d66559-f916-40ca-90fc-c0bf345d8a71",
   "metadata": {},
   "outputs": [
    {
     "name": "stdin",
     "output_type": "stream",
     "text": [
      " 15\n",
      " push_back 1\n",
      " push_front 2\n",
      " front\n"
     ]
    },
    {
     "name": "stdout",
     "output_type": "stream",
     "text": [
      "2\n"
     ]
    },
    {
     "name": "stdin",
     "output_type": "stream",
     "text": [
      " back\n"
     ]
    },
    {
     "name": "stdout",
     "output_type": "stream",
     "text": [
      "1\n"
     ]
    },
    {
     "name": "stdin",
     "output_type": "stream",
     "text": [
      " size\n"
     ]
    },
    {
     "name": "stdout",
     "output_type": "stream",
     "text": [
      "2\n"
     ]
    },
    {
     "name": "stdin",
     "output_type": "stream",
     "text": [
      " empty\n"
     ]
    },
    {
     "name": "stdout",
     "output_type": "stream",
     "text": [
      "0\n"
     ]
    },
    {
     "name": "stdin",
     "output_type": "stream",
     "text": [
      " pop_front\n"
     ]
    },
    {
     "name": "stdout",
     "output_type": "stream",
     "text": [
      "2\n"
     ]
    },
    {
     "name": "stdin",
     "output_type": "stream",
     "text": [
      " pop_back\n"
     ]
    },
    {
     "name": "stdout",
     "output_type": "stream",
     "text": [
      "1\n"
     ]
    },
    {
     "name": "stdin",
     "output_type": "stream",
     "text": [
      " pop_front\n"
     ]
    },
    {
     "name": "stdout",
     "output_type": "stream",
     "text": [
      "-1\n"
     ]
    },
    {
     "name": "stdin",
     "output_type": "stream",
     "text": [
      " size\n"
     ]
    },
    {
     "name": "stdout",
     "output_type": "stream",
     "text": [
      "0\n"
     ]
    },
    {
     "name": "stdin",
     "output_type": "stream",
     "text": [
      " empty\n"
     ]
    },
    {
     "name": "stdout",
     "output_type": "stream",
     "text": [
      "1\n"
     ]
    },
    {
     "name": "stdin",
     "output_type": "stream",
     "text": [
      " pop_back\n"
     ]
    },
    {
     "name": "stdout",
     "output_type": "stream",
     "text": [
      "-1\n"
     ]
    },
    {
     "name": "stdin",
     "output_type": "stream",
     "text": [
      " push_front 3\n",
      " empty\n"
     ]
    },
    {
     "name": "stdout",
     "output_type": "stream",
     "text": [
      "0\n"
     ]
    },
    {
     "name": "stdin",
     "output_type": "stream",
     "text": [
      " front\n"
     ]
    },
    {
     "name": "stdout",
     "output_type": "stream",
     "text": [
      "3\n"
     ]
    }
   ],
   "source": [
    "from collections import deque\n",
    "\n",
    "N = int(input())\n",
    "deque = deque()\n",
    "for _ in range(N):\n",
    "    input_ = input()\n",
    "    if input_[:2] == 'pu':\n",
    "        num = int(input_.split()[1])\n",
    "        if input_[5] == 'f':  # push_front와 push_back구별\n",
    "            deque.appendleft(num)\n",
    "        else:\n",
    "            deque.append(num)\n",
    "    elif input_[:2] == 'po':\n",
    "        if input_[4] == 'f':\n",
    "            if deque:\n",
    "                print(deque.popleft())\n",
    "            else:\n",
    "                print(-1)\n",
    "        else:\n",
    "            if deque:\n",
    "                print(deque.pop())\n",
    "            else:\n",
    "                print(-1)\n",
    "    elif input_[:2] == 'si':\n",
    "        print(len(deque))\n",
    "    elif input_[:2] == 'em':\n",
    "        if deque:\n",
    "            print(0)\n",
    "        else:\n",
    "            print(1)\n",
    "    elif input_[:2] == 'fr':\n",
    "        if deque:\n",
    "            print(deque[0])\n",
    "        else:\n",
    "            print(-1)\n",
    "    elif input_[:2] == 'ba':\n",
    "        if deque:\n",
    "            print(deque[-1])\n",
    "        else:\n",
    "            print(-1)\n",
    "            \n",
    "# input\n",
    "# 15\n",
    "# push_back 1\n",
    "# push_front 2\n",
    "# front\n",
    "# back\n",
    "# size\n",
    "# empty\n",
    "# pop_front\n",
    "# pop_back\n",
    "# pop_front\n",
    "# size\n",
    "# empty\n",
    "# pop_back\n",
    "# push_front 3\n",
    "# empty\n",
    "# front"
   ]
  },
  {
   "cell_type": "markdown",
   "id": "f52ce2bc-bb6a-46c4-8241-feba44445fb5",
   "metadata": {},
   "source": [
    "## 회전하는 큐\n",
    "- 문제 출처: [백준 1021번](https://www.acmicpc.net/problem/1021)"
   ]
  },
  {
   "cell_type": "markdown",
   "id": "f2c66aa7-f275-4651-bd9f-50fe4a9a1546",
   "metadata": {},
   "source": [
    "`-` 오랜만에 풀어서 머리가 굳었음\n",
    "\n",
    "`-` 일단 내 생각은 $x[0]$의 원소가 deque의 왼쪽 입구와 가까운지 오른쪽 입구와 가까운지 판단하는 것\n",
    "\n",
    "`-` 가까운 쪽으로 $x[0]$을 보내고 $\\operatorname{deque}[0]$을 pop하면 된다\n",
    "\n",
    "`-` 참고로 오른쪽 입구 끝으로 간 다음에 한번더 오른쪽으로 한칸씩 이동시켜야 첫번째에 도달한다 (오른쪽끝까지 가는 거리 + 1)\n",
    "\n",
    "`-` $x[0]$의 원소를 pop하면 새로운 $x[0]$를 위와 같이 pop하자 "
   ]
  },
  {
   "cell_type": "code",
   "execution_count": 25,
   "id": "cb9224f5-5972-41b3-886b-3f973e437d97",
   "metadata": {},
   "outputs": [
    {
     "name": "stdin",
     "output_type": "stream",
     "text": [
      " 10 10\n",
      " 1 6 3 2 7 9 8 4 10 5\n"
     ]
    },
    {
     "name": "stdout",
     "output_type": "stream",
     "text": [
      "14\n"
     ]
    }
   ],
   "source": [
    "from collections import deque\n",
    "\n",
    "N, M = map(int, input().split())\n",
    "x = deque(list(map(int, input().split())))\n",
    "deque = deque(list(range(1, N + 1)))\n",
    "min_ = 0\n",
    "while x:\n",
    "    n = len(deque)\n",
    "    mid = n // 2\n",
    "    loc = deque.index(x[0])\n",
    "    if loc > mid:\n",
    "        while deque[0] != x[0]:\n",
    "            deque.appendleft(deque.pop())\n",
    "            min_ += 1\n",
    "    else:\n",
    "        while deque[0] != x[0]:\n",
    "            deque.append(deque.popleft())\n",
    "            min_ += 1\n",
    "    deque.popleft()\n",
    "    x.popleft()\n",
    "print(min_)\n",
    "\n",
    "# input\n",
    "# 10 10\n",
    "# 1 6 3 2 7 9 8 4 10 5"
   ]
  },
  {
   "cell_type": "markdown",
   "id": "7c93422c-1b50-4b27-a207-fcc2c04b2c93",
   "metadata": {
    "tags": []
   },
   "source": [
    "## AC \n",
    "- 문제 출처: [백준 5430번](https://www.acmicpc.net/problem/5430)"
   ]
  },
  {
   "cell_type": "markdown",
   "id": "bfde9bb3-fcfd-4af5-ab34-28eb96ce26ad",
   "metadata": {},
   "source": [
    "`-` 그냥 하면 된다\n",
    "\n",
    "`-` 풀고나서 다른 정답봤는데 RR은 어차피 의미가 없으니 그냥 없앴음 (매우 좋은 생각)\n",
    "\n",
    "```python\n",
    "List.replace('RR', '')\n",
    "````\n",
    "\n",
    "`-` 나는 생각이 안나서 그냥 했다\n",
    "\n",
    "`-` R이면 그냥 popleft 대신에 pop을 수행했음"
   ]
  },
  {
   "cell_type": "code",
   "execution_count": 70,
   "id": "87181e18-594e-4386-b412-ff49635b49c6",
   "metadata": {},
   "outputs": [
    {
     "name": "stdin",
     "output_type": "stream",
     "text": [
      " 1\n",
      " RRD\n",
      " 6\n",
      " [1,1,2,3,5,8]\n"
     ]
    },
    {
     "name": "stdout",
     "output_type": "stream",
     "text": [
      "[1,2,3,5,8]\n"
     ]
    }
   ],
   "source": [
    "from collections import deque\n",
    "\n",
    "T = int(input())\n",
    "for _ in range(T):\n",
    "    funcs = input()\n",
    "    n = int(input())\n",
    "    nums = input()\n",
    "    if n == 0:\n",
    "        nums = deque()\n",
    "    else:\n",
    "        nums = deque(list(map(int, nums[1:-1].split(','))))\n",
    "    z = 'True'\n",
    "    c = 0\n",
    "    for i in range(len(funcs)):\n",
    "        if funcs[i] == 'R':\n",
    "            c += 1\n",
    "        elif funcs[i] == 'D' and nums:\n",
    "            if c % 2 == 0:\n",
    "                nums.popleft()\n",
    "            else:\n",
    "                nums.pop()\n",
    "        else:\n",
    "            z = 'error'\n",
    "    nums2 = []\n",
    "    if c % 2 == 1:\n",
    "        for j in range(len(nums)):\n",
    "            nums2.append(nums.pop())\n",
    "    else:\n",
    "        nums2 = list(nums.copy()) \n",
    "    nums2 = list(map(str, nums2))\n",
    "    nums2 = '[' + ','.join(nums2) + ']'\n",
    "    if z == 'True':\n",
    "        print(nums2)\n",
    "    else:\n",
    "        print(z)\n",
    "\n",
    "# input\n",
    "# 1\n",
    "# RRD\n",
    "# 6\n",
    "# [1,1,2,3,5,8]"
   ]
  },
  {
   "cell_type": "markdown",
   "id": "2f63d8a0-0352-4109-a61a-3e086efe92b6",
   "metadata": {},
   "source": [
    "## 풍선 터뜨리기\n",
    "\n",
    "- 문제 출처: [백준 2346번](https://www.acmicpc.net/problem/2346)"
   ]
  },
  {
   "cell_type": "markdown",
   "id": "13195c01-9cc1-470a-abd7-dcf2400e24ca",
   "metadata": {},
   "source": [
    "`-` 풍선은 원형으로 배치되어 있어 단순한 배열로는 원형 배치를 나타낼 수 없다\n",
    "\n",
    "`-` 풍선은 회전시켜도 순서가 유지되는데 이를 위해 배열에서 첫 번째 원소가 마지막 원소의 오른쪽에 존재한다고 생각하자\n",
    "\n",
    "`-` 풍선을 터뜨린다는 것은 원소를 pop 한다는 것인데 pop을 하는 과정에서 순회하는 원소를 방향에 따라 왼쪽 또는 오른쪽에 pop하고 append하면 된다"
   ]
  },
  {
   "cell_type": "code",
   "execution_count": 12,
   "id": "585dd572-11ae-41a1-abe4-14914aa3f32a",
   "metadata": {},
   "outputs": [
    {
     "name": "stdin",
     "output_type": "stream",
     "text": [
      " 5\n",
      " 3 2 1 -3 -1\n"
     ]
    },
    {
     "name": "stdout",
     "output_type": "stream",
     "text": [
      "1 4 5 3 2\n"
     ]
    }
   ],
   "source": [
    "from collections import deque\n",
    "\n",
    "N = int(input())\n",
    "values = deque(map(int, input().split()))  # 풍선 안에 들어있는 종이\n",
    "ballons = deque(range(1, N + 1))  # 풍선 번호\n",
    "order = []\n",
    "while True:\n",
    "    ballon = ballons.popleft()  # 터뜨릴 풍선을 첫 번째 원소에 위치하도록 유지할 것임 (시작은 1번 풍선)\n",
    "    value = values.popleft()\n",
    "    order.append(ballon)\n",
    "    if len(order) == N:  # 종료 조건\n",
    "        break\n",
    "    if value > 0:  # 오른쪽으로 순회\n",
    "        for _ in range(value - 1):\n",
    "            v = values.popleft()\n",
    "            values.append(v)\n",
    "            ballon = ballons.popleft()\n",
    "            ballons.append(ballon)\n",
    "    else:  # 왼쪽으로 순회\n",
    "        value = -value\n",
    "        for _ in range(value):\n",
    "            v = values.pop()\n",
    "            values.appendleft(v)\n",
    "            ballon = ballons.pop()\n",
    "            ballons.appendleft(ballon)\n",
    "print(*order)\n",
    "\n",
    "# input\n",
    "# 5\n",
    "# 3 2 1 -3 -1"
   ]
  },
  {
   "cell_type": "markdown",
   "id": "19e07caf-189a-4097-87e9-3ef5903d5efe",
   "metadata": {},
   "source": [
    "## 덱 2\n",
    "\n",
    "- 문제 출처: [백준 28279번](https://www.acmicpc.net/problem/28279)"
   ]
  },
  {
   "cell_type": "code",
   "execution_count": 5,
   "id": "023d6b5e-b2bd-4fb5-bd02-b2fb3c25b253",
   "metadata": {},
   "outputs": [
    {
     "name": "stdin",
     "output_type": "stream",
     "text": [
      " 11\n",
      " 6\n"
     ]
    },
    {
     "name": "stdout",
     "output_type": "stream",
     "text": [
      "1\n"
     ]
    },
    {
     "name": "stdin",
     "output_type": "stream",
     "text": [
      " 1 3\n",
      " 1 8\n",
      " 7\n"
     ]
    },
    {
     "name": "stdout",
     "output_type": "stream",
     "text": [
      "8\n"
     ]
    },
    {
     "name": "stdin",
     "output_type": "stream",
     "text": [
      " 8\n"
     ]
    },
    {
     "name": "stdout",
     "output_type": "stream",
     "text": [
      "3\n"
     ]
    },
    {
     "name": "stdin",
     "output_type": "stream",
     "text": [
      " 3\n"
     ]
    },
    {
     "name": "stdout",
     "output_type": "stream",
     "text": [
      "8\n"
     ]
    },
    {
     "name": "stdin",
     "output_type": "stream",
     "text": [
      " 2 5\n",
      " 1 2\n",
      " 5\n"
     ]
    },
    {
     "name": "stdout",
     "output_type": "stream",
     "text": [
      "3\n"
     ]
    },
    {
     "name": "stdin",
     "output_type": "stream",
     "text": [
      " 4\n"
     ]
    },
    {
     "name": "stdout",
     "output_type": "stream",
     "text": [
      "5\n"
     ]
    },
    {
     "name": "stdin",
     "output_type": "stream",
     "text": [
      " 4\n"
     ]
    },
    {
     "name": "stdout",
     "output_type": "stream",
     "text": [
      "3\n"
     ]
    }
   ],
   "source": [
    "from collections import deque\n",
    "\n",
    "\n",
    "def order1(a, x):\n",
    "    a.appendleft(x)\n",
    "\n",
    "\n",
    "def order2(a, x):\n",
    "    a.append(x)\n",
    "\n",
    "\n",
    "def order3(a):\n",
    "    if not a:\n",
    "        print(-1)\n",
    "        return\n",
    "    print(a.popleft())\n",
    "\n",
    "\n",
    "def order4(a):\n",
    "    if not a:\n",
    "        print(-1)\n",
    "        return\n",
    "    print(a.pop())\n",
    "\n",
    "\n",
    "def order5(a):\n",
    "    print(len(a))\n",
    "\n",
    "\n",
    "def order6(a):\n",
    "    if a:\n",
    "        print(0)\n",
    "    else:\n",
    "        print(1)\n",
    "\n",
    "\n",
    "def order7(a):\n",
    "    if not a:\n",
    "        print(-1)\n",
    "        return\n",
    "    print(a[0])\n",
    "\n",
    "\n",
    "def order8(a):\n",
    "    if not a:\n",
    "        print(-1)\n",
    "        return\n",
    "    print(a[-1])\n",
    "\n",
    "\n",
    "def solution():\n",
    "    num2order = {n: eval(f\"order{n}\") for n in range(1, 9)}\n",
    "    a = deque([])\n",
    "    N = int(input())\n",
    "    for _ in range(N):\n",
    "        order = list(map(int, input().split()))\n",
    "        if len(order) == 2:\n",
    "            n, x = order\n",
    "            num2order[n](a, x)\n",
    "        else:\n",
    "            n = order[0]\n",
    "            num2order[n](a)\n",
    "\n",
    "solution()\n",
    "\n",
    "# input\n",
    "# 11\n",
    "# 6\n",
    "# 1 3\n",
    "# 1 8\n",
    "# 7\n",
    "# 8\n",
    "# 3\n",
    "# 2 5\n",
    "# 1 2\n",
    "# 5\n",
    "# 4\n",
    "# 4"
   ]
  },
  {
   "cell_type": "markdown",
   "id": "85e25398-b93a-45ea-ab57-6c5fabbc776d",
   "metadata": {},
   "source": [
    "## 최솟값 찾기\n",
    "\n",
    "- 문제 출처: [백준 11003번](https://www.acmicpc.net/problem/11003)"
   ]
  },
  {
   "cell_type": "markdown",
   "id": "944f5f7b-b7b2-403e-b5a6-32dc93d0ad30",
   "metadata": {},
   "source": [
    "`-` 최솟값의 후보를 덱에 저장하여 범위 내 최솟값을 빠르게 찾는 문제이다\n",
    "\n",
    "`-` $N$개의 수 $A_1, \\cdots, A_N$과 $L$이 주어진다\n",
    "\n",
    "`-` $D_i = A_{i-L+1} \\sim A_i$ 중에 최솟값, $i \\le 0$인 $A_i$는 무시\n",
    "\n",
    "`-` 배열 $D$를 출력하면 된다 ($D_1$부터 $D_N$까지)\n",
    "\n",
    "`-` 구간 최솟값을 관리해보자\n",
    "\n",
    "`-` $A_i$ 이후에 $A_{i+a}$가 들어오는데 이게 더 작다고 해보자\n",
    "\n",
    "`-` 그럼 $A_i$는 아예 쓸모 없다\n",
    "\n",
    "`-` 배열 $A$가 있고 $L$ 길이의 구간만큼 확인하고 이를 한 칸씩 오른쪽으로 움직이며 최솟값 계산을 반복한다\n",
    "\n",
    "`-` 즉, 새로운 값이 들어오고 기존의 가장 왼쪽 인덱스 값은 사라진다\n",
    "\n",
    "`-` 다르게 말하자면 $A_i$가 $A_{i+a}$보다 먼저 사라지므로 $A_i$가 임의의 $D_j$가 될 수 없다\n",
    "\n",
    "`-` $A_{i+a}$ 이후에 $A_{i+b}$가 들어왔다고 해보자, 근데 $A_{i+b}$가 더 크다\n",
    "\n",
    "`-` 그래도 $A_{i+b}$는 최솟값 후보가 될 수 있다\n",
    "\n",
    "`-` 왜냐하면 $A_{i+b}$보다 $A_{i+a}$가 먼저 사라지니 $A_{i+a}$가 없는 구간에선 $A_{i+b}$가 최솟값일 수 있기 때문이다\n",
    "\n",
    "`-` $D$를 알기 위해선 새롭게 고려되는 원소들을 모두 알고 있어야 한다\n",
    "\n",
    "`-` 최솟값을 고려하고 있는 후보군을 배열로 관리하자\n",
    "\n",
    "`-` 일단 $i - L + 1$이 $1$이 될 땐까진 추가만 해보자\n",
    "\n",
    "`-` 즉, $i = L$이 될 때까진 추가만 했다고 해보자\n",
    "\n",
    "`-` $L + k$번째 원소를 추가할 땐 이제 $L + k - L$번째 원소를 삭제해야 한다\n",
    "\n",
    "`-` 또한 추가하는 원소보다 작은 원소는 모두 삭제해야 한다 (최솟값 후보가 될 수 없다)\n",
    "\n",
    "`-` 배열에 원소를 추가할 때 인덱스를 알아야 구간에 벗어나는 원소를 제거할 수 있으니 값과 인덱스 쌍으로 관리해야 한다\n",
    "\n",
    "`-` 최솟값을 배열의 맨 앞에 위치시킬 것이다\n",
    "\n",
    "`-` 그럼 구간 최솟값 확인을 $O(1)$에 할 수 있다\n",
    "\n",
    "`-` 우리는 구간 최솟값이 궁금한 것이므로 첫 번째 원소의 인덱스가 구간을 벗어나는지 확인하자\n",
    "\n",
    "`-` 즉, 첫 번째 원소의 인덱스가 $i-L+1$과 $i$ 사이에 있는지 확인하는 것이다\n",
    "\n",
    "`-` 아니라면 제거한다\n",
    "\n",
    "`-` 이때 deque을 사용하면 맨 앞 원소 제거를 $O(1)$에 할 수 있다\n",
    "\n",
    "`-` 맨 앞 원소가 구간에 들어올 때까지 반복하자\n",
    "\n",
    "`-` 그리고 새로 들어오는 원소를 맨 뒤에 삽입할 것이다\n",
    "\n",
    "`-` 그런데 얘보다 큰 원소는 구간 최솟값이 될 수 없으니 필요없다\n",
    "\n",
    "`-` 즉, 기존 배열의 맨 뒤 원소가 새로 들여올 원소보다 크면 제거한다\n",
    "\n",
    "`-` deque은 맨 뒤 원소 제거도 $O(1)$에 할 수 있다\n",
    "\n",
    "`-` 이를 새로 들여올 원소보다 더 큰 값이 없을 때까지 반복한다\n",
    "\n",
    "`-` 그럼 매 단계마다 $O(1)$에 최솟값을 확인할 수 있고 각 원소는 한 번씩만 추가되고 제거될 수 있다\n",
    "\n",
    "`-` 따라서 전체 알고리즘의 시간 복잡도는 $O(N)$이다"
   ]
  },
  {
   "cell_type": "code",
   "execution_count": 1,
   "id": "651ffd00-48a2-4a37-bffd-836a1bf03243",
   "metadata": {},
   "outputs": [
    {
     "name": "stdin",
     "output_type": "stream",
     "text": [
      " 12 3\n",
      " 1 5 2 3 6 2 3 7 3 5 2 6\n"
     ]
    },
    {
     "name": "stdout",
     "output_type": "stream",
     "text": [
      "1 1 1 2 2 2 2 2 3 3 2 2\n"
     ]
    }
   ],
   "source": [
    "from collections import deque\n",
    "\n",
    "\n",
    "def solution():\n",
    "    N, L = map(int, input().split())\n",
    "    A = list(map(int, input().split()))\n",
    "    FIRST = 0\n",
    "    LAST = -1\n",
    "    VALUE = 0\n",
    "    INDEX = 1\n",
    "    min_candidates = deque([])\n",
    "    answer = []\n",
    "    for i, a in enumerate(A, start=1):\n",
    "        while min_candidates and min_candidates[FIRST][INDEX] <= i - L:\n",
    "            min_candidates.popleft()\n",
    "        while min_candidates and min_candidates[LAST][VALUE] >= a:\n",
    "            min_candidates.pop()\n",
    "        min_candidates.append((a, i))\n",
    "        answer.append(min_candidates[FIRST][VALUE])\n",
    "    print(*answer)\n",
    "\n",
    "\n",
    "solution()\n",
    "\n",
    "# input\n",
    "# 12 3\n",
    "# 1 5 2 3 6 2 3 7 3 5 2 6"
   ]
  },
  {
   "cell_type": "markdown",
   "id": "d5313823-6e2d-4710-8411-8bff4d1c09ce",
   "metadata": {},
   "source": [
    "## 연세워터파크\n",
    "\n",
    "- 문제 출처: [백준 15678번](https://www.acmicpc.net/problem/15678)"
   ]
  },
  {
   "cell_type": "markdown",
   "id": "b6b9c3fe-dafa-42f1-830d-e8ed1bac72f1",
   "metadata": {},
   "source": [
    "`-` 덱을 이용해서 동적 계획법을 최적화하는 문제\n",
    "\n",
    "`-` 풀기까지 삽질을 많이 해서 간략히 정리하면 다음과 같다\n",
    "\n",
    "`-` 최대 점수는 모든 양수 징검다리를 밟아서 얻을 수 있다\n",
    "\n",
    "`-` 즉, 음수 징검다리를 밟는 이유는 지금은 손해일지라도 양수 징검다리를 밟기 위해서다\n",
    "\n",
    "`-` 하나의 양수 징검다리에서 다음 양수 징검다리로 가는 최단 경로를 추가한다\n",
    "\n",
    "`-` 양수 징검다리와 최단 경로가 포함된 배열을 고려하고 해당 배열에서 최대 연속합을 계산하면 된다\n",
    "\n",
    "`-` 최대 연속합 계산은 [연속합](https://www.acmicpc.net/problem/1912) 문제를 풀었다면 할 수 있다\n",
    "\n",
    "`-` 하지만 계속 $31\\%$에서 틀렸고 질문검색도 봤다\n",
    "\n",
    "`-` 질문검색에 c++로 작성한 오답 코드가 있었는데 길이가 짧아서 내 방식이 아닌 것 같았다\n",
    "\n",
    "`-` 여기까지가 삽질이고 이제 제대로 풀어보자\n",
    "\n",
    "`-` 일단 동적 계획법을 적용해보자\n",
    "\n",
    "`-` 점수의 최댓값을 구해야 한다\n",
    "\n",
    "`-` $\\operatorname{dp}[x]$를 $x$번째 징검다리를 마지막으로 할 때 점수의 최댓값이라 하자\n",
    "\n",
    "`-` $n_x$를 $x$번째 징검다리에 적힌 정수라고 하자 (밟으면 점수 획득)\n",
    "\n",
    "`-` 한 번에 $D$칸 씩 움직일 수 있으므로 $\\operatorname{dp}[x] = \\max(n_x, n_x + \\max(\\operatorname{dp}[x - 1], \\cdots, \\operatorname{dp}[x - D]))$\n",
    "\n",
    "`-` 초깃값은 $\\operatorname{dp}[1] = n_1$\n",
    "\n",
    "`-` [연속합](https://www.acmicpc.net/problem/1912) 문제에서 사용한 알고리즘과 유사하다\n",
    "\n",
    "`-` 차이점은 여기선 구간을 고려해야 된다는 것이다\n",
    "\n",
    "`-` 단순히 이전 $D$개의 $\\operatorname{dp}$ 원소에서 최댓값을 구하면 시간 복잡도가 $O(D)$이고 이걸 $N$번 반복해야 돼서 $O(ND)$이다\n",
    "\n",
    "`-` $D \\le N$이므로 $O\\left(N^2\\right)$인데 이러면 시간 초과를 면하지 못한다\n",
    "\n",
    "`-` 구간 최댓값을 계산할 때 [최솟값 찾기](https://www.acmicpc.net/problem/11003)에서 사용한 테크틱을 활용하자\n",
    "\n",
    "`-` 참고로 최댓값이 구간에서 벗어났는지 확인은 매 단계에서 한 번씩만 해도 된다\n",
    "\n",
    "`-` 현재 단계에서 최댓값이 구간에서 벗어나서 삭제하는 작업을 $2$번 했다고 해보자\n",
    "\n",
    "`-` 두 번째로 삭제된 원소는 처음 삭제된 원소보다 작아야 한다 (아니라면 처음 삭제된 원소는 두 번째로 삭제된 원소가 추가될 때 제거됐다)\n",
    "\n",
    "`-` 근데 그렇다면 첫 번째로 삭제된 원소는 이전 단계에서 삭제됐어야 한다\n",
    "\n",
    "`-` 그러므로 최댓값이 구간에서 벗어났는지 확인은 매 단계에서 한 번씩만 해도 된다\n",
    "\n",
    "`-` 그럼 구간 최댓값 계산 및 관리를 $O(1)$에 할 수 있고 이를 $N$번 반복하니 전체 알고리즘의 시간 복잡도는 $O(N)$이다\n",
    "\n",
    "`-` 게임을 언제든 끝낼 수 있으니 $\\max(\\operatorname{dp})$가 정답이 된다"
   ]
  },
  {
   "cell_type": "code",
   "execution_count": 3,
   "id": "266bc386-68c8-4153-b8fb-36b282dbe157",
   "metadata": {},
   "outputs": [
    {
     "name": "stdin",
     "output_type": "stream",
     "text": [
      " 10 2\n",
      " 2 7 -5 -4 10 -5 -5 -5 30 -10\n"
     ]
    },
    {
     "name": "stdout",
     "output_type": "stream",
     "text": [
      "40\n"
     ]
    }
   ],
   "source": [
    "from collections import deque\n",
    "\n",
    "\n",
    "def max_subarray_sum(array):\n",
    "    max_ = array[0]\n",
    "    max_candidates = deque([(array[0], 0)])\n",
    "    for i, a in enumerate(array[1:], start=1):\n",
    "        if max_candidates[FIRST][INDEX] < i - D:\n",
    "            max_candidates.popleft()\n",
    "        dp_value = max(a, a + max_candidates[FIRST][VALUE])\n",
    "        while max_candidates and max_candidates[LAST][VALUE] <= dp_value:\n",
    "            max_candidates.pop()\n",
    "        max_candidates.append((dp_value, i))\n",
    "        max_ = max(dp_value, max_)\n",
    "    return max_\n",
    "\n",
    "\n",
    "def solution():\n",
    "    global D, INF, FIRST, LAST, VALUE, INDEX\n",
    "    N, D = map(int, input().split())\n",
    "    array = list(map(int, input().split()))\n",
    "    INF = float(\"inf\")\n",
    "    FIRST = 0\n",
    "    LAST = -1\n",
    "    VALUE = 0\n",
    "    INDEX = 1\n",
    "    answer = max_subarray_sum(array)\n",
    "    print(answer)\n",
    "\n",
    "\n",
    "solution()\n",
    "\n",
    "# input\n",
    "# 10 2\n",
    "# 2 7 -5 -4 10 -5 -5 -5 30 -10"
   ]
  },
  {
   "cell_type": "markdown",
   "id": "0e53d7b8-0fc0-4a45-888a-44d6d2a8ce51",
   "metadata": {},
   "source": [
    "## Mowing the Lawn\n",
    "\n",
    "- 문제 출처: [백준 5977번](https://www.acmicpc.net/problem/5977)"
   ]
  },
  {
   "cell_type": "markdown",
   "id": "6287c853-302c-4ef7-a619-2925daa6f744",
   "metadata": {},
   "source": [
    "`-` 연속해서 최대 $K$마리를 선택할 수 있고 얻을 수 있는 효율성을 최대로 늘려야 한다\n",
    "\n",
    "`-` $\\operatorname{dp}[x][q]$를 $x$번째 소를 포함해서 $q$마리의 소가 연속됐을 때 $1$번째 소부터 $x$번째 소까지 가진 효율성 합의 최댓값이라고 하자\n",
    "\n",
    "`-` $q$는 $0\\sim k$이다\n",
    "\n",
    "`-` 그럼 $\\operatorname{dp}[x + 1][0] = \\max(\\operatorname{dp}[x][0],\\ldots ,\\operatorname{dp}[x][K])$\n",
    "\n",
    "`-` $\\operatorname{dp}[x + 1][q] = v[x + 1] + \\operatorname{dp}[x][q - 1],\\quad 1 \\le q \\le K$\n",
    "\n",
    "`-` 근데 위와 같이 하면 $\\operatorname{dp}[x + 1]$의 모든 상태를 결정하는 것이 $O(K)$의 시간 복잡도를 가진다\n",
    "\n",
    "`-` 그리고 $x$의 상태는 $N$개이므로 시간 복잡도는 $O\\left(N^2\\right)$이다 ($K \\le  N$)\n",
    "\n",
    "`-` $N$은 최대 $100000$이므로 시간 초과이다\n",
    "\n",
    "`-` $\\operatorname{dp}[x]$에서 $\\operatorname{dp}[x + 1]$을 만드는 과정을 생각해보자\n",
    "\n",
    "`-` $\\operatorname{dp}[x] = (e_0, e_1, \\ldots, e_K)$라고 하자\n",
    "\n",
    "`-` 그럼 $\\operatorname{dp}[x + 1] = \\left(\\max(\\operatorname{dp}[x]), e_0 + v[x + 1], e_1 + v[x + 1], \\dots, e_{K-1} + v[x + 1]\\right)$이다\n",
    "\n",
    "`-` $\\operatorname{dp}[x]$에서 $e_K$는 더 이상 연속해서 원소를 추가할 수 없으므로 버려진다\n",
    "\n",
    "`-` 버리기 전 $e_K$로 $\\operatorname{dp}[x + 1][0]$을 갱신할 수 있으면 갱신한다\n",
    "\n",
    "`-` 이제 $\\operatorname{dp}[x + 1]$을 보자\n",
    "\n",
    "`-` 첫 번째 항을 제외하면 이전 $\\operatorname{dp}[x]$에 $v[x + 1]$을 더한 것이 끝이다\n",
    "\n",
    "`-` $v[x + 1]$을 더한 것은 똑같으니 굳이 배열을 순회하며 $v[x + 1]$을 더해줄 필요없이 $\\operatorname{lazy}$ 변수를 만들어 해당 변수에 $v[x + 1]$을 더해주자\n",
    "\n",
    "`-` 단, 첫 번째 항은 $v[x + 1]$이 더해지지 않으니 $\\operatorname{lazy}$와 균형을 맞추기 위해 $v[x + 1]$을 차감해야 한다\n",
    "\n",
    "`-` 즉, $\\operatorname{dp}[x]$ 배열에서 마지막 항은 버리고 나머지에서 최댓값을 찾아 $v[x + 1]$을 차감한 후 배열 처음에 삽입한다\n",
    "\n",
    "`-` 그리고 $\\operatorname{lazy}$에 $v[x + 1]$을 더해준다\n",
    "\n",
    "`-` 그럼 $\\operatorname{dp}[x + 1]$ 배열을 만든 것이다\n",
    "\n",
    "`-` 최댓값 찾기를 제외하면 모든 연산의 시간 복잡도는 $O(1)$이다\n",
    "\n",
    "`-` $K$크기의 구간마다 최댓값을 찾기 위해 덱을 이용한 구간 최댓값 트릭을 사용하자\n",
    "\n",
    "`-` 그럼 $O(1)$에 최댓값을 찾을 수 있고 전체 알고리즘의 시간 복잡도는 $O(N)$이 된다\n",
    "\n",
    "`-` 구간 최댓값을 찾기 위해 효율성말고 몇 개가 연속됐는지 나타내는 변수와 함께 튜플로 배열을 관리하자\n",
    "\n",
    "`-` 또한 인덱스(=$x$)도 알아야 한다\n",
    "\n",
    "`-` 최댓값이 튜플의 첫 번째에 위치하도록 할 것이다\n",
    "\n",
    "`-` 그럼 배열의 원소는 (효율성, 연속 개수, 인덱스)와 같이 구성될 것이다\n",
    "\n",
    "`-` 자 이제 원소를 추가하기 전에 현재 인덱스를 $\\operatorname{now}$라 하고 원소 인덱스를 $\\operatorname{prev}$, 연속 개수를 $q$라 하자\n",
    "\n",
    "`-` 배열이 업데이트될 때 $q=0$인 경우(=새롭게 초기화)를 제외하면 모두 이어붙이는 것을 가정했다\n",
    "\n",
    "`-` 즉, $q + \\operatorname{now} - \\operatorname{prev} > K$라면 $K$개를 초과해서 이어붙인 것이다 (현재 원소까지 이어붙인다고 가정한 기준)\n",
    "\n",
    "`-` 이는 불가능하므로 그 때의 효율성에 $\\operatorname{lazy}$를 더한 값을 정답으로 갱신 시도한 후 버린다\n",
    "\n",
    "`-` 근데 버리기 전에 $\\operatorname{dp}[x + 1][0]$을 만드는데 활용하고 버려야 한다\n",
    "\n",
    "`-` $q + \\operatorname{now} - \\operatorname{prev} > K$가 아니라면 원소 인덱스가 $\\operatorname{now}$이고 연속개수가 $q + 1$인 원소가 추가되는 것이다\n",
    "\n",
    "`-` 근데 이는 위에서 탐구했듯이 그냥 $v[x + 1]$을 이어붙여 더한 것이니 굳이 배열에 추가할 필요 없이 $\\operatorname{lazy}$변수만 고려하면 된다\n",
    "\n",
    "`-` 원소 추가는 $q=0$인 경우에만 일어난다\n",
    "\n",
    "`-` 현재 상황에서 연속 조건을 만족하지 않아 불가능한 원소를 제거했으면 $\\operatorname[x + 1][0]$을 추가할 차례이다\n",
    "\n",
    "`-` $\\operatorname{dp}[x+1][0]$은 $\\operatorname{dp}[x][K]$를 제외한 $\\operatorname{dp}[x]$의 최댓값과 같다\n",
    "\n",
    "`-` 인덱스가 $\\operatorname{now}$이고 연속 개수가 $0$이고 효율성이 $\\text{최댓값} - v[x + 1]$인 변수 $\\operatorname{dp}[x+1][0]$가 추가된다\n",
    "\n",
    "`-` 구간 최댓값 트릭에서 최댓값 원소는 배열의 첫 번째에 위치한다\n",
    "\n",
    "`-` 따라서 일단 $\\operatorname{dp}[x+1][0]$를 마지막에 추가할 것인데 자신 앞의 원소의 효율성이 더 작으면 버린다 (연속 개수가 더 많은데 효율성이 적은 원소는 쓸모 없다)\n",
    "\n",
    "`-` 그리고 $\\operatorname{lazy} += v[x + 1]$을 수행한다 \n",
    "\n",
    "`-` 마지막 소까지 끝났으면 $\\text{최댓값} + \\operatorname{lazy}$를 정답으로 갱신 시도하면 된다"
   ]
  },
  {
   "cell_type": "code",
   "execution_count": 2,
   "id": "1c783f22-17c8-401e-8811-cb0d5b460589",
   "metadata": {},
   "outputs": [
    {
     "name": "stdin",
     "output_type": "stream",
     "text": [
      " 5 2\n",
      " 1\n",
      " 2\n",
      " 3\n",
      " 4\n",
      " 5\n"
     ]
    },
    {
     "name": "stdout",
     "output_type": "stream",
     "text": [
      "12\n"
     ]
    }
   ],
   "source": [
    "from collections import deque\n",
    "\n",
    "\n",
    "def mow_lawn():\n",
    "    VALUE = 0\n",
    "    NUM = 1\n",
    "    INDEX = 2\n",
    "    array = deque([(0, 1, 0), (-E[0], 0, 0)])\n",
    "    lazy = E[0]\n",
    "    answer = E[0]\n",
    "    for now, e in enumerate(E[1:], start=1):\n",
    "        max_total_e = array[0][VALUE]\n",
    "        q = array[0][NUM]\n",
    "        prev = array[0][INDEX]\n",
    "        while array and array[-1][VALUE] <= max_total_e - e:\n",
    "            array.pop()\n",
    "        array.append((max_total_e - e, 0, now))\n",
    "        if q + now - prev > K:\n",
    "            answer = max(max_total_e + lazy, answer)\n",
    "            array.popleft()\n",
    "        lazy += e\n",
    "    answer = max(array[0][VALUE] + lazy, answer)\n",
    "    return answer\n",
    "\n",
    "\n",
    "def solution():\n",
    "    global K, E\n",
    "    N, K = map(int, input().split())\n",
    "    E = [int(input()) for _ in range(N)]\n",
    "    E.reverse()\n",
    "    while E and E[-1] == 0:\n",
    "        E.pop()\n",
    "    E.reverse()\n",
    "    if not E:\n",
    "        print(0)\n",
    "        return\n",
    "    answer = mow_lawn()\n",
    "    print(answer)\n",
    "\n",
    "\n",
    "solution()\n",
    "\n",
    "# input\n",
    "# 5 2\n",
    "# 1\n",
    "# 2\n",
    "# 3\n",
    "# 4\n",
    "# 5"
   ]
  },
  {
   "cell_type": "markdown",
   "id": "c28071c2-d0af-494c-8458-a0e51aa76ba3",
   "metadata": {},
   "source": [
    "## 작은 새\n",
    "\n",
    "- 문제 출처: [백준 10129번](https://www.acmicpc.net/problem/10129)"
   ]
  },
  {
   "cell_type": "code",
   "execution_count": 3,
   "id": "c70f3565-7328-4d0b-9dd2-b86b97f31a19",
   "metadata": {},
   "outputs": [
    {
     "name": "stdin",
     "output_type": "stream",
     "text": [
      " 9\n",
      " 4 6 3 6 3 7 2 6 5\n",
      " 2\n",
      " 2\n"
     ]
    },
    {
     "name": "stdout",
     "output_type": "stream",
     "text": [
      "2\n"
     ]
    },
    {
     "name": "stdin",
     "output_type": "stream",
     "text": [
      " 5\n"
     ]
    },
    {
     "name": "stdout",
     "output_type": "stream",
     "text": [
      "1\n"
     ]
    }
   ],
   "source": [
    "# 작은 새\n",
    "# moving the lawn 문제랑 유사해 보인다\n",
    "# dp[i]를 새가 i번째 나무에 있을 때 피로감을 느낀 횟수의 최솟값이라 하자\n",
    "# dp[i] = min(dp[i - q] + f(i, i - q) for q in [1, k]), f(i, i - q)는 h_i >= h_{i-q}이면 1, 아니면 0이다\n",
    "# 피로감을 느낀 횟수가 똑같다면 i가 클수록 h가 작을수록 좋다\n",
    "# 일단 새로 추가되는 원소의 피로감 느낀 횟수가 가장 작으면 나머지 원소는 필요없다\n",
    "# 일단 최솟값 배열을 관리할 때 멀어진 나무(=인덱스 i)는 버릴것이니 i가 큰 건 상관없고 피로감 느낀 횟수랑 h가 작은지만 고려하면 된다 (어차피 다음 나무로 갈 수 있는 건 같다)\n",
    "# 피로감 느낀 횟수가 같은데 h가 더 작으면 기존 원소 버린다\n",
    "# 그럼 최솟값 배열은 다음과 같이 구성된다\n",
    "# (i_0, x, h_0), (i_1, x, h_0+a), ..., (i_n, x + 1, h_n), (i_n+1, x + 1, h_n+a), ...)\n",
    "# 너무 멀리는 못가니 너무 멀면 popleft한다\n",
    "# h와 h_0에 따라 now = x or x + 1이다\n",
    "# now보다 큰 원소는 pop한다\n",
    "# 같은 원소 중 h가 더 크면 pop한다\n",
    "# 이제 append한다\n",
    "# 시간복잡도는 O(n)이고 테스트케이스 개수 t만큼 반복하니 O(nt)이다\n",
    "# pypy로도 통과못함, 계속 틀림\n",
    "# t는 최대 25\n",
    "# 모든 t에 대해 해봐야할까? ㅇㅇ\n",
    "# 코드 잘못짜서 무한루프였던거임;;\n",
    "# 하지만 틀렸습니다...\n",
    "# 아 h가 커야 이득이네;;;\n",
    "from collections import deque\n",
    "\n",
    "\n",
    "def solve_testcase(n, heights):\n",
    "    k = int(input())\n",
    "    min_array = deque([(0, 0, heights[0])])\n",
    "    for i, h in enumerate(heights[1:], start=1):\n",
    "        prev = min_array[0][0]\n",
    "        if prev + k < i:\n",
    "            min_array.popleft()\n",
    "        count_prev = min_array[0][1]\n",
    "        h_prev = min_array[0][2]\n",
    "        if h_prev <= h:\n",
    "            count = count_prev + 1\n",
    "        else:\n",
    "            count = count_prev\n",
    "        while min_array and min_array[-1][1] >= count:\n",
    "            if min_array[-1][1] > count:\n",
    "                min_array.pop()\n",
    "                continue\n",
    "            if h >= min_array[-1][2]:\n",
    "                min_array.pop()\n",
    "            else:\n",
    "                break\n",
    "        min_array.append((i, count, h))\n",
    "    answer = min_array[-1][1]\n",
    "    print(answer)\n",
    "\n",
    "\n",
    "def solution():\n",
    "    n = int(input())\n",
    "    heights = list(map(int, input().split()))\n",
    "    q = int(input())\n",
    "    for _ in range(q):\n",
    "        solve_testcase(n, heights)\n",
    "\n",
    "\n",
    "solution()\n",
    "\n",
    "# input\n",
    "# 9\n",
    "# 4 6 3 6 3 7 2 6 5\n",
    "# 2\n",
    "# 2\n",
    "# 5"
   ]
  },
  {
   "cell_type": "code",
   "execution_count": null,
   "id": "cf3bc4c7-29a5-4fd5-ab80-1020d71514e1",
   "metadata": {},
   "outputs": [],
   "source": []
  }
 ],
 "metadata": {
  "kernelspec": {
   "display_name": "Python 3 (ipykernel)",
   "language": "python",
   "name": "python3"
  },
  "language_info": {
   "codemirror_mode": {
    "name": "ipython",
    "version": 3
   },
   "file_extension": ".py",
   "mimetype": "text/x-python",
   "name": "python",
   "nbconvert_exporter": "python",
   "pygments_lexer": "ipython3",
   "version": "3.8.11"
  }
 },
 "nbformat": 4,
 "nbformat_minor": 5
}
