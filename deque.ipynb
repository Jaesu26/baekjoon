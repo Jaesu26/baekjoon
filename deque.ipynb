{
 "cells": [
  {
   "cell_type": "markdown",
   "id": "c80324d9-4fe3-4743-8737-54dec477d972",
   "metadata": {},
   "source": [
    "# 덱 (Deque)"
   ]
  },
  {
   "cell_type": "markdown",
   "id": "ead832d4-0090-4216-b9e5-ed06896e0811",
   "metadata": {},
   "source": [
    "## 덱\n",
    "- 문제 출처: [백준 10866번](https://www.acmicpc.net/problem/10866)"
   ]
  },
  {
   "cell_type": "markdown",
   "id": "452cbaeb-391e-4a1d-9f99-f41fd646994a",
   "metadata": {},
   "source": [
    "`-` 덱은 스택과 큐를 합친 구조 ---> 양쪽으로 넣고(append) 빼기(pop) $O(1)$에 가능함"
   ]
  },
  {
   "cell_type": "code",
   "execution_count": 6,
   "id": "a9d66559-f916-40ca-90fc-c0bf345d8a71",
   "metadata": {},
   "outputs": [
    {
     "name": "stdin",
     "output_type": "stream",
     "text": [
      " 15\n",
      " push_back 1\n",
      " push_front 2\n",
      " front\n"
     ]
    },
    {
     "name": "stdout",
     "output_type": "stream",
     "text": [
      "2\n"
     ]
    },
    {
     "name": "stdin",
     "output_type": "stream",
     "text": [
      " back\n"
     ]
    },
    {
     "name": "stdout",
     "output_type": "stream",
     "text": [
      "1\n"
     ]
    },
    {
     "name": "stdin",
     "output_type": "stream",
     "text": [
      " size\n"
     ]
    },
    {
     "name": "stdout",
     "output_type": "stream",
     "text": [
      "2\n"
     ]
    },
    {
     "name": "stdin",
     "output_type": "stream",
     "text": [
      " empty\n"
     ]
    },
    {
     "name": "stdout",
     "output_type": "stream",
     "text": [
      "0\n"
     ]
    },
    {
     "name": "stdin",
     "output_type": "stream",
     "text": [
      " pop_front\n"
     ]
    },
    {
     "name": "stdout",
     "output_type": "stream",
     "text": [
      "2\n"
     ]
    },
    {
     "name": "stdin",
     "output_type": "stream",
     "text": [
      " pop_back\n"
     ]
    },
    {
     "name": "stdout",
     "output_type": "stream",
     "text": [
      "1\n"
     ]
    },
    {
     "name": "stdin",
     "output_type": "stream",
     "text": [
      " pop_front\n"
     ]
    },
    {
     "name": "stdout",
     "output_type": "stream",
     "text": [
      "-1\n"
     ]
    },
    {
     "name": "stdin",
     "output_type": "stream",
     "text": [
      " size\n"
     ]
    },
    {
     "name": "stdout",
     "output_type": "stream",
     "text": [
      "0\n"
     ]
    },
    {
     "name": "stdin",
     "output_type": "stream",
     "text": [
      " empty\n"
     ]
    },
    {
     "name": "stdout",
     "output_type": "stream",
     "text": [
      "1\n"
     ]
    },
    {
     "name": "stdin",
     "output_type": "stream",
     "text": [
      " pop_back\n"
     ]
    },
    {
     "name": "stdout",
     "output_type": "stream",
     "text": [
      "-1\n"
     ]
    },
    {
     "name": "stdin",
     "output_type": "stream",
     "text": [
      " push_front 3\n",
      " empty\n"
     ]
    },
    {
     "name": "stdout",
     "output_type": "stream",
     "text": [
      "0\n"
     ]
    },
    {
     "name": "stdin",
     "output_type": "stream",
     "text": [
      " front\n"
     ]
    },
    {
     "name": "stdout",
     "output_type": "stream",
     "text": [
      "3\n"
     ]
    }
   ],
   "source": [
    "from collections import deque\n",
    "\n",
    "N = int(input())\n",
    "deque = deque()\n",
    "for _ in range(N):\n",
    "    input_ = input()\n",
    "    if input_[:2] == 'pu':\n",
    "        num = int(input_.split()[1])\n",
    "        if input_[5] == 'f':  # push_front와 push_back구별\n",
    "            deque.appendleft(num)\n",
    "        else:\n",
    "            deque.append(num)\n",
    "    elif input_[:2] == 'po':\n",
    "        if input_[4] == 'f':\n",
    "            if deque:\n",
    "                print(deque.popleft())\n",
    "            else:\n",
    "                print(-1)\n",
    "        else:\n",
    "            if deque:\n",
    "                print(deque.pop())\n",
    "            else:\n",
    "                print(-1)\n",
    "    elif input_[:2] == 'si':\n",
    "        print(len(deque))\n",
    "    elif input_[:2] == 'em':\n",
    "        if deque:\n",
    "            print(0)\n",
    "        else:\n",
    "            print(1)\n",
    "    elif input_[:2] == 'fr':\n",
    "        if deque:\n",
    "            print(deque[0])\n",
    "        else:\n",
    "            print(-1)\n",
    "    elif input_[:2] == 'ba':\n",
    "        if deque:\n",
    "            print(deque[-1])\n",
    "        else:\n",
    "            print(-1)\n",
    "            \n",
    "# input\n",
    "# 15\n",
    "# push_back 1\n",
    "# push_front 2\n",
    "# front\n",
    "# back\n",
    "# size\n",
    "# empty\n",
    "# pop_front\n",
    "# pop_back\n",
    "# pop_front\n",
    "# size\n",
    "# empty\n",
    "# pop_back\n",
    "# push_front 3\n",
    "# empty\n",
    "# front"
   ]
  },
  {
   "cell_type": "markdown",
   "id": "f52ce2bc-bb6a-46c4-8241-feba44445fb5",
   "metadata": {},
   "source": [
    "## 회전하는 큐\n",
    "- 문제 출처: [백준 1021번](https://www.acmicpc.net/problem/1021)"
   ]
  },
  {
   "cell_type": "markdown",
   "id": "f2c66aa7-f275-4651-bd9f-50fe4a9a1546",
   "metadata": {},
   "source": [
    "`-` 오랜만에 풀어서 머리가 굳었음\n",
    "\n",
    "`-` 일단 내 생각은 $x[0]$의 원소가 deque의 왼쪽 입구와 가까운지 오른쪽 입구와 가까운지 판단하는 것\n",
    "\n",
    "`-` 가까운 쪽으로 $x[0]$을 보내고 $\\operatorname{deque}[0]$을 pop하면 된다\n",
    "\n",
    "`-` 참고로 오른쪽 입구 끝으로 간 다음에 한번더 오른쪽으로 한칸씩 이동시켜야 첫번째에 도달한다 (오른쪽끝까지 가는 거리 + 1)\n",
    "\n",
    "`-` $x[0]$의 원소를 pop하면 새로운 $x[0]$를 위와 같이 pop하자 "
   ]
  },
  {
   "cell_type": "code",
   "execution_count": 25,
   "id": "cb9224f5-5972-41b3-886b-3f973e437d97",
   "metadata": {},
   "outputs": [
    {
     "name": "stdin",
     "output_type": "stream",
     "text": [
      " 10 10\n",
      " 1 6 3 2 7 9 8 4 10 5\n"
     ]
    },
    {
     "name": "stdout",
     "output_type": "stream",
     "text": [
      "14\n"
     ]
    }
   ],
   "source": [
    "from collections import deque\n",
    "\n",
    "N, M = map(int, input().split())\n",
    "x = deque(list(map(int, input().split())))\n",
    "deque = deque(list(range(1, N + 1)))\n",
    "min_ = 0\n",
    "while x:\n",
    "    n = len(deque)\n",
    "    mid = n // 2\n",
    "    loc = deque.index(x[0])\n",
    "    if loc > mid:\n",
    "        while deque[0] != x[0]:\n",
    "            deque.appendleft(deque.pop())\n",
    "            min_ += 1\n",
    "    else:\n",
    "        while deque[0] != x[0]:\n",
    "            deque.append(deque.popleft())\n",
    "            min_ += 1\n",
    "    deque.popleft()\n",
    "    x.popleft()\n",
    "print(min_)\n",
    "\n",
    "# input\n",
    "# 10 10\n",
    "# 1 6 3 2 7 9 8 4 10 5"
   ]
  },
  {
   "cell_type": "markdown",
   "id": "7c93422c-1b50-4b27-a207-fcc2c04b2c93",
   "metadata": {
    "tags": []
   },
   "source": [
    "## AC \n",
    "- 문제 출처: [백준 5430번](https://www.acmicpc.net/problem/5430)"
   ]
  },
  {
   "cell_type": "markdown",
   "id": "bfde9bb3-fcfd-4af5-ab34-28eb96ce26ad",
   "metadata": {},
   "source": [
    "`-` 그냥 하면 된다\n",
    "\n",
    "`-` 풀고나서 다른 정답봤는데 RR은 어차피 의미가 없으니 그냥 없앴음 (매우 좋은 생각)\n",
    "\n",
    "```python\n",
    "List.replace('RR', '')\n",
    "````\n",
    "\n",
    "`-` 나는 생각이 안나서 그냥 했다\n",
    "\n",
    "`-` R이면 그냥 popleft 대신에 pop을 수행했음"
   ]
  },
  {
   "cell_type": "code",
   "execution_count": 70,
   "id": "87181e18-594e-4386-b412-ff49635b49c6",
   "metadata": {},
   "outputs": [
    {
     "name": "stdin",
     "output_type": "stream",
     "text": [
      " 1\n",
      " RRD\n",
      " 6\n",
      " [1,1,2,3,5,8]\n"
     ]
    },
    {
     "name": "stdout",
     "output_type": "stream",
     "text": [
      "[1,2,3,5,8]\n"
     ]
    }
   ],
   "source": [
    "from collections import deque\n",
    "\n",
    "T = int(input())\n",
    "for _ in range(T):\n",
    "    funcs = input()\n",
    "    n = int(input())\n",
    "    nums = input()\n",
    "    if n == 0:\n",
    "        nums = deque()\n",
    "    else:\n",
    "        nums = deque(list(map(int, nums[1:-1].split(','))))\n",
    "    z = 'True'\n",
    "    c = 0\n",
    "    for i in range(len(funcs)):\n",
    "        if funcs[i] == 'R':\n",
    "            c += 1\n",
    "        elif funcs[i] == 'D' and nums:\n",
    "            if c % 2 == 0:\n",
    "                nums.popleft()\n",
    "            else:\n",
    "                nums.pop()\n",
    "        else:\n",
    "            z = 'error'\n",
    "    nums2 = []\n",
    "    if c % 2 == 1:\n",
    "        for j in range(len(nums)):\n",
    "            nums2.append(nums.pop())\n",
    "    else:\n",
    "        nums2 = list(nums.copy()) \n",
    "    nums2 = list(map(str, nums2))\n",
    "    nums2 = '[' + ','.join(nums2) + ']'\n",
    "    if z == 'True':\n",
    "        print(nums2)\n",
    "    else:\n",
    "        print(z)\n",
    "\n",
    "# input\n",
    "# 1\n",
    "# RRD\n",
    "# 6\n",
    "# [1,1,2,3,5,8]"
   ]
  },
  {
   "cell_type": "markdown",
   "id": "2f63d8a0-0352-4109-a61a-3e086efe92b6",
   "metadata": {},
   "source": [
    "## 풍선 터뜨리기\n",
    "\n",
    "- 문제 출처: [백준 2346번](https://www.acmicpc.net/problem/2346)"
   ]
  },
  {
   "cell_type": "markdown",
   "id": "13195c01-9cc1-470a-abd7-dcf2400e24ca",
   "metadata": {},
   "source": [
    "`-` 풍선은 원형으로 배치되어 있어 단순한 배열로는 원형 배치를 나타낼 수 없다\n",
    "\n",
    "`-` 풍선은 회전시켜도 순서가 유지되는데 이를 위해 배열에서 첫 번째 원소가 마지막 원소의 오른쪽에 존재한다고 생각하자\n",
    "\n",
    "`-` 풍선을 터뜨린다는 것은 원소를 pop 한다는 것인데 pop을 하는 과정에서 순회하는 원소를 방향에 따라 왼쪽 또는 오른쪽에 pop하고 append하면 된다"
   ]
  },
  {
   "cell_type": "code",
   "execution_count": 12,
   "id": "585dd572-11ae-41a1-abe4-14914aa3f32a",
   "metadata": {},
   "outputs": [
    {
     "name": "stdin",
     "output_type": "stream",
     "text": [
      " 5\n",
      " 3 2 1 -3 -1\n"
     ]
    },
    {
     "name": "stdout",
     "output_type": "stream",
     "text": [
      "1 4 5 3 2\n"
     ]
    }
   ],
   "source": [
    "from collections import deque\n",
    "\n",
    "N = int(input())\n",
    "values = deque(map(int, input().split()))  # 풍선 안에 들어있는 종이\n",
    "ballons = deque(range(1, N + 1))  # 풍선 번호\n",
    "order = []\n",
    "while True:\n",
    "    ballon = ballons.popleft()  # 터뜨릴 풍선을 첫 번째 원소에 위치하도록 유지할 것임 (시작은 1번 풍선)\n",
    "    value = values.popleft()\n",
    "    order.append(ballon)\n",
    "    if len(order) == N:  # 종료 조건\n",
    "        break\n",
    "    if value > 0:  # 오른쪽으로 순회\n",
    "        for _ in range(value - 1):\n",
    "            v = values.popleft()\n",
    "            values.append(v)\n",
    "            ballon = ballons.popleft()\n",
    "            ballons.append(ballon)\n",
    "    else:  # 왼쪽으로 순회\n",
    "        value = -value\n",
    "        for _ in range(value):\n",
    "            v = values.pop()\n",
    "            values.appendleft(v)\n",
    "            ballon = ballons.pop()\n",
    "            ballons.appendleft(ballon)\n",
    "print(*order)\n",
    "\n",
    "# input\n",
    "# 5\n",
    "# 3 2 1 -3 -1"
   ]
  },
  {
   "cell_type": "markdown",
   "id": "19e07caf-189a-4097-87e9-3ef5903d5efe",
   "metadata": {},
   "source": [
    "## 덱 2\n",
    "\n",
    "- 문제 출처: [백준 28279번](https://www.acmicpc.net/problem/28279)"
   ]
  },
  {
   "cell_type": "code",
   "execution_count": 5,
   "id": "023d6b5e-b2bd-4fb5-bd02-b2fb3c25b253",
   "metadata": {},
   "outputs": [
    {
     "name": "stdin",
     "output_type": "stream",
     "text": [
      " 11\n",
      " 6\n"
     ]
    },
    {
     "name": "stdout",
     "output_type": "stream",
     "text": [
      "1\n"
     ]
    },
    {
     "name": "stdin",
     "output_type": "stream",
     "text": [
      " 1 3\n",
      " 1 8\n",
      " 7\n"
     ]
    },
    {
     "name": "stdout",
     "output_type": "stream",
     "text": [
      "8\n"
     ]
    },
    {
     "name": "stdin",
     "output_type": "stream",
     "text": [
      " 8\n"
     ]
    },
    {
     "name": "stdout",
     "output_type": "stream",
     "text": [
      "3\n"
     ]
    },
    {
     "name": "stdin",
     "output_type": "stream",
     "text": [
      " 3\n"
     ]
    },
    {
     "name": "stdout",
     "output_type": "stream",
     "text": [
      "8\n"
     ]
    },
    {
     "name": "stdin",
     "output_type": "stream",
     "text": [
      " 2 5\n",
      " 1 2\n",
      " 5\n"
     ]
    },
    {
     "name": "stdout",
     "output_type": "stream",
     "text": [
      "3\n"
     ]
    },
    {
     "name": "stdin",
     "output_type": "stream",
     "text": [
      " 4\n"
     ]
    },
    {
     "name": "stdout",
     "output_type": "stream",
     "text": [
      "5\n"
     ]
    },
    {
     "name": "stdin",
     "output_type": "stream",
     "text": [
      " 4\n"
     ]
    },
    {
     "name": "stdout",
     "output_type": "stream",
     "text": [
      "3\n"
     ]
    }
   ],
   "source": [
    "from collections import deque\n",
    "\n",
    "\n",
    "def order1(a, x):\n",
    "    a.appendleft(x)\n",
    "\n",
    "\n",
    "def order2(a, x):\n",
    "    a.append(x)\n",
    "\n",
    "\n",
    "def order3(a):\n",
    "    if not a:\n",
    "        print(-1)\n",
    "        return\n",
    "    print(a.popleft())\n",
    "\n",
    "\n",
    "def order4(a):\n",
    "    if not a:\n",
    "        print(-1)\n",
    "        return\n",
    "    print(a.pop())\n",
    "\n",
    "\n",
    "def order5(a):\n",
    "    print(len(a))\n",
    "\n",
    "\n",
    "def order6(a):\n",
    "    if a:\n",
    "        print(0)\n",
    "    else:\n",
    "        print(1)\n",
    "\n",
    "\n",
    "def order7(a):\n",
    "    if not a:\n",
    "        print(-1)\n",
    "        return\n",
    "    print(a[0])\n",
    "\n",
    "\n",
    "def order8(a):\n",
    "    if not a:\n",
    "        print(-1)\n",
    "        return\n",
    "    print(a[-1])\n",
    "\n",
    "\n",
    "def solution():\n",
    "    num2order = {n: eval(f\"order{n}\") for n in range(1, 9)}\n",
    "    a = deque([])\n",
    "    N = int(input())\n",
    "    for _ in range(N):\n",
    "        order = list(map(int, input().split()))\n",
    "        if len(order) == 2:\n",
    "            n, x = order\n",
    "            num2order[n](a, x)\n",
    "        else:\n",
    "            n = order[0]\n",
    "            num2order[n](a)\n",
    "\n",
    "solution()\n",
    "\n",
    "# input\n",
    "# 11\n",
    "# 6\n",
    "# 1 3\n",
    "# 1 8\n",
    "# 7\n",
    "# 8\n",
    "# 3\n",
    "# 2 5\n",
    "# 1 2\n",
    "# 5\n",
    "# 4\n",
    "# 4"
   ]
  },
  {
   "cell_type": "markdown",
   "id": "85e25398-b93a-45ea-ab57-6c5fabbc776d",
   "metadata": {},
   "source": [
    "## 최솟값 찾기\n",
    "\n",
    "- 문제 출처: [백준 11003번](https://www.acmicpc.net/problem/11003)"
   ]
  },
  {
   "cell_type": "code",
   "execution_count": 4,
   "id": "d462dfc2-fab4-473e-8cfd-f1323e864c54",
   "metadata": {},
   "outputs": [],
   "source": [
    "# 최솟값의 후보를 덱에 저장하여 범위 내 최솟값을 빠르게 찾는 문제\n",
    "# N개의 수 A_1, ..., A_N과 L이 주어진다\n",
    "# D_i = A_i-L+1 ~ A_i 중의 최솟값, i <= 0인 A_i는 무시\n",
    "# 배열 D를 출력 (D_i부터 D_N까지)\n",
    "# D_1부터 D_N까지 만들어지는 상황을 생각해보자\n",
    "# A_i 이후에 A_i+a가 들어오는데 이게 더 작다고 해보자\n",
    "# 그럼 A_i는 아예 쓸모 없다\n",
    "# 배열 A가 있고 L 길이의 구간만큼 확인하고 이를 한 칸씩 오른쪽으로 움직이며 반복한다\n",
    "# 즉, 새로운 값이 들어오고 기존의 가장 왼쪽 인덱스 값은 사라진다\n",
    "# 다르게 말하자면 A_i가 A_i+a보다 먼저 사라지므로 A_i가 D_j가 될 수 없다\n",
    "# A_i+a 이후에 A_i+b가 들어왔다고 해보자, 근데 얘가 더 크다\n",
    "# 그래도 최솟값 후보가 될 수 있다\n",
    "# 왜냐하면 A_i+b보다 A_i+a가 먼저 사라지니 이게 없는 구간에선 A_i+b가 최솟값일 수 있기 때문이다\n",
    "# D를 알기 위해선 새롭게 고려되는 원소들을 모두 알고 있어야 한다\n",
    "# 일단 i - L + 1이 1이 될 땐까진 추가만 한다\n",
    "# 즉, i = L이 될 때까진 추가만 한다\n",
    "# L + 1번째 원소를 추가할 땐 이제 L + 1 - L번째 원소를 삭제해야 한다\n",
    "# 근데 이제 최솟값이 갱신되면 삭제는 해야 한다\n",
    "# 일단 첫번째 원소는 넣는다, 그리고 D_1 = A_1이 된다\n",
    "# A_2가 더 작으면 첫 번째 원소 pop하고 앞에 삽입한다\n",
    "# 그게 아니라면 뒤에 추가한다\n",
    "# 그리고 첫 번째 원소가 최솟값이니 출력한다\n",
    "# 근데 이제 원소를 추가할 때 단순히 값만 넣는게 아니라 인덱스도 같이 넣어야 한다\n",
    "# 그래야 L 구간에 포함되지 않는 때가 도래했을 때 pop할 수 있다\n",
    "# 첫 번째 원소가 L구간에 포함되지 않으면 pop한다\n",
    "# 이걸 첫 번째 원소가 L 구간에 포함되거나 빈 deque이 될 때까지 반복한다\n",
    "# 그리고 비어있으면 해당 차례의 A 원소 추가한다\n",
    "# 아니라면 위의 스탭을 밟는다\n",
    "# 그리고 첫 번째 원소 출력한다\n",
    "# 시간복잡도는 O(N)이다\n",
    "# 생각해보니까 최솟값 갱신은 쉬운데 최솟값 아닌 값을 추가하는 건 좀 더 고려해야 한다\n",
    "# 예를 들어 배열이 [10, 15]라고 하자\n",
    "# 이번 차례의 A 값은 13이다\n",
    "# 그럼 단순히 [10, 15, 13]을 하면 안된다, 13은 15보다 작다\n",
    "# 잘 생각해보면 13이 새롭게 고려된 순간 15는 D가 될 수 없다\n",
    "# 따라서 pop 해야 한다\n",
    "# 즉, 배열에 마지막 원소에 대해 새롭게 고려되는 원소보다 크거나 같으면 버린다\n",
    "# 애초에 고려를 마지막 원소부터 하면 된다\n",
    "# 새롭게 고려되는게 최솟값이면 모든 원소가 제거될 것이다\n",
    "# 제거했으면 오른쪽에 추가하면 된다\n"
   ]
  },
  {
   "cell_type": "code",
   "execution_count": 3,
   "id": "651ffd00-48a2-4a37-bffd-836a1bf03243",
   "metadata": {},
   "outputs": [
    {
     "name": "stdin",
     "output_type": "stream",
     "text": [
      " 12 3\n",
      " 1 5 2 3 6 2 3 7 3 5 2 6\n"
     ]
    },
    {
     "name": "stdout",
     "output_type": "stream",
     "text": [
      "1 1 1 2 2 2 2 2 3 3 2 2\n"
     ]
    }
   ],
   "source": [
    "from collections import deque\n",
    "\n",
    "\n",
    "def solution():\n",
    "    N, L = map(int, input().split())\n",
    "    A = list(map(int, input().split()))\n",
    "    min_array = deque([])\n",
    "    answer = []\n",
    "    for i, a in enumerate(A, start=1):\n",
    "        while min_array and min_array[0][1] <= i - L:\n",
    "            min_array.popleft()\n",
    "        while min_array and min_array[-1][0] >= a:\n",
    "            min_array.pop()\n",
    "        min_array.append((a, i))\n",
    "        answer.append(min_array[0][0])\n",
    "    print(*answer)\n",
    "\n",
    "\n",
    "solution()\n",
    "\n",
    "# input\n",
    "# 12 3\n",
    "# 1 5 2 3 6 2 3 7 3 5 2 6"
   ]
  },
  {
   "cell_type": "markdown",
   "id": "d5313823-6e2d-4710-8411-8bff4d1c09ce",
   "metadata": {},
   "source": [
    "## 연세워터파크\n",
    "\n",
    "- 문제 출처: [백준 15678번](https://www.acmicpc.net/problem/15678)"
   ]
  },
  {
   "cell_type": "code",
   "execution_count": 1,
   "id": "266bc386-68c8-4153-b8fb-36b282dbe157",
   "metadata": {},
   "outputs": [
    {
     "name": "stdin",
     "output_type": "stream",
     "text": [
      " 10 2\n",
      " 2 7 -5 -4 10 -5 -5 -5 30 -10\n"
     ]
    },
    {
     "name": "stdout",
     "output_type": "stream",
     "text": [
      "40\n"
     ]
    }
   ],
   "source": [
    "# 31%에서 틀림\n",
    "# 질문검색 정독함\n",
    "# 멀티셋 + 슬라이딩 윈도우 사용한 c++로 짠 오답코드 봤는데 길이가 짧음\n",
    "# 나는 양수만 뽑아내서 양수 사이의 최단 거리 추가하고 배열 새로 만들어서 최대 연속합 계산했는데 그렇게 안 한 것 같았음\n",
    "# 한 번에 dp를 적용해보자\n",
    "# 최댓값을 구해야 됨\n",
    "# dp[x]를 x번째 징검다리를 마지막으로 할 때 최댓값이라 해보자\n",
    "# 그럼 D씩 움직일 수 있으므로 dp[x] = max(array[x], array[x] + max(dp[x - 1], dp[x - 2], ..., dp[x - D]))이다\n",
    "# 아니 이걸 왜 생각 못했지?\n",
    "# 최대 연속합 공식에서 약간 변형준건데;;;\n",
    "# 애초에 최대 연속합 공식을 먼저 알고 시작한게 아니라 나중에 알았어가지고 처음부터 적용할 생각을 못했다\n",
    "# 근데 이제 max(dp[x - 1], dp[x - 2], ..., dp[x - D])을 계산할 때 단순한 방식은 O(N)이다\n",
    "# 덱을 이용한 구간 최댓값 사용하면 O(1)이다\n",
    "# 언제든 게임을 끝낼 수 있으므로 정답은 max(dp)이다\n",
    "# 끝~\n",
    "\n",
    "from collections import deque\n",
    "\n",
    "\n",
    "def max_subarray_sum(array):\n",
    "    max_ = array[0]\n",
    "    max_array = deque([(array[0], 0)])\n",
    "    for i, a in enumerate(array[1:], start=1):\n",
    "        if max_array[0][1] < i - D:\n",
    "            max_array.popleft()\n",
    "        v = max(a, a + max_array[0][0])\n",
    "        while max_array and max_array[-1][0] <= v:\n",
    "            max_array.pop()\n",
    "        max_array.append((v, i))\n",
    "        if max_ < v:\n",
    "            max_ = v\n",
    "    return max_\n",
    "\n",
    "\n",
    "def solution():\n",
    "    global D, INF\n",
    "    N, D = map(int, input().split())\n",
    "    array = list(map(int, input().split()))\n",
    "    INF = float(\"inf\")\n",
    "    answer = max_subarray_sum(array)\n",
    "    print(answer)\n",
    "\n",
    "\n",
    "solution()"
   ]
  },
  {
   "cell_type": "markdown",
   "id": "0e53d7b8-0fc0-4a45-888a-44d6d2a8ce51",
   "metadata": {},
   "source": [
    "## Mowing the Lawn\n",
    "\n",
    "- 문제 출처: [백준 5977번](https://www.acmicpc.net/problem/5977)"
   ]
  },
  {
   "cell_type": "code",
   "execution_count": 2,
   "id": "1c783f22-17c8-401e-8811-cb0d5b460589",
   "metadata": {},
   "outputs": [
    {
     "name": "stdin",
     "output_type": "stream",
     "text": [
      " 5 2\n",
      " 1\n",
      " 2\n",
      " 3\n",
      " 4\n",
      " 5\n"
     ]
    },
    {
     "name": "stdout",
     "output_type": "stream",
     "text": [
      "12\n"
     ]
    }
   ],
   "source": [
    "# Mowing the Lawn\n",
    "# 연속해서 최대 K개까지 선택 가능\n",
    "# 효율성의 최대로 늘려야 한다\n",
    "# dp[x][q]를 x를 포함해서 q개가 연속됐을 때 1~x까지의 효율성의 최댓값이라고 하자\n",
    "# q는 0~k이다\n",
    "# 그럼 dp[x + 1][0] = max(dp[x][i] for i in range(k + 1))\n",
    "# dp[x + 1][q] = v[x + 1] + dp[x][q - 1], 단 1 <= q <= k\n",
    "# 근데 위와 같이 하면 dp[x + 1]의 모든 상태를 결정하는데 O(K)의 시간복잡도를 가진다\n",
    "# 그리고 x의 상태는 O(N)이므로 시간복잡도는 O(N^2)이다 (K <= N)\n",
    "# N은 최대 100000이므로 시간 초과이다\n",
    "# dp[x]에서 dp[x + 1]을 만드는 과정을 생각해보자\n",
    "# dp[x] = (e0, e1, ..., ek)이다\n",
    "# dp[x + 1] = (max(dp[x]), e0 + v[x + 1], e1 + v[x + 1], ..., e_{k-1} + v[x + 1])\n",
    "# dp[x]에서 ek는 버려진다 (더 이상 활용 불가능), 이 때 ek로 최댓값을 갱신할 수 있으면 갱신한다 (버리기 전 마지막 활용)\n",
    "# 자 이제 dp[x + 1]을 보자, 첫 번째 항을 제외하면 이전 dp[x]에 v[x + 1]을 더한 것 밖에 없다\n",
    "# v[x + 1]을 더한 것은 똑같으니 굳이 배열을 순회하며 v[x + 1]을 더해줄 필요없이 lazy 변수를 만들어 해당 변수에 v[x + 1]을 더해주자\n",
    "# 단, 첫 번째 항은 v[x + 1]이 더해지지 않으니 lazy와 균형을 맞추기 위해 v[x + 1]을 차감해야 한다\n",
    "# 즉, dp[x] 배열에서 마지막 항은 버리고 나머지에서 최댓값을 찾아 배열 처음에 삽입한다, 그리고 v[x + 1]을 차감한다\n",
    "# lazy에 v[x + 1]을 더해준다\n",
    "# 그럼 dp[x + 1] 배열을 만든 것이다\n",
    "# 최댓값 찾기를 제외하면 모두 O(1)이다\n",
    "# K 구간마다 최댓값을 찾기 위해 덱을 이용한 구간 최댓값 트릭을 사용하자 (최솟값 찾기 문제에서 활용한 알고리즘)\n",
    "# 그럼 O(1)에 최댓값을 찾을 수 있고 전체 알고리즘의 시간 복잡도는 O(N)이 된다\n",
    "# 구간 최댓값을 찾기 위해 효율성말고 몇 개가 연속됐는지 나타내는 변수와 함께 튜플로 배열을 관리하자, 또한 인덱스(=x)도 알아야 한다\n",
    "# 최댓값이 배열의 첫 번째에 위치하도록 할 것이다\n",
    "# 그럼 배열의 원소는 (효율성, 연속개수, 인덱스)와 같이 구성될 것이다\n",
    "# 자 이제 원소를 추가하기 전에 현재 인덱스를 now라 하고 원소 인덱스를 prev, 연속 개수를 q라 하자\n",
    "# 배열이 업데이트될 때 q=0인 경우(=새로 초기화)를 제외하면 모두 이어붙이는 것을 가정했다\n",
    "# 즉, q + now - prev > K라면 K개를 초과해서 이어붙인 것이다 (정확힌 현재 원소까지 이어붙인다고 가정했을 때 기준)\n",
    "# 이는 불가능하므로 그 때의 효율성 + lazy를 정답으로 갱신시도한 후 버린다\n",
    "# 근데 버리기 전에 dp[x + 1][0]을 만드는데 활용하고 버려야 한다\n",
    "# 그게 아니라면 원소 인덱스가 now이고 연속개수가 q + 1인 원소가 추가되는 것이다\n",
    "# 근데 이는 그냥 v[x + 1]을 이어붙인 것이니 굳이 배열에 추가할 필요 없이 lazy변수만 고려하면 된다\n",
    "# 원소 추가는 q=0인 경우에만 일어난다\n",
    "# 현재 상황에서 불가능한 원소를 제거했으면 이제 dp[x + 1][0]을 추가할 차례이다\n",
    "# 얘는 dp[x][K]를 제외한 dp[x]의 최댓값과 같다\n",
    "# 최댓값은 배열의 첫 번째 원소이다\n",
    "# 그럼 인덱스가 now이고 연속개수가 0, 효율성이 최댓값 - v[x + 1]인 변수가 추가된다\n",
    "# 마지막에 추가할 것인데 자신 앞의 원소의 효율이 더 작으면 버린다 (연속개수가 더 많은데 효율이 적은 얘는 쓸모 없다)\n",
    "# 그리고 lazy += v[x + 1]을 수행한다 \n",
    "# 마지막까지 끝났으면 최댓값 + lazy를 정답으로 갱신시도하면 마무리이다\n",
    "from collections import deque\n",
    "\n",
    "\n",
    "def solution():\n",
    "    N, K = map(int, input().split())\n",
    "    E = [int(input()) for _ in range(N)]\n",
    "    E.reverse()\n",
    "    while E and E[-1] == 0:\n",
    "        E.pop()\n",
    "    E.reverse()\n",
    "    if not E:\n",
    "        print(0)\n",
    "        return\n",
    "    lazy = E[0]\n",
    "    max_array = deque([(0, 1, 0), (-E[0], 0, 0)])\n",
    "    answer = E[0]\n",
    "    for now, e in enumerate(E[1:], start=1):\n",
    "        total_e = max_array[0][0]\n",
    "        k = max_array[0][1]\n",
    "        prev = max_array[0][2]\n",
    "        current_max = max_array[0][0]\n",
    "        while max_array and max_array[-1][0] <= current_max - e:\n",
    "            max_array.pop()\n",
    "        max_array.append((current_max - e, 0, now))\n",
    "        if k + now - prev > K:\n",
    "            answer = max(total_e + lazy, answer)\n",
    "            max_array.popleft()\n",
    "        lazy += e\n",
    "    answer = max(max_array[0][0] + lazy, answer)\n",
    "    print(answer)\n",
    "\n",
    "\n",
    "solution()\n",
    "\n",
    "# input\n",
    "\n",
    "# 5 2\n",
    "# 1\n",
    "# 2\n",
    "# 3\n",
    "# 4\n",
    "# 5"
   ]
  },
  {
   "cell_type": "markdown",
   "id": "c28071c2-d0af-494c-8458-a0e51aa76ba3",
   "metadata": {},
   "source": [
    "## 작은 새\n",
    "\n",
    "- 문제 출처: [백준 10129번](https://www.acmicpc.net/problem/10129)"
   ]
  },
  {
   "cell_type": "code",
   "execution_count": 3,
   "id": "c70f3565-7328-4d0b-9dd2-b86b97f31a19",
   "metadata": {},
   "outputs": [
    {
     "name": "stdin",
     "output_type": "stream",
     "text": [
      " 9\n",
      " 4 6 3 6 3 7 2 6 5\n",
      " 2\n",
      " 2\n"
     ]
    },
    {
     "name": "stdout",
     "output_type": "stream",
     "text": [
      "2\n"
     ]
    },
    {
     "name": "stdin",
     "output_type": "stream",
     "text": [
      " 5\n"
     ]
    },
    {
     "name": "stdout",
     "output_type": "stream",
     "text": [
      "1\n"
     ]
    }
   ],
   "source": [
    "# 작은 새\n",
    "# moving the lawn 문제랑 유사해 보인다\n",
    "# dp[i]를 새가 i번째 나무에 있을 때 피로감을 느낀 횟수의 최솟값이라 하자\n",
    "# dp[i] = min(dp[i - q] + f(i, i - q) for q in [1, k]), f(i, i - q)는 h_i >= h_{i-q}이면 1, 아니면 0이다\n",
    "# 피로감을 느낀 횟수가 똑같다면 i가 클수록 h가 작을수록 좋다\n",
    "# 일단 새로 추가되는 원소의 피로감 느낀 횟수가 가장 작으면 나머지 원소는 필요없다\n",
    "# 일단 최솟값 배열을 관리할 때 멀어진 나무(=인덱스 i)는 버릴것이니 i가 큰 건 상관없고 피로감 느낀 횟수랑 h가 작은지만 고려하면 된다 (어차피 다음 나무로 갈 수 있는 건 같다)\n",
    "# 피로감 느낀 횟수가 같은데 h가 더 작으면 기존 원소 버린다\n",
    "# 그럼 최솟값 배열은 다음과 같이 구성된다\n",
    "# (i_0, x, h_0), (i_1, x, h_0+a), ..., (i_n, x + 1, h_n), (i_n+1, x + 1, h_n+a), ...)\n",
    "# 너무 멀리는 못가니 너무 멀면 popleft한다\n",
    "# h와 h_0에 따라 now = x or x + 1이다\n",
    "# now보다 큰 원소는 pop한다\n",
    "# 같은 원소 중 h가 더 크면 pop한다\n",
    "# 이제 append한다\n",
    "# 시간복잡도는 O(n)이고 테스트케이스 개수 t만큼 반복하니 O(nt)이다\n",
    "# pypy로도 통과못함, 계속 틀림\n",
    "# t는 최대 25\n",
    "# 모든 t에 대해 해봐야할까? ㅇㅇ\n",
    "# 코드 잘못짜서 무한루프였던거임;;\n",
    "# 하지만 틀렸습니다...\n",
    "# 아 h가 커야 이득이네;;;\n",
    "from collections import deque\n",
    "\n",
    "\n",
    "def solve_testcase(n, heights):\n",
    "    k = int(input())\n",
    "    min_array = deque([(0, 0, heights[0])])\n",
    "    for i, h in enumerate(heights[1:], start=1):\n",
    "        prev = min_array[0][0]\n",
    "        if prev + k < i:\n",
    "            min_array.popleft()\n",
    "        count_prev = min_array[0][1]\n",
    "        h_prev = min_array[0][2]\n",
    "        if h_prev <= h:\n",
    "            count = count_prev + 1\n",
    "        else:\n",
    "            count = count_prev\n",
    "        while min_array and min_array[-1][1] >= count:\n",
    "            if min_array[-1][1] > count:\n",
    "                min_array.pop()\n",
    "                continue\n",
    "            if h >= min_array[-1][2]:\n",
    "                min_array.pop()\n",
    "            else:\n",
    "                break\n",
    "        min_array.append((i, count, h))\n",
    "    answer = min_array[-1][1]\n",
    "    print(answer)\n",
    "\n",
    "\n",
    "def solution():\n",
    "    n = int(input())\n",
    "    heights = list(map(int, input().split()))\n",
    "    q = int(input())\n",
    "    for _ in range(q):\n",
    "        solve_testcase(n, heights)\n",
    "\n",
    "\n",
    "solution()\n",
    "\n",
    "# input\n",
    "# 9\n",
    "# 4 6 3 6 3 7 2 6 5\n",
    "# 2\n",
    "# 2\n",
    "# 5"
   ]
  },
  {
   "cell_type": "code",
   "execution_count": null,
   "id": "cf3bc4c7-29a5-4fd5-ab80-1020d71514e1",
   "metadata": {},
   "outputs": [],
   "source": []
  }
 ],
 "metadata": {
  "kernelspec": {
   "display_name": "Python 3 (ipykernel)",
   "language": "python",
   "name": "python3"
  },
  "language_info": {
   "codemirror_mode": {
    "name": "ipython",
    "version": 3
   },
   "file_extension": ".py",
   "mimetype": "text/x-python",
   "name": "python",
   "nbconvert_exporter": "python",
   "pygments_lexer": "ipython3",
   "version": "3.8.11"
  }
 },
 "nbformat": 4,
 "nbformat_minor": 5
}
