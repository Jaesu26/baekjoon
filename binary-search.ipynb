{
 "cells": [
  {
   "cell_type": "markdown",
   "id": "597087fd-3e3e-4478-b195-83fa89c5705f",
   "metadata": {},
   "source": [
    "## 이분 탐색 (Binary Search)"
   ]
  },
  {
   "cell_type": "markdown",
   "id": "0f13c9cf-67b9-405e-bb47-acfd03c13aee",
   "metadata": {},
   "source": [
    "## 나무 자르기\n",
    "- 문제 출처: [백준 2805번](https://www.acmicpc.net/problem/2805)"
   ]
  },
  {
   "cell_type": "markdown",
   "id": "9f2527b5-b226-4037-bb3e-c2637f1717e8",
   "metadata": {},
   "source": [
    "`-` 이진탐색으로 해결가능할 듯 하다 ---> 처음 푸는 유형이었음\n",
    "\n",
    "`-` 나무를 높이 순서로 오름차순 정렬한 후 0과 최대 나무 높이를 중간으로 나눠서 기준치를 넘는지 안넘는지를 판단함---> 1~100사이 랜덤 숫자 맞추듯이\n",
    "\n",
    "`-` 목표는 나무를 x미터 까지 잘랐을 땐 기준치 미달인데 x+1미터를 자르니 기준치를 넘기는 x+1을 찾는 것\n",
    "\n",
    "`-` 여러번 틀려서 디버깅 해보니 나무를 반으로 나누는데 최대값은 나무의 최대 높이로 하고 최소값은 나무의 최소 높이로 설정했었다\n",
    "\n",
    "`-` 위에 처럼하면 잘못됐는데 왜냐하면 이 문제의 해가 나무의 최소 높이보다 더 낮은 높이를 절단해야 하면 답이 나오지 않기 때문이다\n",
    "\n",
    "`-` ex) 나무가 3개 있고 높이가 각각 10 20 30이라 하고 필요한 나무는 10미터이라 하자\n",
    "\n",
    "`-` 이 경우는 잘못된 코드로 풀어도 가능함 ---> 왜냐면 정답이 20미터인데 20은 10과 30 사이 숫자이므로\n",
    "\n",
    "`-` 하지만 필요한 나무가 60미터라면 정답은 0미터여야 하지만 틀린 코드는 최소값 10과 최대값 30 사이를 이분탐색하므로 0이 나올 수 가 없음"
   ]
  },
  {
   "cell_type": "code",
   "execution_count": 77,
   "id": "c57d4e8b-ef85-4ee4-a137-34e478b496b5",
   "metadata": {},
   "outputs": [
    {
     "name": "stdin",
     "output_type": "stream",
     "text": [
      " 4 7\n",
      " 20 15 10 17\n"
     ]
    },
    {
     "name": "stdout",
     "output_type": "stream",
     "text": [
      "15\n"
     ]
    }
   ],
   "source": [
    "N, M = map(int, input().split())\n",
    "x = list(map(int, input().split()))\n",
    "x.sort()\n",
    "\n",
    "def trees_sum(h): ## 잘라서 나온 나무 높이의 합 구하기\n",
    "    _sum= 0\n",
    "    for i in range(N):\n",
    "        if x[i] > h:\n",
    "            _sum += x[i] - h\n",
    "    return _sum\n",
    "\n",
    "def cut(trees):\n",
    "    left = 0 ## 잘못된 코드는 left = trees[0] 나머지는 동일함\n",
    "    right = trees[-1]\n",
    "    mid = (left + right) // 2\n",
    "    sum_ = trees_sum(mid)\n",
    "            \n",
    "    while True:\n",
    "        if right - left < 2:\n",
    "            break\n",
    "                \n",
    "        if sum_ >= M:    \n",
    "            left = mid\n",
    "            mid = (left + right) // 2\n",
    "            sum_ = trees_sum(mid)  \n",
    "                \n",
    "        else:\n",
    "            right = mid\n",
    "            mid = (left + right) // 2\n",
    "            sum_ = trees_sum(mid)\n",
    "            \n",
    "    return mid\n",
    "\n",
    "print(cut(x))\n",
    "\n",
    "## input\n",
    "## 4 7\n",
    "## 20 15 10 17"
   ]
  },
  {
   "cell_type": "markdown",
   "id": "4e3aaced-9162-431a-bc0d-3b66e6c064df",
   "metadata": {},
   "source": [
    "## 수 찾기\n",
    "\n",
    "- 문제 출처: [백준 1920번](https://www.acmicpc.net/problem/1920)\n",
    "\n",
    "`-` 이분 탐색 문제이다\n",
    "\n",
    "`-` list.index를 사용해 접근하면 시간초과가 발생한다"
   ]
  },
  {
   "cell_type": "markdown",
   "id": "3df29fa7-066c-4b33-a7bd-0da59d2b45aa",
   "metadata": {},
   "source": [
    "```python\n",
    "n = int(input())\n",
    "nums = list(map(int, input().split()))\n",
    "nums.sort()\n",
    "m = int(input())\n",
    "nums2 = list(map(int, input().split()))\n",
    "\n",
    "for num in nums2:\n",
    "    left = nums[0]\n",
    "    right = nums[-1]\n",
    "    mid = nums[n // 2] \n",
    "    w = 0\n",
    "    while nums.index(right) - nums.index(left) >= 2:\n",
    "        if num == mid or num == left or num == right:\n",
    "            w = 1\n",
    "            break\n",
    "        if num >= mid:\n",
    "            left = nums[nums.index(mid)]\n",
    "            mid = nums[(nums.index(left) + nums.index(right)) // 2]\n",
    "        else:\n",
    "            right = nums[nums.index(mid)]\n",
    "            mid = nums[(nums.index(left) + nums.index(right)) // 2]\n",
    "            \n",
    "    if num == mid or num == left or num == right:\n",
    "        w = 1\n",
    "    print(w)\n",
    "```"
   ]
  },
  {
   "cell_type": "markdown",
   "id": "37a11676-ace0-4293-b009-7544f32dbb44",
   "metadata": {},
   "source": [
    "`-` 생각해보니 위와 같이 하지 않고도 nums의 인덱스에 접근할 수 있다\n",
    "\n",
    "`-` 탐색구간을 nums가 아닌 k = 1 ~ n까지 탐색하고 nums[k]를 사용해 인덱싱하면 된다"
   ]
  },
  {
   "cell_type": "code",
   "execution_count": 46,
   "id": "eb05396a-0796-400a-8e04-3109a1af4ee9",
   "metadata": {},
   "outputs": [
    {
     "name": "stdin",
     "output_type": "stream",
     "text": [
      " 5\n",
      " 4 1 5 2 3\n",
      " 5\n",
      " 1 3 7 9 5\n"
     ]
    },
    {
     "name": "stdout",
     "output_type": "stream",
     "text": [
      "1\n",
      "1\n",
      "0\n",
      "0\n",
      "1\n"
     ]
    }
   ],
   "source": [
    "n = int(input())\n",
    "nums = list(map(int, input().split()))\n",
    "nums.sort()\n",
    "m = int(input())\n",
    "nums2 = list(map(int, input().split()))\n",
    "\n",
    "for num in nums2:\n",
    "    left = 0\n",
    "    right = n-1\n",
    "    mid = (left + right) // 2 \n",
    "    \n",
    "    while right - left >= 2:\n",
    "        if num >= nums[mid]:\n",
    "            left = mid \n",
    "            mid = (left + right) // 2 \n",
    "        else:\n",
    "            right = mid\n",
    "            mid = (left + right) // 2 \n",
    "            \n",
    "    if nums[mid] == num or nums[right] == num: ## mid와 left는 동일해진다, right = mid+1\n",
    "        print(1)\n",
    "    else:\n",
    "        print(0)\n",
    "        \n",
    "# 5\n",
    "# 4 1 5 2 3\n",
    "# 5\n",
    "# 1 3 7 9 5"
   ]
  },
  {
   "cell_type": "markdown",
   "id": "9b88d29f-7ebd-432f-abc0-75fab1147ef7",
   "metadata": {},
   "source": [
    "## 랜선 자르기\n",
    "\n",
    "- 문제 출처: [백준 1654번](https://www.acmicpc.net/problem/1654)"
   ]
  },
  {
   "cell_type": "markdown",
   "id": "5d8b5d38-8289-43de-9027-6175fd4d134d",
   "metadata": {},
   "source": [
    "`-` 나무 자르기 문제와 비슷한 유형이다\n",
    "\n",
    "`-` 임의의 랜선길이를 s라고 하자\n",
    "\n",
    "`-` 각 랜선들에 대해 s로 나눈 몫이 잘라서 나온 랜선의 개수이고 이들의 합이 총 개수이다\n",
    "\n",
    "`-` k개의 랜선이 필요하다고 하자\n",
    "\n",
    "`-` 만약 s로 나눈 몫들의 합이 k라면?\n",
    "\n",
    "`-` 일단 랜선의 개수 조건은 충족시켰으나 동일한 k에 대해 s를 최대화시켜야 한다 \n",
    "\n",
    "`-` 만약 s로 나눈 몫들의 합이 k보다 작았는데 s-1로 나눈 몫들의 합이 k라면?\n",
    "\n",
    "`-` 그 때의 s(임계값)가 바로 최대 랜선 길이이다"
   ]
  },
  {
   "cell_type": "code",
   "execution_count": 5,
   "id": "4b8e111f-2682-4c23-adc4-a6594bb7c9c7",
   "metadata": {},
   "outputs": [
    {
     "name": "stdin",
     "output_type": "stream",
     "text": [
      " 4 11\n",
      " 802\n",
      " 743\n",
      " 457\n",
      " 539\n"
     ]
    },
    {
     "name": "stdout",
     "output_type": "stream",
     "text": [
      "200\n"
     ]
    }
   ],
   "source": [
    "def total(data, s): ## 자르고 나온 랜선 개수 총합\n",
    "    return(sum(list(map(lambda x: x//s, data))))\n",
    "\n",
    "k, n = map(int, input().split())\n",
    "data = [int(input()) for _ in range(k)]\n",
    "\n",
    "low = 1\n",
    "high = max(data) ## min(data)로 하면 틀림 ## 1000, 1000, 1 ---> 3조각 낸다고 생각하자 ---> 답은 1? ㅋㅋㅋ\n",
    "## 만약 최소길이 랜선을 이용하지 않으면 요구된 랜선 개수를 충족시키지 못할 때 high = min(data)로 설정해도 된다\n",
    "## 하지만 그런 상황만 주어지는 것은 아니기에...\n",
    "mid = (low + high) // 2\n",
    "\n",
    "while high - low >= 2:\n",
    "    if total(data, mid) < n: ## 조각의 개수가 적다 ## mid가 작아지게 된다\n",
    "        high = mid\n",
    "        mid = (low + high) // 2\n",
    "    else: ## 조각의 개수가 많거나 같다 ## mid가 커지게 된다, 만약에 total(data, mid) == n이라면 이를 만족하는 mid에 대해서 mid값을 계속 증가킴으로써 임계값을 구한다       \n",
    "        low = mid\n",
    "        mid = (low + high) // 2\n",
    "\n",
    "## 아래 부분을 제외하면 틀린다 ---> why?\n",
    "## 일단 위의 코드 결과는 low = mid, right = mid+1로 나온다(while문 조건에 의해)\n",
    "## 만약 low가 임계값-1이라고 하자 ---> 정답은 low + 1이다\n",
    "## mid는 low보다 크기에 else문이 계속하여 실행된다\n",
    "## 코드를 실행하다 결과적으로 high = low + 1이 되면서 while문이 끝난다!\n",
    "## 그런데 low = mid = 임계값-1인 상황이다\n",
    "## 그러므로 위와 같은 상황을 처리하기 위해 아래 부분이 필요\n",
    "if total(data, high) == total(data, mid): \n",
    "    print(high)\n",
    "else:\n",
    "    print(mid)\n",
    "\n",
    "# input\n",
    "# 4 11\n",
    "# 802\n",
    "# 743\n",
    "# 457\n",
    "# 539"
   ]
  },
  {
   "cell_type": "code",
   "execution_count": null,
   "id": "1de65d40-f497-4761-a360-af2db08b531c",
   "metadata": {},
   "outputs": [],
   "source": []
  }
 ],
 "metadata": {
  "kernelspec": {
   "display_name": "Python 3 (ipykernel)",
   "language": "python",
   "name": "python3"
  },
  "language_info": {
   "codemirror_mode": {
    "name": "ipython",
    "version": 3
   },
   "file_extension": ".py",
   "mimetype": "text/x-python",
   "name": "python",
   "nbconvert_exporter": "python",
   "pygments_lexer": "ipython3",
   "version": "3.8.11"
  }
 },
 "nbformat": 4,
 "nbformat_minor": 5
}
