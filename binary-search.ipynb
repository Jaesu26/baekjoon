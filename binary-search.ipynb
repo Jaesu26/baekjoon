{
 "cells": [
  {
   "cell_type": "markdown",
   "id": "597087fd-3e3e-4478-b195-83fa89c5705f",
   "metadata": {},
   "source": [
    "# 이분 탐색 (Binary Search)"
   ]
  },
  {
   "cell_type": "markdown",
   "id": "0f13c9cf-67b9-405e-bb47-acfd03c13aee",
   "metadata": {},
   "source": [
    "## 나무 자르기\n",
    "- 문제 출처: [백준 2805번](https://www.acmicpc.net/problem/2805)"
   ]
  },
  {
   "cell_type": "markdown",
   "id": "9f2527b5-b226-4037-bb3e-c2637f1717e8",
   "metadata": {},
   "source": [
    "`-` 이진 탐색으로 해결가능할 듯 하다 ---> 처음 푸는 유형이었음\n",
    "\n",
    "`-` 나무를 높이 순서로 오름차순 정렬한 후 $0$과 최대 나무 높이를 중간으로 나눠서 기준치를 넘는지 안넘는지를 판단함\n",
    "\n",
    "`-` 목표는 나무를 $x$미터까지 잘랐을 땐 기준치 미달인데 $x+1$미터를 자르니 기준치를 넘기는 $x+1$을 찾는 것\n",
    "\n",
    "`-` 여러번 틀려서 디버깅 해보니 나무를 반으로 나누는데 최댓값은 나무의 최대 높이로 하고 최솟값은 나무의 최소 높이로 설정했었다\n",
    "\n",
    "`-` 위에 처럼하면 잘못됐는데 왜냐하면 이 문제의 해가 나무의 최소 높이보다 더 낮은 높이를 절단해야 하면 답이 나오지 않기 때문이다\n",
    "\n",
    "`-` 예시로 나무가 $3$개 있고 높이가 각각 $10, 20, 30$이라 하고 필요한 나무는 $10$미터이라 하자\n",
    "\n",
    "`-` 이 경우는 잘못된 코드로 풀어도 가능함 ---> 왜냐면 정답이 $20$미터인데 $20$은 $10$과 $30$ 사이 숫자이므로\n",
    "\n",
    "`-` 하지만 필요한 나무가 $60$미터라면 정답은 $0$미터여야 하지만 틀린 코드는 최솟값 $10$과 최댓값 $30$ 사이를 이분 탐색하므로 $0$이 나올 수 가 없음"
   ]
  },
  {
   "cell_type": "code",
   "execution_count": 77,
   "id": "c57d4e8b-ef85-4ee4-a137-34e478b496b5",
   "metadata": {},
   "outputs": [
    {
     "name": "stdin",
     "output_type": "stream",
     "text": [
      " 4 7\n",
      " 20 15 10 17\n"
     ]
    },
    {
     "name": "stdout",
     "output_type": "stream",
     "text": [
      "15\n"
     ]
    }
   ],
   "source": [
    "def trees_sum(h): # 잘라서 나온 나무 높이의 합 구하기\n",
    "    _sum= 0\n",
    "    for i in range(N):\n",
    "        if x[i] > h:\n",
    "            _sum += x[i] - h\n",
    "    return _sum\n",
    "\n",
    "\n",
    "def cut(trees):\n",
    "    left = 0  # 잘못된 코드는 left = trees[0], 나머지는 동일함\n",
    "    right = trees[-1]\n",
    "    mid = (left + right) // 2\n",
    "    sum_ = trees_sum(mid)\n",
    "    while True:\n",
    "        if right - left < 2:\n",
    "            break    \n",
    "        if sum_ >= M:    \n",
    "            left = mid\n",
    "            mid = (left + right) // 2\n",
    "            sum_ = trees_sum(mid)  \n",
    "        else:\n",
    "            right = mid\n",
    "            mid = (left + right) // 2\n",
    "            sum_ = trees_sum(mid)\n",
    "    return mid\n",
    "\n",
    "\n",
    "N, M = map(int, input().split())\n",
    "x = list(map(int, input().split()))\n",
    "x.sort()\n",
    "print(cut(x))\n",
    "\n",
    "# input\n",
    "# 4 7\n",
    "# 20 15 10 17"
   ]
  },
  {
   "cell_type": "markdown",
   "id": "4e3aaced-9162-431a-bc0d-3b66e6c064df",
   "metadata": {},
   "source": [
    "## 수 찾기\n",
    "\n",
    "- 문제 출처: [백준 1920번](https://www.acmicpc.net/problem/1920)"
   ]
  },
  {
   "cell_type": "markdown",
   "id": "6fc1f572-e3a9-4b55-bf1d-0026c41f4f98",
   "metadata": {},
   "source": [
    "`-` 이분 탐색 문제이다\n",
    "\n",
    "`-` `list.index`를 사용해 접근하면 시간초과가 발생한다"
   ]
  },
  {
   "cell_type": "markdown",
   "id": "3df29fa7-066c-4b33-a7bd-0da59d2b45aa",
   "metadata": {},
   "source": [
    "```python\n",
    "n = int(input())\n",
    "nums = list(map(int, input().split()))\n",
    "nums.sort()\n",
    "m = int(input())\n",
    "nums2 = list(map(int, input().split()))\n",
    "for num in nums2:\n",
    "    left = nums[0]\n",
    "    right = nums[-1]\n",
    "    mid = nums[n // 2] \n",
    "    w = 0\n",
    "    while nums.index(right) - nums.index(left) >= 2:\n",
    "        if num == mid or num == left or num == right:\n",
    "            w = 1\n",
    "            break\n",
    "        if num >= mid:\n",
    "            left = nums[nums.index(mid)]\n",
    "            mid = nums[(nums.index(left) + nums.index(right)) // 2]\n",
    "        else:\n",
    "            right = nums[nums.index(mid)]\n",
    "            mid = nums[(nums.index(left) + nums.index(right)) // 2]\n",
    "    if num == mid or num == left or num == right:\n",
    "        w = 1\n",
    "    print(w)\n",
    "```"
   ]
  },
  {
   "cell_type": "markdown",
   "id": "37a11676-ace0-4293-b009-7544f32dbb44",
   "metadata": {},
   "source": [
    "`-` 생각해보니 위와 같이 하지 않고도 `nums`의 인덱스에 접근할 수 있다\n",
    "\n",
    "`-` 탐색구간을 `nums`가 아닌 $k = 1 \\sim n$까지 탐색하고 `nums[k]`를 사용해 인덱싱하면 된다"
   ]
  },
  {
   "cell_type": "code",
   "execution_count": 46,
   "id": "eb05396a-0796-400a-8e04-3109a1af4ee9",
   "metadata": {},
   "outputs": [
    {
     "name": "stdin",
     "output_type": "stream",
     "text": [
      " 5\n",
      " 4 1 5 2 3\n",
      " 5\n",
      " 1 3 7 9 5\n"
     ]
    },
    {
     "name": "stdout",
     "output_type": "stream",
     "text": [
      "1\n",
      "1\n",
      "0\n",
      "0\n",
      "1\n"
     ]
    }
   ],
   "source": [
    "n = int(input())\n",
    "nums = list(map(int, input().split()))\n",
    "nums.sort()\n",
    "m = int(input())\n",
    "nums2 = list(map(int, input().split()))\n",
    "for num in nums2:\n",
    "    left = 0\n",
    "    right = n-1\n",
    "    mid = (left + right) // 2 \n",
    "    while right - left >= 2:\n",
    "        if num >= nums[mid]:\n",
    "            left = mid \n",
    "            mid = (left + right) // 2 \n",
    "        else:\n",
    "            right = mid\n",
    "            mid = (left + right) // 2 \n",
    "    if nums[mid] == num or nums[right] == num:  # mid와 left는 동일해진다, right = mid+1\n",
    "        print(1)\n",
    "    else:\n",
    "        print(0)\n",
    "\n",
    "# input\n",
    "# 5\n",
    "# 4 1 5 2 3\n",
    "# 5\n",
    "# 1 3 7 9 5"
   ]
  },
  {
   "cell_type": "markdown",
   "id": "9b88d29f-7ebd-432f-abc0-75fab1147ef7",
   "metadata": {},
   "source": [
    "## 랜선 자르기\n",
    "\n",
    "- 문제 출처: [백준 1654번](https://www.acmicpc.net/problem/1654)"
   ]
  },
  {
   "cell_type": "markdown",
   "id": "5d8b5d38-8289-43de-9027-6175fd4d134d",
   "metadata": {},
   "source": [
    "`-` 나무 자르기 문제와 비슷한 유형이다\n",
    "\n",
    "`-` 임의의 랜선길이를 $s$라고 하자\n",
    "\n",
    "`-` 각 랜선들에 대해 $s$로 나눈 몫이 잘라서 나온 랜선의 개수이고 이들의 합이 총 개수이다\n",
    "\n",
    "`-` $k$개의 랜선이 필요하다고 하자\n",
    "\n",
    "`-` 만약 $s$로 나눈 몫들의 합이 $k$라면?\n",
    "\n",
    "`-` 일단 랜선의 개수 조건은 충족시켰으나 동일한 $k$에 대해 $s$를 최대화시켜야 한다 \n",
    "\n",
    "`-` 만약 $s$로 나눈 몫들의 합이 $k$보다 작았는데 $s-1$로 나눈 몫들의 합이 $k$라면?\n",
    "\n",
    "`-` 그 때의 $s$(임계값)가 바로 최대 랜선 길이이다"
   ]
  },
  {
   "cell_type": "code",
   "execution_count": 5,
   "id": "4b8e111f-2682-4c23-adc4-a6594bb7c9c7",
   "metadata": {},
   "outputs": [
    {
     "name": "stdin",
     "output_type": "stream",
     "text": [
      " 4 11\n",
      " 802\n",
      " 743\n",
      " 457\n",
      " 539\n"
     ]
    },
    {
     "name": "stdout",
     "output_type": "stream",
     "text": [
      "200\n"
     ]
    }
   ],
   "source": [
    "def total(data, s):  # 자르고 나온 랜선 개수 총합\n",
    "    return(sum(list(map(lambda x: x//s, data))))\n",
    "\n",
    "\n",
    "k, n = map(int, input().split())\n",
    "data = [int(input()) for _ in range(k)]\n",
    "low = 1\n",
    "high = max(data)  # min(data)로 하면 틀림, 1000, 1000, 1 ---> 3조각 낸다고 생각하자 ---> 답은 1? ㅋㅋㅋ\n",
    "# 만약 최소길이 랜선을 이용하지 않으면 요구된 랜선 개수를 충족시키지 못할 때 high = min(data)로 설정해도 된다\n",
    "# 하지만 그런 상황만 주어지는 것은 아니기에...\n",
    "mid = (low + high) // 2\n",
    "while high - low >= 2:\n",
    "    if total(data, mid) < n:\n",
    "        high = mid\n",
    "        mid = (low + high) // 2\n",
    "    else:  # 만약에 total(data, mid) == n이라면 이를 만족하는 mid에 대해서 mid값을 계속 증가킴으로써 임계값을 구한다       \n",
    "        low = mid\n",
    "        mid = (low + high) // 2\n",
    "# 아래 부분을 제외하면 틀린다 ---> why?\n",
    "# 일단 위의 코드 결과는 low = mid, right = mid + 1로 나온다 (while문 조건에 의해)\n",
    "# 만약 low가 임계값 - 1이라고 하자 ---> 정답은 low + 1이다\n",
    "# mid는 low보다 크기에 else문이 계속하여 실행된다\n",
    "# 코드를 실행하다 결과적으로 high = low + 1이 되면서 while문이 끝난다!\n",
    "# 그런데 low = mid = 임계값 - 1인 상황이다\n",
    "# 그러므로 위와 같은 상황을 처리하기 위해 아래 부분이 필요\n",
    "if total(data, high) == total(data, mid): \n",
    "    print(high)\n",
    "else:\n",
    "    print(mid)\n",
    "\n",
    "# input\n",
    "# 4 11\n",
    "# 802\n",
    "# 743\n",
    "# 457\n",
    "# 539"
   ]
  },
  {
   "cell_type": "markdown",
   "id": "456ab383-3412-46bf-984e-a0503e9c1b4c",
   "metadata": {},
   "source": [
    "## 가장 긴 증가하는 부분 수열 5\n",
    "\n",
    "- 문제 출처: [백준 14003번](https://www.acmicpc.net/problem/14003)"
   ]
  },
  {
   "cell_type": "markdown",
   "id": "8d4c202d-e8e5-42c0-8796-a3a44ec7dbbc",
   "metadata": {},
   "source": [
    "`-` [가장 긴 증가하는 부분 수열 2](https://www.acmicpc.net/problem/12015) 문제에 역추적을 더한 문제이다\n",
    "\n",
    "`-` [가장 긴 증가하는 부분 수열 4](https://www.acmicpc.net/problem/14002) 문제를 풀고 기여 의견을 봤는데 힌트를 얻어버렸다\n",
    "\n",
    "`-` LIS에 새로운 원소를 등록할 때 해당 원소 앞의 원소를 가리키도록 추적해놓으면 된다\n",
    "\n",
    "`-` 그럼 LIS가 매번 업데이트 되더라도 LIS 자체를 사용하는게 아니라 미리 추적해놓은 것을 사용하므로 문제 없다"
   ]
  },
  {
   "cell_type": "code",
   "execution_count": 2,
   "id": "1681b384-d22d-4719-9717-5a8a53975f4a",
   "metadata": {},
   "outputs": [
    {
     "name": "stdin",
     "output_type": "stream",
     "text": [
      " 6\n",
      " 10 20 10 30 20 50\n"
     ]
    },
    {
     "name": "stdout",
     "output_type": "stream",
     "text": [
      "4\n",
      "10 20 30 50\n"
     ]
    }
   ],
   "source": [
    "def compute_lis(array, n):\n",
    "    LIS_array = [None] * n  # LIS_array[i]는 i + 1 길이의 증가하는 부분 수열의 마지막 원소의 인덱스\n",
    "    LIS_array[0] = 0\n",
    "    LIS = 1  # 가장 긴 증가하는 부분 수열의 길이\n",
    "    dp = [None] * n  # dp[i]는 LIS를 이루는 array[i] 앞의 위치한 원소의 인덱스\n",
    "    for i, x in enumerate(array[1:], start=1):\n",
    "        left = 0\n",
    "        right = LIS - 1\n",
    "        while left <= right:\n",
    "            mid = (left + right) // 2\n",
    "            index = LIS_array[mid]\n",
    "            value = array[index]\n",
    "            if x <= value:\n",
    "                right = mid - 1\n",
    "            else:\n",
    "                left = mid + 1\n",
    "        LIS_array[left] = i\n",
    "        if left == LIS:\n",
    "            LIS += 1\n",
    "        if left == 0:\n",
    "            continue\n",
    "        dp[i] = LIS_array[left - 1]\n",
    "    index_last = LIS_array[LIS - 1]\n",
    "    lis = []\n",
    "    while True:\n",
    "        a = array[index_last]\n",
    "        lis.append(a)\n",
    "        index_last = dp[index_last]\n",
    "        if index_last is None:\n",
    "            break\n",
    "    lis = lis[::-1]\n",
    "    return lis\n",
    "\n",
    "\n",
    "def solution():\n",
    "    global INF\n",
    "    N = int(input())\n",
    "    array = list(map(int, input().split()))\n",
    "    INF = float(\"inf\")\n",
    "    lis = compute_lis(array, N)\n",
    "    print(len(lis))\n",
    "    print(*lis)\n",
    "\n",
    "\n",
    "solution()\n",
    "\n",
    "# input\n",
    "# 6\n",
    "# 10 20 10 30 20 50"
   ]
  },
  {
   "cell_type": "code",
   "execution_count": null,
   "id": "d74f3efc-1c64-4eeb-b9a7-7ca2aeff6d2e",
   "metadata": {},
   "outputs": [],
   "source": []
  }
 ],
 "metadata": {
  "kernelspec": {
   "display_name": "Python 3 (ipykernel)",
   "language": "python",
   "name": "python3"
  },
  "language_info": {
   "codemirror_mode": {
    "name": "ipython",
    "version": 3
   },
   "file_extension": ".py",
   "mimetype": "text/x-python",
   "name": "python",
   "nbconvert_exporter": "python",
   "pygments_lexer": "ipython3",
   "version": "3.8.11"
  }
 },
 "nbformat": 4,
 "nbformat_minor": 5
}
