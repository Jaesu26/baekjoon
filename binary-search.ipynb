{
 "cells": [
  {
   "cell_type": "markdown",
   "id": "597087fd-3e3e-4478-b195-83fa89c5705f",
   "metadata": {},
   "source": [
    "# 이분 탐색 (Binary Search)"
   ]
  },
  {
   "cell_type": "markdown",
   "id": "0f13c9cf-67b9-405e-bb47-acfd03c13aee",
   "metadata": {},
   "source": [
    "## 나무 자르기\n",
    "- 문제 출처: [백준 2805번](https://www.acmicpc.net/problem/2805)"
   ]
  },
  {
   "cell_type": "markdown",
   "id": "9f2527b5-b226-4037-bb3e-c2637f1717e8",
   "metadata": {},
   "source": [
    "`-` 이진 탐색으로 해결 가능할 듯 하다 ---> 처음 푸는 유형이었음\n",
    "\n",
    "`-` 나무를 높이 순서로 오름차순 정렬한 후 $0$과 최대 나무 높이를 중간으로 나눠서 기준치를 넘는지 안넘는지를 판단함\n",
    "\n",
    "`-` 목표는 나무를 $x$미터까지 잘랐을 땐 기준치 미달인데 $x+1$미터를 자르니 기준치를 넘기는 $x+1$을 찾는 것\n",
    "\n",
    "`-` 여러번 틀려서 디버깅 해보니 나무를 반으로 나누는데 최댓값은 나무의 최대 높이로 하고 최솟값은 나무의 최소 높이로 설정했었다\n",
    "\n",
    "`-` 위에 처럼하면 잘못됐는데 왜냐하면 이 문제의 해가 나무의 최소 높이보다 더 낮은 높이를 절단해야 하면 답이 나오지 않기 때문이다\n",
    "\n",
    "`-` 예시로 나무가 $3$개 있고 높이가 각각 $10, 20, 30$이라 하고 필요한 나무는 $10$미터이라 하자\n",
    "\n",
    "`-` 이 경우는 잘못된 코드로 풀어도 가능함 ---> 왜냐면 정답이 $20$미터인데 $20$은 $10$과 $30$ 사이 숫자이므로\n",
    "\n",
    "`-` 하지만 필요한 나무가 $60$미터라면 정답은 $0$미터여야 하지만 틀린 코드는 최솟값 $10$과 최댓값 $30$ 사이를 이분 탐색하므로 $0$이 나올 수가 없음"
   ]
  },
  {
   "cell_type": "code",
   "execution_count": 77,
   "id": "c57d4e8b-ef85-4ee4-a137-34e478b496b5",
   "metadata": {},
   "outputs": [
    {
     "name": "stdin",
     "output_type": "stream",
     "text": [
      " 4 7\n",
      " 20 15 10 17\n"
     ]
    },
    {
     "name": "stdout",
     "output_type": "stream",
     "text": [
      "15\n"
     ]
    }
   ],
   "source": [
    "def trees_sum(h):  # 잘라서 나온 나무 높이의 합 구하기\n",
    "    _sum = 0\n",
    "    for i in range(N):\n",
    "        if x[i] > h:\n",
    "            _sum += x[i] - h\n",
    "    return _sum\n",
    "\n",
    "\n",
    "def cut(trees):\n",
    "    left = 0  # 잘못된 코드는 left = trees[0], 나머지는 동일함\n",
    "    right = trees[-1]\n",
    "    mid = (left + right) // 2\n",
    "    sum_ = trees_sum(mid)\n",
    "    while True:\n",
    "        if right - left < 2:\n",
    "            break    \n",
    "        if sum_ >= M:    \n",
    "            left = mid\n",
    "            mid = (left + right) // 2\n",
    "            sum_ = trees_sum(mid)  \n",
    "        else:\n",
    "            right = mid\n",
    "            mid = (left + right) // 2\n",
    "            sum_ = trees_sum(mid)\n",
    "    return mid\n",
    "\n",
    "\n",
    "N, M = map(int, input().split())\n",
    "x = list(map(int, input().split()))\n",
    "x.sort()\n",
    "print(cut(x))\n",
    "\n",
    "# input\n",
    "# 4 7\n",
    "# 20 15 10 17"
   ]
  },
  {
   "cell_type": "markdown",
   "id": "4e3aaced-9162-431a-bc0d-3b66e6c064df",
   "metadata": {},
   "source": [
    "## 수 찾기\n",
    "\n",
    "- 문제 출처: [백준 1920번](https://www.acmicpc.net/problem/1920)"
   ]
  },
  {
   "cell_type": "markdown",
   "id": "6fc1f572-e3a9-4b55-bf1d-0026c41f4f98",
   "metadata": {},
   "source": [
    "`-` 이분 탐색 문제이다\n",
    "\n",
    "`-` `list.index`를 사용해 접근하면 시간초과가 발생한다"
   ]
  },
  {
   "cell_type": "markdown",
   "id": "3df29fa7-066c-4b33-a7bd-0da59d2b45aa",
   "metadata": {},
   "source": [
    "```python\n",
    "n = int(input())\n",
    "nums = list(map(int, input().split()))\n",
    "nums.sort()\n",
    "m = int(input())\n",
    "nums2 = list(map(int, input().split()))\n",
    "for num in nums2:\n",
    "    left = nums[0]\n",
    "    right = nums[-1]\n",
    "    mid = nums[n // 2] \n",
    "    w = 0\n",
    "    while nums.index(right) - nums.index(left) >= 2:\n",
    "        if num == mid or num == left or num == right:\n",
    "            w = 1\n",
    "            break\n",
    "        if num >= mid:\n",
    "            left = nums[nums.index(mid)]\n",
    "            mid = nums[(nums.index(left) + nums.index(right)) // 2]\n",
    "        else:\n",
    "            right = nums[nums.index(mid)]\n",
    "            mid = nums[(nums.index(left) + nums.index(right)) // 2]\n",
    "    if num == mid or num == left or num == right:\n",
    "        w = 1\n",
    "    print(w)\n",
    "```"
   ]
  },
  {
   "cell_type": "markdown",
   "id": "37a11676-ace0-4293-b009-7544f32dbb44",
   "metadata": {},
   "source": [
    "`-` 생각해보니 위와 같이 하지 않고도 `nums`의 인덱스에 접근할 수 있다\n",
    "\n",
    "`-` 탐색구간을 `nums`가 아닌 $k = 1 \\sim n$까지 탐색하고 `nums[k]`를 사용해 인덱싱하면 된다"
   ]
  },
  {
   "cell_type": "code",
   "execution_count": 46,
   "id": "eb05396a-0796-400a-8e04-3109a1af4ee9",
   "metadata": {},
   "outputs": [
    {
     "name": "stdin",
     "output_type": "stream",
     "text": [
      " 5\n",
      " 4 1 5 2 3\n",
      " 5\n",
      " 1 3 7 9 5\n"
     ]
    },
    {
     "name": "stdout",
     "output_type": "stream",
     "text": [
      "1\n",
      "1\n",
      "0\n",
      "0\n",
      "1\n"
     ]
    }
   ],
   "source": [
    "n = int(input())\n",
    "nums = list(map(int, input().split()))\n",
    "nums.sort()\n",
    "m = int(input())\n",
    "nums2 = list(map(int, input().split()))\n",
    "for num in nums2:\n",
    "    left = 0\n",
    "    right = n - 1\n",
    "    mid = (left + right) // 2 \n",
    "    while right - left >= 2:\n",
    "        if num >= nums[mid]:\n",
    "            left = mid \n",
    "            mid = (left + right) // 2 \n",
    "        else:\n",
    "            right = mid\n",
    "            mid = (left + right) // 2 \n",
    "    if nums[mid] == num or nums[right] == num:  # mid와 left는 동일해진다, right = mid + 1\n",
    "        print(1)\n",
    "    else:\n",
    "        print(0)\n",
    "\n",
    "# input\n",
    "# 5\n",
    "# 4 1 5 2 3\n",
    "# 5\n",
    "# 1 3 7 9 5"
   ]
  },
  {
   "cell_type": "markdown",
   "id": "9b88d29f-7ebd-432f-abc0-75fab1147ef7",
   "metadata": {},
   "source": [
    "## 랜선 자르기\n",
    "\n",
    "- 문제 출처: [백준 1654번](https://www.acmicpc.net/problem/1654)"
   ]
  },
  {
   "cell_type": "markdown",
   "id": "5d8b5d38-8289-43de-9027-6175fd4d134d",
   "metadata": {},
   "source": [
    "`-` 나무 자르기 문제와 비슷한 유형이다\n",
    "\n",
    "`-` 임의의 랜선길이를 $s$라고 하자\n",
    "\n",
    "`-` 각 랜선들에 대해 $s$로 나눈 몫이 잘라서 나온 랜선의 개수이고 이들의 합이 총 개수이다\n",
    "\n",
    "`-` $k$개의 랜선이 필요하다고 하자\n",
    "\n",
    "`-` 만약 $s$로 나눈 몫들의 합이 $k$라면?\n",
    "\n",
    "`-` 일단 랜선의 개수 조건은 충족시켰으나 동일한 $k$에 대해 $s$를 최대화시켜야 한다 \n",
    "\n",
    "`-` 만약 $s$로 나눈 몫들의 합이 $k$보다 작았는데 $s-1$로 나눈 몫들의 합이 $k$라면?\n",
    "\n",
    "`-` 그 때의 $s$(임계값)가 바로 최대 랜선 길이이다"
   ]
  },
  {
   "cell_type": "code",
   "execution_count": 1,
   "id": "4b8e111f-2682-4c23-adc4-a6594bb7c9c7",
   "metadata": {},
   "outputs": [
    {
     "name": "stdin",
     "output_type": "stream",
     "text": [
      " 4 11\n",
      " 802\n",
      " 743\n",
      " 457\n",
      " 539\n"
     ]
    },
    {
     "name": "stdout",
     "output_type": "stream",
     "text": [
      "200\n"
     ]
    }
   ],
   "source": [
    "def total(data, s):  # 자르고 나온 랜선 개수 총합\n",
    "    return sum(list(map(lambda x: x // s, data)))\n",
    "\n",
    "\n",
    "k, n = map(int, input().split())\n",
    "data = [int(input()) for _ in range(k)]\n",
    "low = 1\n",
    "high = max(data)  # min(data)로 하면 틀림, 1000, 1000, 1 ---> 3조각 낸다고 생각하자 ---> 답은 1? ㅋㅋㅋ\n",
    "# 만약 최소길이 랜선을 이용하지 않으면 요구된 랜선 개수를 충족시키지 못할 때 high = min(data)로 설정해도 된다\n",
    "# 하지만 그런 상황만 주어지는 것은 아니기에...\n",
    "mid = (low + high) // 2\n",
    "while high - low >= 2:\n",
    "    if total(data, mid) < n:\n",
    "        high = mid\n",
    "        mid = (low + high) // 2\n",
    "    else:  # 만약에 total(data, mid) == n이라면 이를 만족하는 mid에 대해서 mid값을 계속 증가킴으로써 임계값을 구한다       \n",
    "        low = mid\n",
    "        mid = (low + high) // 2\n",
    "# 아래 부분을 제외하면 틀린다 ---> why?\n",
    "# 일단 위의 코드 결과는 low = mid, right = mid + 1로 나온다 (while문 조건에 의해)\n",
    "# 만약 low가 임계값 - 1이라고 하자 ---> 정답은 low + 1이다\n",
    "# mid는 low보다 크기에 else문이 계속하여 실행된다\n",
    "# 코드를 실행하다 결과적으로 high = low + 1이 되면서 while문이 끝난다!\n",
    "# 그런데 low = mid = 임계값 - 1인 상황이다\n",
    "# 그러므로 위와 같은 상황을 처리하기 위해 아래 부분이 필요\n",
    "if total(data, high) == total(data, mid): \n",
    "    print(high)\n",
    "else:\n",
    "    print(mid)\n",
    "\n",
    "# input\n",
    "# 4 11\n",
    "# 802\n",
    "# 743\n",
    "# 457\n",
    "# 539"
   ]
  },
  {
   "cell_type": "markdown",
   "id": "1f6fafb5-19c1-4986-848d-2a5c8c2ec18b",
   "metadata": {},
   "source": [
    "## K번째 수\n",
    "\n",
    "- 문제 출처: [백준 1300번](https://www.acmicpc.net/problem/1300)"
   ]
  },
  {
   "cell_type": "markdown",
   "id": "2ec47780-30a0-425c-916d-f930b930a956",
   "metadata": {},
   "source": [
    "`-` 의외로 이분 탐색으로 풀 수 있는 놀라운 문제라고 한다\n",
    "\n",
    "`-` 단순히 $N^2$개의 원소를 정렬한 후 $k$번째 원소를 찾는 건 시간 초과이다\n",
    "\n",
    "`-` 반대각선을 긋고 어떻게든 구상을 해볼려 했는데 잘 안됐다\n",
    "\n",
    "`-` 근데 생각해보니 $(x,x)$의 원소보다 작거나 같은 원소의 개수를 $O(N)$에 계산할 수 있다\n",
    "\n",
    "`-` $(i,j)$의 원소는 $i\\times j$이므로 $i$행에서 열번호 $j$가 $\\left\\lfloor\\dfrac{x^2}{i}\\right\\rfloor$보다 작거나 같으면 $x^2$보다 작거나 같다\n",
    "\n",
    "`-` 즉, $i$행의 원소 중 $\\left\\lfloor\\dfrac{x^2}{i}\\right\\rfloor$개는 $(x,x)$의 원소보다 작다\n",
    "\n",
    "`-` 이를 $1$행부터 $N$행까지 반복하면 $(x,x)$의 원소보다 작거나 같은 원소의 개수를 알 수 있다\n",
    "\n",
    "`-` $x^2$보다 작은 원소의 개수가 $k$개 이상인 $x$ 중 가장 작은 $x$를 $x_*$라고 하자\n",
    "\n",
    "`-` 그럼 $k$번째 원소는 $(x_* - 1)^2$보다 크고 $x_*^2$보다 작거나 같다\n",
    "\n",
    "`-` $(x_* - 1)^2$보다 작거나 같은 원소의 개수를 $q$라고 하자\n",
    "\n",
    "`-` $(x_* - 1)^2$보다 크고 $x_*^2$보다 작거나 같은 원소들의 집합을 $S$라고 하자\n",
    "\n",
    "`-` $S$를 오름차순 정렬했을 때 $k-q$번째에 위치한 원소가 전체 원소 중 $k$번째 수가 된다\n",
    "\n",
    "`-` 집합 $S$를 구성하는 원소를 구하면 끝이다\n",
    "\n",
    "`-` $i$행에 대해 열 번호가 $\\left\\lfloor\\dfrac{(x_*-1)^2}{i}\\right\\rfloor$보다 크고 $\\left\\lfloor\\dfrac{x_*^2}{i}\\right\\rfloor$보다 작거나 같으면 집합 $S$에 속한다\n",
    "\n",
    "`-` 그러한 원소의 개수는 최악의 경우 러프하게 $(2N-1)\\sum\\limits_{i=1}^{i=N}\\dfrac{1}{i}$이고 이는 $O(N\\log N)$이다\n",
    "\n",
    "`-` $x_*$를 찾는 건 $N$개의 제곱 수에 대해 이진 탐색으로 찾으면 된다"
   ]
  },
  {
   "cell_type": "code",
   "execution_count": 36,
   "id": "cd3ae311-52b1-480e-b443-9518373f6e90",
   "metadata": {},
   "outputs": [
    {
     "name": "stdin",
     "output_type": "stream",
     "text": [
      " 3\n",
      " 7\n"
     ]
    },
    {
     "name": "stdout",
     "output_type": "stream",
     "text": [
      "6\n"
     ]
    }
   ],
   "source": [
    "def count_lower_bound(x, n):\n",
    "    num = 0\n",
    "    for i in range(1, n + 1):\n",
    "        num += min(x**2 // i, n)\n",
    "    return num\n",
    "\n",
    "\n",
    "def binary_search(n, k):\n",
    "    lower = 1\n",
    "    upper = n\n",
    "    while lower < upper:\n",
    "        mid = (lower + upper) // 2\n",
    "        num = count_lower_bound(mid, n)\n",
    "        if num >= k:\n",
    "            upper = mid\n",
    "        else:\n",
    "            lower = mid + 1\n",
    "    return upper\n",
    "    \n",
    "\n",
    "def solution():\n",
    "    N = int(input())\n",
    "    k = int(input())\n",
    "    x = binary_search(N, k)\n",
    "    q = count_lower_bound(x - 1, N)\n",
    "    elements = []\n",
    "    for i in range(1, N + 1):\n",
    "        start = min((x - 1)**2 // i, N) + 1\n",
    "        end = min(x**2 // i, N) \n",
    "        for j in range(start, end + 1):\n",
    "            e = i * j\n",
    "            elements.append(e)\n",
    "    elements.sort()\n",
    "    answer = elements[k - q - 1]\n",
    "    print(answer)\n",
    "\n",
    "\n",
    "solution()\n",
    "\n",
    "# input\n",
    "# 3\n",
    "# 7"
   ]
  },
  {
   "cell_type": "markdown",
   "id": "3c6e95e5-71aa-4000-a14c-c0d798a02710",
   "metadata": {},
   "source": [
    "`-` 질문 검색을 보니 더 쉽게 해결할 수 있는 방법이 있었다\n",
    "\n",
    "`-` 나는 반대각선의 위치한 원소에 대해 그 원소보다 작거나 같은 원소의 개수만 셌는데 이렇게 하는게 아니었다\n",
    "\n",
    "`-` 배열 $B$의 원소는 $1$과 $N^2$ 사이의 값을 가진다\n",
    "\n",
    "`-` 따라서 하한을 $1$로 설정하고 상한을 $N^2$으로 설정하여 $k$번째 수가 될 수 있는 $B$의 원소에 대해 이분 탐색을 하는 것이다\n",
    "\n",
    "`-` $O(N)$에 임의의 원소보다 작은 원소의 개수를 구할 수 있다 (기준이 $x^2$이 아니게 될 뿐이다)\n",
    "\n",
    "`-` 따라서 이분 탐색을 하면서 `mid`보다 작은 원소의 개수가 $k-1$개가 되도록 하는 `mid` 중 최솟값을 찾으면 된다\n",
    "\n",
    "`-` 그럼 $k$번째 수는 `mid`가 된다\n",
    "\n",
    "`-` 이분 탐색 중 `mid`보다 작은 원소의 개수가 $k-1$이라고 탐색을 멈추면 안되고 범위를 더 줄여서 탐색해야 한다\n",
    "\n",
    "`-` 왜냐하면 `mid`가 $N$보다 큰 소수일 수 있기 때문이다 (배열 $B$에 속하지 않는다)\n",
    "\n",
    "`-` 최종적으로 탐색할 공간이 없게 될 때의 `mid`가 정답이 된다"
   ]
  },
  {
   "cell_type": "code",
   "execution_count": null,
   "id": "44d59d26-3664-48ef-bbf6-9989e021f55b",
   "metadata": {},
   "outputs": [],
   "source": []
  }
 ],
 "metadata": {
  "kernelspec": {
   "display_name": "Python 3 (ipykernel)",
   "language": "python",
   "name": "python3"
  },
  "language_info": {
   "codemirror_mode": {
    "name": "ipython",
    "version": 3
   },
   "file_extension": ".py",
   "mimetype": "text/x-python",
   "name": "python",
   "nbconvert_exporter": "python",
   "pygments_lexer": "ipython3",
   "version": "3.8.11"
  }
 },
 "nbformat": 4,
 "nbformat_minor": 5
}
