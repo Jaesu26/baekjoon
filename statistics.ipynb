{
 "cells": [
  {
   "cell_type": "markdown",
   "id": "bd50fbb5-c109-4cc4-aef2-0e476a09664a",
   "metadata": {},
   "source": [
    "## 통계학 (Statistics)"
   ]
  },
  {
   "cell_type": "markdown",
   "id": "21611959-5c45-45e9-ae28-ac8d6f0ed8af",
   "metadata": {},
   "source": [
    "`-` 확률론, 기댓값의 선형성 등"
   ]
  },
  {
   "cell_type": "markdown",
   "id": "85a3117a-9b25-4e72-8d3b-c1807f70ed87",
   "metadata": {},
   "source": [
    "## 쿠폰\n",
    "\n",
    "- 문제 출처: [백준 1643번](https://www.acmicpc.net/problem/1643)"
   ]
  },
  {
   "cell_type": "markdown",
   "id": "7f60cb8e-1147-43aa-9f2f-a522256378ed",
   "metadata": {},
   "source": [
    "`-` 유명한 쿠폰 모으기 문제이다\n",
    "\n",
    "`-` 치킨을 주문하면 $1$부터 $N$까지의 숫자 중 하나가 랜덤하게 적힌 쿠폰을 한 장 받는다\n",
    "\n",
    "`-` $1$부터 $N$까지의 숫자가 적힌 $N$장의 쿠폰을 모두 모으는데 필요한 치킨 주문 횟수의 기댓값을 계산하자\n",
    "\n",
    "`-` 처음에 치킨을 사서 받은 쿠폰은 무조건 유효하다\n",
    "\n",
    "`-` 그 다음 치킨을 사서 받은 쿠폰은 처음에 받은 쿠폰에 적힌 숫자를 제외한 $N-1$개의 숫자 중 하나가 적혀있어야 유효이다\n",
    "\n",
    "`-` 이런식으로 하면 마지막엔 $N$개의 숫자 중 마지막으로 남은 하나의 숫자가 적힌 쿠폰을 얻을 때까지 치킨을 구매해야 한다\n",
    "\n",
    "`-` 각 단계에서 유효한 쿠폰을 얻을 확률 $p=\\dfrac{\\text{아직 얻지 못한 쿠폰의 개수}}{N}$이다\n",
    "\n",
    "`-` 어떤 쿠폰을 얻을지는 독립이므로 각 단계의 기댓값을 더하면 된다\n",
    "\n",
    "`-` 유효한 쿠폰을 얻을 때까지 치킨 구매를 시도하는 것이므로 치킨 구매 횟수는 기하 분포를 따른다\n",
    "\n",
    "`-` 기하 분포의 기댓값은 성공 확률이 $p$일 때 $\\dfrac{1}{p}$이다\n",
    "\n",
    "`-` 따라서 쿠폰을 모두 모드는데 필요한 치킨 주문 횟수의 기댓값은 $N\\sum\\limits_{i=1}^{N} \\dfrac{1}{i}$이다\n",
    "\n",
    "`-` 답을 분수로 나타내야 하므로 그대로 계산하면 안된다\n",
    "\n",
    "`-` 통분을 하게 되면 정답은 다음과 같다\n",
    "\n",
    "`-` $\\dfrac{1}{1\\cdot 2 \\cdot\\cdots \\cdot(N-1)}\\sum\\limits_{i=1}^{N} 1\\cdot 2\\cdot \\cdots \\cdot (i - 1)\\cdot (i+1)\\cdot\\cdots \\cdot (N-1)\\cdot N $\n",
    "\n",
    "`-` 위를 계산한 후 정수 부분을 뺀 나머지 분수에 대해 기약 분수로 만들면 된다\n",
    "\n",
    "`-` 기약 분수로 만들려면 분모, 분자의 최대 공약수로 분모와 분자를 나누면 된다\n",
    "\n",
    "`-` 입력이 끝나는 조건이 없는 경우 `EOFError`를 예외 처리했는데 그러지 말고 그냥 `except`문을 사용하자\n",
    "\n",
    "`-` 또는 `ValueError`도 같이 예외 처리 해야 한다 (이거 때문에 3번 틀림^^)"
   ]
  },
  {
   "cell_type": "code",
   "execution_count": 3,
   "id": "03919a0e-c843-44b7-98dd-67bc4d049f1a",
   "metadata": {},
   "outputs": [
    {
     "name": "stdin",
     "output_type": "stream",
     "text": [
      " 2\n"
     ]
    },
    {
     "name": "stdout",
     "output_type": "stream",
     "text": [
      "3\n"
     ]
    },
    {
     "name": "stdin",
     "output_type": "stream",
     "text": [
      " 5\n"
     ]
    },
    {
     "name": "stdout",
     "output_type": "stream",
     "text": [
      "   5\n",
      "11 --\n",
      "   12\n"
     ]
    },
    {
     "name": "stdin",
     "output_type": "stream",
     "text": [
      " 17\n"
     ]
    },
    {
     "name": "stdout",
     "output_type": "stream",
     "text": [
      "   340463\n",
      "58 ------\n",
      "   720720\n"
     ]
    },
    {
     "name": "stdin",
     "output_type": "stream",
     "text": [
      " -1\n"
     ]
    }
   ],
   "source": [
    "import math\n",
    "\n",
    "\n",
    "def make_an(i, n):\n",
    "    a_n = list(range(1, i)) + list(range(i + 1, n + 1))\n",
    "    return a_n\n",
    "\n",
    "\n",
    "def compute_gcd(a, b):\n",
    "    if a < b:\n",
    "        a, b = b, a\n",
    "    if a % b == 0:\n",
    "        return b\n",
    "    r = a % b\n",
    "    return compute_gcd(b, r)\n",
    "\n",
    "\n",
    "def compute_chicken_order_expectation(n):\n",
    "    numerator = sum(math.prod(make_an(i, n)) for i in range(1, n + 1))\n",
    "    denominator = math.prod(range(1, n)) \n",
    "    quotient = numerator // denominator\n",
    "    if numerator % denominator == 0:\n",
    "        return quotient, 1, 1\n",
    "    numerator -= quotient * denominator\n",
    "    gcd = compute_gcd(numerator, denominator)\n",
    "    numerator //= gcd\n",
    "    denominator //= gcd\n",
    "    return quotient, numerator, denominator\n",
    "\n",
    "\n",
    "def solve_testcase(n):\n",
    "    quotient, numerator, denominator = compute_chicken_order_expectation(n)\n",
    "    if numerator == denominator == 1:\n",
    "        print(quotient)\n",
    "        return\n",
    "    quotient_digit = len(str(quotient))\n",
    "    max_frac_digit = max(len(str(numerator)), len(str(denominator)))\n",
    "    print(\" \" * (quotient_digit + 1), end=\"\")\n",
    "    print(numerator)\n",
    "    print(quotient, end=\" \")\n",
    "    print(\"-\" * (max_frac_digit))\n",
    "    print(\" \" * (quotient_digit + 1), end=\"\")\n",
    "    print(denominator)\n",
    "\n",
    "\n",
    "def solution():\n",
    "    test_n = -1\n",
    "    while True:\n",
    "        try:\n",
    "            N = int(input())\n",
    "        except:\n",
    "            break\n",
    "        if N == test_n:\n",
    "            break\n",
    "        solve_testcase(N)\n",
    "\n",
    "\n",
    "solution()\n",
    "\n",
    "# input\n",
    "# 2\n",
    "# 5\n",
    "# 17\n",
    "# -1  # For test"
   ]
  },
  {
   "cell_type": "code",
   "execution_count": null,
   "id": "45084cf2-74aa-472e-8cab-741e19f872d4",
   "metadata": {},
   "outputs": [],
   "source": []
  }
 ],
 "metadata": {
  "kernelspec": {
   "display_name": "Python 3 (ipykernel)",
   "language": "python",
   "name": "python3"
  },
  "language_info": {
   "codemirror_mode": {
    "name": "ipython",
    "version": 3
   },
   "file_extension": ".py",
   "mimetype": "text/x-python",
   "name": "python",
   "nbconvert_exporter": "python",
   "pygments_lexer": "ipython3",
   "version": "3.8.11"
  }
 },
 "nbformat": 4,
 "nbformat_minor": 5
}
