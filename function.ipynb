{
 "cells": [
  {
   "cell_type": "markdown",
   "id": "6ddb8f22-c177-443d-bb4a-7d68169034d4",
   "metadata": {},
   "source": [
    "# 함수 (Function)"
   ]
  },
  {
   "cell_type": "markdown",
   "id": "af120f14-2bf6-4879-b41c-a8ba1f23c87f",
   "metadata": {
    "tags": []
   },
   "source": [
    "## N개의 합\n",
    "\n",
    "`-` 정수 n개가 주어졌을 때, n개의 합을 구하는 함수를 작성하시오"
   ]
  },
  {
   "cell_type": "code",
   "execution_count": 2,
   "id": "89106639-36fc-4449-826f-e866e29cd259",
   "metadata": {},
   "outputs": [],
   "source": [
    "# for문 버전\n",
    "def solve1(a):\n",
    "    sum = 0\n",
    "    for i in range(len(a)):\n",
    "        sum += a[i]\n",
    "    return(sum)"
   ]
  },
  {
   "cell_type": "code",
   "execution_count": 3,
   "id": "34d5f965-2d6d-4e42-a5a1-aa7a03aef3ae",
   "metadata": {},
   "outputs": [
    {
     "data": {
      "text/plain": [
       "10"
      ]
     },
     "execution_count": 3,
     "metadata": {},
     "output_type": "execute_result"
    }
   ],
   "source": [
    "a = [0, 1, 2, 3, 4]\n",
    "solve1(a)"
   ]
  },
  {
   "cell_type": "code",
   "execution_count": 4,
   "id": "e9d7b39c-2fa4-4bce-824f-4fa98d70f1a2",
   "metadata": {},
   "outputs": [],
   "source": [
    "# 내장함수 sum()버전\n",
    "def solve2(a):\n",
    "    return(sum(a))"
   ]
  },
  {
   "cell_type": "code",
   "execution_count": 5,
   "id": "c662d30a-5223-4a96-b97f-1c2884f148ab",
   "metadata": {},
   "outputs": [
    {
     "data": {
      "text/plain": [
       "10"
      ]
     },
     "execution_count": 5,
     "metadata": {},
     "output_type": "execute_result"
    }
   ],
   "source": [
    "a = [0, 1, 2, 3, 4]\n",
    "solve2(a)"
   ]
  },
  {
   "cell_type": "markdown",
   "id": "ba96c3f9-6b17-4390-9f76-d6c16c196ae8",
   "metadata": {},
   "source": [
    "## 셀프 넘버\n",
    "\n",
    "`-` 10,000보다 작거나 같은 셀프 넘버를 한 줄에 하나씩 증가하는 순서로 출력한다"
   ]
  },
  {
   "cell_type": "code",
   "execution_count": 9,
   "id": "4d83cce5-779e-4248-b703-f2fee1ad854a",
   "metadata": {},
   "outputs": [],
   "source": [
    "z = set(range(1, 10001)) - {x + sum([int(a) for a in str(x)]) for x in range(1, 10001)}\n",
    "z = list(z)\n",
    "z.sort()\n",
    "for i in range(len(z)):\n",
    "    # print(z[i])\n",
    "    pass\n",
    "\n",
    "    \n",
    "## 출력이 너무 길어서 출력은 생략"
   ]
  },
  {
   "cell_type": "markdown",
   "id": "1a56154a-84c4-4589-a21e-19d245ad7a3e",
   "metadata": {},
   "source": [
    "## 한수\n",
    "\n",
    "`-` 어떤 양의 정수 X의 각 자리가 등차수열을 이룬다면 그 수를 한수라고 한다\n",
    "\n",
    "`-` 등차수열은 연속된 두 개의 수의 차이가 일정한 수열을 말한다\n",
    "\n",
    "`-` N이 주어졌을 때, 1보다 크거나 같고 N보다 작거나 같은 한수의 개수를 출력하는 프로그램을 작성하시오"
   ]
  },
  {
   "cell_type": "code",
   "execution_count": 22,
   "id": "a62bf1f2-d265-491f-a5cf-9f61c5b29257",
   "metadata": {},
   "outputs": [
    {
     "name": "stdin",
     "output_type": "stream",
     "text": [
      " 700\n"
     ]
    },
    {
     "name": "stdout",
     "output_type": "stream",
     "text": [
      "129\n"
     ]
    }
   ],
   "source": [
    "N = int(input())\n",
    "def solve(a):  \n",
    "    if a < 100:\n",
    "        print(a)\n",
    "    else:\n",
    "        n = 99\n",
    "        for i in range(100, a+1):\n",
    "            if int(str(i)[1]) - int(str(i)[0]) == int(str(i)[2]) - int(str(i)[1]):\n",
    "                n += 1\n",
    "        print(n) \n",
    "solve(N)"
   ]
  },
  {
   "cell_type": "markdown",
   "id": "5ce21e3c-b8a1-45da-9671-acb8b573b81d",
   "metadata": {},
   "source": [
    "---"
   ]
  },
  {
   "cell_type": "markdown",
   "id": "eab539a9-13d4-4705-833b-aee11abaeed5",
   "metadata": {},
   "source": [
    "# 재귀함수(중요함 아마도 그리고 헷갈림)\n",
    "\n",
    "`-` 재귀함수를 구상해보자\n",
    "\n",
    "`-` 재귀함수는 관계가 중요하다\n",
    "\n",
    "`-` 팩토리얼에서는 $fact(x)= x * fact(x-1)$ 관계가 성립한다\n",
    "\n",
    "`-` $fact(0), fact(1)$ 은 1이다\n",
    "\n",
    "`-` x가 0 또는 1일 때는 return을 1로 설정하고 나머지의 경우에는  $fact(x)= x * fact(x-1)$ 을 return한다면 재귀함수가 된다\n",
    "\n",
    "`-` 즉, 기본값 [$fact(0 or 1)=1$] 을 알고 관계식 [$fact(x)= x * fact(x-1)$] 을 안다면 재귀함수로 구현할 수 있다"
   ]
  },
  {
   "cell_type": "markdown",
   "id": "927572eb-7e7f-41fb-8d0a-40b65f10f257",
   "metadata": {},
   "source": [
    "## 팩토리얼\n",
    "\n",
    "`-` 0보다 크거나 같은 정수 N이 주어진다\n",
    "\n",
    "`-` 이때, 재귀함수를 이용하여 N!을 출력하는 프로그램을 작성하시오"
   ]
  },
  {
   "cell_type": "code",
   "execution_count": null,
   "id": "a85d2039-56dc-4b2f-a948-44c365b8390c",
   "metadata": {},
   "outputs": [],
   "source": [
    "N = int(input())\n",
    "def fact(x):\n",
    "    if x == 0 or x == 1:\n",
    "        return 1\n",
    "    else:\n",
    "        return x * fact(x-1)\n",
    "print(fact(N))"
   ]
  },
  {
   "cell_type": "markdown",
   "id": "9acc7c6b-3283-4488-b11f-4c49d6927e46",
   "metadata": {},
   "source": [
    "## 피보나치 수 5 \n",
    "\n",
    "`-` n이 주어졌을 때, n번째 피보나치 수를 구하는 프로그램을 작성하시오\n",
    "\n",
    "`-` 0번째 피보나치 수는 0이고, 1번째 피보나치 수는 1이다\n",
    "\n",
    "`-` 그 다음 2번째 부터는 바로 앞 두 피보나치 수의 합이 된다\n",
    "\n",
    "`-` n은 20보다 작거나 같은 자연수"
   ]
  },
  {
   "cell_type": "code",
   "execution_count": 2,
   "id": "893bd4bf-90d6-439b-84f1-22b1643f15c7",
   "metadata": {},
   "outputs": [
    {
     "name": "stdin",
     "output_type": "stream",
     "text": [
      " 10\n"
     ]
    },
    {
     "name": "stdout",
     "output_type": "stream",
     "text": [
      "55\n"
     ]
    }
   ],
   "source": [
    "N = int(input())\n",
    "def fibo(x):\n",
    "    if x == 0:\n",
    "        return 0\n",
    "    elif x == 1:\n",
    "        return 1\n",
    "    else:\n",
    "        return fibo(x-1) + fibo(x-2)\n",
    "print(fibo(N))"
   ]
  },
  {
   "cell_type": "markdown",
   "id": "cb10c324-ec30-4706-83ff-39417435abdd",
   "metadata": {
    "tags": []
   },
   "source": [
    "## 피보나치 수열 메모이제이션\n",
    "\n",
    "`-` 피보나치 재귀 함수의 경우 이미 구한 값을 구하기 위해 반복을 많이 해서 효율성이 떨어진다\n",
    "\n",
    "`-` 재귀 함수가 효율적이지 못하다면 메모이제이션을 사용한다\n",
    "\n",
    "`-` 재귀함수가 한 번 호출될 때마다 결과값을 저장하여 효율성을 높이는 것이 좋다 (메모이제이션)"
   ]
  },
  {
   "cell_type": "code",
   "execution_count": 7,
   "id": "d544758d-0a27-4647-a717-be67fcb34ec6",
   "metadata": {},
   "outputs": [
    {
     "name": "stdin",
     "output_type": "stream",
     "text": [
      " 10\n"
     ]
    },
    {
     "name": "stdout",
     "output_type": "stream",
     "text": [
      "55\n"
     ]
    }
   ],
   "source": [
    "N = int(input())\n",
    "fibonacci = {0:0, 1:1} ## 메모이제이션을 위한 딕셔러니 선언\n",
    "\n",
    "def fibo(x):\n",
    "    if x in fibonacci:\n",
    "        return fibonacci[x]\n",
    "    \n",
    "    fibonacci[x] = fibo(x-1) + fibo(x-2)\n",
    "    \n",
    "    return fibonacci[x]\n",
    "\n",
    "print(fibo(N))"
   ]
  },
  {
   "cell_type": "markdown",
   "id": "067efdde-9955-46da-acc1-097953b75bcb",
   "metadata": {},
   "source": [
    "## print('문자열')"
   ]
  },
  {
   "cell_type": "markdown",
   "id": "bf4e6111-12e8-4762-b610-78292828715e",
   "metadata": {},
   "source": [
    "`-` $\\star$ 과 $\\star$ 사이에 빈칸이 있다\n",
    "\n",
    "`-` 이유는 `,`(콤마) 때문이다"
   ]
  },
  {
   "cell_type": "code",
   "execution_count": 90,
   "id": "ca49f93c-ea6c-49af-ac5b-ee807c38d801",
   "metadata": {},
   "outputs": [
    {
     "name": "stdout",
     "output_type": "stream",
     "text": [
      "* *"
     ]
    }
   ],
   "source": [
    "print('*', '*', end = \"\")"
   ]
  },
  {
   "cell_type": "markdown",
   "id": "a9f30c7c-7eb3-45cd-a6cd-46cfd0b93254",
   "metadata": {},
   "source": [
    "`-` `,`(콤마)를 없애면 $\\star$ 과 $\\star$ 사이에 빈칸이 없다"
   ]
  },
  {
   "cell_type": "code",
   "execution_count": 91,
   "id": "31c4b183-b42f-4c9e-9d47-490b87c9719c",
   "metadata": {},
   "outputs": [
    {
     "name": "stdout",
     "output_type": "stream",
     "text": [
      "**"
     ]
    }
   ],
   "source": [
    "print('*' '*', end = \"\")"
   ]
  },
  {
   "cell_type": "markdown",
   "id": "4e46d1eb-7a85-4f5a-913c-3a67ddc31416",
   "metadata": {},
   "source": [
    "## 하노이 탑 이동 순서\n",
    "\n",
    "`-` 한 번에 한 개의 원판만을 다른 탑으로 옮길 수 있다\n",
    "\n",
    "`-` 쌓아 놓은 원판은 항상 위의 것이 아래의 것보다 작아야 한다\n",
    "\n",
    "`-` 첫째 줄에 옮긴 횟수 K를 출력한다\n",
    "\n",
    "`-` 두 번째 줄부터 수행 과정을 출력한다 \n",
    "\n",
    "`-` 5개의 탑을 목적지로 옮긴다는 것은 가장 큰 원판을 목적지에 옮긴 상태에서\n",
    "\n",
    "`-` 나머지 4개의 탑을 목적지로 옮긴다는 것과 동일하다\n",
    "\n",
    "`-` 가장 큰 원판이 목적지에 있든 없든 어차피 가장 크기 때문에 나머지 원판이 이동하는데 영향을 끼치지 못한다\n",
    "\n",
    "`-` 즉 $k$개의 원판을 첫 번째 장대에서 세 번째 장대로 옮기는 방법은\n",
    "\n",
    "`-` 가장 큰 원판을 제외한 $k-1$개의 원판을 두 번째 장대로 옮기고 가장 큰 원판을 세 번째 장대로 옮기고\n",
    "\n",
    "`-` 다시 두 번째 장대에 놓인 $k-1$개의 원판을 세 번째 장대로 옮기면 된다"
   ]
  },
  {
   "cell_type": "code",
   "execution_count": 2,
   "id": "0c12f372-03c0-46af-b4a8-3830db3fbf39",
   "metadata": {},
   "outputs": [
    {
     "name": "stdin",
     "output_type": "stream",
     "text": [
      " 3\n"
     ]
    },
    {
     "name": "stdout",
     "output_type": "stream",
     "text": [
      "7\n",
      "1 3\n",
      "1 2\n",
      "3 2\n",
      "1 3\n",
      "2 1\n",
      "2 3\n",
      "1 3\n"
     ]
    }
   ],
   "source": [
    "N = int(input())\n",
    "\n",
    "def Hanoi(n, from_pos, to_pos, aux_pos):\n",
    "    if n == 1:\n",
    "        print(from_pos, to_pos)\n",
    "    else:\n",
    "        Hanoi(n-1, from_pos, aux_pos, to_pos)\n",
    "        print(from_pos, to_pos) ## 가장 큰 원반을 목적지로 이동\n",
    "        Hanoi(n-1, aux_pos, to_pos, from_pos)\n",
    "        \n",
    "print(2**N - 1)        \n",
    "Hanoi(N, 1, 3, 2)"
   ]
  },
  {
   "cell_type": "code",
   "execution_count": null,
   "id": "8c10429a-3695-4a0e-b6e8-06c404d9210e",
   "metadata": {},
   "outputs": [],
   "source": []
  }
 ],
 "metadata": {
  "kernelspec": {
   "display_name": "Python 3 (ipykernel)",
   "language": "python",
   "name": "python3"
  },
  "language_info": {
   "codemirror_mode": {
    "name": "ipython",
    "version": 3
   },
   "file_extension": ".py",
   "mimetype": "text/x-python",
   "name": "python",
   "nbconvert_exporter": "python",
   "pygments_lexer": "ipython3",
   "version": "3.8.11"
  }
 },
 "nbformat": 4,
 "nbformat_minor": 5
}
