{
 "cells": [
  {
   "cell_type": "markdown",
   "id": "1929ac4a-e991-4a9d-8d44-189b710f5a17",
   "metadata": {},
   "source": [
    "# 문자열 (String)"
   ]
  },
  {
   "cell_type": "markdown",
   "id": "d43700f0-29e8-4cc3-9f2c-706e6ae278f5",
   "metadata": {},
   "source": [
    "## 숫자의 합\n",
    "\n",
    "`-` N개의 숫자가 공백 없이 쓰여있을 때 이 숫자를 모두 합해서 출력하는 프로그램을 작성하시오"
   ]
  },
  {
   "cell_type": "code",
   "execution_count": 69,
   "id": "fbf494d1-8506-441f-9649-bc9f714fdd53",
   "metadata": {},
   "outputs": [
    {
     "name": "stdin",
     "output_type": "stream",
     "text": [
      " 5\n",
      " 54321\n"
     ]
    },
    {
     "name": "stdout",
     "output_type": "stream",
     "text": [
      "15\n"
     ]
    }
   ],
   "source": [
    "N = int(input())\n",
    "num_str = str(input())\n",
    "num_str = num_str.replace('0',\"\")\n",
    "print(sum([int(num_str[x]) for x in range(len(num_str))]))"
   ]
  },
  {
   "cell_type": "markdown",
   "id": "6f08d511-aa7b-4ea0-8c1a-db7d8290c723",
   "metadata": {},
   "source": [
    "`-` `map 함수 사용`"
   ]
  },
  {
   "cell_type": "code",
   "execution_count": 70,
   "id": "10beb2e1-6462-445e-af75-67dd55cbd027",
   "metadata": {},
   "outputs": [
    {
     "name": "stdin",
     "output_type": "stream",
     "text": [
      " 5\n",
      " 54321\n"
     ]
    },
    {
     "name": "stdout",
     "output_type": "stream",
     "text": [
      "15\n"
     ]
    }
   ],
   "source": [
    "N = int(input())\n",
    "num_str = str(input())\n",
    "print(sum(map(int, num_str)))"
   ]
  },
  {
   "cell_type": "markdown",
   "id": "81661701-ff54-497c-a1db-a755bdd96054",
   "metadata": {},
   "source": [
    "## 단어의 개수\n",
    "\n",
    "`-` 영어 대소문자와 띄어쓰기만으로 이루어진 문자열이 주어진다\n",
    "\n",
    "`-` 이 문자열에는 몇 개의 단어가 있을까? 이를 구하는 프로그램을 작성하시오\n",
    "\n",
    "`-` 단, 한 단어가 여러 번 등장하면 등장한 횟수만큼 모두 세어야 한다"
   ]
  },
  {
   "cell_type": "code",
   "execution_count": 34,
   "id": "7ec66785-b28c-4103-bdb4-57e9ccaf0f29",
   "metadata": {},
   "outputs": [
    {
     "name": "stdin",
     "output_type": "stream",
     "text": [
      " The Curious Case of Benjamin Button\n"
     ]
    },
    {
     "name": "stdout",
     "output_type": "stream",
     "text": [
      "6\n"
     ]
    }
   ],
   "source": [
    "string = str(input())\n",
    "s = string.split(' ')\n",
    "spaces = 0\n",
    "\n",
    "if s[0] == '':\n",
    "    spaces += 1\n",
    "if s[-1] == '':\n",
    "    spaces += 1\n",
    "    \n",
    "print(len(s) - spaces)"
   ]
  },
  {
   "cell_type": "markdown",
   "id": "0c4bc13c-22dc-4ac5-b756-02f4444d64f0",
   "metadata": {},
   "source": [
    "`-` 어이없는 상황을 맞이함"
   ]
  },
  {
   "cell_type": "markdown",
   "id": "73458353-0b4b-451e-8a87-1e11c05eb367",
   "metadata": {},
   "source": [
    "`-` 아래 코드는 틀린 코드임"
   ]
  },
  {
   "cell_type": "markdown",
   "id": "29eccda7-e260-4f77-a0a2-9d6cc376f3d4",
   "metadata": {},
   "source": [
    "```python\n",
    "string = str(input())\n",
    "s = string.split(' ')\n",
    "spaces = 0\n",
    "\n",
    "if s[0] or s[-1] == '':\n",
    "    spaces += 1\n",
    "    \n",
    "print(len(s) - spaces)\n",
    "```"
   ]
  },
  {
   "cell_type": "markdown",
   "id": "0c3a4f6f-6857-4a74-90bb-db21deebbb19",
   "metadata": {},
   "source": [
    "`-` input을 a = ' Mazatneunde Wae Teullyeoyo' 으로 하게 되면(' '은 빼고) 앞에 띄어쓰기가 있으므로 len(s) - 1 = 3이 출력되야 하는데 4가 출력됨"
   ]
  },
  {
   "cell_type": "code",
   "execution_count": 35,
   "id": "89010a55-7a23-471a-a493-264602b25470",
   "metadata": {},
   "outputs": [
    {
     "name": "stdin",
     "output_type": "stream",
     "text": [
      "  Mazatneunde Wae Teullyeoyo\n"
     ]
    },
    {
     "name": "stdout",
     "output_type": "stream",
     "text": [
      "4\n"
     ]
    }
   ],
   "source": [
    "string = str(input())\n",
    "s = string.split(' ')\n",
    "spaces = 0\n",
    "\n",
    "if s[0] or s[-1] == '':\n",
    "    spaces += 1\n",
    "    \n",
    "print(len(s) - spaces)"
   ]
  },
  {
   "cell_type": "markdown",
   "id": "31596d03-1091-497a-b2d2-812321c7d31e",
   "metadata": {},
   "source": [
    "`-` 사실 위 코드에 문제가 없는 건 아님\n",
    "\n",
    "`-` 만약 앞 뒤 모두 띄어쓰기가 있다면?"
   ]
  },
  {
   "cell_type": "code",
   "execution_count": 36,
   "id": "d920e9c7-9081-4b74-9370-8025d59d3798",
   "metadata": {},
   "outputs": [
    {
     "name": "stdin",
     "output_type": "stream",
     "text": [
      "  Mazatneunde Wae Teullyeoyo \n"
     ]
    },
    {
     "name": "stdout",
     "output_type": "stream",
     "text": [
      "4\n"
     ]
    }
   ],
   "source": [
    "string = str(input())\n",
    "s = string.split(' ')\n",
    "spaces = 0\n",
    "\n",
    "if s[0] or s[-1] == '':\n",
    "    spaces += 1\n",
    "    \n",
    "print(len(s) - spaces)"
   ]
  },
  {
   "cell_type": "markdown",
   "id": "44e3a82f-8b55-4550-90e9-c74cbafc7430",
   "metadata": {},
   "source": [
    "`-` 4가 출력됨??"
   ]
  },
  {
   "cell_type": "code",
   "execution_count": 37,
   "id": "eb87dbec-0e49-45b1-9da7-fb04c0d5b56b",
   "metadata": {},
   "outputs": [
    {
     "name": "stdin",
     "output_type": "stream",
     "text": [
      " Teullinika Teullyeotzi \n"
     ]
    },
    {
     "name": "stdout",
     "output_type": "stream",
     "text": [
      "2\n"
     ]
    }
   ],
   "source": [
    "string = str(input())\n",
    "s = string.split(' ')\n",
    "spaces = 0\n",
    "\n",
    "if s[0] or s[-1] == '':\n",
    "    spaces += 1\n",
    "    \n",
    "print(len(s) - spaces)"
   ]
  },
  {
   "cell_type": "markdown",
   "id": "4ac78b5b-068b-4327-b202-5c49811d7391",
   "metadata": {},
   "source": [
    "`-` 웃긴게 뒤에만 띄어쓰기가 있는 경우에는 올바르게 출력함"
   ]
  },
  {
   "cell_type": "markdown",
   "id": "6da3c09a-b235-4491-93a1-74ca3e868172",
   "metadata": {},
   "source": [
    "## 단어 공부\n",
    "\n",
    "`-` 알파벳 대소문자로 된 단어가 주어지면, 이 단어에서 가장 많이 사용된 알파벳이 무엇인지 알아내는 프로그램을 작성하시오\n",
    "\n",
    "`-` 단, 대문자와 소문자를 구분하지 않는다"
   ]
  },
  {
   "cell_type": "markdown",
   "id": "90202d43-3271-4552-83fa-59b92a55266f",
   "metadata": {},
   "source": [
    "`-` 처음에는 for문을 2개 사용해서 같은 원소가 몇 개인지 알아낼려고 했다\n",
    "\n",
    "`-` 그런데 문자열길이가 `백만`이라 for문을 2번 돌면 2초안에 통과를 못할 것 같았다\n",
    "\n",
    "`-` 그래서 for문을 2개 쓰는 대신 다른 방법을 생각했다\n",
    "\n",
    "`-` 문자열을 대문자로 바꾸고 A~Z까지 원소를 삭제한 후 문자열 길이를 비교해 몇 개가 있는지 파악하기로 했다.\n",
    "\n",
    "`-` 나중에 찾아보니 `count 함수`를 쓰면 더 쉽게 할 수 있다."
   ]
  },
  {
   "cell_type": "code",
   "execution_count": 27,
   "id": "e679d7ea-36c3-415d-8d8b-fd29b12fedcf",
   "metadata": {},
   "outputs": [
    {
     "name": "stdin",
     "output_type": "stream",
     "text": [
      " Mississipi\n"
     ]
    },
    {
     "name": "stdout",
     "output_type": "stream",
     "text": [
      "?\n"
     ]
    }
   ],
   "source": [
    "alphabet = str(input())\n",
    "alp = alphabet.upper()\n",
    "alpha_list = ['A', 'B', 'C', 'D', 'E', 'F', 'G', 'H', 'I', 'J', 'K', 'L', 'M', 'N', 'O', 'P', 'Q', 'R', 'S', 'T', 'U', 'V', 'W', 'X', 'Y', 'Z']\n",
    "lenghts = len(alphabet)\n",
    "max_alpha = []\n",
    "\n",
    "for i in alpha_list:\n",
    "    if i in alp:\n",
    "        a_len = len(alp.replace(i, ''))\n",
    "        \n",
    "        if a_len < lenghts:\n",
    "            lenghts = a_len\n",
    "            del max_alpha[:]\n",
    "            max_alpha.append(i)\n",
    "        \n",
    "        elif a_len == lenghts:\n",
    "            max_alpha.append(i)\n",
    "            \n",
    "if len(max_alpha) > 1:\n",
    "    print('?')\n",
    "    \n",
    "else:\n",
    "    print(max_alpha[0])        "
   ]
  },
  {
   "cell_type": "markdown",
   "id": "05366b13-c43d-4fad-b7c5-04ab084cdbc5",
   "metadata": {},
   "source": [
    "## 아스키 코드\n",
    "\n",
    "`-` 알파벳 소문자, 대문자, 숫자 0-9중 하나가 주어졌을 때, 주어진 글자의 아스키 코드값을 출력하는 프로그램을 작성하시오"
   ]
  },
  {
   "cell_type": "code",
   "execution_count": 3,
   "id": "23686cae-a424-47be-89b2-202805957cfe",
   "metadata": {},
   "outputs": [
    {
     "name": "stdin",
     "output_type": "stream",
     "text": [
      " 0\n"
     ]
    },
    {
     "name": "stdout",
     "output_type": "stream",
     "text": [
      "48\n"
     ]
    }
   ],
   "source": [
    "input_ = str(input())\n",
    "print(ord(input_))"
   ]
  },
  {
   "cell_type": "markdown",
   "id": "37bd17fc-e03e-42c4-9bf2-4877804c3bdf",
   "metadata": {},
   "source": [
    "## 알파벳 찾기\n",
    "\n",
    "`-` 알파벳 소문자로만 이루어진 단어 S가 주어진다\n",
    "\n",
    "`-` 각각의 알파벳에 대해서 단어에 포함되어 있는 경우에는 처음 등장하는 위치를, 포함되어 있지 않은 경우에는 -1을 출력하는 프로그램을 작성하시오"
   ]
  },
  {
   "cell_type": "code",
   "execution_count": 16,
   "id": "bfc66cbb-8099-4306-9140-d3047e7ea2a1",
   "metadata": {},
   "outputs": [
    {
     "name": "stdin",
     "output_type": "stream",
     "text": [
      " baekjoon\n"
     ]
    },
    {
     "name": "stdout",
     "output_type": "stream",
     "text": [
      "1 0 -1 -1 2 -1 -1 -1 -1 4 3 -1 -1 7 5 -1 -1 -1 -1 -1 -1 -1 -1 -1 -1 -1 "
     ]
    }
   ],
   "source": [
    "S = str(input())\n",
    "for i in 'abcdefghijklmnopqrstuvwxyz':\n",
    "    find_ = S.find(i)\n",
    "    print(find_, end = \" \")"
   ]
  },
  {
   "cell_type": "markdown",
   "id": "36dc6407-fbbb-44cd-b7f6-5196eaa79f30",
   "metadata": {},
   "source": [
    "## 문자열 반복\n",
    "\n",
    "`-` 문자열 S를 입력받은 후에, 각 문자를 R번 반복해 새 문자열 P를 만든 후 출력하는 프로그램을 작성하시오"
   ]
  },
  {
   "cell_type": "code",
   "execution_count": 36,
   "id": "f369402e-a183-47ea-a898-a0b173f02bff",
   "metadata": {},
   "outputs": [
    {
     "name": "stdin",
     "output_type": "stream",
     "text": [
      " 1\n",
      " 5 /HTP\n"
     ]
    },
    {
     "name": "stdout",
     "output_type": "stream",
     "text": [
      "/////HHHHHTTTTTPPPPP\n"
     ]
    }
   ],
   "source": [
    "T = int(input())\n",
    "\n",
    "for i in range(T):\n",
    "    R, S = map(str, input().split())\n",
    "    R = int(R)\n",
    "    string = ''\n",
    "    print(''.join([string + (S[j] * R) for j in range(len(S))]))"
   ]
  },
  {
   "cell_type": "markdown",
   "id": "99c944fb-9da6-4a60-9e82-38dc1b3fff3c",
   "metadata": {},
   "source": [
    "## 상수\n",
    "\n",
    "`-` 상근이의 동생 상수는 수학을 정말 못한다\n",
    "\n",
    "`-` 상수는 숫자를 읽는데 문제가 있다\n",
    "\n",
    "`-` 이렇게 수학을 못하는 상수를 위해서 상근이는 수의 크기를 비교하는 문제를 내주었다\n",
    "\n",
    "`-` 상근이는 세 자리 수 두 개를 칠판에 써주었다\n",
    "\n",
    "`-` 그 다음에 크기가 큰 수를 말해보라고 했다\n",
    "\n",
    "`-` 상수는 수를 다른 사람과 다르게 거꾸로 읽는다\n",
    "\n",
    "`-` 예를 들어, 734와 893을 칠판에 적었다면, 상수는 이 수를 437과 398로 읽는다\n",
    "\n",
    "`-` 따라서, 상수는 두 수중 큰 수인 437을 큰 수라고 말할 것이다\n",
    "\n",
    "`-` 두 수가 주어졌을 때, 상수의 대답을 출력하는 프로그램을 작성하시오"
   ]
  },
  {
   "cell_type": "code",
   "execution_count": 47,
   "id": "f9665116-8d98-4c01-a76b-755e0df0c32c",
   "metadata": {},
   "outputs": [
    {
     "name": "stdin",
     "output_type": "stream",
     "text": [
      " 734 893\n"
     ]
    },
    {
     "name": "stdout",
     "output_type": "stream",
     "text": [
      "437\n"
     ]
    }
   ],
   "source": [
    "a, b = map(str, input().split())\n",
    "\n",
    "rev_a = int(a[2] + a[1] + a[0])\n",
    "rev_b = int(b[2] + b[1] + b[0])\n",
    "\n",
    "if rev_a > rev_b:\n",
    "    print(rev_a)\n",
    "else:\n",
    "    print(rev_b)"
   ]
  },
  {
   "cell_type": "markdown",
   "id": "317b2470-e9e4-4cbb-b005-ca1b6e74cde9",
   "metadata": {},
   "source": [
    "## 크로아티아 알파벳 \n",
    "- 문제 출처: [백준 2941번](https://www.acmicpc.net/problem/2941)"
   ]
  },
  {
   "cell_type": "markdown",
   "id": "f7b0b0b1-3878-4a2b-8978-d8709310f59e",
   "metadata": {},
   "source": [
    "`-` 아니 디버깅하고 있었다가 예제 모두 맞춰서 이제 됐나? 싶어서 제출 했더니 정답임.. 근데 왜 맞지??\n",
    "\n",
    "`-` 왜 정답인지 생각해 봤음\n",
    "\n",
    "`-` 내 코드를 보면 `ddz=z=` 가 입력되면 `dz=`: 1개, `z=`: 2개임\n",
    "\n",
    "`-` `z=` 원래 1개여야 맞지만 `dz=`에 있는 `z=`을 `z=`에 포함시켜 2개임\n",
    "\n",
    "`-` `그래서 total_num이 원래보다 +1이 됐음`\n",
    "\n",
    "`-` 정상 출력은 total_num + len(S) - 2 * total_num임\n",
    "\n",
    "`-` 2를 곱한 이유는 알파벳 1개당 길이가 2여서임('dz='제외)\n",
    "\n",
    "`-` 근데 사실 출력이 잘못됨\n",
    "\n",
    "`-` 왜냐하면 'dz='의 길이는 3이기 때문 ---> `출력값이 'dz=' 하나당 1씩 부족함`\n",
    "\n",
    "`-` 그런데 'dz=' 에 'z='이 포함돼서 +1이 되어 -1과 +1이 서로 상쇄됨\n",
    "\n",
    "`-` 그래서 정답을 출력함, 노리고 한 건 아니지만 어부지리로 맞춘셈"
   ]
  },
  {
   "cell_type": "code",
   "execution_count": 102,
   "id": "224f69f6-f729-40ba-bf0b-e8f443939f2f",
   "metadata": {},
   "outputs": [
    {
     "name": "stdin",
     "output_type": "stream",
     "text": [
      " ddz=z=\n"
     ]
    },
    {
     "name": "stdout",
     "output_type": "stream",
     "text": [
      "3\n"
     ]
    }
   ],
   "source": [
    "S = str(input())\n",
    "s_len = len(S)\n",
    "total_num = (s_len - len(S.replace('dz=',''))) // 3\n",
    "\n",
    "for i in ['c=', 'c-', 'd-', 'lj', 'nj', 's=', 'z=']:\n",
    "    total_num += (s_len - len(S.replace(i, ''))) // 2\n",
    "    \n",
    "print(len(S) - total_num)\n",
    "\n",
    "# input\n",
    "# ddz=z="
   ]
  },
  {
   "cell_type": "markdown",
   "id": "4301639c-fb51-4f2c-a349-ce4c80bda44a",
   "metadata": {},
   "source": [
    "`-` 아래는 다른 사람이 작성한 코드를 보고 영감을 받아 작성한 코드임\n",
    "\n",
    "`-` 위에서 문제점은 `dz=`에 `z=`이 포함된것이다\n",
    "\n",
    "`-` 만약 'dz='을 없앤다면 괜찮을까? ---> 그렇지 않음\n",
    "\n",
    "`-` 만약 `ddz=z=`이면 'dz='을 없애도 'dz='이 남게 된다\n",
    "\n",
    "`-` 만약 'dz='을 없애는 대신에 다른 문자로 바꾼다면? 예컨데 알파벳이 아닌 다른 문자\n",
    "\n",
    "`-` 'dz='을 `*` 로 바꾼다면 `ddz=z=` ---> `d*z=`이 되어 제대로 개수를 셀 수 있음\n",
    "\n",
    "`-` 또 다른 장점은 이제 더 이상 알파벳의 개수를 셀 때 `//2 or //3` 을 하지 않아도 됨\n",
    "\n",
    "`-` 왜냐하면 크로아티아 알파벳을 `한 자리 문자`로 바꿨기 때문임\n",
    "\n",
    "`-` 모두 길이가 1이므로 바꾼 후에 최종 문자열의 길이를 출력하면 됨"
   ]
  },
  {
   "cell_type": "code",
   "execution_count": 106,
   "id": "7b645b0b-18ef-45e9-96f4-7a5c89621cc0",
   "metadata": {},
   "outputs": [
    {
     "name": "stdin",
     "output_type": "stream",
     "text": [
      " ddz=z=\n"
     ]
    },
    {
     "name": "stdout",
     "output_type": "stream",
     "text": [
      "3\n"
     ]
    }
   ],
   "source": [
    "S = input()\n",
    "for i in ['c=', 'c-', 'dz=', 'd-', 'lj', 'nj', 's=', 'z=']:\n",
    "    S = S.replace(i, '*')\n",
    "print(len(S))\n",
    "\n",
    "# input\n",
    "# ddz=z="
   ]
  },
  {
   "cell_type": "markdown",
   "id": "e004ef22-c117-408e-b532-c2c1a62b5ee4",
   "metadata": {},
   "source": [
    "## 그대로 출력하기\n",
    "\n",
    "- 문제 출처: [백준 11718번](https://www.acmicpc.net/problem/11718)"
   ]
  },
  {
   "cell_type": "code",
   "execution_count": 1,
   "id": "7764d4a8-195e-42fd-8fca-2c141c510cc6",
   "metadata": {},
   "outputs": [
    {
     "name": "stdout",
     "output_type": "stream",
     "text": [
      "Hello world!\n"
     ]
    }
   ],
   "source": [
    "while 1:\n",
    "    try:\n",
    "        print(input())        \n",
    "    except:\n",
    "        break"
   ]
  },
  {
   "cell_type": "markdown",
   "id": "c75d843e-8ada-4fd3-ad3a-3030ebaefbc8",
   "metadata": {},
   "source": [
    "## 그대로 출력하기2\n",
    "\n",
    "- 문제 출처: [백준 11719번](https://www.acmicpc.net/problem/11719)\n",
    "\n",
    "`-` 그대로 출력하기 문제와 동일한 코드로 해결됨"
   ]
  },
  {
   "cell_type": "code",
   "execution_count": 1,
   "id": "06c1622f-4dec-4eae-9c37-850750e0b466",
   "metadata": {},
   "outputs": [
    {
     "name": "stdout",
     "output_type": "stream",
     "text": [
      "Hello world!\n"
     ]
    }
   ],
   "source": [
    "while True:\n",
    "    try:\n",
    "        print(input())      \n",
    "    except:\n",
    "        break"
   ]
  },
  {
   "cell_type": "markdown",
   "id": "a2943444-273b-4141-89f1-88dcf2029671",
   "metadata": {},
   "source": [
    "## UCPC는 무엇의 약자일까?\n",
    "\n",
    "- 문제 출처: [백준 15904번](https://www.acmicpc.net/problem/15904)"
   ]
  },
  {
   "cell_type": "code",
   "execution_count": 53,
   "id": "4651b8a3-15e1-4105-907b-387ccde4c394",
   "metadata": {},
   "outputs": [
    {
     "name": "stdin",
     "output_type": "stream",
     "text": [
      " Union of Computer Programming Contest club contest\n"
     ]
    },
    {
     "name": "stdout",
     "output_type": "stream",
     "text": [
      "I love UCPC\n"
     ]
    }
   ],
   "source": [
    "words = input()\n",
    "cnt = 0\n",
    "\n",
    "for i in range(len(words)):\n",
    "    if cnt == 0 and words[i] == 'U':\n",
    "        cnt += 1\n",
    "    \n",
    "    elif cnt == 1 and words[i] == 'C':\n",
    "        cnt += 1\n",
    "        \n",
    "    elif cnt == 2 and words[i] == 'P':\n",
    "        cnt += 1\n",
    "        \n",
    "    elif cnt == 3 and words[i] == 'C':\n",
    "        cnt += 1 \n",
    "\n",
    "if cnt == 4:\n",
    "    print('I love UCPC')\n",
    "    \n",
    "else:\n",
    "    print('I hate UCPC')"
   ]
  },
  {
   "cell_type": "markdown",
   "id": "d6c3bd59-ebcf-489e-ba9c-188ad26656cb",
   "metadata": {},
   "source": [
    "## 펠린드롬 수\n",
    "\n",
    "- 문제 출처: [백준 1259번](https://www.acmicpc.net/problem/1259)"
   ]
  },
  {
   "cell_type": "code",
   "execution_count": 16,
   "id": "bd76b40e-6362-4b56-b8bd-f12346e66540",
   "metadata": {},
   "outputs": [
    {
     "name": "stdin",
     "output_type": "stream",
     "text": [
      " 121\n"
     ]
    },
    {
     "name": "stdout",
     "output_type": "stream",
     "text": [
      "yes\n"
     ]
    },
    {
     "name": "stdin",
     "output_type": "stream",
     "text": [
      " 1231\n"
     ]
    },
    {
     "name": "stdout",
     "output_type": "stream",
     "text": [
      "no\n"
     ]
    },
    {
     "name": "stdin",
     "output_type": "stream",
     "text": [
      " 12421\n"
     ]
    },
    {
     "name": "stdout",
     "output_type": "stream",
     "text": [
      "yes\n"
     ]
    },
    {
     "name": "stdin",
     "output_type": "stream",
     "text": [
      " 0\n"
     ]
    }
   ],
   "source": [
    "Q = True\n",
    "while Q:\n",
    "    nums = list(input())\n",
    "    if nums == ['0']:\n",
    "        Q = False\n",
    "    elif nums == list(reversed(nums)):\n",
    "        print('yes')\n",
    "    else:\n",
    "        print('no')"
   ]
  },
  {
   "cell_type": "markdown",
   "id": "25188614-5cee-4b2b-9ea2-ad7ac14069f7",
   "metadata": {},
   "source": [
    "## 단어 정렬\n",
    "\n",
    "- 문제 출처: [백준 1181번](https://www.acmicpc.net/problem/1181)"
   ]
  },
  {
   "cell_type": "code",
   "execution_count": 21,
   "id": "51bc6867-ac55-4024-8ef7-1322d3708c7f",
   "metadata": {},
   "outputs": [
    {
     "name": "stdin",
     "output_type": "stream",
     "text": [
      " 5\n",
      " i\n",
      " but\n",
      " wont\n",
      " more\n",
      " wait\n"
     ]
    },
    {
     "name": "stdout",
     "output_type": "stream",
     "text": [
      "i\n",
      "but\n",
      "more\n",
      "wait\n",
      "wont\n"
     ]
    }
   ],
   "source": [
    "data = []\n",
    "N = int(input())\n",
    "for _ in range(N):\n",
    "    data.append(input())\n",
    "    \n",
    "data = list(set(data))\n",
    "data.sort(key = lambda x: (len(x), x)) ## 길이를 기준으로 오름차순으로 정렬, 길이가 같으면 사전순으로 정렬 \n",
    "print('\\n'.join(data))\n",
    "\n",
    "# input\n",
    "# 5\n",
    "# i\n",
    "# but\n",
    "# wont\n",
    "# more\n",
    "# wait"
   ]
  },
  {
   "cell_type": "markdown",
   "id": "2c2ae8da-6eca-4052-b243-6a571f841d33",
   "metadata": {},
   "source": [
    "## 다이얼\n",
    "\n",
    "- 문제 출처: [백준 5622번](https://www.acmicpc.net/problem/5622)"
   ]
  },
  {
   "cell_type": "code",
   "execution_count": 17,
   "id": "5e5f098b-db08-4664-8780-70859097bb32",
   "metadata": {},
   "outputs": [
    {
     "name": "stdin",
     "output_type": "stream",
     "text": [
      " ABCDEFGHIJKLMNOPQRSTVWXYZ\n"
     ]
    },
    {
     "name": "stdout",
     "output_type": "stream",
     "text": [
      "165\n"
     ]
    }
   ],
   "source": [
    "eng = {'A':2, 'B': 2, 'C':2, 'D':3, 'E':3, 'F':3, 'G':4, 'H':4, 'I':4,\n",
    "       'J':5, 'K':5, 'L':5, 'M':6, 'N':6, 'O':6, 'P':7, 'Q':7, 'R':7, 'S':7,\n",
    "       'T':8, 'U':8, 'V':8, 'W':9, 'X':9, 'Y':9, 'Z':9}\n",
    "char = input()\n",
    "print(sum([eng[ch] for ch in char]) + len(char))\n",
    "# ABCDEFGHIJKLMNOPQRSTVWXYZ"
   ]
  },
  {
   "cell_type": "markdown",
   "id": "cb6fd961-fba3-4424-bc2e-6750fe6b1e02",
   "metadata": {},
   "source": [
    "## 그룹 단어 체커\n",
    "\n",
    "- 문제 출처: [백준 1316번](https://www.acmicpc.net/problem/1316)"
   ]
  },
  {
   "cell_type": "code",
   "execution_count": 5,
   "id": "ac948cf9-6f56-4672-9b9c-aa7ae3f21071",
   "metadata": {},
   "outputs": [
    {
     "name": "stdin",
     "output_type": "stream",
     "text": [
      " 2\n",
      " yzyzy\n",
      " zyzyz\n"
     ]
    },
    {
     "name": "stdout",
     "output_type": "stream",
     "text": [
      "0\n"
     ]
    }
   ],
   "source": [
    "cnt = 0\n",
    "for _ in range(int(input())):\n",
    "    word = input()\n",
    "    char = [word[0]] ## 한번 등장한 단어가 나중에 또 등장하는지 판단\n",
    "    \n",
    "    for w in word:\n",
    "        if w in char and w != char[-1]: ## 이미 한번 등장한 단어인데 연속하여 등장한 것이 아니라면\n",
    "            cnt -= 1\n",
    "            break ## 그룹 단어가 아니다\n",
    "        char.append(w)\n",
    "    cnt += 1 ## 기본적으로 단어 하나당 +1을 해준다(그룹 단어가 아닌 경우는 위에서 -1을 해줌)\n",
    "print(cnt)\n",
    "\n",
    "# input\n",
    "# 2\n",
    "# yzyzy\n",
    "# zyzyz"
   ]
  },
  {
   "cell_type": "markdown",
   "id": "b23d964c-b2f9-4a5f-bf91-c98b523b60eb",
   "metadata": {},
   "source": [
    "## IOIOI\n",
    "\n",
    "- 문제 출처: [백준 5525번](https://www.acmicpc.net/problem/5525)"
   ]
  },
  {
   "cell_type": "markdown",
   "id": "a8ebe340-55fd-411a-80dc-eb8eb113c4a2",
   "metadata": {},
   "source": [
    "`-` 문자열 매칭 알고리즘을 이용해 해결하는 문제이다 (사실 아니었음)"
   ]
  },
  {
   "cell_type": "markdown",
   "id": "4f889547-fe67-452d-a881-faed2a20ab48",
   "metadata": {},
   "source": [
    "```python\n",
    "## Rabin-Karp 알고리즘\n",
    "def RK_search(A, P, q=1610612741):\n",
    "    p̃ = 0 ## fingerprint of the number of P\n",
    "    ã = 0 ## fingerprint of the number of substring of A at index 0\n",
    "    count = 0\n",
    "    \n",
    "    for i in range(2*N + 1):\n",
    "        p̃ = (int(P[i]) + 2*p̃) % q\n",
    "        ã = (int(A[i]) + 2*ã) % q\n",
    "        \n",
    "    for i in range(M - 2*N - 1): \n",
    "        if i > 0:\n",
    "            ã = (2*(ã - ((2**(2*N)) % q) * int(A[i - 1])) + int(A[i + 2*N])) % q\n",
    "        if p̃ == ã:\n",
    "            count += 1\n",
    "            if P == A[i:i + 2*N + 1]:\n",
    "                count += 1\n",
    "    return count\n",
    "                \n",
    "## 입력\n",
    "N = int(input())\n",
    "M = int(input())\n",
    "S = input() ## I는 1, O는 2로 생각하자\n",
    "S = S.replace('I', '1')\n",
    "S = S.replace('O', '2')\n",
    "Pn = ''.join([('12' * N), '1'])\n",
    "print(RK_search(S, Pn))\n",
    "```"
   ]
  },
  {
   "cell_type": "markdown",
   "id": "a38b52f2-4eb5-4354-bfc7-a6b9d9741afc",
   "metadata": {},
   "source": [
    "`-` 위의 Rabin-Karp 알고리즘은 최악의 경우 $O(nm)$이기 때문에 시간초과이다"
   ]
  },
  {
   "cell_type": "markdown",
   "id": "daceaa85-acfa-4854-a129-f8fe5593ebff",
   "metadata": {},
   "source": [
    "`-` 알고리즘 시간에 배운 KMP 알고리즘을 사용하자 (공부해야 됨)"
   ]
  },
  {
   "cell_type": "code",
   "execution_count": 7,
   "id": "446b6019-62cf-4561-962b-6417a84d03bb",
   "metadata": {},
   "outputs": [
    {
     "name": "stdin",
     "output_type": "stream",
     "text": [
      " 2\n",
      " 13\n",
      " OOIOIOIOIIOII\n"
     ]
    },
    {
     "name": "stdout",
     "output_type": "stream",
     "text": [
      "2\n"
     ]
    }
   ],
   "source": [
    "## 입력\n",
    "N = int(input())\n",
    "M = int(input())\n",
    "S = ''.join(['*', input()])\n",
    "Pn = ''.join(['*', ('IO' * N), 'I'])\n",
    "\n",
    "def KMP_search(A, P, π):\n",
    "    i = 1 ## pointing to A\n",
    "    j = 1 ## pointing to P\n",
    "    count = 0\n",
    "    \n",
    "    while i <= M:\n",
    "        if j == 0 or A[i] == P[j]:\n",
    "            i += 1\n",
    "            j += 1\n",
    "        else:\n",
    "            j = π[j]\n",
    "        \n",
    "        if j == 2*N + 2: ## match\n",
    "            count += 1\n",
    "            j = π[j]\n",
    "    return count\n",
    "    \n",
    "def KMP_failure_array(P):\n",
    "    j = 1\n",
    "    k = 0\n",
    "    π = [-1] * (2*N + 3) ## 0 ~ 2*N + 2\n",
    "    π[1] = 0\n",
    "    \n",
    "    while j <= 2*N + 1:\n",
    "        if k == 0 or P[j] == P[k]:\n",
    "            j += 1\n",
    "            k += 1\n",
    "            π[j] = k\n",
    "        else:\n",
    "            k = π[k]\n",
    "    return π\n",
    "\n",
    "π = KMP_failure_array(Pn)\n",
    "print(KMP_search(S, Pn, π))\n",
    "\n",
    "# input\n",
    "# 2\n",
    "# 13\n",
    "# OOIOIOIOIIOII"
   ]
  },
  {
   "cell_type": "markdown",
   "id": "4eb37c7d-b8b0-47f7-8f12-67dab46c1398",
   "metadata": {
    "tags": []
   },
   "source": [
    "## 팰린드롬인지 확인하기\n",
    "\n",
    "- 문제 출처: [백준 10988번](https://www.acmicpc.net/problem/10988)"
   ]
  },
  {
   "cell_type": "code",
   "execution_count": 7,
   "id": "573f6499-a5cf-46bc-aa0c-012fa815f638",
   "metadata": {},
   "outputs": [
    {
     "name": "stdin",
     "output_type": "stream",
     "text": [
      " level\n"
     ]
    },
    {
     "name": "stdout",
     "output_type": "stream",
     "text": [
      "1\n"
     ]
    }
   ],
   "source": [
    "def solution():\n",
    "    string = input()\n",
    "    if string == string[::-1]:\n",
    "        print(1)\n",
    "    else:\n",
    "        print(0)\n",
    "\n",
    "solution()\n",
    "\n",
    "# input\n",
    "# level"
   ]
  },
  {
   "cell_type": "markdown",
   "id": "742e1411-c955-4396-a705-ac284f1bc49d",
   "metadata": {},
   "source": [
    "## 별 찍기 - 7\n",
    "\n",
    "- 문제 출처: [백준 2444번](https://www.acmicpc.net/problem/2444)"
   ]
  },
  {
   "cell_type": "code",
   "execution_count": 50,
   "id": "78da99f5-1cc3-4e54-9793-07c467af5dd0",
   "metadata": {},
   "outputs": [
    {
     "name": "stdin",
     "output_type": "stream",
     "text": [
      " 5\n"
     ]
    },
    {
     "name": "stdout",
     "output_type": "stream",
     "text": [
      "    *\n",
      "   ***\n",
      "  *****\n",
      " *******\n",
      "*********\n",
      " *******\n",
      "  *****\n",
      "   ***\n",
      "    *\n"
     ]
    }
   ],
   "source": [
    "def solution():\n",
    "    N = int(input())\n",
    "    length = 2*N - 1\n",
    "    for i in range(1, N):\n",
    "        for j in range(N - i):\n",
    "            print(\" \", end=\"\")\n",
    "        print(\"*\" * (2*i - 1))\n",
    "    print(\"*\" * length)\n",
    "    for i in range(1, N):\n",
    "        for j in range(i):\n",
    "            print(\" \", end=\"\")\n",
    "        print(\"*\" * (length - 2*i))\n",
    "\n",
    "solution()\n",
    "\n",
    "# input\n",
    "# 5"
   ]
  },
  {
   "cell_type": "code",
   "execution_count": null,
   "id": "d28bc498-ebcf-47af-99d5-9d4ccc5298e9",
   "metadata": {},
   "outputs": [],
   "source": []
  }
 ],
 "metadata": {
  "kernelspec": {
   "display_name": "Python 3 (ipykernel)",
   "language": "python",
   "name": "python3"
  },
  "language_info": {
   "codemirror_mode": {
    "name": "ipython",
    "version": 3
   },
   "file_extension": ".py",
   "mimetype": "text/x-python",
   "name": "python",
   "nbconvert_exporter": "python",
   "pygments_lexer": "ipython3",
   "version": "3.8.11"
  }
 },
 "nbformat": 4,
 "nbformat_minor": 5
}
