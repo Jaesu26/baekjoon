{
 "cells": [
  {
   "cell_type": "markdown",
   "id": "1929ac4a-e991-4a9d-8d44-189b710f5a17",
   "metadata": {},
   "source": [
    "# 문자열 (String)"
   ]
  },
  {
   "cell_type": "markdown",
   "id": "d43700f0-29e8-4cc3-9f2c-706e6ae278f5",
   "metadata": {},
   "source": [
    "## 숫자의 합\n",
    "\n",
    "`-` 문제 출처: [백준 11720번](https://www.acmicpc.net/problem/11720)"
   ]
  },
  {
   "cell_type": "code",
   "execution_count": 69,
   "id": "fbf494d1-8506-441f-9649-bc9f714fdd53",
   "metadata": {},
   "outputs": [
    {
     "name": "stdin",
     "output_type": "stream",
     "text": [
      " 5\n",
      " 54321\n"
     ]
    },
    {
     "name": "stdout",
     "output_type": "stream",
     "text": [
      "15\n"
     ]
    }
   ],
   "source": [
    "N = int(input())\n",
    "num_str = str(input())\n",
    "num_str = num_str.replace('0', '')\n",
    "print(sum([int(num_str[x]) for x in range(len(num_str))]))"
   ]
  },
  {
   "cell_type": "markdown",
   "id": "6f08d511-aa7b-4ea0-8c1a-db7d8290c723",
   "metadata": {},
   "source": [
    "`-` `map 함수 사용`"
   ]
  },
  {
   "cell_type": "code",
   "execution_count": 70,
   "id": "10beb2e1-6462-445e-af75-67dd55cbd027",
   "metadata": {},
   "outputs": [
    {
     "name": "stdin",
     "output_type": "stream",
     "text": [
      " 5\n",
      " 54321\n"
     ]
    },
    {
     "name": "stdout",
     "output_type": "stream",
     "text": [
      "15\n"
     ]
    }
   ],
   "source": [
    "N = int(input())\n",
    "num_str = str(input())\n",
    "print(sum(map(int, num_str)))"
   ]
  },
  {
   "cell_type": "markdown",
   "id": "81661701-ff54-497c-a1db-a755bdd96054",
   "metadata": {},
   "source": [
    "## 단어의 개수\n",
    "\n",
    "- 문제 출처: [백준 1152번](https://www.acmicpc.net/problem/1152)"
   ]
  },
  {
   "cell_type": "code",
   "execution_count": 34,
   "id": "7ec66785-b28c-4103-bdb4-57e9ccaf0f29",
   "metadata": {},
   "outputs": [
    {
     "name": "stdin",
     "output_type": "stream",
     "text": [
      " The Curious Case of Benjamin Button\n"
     ]
    },
    {
     "name": "stdout",
     "output_type": "stream",
     "text": [
      "6\n"
     ]
    }
   ],
   "source": [
    "string = str(input())\n",
    "s = string.split(' ')\n",
    "spaces = 0\n",
    "if s[0] == '':\n",
    "    spaces += 1\n",
    "if s[-1] == '':\n",
    "    spaces += 1\n",
    "print(len(s) - spaces)"
   ]
  },
  {
   "cell_type": "markdown",
   "id": "0c4bc13c-22dc-4ac5-b756-02f4444d64f0",
   "metadata": {},
   "source": [
    "`-` 어이없는 상황을 맞이함"
   ]
  },
  {
   "cell_type": "markdown",
   "id": "73458353-0b4b-451e-8a87-1e11c05eb367",
   "metadata": {},
   "source": [
    "`-` 아래 코드는 틀린 코드임"
   ]
  },
  {
   "cell_type": "markdown",
   "id": "29eccda7-e260-4f77-a0a2-9d6cc376f3d4",
   "metadata": {},
   "source": [
    "```python\n",
    "string = str(input())\n",
    "s = string.split(' ')\n",
    "spaces = 0\n",
    "if s[0] or s[-1] == '':\n",
    "    spaces += 1\n",
    "print(len(s) - spaces)\n",
    "```"
   ]
  },
  {
   "cell_type": "markdown",
   "id": "0c3a4f6f-6857-4a74-90bb-db21deebbb19",
   "metadata": {},
   "source": [
    "`-` input을 `' Mazatneunde Wae Teullyeoyo'`으로 하게 되면 앞에 띄어쓰기가 있으므로 `len(s) - 1 = 3`이 출력되야 하는데 $4$가 출력됨"
   ]
  },
  {
   "cell_type": "code",
   "execution_count": 2,
   "id": "89010a55-7a23-471a-a493-264602b25470",
   "metadata": {},
   "outputs": [
    {
     "name": "stdin",
     "output_type": "stream",
     "text": [
      "  Mazatneunde Wae Teullyeoyo\n"
     ]
    },
    {
     "name": "stdout",
     "output_type": "stream",
     "text": [
      "4\n"
     ]
    }
   ],
   "source": [
    "string = str(input())\n",
    "s = string.split(' ')\n",
    "spaces = 0\n",
    "if s[0] or s[-1] == '':\n",
    "    spaces += 1\n",
    "print(len(s) - spaces)"
   ]
  },
  {
   "cell_type": "markdown",
   "id": "31596d03-1091-497a-b2d2-812321c7d31e",
   "metadata": {},
   "source": [
    "`-` 사실 위 코드에 문제가 없는 건 아님\n",
    "\n",
    "`-` 만약 앞 뒤 모두 띄어쓰기가 있다면?"
   ]
  },
  {
   "cell_type": "code",
   "execution_count": 36,
   "id": "d920e9c7-9081-4b74-9370-8025d59d3798",
   "metadata": {},
   "outputs": [
    {
     "name": "stdin",
     "output_type": "stream",
     "text": [
      "  Mazatneunde Wae Teullyeoyo \n"
     ]
    },
    {
     "name": "stdout",
     "output_type": "stream",
     "text": [
      "4\n"
     ]
    }
   ],
   "source": [
    "string = str(input())\n",
    "s = string.split(' ')\n",
    "spaces = 0\n",
    "if s[0] or s[-1] == '':\n",
    "    spaces += 1\n",
    "print(len(s) - spaces)"
   ]
  },
  {
   "cell_type": "markdown",
   "id": "44e3a82f-8b55-4550-90e9-c74cbafc7430",
   "metadata": {},
   "source": [
    "`-` $4$가 출력됨??"
   ]
  },
  {
   "cell_type": "code",
   "execution_count": 37,
   "id": "eb87dbec-0e49-45b1-9da7-fb04c0d5b56b",
   "metadata": {},
   "outputs": [
    {
     "name": "stdin",
     "output_type": "stream",
     "text": [
      " Teullinika Teullyeotzi \n"
     ]
    },
    {
     "name": "stdout",
     "output_type": "stream",
     "text": [
      "2\n"
     ]
    }
   ],
   "source": [
    "string = str(input())\n",
    "s = string.split(' ')\n",
    "spaces = 0\n",
    "if s[0] or s[-1] == '':\n",
    "    spaces += 1\n",
    "print(len(s) - spaces)"
   ]
  },
  {
   "cell_type": "markdown",
   "id": "4ac78b5b-068b-4327-b202-5c49811d7391",
   "metadata": {},
   "source": [
    "`-` 웃긴게 뒤에만 띄어쓰기가 있는 경우에는 올바르게 출력함"
   ]
  },
  {
   "cell_type": "markdown",
   "id": "6da3c09a-b235-4491-93a1-74ca3e868172",
   "metadata": {},
   "source": [
    "## 단어 공부\n",
    "\n",
    "- 문제 출처: [백준 1157번](https://www.acmicpc.net/problem/1157)"
   ]
  },
  {
   "cell_type": "markdown",
   "id": "90202d43-3271-4552-83fa-59b92a55266f",
   "metadata": {},
   "source": [
    "`-` 처음에는 for문을 2개 사용해서 같은 원소가 몇 개인지 알아낼려고 했다\n",
    "\n",
    "`-` 그런데 문자열길이가 `백만`이라 for문을 2번 돌면 2초 안에 통과를 못할 것 같았다\n",
    "\n",
    "`-` 그래서 for문을 2개 쓰는 대신 다른 방법을 생각했다\n",
    "\n",
    "`-` 문자열을 대문자로 바꾸고 A부터 Z까지 원소를 삭제한 후 문자열 길이를 비교해 몇 개가 있는지 파악하기로 했다.\n",
    "\n",
    "`-` 나중에 찾아보니 `count 함수`를 쓰면 더 쉽게 할 수 있다."
   ]
  },
  {
   "cell_type": "code",
   "execution_count": 27,
   "id": "e679d7ea-36c3-415d-8d8b-fd29b12fedcf",
   "metadata": {},
   "outputs": [
    {
     "name": "stdin",
     "output_type": "stream",
     "text": [
      " Mississipi\n"
     ]
    },
    {
     "name": "stdout",
     "output_type": "stream",
     "text": [
      "?\n"
     ]
    }
   ],
   "source": [
    "alphabet = str(input())\n",
    "alp = alphabet.upper()\n",
    "alpha_list = ['A', 'B', 'C', 'D', 'E', 'F', 'G', 'H', 'I', 'J', 'K', 'L', 'M', 'N', 'O', 'P', 'Q', 'R', 'S', 'T', 'U', 'V', 'W', 'X', 'Y', 'Z']\n",
    "lenghts = len(alphabet)\n",
    "max_alpha = []\n",
    "for i in alpha_list:\n",
    "    if i in alp:\n",
    "        a_len = len(alp.replace(i, ''))\n",
    "        if a_len < lenghts:\n",
    "            lenghts = a_len\n",
    "            del max_alpha[:]\n",
    "            max_alpha.append(i)\n",
    "        elif a_len == lenghts:\n",
    "            max_alpha.append(i)\n",
    "if len(max_alpha) > 1:\n",
    "    print('?')\n",
    "else:\n",
    "    print(max_alpha[0])        "
   ]
  },
  {
   "cell_type": "markdown",
   "id": "05366b13-c43d-4fad-b7c5-04ab084cdbc5",
   "metadata": {},
   "source": [
    "## 아스키 코드\n",
    "\n",
    "- 문제 출처: [백준 11654번](https://www.acmicpc.net/problem/11654)"
   ]
  },
  {
   "cell_type": "code",
   "execution_count": 3,
   "id": "23686cae-a424-47be-89b2-202805957cfe",
   "metadata": {},
   "outputs": [
    {
     "name": "stdin",
     "output_type": "stream",
     "text": [
      " 0\n"
     ]
    },
    {
     "name": "stdout",
     "output_type": "stream",
     "text": [
      "48\n"
     ]
    }
   ],
   "source": [
    "input_ = str(input())\n",
    "print(ord(input_))"
   ]
  },
  {
   "cell_type": "markdown",
   "id": "37bd17fc-e03e-42c4-9bf2-4877804c3bdf",
   "metadata": {},
   "source": [
    "## 알파벳 찾기\n",
    "\n",
    "- 문제 출처: [백준 10809번](https://www.acmicpc.net/problem/10809)"
   ]
  },
  {
   "cell_type": "code",
   "execution_count": 16,
   "id": "bfc66cbb-8099-4306-9140-d3047e7ea2a1",
   "metadata": {},
   "outputs": [
    {
     "name": "stdin",
     "output_type": "stream",
     "text": [
      " baekjoon\n"
     ]
    },
    {
     "name": "stdout",
     "output_type": "stream",
     "text": [
      "1 0 -1 -1 2 -1 -1 -1 -1 4 3 -1 -1 7 5 -1 -1 -1 -1 -1 -1 -1 -1 -1 -1 -1 "
     ]
    }
   ],
   "source": [
    "S = str(input())\n",
    "for i in 'abcdefghijklmnopqrstuvwxyz':\n",
    "    find_ = S.find(i)\n",
    "    print(find_, end=\" \")"
   ]
  },
  {
   "cell_type": "markdown",
   "id": "36dc6407-fbbb-44cd-b7f6-5196eaa79f30",
   "metadata": {},
   "source": [
    "## 문자열 반복\n",
    "\n",
    "- 문제 출처: [백준 2675번](https://www.acmicpc.net/problem/2675)"
   ]
  },
  {
   "cell_type": "code",
   "execution_count": 36,
   "id": "f369402e-a183-47ea-a898-a0b173f02bff",
   "metadata": {},
   "outputs": [
    {
     "name": "stdin",
     "output_type": "stream",
     "text": [
      " 1\n",
      " 5 /HTP\n"
     ]
    },
    {
     "name": "stdout",
     "output_type": "stream",
     "text": [
      "/////HHHHHTTTTTPPPPP\n"
     ]
    }
   ],
   "source": [
    "T = int(input())\n",
    "for i in range(T):\n",
    "    R, S = map(str, input().split())\n",
    "    R = int(R)\n",
    "    string = ''\n",
    "    print(''.join([string + (S[j] * R) for j in range(len(S))]))"
   ]
  },
  {
   "cell_type": "markdown",
   "id": "99c944fb-9da6-4a60-9e82-38dc1b3fff3c",
   "metadata": {},
   "source": [
    "## 상수\n",
    "\n",
    "- 문제 출처: [백준 2908번](https://www.acmicpc.net/problem/2908)"
   ]
  },
  {
   "cell_type": "code",
   "execution_count": 47,
   "id": "f9665116-8d98-4c01-a76b-755e0df0c32c",
   "metadata": {},
   "outputs": [
    {
     "name": "stdin",
     "output_type": "stream",
     "text": [
      " 734 893\n"
     ]
    },
    {
     "name": "stdout",
     "output_type": "stream",
     "text": [
      "437\n"
     ]
    }
   ],
   "source": [
    "a, b = map(str, input().split())\n",
    "rev_a = int(a[2] + a[1] + a[0])\n",
    "rev_b = int(b[2] + b[1] + b[0])\n",
    "if rev_a > rev_b:\n",
    "    print(rev_a)\n",
    "else:\n",
    "    print(rev_b)"
   ]
  },
  {
   "cell_type": "markdown",
   "id": "317b2470-e9e4-4cbb-b005-ca1b6e74cde9",
   "metadata": {},
   "source": [
    "## 크로아티아 알파벳 \n",
    "- 문제 출처: [백준 2941번](https://www.acmicpc.net/problem/2941)"
   ]
  },
  {
   "cell_type": "markdown",
   "id": "f7b0b0b1-3878-4a2b-8978-d8709310f59e",
   "metadata": {},
   "source": [
    "`-` 아니 디버깅하고 있었다가 예제 모두 맞춰서 이제 됐나? 싶어서 제출 했더니 정답임.. 근데 왜 맞지??\n",
    "\n",
    "`-` 왜 정답인지 생각해 봤음\n",
    "\n",
    "`-` 내 코드를 보면 `ddz=z=`이 입력되면 `dz=`는 $1$개, `z=`는 $2$개임\n",
    "\n",
    "`-` `z=` 원래 $1$개여야 맞지만 `dz=`에 있는 `z=`을 `z=`에 포함시켜 $2$개임\n",
    "\n",
    "`-` `그래서 total_num이 원래보다 +1이 됐음`\n",
    "\n",
    "`-` 정상 출력은 `total_num + len(S) - 2 * total_num`임\n",
    "\n",
    "`-` $2$를 곱한 이유는 알파벳 $1$개당 길이가 $2$여서임 (`dz=`제외)\n",
    "\n",
    "`-` 근데 사실 출력이 잘못됨\n",
    "\n",
    "`-` 왜냐하면 `dz=`의 길이는 $3$이기 때문 ---> `출력값이 'dz=' 하나당 1씩 부족함`\n",
    "\n",
    "`-` 그런데 `dz=`에 `z=`이 포함돼서 $+1$이 되어 $-1$과 $+1$이 서로 상쇄됨\n",
    "\n",
    "`-` 그래서 정답을 출력함\n",
    "\n",
    "`-` 노리고 한 건 아니지만 어부지리로 맞춘셈"
   ]
  },
  {
   "cell_type": "code",
   "execution_count": 102,
   "id": "224f69f6-f729-40ba-bf0b-e8f443939f2f",
   "metadata": {},
   "outputs": [
    {
     "name": "stdin",
     "output_type": "stream",
     "text": [
      " ddz=z=\n"
     ]
    },
    {
     "name": "stdout",
     "output_type": "stream",
     "text": [
      "3\n"
     ]
    }
   ],
   "source": [
    "S = str(input())\n",
    "s_len = len(S)\n",
    "total_num = (s_len - len(S.replace('dz=',''))) // 3\n",
    "for i in ['c=', 'c-', 'd-', 'lj', 'nj', 's=', 'z=']:\n",
    "    total_num += (s_len - len(S.replace(i, ''))) // 2\n",
    "print(len(S) - total_num)\n",
    "\n",
    "# input\n",
    "# ddz=z="
   ]
  },
  {
   "cell_type": "markdown",
   "id": "4301639c-fb51-4f2c-a349-ce4c80bda44a",
   "metadata": {},
   "source": [
    "`-` 아래는 다른 사람이 작성한 코드를 보고 영감을 받아 작성한 코드임\n",
    "\n",
    "`-` 위에서 문제점은 `dz=`에 `z=`이 포함된것이다\n",
    "\n",
    "`-` 만약 `dz=`을 없앤다면 괜찮을까? ---> 그렇지 않음\n",
    "\n",
    "`-` 만약 `ddz=z=`이면 `dz=`을 없애도 `dz=`이 남게 된다\n",
    "\n",
    "`-` 만약 `dz=`을 없애는 대신에 다른 문자로 바꾼다면? 예컨데 알파벳이 아닌 다른 문자\n",
    "\n",
    "`-` `dz=`을 `*` 로 바꾼다면 `ddz=z=` ---> `d*z=`이 되어 제대로 개수를 셀 수 있음\n",
    "\n",
    "`-` 또 다른 장점은 이제 더 이상 알파벳의 개수를 셀 때 `//2 or //3` 을 하지 않아도 됨\n",
    "\n",
    "`-` 왜냐하면 크로아티아 알파벳을 `한 자리 문자`로 바꿨기 때문임\n",
    "\n",
    "`-` 모두 길이가 $1$이므로 바꾼 후에 최종 문자열의 길이를 출력하면 됨"
   ]
  },
  {
   "cell_type": "code",
   "execution_count": 106,
   "id": "7b645b0b-18ef-45e9-96f4-7a5c89621cc0",
   "metadata": {},
   "outputs": [
    {
     "name": "stdin",
     "output_type": "stream",
     "text": [
      " ddz=z=\n"
     ]
    },
    {
     "name": "stdout",
     "output_type": "stream",
     "text": [
      "3\n"
     ]
    }
   ],
   "source": [
    "S = input()\n",
    "for i in ['c=', 'c-', 'dz=', 'd-', 'lj', 'nj', 's=', 'z=']:\n",
    "    S = S.replace(i, '*')\n",
    "print(len(S))\n",
    "\n",
    "# input\n",
    "# ddz=z="
   ]
  },
  {
   "cell_type": "markdown",
   "id": "e004ef22-c117-408e-b532-c2c1a62b5ee4",
   "metadata": {},
   "source": [
    "## 그대로 출력하기\n",
    "\n",
    "- 문제 출처: [백준 11718번](https://www.acmicpc.net/problem/11718)"
   ]
  },
  {
   "cell_type": "code",
   "execution_count": 1,
   "id": "7764d4a8-195e-42fd-8fca-2c141c510cc6",
   "metadata": {},
   "outputs": [
    {
     "name": "stdout",
     "output_type": "stream",
     "text": [
      "Hello world!\n"
     ]
    }
   ],
   "source": [
    "while 1:\n",
    "    try:\n",
    "        print(input())        \n",
    "    except:\n",
    "        break"
   ]
  },
  {
   "cell_type": "markdown",
   "id": "c75d843e-8ada-4fd3-ad3a-3030ebaefbc8",
   "metadata": {},
   "source": [
    "## 그대로 출력하기2\n",
    "\n",
    "- 문제 출처: [백준 11719번](https://www.acmicpc.net/problem/11719)\n",
    "\n",
    "`-` 그대로 출력하기 문제와 동일한 코드로 해결됨"
   ]
  },
  {
   "cell_type": "code",
   "execution_count": 1,
   "id": "06c1622f-4dec-4eae-9c37-850750e0b466",
   "metadata": {},
   "outputs": [
    {
     "name": "stdout",
     "output_type": "stream",
     "text": [
      "Hello world!\n"
     ]
    }
   ],
   "source": [
    "while True:\n",
    "    try:\n",
    "        print(input())      \n",
    "    except:\n",
    "        break"
   ]
  },
  {
   "cell_type": "markdown",
   "id": "a2943444-273b-4141-89f1-88dcf2029671",
   "metadata": {},
   "source": [
    "## UCPC는 무엇의 약자일까?\n",
    "\n",
    "- 문제 출처: [백준 15904번](https://www.acmicpc.net/problem/15904)"
   ]
  },
  {
   "cell_type": "code",
   "execution_count": 53,
   "id": "4651b8a3-15e1-4105-907b-387ccde4c394",
   "metadata": {},
   "outputs": [
    {
     "name": "stdin",
     "output_type": "stream",
     "text": [
      " Union of Computer Programming Contest club contest\n"
     ]
    },
    {
     "name": "stdout",
     "output_type": "stream",
     "text": [
      "I love UCPC\n"
     ]
    }
   ],
   "source": [
    "words = input()\n",
    "cnt = 0\n",
    "for i in range(len(words)):\n",
    "    if cnt == 0 and words[i] == 'U':\n",
    "        cnt += 1\n",
    "    elif cnt == 1 and words[i] == 'C':\n",
    "        cnt += 1\n",
    "    elif cnt == 2 and words[i] == 'P':\n",
    "        cnt += 1\n",
    "    elif cnt == 3 and words[i] == 'C':\n",
    "        cnt += 1 \n",
    "if cnt == 4:\n",
    "    print('I love UCPC')\n",
    "else:\n",
    "    print('I hate UCPC')"
   ]
  },
  {
   "cell_type": "markdown",
   "id": "d6c3bd59-ebcf-489e-ba9c-188ad26656cb",
   "metadata": {},
   "source": [
    "## 펠린드롬 수\n",
    "\n",
    "- 문제 출처: [백준 1259번](https://www.acmicpc.net/problem/1259)"
   ]
  },
  {
   "cell_type": "code",
   "execution_count": 16,
   "id": "bd76b40e-6362-4b56-b8bd-f12346e66540",
   "metadata": {},
   "outputs": [
    {
     "name": "stdin",
     "output_type": "stream",
     "text": [
      " 121\n"
     ]
    },
    {
     "name": "stdout",
     "output_type": "stream",
     "text": [
      "yes\n"
     ]
    },
    {
     "name": "stdin",
     "output_type": "stream",
     "text": [
      " 1231\n"
     ]
    },
    {
     "name": "stdout",
     "output_type": "stream",
     "text": [
      "no\n"
     ]
    },
    {
     "name": "stdin",
     "output_type": "stream",
     "text": [
      " 12421\n"
     ]
    },
    {
     "name": "stdout",
     "output_type": "stream",
     "text": [
      "yes\n"
     ]
    },
    {
     "name": "stdin",
     "output_type": "stream",
     "text": [
      " 0\n"
     ]
    }
   ],
   "source": [
    "Q = True\n",
    "while Q:\n",
    "    nums = list(input())\n",
    "    if nums == ['0']:\n",
    "        Q = False\n",
    "    elif nums == list(reversed(nums)):\n",
    "        print('yes')\n",
    "    else:\n",
    "        print('no')"
   ]
  },
  {
   "cell_type": "markdown",
   "id": "25188614-5cee-4b2b-9ea2-ad7ac14069f7",
   "metadata": {},
   "source": [
    "## 단어 정렬\n",
    "\n",
    "- 문제 출처: [백준 1181번](https://www.acmicpc.net/problem/1181)"
   ]
  },
  {
   "cell_type": "code",
   "execution_count": 21,
   "id": "51bc6867-ac55-4024-8ef7-1322d3708c7f",
   "metadata": {},
   "outputs": [
    {
     "name": "stdin",
     "output_type": "stream",
     "text": [
      " 5\n",
      " i\n",
      " but\n",
      " wont\n",
      " more\n",
      " wait\n"
     ]
    },
    {
     "name": "stdout",
     "output_type": "stream",
     "text": [
      "i\n",
      "but\n",
      "more\n",
      "wait\n",
      "wont\n"
     ]
    }
   ],
   "source": [
    "data = []\n",
    "N = int(input())\n",
    "for _ in range(N):\n",
    "    data.append(input())\n",
    "data = list(set(data))\n",
    "data.sort(key=lambda x: (len(x), x))  # 길이를 기준으로 오름차순으로 정렬, 길이가 같으면 사전순으로 정렬 \n",
    "print('\\n'.join(data))\n",
    "\n",
    "# input\n",
    "# 5\n",
    "# i\n",
    "# but\n",
    "# wont\n",
    "# more\n",
    "# wait"
   ]
  },
  {
   "cell_type": "markdown",
   "id": "2c2ae8da-6eca-4052-b243-6a571f841d33",
   "metadata": {},
   "source": [
    "## 다이얼\n",
    "\n",
    "- 문제 출처: [백준 5622번](https://www.acmicpc.net/problem/5622)"
   ]
  },
  {
   "cell_type": "code",
   "execution_count": 17,
   "id": "5e5f098b-db08-4664-8780-70859097bb32",
   "metadata": {},
   "outputs": [
    {
     "name": "stdin",
     "output_type": "stream",
     "text": [
      " ABCDEFGHIJKLMNOPQRSTVWXYZ\n"
     ]
    },
    {
     "name": "stdout",
     "output_type": "stream",
     "text": [
      "165\n"
     ]
    }
   ],
   "source": [
    "eng = {'A': 2, 'B': 2, 'C': 2, 'D': 3, 'E': 3, 'F': 3, 'G': 4, 'H': 4, 'I': 4,\n",
    "       'J': 5, 'K': 5, 'L': 5, 'M': 6, 'N': 6, 'O': 6, 'P': 7, 'Q': 7, 'R': 7,\n",
    "       'S': 7, 'T': 8, 'U': 8, 'V': 8, 'W': 9, 'X': 9, 'Y': 9, 'Z': 9}\n",
    "char = input()\n",
    "print(sum([eng[ch] for ch in char]) + len(char))\n",
    "# ABCDEFGHIJKLMNOPQRSTVWXYZ"
   ]
  },
  {
   "cell_type": "markdown",
   "id": "cb6fd961-fba3-4424-bc2e-6750fe6b1e02",
   "metadata": {},
   "source": [
    "## 그룹 단어 체커\n",
    "\n",
    "- 문제 출처: [백준 1316번](https://www.acmicpc.net/problem/1316)"
   ]
  },
  {
   "cell_type": "code",
   "execution_count": 5,
   "id": "ac948cf9-6f56-4672-9b9c-aa7ae3f21071",
   "metadata": {},
   "outputs": [
    {
     "name": "stdin",
     "output_type": "stream",
     "text": [
      " 2\n",
      " yzyzy\n",
      " zyzyz\n"
     ]
    },
    {
     "name": "stdout",
     "output_type": "stream",
     "text": [
      "0\n"
     ]
    }
   ],
   "source": [
    "cnt = 0\n",
    "for _ in range(int(input())):\n",
    "    word = input()\n",
    "    char = [word[0]]  # 한번 등장한 단어가 나중에 또 등장하는지 판단\n",
    "    for w in word:\n",
    "        if w in char and w != char[-1]:  # 이미 한번 등장한 단어인데 연속하여 등장한 것이 아니라면\n",
    "            cnt -= 1\n",
    "            break  # 그룹 단어가 아니다\n",
    "        char.append(w)\n",
    "    cnt += 1  # 기본적으로 단어 하나당 +1을 해준다(그룹 단어가 아닌 경우는 위에서 -1을 해줌)\n",
    "print(cnt)\n",
    "\n",
    "# input\n",
    "# 2\n",
    "# yzyzy\n",
    "# zyzyz"
   ]
  },
  {
   "cell_type": "markdown",
   "id": "b23d964c-b2f9-4a5f-bf91-c98b523b60eb",
   "metadata": {},
   "source": [
    "## IOIOI\n",
    "\n",
    "- 문제 출처: [백준 5525번](https://www.acmicpc.net/problem/5525)"
   ]
  },
  {
   "cell_type": "markdown",
   "id": "a8ebe340-55fd-411a-80dc-eb8eb113c4a2",
   "metadata": {},
   "source": [
    "`-` 문자열 매칭 알고리즘을 이용해 해결하는 문제이다 (사실 아니었음)"
   ]
  },
  {
   "cell_type": "markdown",
   "id": "4f889547-fe67-452d-a881-faed2a20ab48",
   "metadata": {},
   "source": [
    "```python\n",
    "# Rabin-Karp 알고리즘\n",
    "def RK_search(A, P, q=1610612741):\n",
    "    p̃ = 0  # fingerprint of the number of P\n",
    "    ã = 0  # fingerprint of the number of substring of A at index 0\n",
    "    count = 0\n",
    "    for i in range(2 * N + 1):\n",
    "        p̃ = (int(P[i]) + 2 * p̃) % q\n",
    "        ã = (int(A[i]) + 2 * ã) % q\n",
    "    for i in range(M - 2 * N - 1): \n",
    "        if i > 0:\n",
    "            ã = (2*(ã - ((2**(2 * N)) % q) * int(A[i - 1])) + int(A[i + 2 * N])) % q\n",
    "        if p̃ == ã:\n",
    "            count += 1\n",
    "            if P == A[i : i + 2 * N + 1]:\n",
    "                count += 1\n",
    "    return count\n",
    "                \n",
    "\n",
    "N = int(input())\n",
    "M = int(input())\n",
    "S = input()  # I는 1, O는 2로 생각하자\n",
    "S = S.replace('I', '1')\n",
    "S = S.replace('O', '2')\n",
    "Pn = ''.join([('12' * N), '1'])\n",
    "print(RK_search(S, Pn))\n",
    "```"
   ]
  },
  {
   "cell_type": "markdown",
   "id": "a38b52f2-4eb5-4354-bfc7-a6b9d9741afc",
   "metadata": {},
   "source": [
    "`-` 위의 Rabin-Karp 알고리즘은 최악의 경우 $O(nm)$이기 때문에 시간초과이다"
   ]
  },
  {
   "cell_type": "markdown",
   "id": "daceaa85-acfa-4854-a129-f8fe5593ebff",
   "metadata": {},
   "source": [
    "`-` 알고리즘 시간에 배운 KMP 알고리즘을 사용하자 (공부해야 됨)"
   ]
  },
  {
   "cell_type": "code",
   "execution_count": 7,
   "id": "446b6019-62cf-4561-962b-6417a84d03bb",
   "metadata": {},
   "outputs": [
    {
     "name": "stdin",
     "output_type": "stream",
     "text": [
      " 2\n",
      " 13\n",
      " OOIOIOIOIIOII\n"
     ]
    },
    {
     "name": "stdout",
     "output_type": "stream",
     "text": [
      "2\n"
     ]
    }
   ],
   "source": [
    "def KMP_search(A, P, π):\n",
    "    i = 1  # pointing to A\n",
    "    j = 1  # pointing to P\n",
    "    count = 0\n",
    "    while i <= M:\n",
    "        if j == 0 or A[i] == P[j]:\n",
    "            i += 1\n",
    "            j += 1\n",
    "        else:\n",
    "            j = π[j]\n",
    "        if j == 2 * N + 2:  # match\n",
    "            count += 1\n",
    "            j = π[j]\n",
    "    return count\n",
    "\n",
    "\n",
    "def KMP_failure_array(P):\n",
    "    j = 1\n",
    "    k = 0\n",
    "    π = [-1] * (2 * N + 3)  # 0 ~ 2*N + 2\n",
    "    π[1] = 0\n",
    "    while j <= 2 * N + 1:\n",
    "        if k == 0 or P[j] == P[k]:\n",
    "            j += 1\n",
    "            k += 1\n",
    "            π[j] = k\n",
    "        else:\n",
    "            k = π[k]\n",
    "    return π\n",
    "\n",
    "\n",
    "N = int(input())\n",
    "M = int(input())\n",
    "S = ''.join(['*', input()])\n",
    "Pn = ''.join(['*', ('IO' * N), 'I'])\n",
    "π = KMP_failure_array(Pn)\n",
    "print(KMP_search(S, Pn, π))\n",
    "\n",
    "# input\n",
    "# 2\n",
    "# 13\n",
    "# OOIOIOIOIIOII"
   ]
  },
  {
   "cell_type": "markdown",
   "id": "4eb37c7d-b8b0-47f7-8f12-67dab46c1398",
   "metadata": {
    "tags": []
   },
   "source": [
    "## 팰린드롬인지 확인하기\n",
    "\n",
    "- 문제 출처: [백준 10988번](https://www.acmicpc.net/problem/10988)"
   ]
  },
  {
   "cell_type": "code",
   "execution_count": 7,
   "id": "573f6499-a5cf-46bc-aa0c-012fa815f638",
   "metadata": {},
   "outputs": [
    {
     "name": "stdin",
     "output_type": "stream",
     "text": [
      " level\n"
     ]
    },
    {
     "name": "stdout",
     "output_type": "stream",
     "text": [
      "1\n"
     ]
    }
   ],
   "source": [
    "def solution():\n",
    "    string = input()\n",
    "    if string == string[::-1]:\n",
    "        print(1)\n",
    "    else:\n",
    "        print(0)\n",
    "\n",
    "\n",
    "solution()\n",
    "\n",
    "# input\n",
    "# level"
   ]
  },
  {
   "cell_type": "markdown",
   "id": "742e1411-c955-4396-a705-ac284f1bc49d",
   "metadata": {},
   "source": [
    "## 별 찍기 - 7\n",
    "\n",
    "- 문제 출처: [백준 2444번](https://www.acmicpc.net/problem/2444)"
   ]
  },
  {
   "cell_type": "code",
   "execution_count": 50,
   "id": "78da99f5-1cc3-4e54-9793-07c467af5dd0",
   "metadata": {},
   "outputs": [
    {
     "name": "stdin",
     "output_type": "stream",
     "text": [
      " 5\n"
     ]
    },
    {
     "name": "stdout",
     "output_type": "stream",
     "text": [
      "    *\n",
      "   ***\n",
      "  *****\n",
      " *******\n",
      "*********\n",
      " *******\n",
      "  *****\n",
      "   ***\n",
      "    *\n"
     ]
    }
   ],
   "source": [
    "def solution():\n",
    "    N = int(input())\n",
    "    length = 2*N - 1\n",
    "    for i in range(1, N):\n",
    "        for j in range(N - i):\n",
    "            print(\" \", end=\"\")\n",
    "        print(\"*\" * (2*i - 1))\n",
    "    print(\"*\" * length)\n",
    "    for i in range(1, N):\n",
    "        for j in range(i):\n",
    "            print(\" \", end=\"\")\n",
    "        print(\"*\" * (length - 2*i))\n",
    "\n",
    "\n",
    "solution()\n",
    "\n",
    "# input\n",
    "# 5"
   ]
  },
  {
   "cell_type": "markdown",
   "id": "50d5de82-751d-47de-9c58-16c8c3127d04",
   "metadata": {},
   "source": [
    "## 5와 6의 차이\n",
    "\n",
    "- 문제 출처: [백준 2864번](https://www.acmicpc.net/problem/2864)"
   ]
  },
  {
   "cell_type": "code",
   "execution_count": 6,
   "id": "45409a37-c77a-4511-b9cd-d81fdc9e1fa3",
   "metadata": {},
   "outputs": [
    {
     "name": "stdin",
     "output_type": "stream",
     "text": [
      " 16796 58786\n"
     ]
    },
    {
     "name": "stdout",
     "output_type": "stream",
     "text": [
      "74580 85582\n"
     ]
    }
   ],
   "source": [
    "def solution():\n",
    "    A, B = input().split()\n",
    "    min_ = int(A.replace(\"6\", \"5\")) + int(B.replace(\"6\", \"5\"))\n",
    "    max_ = int(A.replace(\"5\", \"6\")) + int(B.replace(\"5\", \"6\"))\n",
    "    print(min_, max_)\n",
    "\n",
    "\n",
    "solution()\n",
    "\n",
    "# input\n",
    "# 16796 58786"
   ]
  },
  {
   "cell_type": "markdown",
   "id": "2adef0bf-180a-4ca9-bee2-c070ffac8df0",
   "metadata": {},
   "source": [
    "## 세로읽기\n",
    "\n",
    "- 문제 출처: [백준 10798번](https://www.acmicpc.net/problem/10798)"
   ]
  },
  {
   "cell_type": "code",
   "execution_count": 17,
   "id": "7a9c267b-8f4f-417f-904f-2e42eb609ee1",
   "metadata": {},
   "outputs": [
    {
     "name": "stdin",
     "output_type": "stream",
     "text": [
      " AABCDD\n",
      " afzz\n",
      " 09121\n",
      " a8EWg6\n",
      " P5h3kx\n"
     ]
    },
    {
     "name": "stdout",
     "output_type": "stream",
     "text": [
      "Aa0aPAf985Bz1EhCz2W3D1gkD6x\n"
     ]
    }
   ],
   "source": [
    "def solution():\n",
    "    max_length = 0\n",
    "    inputs = []\n",
    "    for _ in range(5):\n",
    "        input_ = input()\n",
    "        length = len(input_)\n",
    "        if length > max_length:\n",
    "            max_length = length\n",
    "        inputs.append(input_)\n",
    "    inputs = [s + \" \" * (max_length - len(s)) if len(s) < max_length else s for s in inputs]\n",
    "    answer = \"\".join([inputs[y][x] for x in range(max_length) for y in range(5)])\n",
    "    answer = answer.replace(\" \", \"\")\n",
    "    print(answer)\n",
    "\n",
    "\n",
    "solution()\n",
    "\n",
    "# input\n",
    "# AABCDD\n",
    "# afzz\n",
    "# 09121\n",
    "# a8EWg6\n",
    "# P5h3kx"
   ]
  },
  {
   "cell_type": "markdown",
   "id": "d9548558-1715-49eb-83e2-8a573381fa80",
   "metadata": {},
   "source": [
    "## 이상한 곱셈\n",
    "\n",
    "- 문제 출처: [백준 1225번](https://www.acmicpc.net/problem/1225)"
   ]
  },
  {
   "cell_type": "code",
   "execution_count": 3,
   "id": "a78985ff-84a5-4b14-a23b-ef8c29110f9b",
   "metadata": {},
   "outputs": [
    {
     "name": "stdin",
     "output_type": "stream",
     "text": [
      " 123 45\n"
     ]
    },
    {
     "name": "stdout",
     "output_type": "stream",
     "text": [
      "54\n"
     ]
    }
   ],
   "source": [
    "def solution():\n",
    "    A, B = input().split()\n",
    "    answer = 0\n",
    "    for a in A:\n",
    "        for b in B:\n",
    "            answer += int(a) * int(b)\n",
    "    print(answer)\n",
    "\n",
    "\n",
    "solution()\n",
    "\n",
    "# input\n",
    "# 123 45"
   ]
  },
  {
   "cell_type": "markdown",
   "id": "77e61b96-1a37-466d-9ac8-f6d3896d1317",
   "metadata": {},
   "source": [
    "## 뒤집힌 덧셈\n",
    "\n",
    "- 문제 출처: [백준 1357번](https://www.acmicpc.net/problem/1357)"
   ]
  },
  {
   "cell_type": "code",
   "execution_count": 4,
   "id": "37f98c98-ae04-4879-939a-abf5ba6f50b0",
   "metadata": {},
   "outputs": [
    {
     "name": "stdin",
     "output_type": "stream",
     "text": [
      " 123 100\n"
     ]
    },
    {
     "name": "stdout",
     "output_type": "stream",
     "text": [
      "223\n"
     ]
    }
   ],
   "source": [
    "def rev(x):\n",
    "    return int(x[::-1])\n",
    "\n",
    "\n",
    "def solution():\n",
    "    x, y = input().split()\n",
    "    print(rev(str(rev(x) + rev(y))))\n",
    "\n",
    "\n",
    "solution()\n",
    "\n",
    "# input\n",
    "# 123 100"
   ]
  },
  {
   "cell_type": "markdown",
   "id": "bc4ee230-577c-47e8-905b-d0faaee9f626",
   "metadata": {},
   "source": [
    "## FizzBuzz\n",
    "\n",
    "- 문제 출처: [백준 28702번](https://www.acmicpc.net/problem/28702)"
   ]
  },
  {
   "cell_type": "markdown",
   "id": "530061a6-1320-47b5-961a-c6c17a591661",
   "metadata": {},
   "source": [
    "`-` 명제: 연속된 문자열 3개 중 적어도 하나는 숫자이다\n",
    "\n",
    "`-` 그게 아니라면 문자열 3개는 모두 $3$의 배수이거나 $5$의 배수여야 한다\n",
    "\n",
    "`-` 연속된 3개의 수를 $x, x+1, x+2$라고 해보자\n",
    "\n",
    "`-` $x$는 $3$의 배수이거나 $5$의 배수이거나 둘 다 아니다\n",
    "\n",
    "`-` 둘 다 아니라면 숫자이므로 명제가 참이다\n",
    "\n",
    "`-` $x$가 $3$의 배수라면 $x+1$은 $3$의 배수도 아니고 $5$의 배수도 아니다\n",
    "\n",
    "`-` 따라서 명제가 성립한다\n",
    "\n",
    "`-` $x$가 $5$의 배수라면 $x+2$는 $3$의 배수도 아니고 $5$의 배수도 아니다\n",
    "\n",
    "`-` 그러므로 연속된 문자열 3개 중 적어도 하나는 숫자이다\n",
    "\n",
    "`-` 숫자 하나를 바탕으로 다음에 올 문자열을 출력하는건 쉽다"
   ]
  },
  {
   "cell_type": "code",
   "execution_count": 5,
   "id": "d0612c1c-8119-43d0-a6fe-e62e5d94bd0a",
   "metadata": {},
   "outputs": [
    {
     "name": "stdin",
     "output_type": "stream",
     "text": [
      " 980803\n",
      " 980804\n",
      " FizzBuzz\n"
     ]
    },
    {
     "name": "stdout",
     "output_type": "stream",
     "text": [
      "980806\n"
     ]
    }
   ],
   "source": [
    "def make_fizzbuzz(i):\n",
    "    if i % 3 == 0 and i % 5 == 0:\n",
    "        return \"FizzBuzz\"\n",
    "    if i % 3 == 0:\n",
    "        return \"Fizz\"\n",
    "    if i % 5 == 0:\n",
    "        return \"Buzz\"\n",
    "    return i\n",
    "\n",
    "\n",
    "def solution():\n",
    "    x1 = input()\n",
    "    x2 = input()\n",
    "    x3 = input()\n",
    "    try:\n",
    "        num = int(x1)\n",
    "        i = 1\n",
    "    except ValueError:\n",
    "        try:\n",
    "            num = int(x2)\n",
    "            i = 2\n",
    "        except ValueError:\n",
    "            num = int(x3)\n",
    "            i = 3\n",
    "    next_num = num + 4 - i\n",
    "    answer = make_fizzbuzz(next_num)\n",
    "    print(answer)\n",
    "\n",
    "\n",
    "solution()\n",
    "\n",
    "# input\n",
    "# 980803\n",
    "# 980804\n",
    "# FizzBuzz"
   ]
  },
  {
   "cell_type": "markdown",
   "id": "d54fa9a9-5e1b-4a15-8e00-c7f5f13b38a0",
   "metadata": {},
   "source": [
    "## 후위 표현식\n",
    "\n",
    "- 문제 출처: [백준 1918번](https://www.acmicpc.net/problem/1918)"
   ]
  },
  {
   "cell_type": "markdown",
   "id": "3b3f8e46-7275-4174-a3a2-96f536f5bd7b",
   "metadata": {},
   "source": [
    "`-` 피연산자와 연산자 하나하나 리스트에 넣자\n",
    "\n",
    "`-` $A+B$를 후위 표현식으로 바꿀려면 $A$를 스택에 넣고 $B$를 스택에 넣고 $+$를 스택에 넣은 후 이를 결합하여 원래의 $A+B$를 대체하면 된다 (사실 스택 필요 없음)\n",
    "\n",
    "`-` $A$앞에 $AB+$를 `insert`하고 $A+B$를 `pop`하면 된다\n",
    "\n",
    "`-` 그런데 이러면 상수 시간이 아니라 $O(N)$의 시간 복잡도를 가진다 ($N$이 작아서 괜찮긴 하다)\n",
    "\n",
    "`-` 이 문제의 태그는 스택인데 정작 스택 활용은 중위 표현식을 후위 표현식으로 바꾸는게 끝이다\n",
    "\n",
    "`-` 하지만 더 좋은 방법이 생각나지 않으니 그냥 이 문제를 어떻게든 풀 수 있다는 것에 감사하자\n",
    "\n",
    "`-` 연산자 우선 순위가 가장 높은 괄호를 처리하는게 중요하다\n",
    "\n",
    "`-` 가장 중첩이 많이 된 괄호에 대해 괄호 안의 수식을 후위 표현식으로 바꾸자\n",
    "\n",
    "`-` `)`가 등장하기 전 마지막으로 등장한 `(`의 인덱스를 기록하자\n",
    "\n",
    "`-` 처음으로 `)`가 등장하면 괄호 안의 수식을 후위 표현식으로 바꾼 뒤 괄호를 제거하자\n",
    "\n",
    "`-` 괄호 안의 수식 제거는 괄호가 없으므로 괄호가 없는 경우의 수식 제거와 방법이 같다 (아래 참고)\n",
    "\n",
    "`-` 이를 괄호가 없을 때까지 반복하자\n",
    "\n",
    "`-` 괄호를 다 없앴다면 괄호가 없을 때의 수식 제거를 수행하면 되며 먼저 `*`와 `/`를 찾자\n",
    "\n",
    "`-` 해당 연산자에 대해 먼저 등장한 순으로 후위 표현식으로 바꾸자\n",
    "\n",
    "`-` 이러면 남은 연산자는 `+`와 `-`이며 앞에서부터 등장한 연산자에 대해 후위 표현식으로 바꾸면 된다\n",
    "\n",
    "`-` 이 풀이가 위치할 곳은 스택이 아니라 문자열이 맞다"
   ]
  },
  {
   "cell_type": "code",
   "execution_count": 2,
   "id": "db21b5c3-29a4-4101-aea8-92f0bda5d902",
   "metadata": {},
   "outputs": [
    {
     "name": "stdin",
     "output_type": "stream",
     "text": [
      " A+B*C-D/E\n"
     ]
    },
    {
     "name": "stdout",
     "output_type": "stream",
     "text": [
      "ABC*+DE/-\n"
     ]
    }
   ],
   "source": [
    "def remove_parenthesis(stack):\n",
    "    if \"(\" not in stack:\n",
    "        return stack\n",
    "    index_last_left_parenthesis = 0\n",
    "    index_first_right_parenthesis = 1\n",
    "    for i, s in enumerate(stack):\n",
    "        if s == \"(\":\n",
    "            index_last_left_parenthesis = i\n",
    "        elif s == \")\":\n",
    "            index_first_right_parenthesis = i\n",
    "            break\n",
    "    partial_stack = stack[index_last_left_parenthesis + 1 : index_first_right_parenthesis].copy()  # 괄호 안의 수식\n",
    "    partial_stack = remove_eqaul_priority_operators(partial_stack, operator1=\"*\", operator2=\"/\")\n",
    "    partial_stack = remove_eqaul_priority_operators(partial_stack, operator1=\"+\", operator2=\"-\")\n",
    "    stack[index_last_left_parenthesis] = partial_stack[0]\n",
    "    for _ in range(index_first_right_parenthesis - index_last_left_parenthesis):\n",
    "        stack.pop(index_last_left_parenthesis + 1)\n",
    "    return stack\n",
    "\n",
    "\n",
    "def remove_eqaul_priority_operators(stack, operator1, operator2):\n",
    "    if operator1 not in stack and operator2 not in stack:\n",
    "        return stack\n",
    "    partial_stack = stack.copy()\n",
    "    while operator1 in partial_stack or operator2 in partial_stack:\n",
    "        temp = []\n",
    "        flag = True\n",
    "        index = 0\n",
    "        for j, s in enumerate(partial_stack):\n",
    "            if flag and (s == operator1 or s == operator2):\n",
    "                temp.pop()\n",
    "                temp.append(\"\".join([partial_stack[j - 1], partial_stack[j + 1], s]))\n",
    "                flag = False\n",
    "                index = j\n",
    "            else:\n",
    "                temp.append(s)\n",
    "        partial_stack = temp.copy()\n",
    "        if not flag:\n",
    "            partial_stack.pop(index)\n",
    "    return partial_stack\n",
    "\n",
    "\n",
    "def solution():\n",
    "    infix_notation = input()\n",
    "    stack = list(infix_notation)\n",
    "    num_parenthesis = stack.count(\"(\")\n",
    "    for _ in range(num_parenthesis):\n",
    "        stack = remove_parenthesis(stack)\n",
    "    stack = remove_eqaul_priority_operators(stack, operator1=\"*\", operator2=\"/\")\n",
    "    stack = remove_eqaul_priority_operators(stack, operator1=\"+\", operator2=\"-\")\n",
    "    print(stack[0])\n",
    "\n",
    "\n",
    "solution()\n",
    "\n",
    "# input\n",
    "# A+B*C-D/E"
   ]
  },
  {
   "cell_type": "markdown",
   "id": "c5d8c6f5-bbc1-4a9c-bd93-10bf098e86b5",
   "metadata": {},
   "source": [
    "## 가장 긴 팰린드롬 부분 문자열\n",
    "\n",
    "- 문제 출처: [백준 13275번](https://www.acmicpc.net/problem/13275)"
   ]
  },
  {
   "cell_type": "markdown",
   "id": "cc7a318f-986e-4ce8-ae7b-34940b8b0ef2",
   "metadata": {},
   "source": [
    "`-` Manacher 알고리즘을 사용해 가장 긴 팰린드롬의 길이를 $O(N)$에 계산할 수 있다\n",
    "\n",
    "`-` 각 위치를 중심으로 하는 가장 긴 팰린드롬의 길이를 구하는 알고리즘이라 한다\n",
    "\n",
    "`-` 근데 이것만 알아서는 모르겠어서 막힐때마다 chatgpt한테 힌트 좀 달라고 했다\n",
    "\n",
    "`-` 결과적으로 구현에 성공했는데 사실상 다 알려준거나 다름이 없었다\n",
    "\n",
    "`-` 아무튼 Manacher 알고리즘에 대해 간략히 알아보자\n",
    "\n",
    "`-` 나이브하게 팰린드롬을 계산하는 건 다음과 같다\n",
    "\n",
    "`-` 인덱스 $i$를 중심으로 하는 가장 긴 팰린드롬을 찾자!\n",
    "\n",
    "`-` $k$를 $0$부터 $1$씩 키워가며 $S[i-k-1] = S[i+k+1]$일 때까지 반복하면 $S[i-k-1:i+k+1]$은 팰린드롬이다\n",
    "\n",
    "`-` 이는 최악의 경우 $O(N)$이 소요되고 $i$는 $N$번 바뀌므로 $O\\left(N^2\\right)$이다\n",
    "\n",
    "`-` 참고로 위와 같이 하면 짝수 길이의 팰린드롬을 검출하지 못한다\n",
    "\n",
    "`-` 약간의 트릭으로 문자열 사이마다 임의의 문자열(e.g. \"#\")을 집어 넣어 모든 팰린드롬의 길이를 홀수로 만든다\n",
    "\n",
    "`-` 문자열 길이가 $2$배 되고 이를 위한 비용도 들지만 시간 초과나 메모리 초과에 걸리진 않을 것이다 (아니라면 다른 방법 찾아봐야지)\n",
    "\n",
    "`-` 참고로 $O\\left(N^2\\right)$에 가장 긴 팰린드롬 계산할 땐 이런 트릭 필요없다! (Manacher 알고리즘엔 필요하니까 빌드업함)\n",
    "\n",
    "`-` Manacher 알고리즘은 팰림드롬의 대칭을 활용해 $k$를 $0$부터 시작할 필요가 없다고 말한다\n",
    "\n",
    "`-` $c$를 기준으로 반경이 $p[c]$인 팰린드롬을 생각해보자 ($p[c]$는 $c$를 중심으로 하는 가장 긴 팰린드롬 반경)\n",
    "\n",
    "`-` 이는 $S[c-i] = S[c+i],\\; (i \\le p)$를 뜻한다\n",
    "\n",
    "`-` 즉, 중심 $c$를 기준으로 팰린드롬 내부는 대칭이다 ($S[i] = S[2c-i],\\; (k \\le p)$)\n",
    "\n",
    "`-` $c$를 기준으로 대칭이니 인덱스 $i$와 반대편 $i'$을 더해서 평균내면 $c$이므로 $S[i] = S[2c-i]$인 것\n",
    "\n",
    "`-` 중심으로 기준으로 대칭이므로 $p[i] = \\min(p[2c-i], r-i), \\; r = c + p[c]$이다\n",
    "\n",
    "`-` 그런데 이는 팰린드롬 내부에서 벗어나지 않을 때고 $p[c-5] = 7$일수도 있다\n",
    "\n",
    "`-` 그러면 $c$를 중심으로 한 팰린드롬을 벗어나므로 오른쪽 대칭점의 $p$ 정보는 미지수이다 (팰린드롬 밖의 정보는 왼쪽과 오른쪽이 다르다)\n",
    "\n",
    "`-` 하지만 $p[i(=c+5)]$는 최소 $r - i$만큼은 팰린드롬이다\n",
    "\n",
    "`-` 따라서 $p[i] = \\min(p[2c-i], r - i)$이고 이는 대칭점의 팰린드롬 정보를 활용하여 불필요한 계산을 줄인 것이다\n",
    "\n",
    "`-` 즉, 중심이 $c$인 가장 오른쪽으로 뻗은 팰린드롬의 내부의 $p[i]$ 정보는 대칭점 $p[2c-i]$를 활용한다\n",
    "\n",
    "`-` 만약 해당 팰린드롬을 벗어나는 팰린드롬이 만들어지면 가장 오른쪽으로 뻗는 팰린드롬도 갱신되게 된다\n",
    "\n",
    "`-` 그럼 $c$와 $r$을 $i$와 $i+p[i]$로 갱신하면 되고 이를 기준으로 $p[i]$을 계산해나가면 된다\n",
    "\n",
    "`-` 중요한 건 Manacher 알고리즘이 어떻게 $O(N)$에 동작하냐는 것이다\n",
    "\n",
    "`-` for문 내부를 보면 while문을 제외하곤 $O(1)$이다\n",
    "\n",
    "`-` $i$를 중심으로 하는 팰린드롬이 없으면 while문은 실행되지 않는다\n",
    "\n",
    "`-` while문이 실행되어 $p[i]$가 증가한다는 것은 팰린드롬 반경을 벗어나서 $c$와 $r$이 갱신된다는 것이다\n",
    "\n",
    "`-` $r$은 while문이 실행되어 $p[i]$가 증가한만큼 커지고 $r < N$이므로 while문은 $O(N)$번 실행된다\n",
    "\n",
    "`-` 따라서 Manacher 알고리즘의 시간 복잡도는 $O(N)$이다\n",
    "\n",
    "`-` 대칭점을 기준으로 $p$를 업데이트 하는 방식을 조금만 더 설명하겠다\n",
    "\n",
    "`-` $i$를 $0$부터 $N-1$까지 변화시키며 오른쪽 대칭점의 $p[i]$를 계산하는데 왼쪽 대칭점의 $p[2c-i]$를 사용한다\n",
    "\n",
    "`-` 왼쪽 대칭점의 $p[i]$ 정보가 어떻게 이미 계산되어 있는지 확인하자\n",
    "\n",
    "`-` 처음엔 $c=0,r=0, i=0$이며 $p[i] = 0$이다 (왼쪽으로 뻗을 공간이 없다)\n",
    "\n",
    "`-` 초깃값을 계산했으니 이후부터는 중심의 왼쪽 대칭점의 정보를 사용해 나가며 오른쪽 대칭점의 정보를 채운다\n",
    "\n",
    "`-` 왜냐하면 $i$는 항상 $c$보다 크거나 같기 때문에 중심 또는 오른쪽 대칭점에 위치하게 된다\n",
    "\n",
    "`-` 이전의 $i$는 for문을 통해 계산했으므로 왼쪽 대칭점의 정보는 항상 준비되어 있다\n",
    "\n",
    "`-` $i$가 가장 오른쪽으로 뻗은 팰린드롬 반경을 벗어나면 $c=i, r=i$가 된다\n",
    "\n",
    "`-` 쓰고 보니 설명을 너무 못해서 그냥 인터넷에 검색해서 보자"
   ]
  },
  {
   "cell_type": "code",
   "execution_count": 32,
   "id": "36a66d6f-c20c-4c75-982f-3e6784fbd2e6",
   "metadata": {},
   "outputs": [
    {
     "name": "stdin",
     "output_type": "stream",
     "text": [
      " banana\n"
     ]
    },
    {
     "name": "stdout",
     "output_type": "stream",
     "text": [
      "5\n"
     ]
    }
   ],
   "source": [
    "def manacher(s):\n",
    "    n = len(s)\n",
    "    p = [0] * n  # p[i]는 i가 중심인 가장 긴 팰린드롬의 반경\n",
    "    c = 0  # 현재 가장 오른쪽으로 뻗은 팰린드롬의 중심\n",
    "    r = 0  # 그 팰린드롬의 오른쪽 경계\n",
    "    for i in range(n):\n",
    "        i_mirror = 2 * c - i\n",
    "        p[i] = min(p[i_mirror], r - i)\n",
    "        while i - p[i] - 1 >= 0 and i + p[i] + 1 <= n - 1 and s[i - p[i] - 1] == s[i + p[i] + 1]:\n",
    "            p[i] += 1\n",
    "        if i + p[i] > r:\n",
    "            c = i\n",
    "            r = c + p[c]\n",
    "    return max(p)\n",
    "\n",
    "\n",
    "def solution():\n",
    "    S = list(input())\n",
    "    S = \"#\" + \"#\".join(S) + \"#\"\n",
    "    answer = manacher(S)\n",
    "    print(answer)\n",
    "\n",
    "\n",
    "solution()\n",
    "\n",
    "# input\n",
    "# banana"
   ]
  },
  {
   "cell_type": "markdown",
   "id": "4b3f179c-3bda-4f54-a570-11f417940e13",
   "metadata": {},
   "source": [
    "`-` 코드를 보면 $2$가지 의문점이 생긴다\n",
    "\n",
    "`-` 첫 번째로 $i=1$일 때 $p[i]=-1$로 세팅되어 문제가 될 것 같다\n",
    "\n",
    "`-` 그런데 $p[i]-=1$이면 while문에서 $s[i] == s[i]$인지 검사하고 이는 참이므로 $p[i]$의 값을 $1$ 증가시킨다\n",
    "\n",
    "`-` 그럼 $p[i] = 0$이 되므로 처음에 $p[i]=0$으로 세팅한 것과 동일하다\n",
    "\n",
    "`-` 따라서 $i$가 커져 현재 가장 오른쪽으로 뻗은 팰린드롬의 중심을 벗어나도 문제 없다\n",
    "\n",
    "`-` 두 번째는 가장 긴 팰린드롬의 길이가 $\\max(p)$라는 것이다\n",
    "\n",
    "`-` 이는 $p[i]$가 $i$를 중심으로 하는 가장 긴 팰린드롬의 길이를 나타낸다는 것이다\n",
    "\n",
    "`-` 그런데 $p[i]$는 팰린드롬 반경을 의미했는데 어떻게 이게 가능한지 살펴보자\n",
    "\n",
    "`-` $s[i]$가 `#`이라고 해보자\n",
    "\n",
    "`-` 그런데 팰린드롬의 양 끝은 항상 `#`이므로 $p[i]$는 짝수이다\n",
    "\n",
    "`-` 즉, $\\dfrac{p[i]}{2}$만큼 `#`이 아닌 문자열이 반경에 존재하고 이를 $2$배 하면 $p[i]$가 되는 것이다\n",
    "\n",
    "`-` $s[i]$가 `#`이 아니라 가정하고 전개하면 마찬가지의 결과를 얻을 수 있다\n",
    "\n",
    "`-` 따라서 가장 긴 팰린드롬의 길이는 $\\max(p)$이다"
   ]
  },
  {
   "cell_type": "code",
   "execution_count": null,
   "id": "685c347e-9600-4137-a267-72a4d86227a2",
   "metadata": {},
   "outputs": [],
   "source": []
  }
 ],
 "metadata": {
  "kernelspec": {
   "display_name": "Python 3 (ipykernel)",
   "language": "python",
   "name": "python3"
  },
  "language_info": {
   "codemirror_mode": {
    "name": "ipython",
    "version": 3
   },
   "file_extension": ".py",
   "mimetype": "text/x-python",
   "name": "python",
   "nbconvert_exporter": "python",
   "pygments_lexer": "ipython3",
   "version": "3.8.11"
  }
 },
 "nbformat": 4,
 "nbformat_minor": 5
}
