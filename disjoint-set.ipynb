{
 "cells": [
  {
   "cell_type": "markdown",
   "id": "954b9150-c320-4696-85f7-67472dfee2c9",
   "metadata": {},
   "source": [
    "# 서로소 집합 (Disjoint Set)"
   ]
  },
  {
   "cell_type": "markdown",
   "id": "1554cdc1-c7d1-4146-86e0-556e01bfa14a",
   "metadata": {},
   "source": [
    "## 집합의 표현\n",
    "\n",
    "- 문제 출처: [백준 1717번](https://www.acmicpc.net/problem/1717)"
   ]
  },
  {
   "cell_type": "markdown",
   "id": "7a8b02b1-67b4-4df3-b4c1-1efd37eb5029",
   "metadata": {},
   "source": [
    "`-` `disjoint-set`을 구현하여 해결할 수 있다\n",
    "\n",
    "`-` 합집합은 두 집합을 합하면 그만이고 두 원소의 동일 집합 여부는 두 원소의 부모 노드가 동일한지로 판단할 수 있다"
   ]
  },
  {
   "cell_type": "code",
   "execution_count": 31,
   "id": "f1886776-ebab-469e-a1ef-1e031c80cef0",
   "metadata": {},
   "outputs": [
    {
     "name": "stdin",
     "output_type": "stream",
     "text": [
      " 7 8\n",
      " 0 1 3\n",
      " 1 1 7\n"
     ]
    },
    {
     "name": "stdout",
     "output_type": "stream",
     "text": [
      "NO\n"
     ]
    },
    {
     "name": "stdin",
     "output_type": "stream",
     "text": [
      " 0 7 6\n",
      " 1 7 1\n"
     ]
    },
    {
     "name": "stdout",
     "output_type": "stream",
     "text": [
      "NO\n"
     ]
    },
    {
     "name": "stdin",
     "output_type": "stream",
     "text": [
      " 0 3 7\n",
      " 0 4 2\n",
      " 0 1 1\n",
      " 1 1 1\n"
     ]
    },
    {
     "name": "stdout",
     "output_type": "stream",
     "text": [
      "YES\n"
     ]
    }
   ],
   "source": [
    "UNION = 0\n",
    "CHECK = 1\n",
    "\n",
    "\n",
    "def make_set(u):\n",
    "    p[u] = u  # 각 노드가 자기자신을 가리키게 한다 (u -> u)\n",
    "    rank[u] = 0\n",
    "\n",
    "\n",
    "def find_set(u):  # u가 포함된 tree의 부모 노드를 찾아준다\n",
    "    if p[u] != u:  # u가 자기자신을 가리키지 않으면 (=자식 노드)\n",
    "        p[u] = find_set(p[u])  # flatten tree, original: (1 -> 3, 3 -> 5, 5 -> 7, 7 -> 7), new: (1 -> 7, 3-> 7, 5 -> 7, 7 -> 7)\n",
    "    return p[u]\n",
    "\n",
    "\n",
    "def union_set(u, v):\n",
    "    uu = find_set(u)\n",
    "    vv = find_set(v)\n",
    "    if uu == vv:  # uu와 vv가 같다면 이미 같은 tree에 속하므로 union할 이유가 없다\n",
    "        return\n",
    "    rank_u = rank[uu]\n",
    "    rank_v = rank[vv]\n",
    "    if rank_u > rank_v:  # v -> u\n",
    "        p[vv] = uu\n",
    "    elif rank_u == rank_v:  # v -> u(u -> v도 가능) and rank에 +1\n",
    "        p[vv] = uu\n",
    "        rank[vv] += 1\n",
    "    else:  # u -> v\n",
    "        p[uu] = vv\n",
    "\n",
    "\n",
    "def solution():\n",
    "    global p, rank\n",
    "    n, m = map(int, input().split())\n",
    "    p = [i for i in range(n + 1)]\n",
    "    rank = [0 for _ in range(n + 1)]\n",
    "    for i in range(n + 1):  # 이미 p를 make_set 적용한 상태로 만들어서 안해도 상관없지만 의미를 분명하게 하려고 추가함\n",
    "        make_set(i)\n",
    "    for _ in range(m):\n",
    "        operator, a, b = map(int, input().split())\n",
    "        if operator == UNION:\n",
    "            union_set(a, b)\n",
    "        else:\n",
    "            if find_set(a) == find_set(b):\n",
    "                print(\"YES\")\n",
    "            else:\n",
    "                print(\"NO\")\n",
    "\n",
    "\n",
    "solution()\n",
    "\n",
    "# input\n",
    "# 7 8\n",
    "# 0 1 3\n",
    "# 1 1 7\n",
    "# 0 7 6\n",
    "# 1 7 1\n",
    "# 0 3 7\n",
    "# 0 4 2\n",
    "# 0 1 1\n",
    "# 1 1 1"
   ]
  },
  {
   "cell_type": "code",
   "execution_count": null,
   "id": "776a71cf-dab5-428e-a650-999f74cd83e5",
   "metadata": {},
   "outputs": [],
   "source": []
  }
 ],
 "metadata": {
  "kernelspec": {
   "display_name": "Python 3 (ipykernel)",
   "language": "python",
   "name": "python3"
  },
  "language_info": {
   "codemirror_mode": {
    "name": "ipython",
    "version": 3
   },
   "file_extension": ".py",
   "mimetype": "text/x-python",
   "name": "python",
   "nbconvert_exporter": "python",
   "pygments_lexer": "ipython3",
   "version": "3.8.11"
  }
 },
 "nbformat": 4,
 "nbformat_minor": 5
}
