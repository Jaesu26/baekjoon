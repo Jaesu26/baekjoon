{
 "cells": [
  {
   "cell_type": "markdown",
   "id": "954b9150-c320-4696-85f7-67472dfee2c9",
   "metadata": {},
   "source": [
    "# 서로소 집합 (Disjoint Set)"
   ]
  },
  {
   "cell_type": "markdown",
   "id": "1554cdc1-c7d1-4146-86e0-556e01bfa14a",
   "metadata": {},
   "source": [
    "## 집합의 표현\n",
    "\n",
    "- 문제 출처: [백준 1717번](https://www.acmicpc.net/problem/1717)"
   ]
  },
  {
   "cell_type": "markdown",
   "id": "7a8b02b1-67b4-4df3-b4c1-1efd37eb5029",
   "metadata": {},
   "source": [
    "`-` `disjoint-set`을 구현하여 해결할 수 있다\n",
    "\n",
    "`-` 합집합은 두 집합을 합하면 그만이고 두 원소의 동일 집합 여부는 두 원소의 부모 노드가 동일한지로 판단할 수 있다"
   ]
  },
  {
   "cell_type": "code",
   "execution_count": 31,
   "id": "f1886776-ebab-469e-a1ef-1e031c80cef0",
   "metadata": {},
   "outputs": [
    {
     "name": "stdin",
     "output_type": "stream",
     "text": [
      " 7 8\n",
      " 0 1 3\n",
      " 1 1 7\n"
     ]
    },
    {
     "name": "stdout",
     "output_type": "stream",
     "text": [
      "NO\n"
     ]
    },
    {
     "name": "stdin",
     "output_type": "stream",
     "text": [
      " 0 7 6\n",
      " 1 7 1\n"
     ]
    },
    {
     "name": "stdout",
     "output_type": "stream",
     "text": [
      "NO\n"
     ]
    },
    {
     "name": "stdin",
     "output_type": "stream",
     "text": [
      " 0 3 7\n",
      " 0 4 2\n",
      " 0 1 1\n",
      " 1 1 1\n"
     ]
    },
    {
     "name": "stdout",
     "output_type": "stream",
     "text": [
      "YES\n"
     ]
    }
   ],
   "source": [
    "UNION = 0\n",
    "CHECK = 1\n",
    "\n",
    "\n",
    "def make_set(u):\n",
    "    p[u] = u  # 각 노드가 자기자신을 가리키게 한다 (u -> u)\n",
    "    rank[u] = 0\n",
    "\n",
    "\n",
    "def find_set(u):  # u가 포함된 tree의 부모 노드를 찾아준다\n",
    "    if p[u] != u:  # u가 자기자신을 가리키지 않으면 (=자식 노드)\n",
    "        p[u] = find_set(p[u])  # flatten tree, original: (1 -> 3, 3 -> 5, 5 -> 7, 7 -> 7), new: (1 -> 7, 3-> 7, 5 -> 7, 7 -> 7)\n",
    "    return p[u]\n",
    "\n",
    "\n",
    "def union_set(u, v):\n",
    "    uu = find_set(u)\n",
    "    vv = find_set(v)\n",
    "    if uu == vv:  # uu와 vv가 같다면 이미 같은 tree에 속하므로 union할 이유가 없다\n",
    "        return\n",
    "    rank_u = rank[uu]\n",
    "    rank_v = rank[vv]\n",
    "    if rank_u > rank_v:  # v -> u\n",
    "        p[vv] = uu\n",
    "    elif rank_u == rank_v:  # v -> u(u -> v도 가능) and rank에 +1\n",
    "        p[vv] = uu\n",
    "        rank[vv] += 1\n",
    "    else:  # u -> v\n",
    "        p[uu] = vv\n",
    "\n",
    "\n",
    "def solution():\n",
    "    global p, rank\n",
    "    n, m = map(int, input().split())\n",
    "    p = [i for i in range(n + 1)]\n",
    "    rank = [0 for _ in range(n + 1)]\n",
    "    for i in range(n + 1):  # 이미 p를 make_set 적용한 상태로 만들어서 안해도 상관없지만 의미를 분명하게 하려고 추가함\n",
    "        make_set(i)\n",
    "    for _ in range(m):\n",
    "        operator, a, b = map(int, input().split())\n",
    "        if operator == UNION:\n",
    "            union_set(a, b)\n",
    "        else:\n",
    "            if find_set(a) == find_set(b):\n",
    "                print(\"YES\")\n",
    "            else:\n",
    "                print(\"NO\")\n",
    "\n",
    "\n",
    "solution()\n",
    "\n",
    "# input\n",
    "# 7 8\n",
    "# 0 1 3\n",
    "# 1 1 7\n",
    "# 0 7 6\n",
    "# 1 7 1\n",
    "# 0 3 7\n",
    "# 0 4 2\n",
    "# 0 1 1\n",
    "# 1 1 1"
   ]
  },
  {
   "cell_type": "markdown",
   "id": "eac42c53-30a2-4e4c-aaa1-a7280abd0a5a",
   "metadata": {},
   "source": [
    "## 거짓말\n",
    "\n",
    "- 문제 출처: [백준 1043번](https://www.acmicpc.net/problem/1043)"
   ]
  },
  {
   "cell_type": "markdown",
   "id": "2507de74-bea4-4f5a-90f5-4c4c19b41408",
   "metadata": {},
   "source": [
    "`-` 이 문제는 `union-find` 알고리즘을 통해 해결할 수 있다\n",
    "\n",
    "`-` 같은 파티에 있는 사람들은 한 배를 탄 것이다\n",
    "\n",
    "`-` 그 사람들 전체가 진실을 몰라야 해당 파티에서 거짓말을 할 수 있다\n",
    "\n",
    "`-` 누구 하나라도 진실을 알면 해당 파티에 있는 모든 사람들에게 더 이상 거짓말을 할 수 없다\n",
    "\n",
    "`-` 그 사람들은 진실을 아는 사람이 되었기 때문에 또 다른 파티에 원래 진실을 아는 사람이 없어도 거짓말을 할 수 없다\n",
    "\n",
    "`-` 처음에 사람들을 개별 집합으로 초기화한다\n",
    "\n",
    "`-` 그리고 같은 파티에 있는 사람들을 합친다\n",
    "\n",
    "`-` 두 명씩 합치면 되며 합집합 연산을 할 때마다 같은 그룹 사람이 한 명 늘어나므로 파티에 $N$명이 있다면 합집합 연산을 $N-1$번 하면 된다\n",
    "\n",
    "`-` 모든 파티에 대해 합집합 연산을 끝낸 후 원래 진실을 아는 사람을 고려하자\n",
    "\n",
    "`-` 원래 진실을 아는 사람 각각에 대해 그가 속한 트리의 루트 노드를 set에 추가한다\n",
    "\n",
    "`-` 파티 하나에 대해 각 참여자들이 속한 트리의 루트 노드가 원래 진실을 아는 사람들 집합에 포함되어 있는지 확인한다\n",
    "\n",
    "`-` 단 한명이라도 포함되어 있다면 그 파티에서 거짓말을 할 수 없다\n",
    "\n",
    "`-` 이를 모든 파티에 대해 반복하면 거짓말을 할 수 있는 파티 수의 최댓값을 계산할 수 있다"
   ]
  },
  {
   "cell_type": "code",
   "execution_count": 13,
   "id": "cdd19c87-b42b-485f-8d33-ae8d1946c4a1",
   "metadata": {},
   "outputs": [
    {
     "name": "stdin",
     "output_type": "stream",
     "text": [
      " 10 9\n",
      " 4 1 2 3 4\n",
      " 2 1 5\n",
      " 2 2 6\n",
      " 1 7\n",
      " 1 8\n",
      " 2 7 8\n",
      " 1 9\n",
      " 1 10\n",
      " 2 3 10\n",
      " 1 4\n"
     ]
    },
    {
     "name": "stdout",
     "output_type": "stream",
     "text": [
      "4\n"
     ]
    }
   ],
   "source": [
    "def make_set(u):\n",
    "    parent[u] = u\n",
    "    rank[u] = 0\n",
    "\n",
    "\n",
    "def find(u):\n",
    "    if parent[u] != u:\n",
    "        parent[u] = find(parent[u])\n",
    "    return parent[u]\n",
    "\n",
    "\n",
    "def union(u, v):\n",
    "    root_u = find(u)\n",
    "    root_v = find(v)\n",
    "    if root_u == root_v:  # 이미 같은 집합에 속해 있다\n",
    "        return\n",
    "    rank_u = rank[root_u]\n",
    "    rank_v = rank[root_v]\n",
    "    if rank_u > rank_v:\n",
    "        parent[root_v] = root_u\n",
    "    elif rank_u < rank_v:\n",
    "        parent[root_u] = root_k\n",
    "    else:\n",
    "        parent[root_v] = root_u\n",
    "        rank[root_v] += 1\n",
    "\n",
    "\n",
    "def solution():\n",
    "    global parent, rank\n",
    "    N, M = map(int, input().split())\n",
    "    parent = [0 for _ in range(N + 1)]  # p[u]는 u가 가리키고 있는 부모 노드\n",
    "    rank = [0 for _ in range(N + 1)]  # rank[u]는 u가 속한 트리 집합 높이의 상한\n",
    "    for i in range(1, N + 1):\n",
    "        make_set(i)\n",
    "    true_people = list(map(int, input().split()))\n",
    "    true_people.pop(0)  # 진실을 아는 사람의 수 (필요 없음)\n",
    "    participants_list = []\n",
    "    for _ in range(M):\n",
    "        participants = list(map(int, input().split()))\n",
    "        n = participants.pop(0)  # 파티에 참여한 사람의 수\n",
    "        participants_list.append(participants)\n",
    "        for i in range(n - 1):\n",
    "            union(participants[i], participants[i + 1])\n",
    "    true_set = set()\n",
    "    for t in true_people:\n",
    "        true_set.add(find(t))\n",
    "    answer = 0\n",
    "    for participants in participants_list:\n",
    "        can_lie = True\n",
    "        for p in participants:\n",
    "            if find(p) in true_set:\n",
    "                can_lie = False\n",
    "        if can_lie:\n",
    "            answer += 1\n",
    "    print(answer)\n",
    "\n",
    "\n",
    "solution()\n",
    "\n",
    "# input\n",
    "# 10 9\n",
    "# 4 1 2 3 4\n",
    "# 2 1 5\n",
    "# 2 2 6\n",
    "# 1 7\n",
    "# 1 8\n",
    "# 2 7 8\n",
    "# 1 9\n",
    "# 1 10\n",
    "# 2 3 10\n",
    "# 1 4"
   ]
  },
  {
   "cell_type": "markdown",
   "id": "ba06294d-1d07-4322-a1db-3395aa9dd13f",
   "metadata": {},
   "source": [
    "## 사이클 게임\n",
    "\n",
    "- 문제 출처: [백준 20040번](https://www.acmicpc.net/problem/20040)"
   ]
  },
  {
   "cell_type": "markdown",
   "id": "c5a2e781-8273-485c-9eb8-62e4b672055a",
   "metadata": {},
   "source": [
    "`-` 두 점을 연결한다는 것은 두 점 각각과 연결된 원소로 이루어진 집합을 결합한다는 의미이다\n",
    "\n",
    "`-` 이는 `union-find` 알고리즘을 사용해 해결할 수 있다\n",
    "\n",
    "`-` 계속해서 주어지는 두 점을 `union` 해나간다\n",
    "\n",
    "`-` 만약 이미 두 점이 하나의 집합에 포함되어 있다면 사이클이 완성된 것이다 (이는 루트 노드의 일치 여부로 판단 가능하다)"
   ]
  },
  {
   "cell_type": "code",
   "execution_count": 14,
   "id": "34f32315-7fa4-40c8-b4b1-c6694cee6172",
   "metadata": {},
   "outputs": [
    {
     "name": "stdin",
     "output_type": "stream",
     "text": [
      " 6 5\n",
      " 0 1\n",
      " 1 2\n",
      " 1 3\n",
      " 0 3\n",
      " 4 5\n"
     ]
    },
    {
     "name": "stdout",
     "output_type": "stream",
     "text": [
      "4\n"
     ]
    }
   ],
   "source": [
    "def make_set(u):\n",
    "    p[u] = u\n",
    "    rank[u] = 0\n",
    "\n",
    "\n",
    "def find(u):\n",
    "    if u != p[u]:\n",
    "        p[u] = find(p[u])\n",
    "    return p[u]\n",
    "\n",
    "\n",
    "def union(u, v):\n",
    "    u_root = find(u)\n",
    "    v_root = find(v)\n",
    "    if u_root == v_root:\n",
    "        return \"no\"\n",
    "    if rank[u_root] < rank[v_root]:\n",
    "        p[u_root] = v_root\n",
    "    elif rank[v_root] < rank[u_root]:\n",
    "        p[v_root] = u_root\n",
    "    else:\n",
    "        p[u_root] = v_root\n",
    "        rank[v_root] += 1\n",
    "    return \"yes\"\n",
    "\n",
    "\n",
    "def solution():\n",
    "    global p, rank\n",
    "    n, m = map(int, input().split())\n",
    "    INF = 2e6\n",
    "    p = [i for i in range(n)]\n",
    "    rank = [0 for _ in range(n)]\n",
    "    for i in range(n):\n",
    "        make_set(i)\n",
    "    answer = INF\n",
    "    for i in range(1, m + 1):\n",
    "        a, b = map(int, input().split())\n",
    "        success = union(a, b)\n",
    "        if success == \"yes\":\n",
    "            continue\n",
    "        answer = min(i, answer)\n",
    "    if answer == INF:\n",
    "        answer = 0\n",
    "    print(answer)\n",
    "\n",
    "\n",
    "solution()\n",
    "\n",
    "# input\n",
    "# 6 5\n",
    "# 0 1\n",
    "# 1 2\n",
    "# 1 3\n",
    "# 0 3\n",
    "# 4 5"
   ]
  },
  {
   "cell_type": "markdown",
   "id": "0637f55a-5d0f-4396-b53d-b9a5e08f9cc2",
   "metadata": {},
   "source": [
    "## 여행 가자\n",
    "\n",
    "- 문제 출처: [백준 1976번](https://www.acmicpc.net/problem/1976)"
   ]
  },
  {
   "cell_type": "markdown",
   "id": "b72f7bb6-7998-4bfc-a2c3-7d3282acbddf",
   "metadata": {},
   "source": [
    "`-` `disjoint-set`을 사용해 해결할 수 있다\n",
    "\n",
    "`-` 입력으로 주어진 두 도시를 `union`하고 마지막에 여행을 계획한 도시가 같은 집합에 속하면 여행 가능하다"
   ]
  },
  {
   "cell_type": "code",
   "execution_count": 9,
   "id": "9f46ae5c-ae83-4ffc-8f63-322463248f6b",
   "metadata": {},
   "outputs": [
    {
     "name": "stdin",
     "output_type": "stream",
     "text": [
      " 3\n",
      " 3\n",
      " 0 1 0\n",
      " 1 0 1\n",
      " 0 1 0\n",
      " 1 2 3\n"
     ]
    },
    {
     "name": "stdout",
     "output_type": "stream",
     "text": [
      "YES\n"
     ]
    }
   ],
   "source": [
    "def make_set(u):\n",
    "    p[u] = u\n",
    "    rank[u] = 0\n",
    "\n",
    "\n",
    "def find(u):\n",
    "    if p[u] != u:\n",
    "        p[u] = find(p[u])\n",
    "    return p[u]\n",
    "\n",
    "\n",
    "def union(u, v):\n",
    "    u_root = find(u)\n",
    "    v_root = find(v)\n",
    "    if u_root == v_root:\n",
    "        return\n",
    "    if rank[v_root] < rank[u_root]:\n",
    "        p[v_root] = u_root\n",
    "    elif rank[u_root] < rank[v_root]:\n",
    "        p[u_root] = v_root\n",
    "    else:\n",
    "        p[u_root] = v_root\n",
    "        rank[u_root] += 1\n",
    "\n",
    "\n",
    "def solution():\n",
    "    global p, rank\n",
    "    N = int(input())\n",
    "    M = int(input())\n",
    "    p = [i for i in range(N + 1)]\n",
    "    rank = [0 for _ in range(N + 1)]\n",
    "    for u in range(1, N + 1):\n",
    "        make_set(u)\n",
    "    for i in range(1, N + 1):\n",
    "        connection_info = map(int, input().split())\n",
    "        for j, is_connect in enumerate(connection_info, start=1):\n",
    "            if is_connect:\n",
    "                union(i, j)\n",
    "    cities = list(map(int, input().split()))  # 여행 계획 도시\n",
    "    answer = \"YES\"\n",
    "    root = find(cities[0])\n",
    "    for city in cities:\n",
    "        if find(city) != root:\n",
    "            answer = \"NO\"\n",
    "            break\n",
    "    print(answer)\n",
    "\n",
    "\n",
    "solution()\n",
    "\n",
    "# input\n",
    "# 3\n",
    "# 3\n",
    "# 0 1 0\n",
    "# 1 0 1\n",
    "# 0 1 0\n",
    "# 1 2 3"
   ]
  },
  {
   "cell_type": "code",
   "execution_count": null,
   "id": "57108d68-a6b6-4b23-a512-96fe2aa9f776",
   "metadata": {},
   "outputs": [],
   "source": []
  }
 ],
 "metadata": {
  "kernelspec": {
   "display_name": "Python 3 (ipykernel)",
   "language": "python",
   "name": "python3"
  },
  "language_info": {
   "codemirror_mode": {
    "name": "ipython",
    "version": 3
   },
   "file_extension": ".py",
   "mimetype": "text/x-python",
   "name": "python",
   "nbconvert_exporter": "python",
   "pygments_lexer": "ipython3",
   "version": "3.8.11"
  }
 },
 "nbformat": 4,
 "nbformat_minor": 5
}
