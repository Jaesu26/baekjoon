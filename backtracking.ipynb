{
 "cells": [
  {
   "cell_type": "markdown",
   "id": "9724ce95-987b-4bf2-a889-141ef67a361f",
   "metadata": {},
   "source": [
    "# 백트래킹 (Backtracking)"
   ]
  },
  {
   "cell_type": "markdown",
   "id": "0c504052-bcff-4080-95a8-3c866ab4600d",
   "metadata": {},
   "source": [
    "`-` `DFS`를 수행하면서 해가 아닌 분기를 만나면 `이전 분기로 되돌아감`"
   ]
  },
  {
   "cell_type": "markdown",
   "id": "05d81e89-883c-44fa-8281-eda962bc00ba",
   "metadata": {},
   "source": [
    "## N과 M (1)\n",
    "\n",
    "- 문제 출처: [백준 15649번](https://www.acmicpc.net/problem/15649)"
   ]
  },
  {
   "cell_type": "code",
   "execution_count": 27,
   "id": "fdb9c702-a49d-45ec-a599-57633c8d27be",
   "metadata": {},
   "outputs": [
    {
     "name": "stdin",
     "output_type": "stream",
     "text": [
      " 4 2\n"
     ]
    },
    {
     "name": "stdout",
     "output_type": "stream",
     "text": [
      "1 2\n",
      "1 3\n",
      "1 4\n",
      "2 1\n",
      "2 3\n",
      "2 4\n",
      "3 1\n",
      "3 2\n",
      "3 4\n",
      "4 1\n",
      "4 2\n",
      "4 3\n"
     ]
    }
   ],
   "source": [
    "def DFS(sequence): ## 현재 sequence에서 더 추가할 자연수를 탐색\n",
    "    length = len(sequence)\n",
    "    if length == M: ## 조건이 성립하면 수열을 print하고 함수 종료\n",
    "        print(*sequence)\n",
    "        return ## 함수 끝\n",
    "    for x in range(1, N+1):\n",
    "        if x not in sequence: ## 수열에 존재하지 않는 자연수라면\n",
    "            sequence.append(x) ## 조건에 맞으면 append\n",
    "            DFS(sequence) ## append할 숫자를 찾자\n",
    "            sequence.pop() ## 정답을 print했으면 다시 pop하고 다음에 넣을 숫자를 찾자\n",
    "            ## append와 pop을 통해 하나의 리스트만 사용\n",
    "\n",
    "## 입력\n",
    "N, M = map(int, input().split()) ## 1부터 N까지 자연수 중에서 중복 없이 M개를 고른 수열\n",
    "DFS([])\n",
    "    \n",
    "# input\n",
    "# 4 2"
   ]
  },
  {
   "cell_type": "markdown",
   "id": "952d3d42-b126-4a8d-b272-2f7b48782cd3",
   "metadata": {},
   "source": [
    "## N과 M (2)\n",
    "\n",
    "- 문제 출처: [백준 15650번](https://www.acmicpc.net/problem/15650)"
   ]
  },
  {
   "cell_type": "markdown",
   "id": "3156c690-3378-4703-859a-87a1b706bdf5",
   "metadata": {},
   "source": [
    "`-` [N과 M (1)](https://www.acmicpc.net/problem/15649) 문제에서 조건이 추가됐다\n",
    "\n",
    "`-` 수열은 오름차순이어야 한다 (e.g. `[1,2,3]`은 ok, `[3,2,1`]은 not ok)"
   ]
  },
  {
   "cell_type": "code",
   "execution_count": 32,
   "id": "432dfe3b-1e29-4be8-b17c-c34dd003fff0",
   "metadata": {},
   "outputs": [
    {
     "name": "stdin",
     "output_type": "stream",
     "text": [
      " 4 2\n"
     ]
    },
    {
     "name": "stdout",
     "output_type": "stream",
     "text": [
      "1 2\n",
      "1 3\n",
      "1 4\n",
      "2 3\n",
      "2 4\n",
      "3 4\n"
     ]
    }
   ],
   "source": [
    "def DFS(sequence): \n",
    "    length = len(sequence)\n",
    "    if length == M: \n",
    "        print(*sequence)\n",
    "        return ## 함수 끝\n",
    "    for x in range(1, N+1):\n",
    "        if x not in sequence: ## 수열에 존재하지 않는 자연수라면\n",
    "            if sequence[-1] < x: ## 오름차순을 만족하면\n",
    "                sequence.append(x) \n",
    "                DFS(sequence) \n",
    "                sequence.pop() \n",
    "\n",
    "## 입력\n",
    "N, M = map(int, input().split())\n",
    "for i in range(1, N + 1):\n",
    "    DFS([i])\n",
    "    \n",
    "# input\n",
    "# 4 2"
   ]
  },
  {
   "cell_type": "markdown",
   "id": "54c5bbcc-d2d4-48fa-8d6f-8760eb46f225",
   "metadata": {},
   "source": [
    "## N과 M (3)\n",
    "\n",
    "- 문제 출처: [백준 15651번](https://www.acmicpc.net/problem/15651)"
   ]
  },
  {
   "cell_type": "markdown",
   "id": "42aae8bb-4b1e-4bde-9184-40749dbf36b7",
   "metadata": {},
   "source": [
    "`-` [N과 M (1)](https://www.acmicpc.net/problem/15649) 문제와 달리 같은 수를 여러번 골라도 된다"
   ]
  },
  {
   "cell_type": "code",
   "execution_count": 33,
   "id": "d8bc3eff-769a-4798-9fdf-a0983bf4f01e",
   "metadata": {},
   "outputs": [
    {
     "name": "stdin",
     "output_type": "stream",
     "text": [
      " 4 2\n"
     ]
    },
    {
     "name": "stdout",
     "output_type": "stream",
     "text": [
      "1 1\n",
      "1 2\n",
      "1 3\n",
      "1 4\n",
      "2 1\n",
      "2 2\n",
      "2 3\n",
      "2 4\n",
      "3 1\n",
      "3 2\n",
      "3 3\n",
      "3 4\n",
      "4 1\n",
      "4 2\n",
      "4 3\n",
      "4 4\n"
     ]
    }
   ],
   "source": [
    "def DFS(sequence): \n",
    "    length = len(sequence)\n",
    "    if length == M: \n",
    "        print(*sequence)\n",
    "        return ## 함수 끝\n",
    "    for x in range(1, N+1):\n",
    "        sequence.append(x) \n",
    "        DFS(sequence) \n",
    "        sequence.pop() \n",
    "\n",
    "## 입력\n",
    "N, M = map(int, input().split())\n",
    "DFS([])\n",
    "    \n",
    "# input\n",
    "# 4 2"
   ]
  },
  {
   "cell_type": "markdown",
   "id": "e4aae782-16fa-4a2c-b600-7fde59b473c7",
   "metadata": {},
   "source": [
    "## N과 M (4)\n",
    "\n",
    "- 문제 출처: [백준 15652번](https://www.acmicpc.net/problem/15652)"
   ]
  },
  {
   "cell_type": "markdown",
   "id": "7414f8ff-734c-4b64-984e-a7b3b5378ed9",
   "metadata": {},
   "source": [
    "`-` [N과 M (1)](https://www.acmicpc.net/problem/15649) 문제와 달리 같은 수를 여러번 골라도 된다\n",
    "\n",
    "`-` 또한, 고른 수열은 비내림차순이어야 한다"
   ]
  },
  {
   "cell_type": "code",
   "execution_count": 35,
   "id": "d9898e3c-7d68-498f-a102-39b637bae8d7",
   "metadata": {},
   "outputs": [
    {
     "name": "stdin",
     "output_type": "stream",
     "text": [
      " 4 2\n"
     ]
    },
    {
     "name": "stdout",
     "output_type": "stream",
     "text": [
      "1 1\n",
      "1 2\n",
      "1 3\n",
      "1 4\n",
      "2 2\n",
      "2 3\n",
      "2 4\n",
      "3 3\n",
      "3 4\n",
      "4 4\n"
     ]
    }
   ],
   "source": [
    "def DFS(sequence): \n",
    "    length = len(sequence)\n",
    "    if length == M: \n",
    "        print(*sequence)\n",
    "        return ## 함수 끝\n",
    "    for x in range(1, N+1):\n",
    "        if sequence[-1] <= x: ## 비내림차순을 만족하면 \n",
    "            sequence.append(x) \n",
    "            DFS(sequence) \n",
    "            sequence.pop() \n",
    "\n",
    "## 입력\n",
    "N, M = map(int, input().split())\n",
    "for i in range(1, N + 1):\n",
    "    DFS([i])\n",
    "    \n",
    "# input\n",
    "# 4 2"
   ]
  },
  {
   "cell_type": "markdown",
   "id": "a9788707-1986-4fe2-932c-209c6795eeb2",
   "metadata": {},
   "source": [
    "## N과 M (5)\n",
    "\n",
    "- 문제 출처: [백준 15654번](https://www.acmicpc.net/problem/15654)"
   ]
  },
  {
   "cell_type": "markdown",
   "id": "3d50c607-1dda-41c4-9206-0be1d8c860b4",
   "metadata": {},
   "source": [
    "`-` [N과 M (1)](https://www.acmicpc.net/problem/15649) 문제와 달리 입력이 임의로 주어지는 자연수로 바뀌었다"
   ]
  },
  {
   "cell_type": "code",
   "execution_count": 46,
   "id": "4c083221-c353-4fdf-ae00-00e3a10ccc1b",
   "metadata": {},
   "outputs": [
    {
     "name": "stdin",
     "output_type": "stream",
     "text": [
      " 3 1\n",
      " 4 5 2\n"
     ]
    },
    {
     "name": "stdout",
     "output_type": "stream",
     "text": [
      "2\n",
      "4\n",
      "5\n"
     ]
    }
   ],
   "source": [
    "def DFS(sequence): \n",
    "    length = len(sequence)\n",
    "    if length == M: \n",
    "        print(*sequence)\n",
    "        return ## 함수 끝\n",
    "    for x in numbers:\n",
    "        if x not in sequence: ## 수열에 존재하지 않는 자연수라면\n",
    "            sequence.append(x) \n",
    "            DFS(sequence) \n",
    "            sequence.pop() \n",
    "                \n",
    "## 입력\n",
    "N, M = map(int, input().split())\n",
    "numbers = [*map(int, input().split())]\n",
    "numbers.sort()\n",
    "DFS([])\n",
    "\n",
    "# input\n",
    "# 3 1\n",
    "# 4 5 2"
   ]
  },
  {
   "cell_type": "markdown",
   "id": "539acc7d-478f-418d-aaf9-dbf69435e5fe",
   "metadata": {},
   "source": [
    "## N과 M (9)\n",
    "\n",
    "- 문제 출처: [백준 15663번](https://www.acmicpc.net/problem/15663)"
   ]
  },
  {
   "cell_type": "markdown",
   "id": "38347def-7a34-48b1-a107-a6ef5dd32bbe",
   "metadata": {},
   "source": [
    "`-` [N과 M (1)](https://www.acmicpc.net/problem/15649) 문제와 달리 입력이 임의로 주어지는 자연수로 바뀌었다\n",
    "\n",
    "`-` 또한, 중복된 자연수가 입력으로 들어올 수 있다"
   ]
  },
  {
   "cell_type": "code",
   "execution_count": 69,
   "id": "0630416b-2c01-4a63-921c-570cc9dfabda",
   "metadata": {},
   "outputs": [
    {
     "name": "stdin",
     "output_type": "stream",
     "text": [
      " 4 2\n",
      " 9 7 9 1\n"
     ]
    },
    {
     "name": "stdout",
     "output_type": "stream",
     "text": [
      "1 7\n",
      "1 9\n",
      "7 1\n",
      "7 9\n",
      "9 1\n",
      "9 7\n",
      "9 9\n"
     ]
    }
   ],
   "source": [
    "def DFS(sequence): \n",
    "    length = len(sequence)\n",
    "    if length == M: \n",
    "        print(*sequence)\n",
    "        return ## 함수 끝\n",
    "    for x in numbers:\n",
    "        if visited[x] < numbers_count[x]: \n",
    "            sequence.append(x) \n",
    "            visited[x] += 1 ## x를 append 했으니 +1\n",
    "            DFS(sequence) \n",
    "            sequence.pop() \n",
    "            visited[x] -= 1 ## x를 다시 pop 했으니 -1\n",
    "                \n",
    "## 입력\n",
    "N, M = map(int, input().split())\n",
    "numbers = [*map(int, input().split())]\n",
    "visited = {}\n",
    "numbers_count = {}\n",
    "\n",
    "## visited, numbers_count 기록\n",
    "for x in numbers:\n",
    "    visited[x] = 0\n",
    "    if x not in numbers_count:\n",
    "        numbers_count[x] = 1\n",
    "    else:\n",
    "        numbers_count[x] += 1\n",
    "\n",
    "## list -> set -> list\n",
    "numbers = list(set(numbers))\n",
    "numbers.sort()\n",
    "\n",
    "## DFS\n",
    "DFS([])\n",
    "\n",
    "# input\n",
    "# 4 2\n",
    "# 9 7 9 1"
   ]
  },
  {
   "cell_type": "code",
   "execution_count": 80,
   "id": "0184e841-59f7-41d8-97c9-fae8f9fb58c3",
   "metadata": {},
   "outputs": [
    {
     "name": "stdin",
     "output_type": "stream",
     "text": [
      " 4 2\n",
      " 9 7 9 1\n"
     ]
    },
    {
     "name": "stdout",
     "output_type": "stream",
     "text": [
      "1 1\n",
      "1 7\n",
      "1 9\n",
      "7 7\n",
      "7 9\n",
      "9 9\n"
     ]
    }
   ],
   "source": [
    "def DFS(sequence): \n",
    "    length = len(sequence)\n",
    "    if length == M: \n",
    "        print(*sequence)\n",
    "        return ## 함수 끝\n",
    "    for x in numbers:\n",
    "        if not sequence:\n",
    "            sequence.append(x) \n",
    "            DFS(sequence) \n",
    "            sequence.pop() \n",
    "        else:\n",
    "            if sequence[-1] <= x:\n",
    "                sequence.append(x) \n",
    "                DFS(sequence) \n",
    "                sequence.pop() \n",
    "\n",
    "## 입력\n",
    "N, M = map(int, input().split())\n",
    "numbers = [*map(int, input().split())]\n",
    "numbers = list(set(numbers))\n",
    "numbers.sort()\n",
    "\n",
    "## DFS\n",
    "DFS([])"
   ]
  },
  {
   "cell_type": "markdown",
   "id": "3dac7db9-4463-46b6-b66a-38951632cfe7",
   "metadata": {},
   "source": [
    "## N-Queen\n",
    "\n",
    "- 문제 출처: [백준 9663번](https://www.acmicpc.net/problem/9663)"
   ]
  },
  {
   "cell_type": "markdown",
   "id": "3a09d438-7189-4e55-9f92-d902af3ec65a",
   "metadata": {},
   "source": [
    "`-` 퀸의 특성상 가로 줄 하나에 퀸 하나씩, 세로 줄 하나에 퀸 하니씩 놓아야 함 (그래야 서로 공격할 수 없다)\n",
    "\n",
    "`-` 그래야 $N\\times N$ 체스판에 $N$개의 퀸을 놓을 수 있다\n",
    "\n",
    "`-` 가로 줄을 기준으로 DFS를 하여 퀸을 놓고 다음 가로 줄에 대해 DFS를 하여 $N$개의 퀸을 놓을 때까지 이를 반복하면 문제를 해결할 수 있다"
   ]
  },
  {
   "cell_type": "code",
   "execution_count": 420,
   "id": "719a09f4-94fa-440c-a02e-0ddb27e1b7f1",
   "metadata": {},
   "outputs": [
    {
     "name": "stdin",
     "output_type": "stream",
     "text": [
      " 8\n"
     ]
    },
    {
     "name": "stdout",
     "output_type": "stream",
     "text": [
      "92\n"
     ]
    }
   ],
   "source": [
    "def DFS(n_height):\n",
    "    global n_queen\n",
    "    global count\n",
    "    \n",
    "    i = n_height\n",
    "    for j in range(N):\n",
    "        if chess_board[i][j]: ## chess_board[i][j]에 퀸을 놓을 수 있다면\n",
    "            n_queen += 1 ## 해당 좌표에 퀸을 놓는다\n",
    "            if n_queen == N: ## 함수 끝, 마지막은 놓을 자리가 정해져 있으므로 어파치 True로 만들고 다시 False로 만드므로 아래의 코드를 실행할 필요가 없다\n",
    "                count += 1\n",
    "                n_queen -= 1\n",
    "                continue\n",
    "                \n",
    "            ## 새로 놓은 퀸의 공격 영역엔 다른 퀸을 놓을 수 없으므로 좌표값들을 True에서 False로 바꾸자\n",
    "            visited = []\n",
    "            for n in range(n_height + 1, N): ## 체스판에서 n_height보다 위에 있는 곳(=더 작은 값)은 이미 퀸을 놓았으므로 확인 할 필요가 없음\n",
    "                for m in range(N):\n",
    "                    if chess_board[n][m]: ## 이미 False인 칸은 False로 만들 필요가 없다\n",
    "                        if m == j or abs(n - i) == abs(m - j): ## 상하(=column), 대각선(좌하, 우하)\n",
    "                            chess_board[n][m] = False\n",
    "                            visited.append([n, m])\n",
    "\n",
    "            ## 재귀\n",
    "            DFS(n_height + 1) \n",
    "            n_queen -= 1\n",
    "\n",
    "            ## 다시 좌표값들을 True로 변경\n",
    "            for x, y in visited:\n",
    "                chess_board[x][y] = True\n",
    "            \n",
    "                    \n",
    "## 입력\n",
    "N = int(input())\n",
    "chess_board = [[True] * N for _ in range(N)] ## N X N 체스판\n",
    "n_queen = 0\n",
    "count = 0\n",
    "\n",
    "## 출력\n",
    "DFS(0)\n",
    "print(count)\n",
    "\n",
    "# input\n",
    "# 8"
   ]
  },
  {
   "cell_type": "code",
   "execution_count": null,
   "id": "d97412d3-2a30-42b1-8f3a-49a847b7e8b8",
   "metadata": {},
   "outputs": [],
   "source": []
  }
 ],
 "metadata": {
  "kernelspec": {
   "display_name": "Python 3 (ipykernel)",
   "language": "python",
   "name": "python3"
  },
  "language_info": {
   "codemirror_mode": {
    "name": "ipython",
    "version": 3
   },
   "file_extension": ".py",
   "mimetype": "text/x-python",
   "name": "python",
   "nbconvert_exporter": "python",
   "pygments_lexer": "ipython3",
   "version": "3.8.11"
  }
 },
 "nbformat": 4,
 "nbformat_minor": 5
}
