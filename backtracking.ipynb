{
 "cells": [
  {
   "cell_type": "markdown",
   "id": "9724ce95-987b-4bf2-a889-141ef67a361f",
   "metadata": {},
   "source": [
    "# 백트래킹 (Backtracking)"
   ]
  },
  {
   "cell_type": "markdown",
   "id": "0c504052-bcff-4080-95a8-3c866ab4600d",
   "metadata": {},
   "source": [
    "`-` `DFS`를 수행하면서 해가 아닌 분기를 만나면 `이전 분기로 되돌아감`"
   ]
  },
  {
   "cell_type": "markdown",
   "id": "05d81e89-883c-44fa-8281-eda962bc00ba",
   "metadata": {},
   "source": [
    "## N과 M (1)\n",
    "\n",
    "- 문제 출처: [백준 15649번](https://www.acmicpc.net/problem/15649)"
   ]
  },
  {
   "cell_type": "code",
   "execution_count": 27,
   "id": "fdb9c702-a49d-45ec-a599-57633c8d27be",
   "metadata": {},
   "outputs": [
    {
     "name": "stdin",
     "output_type": "stream",
     "text": [
      " 4 2\n"
     ]
    },
    {
     "name": "stdout",
     "output_type": "stream",
     "text": [
      "1 2\n",
      "1 3\n",
      "1 4\n",
      "2 1\n",
      "2 3\n",
      "2 4\n",
      "3 1\n",
      "3 2\n",
      "3 4\n",
      "4 1\n",
      "4 2\n",
      "4 3\n"
     ]
    }
   ],
   "source": [
    "def DFS(sequence):  # 현재 sequence에서 더 추가할 자연수를 탐색\n",
    "    length = len(sequence)\n",
    "    if length == M:  # 조건이 성립하면 수열을 print하고 함수 종료\n",
    "        print(*sequence)\n",
    "        return  # 함수 끝\n",
    "    for x in range(1, N + 1):\n",
    "        if x not in sequence:  # 수열에 존재하지 않는 자연수라면\n",
    "            sequence.append(x)  # 조건에 맞으면 append\n",
    "            DFS(sequence)  # append할 숫자를 찾자\n",
    "            sequence.pop()  # 정답을 print했으면 다시 pop하고 다음에 넣을 숫자를 찾자\n",
    "            # append와 pop을 통해 하나의 리스트만 사용\n",
    "\n",
    "\n",
    "# 입력\n",
    "N, M = map(int, input().split())  # 1부터 N까지 자연수 중에서 중복 없이 M개를 고른 수열\n",
    "DFS([])\n",
    "    \n",
    "# input\n",
    "# 4 2"
   ]
  },
  {
   "cell_type": "markdown",
   "id": "952d3d42-b126-4a8d-b272-2f7b48782cd3",
   "metadata": {},
   "source": [
    "## N과 M (2)\n",
    "\n",
    "- 문제 출처: [백준 15650번](https://www.acmicpc.net/problem/15650)"
   ]
  },
  {
   "cell_type": "markdown",
   "id": "3156c690-3378-4703-859a-87a1b706bdf5",
   "metadata": {},
   "source": [
    "`-` [N과 M (1)](https://www.acmicpc.net/problem/15649) 문제에서 조건이 추가됐다\n",
    "\n",
    "`-` 수열은 오름차순이어야 한다 (e.g. `[1,2,3]`은 ok, `[3,2,1`]은 not ok)"
   ]
  },
  {
   "cell_type": "code",
   "execution_count": 32,
   "id": "432dfe3b-1e29-4be8-b17c-c34dd003fff0",
   "metadata": {},
   "outputs": [
    {
     "name": "stdin",
     "output_type": "stream",
     "text": [
      " 4 2\n"
     ]
    },
    {
     "name": "stdout",
     "output_type": "stream",
     "text": [
      "1 2\n",
      "1 3\n",
      "1 4\n",
      "2 3\n",
      "2 4\n",
      "3 4\n"
     ]
    }
   ],
   "source": [
    "def DFS(sequence): \n",
    "    length = len(sequence)\n",
    "    if length == M: \n",
    "        print(*sequence)\n",
    "        return  # 함수 끝\n",
    "    for x in range(1, N + 1):\n",
    "        if x not in sequence:  # 수열에 존재하지 않는 자연수라면\n",
    "            if sequence[-1] < x:  # 오름차순을 만족하면\n",
    "                sequence.append(x) \n",
    "                DFS(sequence) \n",
    "                sequence.pop() \n",
    "\n",
    "\n",
    "# 입력\n",
    "N, M = map(int, input().split())\n",
    "for i in range(1, N + 1):\n",
    "    DFS([i])\n",
    "    \n",
    "# input\n",
    "# 4 2"
   ]
  },
  {
   "cell_type": "markdown",
   "id": "54c5bbcc-d2d4-48fa-8d6f-8760eb46f225",
   "metadata": {},
   "source": [
    "## N과 M (3)\n",
    "\n",
    "- 문제 출처: [백준 15651번](https://www.acmicpc.net/problem/15651)"
   ]
  },
  {
   "cell_type": "markdown",
   "id": "42aae8bb-4b1e-4bde-9184-40749dbf36b7",
   "metadata": {},
   "source": [
    "`-` [N과 M (1)](https://www.acmicpc.net/problem/15649) 문제와 달리 같은 수를 여러번 골라도 된다"
   ]
  },
  {
   "cell_type": "code",
   "execution_count": 33,
   "id": "d8bc3eff-769a-4798-9fdf-a0983bf4f01e",
   "metadata": {},
   "outputs": [
    {
     "name": "stdin",
     "output_type": "stream",
     "text": [
      " 4 2\n"
     ]
    },
    {
     "name": "stdout",
     "output_type": "stream",
     "text": [
      "1 1\n",
      "1 2\n",
      "1 3\n",
      "1 4\n",
      "2 1\n",
      "2 2\n",
      "2 3\n",
      "2 4\n",
      "3 1\n",
      "3 2\n",
      "3 3\n",
      "3 4\n",
      "4 1\n",
      "4 2\n",
      "4 3\n",
      "4 4\n"
     ]
    }
   ],
   "source": [
    "def DFS(sequence): \n",
    "    length = len(sequence)\n",
    "    if length == M: \n",
    "        print(*sequence)\n",
    "        return  # 함수 끝\n",
    "    for x in range(1, N+1):\n",
    "        sequence.append(x) \n",
    "        DFS(sequence) \n",
    "        sequence.pop() \n",
    "\n",
    "\n",
    "# 입력\n",
    "N, M = map(int, input().split())\n",
    "DFS([])\n",
    "    \n",
    "# input\n",
    "# 4 2"
   ]
  },
  {
   "cell_type": "markdown",
   "id": "e4aae782-16fa-4a2c-b600-7fde59b473c7",
   "metadata": {},
   "source": [
    "## N과 M (4)\n",
    "\n",
    "- 문제 출처: [백준 15652번](https://www.acmicpc.net/problem/15652)"
   ]
  },
  {
   "cell_type": "markdown",
   "id": "7414f8ff-734c-4b64-984e-a7b3b5378ed9",
   "metadata": {},
   "source": [
    "`-` [N과 M (1)](https://www.acmicpc.net/problem/15649) 문제와 달리 같은 수를 여러번 골라도 된다\n",
    "\n",
    "`-` 또한, 고른 수열은 비내림차순이어야 한다"
   ]
  },
  {
   "cell_type": "code",
   "execution_count": 35,
   "id": "d9898e3c-7d68-498f-a102-39b637bae8d7",
   "metadata": {},
   "outputs": [
    {
     "name": "stdin",
     "output_type": "stream",
     "text": [
      " 4 2\n"
     ]
    },
    {
     "name": "stdout",
     "output_type": "stream",
     "text": [
      "1 1\n",
      "1 2\n",
      "1 3\n",
      "1 4\n",
      "2 2\n",
      "2 3\n",
      "2 4\n",
      "3 3\n",
      "3 4\n",
      "4 4\n"
     ]
    }
   ],
   "source": [
    "def DFS(sequence): \n",
    "    length = len(sequence)\n",
    "    if length == M: \n",
    "        print(*sequence)\n",
    "        return  # 함수 끝\n",
    "    for x in range(1, N + 1):\n",
    "        if sequence[-1] <= x:  # 비내림차순을 만족하면 \n",
    "            sequence.append(x) \n",
    "            DFS(sequence) \n",
    "            sequence.pop() \n",
    "\n",
    "\n",
    "# 입력\n",
    "N, M = map(int, input().split())\n",
    "for i in range(1, N + 1):\n",
    "    DFS([i])\n",
    "    \n",
    "# input\n",
    "# 4 2"
   ]
  },
  {
   "cell_type": "markdown",
   "id": "a9788707-1986-4fe2-932c-209c6795eeb2",
   "metadata": {},
   "source": [
    "## N과 M (5)\n",
    "\n",
    "- 문제 출처: [백준 15654번](https://www.acmicpc.net/problem/15654)"
   ]
  },
  {
   "cell_type": "markdown",
   "id": "3d50c607-1dda-41c4-9206-0be1d8c860b4",
   "metadata": {},
   "source": [
    "`-` [N과 M (1)](https://www.acmicpc.net/problem/15649) 문제와 달리 입력이 임의로 주어지는 자연수로 바뀌었다"
   ]
  },
  {
   "cell_type": "code",
   "execution_count": 46,
   "id": "4c083221-c353-4fdf-ae00-00e3a10ccc1b",
   "metadata": {},
   "outputs": [
    {
     "name": "stdin",
     "output_type": "stream",
     "text": [
      " 3 1\n",
      " 4 5 2\n"
     ]
    },
    {
     "name": "stdout",
     "output_type": "stream",
     "text": [
      "2\n",
      "4\n",
      "5\n"
     ]
    }
   ],
   "source": [
    "def DFS(sequence): \n",
    "    length = len(sequence)\n",
    "    if length == M: \n",
    "        print(*sequence)\n",
    "        return  # 함수 끝\n",
    "    for x in numbers:\n",
    "        if x not in sequence:  # 수열에 존재하지 않는 자연수라면\n",
    "            sequence.append(x) \n",
    "            DFS(sequence) \n",
    "            sequence.pop() \n",
    "\n",
    "\n",
    "# 입력\n",
    "N, M = map(int, input().split())\n",
    "numbers = [*map(int, input().split())]\n",
    "numbers.sort()\n",
    "DFS([])\n",
    "\n",
    "# input\n",
    "# 3 1\n",
    "# 4 5 2"
   ]
  },
  {
   "cell_type": "markdown",
   "id": "539acc7d-478f-418d-aaf9-dbf69435e5fe",
   "metadata": {},
   "source": [
    "## N과 M (9)\n",
    "\n",
    "- 문제 출처: [백준 15663번](https://www.acmicpc.net/problem/15663)"
   ]
  },
  {
   "cell_type": "markdown",
   "id": "38347def-7a34-48b1-a107-a6ef5dd32bbe",
   "metadata": {},
   "source": [
    "`-` [N과 M (1)](https://www.acmicpc.net/problem/15649) 문제와 달리 입력이 임의로 주어지는 자연수로 바뀌었다\n",
    "\n",
    "`-` 또한, 중복된 자연수가 입력으로 들어올 수 있다"
   ]
  },
  {
   "cell_type": "code",
   "execution_count": 69,
   "id": "0630416b-2c01-4a63-921c-570cc9dfabda",
   "metadata": {},
   "outputs": [
    {
     "name": "stdin",
     "output_type": "stream",
     "text": [
      " 4 2\n",
      " 9 7 9 1\n"
     ]
    },
    {
     "name": "stdout",
     "output_type": "stream",
     "text": [
      "1 7\n",
      "1 9\n",
      "7 1\n",
      "7 9\n",
      "9 1\n",
      "9 7\n",
      "9 9\n"
     ]
    }
   ],
   "source": [
    "def DFS(sequence): \n",
    "    length = len(sequence)\n",
    "    if length == M: \n",
    "        print(*sequence)\n",
    "        return  # 함수 끝\n",
    "    for x in numbers:\n",
    "        if visited[x] < numbers_count[x]: \n",
    "            sequence.append(x) \n",
    "            visited[x] += 1  # x를 append 했으니 +1\n",
    "            DFS(sequence) \n",
    "            sequence.pop() \n",
    "            visited[x] -= 1  # x를 다시 pop 했으니 -1\n",
    "\n",
    "\n",
    "# 입력\n",
    "N, M = map(int, input().split())\n",
    "numbers = [*map(int, input().split())]\n",
    "visited = {}\n",
    "numbers_count = {}\n",
    "# visited, numbers_count 기록\n",
    "for x in numbers:\n",
    "    visited[x] = 0\n",
    "    if x not in numbers_count:\n",
    "        numbers_count[x] = 1\n",
    "    else:\n",
    "        numbers_count[x] += 1\n",
    "# list -> set -> list\n",
    "numbers = list(set(numbers))\n",
    "numbers.sort()\n",
    "# DFS\n",
    "DFS([])\n",
    "\n",
    "# input\n",
    "# 4 2\n",
    "# 9 7 9 1"
   ]
  },
  {
   "cell_type": "code",
   "execution_count": 80,
   "id": "0184e841-59f7-41d8-97c9-fae8f9fb58c3",
   "metadata": {},
   "outputs": [
    {
     "name": "stdin",
     "output_type": "stream",
     "text": [
      " 4 2\n",
      " 9 7 9 1\n"
     ]
    },
    {
     "name": "stdout",
     "output_type": "stream",
     "text": [
      "1 1\n",
      "1 7\n",
      "1 9\n",
      "7 7\n",
      "7 9\n",
      "9 9\n"
     ]
    }
   ],
   "source": [
    "def DFS(sequence): \n",
    "    length = len(sequence)\n",
    "    if length == M: \n",
    "        print(*sequence)\n",
    "        return  # 함수 끝\n",
    "    for x in numbers:\n",
    "        if not sequence:\n",
    "            sequence.append(x) \n",
    "            DFS(sequence) \n",
    "            sequence.pop() \n",
    "        else:\n",
    "            if sequence[-1] <= x:\n",
    "                sequence.append(x) \n",
    "                DFS(sequence) \n",
    "                sequence.pop() \n",
    "\n",
    "\n",
    "# 입력\n",
    "N, M = map(int, input().split())\n",
    "numbers = [*map(int, input().split())]\n",
    "numbers = list(set(numbers))\n",
    "numbers.sort()\n",
    "# DFS\n",
    "DFS([])"
   ]
  },
  {
   "cell_type": "markdown",
   "id": "3dac7db9-4463-46b6-b66a-38951632cfe7",
   "metadata": {},
   "source": [
    "## N-Queen\n",
    "\n",
    "- 문제 출처: [백준 9663번](https://www.acmicpc.net/problem/9663)"
   ]
  },
  {
   "cell_type": "markdown",
   "id": "3a09d438-7189-4e55-9f92-d902af3ec65a",
   "metadata": {},
   "source": [
    "`-` 퀸의 특성상 가로 줄 하나에 퀸 하나씩, 세로 줄 하나에 퀸 하니씩 놓아야 함 (그래야 서로 공격할 수 없다)\n",
    "\n",
    "`-` 그래야 $N\\times N$ 체스판에 $N$개의 퀸을 놓을 수 있다\n",
    "\n",
    "`-` 가로 줄을 기준으로 DFS를 하여 퀸을 놓고 다음 가로 줄에 대해 DFS를 하여 $N$개의 퀸을 놓을 때까지 이를 반복하면 문제를 해결할 수 있다"
   ]
  },
  {
   "cell_type": "code",
   "execution_count": 420,
   "id": "719a09f4-94fa-440c-a02e-0ddb27e1b7f1",
   "metadata": {},
   "outputs": [
    {
     "name": "stdin",
     "output_type": "stream",
     "text": [
      " 8\n"
     ]
    },
    {
     "name": "stdout",
     "output_type": "stream",
     "text": [
      "92\n"
     ]
    }
   ],
   "source": [
    "def DFS(n_height):\n",
    "    global n_queen, count\n",
    "    i = n_height\n",
    "    for j in range(N):\n",
    "        if chess_board[i][j]:  # chess_board[i][j]에 퀸을 놓을 수 있다면\n",
    "            n_queen += 1  # 해당 좌표에 퀸을 놓는다\n",
    "            if n_queen == N:  # 함수 끝, 마지막은 놓을 자리가 정해져 있으므로 어파치 True로 만들고 다시 False로 만드므로 아래의 코드를 실행할 필요가 없다\n",
    "                count += 1\n",
    "                n_queen -= 1\n",
    "                continue\n",
    "            # 새로 놓은 퀸의 공격 영역엔 다른 퀸을 놓을 수 없으므로 좌표값들을 True에서 False로 바꾸자\n",
    "            visited = []\n",
    "            for n in range(n_height + 1, N):  # 체스판에서 n_height보다 위에 있는 곳(=더 작은 값)은 이미 퀸을 놓았으므로 확인 할 필요가 없음\n",
    "                for m in range(N):\n",
    "                    if chess_board[n][m]:  # 이미 False인 칸은 False로 만들 필요가 없다\n",
    "                        if m == j or abs(n - i) == abs(m - j):  # 상하(=column), 대각선(좌하, 우하)\n",
    "                            chess_board[n][m] = False\n",
    "                            visited.append([n, m])\n",
    "            # 재귀\n",
    "            DFS(n_height + 1) \n",
    "            n_queen -= 1\n",
    "            # 다시 좌표값들을 True로 변경\n",
    "            for x, y in visited:\n",
    "                chess_board[x][y] = True\n",
    "\n",
    "\n",
    "# 입력\n",
    "N = int(input())\n",
    "chess_board = [[True] * N for _ in range(N)]  # N X N 체스판\n",
    "n_queen = 0\n",
    "count = 0\n",
    "# 출력\n",
    "DFS(0)\n",
    "print(count)\n",
    "\n",
    "# input\n",
    "# 8"
   ]
  },
  {
   "cell_type": "markdown",
   "id": "7f83b978-836c-4bb4-af0a-5f19f90b9215",
   "metadata": {},
   "source": [
    "## 알파벳\n",
    "\n",
    "- 문제 출처: [백준 1987번](https://www.acmicpc.net/problem/1987)"
   ]
  },
  {
   "cell_type": "markdown",
   "id": "b5b7cd1e-4abb-494f-b629-cc872fa0bad2",
   "metadata": {},
   "source": [
    "`-` dfs로 백트래킹을 구현해 해결할 수 있다\n",
    "\n",
    "`-` 움직이면서 여태까지 방문한 알파벳을 저장해놓고 처음 등장한 알파벳이면 방문 집합에 추가한다\n",
    "\n",
    "`-` 더 이상 갈 곳이 없으면 마지막에 추가한 알파벳을 제거하고 전 단계로 돌아가 갈 곳을 탐색한다"
   ]
  },
  {
   "cell_type": "code",
   "execution_count": 19,
   "id": "b06374d2-ad8b-4c22-b1ad-c9e4d8a4f10c",
   "metadata": {},
   "outputs": [
    {
     "name": "stdin",
     "output_type": "stream",
     "text": [
      " 3 6\n",
      " HFDFFB\n",
      " AJHGDH\n",
      " DGAGEH\n"
     ]
    },
    {
     "name": "stdout",
     "output_type": "stream",
     "text": [
      "6\n"
     ]
    }
   ],
   "source": [
    "def dfs(x, y, board, count, visited):  # visited는 공유함\n",
    "    global ANSWER\n",
    "    ANSWER = max(ANSWER, count)\n",
    "    for i in range(4):\n",
    "        x_next = x + dx[i]\n",
    "        y_next = y + dy[i]\n",
    "        is_in_range = (0 <= x_next < C) and (0 <= y_next < R)\n",
    "        if not is_in_range:\n",
    "            continue\n",
    "        alphabet_next = board[y_next][x_next]\n",
    "        if alphabet_next not in visited:\n",
    "            visited.add(alphabet_next)\n",
    "            dfs(x_next, y_next, board, count + 1, visited)\n",
    "            visited.remove(alphabet_next)  # 백트래킹\n",
    "\n",
    "\n",
    "def solution():\n",
    "    global R, C, ANSWER, dx, dy\n",
    "    R, C = map(int, input().split())\n",
    "    board = [list(input()) for _ in range(R)]\n",
    "    ANSWER = 0\n",
    "    dx = [0, 0, -1, 1]  # 상하좌우 \n",
    "    dy = [1, -1, 0, 0]  # 상하좌우\n",
    "    x_start = 0\n",
    "    y_start = 0\n",
    "    count = 1\n",
    "    visited = set(board[x_start][y_start])\n",
    "    dfs(x_start, y_start, board, count, visited)\n",
    "    print(ANSWER)\n",
    "\n",
    "\n",
    "solution()\n",
    "\n",
    "# input\n",
    "# 3 6\n",
    "# HFDFFB\n",
    "# AJHGDH\n",
    "# DGAGEH"
   ]
  },
  {
   "cell_type": "markdown",
   "id": "2f2f2ff4-9f56-40b3-b4b7-0206f9622070",
   "metadata": {},
   "source": [
    "## 스도쿠\n",
    "\n",
    "- 문제 출처: [백준 2239번](https://www.acmicpc.net/problem/2239)"
   ]
  },
  {
   "cell_type": "markdown",
   "id": "5a0fe81f-ff23-482f-b511-81e331f212bb",
   "metadata": {},
   "source": [
    "`-` dfs로 구현한 백트래킹을 사용해 스도쿠 완성이 가능한 숫자만 넣고 불가능하면 전으로 되돌아가면 된다\n",
    "\n",
    "`-` 전으로 되돌아가는 작업은 dfs 함수가 끝난 후 좌표 인자의 스도쿠 값을 $0$으로 복구하면 된다\n",
    "\n",
    "`-` 답이 여러 개라면 사전순으로 앞서는 것을 출력해야 한다\n",
    "\n",
    "`-` 따라서 $1$행 $1$열부터 해당 행을 전부 탐색한 후 다음 행의 $1$열로 가야하고 $n$행 $m$열에 가능한 후보 중 작은 수부터 먼저 방문하면 된다\n",
    "\n",
    "`-` 확정된 칸은 굳이 건드릴 필요가 없으므로 다음 위치로 넘어가면 된다\n",
    "\n",
    "`-` 다음 위치를 인자로 주어 dfs 함수를 사용하고 return을 사용해 함수를 끝내야 한다\n",
    "\n",
    "`-` 그렇지 않으면 확정된 칸의 숫자도 $1$부터 $9$까지 바뀌므로 주의하자"
   ]
  },
  {
   "cell_type": "code",
   "execution_count": 41,
   "id": "0a62e69e-e6cc-4cbd-b443-a2c6489781cd",
   "metadata": {},
   "outputs": [
    {
     "name": "stdin",
     "output_type": "stream",
     "text": [
      " 103000509\n",
      " 002109400\n",
      " 000704000\n",
      " 300502006\n",
      " 060000050\n",
      " 700803004\n",
      " 000401000\n",
      " 009205800\n",
      " 804000107\n"
     ]
    },
    {
     "name": "stdout",
     "output_type": "stream",
     "text": [
      "143628579\n",
      "572139468\n",
      "986754231\n",
      "391542786\n",
      "468917352\n",
      "725863914\n",
      "237481695\n",
      "619275843\n",
      "854396127\n"
     ]
    }
   ],
   "source": [
    "def is_sudoku(x, y, n, sudoku):\n",
    "    # 빈칸 (y, x)에 n을 사용했을 때 스도쿠가 가능한지 확인\n",
    "    for col in range(9):\n",
    "        if sudoku[y][col] == n:  # 가로에 n이 1개인지 확인\n",
    "            return False\n",
    "    for row in range(9):\n",
    "        if sudoku[row][x] == n:  # 세로에 n이 1개인지 확인\n",
    "            return False\n",
    "    x_group = (x // 3) * 3\n",
    "    y_group = (y // 3) * 3\n",
    "    # 3 X 3 영역에 n이 1개인지 확인\n",
    "    for yy in range(y_group, y_group + 3):\n",
    "        for xx in range(x_group, x_group + 3):\n",
    "            if sudoku[yy][xx] == n:\n",
    "                return False\n",
    "    return True\n",
    "\n",
    "\n",
    "def print_sudoku(sudoku):\n",
    "    for row in sudoku:\n",
    "        print(\"\".join(map(str, row)))\n",
    "\n",
    "\n",
    "def get_next_position(x, y):\n",
    "    if x == RIGHT_BOUNDARY and y < LOWER_BOUNDARY:\n",
    "        return LEFT_BOUNDARY, y + 1\n",
    "    if x < RIGHT_BOUNDARY:\n",
    "        return x + 1, y\n",
    "    return x, y\n",
    "\n",
    "\n",
    "def dfs(x, y, sudoku):\n",
    "    global COMPLETE\n",
    "    # 빈 칸인지 확인, 종료 조건인지 확인\n",
    "    is_blank = sudoku[y][x] == BLANK\n",
    "    is_end_position = x == RIGHT_BOUNDARY and y == LOWER_BOUNDARY\n",
    "    if is_end_position and not is_blank:\n",
    "        COMPLETE = True\n",
    "        print_sudoku(sudoku)\n",
    "        return\n",
    "    if not is_blank:\n",
    "        x_next, y_next = get_next_position(x, y)\n",
    "        dfs(x_next, y_next, sudoku)\n",
    "        return  # 확정된 칸은 넘어간다\n",
    "    for n in range(1, 10):  # 빈 칸이면 숫자를 1부터 9까지 채워본다\n",
    "        if COMPLETE:\n",
    "            return\n",
    "        if not is_sudoku(x, y, n, sudoku):\n",
    "            continue\n",
    "        sudoku[y][x] = n\n",
    "        if is_end_position:\n",
    "            COMPLETE = True\n",
    "            print_sudoku(sudoku)\n",
    "            return\n",
    "        x_next, y_next = get_next_position(x, y)\n",
    "        dfs(x_next, y_next, sudoku)\n",
    "        sudoku[y][x] = BLANK  # 백트래킹\n",
    "\n",
    "\n",
    "def solution():\n",
    "    global BLANK, LEFT_BOUNDARY, RIGHT_BOUNDARY, LOWER_BOUNDARY, UPPER_BOUNDARY, COMPLETE\n",
    "    sudoku = [list(map(int, list(input()))) for _ in range(9)]\n",
    "    BLANK = 0\n",
    "    LEFT_BOUNDARY = 0\n",
    "    RIGHT_BOUNDARY = 8\n",
    "    LOWER_BOUNDARY = 8\n",
    "    UPPER_BOUNDARY = 0\n",
    "    COMPLETE = False\n",
    "    dfs(LEFT_BOUNDARY, UPPER_BOUNDARY, sudoku)\n",
    "\n",
    "\n",
    "solution()\n",
    "\n",
    "# input\n",
    "# 103000509\n",
    "# 002109400\n",
    "# 000704000\n",
    "# 300502006\n",
    "# 060000050\n",
    "# 700803004\n",
    "# 000401000\n",
    "# 009205800\n",
    "# 804000107"
   ]
  },
  {
   "cell_type": "markdown",
   "id": "19b93dd0-e745-488d-a6e3-be024e85b292",
   "metadata": {},
   "source": [
    "## 비숍\n",
    "\n",
    "- 문제 출처: [백준 1799번](https://www.acmicpc.net/problem/1799)"
   ]
  },
  {
   "cell_type": "markdown",
   "id": "b009d3dc-ff7c-45f7-9c0b-a85bcc6d8901",
   "metadata": {},
   "source": [
    "`-` 단순히 한 칸에 비숍을 놓거나 놓지 않거나로 판단하면 지수적으로 시간이 걸린다\n",
    "\n",
    "`-` 비숍을 놓으면 해당 위치의 오른쪽 대각선과 왼쪽 대각선 영역에는 다른 비숍을 놓을 수 없다\n",
    "\n",
    "`-` $(1,1)$부터 시작해 한 칸 씩 오른쪽으로 가면서 `/` 모양으로 오른쪽 대각선을 그어보자"
   ]
  },
  {
   "cell_type": "markdown",
   "id": "fc8e0a1a-383c-4121-8b03-21632f8a10c3",
   "metadata": {},
   "source": [
    "![image](./pictures/chess.png)"
   ]
  },
  {
   "cell_type": "markdown",
   "id": "7b61367e-8dc2-42f7-8444-eff65d6641c2",
   "metadata": {},
   "source": [
    "`-` 빨간색 대각선 하나 당 최대 하나의 비숍만 놓을 수 있다\n",
    "\n",
    "`-` 빨간석 대각선 각각에 대해 비숍을 놓지 않거나 가능한 위치에 비숍을 놓는 식으로 백트래킹을 수행하면 된다\n",
    "\n",
    "`-` 빨간석 대각선은 총 $2n-1$개이다\n",
    "\n",
    "`-` 그런데 첫 번째 대각선에 비숍을 놓으면 마지막 대각선에 비숍을 못 놓는다\n",
    "\n",
    "`-` 따라서 이 둘을 하나의 그룹으로 생각하면 비숍을 놓을 수 있는 최댓값은 $2n-2$이다\n",
    "\n",
    "`-` $0$은 비숍을 놓지 못하고 $1$에는 비숍을 놓을 수 있다\n",
    "\n",
    "`-` $1$에 비숍을 놓으면 $2$로 표현했다\n",
    "\n",
    "`-` 백트래킹을 할 때 비숍을 없애면 체스판도 기존으로 되돌려 놓아야 한다\n",
    "\n",
    "`-` 모든 경우의 수를 찾는게 아니고 비숍을 최대 몇 개 놓을 수 있는지 찾으면 된다 (모든 경우의 수는 너무 커서 못 찾음)\n",
    "\n",
    "`-` 참고로 모든 경우의 수는 $\\frac{3}{4}n!(n+1)!$이므로 제한 시간에 계산할 수 없다\n",
    "\n",
    "`-` 비숍을 놓을 수 있는 최댓값이 $2n-2$이므로 고려할 빨간색 대각선 번호는 $1$부터 $2n-2$까지이다\n",
    "\n",
    "`-` 만약, $2n-2$번 대각선에 비숍을 놓을 수 있지만 큰 그림을 그리기 위해 비숍을 놓지 않았다 해보자\n",
    "\n",
    "`-` 그러면 최댓값이 $2n-2$에서 $2n-1$로 감소한다\n",
    "\n",
    "`-` $k$번 대각선에 대해 비숍을 놓지 않기로 했다면 그에 따라 최댓값을 $1$ 감소시켜야 한다\n",
    "\n",
    "`-` dfs 함수 실행 중 지금 놓은 비숍의 개수가 최댓값이라면 종료한다\n",
    "\n",
    "`-` 이를 통해 모든 경우의 수를 세지 않고 최댓값만 빠르게 알 수 있다"
   ]
  },
  {
   "cell_type": "code",
   "execution_count": 127,
   "id": "cf1cf9f3-6cb6-4c55-882c-05b93178cd52",
   "metadata": {},
   "outputs": [
    {
     "name": "stdin",
     "output_type": "stream",
     "text": [
      " 5\n",
      " 1 1 0 1 1\n",
      " 0 1 0 0 0\n",
      " 1 0 1 0 1\n",
      " 1 0 0 0 0\n",
      " 1 0 1 1 1\n"
     ]
    },
    {
     "name": "stdout",
     "output_type": "stream",
     "text": [
      "7\n"
     ]
    }
   ],
   "source": [
    "def get_positions_on_step(step, n):\n",
    "    # 1 < step < 2n - 1\n",
    "    if step == 1:\n",
    "        return [(0, 0), (n - 1, n - 1)]\n",
    "    over_median = step > n\n",
    "    num_positions = 2 * n - step if over_median else step\n",
    "    if over_median:\n",
    "        y_start = step - n\n",
    "        x_start = n - 1\n",
    "    else:\n",
    "        y_start = 0\n",
    "        x_start = step - 1\n",
    "    positions = []\n",
    "    for i in range(num_positions):\n",
    "        x = x_start - i\n",
    "        y = y_start + i\n",
    "        positions.append((x, y))\n",
    "    return positions\n",
    "\n",
    "\n",
    "def get_bishop_active_positions(x, y, n):\n",
    "    active_positions = [(x, y)]\n",
    "    for i in range(1, min(n - x, y + 1)):  # 오른쪽 우상 대각선\n",
    "        active_positions.append((x + i, y - i))\n",
    "    for i in range(1, min(x + 1, n - y)):  # 오른쪽 좌하 대각선\n",
    "        active_positions.append((x - i, y + i))\n",
    "    for i in range(1, min(x + 1, y + 1)):  # 왼쪽 좌상 대각선\n",
    "        active_positions.append((x - i, y - i))\n",
    "    for i in range(1, min(n - x, n - y)):  # 왼쪽 우하 대각선\n",
    "        active_positions.append((x + i, y + i))\n",
    "    return active_positions\n",
    "\n",
    "\n",
    "def dfs(step, chess_board, count, max_count):\n",
    "    global ANSWER\n",
    "    ANSWER = max(count, ANSWER)\n",
    "    if step >= 2 * N - 1:\n",
    "        return\n",
    "    if ANSWER == max_count:\n",
    "        return\n",
    "    positions = get_positions_on_step(step, N)\n",
    "    dfs(step + 1, chess_board, count, max_count - 1)  # 현재 step에선 비숍을 놓지 않기로 함, 그에 따라 최댓값은 1 감소한다\n",
    "    for x, y in positions:\n",
    "        is_possible = chess_board[y][x] == EMPTY\n",
    "        if not is_possible:\n",
    "            continue\n",
    "        active_positions = get_bishop_active_positions(x, y, N)\n",
    "        threaten_postions = []\n",
    "        for x_a, y_a in active_positions:\n",
    "            if chess_board[y_a][x_a] != EMPTY:\n",
    "                continue\n",
    "            chess_board[y_a][x_a] = THREATENED\n",
    "            threaten_postions.append((x_a, y_a))\n",
    "        dfs(step + 1, chess_board, count + 1, max_count)\n",
    "        for x_t, y_t in threaten_postions:\n",
    "            chess_board[y_t][x_t] = EMPTY  # 백트래킹\n",
    "\n",
    "\n",
    "def solution():\n",
    "    global N, ANSWER, WALL, EMPTY, THREATENED\n",
    "    N = int(input())\n",
    "    chess_board = [list(map(int, input().split())) for _ in range(N)]\n",
    "    ANSWER = 0\n",
    "    MAX_ANSWER = 2 * N - 2 if N > 1 else 1\n",
    "    WALL = 0\n",
    "    EMPTY = 1\n",
    "    THREATENED = 2\n",
    "    start_step = 1\n",
    "    count = 0\n",
    "    dfs(start_step, chess_board, count, MAX_ANSWER)\n",
    "    print(ANSWER)\n",
    "\n",
    "\n",
    "solution()\n",
    "\n",
    "# input\n",
    "# 5\n",
    "# 1 1 0 1 1\n",
    "# 0 1 0 0 0\n",
    "# 1 0 1 0 1\n",
    "# 1 0 0 0 0\n",
    "# 1 0 1 1 1"
   ]
  },
  {
   "cell_type": "markdown",
   "id": "15235dd7-ab8d-4bd0-9e7c-20ba88fea7b2",
   "metadata": {},
   "source": [
    "- 아름다운 풀이"
   ]
  },
  {
   "cell_type": "markdown",
   "id": "f1ef7241-52dd-4484-ae8b-9dcaf0fa0806",
   "metadata": {},
   "source": [
    "`-` 체스판은 흰색, 검은색으로 나누어져 있다\n",
    "\n",
    "`-` 대각선으로만 이동하는 비숍의 특성상 검은색 칸에 놓인 비숍은 검은색 영역만 지나고 이는 흰색도 마찬가지이다\n",
    "\n",
    "`-` 즉, 흰색 칸에 놓인 비숍과 검은색 칸에 놓인 비숍은 서로 독립이다\n",
    "\n",
    "`-` 따라서 각각의 최댓값을 계산한 후 둘을 더하면 정답이다\n",
    "\n",
    "`-` 전체 경우의 수를 계산하는 시간 복잡도는 $O\\left((n!)^2\\right)$이지만 흰색, 검은색을 나눠 계산하면 시간 복잡도는 $O(n!)$이다 "
   ]
  },
  {
   "cell_type": "markdown",
   "id": "76969d76-f73f-423e-95fe-1e6052054238",
   "metadata": {},
   "source": [
    "## 외판원 순회 2\n",
    "\n",
    "- 문제 출처: [백준 10971번](https://www.acmicpc.net/problem/10971)"
   ]
  },
  {
   "cell_type": "markdown",
   "id": "ab8cd15a-ff34-41aa-9a04-054e56a705aa",
   "metadata": {},
   "source": [
    "`-` 모든 도시를 한 번만 지나서 시작 도시로 돌아와야 한다\n",
    "\n",
    "`-` 해당 경로는 원순열이므로 어느 도시에서 시작하냐는 중요하지 않다\n",
    "\n",
    "`-` 따라서 $(N-1)!$의 시도로 외판원 순회의 최소 비용을 찾을 수 있다\n",
    "\n",
    "`-` $N$이 최대 $10$이므로 모든 경로를 탐색해도 제한 시간 안에 해결 가능하다\n",
    "\n",
    "`-` 백트래킹을 통해 방문한 도시를 하나의 집합만 사용하여 관리하면서 외판원 순회의 최소 비용을 탐색하겠다"
   ]
  },
  {
   "cell_type": "code",
   "execution_count": 1,
   "id": "2f9cd6e7-016a-40ea-b533-5c934b9a37ae",
   "metadata": {},
   "outputs": [
    {
     "name": "stdin",
     "output_type": "stream",
     "text": [
      " 4\n",
      " 0 10 15 20\n",
      " 5 0 9 10\n",
      " 6 13 0 12\n",
      " 8 8 9 0\n"
     ]
    },
    {
     "name": "stdout",
     "output_type": "stream",
     "text": [
      "35\n"
     ]
    }
   ],
   "source": [
    "def backtracking(graph, current, n, cost, visited):\n",
    "    global ANSWER\n",
    "    if n == N - 1:\n",
    "        w = graph[current][START]\n",
    "        if w == 0:\n",
    "            return\n",
    "        ANSWER = min(cost + w, ANSWER)\n",
    "        return\n",
    "    for next_ in range(1, N + 1):\n",
    "        if next_ == START or next_ in visited:\n",
    "            continue\n",
    "        w = graph[current][next_]\n",
    "        if w == 0:\n",
    "            continue\n",
    "        visited.add(next_)\n",
    "        backtracking(graph, next_, n + 1, cost + w, visited)\n",
    "        visited.remove(next_)\n",
    "\n",
    "\n",
    "def solution():\n",
    "    global N, INF, START, ANSWER\n",
    "    N = int(input())\n",
    "    graph = [[0 for _ in range(N + 1)]]\n",
    "    for _ in range(N):\n",
    "        weights = [0] + list(map(int, input().split()))\n",
    "        graph.append(weights)\n",
    "    INF = float(\"inf\")\n",
    "    START = 1\n",
    "    ANSWER = INF\n",
    "    n = 0\n",
    "    cost = 0\n",
    "    visited = set()\n",
    "    backtracking(graph, START, n, cost, visited)\n",
    "    print(ANSWER)\n",
    "\n",
    "\n",
    "solution()\n",
    "\n",
    "# input\n",
    "# 4\n",
    "# 0 10 15 20\n",
    "# 5 0 9 10\n",
    "# 6 13 0 12\n",
    "# 8 8 9 0"
   ]
  },
  {
   "cell_type": "code",
   "execution_count": null,
   "id": "a9348f35-9f17-4196-985a-75e1860168a3",
   "metadata": {},
   "outputs": [],
   "source": []
  }
 ],
 "metadata": {
  "kernelspec": {
   "display_name": "Python 3 (ipykernel)",
   "language": "python",
   "name": "python3"
  },
  "language_info": {
   "codemirror_mode": {
    "name": "ipython",
    "version": 3
   },
   "file_extension": ".py",
   "mimetype": "text/x-python",
   "name": "python",
   "nbconvert_exporter": "python",
   "pygments_lexer": "ipython3",
   "version": "3.8.11"
  }
 },
 "nbformat": 4,
 "nbformat_minor": 5
}
