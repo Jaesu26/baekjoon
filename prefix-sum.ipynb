{
 "cells": [
  {
   "cell_type": "markdown",
   "id": "7beea74c-0302-4553-8bc8-cb897e4d4b1b",
   "metadata": {},
   "source": [
    "# 누적 합 (Prefix Sum)"
   ]
  },
  {
   "cell_type": "markdown",
   "id": "335c9b53-a8f0-40bb-aa30-498a04b18e75",
   "metadata": {},
   "source": [
    "## 수열\n",
    "\n",
    "- 문제 출처: [백준 2559번](https://www.acmicpc.net/problem/2559)"
   ]
  },
  {
   "cell_type": "markdown",
   "id": "4b8caec4-000b-460e-80ec-ba8063c37268",
   "metadata": {},
   "source": [
    "`-` 기본적인 누적 합 문제이다"
   ]
  },
  {
   "cell_type": "code",
   "execution_count": 32,
   "id": "d9f30d01-8def-4631-8f7a-923fcf10166e",
   "metadata": {},
   "outputs": [
    {
     "name": "stdin",
     "output_type": "stream",
     "text": [
      " 10 2\n",
      " 3 -2 -4 -9 0 3 7 13 8 -3\n"
     ]
    },
    {
     "name": "stdout",
     "output_type": "stream",
     "text": [
      "21\n"
     ]
    }
   ],
   "source": [
    "N, K = map(int, input().split())\n",
    "temperatures = list(map(int, input().split()))\n",
    "dp = [0] * (N + 1)  # dp[i]는 arr[0]부터 arr[i - 1]까지의 합 (i >= 1)\n",
    "for i in range(1, N + 1):\n",
    "    dp[i] = dp[i - 1] + temperatures[i - 1]\n",
    "maximum = -100 * K\n",
    "for i in range(N - K + 1):\n",
    "    t = dp[i + K] - dp[i]  # arr[i]부터 arr[i + K - 1]까지의 합\n",
    "    if t > maximum:\n",
    "        maximum = t\n",
    "print(maximum)\n",
    "\n",
    "# input\n",
    "# 10 2\n",
    "# 3 -2 -4 -9 0 3 7 13 8 -3"
   ]
  },
  {
   "cell_type": "code",
   "execution_count": null,
   "id": "8fad360a-cd43-4d61-bb2b-3b69f3f412a4",
   "metadata": {},
   "outputs": [],
   "source": []
  }
 ],
 "metadata": {
  "kernelspec": {
   "display_name": "Python 3 (ipykernel)",
   "language": "python",
   "name": "python3"
  },
  "language_info": {
   "codemirror_mode": {
    "name": "ipython",
    "version": 3
   },
   "file_extension": ".py",
   "mimetype": "text/x-python",
   "name": "python",
   "nbconvert_exporter": "python",
   "pygments_lexer": "ipython3",
   "version": "3.8.11"
  }
 },
 "nbformat": 4,
 "nbformat_minor": 5
}
