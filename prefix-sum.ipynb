{
 "cells": [
  {
   "cell_type": "markdown",
   "id": "7beea74c-0302-4553-8bc8-cb897e4d4b1b",
   "metadata": {},
   "source": [
    "# 누적 합 (Prefix Sum)"
   ]
  },
  {
   "cell_type": "markdown",
   "id": "335c9b53-a8f0-40bb-aa30-498a04b18e75",
   "metadata": {},
   "source": [
    "## 수열\n",
    "\n",
    "- 문제 출처: [백준 2559번](https://www.acmicpc.net/problem/2559)"
   ]
  },
  {
   "cell_type": "markdown",
   "id": "4b8caec4-000b-460e-80ec-ba8063c37268",
   "metadata": {},
   "source": [
    "`-` 기본적인 누적 합 문제이다"
   ]
  },
  {
   "cell_type": "code",
   "execution_count": 32,
   "id": "d9f30d01-8def-4631-8f7a-923fcf10166e",
   "metadata": {},
   "outputs": [
    {
     "name": "stdin",
     "output_type": "stream",
     "text": [
      " 10 2\n",
      " 3 -2 -4 -9 0 3 7 13 8 -3\n"
     ]
    },
    {
     "name": "stdout",
     "output_type": "stream",
     "text": [
      "21\n"
     ]
    }
   ],
   "source": [
    "N, K = map(int, input().split())\n",
    "temperatures = list(map(int, input().split()))\n",
    "dp = [0] * (N + 1)  # dp[i]는 arr[0]부터 arr[i - 1]까지의 합 (i >= 1)\n",
    "for i in range(1, N + 1):\n",
    "    dp[i] = dp[i - 1] + temperatures[i - 1]\n",
    "maximum = -100 * K\n",
    "for i in range(N - K + 1):\n",
    "    t = dp[i + K] - dp[i]  # arr[i]부터 arr[i + K - 1]까지의 합\n",
    "    if t > maximum:\n",
    "        maximum = t\n",
    "print(maximum)\n",
    "\n",
    "# input\n",
    "# 10 2\n",
    "# 3 -2 -4 -9 0 3 7 13 8 -3"
   ]
  },
  {
   "cell_type": "markdown",
   "id": "e68b18a2-82fb-490b-92fa-5b56ae48e602",
   "metadata": {},
   "source": [
    "## 수들의 합 2\n",
    "\n",
    "- 문제 출처: [백준 2003번](https://www.acmicpc.net/problem/2003)"
   ]
  },
  {
   "cell_type": "markdown",
   "id": "bb91e680-56a5-4c80-a6f4-a26b33709623",
   "metadata": {},
   "source": [
    "`-` 배열의 첫째 값을 가리키는 포인터와 끝 값을 가리키는 포인터를 떠올리자\n",
    "\n",
    "`-` 그러면 길이가 $n$ 배열 $A$가 있을 때 구간 합은 $A[1] + A[2] + \\cdots + A[n]$이다\n",
    "\n",
    "`-` 만약 이 값이 $m$보다 작다면 끝이다\n",
    "\n",
    "`-` 하지만 $m$보다 크다면?\n",
    "\n",
    "`-` 첫째 값이나 끝 값 중 하나를 제외함으로써 $m$과 가깝게 한다\n",
    "\n",
    "`-` 단, 첫째 값을 제외할지 끝 값을 제외할지 알 수 없고 두 방법 모두 정답을 도출할 수 있으므로 해당 지점에서 분기해야 한다\n",
    "\n",
    "`-` 또한 구간 합을 매 분기마다 리스트의 인덱싱을 사용해 계산하면 시간 복잡도가 $O(N)$으로 오래 걸리므로 누적 합 테크닉을 써야한다\n",
    "\n",
    "`-` 처음엔 분기를 고려하기 위해 DFS를 사용했으나 계속하여 메모리를 초과했다\n",
    "\n",
    "`-` 생각해보니 $N$이 최대 $10000$으로 그리 크지 않았고 시작 인덱스에 따라 누적 합을 고려한다면 시간 복잡도가 $O(N^2)$이므로 제한 시간 안에 가능할 것 같았다\n",
    "\n",
    "`-` 따라서 포인터나 그래프 대신 브루트 포스를 통해 시작 인덱스에 따라 누적 합을 계산했다"
   ]
  },
  {
   "cell_type": "code",
   "execution_count": 2,
   "id": "9eb3118a-14d9-4d1a-8f5c-3fa3777eadfa",
   "metadata": {},
   "outputs": [
    {
     "name": "stdin",
     "output_type": "stream",
     "text": [
      " 10 5\n",
      " 1 2 3 4 2 5 3 1 1 2\n"
     ]
    },
    {
     "name": "stdout",
     "output_type": "stream",
     "text": [
      "3\n"
     ]
    }
   ],
   "source": [
    "def solution():\n",
    "    N, M = map(int, input().split())\n",
    "    a_n = list(map(int, input().split()))\n",
    "    count = 0\n",
    "    dp = [0] * (N + 1)  # dp[i]는 a_n[0]부터 a_n[i - 1]까지의 합 (i >= 1)\n",
    "    for i in range(1, N + 1):\n",
    "        dp[i] = dp[i - 1] + a_n[i - 1]\n",
    "    for start_index in range(N + 1):\n",
    "        for end_index in range(start_index, N + 1):\n",
    "            total = dp[end_index] - dp[start_index]\n",
    "            if total == M:\n",
    "                count += 1\n",
    "            elif total > M:\n",
    "                break\n",
    "    print(count)\n",
    "\n",
    "solution()\n",
    "\n",
    "# input\n",
    "# 10 5\n",
    "# 1 2 3 4 2 5 3 1 1 2"
   ]
  },
  {
   "cell_type": "markdown",
   "id": "3e89f967-b951-415b-885c-318dded59373",
   "metadata": {},
   "source": [
    "## 구간 합 구하기 5\n",
    "\n",
    "- 문제 출처: [백준 11660번](https://www.acmicpc.net/problem/11660)"
   ]
  },
  {
   "cell_type": "markdown",
   "id": "6cd2ccdf-5e81-4822-8386-bd41a86f08e9",
   "metadata": {},
   "source": [
    "`-` 직사각형 영역 안에 누적 합을 계산하면 된다\n",
    "\n",
    "`-` `dp[x][y]`를 $(x,y)$부터 $(N,N)$까지 직사각형 내에 있는 수들의 합이라고 하자\n",
    "\n",
    "`-` 그러면 `dp[x][y]`는 `array[x][y] + dp[x][y + 1] + dp[x + 1][y] - dp[x + 1][y + 1]`이 된다\n",
    "\n",
    "`-` 처음에는 $(1,1)$부터 $(x,y)$까지의 합을 통해 누적 합을 계산하는 것을 고려해봤는데 $1$행과 $1$열의 수들을 제거하는 깔끔한 방법이 떠오르지 않았다\n",
    "\n",
    "`-` 계산해야 되는 직사각형 영역이 $(N,N)$ 방향으로 확장되므로 $(x,y)$부터 $(N,N)$까지의 합을 계산하는 방법을 고려하여 위의 방법을 도출했다\n",
    "\n",
    "`-` 각 누적 합을 계산하는데 $4$번의 연산만 하며 이 연산들은 모두 $O(1)$ 시간에 처리 가능하다\n",
    "\n",
    "`-` 전체 배열은 $N\\times N$이므로 전체 누적 합 배열을 계산하는 시간 복잡도는 $O\\left(N^2\\right)$이다\n",
    "\n",
    "`-` 이제 누적 합을 바탕으로 $(x1,y1)$부터 $(x2,y2)$까지의 합을 계산하자\n",
    "\n",
    "`-` $(x1,y1)$부터 $(x2,y2)$까지의 합은 `dp[x1][y1] - dp[x1][y2 + 1] - dp[x2 + 1][y1] + dp[x2 + 1][y2 + 1]`이다\n",
    "\n",
    "`-` $M$개의 질문은 $O(1) \\cdot O(M) = O(M)$에 처리 가능하다\n",
    "\n",
    "`-` 결과적으로 시간 복잡도는 $O(N^2 + M)$이다\n",
    "\n",
    "`-` 코드 제출 과정에서 NZFC 에러가 계속 발생했는데 백준 서버 문제였다\n",
    "\n",
    "`-` 근데 타이밍이 굉장한게 질문 검색에서 찾은 입출력 코드 사용하니까 정답 맞혀서 내 코드가 틀린줄 알았다"
   ]
  },
  {
   "cell_type": "code",
   "execution_count": 8,
   "id": "57cc6fd6-1cd4-487b-86a4-1a525fbe2124",
   "metadata": {},
   "outputs": [
    {
     "name": "stdin",
     "output_type": "stream",
     "text": [
      " 4 3\n",
      " 1 2 3 4\n",
      " 2 3 4 5\n",
      " 3 4 5 6\n",
      " 4 5 6 7\n",
      " 2 2 3 4\n"
     ]
    },
    {
     "name": "stdout",
     "output_type": "stream",
     "text": [
      "27\n"
     ]
    },
    {
     "name": "stdin",
     "output_type": "stream",
     "text": [
      " 3 4 3 4\n"
     ]
    },
    {
     "name": "stdout",
     "output_type": "stream",
     "text": [
      "6\n"
     ]
    },
    {
     "name": "stdin",
     "output_type": "stream",
     "text": [
      " 1 1 4 4\n"
     ]
    },
    {
     "name": "stdout",
     "output_type": "stream",
     "text": [
      "64\n"
     ]
    }
   ],
   "source": [
    "def solution():\n",
    "    N, M = map(int, input().split())\n",
    "    array = [list(map(int, input().split())) for _ in range(N)]\n",
    "    dp = [[0 for y in range(N)] for x in range(N)]\n",
    "    for x in range(N - 1, -1, -1):\n",
    "        for y in range(N - 1, -1, -1):\n",
    "            area = array[x][y]\n",
    "            if x < N - 1:\n",
    "                area += dp[x + 1][y]\n",
    "            if y < N - 1:\n",
    "                area += dp[x][y + 1]\n",
    "            if x < N - 1 and y < N - 1:\n",
    "                area -= dp[x + 1][y + 1]\n",
    "            dp[x][y] = area\n",
    "    for _ in range(M):\n",
    "        x1, y1, x2, y2 = map(lambda a: int(a) - 1, input().split())\n",
    "        area = dp[x1][y1]\n",
    "        if x2 < N - 1:\n",
    "            area -= dp[x2 + 1][y1]\n",
    "        if y2 < N - 1:\n",
    "            area -= dp[x1][y2 + 1]\n",
    "        if x2 < N - 1 and y2 < N - 1:\n",
    "            area += dp[x2 + 1][y2 + 1]\n",
    "        print(area)\n",
    "\n",
    "\n",
    "solution()\n",
    "\n",
    "# input\n",
    "# 4 3\n",
    "# 1 2 3 4\n",
    "# 2 3 4 5\n",
    "# 3 4 5 6\n",
    "# 4 5 6 7\n",
    "# 2 2 3 4\n",
    "# 3 4 3 4\n",
    "# 1 1 4 4"
   ]
  },
  {
   "cell_type": "markdown",
   "id": "67c3dd61-ed51-4d92-90a3-8fad34015a9c",
   "metadata": {},
   "source": [
    "## 나머지 합\n",
    "\n",
    "- 문제 출처: [백준 10986번](https://www.acmicpc.net/problem/10986)"
   ]
  },
  {
   "cell_type": "markdown",
   "id": "4b726c72-39ce-4686-a631-a7aee65566f8",
   "metadata": {},
   "source": [
    "`-` $M$으로 나눈 나머지만 알면 되므로 수열의 값을 $M$으로 나눈 나머지로 대체하자\n",
    "\n",
    "`-` 부분 구간의 합을 알아야 하므로 누적 합을 구하되 이 역시 $M$으로 나눈 나머지를 사용한다\n",
    "\n",
    "`-` 누적 합 배열에서 임의의 두 원소 $p_i,p_j$의 차는 수열의 $i$번째 원소부터 $j$번째 원소까지의 부분 합을 $M$으로 나눈 나머지이다\n",
    "\n",
    "`-` $0$번째 원소부터 $i$번째 원소까지의 부분 합도 알기 위해 배열 처음에 $0$을 삽입하자\n",
    "\n",
    "`-` 나눈 나머지가 $M$의 배수이면 해당 구간은 정답에 카운팅된다\n",
    "\n",
    "`-` $j<i$면 값이 음수로 나오는데 어차피 $M$의 배수인지 판단하는 것이므로 상관없다\n",
    "\n",
    "`-` 그런데 누적 합 배열에서 모든 원소는 $M$보다 작으므로 두 원소의 차이의 절댓값도 $M$보다 작다\n",
    "\n",
    "`-` 즉, 두 원소의 차이가 $0$이어야 연속된 부분 구간 합이 $M$으로 나누어 떨어진다\n",
    "\n",
    "`-` 두 원소의 차이가 $0$이라는 것은 두 원소가 같다는 것이다\n",
    "\n",
    "`-` 누적 합 배열로 카운팅 딕셔너리를 만들고 각 누적 합 원소를 순회하면서 해당 원소 등장 개수에서 $2$개를 고르면 된다\n",
    "\n",
    "`-` 추가로 누적 합 배열에서 값이 $0$인 원소는 자기 자신이 $M$으로 나누어 떨어지므로 이들도 카운팅해야 한다\n",
    "\n",
    "`-` 즉, 누적 합 배열의 원소를 $x$, 누적 합 배열에서 $x$가 등장한 횟수를 $k$라 할 때 $\\binom{k}{2}$가 정답에 카운팅된다\n",
    "\n",
    "`-` 추가로 누적 합 배열에서 $0$의 등장 횟수만큼 정답에 카운팅한다\n",
    "\n",
    "`-` 누적 합 배열과 카운팅 딕셔너리를 만드는데 $O(N)$, 딕셔너리를 순회하는데 $O\\left(\\min(N,M)\\right)$이므로 전체 알고리즘의 시간 복잡도는 $O(N)$이다"
   ]
  },
  {
   "cell_type": "code",
   "execution_count": 31,
   "id": "98a78504-3d9b-4365-a74d-8527646772ad",
   "metadata": {},
   "outputs": [
    {
     "name": "stdin",
     "output_type": "stream",
     "text": [
      " 5 3\n",
      " 1 2 3 1 2\n"
     ]
    },
    {
     "name": "stdout",
     "output_type": "stream",
     "text": [
      "7\n"
     ]
    }
   ],
   "source": [
    "from collections import Counter\n",
    "\n",
    "\n",
    "def solution():\n",
    "    N, M = map(int, input().split())\n",
    "    A_n = list(map(int, input().split()))\n",
    "    prefix_sum = [0 for _ in range(N)]\n",
    "    prefix_sum[0] = A_n[0] % M\n",
    "    for i in range(1, N):\n",
    "        prefix_sum[i] = (A_n[i] + prefix_sum[i - 1]) % M\n",
    "    prefix_sum = Counter(prefix_sum)\n",
    "    answer = 0\n",
    "    for _, count in prefix_sum.items():\n",
    "        answer += (count * (count - 1)) // 2\n",
    "    answer += prefix_sum.get(0, 0)\n",
    "    print(answer)\n",
    "\n",
    "\n",
    "solution()\n",
    "\n",
    "# input\n",
    "# 5 3\n",
    "# 1 2 3 1 2"
   ]
  },
  {
   "cell_type": "markdown",
   "id": "f0e58ab8-ecb9-4d1a-b0e1-d20904eb69d4",
   "metadata": {},
   "source": [
    "## 두 배열의 합\n",
    "\n",
    "- 문제 출처: [백준 2143번](https://www.acmicpc.net/problem/2143)"
   ]
  },
  {
   "cell_type": "markdown",
   "id": "4581ecca-12a0-424c-8695-d5594655742f",
   "metadata": {},
   "source": [
    "`-` $A, B$ 각각에 대해 누적 합 배열을 만들자\n",
    "\n",
    "`-` 누적 합 배열 앞에 $0$을 추가하자 ($i=0$인 경우 고려)\n",
    "\n",
    "`-` 누적 합 배열의 크기는 각각 $n$과 $m$이다\n",
    "\n",
    "`-` $A$와 $ B$ 누적 합 배열 각각에 대해 이중 반복문을 순회에서 모든 경우에 대한 부분 합을 계산해놓자\n",
    "\n",
    "`-` 해당 배열의 크기는 반복문을 $2$번 돌았으므로 $n^2,m^2$이다\n",
    "\n",
    "`-` $B$의 모든 부분 합 배열을 카운터 딕셔너리로 변환하자\n",
    "\n",
    "`-` $n^2$ 크기인 $A$의 모든 부분 합 배열을 순회하면서 해당 값을 $a$라고 할 때 $T - a$가 $B$ 딕셔너리에 있는지 상수 시간에 확인하자\n",
    "\n",
    "`-` 만약 존재한다면 $B$ 딕셔너리에서 $T-a$의 등장 횟수만큼 정답에 카운팅하자\n",
    "\n",
    "`-` 위 알고리즘의 시간 복잡도는 $O\\left(n^2+m^2\\right)$이다"
   ]
  },
  {
   "cell_type": "code",
   "execution_count": 7,
   "id": "4efac86d-50ae-434c-b744-cf86b0e179dd",
   "metadata": {},
   "outputs": [
    {
     "name": "stdin",
     "output_type": "stream",
     "text": [
      " 5\n",
      " 4\n",
      " 1 3 1 2\n",
      " 3\n",
      " 1 3 2\n"
     ]
    },
    {
     "name": "stdout",
     "output_type": "stream",
     "text": [
      "7\n"
     ]
    }
   ],
   "source": [
    "from collections import Counter\n",
    "\n",
    "\n",
    "def make_prefix_sum(a_n, n):\n",
    "    prefix_sum = [0 for _ in range(n + 1)]\n",
    "    for i in range(1, n + 1):\n",
    "        prefix_sum[i] = a_n[i - 1] + prefix_sum[i - 1]\n",
    "    return prefix_sum\n",
    "\n",
    "\n",
    "def make_partial_sums(prefix_sum, n):\n",
    "    partial_sums = []\n",
    "    for i in range(n):\n",
    "        for j in range(i + 1, n + 1):\n",
    "            partial_sum = prefix_sum[j] - prefix_sum[i]\n",
    "            partial_sums.append(partial_sum)\n",
    "    return partial_sums\n",
    "\n",
    "\n",
    "def solution():\n",
    "    T = int(input())\n",
    "    n = int(input())\n",
    "    A = list(map(int, input().split()))\n",
    "    m = int(input())\n",
    "    B = list(map(int, input().split()))\n",
    "    a_prefix_sum = make_prefix_sum(A, n)\n",
    "    b_prefix_sum = make_prefix_sum(B, m)\n",
    "    a_partial_sums = make_partial_sums(a_prefix_sum, n)\n",
    "    b_partial_sums = make_partial_sums(b_prefix_sum, m)\n",
    "    b_partial_sums = Counter(b_partial_sums)\n",
    "    answer = 0\n",
    "    for a in a_partial_sums:\n",
    "        if T - a not in b_partial_sums:\n",
    "            continue\n",
    "        answer += b_partial_sums[T - a]\n",
    "    print(answer)\n",
    "\n",
    "\n",
    "solution()\n",
    "\n",
    "# input\n",
    "# 5\n",
    "# 4\n",
    "# 1 3 1 2\n",
    "# 3\n",
    "# 1 3 2"
   ]
  },
  {
   "cell_type": "code",
   "execution_count": null,
   "id": "7288a399-5b27-4b17-98f3-2be32baa18bf",
   "metadata": {},
   "outputs": [],
   "source": []
  }
 ],
 "metadata": {
  "kernelspec": {
   "display_name": "Python 3 (ipykernel)",
   "language": "python",
   "name": "python3"
  },
  "language_info": {
   "codemirror_mode": {
    "name": "ipython",
    "version": 3
   },
   "file_extension": ".py",
   "mimetype": "text/x-python",
   "name": "python",
   "nbconvert_exporter": "python",
   "pygments_lexer": "ipython3",
   "version": "3.8.11"
  }
 },
 "nbformat": 4,
 "nbformat_minor": 5
}
