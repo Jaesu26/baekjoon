{
 "cells": [
  {
   "cell_type": "markdown",
   "id": "7beea74c-0302-4553-8bc8-cb897e4d4b1b",
   "metadata": {},
   "source": [
    "# 누적 합 (Prefix Sum)"
   ]
  },
  {
   "cell_type": "markdown",
   "id": "335c9b53-a8f0-40bb-aa30-498a04b18e75",
   "metadata": {},
   "source": [
    "## 수열\n",
    "\n",
    "- 문제 출처: [백준 2559번](https://www.acmicpc.net/problem/2559)"
   ]
  },
  {
   "cell_type": "markdown",
   "id": "4b8caec4-000b-460e-80ec-ba8063c37268",
   "metadata": {},
   "source": [
    "`-` 기본적인 누적 합 문제이다"
   ]
  },
  {
   "cell_type": "code",
   "execution_count": 32,
   "id": "d9f30d01-8def-4631-8f7a-923fcf10166e",
   "metadata": {},
   "outputs": [
    {
     "name": "stdin",
     "output_type": "stream",
     "text": [
      " 10 2\n",
      " 3 -2 -4 -9 0 3 7 13 8 -3\n"
     ]
    },
    {
     "name": "stdout",
     "output_type": "stream",
     "text": [
      "21\n"
     ]
    }
   ],
   "source": [
    "N, K = map(int, input().split())\n",
    "temperatures = list(map(int, input().split()))\n",
    "dp = [0] * (N + 1)  # dp[i]는 arr[0]부터 arr[i - 1]까지의 합 (i >= 1)\n",
    "for i in range(1, N + 1):\n",
    "    dp[i] = dp[i - 1] + temperatures[i - 1]\n",
    "maximum = -100 * K\n",
    "for i in range(N - K + 1):\n",
    "    t = dp[i + K] - dp[i]  # arr[i]부터 arr[i + K - 1]까지의 합\n",
    "    if t > maximum:\n",
    "        maximum = t\n",
    "print(maximum)\n",
    "\n",
    "# input\n",
    "# 10 2\n",
    "# 3 -2 -4 -9 0 3 7 13 8 -3"
   ]
  },
  {
   "cell_type": "markdown",
   "id": "e68b18a2-82fb-490b-92fa-5b56ae48e602",
   "metadata": {},
   "source": [
    "## 수들의 합2\n",
    "\n",
    "- 문제 출처: [백준 2003번](https://www.acmicpc.net/problem/2003)"
   ]
  },
  {
   "cell_type": "markdown",
   "id": "bb91e680-56a5-4c80-a6f4-a26b33709623",
   "metadata": {},
   "source": [
    "`-` 배열의 첫째 값을 가리키는 포인터와 끝 값을 가리키는 포인터를 떠올리자\n",
    "\n",
    "`-` 그러면 길이가 $n$ 배열 $A$가 있을 때 구간 합은 $A[1] + A[2] + \\cdots + A[n]$이다\n",
    "\n",
    "`-` 만약 이 값이 $m$보다 작다면 끝이다\n",
    "\n",
    "`-` 하지만 $m$보다 크다면?\n",
    "\n",
    "`-` 첫째 값이나 끝 값 중 하나를 제외함으로써 $m$과 가깝게 한다\n",
    "\n",
    "`-` 단, 첫째 값을 제외할지 끝 값을 제외할지 알 수 없고 두 방법 모두 정답을 도출할 수 있으므로 해당 지점에서 분기해야 한다\n",
    "\n",
    "`-` 또한 구간 합을 매 분기마다 리스트의 인덱싱을 사용해 계산하면 시간 복잡도가 $O(N)$으로 오래 걸리므로 누적 합 테크닉을 써야한다\n",
    "\n",
    "`-` 처음엔 분기를 고려하기 위해 DFS를 사용했으나 계속하여 메모리를 초과했다\n",
    "\n",
    "`-` 생각해보니 $N$이 최대 $10000$으로 그리 크지 않았고 시작 인덱스에 따라 누적 합을 고려한다면 시간 복잡도가 $O(N^2)$이므로 제한 시간안에 가능할 것 같았다\n",
    "\n",
    "`-` 따라서 포인터나 그래프 대신 브루트 포스를 통해 시작 인덱스에 따라 누적합을 계산했다"
   ]
  },
  {
   "cell_type": "code",
   "execution_count": 2,
   "id": "9eb3118a-14d9-4d1a-8f5c-3fa3777eadfa",
   "metadata": {},
   "outputs": [
    {
     "name": "stdin",
     "output_type": "stream",
     "text": [
      " 10 5\n",
      " 1 2 3 4 2 5 3 1 1 2\n"
     ]
    },
    {
     "name": "stdout",
     "output_type": "stream",
     "text": [
      "3\n"
     ]
    }
   ],
   "source": [
    "def solution():\n",
    "    N, M = map(int, input().split())\n",
    "    a_n = list(map(int, input().split()))\n",
    "    count = 0\n",
    "    dp = [0] * (N + 1)  # dp[i]는 a_n[0]부터 a_n[i - 1]까지의 합 (i >= 1)\n",
    "    for i in range(1, N + 1):\n",
    "        dp[i] = dp[i - 1] + a_n[i - 1]\n",
    "    for start_index in range(N + 1):\n",
    "        for end_index in range(start_index, N + 1):\n",
    "            total = dp[end_index] - dp[start_index]\n",
    "            if total == M:\n",
    "                count += 1\n",
    "            elif total > M:\n",
    "                break\n",
    "    print(count)\n",
    "\n",
    "solution()\n",
    "\n",
    "# input\n",
    "# 10 5\n",
    "# 1 2 3 4 2 5 3 1 1 2"
   ]
  },
  {
   "cell_type": "code",
   "execution_count": null,
   "id": "b9ba9eb4-d546-4080-b7fb-ec2a98456f61",
   "metadata": {},
   "outputs": [],
   "source": []
  }
 ],
 "metadata": {
  "kernelspec": {
   "display_name": "Python 3 (ipykernel)",
   "language": "python",
   "name": "python3"
  },
  "language_info": {
   "codemirror_mode": {
    "name": "ipython",
    "version": 3
   },
   "file_extension": ".py",
   "mimetype": "text/x-python",
   "name": "python",
   "nbconvert_exporter": "python",
   "pygments_lexer": "ipython3",
   "version": "3.8.11"
  }
 },
 "nbformat": 4,
 "nbformat_minor": 5
}
