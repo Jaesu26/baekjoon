{
 "cells": [
  {
   "cell_type": "markdown",
   "id": "c33e104f-7a5d-43a2-8d22-2c52e08506cf",
   "metadata": {},
   "source": [
    "# 최소 신장 트리 (Minimum Spanning Tree)"
   ]
  },
  {
   "cell_type": "code",
   "execution_count": null,
   "id": "e965209e-8ab7-40a2-a972-136bc31f6823",
   "metadata": {},
   "outputs": [],
   "source": []
  }
 ],
 "metadata": {
  "kernelspec": {
   "display_name": "Python 3 (ipykernel)",
   "language": "python",
   "name": "python3"
  },
  "language_info": {
   "codemirror_mode": {
    "name": "ipython",
    "version": 3
   },
   "file_extension": ".py",
   "mimetype": "text/x-python",
   "name": "python",
   "nbconvert_exporter": "python",
   "pygments_lexer": "ipython3",
   "version": "3.8.11"
  }
 },
 "nbformat": 4,
 "nbformat_minor": 5
}
