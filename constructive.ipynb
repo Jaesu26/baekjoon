{
 "cells": [
  {
   "cell_type": "markdown",
   "id": "568cff02-c045-4794-b237-7fcec8a51998",
   "metadata": {},
   "source": [
    "## 해 구성하기 (Constructive)"
   ]
  },
  {
   "cell_type": "markdown",
   "id": "f12a3d64-1a5e-4dec-8194-3f3bb6895eb1",
   "metadata": {},
   "source": [
    "`-` 주어진 조건을 만족하는 답안을 실제로 만들어보자"
   ]
  },
  {
   "cell_type": "markdown",
   "id": "c921a7f8-0aa4-4a5c-95a9-304a355e6d7c",
   "metadata": {},
   "source": [
    "## 팰린드롬 척화비\n",
    "\n",
    "- 문제 출처: [백준 20944번](https://www.acmicpc.net/problem/20944)"
   ]
  },
  {
   "cell_type": "markdown",
   "id": "6e0d4cf5-0d26-46c2-be4d-a0bdefc3a120",
   "metadata": {},
   "source": [
    "`-` 팰린드롬이면서 수미상관인 문자열을 만들자\n",
    "\n",
    "`-` 앞뒤가 똑같으면 되는데 이는 문자열 내의 모든 문자를 같게 구성하여 만들 수 있다"
   ]
  },
  {
   "cell_type": "code",
   "execution_count": 1,
   "id": "37f66066-fede-4369-9526-5f926766e594",
   "metadata": {},
   "outputs": [
    {
     "name": "stdin",
     "output_type": "stream",
     "text": [
      " 4\n"
     ]
    },
    {
     "name": "stdout",
     "output_type": "stream",
     "text": [
      "aaaa\n"
     ]
    }
   ],
   "source": [
    "def solution():\n",
    "    N = int(input())\n",
    "    print(N * \"a\")\n",
    "\n",
    "\n",
    "solution()\n",
    "\n",
    "# input\n",
    "# 4"
   ]
  },
  {
   "cell_type": "markdown",
   "id": "c4d31725-73a9-4486-8eeb-424904eac593",
   "metadata": {},
   "source": [
    "## donstructive\n",
    "\n",
    "- 문제 출처: [백준 30618번](https://www.acmicpc.net/problem/30618)"
   ]
  },
  {
   "cell_type": "markdown",
   "id": "b194b04d-1f7c-430d-9fed-7ff8625d9d26",
   "metadata": {},
   "source": [
    "`-` 모든 연속 부분 수열의 합이 점수이고 이를 최대화해야 한다\n",
    "\n",
    "`-` 직관적으로 중앙에 위치해야 연속 부분 수열에 속하는 횟수가 많아진다\n",
    "\n",
    "`-` 따라서 $N$부터 시작해 내림차순으로 앞과 뒤에 번갈아가며 수를 추가해 수열을 만들자\n",
    "\n",
    "`-` deque을 사용해서 앞과 뒤에 원소를 추가하는 작업을 $O(1)$에 수행하겠다"
   ]
  },
  {
   "cell_type": "code",
   "execution_count": 2,
   "id": "aae3a583-73b6-4a82-af3e-c0ea9977f14f",
   "metadata": {},
   "outputs": [
    {
     "name": "stdin",
     "output_type": "stream",
     "text": [
      " 4\n"
     ]
    },
    {
     "name": "stdout",
     "output_type": "stream",
     "text": [
      "2 4 3 1\n"
     ]
    }
   ],
   "source": [
    "from collections import deque\n",
    "\n",
    "\n",
    "def make_solution(n):\n",
    "    array = deque([])\n",
    "    for x in range(n, 0, -1):\n",
    "        if x % 2 == 0:\n",
    "            array.appendleft(x)\n",
    "            continue\n",
    "        array.append(x)\n",
    "    return array\n",
    "\n",
    "\n",
    "def solution():\n",
    "    N = int(input())\n",
    "    answer = make_solution(N)\n",
    "    print(*answer)\n",
    "\n",
    "\n",
    "solution()\n",
    "\n",
    "# input\n",
    "# 4"
   ]
  },
  {
   "cell_type": "markdown",
   "id": "38f0d476-a163-4ca3-9938-fdaee1e3efc2",
   "metadata": {},
   "source": [
    "## SW 수열 구하기\n",
    "\n",
    "- 문제 출처: [백준 28065번](https://www.acmicpc.net/problem/28065)"
   ]
  },
  {
   "cell_type": "markdown",
   "id": "c1cf674d-1855-4192-85cc-3b5097cab119",
   "metadata": {},
   "source": [
    "`-` SW수열은 $1$이상 $N$이하의 정수로 이루어져 있고 모든 정수는 서로 다르다\n",
    "\n",
    "`-` 수열 $A$가 SW수열이려면 $2\\le i \\le N-1$인 정수 $i$에 대해 $|A_i - A_{i-1}| > |A_{i+1}-A_i|$를 만족해야 한다\n",
    "\n",
    "`-` 즉, 인접한 원소의 거리 차이가 인덱스가 커질수록 점점 작아져야 한다\n",
    "\n",
    "`-` 거리 차이 수열 $D$를 생각해보자\n",
    "\n",
    "`-` $D$의 길이는 $N-1$이다\n",
    "\n",
    "`-` $D_1 = k$라고 하면 $D_{N-1} = k - N + 2$이다\n",
    "\n",
    "`-` $D_{N-1} \\ge 1$이므로 $k \\ge N-1$이다\n",
    "\n",
    "`-` 그런데 $D_1 \\le N-1$이므로 $D_1 = N-1$이어야 한다\n",
    "\n",
    "`-` 그러면 자연스럽게 $D_i = N-i$이 된다\n",
    "\n",
    "`-` 이를 만족하려면 SW수열에 등장하지 않은 $1$이상 $N$이하의 정수 중에서 가장 큰 원소와 가장 작은 원소가 서로 번갈아가며 등장해야 한다\n",
    "\n",
    "`-` $1,2,\\cdots,N$인 배열 $C$를 생각하면 $C$의 맨 앞과 맨 뒤에서 원소를 빼와야 하므로 deque을 사용해서 $O(1)$에 처리하겠다"
   ]
  },
  {
   "cell_type": "code",
   "execution_count": 3,
   "id": "0448de11-c315-46df-8cc3-ca3bb065fa99",
   "metadata": {},
   "outputs": [
    {
     "name": "stdin",
     "output_type": "stream",
     "text": [
      " 4\n"
     ]
    },
    {
     "name": "stdout",
     "output_type": "stream",
     "text": [
      "4 1 3 2\n"
     ]
    }
   ],
   "source": [
    "from collections import deque\n",
    "\n",
    "\n",
    "def make_solution(n):\n",
    "    array = deque(range(1, n + 1))\n",
    "    sw_sequence = []\n",
    "    for i in range(n):\n",
    "        if i % 2 == 0:\n",
    "            e = array.pop()\n",
    "        else:\n",
    "            e = array.popleft()\n",
    "        sw_sequence.append(e)\n",
    "    return sw_sequence\n",
    "\n",
    "\n",
    "def solution():\n",
    "    N = int(input())\n",
    "    answer = make_solution(N)\n",
    "    print(*answer)\n",
    "\n",
    "\n",
    "solution()\n",
    "\n",
    "# input\n",
    "# 4"
   ]
  },
  {
   "cell_type": "code",
   "execution_count": null,
   "id": "0d878a3d-d597-4bc7-ab95-16ab5de13665",
   "metadata": {},
   "outputs": [],
   "source": []
  }
 ],
 "metadata": {
  "kernelspec": {
   "display_name": "Python 3 (ipykernel)",
   "language": "python",
   "name": "python3"
  },
  "language_info": {
   "codemirror_mode": {
    "name": "ipython",
    "version": 3
   },
   "file_extension": ".py",
   "mimetype": "text/x-python",
   "name": "python",
   "nbconvert_exporter": "python",
   "pygments_lexer": "ipython3",
   "version": "3.8.11"
  }
 },
 "nbformat": 4,
 "nbformat_minor": 5
}
