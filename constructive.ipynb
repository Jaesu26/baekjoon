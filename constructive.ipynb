{
 "cells": [
  {
   "cell_type": "markdown",
   "id": "568cff02-c045-4794-b237-7fcec8a51998",
   "metadata": {},
   "source": [
    "## 해 구성하기 (Constructive)"
   ]
  },
  {
   "cell_type": "markdown",
   "id": "f12a3d64-1a5e-4dec-8194-3f3bb6895eb1",
   "metadata": {},
   "source": [
    "`-` 주어진 조건을 만족하는 답안을 실제로 만들어보자"
   ]
  },
  {
   "cell_type": "markdown",
   "id": "c921a7f8-0aa4-4a5c-95a9-304a355e6d7c",
   "metadata": {},
   "source": [
    "## 팰린드롬 척화비\n",
    "\n",
    "- 문제 출처: [백준 20944번](https://www.acmicpc.net/problem/20944)"
   ]
  },
  {
   "cell_type": "markdown",
   "id": "6e0d4cf5-0d26-46c2-be4d-a0bdefc3a120",
   "metadata": {},
   "source": [
    "`-` 팰린드롬이면서 수미상관인 문자열을 만들자\n",
    "\n",
    "`-` 앞뒤가 똑같으면 되는데 이는 문자열 내의 모든 문자를 같게 구성하여 만들 수 있다"
   ]
  },
  {
   "cell_type": "code",
   "execution_count": 1,
   "id": "37f66066-fede-4369-9526-5f926766e594",
   "metadata": {},
   "outputs": [
    {
     "name": "stdin",
     "output_type": "stream",
     "text": [
      " 4\n"
     ]
    },
    {
     "name": "stdout",
     "output_type": "stream",
     "text": [
      "aaaa\n"
     ]
    }
   ],
   "source": [
    "def solution():\n",
    "    N = int(input())\n",
    "    print(N * \"a\")\n",
    "\n",
    "\n",
    "solution()\n",
    "\n",
    "# input\n",
    "# 4"
   ]
  },
  {
   "cell_type": "code",
   "execution_count": null,
   "id": "631f1805-8e63-41ec-8507-3ec528b58580",
   "metadata": {},
   "outputs": [],
   "source": []
  }
 ],
 "metadata": {
  "kernelspec": {
   "display_name": "Python 3 (ipykernel)",
   "language": "python",
   "name": "python3"
  },
  "language_info": {
   "codemirror_mode": {
    "name": "ipython",
    "version": 3
   },
   "file_extension": ".py",
   "mimetype": "text/x-python",
   "name": "python",
   "nbconvert_exporter": "python",
   "pygments_lexer": "ipython3",
   "version": "3.8.11"
  }
 },
 "nbformat": 4,
 "nbformat_minor": 5
}
