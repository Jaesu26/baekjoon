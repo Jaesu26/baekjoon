{
 "cells": [
  {
   "cell_type": "markdown",
   "id": "7ebd44ca-2c8b-49c1-a65a-25b43703e245",
   "metadata": {},
   "source": [
    "# 가장 긴 증가하는 부분 수열 문제 (Longest Increasing Sequence Problem)"
   ]
  },
  {
   "cell_type": "markdown",
   "id": "f6d7cbdd-f331-4e82-8c1f-abc5ad4fe2e8",
   "metadata": {},
   "source": [
    "`-` 주어진 수열에서 오름차순으로 정렬된 가장 긴 부분수열을 찾는 문제\n",
    "\n",
    "`-` 다이나믹 프로그래밍을 이용한 $O\\left(N^2\\right)$ 풀이와 이분 탐색을 이용한 $O(N\\log N)$ 풀이"
   ]
  },
  {
   "cell_type": "markdown",
   "id": "41c05a3f-15fd-48b3-b636-fd4f4fc9c127",
   "metadata": {},
   "source": [
    "## 가장 긴 증가하는 부분 수열\n",
    "\n",
    "- 문제 출처: [백준 11053번](https://www.acmicpc.net/problem/11053)"
   ]
  },
  {
   "cell_type": "markdown",
   "id": "dec2970f-ffa2-4575-b7dc-f2271b8d840e",
   "metadata": {},
   "source": [
    "`-` 모르겠다 공부 ㄱㄱ\n",
    "\n",
    "`-` 공부하고 왔음\n",
    "\n",
    "`-` 수열 $A = \\{10, 20, 30, 11, 12, 13, 14, 40, 15, 16\\}$ 이런 수열이 있다고 해보자\n",
    "\n",
    "`-` 위에서 다룬 수열을 A라고 해보자 \n",
    "\n",
    "`-` $A[6] = 13, \\operatorname{dp}[6] = 4$이다. $\\operatorname{dp}[6] = 4$라는 뜻은 $A[6]$이 마지막 원소이고 만약 수열 $A$가 $A[5]$까지만 존재했다면 가장 긴 증가하는 부분 수열의 길이는 $3$이라는 의미이다\n",
    "\n",
    "`-` $A[6]$을 추가하는데 되도록이면 증가하는 부분 수열의 길이가 크면 좋음 ---> $A[6]$이 마지막 원소가 될 수 있는 여러개의 증가하는 부분 수열 중에서 길이가 가장 긴 것에 $A[6]$을 추가해야 함\n",
    "\n",
    "`-` 즉 $\\operatorname{dp}[1]$에서 $\\operatorname{dp}[5]$중에서 가장 큰 값에다 $A[6]$을 추가하여 새로운 $\\operatorname{dp}[6]$을 만듦 ---> `dp[i]는 i번째 인덱스 값을 수열의 마지막 원소로 가지는 증가하는 부분 수열 중 가장 길이가 긴 것`\n",
    "\n",
    "`-` 가장 긴 증가하는 부분 수열 점화식: $\\operatorname{dp}[n] = \\max(\\operatorname{dp}[i], \\operatorname{dp}[j], \\dots, \\operatorname{dp}[k]) + 1, \\quad (A[n] > A[i], A[j],\\dots,A[k])$"
   ]
  },
  {
   "cell_type": "code",
   "execution_count": 63,
   "id": "3954bb40-0a5c-41b9-b1d8-1a00ccf11ed2",
   "metadata": {},
   "outputs": [
    {
     "name": "stdin",
     "output_type": "stream",
     "text": [
      " 16\n",
      " 1 8 3 9 2 2 4 1 6 4 10 10 9 7 7 6\n"
     ]
    },
    {
     "name": "stdout",
     "output_type": "stream",
     "text": [
      "5\n"
     ]
    }
   ],
   "source": [
    "N = int(input())\n",
    "dp = [0] * 1001\n",
    "data = list(map(int, input().split()))\n",
    "arr = [0] + data\n",
    "for i in range(1, N + 1):\n",
    "    for j in range(i):\n",
    "        if arr[i] > arr[j]:\n",
    "            dp[i] = max(dp[j] + 1, dp[i])\n",
    "print(max(dp))\n",
    "\n",
    "# input\n",
    "# 16\n",
    "# 1 8 3 9 2 2 4 1 6 4 10 10 9 7 7 6"
   ]
  },
  {
   "cell_type": "markdown",
   "id": "ea6766a9-bd63-4955-b823-88c2d5c402d7",
   "metadata": {},
   "source": [
    "## 가장 긴 증가하는 부분 수열 2\n",
    "\n",
    "- 문제 출처: [백준 12015번](https://www.acmicpc.net/problem/12015)"
   ]
  },
  {
   "cell_type": "markdown",
   "id": "14b8ae13-d7fb-4e95-a35c-7abd4d569792",
   "metadata": {},
   "source": [
    "`-` [가장 긴 증가하는 부분 수열](https://www.acmicpc.net/problem/11053) 문제는 코드의 시간복잡도가 $O\\left(N^2\\right)$이어도 통과됐다\n",
    "\n",
    "`-` 이를 $O(N\\log N)$으로 바꿔보자\n",
    "\n",
    "`-` $\\operatorname{dp}[n] = \\max(\\operatorname{dp}[i], \\operatorname{dp}[j], \\dots, \\operatorname{dp}[k]) + 1, \\quad (A[n] > A[i], A[j],\\dots,A[k])$\n",
    "\n",
    "`-` 여기서 `dp[n]은 A[n]을 마지막 원소로 가지는 가장 긴 증가하는 부분 수열의 길이`로 정의된다\n",
    "\n",
    "`-` $\\operatorname{dp}[n]$을 계산하는데 있어서 $\\operatorname{dp}[i]$가 최대이든 $\\operatorname{dp}[j]$가 최대이든 중요하지 않다\n",
    "\n",
    "`-` 단지, $\\operatorname{dp}[i], \\operatorname{dp}[j], \\dots, \\operatorname{dp}[k]$ 중에서 최댓값만 구한 다음에 $+1$을 하면 된다\n",
    "\n",
    "`-` $\\operatorname{dp}[n]$의 최대값을 구하기위해 필요한 정보는 $A[n]$이 $A[i], \\cdots, A[j]$보다 큰지와 이를 만족하는 $A[i], \\cdots, A[j]$들 중에서 제일 큰 $\\operatorname{dp}[\\cdot]$는 무엇이냐이다\n",
    "\n",
    "`-` 만약 배열 $A$가 오름차순 정렬되어 있으면 $A[1]\\leq A[2]\\leq\\cdots\\leq A[n-1]$이 되고 $A[n]$이 들어갈 위치를 찾는데는 이분 탐색을 이용하면 $O(\\log N)$이다\n",
    "\n",
    "`-` 예컨대 $A[1]\\leq A[2]\\leq A[3]\\leq A[n]\\cdots\\leq A[n-1]$이라면 $\\operatorname{dp}[n]$은 $\\max(\\operatorname{dp}[1], \\operatorname{dp}[2],\\operatorname{dp}[3])+1$이 된다\n",
    "\n",
    "`-` $[\\star]$ 여기서 중요한 점은 $\\operatorname{dp}[1], \\operatorname{dp}[2],\\operatorname{dp}[3]$ 중에서 무엇이 최댓값인지가 아니라 최댓값이 무엇이냐는 것이다 $[\\star]$\n",
    "\n",
    "`-` `10, 20, 50`이나 `10, 25, 50`이나 `10, 45, 50`이나 증가하는 부분 수열의 길이는 모두 $3$이다\n",
    "\n",
    "- 이를 통해 가장 긴 증가하는 부분 수열을 다음과 같이 계산할 수 있다\n",
    "\n",
    "`-` `A[n]`를 원소로 가지는 빈 리스트 `lst`을 생각하자 \n",
    "\n",
    "`-` 여기서 `lst[n]`은 증가하는 부분수열의 길이가 $n$인 수열중에서 가장 작은 마지막 원소를 뜻한다\n",
    "\n",
    "`-` 첫 번째 원소부터 순차 탐색하여 `A[i]`가 `lst`의 어떤 위치에 삽입되어야 할 지 이분 탐색을 통해 찾고 해당 위치에 삽입한다 (따라서 `lst`는 오름차순으로 정렬됨)\n",
    "\n",
    "`-` 첫 번째 원소부터 순차 탐색했으므로 `lst`에 존재하는 원소들은 모두 인덱스가 `i`보다 작다 (`lst`에서 `i`가 가장 큰 인덱스이므로 `A[i]`는 증가하는 부분수열의 마지막 원소가 된다) \n",
    "\n",
    "`-` `lst`에서 `A[i]`의 인덱스를 `j`라고 하면 바로 왼쪽 원소는 `lst[j - 1]`이다 \n",
    "\n",
    "`-` `A[i] > lst[j - 1]`이고 `lst[j - 1]`은 `lst`의 정의에 의해 길이가 `j - 1`인 증가하는 부분수열중에서 가장 작은 마지막 원소이다\n",
    "\n",
    "`-` 만약 기존의 `lst[j]`가 `A[i]`보다 작다면 `lst[j]`보다 강한 조건인 `A[i]`를 사용할 이유가 없다(`A[i]`보다 크면 당연히 `lst[j]`보다도 크지만 역은 성립 안한다)\n",
    "\n",
    "`-` 만약 기존의 `lst[j]`가 `A[i]`보다 크다면 더 약한 조건인 `A[i]`로 `lst[j]`를 대체한다\n",
    "\n",
    "`-` 그런데 `A[i]`는 기존의 `lst`에서 `lst[j - 1]`보다 크고 `lst[j]`보다 작아서 `lst[j]`에 삽입되었다\n",
    "\n",
    "`-` 따라서 항상 `lst[j] <= A[i]`이므로 `lst[j]`를 `A[i]`로 갱신하면 된다\n",
    "\n",
    "`-` 위의 논리는 새로 삽입된 `A[i]`의 `dp`를 계산하는데 있어서 `무엇이 최댓값인지가 아니라 최댓값이 무엇인지가 중요`하기 때문에 성립한다"
   ]
  },
  {
   "cell_type": "code",
   "execution_count": 106,
   "id": "4ebb50df-70b0-4474-8b6d-ca6a3901d8e9",
   "metadata": {},
   "outputs": [
    {
     "name": "stdin",
     "output_type": "stream",
     "text": [
      " 16\n",
      " 1 8 3 9 2 2 4 1 6 4 10 10 9 7 7 6\n"
     ]
    },
    {
     "name": "stdout",
     "output_type": "stream",
     "text": [
      "5\n"
     ]
    }
   ],
   "source": [
    "INF = 1e9\n",
    "N = int(input())\n",
    "arr = (list(map(int, input().split())))\n",
    "lst = [INF] * (N + 1)  # 편의상 N + 1 크기의 배열로 만듦 (파이썬은 인덱스가 0부터 시작)\n",
    "lst[0] = 0  # 초기값\n",
    "lst[1] = arr[0]  # lst[n]은 증가하는 부분수열의 길이가 n인 것들 중에서 가장 작은 마지막 원소\n",
    "LIS = 1  # 가장 긴 증가하는 부분 수열의 길이 (Longest Increasing Subsequence)\n",
    "# solve\n",
    "for i in range(1, N):  # for문은 O(N)이고 while문은 이분 탐색으로 O(log N)이므로 전체 코드의 시간복잡도는 O(N log(N))이다\n",
    "    left = 1\n",
    "    right = i  # 1 ~ i, 0을 제외하면 실질적으로 i개의 원소가 lst에 들어있음\n",
    "    mid = (left + right) // 2\n",
    "    while left <= mid:  # left와 mid가 같은 상황에서 lst[mid] < arr[i]이면 mid + 1에 삽입하고 lst[mid] >= arr[i]이면 left에 삽입하고 싶음\n",
    "        if lst[mid] < arr[i]: \n",
    "            left = mid + 1\n",
    "        else:\n",
    "            right = mid - 1\n",
    "        mid = (left + right) // 2\n",
    "    # arr[i]가 lst에 어느 위치에 들어가야 하는지를 찾았다 (lst[left]에 삽입)\n",
    "    # lst[left]를 arr[i]로 갱신\n",
    "    # arr[i]는 lst[left]에 삽입되므로 기존의 lst에서 lst[left - 1]보단 크고 lst[left]보다 작다\n",
    "    # 따라서 lst[left] >= arr[i]가 항상 성립한다 (등호는 동일한 원소일 떄)\n",
    "    lst[left] = arr[i]\n",
    "    if left > LIS:\n",
    "        LIS = left        \n",
    "# 출력\n",
    "print(LIS)\n",
    "\n",
    "# input\n",
    "# 16\n",
    "# 1 8 3 9 2 2 4 1 6 4 10 10 9 7 7 6"
   ]
  },
  {
   "cell_type": "markdown",
   "id": "771f4419-e771-4ccb-bf8f-ecd58f148615",
   "metadata": {},
   "source": [
    "`-` 이분 탐색으로 해결해야 된다는 것을 알고 있었는데도 5시간이나 걸렸음"
   ]
  },
  {
   "cell_type": "markdown",
   "id": "e825eaf3-cc40-4851-b2c7-c60f7ce66dbe",
   "metadata": {},
   "source": [
    "## 가장 긴 바이토닉 부분 수열\n",
    "\n",
    "- 문제 출처: [백준 11054번](https://www.acmicpc.net/problem/11054)"
   ]
  },
  {
   "cell_type": "markdown",
   "id": "039deba8-4000-4fd3-933d-5d7eb118e516",
   "metadata": {},
   "source": [
    "`-` 질문 검색에서 아이디어 참고함\n",
    "\n",
    "`-` `증가하는 부분 수열 + 감소하는 부분 수열 - 1(겹치는 부분)`의 `최댓값`을 구하자\n",
    "\n",
    "`-` $\\operatorname{dp\\_up}[n]$은 $n$를 마지막 원소로 가지는 증가하는 부분 수열 중 길이가 가장 긴 것\n",
    "\n",
    "`-` $\\operatorname{dp\\_down}[n]$은 $n$를 첫번째 원소로 가지는 감소하는 부분 수열 중 길이가 가장 긴 것"
   ]
  },
  {
   "cell_type": "code",
   "execution_count": 38,
   "id": "999e0288-094b-4ed8-8722-9788cb454e3e",
   "metadata": {},
   "outputs": [
    {
     "name": "stdin",
     "output_type": "stream",
     "text": [
      " 10\n",
      " 1 5 2 1 4 3 4 5 2 1\n"
     ]
    },
    {
     "name": "stdout",
     "output_type": "stream",
     "text": [
      "7\n"
     ]
    }
   ],
   "source": [
    "N = int(input())\n",
    "dp_up = [0] * 1001\n",
    "dp_down = [1] * 1001\n",
    "data = list(map(int, input().split()))\n",
    "arr = [0] + data\n",
    "# 가징 긴 바이토닉 부분 수열\n",
    "for i in range(1, N + 1):\n",
    "    for j in range(i):\n",
    "        if arr[i] > arr[j]:\n",
    "            dp_up[i] = max(dp_up[j] + 1, dp_up[i])\n",
    "for i in range(N, 0, -1):\n",
    "    for j in range(N, i, -1):\n",
    "        if arr[i] > arr[j]:\n",
    "            dp_down[i] = max(dp_down[j] + 1, dp_down[i])\n",
    "print(max(list(map(lambda x, y: x + y, dp_up, dp_down))) - 1)"
   ]
  },
  {
   "cell_type": "markdown",
   "id": "94a1a134-a15c-4409-9e86-0b3a6f3b4ae6",
   "metadata": {},
   "source": [
    "`-` 위에서 사용한 `lambda 함수` 간단히 참고"
   ]
  },
  {
   "cell_type": "code",
   "execution_count": 45,
   "id": "130f5e44-2522-48ef-aded-f32a5bcd4f25",
   "metadata": {},
   "outputs": [
    {
     "name": "stdout",
     "output_type": "stream",
     "text": [
      "10\n"
     ]
    }
   ],
   "source": [
    "a = [1, 2, 3, 4, 5]\n",
    "b = [10, 1 ,2, 3, 4]\n",
    "print(max(list(map(lambda x, y: x + y, a, b))) - 1)"
   ]
  },
  {
   "cell_type": "markdown",
   "id": "ea2c202a-c4e9-4793-98d7-aef2d6ff7c82",
   "metadata": {},
   "source": [
    "`-` 서로 동일한 index위치에 있는 값을 더한 후 `최대값 - 1`을 출력"
   ]
  },
  {
   "cell_type": "markdown",
   "id": "53fd8772-e1f3-405f-ad60-115b42d5ddbc",
   "metadata": {},
   "source": [
    "`-` 리스트 길이가 다르다면? "
   ]
  },
  {
   "cell_type": "code",
   "execution_count": 2,
   "id": "f1d3077f-0a40-4620-97a3-3f9bc79e3ec2",
   "metadata": {},
   "outputs": [
    {
     "name": "stdout",
     "output_type": "stream",
     "text": [
      "12\n"
     ]
    }
   ],
   "source": [
    "a = [1, 2, 3, 20, 20]\n",
    "b = [1 ,2, 10]\n",
    "print(max(list(map(lambda x, y: x + y, a, b))) - 1)"
   ]
  },
  {
   "cell_type": "markdown",
   "id": "9438265c-f357-48db-8505-7aeaa41f72ca",
   "metadata": {},
   "source": [
    "`-` $b$는 길이가 $3$이어서 $a$의 $4$와 $5$ 원소는 고려되지 않음"
   ]
  },
  {
   "cell_type": "markdown",
   "id": "f8ee389b-5c78-4f2f-959f-f118fac4c310",
   "metadata": {},
   "source": [
    "## 전깃줄\n",
    "\n",
    "- 문제 출처: [백준 2565번](https://www.acmicpc.net/problem/2565)"
   ]
  },
  {
   "cell_type": "markdown",
   "id": "74953d72-f8ff-4a65-8385-8c086e91a7c1",
   "metadata": {},
   "source": [
    "`-` $A$와 $B$는 연결되어 있으므로 세트임\n",
    "\n",
    "`-` 우선 $A, B$에 대해 오름차순 정렬을 함 ($A, B$ 순서 바뀌어도 ok) ---> 전깃줄이 전봇대에 연결되는 위치는 전봇대 위에서부터 차례대로 번호가 매겨지므로\n",
    "\n",
    "`-` $\\operatorname{dp}[n]$은 $n$번째 전깃줄이 마지막에 위치하는 `LIS`임\n",
    "\n",
    "`-` $n$번째의 전깃줄은 $n-1$번째 전깃줄에 대해 $A, B$ 각각 숫자가 커야함\n",
    "\n",
    "`-`  $\\operatorname{dp}$의 최대값을 구한 후 $N$에서 빼면 제거해야 할 전깃줄의 개수임"
   ]
  },
  {
   "cell_type": "code",
   "execution_count": 1,
   "id": "8edf4e49-81e9-4025-b365-8005dcfd24bf",
   "metadata": {},
   "outputs": [
    {
     "name": "stdin",
     "output_type": "stream",
     "text": [
      " 8\n",
      " 1 8\n",
      " 3 9\n",
      " 2 2\n",
      " 4 1\n",
      " 6 4\n",
      " 10 10\n",
      " 9 7\n",
      " 7 6\n"
     ]
    },
    {
     "name": "stdout",
     "output_type": "stream",
     "text": [
      "3\n"
     ]
    }
   ],
   "source": [
    "N = int(input())\n",
    "arr = [[0, 0]]\n",
    "dp = [0] * 101\n",
    "for _ in range(N):\n",
    "    arr.append(list(map(int, input().split())))\n",
    "arr1 = sorted(arr, key = lambda x: (x[0], x[1]))\n",
    "for i in range(1, N + 1):\n",
    "    for j in range(i):\n",
    "        if arr1[i][0] > arr1[j][0] and arr1[i][1] > arr1[j][1]:\n",
    "            dp[i] = max(dp[j] + 1, dp[i])\n",
    "print(N - max(dp))\n",
    "\n",
    "# input\n",
    "# 8\n",
    "# 1 8\n",
    "# 3 9\n",
    "# 2 2\n",
    "# 4 1\n",
    "# 6 4\n",
    "# 10 10\n",
    "# 9 7\n",
    "# 7 6"
   ]
  },
  {
   "cell_type": "markdown",
   "id": "5ba7a6d4-4854-40c7-82f9-b1cc7865de31",
   "metadata": {},
   "source": [
    "## 가장 긴 증가하는 부분 수열 4\n",
    "\n",
    "- 문제 출처: [백준 14002번](https://www.acmicpc.net/problem/14002)"
   ]
  },
  {
   "cell_type": "markdown",
   "id": "3b727a65-44f2-4848-9aed-df9070a39491",
   "metadata": {},
   "source": [
    "`-` [가장 긴 증가하는 부분 수열](https://www.acmicpc.net/problem/11053) 문제에서 길이만 출력했다면 여기서는 부분 수열도 같이 출력해야 한다\n",
    "\n",
    "`-` $\\operatorname{dp}[n]$을 $n$번째 원소를 마지막 원소로 하는 부분 수열 중 가장 긴 것의 길이라고 하자\n",
    "\n",
    "`-` 그러면 $n$보다 작은 $i,j,\\cdots,k$에 대해 다음의 점화식이 성립한다\n",
    "\n",
    "`-` $\\operatorname{dp}[n] = \\max(\\operatorname{dp}[i], \\operatorname{dp}[j], \\dots, \\operatorname{dp}[k]) + 1, \\quad (A[n] > A[i], A[j],\\dots,A[k])$\n",
    "\n",
    "`-` 그런데 이제 부분 수열이 필요하므로 이전의 부분 수열 중 가장 긴 것에 $a_n$을 추가하여 $\\operatorname{dp}[n]$을 구성하자\n",
    "\n",
    "`-` 전체 알고리즘의 시간 복잡도는 $O\\left(N^2\\right)$이지만 $N$이 최대 $1000$이므로 1초 안에 해결할 수 있다"
   ]
  },
  {
   "cell_type": "code",
   "execution_count": 17,
   "id": "a5443735-2c0c-46f9-ba1e-b1a152181747",
   "metadata": {},
   "outputs": [
    {
     "name": "stdin",
     "output_type": "stream",
     "text": [
      " 6\n",
      " 10 20 10 30 20 50\n"
     ]
    },
    {
     "name": "stdout",
     "output_type": "stream",
     "text": [
      "4\n",
      "10 20 30 50\n"
     ]
    }
   ],
   "source": [
    "def solution():\n",
    "    N = int(input())\n",
    "    a_n = list(map(int, input().split()))\n",
    "    SEQ = 0\n",
    "    LEN = 1\n",
    "    dp = [[[a_n[i]], 1] for i in range(N)]  # dp[i]는 i번째 원소를 마지막 원소로 하는 가장 긴 부분 수열과 그 때의 길이\n",
    "    for i in range(1, N):\n",
    "        max_len = 0\n",
    "        for j in range(i):\n",
    "            if dp[j][LEN] > max_len and a_n[i] > a_n[j] and dp[j][LEN] >= dp[i][LEN]:\n",
    "                subsequence = dp[j][SEQ]\n",
    "                max_len = dp[j][LEN]\n",
    "        if max_len > 0:\n",
    "            dp[i][SEQ] = subsequence.copy()\n",
    "            dp[i][SEQ].append(a_n[i])\n",
    "            dp[i][LEN] = max_len + 1\n",
    "    LIS = max(dp[i][LEN] for i in range(N))\n",
    "    print(LIS)\n",
    "    for i in range(N):\n",
    "        if dp[i][LEN] == LIS:\n",
    "            print(*dp[i][SEQ])\n",
    "            break\n",
    "\n",
    "\n",
    "solution()\n",
    "\n",
    "# input\n",
    "# 6\n",
    "# 10 20 10 30 20 50"
   ]
  },
  {
   "cell_type": "markdown",
   "id": "36585365-5e7d-4f92-adea-b80dd31fc6cf",
   "metadata": {},
   "source": [
    "## 가장 긴 증가하는 부분 수열 5\n",
    "\n",
    "- 문제 출처: [백준 14003번](https://www.acmicpc.net/problem/14003)"
   ]
  },
  {
   "cell_type": "markdown",
   "id": "ff98436f-5cc5-41f7-b41a-6edcfe96d887",
   "metadata": {},
   "source": [
    "`-` [가장 긴 증가하는 부분 수열 2](https://www.acmicpc.net/problem/12015) 문제에 역추적을 더한 문제이다\n",
    "\n",
    "`-` [가장 긴 증가하는 부분 수열 4](https://www.acmicpc.net/problem/14002) 문제를 풀고 기여 의견을 봤는데 힌트를 얻어버렸다\n",
    "\n",
    "`-` LIS에 새로운 원소를 등록할 때 해당 원소 앞의 원소를 가리키도록 추적해놓으면 된다\n",
    "\n",
    "`-` 그럼 LIS가 매번 업데이트 되더라도 LIS 자체를 사용하는게 아니라 미리 추적해놓은 것을 사용하므로 문제 없다"
   ]
  },
  {
   "cell_type": "code",
   "execution_count": 2,
   "id": "914d5f5f-2d62-427d-80b3-685a933949bc",
   "metadata": {},
   "outputs": [
    {
     "name": "stdin",
     "output_type": "stream",
     "text": [
      " 6\n",
      " 10 20 10 30 20 50\n"
     ]
    },
    {
     "name": "stdout",
     "output_type": "stream",
     "text": [
      "4\n",
      "10 20 30 50\n"
     ]
    }
   ],
   "source": [
    "def compute_lis(array, n):\n",
    "    LIS_array = [None] * n  # LIS_array[i]는 i + 1 길이의 증가하는 부분 수열의 마지막 원소의 인덱스\n",
    "    LIS_array[0] = 0\n",
    "    LIS = 1  # 가장 긴 증가하는 부분 수열의 길이\n",
    "    dp = [None] * n  # dp[i]는 LIS를 이루는 array[i] 앞의 위치한 원소의 인덱스\n",
    "    for i, x in enumerate(array[1:], start=1):\n",
    "        left = 0\n",
    "        right = LIS - 1\n",
    "        while left <= right:\n",
    "            mid = (left + right) // 2\n",
    "            index = LIS_array[mid]\n",
    "            value = array[index]\n",
    "            if x <= value:\n",
    "                right = mid - 1\n",
    "            else:\n",
    "                left = mid + 1\n",
    "        LIS_array[left] = i\n",
    "        if left == LIS:\n",
    "            LIS += 1\n",
    "        if left == 0:\n",
    "            continue\n",
    "        dp[i] = LIS_array[left - 1]\n",
    "    index_last = LIS_array[LIS - 1]\n",
    "    lis = []\n",
    "    while True:\n",
    "        a = array[index_last]\n",
    "        lis.append(a)\n",
    "        index_last = dp[index_last]\n",
    "        if index_last is None:\n",
    "            break\n",
    "    lis = lis[::-1]\n",
    "    return lis\n",
    "\n",
    "\n",
    "def solution():\n",
    "    global INF\n",
    "    N = int(input())\n",
    "    array = list(map(int, input().split()))\n",
    "    INF = float(\"inf\")\n",
    "    lis = compute_lis(array, N)\n",
    "    print(len(lis))\n",
    "    print(*lis)\n",
    "\n",
    "\n",
    "solution()\n",
    "\n",
    "# input\n",
    "# 6\n",
    "# 10 20 10 30 20 50"
   ]
  },
  {
   "cell_type": "code",
   "execution_count": null,
   "id": "eb26706c-1fca-47b1-abf4-14d85a008fc1",
   "metadata": {},
   "outputs": [],
   "source": []
  }
 ],
 "metadata": {
  "kernelspec": {
   "display_name": "Python 3 (ipykernel)",
   "language": "python",
   "name": "python3"
  },
  "language_info": {
   "codemirror_mode": {
    "name": "ipython",
    "version": 3
   },
   "file_extension": ".py",
   "mimetype": "text/x-python",
   "name": "python",
   "nbconvert_exporter": "python",
   "pygments_lexer": "ipython3",
   "version": "3.8.11"
  }
 },
 "nbformat": 4,
 "nbformat_minor": 5
}
