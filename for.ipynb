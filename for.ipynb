{
 "cells": [
  {
   "cell_type": "markdown",
   "id": "2e1783c0-5bad-4549-9dba-6e48bc4caf1a",
   "metadata": {
    "tags": []
   },
   "source": [
    "# for문"
   ]
  },
  {
   "cell_type": "markdown",
   "id": "14ed4aee-40d9-4f07-a604-6eddb7ae43b6",
   "metadata": {},
   "source": [
    "## 구구단"
   ]
  },
  {
   "cell_type": "code",
   "execution_count": 16,
   "id": "b67551f7-5a13-4686-9359-5ee36d76d142",
   "metadata": {},
   "outputs": [
    {
     "name": "stdin",
     "output_type": "stream",
     "text": [
      " 4\n"
     ]
    },
    {
     "name": "stdout",
     "output_type": "stream",
     "text": [
      "4 * 1 = 4\n",
      "4 * 2 = 8\n",
      "4 * 3 = 12\n",
      "4 * 4 = 16\n",
      "4 * 5 = 20\n",
      "4 * 6 = 24\n",
      "4 * 7 = 28\n",
      "4 * 8 = 32\n",
      "4 * 9 = 36\n"
     ]
    }
   ],
   "source": [
    "n = int(input())\n",
    "for i in range(1,10):\n",
    "    print('%s * %s = %s' % (n, i, n*i))"
   ]
  },
  {
   "cell_type": "markdown",
   "id": "6b63feff-392c-4b54-afc8-4c4ee52f38ac",
   "metadata": {},
   "source": [
    "## A+B - 3\n",
    "\n",
    "`-` 첫째 줄에 테스트 케이스의 개수 T가 주어진다\n",
    "\n",
    "`-` 각 테스트 케이스마다 A+B를 출력한다"
   ]
  },
  {
   "cell_type": "code",
   "execution_count": 21,
   "id": "4abfa7da-63c1-475b-9465-a9cec5bb2e75",
   "metadata": {},
   "outputs": [
    {
     "name": "stdin",
     "output_type": "stream",
     "text": [
      " 3\n",
      " 1 5\n"
     ]
    },
    {
     "name": "stdout",
     "output_type": "stream",
     "text": [
      "6\n"
     ]
    },
    {
     "name": "stdin",
     "output_type": "stream",
     "text": [
      " 2 8\n"
     ]
    },
    {
     "name": "stdout",
     "output_type": "stream",
     "text": [
      "10\n"
     ]
    },
    {
     "name": "stdin",
     "output_type": "stream",
     "text": [
      " 17 58\n"
     ]
    },
    {
     "name": "stdout",
     "output_type": "stream",
     "text": [
      "75\n"
     ]
    }
   ],
   "source": [
    "T = int(input())\n",
    "for i in range(T):\n",
    "    A, B = map(int, input().split())\n",
    "    print(A+B)"
   ]
  },
  {
   "cell_type": "markdown",
   "id": "5f21f852-d276-44af-bb61-c5c8447ed635",
   "metadata": {},
   "source": [
    "## 1부터 n까지 합\n",
    "\n",
    "`-` 반복문 있는 버전"
   ]
  },
  {
   "cell_type": "code",
   "execution_count": 23,
   "id": "b4f0beb5-866c-40b5-a85f-e2f957d517c1",
   "metadata": {},
   "outputs": [
    {
     "name": "stdin",
     "output_type": "stream",
     "text": [
      " 10\n"
     ]
    },
    {
     "name": "stdout",
     "output_type": "stream",
     "text": [
      "55\n"
     ]
    }
   ],
   "source": [
    "n = int(input())\n",
    "sum = 0\n",
    "for i in range(1, n+1):\n",
    "    sum += i\n",
    "print(sum)    "
   ]
  },
  {
   "cell_type": "markdown",
   "id": "5b54a5f0-56e1-4830-96b2-732ca47c6263",
   "metadata": {},
   "source": [
    "`-` 반복문 없는 버전"
   ]
  },
  {
   "cell_type": "code",
   "execution_count": 26,
   "id": "d66b8705-3c69-4e16-84e5-7b225cec1e2b",
   "metadata": {},
   "outputs": [
    {
     "name": "stdin",
     "output_type": "stream",
     "text": [
      " 10\n"
     ]
    },
    {
     "name": "stdout",
     "output_type": "stream",
     "text": [
      "55\n"
     ]
    }
   ],
   "source": [
    "n = int(input())\n",
    "print(int(n * (n+1) / 2))"
   ]
  },
  {
   "cell_type": "markdown",
   "id": "603c22e7-9307-4d6d-8991-b982396dd51c",
   "metadata": {},
   "source": [
    "## `sys.stdin.readline()`\n",
    "\n",
    "`-` 본격적으로 for문 문제를 풀기 전에 주의해야 할 점이 있다\n",
    "\n",
    "`-` 입출력 방식이 느리면 여러 줄을 입력받거나 출력할 때 시간초과가 날 수 있다는 점이다\n",
    "\n",
    "`-` Python을 사용하고 있다면 input() 대신 sys.stdin.readline()을 사용할 수 있다\n",
    "\n",
    "`-` 단, 이때는 맨 끝의 개행문자까지 같이 입력받기 때문에 문자열을 저장하고 싶을 경우 `.rstrip()`을 추가로 해 주는 것이 좋다"
   ]
  },
  {
   "cell_type": "code",
   "execution_count": 3,
   "id": "d534ec4b-f236-498c-98b2-1a461c2ac3e3",
   "metadata": {},
   "outputs": [
    {
     "name": "stdin",
     "output_type": "stream",
     "text": [
      " 10\n"
     ]
    },
    {
     "ename": "ValueError",
     "evalue": "not enough values to unpack (expected 2, got 0)",
     "output_type": "error",
     "traceback": [
      "\u001b[1;31m---------------------------------------------------------------------------\u001b[0m",
      "\u001b[1;31mValueError\u001b[0m                                Traceback (most recent call last)",
      "\u001b[1;32m<ipython-input-3-173fe188e1c6>\u001b[0m in \u001b[0;36m<module>\u001b[1;34m\u001b[0m\n\u001b[0;32m      2\u001b[0m \u001b[0mT\u001b[0m \u001b[1;33m=\u001b[0m \u001b[0mint\u001b[0m\u001b[1;33m(\u001b[0m\u001b[0minput\u001b[0m\u001b[1;33m(\u001b[0m\u001b[1;33m)\u001b[0m\u001b[1;33m)\u001b[0m\u001b[1;33m\u001b[0m\u001b[1;33m\u001b[0m\u001b[0m\n\u001b[0;32m      3\u001b[0m \u001b[1;32mfor\u001b[0m \u001b[0mi\u001b[0m \u001b[1;32min\u001b[0m \u001b[0mrange\u001b[0m\u001b[1;33m(\u001b[0m\u001b[0mT\u001b[0m\u001b[1;33m)\u001b[0m\u001b[1;33m:\u001b[0m\u001b[1;33m\u001b[0m\u001b[1;33m\u001b[0m\u001b[0m\n\u001b[1;32m----> 4\u001b[1;33m     \u001b[0mA\u001b[0m\u001b[1;33m,\u001b[0m \u001b[0mB\u001b[0m \u001b[1;33m=\u001b[0m \u001b[0mmap\u001b[0m\u001b[1;33m(\u001b[0m\u001b[0mint\u001b[0m\u001b[1;33m,\u001b[0m \u001b[0msys\u001b[0m\u001b[1;33m.\u001b[0m\u001b[0mstdin\u001b[0m\u001b[1;33m.\u001b[0m\u001b[0mreadline\u001b[0m\u001b[1;33m(\u001b[0m\u001b[1;33m)\u001b[0m\u001b[1;33m.\u001b[0m\u001b[0msplit\u001b[0m\u001b[1;33m(\u001b[0m\u001b[1;33m)\u001b[0m\u001b[1;33m)\u001b[0m\u001b[1;33m\u001b[0m\u001b[1;33m\u001b[0m\u001b[0m\n\u001b[0m\u001b[0;32m      5\u001b[0m     \u001b[0mprint\u001b[0m\u001b[1;33m(\u001b[0m\u001b[0mA\u001b[0m\u001b[1;33m+\u001b[0m\u001b[0mB\u001b[0m\u001b[1;33m)\u001b[0m\u001b[1;33m\u001b[0m\u001b[1;33m\u001b[0m\u001b[0m\n",
      "\u001b[1;31mValueError\u001b[0m: not enough values to unpack (expected 2, got 0)"
     ]
    }
   ],
   "source": [
    "import sys\n",
    "T = int(input())\n",
    "for i in range(T):\n",
    "    A, B = map(int, sys.stdin.readline().split())\n",
    "    print(A+B)"
   ]
  },
  {
   "cell_type": "markdown",
   "id": "0e096d4f-0840-41a0-89f2-f1b70f01eeb6",
   "metadata": {},
   "source": [
    "`-` error 왜 뜨지?\n",
    "\n",
    "`-` `sys.stdin.readline()`를 쓸 때마다 에러가 난다 ---> 주피터 노트북에서는 사용 불가능"
   ]
  },
  {
   "cell_type": "markdown",
   "id": "77353661-fdce-4929-ba0f-2ffcc2e7c8ee",
   "metadata": {},
   "source": [
    "## 1부터 N까지 출력"
   ]
  },
  {
   "cell_type": "code",
   "execution_count": 1,
   "id": "7d094184-fd97-4c71-999e-f2d847f1ffeb",
   "metadata": {},
   "outputs": [
    {
     "name": "stdin",
     "output_type": "stream",
     "text": [
      " 5\n"
     ]
    },
    {
     "name": "stdout",
     "output_type": "stream",
     "text": [
      "1\n",
      "2\n",
      "3\n",
      "4\n",
      "5\n"
     ]
    }
   ],
   "source": [
    "N = int(input())\n",
    "for i in range(1, N+1):\n",
    "    print(i)"
   ]
  },
  {
   "cell_type": "markdown",
   "id": "d950f8ac-d7d5-4365-b566-d636905b0b10",
   "metadata": {},
   "source": [
    "## N부터 1까지 출력"
   ]
  },
  {
   "cell_type": "code",
   "execution_count": 2,
   "id": "9bd55919-c441-4ff1-9d68-94d79b6fc74d",
   "metadata": {},
   "outputs": [
    {
     "name": "stdin",
     "output_type": "stream",
     "text": [
      " 5\n"
     ]
    },
    {
     "name": "stdout",
     "output_type": "stream",
     "text": [
      "5\n",
      "4\n",
      "3\n",
      "2\n",
      "1\n"
     ]
    }
   ],
   "source": [
    "N = int(input())\n",
    "for i in range(1, N+1):\n",
    "    print(N-i+1)"
   ]
  },
  {
   "cell_type": "markdown",
   "id": "cae41cf6-c6cc-4e38-8b1c-2922f457e1c5",
   "metadata": {},
   "source": [
    "## A+B - 7\n",
    "\n",
    "`-` 각 테스트 케이스마다 \"Case #x: \"를 출력한 다음, A+B를 출력한다\n",
    "\n",
    "`-` 테스트 케이스 번호는 1부터 시작한다"
   ]
  },
  {
   "cell_type": "code",
   "execution_count": 6,
   "id": "694adc41-3263-4892-8cfc-5d778470b8ce",
   "metadata": {},
   "outputs": [
    {
     "name": "stdin",
     "output_type": "stream",
     "text": [
      " 3\n",
      " 1 5\n"
     ]
    },
    {
     "name": "stdout",
     "output_type": "stream",
     "text": [
      "Case #1: 6\n"
     ]
    },
    {
     "name": "stdin",
     "output_type": "stream",
     "text": [
      " 2 4\n"
     ]
    },
    {
     "name": "stdout",
     "output_type": "stream",
     "text": [
      "Case #2: 6\n"
     ]
    },
    {
     "name": "stdin",
     "output_type": "stream",
     "text": [
      " 1 7\n"
     ]
    },
    {
     "name": "stdout",
     "output_type": "stream",
     "text": [
      "Case #3: 8\n"
     ]
    }
   ],
   "source": [
    "import sys\n",
    "T = int(input())\n",
    "for i in range(1, T+1):\n",
    "    A, B = map(int, sys.stdin.readline().split())\n",
    "    print('Case #%s: %s' % (i, A+B))\n"
   ]
  },
  {
   "cell_type": "markdown",
   "id": "e819e307-04d8-4de8-80e3-6d4b8370535a",
   "metadata": {},
   "source": [
    "## 별 찍기 - 1\n",
    "\n",
    "- 문제 출처: [백준 2438번](https://www.acmicpc.net/problem/2438)"
   ]
  },
  {
   "cell_type": "code",
   "execution_count": 26,
   "id": "2c51f38c-c84a-4db6-a314-9cc233566546",
   "metadata": {},
   "outputs": [
    {
     "name": "stdin",
     "output_type": "stream",
     "text": [
      " 5\n"
     ]
    },
    {
     "name": "stdout",
     "output_type": "stream",
     "text": [
      "*\n",
      "**\n",
      "***\n",
      "****\n",
      "*****\n"
     ]
    }
   ],
   "source": [
    "N = int(input())\n",
    "\n",
    "for i in range(1, N+1):\n",
    "    for j in range(i):\n",
    "        print('*', end = '')\n",
    "\n",
    "    print('\\n', end = '')"
   ]
  },
  {
   "cell_type": "markdown",
   "id": "2e3188bd-1fed-4284-990b-cbeae8d7e34c",
   "metadata": {},
   "source": [
    "## print함수 용법\n",
    "\n",
    "`-` print(출력할 객체, end = '함수가 종료될 때 실행하는 값')\n",
    "\n",
    "`-` print()함수에서 end값을 따로 지정하지 않으면 끝을 줄바꿈 문자로 한다"
   ]
  },
  {
   "cell_type": "code",
   "execution_count": 12,
   "id": "fb48a9a4-fe47-41c7-8596-d1ae5eeb1365",
   "metadata": {},
   "outputs": [
    {
     "name": "stdout",
     "output_type": "stream",
     "text": [
      "안녕~~~~하세요\n"
     ]
    }
   ],
   "source": [
    "print('안녕', end = '~~~~')\n",
    "print('하세요')"
   ]
  },
  {
   "cell_type": "code",
   "execution_count": 18,
   "id": "5b57fe45-96d5-43e9-92fb-829deb19a94a",
   "metadata": {},
   "outputs": [
    {
     "name": "stdin",
     "output_type": "stream",
     "text": [
      " 5\n"
     ]
    },
    {
     "name": "stdout",
     "output_type": "stream",
     "text": [
      "    *\n",
      "   **\n",
      "  ***\n",
      " ****\n",
      "*****\n"
     ]
    }
   ],
   "source": [
    "N = int(input())\n",
    "for i in range(N):\n",
    "    for j in range(1, N-i):\n",
    "        print(\" \", end = \"\")\n",
    "    for k in range(i+1):\n",
    "        print(\"*\", end = \"\")\n",
    "    print(\"\\n\", end = \"\")"
   ]
  },
  {
   "cell_type": "markdown",
   "id": "57853389-e5a4-4f53-a3f8-1451a83515b8",
   "metadata": {},
   "source": [
    "## X보다 작은 수\n",
    "\n",
    "`-` 첫째 줄에 N과 X가 주어진다 (1 ≤ N, X ≤ 10,000)\n",
    "\n",
    "`-` 둘째 줄에 수열 A를 이루는 정수 N개가 주어진다 주어지는 정수는 모두 1보다 크거나 같고 10,000보다 작거나 같은 정수이다\n",
    "\n",
    "`-` X보다 작은 수를 입력받은 순서대로 공백으로 구분해 출력한다\n",
    "\n",
    "`-` X보다 작은 수는 적어도 하나 존재한다"
   ]
  },
  {
   "cell_type": "code",
   "execution_count": 38,
   "id": "6f9d3213-8bf0-4a8f-a0a4-17957b311e9f",
   "metadata": {},
   "outputs": [
    {
     "name": "stdin",
     "output_type": "stream",
     "text": [
      " 3 5\n",
      " 1 0 7\n"
     ]
    },
    {
     "name": "stdout",
     "output_type": "stream",
     "text": [
      "1 0 "
     ]
    }
   ],
   "source": [
    "N, X = map(int, input().split())\n",
    "A = list(map(int, input().split()))\n",
    "for i in range(N):\n",
    "    if A[i] < X:\n",
    "        print(A[i], end = \" \")"
   ]
  },
  {
   "cell_type": "code",
   "execution_count": null,
   "id": "68bc87b1-13fc-4f50-bd90-4d9ccfe69aa3",
   "metadata": {},
   "outputs": [],
   "source": []
  }
 ],
 "metadata": {
  "kernelspec": {
   "display_name": "Python 3 (ipykernel)",
   "language": "python",
   "name": "python3"
  },
  "language_info": {
   "codemirror_mode": {
    "name": "ipython",
    "version": 3
   },
   "file_extension": ".py",
   "mimetype": "text/x-python",
   "name": "python",
   "nbconvert_exporter": "python",
   "pygments_lexer": "ipython3",
   "version": "3.8.11"
  }
 },
 "nbformat": 4,
 "nbformat_minor": 5
}
