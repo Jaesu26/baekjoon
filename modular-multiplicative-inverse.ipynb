{
 "cells": [
  {
   "cell_type": "markdown",
   "id": "85c4132d-38de-4757-ab1d-8725151d032f",
   "metadata": {},
   "source": [
    "## 모듈러 곱셈 역원 (Modular Multiplicative Inverse)"
   ]
  },
  {
   "cell_type": "markdown",
   "id": "c146cbef-68f9-4ffd-afaf-f988fc02b672",
   "metadata": {},
   "source": [
    "`-` 모듈러 $m$에 대한 $a$의 역원 $x$는 다음을 만족한다\n",
    "\n",
    "`-` $ax \\equiv 1 \\pmod{m}$\n",
    "\n",
    "`-` $a$와 $m$이 서로소일 때만 역원 $x$가 존재한다"
   ]
  },
  {
   "cell_type": "markdown",
   "id": "85c52878-f832-4a96-a44e-c9280bc3ce04",
   "metadata": {},
   "source": [
    "## $\\sum$\n",
    "\n",
    "- 문제 출처: [백준 13172번](https://www.acmicpc.net/problem/13172)"
   ]
  },
  {
   "cell_type": "markdown",
   "id": "2ff71c63-da2e-4236-9160-3e22dc355be8",
   "metadata": {},
   "source": [
    "`-` 이 문제를 해결하려면 페르마의 소정리에 대한 이해가 필요하다\n",
    "\n",
    "`-` $p$가 소수이고 양의 정수 $a$가 있을 때 페르마의 소정리는 다음과 같다\n",
    "\n",
    "$$a^{p} \\equiv a \\pmod{p}$$\n",
    "\n",
    "`-` 만약 $a$가 $p$와 서로소라면, $a^{p-1} \\equiv 1 \\pmod{p}$\n",
    "\n",
    "`-` 이를 증명해보자 (수식으로 통해 증명하진 않을 것임)\n",
    "\n",
    "`-` 가능한 색상이 $a$개인 구슬 $p$개를 꿰어 팔찌를 만든다고 해보자 (단, $p$는 소수)\n",
    "\n",
    "`-` 구슬이 $p$개이고 색상이 $a$개이므로 총 경우의 수는 $a^p$가 된다\n",
    "\n",
    "`-` 팔찌를 회전시키는 것을 고려하면 경우의 수가 줄지만 회전을 고려하지 않는다고 해보자\n",
    "\n",
    "`-` 즉, 빨파초 팔찌와 파초빨 팔찌를 구분하여 도출한 경우의 수이다\n",
    "\n",
    "`-` 이제 $a^p$개의 팔찌를 회전시켰을 때 동일한 것끼리 그룹지어보자\n",
    "\n",
    "`-` 위의 예시를 다시 사용하면 빨파초, 파초빨, 초빨파 팔찌가 그룹지어지고 이들은 $p$개이다\n",
    "\n",
    "`-` 그런데 모든 그룹의 원소가 $p$개인 것은 아니다\n",
    "\n",
    "`-` 모든 구슬이 같은 색이라면 홀로 그룹지어지며 이런 경우는 총 $a$개이다\n",
    "\n",
    "`-` 모든 구슬이 같은 색은 아닌데 그룹의 원소가 $1$과 $p$ 사이인 경우도 생각해볼 수 있다\n",
    "\n",
    "`-` 예를 들어 $a=5, p=4$라면 빨초빨초, 초빨초빨 팔찌처럼 그룹의 원소가 $2$개일 수 있다\n",
    "\n",
    "`-` 위 팔찌의 주기가 $2$이기 때문에 그룹의 원소가 $\\frac{p}{2}=2$개인 것이다\n",
    "\n",
    "`-` 하지만 $p$를 소수로 가정하면 주기는 소수의 특성상 $1$과 자기 자신인 $p$뿐이다\n",
    "\n",
    "`-` 즉, 모든 구슬이 같은 경우를 제외하면 그룹의 원소는 $p$개이다\n",
    "\n",
    "`-` $a^p-a$는 $n$개의 그룹으로 나누어지며 각 그룹의 원소는 $p$개이므로 $p$의 배수이다\n",
    "\n",
    "`-` 따라서, $a^{p} \\equiv a \\pmod{p}$가 성립한다\n",
    "\n",
    "`-` 만약 $a$와 $p$가 서로소라면 $a^{p-1} \\equiv 1 \\pmod{p}$가 성립한다\n",
    "\n",
    "`-` 이제 페르마의 소정리에 대한 이해는 끝났고 본 문제로 돌아가자\n",
    "\n",
    "`-` $\\frac{a}{b}$인 기약분수에서 모듈러 곱셈 역원인 $b^{-1}$를 구해야 한다\n",
    "\n",
    "`-` 페르마의 소정리에 따라 $b\\cdot b^{p-2} \\equiv 1 \\pmod{p}$이므로 역원의 정의에 따라 $b^{-1} = b^{p-2}$이다\n",
    "\n",
    "`-` $ab^{-1}$을 $1000000007$로 나눈 나머지를 출력하면 정답이고 이는 $ab^{p-2}$를 $1000000007$로 나눈 나머지를 출력하는 것과 동일하다"
   ]
  },
  {
   "cell_type": "code",
   "execution_count": 27,
   "id": "b9ef2e27-7cf3-4792-ab01-e4e1f90d7666",
   "metadata": {},
   "outputs": [
    {
     "name": "stdin",
     "output_type": "stream",
     "text": [
      " 1\n",
      " 3 7\n"
     ]
    },
    {
     "name": "stdout",
     "output_type": "stream",
     "text": [
      "333333338\n"
     ]
    }
   ],
   "source": [
    "def solution():\n",
    "    M = int(input())\n",
    "    X = 1000000007\n",
    "    answer = 0\n",
    "    for _ in range(M):\n",
    "        N, S = map(int, input().split())\n",
    "        result = S * pow(N, X - 2, X)\n",
    "        answer += result\n",
    "        answer %= X\n",
    "    print(answer)\n",
    "\n",
    "\n",
    "solution()\n",
    "\n",
    "# input\n",
    "# 1\n",
    "# 3 7"
   ]
  },
  {
   "cell_type": "markdown",
   "id": "7a387273-dde4-4e9c-9156-5ded86dbb9a4",
   "metadata": {},
   "source": [
    "## 이항 계수 3\n",
    "\n",
    "- 문제 출처: [백준 11401번](https://www.acmicpc.net/problem/11401)"
   ]
  },
  {
   "cell_type": "markdown",
   "id": "a053fec3-becc-4df4-b8e2-622c5ba18047",
   "metadata": {},
   "source": [
    "`-` $\\binom{n}{k} = \\dfrac{n \\times (n-1)\\times \\cdots\\times(n-k+1)}{k \\times(k-1)\\times\\cdots\\times 1}$\n",
    "\n",
    "`-` $\\binom{n}{k}$을 $1000000007$로 나눈 나머지를 출력하면 되는데 $\\binom{n}{k}$을 계산한 후 $1000000007$로 나누는 것은 불가능하다\n",
    "\n",
    "`-` $n$이 최대 $4000000$이므로 $\\binom{n}{k}$이 너무 크기 때문이다\n",
    "\n",
    "`-` 그러면 $\\binom{n}{k}$을 계산하기 위해 $1$부터 시작하여 분자는 곱해주고 분모는 나눠주면서 동시에 $1000000007$로 나눈 나머지도 계산해야 한다\n",
    "\n",
    "`-` 곱하는 것만 하면 상관없지만 나누기 연산도 하기 때문에 $1000000007$로 나눈 나머지를 계산하면 값이 원래와 틀리게 된다\n",
    "\n",
    "`-` 이를 해결하려면 나누기를 곱하기로 바꾸면 되는데 나머지 연산을 고려해야 하므로 단순히 연수를 곱하는게 아닌 모듈러 곱셈 역원을 사용해야 한다\n",
    "\n",
    "`-` $1000000007$은 소수이므로 페르마의 소정리에 따라 $x$의 역원을 $1000000007$로 나눈 나머지는 $x^{ 1000000007 - 2}$를 $1000000007$로 나눈 나머지와 같다\n",
    "\n",
    "`-` 그리고 모듈러 성질에 따라 $x^{ 1000000007 - 2} \\mod 1000000007$은 $(((x\\mod1000000007) \\times (x\\mod1000000007)) \\mod 1000000007) \\cdots$과 같다\n",
    "\n",
    "`-` 거듭제곱은 분할 정복을 통해 $O(\\log K)$시간에 가능하다 (단, $K$는 지수)"
   ]
  },
  {
   "cell_type": "code",
   "execution_count": 6,
   "id": "e5481f8b-06e5-4f92-bf43-8de91abe208b",
   "metadata": {},
   "outputs": [
    {
     "name": "stdin",
     "output_type": "stream",
     "text": [
      " 5 2\n"
     ]
    },
    {
     "name": "stdout",
     "output_type": "stream",
     "text": [
      "10\n"
     ]
    }
   ],
   "source": [
    "def power(a, b, c):\n",
    "    a = a % c\n",
    "    if b <= 2:\n",
    "        return a**b % c\n",
    "    result = (power(a, b // 2, c) ** 2) % c\n",
    "    if b % 2 == 0:\n",
    "        return result\n",
    "    return (a * result) % c\n",
    "\n",
    "\n",
    "def solution():\n",
    "    N, K = map(int, input().split())\n",
    "    K = min(K, N - K)\n",
    "    P = 1000000007\n",
    "    numerator = 1\n",
    "    denominator = 1\n",
    "    for i in range(1, K + 1):\n",
    "        numerator *= N - i + 1\n",
    "        numerator %= P\n",
    "        denominator *= i\n",
    "        denominator %= P\n",
    "    denominator = power(denominator, P - 2, P)\n",
    "    print((numerator * denominator) % P)\n",
    "\n",
    "\n",
    "solution()\n",
    "\n",
    "# input\n",
    "# 5 2"
   ]
  },
  {
   "cell_type": "markdown",
   "id": "a543097a-7b8b-4cb5-ae3b-7d57e4015873",
   "metadata": {},
   "source": [
    "## 이항 계수와 쿼리\n",
    "\n",
    "- 문제 출처: [백준 13977번](https://www.acmicpc.net/problem/13977)"
   ]
  },
  {
   "cell_type": "markdown",
   "id": "c6754b23-3568-4129-ac6c-de4f76a9c42a",
   "metadata": {},
   "source": [
    "`-` 풀이 방법이 생각이 안나서 질문 검색 보고왔음\n",
    "\n",
    "`-` 조합의 기본 정의를 이용해야 한다\n",
    "\n",
    "`-` 원소 하나씩 곱하고 나누기만 하는 문제만 풀다보니 한 번에 계산해두는게 기억이 안났음\n",
    "\n",
    "`-` 문제 제목이 쿼리인데 생각을 못했네\n",
    "\n",
    "`-` 이미 계산한 이항 계수에 대해선 접근하는데 상수 시간만 요구되야 한다 (query)"
   ]
  },
  {
   "cell_type": "code",
   "execution_count": 8,
   "id": "530cf73e-ffb1-4712-8635-9025b208af82",
   "metadata": {
    "tags": []
   },
   "outputs": [
    {
     "name": "stdin",
     "output_type": "stream",
     "text": [
      " 5\n",
      " 5 2\n"
     ]
    },
    {
     "name": "stdout",
     "output_type": "stream",
     "text": [
      "10\n"
     ]
    },
    {
     "name": "stdin",
     "output_type": "stream",
     "text": [
      " 5 3\n"
     ]
    },
    {
     "name": "stdout",
     "output_type": "stream",
     "text": [
      "10\n"
     ]
    },
    {
     "name": "stdin",
     "output_type": "stream",
     "text": [
      " 10 5\n"
     ]
    },
    {
     "name": "stdout",
     "output_type": "stream",
     "text": [
      "252\n"
     ]
    },
    {
     "name": "stdin",
     "output_type": "stream",
     "text": [
      " 20 10\n"
     ]
    },
    {
     "name": "stdout",
     "output_type": "stream",
     "text": [
      "184756\n"
     ]
    },
    {
     "name": "stdin",
     "output_type": "stream",
     "text": [
      " 10 0\n"
     ]
    },
    {
     "name": "stdout",
     "output_type": "stream",
     "text": [
      "1\n"
     ]
    }
   ],
   "source": [
    "def power(a, b, c):\n",
    "    a = a % c\n",
    "    if b <= 2:\n",
    "        return a**b % c\n",
    "    result = (power(a, b // 2, c) ** 2) % c\n",
    "    if b % 2 == 0:\n",
    "        return result\n",
    "    return (a * result) % c\n",
    "\n",
    "\n",
    "def compute_num2factorial(n, mod):\n",
    "    num2fact = [1 for _ in range(n + 1)]\n",
    "    result = 1\n",
    "    for i in range(1, n + 1):\n",
    "        result *= i\n",
    "        result %= mod\n",
    "        num2fact[i] = result\n",
    "    return num2fact\n",
    "\n",
    "\n",
    "def solve_testcase(num2fact, m):\n",
    "    N, K = map(int, input().split())\n",
    "    K = min(K, N - K)\n",
    "    numerator = num2fact[N]\n",
    "    denominator = ((num2fact[N - K] % m) * (num2fact[K] % m)) % m\n",
    "    denominator = power(denominator, m - 2, m)\n",
    "    print((numerator * denominator) % m)\n",
    "\n",
    "\n",
    "def solution():\n",
    "    T = int(input())\n",
    "    P = 1000000007\n",
    "    N_MAX = 4000000\n",
    "    num2fact = compute_num2factorial(N_MAX, P)\n",
    "    for _ in range(T):\n",
    "        solve_testcase(num2fact, P)\n",
    "\n",
    "\n",
    "solution()\n",
    "\n",
    "# input\n",
    "# 5\n",
    "# 5 2\n",
    "# 5 3\n",
    "# 10 5\n",
    "# 20 10\n",
    "# 10 0"
   ]
  },
  {
   "cell_type": "markdown",
   "id": "5e12f313-056a-496c-95f7-e4610eda63eb",
   "metadata": {},
   "source": [
    "## 양 한 마리... 양 A마리... 양 A제곱마리...\n",
    "\n",
    "- 문제 출처: [백준 30413번](https://www.acmicpc.net/problem/30413)"
   ]
  },
  {
   "cell_type": "markdown",
   "id": "43e0a96d-822e-4cdf-a575-fae5cac2087f",
   "metadata": {},
   "source": [
    "`-` $B$가 매우 크므로 수열의 합을 일일이 계산해 합하는 것은 시간 초과에 걸린다\n",
    "\n",
    "`-` $1,A,A^2,\\cdots,A^{B-1}$은 등비가 $A$인 등비수열이다\n",
    "\n",
    "`-` 위 등비수열의 합은 $A=1$일 때를 제외하고 $\\dfrac{A^B-1}{A-1}$이므로 $B$번 연살할 필요가 없어졌다\n",
    "\n",
    "`-` 등비수열의 합이 매우 크므로 $P=1000000007$으로 나눈 나머지를 출력해야 한다\n",
    "\n",
    "`-` 분자는 거듭제곱을 하며 밑을 $P$로 나눈 나머지로 바꾸면 되고 이는 $\\log B$의 시간복잡도를 가진다\n",
    "\n",
    "`-` 분모는 나머지 연산을 제대로 동작시키기 위해 곱하기로 바꾸면 된다\n",
    "\n",
    "`-` 단순히 역수를 취하는건 안되고 모듈러 곱셈 역원을 사용해야 한다\n",
    "\n",
    "`-` $aa^{-1}\\equiv 1 \\pmod P$를 만족하는 $a^{-1}$이 모듈러 $P$에 대한 $a$의 역원이다\n",
    "\n",
    "`-` 페르마의 소정리에 따라 $aa^{p-2} \\equiv 1 \\pmod p$이므로 역원은 $a^{p-2}$이다\n",
    "\n",
    "`-` 즉 $(A-1)^{P-2}$를 분자에서 했던대로 계산하고 분자와 곱해주면 된다 "
   ]
  },
  {
   "cell_type": "code",
   "execution_count": 6,
   "id": "26257e94-7c5b-4c19-8a0a-d61a512937c3",
   "metadata": {},
   "outputs": [
    {
     "name": "stdin",
     "output_type": "stream",
     "text": [
      " 3 4\n"
     ]
    },
    {
     "name": "stdout",
     "output_type": "stream",
     "text": [
      "40\n"
     ]
    }
   ],
   "source": [
    "def power(a, b, c):\n",
    "    a = a % c\n",
    "    if b <= 2:\n",
    "        return a**b % c\n",
    "    result = (power(a, b // 2, c) ** 2) % c\n",
    "    if b % 2 == 0:\n",
    "        return result\n",
    "    return (a * result) % c\n",
    "\n",
    "\n",
    "def solution():\n",
    "    A, B = map(int, input().split())\n",
    "    P = 1000000007\n",
    "    if A == 1:\n",
    "        print(B % P)\n",
    "        return\n",
    "    numerator = (power(A, B, P) - 1) % P\n",
    "    denominator = power(A - 1, P - 2, P)\n",
    "    print((numerator * denominator) % P)\n",
    "\n",
    "\n",
    "solution()\n",
    "\n",
    "# input\n",
    "# 3 4"
   ]
  },
  {
   "cell_type": "markdown",
   "id": "a2a47796-87b1-4f13-b326-84fce46ec36a",
   "metadata": {},
   "source": [
    "## 조합 (Combination)\n",
    "\n",
    "- 문제 출처: [백준 16134번](https://www.acmicpc.net/problem/16134)"
   ]
  },
  {
   "cell_type": "markdown",
   "id": "908aebf1-7dce-4623-86a7-4d120f55c8c2",
   "metadata": {},
   "source": [
    "`-` $\\binom{N}{R}$을 $10^9+7$로 나눈 나머지를 계산하는 문제이다\n",
    "\n",
    "`-` 페르마의 소정리를 활용한 모듈러 곱셈 역원과 분할 정복을 이용한 거듭 제곱을 활용하면 간단하게 해결할 수 있다"
   ]
  },
  {
   "cell_type": "code",
   "execution_count": 3,
   "id": "e289359b-2148-4159-b516-0d399bfe56ac",
   "metadata": {},
   "outputs": [
    {
     "name": "stdin",
     "output_type": "stream",
     "text": [
      " 30 15\n"
     ]
    },
    {
     "name": "stdout",
     "output_type": "stream",
     "text": [
      "155117520\n"
     ]
    }
   ],
   "source": [
    "def power(a, b, c):\n",
    "    a = a % c\n",
    "    if b == 1:\n",
    "        return a\n",
    "    half = power(a, b // 2, c)\n",
    "    result = half**2 % c\n",
    "    if b % 2 == 0:\n",
    "        return result\n",
    "    return (a * result) % c\n",
    "\n",
    "\n",
    "def solution():\n",
    "    N, R = map(int, input().split())\n",
    "    P = 10**9 + 7\n",
    "    R = min(N - R, R)\n",
    "    if R == 0:\n",
    "        print(1)\n",
    "        return\n",
    "    if R == 1:\n",
    "        print(N)\n",
    "        return\n",
    "    numerator = 1\n",
    "    for i in range(N - R + 1, N + 1):\n",
    "        numerator *= i\n",
    "        numerator %= P\n",
    "    denominator = 1\n",
    "    for i in range(1, R + 1):\n",
    "        denominator *= i\n",
    "        denominator %= P\n",
    "    denominator = power(denominator, P - 2, P)\n",
    "    answer = (numerator * denominator) % P\n",
    "    print(answer)\n",
    "\n",
    "\n",
    "solution()\n",
    "\n",
    "# input\n",
    "# 30 15"
   ]
  },
  {
   "cell_type": "markdown",
   "id": "72078f20-9fbd-49da-a364-3c9e6f414e2d",
   "metadata": {},
   "source": [
    "## 조합의 합의 합\n",
    "\n",
    "- 문제 출처: [백준 25823번](https://www.acmicpc.net/problem/25823)"
   ]
  },
  {
   "cell_type": "markdown",
   "id": "040a93bc-f6a1-4eff-b547-ace26022ce8a",
   "metadata": {},
   "source": [
    "`-` $\\sum\\limits_{k=0}^{n} \\binom{n}{k}^2 = \\binom{2n}{n}$임을 보이자\n",
    "\n",
    "`-` $(1+x)^n = \\binom{n}{0} x^n + \\binom{n}{1} x^{n-1} + \\cdots + \\binom{n}{n-1} x + \\binom{n}{n}$\n",
    "\n",
    "`-` $(1+x)^{2n} = \\binom{2n}{0} x^{2n} + \\binom{2n}{1} x^{2n-1} + \\cdots + \\binom{2n}{n}x^n + \\cdots + \\binom{2n}{2n-1}x + \\binom{2n}{2n}$\n",
    "\n",
    "`-` $(1+x)^{2n} = (1+x)^{n}(1+x)^{n} = \\left(\\binom{n}{0} x^n + \\cdots +  \\binom{n}{n}\\right) \\cdot \\left(\\binom{n}{0} x^n + \\cdots +  \\binom{n}{n}\\right) = \\cdots + \\sum\\limits_{k=0}^{n} \\binom{n}{k}\\binom{n}{n-k} x^n  + \\cdots$\n",
    "\n",
    "`-` $(1+x)^{2n}$을 전개했을 때 $x^{2n}$의 계수는 같아야 하므로 $\\sum\\limits_{k=0}^{n} \\binom{n}{k}\\binom{n}{n-k} = \\sum\\limits_{k=0}^{n} \\binom{n}{k}^2 =\\binom{2n}{n}$\n",
    "\n",
    "`-` 결과적으로 $\\sum\\limits_{n=3}^{M} \\binom{2n}{n} = \\binom{6}{3} + \\binom{8}{4} + \\cdots + \\binom{2M}{M}$을 계산하면 된다\n",
    "\n",
    "`-` 이를 단순하게 계산하면 $O\\left(M^2\\right)$의 시간 복잡도를 가진다\n",
    "\n",
    "`-` $\\binom{n}{k} = \\dfrac{n!}{k!(n-k)!}$이므로 $1!$부터 $(2M)!$까지 미리 계산하면 $\\binom{n}{k}$을 $O(1)$에 구할 수 있다\n",
    "\n",
    "`-` 근데 이제 팩토리얼 값을 $P=10^9+7$로 나눈 나머지로 가지고 있어야 한다\n",
    "\n",
    "`-` $\\sum\\limits_{n=3}^{M}$의 각 항에 대해 페르마의 소정리를 이용해 분모의 모듈러 역원을 계산해 분자와 곱하자\n",
    "\n",
    "`-` 각 항들을 전부 더하고 $P$로 나눈 나머지를 계산하면 정답이다"
   ]
  },
  {
   "cell_type": "code",
   "execution_count": 2,
   "id": "aad7fbda-8d64-4012-b2f3-9f37d79588a7",
   "metadata": {},
   "outputs": [
    {
     "name": "stdin",
     "output_type": "stream",
     "text": [
      " 100\n"
     ]
    },
    {
     "name": "stdout",
     "output_type": "stream",
     "text": [
      "171282861\n"
     ]
    }
   ],
   "source": [
    "def solution():\n",
    "    M = int(input())\n",
    "    P = 10**9 + 7\n",
    "    factorials = [1] * (2 * M + 1)\n",
    "    for i in range(2, 2 * M + 1):\n",
    "        factorials[i] = (i * factorials[i - 1]) % P\n",
    "    answer = 0\n",
    "    for n in range(3, M + 1):\n",
    "        numerator = factorials[2 * n]\n",
    "        denominator = (factorials[n] * factorials[n]) % P\n",
    "        answer += (numerator * pow(denominator, P - 2, P)) % P\n",
    "        answer %= P\n",
    "    print(answer)\n",
    "\n",
    "\n",
    "solution()\n",
    "\n",
    "# input\n",
    "# 100"
   ]
  },
  {
   "cell_type": "markdown",
   "id": "342fc117-80fc-4b0f-97e9-18b016f687fb",
   "metadata": {},
   "source": [
    "## 추첨상 사수 대작전! (Hard)\n",
    "\n",
    "- 문제 출처: [백준 20412번](https://www.acmicpc.net/problem/20412)"
   ]
  },
  {
   "cell_type": "markdown",
   "id": "892c023b-28e5-421a-99a8-682517b1b406",
   "metadata": {},
   "source": [
    "`-` $a\\times seed + c$가 $m$의 배수면 $X_1$은 $0$이다\n",
    "\n",
    "`-` 근데 문제 조건에서 $X_1> 0$이므로 $m$의 배수가 아니다\n",
    "\n",
    "`-` 이는 $X_2$도 마찬가지다\n",
    "\n",
    "`-` $X_1 \\equiv (a\\times seed + c) \\pmod m$\n",
    "\n",
    "`-` $X_1 - c \\equiv a\\times seed \\pmod m$\n",
    "\n",
    "`-` $(X_1 - c)\\times seed^{-1} \\equiv a \\pmod m$\n",
    "\n",
    "`-` $(X_2 - c)\\times X_1^{-1} \\equiv a \\pmod m$\n",
    "\n",
    "`-` 위에서의 역수는 모듈러 곱셈 역원을 뜻한다\n",
    "\n",
    "`-` $seed, X_1, X_2$는 상수이므로 위의 연립 방정식을 통해 $c$를 계산할 수 있다\n",
    "\n",
    "`-` $(X_1 - c)\\times seed^{-1} \\equiv (X_2 - c)\\times X_1^{-1}  \\pmod m$\n",
    "\n",
    "`-` $X_1\\times seed^{-1} - c\\times seed^{-1} \\equiv X_2X_1^{-1} - cX_1^{-1} \\pmod m$\n",
    "\n",
    "`-` $(X_1^{-1} - seed^{-1})c \\equiv X_1^{-1} X_2 - seed^{-1} X_1 \\pmod m$\n",
    "\n",
    "`-` $c  \\equiv  \\dfrac{X_1^{-1} X_2 - seed^{-1} X_1}{X_1^{-1} - seed^{-1}} \\pmod m$\n",
    "\n",
    "`-` 그런데 $c < m$이므로 $c \\mod m$의 결과는 $c$와 같다\n",
    "\n",
    "`-` 따라서 $\\dfrac{X_1^{-1} X_2 - seed^{-1} X_1}{X_1^{-1} - seed^{-1}} \\mod m$의 결과가 $c$이다\n",
    "\n",
    "`-` $m$이 소수이고 $X_1, seed < m$이여서 이들과 서로소이므로 페르마의 소정리를 바탕으로 역원 계산 가능하다\n",
    "\n",
    "`-` 계산한 $c$를 바탕으로 $a$도 계산 가능하다\n",
    "\n",
    "`-` $a \\equiv (X_1 - c)\\times seed^{-1} \\pmod m$\n",
    "\n",
    "`-` 그런데 $a < m$이므로 $a \\mod m$의 결과는 $a$와 같다\n",
    "\n",
    "`-` 따라서 $(X_1 - c)\\times seed^{-1} \\mod m$의 결과가 $a$이다\n",
    "\n",
    "`-` 지수가 큰 거듭제곱의 결과를 $m$으로 나눈 나머지를 계산할 땐 분할 정복을 사용해야 하는데 여태까지 많이 했으니까 파이썬 내장 함수를 사용하겠다"
   ]
  },
  {
   "cell_type": "code",
   "execution_count": 2,
   "id": "dbe2421c-a43a-4f58-ada0-273e418df035",
   "metadata": {},
   "outputs": [
    {
     "name": "stdin",
     "output_type": "stream",
     "text": [
      " 13 5 2 9\n"
     ]
    },
    {
     "name": "stdout",
     "output_type": "stream",
     "text": [
      "2 5\n"
     ]
    }
   ],
   "source": [
    "def solution():\n",
    "    m, seed, X1, X2 = map(int, input().split())\n",
    "    X1_inv = pow(X1, m - 2, m)\n",
    "    seed_inv = pow(seed, m - 2, m)\n",
    "    k = X1_inv - seed_inv\n",
    "    c = ((X1_inv * X2 - seed_inv * X1) * pow(X1_inv - seed_inv, m - 2, m)) % m\n",
    "    a = ((X1 - c) * seed_inv) % m\n",
    "    print(a, c)\n",
    "\n",
    "\n",
    "solution()\n",
    "\n",
    "# input\n",
    "# 13 5 2 9"
   ]
  },
  {
   "cell_type": "markdown",
   "id": "37e02350-5e35-4a6c-80cd-94cd91ba0fc9",
   "metadata": {},
   "source": [
    "## 역원(Inverse) 구하기\n",
    "\n",
    "- 문제 출처: [백준 14565번](https://www.acmicpc.net/problem/14565)"
   ]
  },
  {
   "cell_type": "markdown",
   "id": "5266c756-1c30-430b-b15d-6ccb41673d20",
   "metadata": {},
   "source": [
    "`-` $0 \\le a, b, c < n$임을 인지하자 (이들은 문제에서 주어진 집합 $Z_n$의 원소이기 때문이다)\n",
    "\n",
    "`-` 먼저 덧셈역을 구하자\n",
    "\n",
    "`-` 모듈러 $n$에 대한 $a$의 덧셈역 $b$를 구하면 다음과 같다\n",
    "\n",
    "`-` $a < n$이므로 $b = n - a$\n",
    "\n",
    "`-` 이제 곱셈역을 구하자\n",
    "\n",
    "`-` $a, n$이 서로소여야 모듈러 $n$에 대한 $a$의 곱셈역이 존재한다\n",
    "\n",
    "`-` $n$에 대한 $a$의 모듈러 곱셈 역원은 다음 정의를 만족하는 $x$이다\n",
    "\n",
    "`-` $ax \\equiv 1 \\pmod n$\n",
    "\n",
    "`-` 이는 $ax = np + 1$로 나타낼 수 있다\n",
    "\n",
    "`-` 정리하면 $ax - np = 1 \\to ax + ny = 1$\n",
    "\n",
    "`-` 이는 베주의 항등식이다\n",
    "\n",
    "`-` 이를 만족하는 정수해 $(x, y)$는 $\\gcd(a, n) = 1$일 때 존재한다\n",
    "\n",
    "`-` 따라서 $a, n$이 서로소여야 되고 이때의 곱셈역은 $x$이다\n",
    "\n",
    "`-` $a$와 $n$의 최대 공약수가 $1$이면 되고 이는 유클리드 호제법으로 $O(\\log n)$에 계산 가능하다\n",
    "\n",
    "`-` 이제 둘이 서로소일 때 확장 유클리드 알고리즘으로 곱셈역을 구해보자\n",
    "\n",
    "`-` $ax + by = \\gcd(a, b)$에서 $a, b (a \\ge b)$가 입력으로 주어지면 $x, y, \\gcd(a, b)$를 반환하는 함수 $f$를 고려하자\n",
    "\n",
    "`-` 종료조건으로 $b = 0$이면 함수는 $1, 0, a$를 반환한다\n",
    "\n",
    "`-` $\\gcd(a, b) = \\gcd(b, r)$, 단 $r$은 $a$를 $b$로 나눈 나머지 ($a = bq + r$)\n",
    "\n",
    "`-` $bx' + ry' = \\gcd(b, r) = \\gcd(a, b) = ax + by$\n",
    "\n",
    "`-` $bx' + ry' = ax + by$\n",
    "\n",
    "`-` $bx' + ry' = (bq + r)x + by$\n",
    "\n",
    "`-` $bx' + ry' = b(qx + y) + rx$\n",
    "\n",
    "`-` 따라서 $x' = qx + y, y' = x$\n",
    "\n",
    "`-` $x = y'$\n",
    "\n",
    "`-` $y = x' - qx$ ($q$는 $a$를 $b$로 나눈 몫)\n",
    "\n",
    "`-` 만약 곱셈역이 음수라면 $n$을 더해 양수로 만들어 곱셈역이 집합 $Z_n$에 속하게 만들어 주자"
   ]
  },
  {
   "cell_type": "code",
   "execution_count": 1,
   "id": "c05bcd33-6e32-4bb1-abd8-ef675bdea929",
   "metadata": {},
   "outputs": [
    {
     "name": "stdin",
     "output_type": "stream",
     "text": [
      " 26 11\n"
     ]
    },
    {
     "name": "stdout",
     "output_type": "stream",
     "text": [
      "15 19\n"
     ]
    }
   ],
   "source": [
    "def extended_euclidean(a, b):\n",
    "    if b == 0:\n",
    "        return 1, 0, a\n",
    "    x_prime, y_prime, gcd = extended_euclidean(b, a % b)\n",
    "    return y_prime, x_prime - (a // b) * y_prime, gcd\n",
    "\n",
    "\n",
    "def compute_gcd(a, b):\n",
    "    if b == 0:\n",
    "        return a\n",
    "    return compute_gcd(b, a % b)\n",
    "\n",
    "\n",
    "def solution():\n",
    "    N, A = map(int, input().split())\n",
    "    sum_inv = N - A\n",
    "    gcd = compute_gcd(N, A)\n",
    "    if gcd != 1:\n",
    "        print(sum_inv, -1)\n",
    "        return\n",
    "    mul_inv, _, _ = extended_euclidean(A, N)\n",
    "    if mul_inv < 0:\n",
    "        mul_inv += N\n",
    "    print(sum_inv, mul_inv)\n",
    "\n",
    "\n",
    "solution()\n",
    "\n",
    "# input\n",
    "# 26 11"
   ]
  },
  {
   "cell_type": "markdown",
   "id": "2581c1f1-71d5-4b00-b58b-f4f96b0a74fe",
   "metadata": {},
   "source": [
    "## 캔디 분배\n",
    "\n",
    "- 문제 출처: [백준 3955번](https://www.acmicpc.net/problem/3955)"
   ]
  },
  {
   "cell_type": "markdown",
   "id": "6a912e68-167e-465e-b619-d719f9629a20",
   "metadata": {},
   "source": [
    "`-` KX + 1 = CY\n",
    "\n",
    "`-` CY - KX' = 1\n",
    "\n",
    "`-` KX + CY = 1\n",
    "\n",
    "`-` Y를 계산하면 된다\n",
    "\n",
    "`-` N에 대한 a의 곱셈역 => ax = kN + 1\n",
    "\n",
    "`-` ax + Ny = 1\n",
    "\n",
    "`-` K와 C가 서로소여야 한다 (GCD(K, C) = 1)\n",
    "\n",
    "`-` 그래야 정수해 X, Y가 존재함\n",
    "\n",
    "`-` Y가 음수면 K를 더해주자\n",
    "\n",
    "`-` 확장된 유클리드 알고리즘으로 $O(log N)$에 계산하자 (N = max(K, C))\n",
    "\n",
    "`-` ax + by = gcd(a, b)\n",
    "\n",
    "`-` a = bq + r\n",
    "\n",
    "`-` gcd(b, r) = bx' + ry' = gcd(a, b)\n",
    "\n",
    "`-` bqx + rx + by = 1\n",
    "\n",
    "`-` b(qx + y) + rx = 1\n",
    "\n",
    "`-` 따라서 x' = qx + y, y' = x\n",
    "\n",
    "`-` x = y', y = x' - qy', 단 q는 a를 b로 나눈 몫\n",
    "\n",
    "`-` y가 0이면 K로 나눈 나머지가 0이라는 것으로 y가 K와 같다\n",
    "\n",
    "`-` y가 K일수 없음, 그럼 양변을 K로 나눈 나머지가 다르다\n",
    "\n",
    "`-` K = 1이면 CY를 K로 나눈 나머지가 0이다\n",
    "\n",
    "`-` 그 외의 경우엔 CY를 K로 나눈 나머지는 1임\n",
    "\n",
    "`-` K = 1이면 X + 1 = CY이고 Y = 2라 하면 X + 1 = 2C로 X = 2C - 1 > 0임\n",
    "\n",
    "`-` Y가 10^9을 넘길 수 있다\n",
    "\n",
    "`-` 아니 K로 Y를 나눈 나머지를 사용하는데 무슨 소리임?\n",
    "\n",
    "`-` KX + 1 = CY가 성립하는지 봐야 된다\n",
    "\n",
    "`-` 이게 성립안하면 IMPOSSIBLE이다\n",
    "\n",
    "`-` 질문검색 보고 옴\n",
    "\n",
    "`-` C = 1일 때 체크해야 한다고 한다\n",
    "\n",
    "`-` 일단 둘 다 1이면 y도 1 가능\n",
    "\n",
    "`-` C = 1이면 X에 1 넣고 y = K + 1로 하면 된다\n",
    "\n",
    "`-` 정확히는 X 또는 Y가 0이면 안된다 (그럼 사탕 분배 안 됨)\n",
    "\n",
    "`-` 그런데 X = 0이면 C = 1이고 Y = 0이면 K = 1이고 X = -1이다\n",
    "\n",
    "`-` 그래서 엣지 케이스인 C = 1, K = 1 예외처리 하는 거임"
   ]
  },
  {
   "cell_type": "code",
   "execution_count": 2,
   "id": "4b068da2-bb9a-4ad5-9774-31a3db385e79",
   "metadata": {},
   "outputs": [
    {
     "name": "stdin",
     "output_type": "stream",
     "text": [
      " 5\n",
      " 10 5\n"
     ]
    },
    {
     "name": "stdout",
     "output_type": "stream",
     "text": [
      "IMPOSSIBLE\n"
     ]
    },
    {
     "name": "stdin",
     "output_type": "stream",
     "text": [
      " 10 7\n"
     ]
    },
    {
     "name": "stdout",
     "output_type": "stream",
     "text": [
      "3\n"
     ]
    },
    {
     "name": "stdin",
     "output_type": "stream",
     "text": [
      " 1337 23\n"
     ]
    },
    {
     "name": "stdout",
     "output_type": "stream",
     "text": [
      "872\n"
     ]
    },
    {
     "name": "stdin",
     "output_type": "stream",
     "text": [
      " 123454321 42\n"
     ]
    },
    {
     "name": "stdout",
     "output_type": "stream",
     "text": [
      "14696943\n"
     ]
    },
    {
     "name": "stdin",
     "output_type": "stream",
     "text": [
      " 999999937 142857133\n"
     ]
    },
    {
     "name": "stdout",
     "output_type": "stream",
     "text": [
      "166666655\n"
     ]
    }
   ],
   "source": [
    "def compute_gcd(a, b):\n",
    "    if b == 0:\n",
    "        return a\n",
    "    return compute_gcd(b, a % b)\n",
    "\n",
    "\n",
    "def f(a, b):\n",
    "    if b == 0:\n",
    "        return 1, 0, a\n",
    "    x_prime, y_prime, gcd = f(b, a % b)\n",
    "    return y_prime, x_prime - (a // b) * y_prime, gcd\n",
    "\n",
    "\n",
    "def solution():\n",
    "    t = int(input())\n",
    "    for _ in range(t):\n",
    "        K, C = map(int, input().split())\n",
    "        gcd = compute_gcd(K, C)\n",
    "        if gcd != 1:\n",
    "            print(\"IMPOSSIBLE\")\n",
    "            continue\n",
    "        x, y, gcd = f(K, C)\n",
    "        if y < 0:\n",
    "            y += K\n",
    "        if K == 1:\n",
    "            print(2)\n",
    "        elif y > 10**9:\n",
    "            print(\"IMPOSSIBLE\")\n",
    "        elif C == 1:\n",
    "            if K + 1 > 10**9:\n",
    "                print(\"IMPOSSIBLE\")\n",
    "            else:\n",
    "                print(K + 1)\n",
    "        else:\n",
    "            print(y)\n",
    "\n",
    "\n",
    "solution()\n",
    "\n",
    "# input\n",
    "# 5\n",
    "# 10 5\n",
    "# 10 7\n",
    "# 1337 23\n",
    "# 123454321 42\n",
    "# 999999937 142857133"
   ]
  },
  {
   "cell_type": "code",
   "execution_count": null,
   "id": "4e01d6c0-9356-4da0-a284-e64c56e6c8d1",
   "metadata": {},
   "outputs": [],
   "source": []
  }
 ],
 "metadata": {
  "kernelspec": {
   "display_name": "Python 3 (ipykernel)",
   "language": "python",
   "name": "python3"
  },
  "language_info": {
   "codemirror_mode": {
    "name": "ipython",
    "version": 3
   },
   "file_extension": ".py",
   "mimetype": "text/x-python",
   "name": "python",
   "nbconvert_exporter": "python",
   "pygments_lexer": "ipython3",
   "version": "3.8.11"
  }
 },
 "nbformat": 4,
 "nbformat_minor": 5
}
