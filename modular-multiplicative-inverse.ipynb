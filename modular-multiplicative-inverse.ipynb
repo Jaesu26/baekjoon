{
 "cells": [
  {
   "cell_type": "markdown",
   "id": "85c4132d-38de-4757-ab1d-8725151d032f",
   "metadata": {},
   "source": [
    "## 모듈러 곱셈 역원 (Modular Multiplicative Inverse)"
   ]
  },
  {
   "cell_type": "markdown",
   "id": "c146cbef-68f9-4ffd-afaf-f988fc02b672",
   "metadata": {},
   "source": [
    "`-` 모듈러 $m$에 대한 $a$의 역원 $x$는 다음을 만족한다\n",
    "\n",
    "`-` $ax \\equiv 1 \\pmod{m}$\n",
    "\n",
    "`-` $a$와 $m$이 서로소일 때만 역원 $x$가 존재한다"
   ]
  },
  {
   "cell_type": "markdown",
   "id": "85c52878-f832-4a96-a44e-c9280bc3ce04",
   "metadata": {},
   "source": [
    "## $\\sum$\n",
    "\n",
    "- 문제 출처: [백준 13172번](https://www.acmicpc.net/problem/13172)"
   ]
  },
  {
   "cell_type": "markdown",
   "id": "2ff71c63-da2e-4236-9160-3e22dc355be8",
   "metadata": {},
   "source": [
    "`-` 이 문제를 해결하려면 페르마의 소정리에 대한 이해가 필요하다\n",
    "\n",
    "`-` $p$가 소수이고 양의 정수 $a$가 있을 때 페르마의 소정리는 다음과 같다\n",
    "\n",
    "$$a^{p} \\equiv a \\pmod{p}$$\n",
    "\n",
    "`-` 만약 $a$가 $p$와 서로소라면, $a^{p-1} \\equiv 1 \\pmod{p}$\n",
    "\n",
    "`-` 이를 증명해보자 (수식으로 통해 증명하진 않을 것임)\n",
    "\n",
    "`-` 가능한 색상이 $a$개인 구슬 $p$개를 꿰어 팔찌를 만든다고 해보자 (단, $p$는 소수)\n",
    "\n",
    "`-` 구슬이 $p$개이고 색상이 $a$개이므로 총 경우의 수는 $a^p$가 된다\n",
    "\n",
    "`-` 팔찌를 회전시키는 것을 고려하면 경우의 수가 줄지만 회전을 고려하지 않는다고 해보자\n",
    "\n",
    "`-` 즉, 빨파초 팔찌와 파초빨 팔찌를 구분하여 도출한 경우의 수이다\n",
    "\n",
    "`-` 이제 $a^p$개의 팔찌를 회전시켰을 때 동일한 것끼리 그룹지어보자\n",
    "\n",
    "`-` 위의 예시를 다시 사용하면 빨파초, 파초빨, 초빨파 팔찌가 그룹지어지고 이들은 $p$개이다\n",
    "\n",
    "`-` 그런데 모든 그룹의 원소가 $p$개인 것은 아니다\n",
    "\n",
    "`-` 모든 구슬이 같은 색이라면 홀로 그룹지어지며 이런 경우는 총 $a$개이다\n",
    "\n",
    "`-` 모든 구슬이 같은 색은 아닌데 그룹의 원소가 $1$과 $p$ 사이인 경우도 생각해볼 수 있다\n",
    "\n",
    "`-` 예를 들어 $a=5, p=4$라면 빨초빨초, 초빨초빨 팔찌처럼 그룹의 원소가 $2$개일 수 있다\n",
    "\n",
    "`-` 위 팔찌의 주기가 $2$이기 때문에 그룹의 원소가 $\\frac{p}{2}=2$개인 것이다\n",
    "\n",
    "`-` 하지만 $p$를 소수로 가정하면 주기는 소수의 특성상 $1$과 자기 자신인 $p$뿐이다\n",
    "\n",
    "`-` 즉, 모든 구슬이 같은 경우를 제외하면 그룹의 원소는 $p$개이다\n",
    "\n",
    "`-` $a^p-a$는 $n$개의 그룹으로 나누어지며 각 그룹의 원소는 $p$개이므로 $p$의 배수이다\n",
    "\n",
    "`-` 따라서, $a^{p} \\equiv a \\pmod{p}$가 성립한다\n",
    "\n",
    "`-` 만약 $a$와 $p$가 서로소라면 $a^{p-1} \\equiv 1 \\pmod{p}$가 성립한다\n",
    "\n",
    "`-` 이제 페르마의 소정리에 대한 이해는 끝났고 본 문제로 돌아가자\n",
    "\n",
    "`-` $\\frac{a}{b}$인 기약분수에서 모듈러 곱셈 역원인 $b^{-1}$를 구해야 한다\n",
    "\n",
    "`-` 페르마의 소정리에 따라 $b\\cdot b^{p-2} \\equiv 1 \\pmod{p}$이므로 역원의 정의에 따라 $b^{-1} = b^{p-2}$이다\n",
    "\n",
    "`-` $ab^{-1}$을 $1000000007$로 나눈 나머지를 출력하면 정답이고 이는 $ab^{p-2}$를 $1000000007$로 나눈 나머지를 출력하는 것과 동일하다"
   ]
  },
  {
   "cell_type": "code",
   "execution_count": 27,
   "id": "b9ef2e27-7cf3-4792-ab01-e4e1f90d7666",
   "metadata": {},
   "outputs": [
    {
     "name": "stdin",
     "output_type": "stream",
     "text": [
      " 1\n",
      " 3 7\n"
     ]
    },
    {
     "name": "stdout",
     "output_type": "stream",
     "text": [
      "333333338\n"
     ]
    }
   ],
   "source": [
    "def solution():\n",
    "    M = int(input())\n",
    "    X = 1000000007\n",
    "    answer = 0\n",
    "    for _ in range(M):\n",
    "        N, S = map(int, input().split())\n",
    "        result = S * pow(N, X - 2, X)\n",
    "        answer += result\n",
    "        answer %= X\n",
    "    print(answer)\n",
    "\n",
    "\n",
    "solution()\n",
    "\n",
    "# input\n",
    "# 1\n",
    "# 3 7"
   ]
  },
  {
   "cell_type": "markdown",
   "id": "7a387273-dde4-4e9c-9156-5ded86dbb9a4",
   "metadata": {},
   "source": [
    "## 이항 계수 3\n",
    "\n",
    "- 문제 출처: [백준 11401번](https://www.acmicpc.net/problem/11401)"
   ]
  },
  {
   "cell_type": "markdown",
   "id": "a053fec3-becc-4df4-b8e2-622c5ba18047",
   "metadata": {},
   "source": [
    "`-` $\\binom{n}{k} = \\dfrac{n \\times (n-1)\\times \\cdots\\times(n-k+1)}{k \\times(k-1)\\times\\cdots\\times 1}$\n",
    "\n",
    "`-` $\\binom{n}{k}$을 $1000000007$로 나눈 나머지를 출력하면 되는데 $\\binom{n}{k}$을 계산한 후 $1000000007$로 나누는 것은 불가능하다\n",
    "\n",
    "`-` $n$이 최대 $4000000$이므로 $\\binom{n}{k}$이 너무 크기 때문이다\n",
    "\n",
    "`-` 그러면 $\\binom{n}{k}$을 계산하기 위해 $1$부터 시작하여 분자는 곱해주고 분모는 나눠주면서 동시에 $1000000007$로 나눈 나머지도 계산해야 한다\n",
    "\n",
    "`-` 곱하는 것만 하면 상관없지만 나누기 연산도 하기 때문에 $1000000007$로 나눈 나머지를 계산하면 값이 원래와 틀리게 된다\n",
    "\n",
    "`-` 이를 해결하려면 나누기를 곱하기로 바꾸면 되는데 나머지 연산을 고려해야 하므로 단순히 연수를 곱하는게 아닌 모듈러 곱셈 역원을 사용해야 한다\n",
    "\n",
    "`-` $1000000007$은 소수이므로 페르마의 소정리에 따라 $x$의 역원을 $1000000007$로 나눈 나머지는 $x^{ 1000000007 - 2}$를 $1000000007$로 나눈 나머지와 같다\n",
    "\n",
    "`-` 그리고 모듈러 성질에 따라 $x^{ 1000000007 - 2} \\mod 1000000007$은 $(((x\\mod1000000007) \\times (x\\mod1000000007)) \\mod 1000000007) \\cdots$과 같다\n",
    "\n",
    "`-` 거듭제곱은 분할 정복을 통해 $O(\\log K)$시간에 가능하다 (단, $K$는 지수)"
   ]
  },
  {
   "cell_type": "code",
   "execution_count": 6,
   "id": "e5481f8b-06e5-4f92-bf43-8de91abe208b",
   "metadata": {},
   "outputs": [
    {
     "name": "stdin",
     "output_type": "stream",
     "text": [
      " 5 2\n"
     ]
    },
    {
     "name": "stdout",
     "output_type": "stream",
     "text": [
      "10\n"
     ]
    }
   ],
   "source": [
    "def power(a, b, c):\n",
    "    a = a % c\n",
    "    if b <= 2:\n",
    "        return a**b % c\n",
    "    result = (power(a, b // 2, c) ** 2) % c\n",
    "    if b % 2 == 0:\n",
    "        return result\n",
    "    return (a * result) % c\n",
    "\n",
    "\n",
    "def solution():\n",
    "    N, K = map(int, input().split())\n",
    "    K = min(K, N - K)\n",
    "    P = 1000000007\n",
    "    numerator = 1\n",
    "    denominator = 1\n",
    "    for i in range(1, K + 1):\n",
    "        numerator *= N - i + 1\n",
    "        numerator %= P\n",
    "        denominator *= i\n",
    "        denominator %= P\n",
    "    denominator = power(denominator, P - 2, P)\n",
    "    print((numerator * denominator) % P)\n",
    "\n",
    "\n",
    "solution()\n",
    "\n",
    "# input\n",
    "# 5 2"
   ]
  },
  {
   "cell_type": "markdown",
   "id": "a543097a-7b8b-4cb5-ae3b-7d57e4015873",
   "metadata": {},
   "source": [
    "## 이항 계수와 쿼리\n",
    "\n",
    "- 문제 출처: [백준 13977번](https://www.acmicpc.net/problem/13977)"
   ]
  },
  {
   "cell_type": "markdown",
   "id": "c6754b23-3568-4129-ac6c-de4f76a9c42a",
   "metadata": {},
   "source": [
    "`-` 풀이 방법이 생각이 안나서 질문 검색 보고왔음\n",
    "\n",
    "`-` 조합의 기본 정의를 이용해야 한다\n",
    "\n",
    "`-` 원소 하나씩 곱하고 나누기만 하는 문제만 풀다보니 한 번에 계산해두는게 기억이 안났음\n",
    "\n",
    "`-` 문제 제목이 쿼리인데 생각을 못했네\n",
    "\n",
    "`-` 이미 계산한 이항 계수에 대해선 접근하는데 상수 시간만 요구되야 한다 (query)"
   ]
  },
  {
   "cell_type": "code",
   "execution_count": 8,
   "id": "530cf73e-ffb1-4712-8635-9025b208af82",
   "metadata": {
    "tags": []
   },
   "outputs": [
    {
     "name": "stdin",
     "output_type": "stream",
     "text": [
      " 5\n",
      " 5 2\n"
     ]
    },
    {
     "name": "stdout",
     "output_type": "stream",
     "text": [
      "10\n"
     ]
    },
    {
     "name": "stdin",
     "output_type": "stream",
     "text": [
      " 5 3\n"
     ]
    },
    {
     "name": "stdout",
     "output_type": "stream",
     "text": [
      "10\n"
     ]
    },
    {
     "name": "stdin",
     "output_type": "stream",
     "text": [
      " 10 5\n"
     ]
    },
    {
     "name": "stdout",
     "output_type": "stream",
     "text": [
      "252\n"
     ]
    },
    {
     "name": "stdin",
     "output_type": "stream",
     "text": [
      " 20 10\n"
     ]
    },
    {
     "name": "stdout",
     "output_type": "stream",
     "text": [
      "184756\n"
     ]
    },
    {
     "name": "stdin",
     "output_type": "stream",
     "text": [
      " 10 0\n"
     ]
    },
    {
     "name": "stdout",
     "output_type": "stream",
     "text": [
      "1\n"
     ]
    }
   ],
   "source": [
    "def power(a, b, c):\n",
    "    a = a % c\n",
    "    if b <= 2:\n",
    "        return a**b % c\n",
    "    result = (power(a, b // 2, c) ** 2) % c\n",
    "    if b % 2 == 0:\n",
    "        return result\n",
    "    return (a * result) % c\n",
    "\n",
    "\n",
    "def compute_num2factorial(n, mod):\n",
    "    num2fact = [1 for _ in range(n + 1)]\n",
    "    result = 1\n",
    "    for i in range(1, n + 1):\n",
    "        result *= i\n",
    "        result %= mod\n",
    "        num2fact[i] = result\n",
    "    return num2fact\n",
    "\n",
    "\n",
    "def solve_testcase(num2fact, m):\n",
    "    N, K = map(int, input().split())\n",
    "    K = min(K, N - K)\n",
    "    numerator = num2fact[N]\n",
    "    denominator = ((num2fact[N - K] % m) * (num2fact[K] % m)) % m\n",
    "    denominator = power(denominator, m - 2, m)\n",
    "    print((numerator * denominator) % m)\n",
    "\n",
    "\n",
    "def solution():\n",
    "    T = int(input())\n",
    "    P = 1000000007\n",
    "    N_MAX = 4000000\n",
    "    num2fact = compute_num2factorial(N_MAX, P)\n",
    "    for _ in range(T):\n",
    "        solve_testcase(num2fact, P)\n",
    "\n",
    "\n",
    "solution()\n",
    "\n",
    "# input\n",
    "# 5\n",
    "# 5 2\n",
    "# 5 3\n",
    "# 10 5\n",
    "# 20 10\n",
    "# 10 0"
   ]
  },
  {
   "cell_type": "markdown",
   "id": "5e12f313-056a-496c-95f7-e4610eda63eb",
   "metadata": {},
   "source": [
    "## 양 한 마리... 양 A마리... 양 A제곱마리...\n",
    "\n",
    "- 문제 출처: [백준 30413번](https://www.acmicpc.net/problem/30413)"
   ]
  },
  {
   "cell_type": "markdown",
   "id": "43e0a96d-822e-4cdf-a575-fae5cac2087f",
   "metadata": {},
   "source": [
    "`-` $B$가 매우 크므로 수열의 합을 일일이 계산해 합하는 것은 시간 초과에 걸린다\n",
    "\n",
    "`-` $1,A,A^2,\\cdots,A^{B-1}$은 등비가 $A$인 등비수열이다\n",
    "\n",
    "`-` 위 등비수열의 합은 $A=1$일 때를 제외하고 $\\dfrac{A^B-1}{A-1}$이므로 $B$번 연살할 필요가 없어졌다\n",
    "\n",
    "`-` 등비수열의 합이 매우 크므로 $P=1000000007$으로 나눈 나머지를 출력해야 한다\n",
    "\n",
    "`-` 분자는 거듭제곱을 하며 밑을 $P$로 나눈 나머지로 바꾸면 되고 이는 $\\log B$의 시간복잡도를 가진다\n",
    "\n",
    "`-` 분모는 나머지 연산을 제대로 동작시키기 위해 곱하기로 바꾸면 된다\n",
    "\n",
    "`-` 단순히 역수를 취하는건 안되고 모듈러 곱셈 역원을 사용해야 한다\n",
    "\n",
    "`-` $aa^{-1}\\equiv 1 \\pmod P$를 만족하는 $a^{-1}$이 모듈러 $P$에 대한 $a$의 역원이다\n",
    "\n",
    "`-` 페르마의 소정리에 따라 $aa^{p-2} \\equiv 1 \\pmod p$이므로 역원은 $a^{p-2}$이다\n",
    "\n",
    "`-` 즉 $(A-1)^{P-2}$를 분자에서 했던대로 계산하고 분자와 곱해주면 된다 "
   ]
  },
  {
   "cell_type": "code",
   "execution_count": 6,
   "id": "26257e94-7c5b-4c19-8a0a-d61a512937c3",
   "metadata": {},
   "outputs": [
    {
     "name": "stdin",
     "output_type": "stream",
     "text": [
      " 3 4\n"
     ]
    },
    {
     "name": "stdout",
     "output_type": "stream",
     "text": [
      "40\n"
     ]
    }
   ],
   "source": [
    "def power(a, b, c):\n",
    "    a = a % c\n",
    "    if b <= 2:\n",
    "        return a**b % c\n",
    "    result = (power(a, b // 2, c) ** 2) % c\n",
    "    if b % 2 == 0:\n",
    "        return result\n",
    "    return (a * result) % c\n",
    "\n",
    "\n",
    "def solution():\n",
    "    A, B = map(int, input().split())\n",
    "    P = 1000000007\n",
    "    if A == 1:\n",
    "        print(B % P)\n",
    "        return\n",
    "    numerator = (power(A, B, P) - 1) % P\n",
    "    denominator = power(A - 1, P - 2, P)\n",
    "    print((numerator * denominator) % P)\n",
    "\n",
    "\n",
    "solution()\n",
    "\n",
    "# input\n",
    "# 3 4"
   ]
  },
  {
   "cell_type": "markdown",
   "id": "a2a47796-87b1-4f13-b326-84fce46ec36a",
   "metadata": {},
   "source": [
    "## 조합 (Combination)\n",
    "\n",
    "- 문제 출처: [백준 16134번](https://www.acmicpc.net/problem/16134)"
   ]
  },
  {
   "cell_type": "markdown",
   "id": "908aebf1-7dce-4623-86a7-4d120f55c8c2",
   "metadata": {},
   "source": [
    "`-` $\\binom{N}{R}$을 $10^9+7$로 나눈 나머지를 계산하는 문제이다\n",
    "\n",
    "`-` 페르마의 소정리를 활용한 모듈러 곱셈 역원과 분할 정복을 이용한 거듭 제곱을 활용하면 간단하게 해결할 수 있다"
   ]
  },
  {
   "cell_type": "code",
   "execution_count": 3,
   "id": "e289359b-2148-4159-b516-0d399bfe56ac",
   "metadata": {},
   "outputs": [
    {
     "name": "stdin",
     "output_type": "stream",
     "text": [
      " 30 15\n"
     ]
    },
    {
     "name": "stdout",
     "output_type": "stream",
     "text": [
      "155117520\n"
     ]
    }
   ],
   "source": [
    "def power(a, b, c):\n",
    "    a = a % c\n",
    "    if b == 1:\n",
    "        return a\n",
    "    half = power(a, b // 2, c)\n",
    "    result = half**2 % c\n",
    "    if b % 2 == 0:\n",
    "        return result\n",
    "    return (a * result) % c\n",
    "\n",
    "\n",
    "def solution():\n",
    "    N, R = map(int, input().split())\n",
    "    P = 10**9 + 7\n",
    "    R = min(N - R, R)\n",
    "    if R == 0:\n",
    "        print(1)\n",
    "        return\n",
    "    if R == 1:\n",
    "        print(N)\n",
    "        return\n",
    "    numerator = 1\n",
    "    for i in range(N - R + 1, N + 1):\n",
    "        numerator *= i\n",
    "        numerator %= P\n",
    "    denominator = 1\n",
    "    for i in range(1, R + 1):\n",
    "        denominator *= i\n",
    "        denominator %= P\n",
    "    denominator = power(denominator, P - 2, P)\n",
    "    answer = (numerator * denominator) % P\n",
    "    print(answer)\n",
    "\n",
    "\n",
    "solution()\n",
    "\n",
    "# input\n",
    "# 30 15"
   ]
  },
  {
   "cell_type": "code",
   "execution_count": null,
   "id": "d30fde33-ccbf-497c-8f66-3d12abdecb70",
   "metadata": {},
   "outputs": [],
   "source": []
  }
 ],
 "metadata": {
  "kernelspec": {
   "display_name": "Python 3 (ipykernel)",
   "language": "python",
   "name": "python3"
  },
  "language_info": {
   "codemirror_mode": {
    "name": "ipython",
    "version": 3
   },
   "file_extension": ".py",
   "mimetype": "text/x-python",
   "name": "python",
   "nbconvert_exporter": "python",
   "pygments_lexer": "ipython3",
   "version": "3.8.11"
  }
 },
 "nbformat": 4,
 "nbformat_minor": 5
}
