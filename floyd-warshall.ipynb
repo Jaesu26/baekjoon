{
 "cells": [
  {
   "cell_type": "markdown",
   "id": "b579d8fc-74c4-4815-b75c-8709664fbce4",
   "metadata": {},
   "source": [
    "# 플로이드-워셜 (Floyd-Warshall)"
   ]
  },
  {
   "cell_type": "markdown",
   "id": "174bff8b-3566-4d39-925b-67c43f4b7ca7",
   "metadata": {},
   "source": [
    "`-` 모든 정점 쌍 간의 최단 경로를 $O\\left(V^3\\right)$에 찾는 알고리즘"
   ]
  },
  {
   "cell_type": "markdown",
   "id": "c090b743-c324-4ac8-b5bd-1715998bd386",
   "metadata": {},
   "source": [
    "## 경로 찾기\n",
    "\n",
    "- 문제 출처: [백준 11403번](https://www.acmicpc.net/problem/11403)"
   ]
  },
  {
   "cell_type": "markdown",
   "id": "38249a52-f112-4f41-bdab-a56b72161f40",
   "metadata": {},
   "source": [
    "`-` [플로이드-워셜](https://jaesu26.github.io/study-blog/algorithm/2022/06/29/%ED%94%8C%EB%A1%9C%EC%9D%B4%EB%93%9C%EC%9B%8C%EC%85%9C-%EC%95%8C%EA%B3%A0%EB%A6%AC%EC%A6%98.html) 알고리즘 사용하여 해결하면 된다"
   ]
  },
  {
   "cell_type": "code",
   "execution_count": 32,
   "id": "c7cbc79c-9cf1-4d18-964f-5ac0c7d9c185",
   "metadata": {},
   "outputs": [
    {
     "name": "stdin",
     "output_type": "stream",
     "text": [
      " 7\n",
      " 0 0 0 1 0 0 0\n",
      " 0 0 0 0 0 0 1\n",
      " 0 0 0 0 0 0 0\n",
      " 0 0 0 0 1 1 0\n",
      " 1 0 0 0 0 0 0\n",
      " 0 0 0 0 0 0 1\n",
      " 0 0 1 0 0 0 0\n"
     ]
    },
    {
     "name": "stdout",
     "output_type": "stream",
     "text": [
      "1 0 1 1 1 1 1\n",
      "0 0 1 0 0 0 1\n",
      "0 0 0 0 0 0 0\n",
      "1 0 1 1 1 1 1\n",
      "1 0 1 1 1 1 1\n",
      "0 0 1 0 0 0 1\n",
      "0 0 1 0 0 0 0\n"
     ]
    }
   ],
   "source": [
    "def floyd_warsahll(dist):\n",
    "    for k in range(N):  # 경유지: {0, 1, 2, ..., k-2}\n",
    "        for i in range(N):\n",
    "            for j in range(N):\n",
    "                if dist[i][j] > dist[i][k] + dist[k][j]:  # 기존의 i -> j보다 더 짧은 경로가 존재하면\n",
    "                    dist[i][j] = dist[i][k] + dist[k][j]  # relaxation     \n",
    "    for i in range(N):\n",
    "        for j in range(N):\n",
    "            if dist[i][j] == INF:  \n",
    "                dist[i][j] = 0  # 경로가 없음\n",
    "            else:\n",
    "                dist[i][j] = 1  # 경로가 있음\n",
    "    return dist\n",
    "                    \n",
    "\n",
    "N = int(input())\n",
    "INF = 1e9\n",
    "dist = [list(map(int, input().split())) for _ in range(N)]\n",
    "for i in range(N):\n",
    "    for j in range(N):\n",
    "        if dist[i][j] == 0:  # i = j일 때도 INF로 초기화 (i -> ... -> i로 가는 간선은 아직 없음)\n",
    "            dist[i][j] = INF\n",
    "result = floyd_warsahll(dist)\n",
    "for r in result:\n",
    "    print(*r)\n",
    "\n",
    "# input\n",
    "# 7\n",
    "# 0 0 0 1 0 0 0\n",
    "# 0 0 0 0 0 0 1\n",
    "# 0 0 0 0 0 0 0\n",
    "# 0 0 0 0 1 1 0\n",
    "# 1 0 0 0 0 0 0\n",
    "# 0 0 0 0 0 0 1\n",
    "# 0 0 1 0 0 0 0"
   ]
  },
  {
   "cell_type": "markdown",
   "id": "dc7e6250-3e1c-4226-aa5d-8b5b3ccdf50d",
   "metadata": {},
   "source": [
    "## 플로이드\n",
    "\n",
    "- 문제 출처: [백준 11404번](https://www.acmicpc.net/problem/11404)"
   ]
  },
  {
   "cell_type": "markdown",
   "id": "40085e95-4185-422d-be80-efb5a8ec34a4",
   "metadata": {},
   "source": [
    "`-` [플로이드-워셜](https://jaesu26.github.io/study-blog/algorithm/2022/06/29/%ED%94%8C%EB%A1%9C%EC%9D%B4%EB%93%9C%EC%9B%8C%EC%85%9C-%EC%95%8C%EA%B3%A0%EB%A6%AC%EC%A6%98.html) 알고리즘을 통해 문제를 해결할 수 있다\n",
    "\n",
    "`-` 출발지와 도착지를 지나는 버스는 여러 대일 수 있으므로 주의해야 한다 "
   ]
  },
  {
   "cell_type": "code",
   "execution_count": 15,
   "id": "5039f096-fdff-4d55-aafb-78bb4dddd447",
   "metadata": {},
   "outputs": [
    {
     "name": "stdin",
     "output_type": "stream",
     "text": [
      " 5\n",
      " 14\n",
      " 1 2 2\n",
      " 1 3 3\n",
      " 1 4 1\n",
      " 1 5 10\n",
      " 2 4 2\n",
      " 3 4 1\n",
      " 3 5 1\n",
      " 4 5 3\n",
      " 3 5 10\n",
      " 3 1 8\n",
      " 1 4 2\n",
      " 5 1 7\n",
      " 3 4 2\n",
      " 5 2 4\n"
     ]
    },
    {
     "name": "stdout",
     "output_type": "stream",
     "text": [
      "0 2 3 1 4\n",
      "12 0 15 2 5\n",
      "8 5 0 1 1\n",
      "10 7 13 0 3\n",
      "7 4 10 6 0\n"
     ]
    }
   ],
   "source": [
    "def floyd_warshall(dist, n):\n",
    "    for k in range(n):\n",
    "        for i in range(n):\n",
    "            for j in range(n):\n",
    "                dist[i][j] = min(dist[i][j], dist[i][k] + dist[k][j])\n",
    "    return dist\n",
    "\n",
    "\n",
    "def solution():\n",
    "    n = int(input())\n",
    "    m = int(input())\n",
    "    INF = int(1e9)\n",
    "    dist = [[INF for _ in range(n)] for _ in range(n)]\n",
    "    for _ in range(m):\n",
    "        u, v, w = map(int, input().split())\n",
    "        dist[u - 1][v - 1] = min(dist[u - 1][v - 1], w) \n",
    "    for i in range(n):\n",
    "        dist[i][i] = 0\n",
    "    dist = floyd_warshall(dist, n)\n",
    "    for i in range(n):\n",
    "        for j in range(n):\n",
    "            if dist[i][j] == INF:\n",
    "                dist[i][j] = 0\n",
    "    for d in dist:\n",
    "        print(*d)\n",
    "\n",
    "\n",
    "solution()\n",
    "\n",
    "# input\n",
    "# 5\n",
    "# 14\n",
    "# 1 2 2\n",
    "# 1 3 3\n",
    "# 1 4 1\n",
    "# 1 5 10\n",
    "# 2 4 2\n",
    "# 3 4 1\n",
    "# 3 5 1\n",
    "# 4 5 3\n",
    "# 3 5 10\n",
    "# 3 1 8\n",
    "# 1 4 2\n",
    "# 5 1 7\n",
    "# 3 4 2\n",
    "# 5 2 4"
   ]
  },
  {
   "cell_type": "markdown",
   "id": "97af583e-0369-4744-b24f-29b8428b07a4",
   "metadata": {},
   "source": [
    "## 플로이드 2\n",
    "\n",
    "- 문제 출처: [백준 11780번](https://www.acmicpc.net/problem/11780)"
   ]
  },
  {
   "cell_type": "markdown",
   "id": "68459359-ca56-4076-a585-c21be24ecf50",
   "metadata": {},
   "source": [
    "`-` [플로이드 워셜](https://jaesu26.github.io/study-blog/algorithm/2022/06/29/%ED%94%8C%EB%A1%9C%EC%9D%B4%EB%93%9C%EC%9B%8C%EC%85%9C-%EC%95%8C%EA%B3%A0%EB%A6%AC%EC%A6%98.html) 알고리즘을 적용할 때 경로까지 저장하면 된다"
   ]
  },
  {
   "cell_type": "code",
   "execution_count": 30,
   "id": "71159e79-f75d-4787-a44b-cd38bcdd21a5",
   "metadata": {},
   "outputs": [
    {
     "name": "stdin",
     "output_type": "stream",
     "text": [
      " 5\n",
      " 14\n",
      " 1 2 2\n",
      " 1 3 3\n",
      " 1 4 1\n",
      " 1 5 10\n",
      " 2 4 2\n",
      " 3 4 1\n",
      " 3 5 1\n",
      " 4 5 3\n",
      " 3 5 10\n",
      " 3 1 8\n",
      " 1 4 2\n",
      " 5 1 7\n",
      " 3 4 2\n",
      " 5 2 4\n"
     ]
    },
    {
     "name": "stdout",
     "output_type": "stream",
     "text": [
      "0 2 3 1 4\n",
      "12 0 15 2 5\n",
      "8 5 0 1 1\n",
      "10 7 13 0 3\n",
      "7 4 10 6 0\n",
      "0\n",
      "2 1 2\n",
      "2 1 3\n",
      "2 1 4\n",
      "3 1 3 5\n",
      "4 2 4 5 1\n",
      "0\n",
      "5 2 4 5 1 3\n",
      "2 2 4\n",
      "3 2 4 5\n",
      "2 3 1\n",
      "3 3 5 2\n",
      "0\n",
      "2 3 4\n",
      "2 3 5\n",
      "3 4 5 1\n",
      "3 4 5 2\n",
      "4 4 5 1 3\n",
      "0\n",
      "2 4 5\n",
      "2 5 1\n",
      "2 5 2\n",
      "3 5 1 3\n",
      "3 5 2 4\n",
      "0\n"
     ]
    }
   ],
   "source": [
    "def floyd_warshall(dist, next_node, n):\n",
    "    for k in range(1, n + 1):\n",
    "        for i in range(1, n + 1):\n",
    "            for j in range(1, n + 1):\n",
    "                if dist[i][j] > dist[i][k] + dist[k][j]:\n",
    "                    dist[i][j] = dist[i][k] + dist[k][j]\n",
    "                    next_node[i][j] = next_node[i][k]  # i -> j로 가기 위해 i 다음에 갈 노드는 i -> k로 가기 위해 i 다음에 갈 노드이다\n",
    "    return dist, next_node\n",
    "\n",
    "\n",
    "def find_route(start, end, next_node):\n",
    "    result = [start]\n",
    "    while start != end:\n",
    "        k = next_node[start][end]\n",
    "        result.append(k)\n",
    "        start = k\n",
    "    return result\n",
    "\n",
    "\n",
    "def solution():\n",
    "    n = int(input())\n",
    "    m = int(input())\n",
    "    INF = float(\"inf\")\n",
    "    dist = [[INF for _ in range(n + 1)] for _ in range(n + 1)]\n",
    "    next_node = [[False] * (n + 1) for _ in range(n + 1)]  # next[u][v]는 u -> v로 가기 위해 u 다음에 가야할 노드를 뜻함\n",
    "    for _ in range(m):\n",
    "        a, b, c = map(int, input().split())\n",
    "        dist[a][b] = min(dist[a][b], c)\n",
    "        next_node[a][b] = b\n",
    "    for i in range(1, n + 1):\n",
    "        dist[i][i] = 0\n",
    "    dist, next_node = floyd_warshall(dist, next_node, n)\n",
    "    for i in range(1, n + 1):\n",
    "        for j in range(1, n + 1):\n",
    "            if dist[i][j] == INF:\n",
    "                dist[i][j] = 0\n",
    "    for i in range(1, n + 1):\n",
    "        print(*dist[i][1:])\n",
    "    for i in range(1, n + 1):\n",
    "        for j in range(1, n + 1):\n",
    "            if dist[i][j] == 0:\n",
    "                print(0)\n",
    "            else:\n",
    "                route = find_route(i, j, next_node)\n",
    "                num_cities = len(route)\n",
    "                print(*[num_cities, *route])\n",
    "\n",
    "\n",
    "solution()\n",
    "\n",
    "# input\n",
    "# 5\n",
    "# 14\n",
    "# 1 2 2\n",
    "# 1 3 3\n",
    "# 1 4 1\n",
    "# 1 5 10\n",
    "# 2 4 2\n",
    "# 3 4 1\n",
    "# 3 5 1\n",
    "# 4 5 3\n",
    "# 3 5 10\n",
    "# 3 1 8\n",
    "# 1 4 2\n",
    "# 5 1 7\n",
    "# 3 4 2\n",
    "# 5 2 4"
   ]
  },
  {
   "cell_type": "markdown",
   "id": "567d8d5c-6a11-45a4-95df-937927f5ad32",
   "metadata": {},
   "source": [
    "## 서강그라운드\n",
    "\n",
    "- 문제 출처: [백준 14938번](https://www.acmicpc.net/problem/14938)"
   ]
  },
  {
   "cell_type": "markdown",
   "id": "bcf7cf0b-d5c9-4a5a-8fa3-11d450ff2034",
   "metadata": {},
   "source": [
    "`-` 플로이드-워셜 알고리즘을 사용해 가능한 모든 두 정점간의 최단 거리를 계산한다\n",
    "\n",
    "`-` 각 지역에 대해 수색 범위 내에 있는 지역들의 아이템 총 개수를 계산한다\n",
    "\n",
    "`-` 이들 중 아이템 총 개수의 최댓값이 정답이 된다\n",
    "\n",
    "`-` 시간 복잡도는 $O\\left(N^3 + N^2\\right) = O\\left(N^3 \\right) $이다"
   ]
  },
  {
   "cell_type": "code",
   "execution_count": 4,
   "id": "038b97ce-d6e8-4cff-9fe2-c31acb6c82e1",
   "metadata": {},
   "outputs": [
    {
     "name": "stdin",
     "output_type": "stream",
     "text": [
      " 5 5 4\n",
      " 5 7 8 2 3\n",
      " 1 4 5\n",
      " 5 2 4\n",
      " 3 2 3\n",
      " 1 2 3\n"
     ]
    },
    {
     "name": "stdout",
     "output_type": "stream",
     "text": [
      "23\n"
     ]
    }
   ],
   "source": [
    "def floyd_warshall(dist, v):\n",
    "    for k in range(1, v + 1):\n",
    "        for i in range(1, v + 1):\n",
    "            for j in range(1, v + 1):\n",
    "                dist[i][j] = min(dist[i][k] + dist[k][j], dist[i][j])\n",
    "    return dist\n",
    "\n",
    "\n",
    "def solution():\n",
    "    n, m, r = map(int, input().split())\n",
    "    items = [0, *list(map(int, input().split()))]  # 1 ~ n번 지역에 있는 아이템 수\n",
    "    INF = 10000\n",
    "    dist = [[INF for _ in range(n + 1)] for _ in range(n + 1)]\n",
    "    for _ in range(r):\n",
    "        a, b, w = map(int, input().split())\n",
    "        dist[a][b] = min(w, dist[a][b])\n",
    "        dist[b][a] = min(w, dist[b][a])\n",
    "    for i in range(1, n + 1):\n",
    "        dist[i][i] = 0\n",
    "    dist = floyd_warshall(dist, n)\n",
    "    answer = 0\n",
    "    for region in range(1, n + 1):\n",
    "        num_items = 0\n",
    "        for other in range(1, n + 1):\n",
    "            if dist[region][other] <= m:\n",
    "                num_items += items[other]\n",
    "        answer = max(num_items, answer)\n",
    "    print(answer)\n",
    "\n",
    "\n",
    "solution()\n",
    "\n",
    "# input\n",
    "# 5 5 4\n",
    "# 5 7 8 2 3\n",
    "# 1 4 5\n",
    "# 5 2 4\n",
    "# 3 2 3\n",
    "# 1 2 3"
   ]
  },
  {
   "cell_type": "markdown",
   "id": "9ba81ec1-4028-4c4c-963e-46a6d650a813",
   "metadata": {},
   "source": [
    "## 운동\n",
    "\n",
    "- 문제 출처: [백준 1956번](https://www.acmicpc.net/problem/1956)"
   ]
  },
  {
   "cell_type": "markdown",
   "id": "a06f75d3-bbf5-4b4d-a37e-1e17f51eec1e",
   "metadata": {},
   "source": [
    "`-` 자기 자신의 정점으로 되돌아 오는 최소 사이클을 찾아야 한다\n",
    "\n",
    "`-` 플로이드-워셜 알고리즘을 사용하기 전 $v\\to v$의 최소 비용은 $0$으로 초기화한다\n",
    "\n",
    "`-` 대신 매우 큰 값으로 초기화하면 $v\\to v$의 최소 비용도 업데이트하게 된다\n",
    "\n",
    "`-` 모든 정점에 대해 `dist[v][v]`가 가장 작은 것이 정답이 된다"
   ]
  },
  {
   "cell_type": "code",
   "execution_count": 2,
   "id": "afb947e1-c890-454e-9f2d-6cc0ba0190d3",
   "metadata": {},
   "outputs": [
    {
     "name": "stdin",
     "output_type": "stream",
     "text": [
      " 3 4\n",
      " 1 2 1\n",
      " 3 2 1\n",
      " 1 3 5\n",
      " 2 3 2\n"
     ]
    },
    {
     "name": "stdout",
     "output_type": "stream",
     "text": [
      "3\n"
     ]
    }
   ],
   "source": [
    "def floyd_warshall(dist, v):\n",
    "    for k in range(1, v + 1):\n",
    "        for i in range(1, v + 1):\n",
    "            for j in range(1, v + 1):\n",
    "                dist[i][j] = min(dist[i][k] + dist[k][j], dist[i][j])\n",
    "    return dist\n",
    "\n",
    "\n",
    "def solution():\n",
    "    V, E = map(int, input().split())\n",
    "    INF = 1e9\n",
    "    dist = [[INF for _ in range(V + 1)] for _ in range(V + 1)]\n",
    "    for _ in range(E):\n",
    "        a, b, c = map(int, input().split())\n",
    "        dist[a][b] = c\n",
    "    dist = floyd_warshall(dist, V)\n",
    "    min_cycle_cost = INF\n",
    "    for v in range(1, V + 1):\n",
    "        min_cycle_cost = min(dist[v][v], min_cycle_cost)\n",
    "    if min_cycle_cost == INF:\n",
    "        min_cycle_cost = -1\n",
    "    print(min_cycle_cost)\n",
    "\n",
    "\n",
    "solution()\n",
    "\n",
    "# input\n",
    "# 3 4\n",
    "# 1 2 1\n",
    "# 3 2 1\n",
    "# 1 3 5\n",
    "# 2 3 2"
   ]
  },
  {
   "cell_type": "code",
   "execution_count": null,
   "id": "f67ff182-b807-4d1f-85f4-41a6c36127df",
   "metadata": {},
   "outputs": [],
   "source": []
  }
 ],
 "metadata": {
  "kernelspec": {
   "display_name": "Python 3 (ipykernel)",
   "language": "python",
   "name": "python3"
  },
  "language_info": {
   "codemirror_mode": {
    "name": "ipython",
    "version": 3
   },
   "file_extension": ".py",
   "mimetype": "text/x-python",
   "name": "python",
   "nbconvert_exporter": "python",
   "pygments_lexer": "ipython3",
   "version": "3.8.11"
  }
 },
 "nbformat": 4,
 "nbformat_minor": 5
}
