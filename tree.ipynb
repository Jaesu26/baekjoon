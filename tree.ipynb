{
 "cells": [
  {
   "cell_type": "markdown",
   "id": "f05d2f68-54d1-4b72-a165-589845bd2484",
   "metadata": {},
   "source": [
    "# 트리 (Tree)"
   ]
  },
  {
   "cell_type": "markdown",
   "id": "929a9dd1-225b-4b84-a234-dd3b0b4f318a",
   "metadata": {},
   "source": [
    "## 트리의 부모 찾기\n",
    "\n",
    "- 문제 출처: [백준 11725번](https://www.acmicpc.net/problem/11725)"
   ]
  },
  {
   "cell_type": "markdown",
   "id": "611c8897-a15b-4b7a-8c16-8052c990ef47",
   "metadata": {},
   "source": [
    "`-` 각 노드에 대해 모든 연결 노드를 그래프에 기록한다\n",
    "\n",
    "`-` 루트 노드부터 BFS를 사용하자\n",
    "\n",
    "`-` 탐색 과정에서 다음 노드의 부모는 현재 노드가 된다"
   ]
  },
  {
   "cell_type": "code",
   "execution_count": 1,
   "id": "a15ff988-b1b8-4211-9519-bfb4dd2b8ef3",
   "metadata": {},
   "outputs": [
    {
     "name": "stdin",
     "output_type": "stream",
     "text": [
      " 12\n",
      " 1 2\n",
      " 1 3\n",
      " 2 4\n",
      " 3 5\n",
      " 3 6\n",
      " 4 7\n",
      " 4 8\n",
      " 5 9\n",
      " 5 10\n",
      " 6 11\n",
      " 6 12\n"
     ]
    },
    {
     "name": "stdout",
     "output_type": "stream",
     "text": [
      "1\n",
      "1\n",
      "2\n",
      "3\n",
      "3\n",
      "4\n",
      "4\n",
      "5\n",
      "5\n",
      "6\n",
      "6\n"
     ]
    }
   ],
   "source": [
    "from collections import defaultdict, deque\n",
    "\n",
    "\n",
    "def solution():\n",
    "    N = int(input())\n",
    "    ROOT = 1\n",
    "    graph = defaultdict(list)\n",
    "    visited = {ROOT: True}\n",
    "    node2parent = {}\n",
    "    for _ in range(N - 1):\n",
    "        a, b = map(int, input().split())\n",
    "        graph[a].append(b)\n",
    "        graph[b].append(a)\n",
    "    queue = deque([ROOT])\n",
    "    while queue:\n",
    "        node = queue.popleft()\n",
    "        for next_node in graph[node]:\n",
    "            if next_node not in visited:\n",
    "                visited[next_node] = True\n",
    "                node2parent[next_node] = node\n",
    "                queue.append(next_node)\n",
    "    for node in range(2, N + 1):\n",
    "        print(node2parent[node])\n",
    "\n",
    "\n",
    "solution()\n",
    "\n",
    "# input\n",
    "# 12\n",
    "# 1 2\n",
    "# 1 3\n",
    "# 2 4\n",
    "# 3 5\n",
    "# 3 6\n",
    "# 4 7\n",
    "# 4 8\n",
    "# 5 9\n",
    "# 5 10\n",
    "# 6 11\n",
    "# 6 12"
   ]
  },
  {
   "cell_type": "markdown",
   "id": "a2ef2711-b172-40c5-add1-276685517eb1",
   "metadata": {},
   "source": [
    "## 트리 순회\n",
    "\n",
    "- 문제 출처: [백준 1991번](https://www.acmicpc.net/problem/1991)"
   ]
  },
  {
   "cell_type": "markdown",
   "id": "5965e671-92ee-47a7-8ff7-fe51afcb7448",
   "metadata": {},
   "source": [
    "`-` 전형적인 트리 순회 문제\n",
    "\n",
    "`-` 클래스와 재귀 함수를 이용해 깔끔하게 구현할 수 있다\n",
    "\n",
    "`-` 내 코드보다 좋은 코드가 많이 있음 (배우자)"
   ]
  },
  {
   "cell_type": "code",
   "execution_count": 2,
   "id": "6af7728e-626f-4b95-8976-ef4a84d14be3",
   "metadata": {},
   "outputs": [
    {
     "name": "stdin",
     "output_type": "stream",
     "text": [
      " 7\n",
      " A B C\n",
      " B D .\n",
      " C E F\n",
      " E . .\n",
      " F . G\n",
      " D . .\n",
      " G . .\n"
     ]
    },
    {
     "name": "stdout",
     "output_type": "stream",
     "text": [
      "ABDCEFG\n",
      "DBAECFG\n",
      "DBEGFCA\n"
     ]
    }
   ],
   "source": [
    "from collections import defaultdict\n",
    "\n",
    "\n",
    "def preorder_traversal(tree, start, visited={}):\n",
    "    visited[start] = True\n",
    "    for next_node in tree[start]:\n",
    "        if next_node != ABSENCE and next_node not in visited:\n",
    "            preorder_traversal(tree, next_node, visited)\n",
    "    return list(visited.keys())\n",
    "\n",
    "\n",
    "def inorder_traversal(tree, start, visited={}):\n",
    "    left = tree[start][0]\n",
    "    right = tree[start][1]\n",
    "    if (left == ABSENCE or left in visited):\n",
    "        visited[start] = True\n",
    "    for next_node in [left, start, right]:\n",
    "        if next_node != ABSENCE and next_node not in visited:\n",
    "            inorder_traversal(tree, next_node, visited)\n",
    "    return list(visited.keys())\n",
    "\n",
    "\n",
    "def postorder_traversal(tree, start, visited={}):\n",
    "    left = tree[start][0]\n",
    "    right = tree[start][1]\n",
    "    if (left == ABSENCE or left in visited) and (right == ABSENCE or right in visited):\n",
    "        visited[start] = True\n",
    "    for next_node in [left, right, start]:\n",
    "        if next_node != ABSENCE and next_node not in visited:\n",
    "            postorder_traversal(tree, next_node, visited)\n",
    "    return list(visited.keys())\n",
    "\n",
    "\n",
    "def solution():\n",
    "    global ABSENCE\n",
    "    N = int(input())\n",
    "    tree = defaultdict(list)\n",
    "    ROOT = \"A\"\n",
    "    ABSENCE = \".\"\n",
    "    for _ in range(N):\n",
    "        parent, left, right = input().split()\n",
    "        tree[parent].append(left)\n",
    "        tree[parent].append(right)\n",
    "    preorder_result = preorder_traversal(tree, ROOT)\n",
    "    inorder_result = inorder_traversal(tree, ROOT)\n",
    "    postorder_result = postorder_traversal(tree, ROOT)\n",
    "    for result in [preorder_result, inorder_result, postorder_result]:\n",
    "        print(\"\".join(result))\n",
    "\n",
    "\n",
    "solution()\n",
    "\n",
    "# input\n",
    "# 7\n",
    "# A B C\n",
    "# B D .\n",
    "# C E F\n",
    "# E . .\n",
    "# F . G\n",
    "# D . .\n",
    "# G . ."
   ]
  },
  {
   "cell_type": "code",
   "execution_count": null,
   "id": "5f8d6118-e6b1-4896-ba87-d8f04da39f21",
   "metadata": {},
   "outputs": [],
   "source": []
  }
 ],
 "metadata": {
  "kernelspec": {
   "display_name": "Python 3 (ipykernel)",
   "language": "python",
   "name": "python3"
  },
  "language_info": {
   "codemirror_mode": {
    "name": "ipython",
    "version": 3
   },
   "file_extension": ".py",
   "mimetype": "text/x-python",
   "name": "python",
   "nbconvert_exporter": "python",
   "pygments_lexer": "ipython3",
   "version": "3.8.11"
  }
 },
 "nbformat": 4,
 "nbformat_minor": 5
}
