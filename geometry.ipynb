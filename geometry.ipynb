{
 "cells": [
  {
   "cell_type": "markdown",
   "id": "46eee75f-33a0-43ce-97fb-c56475db3296",
   "metadata": {
    "tags": []
   },
   "source": [
    "# 기하학 (Geometry)"
   ]
  },
  {
   "cell_type": "markdown",
   "id": "a78c91b4-ec37-42b8-91db-181a1bcc6e80",
   "metadata": {},
   "source": [
    "## 터렛\n",
    "\n",
    "- 문제 출처:[백준 1002번](https://www.acmicpc.net/problem/1002)"
   ]
  },
  {
   "cell_type": "markdown",
   "id": "a5ac0513-36e5-4e53-94ea-b8eba4ce16df",
   "metadata": {},
   "source": [
    "`-` 참고해서 풀었음\n",
    "\n",
    "`-` 두 점에서 만나는 경우 \n",
    "\n",
    "```python\n",
    "r1 + r2 > d and abs(r1 - r2) < d\n",
    "```\n",
    "\n",
    "`-` 두 원의 위치관계 참고 : [https://mathbang.net/101](https://mathbang.net/101)"
   ]
  },
  {
   "cell_type": "code",
   "execution_count": 92,
   "id": "1cf4b9c2-6ff0-41a7-a9f1-5e4bb9aff98e",
   "metadata": {},
   "outputs": [
    {
     "name": "stdin",
     "output_type": "stream",
     "text": [
      " 3\n",
      " 0 0 13 40 0 37\n"
     ]
    },
    {
     "name": "stdout",
     "output_type": "stream",
     "text": [
      "2\n"
     ]
    },
    {
     "name": "stdin",
     "output_type": "stream",
     "text": [
      " 0 0 3 0 7 4\n"
     ]
    },
    {
     "name": "stdout",
     "output_type": "stream",
     "text": [
      "1\n"
     ]
    },
    {
     "name": "stdin",
     "output_type": "stream",
     "text": [
      " 1 1 1 1 1 5\n"
     ]
    },
    {
     "name": "stdout",
     "output_type": "stream",
     "text": [
      "0\n"
     ]
    }
   ],
   "source": [
    "T = int(input())\n",
    "for i in range(T):\n",
    "    x1, y1, r1, x2, y2, r2 = map(int, input().split())\n",
    "    d = ((x1 - x2)**2 + (y1 - y2)**2)**0.5\n",
    "    if d == 0:\n",
    "        if r1 == r2:\n",
    "            print(-1)\n",
    "        else:\n",
    "            print(0)\n",
    "    elif r1 + r2 < d:\n",
    "        print(0)\n",
    "    elif r1 + r2 > d and abs(r1 -r2) < d:\n",
    "        print(2)\n",
    "    elif r1 + r2 == d:\n",
    "        print(1)\n",
    "    elif abs(r2 - r1) == d:\n",
    "        print(1)\n",
    "    elif abs(r2 - r1) > d:\n",
    "        print(0)\n",
    "\n",
    "# input\n",
    "# 3\n",
    "# 0 0 13 40 0 37\n",
    "# 0 0 3 0 7 4\n",
    "# 1 1 1 1 1 5"
   ]
  },
  {
   "cell_type": "markdown",
   "id": "24e73389-6e6b-4153-9313-78ff8112c861",
   "metadata": {},
   "source": [
    "## 선분 교차 2\n",
    "\n",
    "- 문제 출처: [백준 17387번](https://www.acmicpc.net/problem/17387)"
   ]
  },
  {
   "cell_type": "markdown",
   "id": "64c4bbf0-f602-4c4e-af0d-389f15955abe",
   "metadata": {},
   "source": [
    "`-` 한 선분의 끝 점이 다른 선분이나 끝 점 위에 있는 것도 교차하는 것이다\n",
    "\n",
    "`-` $L1$의 양 끝 점은 $(x_1, y_1), (x_2, y_2)$이고 $L2$의 양 끝 점은 $(x_3, y_3), (x_4, y_4)$이다\n",
    "\n",
    "`-` 직선의 방정식은 각각 $y-y_1=\\cfrac{y_2-y_1}{x_2-x_1}(x-x_1),\\quad y-y_3=\\cfrac{y_4-y_3}{x_4-x_3}(x-x_3)$이다\n",
    "\n",
    "`-` 여기서 기울기를 각각 $m, n$이라고 한다면 직선의 방정식은 각각 $y=mx+a\\,(a=-mx_1+y_1),\\quad y=nx+b\\,(b=-nx_3+y_3)$이다\n",
    "\n",
    "`-` 만약 기울기가 같다면 두 직선의 $x, y$절편이 동일해야 두 직선이 교차한다\n",
    "\n",
    "`-` 두 직선이 교차하는 점의 좌표는 $\\left(\\cfrac{b-a}{m-n},\\quad \\cfrac{mb-na}{m-n}\\right)$이다\n",
    "\n",
    "`-` 그런데 문제에서는 직선이 아니라 선분이므로 교차하지 않을 수 있다 (직선은 길이가 무한, 선분은 길이가 유한)\n",
    "\n",
    "`-` 교차하는 점의 좌표를 $(x,y)$라 했을 때 $x_1,x_3\\leq x \\leq x_2,x_4,\\quad y_1,y_3\\leq y \\leq y_2,y_4$이면 교점이 존재한다\n",
    "\n",
    "`-` 위는 일반적인 경우이고 기울기가 $\\infty$인 경우 예외처리를 해줘야 한다\n",
    "\n",
    "`-` 기울기가 $\\infty$인 경우 직선의 방정식의 형태는 $x=k$이다\n",
    "\n",
    "`-` 만약 $L2$의 기울기가 $\\infty$이라면 이때의 교점은 $(x_3, mx_3+b)$이다\n",
    "\n",
    "`-` 이 밖에도 예외 케이스가 존재하니 잘 처리해줘야 한다 (예외 케이스는 코드 주석에 적어놓음)"
   ]
  },
  {
   "cell_type": "code",
   "execution_count": 99,
   "id": "e4e36ec9-44bf-41a2-8d17-56731e891c47",
   "metadata": {},
   "outputs": [
    {
     "name": "stdout",
     "output_type": "stream",
     "text": [
      "3.5999999999999996\n",
      "3.6\n"
     ]
    }
   ],
   "source": [
    "# 반올림 오차의 문제점\n",
    "print(1.2 * 3)\n",
    "print(7.2 / 2)"
   ]
  },
  {
   "cell_type": "code",
   "execution_count": 40,
   "id": "981b30a8-1f53-4e49-a54c-bf3c85e441aa",
   "metadata": {},
   "outputs": [
    {
     "name": "stdin",
     "output_type": "stream",
     "text": [
      " 1 1 5 5\n",
      " 6 6 1 5\n"
     ]
    },
    {
     "name": "stdout",
     "output_type": "stream",
     "text": [
      "0\n"
     ]
    }
   ],
   "source": [
    "def check_cross_lines(x1, y1, x2, y2, x3, y3, x4, y4):\n",
    "    error = 0.0000001  # 반올림 오차\n",
    "    # 기본적인 기울기와 절편을 계산한다\n",
    "    if x1 != x2:  # L1의 기울기가 무한이 아니다\n",
    "        m = (y2 - y1) / (x2 - x1)  # 기울기\n",
    "        a = -m*x1 + y1  # y절편\n",
    "    else:  # L1의 기울기가 무한 (세로 직선)\n",
    "        m, a = 3000000, 0  # 임의값 부여함 (기울기가 무한이 아닌경우 최대값은 x, y 범위에 의해 2백만이다)\n",
    "    if x3 != x4:  # 기울기가 무한이 아니다\n",
    "        n = (y4 - y3) / (x4 - x3)  # 기울기\n",
    "        b = -n*x3 + y3  # y절편\n",
    "    else:  # L2의 기울기가 무한 (세로 직선)\n",
    "        n, b = 3000000, 0  # 임의값 부여함\n",
    "    # 기울기와 절편을 바탕으로 두 선분의 교차여부를 판단한다\n",
    "    if m != n:  # 기울기가 다르다면 (일반 케이스)\n",
    "        # L1의 기울기만 무한 (L2는 무한 아님)\n",
    "        if x1 == x2:\n",
    "            x = x1  # 교점의 x좌표\n",
    "            y = n*x1 + b  # 교점의 y좌표\n",
    "        # L2의 기울기만 무한 (L1은 무한 아님)\n",
    "        elif x3 == x4:\n",
    "            x = x3  # 교점의 x좌표\n",
    "            y = m*x3 + a  # 교점의 y좌표\n",
    "        # L1과 L2모두 기울기가 무한이 아니면서 서로 기울기가 다르다\n",
    "        else:\n",
    "            x = (b - a) / (m - n)  # 교점의 x좌표\n",
    "            y = (m*b - n*a) / (m - n)  # 교점의 y좌표\n",
    "        # 두 선분의 기울기가 다를 때 두 선분의 교차여부 판단\n",
    "        if min(x1, x2) - error <= x <= max(x1, x2) + error and min(x3, x4) - error <= x <= max(x3, x4) + error and\\\n",
    "        min(y1, y2) - error <= y <= max(y1, y2) + error and min(y3, y4) - error <= y <= max(y3, y4) + error:\n",
    "            return 1\n",
    "        else:\n",
    "            return 0\n",
    "    else:  # 기울기가 똑같다면 (특이 케이스)\n",
    "        # L1과 L2의 기울기가 무한\n",
    "        if x1 == x2 and x3 == x4:\n",
    "            if x1 != x3:  # x절편이 다르다면 서로 교차하지 않는다\n",
    "                return 0\n",
    "            else:  # x절편이 같은 경우\n",
    "                if max(y1, y2) > max(y3, y4):  # L1이 L2보다 위쪽으로 길다\n",
    "                    if max(y3, y4) >= min(y1, y2):\n",
    "                        return 1\n",
    "                    else:\n",
    "                        return 0\n",
    "                else:  # L2가 L1보다 위쪽으로 길거나 같다\n",
    "                    if max(y1, y2) >= min(y3, y4):\n",
    "                        return 1\n",
    "                    else:\n",
    "                        return 0\n",
    "        # 두 선분의 기울기가 같은 경우 (둘다 0인 경우도 포함, 둘다 무한인 경우 제외)\n",
    "        else:\n",
    "            if a != b:  # y절편이 다르면 겹칠 수 없다\n",
    "                return 0\n",
    "            else:  # y절편이 같은 경우\n",
    "                if max(x1, x2) > max(x3, x4):  # L1이 L2보다 오른쪽으로 길다\n",
    "                    if max(x3, x4) >= min(x1, x2):\n",
    "                        return 1\n",
    "                    else:\n",
    "                        return 0\n",
    "                else:  # L2가 L1보다 오른쪽으로 길거나 같다\n",
    "                    if max(x1, x2) >= min(x3, x4):\n",
    "                        return 1\n",
    "                    else:\n",
    "                        return 0\n",
    "\n",
    "\n",
    "x1, y1, x2, y2 = map(int, input().split())\n",
    "x3, y3, x4, y4 = map(int, input().split())\n",
    "print(check_cross_lines(x1, y1, x2, y2, x3, y3, x4, y4))\n",
    "\n",
    "# input\n",
    "# 1 1 5 5\n",
    "# 6 6 1 5"
   ]
  },
  {
   "cell_type": "markdown",
   "id": "acbada99-5149-4e0e-9b08-ed721d79b8c7",
   "metadata": {},
   "source": [
    "## 선분 교차 1\n",
    "\n",
    "- 문제 출처: [백준 17386번](https://www.acmicpc.net/problem/17386)"
   ]
  },
  {
   "cell_type": "markdown",
   "id": "8b5f1ab3-39bb-4919-9cb0-1e86be83b0ef",
   "metadata": {},
   "source": [
    "`-` [선분 교차 2](https://www.acmicpc.net/problem/17387)와 비슷한데 예외조건이 더 적다\n",
    "\n",
    "`-` 세 점이 일직선 위에 있는 경우는 없다 (네 점이 일직선 위에 있는 경우는 존재함)\n",
    "\n",
    "`-` 한 선분의 끝 점이 다른 선분이나 끝 점 위에 있는 것은 교차하는 것이 아니다\n",
    "\n",
    "`-` 선분 교차 2 풀이에 사용한 코드 그대로 입력하니 맞았다...?\n",
    "\n",
    "`-` 선분 교차 1 에서 추가적인 예외케이스를 고려한 것이 선분 교차 2 여서 그런 것"
   ]
  },
  {
   "cell_type": "markdown",
   "id": "bb60ba04-0244-49e0-803c-de9e5e01fc41",
   "metadata": {
    "tags": []
   },
   "source": [
    "## 선분 교차 3\n",
    "\n",
    "- 문제 출처: [백준 20149번](https://www.acmicpc.net/problem/20149)"
   ]
  },
  {
   "cell_type": "markdown",
   "id": "4ebca89c-8b6d-4f97-aaaa-d5b29f7b2dc9",
   "metadata": {},
   "source": [
    "`-` [선분 교차 2](https://www.acmicpc.net/problem/17387) 문제에서 교점의 좌표만 추가로 출력하면 된다 (한 점에서 교차하는 경우)\n",
    "\n",
    "`-` 교차하는데 기울기가 다르다면 무조건 교점이 존재\n",
    "\n",
    "`-` 만약 교차하는데 기울기가 같다면 $L1$의 점 하나와 $L2$의 점 하나가 일치해야 교점이 존재한다 (그 외는 겹쳐서 교점이 하나가 아니라 무한개)"
   ]
  },
  {
   "cell_type": "code",
   "execution_count": 86,
   "id": "cf666ec8-7720-418d-97d1-9d84d0002177",
   "metadata": {},
   "outputs": [
    {
     "name": "stdin",
     "output_type": "stream",
     "text": [
      " 2 8 9 23\n",
      " 1 10 9 8\n"
     ]
    },
    {
     "name": "stdout",
     "output_type": "stream",
     "text": [
      "1\n",
      "2.7313432835820897 9.567164179104477\n"
     ]
    }
   ],
   "source": [
    "def check_cross_lines(x1, y1, x2, y2, x3, y3, x4, y4):\n",
    "    error = 1e-7  # 반올림 오차\n",
    "    # 기본적인 기울기와 절편을 계산한다\n",
    "    if x1 != x2:  # L1의 기울기가 무한이 아니다\n",
    "        m = (y2 - y1) / (x2 - x1)  # 기울기\n",
    "        a = -m*x1 + y1  # y절편\n",
    "    else:  # L1의 기울기가 무한 (세로 직선)\n",
    "        m, a = 3000000, 0  # 임의값 부여함 (기울기가 무한이 아닌경우 최대값은 x, y 범위에 의해 2백만이다)\n",
    "    if x3 != x4:  # 기울기가 무한이 아니다\n",
    "        n = (y4 - y3) / (x4 - x3)  # 기울기\n",
    "        b = -n*x3 + y3  # y절편\n",
    "    else:  # L2의 기울기가 무한 (세로 직선)\n",
    "        n, b = 3000000, 0  # 임의값 부여함\n",
    "    # 기울기와 절편을 바탕으로 두 선분의 교차여부를 판단한다\n",
    "    if m != n:  # 기울기가 다르다면 (일반 케이스)\n",
    "        # L1의 기울기만 무한 (L2는 무한 아님)\n",
    "        if x1 == x2:\n",
    "            x = x1  # 교점의 x좌표\n",
    "            y = n*x1 + b  # 교점의 y좌표\n",
    "        # L2의 기울기만 무한 (L1은 무한 아님)\n",
    "        elif x3 == x4:\n",
    "            x = x3  # 교점의 x좌표\n",
    "            y = m*x3 + a  # 교점의 y좌표\n",
    "        # L1과 L2모두 기울기가 무한이 아니면서 서로 기울기가 다르다\n",
    "        else:\n",
    "            x = (b - a) / (m - n)  # 교점의 x좌표\n",
    "            y = (m*b - n*a) / (m - n)  # 교점의 y좌표\n",
    "        # 두 선분의 기울기가 다를 때 두 선분의 교차여부 판단\n",
    "        if min(x1, x2) - error <= x <= max(x1, x2) + error and min(x3, x4) - error <= x <= max(x3, x4) + error and\\\n",
    "        min(y1, y2) - error <= y <= max(y1, y2) + error and min(y3, y4) - error <= y <= max(y3, y4) + error:\n",
    "            return f'1\\n{x} {y}'  # 기울기가 다를 때 교점은 위에서 계산한 x, y\n",
    "        else:\n",
    "            return 0\n",
    "    else:  # 기울기가 똑같다면 (특이 케이스)\n",
    "        # L1과 L2의 기울기가 무한\n",
    "        if x1 == x2 and x3 == x4:\n",
    "            if x1 != x3:  # x절편이 다르다면 서로 교차하지 않는다\n",
    "                return 0\n",
    "            else:  # x절편이 같은 경우\n",
    "                if max(y1, y2) > max(y3, y4):  # L1이 L2보다 위쪽으로 길다\n",
    "                    if max(y3, y4) > min(y1, y2): \n",
    "                        return 1  # L1과 L2가 겹친다 (교점 무한개)\n",
    "                    elif max(y3, y4) == min(y1, y2):\n",
    "                        return f'1\\n{x1} {min(y1, y2)}'  # L1의 점 하나와 L2의 점 하나가 일치해야 교점이 존재\n",
    "                    else:\n",
    "                        return 0\n",
    "                else:  # L2가 L1보다 위쪽으로 길거나 같다\n",
    "                    if max(y1, y2) > min(y3, y4):\n",
    "                        return 1  # L1과 L2가 겹친다 (교점 무한개) \n",
    "                    elif max(y1, y2) == min(y3, y4):\n",
    "                        return f'1\\n{x1} {min(y3, y4)}' # L1의 점 하나와 L2의 점 하나가 일치해야 교점이 존재\n",
    "                    else:\n",
    "                        return 0\n",
    "        # 두 선분의 기울기가 같은 경우 (둘다 0인 경우도 포함, 둘다 무한인 경우 제외)\n",
    "        else:\n",
    "            if a != b:  # y절편이 다르면 겹칠 수 없다\n",
    "                return 0\n",
    "            else:  # y절편이 같은 경우\n",
    "                if max(x1, x2) > max(x3, x4):  # L1이 L2보다 오른쪽으로 길다\n",
    "                    if max(x3, x4) > min(x1, x2):\n",
    "                        return 1  # L1과 L2가 겹친다(교점 무한개)\n",
    "                    elif max(x3, x4) == min(x1, x2):  # L1의 점 하나와 L2의 점 하나가 일치해야 교점이 존재\n",
    "                        if x1 < x2: \n",
    "                            return f'1\\n{x1} {y1}'\n",
    "                        else:\n",
    "                            return f'1\\n{x2} {y2}'\n",
    "                    else:\n",
    "                        return 0\n",
    "                else:  # L2가 L1보다 오른쪽으로 길거나 같다\n",
    "                    if max(x1, x2) > min(x3, x4):\n",
    "                        return 1  # L1과 L2가 겹친다 (교점 무한개)\n",
    "                    elif min(x3, x4) == max(x1, x2):  # L1의 점 하나와 L2의 점 하나가 일치해야 교점이 존재\n",
    "                        if x3 < x4:\n",
    "                            return f'1\\n{x3} {y3}'\n",
    "                        else:\n",
    "                            return f'1\\n{x4} {y4}'\n",
    "                    else:\n",
    "                        return 0\n",
    "\n",
    "\n",
    "x1, y1, x2, y2 = map(int, input().split())\n",
    "x3, y3, x4, y4 = map(int, input().split())\n",
    "print(check_cross_lines(x1, y1, x2, y2, x3, y3, x4, y4))\n",
    "\n",
    "# input\n",
    "# 2 8 9 23\n",
    "# 1 10 9 8"
   ]
  },
  {
   "cell_type": "markdown",
   "id": "0bf42e00-842d-4ab9-b8c2-fe9bbfb3c660",
   "metadata": {},
   "source": [
    "## 집으로\n",
    "\n",
    "- 문제 출처: [백준 1069번](https://www.acmicpc.net/problem/1069)"
   ]
  },
  {
   "cell_type": "markdown",
   "id": "55c8a995-dfb7-499a-86ef-20c466a8ffee",
   "metadata": {},
   "source": [
    "`-` $(x,y)$와 $(0,0)$ 사이의 거리는 $d=\\sqrt{x^2+y^2}$이다\n",
    "\n",
    "`-` 걸을 때 드는 시간은 이동한 거리와 같고 점프는 $T$초에 $D$만큼 이동한다\n",
    "\n",
    "`-` `방법 1`: 우선 점프를 안하고 걷기만 하면 $\\sqrt{x^2+y^2}$ 시간이 걸린다\n",
    "\n",
    "`-` `방법 2`: 만약 $\\sqrt{x^2+y^2}$이 $D$의 배수라면 점프만 해서 이동할 수 있다\n",
    "\n",
    "`-` `방법 3`: $\\sqrt{x^2+y^2}$보다 적게 움직이는 선에서 점프를 하고 나머지를 걸어가는 방법이 있다\n",
    "\n",
    "`-` `방법 4`: $\\sqrt{x^2+y^2}$보다 많이 움직이는 선에서 점프를 하고 나머지를 걸어가는 방법이 있다\n",
    "\n",
    "`-` 위의 방법은 원점까지 일직선으로만 가는 방법이다\n",
    "\n",
    "`-` 점프를 꼭 $(x,y)$와 원점을 잇는 일직선상으로만 하지 않아도 된다\n",
    "\n",
    "`-` 문제를 쉽게 하기 위해 내가 원점에 있다고 해보자\n",
    "\n",
    "`-` 점프를 하면 한 번에 $D$만큼 움직이므로 점프를 한 번 하면 중심이 원점이고 반지름이 $D$인 원의 둘레 중 한 곳에 위치할 수 있다\n",
    "\n",
    "`-` 만약 점프를 한 번 더 한다면 어디로 갈 수 있을까?\n",
    "\n",
    "`-` 점프를 한 번 더 한다면 중심이 원점이고 반지름이 $2D$인 원의 내부 어디로든 갈 수 있다\n",
    "\n",
    "`-` 이게 왜 되는지 간략하게 설명해보자\n",
    "\n",
    "`-` 중심이 원점이고 반지름이 $2D$인 원의 내부 임의의 점 $(x_1, y_1)$을 고려해보자\n",
    "\n",
    "`-` 해당 위치에서 $D$ 길이의 선분을 긋는다고 할 때 중심이 원점이고 반지름이 $D$인 원의 둘레 중 어느 한 곳까지 선분을 그을 수 있다\n",
    "\n",
    "`-` 따라서 위의 내용이 성립하고 이를 확장해 생각하면 다음과 같다\n",
    "\n",
    "`-` 점프를 $N>1$번 하면 반지름이 $ND$인 원의 내부 어디로든 갈 수 있다\n",
    "\n",
    "`-` `방법 5`: $N > 1$이고 $ND > d$인 $N$이 존재하여 점프만 반복해 $NT$ 시간에 원점에 도착하는 방법이 있다\n",
    "\n",
    "`-` `방법 6`: `방법 5`의 확장으로 $d < D$이지만 점프를 $2$번 뛰어서 $2T$ 시간에 원점에 도착하는 방법이 있다\n",
    "\n",
    "`-` 예시 테스트 케이스가 많아서 디버깅하기 좋았다"
   ]
  },
  {
   "cell_type": "code",
   "execution_count": 74,
   "id": "081c4fe2-e183-479a-9a32-c213ecfa6c66",
   "metadata": {},
   "outputs": [
    {
     "name": "stdin",
     "output_type": "stream",
     "text": [
      " 400 300 150 10\n"
     ]
    },
    {
     "name": "stdout",
     "output_type": "stream",
     "text": [
      "40.0\n"
     ]
    }
   ],
   "source": [
    "def solution():\n",
    "    X, Y, D, T = map(int, input().split())\n",
    "    dist = (X**2 + Y**2)**0.5\n",
    "    answer = dist  # 방법 1: 오직 걷기\n",
    "    if dist % D == 0:\n",
    "        answer = min(T * (dist // D), answer)  # 방법 2: 오직 일직선 점프\n",
    "    under_jump_and_walk = T * (dist // D) + dist - (dist // D) * D  # 방법 3: 모자라게 일직선 점프 후 걷기\n",
    "    over_jump_and_walk = T * (dist // D + 1) + (dist // D + 1) * D - dist  # 방법 4: 초과하여 일직선 점프 후 되돌아 걷기\n",
    "    answer = min(answer, under_jump_and_walk, over_jump_and_walk)\n",
    "    if dist // D >= 1:\n",
    "        only_jump = T * (dist // D + 1)  # 방법 5\n",
    "        answer = min(only_jump, answer)\n",
    "    if dist < D:  # 점프 2번\n",
    "        answer = min(2 * T, answer)  # 방법 6\n",
    "    print(answer)\n",
    "\n",
    "\n",
    "solution()\n",
    "\n",
    "# input\n",
    "# 400 300 150 10"
   ]
  },
  {
   "cell_type": "markdown",
   "id": "fcac5c42-62b5-422c-b0f1-bda88595a322",
   "metadata": {},
   "source": [
    "## 두 원\n",
    "\n",
    "- 문제 출처: [백준 7869번](https://www.acmicpc.net/problem/7869)"
   ]
  },
  {
   "cell_type": "markdown",
   "id": "df28ffb0-2c2f-4366-9652-f77019d5a24a",
   "metadata": {},
   "source": [
    "`-` 이 문제를 풀기 위해선 두 원의 위치 관계를 모두 알아야 한다\n",
    "\n",
    "`-` 두 원의 중심 사이의 거리가 두 원의 반지름의 합보다 크거나 같다면 교차하는 영역의 넓이는 $0$이다\n",
    "\n",
    "`-` 한 원이 다른 원에 포함되어 있을 수도 있으며 이때 교차하는 영역의 넓이는 작은 원의 넓이와 같다\n",
    "\n",
    "`-` 두 원의 반지름이 각각 $r_1, r_2$이고 $r1\\le r2$라고 해보자\n",
    "\n",
    "`-` 두 원의 중심 사이의 거리를 $d$라고 하자\n",
    "\n",
    "`-` $d+r_1 \\le r_2$라면 반지름이 $r_1$인 원은 반지름이 $r_2$인 원에 포함되어 있는 것이다\n",
    "\n",
    "`-` 나머지 경우에 대해선 두 원이 두 점에서 만나게 된다\n",
    "\n",
    "`-` 두 원을 똑같이 평행 이동 한다면 교차하는 영역의 넓이는 동일하다\n",
    "\n",
    "`-` 편의를 위해 하나의 원을 원점으로 이동시키자 (나머지 원도 그에 따라 평행 이동 한다)\n",
    "\n",
    "`-` 임의의 원의 중심이 $(x_1,y_1)$일 때 두 원의 중심의 좌표에서 $x_1, y_1$을 각각 빼주면 평행 이동 된 것이다"
   ]
  },
  {
   "cell_type": "markdown",
   "id": "c74d9cce-aa4c-481b-9761-6e8c53bf6680",
   "metadata": {},
   "source": [
    "### 두 원이 교차하는 영역의 넓이 계산"
   ]
  },
  {
   "cell_type": "markdown",
   "id": "8ca85099-0e1e-4430-b791-342ffe360eed",
   "metadata": {},
   "source": [
    "`-` 우선 두 원의 교점을 계산해야 한다\n",
    "\n",
    "`-` 교점의 중점과 큰 원의 중점 사이의 거리가 두 원의 중점 사이의 거리보다 큰 경우와 작은 경우가 있다\n",
    "\n",
    "`-` 경우마다 계산을 다르게 해야 한다"
   ]
  },
  {
   "cell_type": "markdown",
   "id": "75b24e4b-4fd0-472c-b567-e9eabe7fe599",
   "metadata": {},
   "source": [
    "#### 두 원의 교점 계산"
   ]
  },
  {
   "cell_type": "markdown",
   "id": "c6caa112-466b-4bc9-8ec2-f4ebd3843756",
   "metadata": {},
   "source": [
    "`-` 편의를 위해 하나의 원을 원점으로 이동시킨 기준이다"
   ]
  },
  {
   "cell_type": "markdown",
   "id": "87d4c71f-5184-46ab-ae05-05e4c7a779b5",
   "metadata": {},
   "source": [
    "- $x_2 \\ne 0,\\; y_2 \\ne 0$"
   ]
  },
  {
   "cell_type": "markdown",
   "id": "293c7ba6-23fb-4c0b-be49-7fbb460dd31f",
   "metadata": {},
   "source": [
    "`-` $x_2,y_2,r_1,r_2$는 상수\n",
    "\n",
    "`-` $x^2+y^2=r_1^2$\n",
    "\n",
    "`-` $(x-x_2)^2+(y-y_2)^2=r_2^2$\n",
    "\n",
    "`-` $x^2-2x_2x + x_2^2 + y^2-2y_2y + y_2^2=r_2^2$\n",
    "\n",
    "`-` $-2x_2x + x_2^2 -2y_2y + y_2^2=r_2^2 - r_1^2$\n",
    "\n",
    "`-` $x =\\dfrac{r_1^2 -r_2^2 +x_2^2 - 2y_2y +  y_2^2}{2x_2}$\n",
    "\n",
    "`-` $a = \\dfrac{r_1^2 -r_2^2 +x_2^2 +y_2^2}{2x_2}$\n",
    "\n",
    "`-` $x =-\\dfrac{y_2}{x_2}y + a$\n",
    "\n",
    "`-` $b = -\\dfrac{y_2}{x_2}$\n",
    "\n",
    "`-` $x =by + a$\n",
    "\n",
    "`-` $(by + a)^2+y^2=r_1^2$\n",
    "\n",
    "`-` $b^2y^2 + 2aby + a^2+y^2=r_1^2$\n",
    "\n",
    "`-` $(b^2 + 1)y^2 + 2aby + a^2 -r_1^2  = 0$\n",
    "\n",
    "`-` $y=\\dfrac{-2ab \\pm \\sqrt{4a^2b^2 - 4(b^2+1)(a^2-r_1^2)}}{2b^2 + 2} = y_{p},y_{q}$  (근의 공식 사용)\n",
    "\n",
    "`-` $x =by + a$에 $y_{p},y_{q}$ 대입\n",
    "\n",
    "`-` $x =by_{p} + a,\\; by_{q} + a$"
   ]
  },
  {
   "cell_type": "markdown",
   "id": "c8646327-298f-4bc8-b544-55173da70387",
   "metadata": {},
   "source": [
    "- $x_2 = 0,\\; y_2 \\ne 0$"
   ]
  },
  {
   "cell_type": "markdown",
   "id": "fa2d26c6-45f1-4601-8298-b00698624cd0",
   "metadata": {},
   "source": [
    "`-` $x_2,y_2,r_1,r_2$는 상수\n",
    "\n",
    "`-` $x^2+y^2=r_1^2$\n",
    "\n",
    "`-` $x^2+(y-y_2)^2=r_2^2$\n",
    "\n",
    "`-` $x^2 + y^2-2y_2y + y_2^2=r_2^2$\n",
    "\n",
    "`-` $-2y_2y + y_2^2=r_2^2 - r_1^2$\n",
    "\n",
    "`-` $y =\\dfrac{r_1^2 - r_2^2  + y_2^2}{2y_2} = y_p$\n",
    "\n",
    "`-` $x^2+y_p^2=r_1^2$\n",
    "\n",
    "`-` $x=\\pm\\sqrt{r_1^2 - y_p^2}$ "
   ]
  },
  {
   "cell_type": "markdown",
   "id": "ac8e47cd-b1db-4de6-93f7-17de5044da3d",
   "metadata": {},
   "source": [
    "- $x_2 \\ne 0,\\; y_2 = 0$"
   ]
  },
  {
   "cell_type": "markdown",
   "id": "3021852e-7df7-4b8f-869e-d7a78accb5ef",
   "metadata": {},
   "source": [
    "`-` $x_2,y_2,r_1,r_2$는 상수\n",
    "\n",
    "`-` $x^2+y^2=r_1^2$\n",
    "\n",
    "`-` $(x-x_2)^2+y^2=r_2^2$\n",
    "\n",
    "`-` $x^2-2x_2x + x_2^2 + y^2=r_2^2$\n",
    "\n",
    "`-` $-2x_2x + x_2^2 =r_2^2 - r_1^2$\n",
    "\n",
    "`-` $x =\\dfrac{r_1^2 -r_2^2 +x_2^2}{2x_2} = x_p$\n",
    "\n",
    "`-` $x_p^2+y^2=r_1^2$\n",
    "\n",
    "`-` $y=\\pm\\sqrt{r_1^2 - x_p^2}$ "
   ]
  },
  {
   "cell_type": "markdown",
   "id": "0ae8731a-8f85-41ec-8c1f-4a53d0b766d9",
   "metadata": {},
   "source": [
    "#### 부채꼴과 삼각형 넓이 계산"
   ]
  },
  {
   "cell_type": "markdown",
   "id": "0f26b14e-c985-462c-993d-81bba57aa501",
   "metadata": {},
   "source": [
    "- 교점의 중점과 큰 원의 중점 사이의 거리가 두 원의 중점 사이의 거리보다 큰 경우 (멀리 떨어진 경우)"
   ]
  },
  {
   "cell_type": "markdown",
   "id": "37149900-9724-46c7-94ae-892fe92da5b3",
   "metadata": {},
   "source": [
    "`-` 두 원의 교점을 $p_1, p_2$라고 하자\n",
    "\n",
    "`-` 각 원의 중점을 $a, b$라고 하자\n",
    "\n",
    "`-` 부채꼴 $ap_1p_2$를 고려하자\n",
    "\n",
    "`-` $p_1, p_2$의 중점을 $p_c$라고 하자\n",
    "\n",
    "`-` 부채꼴 $ap_1p_2$의 중심각을 $2\\theta$라고 하자\n",
    "\n",
    "`-` 삼각형 $ap_1p_c$를 고려하자\n",
    "\n",
    "`-` 이 삼각형은 직각삼각형이고 한 각이 $\\theta$이다\n",
    "\n",
    "`-` $\\theta$를 알면 부채꼴 $ap_1p_2$의 넓이를 계산할 수 있다\n",
    "\n",
    "`-` $\\tan\\theta = \\dfrac{\\overline{ap_c}}{\\overline{p_1p_c}}$이므로 $\\theta = \\arctan\\dfrac{\\overline{ap_c}}{\\overline{p_1p_c}}$\n",
    "\n",
    "`-` 따라서 부채꼴의 넓이는 $\\pi r_1^2 \\dfrac{2\\theta}{2\\pi} = r_1^2\\theta$\n",
    "\n",
    "`-` 삼각형 $ap_1p_2$의 넓이는 $\\dfrac{1}{2}\\overline{p_1p_2} \\times \\overline{ap_c}$이다\n",
    "\n",
    "`-` 이를 부채꼴의 넓이에서 빼주면 교차하는 영역을 $\\overline{p_1p_2}$로 쪼갠 것 중 하나를 계산할 수 있다\n",
    "\n",
    "`-` 나머지 원에 대해서도 같은 방법을 계산한 뒤 둘을 더하면 교차하는 영역의 넓이를 구할 수 있다"
   ]
  },
  {
   "cell_type": "markdown",
   "id": "807d8cd3-7b01-4cab-88e3-3a4c3920173d",
   "metadata": {},
   "source": [
    "- 교점의 중점과 큰 원의 중점 사이의 거리가 두 원의 중점 사이의 거리보다 작은 경우 (가까운 경우)"
   ]
  },
  {
   "cell_type": "markdown",
   "id": "953c27ff-e070-4c94-80e9-f545cf093c22",
   "metadata": {},
   "source": [
    "`-` 큰 원의 입장에서 부채꼴 넓이를 계산하고 삼각형 넓이를 계산해 차감하여 교차하는 영역의 일부 넓이를 구하는 것은 동일하다\n",
    "\n",
    "`-` 작은 원의 입장에선 $p_c$보다 원의 중점이 큰 원의 중점과 더 가깝다\n",
    "\n",
    "`-` 위와 똑같이 하되 결괏값을 원의 넓이에서 빼주면 된다"
   ]
  },
  {
   "cell_type": "markdown",
   "id": "572e2875-0408-4afa-81a6-6c5c316cd4bc",
   "metadata": {},
   "source": [
    "### 문제 풀이 코드"
   ]
  },
  {
   "cell_type": "code",
   "execution_count": 57,
   "id": "dadb14d2-69d8-477f-a592-0676daec73f8",
   "metadata": {},
   "outputs": [
    {
     "name": "stdin",
     "output_type": "stream",
     "text": [
      " 20.0 30.0 15.0 40.0 30.0 30.0\n"
     ]
    },
    {
     "name": "stdout",
     "output_type": "stream",
     "text": [
      "608.366\n"
     ]
    }
   ],
   "source": [
    "import math\n",
    "\n",
    "\n",
    "def move_parallel(x1, y1, x2, y2):\n",
    "    return 0, 0, x2 - x1, y2 - y1\n",
    "\n",
    "\n",
    "def dist(x1, y1, x2, y2):\n",
    "    return ((x1 - x2)**2 + (y1 - y2)**2)**0.5\n",
    "\n",
    "\n",
    "def check_unreachable(x1, y1, r1, x2, y2, r2):\n",
    "    d = dist(x1, y1, x2, y2)  # 두 원의 중심 사이의 거리\n",
    "    if d >= r1 + r2:\n",
    "        return True\n",
    "    return False\n",
    "\n",
    "\n",
    "def check_inside(x1, y1, r1, x2, y2, r2):\n",
    "    d = dist(x1, y1, x2, y2)  # 두 원의 중심 사이의 거리\n",
    "    r_min, r_max = min(r1, r2), max(r1, r2)\n",
    "    if d + r_min <= r_max:\n",
    "        return True\n",
    "    return False\n",
    "\n",
    "\n",
    "def quadratic_formula(a, b, c):\n",
    "    D = b**2 - 4 * a * c\n",
    "    return (-b + D**0.5) / (2 * a), (-b - D**0.5) / (2 * a)\n",
    "\n",
    "\n",
    "def compute_intersection_points(r1, x2, y2, r2):\n",
    "    # x1, y1은 원점이어야 한다\n",
    "    x1, y1 = 0, 0\n",
    "    if x2 == 0:\n",
    "        y = (r1**2 - r2**2 + y2**2) / (2 * y2)\n",
    "        x = (r1**2 - y**2)**0.5\n",
    "        return (x, y), (-x, y)\n",
    "    if y2 == 0:\n",
    "        x = (r1**2 - r2**2 + x2**2) / (2 * x2)\n",
    "        y = (r1**2 - x**2)**0.5\n",
    "        return (x, y), (x, -y)\n",
    "    a = (r1**2 - r2**2 + x2**2 + y2**2) / (2 * x2)\n",
    "    b = -y2 / x2\n",
    "    coef_a = b**2 + 1\n",
    "    coef_b = 2 * a * b\n",
    "    coef_c = a**2 - r1**2\n",
    "    yp, yq = quadratic_formula(coef_a, coef_b, coef_c)\n",
    "    xp = b * yp + a\n",
    "    xq = b * yq + a\n",
    "    return (xp, yp), (xq, yq)\n",
    "\n",
    "\n",
    "def compute_intersection_area(x1, y1, r1, x2, y2, r2):\n",
    "    x1, y1, x2, y2 = move_parallel(x1, y1, x2, y2)\n",
    "    (xp, yp), (xq, yq) = compute_intersection_points(r1, x2, y2, r2)   \n",
    "    area1 = _compute_partial_intersection_area(x1, y1, r1, xp, yp, xq, yq)\n",
    "    area2 = _compute_partial_intersection_area(x2, y2, r2, xp, yp, xq, yq)\n",
    "    intersection_area = area1 + area2\n",
    "    xc = (xp + xq) / 2\n",
    "    yc = (yp + yq) / 2\n",
    "    if r1 < r2 and dist(x2, y2, x1, y1) < dist(x2, y2, xc, yc):\n",
    "        intersection_area += math.pi * r1**2 - 2 * area1\n",
    "    if r2 < r1 and dist(x1, y1, x2, y2) < dist(x1, y1, xc, yc):\n",
    "        intersection_area += math.pi * r2**2 - 2 * area2\n",
    "    return intersection_area\n",
    "\n",
    "\n",
    "def _compute_partial_intersection_area(x, y, r, xp, yp, xq, yq):\n",
    "    xc = (xp + xq) / 2\n",
    "    yc = (yp + yq) / 2\n",
    "    θ = math.atan(dist(xp, yp, xc, yc) / dist(x, y, xc, yc)) \n",
    "    sector_area = r**2 * θ\n",
    "    triangle_area = 0.5 * dist(xp, yp, xq, yq) * dist(x, y, xc, yc)\n",
    "    partial_intersection_area = sector_area - triangle_area\n",
    "    return partial_intersection_area\n",
    "\n",
    "\n",
    "def solution():\n",
    "    x1, y1, r1, x2, y2, r2 = map(float, input().split())\n",
    "    x1, y1, x2, y2 = move_parallel(x1, y1, x2, y2)\n",
    "    if check_unreachable(x1, y1, r1, x2, y2, r2):\n",
    "        answer = 0.0\n",
    "    elif check_inside(x1, y1, r1, x2, y2, r2):\n",
    "        answer = math.pi * min(r1, r2)**2\n",
    "    else:\n",
    "        answer = compute_intersection_area(x1, y1, r1, x2, y2, r2)\n",
    "    print(f\"{answer:.3f}\")\n",
    "\n",
    "\n",
    "solution()\n",
    "\n",
    "# input\n",
    "# 20.0 30.0 15.0 40.0 30.0 30.0"
   ]
  },
  {
   "cell_type": "markdown",
   "id": "6adb48b0-e9ca-4d3a-b55e-cd3e00f78109",
   "metadata": {},
   "source": [
    "## 다각형의 면적\n",
    "\n",
    "- 문제 출처: [백준 2166번](https://www.acmicpc.net/problem/2166)"
   ]
  },
  {
   "cell_type": "markdown",
   "id": "95f60b14-0685-4293-a789-4ffdacddaa36",
   "metadata": {},
   "source": [
    "`1.` 첫 번째 시도\n",
    "\n",
    "`-` 다각형 내부의 임의의 한 점을 생각하자\n",
    "\n",
    "`-` 아무거나 상관없지만 모든 꼭짓점의 산술 평균인 무게 중심 $g$를 고려하자\n",
    "\n",
    "`-` 모든 꼭짓점에 대해 $g$와 선을 이어보자\n",
    "\n",
    "`-` 그러면 $N$개의 꼭짓점을 가진 다각형은 $N$개의 삼각형으로 쪼개진다\n",
    "\n",
    "`-` 어떤 다각형이든 여러 삼각형으로 쪼갤 수 있으므로 삼각형의 넓이만 계산할 수 있다면 다각형의 넓이도 계산할 수 있다\n",
    "\n",
    "`-` 우리가 아는 것은 꼭짓점의 좌표와 무게 중심의 좌표이다\n",
    "\n",
    "`-` 즉, 삼각형을 이루는 세 점의 좌표를 가지고 넓이를 계산할 수 있으면 정답을 구할 수 있다\n",
    "\n",
    "`-` 삼각형의 세 좌표를 $(x_1,y_1),(x_2,y_2),(x_3,y_3)$라고 하자\n",
    "\n",
    "`-` $(x_1,y_1)$과 $(x_2,y_2)$를 잇는 직선의 방정식을 계산하자\n",
    "\n",
    "`-` 기울기 $m$은 $y$ 증가량을 $x$ 증가량으로 나눈 것이므로 $m=\\dfrac{y_2-y_1}{x_2-x_1}$이다"
   ]
  },
  {
   "cell_type": "markdown",
   "id": "3d5006bf-7b1e-4030-9a5e-bbb531eb00f3",
   "metadata": {},
   "source": [
    "`-` $m \\ne 0$라고 가정하자\n",
    "\n",
    "`-` 그럼 $y=mx+ n$이고 $(x_1,y_1)$을 대입하면 $n = y_1-mx_1$이다\n",
    "\n",
    "`-` $(x_3,y_3)$에서 $y=mx+n$에 수선을 내리면 삼각형의 높이가 된다\n",
    "\n",
    "`-` 밑변의 길이는 $(x_1,y_1)$과 $(x_2,y_2)$사이의 거리이므로 삼각형의 넓이를 계산할 수 있다\n",
    "\n",
    "`-` 임의의 직선의 기울기와 해당 직선과 수직을 이루는 직선의 기울기를 곱하면 $-1$이다\n",
    "\n",
    "`-` 기울기가 $-\\frac{1}{m}$이고 $(x_3,y_3)$를 지나는 직선의 방정식은 $y=-\\frac{1}{m}x+ y_3+\\frac{x_3}{m}$이다\n",
    "\n",
    "`-` 두 직선의 교점과 $(x_3,y_3)$ 사이의 거리는 삼각형의 높이가 된다\n",
    "\n",
    "`-` $mx+n=-\\frac{1}{m}x+y_3+\\frac{x_3}{m}$로부터 $x_i=\\dfrac{my_3+x_3-mn}{m^2+1}, y_i=-\\frac{1}{m}x_i+ y_3+\\frac{x_3}{m}$이다\n"
   ]
  },
  {
   "cell_type": "markdown",
   "id": "f0aecc51-6ec0-4df0-afdd-52291e21fdc5",
   "metadata": {},
   "source": [
    "`-` 이제 $x_1=x_2$인 상황을 고려하자\n",
    "\n",
    "`-` 이때의 기울기는 $x$축과 수직이므로 $(x_1,y_1)$과 $(x_2,y_2)$를 잇는 직선의 방정식은 $x=x_1$이다\n",
    "\n",
    "`-` 삼각형의 밑변의 길이는 $|y_2-y_1|$이다\n",
    "\n",
    "`-` 삼각형의 높이의 길이는 $|x_3-x_1|$이다"
   ]
  },
  {
   "cell_type": "markdown",
   "id": "37717ea1-d51f-4ae5-8739-323f93b99403",
   "metadata": {},
   "source": [
    "`-` 이제 $y_1=y_2$인 상황을 고려하자\n",
    "\n",
    "`-` 이때의 기울기는 $x$축과 평행이므로 $(x_1,y_1)$과 $(x_2,y_2)$를 잇는 직선의 방정식은 $y=y_1$이다\n",
    "\n",
    "`-` 삼각형의 밑변의 길이는 $|x_2-x_1|$이다\n",
    "\n",
    "`-` 삼각형의 높이의 길이는 $|y_3-y_1|$이다"
   ]
  },
  {
   "cell_type": "markdown",
   "id": "a9564c82-bf39-4b47-a1b5-345a553d3d0e",
   "metadata": {},
   "source": [
    "`-` 삼각형이므로 $x$ 좌표가 모두 같거나 $y$ 좌표가 모두 같은 경우는 없다\n",
    "\n",
    "`-` 임의의 세 점에 대해 삼각형의 넓이를 계산할 수 있으므로 다각형의 넓이도 계산 가능하다"
   ]
  },
  {
   "cell_type": "markdown",
   "id": "1fcc93ae-fd15-4f57-a261-e01b7c742bd9",
   "metadata": {},
   "source": [
    "- 틀린 풀이"
   ]
  },
  {
   "cell_type": "markdown",
   "id": "7bb99327-f4cb-42dd-8987-114f73f272c7",
   "metadata": {},
   "source": [
    "```python\n",
    "def compute_triangle_area(x1, y1, x2, y2, x3, y3):\n",
    "    if x1 == x2:\n",
    "        height = abs(x3 - x1)\n",
    "        base = abs(y2 - y1)\n",
    "        area = 0.5 * base * height\n",
    "        return area\n",
    "    if y1 == y2:\n",
    "        height = abs(y3 - y1)\n",
    "        base = abs(x2 - x1)\n",
    "        area = 0.5 * base * height\n",
    "        return area\n",
    "    m = (y2 - y1) / (x2 - x1)\n",
    "    n = y1 - m * x1\n",
    "    xi = (m * y3 + x3 - m * n) / (m**2 + 1)  # 두 직선의 교점\n",
    "    yi = -xi / m + y3 + x3 / m  # 두 직선의 교점\n",
    "    height = ((xi - x3)**2 + (yi - y3)**2)**0.5\n",
    "    base = ((x2 - x1)**2 + (y2 - y1)**2)**0.5\n",
    "    area = 0.5 * base * height\n",
    "    return area\n",
    "\n",
    "\n",
    "def compute_centroid(*points):\n",
    "    n = len(points)\n",
    "    xs_ys = list(zip(*points))\n",
    "    xs = xs_ys[0]\n",
    "    ys = xs_ys[1]\n",
    "    x = sum(xs) / n\n",
    "    y = sum(ys) / n\n",
    "    return x, y\n",
    "\n",
    "\n",
    "def solution():\n",
    "    N = int(input())\n",
    "    points = []\n",
    "    for _ in range(N):\n",
    "        x, y = map(int, input().split())\n",
    "        points.append((x, y))\n",
    "    xg, yg = compute_centroid(*points)\n",
    "    points.append(points[0])  # 첫 번째 꼭짓점과 마지막 꼭짓점과 무게 중심을 이은 삼각형을 만들기 위함\n",
    "    area = 0\n",
    "    for i in range(N):\n",
    "        x1, y1 = points[i]\n",
    "        x2, y2 = points[i + 1]\n",
    "        triangle_area = compute_triangle_area(x1, y1, x2, y2, xg, yg)\n",
    "        area += triangle_area\n",
    "    print(f\"{area:.1f}\")\n",
    "\n",
    "\n",
    "solution()\n",
    "```"
   ]
  },
  {
   "cell_type": "markdown",
   "id": "3ea9e24f-c03c-43f8-ad69-53ffd32f6341",
   "metadata": {},
   "source": [
    "`2.` 두 번째 시도\n",
    "\n",
    "`-` 첫 번째 시도가 틀린 이유는 무게 중심이 다각형 외부에 만들어질 수도 있기 때문이다\n",
    "\n",
    "`-` 무게 중심이 다각형 외부에 존재하면 넓이를 제대로 계산할 수 없다\n",
    "\n",
    "`-` 이를 해결하기 위해 삼각형을 만들 때 다각형의 꼭짓점만 사용하자\n",
    "\n",
    "`-` 다각형에서 연속된 세 개의 꼭짓점을 고려하자\n",
    "\n",
    "`-` 순서대로 $(x_1, y_1), (x_2,y_2), (x_3,y_3)$라고 하자\n",
    "\n",
    "`-` 세 점이 이루는 삼각형은 다각형의 입장에서 오목하거나 오목하지 않다\n",
    "\n",
    "`-` 오목하다는 것은 세 점이 이루는 삼각형이 다각형의 일부가 아니라 외부의 영역에 존재한다는 것이다\n",
    "\n",
    "`-` 근데 이제 세 점의 좌표만 보고 오목한지 볼록한지 알 수가 없다\n",
    "\n",
    "`-` 일단 CCW(Counter Clock Wise)를 공부하고 오자\n",
    "\n",
    "`-` CCW는 세 점이 있을 때 세 점이 이루는 방향이 직선인지 시계 방향인지 반시계 방향인지 판단하는 알고리즘이다\n",
    "\n",
    "`-` 외적부터 다시 익혀야 하는데 일단은 방법만 익히자 (나는 벡터가 제일 싫다)\n",
    "\n",
    "`-` 점 $A$를 $(x_1, y_1)$, 점 $B$를 $(x_2,y_2)$, 점 $C$를 $(x_3,y_3)$라고 하자\n",
    "\n",
    "`-` 그럼 CCW는 $(x_2-x_1)(y_3-y_1)-(x_3-x_1)(y_2-y_1)$이다\n",
    "\n",
    "`-` CCW가 $0$이면 두 벡터가 직선이고 양수면 반시계 방향, 음수면 시계 방향을 이룬다\n",
    "\n",
    "`-` 근데 여기서 확장을 못하겠다 (머리가 안 됨)\n",
    "\n",
    "`-` 그래서 chatgpt한테 물어봤더니 신발끈 공식을 알려줬다\n",
    "\n",
    "`-` 이게 말도 안되는 사기 공식임 (생각해보니 학창시절에 삼각형 넓이 구할 때 사용했음)\n",
    "\n",
    "`-` 외적을 사용할건데 외적은 $3$차원부터 사용하는데 여기는 $2$차원이다\n",
    "\n",
    "`-` $z$축을 도입해서 값을 $0$으로 통일하고 외적을 구하자\n",
    "\n",
    "`-` 외적은 두 벡터에 수직인 벡터를 도출하는데 벡터의 크기는 두 벡터가 이루는 평행사변형의 넓이와 같다\n",
    "\n",
    "`-` 즉, 외적 크기를 $2$로 나누면 삼각형의 넓이가 된다\n",
    "\n",
    "`-` 어차피 넓이만 구하면 되니까 좌표 하나를 원점으로 이동시키고 그에 맞춰 다른 점들도 평행 이동 시키자\n",
    "\n",
    "`-` 원점과 다각형의 연속된 두 꼭짓점을 고려하고 이들을 이어 삼각형을 만들자\n",
    "\n",
    "`-` 여기서 외적을 계산하면 CCW가 도출되며 음수이거나 양수이다 ($0$은 면적에 영향을 안주니 무시하자)\n",
    "\n",
    "`-` 모든 꼭짓점에 대해 외적을 계산하여 더하면 음수와 양수가 서로 상쇄되는데 결국에 남는 것은 원래의 다각형의 $2$배이다\n",
    "\n",
    "`-` 외적값이 음수일수도 있으므로 절댓값을 취하고 $2$로 나누면 다각형의 넓이가 된다\n",
    "\n",
    "`-` 참고: https://en.wikipedia.org/wiki/Shoelace_formula"
   ]
  },
  {
   "cell_type": "code",
   "execution_count": 77,
   "id": "39e7faf3-1af8-4381-ab63-7ad85f86f8d6",
   "metadata": {},
   "outputs": [
    {
     "name": "stdin",
     "output_type": "stream",
     "text": [
      " 4\n",
      " 0 0\n",
      " 0 10\n",
      " 10 10\n",
      " 10 0\n"
     ]
    },
    {
     "name": "stdout",
     "output_type": "stream",
     "text": [
      "100.0\n"
     ]
    }
   ],
   "source": [
    "def shoelace_formula(*points):\n",
    "    n = len(points) - 1\n",
    "    area = 0\n",
    "    for i in range(n):\n",
    "        x1, y1 = points[i]\n",
    "        x2, y2 = points[i + 1]\n",
    "        cross_product = x1 * y2 - x2 * y1\n",
    "        area += cross_product\n",
    "    area = abs(area) / 2 \n",
    "    return area\n",
    "\n",
    "\n",
    "def solution():\n",
    "    N = int(input())\n",
    "    points = []\n",
    "    for _ in range(N):\n",
    "        x, y = map(int, input().split())\n",
    "        points.append((x, y))\n",
    "    points.append(points[0])  # 다각형 연결\n",
    "    area = shoelace_formula(*points)\n",
    "    print(f\"{area:.1f}\")\n",
    "\n",
    "\n",
    "solution()\n",
    "\n",
    "# input\n",
    "# 4\n",
    "# 0 0\n",
    "# 0 10\n",
    "# 10 10\n",
    "# 10 0"
   ]
  },
  {
   "cell_type": "markdown",
   "id": "53018b70-296a-44e4-814f-608331fdfb35",
   "metadata": {},
   "source": [
    "## 선분 그룹\n",
    "\n",
    "- 문제 출처: [백준 2162번](https://www.acmicpc.net/problem/2162)"
   ]
  },
  {
   "cell_type": "markdown",
   "id": "92fda396-e589-470d-bdd2-f8d1ab5bbf90",
   "metadata": {},
   "source": [
    "`-` [선분 교차 2](https://www.acmicpc.net/problem/17387)에서 사용한 코드를 그대로 사용해 두 선분이 만나는지 판단할 수 있다\n",
    "\n",
    "`-` 그룹을 만드는 것은 `union-find` 알고리즘을 사용하면 된다\n",
    "\n",
    "`-` 각 선분에 대해 나머지 선분과 연결되었는지 판단하자\n",
    "\n",
    "`-` 연결되었다면 두 선분이 속한 그룹을 union하자\n",
    "\n",
    "`-` `union-find` 연산은 거의 상수 시간에 끝나므로 위 알고리즘의 시간 복잡도는 $O\\left(N^2\\right)$이다"
   ]
  },
  {
   "cell_type": "code",
   "execution_count": 14,
   "id": "297ff31a-1ae5-4cfd-ba6b-36ba459112c7",
   "metadata": {},
   "outputs": [
    {
     "name": "stdin",
     "output_type": "stream",
     "text": [
      " 3\n",
      " 1 1 2 3\n",
      " 2 1 0 0\n",
      " 1 0 1 1\n"
     ]
    },
    {
     "name": "stdout",
     "output_type": "stream",
     "text": [
      "1\n",
      "3\n"
     ]
    }
   ],
   "source": [
    "def check_intersection(line1, line2):\n",
    "    x1, y1, x2, y2 = line1\n",
    "    x3, y3, x4, y4 = line2\n",
    "    error = 0.0000001\n",
    "    if x1 != x2:\n",
    "        m = (y2 - y1) / (x2 - x1)\n",
    "        a = -m*x1 + y1\n",
    "    else:\n",
    "        m, a = 3000000, 0  # 임의값 부여함\n",
    "    if x3 != x4:\n",
    "        n = (y4 - y3) / (x4 - x3)\n",
    "        b = -n*x3 + y3\n",
    "    else:\n",
    "        n, b = 3000000, 0  # 임의값 부여함\n",
    "    if m != n:\n",
    "        if x1 == x2:\n",
    "            x = x1\n",
    "            y = n*x1 + b\n",
    "        elif x3 == x4:\n",
    "            x = x3\n",
    "            y = m*x3 + a\n",
    "        else:\n",
    "            x = (b - a) / (m - n)\n",
    "            y = (m*b - n*a) / (m - n)\n",
    "        return min(x1, x2) - error <= x <= max(x1, x2) + error and min(x3, x4) - error <= x <= max(x3, x4) + error and\\\n",
    "        min(y1, y2) - error <= y <= max(y1, y2) + error and min(y3, y4) - error <= y <= max(y3, y4) + error\n",
    "    if x1 == x2 and x3 == x4:\n",
    "        if x1 != x3:\n",
    "            return False\n",
    "        if max(y1, y2) > max(y3, y4):\n",
    "            return max(y3, y4) >= min(y1, y2)\n",
    "        return max(y1, y2) >= min(y3, y4)\n",
    "    if a != b:\n",
    "        return False\n",
    "    if max(x1, x2) > max(x3, x4):\n",
    "        return max(x3, x4) >= min(x1, x2)\n",
    "    return max(x1, x2) >= min(x3, x4)\n",
    "\n",
    "\n",
    "def make_set(u):\n",
    "    p[u] = u\n",
    "    rank[u] = 0\n",
    "\n",
    "\n",
    "def find(u):\n",
    "    if p[u] != u:\n",
    "        p[u] = find(p[u])\n",
    "    return p[u]\n",
    "\n",
    "\n",
    "def union(u, v):\n",
    "    u_root = find(u)\n",
    "    v_root = find(v)\n",
    "    if u_root == v_root:\n",
    "        return\n",
    "    if rank[v_root] < rank[u_root]:\n",
    "        p[v_root] = u_root\n",
    "    elif rank[u_root] < rank[v_root]:\n",
    "        p[u_root] = v_root\n",
    "    else:\n",
    "        p[u_root] = v_root\n",
    "        rank[u_root] += 1\n",
    "    \n",
    "\n",
    "def solution():\n",
    "    global p, rank\n",
    "    N = int(input())\n",
    "    lines = []\n",
    "    for _ in range(N):\n",
    "        x1, y1, x2, y2 = map(int, input().split())\n",
    "        lines.append((x1, y1, x2, y2))\n",
    "    p = [u for u in range(N)]\n",
    "    rank = [0 for _ in range(N)]\n",
    "    for u in range(N):\n",
    "        make_set(u)\n",
    "    for u in range(N):\n",
    "        for v in range(N):\n",
    "            if u == v:\n",
    "                continue\n",
    "            is_intersection = check_intersection(lines[u], lines[v])\n",
    "            if not is_intersection:\n",
    "                continue\n",
    "            union(u, v)\n",
    "    groups = {}\n",
    "    for u in range(N):\n",
    "        parent = find(u)\n",
    "        if parent not in groups:\n",
    "            groups[parent] = 1\n",
    "        else:\n",
    "            groups[parent] += 1\n",
    "    num_groups = len(groups)\n",
    "    max_size = groups[max(groups, key=groups.get)]\n",
    "    print(num_groups)\n",
    "    print(max_size)\n",
    "\n",
    "\n",
    "solution()\n",
    "\n",
    "# input\n",
    "# 3\n",
    "# 1 1 2 3\n",
    "# 2 1 0 0\n",
    "# 1 0 1 1"
   ]
  },
  {
   "cell_type": "code",
   "execution_count": null,
   "id": "ee991950-c960-4794-aa4a-a8c4fd96f205",
   "metadata": {},
   "outputs": [],
   "source": []
  }
 ],
 "metadata": {
  "kernelspec": {
   "display_name": "Python 3 (ipykernel)",
   "language": "python",
   "name": "python3"
  },
  "language_info": {
   "codemirror_mode": {
    "name": "ipython",
    "version": 3
   },
   "file_extension": ".py",
   "mimetype": "text/x-python",
   "name": "python",
   "nbconvert_exporter": "python",
   "pygments_lexer": "ipython3",
   "version": "3.8.11"
  }
 },
 "nbformat": 4,
 "nbformat_minor": 5
}
