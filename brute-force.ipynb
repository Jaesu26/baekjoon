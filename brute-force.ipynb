{
 "cells": [
  {
   "cell_type": "markdown",
   "id": "5b308b25-eb96-44ef-90cd-c5d1d6405de8",
   "metadata": {},
   "source": [
    "# 브루트 포스 (Brute Force)\n",
    "\n",
    "`-` 완전탐색 알고리즘으로 가능한 모든 경우의 수를 탐색"
   ]
  },
  {
   "cell_type": "markdown",
   "id": "953eb25f-ee92-4cd8-8f31-e969efa8b682",
   "metadata": {},
   "source": [
    "## 블랙잭\n",
    "\n",
    "`-` 기존 룰: 카드의 합이 21을 넘지 않는 한도 내에서, 카드의 합을 최대한 크게 만드는 게임이다\n",
    "\n",
    "`-` 변형 룰: N장의 카드에 써져 있는 숫자가 주어졌을 때, M을 넘지 않으면서 M에 최대한 가까운 카드 3장의 합을 구해 출력하시오"
   ]
  },
  {
   "cell_type": "code",
   "execution_count": 181,
   "id": "f2e35faa-0ea1-4936-8e40-2e49c0124df0",
   "metadata": {},
   "outputs": [
    {
     "name": "stdin",
     "output_type": "stream",
     "text": [
      " 5 21\n",
      " 5 6 7 8 9\n"
     ]
    },
    {
     "name": "stdout",
     "output_type": "stream",
     "text": [
      "21\n"
     ]
    }
   ],
   "source": [
    "N, M = map(int, input().split())\n",
    "card = list(map(int, input().split()))\n",
    "\n",
    "def blackjack(card, length,Max):\n",
    "    card_list = []\n",
    "    for i in range(N):\n",
    "        for j in range(N):\n",
    "            for k in range(N):\n",
    "                if i != j and j != k and i != k:\n",
    "                    if card[i] + card[j] + card[k] <= Max:\n",
    "                        card_list.append(card[i] + card[j] + card[k])\n",
    "    print(max(card_list))\n",
    "\n",
    "blackjack(card, N, M)  ## 아쉬운점: for문3번사용 --> O(n^3)\n",
    "\n",
    "# input\n",
    "# 5 21\n",
    "# 5 6 7 8 9"
   ]
  },
  {
   "cell_type": "markdown",
   "id": "bc3f61d6-04e1-421d-a80d-eede0f4b9932",
   "metadata": {},
   "source": [
    "## 분해합\n",
    "\n",
    "`-` 어떤 자연수 N이 있을 때, 그 자연수 N의 분해합은 N과 N을 이루는 각 자리수의 합을 의미한다\n",
    "\n",
    "`-` 어떤 자연수 M의 분해합이 N인 경우, M을 N의 생성자라 한다 \n",
    "\n",
    "`-` 예를 들어, 245의 분해합은 256(=245+2+4+5)이 된다\n",
    "\n",
    "`-` 따라서 245는 256의 생성자가 된다\n",
    "\n",
    "`-` 물론, 어떤 자연수의 경우에는 생성자가 없을 수도 있다\n",
    "\n",
    "`-` 반대로, 생성자가 여러 개인 자연수도 있을 수 있다\n",
    "\n",
    "`-` 자연수 N이 주어졌을 때, N의 가장 작은 생성자를 구해내는 프로그램을 작성하시오"
   ]
  },
  {
   "cell_type": "code",
   "execution_count": 19,
   "id": "aa171281-edde-4dc8-aa58-8bdbeccaf31d",
   "metadata": {},
   "outputs": [
    {
     "name": "stdin",
     "output_type": "stream",
     "text": [
      " 216\n"
     ]
    },
    {
     "name": "stdout",
     "output_type": "stream",
     "text": [
      "198\n"
     ]
    }
   ],
   "source": [
    "N = int(input())\n",
    "def solve(x):\n",
    "    list = []\n",
    "    for i in range(1, x+1):\n",
    "        generator = i + sum([int(str(i)[j]) for j in range(len(str(i)))])\n",
    "        if generator == x:\n",
    "            list.append(i)\n",
    "            \n",
    "    if len(list) > 0:\n",
    "        return(min(list))\n",
    "    else:\n",
    "        return 0\n",
    "    \n",
    "print(solve(N))\n",
    "\n",
    "# input\n",
    "# 216"
   ]
  },
  {
   "cell_type": "markdown",
   "id": "da56f79b-0532-4881-9b3b-6406a036c0bb",
   "metadata": {},
   "source": [
    "## 임의의 숫자의 (각 자릿수 + 자기 자신)"
   ]
  },
  {
   "cell_type": "code",
   "execution_count": 1,
   "id": "02899416-a462-4d5b-843d-8af8c4e2a32a",
   "metadata": {},
   "outputs": [
    {
     "data": {
      "text/plain": [
       "12360"
      ]
     },
     "execution_count": 1,
     "metadata": {},
     "output_type": "execute_result"
    }
   ],
   "source": [
    "x = 12345\n",
    "sum([int(str(x)[i]) for i in range(len(str(x)))]) + x   ### 리스트 컴프리헨션"
   ]
  },
  {
   "cell_type": "markdown",
   "id": "45da4394-57b8-4cac-bcfc-824d79547544",
   "metadata": {},
   "source": [
    "## 반올림 오차(백준 문제 아님 + 무조건 읽으세요) "
   ]
  },
  {
   "cell_type": "markdown",
   "id": "6dbb564c-66f1-4c05-aa53-97d311e6323e",
   "metadata": {},
   "source": [
    "`-` 문제를 풀다보면 나누기 연산을 할 때가 있다\n",
    "\n",
    "`-` 만약 나누기연산과 몫 연산의 결과가 같다면 무조건 몫 연산자를 쓰자 ---> 10 / 5 = 10 // 5\n",
    "\n",
    "`-` 왜????\n",
    "\n",
    "`-` 0.1 + 0.2 = 0.3 일까? ---> no\n",
    "\n",
    "`-` ???? 정말로?"
   ]
  },
  {
   "cell_type": "code",
   "execution_count": 10,
   "id": "94f0af90-81ff-4546-b3f5-095e3ec1e498",
   "metadata": {},
   "outputs": [
    {
     "data": {
      "text/plain": [
       "0.30000000000000004"
      ]
     },
     "execution_count": 10,
     "metadata": {},
     "output_type": "execute_result"
    }
   ],
   "source": [
    "0.1 + 0.2"
   ]
  },
  {
   "cell_type": "markdown",
   "id": "19b07f84-5b3f-4c5c-a3d0-9736f4f2260a",
   "metadata": {},
   "source": [
    "`-` 정말로 0.1 + 0.2 = 0.3이 아님"
   ]
  },
  {
   "cell_type": "code",
   "execution_count": 11,
   "id": "1a86bcd8-78f0-48c1-9de2-521942a76883",
   "metadata": {},
   "outputs": [
    {
     "data": {
      "text/plain": [
       "False"
      ]
     },
     "execution_count": 11,
     "metadata": {},
     "output_type": "execute_result"
    }
   ],
   "source": [
    "0.1 + 0.2 == 0.3"
   ]
  },
  {
   "cell_type": "markdown",
   "id": "aa32f871-08c9-4043-83ea-1f85215d9963",
   "metadata": {},
   "source": [
    "`-` 하나 더: 1.2 * 3 = 3.6 일까? ---> no"
   ]
  },
  {
   "cell_type": "code",
   "execution_count": 12,
   "id": "c7fc1adb-852d-4be5-ac30-19beeb3e008b",
   "metadata": {},
   "outputs": [
    {
     "data": {
      "text/plain": [
       "3.5999999999999996"
      ]
     },
     "execution_count": 12,
     "metadata": {},
     "output_type": "execute_result"
    }
   ],
   "source": [
    "1.2 * 3"
   ]
  },
  {
   "cell_type": "code",
   "execution_count": 13,
   "id": "4d43cf2e-5ae6-4a9b-afcc-6376f374e993",
   "metadata": {},
   "outputs": [
    {
     "data": {
      "text/plain": [
       "False"
      ]
     },
     "execution_count": 13,
     "metadata": {},
     "output_type": "execute_result"
    }
   ],
   "source": [
    "1.2 * 3 == 3.6"
   ]
  },
  {
   "cell_type": "markdown",
   "id": "1c11d676-f31c-405d-b62d-fcb88b168673",
   "metadata": {},
   "source": [
    "`-` 밑에 문제인 IQ Test도 틀린 이유가 몫 연산자를 쓰지 않고 나누기 연산자를 사용한 것이다\n",
    "\n",
    "`-` 위에서 확인한 바와 같이 반올림 오차 때문에 float형은 불안정하므로 몫 연산자를 사용하는 것이 안전하다"
   ]
  },
  {
   "cell_type": "markdown",
   "id": "8363fa70-5a2e-4701-90e7-903407609958",
   "metadata": {},
   "source": [
    "## IQ Test(밑에 상황 때문에 반례 찾아 봤음)\n",
    "\n",
    "`-` 맞는 것 같은데 계속 틀림..., 그래서 다른 사람 코드 봤는데 왜 틀렸는지 모르겠음 + 알아냈다\n",
    "\n",
    "`-` IQ Test의 문제 중에는 공통된 패턴을 찾는 문제가 있다 수열이 주어졌을 때 다음 수를 찾는 문제이다\n",
    "\n",
    "`-` 예를 들어 1, 2, 3, 4, 5가 주어졌다 다음 수는 무엇인가? 당연히 답은 6이다\n",
    "\n",
    "`-` 약간 더 어려운 문제를 보면 3, 6, 12, 24, 48이 주어졌을 때 다음 수는 무엇인가? 역시 답은 96이다\n",
    "\n",
    "`-` 이제 제일 어려운 문제를 보자\n",
    "\n",
    "`-` 1, 4, 13, 40이 주어졌을 때 다음 수는 무엇일까? 답은 121이다\n",
    "\n",
    "`-` 그 이유는 항상 다음 수는 앞 수 * 3 + 1이기 때문이다\n",
    "\n",
    "`-` 은진이는 위의 3문제를 모두 풀지 못했으므로 자동으로 풀어주는 프로그램을 작성하기로 했다\n",
    "\n",
    "`-` 항상 모든 답은 구하는 규칙은 앞 수 * a + b이다. 그리고 a와 b는 정수이다\n",
    "\n",
    "`-` 수 N개가 주어졌을 때 규칙에 맞는 다음 수를 구하는 프로그램을 작성하시오"
   ]
  },
  {
   "cell_type": "markdown",
   "id": "7133e208-9eb5-48c7-8258-7fc7b8733588",
   "metadata": {},
   "source": [
    "`-` N은 2여도 1, 1 과 같이 답이 있을 수 있다\n",
    "\n",
    "`-` 일반적으로 N = 2이면 다음 수는 여러개이다\n",
    "\n",
    "`-` $1, 2$ --> 다음 수 $3(a=0, b=1)$ or $-8(a=-10, b=12)$ 등등\n",
    "\n",
    "`-` a, b 둘다 0일 수 도 있음"
   ]
  },
  {
   "cell_type": "markdown",
   "id": "6e2c8696-eb3a-4fbe-8f89-c79e404dc74e",
   "metadata": {},
   "source": [
    "`-` 스파게티 코드 + 틀렸습니다"
   ]
  },
  {
   "cell_type": "markdown",
   "id": "4e04ea2f-6538-485a-9797-926edda91cc9",
   "metadata": {},
   "source": [
    "```python\n",
    "N = int(input())\n",
    "\n",
    "N_list = list(map(int, input().split()))\n",
    "\n",
    "def sequence_rule(x):\n",
    "    if len(x) == 2 and x[0] != x[1]:\n",
    "        return 'A'\n",
    "    elif len(x) == 2 and x[0] == x[1]:\n",
    "        return x[0]\n",
    "    \n",
    "    if len(x) == 1:\n",
    "        return 'A'\n",
    "    \n",
    "    if x[0] == x[1] == x[2] :\n",
    "        a = 0\n",
    "    elif x[1] == x[0]  and x[1] != x[2]:\n",
    "        return 'B'\n",
    "    else:\n",
    "        a = (x[2] - x[1]) / (x[1] - x[0])\n",
    "        \n",
    "    b = x[1] - a * x[0]\n",
    "    \n",
    "    for i in range(len(x) - 1):\n",
    "        if a * x[i] + b != x[i+1]:\n",
    "            return 'B'\n",
    "        elif x[i+1] == 0:  ## 이 부분이 문제였다. x[i+1] == 0이면 그 뒤는 확인 안하고 return 0 실행\n",
    "            return 0\n",
    "    \n",
    "    return int(a * x[-1] + b)\n",
    "\n",
    "print(sequence_rule(N_list))\n",
    "```   "
   ]
  },
  {
   "cell_type": "markdown",
   "id": "52538f7f-3c64-4c2f-8cce-303200b6ac6d",
   "metadata": {},
   "source": [
    "`-` 위에 있는 코드를 정리하자\n",
    "\n",
    "`-` 틀렸습니다\n",
    "\n",
    "`-` `exit(0)` ---> python 프로그램 종료\n",
    "\n",
    "`-` `exit(0)`써서 코드 짤려했는데 복잡하고 틀렸다고 처리돼서 다른 방법을 찾아 떠났음\n",
    "\n",
    "`-` 이 파일을 둘러보다가 예전에 왜 틀렸는지 모르겠던 기억에 맞은 사람 코드랑 비교해봄 \n",
    "\n",
    "`-`  내 코드: a = (x[1] - x[2]) / (x[0] - x[1])\n",
    "\n",
    "`-` 맞은 사람 코드: a = (x[1] - x[2]) // (x[0] - x[1])\n",
    "\n",
    "`-` 나누기 연산자 대신에 몫 연산자를 사용했음 ---> 뭔 차이인데?\n",
    "\n",
    "`-` 10/5 = 2.0이지만 10//5 = 2 ---> 그래서 왜?? ---> 출력을 보면 소수점이 없어야 함 ---> 하지만 나는 소수점이 있으므로 틀림\n",
    "\n",
    "`-` 근데 그 이유가 아니었다 ---> return (int(a * x[-1] + b)) 이므로 int형이다 ---> 소수점 없다는 의미 ---> 그럼 왜 나누기 연산자 쓰면 틀리고 몫 연산자 쓰면 맞음?? ---> 그러게?\n",
    "\n",
    "`-` 아마 float형이 불안정해서 그럴 것이다 ---> 그래서 안전하게 나누기 대신 몫 연산자를 쓰는 것이 좋음 ---> 결과가 같을때 만: 10 / 5 = 10 // 5\n",
    "\n",
    "`-` 밑에 있는 코드는 17%부근에서 틀렸습니다로 처리됨 + 내 제출들을 보면 런타임에러(NameError)가 많이 있음 ---> 이유: if len(x) == 1: 에서 return할 때 'A'가 아닌 A라고 했음\n",
    "\n",
    "`-` 'A'라고 해도 17%부근에서 틀렸음\n",
    "\n",
    "`-` 하지만 나누기 연산자 대신에 몫 연산자를 쓰고 정답처리 됐음"
   ]
  },
  {
   "cell_type": "markdown",
   "id": "3937cf9a-04f2-4359-bdd1-cbfa6bb95057",
   "metadata": {},
   "source": [
    "- 틀린 코드"
   ]
  },
  {
   "cell_type": "code",
   "execution_count": 7,
   "id": "979f97d9-24ea-4df8-9516-b5772dec37a6",
   "metadata": {},
   "outputs": [
    {
     "name": "stdin",
     "output_type": "stream",
     "text": [
      " 3\n",
      " 1 5 9\n"
     ]
    },
    {
     "name": "stdout",
     "output_type": "stream",
     "text": [
      "13\n"
     ]
    }
   ],
   "source": [
    "N = int(input())\n",
    "\n",
    "N_list = list(map(int, input().split()))\n",
    "\n",
    "def sequence_rule2(x):\n",
    "    if len(x) == 1:\n",
    "        return 'A'\n",
    "        \n",
    "    elif len(x) == 2 and x[0] == x[1]:\n",
    "        return x[1]\n",
    "    \n",
    "    elif len(x) == 2 and x[0] != x[1]:\n",
    "        return 'A'\n",
    "    \n",
    "    elif x[0] == x[1]:  ## a=1, b=0 or a=0, b=x[0]\n",
    "        a = 0\n",
    "    \n",
    "    else:\n",
    "        a = (x[1] - x[2]) / (x[0] - x[1])\n",
    "        \n",
    "    b = x[1] - a * x[0]\n",
    "    \n",
    "    for i in range(len(x) - 1):\n",
    "        if a * x[i] + b != x[i+1]:\n",
    "            return 'B'\n",
    "         \n",
    "    return int(a * x[-1] + b)\n",
    "    \n",
    "print(sequence_rule2(N_list))"
   ]
  },
  {
   "cell_type": "markdown",
   "id": "e52bdd73-637f-44d9-a69f-f9886cc99c40",
   "metadata": {},
   "source": [
    "- 맞은 코드"
   ]
  },
  {
   "cell_type": "code",
   "execution_count": 3,
   "id": "777546c0-2abc-4a49-b926-621a1469553e",
   "metadata": {},
   "outputs": [
    {
     "name": "stdin",
     "output_type": "stream",
     "text": [
      " 3\n",
      " 1 5 9\n"
     ]
    },
    {
     "name": "stdout",
     "output_type": "stream",
     "text": [
      "13\n"
     ]
    }
   ],
   "source": [
    "N = int(input())\n",
    "\n",
    "N_list = list(map(int, input().split()))\n",
    "\n",
    "def sequence_rule2(x):\n",
    "    if len(x) == 1:\n",
    "        return 'A'\n",
    "    \n",
    "    elif len(x) == 2 and x[0] == x[1]:\n",
    "        return x[1]\n",
    "    \n",
    "    elif len(x) == 2 and x[0] != x[1]:\n",
    "        return 'A'\n",
    "    \n",
    "    elif x[0] == x[1]:  ## a=1, b=0 or a=0, b=x[0]\n",
    "        a = 0\n",
    "    \n",
    "    else:\n",
    "        a = (x[2] - x[1]) // (x[1] - x[0])\n",
    "        \n",
    "    b = x[1] - a * x[0]\n",
    "    \n",
    "    for i in range(len(x) - 1):\n",
    "        if a * x[i] + b != x[i+1]:\n",
    "            return 'B'\n",
    "    \n",
    "    return int(a * x[-1] + b)\n",
    "         \n",
    "print(sequence_rule2(N_list))\n",
    "\n",
    "# input\n",
    "# 3\n",
    "# 1 5 9"
   ]
  },
  {
   "cell_type": "markdown",
   "id": "2a8ff22f-4741-49c1-8b6b-54c5f47ad458",
   "metadata": {},
   "source": [
    "`-` `continue` ---> 아래 코드를 실행하지 않고 건너뜀"
   ]
  },
  {
   "cell_type": "code",
   "execution_count": 176,
   "id": "356f0be3-58a2-4122-8b82-c4d2b7cc23c8",
   "metadata": {},
   "outputs": [
    {
     "name": "stdout",
     "output_type": "stream",
     "text": [
      "1\n",
      "3\n",
      "5\n",
      "7\n",
      "9\n"
     ]
    }
   ],
   "source": [
    "for i in range(10):       # 0부터 99까지 증가하면서 100번 반복\n",
    "    if i % 2 == 0:         # i를 2로 나누었을 때 나머지가 0면 짝수\n",
    "        continue           # 아래 코드를 실행하지 않고 건너뜀\n",
    "    print(i)"
   ]
  },
  {
   "cell_type": "markdown",
   "id": "812ea9e8-71cb-45d0-bfaa-c507e1ba2648",
   "metadata": {},
   "source": [
    "`-` 맞았습니다(3시간 걸림 힘들다)\n",
    "\n",
    "`-` 위에 있는 틀린 코드와 밑의 코드는 무슨 차이일까? ---> 나누기 연산자와 몫 연산자의 차이"
   ]
  },
  {
   "cell_type": "code",
   "execution_count": 178,
   "id": "4c113223-eeb3-485a-82e3-c363c01cb4ec",
   "metadata": {},
   "outputs": [
    {
     "name": "stdin",
     "output_type": "stream",
     "text": [
      " 4\n",
      " 1 4 13 40\n"
     ]
    },
    {
     "name": "stdout",
     "output_type": "stream",
     "text": [
      "121\n"
     ]
    }
   ],
   "source": [
    "N = int(input())\n",
    "x = list(map(int, input().split()))\n",
    "\n",
    "if N == 1:\n",
    "    print('A')\n",
    "    \n",
    "elif N == 2:\n",
    "    if x[0] == x[1]:\n",
    "        print(x[0])\n",
    "    \n",
    "    else:\n",
    "        print('A')\n",
    "        \n",
    "else:\n",
    "    if x[0] == x[1]:  ## a=1, b=0 or a=0, b=x[0]\n",
    "        a = 0\n",
    "        b = x[1]\n",
    "    \n",
    "    else:\n",
    "        a = (x[2] - x[1]) // (x[1] - x[0])\n",
    "        b = x[1] - x[0] * a\n",
    "    \n",
    "    result = True\n",
    "    \n",
    "    for i in range(N - 1):\n",
    "        if x[i] * a + b == x[i+1]:\n",
    "            continue\n",
    "        else:\n",
    "            result = False\n",
    "    if result:\n",
    "        print(a * x[-1] + b)\n",
    "    else:\n",
    "        print('B')\n",
    "    \n",
    "    \n",
    "# input\n",
    "# 4\n",
    "# 1 4 13 40"
   ]
  },
  {
   "cell_type": "markdown",
   "id": "c80a1ce6-f68c-4fd0-9f4d-1971b7022dc3",
   "metadata": {},
   "source": [
    "## 영화감독 숌\n",
    "\n",
    "`-` 종말의 숫자란 어떤 수에 6이 적어도 3개이상 연속으로 들어가는 수를 말한다\n",
    "\n",
    "`-` 제일 작은 종말의 숫자는 666이고, 그 다음으로 큰 수는 1666, 2666, 3666, .... 과 같다\n",
    "\n",
    "`-` 숌이 만든 ($N\\leq10000$)번째 영화의 제목에 들어간 숫자를 출력하는 프로그램을 작성하시오"
   ]
  },
  {
   "cell_type": "markdown",
   "id": "0c1ab457-526b-40a5-b010-33b9d6f59681",
   "metadata": {},
   "source": [
    "`-` $N\\leq 10000$ ---> 계산 결과 영화제목은 최대 7자리\n",
    "\n",
    "`-` 7자리 수까지 666을 포함하는 수를 모두 생성한 후 오름차순으로 정렬\n",
    "\n",
    "`-` 문제점: 666xxx 같은 수를 표현한다고 치자 --> 이때 xxx = 010이라면 자연수가 아니므로 010을 수로 표현할 수 없음\n",
    "\n",
    "`-` 666xxx ---> 66600x + 6660xx\n",
    "\n",
    "`-` 하지만 좋은 방법이 떠오름\n",
    "\n",
    "`-` 666xxx ---> 66yxxx , `y = 6`이므로 yxxx => range(6000,7000)\n",
    "\n",
    "`-` 위와 같이 표현하면 666010도 표현 가능!"
   ]
  },
  {
   "cell_type": "code",
   "execution_count": 21,
   "id": "aafb13d4-8246-498f-821f-14a6dc7a18d9",
   "metadata": {},
   "outputs": [
    {
     "name": "stdin",
     "output_type": "stream",
     "text": [
      " 2\n"
     ]
    },
    {
     "name": "stdout",
     "output_type": "stream",
     "text": [
      "1666\n"
     ]
    }
   ],
   "source": [
    "import math\n",
    "\n",
    "result = [666]\n",
    "\n",
    "result.extend([int(str(i) + '666') for i in range(1, 3000)])                              ## x666, xy666, xyy666, 1yyy666, 2yyy666 --> 앞으로 나오는 x는 자연수, y는 0포함 \n",
    "result.extend([int('66' + str(i)) for i in range(6000,7000)])                             ## 666yyy\n",
    "result.extend([int('66' + str(i)) for i in range(600, 700)])                              ## 666yy\n",
    "result.extend([int('666' + str(i)) for i in range(10)])                                   ## 666y\n",
    "\n",
    "result.extend([int(str(i) + '66' + str(j)) for i in range(1, 30) for j in range(600, 700)])  ## x666yy, 1y666yy, 2y666yy\n",
    "result.extend([int(str(i) + '66' + str(j)) for i in range(1, 100) for j in range(60, 70)])   ## x666y, xy666y   \n",
    "\n",
    "result.extend([int(str(i) + '66' + str(j)) for i in range(1, 3) for j in range(6000, 7000)])   ## 1666yyy, 2666yyy\n",
    "result.extend([int(str(i) + '666' + str(j)) for i in range(100, 300) for j in range(10)])      ## 1yy666y, 2yy666y\n",
    "result.extend([int(str(i) + '666') for i in range(1000, 3000)])                                ## 1yyy666, 2yyy666 \n",
    " \n",
    "result = list(set(result))\n",
    "result.sort()\n",
    "\n",
    "N = int(input())\n",
    "\n",
    "print(result[N-1])\n",
    "\n",
    "# input\n",
    "# 2"
   ]
  },
  {
   "cell_type": "markdown",
   "id": "0a2f4dd1-36db-4814-91c2-09e57f7fa80a",
   "metadata": {},
   "source": [
    "`-` 다른 사람 아이디어 보고 만든 코드\n",
    "\n",
    "`-` 종말의 수는 $10000$개가 최대이므로 아무거 커도 $3000000$ 이하이다\n",
    "\n",
    "`-` $3000000$까지의 숫자 중 $666$을 포함하면 새로운 리스트에 포함한다"
   ]
  },
  {
   "cell_type": "code",
   "execution_count": 20,
   "id": "68679dce-41a4-4e42-96eb-46f0e7debba5",
   "metadata": {},
   "outputs": [
    {
     "name": "stdin",
     "output_type": "stream",
     "text": [
      " 2\n"
     ]
    },
    {
     "name": "stdout",
     "output_type": "stream",
     "text": [
      "1666\n"
     ]
    }
   ],
   "source": [
    "result = []\n",
    "result.extend([int(str(i)) for i in range(666,3000000) if str(i).find('666') != -1])\n",
    "\n",
    "N = int(input())\n",
    "print(result[N-1])\n",
    "\n",
    "# input은 위와 동일"
   ]
  },
  {
   "cell_type": "markdown",
   "id": "6baa3ef0-8dad-4f1a-a134-098567c16dce",
   "metadata": {},
   "source": [
    "`-` 숏코딩으로 만들었음"
   ]
  },
  {
   "cell_type": "code",
   "execution_count": 1,
   "id": "cb332d6e-6d04-4059-b2a8-68abdd37f03f",
   "metadata": {},
   "outputs": [
    {
     "name": "stdin",
     "output_type": "stream",
     "text": [
      " 2\n"
     ]
    },
    {
     "name": "stdout",
     "output_type": "stream",
     "text": [
      "1666\n"
     ]
    }
   ],
   "source": [
    "print([i for i in range(9**7) if '666' in str(i)][int(input())-1])"
   ]
  },
  {
   "cell_type": "markdown",
   "id": "f627e476-0338-45cf-b875-467349c60149",
   "metadata": {},
   "source": [
    "## 체스판 다시 칠하기\n",
    "\n",
    "`-` $8\\times8$ 크기의 체스판으로 잘라낸 후에 몇 개의 정사각형을 다시 칠한다\n",
    "\n",
    "`-` 다시 칠해야 하는 정사각형의 최소 개수를 구하는 프로그램을 작성하시오"
   ]
  },
  {
   "cell_type": "markdown",
   "id": "bd66ab25-2d16-43f2-8802-5a305e914be2",
   "metadata": {},
   "source": [
    "`-` 왜 틀림?????"
   ]
  },
  {
   "cell_type": "markdown",
   "id": "9e5b8cfe-8639-482c-8c27-c05d71d54d48",
   "metadata": {},
   "source": [
    "`-` 5달 만에 다시 풀어보는데 어렵지가 않다?"
   ]
  },
  {
   "cell_type": "code",
   "execution_count": 19,
   "id": "9bc0e18f-e68f-41cd-8062-b38a1ba45633",
   "metadata": {},
   "outputs": [
    {
     "name": "stdin",
     "output_type": "stream",
     "text": [
      " 11 12\n",
      " BWWBWWBWWBWW\n",
      " BWWBWBBWWBWW\n",
      " WBWWBWBBWWBW\n",
      " BWWBWBBWWBWW\n",
      " WBWWBWBBWWBW\n",
      " BWWBWBBWWBWW\n",
      " WBWWBWBBWWBW\n",
      " BWWBWBWWWBWW\n",
      " WBWWBWBBWWBW\n",
      " BWWBWBBWWBWW\n",
      " WBWWBWBBWWBW\n"
     ]
    },
    {
     "name": "stdout",
     "output_type": "stream",
     "text": [
      "15\n"
     ]
    }
   ],
   "source": [
    "N, M = map(int, input().split())\n",
    "data = []\n",
    "for i in range(N):\n",
    "    data.append(list(input()))\n",
    "\n",
    "def check_chess(chess): ## 입력은 8 X 8 체스판\n",
    "    wrong_count = 0 ## 8 X 8 체스판에서 잘못된 칸의 개수\n",
    "    \n",
    "    ## 시작은 'W'\n",
    "    for i in range(8):      ## 8 X 8 체스판 세로 확인\n",
    "        for j in range(8):  ## 8 X 8 체스판 가로 확인 \n",
    "            if i % 2 == 0:\n",
    "                if j % 2 == 0:\n",
    "                    if chess[i][j] == 'B':\n",
    "                        wrong_count += 1\n",
    "                else:\n",
    "                    if chess[i][j] == 'W':\n",
    "                        wrong_count += 1\n",
    "            else:\n",
    "                if j % 2 == 0:\n",
    "                    if chess[i][j] == 'W':\n",
    "                        wrong_count += 1\n",
    "                else:\n",
    "                    if chess[i][j] == 'B':\n",
    "                        wrong_count += 1\n",
    "    return min(wrong_count, 64 - wrong_count) ## 64 - wrong_count는 시작이 'B'인 체스판\n",
    "\n",
    "n = len(data[0]) ## 열의 수\n",
    "m = len(data)    ## 행의 수\n",
    "\n",
    "score = []\n",
    "for i in range(m-8+1):\n",
    "    for j in range(n-8+1):  \n",
    "        chess = list(map(lambda columns:columns[j:j+8], data[i:i+8])) ## 전체 체스판 중에서 행은 i~i+7까지, 열은 j~j+7까지 가져와 8 X 8 체스판을 만듦  \n",
    "        score.append(check_chess(chess))\n",
    "print(min(score))\n",
    "\n",
    "# input\n",
    "# 11 12\n",
    "# BWWBWWBWWBWW\n",
    "# BWWBWBBWWBWW\n",
    "# WBWWBWBBWWBW\n",
    "# BWWBWBBWWBWW\n",
    "# WBWWBWBBWWBW\n",
    "# BWWBWBBWWBWW\n",
    "# WBWWBWBBWWBW\n",
    "# BWWBWBWWWBWW\n",
    "# WBWWBWBBWWBW\n",
    "# BWWBWBBWWBWW\n",
    "# WBWWBWBBWWBW"
   ]
  },
  {
   "cell_type": "markdown",
   "id": "e3a9c5b1-6bd5-487b-9d0d-dd0f14f5bd86",
   "metadata": {},
   "source": [
    "## 덩치(7568번)"
   ]
  },
  {
   "cell_type": "code",
   "execution_count": 50,
   "id": "2e1c3be1-5574-4808-9117-93ec8266fca4",
   "metadata": {},
   "outputs": [
    {
     "name": "stdin",
     "output_type": "stream",
     "text": [
      " 5\n",
      " 55 185\n",
      " 58 183\n",
      " 88 186\n",
      " 60 175\n",
      " 46 155\n"
     ]
    },
    {
     "name": "stdout",
     "output_type": "stream",
     "text": [
      "2 2 1 2 5 "
     ]
    }
   ],
   "source": [
    "N = int(input())\n",
    "\n",
    "body = []\n",
    "for i in range(N):\n",
    "    body.append(list(map(int, input().split())))\n",
    "\n",
    "for i in range(N):\n",
    "    rank = 1\n",
    "    \n",
    "    for j in range(N):    \n",
    "        if body[i][0] < body[j][0] and body[i][1] < body[j][1]:\n",
    "            rank += 1\n",
    "        \n",
    "    print(rank, end = \" \")"
   ]
  },
  {
   "cell_type": "markdown",
   "id": "663c0ebe-e5a7-4d47-896a-1c7a90845fae",
   "metadata": {},
   "source": [
    "## 마인크래프트\n",
    "\n",
    "- 문제 출처: [백준 18111번](https://www.acmicpc.net/problem/18111)\n",
    "\n",
    "`-` 땅의 높이는 $0 \\sim 256$이다\n",
    "\n",
    "`-` 가장 높이가 낮은 블럭을 기준으로 삼으면 삽질을 통해 모든 블럭 높이를 맞출 수 있다(최소 시간은 아님)\n",
    "\n",
    "`-` 가장 낮은 블럭높이를 $h_1$, 가장 높은 블럭높이를 $h_2$라고 하자\n",
    "\n",
    "`-` 모든 블럭의 높이를 똑같이 만들었을 때의 높이를 $h$라 하면 $h_1 \\leq h \\leq h_2$이다\n",
    "\n",
    "`-` $h$를 차례차례 $h_1$에서 $h_2$까지 만들었을 때 드는 시간을 구해놓으면 최소 시간을 알 수 있다 "
   ]
  },
  {
   "cell_type": "code",
   "execution_count": 61,
   "id": "7071d470-1d00-44cf-a956-7752fce376ce",
   "metadata": {},
   "outputs": [
    {
     "name": "stdin",
     "output_type": "stream",
     "text": [
      " 3 4 1\n",
      " 64 64 64 64\n",
      " 64 64 64 64\n",
      " 64 64 64 63\n"
     ]
    },
    {
     "name": "stdout",
     "output_type": "stream",
     "text": [
      "1 64\n"
     ]
    }
   ],
   "source": [
    "time_list = []\n",
    "n, m, b = map(int, input().split())\n",
    "blocks = [list(map(int, input().split())) for i in range(n)]\n",
    "\n",
    "max_h = max(map(max, blocks)) ## 블럭의 최대 높이\n",
    "min_h = min(map(min, blocks)) ## 블럭의 최소 높이\n",
    "\n",
    "for h in range(min_h, max_h+1): ## 모든 블럭의 높이를 min_h부터 max_h까지 맞추고 이에 드는 시간을 기록한다\n",
    "    block_count = b ## h마다 블럭 개수는 초기화시켜줘야 한다(생각해보면 당연함)\n",
    "    time = 0\n",
    "    \n",
    "    for i in range(n):\n",
    "        for j in range(m):\n",
    "            block_h = blocks[i][j]\n",
    "            \n",
    "            if block_h >= h:\n",
    "                time += (block_h - h) * 2 ## 높이를 h로 맞추기 위해 블럭을 제거하는데 드는 시간\n",
    "                block_count += (block_h - h) ## 보유한 블럭 개수에 제거한 블럭 개수만큼 추가한다\n",
    "            else:\n",
    "                time += (h - block_h) ## 높이를 h로 맞추기 위해 블럭을 추가하는데 드는 시간\n",
    "                block_count -= (h - block_h) ## 추가한 블럭만큼 보유한 블럭의 개수를 제거한다\n",
    "    \n",
    "    if block_count < 0: ## 모든 블럭의 높이를 h로 만드는데 사용한 블럭의 개수가 최종적으로 음수라면 for문을 탈출한다  \n",
    "        break\n",
    "        \n",
    "    time_list.append((time, h)) ## 모든 블럭의 높이를 h로 맞춘느데 드는 시간과 높이 h를 리스트에 추가한다\n",
    "    \n",
    "time_list.sort(key = lambda x: (x[0], -x[1])) ## 시간을 기준으로 오름차순 정렬, 시간이 같다면 블럭의 높이를 기준으로 내림차순 정렬\n",
    "print(time_list[0][0], time_list[0][1]) ## 시간과 블럭 높이\n",
    "\n",
    "# input\n",
    "# 3 4 1\n",
    "# 64 64 64 64\n",
    "# 64 64 64 64\n",
    "# 64 64 64 63"
   ]
  },
  {
   "cell_type": "markdown",
   "id": "2ee633ff-1886-4be3-a1ef-f4a08a1b746a",
   "metadata": {},
   "source": [
    "`-` python으로는 통과못하고 pypy로 통과함"
   ]
  },
  {
   "cell_type": "markdown",
   "id": "af6f323b-fa1b-4015-8592-3a261dcce668",
   "metadata": {},
   "source": [
    "## 테트로미노\n",
    "\n",
    "- 문제 출처: [백준 14500번](https://www.acmicpc.net/problem/14500)"
   ]
  },
  {
   "cell_type": "markdown",
   "id": "1d66ac86-01fd-44a3-a196-e6c7245f4785",
   "metadata": {},
   "source": [
    "`-` 주어진 도형에 회전과 수평 또는 수직 방향으로 뒤집기를 통해 다양한 도형을 고려할 수 있다\n",
    "\n",
    "`-` 각 도형을 시작 좌표부터 끝 좌표까지 input함으로써 블럭들 합의 최댓값을 구하자"
   ]
  },
  {
   "cell_type": "code",
   "execution_count": 327,
   "id": "602fbfe8-2474-4f08-8272-720c98aa046d",
   "metadata": {},
   "outputs": [
    {
     "name": "stdin",
     "output_type": "stream",
     "text": [
      " 4 5\n",
      " 1 2 3 4 5\n",
      " 1 2 3 4 5\n",
      " 1 2 3 4 5\n",
      " 1 2 3 4 5\n"
     ]
    },
    {
     "name": "stdout",
     "output_type": "stream",
     "text": [
      "20\n"
     ]
    }
   ],
   "source": [
    "## 함수\n",
    "def rotate90(x: list, y: list, n: int):\n",
    "    ## ex\n",
    "    # [0, -1, -2, -2], [0, 0, 0, 1] ## 0\n",
    "    # [0, 0, 0, -1], [0, -1, -2, -2] ## 1\n",
    "    # [0, 1, 2, 2], [0, 0, 0, -1] ## 2\n",
    "    # [0, 0, 0, 1], [0, 1, 2, 2] ## 3\n",
    "    \n",
    "    if n % 4 == 0:\n",
    "        return x, y\n",
    "    elif n % 4 == 1:\n",
    "        return list(map(lambda k: -k, y)), x\n",
    "    elif n % 4 == 2:\n",
    "        return list(map(lambda k: -k, x)), list(map(lambda k: -k, y))\n",
    "    else:\n",
    "        return y, list(map(lambda k: -k, x))\n",
    "    \n",
    "def horizontal_flip(x: list, y: list):\n",
    "    return list(map(lambda k: -k, x)), y\n",
    "\n",
    "## 입력\n",
    "N, M = map(int, input().split())\n",
    "blocks = [list(map(int, input().split())) for _ in range(N)]\n",
    "\n",
    "## (0, 0)을 기준으로 삼고 테트로미노의 좌표를 나타냄\n",
    "tetrominos = {'I':[[0, 0, 0, 0], [0, 1, 2, 3]], ## I, 회전\n",
    "              'O':[[0, 0, -1, -1], [0, 1, 0, 1]], ## O\n",
    "              'L':[[0, -1, -2, -2], [0, 0, 0, 1]], ## L, 회전, 뒤집기\n",
    "              'S':[[0, -1, -1, -2], [0, 0, 1, 1]], ## S, 회전, 뒤집기\n",
    "              'T':[[0, 0, -1, 0], [0, 1, 1, 2]]} ## T, 회전\n",
    "\n",
    "## 수평 뒤집기 및 회전변환 적용 가치 여부\n",
    "h = {'I':False, 'O':False, 'L':True, 'S':True, 'T':False} \n",
    "rotate_degree = {'I':{0:True, 1:True},\n",
    "                 'O':{0:True},\n",
    "                 'L':{0:True, 1:True, 2:True, 3:True},\n",
    "                 'S':{0:True, 1:True, 2:True, 3:True},\n",
    "                 'T':{0:True, 1:True, 2:True, 3:True}}\n",
    "\n",
    "## solve\n",
    "## 위에서 테트로미노의 좌표 기준은 [0][0]이었지만 여기서는 [i][j]이다\n",
    "maximum = 0\n",
    "for i in range(N):\n",
    "    for j in range(M):\n",
    "        for t in tetrominos:\n",
    "            x, y = tetrominos[t] ## 행(x), 열(y)\n",
    "            \n",
    "            for boolean in [True, False]: ## 뒤집기\n",
    "                if boolean and h[t]:\n",
    "                    dx, dy = horizontal_flip(x, y)\n",
    "                else:\n",
    "                    dx, dy = x, y\n",
    "                    \n",
    "                for n in range(4): ## 회전\n",
    "                    if n not in rotate_degree[t]:\n",
    "                        continue\n",
    "\n",
    "                    ## 변환을 거친 최종 테트로미노   \n",
    "                    dx, dy = rotate90(dx, dy, n)     \n",
    "                    xx = list(map(lambda k: k + i, dx))\n",
    "                    yy = list(map(lambda k: k + j, dy))\n",
    "                    tmp = sum(list(map(lambda k, l: (0 <= k < N) and (0 <= l < M), xx, yy))) ## 인덱스를 벗어나는지 검사\n",
    "                    if tmp == 4: ## 테트로미노의 각 블럭 4개 모두 인덱스를 벗어나지 않는다면\n",
    "                        block = list(map(lambda x, y: blocks[x][y], xx, yy))\n",
    "                        total = sum(block)\n",
    "                        if total > maximum:\n",
    "                            maximum = total\n",
    "\n",
    "## 출력\n",
    "print(maximum)\n",
    "\n",
    "# input\n",
    "# 4 5\n",
    "# 1 2 3 4 5\n",
    "# 1 2 3 4 5\n",
    "# 1 2 3 4 5\n",
    "# 1 2 3 4 5"
   ]
  },
  {
   "cell_type": "markdown",
   "id": "2809fe05-c1ef-4e3a-b1d9-6b3146a22152",
   "metadata": {},
   "source": [
    "## 가장 가까운 세 사람의 심리적 거리\n",
    "\n",
    "- 문제 출처: [백준 20529번](https://www.acmicpc.net/problem/20529)"
   ]
  },
  {
   "cell_type": "markdown",
   "id": "7dda34b0-31d0-4fdf-8483-e984da5216d6",
   "metadata": {},
   "source": [
    "`-` 어떤식으로 접근해야 할지 생각이 안나서 어떤 알고리즘을 사용하는지 확인했다\n",
    "\n",
    "`-` 비둘기집 원리와 브루트 포스 알고리즘을 사용하는 문제이다\n",
    "\n",
    "`-` 브루트 포스를 전체 학생에 대해 적용한다면 시간복잡도가 $O(N^3)$이라 시간 초과에 걸린다\n",
    "\n",
    "`-` 그런데 MBTI는 최대 16개 존재하므로 $N$이 16보다 크다면 적어도 하나의 MBTI에는 2명 이상의 사람이 존재하게 된다\n",
    "\n",
    "`-` 즉, 브루트 포스를 전체 학생에 대해 적용하는 것이 아닌 MBTI에 대해 적용한다면 $N$이 최대 100000에서 16으로 줄어들기 때문에 시간복잡도가 $O(N^3)$이어도 시간 초과에 걸리지 않는다\n",
    "\n",
    "`-` 머리가 굳어서 알고리즘을 보기 전에 알아내지 못한 것이 아쉽다"
   ]
  },
  {
   "cell_type": "code",
   "execution_count": 2,
   "id": "532783fb-5659-4da6-990f-a0d01129d822",
   "metadata": {},
   "outputs": [
    {
     "name": "stdin",
     "output_type": "stream",
     "text": [
      " 3\n",
      " 3\n",
      " ENTJ INTP ESFJ\n"
     ]
    },
    {
     "name": "stdout",
     "output_type": "stream",
     "text": [
      "8\n"
     ]
    },
    {
     "name": "stdin",
     "output_type": "stream",
     "text": [
      " 4\n",
      " ESFP ESFP ESFP ESFP\n"
     ]
    },
    {
     "name": "stdout",
     "output_type": "stream",
     "text": [
      "0\n"
     ]
    },
    {
     "name": "stdin",
     "output_type": "stream",
     "text": [
      " 5\n",
      " INFP INFP ESTP ESTJ ISTJ\n"
     ]
    },
    {
     "name": "stdout",
     "output_type": "stream",
     "text": [
      "4\n"
     ]
    }
   ],
   "source": [
    "def compute_distance(mbti1, mbti2):\n",
    "    distance = 0\n",
    "    for alphabet1, alphabet2 in zip(mbti1, mbti2):\n",
    "        if alphabet1 == alphabet2:\n",
    "            continue\n",
    "        distance += 1\n",
    "    return distance\n",
    "\n",
    "\n",
    "def get_mbti2count(mbti_list):\n",
    "    mbti2count = {}\n",
    "    for mbti in mbti_list:\n",
    "        if mbti not in mbti2count:\n",
    "            mbti2count[mbti] = 1\n",
    "        else:\n",
    "            mbti2count[mbti] += 1\n",
    "    return mbti2count\n",
    "\n",
    "\n",
    "def solution():        \n",
    "    N = int(input())\n",
    "    mbti_list = list(input().split())\n",
    "    mbti2count = get_mbti2count(mbti_list)\n",
    "    min_distance = 12\n",
    "    for mbti1 in mbti2count:\n",
    "        for mbti2 in mbti2count:\n",
    "            if mbti1 == mbti2 and mbti2count[mbti1] < 2:\n",
    "                continue\n",
    "            distance12 = compute_distance(mbti1, mbti2)\n",
    "            for mbti3 in mbti2count:\n",
    "                if mbti1 == mbti3 and mbti2count[mbti1] < 2:\n",
    "                    continue\n",
    "                if mbti2 == mbti3 and mbti2count[mbti1] < 2:\n",
    "                    continue\n",
    "                if mbti1 == mbti2 == mbti3 and mbti2count[mbti1] < 3:\n",
    "                    continue\n",
    "                distance13 = compute_distance(mbti1, mbti3)\n",
    "                distance23 = compute_distance(mbti2, mbti3)\n",
    "                total_distance = distance12 + distance23 + distance13\n",
    "                if total_distance < min_distance:\n",
    "                    min_distance = total_distance\n",
    "    return min_distance\n",
    "\n",
    "\n",
    "def main():\n",
    "    T = int(input())\n",
    "    for _ in range(T):\n",
    "        answer = solution()\n",
    "        print(answer)\n",
    "\n",
    "main()\n",
    "\n",
    "# input\n",
    "# 3\n",
    "# 3\n",
    "# ENTJ INTP ESFJ\n",
    "# 8\n",
    "# 4\n",
    "# ESFP ESFP ESFP ESFP\n",
    "# 0\n",
    "# 5\n",
    "# INFP INFP ESTP ESTJ ISTJ\n",
    "# 4"
   ]
  },
  {
   "cell_type": "markdown",
   "id": "852afacf-8e82-43ee-9deb-21445d779d05",
   "metadata": {},
   "source": [
    "## 일곱 난쟁이\n",
    "\n",
    "- 문제 출처: [백준 2309번](https://www.acmicpc.net/problem/2309)"
   ]
  },
  {
   "cell_type": "markdown",
   "id": "d5e82ea6-813e-4d6d-b118-5600bc61e585",
   "metadata": {},
   "source": [
    "`-` 이중 for문을 이용하여 2명의 키를 제외한 나머지 난쟁이들의 키의 합이 $100$이 되는지 확인하면 된다"
   ]
  },
  {
   "cell_type": "code",
   "execution_count": 5,
   "id": "274ca9c3-44a2-4571-8040-0288f308c272",
   "metadata": {},
   "outputs": [
    {
     "name": "stdin",
     "output_type": "stream",
     "text": [
      " 20\n",
      " 7\n",
      " 23\n",
      " 19\n",
      " 10\n",
      " 15\n",
      " 25\n",
      " 8\n",
      " 13\n"
     ]
    },
    {
     "name": "stdout",
     "output_type": "stream",
     "text": [
      "7\n",
      "8\n",
      "10\n",
      "13\n",
      "19\n",
      "20\n",
      "23\n"
     ]
    }
   ],
   "source": [
    "def gether_7heights(heights, ignored_indices):\n",
    "    a, b = ignored_indices\n",
    "    seven_heigths = []\n",
    "    for index in range(9):\n",
    "        if index == a or index == b:\n",
    "            continue\n",
    "        seven_heigths.append(heights[index])\n",
    "    return seven_heigths\n",
    "\n",
    "\n",
    "def solution():\n",
    "    heights = [int(input()) for _ in range(9)]\n",
    "    for a in range(9):\n",
    "        for b in range(9):\n",
    "            if a == b:\n",
    "                continue\n",
    "            seven_heigths = gether_7heights(heights, (a, b))\n",
    "            if sum(seven_heigths) == 100:\n",
    "                print(\"\\n\".join(str(s) for s in sorted(seven_heigths)))\n",
    "                return\n",
    "\n",
    "solution()\n",
    "\n",
    "# input\n",
    "# 20\n",
    "# 7\n",
    "# 23\n",
    "# 19\n",
    "# 10\n",
    "# 15\n",
    "# 25\n",
    "# 8\n",
    "# 13"
   ]
  },
  {
   "cell_type": "markdown",
   "id": "1d34273d-76b7-46d6-96ba-6ff1d5cbe531",
   "metadata": {},
   "source": [
    "## 연산자 끼워넣기\n",
    "\n",
    "- 문제 출처: [백준 14888번](https://www.acmicpc.net/problem/14888)"
   ]
  },
  {
   "cell_type": "markdown",
   "id": "027ded17-fd1c-4b38-ae18-4a883cce9f7b",
   "metadata": {},
   "source": [
    "`-` 연산자를 순열로 배치한 후 주어진 수열에 맞춰 차례차례 계산하면 된다\n",
    "\n",
    "`-` 순열은 백트래킹을 이용하여 계산했다\n",
    "\n",
    "`-` 주의할 점은 `permute` 함수에서 `permutations` 변수에 `permutation` 변수를 추가할 때 새로운 복사본을 추가해야 한다\n",
    "\n",
    "`-` 그렇지 않으면 `permutations` 변수에 추가된 `permutation` 변수의 원소가 `permutation.pop()`이 실행될 때마다 사라지므로 최종적으로 빈 리스트가 된다"
   ]
  },
  {
   "cell_type": "code",
   "execution_count": 207,
   "id": "25bb8407-d204-41ee-a2d0-739b629b5909",
   "metadata": {},
   "outputs": [
    {
     "name": "stdin",
     "output_type": "stream",
     "text": [
      " 6\n",
      " 1 2 3 4 5 6\n",
      " 2 1 1 1\n"
     ]
    },
    {
     "name": "stdout",
     "output_type": "stream",
     "text": [
      "54\n",
      "-24\n"
     ]
    }
   ],
   "source": [
    "def add(a1, a2):\n",
    "    return a1 + a2\n",
    "\n",
    "\n",
    "def subtract(a1, a2):\n",
    "    return a1 - a2\n",
    "\n",
    "\n",
    "def multiply(a1, a2):\n",
    "    return a1 * a2\n",
    "\n",
    "\n",
    "def divide(a1, a2):\n",
    "    if a1 < 0:\n",
    "        a1 = - a1\n",
    "        return -(a1 // a2)\n",
    "    return a1 // a2\n",
    "\n",
    "\n",
    "def permute(permutation, n, permutations):\n",
    "    if len(permutation) == n:\n",
    "        permutations.append(permutation.copy())\n",
    "        return\n",
    "    for i in range(n):\n",
    "        if i in permutation:\n",
    "            continue\n",
    "        permutation.append(i)\n",
    "        permute(permutation, n, permutations)\n",
    "        permutation.pop()\n",
    "    return permutations\n",
    "\n",
    "\n",
    "def order_operators(operators, indices):\n",
    "    return [operators[index] for index in indices]\n",
    "\n",
    "\n",
    "def solution():\n",
    "    N = int(input())\n",
    "    a_n = list(map(int, input().split()))\n",
    "    operators = list(map(int, input().split()))\n",
    "    operators = [\"+\"] * operators[0] + [\"-\"] * operators[1] + [\"*\"] * operators[2] + [\"/\"] * operators[3]\n",
    "    permutations = permute([], N - 1, [])\n",
    "    operator2func = {\"+\": add, \"-\": subtract, \"*\": multiply, \"/\": divide}\n",
    "    max_ = -int(1e9)\n",
    "    min_ = int(1e9)\n",
    "    for p in permutations:\n",
    "        ordered_operators = order_operators(operators, p)\n",
    "        a1 = a_n[0]\n",
    "        for i, operator in enumerate(ordered_operators, start=1):\n",
    "            func = operator2func[operator]\n",
    "            a2 = a_n[i]\n",
    "            a1 = func(a1, a2)\n",
    "        if a1 > max_:\n",
    "            max_ = a1\n",
    "        if a1 < min_:\n",
    "            min_ = a1\n",
    "    print(max_)\n",
    "    print(min_)\n",
    "\n",
    "solution()\n",
    "\n",
    "# input\n",
    "# 6\n",
    "# 1 2 3 4 5 6\n",
    "# 2 1 1 1"
   ]
  },
  {
   "cell_type": "markdown",
   "id": "bc524a7a-572b-44c5-a6e6-68dd7a40eee9",
   "metadata": {},
   "source": [
    "## 완전제곱수\n",
    "\n",
    "- 문제 출처: [백준 1977번](https://www.acmicpc.net/problem/1977)"
   ]
  },
  {
   "cell_type": "markdown",
   "id": "550c6153-75a5-4c0e-b2e9-153495c94c0f",
   "metadata": {},
   "source": [
    "`-` $N, M$이 최대 $10000$이므로 모든 자연수에 대해 완전제곱수인지 판단해도 시간 복잡도가 $O(M-N)$이므로 주어진 시간안에 해결 가능하다"
   ]
  },
  {
   "cell_type": "code",
   "execution_count": 9,
   "id": "89a4ff87-08a9-4c1d-a38f-fce8f48c116f",
   "metadata": {},
   "outputs": [
    {
     "name": "stdin",
     "output_type": "stream",
     "text": [
      " 60\n",
      " 100\n"
     ]
    },
    {
     "name": "stdout",
     "output_type": "stream",
     "text": [
      "245\n",
      "64\n"
     ]
    }
   ],
   "source": [
    "def solution():\n",
    "    M = int(input())\n",
    "    N = int(input())\n",
    "    square_nums = []\n",
    "    for x in range(M, N + 1):\n",
    "        root = x**0.5\n",
    "        if not root.is_integer():\n",
    "            continue\n",
    "        square_nums.append(x)\n",
    "    if square_nums:\n",
    "        print(sum(square_nums))\n",
    "        print(square_nums[0])\n",
    "    else:\n",
    "        print(-1)\n",
    "\n",
    "solution()\n",
    "\n",
    "# input\n",
    "# 60\n",
    "# 100"
   ]
  },
  {
   "cell_type": "markdown",
   "id": "dc217a93-7ee4-483c-8044-bd51a88cd94f",
   "metadata": {},
   "source": [
    "## 문자열\n",
    "\n",
    "- 문제 출처: [백준 1120번](https://www.acmicpc.net/problem/1120)"
   ]
  },
  {
   "cell_type": "markdown",
   "id": "eecbcd04-59a2-4411-90e2-a7a9dab35ad1",
   "metadata": {},
   "source": [
    "`-` A 앞이나 뒤에 추가하는 알파벳은 원하는 모든 것이 가능하다\n",
    "\n",
    "`-` 그러나 이미 주어진 A는 변경이 불가능하다\n",
    "\n",
    "`-` A 앞이나 뒤에 알파벳을 추가하는 것은 기존 A의 인덱스를 옮기는 것과 동일하다\n",
    "\n",
    "`-` 즉, B의 부분 문자열과 A의 차이가 가장 적도록 하고 비어있는 자리는 B와 동일한 알파벳을 추가하면 정답을 도출할 수 있다"
   ]
  },
  {
   "cell_type": "code",
   "execution_count": 13,
   "id": "a94cfed7-ac4a-42ba-b835-7ed0543e562e",
   "metadata": {},
   "outputs": [
    {
     "name": "stdin",
     "output_type": "stream",
     "text": [
      " abc topabcoder\n"
     ]
    },
    {
     "name": "stdout",
     "output_type": "stream",
     "text": [
      "0\n"
     ]
    }
   ],
   "source": [
    "def compute_gap(str1, str2):\n",
    "    if len(str1) != len(str2):\n",
    "        raise ValueError\n",
    "    gap = 0\n",
    "    for c1, c2 in zip(str1, str2):\n",
    "        if c1 == c2:\n",
    "            continue\n",
    "        gap += 1\n",
    "    return gap\n",
    "\n",
    "\n",
    "def solution():\n",
    "    A, B = input().split()\n",
    "    length_A = len(A)\n",
    "    length_B = len(B)\n",
    "    length_gap = length_B - length_A\n",
    "    answer = length_B\n",
    "    for start_index in range(length_gap + 1):\n",
    "        B_sub = B[start_index:start_index + length_A]\n",
    "        gap = compute_gap(A, B_sub)\n",
    "        if gap < answer:\n",
    "            answer = gap\n",
    "    print(answer)\n",
    "\n",
    "solution()\n",
    "\n",
    "# input\n",
    "# abc topabcoder"
   ]
  },
  {
   "cell_type": "code",
   "execution_count": null,
   "id": "26f13b02-a21a-4612-b640-40e80af569e5",
   "metadata": {},
   "outputs": [],
   "source": []
  }
 ],
 "metadata": {
  "kernelspec": {
   "display_name": "Python 3 (ipykernel)",
   "language": "python",
   "name": "python3"
  },
  "language_info": {
   "codemirror_mode": {
    "name": "ipython",
    "version": 3
   },
   "file_extension": ".py",
   "mimetype": "text/x-python",
   "name": "python",
   "nbconvert_exporter": "python",
   "pygments_lexer": "ipython3",
   "version": "3.8.11"
  }
 },
 "nbformat": 4,
 "nbformat_minor": 5
}
