{
 "cells": [
  {
   "cell_type": "markdown",
   "id": "f595b73e-85eb-40e0-b68b-b83182787ed5",
   "metadata": {},
   "source": [
    "# 배낭 문제 (Knapsack Problem)"
   ]
  },
  {
   "cell_type": "markdown",
   "id": "a923b965-464e-469a-87f9-4b8e492d76ef",
   "metadata": {},
   "source": [
    "`-` 조합 최적화의 일종으로 배낭에 담을 수 있는 무게의 최댓값이 정해져 있고 일정 가치와 무게가 있는 짐들을 배낭에 넣을 때 가치의 합이 최대가 되도록 짐을 고르는 방법을 찾는 문제이다\n",
    "\n",
    "`-` 설명 참고 : https://en.wikipedia.org/wiki/Knapsack_problem"
   ]
  },
  {
   "cell_type": "markdown",
   "id": "d5d71457-9927-46b1-8bf7-91c88b98b618",
   "metadata": {},
   "source": [
    "## 평범한 배낭\n",
    "\n",
    "- 문제 출처: [백준 12865번](https://www.acmicpc.net/problem/12865)"
   ]
  },
  {
   "cell_type": "markdown",
   "id": "85be1150-bafd-4f38-ac0c-b9990046e767",
   "metadata": {},
   "source": [
    "`-` 어떻게 접근할지 생각이 안난다\n",
    "\n",
    "`-` why?\n",
    "\n",
    "`-` $n$개의 아이템을 사용하여 가방을 챙길 때 단순히 무게를 최소화 시키거나 가치를 최대화 시키는 것은 답이 아니다\n",
    "\n",
    "`-` 그래서 무게와 가치를 저울질 해가며 판단해야 되는데 어떻게 판단할지 생각이 안난다\n",
    "\n",
    "`-` 기준이 있어야 점화식을 세우는데 기준을 어떻게 잡아야 할지 (가치? 무게? 물건의 개수?) 몰랐다\n",
    "\n",
    "`-` 그래서 검색하고 왔는데 기준을 가방의 번호로 잡는다고 하더라 (그냥 번호만 매기면 된다; `무거운 것부터 1번` $\\to$ 이럴 필요 없음)\n",
    "\n",
    "`-` 물건의 개수와 비슷한데 다른 점이 있다\n",
    "\n",
    "`-` 나는 물건의 개수로 기준을 세울려고 했는데 실패했다 (왜냐하면 어떤 물건들로 구성하는지 떠오르지 않았기 때문)\n",
    "\n",
    "`-` $N$개의 물건을 사용하는데 예컨대 $50$개라면 $50$개를 어떤 물건으로 구성해야 할지 몰랐음 (무게와 가치를 저울질 해야하는데 어떻게 하지??)\n",
    "\n",
    "`-` 그런데 물건에 번호를 매김으로써 $N$개의 물건을 어떻게 구성할지 생각하지 않아도 된다!!\n",
    "\n",
    "`-` $N=50$이라면 $1$번부터 $50$번까지의 물건을 사용하면 된다\n",
    "\n",
    "`-` 그런데 번호는 어떤 기준으로 매길건데?? ---> 상관이 없다고 한다 (key point)\n",
    "\n",
    "`-` 두 번째 key point는 무게가 $w(1\\leq w \\leq k)$인 임시 배낭을 고려하는 것이다 ($k$는 기존 배낭의 수용 무게) \n",
    "\n",
    "`-` 이제 위의 내용을 바탕으로 점화식을 세우자\n",
    "\n",
    "`-` 우선 물건에 $1$부터 $n$(물건 개수)까지 번호를 매긴다 (순서는 상관없다)\n",
    "\n",
    "`-` 그리고 $\\text{dp[$n$][$w$]}$를 $1$번부터 $n$번까지의 물건을 사용하여 현재 임시 배낭의 수용 무게가 $w$일 때 최대화 시킬 수 있는 가치 $v$라고 하자\n",
    "\n",
    "`-` 만약 $n-1$번째까지의 물건을 고려한 상황이라면 $n$번째 물건을 배낭에 넣거나 안넣거나 둘 중 하나이다\n",
    "\n",
    "`-` 만약 $n$번째 물건을 배낭에 넣지 않으면 $\\text{dp[$n$][$w$]} = \\text{dp[$n-1$][$w$]}$이다\n",
    "\n",
    "`-` 만약 $n$번째 물건을 배낭에 넣으면 $\\text{dp[$n$][$w$]} = \\text{dp[$n-1$][$w-w_n$]} + v_n$이다 ($w_n$과 $v_n$은 각각 $n$번째 물건의 무게와 가치)\n",
    "\n",
    "`-` 그런데 이제 배낭의 가치를 최대화해야 하므로 $\\text{dp[$n$][$w$]} = \\max(\\text{dp[$n-1$][$w-w_n$]} + v_n,\\, \\text{dp[$n-1$][$w$]})$\n",
    "\n",
    "`-` base case($n=1$)를 정하고 위의 점화식을 적용하면 문제를 해결할 수 있다 "
   ]
  },
  {
   "cell_type": "code",
   "execution_count": 27,
   "id": "ec747174-013b-4961-b122-343e536ef574",
   "metadata": {},
   "outputs": [
    {
     "name": "stdin",
     "output_type": "stream",
     "text": [
      " 4 7\n",
      " 6 13\n",
      " 4 8\n",
      " 3 6\n",
      " 5 12\n"
     ]
    },
    {
     "name": "stdout",
     "output_type": "stream",
     "text": [
      "14\n"
     ]
    }
   ],
   "source": [
    "N, K = map(int, input().split())  # 물건의 개수와 수용 가능한 무게\n",
    "items = [[0, 0]] + [list(map(int, input().split())) for _ in range(N)]  # 무게(W)와 가치(V)\n",
    "dp = [[0] * (K + 1) for _ in range(N + 1)]  # 배낭의 가치\n",
    "for i in range(1, N + 1):  # 1번 물건부터 i번 물건까지 임시 가방에 넣는 것을 고려 \n",
    "    for j in range(1, K + 1):  # 임시 가방의 수용 무게는 1부터 K까지\n",
    "        if j >= items[i][0]:  # 만약 넣을 물건(n번째 물건)이 배낭의 수용 무게를 초과하지 않는다면\n",
    "            dp[i][j] = max(dp[i - 1][j - items[i][0]] + items[i][1], dp[i - 1][j]) \n",
    "        else:  # 수용 무게를 초과\n",
    "            dp[i][j] = dp[i - 1][j]  # 물건의 무게 때문에 가방에 넣지 못한다\n",
    "print(dp[N][K])\n",
    "\n",
    "# input\n",
    "# 4 7\n",
    "# 6 13\n",
    "# 4 8\n",
    "# 3 6\n",
    "# 5 12"
   ]
  },
  {
   "cell_type": "code",
   "execution_count": 30,
   "id": "addc8c3b-0143-4072-820a-ad94e83a187b",
   "metadata": {},
   "outputs": [
    {
     "data": {
      "text/plain": [
       "[[0, 0, 0, 0, 0, 0, 0, 0],\n",
       " [0, 0, 0, 0, 0, 0, 13, 13],\n",
       " [0, 0, 0, 0, 8, 8, 13, 13],\n",
       " [0, 0, 0, 6, 8, 8, 13, 14],\n",
       " [0, 0, 0, 6, 8, 12, 13, 14]]"
      ]
     },
     "execution_count": 30,
     "metadata": {},
     "output_type": "execute_result"
    }
   ],
   "source": [
    "dp\n",
    "# 5*8 (왜냐하면 파이썬에서 인덱스는 0부터라 편의상 패딩 했다, 무게가 0부터 K까지이고 N도 마찬가지)\n",
    "# 근데 무게 0은 어차피 아무것도 못 넣으니까 가치가 0이다 (개수도 마찬가지; 0개면 아무것도 못 넣는다)"
   ]
  },
  {
   "cell_type": "markdown",
   "id": "cf38b23c-2c41-4722-b704-b1a93230e422",
   "metadata": {},
   "source": [
    "## 양팔저울\n",
    "\n",
    "- 문제 출처: [백준 2629번](https://www.acmicpc.net/problem/2629)"
   ]
  },
  {
   "cell_type": "markdown",
   "id": "1f778a9c-537c-4e78-aaf0-3fc6e694f36d",
   "metadata": {},
   "source": [
    "`-` 구슬을 왼쪽에 놓고 추를 왼쪽 또는 오른쪽에 놓아 균형을 맞출 수 있는지 확인하는 문제이다\n",
    "\n",
    "`-` 추를 오른쪽에 놓는 것은 무게가 더해지는 것이며 왼쪽에 놓는 것은 무게가 감소하는 것이다\n",
    "\n",
    "`-` 추 $n$개에 대해 $0$부터 $n-1$까지 번호를 부여하자 (순서는 상관없다)\n",
    "\n",
    "`-` $n$번째 추를 놓아 만들 수 있는 무게는 $n-1$번째 추까지 놓아 만들 수 있는 모든 무게에 $n$번째 추의 무게만큼 더하거나 감소시키거나 그대로 두는 것이다\n",
    "\n",
    "`-` 만들 수 있는 무게는 음수가 될 수도 있으니 딕셔너리로 관리하자\n",
    "\n",
    "`-` 모든 추까지 고려해 만들 수 있는 무게를 만든 뒤 해당 딕셔너리의 구슬의 무게가 존재하면 구슬의 무게를 확인할 수 있는 것이다\n",
    "\n",
    "`-` 추의 개수를 $n$, 전체 추의 무게 합을 $s$라고 하자\n",
    "\n",
    "`-` for문은 $n$번 작동하여 각 루프마다 가능한 무게 집합을 순회한다\n",
    "\n",
    "`-` 가능한 무게 집합의 크기는 $O(s)$이다\n",
    "\n",
    "`-` 따라서 추로 만들 수 있는 무게를 탐색하는 알고리즘의 시간 복잡도는 최악의 경우 $O\\left(ns\\right)$이다\n",
    "\n",
    "`-` 구슬의 무게를 확인할 수 있는지 판단하는 것은 상수 시간에 판단 가능하므로 쿼리의 개수를 $Q$라 할 때 시간 복잡도는 $O(Q)$이다 "
   ]
  },
  {
   "cell_type": "code",
   "execution_count": 10,
   "id": "7959bd25-6596-4ceb-a6b9-7ce46fb4cd82",
   "metadata": {},
   "outputs": [
    {
     "name": "stdin",
     "output_type": "stream",
     "text": [
      " 4\n",
      " 2 3 3 3\n",
      " 3\n",
      " 1 4 10\n"
     ]
    },
    {
     "name": "stdout",
     "output_type": "stream",
     "text": [
      "Y Y N\n"
     ]
    }
   ],
   "source": [
    "def bottom_up(weights, n):\n",
    "    possible_weights = {}\n",
    "    a_0 = weights[0]\n",
    "    possible_weights[0] = True\n",
    "    possible_weights[a_0] = True\n",
    "    possible_weights[-a_0] = True\n",
    "    for i in range(1, n):\n",
    "        temp = {}\n",
    "        a_i = weights[i]\n",
    "        for key in possible_weights:\n",
    "            temp[key + a_i] = True\n",
    "            temp[key - a_i] = True\n",
    "        possible_weights.update(temp)\n",
    "    return possible_weights\n",
    "\n",
    "\n",
    "def solution():\n",
    "    n = int(input())\n",
    "    weights = list(map(int, input().split()))\n",
    "    m = int(input())\n",
    "    marbles = list(map(int, input().split()))\n",
    "    possible_weights = bottom_up(weights, n)\n",
    "    answer = []\n",
    "    for marble in marbles:\n",
    "        if marble in possible_weights:\n",
    "            answer.append(\"Y\")\n",
    "            continue\n",
    "        answer.append(\"N\")\n",
    "    print(*answer)\n",
    "\n",
    "\n",
    "solution()\n",
    "\n",
    "# input\n",
    "# 4\n",
    "# 2 3 3 3\n",
    "# 3\n",
    "# 1 4 10"
   ]
  },
  {
   "cell_type": "markdown",
   "id": "2fa5a25c-2b0b-41a2-a03b-8b434804a0b0",
   "metadata": {},
   "source": [
    "## 앱\n",
    "\n",
    "- 문제 출처: [백준 7579번](https://www.acmicpc.net/problem/7579)"
   ]
  },
  {
   "cell_type": "markdown",
   "id": "a4a0d7d5-89d8-4a50-b11f-3ad525118aa8",
   "metadata": {},
   "source": [
    "`-` 일반적인 배낭 문제와 다르게 접근해야 한다\n",
    "\n",
    "`-` 보통의 배낭 문제는 제한된 무게에서 배낭에 담을 물건의 가치를 최대화하는 것이다\n",
    "\n",
    "`-` 여기서는 일정량의 메모리를 해제하는데 드는 비용을 최소화해야 한다\n",
    "\n",
    "`-` 앱의 수를 $N$, 앱이 사용하고 있는 메모리의 바이트 수를 $m$, 앱을 재활성화할 때 드는 비용을 $c$라고 하면 변수의 범위는 다음과 같다\n",
    "\n",
    "`-` $1 \\le N\\le 100, 0\\le c \\le 100, 1 \\le m \\le 10000000$\n",
    "\n",
    "`-` $m$의 범위가 크므로 이를 이용해 배열을 만들거나 하면 시간 초과이다\n",
    "\n",
    "`-` 비용 총합의 최댓값은 $100N$이다\n",
    "\n",
    "`-` $k$를 현재 고려할 비용의 상한이라고 하자\n",
    "\n",
    "`-` `dp[n][k]`를 비용의 상한이 $k$이고 $n$번째 앱까지 비활성화를 고려할 때 해제할 수 있는 메모리의 최대 바이트 수라고 하자\n",
    "\n",
    "`-` 그럼 일반적인 배낭 문제와 동일하게 메모이제이션 배열을 채울 수 있다\n",
    "\n",
    "`-` 그 후 배열을 순회하면서 값이 $M$보다 큰 원소에 대해 $k$를 정답으로 고려하면 되며 이때 가장 작은 $k$가 정답이 된다\n",
    "\n",
    "`-` 전체 배열을 채워야하므로 알고리즘의 시간 복잡도는 $O\\left(cN^2\\right)$이다"
   ]
  },
  {
   "cell_type": "code",
   "execution_count": 2,
   "id": "9465dd52-0637-4408-b81e-cf488cc4aeee",
   "metadata": {},
   "outputs": [
    {
     "name": "stdin",
     "output_type": "stream",
     "text": [
      " 5 60\n",
      " 30 10 20 35 40\n",
      " 3 0 3 5 4\n"
     ]
    },
    {
     "name": "stdout",
     "output_type": "stream",
     "text": [
      "6\n"
     ]
    }
   ],
   "source": [
    "def solution():\n",
    "    N, M = map(int, input().split())\n",
    "    bites = list(map(int, input().split()))\n",
    "    costs = list(map(int, input().split()))\n",
    "    MAX_COST = 100\n",
    "    MAX_TOTAL_COST = MAX_COST * N\n",
    "    dp = [[0 for _ in range(MAX_TOTAL_COST)] for _ in range(N + 1)]  # dp[n][k]는 사용할 비용이 k이고 A_n까지 비활성화를 고려했을 때 해제 가능한 최대 메모리\n",
    "    answer = MAX_TOTAL_COST\n",
    "    for i in range(1, N + 1):\n",
    "        for k in range(MAX_TOTAL_COST):\n",
    "            m = bites[i - 1]\n",
    "            c = costs[i - 1]\n",
    "            if k - c >= 0:\n",
    "                dp[i][k] = max(dp[i - 1][k - c] + m, dp[i - 1][k])\n",
    "            else:\n",
    "                dp[i][k] = dp[i - 1][k]\n",
    "            if dp[i][k] >= M:\n",
    "                answer = min(k, answer)\n",
    "    print(answer)\n",
    "\n",
    "\n",
    "solution()\n",
    "\n",
    "# input\n",
    "# 5 60\n",
    "# 30 10 20 35 40\n",
    "# 3 0 3 5 4"
   ]
  },
  {
   "cell_type": "markdown",
   "id": "865c6a66-b369-4061-b821-45947a0eda68",
   "metadata": {},
   "source": [
    "## 할로윈의 양아치\n",
    "\n",
    "- 문제 출처: [백준 20303번](https://www.acmicpc.net/problem/20303)"
   ]
  },
  {
   "cell_type": "markdown",
   "id": "6536afb2-2022-4252-9362-6dcec4a1fc40",
   "metadata": {},
   "source": [
    "`-` 친구의 친구도 친구다\n",
    "\n",
    "`-` `union-find`를 통해 그룹 짓자\n",
    "\n",
    "`-` 그럼 각 그룹은 몇 명을 포함하고 있는지와 사탕을 몇 개 가지고 있는지에 대한 정보를 가지게 된다\n",
    "\n",
    "`-` 이제 $K$명을 넘지 않도록 사탕을 뺏으면 된다\n",
    "\n",
    "`-` 이는 동적계획법으로 해결할 수 있다 (사람과 사탕 수는 별개이다 $\\to$ 사람이 많다고 사탕도 많은게 아님)\n",
    "\n",
    "`-` 각 그룹마다 뺏을지 말지 정해야 되며 그룹의 아이들의 합이 $K$를 넘기면 안된다\n",
    "\n",
    "`-` 이는 배낭 문제이니 배낭 문제 해결과 똑같이 하면 된다\n",
    "\n",
    "`-` 물건 가치가 사탕의 수, 물건 무게가 아이들 수, 배낭 무게가 $K$인 배낭 문제라 생각하면 된다\n",
    "\n",
    "`-` 배낭 문제를 dp로 해결할 때 시간 복잡도는 $O(NK)$이고 $N\\le 30000, K\\le 3000$이므로 제한 시간 안에 해결할 수 있다"
   ]
  },
  {
   "cell_type": "code",
   "execution_count": 1,
   "id": "a5985a2a-a62c-4124-9a0c-582d1f441e29",
   "metadata": {},
   "outputs": [
    {
     "name": "stdin",
     "output_type": "stream",
     "text": [
      " 5 4 4\n",
      " 9 9 9 9 9\n",
      " 1 2\n",
      " 2 3\n",
      " 3 4\n",
      " 4 5\n"
     ]
    },
    {
     "name": "stdout",
     "output_type": "stream",
     "text": [
      "0\n"
     ]
    }
   ],
   "source": [
    "def find(u):\n",
    "    if u != p[u]:\n",
    "        p[u] = find(p[u])\n",
    "    return p[u]\n",
    "\n",
    "\n",
    "def union(u, v):\n",
    "    u_root = find(u)\n",
    "    v_root = find(v)\n",
    "    if u_root == v_root:\n",
    "        return\n",
    "    if rank[u_root] < rank[v_root]:\n",
    "        p[u_root] = v_root\n",
    "        kids_nums[v_root] += kids_nums[u_root]\n",
    "        candies_nums[v_root] += candies_nums[u_root]\n",
    "    elif rank[u_root] > rank[v_root]:\n",
    "        p[v_root] = u_root\n",
    "        kids_nums[u_root] += kids_nums[v_root]\n",
    "        candies_nums[u_root] += candies_nums[v_root]\n",
    "    else:\n",
    "        p[v_root] = u_root\n",
    "        rank[u_root] += 1\n",
    "        kids_nums[u_root] += kids_nums[v_root]\n",
    "        candies_nums[u_root] += candies_nums[v_root]\n",
    "\n",
    "\n",
    "def solution():\n",
    "    global N, K, p, rank, kids_nums, candies_nums, groups\n",
    "    N, M, K = map(int, input().split())\n",
    "    candies = [0] + list(map(int, input().split()))\n",
    "    p = [u for u in range(N + 1)]\n",
    "    rank = [0 for _ in range(N + 1)]\n",
    "    kids_nums = [1 for _ in range(N + 1)]\n",
    "    candies_nums = [candies[u] for u in range(N + 1)]\n",
    "    for _ in range(M):\n",
    "        a, b = map(int, input().split())\n",
    "        union(a, b)\n",
    "    groups = []\n",
    "    visited = set()\n",
    "    for u in range(1, N + 1):\n",
    "        root = find(u)\n",
    "        if root in visited:\n",
    "            continue\n",
    "        groups.append((kids_nums[root], candies_nums[root]))\n",
    "        visited.add(root)\n",
    "    dp = knapsack(groups)\n",
    "    print(dp[len(groups)][K - 1])\n",
    "\n",
    "\n",
    "def knapsack(groups):\n",
    "    dp = [[0 for _ in range(K)] for _ in range(len(groups) + 1)]  # dp[n][k]는 k까지 담을 수 있는 배낭에 n번째 물품까지 넣는 것을 고려했을 때 획득 가능한 사탕의 최댓값\n",
    "    for n, (w, v) in enumerate(groups, start=1):\n",
    "        w, v = groups[n - 1]\n",
    "        for k in range(K):\n",
    "            if k - w >= 0:\n",
    "                dp[n][k] = max(dp[n - 1][k - w] + v, dp[n - 1][k])\n",
    "            else:\n",
    "                dp[n][k] = dp[n - 1][k]\n",
    "    return dp\n",
    "\n",
    "\n",
    "solution()\n",
    "\n",
    "# input\n",
    "# 5 4 4\n",
    "# 9 9 9 9 9\n",
    "# 1 2\n",
    "# 2 3\n",
    "# 3 4\n",
    "# 4 5"
   ]
  },
  {
   "cell_type": "code",
   "execution_count": null,
   "id": "e3e3f92e-2eab-4234-bdb3-5820d542f778",
   "metadata": {},
   "outputs": [],
   "source": []
  }
 ],
 "metadata": {
  "kernelspec": {
   "display_name": "Python 3 (ipykernel)",
   "language": "python",
   "name": "python3"
  },
  "language_info": {
   "codemirror_mode": {
    "name": "ipython",
    "version": 3
   },
   "file_extension": ".py",
   "mimetype": "text/x-python",
   "name": "python",
   "nbconvert_exporter": "python",
   "pygments_lexer": "ipython3",
   "version": "3.8.11"
  }
 },
 "nbformat": 4,
 "nbformat_minor": 5
}
