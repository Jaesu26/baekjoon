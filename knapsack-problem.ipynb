{
 "cells": [
  {
   "cell_type": "markdown",
   "id": "f595b73e-85eb-40e0-b68b-b83182787ed5",
   "metadata": {},
   "source": [
    "# 배낭 문제 (Knapsack Problem)"
   ]
  },
  {
   "cell_type": "markdown",
   "id": "a923b965-464e-469a-87f9-4b8e492d76ef",
   "metadata": {},
   "source": [
    "`-` 조합 최적화의 일종으로 배낭에 담을 수 있는 무게의 최댓값이 정해져 있고 일정 가치와 무게가 있는 짐들을 배낭에 넣을 때 가치의 합이 최대가 되도록 짐을 고르는 방법을 찾는 문제이다\n",
    "\n",
    "`-` 설명 참고 : https://en.wikipedia.org/wiki/Knapsack_problem"
   ]
  },
  {
   "cell_type": "markdown",
   "id": "d5d71457-9927-46b1-8bf7-91c88b98b618",
   "metadata": {},
   "source": [
    "## 평범한 배낭\n",
    "\n",
    "- 문제 출처: [백준 12865번](https://www.acmicpc.net/problem/12865)"
   ]
  },
  {
   "cell_type": "markdown",
   "id": "85be1150-bafd-4f38-ac0c-b9990046e767",
   "metadata": {},
   "source": [
    "`-` 어떻게 접근할지 생각이 안난다\n",
    "\n",
    "`-` why?\n",
    "\n",
    "`-` $n$개의 아이템을 사용하여 가방을 챙길 때 단순히 무게를 최소화 시키거나 가치를 최대화 시키는 것은 답이 아니다\n",
    "\n",
    "`-` 그래서 무게와 가치를 저울질 해가며 판단해야 되는데 어떻게 판단할지 생각이 안난다\n",
    "\n",
    "`-` 기준이 있어야 점화식을 세우는데 기준을 어떻게 잡아야 할지 (가치? 무게? 물건의 개수?) 몰랐다\n",
    "\n",
    "`-` 그래서 검색하고 왔는데 기준을 가방의 번호로 잡는다고 하더라 (그냥 번호만 매기면 된다; `무거운 것부터 1번` $\\to$ 이럴 필요 없음)\n",
    "\n",
    "`-` 물건의 개수와 비슷한데 다른 점이 있다\n",
    "\n",
    "`-` 나는 물건의 개수로 기준을 세울려고 했는데 실패했다 (왜냐하면 어떤 물건들로 구성하는지 떠오르지 않았기 때문)\n",
    "\n",
    "`-` $N$개의 물건을 사용하는데 예컨대 $50$개라면 $50$개를 어떤 물건으로 구성해야 할지 몰랐음 (무게와 가치를 저울질 해야하는데 어떻게 하지??)\n",
    "\n",
    "`-` 그런데 물건에 번호를 매김으로써 $N$개의 물건을 어떻게 구성할지 생각하지 않아도 된다!!\n",
    "\n",
    "`-` $N=50$이라면 $1$번부터 $50$번까지의 물건을 사용하면 된다\n",
    "\n",
    "`-` 그런데 번호는 어떤 기준으로 매길건데?? ---> 상관이 없다고 한다 (key point)\n",
    "\n",
    "`-` 두 번째 key point는 무게가 $w(1\\leq w \\leq k)$인 임시 배낭을 고려하는 것이다 ($k$는 기존 배낭의 수용 무게) \n",
    "\n",
    "`-` 이제 위의 내용을 바탕으로 점화식을 세우자\n",
    "\n",
    "`-` 우선 물건에 $1$부터 $n$(물건 개수)까지 번호를 매긴다 (순서는 상관없다)\n",
    "\n",
    "`-` 그리고 $\\text{dp[$n$][$w$]}$를 $1$번부터 $n$번까지의 물건을 사용하여 현재 임시 배낭의 수용 무게가 $w$일 때 최대화 시킬 수 있는 가치 $v$라고 하자\n",
    "\n",
    "`-` 만약 $n-1$번째까지의 물건을 고려한 상황이라면 $n$번째 물건을 배낭에 넣거나 안넣거나 둘 중 하나이다\n",
    "\n",
    "`-` 만약 $n$번째 물건을 배낭에 넣지 않으면 $\\text{dp[$n$][$w$]} = \\text{dp[$n-1$][$w$]}$이다\n",
    "\n",
    "`-` 만약 $n$번째 물건을 배낭에 넣으면 $\\text{dp[$n$][$w$]} = \\text{dp[$n-1$][$w-w_n$]} + v_n$이다 ($w_n$과 $v_n$은 각각 $n$번째 물건의 무게와 가치)\n",
    "\n",
    "`-` 그런데 이제 배낭의 가치를 최대화해야 하므로 $\\text{dp[$n$][$w$]} = \\max(\\text{dp[$n-1$][$w-w_n$]} + v_n,\\, \\text{dp[$n-1$][$w$]})$\n",
    "\n",
    "`-` base case($n=1$)를 정하고 위의 점화식을 적용하면 문제를 해결할 수 있다 "
   ]
  },
  {
   "cell_type": "code",
   "execution_count": 27,
   "id": "ec747174-013b-4961-b122-343e536ef574",
   "metadata": {},
   "outputs": [
    {
     "name": "stdin",
     "output_type": "stream",
     "text": [
      " 4 7\n",
      " 6 13\n",
      " 4 8\n",
      " 3 6\n",
      " 5 12\n"
     ]
    },
    {
     "name": "stdout",
     "output_type": "stream",
     "text": [
      "14\n"
     ]
    }
   ],
   "source": [
    "N, K = map(int, input().split())  # 물건의 개수와 수용 가능한 무게\n",
    "items = [[0, 0]] + [list(map(int, input().split())) for _ in range(N)]  # 무게(W)와 가치(V)\n",
    "dp = [[0] * (K + 1) for _ in range(N + 1)]  # 배낭의 가치\n",
    "for i in range(1, N + 1):  # 1번 물건부터 i번 물건까지 임시 가방에 넣는 것을 고려 \n",
    "    for j in range(1, K + 1):  # 임시 가방의 수용 무게는 1부터 K까지\n",
    "        if j >= items[i][0]:  # 만약 넣을 물건(n번째 물건)이 배낭의 수용 무게를 초과하지 않는다면\n",
    "            dp[i][j] = max(dp[i - 1][j - items[i][0]] + items[i][1], dp[i - 1][j]) \n",
    "        else:  # 수용 무게를 초과\n",
    "            dp[i][j] = dp[i - 1][j]  # 물건의 무게 때문에 가방에 넣지 못한다\n",
    "print(dp[N][K])\n",
    "\n",
    "# input\n",
    "# 4 7\n",
    "# 6 13\n",
    "# 4 8\n",
    "# 3 6\n",
    "# 5 12"
   ]
  },
  {
   "cell_type": "code",
   "execution_count": 30,
   "id": "addc8c3b-0143-4072-820a-ad94e83a187b",
   "metadata": {},
   "outputs": [
    {
     "data": {
      "text/plain": [
       "[[0, 0, 0, 0, 0, 0, 0, 0],\n",
       " [0, 0, 0, 0, 0, 0, 13, 13],\n",
       " [0, 0, 0, 0, 8, 8, 13, 13],\n",
       " [0, 0, 0, 6, 8, 8, 13, 14],\n",
       " [0, 0, 0, 6, 8, 12, 13, 14]]"
      ]
     },
     "execution_count": 30,
     "metadata": {},
     "output_type": "execute_result"
    }
   ],
   "source": [
    "dp\n",
    "# 5*8 (왜냐하면 파이썬에서 인덱스는 0부터라 편의상 패딩 했다, 무게가 0부터 K까지이고 N도 마찬가지)\n",
    "# 근데 무게 0은 어차피 아무것도 못 넣으니까 가치가 0이다 (개수도 마찬가지; 0개면 아무것도 못 넣는다)"
   ]
  },
  {
   "cell_type": "markdown",
   "id": "cf38b23c-2c41-4722-b704-b1a93230e422",
   "metadata": {},
   "source": [
    "## 양팔저울\n",
    "\n",
    "- 문제 출처: [백준 2629번](https://www.acmicpc.net/problem/2629)"
   ]
  },
  {
   "cell_type": "markdown",
   "id": "1f778a9c-537c-4e78-aaf0-3fc6e694f36d",
   "metadata": {},
   "source": [
    "`-` 구슬을 왼쪽에 놓고 추를 왼쪽 또는 오른쪽에 놓아 균형을 맞출 수 있는지 확인하는 문제이다\n",
    "\n",
    "`-` 추를 오른쪽에 놓는 것은 무게가 더해지는 것이며 왼쪽에 놓는 것은 무게가 감소하는 것이다\n",
    "\n",
    "`-` 추 $n$개에 대해 $0$부터 $n-1$까지 번호를 부여하자 (순서는 상관없다)\n",
    "\n",
    "`-` $n$번째 추를 놓아 만들 수 있는 무게는 $n-1$번째 추까지 놓아 만들 수 있는 모든 무게에 $n$번째 추의 무게만큼 더하거나 감소시키거나 그대로 두는 것이다\n",
    "\n",
    "`-` 만들 수 있는 무게는 음수가 될 수도 있으니 딕셔너리로 관리하자\n",
    "\n",
    "`-` 모든 추까지 고려해 만들 수 있는 무게를 만든 뒤 해당 딕셔너리의 구슬의 무게가 존재하면 구슬의 무게를 확인할 수 있는 것이다\n",
    "\n",
    "`-` 추의 개수를 $n$, 전체 추의 무게 합을 $s$라고 하자\n",
    "\n",
    "`-` for문은 $n$번 작동하여 각 루프마다 가능한 무게 집합을 순회한다\n",
    "\n",
    "`-` 가능한 무게 집합의 크기는 $O(s)$이다\n",
    "\n",
    "`-` 따라서 추로 만들 수 있는 무게를 탐색하는 알고리즘의 시간 복잡도는 최악의 경우 $O\\left(ns\\right)$이다\n",
    "\n",
    "`-` 구슬의 무게를 확인할 수 있는지 판단하는 것은 상수 시간에 판단 가능하므로 쿼리의 개수를 $Q$라 할 때 시간 복잡도는 $O(Q)$이다 "
   ]
  },
  {
   "cell_type": "code",
   "execution_count": 10,
   "id": "7959bd25-6596-4ceb-a6b9-7ce46fb4cd82",
   "metadata": {},
   "outputs": [
    {
     "name": "stdin",
     "output_type": "stream",
     "text": [
      " 4\n",
      " 2 3 3 3\n",
      " 3\n",
      " 1 4 10\n"
     ]
    },
    {
     "name": "stdout",
     "output_type": "stream",
     "text": [
      "Y Y N\n"
     ]
    }
   ],
   "source": [
    "def bottom_up(weights, n):\n",
    "    possible_weights = {}\n",
    "    a_0 = weights[0]\n",
    "    possible_weights[0] = True\n",
    "    possible_weights[a_0] = True\n",
    "    possible_weights[-a_0] = True\n",
    "    for i in range(1, n):\n",
    "        temp = {}\n",
    "        a_i = weights[i]\n",
    "        for key in possible_weights:\n",
    "            temp[key + a_i] = True\n",
    "            temp[key - a_i] = True\n",
    "        possible_weights.update(temp)\n",
    "    return possible_weights\n",
    "\n",
    "\n",
    "def solution():\n",
    "    n = int(input())\n",
    "    weights = list(map(int, input().split()))\n",
    "    m = int(input())\n",
    "    marbles = list(map(int, input().split()))\n",
    "    possible_weights = bottom_up(weights, n)\n",
    "    answer = []\n",
    "    for marble in marbles:\n",
    "        if marble in possible_weights:\n",
    "            answer.append(\"Y\")\n",
    "            continue\n",
    "        answer.append(\"N\")\n",
    "    print(*answer)\n",
    "\n",
    "\n",
    "solution()\n",
    "\n",
    "# input\n",
    "# 4\n",
    "# 2 3 3 3\n",
    "# 3\n",
    "# 1 4 10"
   ]
  },
  {
   "cell_type": "markdown",
   "id": "2fa5a25c-2b0b-41a2-a03b-8b434804a0b0",
   "metadata": {},
   "source": [
    "## 앱\n",
    "\n",
    "- 문제 출처: [백준 7579번](https://www.acmicpc.net/problem/7579)"
   ]
  },
  {
   "cell_type": "markdown",
   "id": "a4a0d7d5-89d8-4a50-b11f-3ad525118aa8",
   "metadata": {},
   "source": [
    "`-` 일반적인 배낭 문제와 다르게 접근해야 한다\n",
    "\n",
    "`-` 보통의 배낭 문제는 제한된 무게에서 배낭에 담을 물건의 가치를 최대화하는 것이다\n",
    "\n",
    "`-` 여기서는 일정량의 메모리를 해제하는데 드는 비용을 최소화해야 한다\n",
    "\n",
    "`-` 앱의 수를 $N$, 앱이 사용하고 있는 메모리의 바이트 수를 $m$, 앱을 재활성화할 때 드는 비용을 $c$라고 하면 변수의 범위는 다음과 같다\n",
    "\n",
    "`-` $1 \\le N\\le 100, 0\\le c \\le 100, 1 \\le m \\le 10000000$\n",
    "\n",
    "`-` $m$의 범위가 크므로 이를 이용해 배열을 만들거나 하면 시간 초과이다\n",
    "\n",
    "`-` 비용 총합의 최댓값은 $100N$이다\n",
    "\n",
    "`-` $k$를 현재 고려할 비용의 상한이라고 하자\n",
    "\n",
    "`-` `dp[n][k]`를 비용의 상한이 $k$이고 $n$번째 앱까지 비활성화를 고려할 때 해제할 수 있는 메모리의 최대 바이트 수라고 하자\n",
    "\n",
    "`-` 그럼 일반적인 배낭 문제와 동일하게 메모이제이션 배열을 채울 수 있다\n",
    "\n",
    "`-` 그 후 배열을 순회하면서 값이 $M$보다 큰 원소에 대해 $k$를 정답으로 고려하면 되며 이때 가장 작은 $k$가 정답이 된다\n",
    "\n",
    "`-` 전체 배열을 채워야하므로 알고리즘의 시간 복잡도는 $O\\left(cN^2\\right)$이다"
   ]
  },
  {
   "cell_type": "code",
   "execution_count": 2,
   "id": "9465dd52-0637-4408-b81e-cf488cc4aeee",
   "metadata": {},
   "outputs": [
    {
     "name": "stdin",
     "output_type": "stream",
     "text": [
      " 5 60\n",
      " 30 10 20 35 40\n",
      " 3 0 3 5 4\n"
     ]
    },
    {
     "name": "stdout",
     "output_type": "stream",
     "text": [
      "6\n"
     ]
    }
   ],
   "source": [
    "def solution():\n",
    "    N, M = map(int, input().split())\n",
    "    bites = list(map(int, input().split()))\n",
    "    costs = list(map(int, input().split()))\n",
    "    MAX_COST = 100\n",
    "    MAX_TOTAL_COST = MAX_COST * N\n",
    "    dp = [[0 for _ in range(MAX_TOTAL_COST)] for _ in range(N + 1)]  # dp[n][k]는 사용할 비용이 k이고 A_n까지 비활성화를 고려했을 때 해제 가능한 최대 메모리\n",
    "    answer = MAX_TOTAL_COST\n",
    "    for i in range(1, N + 1):\n",
    "        for k in range(MAX_TOTAL_COST):\n",
    "            m = bites[i - 1]\n",
    "            c = costs[i - 1]\n",
    "            if k - c >= 0:\n",
    "                dp[i][k] = max(dp[i - 1][k - c] + m, dp[i - 1][k])\n",
    "            else:\n",
    "                dp[i][k] = dp[i - 1][k]\n",
    "            if dp[i][k] >= M:\n",
    "                answer = min(k, answer)\n",
    "    print(answer)\n",
    "\n",
    "\n",
    "solution()\n",
    "\n",
    "# input\n",
    "# 5 60\n",
    "# 30 10 20 35 40\n",
    "# 3 0 3 5 4"
   ]
  },
  {
   "cell_type": "markdown",
   "id": "865c6a66-b369-4061-b821-45947a0eda68",
   "metadata": {},
   "source": [
    "## 할로윈의 양아치\n",
    "\n",
    "- 문제 출처: [백준 20303번](https://www.acmicpc.net/problem/20303)"
   ]
  },
  {
   "cell_type": "markdown",
   "id": "6536afb2-2022-4252-9362-6dcec4a1fc40",
   "metadata": {},
   "source": [
    "`-` 친구의 친구도 친구다\n",
    "\n",
    "`-` `union-find`를 통해 그룹 짓자\n",
    "\n",
    "`-` 그럼 각 그룹은 몇 명을 포함하고 있는지와 사탕을 몇 개 가지고 있는지에 대한 정보를 가지게 된다\n",
    "\n",
    "`-` 이제 $K$명을 넘지 않도록 사탕을 뺏으면 된다\n",
    "\n",
    "`-` 이는 동적계획법으로 해결할 수 있다 (사람과 사탕 수는 별개이다 $\\to$ 사람이 많다고 사탕도 많은게 아님)\n",
    "\n",
    "`-` 각 그룹마다 뺏을지 말지 정해야 되며 그룹의 아이들의 합이 $K$를 넘기면 안된다\n",
    "\n",
    "`-` 이는 배낭 문제이니 배낭 문제 해결과 똑같이 하면 된다\n",
    "\n",
    "`-` 물건 가치가 사탕의 수, 물건 무게가 아이들 수, 배낭 무게가 $K$인 배낭 문제라 생각하면 된다\n",
    "\n",
    "`-` 배낭 문제를 dp로 해결할 때 시간 복잡도는 $O(NK)$이고 $N\\le 30000, K\\le 3000$이므로 제한 시간 안에 해결할 수 있다"
   ]
  },
  {
   "cell_type": "code",
   "execution_count": 1,
   "id": "a5985a2a-a62c-4124-9a0c-582d1f441e29",
   "metadata": {},
   "outputs": [
    {
     "name": "stdin",
     "output_type": "stream",
     "text": [
      " 5 4 4\n",
      " 9 9 9 9 9\n",
      " 1 2\n",
      " 2 3\n",
      " 3 4\n",
      " 4 5\n"
     ]
    },
    {
     "name": "stdout",
     "output_type": "stream",
     "text": [
      "0\n"
     ]
    }
   ],
   "source": [
    "def find(u):\n",
    "    if u != p[u]:\n",
    "        p[u] = find(p[u])\n",
    "    return p[u]\n",
    "\n",
    "\n",
    "def union(u, v):\n",
    "    u_root = find(u)\n",
    "    v_root = find(v)\n",
    "    if u_root == v_root:\n",
    "        return\n",
    "    if rank[u_root] < rank[v_root]:\n",
    "        p[u_root] = v_root\n",
    "        kids_nums[v_root] += kids_nums[u_root]\n",
    "        candies_nums[v_root] += candies_nums[u_root]\n",
    "    elif rank[u_root] > rank[v_root]:\n",
    "        p[v_root] = u_root\n",
    "        kids_nums[u_root] += kids_nums[v_root]\n",
    "        candies_nums[u_root] += candies_nums[v_root]\n",
    "    else:\n",
    "        p[v_root] = u_root\n",
    "        rank[u_root] += 1\n",
    "        kids_nums[u_root] += kids_nums[v_root]\n",
    "        candies_nums[u_root] += candies_nums[v_root]\n",
    "\n",
    "\n",
    "def solution():\n",
    "    global N, K, p, rank, kids_nums, candies_nums, groups\n",
    "    N, M, K = map(int, input().split())\n",
    "    candies = [0] + list(map(int, input().split()))\n",
    "    p = [u for u in range(N + 1)]\n",
    "    rank = [0 for _ in range(N + 1)]\n",
    "    kids_nums = [1 for _ in range(N + 1)]\n",
    "    candies_nums = [candies[u] for u in range(N + 1)]\n",
    "    for _ in range(M):\n",
    "        a, b = map(int, input().split())\n",
    "        union(a, b)\n",
    "    groups = []\n",
    "    visited = set()\n",
    "    for u in range(1, N + 1):\n",
    "        root = find(u)\n",
    "        if root in visited:\n",
    "            continue\n",
    "        groups.append((kids_nums[root], candies_nums[root]))\n",
    "        visited.add(root)\n",
    "    dp = knapsack(groups)\n",
    "    print(dp[len(groups)][K - 1])\n",
    "\n",
    "\n",
    "def knapsack(groups):\n",
    "    dp = [[0 for _ in range(K)] for _ in range(len(groups) + 1)]  # dp[n][k]는 k까지 담을 수 있는 배낭에 n번째 물품까지 넣는 것을 고려했을 때 획득 가능한 사탕의 최댓값\n",
    "    for n, (w, v) in enumerate(groups, start=1):\n",
    "        w, v = groups[n - 1]\n",
    "        for k in range(K):\n",
    "            if k - w >= 0:\n",
    "                dp[n][k] = max(dp[n - 1][k - w] + v, dp[n - 1][k])\n",
    "            else:\n",
    "                dp[n][k] = dp[n - 1][k]\n",
    "    return dp\n",
    "\n",
    "\n",
    "solution()\n",
    "\n",
    "# input\n",
    "# 5 4 4\n",
    "# 9 9 9 9 9\n",
    "# 1 2\n",
    "# 2 3\n",
    "# 3 4\n",
    "# 4 5"
   ]
  },
  {
   "cell_type": "markdown",
   "id": "2551a9bc-2d02-45f2-b0ce-3a57354ac014",
   "metadata": {},
   "source": [
    "## SW 역량 테스트\n",
    "\n",
    "- 문제 출처: [백준 13448번](https://www.acmicpc.net/problem/13448)"
   ]
  },
  {
   "cell_type": "markdown",
   "id": "0e698dd8-eec2-463b-a93b-b6c9c7dd2c23",
   "metadata": {},
   "source": [
    "`-` 원소들의 순서를 정하는 동적 계획법 문제라고 한다\n",
    "\n",
    "`-` 원소들의 순서를 정한다는 것에는 심오한 뜻이 담겨있었다\n",
    "\n",
    "`-` 제한된 $T$분 동안 문제를 골라 풀면 된다\n",
    "\n",
    "`-` 처음에 생각한 건 비트마스크를 활용한 동적 계획법이었다\n",
    "\n",
    "`-` $P$개의 문제를 풀었다면 순서와 상관없이 소비된 시간은 동일하다\n",
    "\n",
    "`-` 즉, $a,b$를 단일 문제, $D$를 문제 집합이라 할 때 $a \\to b \\to D$에서 $a,b$의 순서와 상관없이 $D$ 입장에서 소비된 시간은 같다\n",
    "\n",
    "`-` 따라서 $P$개의 문제를 풀어서 받을 수 있는 점수의 최댓값을 저장하면 된다고 생각했다\n",
    "\n",
    "`-` 하지만 이는 문제의 개수를 $N$이라 할 때 $O\\left(N 2^N\\right)$이라 시간 초과이다\n",
    "\n",
    "`-` 중간에서 만나기를 활용해서 어찌어찌 한다고 해도 시간 초과이다\n",
    "\n",
    "`-` 이 문제가 어려운 이유가 푸는 순서에 따라 얻을 수 있는 점수가 달라지기 때문이다\n",
    "\n",
    "`-` 만약 고정된 점수를 지급한다면 배낭 문제로 치환된다\n",
    "\n",
    "`-` 소비한 시간이 물건의 무게이고 얻는 점수가 물건의 가치, 제한 시간이 배낭에 담을 수 있는 물건의 무게이다\n",
    "\n",
    "`-` 근데 원소들의 순서가 고정된게 아니므로 이렇게 할 수 없다\n",
    "\n",
    "`-` 어려운 동적 계획법이라 생각했고 이런 문제가 얼마나 있나 궁금해 인터넷에 어려운 동적 계획법 검색해봤다가 스포당했다\n",
    "\n",
    "`-` 정렬 후 동적 계획법 적용이란 문장을 봤고 스포 당한 김에 태그도 확인했다\n",
    "\n",
    "`-` 원소들의 순서를 정하는 동적 계획법 문제인 이유가 등장한다\n",
    "\n",
    "`-` 원소들의 순서를 정하지 못해 배낭 문제로 치환을 못한다면 원소들의 순서를 정하면 된다!\n",
    "\n",
    "`-` 처음에 접근했었는데 중간에서 만나기 + 비트마스크 동적 계획법에 매몰됐다가 까먹었다 \n",
    "\n",
    "`-` exchange argument 문제를 풀어봤다면 알 것이다\n",
    "\n",
    "`-` $a\\to b\\to D$의 순서로 문제를 푼다고 해보지\n",
    "\n",
    "`-` 만약 $a\\to b$보다 $b\\to a$가 점수를 더 얻는다면 $b\\to a\\to D$가 더 최적이다\n",
    "\n",
    "`-` 왜냐하면 $D$의 입장에선 $a \\to b$나 $b\\to a$나 소비된 시간은 같아 똑같은 점수를 얻기 때문이다\n",
    "\n",
    "`-` 시간 $t = T$에서 시작해 $a \\to b$와 $b\\to a$에 대해 얻는 점수를 계산하면 다음과 같다\n",
    "\n",
    "`-` $a\\to b : M_a - (T + R_a)\\cdot P_a + M_b - (T + R_a + R_b) \\cdot P_b$\n",
    "\n",
    "`-` $b\\to a : M_b - (T + R_b) \\cdot P_b + M_a - (T + R_a + R_b) \\cdot P_a$\n",
    "\n",
    "`-` 중복을 제거하면 $-R_a P_b$와 $-R_b P_a$가 남는다\n",
    "\n",
    "`-` 이는 시간 $T$가 제거된 독립 변수이다 (시점과 관계없다는 의미)\n",
    "\n",
    "`-` $R_a P_b$와 $R_b  P_a$ 중 작은게 점수를 더 많이 얻으므로 더 좋다\n",
    "\n",
    "`-` $\\dfrac{R_a}{P_a} < \\dfrac{R_b}{P_b}$라면 $a \\to b$가 $b \\to a$보다 더 좋은 것이다\n",
    "\n",
    "`-` 즉, 모든 원소에 대해 $\\dfrac{R_i}{P_i}$가 작을수록 좋으므로 이를 기준으로 오름차순 정렬하면 원소들의 순서가 정해진 것이다\n",
    "\n",
    "`-` 이제 원소들의 순서가 정해졌으니 첫 번째 문제부터 마지막 문제까지 풀지말지 결정하는 배낭 문제가 됐다!\n",
    "\n",
    "`-` 위에서 정렬할 땐 모든 문제를 풀기에 충분한 시간을 가정했는데 배낭 문제에선 시간이 충분하지 않아 모든 문제를 풀지 못할 수 있다\n",
    "\n",
    "`-` 그러면 조건이 달라졌으니 순서에도 영향을 주는게 아닌가라고 생각할 수 있는데 상관없다\n",
    "\n",
    "`-` $a, b$에 대해 둘 다 풀 수 있다면 순서는 $a \\to b$이니 영향을 주지 않는다\n",
    "\n",
    "`-` 둘 다 못 푼다면 순서를 매길 원소가 없어 순서에 영향을 주지 않는다\n",
    "\n",
    "`-` $a$ 또는 $b$만 풀 수 있다면 어차피 비교할 대상이 없으니 순서에 영향을 주지 않는다\n",
    "\n",
    "`-` $a$와 $b$ 중 무엇을 푸는게 좋을지 결정하는 건 배낭 문제를 푸는 과정에서 해결된다\n",
    "\n",
    "`-` 배낭 문제로 선택된 최적의 순서를 $S$라고 해보지\n",
    "\n",
    "`-` $S$는 exchange argument로 정렬한 순서에 위배되면 안된다\n",
    "\n",
    "`-` 즉, 정렬된 배열에선 $a$ 이후에 $b$를 푸는 순서인데 배낭 문제의 결과로 $b \\to D \\to a$가 도출될 수 없다\n",
    "\n",
    "`-` 왜냐하면 $b, D, a$를 가지고 exchange argument를 수행하면 도출된 결과보다 더 높거나 같은 점수를 도출하는 순서가 나오기 때문이다\n",
    "\n",
    "`-` $\\dfrac{R_i}{P_i}$를 기준으로 배낭 문제 결과를 정렬하면 $a$가 $b$보다 앞서게 되고 점수도 더 높거나 같다\n",
    "\n",
    "`-` 즉, exchange argument로 $O(N \\log N)$에 원소들의 순서를 정한 후 배낭 문제 치환해 $O(TN)$에 해결한다\n",
    "\n",
    "`-` 참고로 일반적인 배낭 문제랑 조금 다르다\n",
    "\n",
    "`-` 문제 푸는 순서 관계는 정의됐지만 얻는 점수를 시간에 따라 다르게 계산해야 한다\n",
    "\n",
    "`-` 만약 풀어서 $1$점 이상 얻지 못하면 풀면 안된다\n",
    "\n",
    "`-` 또한 남는 시간을 초과해도 풀면 안된다\n",
    "\n",
    "`-` 배낭 문제 풀 때 $2$중 리스트의 세로 축의 $T$를 여태까지 소비된 시간이라 생각하면 된다 (가로 축은 $N$)\n",
    "\n",
    "`-` exchage argument를 알아챘다면 스포도 안 당하고 태그도 안 보고 풀었을텐데 아쉽다\n",
    "\n",
    "`-` 가로등 끄기 문제는 어떻게 풀지;;;"
   ]
  },
  {
   "cell_type": "code",
   "execution_count": 1,
   "id": "e3e3f92e-2eab-4234-bdb3-5820d542f778",
   "metadata": {},
   "outputs": [
    {
     "name": "stdin",
     "output_type": "stream",
     "text": [
      " 3 75\n",
      " 250 500 1000\n",
      " 2 4 8\n",
      " 25 25 25\n"
     ]
    },
    {
     "name": "stdout",
     "output_type": "stream",
     "text": [
      "1200\n"
     ]
    }
   ],
   "source": [
    "def compute_score(m, p, r, t):\n",
    "    return m - (t + r) * p\n",
    "\n",
    "\n",
    "def knapsack(array, time_limit):\n",
    "    n = len(array)\n",
    "    dp = [[0] * (time_limit + 1) for _ in range(n + 1)]  # dp[n][t]는 n번째 문제까지 고려하고 소비된 시간이 t일 때 얻은 점수의 최댓값\n",
    "    for i in range(1, n + 1):\n",
    "        r, p, m = array[i - 1][R], array[i - 1][P], array[i - 1][M]\n",
    "        for t in range(time_limit + 1):\n",
    "            score = compute_score(m, p, r, t - r)\n",
    "            if t < r or score <= 0:\n",
    "                dp[i][t] = dp[i - 1][t]\n",
    "            else:\n",
    "                dp[i][t] = max(dp[i - 1][t - r] + score, dp[i - 1][t])\n",
    "    answer = max(max(items) for items in dp)\n",
    "    return answer\n",
    "\n",
    "\n",
    "def solution():\n",
    "    global R, P, M\n",
    "    N, T = map(int, input().split())\n",
    "    R, P, M = 0, 1, 2\n",
    "    Ms = list(map(int, input().split()))\n",
    "    Ps = list(map(int, input().split()))\n",
    "    Rs = list(map(int, input().split()))\n",
    "    array = [(r, p, m) for r, p, m in zip(Rs, Ps, Ms)]\n",
    "    array.sort(key=lambda x: x[R] / x[P])\n",
    "    answer = knapsack(array, T)\n",
    "    print(answer)\n",
    "\n",
    "\n",
    "solution()\n",
    "\n",
    "# input\n",
    "# 3 75\n",
    "# 250 500 1000\n",
    "# 2 4 8\n",
    "# 25 25 25"
   ]
  },
  {
   "cell_type": "markdown",
   "id": "44372bf2-ec76-416b-be8b-9a92117ead49",
   "metadata": {},
   "source": [
    "`-` 다른 풀이 보니까 $1$차원 dp로도 풀 수 있다\n",
    "\n",
    "`-` 어차피 이전 상태 공간만 사용하기 때문에 가능함\n",
    "\n",
    "`-` 내가 처음 푼 배낭 문제인 평범한 배낭 문제도 $1$차원 dp로 풀 수 있다\n",
    "\n",
    "`-` 대신 무게의 역순으로 탐색을 해야 한다\n",
    "\n",
    "`-` 정방향으로 탐색하면 같은 물건을 여러 번 넣는 대참사가 발생할 수 있다"
   ]
  },
  {
   "cell_type": "markdown",
   "id": "33d41ff6-b42c-4aa6-9b21-a9ac518b87b6",
   "metadata": {},
   "source": [
    "## 평범한 배낭 2\n",
    "\n",
    "- 문제 출처: [백준 12920번](https://www.acmicpc.net/problem/12920)"
   ]
  },
  {
   "cell_type": "markdown",
   "id": "593e2783-fa1d-4185-9a72-2ef1086c42c7",
   "metadata": {},
   "source": [
    "`-` [평범한 배낭](https://www.acmicpc.net/problem/12865) 문제와 다른 점은 같은 물건을 여러 개 넣을 수 있다는 것이다\n",
    "\n",
    "`-` 같은 물건을 여러 개 묶어 새로운 물건으로 취급한다고 해보자\n",
    "\n",
    "`-` 물건의 무게는 가장 작을 때 $1$이고 가방의 최대 무게는 $10000$이다\n",
    "\n",
    "`-` 그럼 묶음을 $10000$개 만들 수 있고 물건의 개수가 $100$개이므로 전체는 $1000000$개이다\n",
    "\n",
    "`-` 물건의 개수를 $N$, 가방에 담을 수 있는 무게를 $M$이라 할 때 배낭 문제 풀이의 시간 복잡도가 $O(NM)$인 걸 생각하면 이런 방법으론 시간 안에 통과할 수 없다\n",
    "\n",
    "`-` 그런데 $1$개 묶음과 $2$개 묶음을 담으면 $3$개 묶음과 같다\n",
    "\n",
    "`-` 그러면 굳이 $3$개 묶음을 고려할 필요가 있을까?\n",
    "\n",
    "`-` 묶음을 $2$의 거듭제곱 꼴만 고려하면 모든 개수를 표현할 수 있을거라 생각했다 (근데 아니었음, $6$개는 어떻게 표현함?, 사실 맞았다)\n",
    "\n",
    "`-` 그럼 물건의 개수는 $O(N \\log M)$이므로 시간 안에 통과할 수 있다\n",
    "\n",
    "`-` 그렇게 머릿속으로 풀었다 생각만 하고 잊어버렸다\n",
    "\n",
    "`-` 그러다가 [SW 역량 테스트](https://www.acmicpc.net/problem/13448) 문제를 풀면서 배낭 문제를 $1$차원 dp로도 풀 수 있다는 것을 알게 됐다\n",
    "\n",
    "`-` $1$차원 dp로 풀 때 주의할 점으로 무게의 역순으로 탐색해야 된다는 것이다\n",
    "\n",
    "`-` 왜냐하면 정방향으로 탐색하면 같은 물건을 여러 번 넣게 되기 때문이다\n",
    "\n",
    "`-` 즉, 같은 물건을 여러 개 넣는 걸 고려하고 싶으면 정방향으로 탐색하면 된다\n",
    "\n",
    "`-` 뭐야 물건이 무한히 많은게 아니었네;\n",
    "\n",
    "`-` 어떻게 할지 생각하다가 $2$의 거듭제곱 꼴로 나타내는 게 가능한 걸 깨달았다 (나 뭐 하냐?)\n",
    "\n",
    "`-` 묶음을 $2^0, 2^1, \\dots, 2^x$개로 구성했다면 묶음 중 적당한 걸 골라 $0$개부터 $2^{x+1} - 1$개까지 표현할 수 있다\n",
    "\n",
    "`-` 이것이 왜 가능한지 수학적 귀납법으로 증명해보자\n",
    "\n",
    "`-` $i=0$이면 묶음이 $2^0$개이므로 $2^1 - 1 = 1$개까지 표현할 수 있다 (고르면 $1$개, 안 고르면 $0$개)\n",
    "\n",
    "`-` 이제 $i=k$일 때 성립한다 가정하고 $i=k+1$인 상황을 고려하자\n",
    "\n",
    "`-` $i=k+1$이므로 묶음은 $2^0, 2^1, \\dots, 2^{k+1}$개로 구성되고 $2^{k+2} - 1$개까지 표현할 수 있어야 한다\n",
    "\n",
    "`-` 그런데 $i=k$일 때 가정이 성립하므로 $2^0, 2^1, \\dots, 2^{k}$개의 묶음을 가지고 $0$개부터 $2^{k+1}-1$개까지는 표현 가능하다\n",
    "\n",
    "`-` 즉, 추가된 $2^{k+1}$을 가지고 $2^{k+1}$개부터 $2^{k+2} - 1$개까지 표현 가능한지 확인하면 된다\n",
    "\n",
    "`-` 그런데 $0$부터 $2^{k+1}-1$에 $2^{k+1}$을 더해주면 $2^{k+1}$부터 $2^{k+2} - 1$개까지 표현된다\n",
    "\n",
    "`-` 따라서 수학적 귀납법에 의해 성립한다\n",
    "\n",
    "`-` 근데 틀렸다\n",
    "\n",
    "`-` 틀린 원인: 물건 개수가 $2^x-1$꼴이 아니면 모든 묶음을 넣었을 때 보유 개수를 초과하여 배낭에 담을 수 있음\n",
    "\n",
    "`-` $1$부터 $2^x$까지 더하면 $2^{x+1} - 1$이다\n",
    "\n",
    "`-` 문제는 $2^{x+1} - 1$이 물건의 개수 $K$를 초과할 때이다\n",
    "\n",
    "`-` 그럼 $2^{x+1} - 1$이 $K$를 초과하지 않는 $x$를 정해서 해당 묶음까지만 넣자\n",
    "\n",
    "`-` $2^{x+1} - 1$은 $K$를 초과하고 $2^x - 1$은 초과하지 않는다고 해보자\n",
    "\n",
    "`-` 그럼 묶음을 $2^{x-1}$까지만 넣는 뒤 $K - 2^x + 1$개의 묶음을 추가하면 된다\n",
    "\n",
    "`-` 그럼 전체 묶음을 고려해도 $K$와 동일하며 $0$부터 $K$까지 모든 개수를 고려할 수 있는 건 이전과 동일하다\n",
    "\n",
    "`-` 묶음의 무게가 배낭에 담을 수 있는 물건의 무게를 초과하거나 전체 묶음의 개수가 보유 개수를 초과하면 묶음 추가를 멈춘다\n",
    "\n",
    "`-` 그럼 고려할 전체 물건의 개수는 최악의 경우 $O(N \\cdot \\min (\\log M, \\log K))$이다\n",
    "\n",
    "`-` 따라서 전체 알고리즘의 시간 복잡도는 최악의 경우 $O(NM \\cdot \\min (\\log M, \\log K))$이다"
   ]
  },
  {
   "cell_type": "code",
   "execution_count": 1,
   "id": "7e0a565b-faaa-4ad8-8828-4204ae78ce30",
   "metadata": {},
   "outputs": [
    {
     "name": "stdin",
     "output_type": "stream",
     "text": [
      " 2 3\n",
      " 2 7 1\n",
      " 1 9 3\n"
     ]
    },
    {
     "name": "stdout",
     "output_type": "stream",
     "text": [
      "27\n"
     ]
    }
   ],
   "source": [
    "def knapsack(items):\n",
    "    dp = [0] * (M + 1)\n",
    "    for item in items:\n",
    "        for w in range(M, -1, -1):\n",
    "            if item[WEIGHT] <= w and dp[w] < dp[w - item[WEIGHT]] + item[VALUE]:\n",
    "                dp[w] = dp[w - item[WEIGHT]] + item[VALUE]\n",
    "    return dp[M]\n",
    "\n",
    "\n",
    "def solution():\n",
    "    global M, WEIGHT, VALUE\n",
    "    N, M = map(int, input().split())\n",
    "    items = [list(map(int, input().split())) for _ in range(N)]\n",
    "    WEIGHT, VALUE = 0, 1\n",
    "    temp = []\n",
    "    for weight, value, count in items:\n",
    "        x = 1  # 2**x개의 묶음을 넣어도 괜찮은가?\n",
    "        while weight * 2**x <= M and 2**(x + 1) - 1 <= count:\n",
    "            temp.append([weight * 2**x, value * 2**x])\n",
    "            x += 1\n",
    "        reminder = count - 2**x + 1\n",
    "        if reminder > 0:\n",
    "            temp.append([weight * reminder, value * reminder])\n",
    "    items.extend(temp)\n",
    "    answer = knapsack(items)\n",
    "    print(answer)\n",
    "\n",
    "\n",
    "solution()\n",
    "\n",
    "# input\n",
    "# 2 3\n",
    "# 2 7 1\n",
    "# 1 9 3"
   ]
  },
  {
   "cell_type": "code",
   "execution_count": null,
   "id": "f10a578f-279b-40b2-9c95-55543490e596",
   "metadata": {},
   "outputs": [],
   "source": []
  }
 ],
 "metadata": {
  "kernelspec": {
   "display_name": "Python 3 (ipykernel)",
   "language": "python",
   "name": "python3"
  },
  "language_info": {
   "codemirror_mode": {
    "name": "ipython",
    "version": 3
   },
   "file_extension": ".py",
   "mimetype": "text/x-python",
   "name": "python",
   "nbconvert_exporter": "python",
   "pygments_lexer": "ipython3",
   "version": "3.8.11"
  }
 },
 "nbformat": 4,
 "nbformat_minor": 5
}
