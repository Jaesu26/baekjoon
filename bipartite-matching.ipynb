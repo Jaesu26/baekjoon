{
 "cells": [
  {
   "cell_type": "markdown",
   "id": "22f0c898-9d7b-4328-9d98-86f81fb99ee8",
   "metadata": {},
   "source": [
    "# 이분 매칭 (Bipartite Matching)"
   ]
  },
  {
   "cell_type": "markdown",
   "id": "52e3c1cb-c7b5-4403-b10b-79523fd3efc6",
   "metadata": {},
   "source": [
    "`-` 이분 그래프에서 각 정점이 최대 한 번만 사용되도록 정점 쌍을 연결하는 매칭 중 가능한 한 많은 정점을 연결하는 최대 매칭을 찾는 문제이다"
   ]
  },
  {
   "cell_type": "markdown",
   "id": "70de32ed-72a5-4f4e-a9d9-f2c46e95ad65",
   "metadata": {},
   "source": [
    "## 열혈강호\n",
    "\n",
    "- 문제 출처: [백준 11375번](https://www.acmicpc.net/problem/11375)"
   ]
  },
  {
   "cell_type": "markdown",
   "id": "7f5b890c-35bb-4982-8f50-a7ad0bd1a911",
   "metadata": {},
   "source": [
    "`-` 이분 매칭 기본 문제이다\n",
    "\n",
    "`-` dfs를 기반으로 한 이분 매칭을 사용해 문제를 해결하자\n",
    "\n",
    "`-` 정점이 $A,B$ 집합으로 나뉜 이분 그래프에서 $V$는 $\\min(|A|, |B|)$, $E$는 모든 간선의 개수라고 하자\n",
    "\n",
    "`-` 크기가 작은 집합을 $A$라 하고 $A$를 기준으로 이분 매칭을 수행할 것이다\n",
    "\n",
    "`-` dfs를 기반으로 한 이분 매칭의 시간 복잡도는 최악의 경우 $O(VE)$이다\n",
    "\n",
    "`-` dfs에서 최악의 경우는 매칭이 연쇄적으로 밀리는 경우이다\n",
    "\n",
    "`-` 이때 한 번의 dfs는 최대 $E$개의 간선을 방문하고 전체 dfs 시도 횟수는 $V$번이므로 이분 매칭의 시간 복잡도는 최악의 경우 $O(VE)$가 된다\n",
    "\n",
    "`-` 한 쪽 그룹에 정점이 편향됐거나 간선이 빽빽하지 않은 상황에선 빠르게 동작한다\n",
    "\n",
    "`-` 참고로 매칭의 최대 수는 $\\min(|A|, |B|)$이다\n",
    "\n",
    "`-` 시간 복잡도에서 $|A| < V$이므로 $V = |A| + |B|$라 표현해도 상관 없긴 하다 (근데 실제 연산 횟수랑 괴리감이 있겠지)"
   ]
  },
  {
   "cell_type": "code",
   "execution_count": 58,
   "id": "445e1bfa-4964-4859-80d4-b5f1aeb6910a",
   "metadata": {},
   "outputs": [
    {
     "name": "stdin",
     "output_type": "stream",
     "text": [
      " 5 5\n",
      " 2 1 2\n",
      " 1 1\n",
      " 2 2 3\n",
      " 3 3 4 5\n",
      " 1 1\n"
     ]
    },
    {
     "name": "stdout",
     "output_type": "stream",
     "text": [
      "4\n"
     ]
    }
   ],
   "source": [
    "import sys\n",
    "\n",
    "sys.setrecursionlimit(1002)\n",
    "\n",
    "\n",
    "def dfs(u, adj_list, v2u, visited):\n",
    "    for v in adj_list[u]:\n",
    "        if visited[v]:\n",
    "            continue\n",
    "        visited[v] = True\n",
    "        if v2u[v] == NOT_MATCHED or dfs(v2u[v], adj_list, v2u, visited):\n",
    "            v2u[v] = u\n",
    "            return True\n",
    "    return False\n",
    "\n",
    "\n",
    "def bipartite_matching(adj_list):\n",
    "    v2u = [NOT_MATCHED] * (M + 1)\n",
    "    max_matching_size = 0\n",
    "    for u in range(1, N + 1):\n",
    "        visited = [False] * (M + 1)\n",
    "        if dfs(u, adj_list, v2u, visited):\n",
    "            max_matching_size += 1\n",
    "    return max_matching_size\n",
    "\n",
    "\n",
    "def solution():\n",
    "    global N, M, NOT_MATCHED, man2works\n",
    "    N, M = map(int, input().split())\n",
    "    man2works = [[0]]\n",
    "    for _ in range(N):\n",
    "        data = list(map(int, input().split()))[1:]\n",
    "        man2works.append(data)\n",
    "    NOT_MATCHED = -1\n",
    "    answer = bipartite_matching(man2works)\n",
    "    print(answer)\n",
    "\n",
    "\n",
    "solution()\n",
    "\n",
    "# input\n",
    "# 5 5\n",
    "# 2 1 2\n",
    "# 1 1\n",
    "# 2 2 3\n",
    "# 3 3 4 5\n",
    "# 1 1"
   ]
  },
  {
   "cell_type": "markdown",
   "id": "00611c9b-b667-4ca9-80b7-4be5eea63654",
   "metadata": {},
   "source": [
    "## 축사 배정\n",
    "\n",
    "- 문제 출처: [백준 2188번](https://www.acmicpc.net/problem/2188)"
   ]
  },
  {
   "cell_type": "markdown",
   "id": "674e0679-a2e4-4cca-afb5-5e020b1966db",
   "metadata": {},
   "source": [
    "`-` [열형강호](https://www.acmicpc.net/problem/11375)에서 $N,M$이 작아진 버전으로 이분 매칭 기본 문제이다\n",
    "\n",
    "`-` 당연하지만 for문에서 새로운 정점을 기준으로 dfs를 호출할 때마다 visited를 초기화해야 한다\n",
    "\n",
    "`-` 여기서의 visited는 처음 실행한 dfs에 대해 매칭 시도를 위해 재귀적으로 dfs 수행하며 방문한 정점을 뜻한다\n",
    "\n",
    "`-` 즉, 이미 매칭을 시도하여 실패한 정점에 대해 다시 한 번 매칭을 시도하는 건 무의미하다 (당연히 실패하겠지)\n",
    "\n",
    "`-` 매칭에 성공한 점정일 수 있잖아요...?\n",
    "\n",
    "`-` 그럼 매칭 완료했으니 함수가 종료된다\n",
    "\n",
    "`-` 따라서 방문한 정점을 다시 방문하는 건 실패만 반복할 뿐이다\n",
    "\n",
    "`-` 근데 visited 변수는 왜 초기화해야 되죠?\n",
    "\n",
    "`-` $1 \\to 1,2$이고 $2 \\to 1$이라 하자\n",
    "\n",
    "`-` visited 변수를 초기화하지 않으면 $2 \\to 1$의 매칭이 불가능하다\n",
    "\n",
    "`-` 이분 매칭 구현 상 이전의 dfs를 통해 이미 매칭된 정점이라도 해당 정점이 다른 곳에 매칭될 수 있는지 묻는다\n",
    "\n",
    "`-` 그러니 새로운 dfs마다 visited를 초기화해서 이번의 dfs에 대한 visited로 사용해야 한다"
   ]
  },
  {
   "cell_type": "code",
   "execution_count": 60,
   "id": "d31f4b68-7ed2-4844-8f2f-485fb873bb25",
   "metadata": {},
   "outputs": [
    {
     "name": "stdin",
     "output_type": "stream",
     "text": [
      " 5 5\n",
      " 2 2 5\n",
      " 3 2 3 4\n",
      " 2 1 5\n",
      " 3 1 2 5\n",
      " 1 2\n"
     ]
    },
    {
     "name": "stdout",
     "output_type": "stream",
     "text": [
      "4\n"
     ]
    }
   ],
   "source": [
    "def dfs(u, adj_list, v2u, visited):\n",
    "    for v in adj_list[u]:\n",
    "        if visited[v]:\n",
    "            continue\n",
    "        visited[v] = True\n",
    "        if v2u[v] == NOT_MATCHED or dfs(v2u[v], adj_list, v2u, visited):\n",
    "            v2u[v] = u\n",
    "            return True\n",
    "    return False\n",
    "\n",
    "\n",
    "def bipartite_matching(adj_list):\n",
    "    v2u = [NOT_MATCHED] * (M + 1)\n",
    "    max_matching_size = 0\n",
    "    for u in range(1, N + 1):\n",
    "        visited = [False] * (M + 1)\n",
    "        if dfs(u, adj_list, v2u, visited):\n",
    "            max_matching_size += 1\n",
    "    return max_matching_size\n",
    "\n",
    "\n",
    "def solution():\n",
    "    global N, M, NOT_MATCHED\n",
    "    N, M = map(int, input().split())\n",
    "    cow2barns = [[0]]\n",
    "    for _ in range(N):\n",
    "        cow2barns.append(list(map(int, input().split()))[1:])\n",
    "    NOT_MATCHED = -1\n",
    "    answer = bipartite_matching(cow2barns)\n",
    "    print(answer)\n",
    "\n",
    "\n",
    "solution()\n",
    "\n",
    "# input\n",
    "# 5 5\n",
    "# 2 2 5\n",
    "# 3 2 3 4\n",
    "# 2 1 5\n",
    "# 3 1 2 5\n",
    "# 1 2"
   ]
  },
  {
   "cell_type": "code",
   "execution_count": null,
   "id": "aecf7d64-33ed-471b-8ab6-bd1ded371eab",
   "metadata": {},
   "outputs": [],
   "source": []
  }
 ],
 "metadata": {
  "kernelspec": {
   "display_name": "Python 3 (ipykernel)",
   "language": "python",
   "name": "python3"
  },
  "language_info": {
   "codemirror_mode": {
    "name": "ipython",
    "version": 3
   },
   "file_extension": ".py",
   "mimetype": "text/x-python",
   "name": "python",
   "nbconvert_exporter": "python",
   "pygments_lexer": "ipython3",
   "version": "3.8.11"
  }
 },
 "nbformat": 4,
 "nbformat_minor": 5
}
