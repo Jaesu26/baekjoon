{
 "cells": [
  {
   "cell_type": "markdown",
   "id": "fb46005d-8461-4e3a-a0e6-abfb83d95544",
   "metadata": {},
   "source": [
    "# if문"
   ]
  },
  {
   "cell_type": "markdown",
   "id": "be9c970c-82cf-456a-bd07-2de946ea0504",
   "metadata": {},
   "source": [
    "## 두 수 비교하기"
   ]
  },
  {
   "cell_type": "code",
   "execution_count": 2,
   "id": "deebd3d6-e3d0-40b4-9105-dd2571442df6",
   "metadata": {},
   "outputs": [
    {
     "name": "stdin",
     "output_type": "stream",
     "text": [
      " 10 2\n"
     ]
    },
    {
     "name": "stdout",
     "output_type": "stream",
     "text": [
      ">\n"
     ]
    }
   ],
   "source": [
    "A, B = map(int, input().split())\n",
    "if A>B:\n",
    "    print('>')\n",
    "elif A<B:\n",
    "    print('<')\n",
    "else:\n",
    "    print('==')"
   ]
  },
  {
   "cell_type": "markdown",
   "id": "fafa3451-1edc-4b07-8bd0-5660ce0f494c",
   "metadata": {},
   "source": [
    "## 시험 점수 출력"
   ]
  },
  {
   "cell_type": "code",
   "execution_count": 21,
   "id": "59b59731-c368-45a4-9458-24f95be052d0",
   "metadata": {},
   "outputs": [
    {
     "name": "stdin",
     "output_type": "stream",
     "text": [
      " 100\n"
     ]
    },
    {
     "name": "stdout",
     "output_type": "stream",
     "text": [
      "A\n"
     ]
    }
   ],
   "source": [
    "def result(grade):\n",
    "    if grade >= 90 and grade <= 100:\n",
    "        print(\"A\")\n",
    "    elif grade >= 80 and grade <= 89:\n",
    "        print(\"B\")\n",
    "    elif grade >= 70 and grade <= 79:\n",
    "        print(\"C\")\n",
    "    elif grade >= 60 and grade <= 69:\n",
    "        print(\"D\")\n",
    "    else:\n",
    "        print(\"F\")\n",
    "grade = int(input())\n",
    "result(grade)    "
   ]
  },
  {
   "cell_type": "markdown",
   "id": "fbbacd94-27dc-4579-ae26-424c710b19af",
   "metadata": {},
   "source": [
    "## 윤년 판단\n",
    "\n",
    "`-` 윤년은 연도가 4의 배수이면서, 100의 배수가 아닐 때 또는 400의 배수일 때이다\n",
    "\n",
    "`-` 예를 들어, 2012년은 4의 배수이면서 100의 배수가 아니라서 윤년이다\n",
    "\n",
    "`-` 1900년은 100의 배수이고 400의 배수는 아니기 때문에 윤년이 아니다\n",
    "\n",
    "`-` 하지만, 2000년은 400의 배수이기 때문에 윤년이다"
   ]
  },
  {
   "cell_type": "code",
   "execution_count": 27,
   "id": "6f6714a5-1f46-417e-96af-010d50693adf",
   "metadata": {},
   "outputs": [
    {
     "name": "stdin",
     "output_type": "stream",
     "text": [
      " 2000\n"
     ]
    },
    {
     "name": "stdout",
     "output_type": "stream",
     "text": [
      "1\n"
     ]
    }
   ],
   "source": [
    "def leap_year(year):\n",
    "    if (year%4 == 0 and year%100 != 0) or year%400 == 0:\n",
    "        print(1)\n",
    "    else:\n",
    "        print(0)\n",
    "year = int(input())\n",
    "leap_year(year)"
   ]
  },
  {
   "cell_type": "markdown",
   "id": "04915eec-8715-48f6-a700-117e036d3946",
   "metadata": {},
   "source": [
    "## 사분면 고르기\n",
    "\n",
    "`-` 첫 줄에는 정수 x가 주어진다 (−1000 ≤ x ≤ 1000; x ≠ 0) 다음 줄에는 정수 y가 주어진다 (−1000 ≤ y ≤ 1000; y ≠ 0)\n",
    "\n",
    "`-` 점 (x, y)의 사분면 번호(1, 2, 3, 4 중 하나)를 출력한다"
   ]
  },
  {
   "cell_type": "code",
   "execution_count": 40,
   "id": "bab416bc-9ca0-4022-bd82-b0a6d53e3861",
   "metadata": {},
   "outputs": [
    {
     "name": "stdin",
     "output_type": "stream",
     "text": [
      " 10\n",
      " -7\n"
     ]
    },
    {
     "name": "stdout",
     "output_type": "stream",
     "text": [
      "4\n"
     ]
    }
   ],
   "source": [
    "def quadrant(a,b):\n",
    "    if a>0 and b>0:\n",
    "        print(1)\n",
    "    elif a>0 and b<0:\n",
    "        print(4)\n",
    "    elif a<0 and b>0:\n",
    "        print(2)\n",
    "    elif a<0 and b<0:\n",
    "        print(3)\n",
    "x = int(input())\n",
    "y = int(input())\n",
    "quadrant(x, y)"
   ]
  },
  {
   "cell_type": "markdown",
   "id": "19dca60a-8692-4b73-ad2b-09fd8038b42e",
   "metadata": {},
   "source": [
    "## 알람 시계\n",
    "\n",
    "`-` 45분 일찍 알람 설정하기"
   ]
  },
  {
   "cell_type": "code",
   "execution_count": 8,
   "id": "04ff189d-38f2-42c8-bf11-5bfd6bdeb088",
   "metadata": {},
   "outputs": [
    {
     "name": "stdin",
     "output_type": "stream",
     "text": [
      " 0 25\n"
     ]
    },
    {
     "name": "stdout",
     "output_type": "stream",
     "text": [
      "23 40\n"
     ]
    }
   ],
   "source": [
    "h, m = map(int, input().split())\n",
    "if m >= 45:\n",
    "    print(h, m-45)\n",
    "elif h == 0: \n",
    "    print(23, m+15)\n",
    "else:\n",
    "    print(h-1, m+15)"
   ]
  },
  {
   "cell_type": "markdown",
   "id": "ca98cf10-ee63-412a-b3a0-1eeaf06bbd95",
   "metadata": {},
   "source": [
    "## 오븐 시계\n",
    "\n",
    "- 문제 출처: [백준 2525번](https://www.acmicpc.net/problem/2525)"
   ]
  },
  {
   "cell_type": "markdown",
   "id": "e3c16a32-110f-43ab-86cf-22f9d72125fc",
   "metadata": {},
   "source": [
    "`-` 시간을 잘 계산하여 맛있는 훈제 오리를 만들어보자"
   ]
  },
  {
   "cell_type": "code",
   "execution_count": 7,
   "id": "7182d3b9-3265-4214-bfb7-a3aed26b65b5",
   "metadata": {},
   "outputs": [
    {
     "name": "stdin",
     "output_type": "stream",
     "text": [
      " 23 48\n",
      " 25\n"
     ]
    },
    {
     "name": "stdout",
     "output_type": "stream",
     "text": [
      "0 13\n"
     ]
    }
   ],
   "source": [
    "h, m = map(int, input().split())\n",
    "need_minute = int(input())\n",
    "minute = 60*h + m ## 현재 시각을 분으로 변환\n",
    "end_time = need_minute + minute\n",
    "\n",
    "if end_time >= 1440:\n",
    "    end_time -= 1440 ## 24시(1440분)를 넘어가면 0시(0분)부터 다시 시작\n",
    "\n",
    "print(end_time // 60, end_time % 60) ## 종료시각의 hour와 minute\n",
    "\n",
    "# input\n",
    "# 23 48\n",
    "# 25"
   ]
  },
  {
   "cell_type": "markdown",
   "id": "dd6d615c-8779-4a95-90fb-5cc5e647c517",
   "metadata": {},
   "source": [
    "## 주사위 세개\n",
    "\n",
    "- 문제 출처: [백준 2480번](https://www.acmicpc.net/problem/2480)"
   ]
  },
  {
   "cell_type": "code",
   "execution_count": 8,
   "id": "8e8b20af-a6c4-4121-b17b-b5f49492a4ed",
   "metadata": {},
   "outputs": [
    {
     "name": "stdin",
     "output_type": "stream",
     "text": [
      " 6 2 5\n"
     ]
    },
    {
     "name": "stdout",
     "output_type": "stream",
     "text": [
      "600\n"
     ]
    }
   ],
   "source": [
    "a, b, c = map(int, input().split())\n",
    "\n",
    "if a == b == c: ## 모두 같은 주사위 눈이 나옴\n",
    "    prize = 10000 + a*1000 ## 상금 = 10000 + 같은 눈 * 1000\n",
    "elif a == b or b == c or c == a: ## 같은 눈이 2개 나옴\n",
    "    prize = 1000 + sorted([a, b, c])[1] * 100 ## 상금 = 1000 + 같은 눈 * 100\n",
    "else: ## 모두 다른 눈이 나옴\n",
    "    prize = max([a, b, c]) * 100 ## 상금 = 가장 큰 눈 * 100\n",
    "\n",
    "print(prize)\n",
    "\n",
    "# input\n",
    "# 6 2 5"
   ]
  },
  {
   "cell_type": "code",
   "execution_count": null,
   "id": "cab42cbe-066f-4737-8599-9833877c4ae8",
   "metadata": {},
   "outputs": [],
   "source": []
  }
 ],
 "metadata": {
  "kernelspec": {
   "display_name": "Python 3 (ipykernel)",
   "language": "python",
   "name": "python3"
  },
  "language_info": {
   "codemirror_mode": {
    "name": "ipython",
    "version": 3
   },
   "file_extension": ".py",
   "mimetype": "text/x-python",
   "name": "python",
   "nbconvert_exporter": "python",
   "pygments_lexer": "ipython3",
   "version": "3.8.11"
  }
 },
 "nbformat": 4,
 "nbformat_minor": 5
}
