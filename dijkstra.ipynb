{
 "cells": [
  {
   "cell_type": "markdown",
   "id": "489f0cfd-ec0a-45fb-90df-c407cfcf5f50",
   "metadata": {},
   "source": [
    "# 다익스트라 알고리즘 (Dijkstra Algorithm)"
   ]
  },
  {
   "cell_type": "markdown",
   "id": "dac12e53-a287-4e03-ba72-a65209be39d5",
   "metadata": {},
   "source": [
    "`-` 음이 아닌 가중치를 간선으로 가지는 그래프에서 한 정점에서 다른 정점들까지의 최단 경로를 구하는 알고리즘"
   ]
  },
  {
   "cell_type": "markdown",
   "id": "4ebd2d51-8ad8-4ded-a16c-83dc3f0f1122",
   "metadata": {},
   "source": [
    "## 최단경로\n",
    "\n",
    "- 문제 출처: [백준 1753번](https://www.acmicpc.net/problem/1753)"
   ]
  },
  {
   "cell_type": "markdown",
   "id": "24d98e3f-a892-46fd-b416-ae5029c3abf2",
   "metadata": {},
   "source": [
    "`-` 간선에 가중치가 없다면(혹은 동일) 한 정점에서 다른 정점까지의 최단 경로를 BFS를 사용해서 계산할 수 있음\n",
    "\n",
    "`-` 만약 간선에 가중치가 있다면 다익스트라 알고리즘(Dijkstra's algorithm)을 사용해 계산 가능함\n",
    "\n",
    "- 다익스트라 알고리즘에서 중요한 점\n",
    "\n",
    "1. 최단 경로의 부분 경로또한 최단 경로이다(최단 경로인 $s\\to x\\to t$가 있다면 $s\\to x,\\; x\\to t$도 각 경로의 최단 경로임)\n",
    "\n",
    "2. 간선에 음의 가중치가 있으면 안된다(만약 음의 가중치가 존재하면 Bellman-Ford algorithm을 사용)\n",
    "\n",
    "`-` 다익스트라 알고리즘: https://en.wikipedia.org/wiki/Dijkstra%27s_algorithm"
   ]
  },
  {
   "cell_type": "code",
   "execution_count": 71,
   "id": "ba3bded0-b7d0-46f1-b89d-2c1fa2977e17",
   "metadata": {},
   "outputs": [
    {
     "name": "stdin",
     "output_type": "stream",
     "text": [
      " 5 6\n",
      " 1\n",
      " 5 1 1\n",
      " 1 2 2\n",
      " 1 3 3\n",
      " 2 3 4\n",
      " 2 4 5\n",
      " 3 4 6\n"
     ]
    },
    {
     "name": "stdout",
     "output_type": "stream",
     "text": [
      "0\n",
      "2\n",
      "3\n",
      "7\n",
      "INF\n"
     ]
    }
   ],
   "source": [
    "import heapq\n",
    "\n",
    "V, E = map(int, input().split()) ## 노드와 간선의 개수\n",
    "s = int(input()) ## 시작 정점\n",
    "\n",
    "INF = 1e9 ## 간선 30만개 * 가중치 10이하 = 상한은 300만\n",
    "adj_list = [[] for _ in range(V + 1)] ## 각 노드의 인접 간선을 담은 리스트\n",
    "dist =  [INF for _ in range(V + 1)] ## 출발노드부터 각 노드까지 이르는 최소거리 추정치\n",
    "inSST = [False for _ in range(V + 1)] ## decrease-key를 구현하기 힘드니 relaxation에서 새롭게 갱신된 item을 Q에 insert하자\n",
    "Q = [] ## 출발 정점으로부터의 최단 경로가 확정된 노드들(min-heap으로 구현)\n",
    "\n",
    "for _ in range(E):\n",
    "    u, v, w = map(int, input().split())\n",
    "    adj_list[u].append([v, w]) ## 노드 u의 인접 노드 v 추가(간선의 가중치는 w)\n",
    "    \n",
    "## 그래프 setting\n",
    "for i in range(1, V + 1):  \n",
    "    if i != s: ## 출발노드를 제외하고 초기화\n",
    "        heapq.heappush(Q, [dist[i], i]) ## Q에 [key, value] insert\n",
    "\n",
    "## 출발 노드 초기화\n",
    "dist[s] = 0 \n",
    "heapq.heappush(Q, [dist[s], s])\n",
    "\n",
    "while Q: ## O(E*log(E)) ## Q가 empty되지 않을 때까지(출발 노드부터 모든 노드까지의 최단 경로를 구할때까지)\n",
    "    d, u = heapq.heappop(Q) ## 최단경로 cost 추정치와 노드 u에서 이제부터 s -> u의 cost는 추정치가 아니라 확정된다\n",
    "    if inSST[u]: ## inSST가 true이면\n",
    "        continue ## 이미 최단경로를 구했으므로 건너뛴다\n",
    "    inSST[u] = True\n",
    "    for v, w in adj_list[u]: ## u --(w)--> v\n",
    "        if (not inSST[v]) and (dist[u] + w < dist[v]): ## 현재의 (s -> v) cost 보다 (s -> u -> v) cost가 더 작으면 dist를 갱신(relaxation part)\n",
    "            dist[v] = dist[u] + w\n",
    "            ## decrease-key(노드 v의 key 값을 dist[u] + w로 갱신) 대신 Q에 [new key, v]를 삽입\n",
    "            heapq.heappush(Q, [dist[v], v]) ## ...(*)\n",
    "                           \n",
    "            ## 왜 제대로 동작함?\n",
    "            ## (*) 코드에 따라 Q에서 노드 v에 대해 여러개의 dist[v]값을 가질 수 있다(왜냐하면 이미 [dist[v], v]가 Q에 존재했는데 [new dist[v], v]를 또 Q에 insert 했으니까~\n",
    "            ## 위에 while문이 동작하는 동안 Q에는 점점 더 작은 dist[v]가 추가된다(=insert 되어진다) ## 당연하다\n",
    "            ## 그런데 Q는 노드 u에 대해서 항상 가장 작은 dist[u](=key)만 반환하므로 얼마나 많은 dist[u]가 Q에 존재하든지 상관없다 \n",
    "\n",
    "## 출력\n",
    "for i in range(1, V + 1):\n",
    "    if dist[i] == INF:\n",
    "        print('INF')\n",
    "    else:\n",
    "        print(dist[i])\n",
    "        \n",
    "# input\n",
    "# 5 6\n",
    "# 1\n",
    "# 5 1 1\n",
    "# 1 2 2\n",
    "# 1 3 3\n",
    "# 2 3 4\n",
    "# 2 4 5\n",
    "# 3 4 6"
   ]
  },
  {
   "cell_type": "code",
   "execution_count": null,
   "id": "bb6ed368-6e03-43b5-be3c-a5586b7f2f1f",
   "metadata": {},
   "outputs": [],
   "source": []
  }
 ],
 "metadata": {
  "kernelspec": {
   "display_name": "Python 3 (ipykernel)",
   "language": "python",
   "name": "python3"
  },
  "language_info": {
   "codemirror_mode": {
    "name": "ipython",
    "version": 3
   },
   "file_extension": ".py",
   "mimetype": "text/x-python",
   "name": "python",
   "nbconvert_exporter": "python",
   "pygments_lexer": "ipython3",
   "version": "3.8.11"
  }
 },
 "nbformat": 4,
 "nbformat_minor": 5
}
