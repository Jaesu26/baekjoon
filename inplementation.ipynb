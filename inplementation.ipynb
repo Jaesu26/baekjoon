{
 "cells": [
  {
   "cell_type": "markdown",
   "id": "bfa8658c-d273-498b-93e7-095e1d7f4638",
   "metadata": {},
   "source": [
    "# 구현 (Inplementation)"
   ]
  },
  {
   "cell_type": "markdown",
   "id": "d0376d97-527e-4f07-8fc4-9df61f796004",
   "metadata": {},
   "source": [
    "## 빗물\n",
    "- 문제 출처: [백준 14719번](https://www.acmicpc.net/problem/14719)"
   ]
  },
  {
   "cell_type": "markdown",
   "id": "f6ab074d-0bbb-4a79-b6bb-8329c7901076",
   "metadata": {},
   "source": [
    "`-` $n$번째 블록의 높이를 $x$라 해보자\n",
    "\n",
    "`-` 만약 $x$이상인 높이 $y$가 $n+α$번째에 있다면 그 사이에 빗물을 $x$높이 까지 담을 수 있음\n",
    "\n",
    "`-` 만약 $x$이상인 높이가 없다면?? ---> 탐색하는 방향을 거꾸로 하면 된다(처음 $\\to$ 끝 대신 끝 $\\to$ 처음)\n",
    "\n",
    "`-` 그렇게 되면 처음에 탐색했을 때와 반대로 되므로 똑같이 크거나 같은 블록을 찾아 나가면 된다\n",
    "\n",
    "`-` 처음 $\\to$ 끝 탐색과 끝 $\\to$ 처음 탐색을 할 때 서로 겹치는 부분이 없을 것 같지만 높이가 같은 경우에는 겹치게 되므로 이에 대해서는 한번만 고려하자\n",
    "\n",
    "`-` 위에 설명만 들으면 어려울 것 같으니 예를 들어보자\n",
    "\n",
    "`-` 시작 ---> 끝\n",
    "\n",
    "`-` 블록의 높이가 $3 ,1, 2, 3, 3, 1, 1, 2$라고 하면 처음부터 탐색하므로 시작 블록 높이는 3이다\n",
    "\n",
    "`-` 3보다 크거나 같은 블록을 찾아 헤매다니니 4번째에 3이 존재함 ---> 빗물을 3만큼 담을 수 있음\n",
    "\n",
    "`-` 이제 블록의 기준이 바뀜 (3 ---> 3)\n",
    "\n",
    "`-` 이제 또 다시 3보다 크거나 같은 블록을 헤매다니자 ---> 3이 존재함 ---> 빗물을 0만큼 담음\n",
    "\n",
    "`-` 3보다 큰 블록이 없음 ---> 하지만 그렇다고 빗물을 못담는것이 아니다 3과 2사이에 빗물을 2만큼 담을 수 있다 ---> 이런 경우를 고려하기 위해 이제 탐색 방향을 바꾸자\n",
    "\n",
    "`-` 끝 ---> 시작\n",
    "\n",
    "`-` 시작 블록 높이는 2이다\n",
    "\n",
    "`-` 2보다 크거나 같은 블록은 3이 있음 ---> 빗물을 2만큼 담음\n",
    "\n",
    "`-` 이제 블록의 높이 기준이 3으로 바뀜\n",
    "\n",
    "`-` 3보다 크거나 같은 블록이 바로 앞에 있음 ---> 빗물을 0만큼 담음\n",
    "\n",
    "`-` 이제 다시 3보다 크거나 같은 블록을 찾자 ---> 마지막 블록의 높이가 3이다 ---> 빗물을 3만큼 담음\n",
    "\n",
    "`-` 결과를 보자\n",
    "\n",
    "`-` 두가지 경우를 더하면 결과로 8이 나오지만 사실 정답은 5인데 왜냐하면 $3 ,1, 2, 3$ 부분이 두 가지 모두에서 고려되어 빗물이 추가로 더해졌기 때문이다\n",
    "\n",
    "`-` 이렇기에 시작 ---> 끝 탐색에서 크거나 같은 경우를 고려했다면 끝 ---> 시작 탐색에서는 큰 경우만 고려해야 함 \n",
    "\n",
    "`-` 만약 끝 ---> 시작 탐색에서 크거나 같은 경우를 고려했다면 시작 ---> 끝 탐색에서는 큰 경우만 고려"
   ]
  },
  {
   "cell_type": "code",
   "execution_count": 1,
   "id": "1965bb37-b941-43c2-b521-031a3e46aee6",
   "metadata": {},
   "outputs": [
    {
     "name": "stdin",
     "output_type": "stream",
     "text": [
      " 4 8\n",
      " 3 1 2 3 4 1 1 2\n"
     ]
    },
    {
     "name": "stdout",
     "output_type": "stream",
     "text": [
      "5\n"
     ]
    }
   ],
   "source": [
    "h, w = map(int, input().split())\n",
    "blocks = list(map(int, input().split()))\n",
    "# 시작 ---> 끝 탐색\n",
    "start1 = blocks[0]\n",
    "idx1 = 0\n",
    "water1 = 0\n",
    "for i in range(1, w):\n",
    "    if blocks[i] >= start1:\n",
    "        for j in range(idx1 + 1, i):\n",
    "            water1 += start1 - blocks[j] \n",
    "        idx1 = i\n",
    "        start1 = blocks[i]\n",
    "# 끝 ---> 시작 탐색\n",
    "blocks1 = blocks.reverse()\n",
    "start2 = blocks[0]\n",
    "idx2 = 0\n",
    "water2 = 0\n",
    "for i in range(1, w):\n",
    "    if blocks[i] > start2:\n",
    "        for j in range(idx2 + 1, i):\n",
    "            water2 += start2 - blocks[j] \n",
    "        idx2 = i\n",
    "        start2 = blocks[i]\n",
    "print(water1 + water2)\n",
    "\n",
    "# input\n",
    "# 4 8\n",
    "# 3 1 2 3 4 1 1 2"
   ]
  },
  {
   "cell_type": "markdown",
   "id": "b0c16591-7085-4d89-9862-7788151ea426",
   "metadata": {},
   "source": [
    "## 음계\n",
    "\n",
    "- 문제 출처: [백준 2920번](https://www.acmicpc.net/problem/2920)"
   ]
  },
  {
   "cell_type": "code",
   "execution_count": 7,
   "id": "520be359-dc0c-43d2-b630-902e91865d53",
   "metadata": {},
   "outputs": [
    {
     "name": "stdin",
     "output_type": "stream",
     "text": [
      " 8 7 6 5 4 3 2 1\n"
     ]
    },
    {
     "name": "stdout",
     "output_type": "stream",
     "text": [
      "descending\n"
     ]
    }
   ],
   "source": [
    "scale = list(map(int, input().split()))\n",
    "if scale == sorted(scale):\n",
    "    print('ascending')\n",
    "elif scale == sorted(scale, reverse = True):\n",
    "    print('descending')\n",
    "else:\n",
    "    print('mixed')\n",
    "    \n",
    "# input\n",
    "# 8 7 6 5 4 3 2 1"
   ]
  },
  {
   "cell_type": "markdown",
   "id": "92c81195-2cc5-4458-8c36-46433bd4c645",
   "metadata": {},
   "source": [
    "## 다항함수의 미분\n",
    "\n",
    "- 문제 출처: [백준 15725번](https://www.acmicpc.net/problem/15725)"
   ]
  },
  {
   "cell_type": "markdown",
   "id": "b32b4323-6a17-46e3-bd55-4c3a3f92c817",
   "metadata": {},
   "source": [
    "`-` 최대 일차 일변수 다항식이므로 일차항이거나 상수만 존재한다\n",
    "\n",
    "`-` 일차항이면 $x$를 기준으로 쪼개고 앞에 수를 그대로 출력하면 된다\n",
    "\n",
    "`-` 상수만 존재하면 $0$을 출력하면 된다\n",
    "\n",
    "`-` 주의: $x$의 계수가 $1$인 경우에는 입력에서 생략함\n",
    "\n",
    "`-` 주의: 절댓값이 $1$인 것이므로 $-1$도 고려해야 한다"
   ]
  },
  {
   "cell_type": "code",
   "execution_count": 21,
   "id": "a61ea449-6afb-4d6e-a730-0e214fcabdf9",
   "metadata": {},
   "outputs": [
    {
     "name": "stdin",
     "output_type": "stream",
     "text": [
      " 6x-6\n"
     ]
    },
    {
     "name": "stdout",
     "output_type": "stream",
     "text": [
      "6\n"
     ]
    }
   ],
   "source": [
    "def solution():\n",
    "    equation = input()\n",
    "    if \"x\" not in equation:\n",
    "        print(0)\n",
    "        return\n",
    "    coef_x = equation.split(\"x\")[0]\n",
    "    if not coef_x:\n",
    "        print(1)\n",
    "        return\n",
    "    if coef_x == \"-\":\n",
    "        print(-1)\n",
    "        return\n",
    "    print(coef_x)\n",
    "\n",
    "\n",
    "solution()\n",
    "\n",
    "# input\n",
    "# 6x-6"
   ]
  },
  {
   "cell_type": "markdown",
   "id": "cb50ba34-b872-482f-b714-8d66fcf8c2d8",
   "metadata": {},
   "source": [
    "## 다항 함수의 적분\n",
    "\n",
    "- 문제 출처: [백준 17214번](https://www.acmicpc.net/problem/17214)"
   ]
  },
  {
   "cell_type": "markdown",
   "id": "89658f14-e7e2-4597-99fa-2777c39c099d",
   "metadata": {},
   "source": [
    "`-` 기본적으로 적분식이 `+`로 시작하면 생략한다\n",
    "\n",
    "`-` $0$을 적분하면 $W$이다\n",
    "\n",
    "`-` 그 외는 [다항함수의 미분](https://www.acmicpc.net/problem/15725) 문제 풀이 방식과 유사하다"
   ]
  },
  {
   "cell_type": "code",
   "execution_count": 28,
   "id": "16a29691-8985-47d7-9ed0-7946440c6a97",
   "metadata": {},
   "outputs": [
    {
     "name": "stdin",
     "output_type": "stream",
     "text": [
      " 6x-6\n"
     ]
    },
    {
     "name": "stdout",
     "output_type": "stream",
     "text": [
      "3xx-6x+W\n"
     ]
    }
   ],
   "source": [
    "def integral_constant(equation):\n",
    "    if equation == \"0\":\n",
    "        return \"\"\n",
    "    if equation.startswith(\"+\"):\n",
    "        equation = equation[1:]\n",
    "        if equation == \"1\":\n",
    "            return \"+x\"\n",
    "        return f\"+{equation}x\"\n",
    "    if equation.startswith(\"-\"):\n",
    "        equation = equation[1:]\n",
    "        if equation == \"1\":\n",
    "            return \"-x\"\n",
    "        return f\"-{equation}x\"\n",
    "    if equation == \"1\":\n",
    "        return \"+x\"\n",
    "    return f\"+{equation}x\"\n",
    "\n",
    "\n",
    "def integral_x(equation):\n",
    "    coef = int(equation.split(\"x\")[0]) // 2\n",
    "    if coef == 1:\n",
    "        return \"xx\"\n",
    "    if coef == -1:\n",
    "        return \"-xx\"\n",
    "    if equation == \"0\":\n",
    "        return \"0\"\n",
    "    return f\"{coef}xx\"\n",
    "\n",
    "\n",
    "def solution():\n",
    "    equation = input()\n",
    "    if \"x\" not in equation:\n",
    "        result = integral_constant(equation) + \"+W\"\n",
    "    elif equation.endswith(\"x\"):\n",
    "        result = integral_x(equation) + \"+W\"\n",
    "    else:\n",
    "        constant = equation.split(\"x\")[1]\n",
    "        result = integral_x(equation) + integral_constant(constant) + \"+W\"\n",
    "    if result.startswith(\"+\"):\n",
    "        result = result[1:]\n",
    "    print(result)\n",
    "\n",
    "\n",
    "solution()\n",
    "\n",
    "# input\n",
    "# 6x-6"
   ]
  },
  {
   "cell_type": "markdown",
   "id": "9096ab65-3975-4266-b542-a0f523eaee5c",
   "metadata": {},
   "source": [
    "## 소가 길을 건너간 이유 2\n",
    "\n",
    "- 문제 출처: [백준 14468번](https://www.acmicpc.net/problem/14468)"
   ]
  },
  {
   "cell_type": "markdown",
   "id": "21d24446-bdad-4a91-b6a1-aeab258304f6",
   "metadata": {},
   "source": [
    "`-` 임의의 알파벳 사이에 있는 다른 알파벳이 홀수개 있다면 교차한다\n",
    "\n",
    "`-` $26$개의 알파벳에 대해 교차 횟수를 세고 $2$로 나누면 정답이다\n",
    "\n",
    "`-` $2$로 나누는 이유는 $A$와 $B$가 교차한다면 $B$와 $A$도 교차하니 중복 카운팅되기 때문이다\n",
    "\n",
    "`-` 모든 알파벳에 대해 탐색을 반복하므로 알파벳의 개수가 $N$일 때 시간 복잡도는 $O\\left(N^2\\right)$이다"
   ]
  },
  {
   "cell_type": "code",
   "execution_count": 18,
   "id": "8026e388-f0d4-42e8-943e-2968afa3ef8c",
   "metadata": {},
   "outputs": [
    {
     "name": "stdin",
     "output_type": "stream",
     "text": [
      " ABCCABDDEEFFGGHHIIJJKKLLMMNNOOPPQQRRSSTTUUVVWWXXYYZZ\n"
     ]
    },
    {
     "name": "stdout",
     "output_type": "stream",
     "text": [
      "1\n"
     ]
    }
   ],
   "source": [
    "from collections import defaultdict\n",
    "\n",
    "\n",
    "def compute_pair(a, string):\n",
    "    is_first = True\n",
    "    is_end = False\n",
    "    data = defaultdict(int)\n",
    "    for s in string:\n",
    "        if is_end:\n",
    "            break\n",
    "        if s == a:\n",
    "            if is_first:\n",
    "                is_first = False\n",
    "            else:\n",
    "                is_end = True\n",
    "            continue\n",
    "        if not is_first and not is_end:\n",
    "            data[s] += 1\n",
    "    num_pairs = 0\n",
    "    for key, value in data.items():\n",
    "        if key == a:\n",
    "            continue\n",
    "        if value % 2 == 1:\n",
    "            num_pairs += 1\n",
    "    return num_pairs\n",
    "\n",
    "\n",
    "def solution():\n",
    "    string = input()\n",
    "    alphabet = \"ABCDEFGHIJKLMNOPQRSTUVWXYZ\"\n",
    "    count = 0\n",
    "    for a in alphabet:\n",
    "        count += compute_pair(a, string)\n",
    "    answer = count // 2\n",
    "    print(answer)\n",
    "\n",
    "\n",
    "solution()\n",
    "\n",
    "# input\n",
    "# ABCCABDDEEFFGGHHIIJJKKLLMMNNOOPPQQRRSSTTUUVVWWXXYYZZ"
   ]
  },
  {
   "cell_type": "markdown",
   "id": "5bf15bc0-f918-4f93-8e60-9305b993f546",
   "metadata": {},
   "source": [
    "## 소가 길을 건너간 이유 3\n",
    "\n",
    "- 문제 출처: [백준 14469번](https://www.acmicpc.net/problem/14469)"
   ]
  },
  {
   "cell_type": "markdown",
   "id": "613b3448-bc26-42e6-89f4-1c053180cd66",
   "metadata": {},
   "source": [
    "`-` 먼저 온 소가 먼저 검문을 받으므로 도착 시간에 대해 오름차순 정렬한다\n",
    "\n",
    "`-` 현재 시간 $0$부터 시작하여 첫 번째 소부터 차례대로 검문을 하자\n",
    "\n",
    "`-` 소의 도착 시간이 현재 시간보다 이르다면 검문 시간만큼 현재 시간에 추가하면 된다\n",
    "\n",
    "`-` 그렇지 않다면 도착 시간과 검문 시간의 합이 새로운 현재 시간이 된다"
   ]
  },
  {
   "cell_type": "code",
   "execution_count": 2,
   "id": "6106e1ef-dd6a-40fc-9a1f-7115b02022b6",
   "metadata": {
    "tags": []
   },
   "outputs": [
    {
     "name": "stdin",
     "output_type": "stream",
     "text": [
      " 3\n",
      " 2 1\n",
      " 8 3\n",
      " 5 7\n"
     ]
    },
    {
     "name": "stdout",
     "output_type": "stream",
     "text": [
      "15\n"
     ]
    }
   ],
   "source": [
    "def solution():\n",
    "    N = int(input())\n",
    "    data = [list(map(int, input().split())) for _ in range(N)]\n",
    "    data.sort()\n",
    "    current_time = 0\n",
    "    for arrival_time, inspection_time in data:\n",
    "        if arrival_time < current_time:\n",
    "            current_time += inspection_time\n",
    "            continue\n",
    "        current_time = arrival_time + inspection_time\n",
    "    print(current_time)\n",
    "\n",
    "\n",
    "solution()\n",
    "\n",
    "# input\n",
    "# 3\n",
    "# 2 1\n",
    "# 8 3\n",
    "# 5 7"
   ]
  },
  {
   "cell_type": "code",
   "execution_count": null,
   "id": "c07abfc2-1606-4f5d-aa7b-4aa4deb9917a",
   "metadata": {},
   "outputs": [],
   "source": []
  }
 ],
 "metadata": {
  "kernelspec": {
   "display_name": "Python 3 (ipykernel)",
   "language": "python",
   "name": "python3"
  },
  "language_info": {
   "codemirror_mode": {
    "name": "ipython",
    "version": 3
   },
   "file_extension": ".py",
   "mimetype": "text/x-python",
   "name": "python",
   "nbconvert_exporter": "python",
   "pygments_lexer": "ipython3",
   "version": "3.8.11"
  }
 },
 "nbformat": 4,
 "nbformat_minor": 5
}
