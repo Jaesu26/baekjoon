{
 "cells": [
  {
   "cell_type": "markdown",
   "id": "bfa8658c-d273-498b-93e7-095e1d7f4638",
   "metadata": {},
   "source": [
    "# 구현 (Inplementation)"
   ]
  },
  {
   "cell_type": "markdown",
   "id": "d0376d97-527e-4f07-8fc4-9df61f796004",
   "metadata": {},
   "source": [
    "## 빗물\n",
    "- 문제 출처: [백준 14719번](https://www.acmicpc.net/problem/14719)"
   ]
  },
  {
   "cell_type": "markdown",
   "id": "f6ab074d-0bbb-4a79-b6bb-8329c7901076",
   "metadata": {},
   "source": [
    "`-` $n$번째 블록의 높이를 $x$라 해보자\n",
    "\n",
    "`-` 만약 $x$이상인 높이 $y$가 $n+α$번째에 있다면 그 사이에 빗물을 $x$높이 까지 담을 수 있음\n",
    "\n",
    "`-` 만약 $x$이상인 높이가 없다면?? ---> 탐색하는 방향을 거꾸로 하면 된다(처음 $\\to$ 끝 대신 끝 $\\to$ 처음)\n",
    "\n",
    "`-` 그렇게 되면 처음에 탐색했을 때와 반대로 되므로 똑같이 크거나 같은 블록을 찾아 나가면 된다\n",
    "\n",
    "`-` 처음 $\\to$ 끝 탐색과 끝 $\\to$ 처음 탐색을 할 때 서로 겹치는 부분이 없을 것 같지만 높이가 같은 경우에는 겹치게 되므로 이에 대해서는 한번만 고려하자\n",
    "\n",
    "`-` 위에 설명만 들으면 어려울 것 같으니 예를 들어보자\n",
    "\n",
    "`-` 시작 ---> 끝\n",
    "\n",
    "`-` 블록의 높이가 $3 ,1, 2, 3, 3, 1, 1, 2$라고 하면 처음부터 탐색하므로 시작 블록 높이는 3이다\n",
    "\n",
    "`-` 3보다 크거나 같은 블록을 찾아 헤매다니니 4번째에 3이 존재함 ---> 빗물을 3만큼 담을 수 있음\n",
    "\n",
    "`-` 이제 블록의 기준이 바뀜 (3 ---> 3)\n",
    "\n",
    "`-` 이제 또 다시 3보다 크거나 같은 블록을 헤매다니자 ---> 3이 존재함 ---> 빗물을 0만큼 담음\n",
    "\n",
    "`-` 3보다 큰 블록이 없음 ---> 하지만 그렇다고 빗물을 못담는것이 아니다 3과 2사이에 빗물을 2만큼 담을 수 있다 ---> 이런 경우를 고려하기 위해 이제 탐색 방향을 바꾸자\n",
    "\n",
    "`-` 끝 ---> 시작\n",
    "\n",
    "`-` 시작 블록 높이는 2이다\n",
    "\n",
    "`-` 2보다 크거나 같은 블록은 3이 있음 ---> 빗물을 2만큼 담음\n",
    "\n",
    "`-` 이제 블록의 높이 기준이 3으로 바뀜\n",
    "\n",
    "`-` 3보다 크거나 같은 블록이 바로 앞에 있음 ---> 빗물을 0만큼 담음\n",
    "\n",
    "`-` 이제 다시 3보다 크거나 같은 블록을 찾자 ---> 마지막 블록의 높이가 3이다 ---> 빗물을 3만큼 담음\n",
    "\n",
    "`-` 결과를 보자\n",
    "\n",
    "`-` 두가지 경우를 더하면 결과로 8이 나오지만 사실 정답은 5인데 왜냐하면 $3 ,1, 2, 3$ 부분이 두 가지 모두에서 고려되어 빗물이 추가로 더해졌기 때문이다\n",
    "\n",
    "`-` 이렇기에 시작 ---> 끝 탐색에서 크거나 같은 경우를 고려했다면 끝 ---> 시작 탐색에서는 큰 경우만 고려해야 함 \n",
    "\n",
    "`-` 만약 끝 ---> 시작 탐색에서 크거나 같은 경우를 고려했다면 시작 ---> 끝 탐색에서는 큰 경우만 고려"
   ]
  },
  {
   "cell_type": "code",
   "execution_count": 1,
   "id": "1965bb37-b941-43c2-b521-031a3e46aee6",
   "metadata": {},
   "outputs": [
    {
     "name": "stdin",
     "output_type": "stream",
     "text": [
      " 4 8\n",
      " 3 1 2 3 4 1 1 2\n"
     ]
    },
    {
     "name": "stdout",
     "output_type": "stream",
     "text": [
      "5\n"
     ]
    }
   ],
   "source": [
    "h, w = map(int, input().split())\n",
    "blocks = list(map(int, input().split()))\n",
    "# 시작 ---> 끝 탐색\n",
    "start1 = blocks[0]\n",
    "idx1 = 0\n",
    "water1 = 0\n",
    "for i in range(1, w):\n",
    "    if blocks[i] >= start1:\n",
    "        for j in range(idx1 + 1, i):\n",
    "            water1 += start1 - blocks[j] \n",
    "        idx1 = i\n",
    "        start1 = blocks[i]\n",
    "# 끝 ---> 시작 탐색\n",
    "blocks1 = blocks.reverse()\n",
    "start2 = blocks[0]\n",
    "idx2 = 0\n",
    "water2 = 0\n",
    "for i in range(1, w):\n",
    "    if blocks[i] > start2:\n",
    "        for j in range(idx2 + 1, i):\n",
    "            water2 += start2 - blocks[j] \n",
    "        idx2 = i\n",
    "        start2 = blocks[i]\n",
    "print(water1 + water2)\n",
    "\n",
    "# input\n",
    "# 4 8\n",
    "# 3 1 2 3 4 1 1 2"
   ]
  },
  {
   "cell_type": "markdown",
   "id": "b0c16591-7085-4d89-9862-7788151ea426",
   "metadata": {},
   "source": [
    "## 음계\n",
    "\n",
    "- 문제 출처: [백준 2920번](https://www.acmicpc.net/problem/2920)"
   ]
  },
  {
   "cell_type": "code",
   "execution_count": 7,
   "id": "520be359-dc0c-43d2-b630-902e91865d53",
   "metadata": {},
   "outputs": [
    {
     "name": "stdin",
     "output_type": "stream",
     "text": [
      " 8 7 6 5 4 3 2 1\n"
     ]
    },
    {
     "name": "stdout",
     "output_type": "stream",
     "text": [
      "descending\n"
     ]
    }
   ],
   "source": [
    "scale = list(map(int, input().split()))\n",
    "if scale == sorted(scale):\n",
    "    print('ascending')\n",
    "elif scale == sorted(scale, reverse = True):\n",
    "    print('descending')\n",
    "else:\n",
    "    print('mixed')\n",
    "    \n",
    "# input\n",
    "# 8 7 6 5 4 3 2 1"
   ]
  },
  {
   "cell_type": "markdown",
   "id": "99bf2f14-3527-4f4d-8bd8-ec801a4d5503",
   "metadata": {},
   "source": [
    "## 무한 수열\n",
    "\n",
    "- 문제 출처: [백준 1351번](https://www.acmicpc.net/problem/1351)"
   ]
  },
  {
   "cell_type": "markdown",
   "id": "663e3e4b-83f3-4bdd-8ba6-4922d69344fb",
   "metadata": {},
   "source": [
    "`-` 딕셔너리를 사용해 이미 계산한 값을 저장한다 (값이 굉장히 큰 경우도 있어 배열로는 못 만듦)\n",
    "\n",
    "`-` $n$번째 항의 값을 알고싶은 경우 $f(n/p)$와 $f(n/q)$를 알면 된다\n",
    "\n",
    "`-` 그러므로 $f(n)$을 구하는 것은 로그 시간복잡도를 따른다"
   ]
  },
  {
   "cell_type": "code",
   "execution_count": 3,
   "id": "dd72c101-6cbe-41da-b829-d650cde4d145",
   "metadata": {},
   "outputs": [
    {
     "name": "stdin",
     "output_type": "stream",
     "text": [
      " 256 2 4\n"
     ]
    },
    {
     "name": "stdout",
     "output_type": "stream",
     "text": [
      "89\n"
     ]
    }
   ],
   "source": [
    "import math\n",
    "\n",
    "\n",
    "def f(n):\n",
    "    if n in a2value:\n",
    "        return a2value[n]\n",
    "    result = f(math.floor(n / P)) + f(math.floor(n / Q))\n",
    "    a2value[n] = result\n",
    "    return result\n",
    "\n",
    "\n",
    "def solution():\n",
    "    global a2value, P, Q\n",
    "    N, P, Q = map(int, input().split())\n",
    "    a2value = {0: 1}\n",
    "    print(f(N))\n",
    "\n",
    "\n",
    "solution()\n",
    "\n",
    "# input\n",
    "# 256 2 4"
   ]
  },
  {
   "cell_type": "markdown",
   "id": "92c81195-2cc5-4458-8c36-46433bd4c645",
   "metadata": {},
   "source": [
    "## 다항함수의 미분\n",
    "\n",
    "- 문제 출처: [백준 15725번](https://www.acmicpc.net/problem/15725)"
   ]
  },
  {
   "cell_type": "markdown",
   "id": "b32b4323-6a17-46e3-bd55-4c3a3f92c817",
   "metadata": {},
   "source": [
    "`-` 최대 일차 일변수 다항식이므로 일차항이거나 상수만 존재한다\n",
    "\n",
    "`-` 일차항이면 $x$를 기준으로 쪼개고 앞에 수를 그대로 출력하면 된다\n",
    "\n",
    "`-` 상수만 존재하면 $0$을 출력하면 된다\n",
    "\n",
    "`-` 주의: $x$의 계수가 $1$인 경우에는 입력에서 생략함\n",
    "\n",
    "`-` 주의: 절댓값이 $1$인 것이므로 $-1$도 고려해야 한다"
   ]
  },
  {
   "cell_type": "code",
   "execution_count": 21,
   "id": "a61ea449-6afb-4d6e-a730-0e214fcabdf9",
   "metadata": {},
   "outputs": [
    {
     "name": "stdin",
     "output_type": "stream",
     "text": [
      " 6x-6\n"
     ]
    },
    {
     "name": "stdout",
     "output_type": "stream",
     "text": [
      "6\n"
     ]
    }
   ],
   "source": [
    "def solution():\n",
    "    equation = input()\n",
    "    if \"x\" not in equation:\n",
    "        print(0)\n",
    "        return\n",
    "    coef_x = equation.split(\"x\")[0]\n",
    "    if not coef_x:\n",
    "        print(1)\n",
    "        return\n",
    "    if coef_x == \"-\":\n",
    "        print(-1)\n",
    "        return\n",
    "    print(coef_x)\n",
    "\n",
    "\n",
    "solution()\n",
    "\n",
    "# input\n",
    "# 6x-6"
   ]
  },
  {
   "cell_type": "markdown",
   "id": "cb50ba34-b872-482f-b714-8d66fcf8c2d8",
   "metadata": {},
   "source": [
    "## 다항 함수의 적분\n",
    "\n",
    "- 문제 출처: [백준 17214번](https://www.acmicpc.net/problem/17214)"
   ]
  },
  {
   "cell_type": "markdown",
   "id": "89658f14-e7e2-4597-99fa-2777c39c099d",
   "metadata": {},
   "source": [
    "`-` 기본적으로 적분식이 `+`로 시작하면 생략한다\n",
    "\n",
    "`-` $0$을 적분하면 $W$이다\n",
    "\n",
    "`-` 그 외는 [다항함수의 미분](https://www.acmicpc.net/problem/15725) 문제 풀이 방식과 유사하다"
   ]
  },
  {
   "cell_type": "code",
   "execution_count": 28,
   "id": "16a29691-8985-47d7-9ed0-7946440c6a97",
   "metadata": {},
   "outputs": [
    {
     "name": "stdin",
     "output_type": "stream",
     "text": [
      " 6x-6\n"
     ]
    },
    {
     "name": "stdout",
     "output_type": "stream",
     "text": [
      "3xx-6x+W\n"
     ]
    }
   ],
   "source": [
    "def integral_constant(equation):\n",
    "    if equation == \"0\":\n",
    "        return \"\"\n",
    "    if equation.startswith(\"+\"):\n",
    "        equation = equation[1:]\n",
    "        if equation == \"1\":\n",
    "            return \"+x\"\n",
    "        return f\"+{equation}x\"\n",
    "    if equation.startswith(\"-\"):\n",
    "        equation = equation[1:]\n",
    "        if equation == \"1\":\n",
    "            return \"-x\"\n",
    "        return f\"-{equation}x\"\n",
    "    if equation == \"1\":\n",
    "        return \"+x\"\n",
    "    return f\"+{equation}x\"\n",
    "\n",
    "\n",
    "def integral_x(equation):\n",
    "    coef = int(equation.split(\"x\")[0]) // 2\n",
    "    if coef == 1:\n",
    "        return \"xx\"\n",
    "    if coef == -1:\n",
    "        return \"-xx\"\n",
    "    if equation == \"0\":\n",
    "        return \"0\"\n",
    "    return f\"{coef}xx\"\n",
    "\n",
    "\n",
    "def solution():\n",
    "    equation = input()\n",
    "    if \"x\" not in equation:\n",
    "        result = integral_constant(equation) + \"+W\"\n",
    "    elif equation.endswith(\"x\"):\n",
    "        result = integral_x(equation) + \"+W\"\n",
    "    else:\n",
    "        constant = equation.split(\"x\")[1]\n",
    "        result = integral_x(equation) + integral_constant(constant) + \"+W\"\n",
    "    if result.startswith(\"+\"):\n",
    "        result = result[1:]\n",
    "    print(result)\n",
    "\n",
    "\n",
    "solution()\n",
    "\n",
    "# input\n",
    "# 6x-6"
   ]
  },
  {
   "cell_type": "markdown",
   "id": "1a0883e6-1dd9-4129-81d0-57dadeb7a3e5",
   "metadata": {},
   "source": [
    "## 집으로\n",
    "\n",
    "- 문제 출처: [백준 1069번](https://www.acmicpc.net/problem/1069)"
   ]
  },
  {
   "cell_type": "markdown",
   "id": "1e1c319d-bfae-42c1-841a-0b2d83740750",
   "metadata": {},
   "source": [
    "`-` $(x,y)$와 $(0,0)$ 사이의 거리는 $d=\\sqrt{x^2+y^2}$이다\n",
    "\n",
    "`-` 걸을 때 드는 시간은 이동한 거리와 같고 점프는 $T$초에 $D$만큼 이동한다\n",
    "\n",
    "`-` `방법 1`: 우선 점프를 안하고 걷기만 하면 $\\sqrt{x^2+y^2}$ 시간이 걸린다\n",
    "\n",
    "`-` `방법 2`: 만약 $\\sqrt{x^2+y^2}$이 $D$의 배수라면 점프만 해서 이동할 수 있다\n",
    "\n",
    "`-` `방법 3`: $\\sqrt{x^2+y^2}$보다 적게 움직이는 선에서 점프를 하고 나머지를 걸어가는 방법이 있다\n",
    "\n",
    "`-` `방법 4`: $\\sqrt{x^2+y^2}$보다 많이 움직이는 선에서 점프를 하고 나머지를 걸어가는 방법이 있다\n",
    "\n",
    "`-` 위의 방법은 원점까지 일직선으로만 가는 방법이다\n",
    "\n",
    "`-` 점프를 꼭 $(x,y)$와 원점을 잇는 일직선상으로만 하지 않아도 된다\n",
    "\n",
    "`-` 문제를 쉽게 하기 위해 내가 원점에 있다고 해보자\n",
    "\n",
    "`-` 점프를 하면 한 번에 $D$만큼 움직이므로 점프를 한 번 하면 중심이 원점이고 반지름이 $D$인 원의 둘레 중 한 곳에 위치할 수 있다\n",
    "\n",
    "`-` 만약 점프를 한 번 더 한다면 어디로 갈 수 있을까?\n",
    "\n",
    "`-` 점프를 한 번 더 한다면 중심이 원점이고 반지름이 $2D$인 원의 내부 어디로든 갈 수 있다\n",
    "\n",
    "`-` 이게 왜 되는지 간략하게 설명해보자\n",
    "\n",
    "`-` 중심이 원점이고 반지름이 $2D$인 원의 내부 임의의 점 $(x_1, y_1)$을 고려해보자\n",
    "\n",
    "`-` 해당 위치에서 $D$ 길이의 선분을 긋는다고 할 때 중심이 원점이고 반지름이 $D$인 원의 둘레 중 어느 한 곳까지 선분을 그을 수 있다\n",
    "\n",
    "`-` 따라서 위의 내용이 성립하고 이를 확장해 생각하면 다음과 같다\n",
    "\n",
    "`-` 점프를 $N>1$번 하면 반지름이 $ND$인 원의 내부 어디로든 갈 수 있다\n",
    "\n",
    "`-` `방법 5`: $N > 1$이고 $ND > d$인 $N$이 존재하여 점프만 반복해 $NT$ 시간에 원점에 도착하는 방법이 있다\n",
    "\n",
    "`-` `방법 6`: `방법 5`의 확장으로 $d < D$이지만 점프를 $2$번 뛰어서 $2T$ 시간에 원점에 도착하는 방법이 있다\n",
    "\n",
    "`-` 예시 테스트 케이스가 많아서 디버깅하기 좋았다"
   ]
  },
  {
   "cell_type": "code",
   "execution_count": 74,
   "id": "2109899f-c279-4ade-908f-94340b2bc74b",
   "metadata": {},
   "outputs": [
    {
     "name": "stdin",
     "output_type": "stream",
     "text": [
      " 400 300 150 10\n"
     ]
    },
    {
     "name": "stdout",
     "output_type": "stream",
     "text": [
      "40.0\n"
     ]
    }
   ],
   "source": [
    "def solution():\n",
    "    X, Y, D, T = map(int, input().split())\n",
    "    dist = (X**2 + Y**2)**0.5\n",
    "    answer = dist  # 방법 1: 오직 걷기\n",
    "    if dist % D == 0:\n",
    "        answer = min(T * (dist // D), answer)  # 방법 2: 오직 일직선 점프\n",
    "    under_jump_and_walk = T * (dist // D) + dist - (dist // D) * D  # 방법 3: 모자라게 일직선 점프 후 걷기\n",
    "    over_jump_and_walk = T * (dist // D + 1) + (dist // D + 1) * D - dist  # 방법 4: 초과하여 일직선 점프 후 되돌아 걷기\n",
    "    answer = min(answer, under_jump_and_walk, over_jump_and_walk)\n",
    "    if dist // D >= 1:\n",
    "        only_jump = T * (dist // D + 1)  # 방법 5\n",
    "        answer = min(only_jump, answer)\n",
    "    if dist < D:  # 점프 2번\n",
    "        answer = min(2 * T, answer)  # 방법 6\n",
    "    print(answer)\n",
    "\n",
    "\n",
    "solution()\n",
    "\n",
    "# input\n",
    "# 400 300 150 10"
   ]
  },
  {
   "cell_type": "markdown",
   "id": "16eabca6-4496-4403-8552-2ebe9f9bf2c5",
   "metadata": {},
   "source": [
    "## 두 원\n",
    "\n",
    "- 문제 출처: [백준 7869번](https://www.acmicpc.net/problem/7869)"
   ]
  },
  {
   "cell_type": "markdown",
   "id": "272de146-19f1-4c8f-b5d2-e5c0533d5282",
   "metadata": {},
   "source": [
    "`-` 이 문제를 풀기 위해선 두 원의 위치 관계를 모두 알아야 한다\n",
    "\n",
    "`-` 두 원의 중심 사이의 거리가 두 원의 반지름의 합보다 크거나 같다면 교차하는 영역의 넓이는 $0$이다\n",
    "\n",
    "`-` 한 원이 다른 원에 포함되어 있을 수도 있으며 이때 교차하는 영역의 넓이는 작은 원의 넓이와 같다\n",
    "\n",
    "`-` 두 원의 반지름이 각각 $r_1, r_2$이고 $r1\\le r2$라고 해보자\n",
    "\n",
    "`-` 두 원의 중심 사이의 거리를 $d$라고 하자\n",
    "\n",
    "`-` $d+r_1 \\le r_2$라면 반지름이 $r_1$인 원은 반지름이 $r_2$인 원에 포함되어 있는 것이다\n",
    "\n",
    "`-` 나머지 경우에 대해선 두 원이 두 점에서 만나게 된다\n",
    "\n",
    "`-` 두 원을 똑같이 평행 이동 한다면 교차하는 영역의 넓이는 동일하다\n",
    "\n",
    "`-` 편의를 위해 하나의 원을 원점으로 이동시키자 (나머지 원도 그에 따라 평행 이동 한다)\n",
    "\n",
    "`-` 임의의 원의 중심이 $(x_1,y_1)$일 때 두 원의 중심의 좌표에서 $x_1, y_1$을 각각 빼주면 평행 이동 된 것이다"
   ]
  },
  {
   "cell_type": "markdown",
   "id": "6879846b-2fb1-4858-b6ce-f439c4a1db73",
   "metadata": {},
   "source": [
    "### 두 원이 교차하는 영역의 넓이 계산"
   ]
  },
  {
   "cell_type": "markdown",
   "id": "8af32ff4-14c7-4d0b-81c8-f1bba4ece29d",
   "metadata": {},
   "source": [
    "`-` 우선 두 원의 교점을 계산해야 한다\n",
    "\n",
    "`-` 교점의 중점과 큰 원의 중점 사이의 거리가 두 원의 중점 사이의 거리보다 큰 경우와 작은 경우가 있다\n",
    "\n",
    "`-` 경우마다 계산을 다르게 해야 한다"
   ]
  },
  {
   "cell_type": "markdown",
   "id": "10999bb8-e446-4359-96f3-2b760916ed10",
   "metadata": {},
   "source": [
    "#### 두 원의 교점 계산"
   ]
  },
  {
   "cell_type": "markdown",
   "id": "b6b5a218-feaf-4ff8-8fb6-fd5e5e678a90",
   "metadata": {},
   "source": [
    "`-` 편의를 위해 하나의 원을 원점으로 이동시킨 기준이다"
   ]
  },
  {
   "cell_type": "markdown",
   "id": "30184e73-cd52-402e-99fe-55c9a4870fcf",
   "metadata": {},
   "source": [
    "- $x_2 \\ne 0,\\; y_2 \\ne 0$"
   ]
  },
  {
   "cell_type": "markdown",
   "id": "13dbdd50-2b91-4b96-84fd-96aa00fa4566",
   "metadata": {},
   "source": [
    "`-` $x_2,y_2,r_1,r_2$는 상수\n",
    "\n",
    "`-` $x^2+y^2=r_1^2$\n",
    "\n",
    "`-` $(x-x_2)^2+(y-y_2)^2=r_2^2$\n",
    "\n",
    "`-` $x^2-2x_2x + x_2^2 + y^2-2y_2y + y_2^2=r_2^2$\n",
    "\n",
    "`-` $-2x_2x + x_2^2 -2y_2y + y_2^2=r_2^2 - r_1^2$\n",
    "\n",
    "`-` $x =\\dfrac{r_1^2 -r_2^2 +x_2^2 - 2y_2y +  y_2^2}{2x_2}$\n",
    "\n",
    "`-` $a = \\dfrac{r_1^2 -r_2^2 +x_2^2 +y_2^2}{2x_2}$\n",
    "\n",
    "`-` $x =-\\dfrac{y_2}{x_2}y + a$\n",
    "\n",
    "`-` $b = -\\dfrac{y_2}{x_2}$\n",
    "\n",
    "`-` $x =by + a$\n",
    "\n",
    "`-` $(by + a)^2+y^2=r_1^2$\n",
    "\n",
    "`-` $b^2y^2 + 2aby + a^2+y^2=r_1^2$\n",
    "\n",
    "`-` $(b^2 + 1)y^2 + 2aby + a^2 -r_1^2  = 0$\n",
    "\n",
    "`-` $y=\\dfrac{-2ab \\pm \\sqrt{4a^2b^2 - 4(b^2+1)(a^2-r_1^2)}}{2b^2 + 2} = y_{p},y_{q}$  (근의 공식 사용)\n",
    "\n",
    "`-` $x =by + a$에 $y_{p},y_{q}$ 대입\n",
    "\n",
    "`-` $x =by_{p} + a,\\; by_{q} + a$"
   ]
  },
  {
   "cell_type": "markdown",
   "id": "822784db-3d54-4583-9a0f-6825b770eec8",
   "metadata": {},
   "source": [
    "- $x_2 = 0,\\; y_2 \\ne 0$"
   ]
  },
  {
   "cell_type": "markdown",
   "id": "e2f0ab4d-3a23-4d1e-b4a1-f400cf9bee0c",
   "metadata": {},
   "source": [
    "`-` $x_2,y_2,r_1,r_2$는 상수\n",
    "\n",
    "`-` $x^2+y^2=r_1^2$\n",
    "\n",
    "`-` $x^2+(y-y_2)^2=r_2^2$\n",
    "\n",
    "`-` $x^2 + y^2-2y_2y + y_2^2=r_2^2$\n",
    "\n",
    "`-` $-2y_2y + y_2^2=r_2^2 - r_1^2$\n",
    "\n",
    "`-` $y =\\dfrac{r_1^2 - r_2^2  + y_2^2}{2y_2} = y_p$\n",
    "\n",
    "`-` $x^2+y_p^2=r_1^2$\n",
    "\n",
    "`-` $x=\\pm\\sqrt{r_1^2 - y_p^2}$ "
   ]
  },
  {
   "cell_type": "markdown",
   "id": "929d50e5-473e-4680-9160-06edb3517828",
   "metadata": {},
   "source": [
    "- $x_2 \\ne 0,\\; y_2 = 0$"
   ]
  },
  {
   "cell_type": "markdown",
   "id": "123c428f-0e1b-4bab-b2a6-2cf40cc265ae",
   "metadata": {},
   "source": [
    "`-` $x_2,y_2,r_1,r_2$는 상수\n",
    "\n",
    "`-` $x^2+y^2=r_1^2$\n",
    "\n",
    "`-` $(x-x_2)^2+y^2=r_2^2$\n",
    "\n",
    "`-` $x^2-2x_2x + x_2^2 + y^2=r_2^2$\n",
    "\n",
    "`-` $-2x_2x + x_2^2 =r_2^2 - r_1^2$\n",
    "\n",
    "`-` $x =\\dfrac{r_1^2 -r_2^2 +x_2^2}{2x_2} = x_p$\n",
    "\n",
    "`-` $x_p^2+y^2=r_1^2$\n",
    "\n",
    "`-` $y=\\pm\\sqrt{r_1^2 - x_p^2}$ "
   ]
  },
  {
   "cell_type": "markdown",
   "id": "dd3c73ef-8598-4249-8143-1938f4507645",
   "metadata": {},
   "source": [
    "#### 부채꼴과 삼각형 넓이 계산"
   ]
  },
  {
   "cell_type": "markdown",
   "id": "e774f15a-d941-43ac-84e4-478b94da8133",
   "metadata": {},
   "source": [
    "- 교점의 중점과 큰 원의 중점 사이의 거리가 두 원의 중점 사이의 거리보다 큰 경우 (멀리 떨어진 경우)"
   ]
  },
  {
   "cell_type": "markdown",
   "id": "0af331de-85e9-4b3d-8449-38aa6d54ebcb",
   "metadata": {},
   "source": [
    "`-` 두 원의 교점을 $p_1, p_2$라고 하자\n",
    "\n",
    "`-` 각 원의 중점을 $a, b$라고 하자\n",
    "\n",
    "`-` 부채꼴 $ap_1p_2$를 고려하자\n",
    "\n",
    "`-` $p_1, p_2$의 중점을 $p_c$라고 하자\n",
    "\n",
    "`-` 부채꼴 $ap_1p_2$의 중심각을 $2\\theta$라고 하자\n",
    "\n",
    "`-` 삼각형 $ap_1p_c$를 고려하자\n",
    "\n",
    "`-` 이 삼각형은 직각삼각형이고 한 각이 $\\theta$이다\n",
    "\n",
    "`-` $\\theta$를 알면 부채꼴 $ap_1p_2$의 넓이를 계산할 수 있다\n",
    "\n",
    "`-` $\\tan\\theta = \\dfrac{\\overline{ap_c}}{\\overline{p_1p_c}}$이므로 $\\theta = \\arctan\\dfrac{\\overline{ap_c}}{\\overline{p_1p_c}}$\n",
    "\n",
    "`-` 따라서 부채꼴의 넓이는 $\\pi r_1^2 \\dfrac{2\\theta}{2\\pi} = r_1^2\\theta$\n",
    "\n",
    "`-` 삼각형 $ap_1p_2$의 넓이는 $\\dfrac{1}{2}\\overline{p_1p_2} \\times \\overline{ap_c}$이다\n",
    "\n",
    "`-` 이를 부채꼴의 넓이에서 빼주면 교차하는 영역을 $\\overline{p_1p_2}$로 쪼갠 것 중 하나를 계산할 수 있다\n",
    "\n",
    "`-` 나머지 원에 대해서도 같은 방법을 계산한 뒤 둘을 더하면 교차하는 영역의 넓이를 구할 수 있다"
   ]
  },
  {
   "cell_type": "markdown",
   "id": "184ef583-6bcd-4e6c-b10b-4a4800949707",
   "metadata": {},
   "source": [
    "- 교점의 중점과 큰 원의 중점 사이의 거리가 두 원의 중점 사이의 거리보다 작은 경우 (가까운 경우)"
   ]
  },
  {
   "cell_type": "markdown",
   "id": "40b64ce0-f942-4e4a-932e-954a3114d227",
   "metadata": {},
   "source": [
    "`-` 큰 원의 입장에서 부채꼴 넓이를 계산하고 삼각형 넓이를 계산해 차감하여 교차하는 영역의 일부 넓이를 구하는 것은 동일하다\n",
    "\n",
    "`-` 작은 원의 입장에선 $p_c$보다 원의 중점이 큰 원의 중점과 더 가깝다\n",
    "\n",
    "`-` 위와 똑같이 하되 결괏값을 원의 넓이에서 빼주면 된다"
   ]
  },
  {
   "cell_type": "markdown",
   "id": "b9fd38dd-4af1-45c9-92e0-66139aefb1c2",
   "metadata": {},
   "source": [
    "### 문제 풀이 코드"
   ]
  },
  {
   "cell_type": "code",
   "execution_count": 55,
   "id": "9eb99502-5bfe-4170-ae68-4553745973f4",
   "metadata": {},
   "outputs": [
    {
     "name": "stdin",
     "output_type": "stream",
     "text": [
      " 20.0 30.0 15.0 40.0 30.0 30.0\n"
     ]
    },
    {
     "name": "stdout",
     "output_type": "stream",
     "text": [
      "608.366\n"
     ]
    }
   ],
   "source": [
    "import math\n",
    "\n",
    "\n",
    "def move_parallel(x1, y1, x2, y2):\n",
    "    return 0, 0, x2 - x1, y2 - y1\n",
    "\n",
    "\n",
    "def dist(x1, y1, x2, y2):\n",
    "    return ((x1 - x2)**2 + (y1 - y2)**2)**0.5\n",
    "\n",
    "\n",
    "def check_unreachable(x1, y1, r1, x2, y2, r2):\n",
    "    d = dist(x1, y1, x2, y2)  # 두 원의 중심 사이의 거리\n",
    "    if d >= r1 + r2:\n",
    "        return True\n",
    "    return False\n",
    "\n",
    "\n",
    "def check_inside(x1, y1, r1, x2, y2, r2):\n",
    "    d = dist(x1, y1, x2, y2)  # 두 원의 중심 사이의 거리\n",
    "    r_min, r_max = min(r1, r2), max(r1, r2)\n",
    "    if d + r_min <= r_max:\n",
    "        return True\n",
    "    return False\n",
    "\n",
    "\n",
    "def quadratic_formula(a, b, c):\n",
    "    D = b**2 - 4 * a * c\n",
    "    return (-b + D**0.5) / (2 * a), (-b - D**0.5) / (2 * a)\n",
    "\n",
    "\n",
    "def compute_intersection_points(r1, x2, y2, r2):\n",
    "    # x1, y1은 원점이어야 한다\n",
    "    x1, y1 = 0, 0\n",
    "    if x2 == 0:\n",
    "        y = (r1**2 - r2**2 + y2**2) / (2 * y2)\n",
    "        x = (r1**2 - y**2)**0.5\n",
    "        return (x, y), (-x, y)\n",
    "    if y2 == 0:\n",
    "        x = (r1**2 - r2**2 + x2**2) / (2 * x2)\n",
    "        y = (r1**2 - x**2)**0.5\n",
    "        return (x, y), (x, -y)\n",
    "    a = (r1**2 - r2**2 + x2**2 + y2**2) / (2 * x2)\n",
    "    b = -y2 / x2\n",
    "    coef_a = b**2 + 1\n",
    "    coef_b = 2 * a * b\n",
    "    coef_c = a**2 - r1**2\n",
    "    yp, yq = quadratic_formula(coef_a, coef_b, coef_c)\n",
    "    xp = b * yp + a\n",
    "    xq = b * yq + a\n",
    "    return (xp, yp), (xq, yq)\n",
    "\n",
    "\n",
    "def compute_intersection_area(x1, y1, r1, x2, y2, r2):\n",
    "    x1, y1, x2, y2 = move_parallel(x1, y1, x2, y2)\n",
    "    (xp, yp), (xq, yq) = compute_intersection_points(r1, x2, y2, r2)   \n",
    "    area1 = _compute_partial_intersection_area(x1, y1, r1, xp, yp, xq, yq)\n",
    "    area2 = _compute_partial_intersection_area(x2, y2, r2, xp, yp, xq, yq)\n",
    "    intersection_area = area1 + area2\n",
    "    xc = (xp + xq) / 2\n",
    "    yc = (yp + yq) / 2\n",
    "    if r1 < r2 and dist(x2, y2, x1, y1) < dist(x2, y2, xc, yc):\n",
    "        intersection_area += math.pi * r1**2 - 2 * area1\n",
    "    if r2 < r1 and dist(x1, y1, x2, y2) < dist(x1, y1, xc, yc):\n",
    "        intersection_area += math.pi * r2**2 - 2 * area2\n",
    "    return intersection_area\n",
    "\n",
    "\n",
    "def _compute_partial_intersection_area(x, y, r, xp, yp, xq, yq):\n",
    "    xc = (xp + xq) / 2\n",
    "    yc = (yp + yq) / 2\n",
    "    θ = math.atan(dist(xp, yp, xc, yc) / dist(x, y, xc, yc)) \n",
    "    sector_area = r**2 * θ\n",
    "    triangle_area = 0.5 * dist(xp, yp, xq, yq) * dist(x, y, xc, yc)\n",
    "    partial_intersection_area = sector_area - triangle_area\n",
    "    return partial_intersection_area\n",
    "\n",
    "\n",
    "def solution():\n",
    "    x1, y1, r1, x2, y2, r2 = map(float, input().split())\n",
    "    x1, y1, x2, y2 = move_parallel(x1, y1, x2, y2)\n",
    "    if check_unreachable(x1, y1, r1, x2, y2, r2):\n",
    "        answer = 0.0\n",
    "    elif check_inside(x1, y1, r1, x2, y2, r2):\n",
    "        answer = math.pi * min(r1, r2)**2\n",
    "    else:\n",
    "        answer = compute_intersection_area(x1, y1, r1, x2, y2, r2)\n",
    "    print(f\"{answer:.3f}\")\n",
    "\n",
    "\n",
    "solution()\n",
    "\n",
    "# input\n",
    "# 20.0 30.0 15.0 40.0 30.0 30.0"
   ]
  },
  {
   "cell_type": "code",
   "execution_count": null,
   "id": "f880f87b-502d-4a20-97ff-613d3d0690cd",
   "metadata": {},
   "outputs": [],
   "source": []
  }
 ],
 "metadata": {
  "kernelspec": {
   "display_name": "Python 3 (ipykernel)",
   "language": "python",
   "name": "python3"
  },
  "language_info": {
   "codemirror_mode": {
    "name": "ipython",
    "version": 3
   },
   "file_extension": ".py",
   "mimetype": "text/x-python",
   "name": "python",
   "nbconvert_exporter": "python",
   "pygments_lexer": "ipython3",
   "version": "3.8.11"
  }
 },
 "nbformat": 4,
 "nbformat_minor": 5
}
