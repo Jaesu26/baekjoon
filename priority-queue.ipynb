{
 "cells": [
  {
   "cell_type": "markdown",
   "id": "53919614-36aa-472e-a581-2aa9c21ea2d8",
   "metadata": {},
   "source": [
    "# 우선순위 큐 (Priority Queue)"
   ]
  },
  {
   "cell_type": "markdown",
   "id": "9ef84702-65a8-471a-8c8f-102624de4e45",
   "metadata": {
    "tags": []
   },
   "source": [
    "## 최대 힙\n",
    "\n",
    "- 문제 출처: [백준 11279번](https://www.acmicpc.net/problem/11279)"
   ]
  },
  {
   "cell_type": "markdown",
   "id": "309142b3-3b5b-4498-b969-1af5274acc86",
   "metadata": {},
   "source": [
    "`-` heap 자료구조를 이용하면 된다\n",
    "\n",
    "`-` 파이썬에서 heap 자료구조는 heapq 모듈이 지원한다\n",
    "\n",
    "`-` 파이썬에서 heapq 모듈은 최소힙을 지원하니 수를 append할 때 마이너스(-)를 붙이자\n",
    "\n",
    "`-` 그러면 절대값이 큰 값이 최소값이 되고 다시 마이너스(-)를 붙이면 최대값이 된다\n",
    "\n",
    "`-` 그리고 input 대신 sys.stdin.readline를 사용해야 됨\n",
    "\n",
    "`-` 주피터에서는 오류나서 제출할 때만 수정함"
   ]
  },
  {
   "cell_type": "code",
   "execution_count": 6,
   "id": "f7231860-0168-4702-9482-318aefa9a11c",
   "metadata": {},
   "outputs": [
    {
     "name": "stdin",
     "output_type": "stream",
     "text": [
      " 11\n",
      " 0\n"
     ]
    },
    {
     "name": "stdout",
     "output_type": "stream",
     "text": [
      "0\n"
     ]
    },
    {
     "name": "stdin",
     "output_type": "stream",
     "text": [
      " 1\n",
      " 2\n",
      " 0\n"
     ]
    },
    {
     "name": "stdout",
     "output_type": "stream",
     "text": [
      "2\n"
     ]
    },
    {
     "name": "stdin",
     "output_type": "stream",
     "text": [
      " 0\n"
     ]
    },
    {
     "name": "stdout",
     "output_type": "stream",
     "text": [
      "1\n"
     ]
    },
    {
     "name": "stdin",
     "output_type": "stream",
     "text": [
      " 3\n",
      " 2\n",
      " 1\n",
      " 0\n"
     ]
    },
    {
     "name": "stdout",
     "output_type": "stream",
     "text": [
      "3\n"
     ]
    },
    {
     "name": "stdin",
     "output_type": "stream",
     "text": [
      " 0\n"
     ]
    },
    {
     "name": "stdout",
     "output_type": "stream",
     "text": [
      "2\n"
     ]
    },
    {
     "name": "stdin",
     "output_type": "stream",
     "text": [
      " 0\n"
     ]
    },
    {
     "name": "stdout",
     "output_type": "stream",
     "text": [
      "1\n"
     ]
    }
   ],
   "source": [
    "import heapq\n",
    "\n",
    "N = int(input())\n",
    "heap = []\n",
    "for _ in range(N):\n",
    "    x = int(input())\n",
    "    if x == 0:\n",
    "        if heap:\n",
    "            print(-heapq.heappop(heap))\n",
    "        else:\n",
    "            print(0)\n",
    "    else:\n",
    "        heapq.heappush(heap, -x)\n",
    "        \n",
    "# input\n",
    "# 11\n",
    "# 0\n",
    "# 1\n",
    "# 2\n",
    "# 0\n",
    "# 0\n",
    "# 3\n",
    "# 2\n",
    "# 1\n",
    "# 0\n",
    "# 0\n",
    "# 0"
   ]
  },
  {
   "cell_type": "markdown",
   "id": "6022629b-eae3-47ca-b705-01c668b1731c",
   "metadata": {},
   "source": [
    "## 최소 힙\n",
    "\n",
    "- 문제 출처: [백준 1927번](https://www.acmicpc.net/problem/1927)\n",
    "\n",
    "`-` 최대 힙 문제와 동일한 매커니즘이다"
   ]
  },
  {
   "cell_type": "code",
   "execution_count": 1,
   "id": "d3f1c583-0fbe-4a5a-a87e-0a17f0e78dfc",
   "metadata": {},
   "outputs": [
    {
     "name": "stdin",
     "output_type": "stream",
     "text": [
      " 9\n",
      " 0\n"
     ]
    },
    {
     "name": "stdout",
     "output_type": "stream",
     "text": [
      "0\n"
     ]
    },
    {
     "name": "stdin",
     "output_type": "stream",
     "text": [
      " 12345678\n",
      " 1\n",
      " 2\n",
      " 0\n"
     ]
    },
    {
     "name": "stdout",
     "output_type": "stream",
     "text": [
      "1\n"
     ]
    },
    {
     "name": "stdin",
     "output_type": "stream",
     "text": [
      " 0\n"
     ]
    },
    {
     "name": "stdout",
     "output_type": "stream",
     "text": [
      "2\n"
     ]
    },
    {
     "name": "stdin",
     "output_type": "stream",
     "text": [
      " 0\n"
     ]
    },
    {
     "name": "stdout",
     "output_type": "stream",
     "text": [
      "12345678\n"
     ]
    },
    {
     "name": "stdin",
     "output_type": "stream",
     "text": [
      " 0\n"
     ]
    },
    {
     "name": "stdout",
     "output_type": "stream",
     "text": [
      "0\n"
     ]
    },
    {
     "name": "stdin",
     "output_type": "stream",
     "text": [
      " 32\n"
     ]
    }
   ],
   "source": [
    "import heapq\n",
    "\n",
    "N = int(input())\n",
    "heap = []\n",
    "for _ in range(N):\n",
    "    x = int(input())\n",
    "    if x == 0:\n",
    "        if heap:\n",
    "            print(heapq.heappop(heap)) \n",
    "        else:\n",
    "            print(0)\n",
    "    else:\n",
    "        heapq.heappush(heap, x)\n",
    "        \n",
    "# input\n",
    "# 9\n",
    "# 0\n",
    "# 12345678\n",
    "# 1\n",
    "# 2\n",
    "# 0\n",
    "# 0\n",
    "# 0\n",
    "# 0\n",
    "# 32"
   ]
  },
  {
   "cell_type": "markdown",
   "id": "1451c4e9-1058-4ab3-9c4e-cd3c32c50bce",
   "metadata": {
    "tags": []
   },
   "source": [
    "## 절댓값 힙\n",
    "\n",
    "- 문제 출처: [백준 11286번](https://www.acmicpc.net/problem/11286)"
   ]
  },
  {
   "cell_type": "markdown",
   "id": "adfb3dc9-6bfc-43bf-8e23-ff8e0076e758",
   "metadata": {},
   "source": [
    "`-` heap 자료구조에 tuple형태로 push하면 첫 번째 원소를 기준으로 최소힙을 구성한다\n",
    "\n",
    "`-` 그리고 첫 번째 원소가 같으면 두 번째 원소가 더 작은 tuple이 부모 노드가 된다"
   ]
  },
  {
   "cell_type": "code",
   "execution_count": 13,
   "id": "73660262-0e23-424c-9d85-112c45c82a08",
   "metadata": {},
   "outputs": [
    {
     "name": "stdin",
     "output_type": "stream",
     "text": [
      " 9\n",
      " 1\n",
      " -1\n",
      " 2\n",
      " -2\n",
      " 0\n"
     ]
    },
    {
     "name": "stdout",
     "output_type": "stream",
     "text": [
      "-1\n"
     ]
    },
    {
     "name": "stdin",
     "output_type": "stream",
     "text": [
      " 0\n"
     ]
    },
    {
     "name": "stdout",
     "output_type": "stream",
     "text": [
      "1\n"
     ]
    },
    {
     "name": "stdin",
     "output_type": "stream",
     "text": [
      " 0\n"
     ]
    },
    {
     "name": "stdout",
     "output_type": "stream",
     "text": [
      "-2\n"
     ]
    },
    {
     "name": "stdin",
     "output_type": "stream",
     "text": [
      " 0\n"
     ]
    },
    {
     "name": "stdout",
     "output_type": "stream",
     "text": [
      "2\n"
     ]
    },
    {
     "name": "stdin",
     "output_type": "stream",
     "text": [
      " 0\n"
     ]
    },
    {
     "name": "stdout",
     "output_type": "stream",
     "text": [
      "0\n"
     ]
    }
   ],
   "source": [
    "import heapq\n",
    "\n",
    "N = int(input())\n",
    "heap = []\n",
    "for _ in range(N):\n",
    "    x = int(input())\n",
    "    if x == 0:\n",
    "        if heap:\n",
    "            print(heapq.heappop(heap)[1]) \n",
    "        else:\n",
    "            print(0)\n",
    "    else:\n",
    "        heapq.heappush(heap, (abs(x), x))\n",
    "\n",
    "# input\n",
    "# 9\n",
    "# 1\n",
    "# -1\n",
    "# 2\n",
    "# -2\n",
    "# 0\n",
    "# 0\n",
    "# 0\n",
    "# 0\n",
    "# 0"
   ]
  },
  {
   "cell_type": "markdown",
   "id": "f7cb6b35-de19-4c2d-9695-14e9d2e98a63",
   "metadata": {},
   "source": [
    "## 가운데를 말해요\n",
    "\n",
    "- 문제 출처: [백준 1655번](https://www.acmicpc.net/problem/1655)"
   ]
  },
  {
   "cell_type": "markdown",
   "id": "4d7f0de7-a4ea-496f-96e9-eb417eef00e5",
   "metadata": {},
   "source": [
    "`-` 어떻게 풀지 감이 안잡혀서 질문검색 보고옴\n",
    "\n",
    "`-` 중앙값을 기준으로 두개의 힙을 관리하면 된다고 한다\n",
    "\n",
    "`-` 중앙값보다 큰쪽은 최소힙으로 작은쪽은 최대힙으로 만든다\n",
    "\n",
    "`-` 만약 큰쪽heap과 작은쪽heap 원소 개수가 동일하다고 해보자\n",
    "\n",
    "`-` input이 큰쪽heap에서 최소값보다 작으면 input을 작은쪽heap에 push하고 작은쪽heap에서 최대값이 중앙값이다\n",
    "\n",
    "`-` 크거나 같으면 input을 큰쪽heap에 push하고 큰쪽heap에서 최소값이 중앙값이다\n",
    "\n",
    "`-` 이번에는 큰쪽heap이 작은쪽heap원소 개수보다 1개가 더 많다고 해보자\n",
    "\n",
    "`-` input이 큰쪽heap에서 최소값보다 작으면 input을 작은쪽heap에 push하고 작은쪽heap에서 최대값이 중앙값이다\n",
    "\n",
    "`-` 크거나 같으면 input을 큰쪽heap에 push하고 큰쪽heap에서 pop한 원소를 작은쪽heap에 push하고 작은쪽heap에서 최대값이 중앙값이다\n",
    "\n",
    "`-` 이번에는 작은쪽heap이 큰쪽heap원소 개수보다 1개가 더 많다고 해보자\n",
    "\n",
    "`-` input이 큰쪽heap에서 최소값보다 크면 input을 큰쪽heap에 push하고 작은쪽heap에서 최대값이 중앙값이다\n",
    "\n",
    "`-` 작거나 같으면 input을 작은쪽heap에 push하고 작은쪽heap에서 pop한 원소를 큰쪽heap에 push하고 작은쪽heap에서 최대값이 중앙값이다\n",
    "\n",
    "`-` 틀린내용이 있을수도 있으니 정확한건 코드 확인하자"
   ]
  },
  {
   "cell_type": "code",
   "execution_count": 22,
   "id": "a45eb255-a80a-45a2-849c-0f082ccc89e9",
   "metadata": {},
   "outputs": [
    {
     "name": "stdin",
     "output_type": "stream",
     "text": [
      " 7\n",
      " 1\n"
     ]
    },
    {
     "name": "stdout",
     "output_type": "stream",
     "text": [
      "1\n"
     ]
    },
    {
     "name": "stdin",
     "output_type": "stream",
     "text": [
      " 5\n"
     ]
    },
    {
     "name": "stdout",
     "output_type": "stream",
     "text": [
      "1\n"
     ]
    },
    {
     "name": "stdin",
     "output_type": "stream",
     "text": [
      " 2\n"
     ]
    },
    {
     "name": "stdout",
     "output_type": "stream",
     "text": [
      "2\n"
     ]
    },
    {
     "name": "stdin",
     "output_type": "stream",
     "text": [
      " 10\n"
     ]
    },
    {
     "name": "stdout",
     "output_type": "stream",
     "text": [
      "2\n"
     ]
    },
    {
     "name": "stdin",
     "output_type": "stream",
     "text": [
      " -99\n"
     ]
    },
    {
     "name": "stdout",
     "output_type": "stream",
     "text": [
      "2\n"
     ]
    },
    {
     "name": "stdin",
     "output_type": "stream",
     "text": [
      " 7\n"
     ]
    },
    {
     "name": "stdout",
     "output_type": "stream",
     "text": [
      "2\n"
     ]
    },
    {
     "name": "stdin",
     "output_type": "stream",
     "text": [
      " 5\n"
     ]
    },
    {
     "name": "stdout",
     "output_type": "stream",
     "text": [
      "5\n"
     ]
    }
   ],
   "source": [
    "import heapq\n",
    "\n",
    "N = int(input())\n",
    "heap_down = []   # 최대힙\n",
    "heap_up = []   # 최소힙\n",
    "heapq.heappush(heap_up, int(input()))\n",
    "cnt = 0\n",
    "print(heap_up[0])\n",
    "\n",
    "if N > 1:\n",
    "    x = int(input())\n",
    "    if x > heap_up[0]:\n",
    "        print(heap_up[0])\n",
    "        y = heapq.heappop(heap_up)\n",
    "        heapq.heappush(heap_down, (-y, y))\n",
    "        heapq.heappush(heap_up, x)\n",
    "    else:\n",
    "        heapq.heappush(heap_down, (-x, x))\n",
    "        print(x)\n",
    "\n",
    "for _ in range(N-2):\n",
    "    x = int(input())\n",
    "    if cnt == 0: # 개수 동일\n",
    "        if x < heap_up[0]:\n",
    "            heapq.heappush(heap_down, (-x, x))\n",
    "            print(heap_down[0][1])\n",
    "            cnt = -1\n",
    "        else:\n",
    "            heapq.heappush(heap_up, x)\n",
    "            print(heap_up[0])\n",
    "            cnt = 1    \n",
    "    elif cnt == 1: # 큰쪽이 1개 더 많음\n",
    "        if x < heap_up[0]:\n",
    "            heapq.heappush(heap_down, (-x, x))\n",
    "            print(heap_down[0][1])\n",
    "        else:\n",
    "            y = heapq.heappop(heap_up)\n",
    "            heapq.heappush(heap_down, (-y, y))\n",
    "            heapq.heappush(heap_up, x)\n",
    "            print(y)\n",
    "        cnt = 0   \n",
    "    else: # 작은쪽이 1개 더 많음(cnt == -1)\n",
    "        if x > heap_up[0]:\n",
    "            heapq.heappush(heap_up, x)\n",
    "            print(heap_down[0][1])\n",
    "        else:\n",
    "            heapq.heappush(heap_down, (-x, x))\n",
    "            y = heapq.heappop(heap_down)[1]\n",
    "            heapq.heappush(heap_up, y)\n",
    "            print(heap_down[0][1]) # y가 아님\n",
    "        cnt = 0\n",
    "\n",
    "# input\n",
    "# 7\n",
    "# 1\n",
    "# 5\n",
    "# 2\n",
    "# 10\n",
    "# -99\n",
    "# 7\n",
    "# 5"
   ]
  },
  {
   "cell_type": "markdown",
   "id": "6e4c37bb-a5d7-4846-85bf-a8bfcd81f14e",
   "metadata": {},
   "source": [
    "## 파일 합치기 3\n",
    "\n",
    "- 문제 출처: [백준 13975번](https://www.acmicpc.net/problem/13975)"
   ]
  },
  {
   "cell_type": "markdown",
   "id": "a64528d0-9b21-41eb-a66e-e83c82d73d57",
   "metadata": {},
   "source": [
    "`-` 최소 비용을 얻기 위해서는 최솟값을 2개씩 뽑아 더한 후 이를 다시 heap에 input하면 된다"
   ]
  },
  {
   "cell_type": "code",
   "execution_count": 88,
   "id": "df39cca5-792f-44ad-be0e-3acba3c9f531",
   "metadata": {},
   "outputs": [
    {
     "name": "stdin",
     "output_type": "stream",
     "text": [
      " 2\n",
      " 4\n",
      " 40 30 30 50\n"
     ]
    },
    {
     "name": "stdout",
     "output_type": "stream",
     "text": [
      "300\n"
     ]
    },
    {
     "name": "stdin",
     "output_type": "stream",
     "text": [
      " 15\n",
      " 1 21 3 4 5 35 5 4 3 5 98 21 14 17 32\n"
     ]
    },
    {
     "name": "stdout",
     "output_type": "stream",
     "text": [
      "826\n"
     ]
    }
   ],
   "source": [
    "import heapq\n",
    "\n",
    "T = int(input())\n",
    "for i in range(T):\n",
    "    x = 0\n",
    "    k = int(input())\n",
    "    heap = list(map(int, input().split()))\n",
    "    heapq.heapify(heap)  # 빼먹으면 안됨\n",
    "    for _ in range(k - 1):\n",
    "        a = heapq.heappop(heap)\n",
    "        b = heapq.heappop(heap)  # 최솟값 2개를 뽑은 후 더한다\n",
    "        x += a + b\n",
    "        heapq.heappush(heap, a + b)  # 더한 값을 다시 heap에 push한다\n",
    "    print(x)\n",
    "    \n",
    "# input\n",
    "# 2\n",
    "# 4\n",
    "# 40 30 30 50\n",
    "# 15\n",
    "# 1 21 3 4 5 35 5 4 3 5 98 21 14 17 32"
   ]
  },
  {
   "cell_type": "markdown",
   "id": "40f9f92e-5592-40e9-8ca6-d41758a477a3",
   "metadata": {},
   "source": [
    "## 이중 우선순위 큐\n",
    "\n",
    "- 문제 출처: [백준 7662번](https://www.acmicpc.net/problem/7662)"
   ]
  },
  {
   "cell_type": "markdown",
   "id": "37a8c641-c8ba-498b-b3a4-3baf5cf33b8f",
   "metadata": {},
   "source": [
    "`-` [min-max heap](https://en.wikipedia.org/wiki/Min-max_heap)을 구현해서 해결할려다 더 쉽게 풀 수 있을 것 같아 다르게 품\n",
    "\n",
    "`-` 최댓값을 삭제할 때 max heap에서는 $O(\\log N)$이지만 min heap에서는 $O(N)$이다 (최솟값인 경우에는 둘이 반대)\n",
    "\n",
    "`-` 시간을 단축하기 위해 두 개의 딕셔너리를 고려하자 (max_dict, min_dict)\n",
    "\n",
    "`-` 최댓값을 삭제하는 경우 max heap에서는 pop을 하고 삭제한 원소를 $a$라고 하면 `min_dict[a] += 1`을 수행한다\n",
    "\n",
    "`-` 최솟값을 삭제하는 경우 min heap에서는 pop을 하고 삭제한 원소를 $b$라고 하면 `max_dict[b] += 1`을 수행한다\n",
    "\n",
    "- max_dict, min_dict\n",
    "\n",
    "`-` max_dict은 최댓값을 삭제할 때 max heap에서 pop한 원소가 이미 삭제된 원소인지를 판단\n",
    "\n",
    "`-` `max_heap[a]`는 이미 $a$가 최솟값을 삭제할 때 몇 번이나 삭제 되었는지를 나타냄\n",
    "\n",
    "`-` max heap에서 추출한 값을 $x$라고 할 때 `max_heap[x]`가 $0$이어야 max heap에 존재하는 원소이다\n",
    "\n",
    "`-` min_dict는 위와 반대로 생각하면 된다\n",
    "\n",
    "`-` 그리고 원소의 개수를 count하여 원소가 없을 때 pop하지 않도록 세팅"
   ]
  },
  {
   "cell_type": "code",
   "execution_count": 91,
   "id": "af7c659f-2428-40d5-a0c7-2267caad3c3d",
   "metadata": {},
   "outputs": [
    {
     "name": "stdin",
     "output_type": "stream",
     "text": [
      " 2\n",
      " 7\n",
      " I 16\n",
      " I -5643\n",
      " D -1\n",
      " D 1\n",
      " D 1\n",
      " I 123\n",
      " D -1\n"
     ]
    },
    {
     "name": "stdout",
     "output_type": "stream",
     "text": [
      "EMPTY\n"
     ]
    },
    {
     "name": "stdin",
     "output_type": "stream",
     "text": [
      " 9\n",
      " I -45\n",
      " I 653\n",
      " D 1\n",
      " I -642\n",
      " I 45\n",
      " I 97\n",
      " D 1\n",
      " D -1\n",
      " I 333\n"
     ]
    },
    {
     "name": "stdout",
     "output_type": "stream",
     "text": [
      "333 -45\n"
     ]
    }
   ],
   "source": [
    "import heapq\n",
    "\n",
    "T = int(input())\n",
    "for i in range(T):\n",
    "    x = int(input())\n",
    "    max_heap = []  # 최대값 힙\n",
    "    min_heap = []  # 최소값 힙\n",
    "    max_dict = {}  # max heap에서 실질적으로 삭제된 원소를 보관할 딕셔너리\n",
    "    min_dict = {}  # min heap에서 실질적으로 삭제된 원소를 보관할 딕셔너리\n",
    "    size = 0  # 원소 개수\n",
    "    for x in range(x):\n",
    "        k = input()\n",
    "        if k[0] == 'I':  # insert\n",
    "            q = int(k.split(' ')[1])\n",
    "            heapq.heappush(min_heap, q)\n",
    "            heapq.heappush(max_heap, (-q, q))\n",
    "            size += 1\n",
    "            if q not in max_dict:  # (min_dict도 가능) 아직 한번도 등장한 적 없는 원소라면\n",
    "                max_dict[q] = 0 \n",
    "                min_dict[q] = 0\n",
    "        elif k[0] == 'D':  # delete\n",
    "            w = int(k.split(' ')[1])\n",
    "            if size > 0:  # pop할 원소가 남아있다면\n",
    "                if w == 1:  # 최대값 삭제\n",
    "                    while max_heap:  # max heap에 적어도 원소 하나는 존재\n",
    "                        a = heapq.heappop(max_heap)[1]  # 최대값\n",
    "                        if max_dict[a] == 0:  # a는 아직 max heap에서 pop되지 않았다\n",
    "                            min_dict[a] += 1  # min heap에서 a는 실질적으로 pop되었다\n",
    "                            break  \n",
    "                        else:\n",
    "                            max_dict[a] -= 1\n",
    "                            continue  # 다시 max heap에서 pop을 하자!\n",
    "                else:  # 최소값 삭제\n",
    "                    while min_heap:  # min heap에 적어도 원소 하나는 존재\n",
    "                        b = heapq.heappop(min_heap)  # 최소값\n",
    "                        if min_dict[b] == 0:  # b는 아직 min heap에서 pop되지 않았다\n",
    "                            max_dict[b] += 1  # max heap에서 b는 실질적으로 pop되었다\n",
    "                            break  \n",
    "                        else:\n",
    "                            min_dict[b] -= 1\n",
    "                            continue  # 다시 min heap에서 pop을 하자!\n",
    "                size -= 1\n",
    "    # 마지막으로 max heap과 min heap의 실질적 원소를 골라내자\n",
    "    A, B = True, True \n",
    "    while A or B: \n",
    "        if size == 0:\n",
    "            print('EMPTY')\n",
    "            break\n",
    "        if max_heap and A:  # if max_heap으로 하면 틀림 ---> max_ 값이 변할 수 있음 (continue 때문) \n",
    "            a = heapq.heappop(max_heap)[1]  # max heap의 최대값\n",
    "            if max_dict[a] == 0:  # a는 아직 max heap에서 pop되지 않았다\n",
    "                max_ = a\n",
    "                A = False\n",
    "            else:\n",
    "                max_dict[a] -= 1\n",
    "                continue  # while문으로 이동 \n",
    "        # 위에 있는 continue 문장으로 인해 A는 무조건 False이다\n",
    "        if min_heap and B:  # if min_heap으로 해도 되긴 함 (B가 False가 되는 순간 if문이 끝나고 while 조건문으로 이동하고 조건이 거짓이므로 while문이 끝남)\n",
    "            b = heapq.heappop(min_heap)  # min heap의 최소값\n",
    "            if min_dict[b] == 0:  # b는 아직 min heap에서 pop되지 않았다\n",
    "                min_ = b \n",
    "                B = False  \n",
    "            else:\n",
    "                min_dict[b] -= 1\n",
    "                continue  # while문으로 이동\n",
    "    if size > 0 and not A and not B:  # empty가 아닌 경우 최대값, 최소값 출력\n",
    "        print(max_, min_)\n",
    "        \n",
    "# input\n",
    "# 2\n",
    "# 7\n",
    "# I 16\n",
    "# I -5643\n",
    "# D -1\n",
    "# D 1\n",
    "# D 1\n",
    "# I 123\n",
    "# D -1\n",
    "# EMPTY\n",
    "# 9\n",
    "# I -45\n",
    "# I 653\n",
    "# D 1\n",
    "# I -642\n",
    "# I 45\n",
    "# I 97\n",
    "# D 1\n",
    "# D -1\n",
    "# I 333\n",
    "# 333 -45"
   ]
  },
  {
   "cell_type": "markdown",
   "id": "9b87b048-bec7-49e7-b6bd-161700158f62",
   "metadata": {},
   "source": [
    "## 중앙값 구하기\n",
    "\n",
    "- 문제 출처: [백준 2696번](https://www.acmicpc.net/problem/2696)"
   ]
  },
  {
   "cell_type": "markdown",
   "id": "41d98266-9502-4989-b4d9-7b81034fc03a",
   "metadata": {},
   "source": [
    "`-` [가운데를 말해요](https://www.acmicpc.net/problem/1655) 문제와 거의 동일한 문제이다\n",
    "\n",
    "`-` 중앙값보다 작은 값만 있는 최대 힙과 중앙값 이상의 값만 있는 최소 힙을 고려하자\n",
    "\n",
    "`-` 최소 힙의 최솟값이 중앙값이 되도록 두 개의 힙을 관리할 것이다\n",
    "\n",
    "`-` 홀수 번째 원소를 입력받을 땐 최소 힙의 원소가 최대 힙의 원소보다 한 개 더 많고 그 외엔 같게 하자\n",
    "\n",
    "`-` 홀수 번째 원소 $x$를 입력받는다고 가정하자\n",
    "\n",
    "`-` $x$가 최소 힙의 최솟값보다 크면 최소 힙에 $x$를 추가하고 중앙값은 최소 힙의 최솟값이다\n",
    "\n",
    "`-` $x$가 최대 힙의 최댓값보다 작으면 최대 힙의 최댓값을 pop하여 최소 힙에 넣고 해당 값이 중앙값이며 $x$는 최대 힙에 넣는다\n",
    "\n",
    "`-` $x$가 최소 힙의 최솟값과 최대 힙의 최댓값 사이의 값이라면 $x$가 중앙값이며 $x$는 최소 힙에 넣는다\n",
    "\n",
    "`-` 이제 짝수 번째 원소 $x$를 입력받는다고 가정하자\n",
    "\n",
    "`-` 최소 힙의 크기와 최대 힙의 크기를 같게 해야하므로 최소 힙에 크기를 $1$ 늘려야 한다\n",
    "\n",
    "`-` $x$가 최소 힙의 최솟값보다 크면 최소 힙의 최솟값을 최대 힙에 pop하여 넣고 최소 힙에 $x$를 추가한다\n",
    "\n",
    "`-` $x$가 최대 힙의 최댓값보다 작으면 $x$를 최대 힙에 추가한다\n",
    "\n",
    "`-` $x$가 최소 힙의 최솟값과 최대 힙의 최댓값 사이의 값이라면 $x$를 최대 힙에 추가한다\n",
    "\n",
    "`-` 파이썬의 heapq 모듈은 최소 힙만 제공하므로 유의하자"
   ]
  },
  {
   "cell_type": "code",
   "execution_count": 17,
   "id": "4ecf0371-fc0c-4cf7-9102-1ef60d47ab71",
   "metadata": {},
   "outputs": [
    {
     "name": "stdin",
     "output_type": "stream",
     "text": [
      " 3\n",
      " 9\n",
      " 1 2 3 4 5 6 7 8 9\n"
     ]
    },
    {
     "name": "stdout",
     "output_type": "stream",
     "text": [
      "5\n",
      "1 2 3 4 5\n"
     ]
    },
    {
     "name": "stdin",
     "output_type": "stream",
     "text": [
      " 9\n",
      " 9 8 7 6 5 4 3 2 1\n"
     ]
    },
    {
     "name": "stdout",
     "output_type": "stream",
     "text": [
      "5\n",
      "9 8 7 6 5\n"
     ]
    },
    {
     "name": "stdin",
     "output_type": "stream",
     "text": [
      " 23\n",
      " 23 41 13 22 -3 24 -31 -11 -8 -7\n",
      " 3 5 103 211 -311 -45 -67 -73 -81 -99\n",
      " -33 24 56\n"
     ]
    },
    {
     "name": "stdout",
     "output_type": "stream",
     "text": [
      "12\n",
      "23 23 22 22 13 3 5 5 3 -3\n",
      "-7 -3\n"
     ]
    }
   ],
   "source": [
    "import heapq\n",
    "\n",
    "\n",
    "def get_medians(array, m):\n",
    "    if m == 1:\n",
    "        return [array[0]]\n",
    "    a, b = max(array[0], array[1]), min(array[0], array[1])\n",
    "    min_heap = [a]  # 중앙값 이상\n",
    "    max_heap = [-b]  # 중앙값 미만\n",
    "    medians = [array[0]]\n",
    "    for i in range(3, m + 1):\n",
    "        x = array[i - 1]\n",
    "        if i % 2 == 1:\n",
    "            if x > min_heap[0]:\n",
    "                heapq.heappush(min_heap, x)\n",
    "                medians.append(min_heap[0])\n",
    "            elif x < -max_heap[0]:\n",
    "                heapq.heappush(min_heap, -heapq.heappop(max_heap))\n",
    "                heapq.heappush(max_heap, -x)\n",
    "                medians.append(min_heap[0])\n",
    "            else:\n",
    "                heapq.heappush(min_heap, x)\n",
    "                medians.append(min_heap[0])\n",
    "        else:\n",
    "            if x > min_heap[0]:\n",
    "                heapq.heappush(max_heap, -heapq.heappop(min_heap))\n",
    "                heapq.heappush(min_heap, x)\n",
    "            elif x < -max_heap[0]:\n",
    "                heapq.heappush(max_heap, -x)\n",
    "            else:\n",
    "                heapq.heappush(max_heap, -x)\n",
    "    return medians\n",
    "\n",
    "\n",
    "def solve_testcase():\n",
    "    M = int(input())\n",
    "    array = []\n",
    "    k = M // 10\n",
    "    if M % 10 != 0:\n",
    "        k += 1\n",
    "    for _ in range(k):\n",
    "        sub_array = list(map(int, input().split()))\n",
    "        array.extend(sub_array)\n",
    "    medians = get_medians(array, M)\n",
    "    num_medians = M // 2 + 1\n",
    "    print(num_medians)\n",
    "    if num_medians % 10 == 0:\n",
    "        for i in range(num_medians // 10):\n",
    "            print(*medians[10 * i : 10 * (i + 1)])\n",
    "    else:\n",
    "        i = -1\n",
    "        for i in range(num_medians // 10):\n",
    "            print(*medians[10 * i : 10 * (i + 1)])\n",
    "        print(*medians[10 * (i + 1) :])\n",
    "\n",
    "\n",
    "def solution():\n",
    "    T = int(input())\n",
    "    for _ in range(T):\n",
    "        solve_testcase()\n",
    "\n",
    "\n",
    "solution()\n",
    "\n",
    "# input\n",
    "# 3\n",
    "# 9\n",
    "# 1 2 3 4 5 6 7 8 9\n",
    "# 9\n",
    "# 9 8 7 6 5 4 3 2 1\n",
    "# 23\n",
    "# 23 41 13 22 -3 24 -31 -11 -8 -7\n",
    "# 3 5 103 211 -311 -45 -67 -73 -81 -99\n",
    "# -33 24 56"
   ]
  },
  {
   "cell_type": "code",
   "execution_count": null,
   "id": "97a7d054-9947-49c7-895e-c55007b38688",
   "metadata": {},
   "outputs": [],
   "source": []
  }
 ],
 "metadata": {
  "kernelspec": {
   "display_name": "Python 3 (ipykernel)",
   "language": "python",
   "name": "python3"
  },
  "language_info": {
   "codemirror_mode": {
    "name": "ipython",
    "version": 3
   },
   "file_extension": ".py",
   "mimetype": "text/x-python",
   "name": "python",
   "nbconvert_exporter": "python",
   "pygments_lexer": "ipython3",
   "version": "3.8.11"
  }
 },
 "nbformat": 4,
 "nbformat_minor": 5
}
