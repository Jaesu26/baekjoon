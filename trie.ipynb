{
 "cells": [
  {
   "cell_type": "markdown",
   "id": "e5403ee0-5fc7-495d-adbb-972311e4a705",
   "metadata": {},
   "source": [
    "# 트라이 (Trie)"
   ]
  },
  {
   "cell_type": "markdown",
   "id": "465ecd01-467f-4ebb-897b-43a2b57d9dc9",
   "metadata": {},
   "source": [
    "`-` `트라이(trie)`: https://en.wikipedia.org/wiki/Trie"
   ]
  },
  {
   "cell_type": "markdown",
   "id": "b16bd5e6-4462-4012-a957-644f21be3cce",
   "metadata": {},
   "source": [
    "## 전설\n",
    "\n",
    "- 문제 출처: [백준 19585번](https://www.acmicpc.net/problem/19585)"
   ]
  },
  {
   "cell_type": "markdown",
   "id": "b3f1260f-4990-4fd6-a438-bd03e7f242d1",
   "metadata": {},
   "source": [
    "`-` 단순하게 생각하면 팀명에 대해 모든 색상을 순회하면서 해당 색상으로 시작하는지 판단하고 나머지가 닉네임인지 판단하면 된다\n",
    "\n",
    "`-` 그런데 이렇게 하면 최악의 경우 하나의 팀명에 대해 모든 색상을 순회해야 한다\n",
    "\n",
    "`-` 팀명이 색상으로 시작하는지 판단하려면 인덱싱을 해야하는데 이는 색상의 길이를 $L_c$라고 할 때 $O(L_c)$의 시간 복잡도를 가진다\n",
    "\n",
    "`-` 이를 모든 색상에 대해 반복해야 하므로 $O(L_c C)$이고 모든 팀에 대해 수행하는 것은 $O(QL_cC)$이다\n",
    "\n",
    "`-` $Q$는 최대 $20000$, $L_c$는 최대 $1000$, $C$는 최대 $4000$이므로 제한 시간 안에 통과할 수 없다\n",
    "\n",
    "`-` 팀명을 한 번만 훑어서 색상으로 시작하는지 판단할 수 있어야 한다\n",
    "\n",
    "`-` 색상 딕셔너리를 만들 때 단순히 딕셔너리에 해당 색상을 넣지 않고 다른 방법을 사용할 것이다\n",
    "\n",
    "`-` 색상의 $i$번째 문자를 $s_i$라고 할 때 $s_1$부터 시작하여 딕셔너리에 접근할 것이다\n",
    "\n",
    "`-` 딕셔너리 $d$에 $s_1$이 있는지 판단한다\n",
    "\n",
    "`-` 있다면 $d[s_1]$으로 가서 $s_2$에 대해 위의 작업을 반복한다\n",
    "\n",
    "`-` 만약 없다면 $d[s_1]$을 빈 딕셔너리로 초기화한다\n",
    "\n",
    "`-` 위의 자료구조를 활용하면 팀명을 한 번만 훑어서 색상으로 시작하는지 판단할 수 있고 이는 $O(L_c)$이다\n",
    "\n",
    "`-` 그런데 색상으로 시작하는지 판단하는게 끝이 아니고 닉네임으로 끝나는지도 판단해야 한다\n",
    "\n",
    "`-` 닉네임에 대해 위의 방법을 적용하여 위의 자료구조를 만들자\n",
    "\n",
    "`-` 단, 닉네임으로 끝나는지 판단하는 것이므로 닉네임은 뒤에서부터 시작해야 한다\n",
    "\n",
    "`-` 이제 길이가 $L_q$인 팀명이 입력으로 들어온다고 해보자\n",
    "\n",
    "`-` 팀명을 앞에서부터 한 번 훑어서 색상으로 시작하는지 판단하고 만약 색상으로 시작한다면 해당 색상의 길이를 색상 집합에 넣는다\n",
    "\n",
    "`-` 팀명을 뒤에서부터 한 번 훑어서 닉네임으로 끝나는지 판단하고 만약 닉네임으로 끝난다면 해당 닉네임의 길이를 $L_n$이라고 하자\n",
    "\n",
    "`-` 색상 집합에 $L_q - L_n$이 존재한다면 해당 팀명은 색상으로 시작하고 이어서 닉네임으로 끝나는 것이므로 전설에 따라 대회에서 수상할 수 있다\n",
    "\n",
    "`-` 색상 트라이를 만드는데 $O(L_c C)$이고 닉네임의 개수를 $N$이라 하면 닉네임 트라이를 만드는데 $O(L_n N)$이다\n",
    "\n",
    "`-` 팀명이 색상으로 시작하는지 판단하는데 $O(L_c)$이며 닉네임으로 끝나는지 판단하는데 $O(L_n)$으로 둘을 합쳐 최대 $L_q$의 길이를 탐색하므로 합쳐서 $O(L_q)$이다\n",
    "\n",
    "`-` 팀이 최대 $Q$개이므로 전체 알고리즘의 시간 복잡도는 $O(QL_q + L_c C + L_n N)$이다\n",
    "\n",
    "`-` 이 문제를 해결하기 위해 사용한 자료구조를 `트라이(trie)`라고 한다"
   ]
  },
  {
   "cell_type": "code",
   "execution_count": 23,
   "id": "a8b0acd4-c8c3-4411-a132-ebf2977407ba",
   "metadata": {},
   "outputs": [
    {
     "name": "stdin",
     "output_type": "stream",
     "text": [
      " 3 1\n",
      " red\n",
      " re\n",
      " r\n",
      " shift\n",
      " 3\n",
      " redshift\n"
     ]
    },
    {
     "name": "stdout",
     "output_type": "stream",
     "text": [
      "Yes\n"
     ]
    },
    {
     "name": "stdin",
     "output_type": "stream",
     "text": [
      " reshift\n"
     ]
    },
    {
     "name": "stdout",
     "output_type": "stream",
     "text": [
      "Yes\n"
     ]
    },
    {
     "name": "stdin",
     "output_type": "stream",
     "text": [
      " rshift\n"
     ]
    },
    {
     "name": "stdout",
     "output_type": "stream",
     "text": [
      "Yes\n"
     ]
    }
   ],
   "source": [
    "def make_trie(strings):\n",
    "    trie = {}\n",
    "    for string in strings:\n",
    "        temp = trie\n",
    "        n = len(string)\n",
    "        for i, s in enumerate(string):\n",
    "            if s not in temp:\n",
    "                temp[s] = {}\n",
    "            temp = temp[s]\n",
    "            if i == n - 1:\n",
    "                temp[EXIST] = True\n",
    "    return trie\n",
    "\n",
    "\n",
    "def check_legend(team_name, color_trie, nickname_trie):\n",
    "    n = len(team_name)\n",
    "    color_set = set()\n",
    "    color_temp = color_trie\n",
    "    nickname_temp = nickname_trie\n",
    "    for length, s in enumerate(team_name, start=1):\n",
    "        if s not in color_temp:\n",
    "            break\n",
    "        color_temp = color_temp[s]\n",
    "        if EXIST in color_temp:\n",
    "            color_set.add(length)\n",
    "    for length, s in enumerate(team_name[::-1], start=1):\n",
    "        if s not in nickname_temp:\n",
    "            break\n",
    "        nickname_temp = nickname_temp[s]\n",
    "        if EXIST not in nickname_temp:\n",
    "            continue\n",
    "        color_length = n - length\n",
    "        if color_length in color_set:\n",
    "            return \"Yes\"\n",
    "    return \"No\"\n",
    "        \n",
    "\n",
    "def solution():\n",
    "    global EXIST\n",
    "    EXIST = -1\n",
    "    C, N = map(int, input().split())\n",
    "    colors = [input() for _ in range(C)]\n",
    "    color_trie = make_trie(colors)\n",
    "    nicknames = [input()[::-1] for _ in range(N)]\n",
    "    nickname_trie = make_trie(nicknames)\n",
    "    Q = int(input())\n",
    "    for  _ in range(Q):\n",
    "        team_name = input()\n",
    "        answer = check_legend(team_name, color_trie, nickname_trie)\n",
    "        print(answer)\n",
    "\n",
    "\n",
    "solution()\n",
    "\n",
    "# input\n",
    "# 4 3\n",
    "# red\n",
    "# blue\n",
    "# purple\n",
    "# orange\n",
    "# shift\n",
    "# joker\n",
    "# noon\n",
    "# 5\n",
    "# redshift\n",
    "# bluejoker\n",
    "# purplenoon\n",
    "# orangeshift\n",
    "# whiteblue"
   ]
  },
  {
   "cell_type": "code",
   "execution_count": null,
   "id": "a541ddd0-656e-44f8-ad01-d49a15f0628d",
   "metadata": {},
   "outputs": [],
   "source": []
  }
 ],
 "metadata": {
  "kernelspec": {
   "display_name": "Python 3 (ipykernel)",
   "language": "python",
   "name": "python3"
  },
  "language_info": {
   "codemirror_mode": {
    "name": "ipython",
    "version": 3
   },
   "file_extension": ".py",
   "mimetype": "text/x-python",
   "name": "python",
   "nbconvert_exporter": "python",
   "pygments_lexer": "ipython3",
   "version": "3.8.11"
  }
 },
 "nbformat": 4,
 "nbformat_minor": 5
}
