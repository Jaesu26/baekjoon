{
 "cells": [
  {
   "cell_type": "markdown",
   "id": "c7eabb13-a6ea-4bc5-82fc-d97f33217658",
   "metadata": {},
   "source": [
    "# 큐 (Queue)"
   ]
  },
  {
   "cell_type": "markdown",
   "id": "e9874d81-6d84-4164-95ab-e85408a2c19d",
   "metadata": {},
   "source": [
    "## 큐 2\n",
    "\n",
    "- 문제 출처: [백준 18258번](https://www.acmicpc.net/problem/18258)"
   ]
  },
  {
   "cell_type": "markdown",
   "id": "89524796-0af7-4d49-98a5-91c9d8d88954",
   "metadata": {},
   "source": [
    "`-` 큐(queue)는 선입선출(=후입선출) 구조임\n",
    "\n",
    "`-` 양쪽이 뚫린 원기둥에서 한쪽 입구에 push하면 반대쪽 입구에서 pop된다\n",
    "\n",
    "`-` collections의 deque를 import하여 사용한다\n",
    "\n",
    "`-` 코드를 보면 `input_ == 'pop'`이 아니라 `input_[:2] == 'po'`라고 한것을 볼 수 있음 ---> 왜 그럼? 그냥 `input_ == 'pop'`하지...\n",
    "\n",
    "`-` input이 정확히 'pop'이 아니라 개행 문자가 포함되어 'pop '이면 실행이 안됨 (아님 말고) ---> 그래서 `input_[:2] == 'po'`라고 함"
   ]
  },
  {
   "cell_type": "code",
   "execution_count": 5,
   "id": "d1fbf585-75d3-4300-8d8a-13434868eca1",
   "metadata": {},
   "outputs": [
    {
     "name": "stdin",
     "output_type": "stream",
     "text": [
      " 15\n",
      " push 1\n",
      " push 2\n",
      " front\n"
     ]
    },
    {
     "name": "stdout",
     "output_type": "stream",
     "text": [
      "1\n"
     ]
    },
    {
     "name": "stdin",
     "output_type": "stream",
     "text": [
      " back\n"
     ]
    },
    {
     "name": "stdout",
     "output_type": "stream",
     "text": [
      "2\n"
     ]
    },
    {
     "name": "stdin",
     "output_type": "stream",
     "text": [
      " size\n"
     ]
    },
    {
     "name": "stdout",
     "output_type": "stream",
     "text": [
      "2\n"
     ]
    },
    {
     "name": "stdin",
     "output_type": "stream",
     "text": [
      " empty\n"
     ]
    },
    {
     "name": "stdout",
     "output_type": "stream",
     "text": [
      "0\n"
     ]
    },
    {
     "name": "stdin",
     "output_type": "stream",
     "text": [
      " pop\n"
     ]
    },
    {
     "name": "stdout",
     "output_type": "stream",
     "text": [
      "1\n"
     ]
    },
    {
     "name": "stdin",
     "output_type": "stream",
     "text": [
      " pop\n"
     ]
    },
    {
     "name": "stdout",
     "output_type": "stream",
     "text": [
      "2\n"
     ]
    },
    {
     "name": "stdin",
     "output_type": "stream",
     "text": [
      " pop\n"
     ]
    },
    {
     "name": "stdout",
     "output_type": "stream",
     "text": [
      "-1\n"
     ]
    },
    {
     "name": "stdin",
     "output_type": "stream",
     "text": [
      " size\n"
     ]
    },
    {
     "name": "stdout",
     "output_type": "stream",
     "text": [
      "0\n"
     ]
    },
    {
     "name": "stdin",
     "output_type": "stream",
     "text": [
      " empty\n"
     ]
    },
    {
     "name": "stdout",
     "output_type": "stream",
     "text": [
      "1\n"
     ]
    },
    {
     "name": "stdin",
     "output_type": "stream",
     "text": [
      " pop\n"
     ]
    },
    {
     "name": "stdout",
     "output_type": "stream",
     "text": [
      "-1\n"
     ]
    },
    {
     "name": "stdin",
     "output_type": "stream",
     "text": [
      " push 3\n",
      " empty\n"
     ]
    },
    {
     "name": "stdout",
     "output_type": "stream",
     "text": [
      "0\n"
     ]
    },
    {
     "name": "stdin",
     "output_type": "stream",
     "text": [
      " front\n"
     ]
    },
    {
     "name": "stdout",
     "output_type": "stream",
     "text": [
      "3\n"
     ]
    }
   ],
   "source": [
    "from collections import deque\n",
    "\n",
    "N = int(input())\n",
    "queue = deque()  # queue 생성\n",
    "for _ in range(N):\n",
    "    input_ = input()\n",
    "    if input_[:2] == 'pu':\n",
    "        data = int(input_.split()[1])\n",
    "        queue.append(data)\n",
    "    elif input_[:2] == 'po':\n",
    "        if queue:\n",
    "            print(queue.popleft())\n",
    "        else:\n",
    "            print(-1)\n",
    "    elif input_[:2] == 'si':\n",
    "        print(len(queue))\n",
    "    elif input_[:2] == 'em':\n",
    "        if queue:\n",
    "            print(0)\n",
    "        else:\n",
    "            print(1)\n",
    "    elif input_[:2] == 'fr':\n",
    "        if queue:\n",
    "            print(queue[0])\n",
    "        else:\n",
    "            print(-1)\n",
    "    elif input_[:2] == 'ba':\n",
    "        if queue:\n",
    "            print(queue[-1])\n",
    "        else:\n",
    "            print(-1)      \n",
    "\n",
    "# input \n",
    "# 15\n",
    "# push 1\n",
    "# push 2\n",
    "# front\n",
    "# back\n",
    "# size\n",
    "# empty\n",
    "# pop\n",
    "# pop\n",
    "# pop\n",
    "# size\n",
    "# empty\n",
    "# pop\n",
    "# push 3\n",
    "# empty\n",
    "# front"
   ]
  },
  {
   "cell_type": "markdown",
   "id": "bcaa11f2-abc1-4af0-97b9-5d4d8951910f",
   "metadata": {},
   "source": [
    "## 카드 2\n",
    "\n",
    "- 문제 출처: [백준 2164번](https://www.acmicpc.net/problem/2164)"
   ]
  },
  {
   "cell_type": "markdown",
   "id": "bef09a24-22ce-40e1-a0ac-246fc6c3909c",
   "metadata": {},
   "source": [
    "`-` 큐(queue) 자료구조를 활용하면 됨"
   ]
  },
  {
   "cell_type": "code",
   "execution_count": 26,
   "id": "2b31c6ba-8e7e-465b-8a08-802b56a73b3b",
   "metadata": {},
   "outputs": [
    {
     "name": "stdin",
     "output_type": "stream",
     "text": [
      " 6\n"
     ]
    },
    {
     "name": "stdout",
     "output_type": "stream",
     "text": [
      "4\n"
     ]
    }
   ],
   "source": [
    "from collections import deque\n",
    "\n",
    "N = int(input())\n",
    "queue = deque(list(range(1, N + 1)))\n",
    "while len(queue) > 1:\n",
    "    queue.popleft()  # 맨 앞에 있는 원소를 버림\n",
    "    queue.append(queue.popleft())  # 맨 앞에 있는 원소를 맨 뒤로 보냄\n",
    "print(queue[0])\n",
    "\n",
    "# input\n",
    "# 6"
   ]
  },
  {
   "cell_type": "markdown",
   "id": "9e1a1068-f22f-4926-9b53-289c25991dd0",
   "metadata": {},
   "source": [
    "## 요세푸스 문제 0\n",
    "\n",
    "- 문제 출처: [백준 11866번](https://www.acmicpc.net/problem/11866)"
   ]
  },
  {
   "cell_type": "markdown",
   "id": "e80f245f-7b07-4304-b8a2-f018c270bfd2",
   "metadata": {},
   "source": [
    "`-` $1 \\sim n$번째 값을 줄세우고 $k$번째 이전의 값을 마지막 인덱스에 이어붙인 후 $k$번째 값을 제거함\n",
    "\n",
    "`-` 이를 모든 원소를 제거할 때까지 반복함\n",
    "\n",
    "`-` 헷갈리니 예시를 들어보자\n",
    "\n",
    "`-` $1, 2, 3, 4, 5, 6, 7$이 있고 $3$번째 데이터를 제거한다고 하자\n",
    "\n",
    "`-` $(1, 2), 3(\\text{제거}), 4, 5, 6, 7$ ---> $3$번째 앞의 데이터(=$1, 2$)를 $4, 5, 6, 7$ 뒤에 이어 붙이고 $3$을 제거함\n",
    "\n",
    "`-` `queue.append(queue.popleft())`를 $k-1$번 반복하고 $k$번째는 `queue.popleft()`하면 된다\n",
    "\n",
    "`-` $(4, 5), 6(\\text{제거}), 7, 1, 2$ ---> 또 다시 $3$번째 앞의 데이터(=$4, 5$)를 $7, 1, 2$ 뒤에 이어 붙이고 $6$을 제거함\n",
    "\n",
    "`-` 이를 계속하면 되며 남은 원소를 $m$개라 할 때 $m$이 $3$보다 작어지면 `3 % m - 1`번째 인덱스의 값을 제거하고 앞의 데이터들을 뒤에 이어붙이면 됨"
   ]
  },
  {
   "cell_type": "code",
   "execution_count": 1,
   "id": "0fdcb226-7eb5-4a34-90c8-6e62c8416557",
   "metadata": {},
   "outputs": [
    {
     "name": "stdin",
     "output_type": "stream",
     "text": [
      " 7 3\n"
     ]
    },
    {
     "name": "stdout",
     "output_type": "stream",
     "text": [
      "<3, 6, 2, 7, 5, 1, 4>"
     ]
    }
   ],
   "source": [
    "from collections import deque\n",
    "\n",
    "N, K = map(int, input().split())\n",
    "queue = deque(list(range(1, N + 1)))\n",
    "death_seq = []\n",
    "while queue:  # queue에 원소가 있을때까지\n",
    "    if len(queue) >= K:\n",
    "        for _ in range(K - 1):\n",
    "            queue.append(queue.popleft())  # k번째 앞의 데이터를 맨 뒤에 이어 붙임\n",
    "        death_seq.append(queue.popleft())  # k번째 데이터 삭제^^\n",
    "    else:\n",
    "        m = (K % len(queue)) - 1\n",
    "        if m == -1:  # 만약 -1이면 마지막 인덱스를 의미하므로 m = len(queue) - 1로 바꿈\n",
    "            m = len(queue) - 1\n",
    "        for __ in range(m):\n",
    "            queue.append(queue.popleft())  # k번째 앞의 데이터를 맨 뒤에 이어 붙임\n",
    "        death_seq.append(queue.popleft())  # k번째 데이터 삭제^^\n",
    "print('<', end='')  # death_seq 출력\n",
    "for k in range(N):\n",
    "    if k != (N - 1):\n",
    "        print(str(death_seq[k]) + ', ', end='')\n",
    "    else:\n",
    "        print(str(death_seq[k]), end='')\n",
    "print('>', end='')\n",
    "\n",
    "# input\n",
    "# 7 3"
   ]
  },
  {
   "cell_type": "markdown",
   "id": "5fe26f48-0ad1-49db-a305-4effdcf033d2",
   "metadata": {},
   "source": [
    "## 프린터 큐\n",
    "\n",
    "- 문제 출처: [백준 1966번](https://www.acmicpc.net/problem/1966)"
   ]
  },
  {
   "cell_type": "markdown",
   "id": "cf189a64-6484-4348-a1d9-74c34553d6d7",
   "metadata": {},
   "source": [
    "`-` 중요도가 같더라도 순서에 따라 이름이 다르므로 큐 구조를 2개 만듦 ---> 하나는 중요도 담는 용도 나머지는 이름 저장 용도\n",
    "\n",
    "`-` $\\max$함수를 통해 인쇄 조건을 판단\n",
    "\n",
    "`-` 인쇄해도 되면 중요도 큐와 이름 큐에서 각각 popleft함\n",
    "\n",
    "`-` cnt값에 $+1$ ---> 만약 우리가 궁금해한 인덱스이면 $cnt$를 출력\n",
    "\n",
    "`-` 인쇄 조건에 맞지 않으면 popleft한 중요도를 다시 append하고 이름 담는 큐에서도 popleft 하고 apppend한다"
   ]
  },
  {
   "cell_type": "code",
   "execution_count": 85,
   "id": "549a4920-c5cb-4bfc-9fc7-b2dbb36b2db1",
   "metadata": {},
   "outputs": [
    {
     "name": "stdin",
     "output_type": "stream",
     "text": [
      " 3\n",
      " 1 0\n",
      " 5\n"
     ]
    },
    {
     "name": "stdout",
     "output_type": "stream",
     "text": [
      "1\n"
     ]
    },
    {
     "name": "stdin",
     "output_type": "stream",
     "text": [
      " 4 2\n",
      " 1 2 3 4\n"
     ]
    },
    {
     "name": "stdout",
     "output_type": "stream",
     "text": [
      "2\n"
     ]
    },
    {
     "name": "stdin",
     "output_type": "stream",
     "text": [
      " 6 0\n",
      " 1 1 9 1 1 1\n"
     ]
    },
    {
     "name": "stdout",
     "output_type": "stream",
     "text": [
      "5\n"
     ]
    }
   ],
   "source": [
    "from collections import deque\n",
    "\n",
    "T = int(input())\n",
    "for _ in range(T):\n",
    "    N, M = map(int, input().split())\n",
    "    queue1 = deque(list(map(int, input().split())))\n",
    "    queue2 = deque(['x_' + str(i) for i in range(N)])\n",
    "    cnt = 1\n",
    "    while queue1:\n",
    "        tmp1 = queue1.popleft()\n",
    "        if queue1:\n",
    "            if tmp1 >= max(queue1):\n",
    "                tmp2 = queue2.popleft()\n",
    "                if tmp2[2:] == str(M):\n",
    "                    print(cnt)\n",
    "                    break\n",
    "                cnt += 1\n",
    "            else:\n",
    "                queue1.append(tmp1)\n",
    "                queue2.append(queue2.popleft())\n",
    "        else:\n",
    "            print(cnt)\n",
    "\n",
    "# input\n",
    "# 3\n",
    "# 1 0\n",
    "# 5\n",
    "# 4 2\n",
    "# 1 2 3 4\n",
    "# 6 0\n",
    "# 1 1 9 1 1 1"
   ]
  },
  {
   "cell_type": "markdown",
   "id": "ccda0f29-f9d3-4880-8a6f-d7345c8e44fb",
   "metadata": {},
   "source": [
    "`-` 위 코드에서 아쉬운 점은 중요도와 이름 정보를 담기 위해 2가지 queue를 만들었다는 것임\n",
    "\n",
    "`-` 이름 정보는 인덱스임 ---> 중요도와 인덱스를 한번에 queue에 담고 싶음 ---> enumerate 함수를 사용해서 할 수 있음"
   ]
  },
  {
   "cell_type": "code",
   "execution_count": 95,
   "id": "0fdb9b14-1fa6-47ff-9fcf-ce72dfde346f",
   "metadata": {},
   "outputs": [
    {
     "name": "stdin",
     "output_type": "stream",
     "text": [
      " 3\n",
      " 1 0\n",
      " 5\n"
     ]
    },
    {
     "name": "stdout",
     "output_type": "stream",
     "text": [
      "1\n"
     ]
    },
    {
     "name": "stdin",
     "output_type": "stream",
     "text": [
      " 4 2\n",
      " 1 2 3 4\n"
     ]
    },
    {
     "name": "stdout",
     "output_type": "stream",
     "text": [
      "2\n"
     ]
    },
    {
     "name": "stdin",
     "output_type": "stream",
     "text": [
      " 6 0\n",
      " 1 1 9 1 1 1\n"
     ]
    },
    {
     "name": "stdout",
     "output_type": "stream",
     "text": [
      "5\n"
     ]
    }
   ],
   "source": [
    "from collections import deque\n",
    "\n",
    "T = int(input())\n",
    "for _ in range(T):\n",
    "    N, M = map(int, input().split())\n",
    "    queue = deque([*enumerate(map(int, input().split()))])  # 인덱스와 중요도를 하나의 queue에 담음\n",
    "    cnt = 1\n",
    "    while queue:\n",
    "        tmp = queue.popleft()\n",
    "        if queue:\n",
    "            if tmp[1] >= max(list(zip(*queue))[1]):  # zip 함수를 통해 중요도만 추출하여 최대값과 비교\n",
    "                if tmp[0] == M:\n",
    "                    print(cnt)\n",
    "                    break\n",
    "                cnt += 1\n",
    "            else:\n",
    "                queue.append(tmp)\n",
    "        else:\n",
    "            print(cnt)\n",
    "\n",
    "# input은 위와 동일함"
   ]
  },
  {
   "cell_type": "markdown",
   "id": "ee41d928-33ba-4531-afc8-ccd666419101",
   "metadata": {},
   "source": [
    "## 요세푸스 문제\n",
    "\n",
    "- 문제 출처: [백준 1158번](https://www.acmicpc.net/problem/1158)"
   ]
  },
  {
   "cell_type": "markdown",
   "id": "bef3921f-140b-4af0-8a79-9183d6b31b30",
   "metadata": {},
   "source": [
    "`-` 사람이 원을 이루며 앉아있으므로 $1$번 사람은 $N$번의 오른쪽에 존재한다\n",
    "\n",
    "`-` 이를 배열상으로 나타내면 $[1, \\dots, N]$이지만 원 형태이므로 $[2, \\dots, N, 1]$과 동일한 것이다\n",
    "\n",
    "`-` 제거 방식으로 일관적으로 하기 위해 제거하는 사람을 항상 첫 번째에 놓도록 하겠다\n",
    "\n",
    "`-` 처음에 제거하는 사람은 첫 번째 사람($1$번) 기준 $K$번째 사람이다\n",
    "\n",
    "`-` 사람들이 원을 이루고 있으므로 배열의 첫 번째 원소를 배열의 마지막 위치에 옮겨도 실질적인 위치는 그대로다\n",
    "\n",
    "`-` 즉, $K$번째 이전 사람은 배열에 마지막에 위치시키고 $K$번째 사람이 첫 번째에 위치하도록 한 후 삭제한다\n",
    "\n",
    "`-` 이를 모든 사람들이 제거될 때까지 반복한다\n",
    "\n",
    "`-` 만약 남아있는 사람 $n$이 $K$보다 작다면 $K$를 $n$으로 나눈 나머지를 $x$라고 할 때 $K$ 대신에 $x$를 사용하면 된다 (단, $x$가 $0$인 경우 마지막 사람을 제거)  "
   ]
  },
  {
   "cell_type": "code",
   "execution_count": 1,
   "id": "6d00290f-15ca-4bf2-84b3-c4a1696c03e8",
   "metadata": {},
   "outputs": [
    {
     "name": "stdin",
     "output_type": "stream",
     "text": [
      " 7 3\n"
     ]
    },
    {
     "name": "stdout",
     "output_type": "stream",
     "text": [
      "<3, 6, 2, 7, 5, 1, 4>\n"
     ]
    }
   ],
   "source": [
    "from collections import deque\n",
    "\n",
    "\n",
    "def solution():\n",
    "    N, K = map(int, input().split())\n",
    "    people = deque(range(1, N + 1))\n",
    "    permutation = []\n",
    "    while people:\n",
    "        n = len(people)\n",
    "        k = K % n - 1  # n > K인 경우 K % n = K \n",
    "        delete_number = people[k]\n",
    "        permutation.append(delete_number)\n",
    "        while True:\n",
    "            p = people.popleft()\n",
    "            if p == delete_number:\n",
    "                break\n",
    "            people.append(p)\n",
    "    print(\"\".join([\"<\", \", \".join(str(p) for p in permutation), \">\"]))\n",
    "\n",
    "\n",
    "solution()\n",
    "\n",
    "# input\n",
    "# 7 3"
   ]
  },
  {
   "cell_type": "code",
   "execution_count": null,
   "id": "a6e75b9a-5956-466a-b678-f403f599cdd3",
   "metadata": {},
   "outputs": [],
   "source": []
  }
 ],
 "metadata": {
  "kernelspec": {
   "display_name": "Python 3 (ipykernel)",
   "language": "python",
   "name": "python3"
  },
  "language_info": {
   "codemirror_mode": {
    "name": "ipython",
    "version": 3
   },
   "file_extension": ".py",
   "mimetype": "text/x-python",
   "name": "python",
   "nbconvert_exporter": "python",
   "pygments_lexer": "ipython3",
   "version": "3.8.11"
  }
 },
 "nbformat": 4,
 "nbformat_minor": 5
}
