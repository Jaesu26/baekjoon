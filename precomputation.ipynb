{
 "cells": [
  {
   "cell_type": "markdown",
   "id": "2b8e0233-73a0-4a64-8696-5c4721aa711d",
   "metadata": {},
   "source": [
    "# 런타임 전의 전처리 (Precomputation)"
   ]
  },
  {
   "cell_type": "markdown",
   "id": "cfc48259-a5a1-42c5-802e-4abd16b8f51c",
   "metadata": {},
   "source": [
    "`-` 필요한 것을 런타임 전에 미리 하드 코딩 하고 이를 사용하여 문제를 해결"
   ]
  },
  {
   "cell_type": "markdown",
   "id": "3212c619-072c-4dcf-a4a9-ddcb2fd59b12",
   "metadata": {},
   "source": [
    "## 홀수와 짝수의 대결\n",
    "\n",
    "- 문제 출처: [백준 18821번](https://www.acmicpc.net/problem/18821)"
   ]
  },
  {
   "cell_type": "markdown",
   "id": "c6da7bbe-24dc-44f8-8dfd-6697fb68bd37",
   "metadata": {},
   "source": [
    "`-` `런타임 전의 전처리`라는 태그를 처음 보아 신기해서 관련 문제를 찾다 이 문제를 발견했다\n",
    "\n",
    "`-` 처음엔 스크롤을 끝까지 내리지 않아서 \"이 문제 뭐지?\"라고 생각했다\n",
    "\n",
    "`-` 그런데 채점 소제목 아래에 진짜 문제가 적혀 있었다 (이때 어이 없어서 겁나 웃었음)\n",
    "\n",
    "`-` 내가 생각했던 문제는 아니라 풀 생각이 없어서 질문 검색을 봤는데 엄청난 힌트를 봤다\n",
    "\n",
    "`-` 정답을 맞힌 사람들의 코드 길이를 보면 매우 길다\n",
    "\n",
    "`-` 진짜 문제를 발견하기 전에 나도 봤는데 \"왜 저렇게 길지?\"라고 생각만 하고 넘겼다\n",
    "\n",
    "`-` 이제 진짜 문제로 돌아가자\n",
    "\n",
    "`-` $1$부터 $n$까지 자연수 중 홀수가 짝수보다 더 많은지 그렇지 않은지 판단하는 문제이다\n",
    "\n",
    "`-` 여기서의 짝수, 홀수는 일반적인 정의와는 다르고 아래와 같다\n",
    "\n",
    "`-` 어떤 수 $n$을 소인수 분해 했을 때 소수 인자의 개수가 짝수라면 홀수이고 홀수라면 짝수이다 ($1$은 홀수이다)\n",
    "\n",
    "`-` 예시로 $4$는 소수 $2$개의 곱이므로 소수 인자의 개수가 짝수이니 홀수이다\n",
    "\n",
    "`-` 소인수를 찾으려면 $\\left\\lceil\\sqrt{n}\\right\\rceil$까지는 탐색해야 한다\n",
    "\n",
    "`-` 그런데 테스트 케이스의 수가 최대 $1000000$이고 $n$도 최대 $10^9$이라 정직하게 수행하면 시간 초과이다\n",
    "\n",
    "`-` 더 빠른 소인수 분해 방식을 찾아야 한다\n",
    "\n",
    "`-` 그런데 이게 문제가 아니다\n",
    "\n",
    "`-` $1$부터 $n$까지의 자연수 중 홀수가 짝수보다 더 많은지 그렇지 않은지 판단해야 하므로 $1$부터 $n$까지 각 수의 소인수 개수를 모두 알고 있어야 한다\n",
    "\n",
    "`-` 소인수 분해를 수행하는데 상수 시간이 걸린다 하더라도 최악의 경우 $10^9$까지 소인수의 개수를 알아야 하므로 시간 초과이다 \n",
    "\n",
    "`-` 이 문제의 태그에 `런타임 전의 전처리`가 있는 이유가 드러났다\n",
    "\n",
    "`-` $1$과 $10^9$사이의 소인수의 개수를 미리 계산해서 홀수인지 짝수인지 판단하면 된다\n",
    "\n",
    "`-` 그리고 홀수가 짝수보다 더 많은지 그렇지 않은지의 상태가 변하는 지점만 기록하자\n",
    "\n",
    "`-` 어차피 출력은 홀수가 짝수보다 더 많냐 아니냐만 O, E로 하면 되니 개수는 필요없고 상태가 변하는 지점만 알면 된다\n",
    "\n",
    "`-` 참고로 $1$부터 $10^9$까지 소인수의 개수를 구할 때 단순 반복문 돌리면 족히 하루는 걸린다\n",
    "\n",
    "`-` 에라토스테네스의 체를 활용하여 임의의 자연수가 소수로 나눠지면 해당 소인수를 가지는 것이다\n",
    "\n",
    "`-` 이때 해당 소수를 여러개 소인수로 가질 수 있으므로 소수로 나눌 수 있는 만큼 나눠야 한다\n",
    "\n",
    "`-` 나눈 횟수만큼 해당 자연수가 가지는 소인수의 개수에 더해주면 된다\n",
    "\n",
    "`-` 상태 변환 배열을 하드 코딩하고 주어진 입력에 맞춰 정답을 출력하면 된다\n",
    "\n",
    "`-` `런타임 전의 전처리`의 개념을 확실하게 알게 된 문제이다\n",
    "\n",
    "`-` 뒤통수를 $2$대나 맞았다 ㅋㅋㅋ"
   ]
  },
  {
   "cell_type": "code",
   "execution_count": 4,
   "id": "98548bd7-fc07-4ab6-b3ad-b3c179c0b25c",
   "metadata": {},
   "outputs": [],
   "source": [
    "from tqdm import tqdm\n",
    "\n",
    "\n",
    "def eratosthenes(n):\n",
    "    num_prime_factors = [0] * (n + 1)\n",
    "    for i in tqdm(range(2, n + 1)):\n",
    "        if num_prime_factors[i] != 0:\n",
    "            continue\n",
    "        for j in range(i, n + 1, i):\n",
    "            num = j\n",
    "            while num % i == 0:\n",
    "                num_prime_factors[j] += 1\n",
    "                num //= i\n",
    "    return num_prime_factors\n",
    "\n",
    "\n",
    "def record_state_transform(num_prime_factors):\n",
    "    n = len(num_prime_factors)\n",
    "    turns = [(1, \"E\")]\n",
    "    odd_minus_even = 1\n",
    "    for i in tqdm(range(2, n)):\n",
    "        count = num_prime_factors[i]\n",
    "        if count % 2 == 0:\n",
    "            odd_minus_even += 1\n",
    "            if odd_minus_even != 1:\n",
    "                continue\n",
    "            turns.append((i, \"E\"))\n",
    "        else:\n",
    "            odd_minus_even -= 1\n",
    "            if odd_minus_even != 0:\n",
    "                continue\n",
    "            turns.append((i, \"O\"))\n",
    "    return turns"
   ]
  },
  {
   "cell_type": "code",
   "execution_count": 5,
   "id": "680655b0-7e8b-4ccc-ba9c-94c68f150a22",
   "metadata": {},
   "outputs": [],
   "source": [
    "n = 10**9"
   ]
  },
  {
   "cell_type": "code",
   "execution_count": 6,
   "id": "08228d53-8132-46a8-9c18-780b07588ee8",
   "metadata": {},
   "outputs": [
    {
     "name": "stderr",
     "output_type": "stream",
     "text": [
      "100%|████████████████████████████████████████████████████████████████| 999999999/999999999 [34:56<00:00, 477020.32it/s]\n"
     ]
    }
   ],
   "source": [
    "num_prime_factors = eratosthenes(n)"
   ]
  },
  {
   "cell_type": "code",
   "execution_count": 44,
   "id": "9a3fc305-c794-4f9e-8a16-7f6764712a0c",
   "metadata": {},
   "outputs": [
    {
     "name": "stderr",
     "output_type": "stream",
     "text": [
      "100%|███████████████████████████████████████████████████████████████| 999999999/999999999 [08:09<00:00, 2041719.40it/s]\n"
     ]
    }
   ],
   "source": [
    "turns = record_state_transform(num_prime_factors)"
   ]
  },
  {
   "cell_type": "code",
   "execution_count": 45,
   "id": "4b6c3dc3-a8db-408c-9ca0-9ed9e1082ebe",
   "metadata": {},
   "outputs": [
    {
     "data": {
      "text/plain": [
       "274"
      ]
     },
     "execution_count": 45,
     "metadata": {},
     "output_type": "execute_result"
    }
   ],
   "source": [
    "len(turns)"
   ]
  },
  {
   "cell_type": "code",
   "execution_count": 48,
   "id": "44175305-72f8-43c6-b8d6-a1b6df4758a5",
   "metadata": {},
   "outputs": [
    {
     "name": "stdin",
     "output_type": "stream",
     "text": [
      " 1\n",
      " 906150257\n"
     ]
    },
    {
     "name": "stdout",
     "output_type": "stream",
     "text": [
      "E\n"
     ]
    }
   ],
   "source": [
    "def solve_testcase():\n",
    "    n = int(input())\n",
    "    if n == 1:\n",
    "        print(\"E\")\n",
    "        return\n",
    "    if n < 906150257:\n",
    "        print(\"O\")\n",
    "        return\n",
    "    answer = \"E\"\n",
    "    for i, status in turns:\n",
    "        if n >= i:\n",
    "            answer = status\n",
    "    print(answer)\n",
    "\n",
    "\n",
    "def solution():\n",
    "    T = int(input())\n",
    "    for _ in range(T):\n",
    "        solve_testcase()\n",
    "\n",
    "\n",
    "solution()\n",
    "\n",
    "# input\n",
    "# 1\n",
    "# 906150257"
   ]
  },
  {
   "cell_type": "markdown",
   "id": "f818ddc6-3e3e-415a-aecc-10fcb5965bfc",
   "metadata": {},
   "source": [
    "## 머리 아픈 암산은 이제 그만!\n",
    "\n",
    "- 문제 출처: [백준 25517번](https://www.acmicpc.net/problem/25517)"
   ]
  },
  {
   "cell_type": "markdown",
   "id": "d1497904-dec6-4829-8e91-9deba768799a",
   "metadata": {},
   "source": [
    "`-` 실시간으로 친구들이 제외한 정수에 대해 $1$부터 $N$까지 곱하면 시간 초과이다\n",
    "\n",
    "`-` $N!$을 미리 계산하고 친구들이 말한 정수로 나누면 된다\n",
    "\n",
    "`-` $N!$은 매우 큰 수이니 대신 $P=10^9+7$로 나눈 나머지를 계산하는 문제이다\n",
    "\n",
    "`-` $N!$을 $P$로 나눈 나머지를 친구들이 말한 정수로 단순히 나누면 안되고 모듈러 역원을 사용해야 한다\n",
    "\n",
    "`-` 친구들이 말한 정수들의 곱을 $P$로 나눈 나머지를 $a$라고 하자\n",
    "\n",
    "`-` 모듈러 역원은 $ax \\equiv 1 \\pmod{P}$를 만족하는 $x$이다\n",
    "\n",
    "`-` 페르마의 소정리에 의해 $p$가 소수이고 $a$와 $p$가 서로소일 때 $a^{p-1} \\equiv 1 \\pmod{p}$이다\n",
    "\n",
    "`-` $aa^{p-2} \\equiv 1 \\pmod{p}$이므로 $a^{p-2}$이 모듈러 $p$에 대한 $a$의 역원이다\n",
    "\n",
    "`-` $a^{P-2}$을 $P$로 나눈 나머지와 $N!$을 $P$로 나눈 나머지를 곱한 값을 $K$라 하자\n",
    "\n",
    "`-` $K$를 $P$로 나눈 나머지가 문제의 정답이다\n",
    "\n",
    "`-` 그런데 $N$이 고정된 값이 아니고 입력에 따라 바뀐다\n",
    "\n",
    "`-` $N$은 최대 $10^9$이다\n",
    "\n",
    "`-` $N$을 적당히 $5\\cdot10^7$씩 쪼개어 나누어 $1$부터 해당 체크포인트까지 곱한 값을 $P$로 나눈 나머지를 가지고 있자\n",
    "\n",
    "`-` 예를 들어 $N$이 $5\\cdot10^7$보다 작다면 실시간으로 $N!$을 $P$로 나눈 나머지를 계산하자\n",
    "\n",
    "`-` 또 다른 예시로 $N$이 $9\\cdot10^8 + 10000000$이라면 미리 계산한 $(9\\cdot 10^8)!\\pmod {P}$에 $900000000$부터 $910000000$까지 $P$로 나눈 나머지를 곱하며 갱신하자"
   ]
  },
  {
   "cell_type": "code",
   "execution_count": 3,
   "id": "1db1f259-abf2-446a-8647-0b789f732a24",
   "metadata": {},
   "outputs": [
    {
     "name": "stderr",
     "output_type": "stream",
     "text": [
      "100%|█████████████████████████████████████████████████████████████| 1000000000/1000000000 [10:49<00:00, 1538471.94it/s]\n"
     ]
    }
   ],
   "source": [
    "from tqdm import tqdm\n",
    "\n",
    "n = 10**9\n",
    "P = 10**9 + 7\n",
    "g = 5 * 10**7 \n",
    "factorials = {}\n",
    "fact = 1\n",
    "checkpoints = set([g * i for i in range(1, 21)])\n",
    "for i in tqdm(range(1, n + 1)):\n",
    "    fact *= i\n",
    "    fact %= P\n",
    "    if i in checkpoints:\n",
    "        factorials[i] = fact"
   ]
  },
  {
   "cell_type": "code",
   "execution_count": 147,
   "id": "182ab2b3-3141-4645-b0b1-bda864e0c5de",
   "metadata": {},
   "outputs": [
    {
     "name": "stdin",
     "output_type": "stream",
     "text": [
      " 1000000000 0\n"
     ]
    },
    {
     "name": "stdout",
     "output_type": "stream",
     "text": [
      "698611116\n"
     ]
    }
   ],
   "source": [
    "def power(a, b, c):\n",
    "    a = a % c\n",
    "    if b == 1:\n",
    "        return a\n",
    "    if b == 2:\n",
    "        return (a**b) % c\n",
    "    result = power(a, b // 2, c)\n",
    "    if b % 2 == 0:\n",
    "        return (result**2) % c\n",
    "    return ((result**2 % c) * a) % c\n",
    "\n",
    "\n",
    "def solution():\n",
    "    N, M = map(int, input().split())\n",
    "    P = 10**9 + 7\n",
    "    g = 5 * 10**7 \n",
    "    a = 1\n",
    "    seen = set()\n",
    "    for _ in range(M):\n",
    "        k = int(input())\n",
    "        if k in seen:\n",
    "            continue\n",
    "        a *= k\n",
    "        a %= P\n",
    "        seen.add(k)\n",
    "    denominator = power(a, P - 2, P)\n",
    "    if N in factorials:\n",
    "        numerator = factorials[N]\n",
    "        answer = (numerator * denominator) % P\n",
    "        print(answer)\n",
    "        return\n",
    "    numerator = 1\n",
    "    for f in factorials:\n",
    "        if N > f:\n",
    "            numerator = factorials[f]\n",
    "            continue\n",
    "        for n in range(f - g + 1, N + 1):\n",
    "            numerator *= n\n",
    "            numerator %= P\n",
    "        break\n",
    "    answer = (numerator * denominator) % P\n",
    "    print(answer)\n",
    "\n",
    "\n",
    "solution()\n",
    "\n",
    "# input\n",
    "# 1000000000 0"
   ]
  },
  {
   "cell_type": "code",
   "execution_count": null,
   "id": "e024d94d-a4e0-4f68-ba50-a035b207b49b",
   "metadata": {},
   "outputs": [],
   "source": []
  }
 ],
 "metadata": {
  "kernelspec": {
   "display_name": "Python 3 (ipykernel)",
   "language": "python",
   "name": "python3"
  },
  "language_info": {
   "codemirror_mode": {
    "name": "ipython",
    "version": 3
   },
   "file_extension": ".py",
   "mimetype": "text/x-python",
   "name": "python",
   "nbconvert_exporter": "python",
   "pygments_lexer": "ipython3",
   "version": "3.8.11"
  }
 },
 "nbformat": 4,
 "nbformat_minor": 5
}
