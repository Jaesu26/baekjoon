{
 "cells": [
  {
   "cell_type": "markdown",
   "id": "1fa06925-3346-4d63-9f03-bc0125223e7f",
   "metadata": {},
   "source": [
    "# 벨만-포드 (Bellman-Ford)"
   ]
  },
  {
   "cell_type": "markdown",
   "id": "65dad505-e843-4ef5-ad31-832260e4cd44",
   "metadata": {},
   "source": [
    "`-` 정점이 $V$개, 간선이 $E$개인 음의 가중치가 존재하는 그래프에서 임의의 정점과 나머지 정점간의 최단 경로를 $O(VE)$에 찾는 알고리즘 "
   ]
  },
  {
   "cell_type": "markdown",
   "id": "2c83ad6c-b765-49b6-bffa-1760070f6064",
   "metadata": {},
   "source": [
    "## 웜홀\n",
    "\n",
    "- 문제 출처: [1865번](https://www.acmicpc.net/problem/1865)"
   ]
  },
  {
   "cell_type": "markdown",
   "id": "ad508d40-26c1-4fbc-9c34-cea2732edfde",
   "metadata": {},
   "source": [
    "`-` 플로이드-워셜 알고리즘을 사용하여 문제를 해결할 수 있다\n",
    "\n",
    "`-` 플로이드-워셜 알고리즘을 적용 후 임의의 노드 $u$에 대해 $u\\to u$의 가중치가 음수라면 음수 사이클이 존재하는 것이다\n",
    "\n",
    "`-` 이는 웜홀을 통해 시간이 되돌아 가는 경우가 있음을 뜻한다\n",
    "\n",
    "`-` 플로이드-워셜 알고리즘에서 $u\\to u$의 가중치는 $0$으로 초기화하고 시작한다\n",
    "\n",
    "`-` 그런데 이것이 음수가 됐다는 것은 $u\\to k + k \\to u$가 $0$보다 작다는 뜻이다\n",
    "\n",
    "`-` 즉, $u$에서 $u$로 가는 음수 사이클이 존재한다는 것이다\n",
    "\n",
    "`-` 그런데 안타깝게도 91%에서 시간 초과가 발생한다\n",
    "\n",
    "`-` 다른 방법으로 알고리즘 시간에 배운 [벨만-포드](https://en.wikipedia.org/wiki/Bellman%E2%80%93Ford_algorithm) 알고리즘을 사용했다\n",
    "\n",
    "`-` 음수 간선이 있어도 사용 가능하며 만약 알고리즘이 끝난 후에도 경로 갱신이 가능하다면 음수 사이클이 내부에 존재한다는 것이다\n",
    "\n",
    "`-` 벨만-포드 알고리즘의 시간 복잡도는 $O(VE)$이다\n",
    "\n",
    "`-` 시작 노드와의 연결 유무 상관 없이 모든 간선에 대해 최단 경로를 업데이트 하므로 어느 하나의 노드에 대해서 벨만-포드 알고리즘을 한 번만 적용하면 된다"
   ]
  },
  {
   "cell_type": "code",
   "execution_count": 49,
   "id": "ce6bf298-f240-4446-acb5-ea4c28c80702",
   "metadata": {
    "tags": []
   },
   "outputs": [
    {
     "name": "stdin",
     "output_type": "stream",
     "text": [
      " 2\n",
      " 3 3 1\n",
      " 1 2 2\n",
      " 1 3 4\n",
      " 2 3 1\n",
      " 3 1 3\n"
     ]
    },
    {
     "name": "stdout",
     "output_type": "stream",
     "text": [
      "NO\n"
     ]
    },
    {
     "name": "stdin",
     "output_type": "stream",
     "text": [
      " 3 2 1\n",
      " 1 2 3\n",
      " 2 3 4\n",
      " 3 1 8\n"
     ]
    },
    {
     "name": "stdout",
     "output_type": "stream",
     "text": [
      "YES\n"
     ]
    }
   ],
   "source": [
    "def has_negative_cycle(start, adj_list):\n",
    "    # 벨만-포드 알고리즘\n",
    "    dist = [INF for _ in range(N + 1)]\n",
    "    dist[start] = 0\n",
    "    for _ in range(N + 1):  # 더 최적화 하려면 노드 개수를 직접 세면 된다 (중복 노드가 입력될 수 있다)\n",
    "        for (s, e), t in adj_list.items():\n",
    "            if dist[s] + t < dist[e]:\n",
    "                dist[e] = dist[s] + t\n",
    "    # 음수 사이클 확인\n",
    "    answer = \"NO\"\n",
    "    for (s, e), t in adj_list.items():\n",
    "        if dist[s] + t < dist[e]:\n",
    "            answer = \"YES\"\n",
    "            break\n",
    "    return answer\n",
    "\n",
    "\n",
    "def solve_testcase():\n",
    "    global N, INF\n",
    "    N, M, W = map(int, input().split())\n",
    "    INF = 1e9  # float(\"inf\") 사용하면 안된다, float(\"inf\")와의 상수 연산은 float(\"inf\")이므로 갱신이 안됨\n",
    "    adj_list = {}\n",
    "    for _ in range(M):\n",
    "        s, e, t = map(int, input().split())\n",
    "        adj_list[(s, e)] = t if (s, e) not in adj_list else min(adj_list[(s, e)], t)\n",
    "        adj_list[(e, s)] = t if (e, s) not in adj_list else min(adj_list[(e, s)], t)\n",
    "    for _ in range(W):\n",
    "        s, e, t = map(int, input().split())\n",
    "        adj_list[(s, e)] = -t\n",
    "    print(has_negative_cycle(1, adj_list))\n",
    "\n",
    "\n",
    "def solution():\n",
    "    TC = int(input())\n",
    "    for _ in range(TC):\n",
    "        solve_testcase()\n",
    "\n",
    "\n",
    "solution()\n",
    "\n",
    "# input\n",
    "# 2\n",
    "# 3 3 1\n",
    "# 1 2 2\n",
    "# 1 3 4\n",
    "# 2 3 1\n",
    "# 3 1 3\n",
    "# 3 2 1\n",
    "# 1 2 3\n",
    "# 2 3 4\n",
    "# 3 1 8"
   ]
  },
  {
   "cell_type": "markdown",
   "id": "3185805d-84f1-4bc3-b408-7dbba29f9e5e",
   "metadata": {},
   "source": [
    "## 타임머신\n",
    "\n",
    "- 문제 출처: [백준 11657번](https://www.acmicpc.net/problem/11657)"
   ]
  },
  {
   "cell_type": "markdown",
   "id": "d8171eab-8a67-46e8-b4b1-9177ab8ca617",
   "metadata": {},
   "source": [
    "`-` 음수 간선이 있는 그래프에서 최단 경로를 찾는 문제이다\n",
    "\n",
    "`-` 벨만-포드 알고리즘 사용해 문제를 해결할 수 있다\n",
    "\n",
    "`-` 정점의 개수를 $V$라 할 때 $V-1$번의 갱신 후에도 최단 경로가 갱신되면 음수 사이클이 존재하는 것이다\n",
    "\n",
    "`-` 중요한 건 그래프 내에 음수 사이클이 존재하냐가 아니라 $1$번과 연결된 음수 사이클이 존재하냐는 것이다\n",
    "\n",
    "`-` 즉, $1$번과 고립된 영역에 있는 음수 사이클은 문제가 되지 않는다\n",
    "\n",
    "`-` 이를 위해 최단 경로 추정치 배열을 초기화할 때 `float(\"inf\")`를 사용했다\n",
    "\n",
    "`-` 만약 순수하게 음수 사이클 여부가 궁금하다면 매우 큰 상수로 초기화하면 된다"
   ]
  },
  {
   "cell_type": "code",
   "execution_count": 16,
   "id": "973973c5-1d17-451f-a4a5-c7622f836d83",
   "metadata": {},
   "outputs": [
    {
     "name": "stdin",
     "output_type": "stream",
     "text": [
      " 3 4\n",
      " 1 2 4\n",
      " 1 3 3\n",
      " 2 3 -1\n",
      " 3 1 -2\n"
     ]
    },
    {
     "name": "stdout",
     "output_type": "stream",
     "text": [
      "4\n",
      "3\n"
     ]
    }
   ],
   "source": [
    "def bellman_ford(start, graph, weight):\n",
    "    dist = [INF for _ in range(N + 1)]  # 출발지부터 다른 지점까지의 최단 경로 추정치\n",
    "    dist[start] = 0\n",
    "    for _ in range(N - 1):\n",
    "        for u, v in graph:\n",
    "            if dist[u] + weight[(u, v)] < dist[v]:\n",
    "                dist[v] = dist[u] + weight[(u, v)]\n",
    "    return dist\n",
    "\n",
    "\n",
    "def check_negative_cycle(dist, graph, weight):\n",
    "    for u, v in graph:\n",
    "        if dist[u] + weight[(u, v)] < dist[v]:\n",
    "            return True\n",
    "    return False\n",
    "\n",
    "\n",
    "def solution():\n",
    "    global N, INF\n",
    "    N, M = map(int, input().split())\n",
    "    INF = float(\"inf\")\n",
    "    START = 1\n",
    "    graph = []\n",
    "    weight = {}\n",
    "    for _ in range(M):\n",
    "        A, B, C = map(int, input().split())\n",
    "        if (A, B) not in weight:\n",
    "            graph.append((A, B))\n",
    "            weight[(A, B)] = C\n",
    "        else:\n",
    "            weight[(A, B)] = min(C, weight[(A, B)])\n",
    "    dist = bellman_ford(START, graph, weight)\n",
    "    has_negative_cycle = check_negative_cycle(dist, graph, weight)\n",
    "    if has_negative_cycle:\n",
    "        print(-1)\n",
    "        return\n",
    "    for i in range(2, N + 1):\n",
    "        if dist[i] == INF:\n",
    "            print(-1)\n",
    "        else:\n",
    "            print(dist[i])\n",
    "\n",
    "\n",
    "solution()\n",
    "\n",
    "# input\n",
    "# 3 4\n",
    "# 1 2 4\n",
    "# 1 3 3\n",
    "# 2 3 -1\n",
    "# 3 1 -2"
   ]
  },
  {
   "cell_type": "code",
   "execution_count": null,
   "id": "de5b3ce6-8af7-4aa1-96dd-8f9600fbdaa2",
   "metadata": {},
   "outputs": [],
   "source": []
  }
 ],
 "metadata": {
  "kernelspec": {
   "display_name": "Python 3 (ipykernel)",
   "language": "python",
   "name": "python3"
  },
  "language_info": {
   "codemirror_mode": {
    "name": "ipython",
    "version": 3
   },
   "file_extension": ".py",
   "mimetype": "text/x-python",
   "name": "python",
   "nbconvert_exporter": "python",
   "pygments_lexer": "ipython3",
   "version": "3.8.11"
  }
 },
 "nbformat": 4,
 "nbformat_minor": 5
}
