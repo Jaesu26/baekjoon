{
 "cells": [
  {
   "cell_type": "markdown",
   "id": "b5171e60-2323-471a-87a7-f16369b4e5d2",
   "metadata": {},
   "source": [
    "# 스택 (Stack) "
   ]
  },
  {
   "cell_type": "markdown",
   "id": "8682eef2-821a-46b2-8f92-af69d5d0048c",
   "metadata": {},
   "source": [
    "## 스택\n",
    "- 문제 출처: [백준 10828번](https://www.acmicpc.net/problem/10828)"
   ]
  },
  {
   "cell_type": "markdown",
   "id": "e205635d-6397-4f9d-90ec-0a0bb9233b5e",
   "metadata": {},
   "source": [
    "`-` 스택(stack)은 선입후출 구조임 ---> 한쪽이 막힌 원기둥에 공을 넣는다고 생각하자 ---> 처음 넣은 공을 빼려면 이제껏 넣어던 공을 모두 빼야 빼낼 수 있음"
   ]
  },
  {
   "cell_type": "code",
   "execution_count": 61,
   "id": "349ae914-6edb-4ac9-8b31-73366275a9a6",
   "metadata": {},
   "outputs": [
    {
     "name": "stdin",
     "output_type": "stream",
     "text": [
      " 14\n",
      " push 1\n",
      " push 2\n",
      " top\n",
      " size\n",
      " empty\n",
      " pop\n",
      " pop\n",
      " pop\n",
      " size\n",
      " empty\n",
      " pop\n",
      " push 3\n",
      " empty\n",
      " top\n"
     ]
    },
    {
     "name": "stdout",
     "output_type": "stream",
     "text": [
      "2\n",
      "2\n",
      "0\n",
      "2\n",
      "1\n",
      "-1\n",
      "0\n",
      "1\n",
      "-1\n",
      "0\n",
      "3\n"
     ]
    }
   ],
   "source": [
    "N = int(input())\n",
    "stack = []\n",
    "\n",
    "\n",
    "def push(num):\n",
    "    stack.append()\n",
    "    \n",
    "    \n",
    "def pop():\n",
    "    if stack:\n",
    "        print(stack.pop())\n",
    "    else:\n",
    "        print(-1)\n",
    "    \n",
    "    \n",
    "def size():\n",
    "    print(len(stack))\n",
    "    \n",
    "    \n",
    "def empty():\n",
    "    if stack:\n",
    "        print(0)\n",
    "    else:\n",
    "        print(1)\n",
    "        \n",
    "        \n",
    "def top():\n",
    "    if stack:\n",
    "        print(stack[-1])\n",
    "    else:\n",
    "        print(-1)\n",
    "        \n",
    "orders = []\n",
    "for _ in range(N):\n",
    "    orders.append(input().split())\n",
    "    \n",
    "for i in range(N):\n",
    "    if orders[i][0] == 'push':\n",
    "        x = str(orders[i][-1])\n",
    "        xx = 'push' + '(' + x + ')'\n",
    "        xxx = ''.join(xx)  \n",
    "        eval(xxx)\n",
    "    else:\n",
    "        y = orders[i][0] + '()'\n",
    "        eval(y)\n",
    "        \n",
    "# input\n",
    "# 14\n",
    "# push 1\n",
    "# push 2\n",
    "# top\n",
    "# size\n",
    "# empty\n",
    "# pop\n",
    "# pop\n",
    "# pop\n",
    "# size\n",
    "# empty\n",
    "# pop\n",
    "# push 3\n",
    "# empty\n",
    "# top"
   ]
  },
  {
   "cell_type": "markdown",
   "id": "c97c25ba-4c4d-4ed3-9b74-86adc3429ea2",
   "metadata": {},
   "source": [
    "## 제로\n",
    "- 문제 출처: [백준 10773번](https://www.acmicpc.net/problem/10773)\n",
    "\n",
    "`-` 스택 구조를 통해 해결하면 된다"
   ]
  },
  {
   "cell_type": "code",
   "execution_count": 1,
   "id": "bfd59619-aadc-409c-a829-a2c82d22c1b9",
   "metadata": {},
   "outputs": [
    {
     "name": "stdin",
     "output_type": "stream",
     "text": [
      " 4\n",
      " 3\n",
      " 0\n",
      " 4\n",
      " 0\n"
     ]
    },
    {
     "name": "stdout",
     "output_type": "stream",
     "text": [
      "0\n"
     ]
    }
   ],
   "source": [
    "K = int(input())\n",
    "stack = []\n",
    "\n",
    "for _ in range(K):\n",
    "    num = int(input())\n",
    "    if num == 0:\n",
    "        stack.pop()\n",
    "    else:\n",
    "        stack.append(num)\n",
    "        \n",
    "print(sum(stack))\n",
    "\n",
    "# input\n",
    "# 4\n",
    "# 3\n",
    "# 0\n",
    "# 4\n",
    "# 0"
   ]
  },
  {
   "cell_type": "markdown",
   "id": "a744685e-ebd8-461c-bcfa-20813eb60b65",
   "metadata": {},
   "source": [
    "## 괄호\n",
    "- 문제 출처: [백준 9012번](https://www.acmicpc.net/problem/9012)\n",
    "\n",
    "`-` '('가 입력되면 스택에 추가하고 ')'가 입력되면 제거하는 방식으로 오류가 발생하면 잘못된 문자열임을 판단하자"
   ]
  },
  {
   "cell_type": "code",
   "execution_count": 11,
   "id": "cea1e74f-2417-486b-97f1-cd66a31bc670",
   "metadata": {},
   "outputs": [
    {
     "name": "stdin",
     "output_type": "stream",
     "text": [
      " 1\n",
      " (()((())()))\n"
     ]
    },
    {
     "name": "stdout",
     "output_type": "stream",
     "text": [
      "YES\n"
     ]
    }
   ],
   "source": [
    "T = int(input())\n",
    "\n",
    "for _ in range(T):\n",
    "    string = input()\n",
    "    stack = []\n",
    "    cnt = 0\n",
    "    \n",
    "    for i in range(len(string)):\n",
    "        if string[i] == '(':\n",
    "            stack.append('(')\n",
    "        elif string[i] == ')':  ## else:로 하면 틀림 ---> 이유 모름\n",
    "            if stack:\n",
    "                stack.pop()\n",
    "            else:\n",
    "                cnt = -1\n",
    "                break\n",
    "        \n",
    "    if not stack and cnt == 0:\n",
    "        print(\"YES\")\n",
    "    else:\n",
    "        print(\"NO\")\n",
    "\n",
    "# input\n",
    "# 1\n",
    "# (()((())()))"
   ]
  },
  {
   "cell_type": "markdown",
   "id": "c7af948a-5744-406d-b96c-44f4ad24f536",
   "metadata": {},
   "source": [
    "## 균형잡힌 세상\n",
    "- 문제출처: [백준 4949번](https://www.acmicpc.net/problem/4949)\n",
    "\n",
    "`-` 괄호 문제에서 대괄호가 추가된 경우임\n",
    "\n",
    "`-` stack에 '('와 '['를 추가하고 ')'과 ']'이 입력되었을 때 stack.pop()을 하는데 서로 짝이 맞지 않으면 잘못된 문자열\n",
    "\n",
    "`-` '(', ')'와 '[', ']' 각각의 쌍이 맞지 않아도 잘못된 문자열\n",
    "\n",
    "`-` '('다음에 ')\"이 와야하고 '['다음에 ']'이 와야함 ---> 이를 지키지 않아도 잘못된 문자열\n",
    "\n",
    "`-` input 대신에 sys.stdin.readline을 사용하면 틀림 ---> 이유 모름"
   ]
  },
  {
   "cell_type": "code",
   "execution_count": 16,
   "id": "567e4118-c5b0-4b6f-b579-7fd4efba4141",
   "metadata": {},
   "outputs": [
    {
     "name": "stdin",
     "output_type": "stream",
     "text": [
      " So when I die (the [first] I will see in (heaven) is a score list).\n"
     ]
    },
    {
     "name": "stdout",
     "output_type": "stream",
     "text": [
      "yes\n"
     ]
    },
    {
     "name": "stdin",
     "output_type": "stream",
     "text": [
      " [ first in ] ( first out ).\n"
     ]
    },
    {
     "name": "stdout",
     "output_type": "stream",
     "text": [
      "yes\n"
     ]
    },
    {
     "name": "stdin",
     "output_type": "stream",
     "text": [
      " Half Moon tonight (At least it is better than no Moon at all].\n"
     ]
    },
    {
     "name": "stdout",
     "output_type": "stream",
     "text": [
      "no\n"
     ]
    },
    {
     "name": "stdin",
     "output_type": "stream",
     "text": [
      " A rope may form )( a trail in a maze.\n"
     ]
    },
    {
     "name": "stdout",
     "output_type": "stream",
     "text": [
      "no\n"
     ]
    },
    {
     "name": "stdin",
     "output_type": "stream",
     "text": [
      " Help( I[m being held prisoner in a fortune cookie factory)].\n"
     ]
    },
    {
     "name": "stdout",
     "output_type": "stream",
     "text": [
      "no\n"
     ]
    },
    {
     "name": "stdin",
     "output_type": "stream",
     "text": [
      " ([ (([( [ ] ) ( ) (( ))] )) ]).\n"
     ]
    },
    {
     "name": "stdout",
     "output_type": "stream",
     "text": [
      "yes\n"
     ]
    },
    {
     "name": "stdin",
     "output_type": "stream",
     "text": [
      "  .\n"
     ]
    },
    {
     "name": "stdout",
     "output_type": "stream",
     "text": [
      "yes\n"
     ]
    },
    {
     "name": "stdin",
     "output_type": "stream",
     "text": [
      " .\n"
     ]
    }
   ],
   "source": [
    "while True:    \n",
    "    string = input()\n",
    "    stack = []\n",
    "    cnt = 0\n",
    "    num1 = 0\n",
    "    num2 = 0\n",
    "    \n",
    "    if string == '.':\n",
    "        break\n",
    "    else:\n",
    "        for i in string:\n",
    "            if i == '(':\n",
    "                stack.append('(')\n",
    "                num1 += 1\n",
    "            elif i == ')':\n",
    "                num1 -= 1\n",
    "                if num1 < 0:\n",
    "                    cnt = -1 \n",
    "                if stack:\n",
    "                    tmp = stack.pop()\n",
    "                    if tmp != '(':\n",
    "                        cnt = -1\n",
    "                        break\n",
    "            elif i == '[':\n",
    "                stack.append('[')\n",
    "                num2 += 1\n",
    "            elif i == ']':\n",
    "                num2 -= 1\n",
    "                if num2 < 0:\n",
    "                    cnt = -1\n",
    "                if stack:\n",
    "                    tmp = stack.pop()\n",
    "                    if tmp != '[':\n",
    "                        cnt = -1\n",
    "                        break               \n",
    "            \n",
    "        if num1 == 0  and num2 == 0 and cnt != -1:\n",
    "            print(\"yes\")\n",
    "        \n",
    "        else:\n",
    "            print(\"no\")"
   ]
  },
  {
   "cell_type": "markdown",
   "id": "acd7af8a-1de4-4907-8c93-f6ee3e11a74b",
   "metadata": {},
   "source": [
    "## 스택 수열\n",
    "- 문제 출처: [백준 1874번](https://www.acmicpc.net/problem/1874)\n",
    "\n",
    "`-` stack에 숫자를 1부터 n까지 push함\n",
    "\n",
    "`-` 그러다가 input으로 받은 nums 리스트의 마지막 원소와 stack의 마지막 원소가 동일하면 pop함\n",
    "\n",
    "`-` pop한 숫자의 배열과 기존의 input으로 받은 nums 리스트의 배열과 동일하면 성공적임\n",
    "\n",
    "`-` 만약 그렇지 않다면 동일한 배열로 만드는 것이 불가능하므로 'NO'를 출력 ---> 불가능한 경우는 다음과 같음\n",
    "\n",
    "`-` push와 pop의 개수가 다름 ---> push는 n번 하지만 동일한 패턴의 배열로 만드는게 불가능하여 pop을 실행 못함 ---> pop의 개수가 적음"
   ]
  },
  {
   "cell_type": "code",
   "execution_count": 6,
   "id": "ecd95fbe-5943-41e8-b43e-2853ccd19862",
   "metadata": {},
   "outputs": [
    {
     "name": "stdin",
     "output_type": "stream",
     "text": [
      " 8\n",
      " 4\n",
      " 3\n",
      " 6\n",
      " 8\n",
      " 7\n",
      " 5\n",
      " 2\n",
      " 1\n"
     ]
    },
    {
     "name": "stdout",
     "output_type": "stream",
     "text": [
      "+\n",
      "+\n",
      "+\n",
      "+\n",
      "-\n",
      "-\n",
      "+\n",
      "+\n",
      "-\n",
      "+\n",
      "+\n",
      "-\n",
      "-\n",
      "-\n",
      "-\n",
      "-\n"
     ]
    }
   ],
   "source": [
    "n = int(input())\n",
    "nums = []\n",
    "stack = []\n",
    "print_ = []\n",
    "\n",
    "for _ in range(n):\n",
    "    nums.append(int(input()))\n",
    "    \n",
    "nums.reverse()\n",
    "i = 1\n",
    "cnt = 0\n",
    "\n",
    "while i <= n:\n",
    "    stack.append(i)\n",
    "    print_.append('+')\n",
    "    cnt += 1\n",
    "    \n",
    "    if stack and nums:\n",
    "        while stack[-1] == nums[-1]:\n",
    "            if stack[-1] == nums[-1]:\n",
    "                stack.pop()\n",
    "                nums.pop()\n",
    "                print_.append('-')\n",
    "                cnt -= 1\n",
    "            if not stack or not nums:\n",
    "                break\n",
    "    i += 1\n",
    "        \n",
    "if cnt == 0:\n",
    "    for j in print_:\n",
    "        print(j)\n",
    "else:\n",
    "    print('NO')"
   ]
  },
  {
   "cell_type": "markdown",
   "id": "1eb1c305-562b-4c71-83e5-002775360e91",
   "metadata": {},
   "source": [
    "## 오큰수\n",
    "- 문제 출처: [백준 17298번](https://www.acmicpc.net/problem/17298)"
   ]
  },
  {
   "cell_type": "markdown",
   "id": "020459c1-abbf-4e19-b2f9-ca10541fa21e",
   "metadata": {},
   "source": [
    "`-` 마지막 인덱스부터 처음 인덱스 순서로 진행할 거임 i(N-1 $\\to$ 0)\n",
    "\n",
    "`-` 일단 num.pop()한 값을 tmp에 저장 ---> tmp는 num의 마지막 원소임\n",
    "\n",
    "`-` 그리고 tmp를 stack에 append한다 \n",
    "\n",
    "`-` stack은 num[i]의 오큰수를 찾는 역할임 ---> stack에는 num의 마지막 원소부터 처음 원소까지 append된다\n",
    "\n",
    "`-` 스택 구조 특징(후입선출)상 stack[-1]은 num[i]의 바로 오른쪽이며 stack[0]은 num[i]와 오른쪽으로 가장 멀리 떨어진 원소임\n",
    "\n",
    "`-` 그래서 stack으로 어떻게 오큰수 찾음? ---> 일단 tmp > num[i]이면 num[i]의 오큰수는 tmp임\n",
    "\n",
    "`-` 만약 tmp <= num[i]라면 stack.pop()과 비교함\n",
    "\n",
    "`-` 만약 stack.pop() > num[i]라면 num[i]의 오큰수는 stack.pop()임 \n",
    "\n",
    "`-` 만약 stack.pop() <= num[i]라면 기존의 stack.pop()을 버리고 다시 stack.pop()한 값과 비교 ---> stack의 모든 원소와 비교해도 오큰수가 없으면 -1 \n",
    "\n",
    "`-` 질문검색 참고해서 풀었음"
   ]
  },
  {
   "cell_type": "code",
   "execution_count": 66,
   "id": "a6a53259-e774-4ad6-b212-e2d18da9c914",
   "metadata": {},
   "outputs": [
    {
     "name": "stdin",
     "output_type": "stream",
     "text": [
      " 4\n",
      " 9 5 4 8\n"
     ]
    },
    {
     "name": "stdout",
     "output_type": "stream",
     "text": [
      "-1 8 8 -1\n"
     ]
    }
   ],
   "source": [
    "N = int(input())\n",
    "num = list(map(int, input().split()))\n",
    "arr = [-1] * N\n",
    "stack = []\n",
    "\n",
    "for i in range(N-2, -1, -1):\n",
    "    tmp = num.pop() ## num[i]와 num[i+1](=tmp)을 비교하기 위한 수단 ## for문을 반복할 때 마다 num의 마지막 원소가 pop되어짐 ---> 총 (N-2-0)+1개 pop\n",
    "    stack.append(tmp) ## num의 마지막원소부터 계속하여 추가함\n",
    "\n",
    "    while stack:\n",
    "        if num[i] < tmp:\n",
    "            arr[i] = tmp\n",
    "            break\n",
    "        else:\n",
    "            val = stack.pop()\n",
    "            if num[i] < val:\n",
    "                arr[i] = val\n",
    "                stack.append(val) ## num[i]와 비교를 위해 val를 pop했는데 num[i] < val이어서 아직 val은 쓸모 있음 ---> 그러므로 다시 val을 append  \n",
    "                break\n",
    "            else:  ## num[i] >= stack.pop() ---> num[i]의 오른쪽 숫자중에서 가장 왼쪽에 있는 수 부터 살펴봄 --->\n",
    "                arr[i] = -1 ## 그런데 num[i]보다 더 작으므로 앞으로 쓸모가 없음(val을 다시 append하지 않음) ---> 왜냐면 앞으로 탐색할 것은 num[i]의 왼쪽에 있는 수 인데 예로 num[x]라 하자\n",
    "                            ## stack.pop()이 num[x]의 오큰수하 하자 ---> 그런데 stack.pop() >= num[i]이므로 num[x]의 오큰수는 num[i]가 됨 ---> 그러므로 stack.pop()은 이제 무쓸모 \n",
    "print(*arr)\n",
    "\n",
    "## input ---> N = 4, num = 9 5 4 8 "
   ]
  },
  {
   "cell_type": "markdown",
   "id": "42dfb268-a454-476f-9d12-f34955f187c4",
   "metadata": {},
   "source": [
    "## 도키도키 간식드리미\n",
    "\n",
    "- 문제 출처: [백준 12789번](https://www.acmicpc.net/problem/12789)"
   ]
  },
  {
   "cell_type": "markdown",
   "id": "aaa4dfd4-b412-452d-a5b6-ac7372adaff7",
   "metadata": {},
   "source": [
    "`-` 지금 간식을 받는 차례의 번호를 타겟 넘버라고 하자\n",
    "\n",
    "`-` 타겟 넘버가 대기열에 있다면 타겟 넘버가 나올 때까지 대기열 앞에서부터 사람을 빼내어 임시 공간에 넣는다\n",
    "\n",
    "`-` 타겟 넘버가 임시 공간에 있다면 임시 공간에 마지막으로 들어간 사람이 타겟 넘버를 가진 사람인지 확인한다\n",
    "\n",
    "`-` 만약 아니라면 간식을 무사히 받을 수 없다\n",
    "\n",
    "`-` 타겟이 간식을 받는데 성공했다면 타겟 넘버를 1 증가시키고 위의 과정을 모든 사람이 간식을 받을 때까지 반복한다"
   ]
  },
  {
   "cell_type": "code",
   "execution_count": 14,
   "id": "f851bc7b-91fa-4356-a6bd-a1ab9f491c2e",
   "metadata": {},
   "outputs": [
    {
     "name": "stdin",
     "output_type": "stream",
     "text": [
      " 5\n",
      " 4 5 1 3 2\n"
     ]
    },
    {
     "name": "stdout",
     "output_type": "stream",
     "text": [
      "Sad\n"
     ]
    }
   ],
   "source": [
    "from collections import deque\n",
    "\n",
    "\n",
    "def solution(students, n):\n",
    "    tmp = []\n",
    "    students = deque(students)\n",
    "    target_number = 1\n",
    "    while target_number <= n:\n",
    "        if target_number in students:\n",
    "            while True:\n",
    "                s = students.popleft()\n",
    "                if s != target_number:\n",
    "                    tmp.append(s)\n",
    "                else:\n",
    "                    target_number += 1\n",
    "                    break\n",
    "        if target_number in tmp:\n",
    "            t = tmp.pop()\n",
    "            if t != target_number:\n",
    "                return \"Sad\"\n",
    "            else:\n",
    "                target_number += 1\n",
    "    return \"Nice\"\n",
    "\n",
    "            \n",
    "N = int(input())\n",
    "students = list(map(int, input().split()))\n",
    "answer = solution(students, N)\n",
    "print(answer)\n",
    "\n",
    "# input\n",
    "# 5\n",
    "# 4 5 1 3 2"
   ]
  },
  {
   "cell_type": "code",
   "execution_count": null,
   "id": "8c7ca616-1669-46ed-864f-fdab9cc9a3a6",
   "metadata": {},
   "outputs": [],
   "source": []
  }
 ],
 "metadata": {
  "kernelspec": {
   "display_name": "Python 3 (ipykernel)",
   "language": "python",
   "name": "python3"
  },
  "language_info": {
   "codemirror_mode": {
    "name": "ipython",
    "version": 3
   },
   "file_extension": ".py",
   "mimetype": "text/x-python",
   "name": "python",
   "nbconvert_exporter": "python",
   "pygments_lexer": "ipython3",
   "version": "3.8.11"
  }
 },
 "nbformat": 4,
 "nbformat_minor": 5
}
