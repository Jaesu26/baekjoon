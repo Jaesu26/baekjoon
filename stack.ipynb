{
 "cells": [
  {
   "cell_type": "markdown",
   "id": "b5171e60-2323-471a-87a7-f16369b4e5d2",
   "metadata": {},
   "source": [
    "# 스택 (Stack) "
   ]
  },
  {
   "cell_type": "markdown",
   "id": "8682eef2-821a-46b2-8f92-af69d5d0048c",
   "metadata": {},
   "source": [
    "## 스택\n",
    "- 문제 출처: [백준 10828번](https://www.acmicpc.net/problem/10828)"
   ]
  },
  {
   "cell_type": "markdown",
   "id": "e205635d-6397-4f9d-90ec-0a0bb9233b5e",
   "metadata": {},
   "source": [
    "`-` 스택(stack)은 후입선출 구조임 ---> 한쪽이 막힌 원기둥에 공을 넣는다고 생각하자 ---> 처음 넣은 공을 빼려면 이제껏 넣어던 공을 모두 빼야 빼낼 수 있음"
   ]
  },
  {
   "cell_type": "code",
   "execution_count": 61,
   "id": "349ae914-6edb-4ac9-8b31-73366275a9a6",
   "metadata": {},
   "outputs": [
    {
     "name": "stdin",
     "output_type": "stream",
     "text": [
      " 14\n",
      " push 1\n",
      " push 2\n",
      " top\n",
      " size\n",
      " empty\n",
      " pop\n",
      " pop\n",
      " pop\n",
      " size\n",
      " empty\n",
      " pop\n",
      " push 3\n",
      " empty\n",
      " top\n"
     ]
    },
    {
     "name": "stdout",
     "output_type": "stream",
     "text": [
      "2\n",
      "2\n",
      "0\n",
      "2\n",
      "1\n",
      "-1\n",
      "0\n",
      "1\n",
      "-1\n",
      "0\n",
      "3\n"
     ]
    }
   ],
   "source": [
    "def push(num):\n",
    "    stack.append()\n",
    "    \n",
    "    \n",
    "def pop():\n",
    "    if stack:\n",
    "        print(stack.pop())\n",
    "    else:\n",
    "        print(-1)\n",
    "    \n",
    "    \n",
    "def size():\n",
    "    print(len(stack))\n",
    "    \n",
    "    \n",
    "def empty():\n",
    "    if stack:\n",
    "        print(0)\n",
    "    else:\n",
    "        print(1)\n",
    "        \n",
    "        \n",
    "def top():\n",
    "    if stack:\n",
    "        print(stack[-1])\n",
    "    else:\n",
    "        print(-1)\n",
    "\n",
    "\n",
    "N = int(input())\n",
    "stack = []\n",
    "orders = []\n",
    "for _ in range(N):\n",
    "    orders.append(input().split())\n",
    "for i in range(N):\n",
    "    if orders[i][0] == 'push':\n",
    "        x = str(orders[i][-1])\n",
    "        xx = 'push' + '(' + x + ')'\n",
    "        xxx = ''.join(xx)  \n",
    "        eval(xxx)\n",
    "    else:\n",
    "        y = orders[i][0] + '()'\n",
    "        eval(y)\n",
    "        \n",
    "# input\n",
    "# 14\n",
    "# push 1\n",
    "# push 2\n",
    "# top\n",
    "# size\n",
    "# empty\n",
    "# pop\n",
    "# pop\n",
    "# pop\n",
    "# size\n",
    "# empty\n",
    "# pop\n",
    "# push 3\n",
    "# empty\n",
    "# top"
   ]
  },
  {
   "cell_type": "markdown",
   "id": "c97c25ba-4c4d-4ed3-9b74-86adc3429ea2",
   "metadata": {},
   "source": [
    "## 제로\n",
    "- 문제 출처: [백준 10773번](https://www.acmicpc.net/problem/10773)\n",
    "\n",
    "`-` 스택 구조를 통해 해결하면 된다"
   ]
  },
  {
   "cell_type": "code",
   "execution_count": 1,
   "id": "bfd59619-aadc-409c-a829-a2c82d22c1b9",
   "metadata": {},
   "outputs": [
    {
     "name": "stdin",
     "output_type": "stream",
     "text": [
      " 4\n",
      " 3\n",
      " 0\n",
      " 4\n",
      " 0\n"
     ]
    },
    {
     "name": "stdout",
     "output_type": "stream",
     "text": [
      "0\n"
     ]
    }
   ],
   "source": [
    "K = int(input())\n",
    "stack = []\n",
    "for _ in range(K):\n",
    "    num = int(input())\n",
    "    if num == 0:\n",
    "        stack.pop()\n",
    "    else:\n",
    "        stack.append(num)   \n",
    "print(sum(stack))\n",
    "\n",
    "# input\n",
    "# 4\n",
    "# 3\n",
    "# 0\n",
    "# 4\n",
    "# 0"
   ]
  },
  {
   "cell_type": "markdown",
   "id": "a744685e-ebd8-461c-bcfa-20813eb60b65",
   "metadata": {},
   "source": [
    "## 괄호\n",
    "- 문제 출처: [백준 9012번](https://www.acmicpc.net/problem/9012)\n",
    "\n",
    "`-` '('가 입력되면 스택에 추가하고 ')'가 입력되면 제거하는 방식으로 오류가 발생하면 잘못된 문자열임을 판단하자"
   ]
  },
  {
   "cell_type": "code",
   "execution_count": 11,
   "id": "cea1e74f-2417-486b-97f1-cd66a31bc670",
   "metadata": {},
   "outputs": [
    {
     "name": "stdin",
     "output_type": "stream",
     "text": [
      " 1\n",
      " (()((())()))\n"
     ]
    },
    {
     "name": "stdout",
     "output_type": "stream",
     "text": [
      "YES\n"
     ]
    }
   ],
   "source": [
    "T = int(input())\n",
    "for _ in range(T):\n",
    "    string = input()\n",
    "    stack = []\n",
    "    cnt = 0  \n",
    "    for i in range(len(string)):\n",
    "        if string[i] == '(':\n",
    "            stack.append('(')\n",
    "        elif string[i] == ')':  # else:로 하면 틀림 ---> 이유 모름\n",
    "            if stack:\n",
    "                stack.pop()\n",
    "            else:\n",
    "                cnt = -1\n",
    "                break\n",
    "    if not stack and cnt == 0:\n",
    "        print(\"YES\")\n",
    "    else:\n",
    "        print(\"NO\")\n",
    "\n",
    "# input\n",
    "# 1\n",
    "# (()((())()))"
   ]
  },
  {
   "cell_type": "markdown",
   "id": "c7af948a-5744-406d-b96c-44f4ad24f536",
   "metadata": {},
   "source": [
    "## 균형잡힌 세상\n",
    "- 문제출처: [백준 4949번](https://www.acmicpc.net/problem/4949)\n",
    "\n",
    "`-` 괄호 문제에서 대괄호가 추가된 경우임\n",
    "\n",
    "`-` stack에 '('와 '['를 추가하고 ')'과 ']'이 입력되었을 때 stack.pop()을 하는데 서로 짝이 맞지 않으면 잘못된 문자열\n",
    "\n",
    "`-` '(', ')'와 '[', ']' 각각의 쌍이 맞지 않아도 잘못된 문자열\n",
    "\n",
    "`-` '('다음에 ')\"이 와야하고 '['다음에 ']'이 와야함 ---> 이를 지키지 않아도 잘못된 문자열\n",
    "\n",
    "`-` input 대신에 sys.stdin.readline을 사용하면 틀림 ---> 이유 모름"
   ]
  },
  {
   "cell_type": "code",
   "execution_count": 16,
   "id": "567e4118-c5b0-4b6f-b579-7fd4efba4141",
   "metadata": {},
   "outputs": [
    {
     "name": "stdin",
     "output_type": "stream",
     "text": [
      " So when I die (the [first] I will see in (heaven) is a score list).\n"
     ]
    },
    {
     "name": "stdout",
     "output_type": "stream",
     "text": [
      "yes\n"
     ]
    },
    {
     "name": "stdin",
     "output_type": "stream",
     "text": [
      " [ first in ] ( first out ).\n"
     ]
    },
    {
     "name": "stdout",
     "output_type": "stream",
     "text": [
      "yes\n"
     ]
    },
    {
     "name": "stdin",
     "output_type": "stream",
     "text": [
      " Half Moon tonight (At least it is better than no Moon at all].\n"
     ]
    },
    {
     "name": "stdout",
     "output_type": "stream",
     "text": [
      "no\n"
     ]
    },
    {
     "name": "stdin",
     "output_type": "stream",
     "text": [
      " A rope may form )( a trail in a maze.\n"
     ]
    },
    {
     "name": "stdout",
     "output_type": "stream",
     "text": [
      "no\n"
     ]
    },
    {
     "name": "stdin",
     "output_type": "stream",
     "text": [
      " Help( I[m being held prisoner in a fortune cookie factory)].\n"
     ]
    },
    {
     "name": "stdout",
     "output_type": "stream",
     "text": [
      "no\n"
     ]
    },
    {
     "name": "stdin",
     "output_type": "stream",
     "text": [
      " ([ (([( [ ] ) ( ) (( ))] )) ]).\n"
     ]
    },
    {
     "name": "stdout",
     "output_type": "stream",
     "text": [
      "yes\n"
     ]
    },
    {
     "name": "stdin",
     "output_type": "stream",
     "text": [
      "  .\n"
     ]
    },
    {
     "name": "stdout",
     "output_type": "stream",
     "text": [
      "yes\n"
     ]
    },
    {
     "name": "stdin",
     "output_type": "stream",
     "text": [
      " .\n"
     ]
    }
   ],
   "source": [
    "while True:    \n",
    "    string = input()\n",
    "    stack = []\n",
    "    cnt = 0\n",
    "    num1 = 0\n",
    "    num2 = 0\n",
    "    if string == '.':\n",
    "        break\n",
    "    else:\n",
    "        for i in string:\n",
    "            if i == '(':\n",
    "                stack.append('(')\n",
    "                num1 += 1\n",
    "            elif i == ')':\n",
    "                num1 -= 1\n",
    "                if num1 < 0:\n",
    "                    cnt = -1 \n",
    "                if stack:\n",
    "                    tmp = stack.pop()\n",
    "                    if tmp != '(':\n",
    "                        cnt = -1\n",
    "                        break\n",
    "            elif i == '[':\n",
    "                stack.append('[')\n",
    "                num2 += 1\n",
    "            elif i == ']':\n",
    "                num2 -= 1\n",
    "                if num2 < 0:\n",
    "                    cnt = -1\n",
    "                if stack:\n",
    "                    tmp = stack.pop()\n",
    "                    if tmp != '[':\n",
    "                        cnt = -1\n",
    "                        break               \n",
    "        if num1 == 0  and num2 == 0 and cnt != -1:\n",
    "            print(\"yes\")\n",
    "        else:\n",
    "            print(\"no\")"
   ]
  },
  {
   "cell_type": "markdown",
   "id": "acd7af8a-1de4-4907-8c93-f6ee3e11a74b",
   "metadata": {},
   "source": [
    "## 스택 수열\n",
    "\n",
    "- 문제 출처: [백준 1874번](https://www.acmicpc.net/problem/1874)\n",
    "\n",
    "`-` stack에 숫자를 $1$부터 $n$까지 push함\n",
    "\n",
    "`-` 그러다가 input으로 받은 nums 리스트의 마지막 원소와 stack의 마지막 원소가 동일하면 pop함\n",
    "\n",
    "`-` pop한 숫자의 배열과 기존의 input으로 받은 nums 리스트의 배열과 동일하면 성공적임\n",
    "\n",
    "`-` 만약 그렇지 않다면 동일한 배열로 만드는 것이 불가능하므로 'NO'를 출력 ---> 불가능한 경우는 다음과 같음\n",
    "\n",
    "`-` push와 pop의 개수가 다름 ---> push는 n번 하지만 동일한 패턴의 배열로 만드는게 불가능하여 pop을 실행 못함 ---> pop의 개수가 적음"
   ]
  },
  {
   "cell_type": "code",
   "execution_count": 6,
   "id": "ecd95fbe-5943-41e8-b43e-2853ccd19862",
   "metadata": {},
   "outputs": [
    {
     "name": "stdin",
     "output_type": "stream",
     "text": [
      " 8\n",
      " 4\n",
      " 3\n",
      " 6\n",
      " 8\n",
      " 7\n",
      " 5\n",
      " 2\n",
      " 1\n"
     ]
    },
    {
     "name": "stdout",
     "output_type": "stream",
     "text": [
      "+\n",
      "+\n",
      "+\n",
      "+\n",
      "-\n",
      "-\n",
      "+\n",
      "+\n",
      "-\n",
      "+\n",
      "+\n",
      "-\n",
      "-\n",
      "-\n",
      "-\n",
      "-\n"
     ]
    }
   ],
   "source": [
    "n = int(input())\n",
    "nums = []\n",
    "stack = []\n",
    "print_ = []\n",
    "for _ in range(n):\n",
    "    nums.append(int(input()))\n",
    "nums.reverse()\n",
    "i = 1\n",
    "cnt = 0\n",
    "while i <= n:\n",
    "    stack.append(i)\n",
    "    print_.append('+')\n",
    "    cnt += 1\n",
    "    if stack and nums:\n",
    "        while stack[-1] == nums[-1]:\n",
    "            if stack[-1] == nums[-1]:\n",
    "                stack.pop()\n",
    "                nums.pop()\n",
    "                print_.append('-')\n",
    "                cnt -= 1\n",
    "            if not stack or not nums:\n",
    "                break\n",
    "    i += 1\n",
    "if cnt == 0:\n",
    "    for j in print_:\n",
    "        print(j)\n",
    "else:\n",
    "    print('NO')"
   ]
  },
  {
   "cell_type": "markdown",
   "id": "1eb1c305-562b-4c71-83e5-002775360e91",
   "metadata": {},
   "source": [
    "## 오큰수\n",
    "- 문제 출처: [백준 17298번](https://www.acmicpc.net/problem/17298)"
   ]
  },
  {
   "cell_type": "markdown",
   "id": "020459c1-abbf-4e19-b2f9-ca10541fa21e",
   "metadata": {},
   "source": [
    "`-` 마지막 인덱스부터 처음 인덱스 순서로 진행할 거임 ($i$는 $N-1 \\to 0$)\n",
    "\n",
    "`-` 일단 `num.pop()`한 값을 tmp에 저장 ---> tmp는 num의 마지막 원소임\n",
    "\n",
    "`-` 그리고 tmp를 stack에 append한다 \n",
    "\n",
    "`-` stack은 `num[i]`의 오큰수를 찾는 역할임 ---> stack에는 num의 마지막 원소부터 처음 원소까지 append된다\n",
    "\n",
    "`-` 스택 구조 특징(후입선출)상 `stack[-1]`은 `num[i]`의 바로 오른쪽이며 `stack[0]`은 `num[i]`와 오른쪽으로 가장 멀리 떨어진 원소임\n",
    "\n",
    "`-` 그래서 stack으로 어떻게 오큰수 찾음? ---> 일단 `tmp > num[i]`이면 `num[i]`의 오큰수는 `tmp`임\n",
    "\n",
    "`-` 만약 `tmp <= num[i]`라면 `stack.pop()`과 비교함\n",
    "\n",
    "`-` 만약 `stack.pop() > num[i]`라면 `num[i]`의 오큰수는 `stack.pop()`임 \n",
    "\n",
    "`-` 만약 `stack.pop() <= num[i]`라면 기존의 `stack.pop()`을 버리고 다시 `stack.pop()`한 값과 비교 ---> stack의 모든 원소와 비교해도 오큰수가 없으면 `-1`\n",
    "\n",
    "`-` 질문검색 참고해서 풀었음"
   ]
  },
  {
   "cell_type": "code",
   "execution_count": 66,
   "id": "a6a53259-e774-4ad6-b212-e2d18da9c914",
   "metadata": {},
   "outputs": [
    {
     "name": "stdin",
     "output_type": "stream",
     "text": [
      " 4\n",
      " 9 5 4 8\n"
     ]
    },
    {
     "name": "stdout",
     "output_type": "stream",
     "text": [
      "-1 8 8 -1\n"
     ]
    }
   ],
   "source": [
    "N = int(input())\n",
    "num = list(map(int, input().split()))\n",
    "arr = [-1] * N\n",
    "stack = []\n",
    "for i in range(N - 2, -1, -1):\n",
    "    tmp = num.pop()  # num[i]와 num[i+1](=tmp)을 비교하기 위한 수단, for문을 반복할 때 마다 num의 마지막 원소가 pop되어짐 ---> 총 (N-2-0)+1개 pop\n",
    "    stack.append(tmp)  # num의 마지막원소부터 계속하여 추가함\n",
    "    while stack:\n",
    "        if num[i] < tmp:\n",
    "            arr[i] = tmp\n",
    "            break\n",
    "        else:\n",
    "            val = stack.pop()\n",
    "            if num[i] < val:\n",
    "                arr[i] = val\n",
    "                stack.append(val)  # num[i]와 비교를 위해 val를 pop했는데 num[i] < val이어서 아직 val은 쓸모 있음 ---> 그러므로 다시 val을 append  \n",
    "                break\n",
    "            else:  # num[i] >= stack.pop() ---> num[i]의 오른쪽 숫자중에서 가장 왼쪽에 있는 수 부터 살펴봄 --->\n",
    "                arr[i] = -1  # 그런데 num[i]보다 더 작으므로 앞으로 쓸모가 없음(val을 다시 append하지 않음) ---> 왜냐면 앞으로 탐색할 것은 num[i]의 왼쪽에 있는 수 인데 예로 num[x]라 하자\n",
    "                             # stack.pop()이 num[x]의 오큰수하 하자 ---> 그런데 stack.pop() >= num[i]이므로 num[x]의 오큰수는 num[i]가 됨 ---> 그러므로 stack.pop()은 이제 무쓸모 \n",
    "print(*arr)\n",
    "\n",
    "## input ---> N = 4, num = 9 5 4 8 "
   ]
  },
  {
   "cell_type": "markdown",
   "id": "42dfb268-a454-476f-9d12-f34955f187c4",
   "metadata": {},
   "source": [
    "## 도키도키 간식드리미\n",
    "\n",
    "- 문제 출처: [백준 12789번](https://www.acmicpc.net/problem/12789)"
   ]
  },
  {
   "cell_type": "markdown",
   "id": "aaa4dfd4-b412-452d-a5b6-ac7372adaff7",
   "metadata": {},
   "source": [
    "`-` 지금 간식을 받는 차례의 번호를 타겟 넘버라고 하자\n",
    "\n",
    "`-` 타겟 넘버가 대기열에 있다면 타겟 넘버가 나올 때까지 대기열 앞에서부터 사람을 빼내어 임시 공간에 넣는다\n",
    "\n",
    "`-` 타겟 넘버가 임시 공간에 있다면 임시 공간에 마지막으로 들어간 사람이 타겟 넘버를 가진 사람인지 확인한다\n",
    "\n",
    "`-` 만약 아니라면 간식을 무사히 받을 수 없다\n",
    "\n",
    "`-` 타겟이 간식을 받는데 성공했다면 타겟 넘버를 1 증가시키고 위의 과정을 모든 사람이 간식을 받을 때까지 반복한다"
   ]
  },
  {
   "cell_type": "code",
   "execution_count": 14,
   "id": "f851bc7b-91fa-4356-a6bd-a1ab9f491c2e",
   "metadata": {},
   "outputs": [
    {
     "name": "stdin",
     "output_type": "stream",
     "text": [
      " 5\n",
      " 4 5 1 3 2\n"
     ]
    },
    {
     "name": "stdout",
     "output_type": "stream",
     "text": [
      "Sad\n"
     ]
    }
   ],
   "source": [
    "from collections import deque\n",
    "\n",
    "\n",
    "def solution(students, n):\n",
    "    tmp = []\n",
    "    students = deque(students)\n",
    "    target_number = 1\n",
    "    while target_number <= n:\n",
    "        if target_number in students:\n",
    "            while True:\n",
    "                s = students.popleft()\n",
    "                if s != target_number:\n",
    "                    tmp.append(s)\n",
    "                else:\n",
    "                    target_number += 1\n",
    "                    break\n",
    "        if target_number in tmp:\n",
    "            t = tmp.pop()\n",
    "            if t != target_number:\n",
    "                return \"Sad\"\n",
    "            else:\n",
    "                target_number += 1\n",
    "    return \"Nice\"\n",
    "\n",
    "            \n",
    "N = int(input())\n",
    "students = list(map(int, input().split()))\n",
    "answer = solution(students, N)\n",
    "print(answer)\n",
    "\n",
    "# input\n",
    "# 5\n",
    "# 4 5 1 3 2"
   ]
  },
  {
   "cell_type": "markdown",
   "id": "27b9fc6c-a807-48d0-8647-9569f47484e5",
   "metadata": {},
   "source": [
    "## 히스토그램\n",
    "\n",
    "- 문제 출처: [백준 1725번](https://www.acmicpc.net/problem/1725)"
   ]
  },
  {
   "cell_type": "markdown",
   "id": "5223c82c-1dfe-4038-baa1-816ecce0755f",
   "metadata": {},
   "source": [
    "`-` 세그먼트 트리를 사용해서 푸는 것으로 알려진 문제이지만 분할 정복과 스택으로도 풀 수 있다고 한다\n",
    "\n",
    "`-` 둘 다 생각해봤는데 분할 정복으로는 못 풀었고 대신 스택으로 풀어보자\n",
    "\n",
    "`-` 분할 정복 풀이도 생각해 봤는데 알고리즘의 시간 복잡도가 $O\\left(N^2\\right)$이다\n",
    "\n",
    "`-` 분할 정복의 기본 아이디어는 현재 히스토그램의 최솟값을 밑에서 자르고 난 후의 히스토그램에 대해 함수를 재귀적으로 적용하는 것이다\n",
    "\n",
    "`-` 어떤식으로 직사각형을 만들어도 최솟값은 포함하니 성립한다 (그런데 최솟값 탐색이 $O(N)$이라 전체적으로 $O\\left(N^2\\right)$임)\n",
    "\n",
    "`-` 계단 모양으로 히스토그램이 생기면 카운터 맞는다\n",
    "\n",
    "`-` 한편, 병합하는 로직도 추가적으로 고려해야 한다\n",
    "\n",
    "`-` 근데 시간 안에 풀려면 가로가 아니라 가운데 세로를 기준으로 자르고 난 뒤에 뭘 해야되는데 어떻게 해야될지 모르겠음\n",
    "\n",
    "`-` 아무튼 분할 정복은 버리고 스택을 활용해 문제를 풀어보자\n",
    "\n",
    "`-` 기본 아이디어는 동일 높이의 직사각형을 오른쪽으로 확장시키되 확장이 불가능한 직사각형은 pop하는 것이다\n",
    "\n",
    "`-` 처음 직사각형의 높이와 인덱스를 튜플 형식으로 스택에 넣는다\n",
    "\n",
    "`-` 입력이 $2, 1, 4, 5, 1, 3, 3$이라고 해보자\n",
    "\n",
    "`-` 그러면 스택에 $(2, 0)$을 넣는다\n",
    "\n",
    "`-` 다음 직사각형의 높이는 $1$이다\n",
    "\n",
    "`-` 따라서 스택에 있던 높이 $2$짜리 직사각형은 이제 오른쪽으로 확장이 불가능하다\n",
    "\n",
    "`-` 갱신이 불가능하니 pop하자\n",
    "\n",
    "`-` 인덱스가 $0$이고 지금 인덱스는 $1$이므로 $2\\times(1-0)$을 정답으로 갱신 시도한다\n",
    "\n",
    "`-` 그 후 $(1, 0)$을 스택에 넣는다\n",
    "\n",
    "`-` 인덱스가 $1$이 아닌 $0$인 이유는 값이 $2$보다 작으므로 오른쪽뿐만 아니라 왼쪽으로도 확장할 수 있기 때문이다\n",
    "\n",
    "`-` 따라서 현재 인덱스 대신 마지막으로 pop한 직사각형의 인덱스를 사용해야 한다\n",
    "\n",
    "`-` 다음 직사각형의 높이는 $4$이다\n",
    "\n",
    "`-` 현재 스택에 있는 직사각형의 높이는 $1$이다\n",
    "\n",
    "`-` 이보다 높으므로 스택에 인덱스와 함께 넣으면 $(4,2)$이다\n",
    "\n",
    "`-` 마찬가지로 $(5,3)$도 넣는다\n",
    "\n",
    "`-` 그 다음 직사각형의 높이는 $1$이다\n",
    "\n",
    "`-` $5$보다 작으므로 pop하고 $5\\times(4-3)$을 정답으로 갱신 시도한다\n",
    "\n",
    "`-` $4$보다 작으므로 pop하고 $4\\times(4-2)$을 정답으로 갱신 시도한다\n",
    "\n",
    "`-` $1$과 같으므로 굳이 스택에 넣을 필요 없다\n",
    "\n",
    "`-` 다음 직사각형의 높이는 $3$이다\n",
    "\n",
    "`-` $(3,5)$를 스택에 넣는다\n",
    "\n",
    "`-` 다음 직사각형의 높이도 $3$이다\n",
    "\n",
    "`-` 스택의 마지막 원소와 높이가 같으므로 스택에 넣을 필요가 없다\n",
    "\n",
    "`-` 이러면 모든 직사각형에 대해 탐색이 끝났고 이제 스택을 확인하자\n",
    "\n",
    "`-` 현재 인덱스는 $6$이고 스택의 원소는 $(1,1),(3,5)$이다\n",
    "\n",
    "`-` 인덱스 $6$까지 스택의 직사각형은 오른쪽으로 확장이 가능하므로 $1\\times(6-1+1),\\; 3\\times(6-5+1)$을 정답으로 갱신 시도한다\n",
    "\n",
    "`-` 한 번 pop한 원소는 끝이고 탐색을 $N$번 하므로 $O(N)$에 정답을 계산할 수 있다\n",
    "\n",
    "`-` 핵심 아이디어는 다음과 같다\n",
    "\n",
    "`-` 스택의 마지막 원소보다 큰 값이 들어오면 현재 스택에 있는 모든 원소가 같이 갱신된다\n",
    "\n",
    "`-` 작은 값이 들어오면 더 이상 갱신이 불가능하므로 pop하고 현재 직사각형의 넓이만 고려하면 된다\n",
    "\n",
    "`-` 또한 작은 값이 들어오면 직사각형 확장을 오른쪽말고 왼쪽으로도 가능하다\n",
    "\n",
    "`-` 그래서 작은 값은 append할 때 마지막으로 pop한 직사각형의 인덱스를 사용해야 한다"
   ]
  },
  {
   "cell_type": "code",
   "execution_count": 17,
   "id": "8e296a09-be25-4be4-b3c8-3884f5a51b98",
   "metadata": {},
   "outputs": [
    {
     "name": "stdin",
     "output_type": "stream",
     "text": [
      " 7\n",
      " 2\n",
      " 1\n",
      " 4\n",
      " 5\n",
      " 1\n",
      " 3\n",
      " 3\n"
     ]
    },
    {
     "name": "stdout",
     "output_type": "stream",
     "text": [
      "8\n"
     ]
    }
   ],
   "source": [
    "def solution():\n",
    "    N = int(input())\n",
    "    HEIGHT = 0\n",
    "    INDEX = 1\n",
    "    stack = [(0, 0)]  # 편의상 (0, 0)을 넣자, 첫 번째 원소는 직사각형의 높이, 두 번째는 시작 인덱스이다\n",
    "    answer = 0\n",
    "    for i in range(N):\n",
    "        h = int(input())\n",
    "        if h > stack[-1][HEIGHT]:\n",
    "            stack.append((h, i))\n",
    "        elif h < stack[-1][HEIGHT]:\n",
    "            while stack and h < stack[-1][HEIGHT]:\n",
    "                height, index = stack.pop()\n",
    "                area = height * (i - index)\n",
    "                answer = max(area, answer)\n",
    "            stack.append((h, index))\n",
    "    for h, i in stack:\n",
    "        area = h * (N - i)\n",
    "        answer = max(area, answer)\n",
    "    print(answer)\n",
    "\n",
    "\n",
    "solution()\n",
    "\n",
    "# input\n",
    "# 7\n",
    "# 2\n",
    "# 1\n",
    "# 4\n",
    "# 5\n",
    "# 1\n",
    "# 3\n",
    "# 3"
   ]
  },
  {
   "cell_type": "markdown",
   "id": "bcad651d-1b57-4740-ac1f-f4dfc2c405ca",
   "metadata": {},
   "source": [
    "## 문자열 폭발\n",
    "\n",
    "- 문제 출처: [백준 9935번](https://www.acmicpc.net/problem/9935)"
   ]
  },
  {
   "cell_type": "markdown",
   "id": "0e295d60-3e7c-4e43-a5be-b70ce26c5617",
   "metadata": {},
   "source": [
    "`-` 폭발 문자열은 같은 문자를 $2$개 이상 가지지 않는다\n",
    "\n",
    "`-` 스택에 입력 문자를 하나씩 넣는 것을 가정하자\n",
    "\n",
    "`-` 폭발 문자열의 길이를 $L_s$라고 하자\n",
    "\n",
    "`-` 스택에 있는 문자열이 폭발 문자열의 몇 번째 원소까지 동일한지 체크하기 위해 인덱스 $i$를 고려하자\n",
    "\n",
    "`-` 문자가 하나 입력으로 들어오면 기준에 맞춰 해당 문자와 인덱스를 튜플 형태로 스택에 넣을 것이다\n",
    "\n",
    "`-` 스택의 마지막 원소의 인덱스를 $i_s$라고 하자\n",
    "\n",
    "`-` 만약 스택이 비어있다면 입력된 문자가 폭발 문자열의 첫 번째 문자와 같은지 확인해서 같다면 $i$는 $0$이고 다르면 $-1$로 하자\n",
    "\n",
    "`-` 스택이 비어있지 않다고 할 때 폭발 문자열이 될려면 입력된 문자가 폭발 문자열의 $i_s + 1$번째 문자와 같아야 한다\n",
    "\n",
    "`-` 같다면 해당 문자와 $i_s + 1$을 튜플 형태로 스택에 넣자\n",
    "\n",
    "`-` 그게 아니라면 해당 문자는 폭발 문자열의 첫 번째 원소와 같거나 같지 않다\n",
    "\n",
    "`-` 일단 스택에 있던 기존의 원소는 절대로 폭발 문자열이 될 수 없다\n",
    "\n",
    "`-` 지금 입력으로 들어온 문자가 첫 번째 원소와 같다면 해당 문자를 시작으로 하는 폭발 문자열이 생길 수도 있다\n",
    "\n",
    "`-` 같다면 인덱스를 $0$으로 하고 그렇지 않다면 불가능의 의미로 $-1$을 인덱스로 설정하여 스택에 넣자\n",
    "\n",
    "`-` 만약 스택의 마지막 원소의 인덱스가 $L_s -1$과 동일하다면 폭발이 발생한 것이다\n",
    "\n",
    "`-` 스택에서 폭발 문자열의 길이만큼 pop을 수행하면 된다\n",
    "\n",
    "`-` 문자열의 길이를 $N$이라고 하자\n",
    "\n",
    "`-` 이 알고리즘을 for문을 $N$번 순회하고 폭발이 발생했을 때 pop 메서드를 최악의 경우 $N$번 반복하는데 이는 바깥 for문과 별개이다\n",
    "\n",
    "`-` 따라서 알고리즘의 시간 복잡도는 $O(N+N)=O(N)$이다"
   ]
  },
  {
   "cell_type": "code",
   "execution_count": 12,
   "id": "d706e6eb-27f1-4eda-b558-9647a81d9e1a",
   "metadata": {},
   "outputs": [
    {
     "name": "stdin",
     "output_type": "stream",
     "text": [
      " mirkovC4nizCC44\n",
      " C4\n"
     ]
    },
    {
     "name": "stdout",
     "output_type": "stream",
     "text": [
      "mirkovniz\n"
     ]
    }
   ],
   "source": [
    "def explode_string(string, explosion_string):\n",
    "    stack = []  # (문자, 몇 번째 폭발 문자와 일치하는지 나타내는 인덱스)\n",
    "    explosion_string_length = len(explosion_string)\n",
    "    impossible_mark = -1\n",
    "    for s in string:\n",
    "        if not stack:\n",
    "            if s == explosion_string[0]:\n",
    "                stack.append((s, 0))\n",
    "            else:\n",
    "                stack.append((s, impossible_mark))\n",
    "        else:\n",
    "            index = stack[-1][1]\n",
    "            if s == explosion_string[index + 1]:  # -1의 다음 인덱스는 0이므로 impossible_mark인지 확인 안해도 됨\n",
    "                stack.append((s, index + 1))\n",
    "            elif s == explosion_string[0]:\n",
    "                stack.append((s, 0))\n",
    "            else:\n",
    "                stack.append((s, impossible_mark))\n",
    "        has_exploded = stack[-1][1] == explosion_string_length - 1\n",
    "        if not has_exploded:\n",
    "            continue\n",
    "        for _ in range(explosion_string_length):\n",
    "            stack.pop()\n",
    "    return stack\n",
    "\n",
    "\n",
    "def solution():\n",
    "    string = input()\n",
    "    explosion_string = input()\n",
    "    stack = explode_string(string, explosion_string) \n",
    "    stack_length = len(stack)\n",
    "    if stack_length == 0:\n",
    "        print(\"FRULA\")\n",
    "        return\n",
    "    print(\"\".join(map(lambda x: x[0], stack)))\n",
    "\n",
    "\n",
    "solution()\n",
    "\n",
    "# input\n",
    "# mirkovC4nizCC44\n",
    "# C4"
   ]
  },
  {
   "cell_type": "code",
   "execution_count": null,
   "id": "33df3cc0-744a-4dcb-a464-a11f11e4f7be",
   "metadata": {},
   "outputs": [],
   "source": []
  }
 ],
 "metadata": {
  "kernelspec": {
   "display_name": "Python 3 (ipykernel)",
   "language": "python",
   "name": "python3"
  },
  "language_info": {
   "codemirror_mode": {
    "name": "ipython",
    "version": 3
   },
   "file_extension": ".py",
   "mimetype": "text/x-python",
   "name": "python",
   "nbconvert_exporter": "python",
   "pygments_lexer": "ipython3",
   "version": "3.8.11"
  }
 },
 "nbformat": 4,
 "nbformat_minor": 5
}
