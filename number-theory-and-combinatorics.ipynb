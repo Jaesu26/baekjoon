{
 "cells": [
  {
   "cell_type": "markdown",
   "id": "83e87270-fab3-425c-a456-24a10d8a6dd1",
   "metadata": {},
   "source": [
    "# 정수론 및 조합론 "
   ]
  },
  {
   "cell_type": "markdown",
   "id": "e388c9ab-a25f-42aa-93b1-ccb4ab5fcbf3",
   "metadata": {},
   "source": [
    "## 이항 계수 2 "
   ]
  },
  {
   "cell_type": "markdown",
   "id": "94587450-f106-4607-a558-e74d8a9f2e04",
   "metadata": {},
   "source": [
    "`-` 자연수 N과 정수 K가 주어졌을 때 이항 계수 $\\binom{N}{K}$를 10,007로 나눈 나머지를 구하는 프로그램을 작성하시오"
   ]
  },
  {
   "cell_type": "markdown",
   "id": "c7ea5ae3-5093-40df-89f0-330357115e59",
   "metadata": {},
   "source": [
    "`-` $ _{n}\\rm C_{k}\\;=\\; _{n-1}\\rm C_{k-1}\\;+\\;_{n-1}\\rm C_{k}$\n",
    "\n",
    "`-` n명 중 k명을 선택하는 방법 = 일단 나를 k명에 포함하고 나머지 n-1명 중 k-1명을 선택하는 방법 + 나를 k명에서 제외하고 나머지 n-1명 중 k명을 선택하는 방법\n",
    "\n",
    "`-` 메모이제이션 활용"
   ]
  },
  {
   "cell_type": "markdown",
   "id": "c5f4b4b6-5489-42fe-81c9-458f2c877fee",
   "metadata": {},
   "source": [
    "`-` 아래 코드는 수를 곱하고 나누고 하는 과정에서 오차가 발생함(이유 알 것 같음)"
   ]
  },
  {
   "cell_type": "code",
   "execution_count": 34,
   "id": "82487ec2-4370-4a6e-825a-cf9fd2d73de9",
   "metadata": {},
   "outputs": [
    {
     "name": "stdin",
     "output_type": "stream",
     "text": [
      " 1000 500\n"
     ]
    },
    {
     "name": "stdout",
     "output_type": "stream",
     "text": [
      "270288240945436736896419468186285475891156693372573153808127299354545159392842888344379470775469423606583114895222426893312341135200171386904964166401328583914403638232447354301148995510201690344719626632436541851159067180652764129719441081806265387434048424366211327146525860903129335008845962936320\n"
     ]
    }
   ],
   "source": [
    "def binom(n, k):\n",
    "    frac = 1    \n",
    "    if k == 0:\n",
    "        return frac\n",
    "    for i in range(k):\n",
    "        frac *= (n - i)\n",
    "        frac /= (k - i)\n",
    "    return frac\n",
    "    \n",
    "N, K = map(int, input().split())\n",
    "if K > N - K:\n",
    "    K = N - K\n",
    "print(binom(N, K))    \n",
    "    \n",
    "# input\n",
    "# 1000 500"
   ]
  },
  {
   "cell_type": "markdown",
   "id": "9b62977a-ebb2-44ff-9982-644d747c5c5f",
   "metadata": {},
   "source": [
    "`-` 아래코드는 메모이제이션으로 구현했다\n",
    "\n",
    "`-` 계산해보면 알겠지만 $_{1000}\\rm C_{500}$은 매우$\\times 100$ 큰 수이다 (300자리)\n",
    "\n",
    "`-` 그래서 $_{1000}\\rm C_{500}$를 계산할 때 위와같이 구하면 곱하고 나누는 과정에서 소수점 오차가 발생하고 이는 결과적으로 밑의 코드와 다른 값을 출력하게 된다\n",
    "\n",
    "`-` 메모이제이션을 안 쓴 코드와 쓴 코드로 구한 $_{1000}\\rm C_{500}$ 값을 비교하면 다른 것을 알 수 있다\n",
    "\n",
    "`-` 아래 코드는 오류 발생(만약 위의 코드가 오차없이 답을 구한다면 똑같이 오류 발생) ---> 재귀 깊이에 관한 오류\n",
    "\n",
    "`-` 백준에서 정한 파이썬 재귀 깊이는 1000이다. 즉, 같은 함수를 1000번 이상 호출하면 오류가 난다\n",
    "\n",
    "`-` 그래서 오류가 나지 않으려면 재귀 깊이를 sys.setrecursionlimit()를 통해 바꾸던가 해야함\n",
    "\n",
    "`-` 오류가 발생한 이유를 알았으니 아래 코드를 다시 수정함"
   ]
  },
  {
   "cell_type": "code",
   "execution_count": 33,
   "id": "f04380e9-745c-47f5-a3e4-36d8a1275deb",
   "metadata": {},
   "outputs": [
    {
     "name": "stdin",
     "output_type": "stream",
     "text": [
      " 1000 500\n"
     ]
    },
    {
     "name": "stdout",
     "output_type": "stream",
     "text": [
      "270288240945436569515614693625975275496152008446548287007392875106625428705522193898612483924502370165362606085021546104802209750050679917549894219699518475423665484263751733356162464079737887344364574161119497604571044985756287880514600994219426752366915856603136862602484428109296905863799821216320\n"
     ]
    }
   ],
   "source": [
    "import sys\n",
    "sys.setrecursionlimit(10**6)\n",
    "\n",
    "N, K = map(int, input().split())\n",
    "if K > N - K:\n",
    "    K = N - K\n",
    "\n",
    "binom_list = [[-1] * 501 for _ in range(1001)]\n",
    "\n",
    "\n",
    "def binom(n, k):\n",
    "    if binom_list[n][k] != -1:\n",
    "        return binom_list[n][k]\n",
    "    elif n < k:\n",
    "        return 0\n",
    "    elif k == 0:\n",
    "        return 1\n",
    "    elif n == 1:\n",
    "        return 1\n",
    "    binom_list[n][k] = binom(n-1, k) + binom(n-1, k-1)\n",
    "    return binom_list[n][k]\n",
    "    \n",
    "print(binom(N, K))    \n",
    "\n",
    "# input\n",
    "# 1000 500"
   ]
  },
  {
   "cell_type": "markdown",
   "id": "bae48282-d118-4c3e-b609-b6f160a54b4b",
   "metadata": {},
   "source": [
    "`-` 사실 재귀함수를 사용하지 않고 첫 번째 코드를 수정하는 것으로도 정답을 맞출 수 있다"
   ]
  },
  {
   "cell_type": "markdown",
   "id": "66f06fb9-f21c-4448-8f60-86e0547ea19a",
   "metadata": {},
   "source": [
    "`-` 문제는 `/(나누기)` 이다 `/` 대신 `//(몫 구하기)`를 사용하면 해결된다\n",
    "\n",
    "`-` `/(나누기 연산자)`는 큰 값을 계산할 때 오차에 취약하다 \n",
    "\n",
    "`-` 그래서 // 를 쓰는 것이 좋다. 물론 /와 // 결과가 같을 때 ex) 10 / 2 = 10 // 2"
   ]
  },
  {
   "cell_type": "markdown",
   "id": "1a3c689c-8fa6-486c-a63b-52f6eacfb448",
   "metadata": {},
   "source": [
    "`-` 밑의 코드 결과는 메모이제이션을 사용한 코드와 같은 것을 알 수 있다"
   ]
  },
  {
   "cell_type": "code",
   "execution_count": 40,
   "id": "610d53f6-a231-4b26-baf4-4dd46350b775",
   "metadata": {},
   "outputs": [
    {
     "name": "stdin",
     "output_type": "stream",
     "text": [
      " 1000 500\n"
     ]
    },
    {
     "name": "stdout",
     "output_type": "stream",
     "text": [
      "270288240945436569515614693625975275496152008446548287007392875106625428705522193898612483924502370165362606085021546104802209750050679917549894219699518475423665484263751733356162464079737887344364574161119497604571044985756287880514600994219426752366915856603136862602484428109296905863799821216320\n"
     ]
    }
   ],
   "source": [
    "N, K = map(int, input().split())\n",
    "if K > N - K:\n",
    "    K = N - K\n",
    "\n",
    "def binom(n, k):\n",
    "    frac = 1    \n",
    "    \n",
    "    for i in range(k):\n",
    "        frac *= (n - i)\n",
    "\n",
    "    for i in range(k):\n",
    "        frac //= (k - i)\n",
    "    \n",
    "    return frac\n",
    "    \n",
    "print(binom(N, K))    \n",
    "  \n",
    "# input\n",
    "# 1000 500"
   ]
  },
  {
   "cell_type": "markdown",
   "id": "2a46c82d-6ed7-42b0-873a-38a86abba0f0",
   "metadata": {},
   "source": [
    "## 팩토리얼 0의 개수\n",
    "- 문제 출처: [백준 1676번](https://www.acmicpc.net/problem/1676)"
   ]
  },
  {
   "cell_type": "markdown",
   "id": "c1232469-8358-4f6a-af68-7927b9cf0cda",
   "metadata": {},
   "source": [
    "`-` 끝이 0인 수는 어떤 수를 곱하든지 간에 0으로 끝남\n",
    "\n",
    "`-` 2와 5가 곱해지면 10이 됨 ---> 10이 한 번 곱해질 때마다 0의 개수가 1개 증가함\n",
    "\n",
    "`-` 2의 개수가 5의 개수보다 훨씬 많으므로 사실상 5의 개수는 0의 개수와 동일함\n",
    "\n",
    "`-` 25와 같이 5가 여러번 곱해진 수를 잘 고려해야 함"
   ]
  },
  {
   "cell_type": "code",
   "execution_count": 1,
   "id": "97938b59-fd2e-46e0-9229-9d522696659a",
   "metadata": {},
   "outputs": [
    {
     "name": "stdin",
     "output_type": "stream",
     "text": [
      " 25\n"
     ]
    },
    {
     "name": "stdout",
     "output_type": "stream",
     "text": [
      "6\n"
     ]
    }
   ],
   "source": [
    "N = int(input())\n",
    "cnt = 0\n",
    "\n",
    "for i in range(1, N+1):\n",
    "    val = i\n",
    "    while val % 5 == 0:\n",
    "        if val % 5 == 0:\n",
    "            val //= 5\n",
    "            cnt += 1\n",
    "        \n",
    "print(cnt)    \n",
    "## input ---> 25"
   ]
  },
  {
   "cell_type": "markdown",
   "id": "ab654d98-e4f5-48bc-ab5d-05ec81c7a993",
   "metadata": {},
   "source": [
    "`-` 간결한 코드 숏코딩에서 찾음\n",
    "\n",
    "`-` N의 범위는 최대 500으로 이를 넘지않는 5의 거듭제곱수는 $5^3$임\n",
    "\n",
    "`-` 즉 N을 5로 나눈 몫을 통해 5의 배수의 개수를 찾음\n",
    "\n",
    "`-` 25의 배수(<125)는 소인수 5의 개수가 2개이므로 N을 25로 나눔으로써 25의 배수를 찾고 마찬가지로 125로 나눠 125 배수의 개수를 찾음\n",
    "\n",
    "`-` 이를 모두 더하면 소인수 5의 총 개수임"
   ]
  },
  {
   "cell_type": "code",
   "execution_count": 3,
   "id": "8b24038d-6e55-41f2-adae-f23349f6aad3",
   "metadata": {},
   "outputs": [
    {
     "name": "stdin",
     "output_type": "stream",
     "text": [
      " 25\n"
     ]
    },
    {
     "name": "stdout",
     "output_type": "stream",
     "text": [
      "6\n"
     ]
    }
   ],
   "source": [
    "N = int(input())\n",
    "\n",
    "print(N//5 + N//25 + N//125)\n",
    "## input ---> 25"
   ]
  },
  {
   "cell_type": "markdown",
   "id": "1da1b301-4fc6-4c2c-978d-826c47a24823",
   "metadata": {},
   "source": [
    "## 조합 0의 개수\n",
    "- 문제 출처: [백준 2004번](https://www.acmicpc.net/problem/2004)"
   ]
  },
  {
   "cell_type": "markdown",
   "id": "427d78bf-e013-42b6-bd6a-f1103f757588",
   "metadata": {},
   "source": [
    "`-` 팩토리얼 0의 개수를 푼 것과 같이 풀면 된다\n",
    "\n",
    "`-` 2와 5의 개수를 세서 2와 5중 더 적은 숫자만큼 끝자리에 0이 생김\n",
    "\n",
    "`-` 바로 for문 사용하면 N, M의 범위 때문에 시간초과임"
   ]
  },
  {
   "cell_type": "code",
   "execution_count": 13,
   "id": "63b92294-95bf-4afd-84bd-7fdbd3529115",
   "metadata": {},
   "outputs": [
    {
     "name": "stdin",
     "output_type": "stream",
     "text": [
      " 25 12\n"
     ]
    },
    {
     "name": "stdout",
     "output_type": "stream",
     "text": [
      "2\n"
     ]
    }
   ],
   "source": [
    "N, M = map(int, input().split())\n",
    "\n",
    "if N - M < M:\n",
    "    M = N - M\n",
    "\n",
    "k = j = i = 1\n",
    "i2 = j2 = k2 = 1\n",
    "cnt2 = cnt = 0\n",
    "\n",
    "## n C m = n! / (n-m)! / m!\n",
    "while 5**i < 2000000001: ## n!의 소인수 5의 개수를 더해줌\n",
    "    cnt += N // (5**i)\n",
    "    i += 1\n",
    "    \n",
    "while 5**j < 1000000001: ## m!의 소인수 5의 개수를 빼줌\n",
    "    cnt -= M // (5**j)\n",
    "    j += 1\n",
    "\n",
    "while 5**k < 2000000001: ## (n-m)!의 소인수 5의 개수를 빼줌\n",
    "    cnt -= (N - M) // (5**k)\n",
    "    k += 1\n",
    "\n",
    "while 2**i2 < 2000000001: ## n!의 소인수 2의 개수를 더해줌\n",
    "    cnt2 += N // (2**i2)\n",
    "    i2 += 1\n",
    "    \n",
    "while 2**j2 < 1000000001: ## m!의 소인수 2의 개수를 뺴줌\n",
    "    cnt2 -= M // (2**j2)\n",
    "    j2 += 1\n",
    "\n",
    "while 2**k2 < 2000000001: ## (n-m)!의 소인수 2의 개수를 빼줌\n",
    "    cnt2 -= (N - M) // (2**k2)\n",
    "    k2 += 1\n",
    "    \n",
    "print(min(cnt, cnt2)) ## 소인수 2와 5의 개수 중 최소값이 끝자리 0의 개수 \n",
    "## input\n",
    "## 25 12"
   ]
  },
  {
   "cell_type": "markdown",
   "id": "94042b0e-bd6a-41e7-9aa4-2eca6c8f912e",
   "metadata": {},
   "source": [
    "## 카잉 달력\n",
    "\n",
    "- 문제 출처: [백준 6064번](https://www.acmicpc.net/problem/6064)"
   ]
  },
  {
   "cell_type": "markdown",
   "id": "f07ca4ef-bb1a-4587-84a1-d40c9ec8c791",
   "metadata": {},
   "source": [
    "`-` 달력에서 $x$의 값은 $q=A \\operatorname{mod} M$이고 $y$의 값은 $p=A \\operatorname{mod} N$이다 ($A$는 시작일로부터 지난 년 수)\n",
    "\n",
    "`-` $A$가 $M$의 배수인 경우 $q=M$이고 이는 $y$도 마찬가지이다\n",
    "\n",
    "`-` 즉, $x$는 시작일로부터 $A=S_1\\times M + q$만큼 지났고 $y$는 시작일로부터 $A=S_2\\times N + p$만큼 지났다 ($S=0,1,2,\\cdots$)\n",
    "\n",
    "`-` 위를 통해 $A-q$는 $M$의 배수이고 $A-p$는 $N$의 배수임을 알 수 있다\n",
    "\n",
    "`-` 문제에 $M,N,x\\,(=q),y\\,(=p)$가 주어지면 $S_1\\times M + q=S_2\\times N + p$을 통해 가능한 년도인지를 판단하자\n",
    "\n",
    "`-` $S_1,S_2$를 $0$부터 $1$씩 증가시키면서 둘이 동일한 값이 나오면 해가 존재하는 것이다\n",
    "\n",
    "`-` 그 때의 $S_1$또는 $S_2$를 위의 식에 대입해 몇번째 해인지를 구할 수 있다\n",
    "\n",
    "`-` 참고로 마지막 날은 $M$과 $N$의 최소공배수이다\n",
    "\n",
    "`-` 즉 $S_1,S_2$를 $0$부터 $1$씩 증가시키는데 둘의 값 모두 최소공배수를 넘어가면 해가 존재하지 않는 것이다"
   ]
  },
  {
   "cell_type": "code",
   "execution_count": 18,
   "id": "5bd4f20f-6f7f-4f3c-a64c-2568f61be408",
   "metadata": {},
   "outputs": [
    {
     "name": "stdin",
     "output_type": "stream",
     "text": [
      " 3\n",
      " 10 12 3 9\n"
     ]
    },
    {
     "name": "stdout",
     "output_type": "stream",
     "text": [
      "33\n"
     ]
    },
    {
     "name": "stdin",
     "output_type": "stream",
     "text": [
      " 10 12 7 2\n"
     ]
    },
    {
     "name": "stdout",
     "output_type": "stream",
     "text": [
      "-1\n"
     ]
    },
    {
     "name": "stdin",
     "output_type": "stream",
     "text": [
      " 13 11 5 6\n"
     ]
    },
    {
     "name": "stdout",
     "output_type": "stream",
     "text": [
      "83\n"
     ]
    }
   ],
   "source": [
    "## 최소공배수 구하기 O(log N)\n",
    "def get_LCM(n, m):\n",
    "    if n > m:\n",
    "        a, b = n, m\n",
    "    else:\n",
    "        a, b = m, n\n",
    "    r = a % b\n",
    "\n",
    "    while r:\n",
    "        tmp = r\n",
    "        r = b % r\n",
    "        b = tmp\n",
    "        \n",
    "    #print(b) ## 최대공약수\n",
    "    n //= b\n",
    "    m //= b\n",
    "    return n * m * b ## 최소공배수 \n",
    "\n",
    "## 연도 구하기\n",
    "def get_year():\n",
    "    LCM = get_LCM(M, N)\n",
    "    x_dict = {}\n",
    "    y_dict = {}\n",
    "    S = 0\n",
    "    while True: \n",
    "        xx = S * M + x \n",
    "        yy = S * N + y\n",
    "        x_dict[xx] = True\n",
    "        y_dict[yy] = True\n",
    "        \n",
    "        if xx in y_dict: ## O(1)\n",
    "            return xx\n",
    "        if yy in x_dict: ## O(1)\n",
    "            return yy\n",
    "        \n",
    "        S += 1\n",
    "        if xx > LCM and yy > LCM:\n",
    "            break\n",
    "    return -1\n",
    "\n",
    "## 입력\n",
    "T = int(input())\n",
    "for _ in range(T):\n",
    "    M, N, x, y = map(int, input().split())\n",
    "    print(get_year())"
   ]
  },
  {
   "cell_type": "markdown",
   "id": "482b7875-e01f-4c9f-9b26-10dfc6181d54",
   "metadata": {},
   "source": [
    "## 조합\n",
    "\n",
    "- 문제 출처: [백준 2407번](https://www.acmicpc.net/problem/2407)"
   ]
  },
  {
   "cell_type": "markdown",
   "id": "154feb8e-46ba-46c7-aaca-ab0a1070a506",
   "metadata": {},
   "source": [
    "`-` $\\binom{n}{m}$을 계산하면 된다"
   ]
  },
  {
   "cell_type": "code",
   "execution_count": 8,
   "id": "9ac036be-630c-4370-b54a-97c33d06f9a0",
   "metadata": {},
   "outputs": [
    {
     "name": "stdin",
     "output_type": "stream",
     "text": [
      " 100 6\n"
     ]
    },
    {
     "name": "stdout",
     "output_type": "stream",
     "text": [
      "1192052400\n"
     ]
    }
   ],
   "source": [
    "n, m = map(int, input().split())\n",
    "if m > n - m:\n",
    "    m = n - m\n",
    "\n",
    "## n_C_m = {n*(n-1)*...*(n-m+1)} / {m*(m-1)*...*1}\n",
    "## 분자는 큰 수부터 곱하고 나누는 것은 몫 연산자를 사용해 작은 수부터 나눴다\n",
    "def binom(n, m):\n",
    "    frac = 1    \n",
    "    if m == 0:\n",
    "        return frac\n",
    "    \n",
    "    for i in range(m):\n",
    "        frac *= (n - i)\n",
    "        frac //= (i + 1)\n",
    "    \n",
    "    return frac\n",
    "    \n",
    "print(binom(n, m))    \n",
    "\n",
    "# input\n",
    "# 100\n",
    "# 6"
   ]
  },
  {
   "cell_type": "markdown",
   "id": "e9daf8f0-a67b-453f-b51b-6dad6d1cbe44",
   "metadata": {},
   "source": [
    "## 다리 놓기\n",
    "\n",
    "- 문제 출처: [백준 1010번](https://www.acmicpc.net/problem/1010)"
   ]
  },
  {
   "cell_type": "markdown",
   "id": "d312398a-f5cc-4a9b-b9ff-20996057d744",
   "metadata": {},
   "source": [
    "`-` $N, M$이 입력으로 주어질 때 다리를 지을 수 있는 경우의 수는 $_{M}\\rm C_{N}$이다"
   ]
  },
  {
   "cell_type": "code",
   "execution_count": 10,
   "id": "64121802-5e1f-4edf-80bc-ea8ebdb1e685",
   "metadata": {},
   "outputs": [
    {
     "name": "stdin",
     "output_type": "stream",
     "text": [
      " 1\n",
      " 13 29\n"
     ]
    },
    {
     "name": "stdout",
     "output_type": "stream",
     "text": [
      "67863915\n"
     ]
    }
   ],
   "source": [
    "def combination(n, m):\n",
    "    if m > n // 2:  # n_C_m = n_C_{n-m}\n",
    "        m = n - m\n",
    "    # n_C_m = n * (n-1) * ... * (n-m+1) / m * (m-1) * ... * 1\n",
    "    result = 1\n",
    "    for i in range(m):\n",
    "        result *= (n - i)\n",
    "        result //= (i + 1)  # 몫 연사자를 사용하기 위해 분모는 작은 수부터 나눈다\n",
    "    return result\n",
    "\n",
    "\n",
    "def solution():\n",
    "    T = int(input())\n",
    "    for _ in range(T):\n",
    "        N, M = map(int, input().split())\n",
    "        answer = combination(M, N)\n",
    "        print(answer)\n",
    "\n",
    "solution()\n",
    "\n",
    "# input\n",
    "# 1\n",
    "# 13 29"
   ]
  },
  {
   "cell_type": "markdown",
   "id": "0d17447b-a12f-4e36-a0e7-5ab45fb43c9c",
   "metadata": {},
   "source": [
    "## 숫자 연결하기\n",
    "\n",
    "- 문제 출처: [백준 1323번](https://www.acmicpc.net/problem/1323)"
   ]
  },
  {
   "cell_type": "markdown",
   "id": "ff123320-b237-4210-9836-cc20ba520c80",
   "metadata": {},
   "source": [
    "`-` 계속해서 $N$을 이어 붙이고 $K$로 나누어 떨어지는지 확인하는 방법은 수도 굉장히 커질뿐더러 불가능한 경우를 색출하지 못한다\n",
    "\n",
    "`-` 숫자를 이어 붙이는 것은 다음과 같이 덧셈으로 나타낼 수 있다\n",
    "\n",
    "`-` $\\overbrace{xx\\cdots x}^{\\text{$n$ times}} = x + 10^m x + 10^{2m} x + 10^{nm} x$, $x$는 $m$ 자릿수\n",
    "\n",
    "`-` $\\overbrace{xx\\cdots x}^{\\text{$n$ times}}$가 $K$로 나누어 떨어진다는 것은 $x + 10^m x + 10^{2m} x + 10^{nm} x$가 $K$로 나누어 떨어진다는 것과 동치이다\n",
    "\n",
    "`-` 이는 덧셈항 각각을 $K$로 나눈 나머지의 합이 $K$의 배수가 되면 $\\overbrace{xx\\cdots x}^{\\text{$n$ times}}$가 $K$로 나누어 떨어진다는 것을 뜻한다\n",
    "\n",
    "`-` 그리고 $x, xx, \\cdots, \\overbrace{xx\\cdots x}^{\\text{$n$ times}}$를 $K$로 나눈 나머지 순열은 규칙을 이루고 최대 길이는 $K$를 넘지 않는다 (이는 경험적으로 찾아냄) "
   ]
  },
  {
   "cell_type": "code",
   "execution_count": null,
   "id": "71760116-9431-42a1-9f4c-c03610b0239b",
   "metadata": {},
   "outputs": [],
   "source": [
    "import math\n",
    "\n",
    "N, K = map(int, input())\n",
    "exp = int(math.log10(N)) + 1\n",
    "\n",
    "\n",
    "def add(n, k, exp, phase):\n",
    "    n + n * (10**exp)**phase"
   ]
  },
  {
   "cell_type": "markdown",
   "id": "46a9d829-550f-43ff-b622-42815c2045ad",
   "metadata": {},
   "source": [
    "`-` 나중에 풀으세요"
   ]
  },
  {
   "cell_type": "markdown",
   "id": "7bcc39d5-4a9a-44c5-a4e9-f240c33f74f9",
   "metadata": {},
   "source": [
    "## 약수\n",
    "\n",
    "- 문제 출처: [백준 1037번](https://www.acmicpc.net/problem/1037)"
   ]
  },
  {
   "cell_type": "markdown",
   "id": "4c90333b-4e7c-46f5-b443-a612cbb1b59c",
   "metadata": {},
   "source": [
    "`-` 진짜 약수의 개수가 2개 이상이면 가장 작은 수와 가장 큰 수의 곱이 $N$이 된다\n",
    "\n",
    "`-` 만약 진짜 약수의 개수가 1개라면 이는 제곱수의 약수이므로 해당 약수를 제곱한 것이 $N$이 된다"
   ]
  },
  {
   "cell_type": "code",
   "execution_count": 11,
   "id": "b03d9324-3597-46d4-8c62-a3e73ce95b27",
   "metadata": {},
   "outputs": [
    {
     "name": "stdin",
     "output_type": "stream",
     "text": [
      " 1\n",
      " 2\n"
     ]
    },
    {
     "name": "stdout",
     "output_type": "stream",
     "text": [
      "4\n"
     ]
    }
   ],
   "source": [
    "def solution():\n",
    "    count = int(input())\n",
    "    nums = list(map(int, input().split()))\n",
    "    nums.sort()\n",
    "    if count == 1:\n",
    "        return nums[0]**2\n",
    "    return nums[0] * nums[-1]\n",
    "\n",
    "N = solution()\n",
    "print(N)\n",
    "\n",
    "# input\n",
    "# 1\n",
    "# 2"
   ]
  },
  {
   "cell_type": "markdown",
   "id": "8d39fb15-83fb-4576-9dbc-2762921e3560",
   "metadata": {},
   "source": [
    "## 창문 닫기\n",
    "\n",
    "- 문제 출처: [백준 13909번](https://www.acmicpc.net/problem/13909)"
   ]
  },
  {
   "cell_type": "markdown",
   "id": "e3bc4ce0-fdcb-4913-825b-2f3b29070a8d",
   "metadata": {},
   "source": [
    "`-` 마지막에 창문이 열려있기 위해선 약수의 개수가 홀수여야 한다\n",
    "\n",
    "`-` 그리고 약수의 개수가 홀수인 경우는 제곱수인 경우이므로 $N$보다 작은 제곱수의 개수가 마지막에 열려있는 창문의 개수가 된다\n",
    "\n",
    "`-` $N$보다 작은 제곱수의 개수는 $N$의 제곱근을 씌운 결과에서 소수점을 제거한 것과 같다"
   ]
  },
  {
   "cell_type": "code",
   "execution_count": 11,
   "id": "07484d31-be82-44ae-bae4-c911b5ae87fc",
   "metadata": {},
   "outputs": [
    {
     "name": "stdin",
     "output_type": "stream",
     "text": [
      " 24\n"
     ]
    },
    {
     "name": "stdout",
     "output_type": "stream",
     "text": [
      "4\n"
     ]
    }
   ],
   "source": [
    "def solution():\n",
    "    N = int(input())\n",
    "    answer = int(N**0.5)\n",
    "    return answer\n",
    "\n",
    "answer = solution()\n",
    "print(answer)\n",
    "\n",
    "# input\n",
    "# 24"
   ]
  },
  {
   "cell_type": "markdown",
   "id": "95bfe567-cb15-461e-b218-f04638e3598a",
   "metadata": {},
   "source": [
    "## 다음 소수\n",
    "\n",
    "- 문제 출처: [백준 4134번](https://www.acmicpc.net/problem/4134)"
   ]
  },
  {
   "cell_type": "markdown",
   "id": "443459eb-8f2f-4bfd-adc2-aab5c365b01c",
   "metadata": {},
   "source": [
    "`-` $n$이 소수인지 판별하기 위해 $1$부터 $n - 1$까지의 수로 $n$을 나눌 필요 없이 $1$부터 $\\left \\lfloor{\\sqrt{n}}\\right \\rfloor$까지의 수로 $n$을 나누면 된다\n",
    "\n",
    "`-` 왜냐하면 $n = \\sqrt{n}\\times \\sqrt{n}$이므로 하나의 인수가 $\\left \\lfloor{\\sqrt{n}}\\right \\rfloor$보다 크다면 다른 하나는 $\\left \\lfloor{\\sqrt{n}}\\right \\rfloor$보다 작기 때문에 $\\left \\lfloor{\\sqrt{n}}\\right \\rfloor$보다 큰 수로 $n$을 나눌 필요가 없다\n",
    "\n",
    "`-` $\\left \\lfloor{\\sqrt{n}}\\right \\rfloor$까지만 연산을 수행하므로 시간복잡도는 $O\\left(\\sqrt{n}\\right)$이다\n",
    "\n",
    "`-` $n$부터 $1$씩 증가시키면서 가장 먼저 소수인 수를 출력하면 된다"
   ]
  },
  {
   "cell_type": "code",
   "execution_count": 21,
   "id": "2721bc54-7725-4dfc-8898-65f7617a93b2",
   "metadata": {},
   "outputs": [
    {
     "name": "stdin",
     "output_type": "stream",
     "text": [
      " 3\n",
      " 6\n"
     ]
    },
    {
     "name": "stdout",
     "output_type": "stream",
     "text": [
      "7\n"
     ]
    },
    {
     "name": "stdin",
     "output_type": "stream",
     "text": [
      " 20\n"
     ]
    },
    {
     "name": "stdout",
     "output_type": "stream",
     "text": [
      "23\n"
     ]
    },
    {
     "name": "stdin",
     "output_type": "stream",
     "text": [
      " 100\n"
     ]
    },
    {
     "name": "stdout",
     "output_type": "stream",
     "text": [
      "101\n"
     ]
    }
   ],
   "source": [
    "def is_prime_num(n):\n",
    "    if n <= 1:\n",
    "        return False\n",
    "    m = int(n**0.5)\n",
    "    for i in range(2, m + 1):\n",
    "        if n % i == 0:\n",
    "            return False\n",
    "    return True\n",
    "\n",
    "\n",
    "def solution():\n",
    "    T = int(input())\n",
    "    for _ in range(T):\n",
    "        n = int(input())\n",
    "        next_prime_num = n\n",
    "        while True:\n",
    "            if is_prime_num(next_prime_num):\n",
    "                print(next_prime_num)\n",
    "                break\n",
    "            next_prime_num += 1\n",
    "\n",
    "solution()\n",
    "\n",
    "# input\n",
    "# 3\n",
    "# 6\n",
    "# 20\n",
    "# 100"
   ]
  },
  {
   "cell_type": "markdown",
   "id": "4c9947cf-22e6-4f75-8d1b-67c00eb1f3c1",
   "metadata": {},
   "source": [
    "## 가로수\n",
    "\n",
    "- 문제 출처: [백준 2485번](https://www.acmicpc.net/problem/2485)"
   ]
  },
  {
   "cell_type": "markdown",
   "id": "89134127-f7e5-406d-9e72-015dee1ba8cd",
   "metadata": {},
   "source": [
    "`-` 모든 가로수들의 간격이 같게 만들기 위해서 가로수를 추가로 심어야 한다\n",
    "\n",
    "`-` 이때 추가로 심는 가로수의 위치는 모든 가로수들의 간격의 약수에 따라 결정된다\n",
    "\n",
    "`-` 예컨대 가로수가 $(1, 7, 17)$의 위치에 있다면 간격은 $6, 10$이고 $6$과 $10$의 약수는 $1, 2$이다\n",
    "\n",
    "`-` 즉 모든 가로수들의 간격에 $1$또는 $2$ 간격으로 가로수를 심으면 모든 가로수들의 간격이 같아진다\n",
    "\n",
    "`-` 이때 추가되는 가로수를 최대한 적게 심고 싶으므로 추가되는 가로수끼리의 간격을 넓게 하기위해 최대공약수를 선택하면 된다\n",
    "\n",
    "`-` 최종적으로 심어야 하는 가로수의 개수는 모든 가로수들의 간격을 최대공약수로 나눈 몫들의 합이다"
   ]
  },
  {
   "cell_type": "code",
   "execution_count": null,
   "id": "d35a655a-9a5f-4ad3-a7d4-10585a5b57a9",
   "metadata": {},
   "outputs": [],
   "source": [
    "prime_nums = [False, False] + [True]"
   ]
  },
  {
   "cell_type": "code",
   "execution_count": null,
   "id": "a3f8b31b-86da-4d49-88d2-33f798926a61",
   "metadata": {},
   "outputs": [],
   "source": [
    "def solution():\n",
    "    N = int(input())\n",
    "    positions = [int(input()) for _ in range(N)]\n",
    "    gaps = sorted([positions[i] - positions[i - 1] for i in range(1, N)])"
   ]
  },
  {
   "cell_type": "markdown",
   "id": "7e491d10-8c02-4a4e-88d3-84a90445dd59",
   "metadata": {},
   "source": [
    "`-` 가장 작은 수를 소인수분해하고 소인수를 기준으로 최대 공약수를 찾으면 됨"
   ]
  },
  {
   "cell_type": "markdown",
   "id": "7cc2b9da-75e0-499b-b29b-90d8409bc0a5",
   "metadata": {},
   "source": [
    "`-` 나중에 풀어야 함 (단계별로 풀기 위해서)"
   ]
  },
  {
   "cell_type": "code",
   "execution_count": null,
   "id": "68df699c-3b18-47f9-9476-f62a250c2eb1",
   "metadata": {},
   "outputs": [],
   "source": []
  }
 ],
 "metadata": {
  "kernelspec": {
   "display_name": "Python 3 (ipykernel)",
   "language": "python",
   "name": "python3"
  },
  "language_info": {
   "codemirror_mode": {
    "name": "ipython",
    "version": 3
   },
   "file_extension": ".py",
   "mimetype": "text/x-python",
   "name": "python",
   "nbconvert_exporter": "python",
   "pygments_lexer": "ipython3",
   "version": "3.8.11"
  }
 },
 "nbformat": 4,
 "nbformat_minor": 5
}
