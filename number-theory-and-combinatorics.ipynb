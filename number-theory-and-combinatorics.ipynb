{
 "cells": [
  {
   "cell_type": "markdown",
   "id": "83e87270-fab3-425c-a456-24a10d8a6dd1",
   "metadata": {},
   "source": [
    "# 정수론 및 조합론 "
   ]
  },
  {
   "cell_type": "markdown",
   "id": "e388c9ab-a25f-42aa-93b1-ccb4ab5fcbf3",
   "metadata": {},
   "source": [
    "## 이항 계수 2 "
   ]
  },
  {
   "cell_type": "markdown",
   "id": "94587450-f106-4607-a558-e74d8a9f2e04",
   "metadata": {},
   "source": [
    "`-` 자연수 N과 정수 K가 주어졌을 때 이항 계수 $\\binom{N}{K}$를 10,007로 나눈 나머지를 구하는 프로그램을 작성하시오"
   ]
  },
  {
   "cell_type": "markdown",
   "id": "c7ea5ae3-5093-40df-89f0-330357115e59",
   "metadata": {},
   "source": [
    "`-` $ _{n}\\rm C_{k}\\;=\\; _{n-1}\\rm C_{k-1}\\;+\\;_{n-1}\\rm C_{k}$\n",
    "\n",
    "`-` n명 중 k명을 선택하는 방법 = 일단 나를 k명에 포함하고 나머지 n-1명 중 k-1명을 선택하는 방법 + 나를 k명에서 제외하고 나머지 n-1명 중 k명을 선택하는 방법\n",
    "\n",
    "`-` 메모이제이션 활용"
   ]
  },
  {
   "cell_type": "markdown",
   "id": "c5f4b4b6-5489-42fe-81c9-458f2c877fee",
   "metadata": {},
   "source": [
    "`-` 아래 코드는 수를 곱하고 나누고 하는 과정에서 오차가 발생함(이유 알 것 같음)"
   ]
  },
  {
   "cell_type": "code",
   "execution_count": 34,
   "id": "82487ec2-4370-4a6e-825a-cf9fd2d73de9",
   "metadata": {},
   "outputs": [
    {
     "name": "stdin",
     "output_type": "stream",
     "text": [
      " 1000 500\n"
     ]
    },
    {
     "name": "stdout",
     "output_type": "stream",
     "text": [
      "270288240945436736896419468186285475891156693372573153808127299354545159392842888344379470775469423606583114895222426893312341135200171386904964166401328583914403638232447354301148995510201690344719626632436541851159067180652764129719441081806265387434048424366211327146525860903129335008845962936320\n"
     ]
    }
   ],
   "source": [
    "N, K = map(int, input().split())\n",
    "if K > N - K:\n",
    "    K = N - K\n",
    "\n",
    "def binom(n, k):\n",
    "    frac = 1    \n",
    "    if k == 0:\n",
    "        return frac\n",
    "    \n",
    "    for i in range(k):\n",
    "        frac *= (n - i)\n",
    "        frac /= (k - i)\n",
    "    \n",
    "    return frac\n",
    "    \n",
    "print(binom(N, K))    \n",
    "    \n",
    "# input\n",
    "# 1000 500"
   ]
  },
  {
   "cell_type": "markdown",
   "id": "9b62977a-ebb2-44ff-9982-644d747c5c5f",
   "metadata": {},
   "source": [
    "`-` 아래코드는 메모이제이션으로 구현했다\n",
    "\n",
    "`-` 계산해보면 알겠지만 $_{1000}\\rm C_{500}$은 매우$\\times 100$ 큰 수이다 (300자리)\n",
    "\n",
    "`-` 그래서 $_{1000}\\rm C_{500}$를 계산할 때 위와같이 구하면 곱하고 나누는 과정에서 소수점 오차가 발생하고 이는 결과적으로 밑의 코드와 다른 값을 출력하게 된다\n",
    "\n",
    "`-` 메모이제이션을 안 쓴 코드와 쓴 코드로 구한 $_{1000}\\rm C_{500}$ 값을 비교하면 다른 것을 알 수 있다\n",
    "\n",
    "`-` 아래 코드는 오류 발생(만약 위의 코드가 오차없이 답을 구한다면 똑같이 오류 발생) ---> 재귀 깊이에 관한 오류\n",
    "\n",
    "`-` 백준에서 정한 파이썬 재귀 깊이는 1000이다. 즉, 같은 함수를 1000번 이상 호출하면 오류가 난다\n",
    "\n",
    "`-` 그래서 오류가 나지 않으려면 재귀 깊이를 sys.setrecursionlimit()를 통해 바꾸던가 해야함\n",
    "\n",
    "`-` 오류가 발생한 이유를 알았으니 아래 코드를 다시 수정함"
   ]
  },
  {
   "cell_type": "code",
   "execution_count": 33,
   "id": "f04380e9-745c-47f5-a3e4-36d8a1275deb",
   "metadata": {},
   "outputs": [
    {
     "name": "stdin",
     "output_type": "stream",
     "text": [
      " 1000 500\n"
     ]
    },
    {
     "name": "stdout",
     "output_type": "stream",
     "text": [
      "270288240945436569515614693625975275496152008446548287007392875106625428705522193898612483924502370165362606085021546104802209750050679917549894219699518475423665484263751733356162464079737887344364574161119497604571044985756287880514600994219426752366915856603136862602484428109296905863799821216320\n"
     ]
    }
   ],
   "source": [
    "import sys\n",
    "sys.setrecursionlimit(10**6)\n",
    "\n",
    "N, K = map(int, input().split())\n",
    "if K > N - K:\n",
    "    K = N - K\n",
    "\n",
    "binom_list = [[-1] * 501 for _ in range(1001)]\n",
    "\n",
    "def binom(n, k):\n",
    "    if binom_list[n][k] != -1:\n",
    "        return binom_list[n][k]\n",
    "    \n",
    "    elif n < k:\n",
    "        return 0\n",
    "    \n",
    "    elif k == 0:\n",
    "        return 1\n",
    "    \n",
    "    elif n == 1:\n",
    "        return 1\n",
    "    \n",
    "    binom_list[n][k] = binom(n-1, k) + binom(n-1, k-1)\n",
    "    \n",
    "    return binom_list[n][k]\n",
    "    \n",
    "print(binom(N, K))    \n",
    "\n",
    "# input\n",
    "# 1000 500"
   ]
  },
  {
   "cell_type": "markdown",
   "id": "bae48282-d118-4c3e-b609-b6f160a54b4b",
   "metadata": {},
   "source": [
    "`-` 사실 재귀함수를 사용하지 않고 첫 번째 코드를 수정하는 것으로도 정답을 맞출 수 있다"
   ]
  },
  {
   "cell_type": "markdown",
   "id": "66f06fb9-f21c-4448-8f60-86e0547ea19a",
   "metadata": {},
   "source": [
    "`-` 문제는 `/(나누기)` 이다 `/` 대신 `//(몫 구하기)`를 사용하면 해결된다\n",
    "\n",
    "`-` `/(나누기 연산자)`는 큰 값을 계산할 때 오차에 취약하다 \n",
    "\n",
    "`-` 그래서 // 를 쓰는 것이 좋다. 물론 /와 // 결과가 같을 때 ex) 10 / 2 = 10 // 2"
   ]
  },
  {
   "cell_type": "markdown",
   "id": "1a3c689c-8fa6-486c-a63b-52f6eacfb448",
   "metadata": {},
   "source": [
    "`-` 밑의 코드 결과는 메모이제이션을 사용한 코드와 같은 것을 알 수 있다"
   ]
  },
  {
   "cell_type": "code",
   "execution_count": 40,
   "id": "610d53f6-a231-4b26-baf4-4dd46350b775",
   "metadata": {},
   "outputs": [
    {
     "name": "stdin",
     "output_type": "stream",
     "text": [
      " 1000 500\n"
     ]
    },
    {
     "name": "stdout",
     "output_type": "stream",
     "text": [
      "270288240945436569515614693625975275496152008446548287007392875106625428705522193898612483924502370165362606085021546104802209750050679917549894219699518475423665484263751733356162464079737887344364574161119497604571044985756287880514600994219426752366915856603136862602484428109296905863799821216320\n"
     ]
    }
   ],
   "source": [
    "N, K = map(int, input().split())\n",
    "if K > N - K:\n",
    "    K = N - K\n",
    "\n",
    "def binom(n, k):\n",
    "    frac = 1    \n",
    "    \n",
    "    for i in range(k):\n",
    "        frac *= (n - i)\n",
    "\n",
    "    for i in range(k):\n",
    "        frac //= (k - i)\n",
    "    \n",
    "    return frac\n",
    "    \n",
    "print(binom(N, K))    \n",
    "  \n",
    "# input\n",
    "# 1000 500"
   ]
  },
  {
   "cell_type": "markdown",
   "id": "2a46c82d-6ed7-42b0-873a-38a86abba0f0",
   "metadata": {},
   "source": [
    "## 팩토리얼 0의 개수\n",
    "- 문제 출처: [백준 1676번](https://www.acmicpc.net/problem/1676)"
   ]
  },
  {
   "cell_type": "markdown",
   "id": "c1232469-8358-4f6a-af68-7927b9cf0cda",
   "metadata": {},
   "source": [
    "`-` 끝이 0인 수는 어떤 수를 곱하든지 간에 0으로 끝남\n",
    "\n",
    "`-` 2와 5가 곱해지면 10이 됨 ---> 10이 한 번 곱해질 때마다 0의 개수가 1개 증가함\n",
    "\n",
    "`-` 2의 개수가 5의 개수보다 훨씬 많으므로 사실상 5의 개수는 0의 개수와 동일함\n",
    "\n",
    "`-` 25와 같이 5가 여러번 곱해진 수를 잘 고려해야 함"
   ]
  },
  {
   "cell_type": "code",
   "execution_count": 1,
   "id": "97938b59-fd2e-46e0-9229-9d522696659a",
   "metadata": {},
   "outputs": [
    {
     "name": "stdin",
     "output_type": "stream",
     "text": [
      " 25\n"
     ]
    },
    {
     "name": "stdout",
     "output_type": "stream",
     "text": [
      "6\n"
     ]
    }
   ],
   "source": [
    "N = int(input())\n",
    "cnt = 0\n",
    "\n",
    "for i in range(1, N+1):\n",
    "    val = i\n",
    "    \n",
    "    while val % 5 == 0:\n",
    "        if val % 5 == 0:\n",
    "            val //= 5\n",
    "            cnt += 1\n",
    "        \n",
    "print(cnt)    \n",
    "## input ---> 25"
   ]
  },
  {
   "cell_type": "markdown",
   "id": "ab654d98-e4f5-48bc-ab5d-05ec81c7a993",
   "metadata": {},
   "source": [
    "`-` 간결한 코드 숏코딩에서 찾음\n",
    "\n",
    "`-` N의 범위는 최대 500으로 이를 넘지않는 5의 거듭제곱수는 $5^3$임\n",
    "\n",
    "`-` 즉 N을 5로 나눈 몫을 통해 5의 배수의 개수를 찾음\n",
    "\n",
    "`-` 25의 배수(<125)는 소인수 5의 개수가 2개이므로 N을 25로 나눔으로써 25의 배수를 찾고 마찬가지로 125로 나눠 125 배수의 개수를 찾음\n",
    "\n",
    "`-` 이를 모두 더하면 소인수 5의 총 개수임"
   ]
  },
  {
   "cell_type": "code",
   "execution_count": 3,
   "id": "8b24038d-6e55-41f2-adae-f23349f6aad3",
   "metadata": {},
   "outputs": [
    {
     "name": "stdin",
     "output_type": "stream",
     "text": [
      " 25\n"
     ]
    },
    {
     "name": "stdout",
     "output_type": "stream",
     "text": [
      "6\n"
     ]
    }
   ],
   "source": [
    "N = int(input())\n",
    "\n",
    "print(N//5 + N//25 + N//125)\n",
    "## input ---> 25"
   ]
  },
  {
   "cell_type": "markdown",
   "id": "1da1b301-4fc6-4c2c-978d-826c47a24823",
   "metadata": {},
   "source": [
    "## 조합 0의 개수\n",
    "- 문제 출처: [백준 2004번](https://www.acmicpc.net/problem/2004)"
   ]
  },
  {
   "cell_type": "markdown",
   "id": "427d78bf-e013-42b6-bd6a-f1103f757588",
   "metadata": {},
   "source": [
    "`-` 팩토리얼 0의 개수를 푼 것과 같이 풀면 된다\n",
    "\n",
    "`-` 2와 5의 개수를 세서 2와 5중 더 적은 숫자만큼 끝자리에 0이 생김\n",
    "\n",
    "`-` 바로 for문 사용하면 N, M의 범위 때문에 시간초과임"
   ]
  },
  {
   "cell_type": "code",
   "execution_count": 13,
   "id": "63b92294-95bf-4afd-84bd-7fdbd3529115",
   "metadata": {},
   "outputs": [
    {
     "name": "stdin",
     "output_type": "stream",
     "text": [
      " 25 12\n"
     ]
    },
    {
     "name": "stdout",
     "output_type": "stream",
     "text": [
      "2\n"
     ]
    }
   ],
   "source": [
    "N, M = map(int, input().split())\n",
    "\n",
    "if N - M < M:\n",
    "    M = N - M\n",
    "\n",
    "k = j = i = 1\n",
    "i2 = j2 = k2 = 1\n",
    "cnt2 = cnt = 0\n",
    "\n",
    "## n C m = n! / (n-m)! / m!\n",
    "while 5**i < 2000000001: ## n!의 소인수 5의 개수를 더해줌\n",
    "    cnt += N // (5**i)\n",
    "    i += 1\n",
    "    \n",
    "while 5**j < 1000000001: ## m!의 소인수 5의 개수를 빼줌\n",
    "    cnt -= M // (5**j)\n",
    "    j += 1\n",
    "\n",
    "while 5**k < 2000000001: ## (n-m)!의 소인수 5의 개수를 빼줌\n",
    "    cnt -= (N - M) // (5**k)\n",
    "    k += 1\n",
    "\n",
    "while 2**i2 < 2000000001: ## n!의 소인수 2의 개수를 더해줌\n",
    "    cnt2 += N // (2**i2)\n",
    "    i2 += 1\n",
    "    \n",
    "while 2**j2 < 1000000001: ## m!의 소인수 2의 개수를 뺴줌\n",
    "    cnt2 -= M // (2**j2)\n",
    "    j2 += 1\n",
    "\n",
    "while 2**k2 < 2000000001: ## (n-m)!의 소인수 2의 개수를 빼줌\n",
    "    cnt2 -= (N - M) // (2**k2)\n",
    "    k2 += 1\n",
    "    \n",
    "print(min(cnt, cnt2)) ## 소인수 2와 5의 개수 중 최소값이 끝자리 0의 개수 \n",
    "## input\n",
    "## 25 12"
   ]
  },
  {
   "cell_type": "markdown",
   "id": "94042b0e-bd6a-41e7-9aa4-2eca6c8f912e",
   "metadata": {},
   "source": [
    "## 카잉 달력\n",
    "\n",
    "- 문제 출처: [백준 6064번](https://www.acmicpc.net/problem/6064)"
   ]
  },
  {
   "cell_type": "markdown",
   "id": "f07ca4ef-bb1a-4587-84a1-d40c9ec8c791",
   "metadata": {},
   "source": [
    "`-` 달력에서 $x$의 값은 $q=A \\operatorname{mod} M$이고 $y$의 값은 $p=A \\operatorname{mod} N$이다 ($A$는 시작일로부터 지난 년 수)\n",
    "\n",
    "`-` $A$가 $M$의 배수인 경우 $q=M$이고 이는 $y$도 마찬가지이다\n",
    "\n",
    "`-` 즉, $x$는 시작일로부터 $A=S_1\\times M + q$만큼 지났고 $y$는 시작일로부터 $A=S_2\\times N + p$만큼 지났다 ($S=0,1,2,\\cdots$)\n",
    "\n",
    "`-` 위를 통해 $A-q$는 $M$의 배수이고 $A-p$는 $N$의 배수임을 알 수 있다\n",
    "\n",
    "`-` 문제에 $M,N,x\\,(=q),y\\,(=p)$가 주어지면 $S_1\\times M + q=S_2\\times N + p$을 통해 가능한 년도인지를 판단하자\n",
    "\n",
    "`-` $S_1,S_2$를 $0$부터 $1$씩 증가시키면서 둘이 동일한 값이 나오면 해가 존재하는 것이다\n",
    "\n",
    "`-` 그 때의 $S_1$또는 $S_2$를 위의 식에 대입해 몇번째 해인지를 구할 수 있다\n",
    "\n",
    "`-` 참고로 마지막 날은 $M$과 $N$의 최소공배수이다\n",
    "\n",
    "`-` 즉 $S_1,S_2$를 $0$부터 $1$씩 증가시키는데 둘의 값 모두 최소공배수를 넘어가면 해가 존재하지 않는 것이다"
   ]
  },
  {
   "cell_type": "code",
   "execution_count": 18,
   "id": "5bd4f20f-6f7f-4f3c-a64c-2568f61be408",
   "metadata": {},
   "outputs": [
    {
     "name": "stdin",
     "output_type": "stream",
     "text": [
      " 3\n",
      " 10 12 3 9\n"
     ]
    },
    {
     "name": "stdout",
     "output_type": "stream",
     "text": [
      "33\n"
     ]
    },
    {
     "name": "stdin",
     "output_type": "stream",
     "text": [
      " 10 12 7 2\n"
     ]
    },
    {
     "name": "stdout",
     "output_type": "stream",
     "text": [
      "-1\n"
     ]
    },
    {
     "name": "stdin",
     "output_type": "stream",
     "text": [
      " 13 11 5 6\n"
     ]
    },
    {
     "name": "stdout",
     "output_type": "stream",
     "text": [
      "83\n"
     ]
    }
   ],
   "source": [
    "## 최소공배수 구하기 O(log N)\n",
    "def get_LCM(n, m):\n",
    "    if n > m:\n",
    "        a, b = n, m\n",
    "    else:\n",
    "        a, b = m, n\n",
    "    r = a % b\n",
    "\n",
    "    while r:\n",
    "        tmp = r\n",
    "        r = b % r\n",
    "        b = tmp\n",
    "        \n",
    "    #print(b) ## 최대공약수\n",
    "    n //= b\n",
    "    m //= b\n",
    "    return n * m * b ## 최소공배수 \n",
    "\n",
    "## 연도 구하기\n",
    "def get_year():\n",
    "    LCM = get_LCM(M, N)\n",
    "    x_dict = {}\n",
    "    y_dict = {}\n",
    "    S = 0\n",
    "    while True: \n",
    "        xx = S * M + x \n",
    "        yy = S * N + y\n",
    "        x_dict[xx] = True\n",
    "        y_dict[yy] = True\n",
    "        \n",
    "        if xx in y_dict: ## O(1)\n",
    "            return xx\n",
    "        if yy in x_dict: ## O(1)\n",
    "            return yy\n",
    "        \n",
    "        S += 1\n",
    "        if xx > LCM and yy > LCM:\n",
    "            break\n",
    "    return -1\n",
    "\n",
    "## 입력\n",
    "T = int(input())\n",
    "for _ in range(T):\n",
    "    M, N, x, y = map(int, input().split())\n",
    "    print(get_year())"
   ]
  },
  {
   "cell_type": "markdown",
   "id": "482b7875-e01f-4c9f-9b26-10dfc6181d54",
   "metadata": {},
   "source": [
    "## 조합\n",
    "\n",
    "- 문제 출처: [백준 2407번](https://www.acmicpc.net/problem/2407)"
   ]
  },
  {
   "cell_type": "markdown",
   "id": "154feb8e-46ba-46c7-aaca-ab0a1070a506",
   "metadata": {},
   "source": [
    "`-` $\\binom{n}{m}$을 계산하면 된다"
   ]
  },
  {
   "cell_type": "code",
   "execution_count": 8,
   "id": "9ac036be-630c-4370-b54a-97c33d06f9a0",
   "metadata": {},
   "outputs": [
    {
     "name": "stdin",
     "output_type": "stream",
     "text": [
      " 100 6\n"
     ]
    },
    {
     "name": "stdout",
     "output_type": "stream",
     "text": [
      "1192052400\n"
     ]
    }
   ],
   "source": [
    "n, m = map(int, input().split())\n",
    "if m > n - m:\n",
    "    m = n - m\n",
    "\n",
    "## n_C_m = {n*(n-1)*...*(n-m+1)} / {m*(m-1)*...*1}\n",
    "## 분자는 큰 수부터 곱하고 나누는 것은 몫 연산자를 사용해 작은 수부터 나눴다\n",
    "def binom(n, m):\n",
    "    frac = 1    \n",
    "    if m == 0:\n",
    "        return frac\n",
    "    \n",
    "    for i in range(m):\n",
    "        frac *= (n - i)\n",
    "        frac //= (i + 1)\n",
    "    \n",
    "    return frac\n",
    "    \n",
    "print(binom(n, m))    \n",
    "\n",
    "# input\n",
    "# 100\n",
    "# 6"
   ]
  },
  {
   "cell_type": "code",
   "execution_count": null,
   "id": "d59a0eb8-4076-4ee2-a51e-3a4cb2378b51",
   "metadata": {},
   "outputs": [],
   "source": []
  }
 ],
 "metadata": {
  "kernelspec": {
   "display_name": "Python 3 (ipykernel)",
   "language": "python",
   "name": "python3"
  },
  "language_info": {
   "codemirror_mode": {
    "name": "ipython",
    "version": 3
   },
   "file_extension": ".py",
   "mimetype": "text/x-python",
   "name": "python",
   "nbconvert_exporter": "python",
   "pygments_lexer": "ipython3",
   "version": "3.8.11"
  }
 },
 "nbformat": 4,
 "nbformat_minor": 5
}
