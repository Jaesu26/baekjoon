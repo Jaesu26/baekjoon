{
 "cells": [
  {
   "cell_type": "markdown",
   "id": "83e87270-fab3-425c-a456-24a10d8a6dd1",
   "metadata": {},
   "source": [
    "# 정수론 및 조합론 "
   ]
  },
  {
   "cell_type": "markdown",
   "id": "e388c9ab-a25f-42aa-93b1-ccb4ab5fcbf3",
   "metadata": {},
   "source": [
    "## 이항 계수 2 "
   ]
  },
  {
   "cell_type": "markdown",
   "id": "94587450-f106-4607-a558-e74d8a9f2e04",
   "metadata": {},
   "source": [
    "`-` 자연수 N과 정수 K가 주어졌을 때 이항 계수 $\\binom{N}{K}$를 10,007로 나눈 나머지를 구하는 프로그램을 작성하시오"
   ]
  },
  {
   "cell_type": "markdown",
   "id": "c7ea5ae3-5093-40df-89f0-330357115e59",
   "metadata": {},
   "source": [
    "`-` $ _{n}\\rm C_{k}\\;=\\; _{n-1}\\rm C_{k-1}\\;+\\;_{n-1}\\rm C_{k}$\n",
    "\n",
    "`-` n명 중 k명을 선택하는 방법 = 일단 나를 k명에 포함하고 나머지 n-1명 중 k-1명을 선택하는 방법 + 나를 k명에서 제외하고 나머지 n-1명 중 k명을 선택하는 방법\n",
    "\n",
    "`-` 메모이제이션 활용"
   ]
  },
  {
   "cell_type": "markdown",
   "id": "c5f4b4b6-5489-42fe-81c9-458f2c877fee",
   "metadata": {},
   "source": [
    "`-` 아래 코드는 수를 곱하고 나누고 하는 과정에서 오차가 발생함(이유 알 것 같음)"
   ]
  },
  {
   "cell_type": "code",
   "execution_count": 34,
   "id": "82487ec2-4370-4a6e-825a-cf9fd2d73de9",
   "metadata": {},
   "outputs": [
    {
     "name": "stdin",
     "output_type": "stream",
     "text": [
      " 1000 500\n"
     ]
    },
    {
     "name": "stdout",
     "output_type": "stream",
     "text": [
      "270288240945436736896419468186285475891156693372573153808127299354545159392842888344379470775469423606583114895222426893312341135200171386904964166401328583914403638232447354301148995510201690344719626632436541851159067180652764129719441081806265387434048424366211327146525860903129335008845962936320\n"
     ]
    }
   ],
   "source": [
    "def binom(n, k):\n",
    "    frac = 1    \n",
    "    if k == 0:\n",
    "        return frac\n",
    "    for i in range(k):\n",
    "        frac *= (n - i)\n",
    "        frac /= (k - i)\n",
    "    return frac\n",
    "\n",
    "\n",
    "N, K = map(int, input().split())\n",
    "if K > N - K:\n",
    "    K = N - K\n",
    "print(binom(N, K))    \n",
    "    \n",
    "# input\n",
    "# 1000 500"
   ]
  },
  {
   "cell_type": "markdown",
   "id": "9b62977a-ebb2-44ff-9982-644d747c5c5f",
   "metadata": {},
   "source": [
    "`-` 아래코드는 메모이제이션으로 구현했다\n",
    "\n",
    "`-` 계산해보면 알겠지만 $_{1000}\\rm C_{500}$은 매우$\\times 100$ 큰 수이다 (300자리)\n",
    "\n",
    "`-` 그래서 $_{1000}\\rm C_{500}$를 계산할 때 위와같이 구하면 곱하고 나누는 과정에서 소수점 오차가 발생하고 이는 결과적으로 밑의 코드와 다른 값을 출력하게 된다\n",
    "\n",
    "`-` 메모이제이션을 안 쓴 코드와 쓴 코드로 구한 $_{1000}\\rm C_{500}$ 값을 비교하면 다른 것을 알 수 있다\n",
    "\n",
    "`-` 아래 코드는 오류 발생(만약 위의 코드가 오차없이 답을 구한다면 똑같이 오류 발생) ---> 재귀 깊이에 관한 오류\n",
    "\n",
    "`-` 백준에서 정한 파이썬 재귀 깊이는 1000이다. 즉, 같은 함수를 1000번 이상 호출하면 오류가 난다\n",
    "\n",
    "`-` 그래서 오류가 나지 않으려면 재귀 깊이를 `sys.setrecursionlimit()`를 통해 바꾸던가 해야함\n",
    "\n",
    "`-` 오류가 발생한 이유를 알았으니 아래 코드를 다시 수정함"
   ]
  },
  {
   "cell_type": "code",
   "execution_count": 33,
   "id": "f04380e9-745c-47f5-a3e4-36d8a1275deb",
   "metadata": {},
   "outputs": [
    {
     "name": "stdin",
     "output_type": "stream",
     "text": [
      " 1000 500\n"
     ]
    },
    {
     "name": "stdout",
     "output_type": "stream",
     "text": [
      "270288240945436569515614693625975275496152008446548287007392875106625428705522193898612483924502370165362606085021546104802209750050679917549894219699518475423665484263751733356162464079737887344364574161119497604571044985756287880514600994219426752366915856603136862602484428109296905863799821216320\n"
     ]
    }
   ],
   "source": [
    "import sys\n",
    "\n",
    "sys.setrecursionlimit(10**6)\n",
    "\n",
    "\n",
    "def binom(n, k):\n",
    "    if binom_list[n][k] != -1:\n",
    "        return binom_list[n][k]\n",
    "    if n < k:\n",
    "        return 0\n",
    "    if k == 0:\n",
    "        return 1\n",
    "    if n == 1:\n",
    "        return 1\n",
    "    binom_list[n][k] = binom(n - 1, k) + binom(n - 1, k - 1)\n",
    "    return binom_list[n][k]\n",
    "\n",
    "\n",
    "N, K = map(int, input().split())\n",
    "if K > N - K:\n",
    "    K = N - K\n",
    "binom_list = [[-1] * 501 for _ in range(1001)]\n",
    "print(binom(N, K))    \n",
    "\n",
    "# input\n",
    "# 1000 500"
   ]
  },
  {
   "cell_type": "markdown",
   "id": "bae48282-d118-4c3e-b609-b6f160a54b4b",
   "metadata": {},
   "source": [
    "`-` 사실 재귀함수를 사용하지 않고 첫 번째 코드를 수정하는 것으로도 정답을 맞출 수 있다"
   ]
  },
  {
   "cell_type": "markdown",
   "id": "66f06fb9-f21c-4448-8f60-86e0547ea19a",
   "metadata": {},
   "source": [
    "`-` 문제는 `/(나누기)` 이다 `/` 대신 `//(몫 구하기)`를 사용하면 해결된다\n",
    "\n",
    "`-` `/(나누기 연산자)`는 큰 값을 계산할 때 오차에 취약하다 \n",
    "\n",
    "`-` 그래서 // 를 쓰는 것이 좋다. 물론 /와 // 결과가 같을 때 ex) 10 / 2 = 10 // 2"
   ]
  },
  {
   "cell_type": "markdown",
   "id": "1a3c689c-8fa6-486c-a63b-52f6eacfb448",
   "metadata": {},
   "source": [
    "`-` 밑의 코드 결과는 메모이제이션을 사용한 코드와 같은 것을 알 수 있다"
   ]
  },
  {
   "cell_type": "code",
   "execution_count": 40,
   "id": "610d53f6-a231-4b26-baf4-4dd46350b775",
   "metadata": {},
   "outputs": [
    {
     "name": "stdin",
     "output_type": "stream",
     "text": [
      " 1000 500\n"
     ]
    },
    {
     "name": "stdout",
     "output_type": "stream",
     "text": [
      "270288240945436569515614693625975275496152008446548287007392875106625428705522193898612483924502370165362606085021546104802209750050679917549894219699518475423665484263751733356162464079737887344364574161119497604571044985756287880514600994219426752366915856603136862602484428109296905863799821216320\n"
     ]
    }
   ],
   "source": [
    "def binom(n, k):\n",
    "    frac = 1    \n",
    "    for i in range(k):\n",
    "        frac *= (n - i)\n",
    "    for i in range(k):\n",
    "        frac //= (k - i)\n",
    "    return frac\n",
    "\n",
    "\n",
    "N, K = map(int, input().split())\n",
    "if K > N - K:\n",
    "    K = N - K\n",
    "print(binom(N, K))    \n",
    "  \n",
    "# input\n",
    "# 1000 500"
   ]
  },
  {
   "cell_type": "markdown",
   "id": "2a46c82d-6ed7-42b0-873a-38a86abba0f0",
   "metadata": {},
   "source": [
    "## 팩토리얼 0의 개수\n",
    "- 문제 출처: [백준 1676번](https://www.acmicpc.net/problem/1676)"
   ]
  },
  {
   "cell_type": "markdown",
   "id": "c1232469-8358-4f6a-af68-7927b9cf0cda",
   "metadata": {},
   "source": [
    "`-` 끝이 0인 수는 어떤 수를 곱하든지 간에 0으로 끝남\n",
    "\n",
    "`-` 2와 5가 곱해지면 10이 됨 ---> 10이 한 번 곱해질 때마다 0의 개수가 1개 증가함\n",
    "\n",
    "`-` 2의 개수가 5의 개수보다 훨씬 많으므로 사실상 5의 개수는 0의 개수와 동일함\n",
    "\n",
    "`-` 25와 같이 5가 여러번 곱해진 수를 잘 고려해야 함"
   ]
  },
  {
   "cell_type": "code",
   "execution_count": 1,
   "id": "97938b59-fd2e-46e0-9229-9d522696659a",
   "metadata": {},
   "outputs": [
    {
     "name": "stdin",
     "output_type": "stream",
     "text": [
      " 25\n"
     ]
    },
    {
     "name": "stdout",
     "output_type": "stream",
     "text": [
      "6\n"
     ]
    }
   ],
   "source": [
    "N = int(input())\n",
    "cnt = 0\n",
    "for i in range(1, N+1):\n",
    "    val = i\n",
    "    while val % 5 == 0:\n",
    "        if val % 5 == 0:\n",
    "            val //= 5\n",
    "            cnt += 1\n",
    "print(cnt)    \n",
    "# input ---> 25"
   ]
  },
  {
   "cell_type": "markdown",
   "id": "ab654d98-e4f5-48bc-ab5d-05ec81c7a993",
   "metadata": {},
   "source": [
    "`-` 간결한 코드 숏코딩에서 찾음\n",
    "\n",
    "`-` $N$의 범위는 최대 $500$으로 이를 넘지않는 $5$의 거듭제곱수는 $5^3$임\n",
    "\n",
    "`-` 즉, $N$을 $5$로 나눈 몫을 통해 $5$의 배수의 개수를 찾음\n",
    "\n",
    "`-` $25$의 배수($<125$)는 소인수 $5$의 개수가 2개이므로 $N$을 $25$로 나눔으로써 $25$의 배수를 찾고 마찬가지로 $125$로 나눠 $125$ 배수의 개수를 찾음\n",
    "\n",
    "`-` 이를 모두 더하면 소인수 $5$의 총 개수임"
   ]
  },
  {
   "cell_type": "code",
   "execution_count": 3,
   "id": "8b24038d-6e55-41f2-adae-f23349f6aad3",
   "metadata": {},
   "outputs": [
    {
     "name": "stdin",
     "output_type": "stream",
     "text": [
      " 25\n"
     ]
    },
    {
     "name": "stdout",
     "output_type": "stream",
     "text": [
      "6\n"
     ]
    }
   ],
   "source": [
    "N = int(input())\n",
    "print(N // 5 + N // 25 + N // 125)\n",
    "# input ---> 25"
   ]
  },
  {
   "cell_type": "markdown",
   "id": "1da1b301-4fc6-4c2c-978d-826c47a24823",
   "metadata": {},
   "source": [
    "## 조합 0의 개수\n",
    "- 문제 출처: [백준 2004번](https://www.acmicpc.net/problem/2004)"
   ]
  },
  {
   "cell_type": "markdown",
   "id": "427d78bf-e013-42b6-bd6a-f1103f757588",
   "metadata": {},
   "source": [
    "`-` 팩토리얼 0의 개수를 푼 것과 같이 풀면 된다\n",
    "\n",
    "`-` $2$와 $5$의 개수를 세서 $2$와 $5$중 더 적은 숫자만큼 끝자리에 $0$이 생김\n",
    "\n",
    "`-` 바로 for문 사용하면 $N, M$의 범위 때문에 시간초과임"
   ]
  },
  {
   "cell_type": "code",
   "execution_count": 13,
   "id": "63b92294-95bf-4afd-84bd-7fdbd3529115",
   "metadata": {},
   "outputs": [
    {
     "name": "stdin",
     "output_type": "stream",
     "text": [
      " 25 12\n"
     ]
    },
    {
     "name": "stdout",
     "output_type": "stream",
     "text": [
      "2\n"
     ]
    }
   ],
   "source": [
    "N, M = map(int, input().split())\n",
    "if N - M < M:\n",
    "    M = N - M\n",
    "k = j = i = 1\n",
    "i2 = j2 = k2 = 1\n",
    "cnt2 = cnt = 0\n",
    "# n C m = n! / (n-m)! / m!\n",
    "while 5**i < 2000000001:  # n!의 소인수 5의 개수를 더해줌\n",
    "    cnt += N // (5**i)\n",
    "    i += 1\n",
    "while 5**j < 1000000001:  # m!의 소인수 5의 개수를 빼줌\n",
    "    cnt -= M // (5**j)\n",
    "    j += 1\n",
    "while 5**k < 2000000001:  # (n-m)!의 소인수 5의 개수를 빼줌\n",
    "    cnt -= (N - M) // (5**k)\n",
    "    k += 1\n",
    "while 2**i2 < 2000000001:  # n!의 소인수 2의 개수를 더해줌\n",
    "    cnt2 += N // (2**i2)\n",
    "    i2 += 1\n",
    "while 2**j2 < 1000000001:  # m!의 소인수 2의 개수를 뺴줌\n",
    "    cnt2 -= M // (2**j2)\n",
    "    j2 += 1\n",
    "while 2**k2 < 2000000001:  # (n-m)!의 소인수 2의 개수를 빼줌\n",
    "    cnt2 -= (N - M) // (2**k2)\n",
    "    k2 += 1\n",
    "print(min(cnt, cnt2))  # 소인수 2와 5의 개수 중 최소값이 끝자리 0의 개수 \n",
    "# input\n",
    "# 25 12"
   ]
  },
  {
   "cell_type": "markdown",
   "id": "94042b0e-bd6a-41e7-9aa4-2eca6c8f912e",
   "metadata": {},
   "source": [
    "## 카잉 달력\n",
    "\n",
    "- 문제 출처: [백준 6064번](https://www.acmicpc.net/problem/6064)"
   ]
  },
  {
   "cell_type": "markdown",
   "id": "f07ca4ef-bb1a-4587-84a1-d40c9ec8c791",
   "metadata": {},
   "source": [
    "`-` 달력에서 $x$의 값은 $q=A \\operatorname{mod} M$이고 $y$의 값은 $p=A \\operatorname{mod} N$이다 ($A$는 시작일로부터 지난 년 수)\n",
    "\n",
    "`-` $A$가 $M$의 배수인 경우 $q=M$이고 이는 $y$도 마찬가지이다\n",
    "\n",
    "`-` 즉, $x$는 시작일로부터 $A=S_1\\times M + q$만큼 지났고 $y$는 시작일로부터 $A=S_2\\times N + p$만큼 지났다 ($S=0,1,2,\\cdots$)\n",
    "\n",
    "`-` 위를 통해 $A-q$는 $M$의 배수이고 $A-p$는 $N$의 배수임을 알 수 있다\n",
    "\n",
    "`-` 문제에 $M,N,x\\,(=q),y\\,(=p)$가 주어지면 $S_1\\times M + q=S_2\\times N + p$을 통해 가능한 년도인지를 판단하자\n",
    "\n",
    "`-` $S_1,S_2$를 $0$부터 $1$씩 증가시키면서 둘이 동일한 값이 나오면 해가 존재하는 것이다\n",
    "\n",
    "`-` 그 때의 $S_1$또는 $S_2$를 위의 식에 대입해 몇번째 해인지를 구할 수 있다\n",
    "\n",
    "`-` 참고로 마지막 날은 $M$과 $N$의 최소공배수이다\n",
    "\n",
    "`-` 즉 $S_1,S_2$를 $0$부터 $1$씩 증가시키는데 둘의 값 모두 최소공배수를 넘어가면 해가 존재하지 않는 것이다"
   ]
  },
  {
   "cell_type": "code",
   "execution_count": 18,
   "id": "5bd4f20f-6f7f-4f3c-a64c-2568f61be408",
   "metadata": {},
   "outputs": [
    {
     "name": "stdin",
     "output_type": "stream",
     "text": [
      " 3\n",
      " 10 12 3 9\n"
     ]
    },
    {
     "name": "stdout",
     "output_type": "stream",
     "text": [
      "33\n"
     ]
    },
    {
     "name": "stdin",
     "output_type": "stream",
     "text": [
      " 10 12 7 2\n"
     ]
    },
    {
     "name": "stdout",
     "output_type": "stream",
     "text": [
      "-1\n"
     ]
    },
    {
     "name": "stdin",
     "output_type": "stream",
     "text": [
      " 13 11 5 6\n"
     ]
    },
    {
     "name": "stdout",
     "output_type": "stream",
     "text": [
      "83\n"
     ]
    }
   ],
   "source": [
    "def get_LCM(n, m):  # 최소공배수 구하기 O(log N)\n",
    "    if n > m:\n",
    "        a, b = n, m\n",
    "    else:\n",
    "        a, b = m, n\n",
    "    r = a % b\n",
    "    while r:\n",
    "        tmp = r\n",
    "        r = b % r\n",
    "        b = tmp\n",
    "    # print(b)  # 최대공약수\n",
    "    n //= b\n",
    "    m //= b\n",
    "    return n * m * b  # 최소공배수 \n",
    "\n",
    "\n",
    "def get_year():  # 연도 구하기\n",
    "    LCM = get_LCM(M, N)\n",
    "    x_dict = {}\n",
    "    y_dict = {}\n",
    "    S = 0\n",
    "    while True: \n",
    "        xx = S * M + x \n",
    "        yy = S * N + y\n",
    "        x_dict[xx] = True\n",
    "        y_dict[yy] = True\n",
    "        if xx in y_dict:  # O(1)\n",
    "            return xx\n",
    "        if yy in x_dict:  # O(1)\n",
    "            return yy\n",
    "        S += 1\n",
    "        if xx > LCM and yy > LCM:\n",
    "            break\n",
    "    return -1\n",
    "\n",
    "\n",
    "T = int(input())\n",
    "for _ in range(T):\n",
    "    M, N, x, y = map(int, input().split())\n",
    "    print(get_year())"
   ]
  },
  {
   "cell_type": "markdown",
   "id": "482b7875-e01f-4c9f-9b26-10dfc6181d54",
   "metadata": {},
   "source": [
    "## 조합\n",
    "\n",
    "- 문제 출처: [백준 2407번](https://www.acmicpc.net/problem/2407)"
   ]
  },
  {
   "cell_type": "markdown",
   "id": "154feb8e-46ba-46c7-aaca-ab0a1070a506",
   "metadata": {},
   "source": [
    "`-` $\\binom{n}{m}$을 계산하면 된다"
   ]
  },
  {
   "cell_type": "code",
   "execution_count": 8,
   "id": "9ac036be-630c-4370-b54a-97c33d06f9a0",
   "metadata": {},
   "outputs": [
    {
     "name": "stdin",
     "output_type": "stream",
     "text": [
      " 100 6\n"
     ]
    },
    {
     "name": "stdout",
     "output_type": "stream",
     "text": [
      "1192052400\n"
     ]
    }
   ],
   "source": [
    "# n_C_m = {n*(n-1)*...*(n-m+1)} / {m*(m-1)*...*1}\n",
    "# 분자는 큰 수부터 곱하고 나누는 것은 몫 연산자를 사용해 작은 수부터 나눴다\n",
    "def binom(n, m):\n",
    "    frac = 1    \n",
    "    if m == 0:\n",
    "        return frac\n",
    "    for i in range(m):\n",
    "        frac *= (n - i)\n",
    "        frac //= (i + 1)\n",
    "    return frac\n",
    "\n",
    "\n",
    "n, m = map(int, input().split())\n",
    "if m > n - m:\n",
    "    m = n - m\n",
    "print(binom(n, m))    \n",
    "\n",
    "# input\n",
    "# 100\n",
    "# 6"
   ]
  },
  {
   "cell_type": "markdown",
   "id": "e9daf8f0-a67b-453f-b51b-6dad6d1cbe44",
   "metadata": {},
   "source": [
    "## 다리 놓기\n",
    "\n",
    "- 문제 출처: [백준 1010번](https://www.acmicpc.net/problem/1010)"
   ]
  },
  {
   "cell_type": "markdown",
   "id": "d312398a-f5cc-4a9b-b9ff-20996057d744",
   "metadata": {},
   "source": [
    "`-` $N, M$이 입력으로 주어질 때 다리를 지을 수 있는 경우의 수는 $_{M}\\rm C_{N}$이다"
   ]
  },
  {
   "cell_type": "code",
   "execution_count": 10,
   "id": "64121802-5e1f-4edf-80bc-ea8ebdb1e685",
   "metadata": {},
   "outputs": [
    {
     "name": "stdin",
     "output_type": "stream",
     "text": [
      " 1\n",
      " 13 29\n"
     ]
    },
    {
     "name": "stdout",
     "output_type": "stream",
     "text": [
      "67863915\n"
     ]
    }
   ],
   "source": [
    "def combination(n, m):\n",
    "    if m > n // 2:  # n_C_m = n_C_{n-m}\n",
    "        m = n - m\n",
    "    # n_C_m = n * (n-1) * ... * (n-m+1) / m * (m-1) * ... * 1\n",
    "    result = 1\n",
    "    for i in range(m):\n",
    "        result *= (n - i)\n",
    "        result //= (i + 1)  # 몫 연사자를 사용하기 위해 분모는 작은 수부터 나눈다\n",
    "    return result\n",
    "\n",
    "\n",
    "def solution():\n",
    "    T = int(input())\n",
    "    for _ in range(T):\n",
    "        N, M = map(int, input().split())\n",
    "        answer = combination(M, N)\n",
    "        print(answer)\n",
    "\n",
    "\n",
    "solution()\n",
    "\n",
    "# input\n",
    "# 1\n",
    "# 13 29"
   ]
  },
  {
   "cell_type": "markdown",
   "id": "7bcc39d5-4a9a-44c5-a4e9-f240c33f74f9",
   "metadata": {},
   "source": [
    "## 약수\n",
    "\n",
    "- 문제 출처: [백준 1037번](https://www.acmicpc.net/problem/1037)"
   ]
  },
  {
   "cell_type": "markdown",
   "id": "4c90333b-4e7c-46f5-b443-a612cbb1b59c",
   "metadata": {},
   "source": [
    "`-` 진짜 약수의 개수가 2개 이상이면 가장 작은 수와 가장 큰 수의 곱이 $N$이 된다\n",
    "\n",
    "`-` 만약 진짜 약수의 개수가 1개라면 이는 제곱수의 약수이므로 해당 약수를 제곱한 것이 $N$이 된다"
   ]
  },
  {
   "cell_type": "code",
   "execution_count": 11,
   "id": "b03d9324-3597-46d4-8c62-a3e73ce95b27",
   "metadata": {},
   "outputs": [
    {
     "name": "stdin",
     "output_type": "stream",
     "text": [
      " 1\n",
      " 2\n"
     ]
    },
    {
     "name": "stdout",
     "output_type": "stream",
     "text": [
      "4\n"
     ]
    }
   ],
   "source": [
    "def solution():\n",
    "    count = int(input())\n",
    "    nums = list(map(int, input().split()))\n",
    "    nums.sort()\n",
    "    if count == 1:\n",
    "        return nums[0]**2\n",
    "    return nums[0] * nums[-1]\n",
    "\n",
    "\n",
    "N = solution()\n",
    "print(N)\n",
    "\n",
    "# input\n",
    "# 1\n",
    "# 2"
   ]
  },
  {
   "cell_type": "markdown",
   "id": "8d39fb15-83fb-4576-9dbc-2762921e3560",
   "metadata": {},
   "source": [
    "## 창문 닫기\n",
    "\n",
    "- 문제 출처: [백준 13909번](https://www.acmicpc.net/problem/13909)"
   ]
  },
  {
   "cell_type": "markdown",
   "id": "e3bc4ce0-fdcb-4913-825b-2f3b29070a8d",
   "metadata": {},
   "source": [
    "`-` 마지막에 창문이 열려있기 위해선 약수의 개수가 홀수여야 한다\n",
    "\n",
    "`-` 그리고 약수의 개수가 홀수인 경우는 제곱수인 경우이므로 $N$보다 작은 제곱수의 개수가 마지막에 열려있는 창문의 개수가 된다\n",
    "\n",
    "`-` $N$보다 작은 제곱수의 개수는 $N$의 제곱근을 씌운 결과에서 소수점을 제거한 것과 같다"
   ]
  },
  {
   "cell_type": "code",
   "execution_count": 11,
   "id": "07484d31-be82-44ae-bae4-c911b5ae87fc",
   "metadata": {},
   "outputs": [
    {
     "name": "stdin",
     "output_type": "stream",
     "text": [
      " 24\n"
     ]
    },
    {
     "name": "stdout",
     "output_type": "stream",
     "text": [
      "4\n"
     ]
    }
   ],
   "source": [
    "def solution():\n",
    "    N = int(input())\n",
    "    answer = int(N**0.5)\n",
    "    return answer\n",
    "\n",
    "\n",
    "answer = solution()\n",
    "print(answer)\n",
    "\n",
    "# input\n",
    "# 24"
   ]
  },
  {
   "cell_type": "markdown",
   "id": "95bfe567-cb15-461e-b218-f04638e3598a",
   "metadata": {},
   "source": [
    "## 다음 소수\n",
    "\n",
    "- 문제 출처: [백준 4134번](https://www.acmicpc.net/problem/4134)"
   ]
  },
  {
   "cell_type": "markdown",
   "id": "443459eb-8f2f-4bfd-adc2-aab5c365b01c",
   "metadata": {},
   "source": [
    "`-` $n$이 소수인지 판별하기 위해 $1$부터 $n - 1$까지의 수로 $n$을 나눌 필요 없이 $1$부터 $\\left \\lfloor{\\sqrt{n}}\\right \\rfloor$까지의 수로 $n$을 나누면 된다\n",
    "\n",
    "`-` 왜냐하면 $n = \\sqrt{n}\\times \\sqrt{n}$이므로 하나의 인수가 $\\left \\lfloor{\\sqrt{n}}\\right \\rfloor$보다 크다면 다른 하나는 $\\left \\lfloor{\\sqrt{n}}\\right \\rfloor$보다 작기 때문에 $\\left \\lfloor{\\sqrt{n}}\\right \\rfloor$보다 큰 수로 $n$을 나눌 필요가 없다\n",
    "\n",
    "`-` $\\left \\lfloor{\\sqrt{n}}\\right \\rfloor$까지만 연산을 수행하므로 시간복잡도는 $O\\left(\\sqrt{n}\\right)$이다\n",
    "\n",
    "`-` $n$부터 $1$씩 증가시키면서 가장 먼저 소수인 수를 출력하면 된다"
   ]
  },
  {
   "cell_type": "code",
   "execution_count": 21,
   "id": "2721bc54-7725-4dfc-8898-65f7617a93b2",
   "metadata": {},
   "outputs": [
    {
     "name": "stdin",
     "output_type": "stream",
     "text": [
      " 3\n",
      " 6\n"
     ]
    },
    {
     "name": "stdout",
     "output_type": "stream",
     "text": [
      "7\n"
     ]
    },
    {
     "name": "stdin",
     "output_type": "stream",
     "text": [
      " 20\n"
     ]
    },
    {
     "name": "stdout",
     "output_type": "stream",
     "text": [
      "23\n"
     ]
    },
    {
     "name": "stdin",
     "output_type": "stream",
     "text": [
      " 100\n"
     ]
    },
    {
     "name": "stdout",
     "output_type": "stream",
     "text": [
      "101\n"
     ]
    }
   ],
   "source": [
    "def is_prime_num(n):\n",
    "    if n <= 1:\n",
    "        return False\n",
    "    m = int(n**0.5)\n",
    "    for i in range(2, m + 1):\n",
    "        if n % i == 0:\n",
    "            return False\n",
    "    return True\n",
    "\n",
    "\n",
    "def solution():\n",
    "    T = int(input())\n",
    "    for _ in range(T):\n",
    "        n = int(input())\n",
    "        next_prime_num = n\n",
    "        while True:\n",
    "            if is_prime_num(next_prime_num):\n",
    "                print(next_prime_num)\n",
    "                break\n",
    "            next_prime_num += 1\n",
    "\n",
    "\n",
    "solution()\n",
    "\n",
    "# input\n",
    "# 3\n",
    "# 6\n",
    "# 20\n",
    "# 100"
   ]
  },
  {
   "cell_type": "markdown",
   "id": "4c9947cf-22e6-4f75-8d1b-67c00eb1f3c1",
   "metadata": {},
   "source": [
    "## 가로수\n",
    "\n",
    "- 문제 출처: [백준 2485번](https://www.acmicpc.net/problem/2485)"
   ]
  },
  {
   "cell_type": "markdown",
   "id": "89134127-f7e5-406d-9e72-015dee1ba8cd",
   "metadata": {},
   "source": [
    "`-` 모든 가로수들의 간격이 같게 만들기 위해서 가로수를 추가로 심어야 한다\n",
    "\n",
    "`-` 이때 추가로 심는 가로수의 위치는 모든 가로수들의 간격의 약수에 따라 결정된다\n",
    "\n",
    "`-` 예컨대 가로수가 $(1, 7, 17)$의 위치에 있다면 간격은 $6, 10$이고 $6$과 $10$의 약수는 $1, 2$이다\n",
    "\n",
    "`-` 즉 모든 가로수들의 간격에 $1$또는 $2$ 간격으로 가로수를 심으면 모든 가로수들의 간격이 같아진다\n",
    "\n",
    "`-` 이때 추가되는 가로수를 최대한 적게 심고 싶으므로 추가되는 가로수끼리의 간격을 넓게 하기위해 최대공약수를 선택하면 된다\n",
    "\n",
    "`-` 최종적으로 심어야 하는 가로수의 개수는 모든 가로수들의 간격을 최대공약수로 나눈 몫들의 합이다\n",
    "\n",
    "`-` 최대공약수는 가장 작은 수를 소인수분해한 후 소인수를 기준으로 최대공약수를 찾으면 된다\n",
    "\n",
    "`-` 어떤 수 $x$에 대하여 $x$를 소인수분해했을 때 $\\sqrt{x}$보다 `큰` 소인수는 $2$개 이상일 수 없다\n",
    "\n",
    "`-` 만약 참이라면 소인수끼리의 곱이 $x$보다 커지게 된다\n",
    "\n",
    "`-` 하지만 $\\sqrt{x}$와 `같은` 소인수는 $2$개일 수 있다 (ex: 제곱수)\n",
    "\n",
    "`-` 소인수분해를 위해 $\\left \\lfloor{\\sqrt{n}}\\right \\rfloor$보다 작은 소수를 모두 계산한다\n",
    "\n",
    "`-` 그리고 $x$를 가장 작은 소수부터 계속해서 나누면서 배열에 기록하고 마지막으로 남은 값을 배열에 추가하면 된다\n",
    "\n",
    "`-` 마지막으로 남은 값을 고려하는 이유는  $\\sqrt{x}$보다 `큰` 소인수가 존재할 수 있기 때문이다\n",
    "\n",
    "`-` 만약 그렇지 않다면 남은 값은 $1$일 것이다"
   ]
  },
  {
   "cell_type": "code",
   "execution_count": 30,
   "id": "68df699c-3b18-47f9-9476-f62a250c2eb1",
   "metadata": {},
   "outputs": [
    {
     "name": "stdin",
     "output_type": "stream",
     "text": [
      " 4\n",
      " 2\n",
      " 6\n",
      " 12\n",
      " 18\n"
     ]
    },
    {
     "name": "stdout",
     "output_type": "stream",
     "text": [
      "5\n"
     ]
    }
   ],
   "source": [
    "def get_num2is_prime():\n",
    "    n = int(1e9**0.5)\n",
    "    m = int(n**0.5)\n",
    "    num2is_prime = [False] * 2 + [True] * (n - 1)\n",
    "    for i in range(2, m + 1):\n",
    "        if num2is_prime[i]:\n",
    "            for j in range(2 * i, n + 1, i):\n",
    "                num2is_prime[j] = False\n",
    "    return num2is_prime\n",
    "\n",
    "\n",
    "def factorization_into_primes(x): \n",
    "    prime_factors = []\n",
    "    num2is_prime = get_num2is_prime()\n",
    "    count = 0\n",
    "    for k in range(2, int(x**0.5) + 1):\n",
    "        if not num2is_prime[k]:\n",
    "            continue\n",
    "        while x % k == 0:\n",
    "            prime_factors.append(k)\n",
    "            count += 1\n",
    "            x = x // k\n",
    "    prime_factors.append(x)\n",
    "    return prime_factors\n",
    "\n",
    "\n",
    "def solution():\n",
    "    N = int(input())\n",
    "    positions = [int(input()) for _ in range(N)]\n",
    "    gaps_original = sorted([positions[i] - positions[i - 1] for i in range(1, N)])\n",
    "    gaps = gaps_original\n",
    "    x = gaps[0]\n",
    "    prime_factors = factorization_into_primes(x)\n",
    "    max_divisor = 1\n",
    "    for f in prime_factors:\n",
    "        is_divisor = True\n",
    "        for g in gaps:\n",
    "            if g % f == 0:\n",
    "                continue\n",
    "            is_divisor = False\n",
    "        if not is_divisor:\n",
    "            continue\n",
    "        max_divisor *= f\n",
    "        gaps = [g // f for g in gaps]\n",
    "    count = sum([g // max_divisor for g in gaps_original]) - len(gaps_original)\n",
    "    print(count)\n",
    "\n",
    "\n",
    "solution()\n",
    "\n",
    "# input\n",
    "# 4\n",
    "# 2\n",
    "# 6\n",
    "# 12\n",
    "# 18"
   ]
  },
  {
   "cell_type": "markdown",
   "id": "fe620bd1-48c6-42cc-a9df-0ff2bdf87a94",
   "metadata": {},
   "source": [
    "## 골드바흐 파티션\n",
    "\n",
    "- 문제 출처: [백준 17103번](https://www.acmicpc.net/problem/17103)"
   ]
  },
  {
   "cell_type": "markdown",
   "id": "587cb8ed-078f-4941-bbff-81432fa69e77",
   "metadata": {},
   "source": [
    "`-` $2$보다 큰 짝수 $N$이 주어지므로 $N$ 미만의 소수를 미리 계산해놨다\n",
    "\n",
    "`-` 그리고 순열이 아니라 조합이라 숫자의 순서는 상관이 없으므로 가장 작은 소수 $2$부터 출발하여 $\\frac{N}{2}$을 넘지않는 소수까지만 검사한다 \n",
    "\n",
    "`-` 즉, 미리 $N$미만의 소수를 계산해두고 소수 배열을 순회하면서 현재 소수 $p$에서 $N-p$가 소수일 경우 카운팅을 한다\n",
    "\n",
    "`-` 여기서 $N-p$가 소수에 포함되는지 검사하는데 $O(1)$의 시간이 소요되도록 하기 위해 리스트의 인덱싱 연산을 사용했다"
   ]
  },
  {
   "cell_type": "code",
   "execution_count": 27,
   "id": "6d8b6dc4-7d95-434a-a104-71d2d7572ab4",
   "metadata": {},
   "outputs": [
    {
     "name": "stdin",
     "output_type": "stream",
     "text": [
      " 5\n",
      " 6\n"
     ]
    },
    {
     "name": "stdout",
     "output_type": "stream",
     "text": [
      "1\n"
     ]
    },
    {
     "name": "stdin",
     "output_type": "stream",
     "text": [
      " 8\n"
     ]
    },
    {
     "name": "stdout",
     "output_type": "stream",
     "text": [
      "1\n"
     ]
    },
    {
     "name": "stdin",
     "output_type": "stream",
     "text": [
      " 10\n"
     ]
    },
    {
     "name": "stdout",
     "output_type": "stream",
     "text": [
      "2\n"
     ]
    },
    {
     "name": "stdin",
     "output_type": "stream",
     "text": [
      " 12\n"
     ]
    },
    {
     "name": "stdout",
     "output_type": "stream",
     "text": [
      "1\n"
     ]
    },
    {
     "name": "stdin",
     "output_type": "stream",
     "text": [
      " 100\n"
     ]
    },
    {
     "name": "stdout",
     "output_type": "stream",
     "text": [
      "6\n"
     ]
    }
   ],
   "source": [
    "def get_num2is_prime():\n",
    "    N_max = 1000000\n",
    "    m = int(N_max**0.5)\n",
    "    num2is_prime = [False] * 2 + [True] * (N_max - 1)\n",
    "    for i in range(2, m):\n",
    "        if not num2is_prime[i]:\n",
    "            continue\n",
    "        for j in range(2 * i, N_max, i):\n",
    "            num2is_prime[j] = False\n",
    "    return num2is_prime\n",
    "\n",
    "\n",
    "def solve_testcase(prime_nums, num2is_prime):\n",
    "    N = int(input())\n",
    "    count = 0\n",
    "    for p in prime_nums:\n",
    "        if p > N // 2:\n",
    "            break\n",
    "        if not num2is_prime[N - p]:  # 시간복잡도: O(1)\n",
    "            continue\n",
    "        count += 1\n",
    "    return count\n",
    "\n",
    "\n",
    "def solution():\n",
    "    T = int(input())\n",
    "    num2is_prime = get_num2is_prime()\n",
    "    prime_nums = [num for num, is_prime in enumerate(num2is_prime) if is_prime]\n",
    "    for _ in range(T):\n",
    "        answer = solve_testcase(prime_nums, num2is_prime)\n",
    "        print(answer)\n",
    "\n",
    "\n",
    "solution()"
   ]
  },
  {
   "cell_type": "markdown",
   "id": "09da9de4-9f51-4128-bd09-f9c934d3f59a",
   "metadata": {},
   "source": [
    "## 베라의 패션\n",
    "\n",
    "- 문제 출처: [백준 15439번](https://www.acmicpc.net/problem/15439)"
   ]
  },
  {
   "cell_type": "code",
   "execution_count": 2,
   "id": "1ddf2622-ed0d-4af3-b163-0aa64bc6bd4f",
   "metadata": {},
   "outputs": [
    {
     "name": "stdin",
     "output_type": "stream",
     "text": [
      " 5\n"
     ]
    },
    {
     "name": "stdout",
     "output_type": "stream",
     "text": [
      "20\n"
     ]
    }
   ],
   "source": [
    "def solution():\n",
    "    x = int(input())\n",
    "    print(x**2 - x)\n",
    "\n",
    "\n",
    "solution()\n",
    "\n",
    "# input\n",
    "# 5"
   ]
  },
  {
   "cell_type": "markdown",
   "id": "5f31770d-119f-4824-ba21-4623076b30e1",
   "metadata": {},
   "source": [
    "## 타일 채우기\n",
    "\n",
    "- 문제 출처: [백준 2133번](https://www.acmicpc.net/problem/2133)"
   ]
  },
  {
   "cell_type": "markdown",
   "id": "4a403c58-4701-4678-9f13-2ce9c1369a83",
   "metadata": {},
   "source": [
    "`-` 사용할 수 있는 타일은 $2\\times 1$과 $1\\times 2$이며 이들의 넓이는 $2$로 같다\n",
    "\n",
    "`-` $3\\times N$ 크기의 타일을 위의 두 종류의 타일만 이용해서 채워야 한다\n",
    "\n",
    "`-` 사용할 수 있는 타일의 면적의 합은 짝수이므로 $N$이 홀수라면 타일을 채울 수 없다\n",
    "\n",
    "`-` 따라서 앞으로 $N$은 짝수라고 생각하자\n",
    "\n",
    "`-` $3\\times N$ 타일을 채우기 위해 고유한 기본 배치 단위를 생각해보자\n",
    "\n",
    "`-` 수학적 귀납법의 기본 케이스, 재귀 함수의 기본 리턴 조건 같은 거라고 생각하자\n",
    "\n",
    "`-` 만약 $3\\times N$ 타일을 $\\frac{N}{2}$개의 $3\\times 2$ 타일로 재구성할 수 있다면 문제는 쉽다\n",
    "\n",
    "`-` 근데 $3\\times 2$ 타일로 재구성 불가능한 $3\\times N$ 타일의 배치는 무엇이 있을까?\n",
    "\n",
    "`-` 즉, $3\\times 2$ 타일로 재구성 불가능한 고유한 타일의 배치는 존재하는가?\n",
    "\n",
    "`-` $N > 2$인 모든 $3\\times N$ 타일에 대해 $n <N$인 $3\\times n$으로 재구성되지 않는 조합이 존재한다\n",
    "\n",
    "`-` 고유한 $3\\times 4$ 타일을 채우는 방법으론 위에 $2\\times 1$ 타일을 2개 사용하고 아래에 $1\\times 2, 2\\times 1, 2\\times 1, 1 \\times 2$ 순으로 배치하는 방식이 있다\n",
    "\n",
    "`-` 위 아래를 반전시켜도 된다\n",
    "\n",
    "`-` 따라서 $3\\times 4$ 타일을 채우되 $3\\times 2$ 타일로 재구성되지 않는 경우의 수는 $2$이다\n",
    "\n",
    "`-` 고유한 $3\\times 6$ 타일을 채우는 방법으론 위에 $2\\times 1$ 타일을 3개 사용하고 아래에 $1\\times 2, 2\\times 1, 2\\times 1,2\\times 1, 2\\times 1, 1 \\times 2$ 순으로 배치하는 방식이 있다\n",
    "\n",
    "`-` $N > 2$인 모든 $3\\times N$ 타일에 대해 위에는 $2\\times1$ 타일을 $\\frac{N}{2}$개 사용하고 아래 양쪽에 $1\\times 2$ 타일을 사용하고 사이에 $2\\times 1$ 타일을 $N-2$개 사용하여 고유한 조합을 만들 수 있다\n",
    "\n",
    "`-` 이러한 정보를 바탕으로 $3\\times N$ 타일을 채워보자\n",
    "\n",
    "`-` 앞으로 언급할 타일은 모두 고유한 타일을 뜻한다\n",
    "\n",
    "`-` 우선, 재구성 상관없이 $3\\times 4$ 타일을 채우는 경우의 수는 $3^2 + 2 = 11$이다\n",
    "\n",
    "`-` $3\\times 4$ 타일을 1개 사용하거나 $3\\times 2$ 타일을 2개 사용하여 만들 수 있다\n",
    "\n",
    "`-` 이제 $3\\times 6$ 타일을 채우는 방법을 알아보자\n",
    "\n",
    "`-` 이는 $3\\times 2$ 타일을 3개 사용하거나 $3\\times 2$ 타일을 1개, $3\\times 4$ 타일을 1개 사용하거나 $3\\times 6$ 타일을 1개 사용하면 된다\n",
    "\n",
    "`-` 총 경우의 수는 $3^3 + 3 \\cdot 2\\cdot\\dfrac{2!}{1!1!} + 2= 41$이다\n",
    "\n",
    "`-` 즉, $6$보다 작거나 같은 짝수 $k_1,k_2,k_3$에 대해 $ak_1+bk_2+ck_3 = 6$가 성립하는 조합 $(a,b,c)$를 모두 찾는다\n",
    "\n",
    "`-` $3\\times N$ 타일을 채우는 고유한 방법의 수를 $m_N$이라고 하자\n",
    "\n",
    "`-` 각 조합 $(a_i,b_i,c_i)$에 대해 $\\dfrac{(a_i+b_i+c_i)!}{a_i!b_i!c_i!} (m_{k_1})^{a_i} (m_{k_2})^{b_i} (m_{k_3})^{c_i}$을 계산한 후 정답에 더해주면 된다\n",
    "\n",
    "`-` 앞에 팩토리얼 항은 배치하는 방법을 같은 것이 있는 순열로 나타낸 것이다\n",
    "\n",
    "`-` 예컨대 $3\\times 4$ 타일이 $i$개, $3\\times 2$이 $j$개 있다면 이들을 배치하는 경우의 수는 $\\dfrac{(i+j)!}{i!j!}$이다\n",
    "\n",
    "`-` 그리고 $3\\times 4$ 타일이 $i$개이므로 조합은 $2^i$, $3\\times 2$이 $j$개이므로 조합은 $3^j$이다\n",
    "\n",
    "`-` 따라서 총 경우의 수는 $2^i 3^j\\dfrac{(i+j)!}{i!j!}$이다\n",
    "\n",
    "`-` 쉽게 말해 배치할 포지션을 정하고 각 포지션에 고유한 타일의 모양 중 하나를 선택하면 된다\n",
    "\n",
    "`-` 위에서는 예시로 $6$을 사용했는데 $6$ 대신 임의의 $N$을 사용하여 일반화하면 된다\n",
    "\n",
    "`-` 조합 $(a_i,b_i,c_i,\\cdots)$는 어떻게 찾을 수 있을까?\n",
    "\n",
    "`-` 가장 큰 짝수 $q_i$로 만든 $3\\times q_i$ 타일은 $0$개부터 $\\left\\lfloor\\frac{N}{q_i}\\right\\rfloor$개까지 사용할 수 있다\n",
    "\n",
    "`-` $x$개 사용하기로 했다면 다음으론 큰 짝수 $p_i$에 대해 $N$을 $N-xq_i$으로 바꾸고 몇 개 사용할지 재귀적으로 정하면 된다\n",
    "\n",
    "`-` 기본 케이스로 짝수가 $2$라면 항상 $\\dfrac{N_{\\text{input}}}{2}$개 사용한다 ($2$보다 작은 짝수 자연수는 없다)"
   ]
  },
  {
   "cell_type": "code",
   "execution_count": 80,
   "id": "f200768f-d552-493a-b419-d3200b3d421c",
   "metadata": {},
   "outputs": [
    {
     "name": "stdin",
     "output_type": "stream",
     "text": [
      " 8\n"
     ]
    },
    {
     "name": "stdout",
     "output_type": "stream",
     "text": [
      "153\n"
     ]
    }
   ],
   "source": [
    "def permute(n, k, p, permutations):\n",
    "    if k == 2:\n",
    "        x = n // k\n",
    "        p.append(x)\n",
    "        permutations.append(p.copy())\n",
    "        p.pop()\n",
    "        return\n",
    "    for x in range(n // k + 1):\n",
    "        p.append(x)\n",
    "        reminder = n - x * k\n",
    "        even_before = k - 2\n",
    "        permute(reminder, even_before, p, permutations)\n",
    "        p.pop()\n",
    "\n",
    "\n",
    "def fact(n):\n",
    "    if n == 0 or n == 1:\n",
    "        return 1\n",
    "    return n * fact(n - 1)\n",
    "\n",
    "\n",
    "def solution():\n",
    "    N = int(input())\n",
    "    if N % 2 == 1:\n",
    "        print(0)\n",
    "        return\n",
    "    tile_2 = 3\n",
    "    tile_other = 2\n",
    "    permutations = []\n",
    "    permute(N, N, [], permutations)\n",
    "    answer = 0\n",
    "    for p in permutations:\n",
    "        p = p[::-1]\n",
    "        count = 1\n",
    "        coef_fact = fact(sum(p))\n",
    "        for i, x in enumerate(p, start=1):\n",
    "            if x == 0:\n",
    "                continue\n",
    "            k = 2 * i\n",
    "            if k == 2:\n",
    "                tile_count = tile_2\n",
    "            else:\n",
    "                tile_count = tile_other\n",
    "            count *= tile_count**x\n",
    "            coef_fact //= fact(x)\n",
    "        count *= coef_fact\n",
    "        answer += count\n",
    "    print(answer)\n",
    "\n",
    "\n",
    "solution()\n",
    "\n",
    "# input\n",
    "# 8"
   ]
  },
  {
   "cell_type": "markdown",
   "id": "a71c91da-29be-4969-ac7e-51f7513e9e97",
   "metadata": {},
   "source": [
    "## 검문\n",
    "\n",
    "- 문제 출처: [백준 2981번](https://www.acmicpc.net/problem/2981)"
   ]
  },
  {
   "cell_type": "markdown",
   "id": "63b0030b-0e23-4c71-939f-687ded052cf6",
   "metadata": {},
   "source": [
    "`-` 어떤 두 수 $a,b\\; (a>b)$에 대해 $1$보다 큰 $M$으로 나눈 나머지가 같게 되는 $M$을 찾아보자\n",
    "\n",
    "`-` $a=Mx+y,\\, b=Mp+q$에서 $M$으로 나눈 나머지가 같으므로 $y=q$이다\n",
    "\n",
    "`-` 따라서 $a-b=Mx-Mp=M(x-p)$이므로 가능한 $M$은 $a-b$의 약수이다\n",
    "\n",
    "`-` 가능한 두 수 쌍에 대해 약수를 구하고 모든 쌍에 공통으로 존재하는 약수가 존재한다면 정답으로 가능하다\n",
    "\n",
    "`-` 근데 굳이 모든 쌍에 조사할 필요는 없고 가장 큰 수와 나머지 수들에 대해서만 조사해도 된다\n",
    "\n",
    "`-` 가장 큰 수를 $x$라 하고 나머지 수들을 $a_1,a_2,\\cdots, a_n$이라고 하자\n",
    "\n",
    "`-` $x$와 $a_i$에서 계산한 가능한 $M$의 집합을 $M_i$라고 하자\n",
    "\n",
    "`-` 그럼 $x,a_1,a_2,\\cdots,a_n$의 가능한 $M$의 집합은 $M_x = \\bigcap\\limits_{i=1}^{n} M_i,$이다\n",
    "\n",
    "`-` 만약 어떤 두 수 $a_i,a_j$의 가능한 $M$의 원소로 $M_x$의 원소 $m$을 가지지 않는다고 해보자\n",
    "\n",
    "`-` 즉, $x$와 $a_i$를 $m$으로 나눈 나머지가 같고 $x$와 $a_j$를 $m$으로 나눈 나머지 같지만 $a_i$와 $a_j$를 $m$으로 나눈 나머지는 다르다는 것이다 \n",
    "\n",
    "`-` $x-a_i$는 $m$의 배수이며 다르게 말하자면 $x \\equiv a_i \\pmod {m}$이다\n",
    "\n",
    "`-` 즉, $a_i$를 $m$으로 나눈 나머지와 $x$를 $m$로 나눈 나머지 같다\n",
    "\n",
    "`-` 그런데 이는 $a_j$도 동일하다\n",
    "\n",
    "`-` $x \\equiv a_i \\pmod {m}$이고 $x \\equiv a_j \\pmod {m}$이므로 $a_i \\equiv a_j \\pmod {m}$이다\n",
    "\n",
    "`-` 따라서 처음에 가정한 $m$은 존재할 수 없다\n",
    "\n",
    "`-` 한편, 어떤 수 $K$의 약수를 찾기 위해선 $\\left\\lfloor\\sqrt{K}\\right\\rfloor$까지만 나눠보면 된다\n",
    "\n",
    "`-` 전체 알고리즘의 시간 복잡도는 $O\\left(\\sqrt{K}N\\right)$이고 $N$은 최대 $100$, $K$는 최대 $10^9$이므로 시간 안에 가능하다"
   ]
  },
  {
   "cell_type": "code",
   "execution_count": 19,
   "id": "0f18d04e-a91a-403e-adf0-ca5329d1bcb0",
   "metadata": {},
   "outputs": [
    {
     "name": "stdin",
     "output_type": "stream",
     "text": [
      " 3\n",
      " 6\n",
      " 34\n",
      " 38\n"
     ]
    },
    {
     "name": "stdout",
     "output_type": "stream",
     "text": [
      "2 4\n"
     ]
    }
   ],
   "source": [
    "def find_divisors(k):\n",
    "    root = int(k**0.5)\n",
    "    divisors = set()\n",
    "    for i in range(1, root + 1):\n",
    "        if k % i != 0:\n",
    "            continue\n",
    "        d1 = i\n",
    "        d2 = k // i\n",
    "        divisors.add(d1)\n",
    "        divisors.add(d2)\n",
    "    return divisors\n",
    "\n",
    "\n",
    "def solution():\n",
    "    N = int(input())\n",
    "    a_n = [int(input()) for _ in range(N)]\n",
    "    maximum = max(a_n)\n",
    "    M = set()\n",
    "    for a in a_n:\n",
    "        if a == maximum:\n",
    "            continue\n",
    "        k = maximum - a\n",
    "        divisors = find_divisors(k)\n",
    "        if not M:\n",
    "            M = divisors\n",
    "            continue\n",
    "        M.intersection_update(divisors)\n",
    "    M.discard(1)  # M은 1보다 크다\n",
    "    M = sorted(M)\n",
    "    print(*M)\n",
    "\n",
    "\n",
    "solution()\n",
    "\n",
    "# input\n",
    "# 3\n",
    "# 6\n",
    "# 34\n",
    "# 38"
   ]
  },
  {
   "cell_type": "markdown",
   "id": "9e17924f-9731-4781-88c3-be36903a956f",
   "metadata": {},
   "source": [
    "`-` 위의 방법보다 더 빠른 방법이 있다\n",
    "\n",
    "`-` 두 수의 차이는 $M$의 배수여야 하므로 $2$개의 두 수 차이간의 최대 공약수를 구하고 $1$보다 큰 최대 공약수의 약수를 출력하면 된다\n",
    "\n",
    "`-` 즉, 가능한 큰 $M$을 구한 뒤 $1$보다 큰 $M$의 약수를 출력하면 된다"
   ]
  },
  {
   "cell_type": "markdown",
   "id": "52207054-308a-4ef5-8866-27d4427f4e24",
   "metadata": {},
   "source": [
    "## 수 나누기 게임\n",
    "\n",
    "- 문제 출처: [백준 27172번](https://www.acmicpc.net/problem/27172)"
   ]
  },
  {
   "cell_type": "markdown",
   "id": "a9575444-e86d-4d33-b3c3-f2d0bb3ff89e",
   "metadata": {},
   "source": [
    "`-` 처음에는 각 카드로 다른 모든 카드를 나눠볼려고 했는데 그럴 필요가 없었다\n",
    "\n",
    "`-` 내 카드로 다른 카드를 나눌 수 있다는 것은 다른 카드의 약수가 내 카드란 것이다\n",
    "\n",
    "`-` 모든 카드에 대해 약수를 구하자\n",
    "\n",
    "`-` 해당 약수를 가지고 있는 플레이어가 있다면 나는 $1$점을 잃고 상대는 $1$점을 얻는다\n",
    "\n",
    "`-` $k$의 약수를 구하는 건 $O\\left(\\sqrt{K}\\right)$이고 이를 $N$번 반복하므로 $O\\left(\\sqrt{K} N\\right)$이다\n",
    "\n",
    "`-` 약수를 가지고 있는 플레이어를 확인하는 건 집합에서 상수 시간에 확인 가능하다"
   ]
  },
  {
   "cell_type": "code",
   "execution_count": 7,
   "id": "19e6c36a-c99f-4258-ae4d-b13fc4cfd963",
   "metadata": {},
   "outputs": [
    {
     "name": "stdin",
     "output_type": "stream",
     "text": [
      " 3\n",
      " 3 4 12\n"
     ]
    },
    {
     "name": "stdout",
     "output_type": "stream",
     "text": [
      "1 1 -2\n"
     ]
    }
   ],
   "source": [
    "def find_divisors(k):\n",
    "    root = int(k**0.5)\n",
    "    divisors = []\n",
    "    for i in range(1, root + 1):\n",
    "        if k % i != 0:\n",
    "            continue\n",
    "        d1 = i\n",
    "        d2 = k // i\n",
    "        divisors.append(d1)\n",
    "        if d1 == d2:\n",
    "            continue\n",
    "        divisors.append(d2)\n",
    "    return divisors\n",
    "\n",
    "\n",
    "def solution():\n",
    "    N = int(input())\n",
    "    x_n = list(map(int, input().split()))\n",
    "    scores = {x: 0 for x in x_n}\n",
    "    for x in x_n:\n",
    "        divisors = find_divisors(x)\n",
    "        for d in divisors:\n",
    "            if d == x:\n",
    "                continue\n",
    "            if d in scores:\n",
    "                scores[d] += 1\n",
    "                scores[x] -= 1\n",
    "    scores = list(scores.values())\n",
    "    print(*scores)\n",
    "\n",
    "\n",
    "solution()\n",
    "\n",
    "# input\n",
    "# 3\n",
    "# 3 4 12"
   ]
  },
  {
   "cell_type": "markdown",
   "id": "235379d1-c727-494e-ae93-4a8354935380",
   "metadata": {},
   "source": [
    "`-` 위의 방법보다 더 빠른 방법이 있다\n",
    "\n",
    "`-` 에라토스테네스의 체와 같은 방식을 활용하는 것이다\n",
    "\n",
    "`-` 먼저 크기가 $1000000$인 배열을 만들고 무한으로 초기화하자\n",
    "\n",
    "`-` 각 카드에 적힌 정수에 위치한 배열은 $0$으로 초기화하자\n",
    "\n",
    "`-` 어떤 카드 $a$에 대해 $a$보다 큰 $a$의 배수를 순회하며 배열의 값이 무한이 아니라면 존재하는 카드이니 점수를 $1$점 내리고 자기 점수를 $1$점 올린다\n",
    "\n",
    "`-` 이런식으로 하면 가장 작은 카드 $2$에 대해선 $500000$번 순회하고 가장 큰 $100000$에 대해선 $10$번 순회한다 (사실 자기 자신은 건너뛰니 $1$ 빼야한다)\n",
    "\n",
    "`-` $N=100000$이면 카드는 $1$부터 $100000$까지고 탐색 횟수는 $1000000 \\left( \\dfrac{1}{2} + \\dfrac{1}{3}+\\cdots + \\dfrac{1}{100000}\\right)$이 된다\n",
    "\n",
    "`-` 조화 급수는 로그 함수로 근사할 수 있다\n",
    "\n",
    "`-` 수의 최댓값을 $K$라고 하면 위의 탐색 횟수를 가진 알고리즘의 시간 복잡도는 $O(K \\log N)$이다\n",
    "\n",
    "`-` 내 알고리즘의 시간 복잡도는 $O\\left(\\sqrt{K} N\\right)$이었다\n",
    "\n",
    "`-` 시간 복잡도 측면에선 $N=100000$인 최악의 경우엔 내 알고리즘보다 $20$배 빠르다"
   ]
  },
  {
   "cell_type": "markdown",
   "id": "e1bbe972-594d-4cc2-a0ee-340818312888",
   "metadata": {},
   "source": [
    "## 이항 계수 4\n",
    "\n",
    "- 문제 출처: [백준 11402번](https://www.acmicpc.net/problem/11402)"
   ]
  },
  {
   "cell_type": "markdown",
   "id": "6948291d-09fc-47c1-9c5d-8342637f54db",
   "metadata": {},
   "source": [
    "`-` [뤼카 정리](https://en.wikipedia.org/wiki/Lucas%27s_theorem) 기본 문제이다\n",
    "\n",
    "`-` 뤼카 정리는 구글링해서 알아보자"
   ]
  },
  {
   "cell_type": "code",
   "execution_count": 2,
   "id": "94d46de5-a1ae-4702-8221-e69f07568b28",
   "metadata": {},
   "outputs": [
    {
     "name": "stdin",
     "output_type": "stream",
     "text": [
      " 100 45 13\n"
     ]
    },
    {
     "name": "stdout",
     "output_type": "stream",
     "text": [
      "2\n"
     ]
    }
   ],
   "source": [
    "from itertools import zip_longest\n",
    "\n",
    "\n",
    "def convert_number_system(x, p):\n",
    "    nums = []\n",
    "    while x > 0:\n",
    "        nums.append(x % p)\n",
    "        x //= p\n",
    "    return nums\n",
    "\n",
    "\n",
    "def binom(n, k, p):\n",
    "    if n < k:\n",
    "        return 0\n",
    "    k = min(k, n - k)\n",
    "    if k == 0:\n",
    "        return 1\n",
    "    if k == 1:\n",
    "        return n % p\n",
    "    numerator = 1\n",
    "    for i in range(n - k + 1, n + 1):\n",
    "        numerator *= i\n",
    "        numerator %= p\n",
    "    denominator = 1\n",
    "    for j in range(1, k + 1):\n",
    "        denominator *= j\n",
    "        denominator %= p\n",
    "    binom_coef = (numerator * pow(denominator, p - 2, p)) % p\n",
    "    return binom_coef\n",
    "\n",
    "\n",
    "def lucas_theorem(n, k, p):\n",
    "    binom_coef = 1\n",
    "    nums_n = convert_number_system(n, p)\n",
    "    nums_k = convert_number_system(k, p)\n",
    "    for ni, ki in zip_longest(nums_n, nums_k, fillvalue=0):\n",
    "        partial = binom(ni, ki, p)\n",
    "        binom_coef *= partial\n",
    "        binom_coef %= p\n",
    "    return binom_coef\n",
    "\n",
    "\n",
    "def solution():\n",
    "    N, K, M = map(int, input().split())\n",
    "    answer = lucas_theorem(N, K, M)\n",
    "    print(answer)\n",
    "\n",
    "\n",
    "solution()\n",
    "\n",
    "# input\n",
    "# 100 45 13"
   ]
  },
  {
   "cell_type": "markdown",
   "id": "b6b7a4d6-987b-4c4a-80b0-647311289fbc",
   "metadata": {},
   "source": [
    "## 돌아온 떡파이어\n",
    "\n",
    "- 문제 출처: [백준 15718번](https://www.acmicpc.net/problem/15718)"
   ]
  },
  {
   "cell_type": "markdown",
   "id": "b2370a24-ee21-4e49-8281-2c46871b9b01",
   "metadata": {},
   "source": [
    "`-` M째날 N살로 생을 마감 (0세부터 시작)\n",
    "\n",
    "`-` M째날 떡국 안 먹었으니까 죽었겠지\n",
    "\n",
    "`-` 나이를 먹는 과정의 경우의 수\n",
    "\n",
    "`-` $1$일부터 $M-1$일까지 고려하자\n",
    "\n",
    "`-` 이 동안 적어도 떡국을 한 그릇 이상 먹어야 한다\n",
    "\n",
    "`-` $x'_1 + ... + x'_{M-1} = N$\n",
    "\n",
    "`-` $x_n = x'_n + 1$ (적어도 떡국을 한 그릇 먹었다)\n",
    "\n",
    "`-` $x_1 + ... + x_{M-1} = N - M + 1$\n",
    "\n",
    "`-` 이거 중복조합으로 해결 가능하다\n",
    "\n",
    "`-` $M-1$개의 변수에서 중복을 고려해 $N-M+1$개를 뽑으면 된다\n",
    "\n",
    "`-` {M-1}_H_{N-M+1} = {N-1}_C_{M-2}\n",
    "\n",
    "`-` 즉, {N-1}_C_{M-2}을 100007로 나눈 나머지가 정답이다\n",
    "\n",
    "`-` 근데 N, M <= 10^9이라 $O(N+M)$과 같은 단순 계산은 안된다\n",
    "\n",
    "`-` 100007 = 97*1037\n",
    "\n",
    "`-` x mod 100007 = ?\n",
    "\n",
    "`-` x = 100007*q + r (0 <= r < 100007)\n",
    "\n",
    "`-` x = 97*1031*q + r\n",
    "\n",
    "`-` x mod 97 = r mod 97\n",
    "\n",
    "`-` 뤼카의 정리로 풀고 싶다\n",
    "\n",
    "`-` 그럴러면 100007이 소수여야 되는데 얘는 소수가 아니고 97,1031이 소수다 (100007은 특별한 수라고 문제에서 언급)\n",
    "\n",
    "`-` 모듈러 성질을 찾아보면 a mod m = b mod m이고 n이 m의 약수라면 a mod n = b mod n이 있다\n",
    "\n",
    "`-` 근데 당연함, 근데 여기에 적용 못하는 이유가 내가 구하려는 건 a mod m = b mod m이 아니라 단일항에 대한 나머지이기 때문이다\n",
    "\n",
    "`-` 단순하게 a mod 100007과 a mod 97은 다르다 a가 100이라면 전자는 100인데 후자는 3임\n",
    "\n",
    "`-` 그래서 단일항에 대한 식이 아니라 관계식이 필요함\n",
    "\n",
    "`-` 내가 궁금한 건 {N-1}_C_{M-2} mod 100007이라는 단일식이다\n",
    "\n",
    "`-` 근데 여기서 중국인의 나머지 정리가 쓰인다. ㅁㅊ;;;\n",
    "\n",
    "`-` S = {N-1}_C_{M-2}라 하자\n",
    "\n",
    "`-` x = S mod 100007라 하면 x mod 100007 = S mod 100007\n",
    "\n",
    "`-` 따라서 x mod 97 = S mod 97, x mod 1031 = S mod 1031\n",
    "\n",
    "`-` 97, 1031에 대해 뤼카의 정리로 빠르게 계산한 뒤 중국인의 나머지 정리로 이들을 취합하면 해결 가능할 것 같다\n",
    "\n",
    "`-` x = a mod 97, x = b mod 1031\n",
    "\n",
    "`-` x = 1031m + 97n mod 97*1031\n",
    "\n",
    "`-` (1031 mod 97)m = a mod 97 ---> 67m = a mod 97, 97n = b mod 1031\n",
    "\n",
    "`-` 97, 1031은 소수니까 곱셈역은 페르마의 소정리로 쉽게 계산 가능하다 (확장 유클리드 알고리즘 사용 안해도 됨)"
   ]
  },
  {
   "cell_type": "code",
   "execution_count": 2,
   "id": "f3ee76af-4930-4aaa-bed7-ec488fd9a130",
   "metadata": {},
   "outputs": [
    {
     "name": "stdin",
     "output_type": "stream",
     "text": [
      " 1\n",
      " 3 3\n"
     ]
    },
    {
     "name": "stdout",
     "output_type": "stream",
     "text": [
      "2\n"
     ]
    }
   ],
   "source": [
    "from itertools import zip_longest\n",
    "\n",
    "\n",
    "def convert_number_system(x, p):\n",
    "    nums = []\n",
    "    while x >= 1:\n",
    "        nums.append(x % p)\n",
    "        x //= p\n",
    "    return nums\n",
    "\n",
    "\n",
    "def binom(n, k, p):\n",
    "    if n < k:\n",
    "        return 0\n",
    "    if k == 0:\n",
    "        return 1\n",
    "    if k == 1:\n",
    "        return n % p\n",
    "    numerator = 1\n",
    "    for i in range(n - k + 1, n + 1):\n",
    "        numerator *= i\n",
    "        numerator %= p\n",
    "    denominator = 1\n",
    "    for j in range(1, k + 1):\n",
    "        denominator *= j\n",
    "        denominator %= p\n",
    "    return (numerator * pow(denominator, p - 2, p)) % p \n",
    "\n",
    "\n",
    "def lucas_theorem(n, k, p):\n",
    "    nums_n = convert_number_system(n, p)\n",
    "    nums_k = convert_number_system(k, p)\n",
    "    binom_coef = 1\n",
    "    for ni, ki in zip_longest(nums_n, nums_k, fillvalue=0):\n",
    "        partial = binom(ni, ki, p)\n",
    "        binom_coef *= partial\n",
    "        binom_coef %= p\n",
    "    return binom_coef\n",
    "\n",
    "\n",
    "def crt(a1, p1, a2, p2):\n",
    "    x1 = p2 * a1 * pow(p2, p1 - 2, p1)\n",
    "    x2 = p1 * a2 * pow(p1, p2 - 2, p2)\n",
    "    return (x1 + x2) % (p1 * p2)\n",
    "\n",
    "\n",
    "def solve_testcase():\n",
    "    N, M = map(int, input().split())\n",
    "    if N == 0 and M == 1:\n",
    "        print(1)\n",
    "        return\n",
    "    if M == 1:\n",
    "        print(0)\n",
    "        return\n",
    "    if N - 1 < M - 2:\n",
    "        print(0)\n",
    "        return\n",
    "    P1 = 97\n",
    "    P2 = 1031 \n",
    "    binom1 = lucas_theorem(N - 1, M - 2, P1)\n",
    "    binom2 = lucas_theorem(N - 1, M - 2, P2)\n",
    "    answer = crt(binom1, P1, binom2, P2)\n",
    "    print(answer)\n",
    "\n",
    "\n",
    "def solution():\n",
    "    T = int(input())\n",
    "    for _ in range(T):\n",
    "        solve_testcase()\n",
    "\n",
    "\n",
    "solution()\n",
    "\n",
    "# input\n",
    "# 1\n",
    "# 3 3"
   ]
  },
  {
   "cell_type": "markdown",
   "id": "b0b9d0ea-ae67-43ef-809b-d71a614abd08",
   "metadata": {},
   "source": [
    "## 아파트 임대\n",
    "\n",
    "- 문제 출처: [백준 5615번](https://www.acmicpc.net/problem/5615)"
   ]
  },
  {
   "cell_type": "code",
   "execution_count": 1,
   "id": "73ebab82-4689-4e55-a045-d3df89999948",
   "metadata": {},
   "outputs": [
    {
     "name": "stdin",
     "output_type": "stream",
     "text": [
      " 1\n",
      " 7\n"
     ]
    },
    {
     "name": "stdout",
     "output_type": "stream",
     "text": [
      "0\n"
     ]
    }
   ],
   "source": [
    "def miller_rabin_primality_test(n):\n",
    "    check_list = [2, 7, 61]\n",
    "    is_composite_number = True\n",
    "    for a in check_list:\n",
    "        if a >= n - 1:\n",
    "            continue\n",
    "        is_okay = False\n",
    "        x = n - 1\n",
    "        while x % 2 == 0:\n",
    "            x //= 2\n",
    "            if pow(a, x, n) == n - 1:\n",
    "                is_okay = True\n",
    "                break\n",
    "        if is_okay:\n",
    "            continue\n",
    "        if pow(a, x, n) != 1:\n",
    "            return False\n",
    "    return True\n",
    "\n",
    "\n",
    "def solution():\n",
    "    N = int(input())\n",
    "    answer = 0\n",
    "    for _ in range(N):\n",
    "        x = int(input())\n",
    "        n = 2 * x + 1\n",
    "        if miller_rabin_primality_test(n):\n",
    "            answer += 1\n",
    "    print(answer)\n",
    "\n",
    "\n",
    "solution()"
   ]
  },
  {
   "cell_type": "code",
   "execution_count": null,
   "id": "469da9a5-bdda-4685-a386-46bc2077f1bc",
   "metadata": {},
   "outputs": [],
   "source": []
  }
 ],
 "metadata": {
  "kernelspec": {
   "display_name": "Python 3 (ipykernel)",
   "language": "python",
   "name": "python3"
  },
  "language_info": {
   "codemirror_mode": {
    "name": "ipython",
    "version": 3
   },
   "file_extension": ".py",
   "mimetype": "text/x-python",
   "name": "python",
   "nbconvert_exporter": "python",
   "pygments_lexer": "ipython3",
   "version": "3.8.11"
  }
 },
 "nbformat": 4,
 "nbformat_minor": 5
}
