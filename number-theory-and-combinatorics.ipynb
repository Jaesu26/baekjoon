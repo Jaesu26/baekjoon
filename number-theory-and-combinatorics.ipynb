{
 "cells": [
  {
   "cell_type": "markdown",
   "id": "83e87270-fab3-425c-a456-24a10d8a6dd1",
   "metadata": {},
   "source": [
    "# 정수론 및 조합론 "
   ]
  },
  {
   "cell_type": "markdown",
   "id": "e388c9ab-a25f-42aa-93b1-ccb4ab5fcbf3",
   "metadata": {},
   "source": [
    "## 이항 계수 2 "
   ]
  },
  {
   "cell_type": "markdown",
   "id": "94587450-f106-4607-a558-e74d8a9f2e04",
   "metadata": {},
   "source": [
    "`-` 자연수 N과 정수 K가 주어졌을 때 이항 계수 $\\binom{N}{K}$를 10,007로 나눈 나머지를 구하는 프로그램을 작성하시오"
   ]
  },
  {
   "cell_type": "markdown",
   "id": "c7ea5ae3-5093-40df-89f0-330357115e59",
   "metadata": {},
   "source": [
    "`-` $ _{n}\\rm C_{k}\\;=\\; _{n-1}\\rm C_{k-1}\\;+\\;_{n-1}\\rm C_{k}$\n",
    "\n",
    "`-` n명 중 k명을 선택하는 방법 = 일단 나를 k명에 포함하고 나머지 n-1명 중 k-1명을 선택하는 방법 + 나를 k명에서 제외하고 나머지 n-1명 중 k명을 선택하는 방법\n",
    "\n",
    "`-` 메모이제이션 활용"
   ]
  },
  {
   "cell_type": "markdown",
   "id": "c5f4b4b6-5489-42fe-81c9-458f2c877fee",
   "metadata": {},
   "source": [
    "`-` 아래 코드는 수를 곱하고 나누고 하는 과정에서 오차가 발생함(이유 알 것 같음)"
   ]
  },
  {
   "cell_type": "code",
   "execution_count": 34,
   "id": "82487ec2-4370-4a6e-825a-cf9fd2d73de9",
   "metadata": {},
   "outputs": [
    {
     "name": "stdin",
     "output_type": "stream",
     "text": [
      " 1000 500\n"
     ]
    },
    {
     "name": "stdout",
     "output_type": "stream",
     "text": [
      "270288240945436736896419468186285475891156693372573153808127299354545159392842888344379470775469423606583114895222426893312341135200171386904964166401328583914403638232447354301148995510201690344719626632436541851159067180652764129719441081806265387434048424366211327146525860903129335008845962936320\n"
     ]
    }
   ],
   "source": [
    "def binom(n, k):\n",
    "    frac = 1    \n",
    "    if k == 0:\n",
    "        return frac\n",
    "    for i in range(k):\n",
    "        frac *= (n - i)\n",
    "        frac /= (k - i)\n",
    "    return frac\n",
    "\n",
    "\n",
    "N, K = map(int, input().split())\n",
    "if K > N - K:\n",
    "    K = N - K\n",
    "print(binom(N, K))    \n",
    "    \n",
    "# input\n",
    "# 1000 500"
   ]
  },
  {
   "cell_type": "markdown",
   "id": "9b62977a-ebb2-44ff-9982-644d747c5c5f",
   "metadata": {},
   "source": [
    "`-` 아래코드는 메모이제이션으로 구현했다\n",
    "\n",
    "`-` 계산해보면 알겠지만 $_{1000}\\rm C_{500}$은 매우$\\times 100$ 큰 수이다 (300자리)\n",
    "\n",
    "`-` 그래서 $_{1000}\\rm C_{500}$를 계산할 때 위와같이 구하면 곱하고 나누는 과정에서 소수점 오차가 발생하고 이는 결과적으로 밑의 코드와 다른 값을 출력하게 된다\n",
    "\n",
    "`-` 메모이제이션을 안 쓴 코드와 쓴 코드로 구한 $_{1000}\\rm C_{500}$ 값을 비교하면 다른 것을 알 수 있다\n",
    "\n",
    "`-` 아래 코드는 오류 발생(만약 위의 코드가 오차없이 답을 구한다면 똑같이 오류 발생) ---> 재귀 깊이에 관한 오류\n",
    "\n",
    "`-` 백준에서 정한 파이썬 재귀 깊이는 1000이다. 즉, 같은 함수를 1000번 이상 호출하면 오류가 난다\n",
    "\n",
    "`-` 그래서 오류가 나지 않으려면 재귀 깊이를 sys.setrecursionlimit()를 통해 바꾸던가 해야함\n",
    "\n",
    "`-` 오류가 발생한 이유를 알았으니 아래 코드를 다시 수정함"
   ]
  },
  {
   "cell_type": "code",
   "execution_count": 33,
   "id": "f04380e9-745c-47f5-a3e4-36d8a1275deb",
   "metadata": {},
   "outputs": [
    {
     "name": "stdin",
     "output_type": "stream",
     "text": [
      " 1000 500\n"
     ]
    },
    {
     "name": "stdout",
     "output_type": "stream",
     "text": [
      "270288240945436569515614693625975275496152008446548287007392875106625428705522193898612483924502370165362606085021546104802209750050679917549894219699518475423665484263751733356162464079737887344364574161119497604571044985756287880514600994219426752366915856603136862602484428109296905863799821216320\n"
     ]
    }
   ],
   "source": [
    "import sys\n",
    "sys.setrecursionlimit(10**6)\n",
    "\n",
    "N, K = map(int, input().split())\n",
    "if K > N - K:\n",
    "    K = N - K\n",
    "binom_list = [[-1] * 501 for _ in range(1001)]\n",
    "\n",
    "\n",
    "def binom(n, k):\n",
    "    if binom_list[n][k] != -1:\n",
    "        return binom_list[n][k]\n",
    "    elif n < k:\n",
    "        return 0\n",
    "    elif k == 0:\n",
    "        return 1\n",
    "    elif n == 1:\n",
    "        return 1\n",
    "    binom_list[n][k] = binom(n-1, k) + binom(n-1, k-1)\n",
    "    return binom_list[n][k]\n",
    "\n",
    "\n",
    "print(binom(N, K))    \n",
    "\n",
    "# input\n",
    "# 1000 500"
   ]
  },
  {
   "cell_type": "markdown",
   "id": "bae48282-d118-4c3e-b609-b6f160a54b4b",
   "metadata": {},
   "source": [
    "`-` 사실 재귀함수를 사용하지 않고 첫 번째 코드를 수정하는 것으로도 정답을 맞출 수 있다"
   ]
  },
  {
   "cell_type": "markdown",
   "id": "66f06fb9-f21c-4448-8f60-86e0547ea19a",
   "metadata": {},
   "source": [
    "`-` 문제는 `/(나누기)` 이다 `/` 대신 `//(몫 구하기)`를 사용하면 해결된다\n",
    "\n",
    "`-` `/(나누기 연산자)`는 큰 값을 계산할 때 오차에 취약하다 \n",
    "\n",
    "`-` 그래서 // 를 쓰는 것이 좋다. 물론 /와 // 결과가 같을 때 ex) 10 / 2 = 10 // 2"
   ]
  },
  {
   "cell_type": "markdown",
   "id": "1a3c689c-8fa6-486c-a63b-52f6eacfb448",
   "metadata": {},
   "source": [
    "`-` 밑의 코드 결과는 메모이제이션을 사용한 코드와 같은 것을 알 수 있다"
   ]
  },
  {
   "cell_type": "code",
   "execution_count": 40,
   "id": "610d53f6-a231-4b26-baf4-4dd46350b775",
   "metadata": {},
   "outputs": [
    {
     "name": "stdin",
     "output_type": "stream",
     "text": [
      " 1000 500\n"
     ]
    },
    {
     "name": "stdout",
     "output_type": "stream",
     "text": [
      "270288240945436569515614693625975275496152008446548287007392875106625428705522193898612483924502370165362606085021546104802209750050679917549894219699518475423665484263751733356162464079737887344364574161119497604571044985756287880514600994219426752366915856603136862602484428109296905863799821216320\n"
     ]
    }
   ],
   "source": [
    "N, K = map(int, input().split())\n",
    "if K > N - K:\n",
    "    K = N - K\n",
    "\n",
    "\n",
    "def binom(n, k):\n",
    "    frac = 1    \n",
    "    for i in range(k):\n",
    "        frac *= (n - i)\n",
    "    for i in range(k):\n",
    "        frac //= (k - i)\n",
    "    return frac\n",
    "\n",
    "\n",
    "print(binom(N, K))    \n",
    "  \n",
    "# input\n",
    "# 1000 500"
   ]
  },
  {
   "cell_type": "markdown",
   "id": "2a46c82d-6ed7-42b0-873a-38a86abba0f0",
   "metadata": {},
   "source": [
    "## 팩토리얼 0의 개수\n",
    "- 문제 출처: [백준 1676번](https://www.acmicpc.net/problem/1676)"
   ]
  },
  {
   "cell_type": "markdown",
   "id": "c1232469-8358-4f6a-af68-7927b9cf0cda",
   "metadata": {},
   "source": [
    "`-` 끝이 0인 수는 어떤 수를 곱하든지 간에 0으로 끝남\n",
    "\n",
    "`-` 2와 5가 곱해지면 10이 됨 ---> 10이 한 번 곱해질 때마다 0의 개수가 1개 증가함\n",
    "\n",
    "`-` 2의 개수가 5의 개수보다 훨씬 많으므로 사실상 5의 개수는 0의 개수와 동일함\n",
    "\n",
    "`-` 25와 같이 5가 여러번 곱해진 수를 잘 고려해야 함"
   ]
  },
  {
   "cell_type": "code",
   "execution_count": 1,
   "id": "97938b59-fd2e-46e0-9229-9d522696659a",
   "metadata": {},
   "outputs": [
    {
     "name": "stdin",
     "output_type": "stream",
     "text": [
      " 25\n"
     ]
    },
    {
     "name": "stdout",
     "output_type": "stream",
     "text": [
      "6\n"
     ]
    }
   ],
   "source": [
    "N = int(input())\n",
    "cnt = 0\n",
    "for i in range(1, N+1):\n",
    "    val = i\n",
    "    while val % 5 == 0:\n",
    "        if val % 5 == 0:\n",
    "            val //= 5\n",
    "            cnt += 1\n",
    "\n",
    "print(cnt)    \n",
    "## input ---> 25"
   ]
  },
  {
   "cell_type": "markdown",
   "id": "ab654d98-e4f5-48bc-ab5d-05ec81c7a993",
   "metadata": {},
   "source": [
    "`-` 간결한 코드 숏코딩에서 찾음\n",
    "\n",
    "`-` N의 범위는 최대 500으로 이를 넘지않는 5의 거듭제곱수는 $5^3$임\n",
    "\n",
    "`-` 즉 N을 5로 나눈 몫을 통해 5의 배수의 개수를 찾음\n",
    "\n",
    "`-` 25의 배수(<125)는 소인수 5의 개수가 2개이므로 N을 25로 나눔으로써 25의 배수를 찾고 마찬가지로 125로 나눠 125 배수의 개수를 찾음\n",
    "\n",
    "`-` 이를 모두 더하면 소인수 5의 총 개수임"
   ]
  },
  {
   "cell_type": "code",
   "execution_count": 3,
   "id": "8b24038d-6e55-41f2-adae-f23349f6aad3",
   "metadata": {},
   "outputs": [
    {
     "name": "stdin",
     "output_type": "stream",
     "text": [
      " 25\n"
     ]
    },
    {
     "name": "stdout",
     "output_type": "stream",
     "text": [
      "6\n"
     ]
    }
   ],
   "source": [
    "N = int(input())\n",
    "print(N // 5 + N // 25 + N // 125)\n",
    "## input ---> 25"
   ]
  },
  {
   "cell_type": "markdown",
   "id": "1da1b301-4fc6-4c2c-978d-826c47a24823",
   "metadata": {},
   "source": [
    "## 조합 0의 개수\n",
    "- 문제 출처: [백준 2004번](https://www.acmicpc.net/problem/2004)"
   ]
  },
  {
   "cell_type": "markdown",
   "id": "427d78bf-e013-42b6-bd6a-f1103f757588",
   "metadata": {},
   "source": [
    "`-` 팩토리얼 0의 개수를 푼 것과 같이 풀면 된다\n",
    "\n",
    "`-` 2와 5의 개수를 세서 2와 5중 더 적은 숫자만큼 끝자리에 0이 생김\n",
    "\n",
    "`-` 바로 for문 사용하면 N, M의 범위 때문에 시간초과임"
   ]
  },
  {
   "cell_type": "code",
   "execution_count": 13,
   "id": "63b92294-95bf-4afd-84bd-7fdbd3529115",
   "metadata": {},
   "outputs": [
    {
     "name": "stdin",
     "output_type": "stream",
     "text": [
      " 25 12\n"
     ]
    },
    {
     "name": "stdout",
     "output_type": "stream",
     "text": [
      "2\n"
     ]
    }
   ],
   "source": [
    "N, M = map(int, input().split())\n",
    "\n",
    "if N - M < M:\n",
    "    M = N - M\n",
    "\n",
    "k = j = i = 1\n",
    "i2 = j2 = k2 = 1\n",
    "cnt2 = cnt = 0\n",
    "\n",
    "# n C m = n! / (n-m)! / m!\n",
    "while 5**i < 2000000001:  # n!의 소인수 5의 개수를 더해줌\n",
    "    cnt += N // (5**i)\n",
    "    i += 1\n",
    "    \n",
    "while 5**j < 1000000001:  # m!의 소인수 5의 개수를 빼줌\n",
    "    cnt -= M // (5**j)\n",
    "    j += 1\n",
    "\n",
    "while 5**k < 2000000001:  # (n-m)!의 소인수 5의 개수를 빼줌\n",
    "    cnt -= (N - M) // (5**k)\n",
    "    k += 1\n",
    "\n",
    "while 2**i2 < 2000000001:  # n!의 소인수 2의 개수를 더해줌\n",
    "    cnt2 += N // (2**i2)\n",
    "    i2 += 1\n",
    "    \n",
    "while 2**j2 < 1000000001:  # m!의 소인수 2의 개수를 뺴줌\n",
    "    cnt2 -= M // (2**j2)\n",
    "    j2 += 1\n",
    "\n",
    "while 2**k2 < 2000000001:  # (n-m)!의 소인수 2의 개수를 빼줌\n",
    "    cnt2 -= (N - M) // (2**k2)\n",
    "    k2 += 1\n",
    "    \n",
    "print(min(cnt, cnt2))  # 소인수 2와 5의 개수 중 최소값이 끝자리 0의 개수 \n",
    "## input\n",
    "## 25 12"
   ]
  },
  {
   "cell_type": "markdown",
   "id": "94042b0e-bd6a-41e7-9aa4-2eca6c8f912e",
   "metadata": {},
   "source": [
    "## 카잉 달력\n",
    "\n",
    "- 문제 출처: [백준 6064번](https://www.acmicpc.net/problem/6064)"
   ]
  },
  {
   "cell_type": "markdown",
   "id": "f07ca4ef-bb1a-4587-84a1-d40c9ec8c791",
   "metadata": {},
   "source": [
    "`-` 달력에서 $x$의 값은 $q=A \\operatorname{mod} M$이고 $y$의 값은 $p=A \\operatorname{mod} N$이다 ($A$는 시작일로부터 지난 년 수)\n",
    "\n",
    "`-` $A$가 $M$의 배수인 경우 $q=M$이고 이는 $y$도 마찬가지이다\n",
    "\n",
    "`-` 즉, $x$는 시작일로부터 $A=S_1\\times M + q$만큼 지났고 $y$는 시작일로부터 $A=S_2\\times N + p$만큼 지났다 ($S=0,1,2,\\cdots$)\n",
    "\n",
    "`-` 위를 통해 $A-q$는 $M$의 배수이고 $A-p$는 $N$의 배수임을 알 수 있다\n",
    "\n",
    "`-` 문제에 $M,N,x\\,(=q),y\\,(=p)$가 주어지면 $S_1\\times M + q=S_2\\times N + p$을 통해 가능한 년도인지를 판단하자\n",
    "\n",
    "`-` $S_1,S_2$를 $0$부터 $1$씩 증가시키면서 둘이 동일한 값이 나오면 해가 존재하는 것이다\n",
    "\n",
    "`-` 그 때의 $S_1$또는 $S_2$를 위의 식에 대입해 몇번째 해인지를 구할 수 있다\n",
    "\n",
    "`-` 참고로 마지막 날은 $M$과 $N$의 최소공배수이다\n",
    "\n",
    "`-` 즉 $S_1,S_2$를 $0$부터 $1$씩 증가시키는데 둘의 값 모두 최소공배수를 넘어가면 해가 존재하지 않는 것이다"
   ]
  },
  {
   "cell_type": "code",
   "execution_count": 18,
   "id": "5bd4f20f-6f7f-4f3c-a64c-2568f61be408",
   "metadata": {},
   "outputs": [
    {
     "name": "stdin",
     "output_type": "stream",
     "text": [
      " 3\n",
      " 10 12 3 9\n"
     ]
    },
    {
     "name": "stdout",
     "output_type": "stream",
     "text": [
      "33\n"
     ]
    },
    {
     "name": "stdin",
     "output_type": "stream",
     "text": [
      " 10 12 7 2\n"
     ]
    },
    {
     "name": "stdout",
     "output_type": "stream",
     "text": [
      "-1\n"
     ]
    },
    {
     "name": "stdin",
     "output_type": "stream",
     "text": [
      " 13 11 5 6\n"
     ]
    },
    {
     "name": "stdout",
     "output_type": "stream",
     "text": [
      "83\n"
     ]
    }
   ],
   "source": [
    "# 최소공배수 구하기 O(log N)\n",
    "def get_LCM(n, m):\n",
    "    if n > m:\n",
    "        a, b = n, m\n",
    "    else:\n",
    "        a, b = m, n\n",
    "    r = a % b\n",
    "\n",
    "    while r:\n",
    "        tmp = r\n",
    "        r = b % r\n",
    "        b = tmp\n",
    "        \n",
    "    #print(b)  # 최대공약수\n",
    "    n //= b\n",
    "    m //= b\n",
    "    return n * m * b  # 최소공배수 \n",
    "\n",
    "\n",
    "# 연도 구하기\n",
    "def get_year():\n",
    "    LCM = get_LCM(M, N)\n",
    "    x_dict = {}\n",
    "    y_dict = {}\n",
    "    S = 0\n",
    "    while True: \n",
    "        xx = S * M + x \n",
    "        yy = S * N + y\n",
    "        x_dict[xx] = True\n",
    "        y_dict[yy] = True\n",
    "        \n",
    "        if xx in y_dict: ## O(1)\n",
    "            return xx\n",
    "        if yy in x_dict: ## O(1)\n",
    "            return yy\n",
    "        \n",
    "        S += 1\n",
    "        if xx > LCM and yy > LCM:\n",
    "            break\n",
    "    return -1\n",
    "\n",
    "\n",
    "# 입력\n",
    "T = int(input())\n",
    "for _ in range(T):\n",
    "    M, N, x, y = map(int, input().split())\n",
    "    print(get_year())"
   ]
  },
  {
   "cell_type": "markdown",
   "id": "482b7875-e01f-4c9f-9b26-10dfc6181d54",
   "metadata": {},
   "source": [
    "## 조합\n",
    "\n",
    "- 문제 출처: [백준 2407번](https://www.acmicpc.net/problem/2407)"
   ]
  },
  {
   "cell_type": "markdown",
   "id": "154feb8e-46ba-46c7-aaca-ab0a1070a506",
   "metadata": {},
   "source": [
    "`-` $\\binom{n}{m}$을 계산하면 된다"
   ]
  },
  {
   "cell_type": "code",
   "execution_count": 8,
   "id": "9ac036be-630c-4370-b54a-97c33d06f9a0",
   "metadata": {},
   "outputs": [
    {
     "name": "stdin",
     "output_type": "stream",
     "text": [
      " 100 6\n"
     ]
    },
    {
     "name": "stdout",
     "output_type": "stream",
     "text": [
      "1192052400\n"
     ]
    }
   ],
   "source": [
    "n, m = map(int, input().split())\n",
    "if m > n - m:\n",
    "    m = n - m\n",
    "\n",
    "# n_C_m = {n*(n-1)*...*(n-m+1)} / {m*(m-1)*...*1}\n",
    "# 분자는 큰 수부터 곱하고 나누는 것은 몫 연산자를 사용해 작은 수부터 나눴다\n",
    "def binom(n, m):\n",
    "    frac = 1    \n",
    "    if m == 0:\n",
    "        return frac\n",
    "    for i in range(m):\n",
    "        frac *= (n - i)\n",
    "        frac //= (i + 1)\n",
    "    return frac\n",
    "\n",
    "\n",
    "print(binom(n, m))    \n",
    "\n",
    "# input\n",
    "# 100\n",
    "# 6"
   ]
  },
  {
   "cell_type": "markdown",
   "id": "e9daf8f0-a67b-453f-b51b-6dad6d1cbe44",
   "metadata": {},
   "source": [
    "## 다리 놓기\n",
    "\n",
    "- 문제 출처: [백준 1010번](https://www.acmicpc.net/problem/1010)"
   ]
  },
  {
   "cell_type": "markdown",
   "id": "d312398a-f5cc-4a9b-b9ff-20996057d744",
   "metadata": {},
   "source": [
    "`-` $N, M$이 입력으로 주어질 때 다리를 지을 수 있는 경우의 수는 $_{M}\\rm C_{N}$이다"
   ]
  },
  {
   "cell_type": "code",
   "execution_count": 10,
   "id": "64121802-5e1f-4edf-80bc-ea8ebdb1e685",
   "metadata": {},
   "outputs": [
    {
     "name": "stdin",
     "output_type": "stream",
     "text": [
      " 1\n",
      " 13 29\n"
     ]
    },
    {
     "name": "stdout",
     "output_type": "stream",
     "text": [
      "67863915\n"
     ]
    }
   ],
   "source": [
    "def combination(n, m):\n",
    "    if m > n // 2:  # n_C_m = n_C_{n-m}\n",
    "        m = n - m\n",
    "    # n_C_m = n * (n-1) * ... * (n-m+1) / m * (m-1) * ... * 1\n",
    "    result = 1\n",
    "    for i in range(m):\n",
    "        result *= (n - i)\n",
    "        result //= (i + 1)  # 몫 연사자를 사용하기 위해 분모는 작은 수부터 나눈다\n",
    "    return result\n",
    "\n",
    "\n",
    "def solution():\n",
    "    T = int(input())\n",
    "    for _ in range(T):\n",
    "        N, M = map(int, input().split())\n",
    "        answer = combination(M, N)\n",
    "        print(answer)\n",
    "\n",
    "\n",
    "solution()\n",
    "\n",
    "# input\n",
    "# 1\n",
    "# 13 29"
   ]
  },
  {
   "cell_type": "markdown",
   "id": "0d17447b-a12f-4e36-a0e7-5ab45fb43c9c",
   "metadata": {},
   "source": [
    "## 숫자 연결하기\n",
    "\n",
    "- 문제 출처: [백준 1323번](https://www.acmicpc.net/problem/1323)"
   ]
  },
  {
   "cell_type": "markdown",
   "id": "ff123320-b237-4210-9836-cc20ba520c80",
   "metadata": {},
   "source": [
    "`-` 계속해서 $N$을 이어 붙이고 $K$로 나누어 떨어지는지 확인하는 방법은 수도 굉장히 커질뿐더러 불가능한 경우를 색출하지 못한다\n",
    "\n",
    "`-` 숫자를 이어 붙이는 것은 다음과 같이 덧셈으로 나타낼 수 있다\n",
    "\n",
    "`-` $\\overbrace{xx\\cdots x}^{\\text{$n$ times}} = x + 10^m x + 10^{2m} x + 10^{nm} x$, $x$는 $m$ 자릿수\n",
    "\n",
    "`-` $\\overbrace{xx\\cdots x}^{\\text{$n$ times}}$가 $K$로 나누어 떨어진다는 것은 $x + 10^m x + 10^{2m} x + 10^{nm} x$가 $K$로 나누어 떨어진다는 것과 동치이다\n",
    "\n",
    "`-` 이는 덧셈항 각각을 $K$로 나눈 나머지의 합이 $K$의 배수가 되면 $\\overbrace{xx\\cdots x}^{\\text{$n$ times}}$가 $K$로 나누어 떨어진다는 것을 뜻한다\n",
    "\n",
    "`-` 그리고 $x, xx, \\cdots, \\overbrace{xx\\cdots x}^{\\text{$n$ times}}$를 $K$로 나눈 나머지 순열은 규칙을 이루고 최대 길이는 $K$를 넘지 않는다 (이는 경험적으로 찾아냄) "
   ]
  },
  {
   "cell_type": "code",
   "execution_count": null,
   "id": "71760116-9431-42a1-9f4c-c03610b0239b",
   "metadata": {},
   "outputs": [],
   "source": [
    "import math\n",
    "\n",
    "N, K = map(int, input())\n",
    "exp = int(math.log10(N)) + 1"
   ]
  },
  {
   "cell_type": "markdown",
   "id": "46a9d829-550f-43ff-b622-42815c2045ad",
   "metadata": {},
   "source": [
    "`-` 나중에 풀으세요"
   ]
  },
  {
   "cell_type": "markdown",
   "id": "7bcc39d5-4a9a-44c5-a4e9-f240c33f74f9",
   "metadata": {},
   "source": [
    "## 약수\n",
    "\n",
    "- 문제 출처: [백준 1037번](https://www.acmicpc.net/problem/1037)"
   ]
  },
  {
   "cell_type": "markdown",
   "id": "4c90333b-4e7c-46f5-b443-a612cbb1b59c",
   "metadata": {},
   "source": [
    "`-` 진짜 약수의 개수가 2개 이상이면 가장 작은 수와 가장 큰 수의 곱이 $N$이 된다\n",
    "\n",
    "`-` 만약 진짜 약수의 개수가 1개라면 이는 제곱수의 약수이므로 해당 약수를 제곱한 것이 $N$이 된다"
   ]
  },
  {
   "cell_type": "code",
   "execution_count": 11,
   "id": "b03d9324-3597-46d4-8c62-a3e73ce95b27",
   "metadata": {},
   "outputs": [
    {
     "name": "stdin",
     "output_type": "stream",
     "text": [
      " 1\n",
      " 2\n"
     ]
    },
    {
     "name": "stdout",
     "output_type": "stream",
     "text": [
      "4\n"
     ]
    }
   ],
   "source": [
    "def solution():\n",
    "    count = int(input())\n",
    "    nums = list(map(int, input().split()))\n",
    "    nums.sort()\n",
    "    if count == 1:\n",
    "        return nums[0]**2\n",
    "    return nums[0] * nums[-1]\n",
    "\n",
    "\n",
    "N = solution()\n",
    "print(N)\n",
    "\n",
    "# input\n",
    "# 1\n",
    "# 2"
   ]
  },
  {
   "cell_type": "markdown",
   "id": "8d39fb15-83fb-4576-9dbc-2762921e3560",
   "metadata": {},
   "source": [
    "## 창문 닫기\n",
    "\n",
    "- 문제 출처: [백준 13909번](https://www.acmicpc.net/problem/13909)"
   ]
  },
  {
   "cell_type": "markdown",
   "id": "e3bc4ce0-fdcb-4913-825b-2f3b29070a8d",
   "metadata": {},
   "source": [
    "`-` 마지막에 창문이 열려있기 위해선 약수의 개수가 홀수여야 한다\n",
    "\n",
    "`-` 그리고 약수의 개수가 홀수인 경우는 제곱수인 경우이므로 $N$보다 작은 제곱수의 개수가 마지막에 열려있는 창문의 개수가 된다\n",
    "\n",
    "`-` $N$보다 작은 제곱수의 개수는 $N$의 제곱근을 씌운 결과에서 소수점을 제거한 것과 같다"
   ]
  },
  {
   "cell_type": "code",
   "execution_count": 11,
   "id": "07484d31-be82-44ae-bae4-c911b5ae87fc",
   "metadata": {},
   "outputs": [
    {
     "name": "stdin",
     "output_type": "stream",
     "text": [
      " 24\n"
     ]
    },
    {
     "name": "stdout",
     "output_type": "stream",
     "text": [
      "4\n"
     ]
    }
   ],
   "source": [
    "def solution():\n",
    "    N = int(input())\n",
    "    answer = int(N**0.5)\n",
    "    return answer\n",
    "\n",
    "\n",
    "answer = solution()\n",
    "print(answer)\n",
    "\n",
    "# input\n",
    "# 24"
   ]
  },
  {
   "cell_type": "markdown",
   "id": "95bfe567-cb15-461e-b218-f04638e3598a",
   "metadata": {},
   "source": [
    "## 다음 소수\n",
    "\n",
    "- 문제 출처: [백준 4134번](https://www.acmicpc.net/problem/4134)"
   ]
  },
  {
   "cell_type": "markdown",
   "id": "443459eb-8f2f-4bfd-adc2-aab5c365b01c",
   "metadata": {},
   "source": [
    "`-` $n$이 소수인지 판별하기 위해 $1$부터 $n - 1$까지의 수로 $n$을 나눌 필요 없이 $1$부터 $\\left \\lfloor{\\sqrt{n}}\\right \\rfloor$까지의 수로 $n$을 나누면 된다\n",
    "\n",
    "`-` 왜냐하면 $n = \\sqrt{n}\\times \\sqrt{n}$이므로 하나의 인수가 $\\left \\lfloor{\\sqrt{n}}\\right \\rfloor$보다 크다면 다른 하나는 $\\left \\lfloor{\\sqrt{n}}\\right \\rfloor$보다 작기 때문에 $\\left \\lfloor{\\sqrt{n}}\\right \\rfloor$보다 큰 수로 $n$을 나눌 필요가 없다\n",
    "\n",
    "`-` $\\left \\lfloor{\\sqrt{n}}\\right \\rfloor$까지만 연산을 수행하므로 시간복잡도는 $O\\left(\\sqrt{n}\\right)$이다\n",
    "\n",
    "`-` $n$부터 $1$씩 증가시키면서 가장 먼저 소수인 수를 출력하면 된다"
   ]
  },
  {
   "cell_type": "code",
   "execution_count": 21,
   "id": "2721bc54-7725-4dfc-8898-65f7617a93b2",
   "metadata": {},
   "outputs": [
    {
     "name": "stdin",
     "output_type": "stream",
     "text": [
      " 3\n",
      " 6\n"
     ]
    },
    {
     "name": "stdout",
     "output_type": "stream",
     "text": [
      "7\n"
     ]
    },
    {
     "name": "stdin",
     "output_type": "stream",
     "text": [
      " 20\n"
     ]
    },
    {
     "name": "stdout",
     "output_type": "stream",
     "text": [
      "23\n"
     ]
    },
    {
     "name": "stdin",
     "output_type": "stream",
     "text": [
      " 100\n"
     ]
    },
    {
     "name": "stdout",
     "output_type": "stream",
     "text": [
      "101\n"
     ]
    }
   ],
   "source": [
    "def is_prime_num(n):\n",
    "    if n <= 1:\n",
    "        return False\n",
    "    m = int(n**0.5)\n",
    "    for i in range(2, m + 1):\n",
    "        if n % i == 0:\n",
    "            return False\n",
    "    return True\n",
    "\n",
    "\n",
    "def solution():\n",
    "    T = int(input())\n",
    "    for _ in range(T):\n",
    "        n = int(input())\n",
    "        next_prime_num = n\n",
    "        while True:\n",
    "            if is_prime_num(next_prime_num):\n",
    "                print(next_prime_num)\n",
    "                break\n",
    "            next_prime_num += 1\n",
    "\n",
    "\n",
    "solution()\n",
    "\n",
    "# input\n",
    "# 3\n",
    "# 6\n",
    "# 20\n",
    "# 100"
   ]
  },
  {
   "cell_type": "markdown",
   "id": "4c9947cf-22e6-4f75-8d1b-67c00eb1f3c1",
   "metadata": {},
   "source": [
    "## 가로수\n",
    "\n",
    "- 문제 출처: [백준 2485번](https://www.acmicpc.net/problem/2485)"
   ]
  },
  {
   "cell_type": "markdown",
   "id": "89134127-f7e5-406d-9e72-015dee1ba8cd",
   "metadata": {},
   "source": [
    "`-` 모든 가로수들의 간격이 같게 만들기 위해서 가로수를 추가로 심어야 한다\n",
    "\n",
    "`-` 이때 추가로 심는 가로수의 위치는 모든 가로수들의 간격의 약수에 따라 결정된다\n",
    "\n",
    "`-` 예컨대 가로수가 $(1, 7, 17)$의 위치에 있다면 간격은 $6, 10$이고 $6$과 $10$의 약수는 $1, 2$이다\n",
    "\n",
    "`-` 즉 모든 가로수들의 간격에 $1$또는 $2$ 간격으로 가로수를 심으면 모든 가로수들의 간격이 같아진다\n",
    "\n",
    "`-` 이때 추가되는 가로수를 최대한 적게 심고 싶으므로 추가되는 가로수끼리의 간격을 넓게 하기위해 최대공약수를 선택하면 된다\n",
    "\n",
    "`-` 최종적으로 심어야 하는 가로수의 개수는 모든 가로수들의 간격을 최대공약수로 나눈 몫들의 합이다\n",
    "\n",
    "`-` 최대공약수는 가장 작은 수를 소인수분해한 후 소인수를 기준으로 최대공약수를 찾으면 된다\n",
    "\n",
    "`-` 어떤 수 $x$에 대하여 $x$를 소인수분해했을 때 $\\sqrt{x}$보다 `큰` 소인수는 $2$개 이상일 수 없다\n",
    "\n",
    "`-` 만약 참이라면 소인수끼리의 곱이 $x$보다 커지게 된다\n",
    "\n",
    "`-` 하지만 $\\sqrt{x}$와 `같은` 소인수는 $2$개일 수 있다 (ex: 제곱수)\n",
    "\n",
    "`-` 소인수분해를 위해 $\\left \\lfloor{\\sqrt{n}}\\right \\rfloor$보다 작은 소수를 모두 계산한다\n",
    "\n",
    "`-` 그리고 $x$를 가장 작은 소수부터 계속해서 나누면서 배열에 기록하고 마지막으로 남은 값을 배열에 추가하면 된다\n",
    "\n",
    "`-` 마지막으로 남은 값을 고려하는 이유는  $\\sqrt{x}$보다 `큰` 소인수가 존재할 수 있기 때문이다\n",
    "\n",
    "`-` 만약 그렇지 않다면 남은 값은 $1$일 것이다"
   ]
  },
  {
   "cell_type": "code",
   "execution_count": 30,
   "id": "68df699c-3b18-47f9-9476-f62a250c2eb1",
   "metadata": {},
   "outputs": [
    {
     "name": "stdin",
     "output_type": "stream",
     "text": [
      " 4\n",
      " 2\n",
      " 6\n",
      " 12\n",
      " 18\n"
     ]
    },
    {
     "name": "stdout",
     "output_type": "stream",
     "text": [
      "5\n"
     ]
    }
   ],
   "source": [
    "def get_num2is_prime():\n",
    "    n = int(1e9**0.5)\n",
    "    m = int(n**0.5)\n",
    "    num2is_prime = [False] * 2 + [True] * (n - 1)\n",
    "    for i in range(2, m + 1):\n",
    "        if num2is_prime[i]:\n",
    "            for j in range(2 * i, n + 1, i):\n",
    "                num2is_prime[j] = False\n",
    "    return num2is_prime\n",
    "\n",
    "\n",
    "def factorization_into_primes(x): \n",
    "    prime_factors = []\n",
    "    num2is_prime = get_num2is_prime()\n",
    "    count = 0\n",
    "    for k in range(2, int(x**0.5) + 1):\n",
    "        if not num2is_prime[k]:\n",
    "            continue\n",
    "        while x % k == 0:\n",
    "            prime_factors.append(k)\n",
    "            count += 1\n",
    "            x = x // k\n",
    "    prime_factors.append(x)\n",
    "    return prime_factors\n",
    "\n",
    "\n",
    "def solution():\n",
    "    N = int(input())\n",
    "    positions = [int(input()) for _ in range(N)]\n",
    "    gaps_original = sorted([positions[i] - positions[i - 1] for i in range(1, N)])\n",
    "    gaps = gaps_original\n",
    "    x = gaps[0]\n",
    "    prime_factors = factorization_into_primes(x)\n",
    "    max_divisor = 1\n",
    "    for f in prime_factors:\n",
    "        is_divisor = True\n",
    "        for g in gaps:\n",
    "            if g % f == 0:\n",
    "                continue\n",
    "            is_divisor = False\n",
    "        if not is_divisor:\n",
    "            continue\n",
    "        max_divisor *= f\n",
    "        gaps = [g // f for g in gaps]\n",
    "    count = sum([g // max_divisor for g in gaps_original]) - len(gaps_original)\n",
    "    print(count)\n",
    "\n",
    "\n",
    "solution()\n",
    "\n",
    "# input\n",
    "# 4\n",
    "# 2\n",
    "# 6\n",
    "# 12\n",
    "# 18"
   ]
  },
  {
   "cell_type": "markdown",
   "id": "fe620bd1-48c6-42cc-a9df-0ff2bdf87a94",
   "metadata": {},
   "source": [
    "## 골드바흐 파티션\n",
    "\n",
    "- 문제 출처: [백준 17103번](https://www.acmicpc.net/problem/17103)"
   ]
  },
  {
   "cell_type": "markdown",
   "id": "587cb8ed-078f-4941-bbff-81432fa69e77",
   "metadata": {},
   "source": [
    "`-` $2$보다 큰 짝수 $N$이 주어지므로 $N$ 미만의 소수를 미리 계산해놨다\n",
    "\n",
    "`-` 그리고 순열이 아니라 조합이라 숫자의 순서는 상관이 없으므로 가장 작은 소수 $2$부터 출발하여 $\\frac{N}{2}$을 넘지않는 소수까지만 검사한다 \n",
    "\n",
    "`-` 즉, 미리 $N$미만의 소수를 계산해두고 소수 배열을 순회하면서 현재 소수 $p$에서 $N-p$가 소수일 경우 카운팅을 한다\n",
    "\n",
    "`-` 여기서 $N-p$가 소수에 포함되는지 검사하는데 $O(1)$의 시간이 소요되도록 하기 위해 리스트의 인덱싱 연산을 사용했다"
   ]
  },
  {
   "cell_type": "code",
   "execution_count": 27,
   "id": "6d8b6dc4-7d95-434a-a104-71d2d7572ab4",
   "metadata": {},
   "outputs": [
    {
     "name": "stdin",
     "output_type": "stream",
     "text": [
      " 5\n",
      " 6\n"
     ]
    },
    {
     "name": "stdout",
     "output_type": "stream",
     "text": [
      "1\n"
     ]
    },
    {
     "name": "stdin",
     "output_type": "stream",
     "text": [
      " 8\n"
     ]
    },
    {
     "name": "stdout",
     "output_type": "stream",
     "text": [
      "1\n"
     ]
    },
    {
     "name": "stdin",
     "output_type": "stream",
     "text": [
      " 10\n"
     ]
    },
    {
     "name": "stdout",
     "output_type": "stream",
     "text": [
      "2\n"
     ]
    },
    {
     "name": "stdin",
     "output_type": "stream",
     "text": [
      " 12\n"
     ]
    },
    {
     "name": "stdout",
     "output_type": "stream",
     "text": [
      "1\n"
     ]
    },
    {
     "name": "stdin",
     "output_type": "stream",
     "text": [
      " 100\n"
     ]
    },
    {
     "name": "stdout",
     "output_type": "stream",
     "text": [
      "6\n"
     ]
    }
   ],
   "source": [
    "def get_num2is_prime():\n",
    "    N_max = 1000000\n",
    "    m = int(N_max**0.5)\n",
    "    num2is_prime = [False] * 2 + [True] * (N_max - 1)\n",
    "    for i in range(2, m):\n",
    "        if not num2is_prime[i]:\n",
    "            continue\n",
    "        for j in range(2 * i, N_max, i):\n",
    "            num2is_prime[j] = False\n",
    "    return num2is_prime\n",
    "\n",
    "\n",
    "def solve_testcase(prime_nums, num2is_prime):\n",
    "    N = int(input())\n",
    "    count = 0\n",
    "    for p in prime_nums:\n",
    "        if p > N // 2:\n",
    "            break\n",
    "        if not num2is_prime[N - p]:  # 시간복잡도: O(1)\n",
    "            continue\n",
    "        count += 1\n",
    "    return count\n",
    "\n",
    "\n",
    "def solution():\n",
    "    T = int(input())\n",
    "    num2is_prime = get_num2is_prime()\n",
    "    prime_nums = [num for num, is_prime in enumerate(num2is_prime) if is_prime]\n",
    "    for _ in range(T):\n",
    "        answer = solve_testcase(prime_nums, num2is_prime)\n",
    "        print(answer)\n",
    "\n",
    "\n",
    "solution()"
   ]
  },
  {
   "cell_type": "markdown",
   "id": "09da9de4-9f51-4128-bd09-f9c934d3f59a",
   "metadata": {},
   "source": [
    "## 베라의 패션\n",
    "\n",
    "- 문제 출처: [백준 15439번](https://www.acmicpc.net/problem/15439)"
   ]
  },
  {
   "cell_type": "code",
   "execution_count": 2,
   "id": "1ddf2622-ed0d-4af3-b163-0aa64bc6bd4f",
   "metadata": {},
   "outputs": [
    {
     "name": "stdin",
     "output_type": "stream",
     "text": [
      " 5\n"
     ]
    },
    {
     "name": "stdout",
     "output_type": "stream",
     "text": [
      "20\n"
     ]
    }
   ],
   "source": [
    "def solution():\n",
    "    x = int(input())\n",
    "    print(x**2 - x)\n",
    "\n",
    "\n",
    "solution()\n",
    "\n",
    "# input\n",
    "# 5"
   ]
  },
  {
   "cell_type": "markdown",
   "id": "3fb9d3b7-c2b6-4277-9fd3-4e87b457322b",
   "metadata": {},
   "source": [
    "## $\\sum$\n",
    "\n",
    "- 문제 출처: [백준 13172번](https://www.acmicpc.net/problem/13172)"
   ]
  },
  {
   "cell_type": "markdown",
   "id": "ca37b2ed-0903-4243-8d63-5fd85d88406c",
   "metadata": {},
   "source": [
    "`-` 이 문제를 해결하려면 페르마의 소정리에 대한 이해가 필요하다\n",
    "\n",
    "`-` $p$가 소수이고 양의 정수 $a$가 있을 때 페르마의 소정리는 다음과 같다\n",
    "\n",
    "$$a^{p} \\equiv a \\pmod{p}$$\n",
    "\n",
    "`-` 만약 $a$가 $p$와 서로소라면, $a^{p-1} \\equiv 1 \\pmod{p}$\n",
    "\n",
    "`-` 이를 증명해보자 (수식으로 통해 증명하진 않을 것임)\n",
    "\n",
    "`-` 가능한 색상이 $a$개인 구슬 $p$개를 꿰어 팔찌를 만든다고 해보자 (단, $p$는 소수)\n",
    "\n",
    "`-` 구슬이 $p$개이고 색상이 $a$개이므로 총 경우의 수는 $a^p$가 된다\n",
    "\n",
    "`-` 팔찌를 회전시키는 것을 고려하면 경우의 수가 줄지만 회전을 고려하지 않는다고 해보자\n",
    "\n",
    "`-` 즉, 빨파초 팔찌와 파초빨 팔찌를 구분하여 도출한 경우의 수이다\n",
    "\n",
    "`-` 이제 $a^p$개의 팔찌를 회전시켰을 때 동일한 것끼리 그룹지어보자\n",
    "\n",
    "`-` 위의 예시를 다시 사용하면 빨파초, 파초빨, 초빨파 팔찌가 그룹지어지고 이들은 $p$개이다\n",
    "\n",
    "`-` 그런데 모든 그룹의 원소가 $p$개인 것은 아니다\n",
    "\n",
    "`-` 모든 구슬이 같은 색이라면 홀로 그룹지어지며 이런 경우는 총 $a$개이다\n",
    "\n",
    "`-` 모든 구슬이 같은 색은 아닌데 그룹의 원소가 $1$과 $p$ 사이인 경우도 생각해볼 수 있다\n",
    "\n",
    "`-` 예를 들어 $a=5, p=4$라면 빨초빨초, 초빨초빨 팔찌처럼 그룹의 원소가 $2$개일 수 있다\n",
    "\n",
    "`-` 위 팔찌의 주기가 $2$이기 때문에 그룹의 원소가 $\\frac{p}{2}=2$개인 것이다\n",
    "\n",
    "`-` 하지만 $p$를 소수로 가정하면 주기는 소수의 특성상 $1$과 자기 자신인 $p$뿐이다\n",
    "\n",
    "`-` 즉, 모든 구슬이 같은 경우를 제외하면 그룹의 원소는 $p$개이다\n",
    "\n",
    "`-` $a^p-a$는 $n$개의 그룹으로 나누어지며 각 그룹의 원소는 $p$개이므로 $p$의 배수이다\n",
    "\n",
    "`-` 따라서, $a^{p} \\equiv a \\pmod{p}$가 성립한다\n",
    "\n",
    "`-` 만약 $a$와 $p$가 서로소라면 $a^{p-1} \\equiv 1 \\pmod{p}$가 성립한다\n",
    "\n",
    "`-` 이제 페르마의 소정리에 대한 이해는 끝났고 본 문제로 돌아가자\n",
    "\n",
    "`-` $\\frac{a}{b}$인 기약분수에서 모듈러 곱셈 역원인 $b^{-1}$를 구해야 한다\n",
    "\n",
    "`-` 페르마의 소정리에 따라 $b\\cdot b^{p-2} \\equiv 1 \\pmod{p}$이므로 역원의 정의에 따라 $b^{-1} = b^{p-2}$이다\n",
    "\n",
    "`-` $ab^{-1}$을 $1000000007$로 나눈 나머지를 출력하면 정답이고 이는 $ab^{p-2}$를 $1000000007$로 나눈 나머지를 출력하는 것과 동일하다"
   ]
  },
  {
   "cell_type": "code",
   "execution_count": 27,
   "id": "2c5fb59a-6f1b-4d9d-a8df-42689886eb36",
   "metadata": {},
   "outputs": [
    {
     "name": "stdin",
     "output_type": "stream",
     "text": [
      " 1\n",
      " 3 7\n"
     ]
    },
    {
     "name": "stdout",
     "output_type": "stream",
     "text": [
      "333333338\n"
     ]
    }
   ],
   "source": [
    "def solution():\n",
    "    M = int(input())\n",
    "    X = 1000000007\n",
    "    answer = 0\n",
    "    for _ in range(M):\n",
    "        N, S = map(int, input().split())\n",
    "        result = S * pow(N, X - 2, X)\n",
    "        answer += result\n",
    "        answer %= X\n",
    "    print(answer)\n",
    "\n",
    "\n",
    "solution()\n",
    "\n",
    "# input\n",
    "# 1\n",
    "# 3 7"
   ]
  },
  {
   "cell_type": "markdown",
   "id": "de0d9a1c-b14f-49e8-a503-1cf5d72173f0",
   "metadata": {},
   "source": [
    "## 이항 계수 3\n",
    "\n",
    "- 문제 출처: [백준 11401번](https://www.acmicpc.net/problem/11401)"
   ]
  },
  {
   "cell_type": "code",
   "execution_count": 42,
   "id": "28bb5e35-2a2a-49b5-a24f-c71efe9ce7e7",
   "metadata": {},
   "outputs": [
    {
     "name": "stdin",
     "output_type": "stream",
     "text": [
      " 5 2\n"
     ]
    },
    {
     "name": "stdout",
     "output_type": "stream",
     "text": [
      "10\n"
     ]
    }
   ],
   "source": [
    "def power(a, b, c):\n",
    "    a = a % c\n",
    "    if b <= 2:\n",
    "        return a**b % c\n",
    "    result = (power(a, b // 2, c) ** 2) % c\n",
    "    if b % 2 == 0:\n",
    "        return result\n",
    "    return (a * result) % c\n",
    "\n",
    "\n",
    "def solution():\n",
    "    N, K = map(int, input().split())\n",
    "    if K > N - K:\n",
    "        K = N - K\n",
    "    P = 1000000007\n",
    "    result = 1\n",
    "    for i in range(1, K + 1):\n",
    "        result *= N - i + 1\n",
    "        result %= P\n",
    "        result *= power(i, P - 2, P)\n",
    "        result %= P\n",
    "    print(result % P)\n",
    "\n",
    "\n",
    "solution()"
   ]
  },
  {
   "cell_type": "code",
   "execution_count": null,
   "id": "fef0c2ae-8a07-4f2b-8e52-6b16ae153fd0",
   "metadata": {},
   "outputs": [],
   "source": []
  }
 ],
 "metadata": {
  "kernelspec": {
   "display_name": "Python 3 (ipykernel)",
   "language": "python",
   "name": "python3"
  },
  "language_info": {
   "codemirror_mode": {
    "name": "ipython",
    "version": 3
   },
   "file_extension": ".py",
   "mimetype": "text/x-python",
   "name": "python",
   "nbconvert_exporter": "python",
   "pygments_lexer": "ipython3",
   "version": "3.8.11"
  }
 },
 "nbformat": 4,
 "nbformat_minor": 5
}
