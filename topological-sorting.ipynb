{
 "cells": [
  {
   "cell_type": "markdown",
   "id": "40552d94-e53c-4204-af12-3c8bc10bb5af",
   "metadata": {},
   "source": [
    "# 위상 정렬 (Topological Sorting)"
   ]
  },
  {
   "cell_type": "markdown",
   "id": "69f1b286-b9ca-4e96-8aec-f88e1a038ad9",
   "metadata": {},
   "source": [
    "## 줄 세우기\n",
    "\n",
    "- 문제 출처: [백준 2252번](https://www.acmicpc.net/problem/2252)"
   ]
  },
  {
   "cell_type": "markdown",
   "id": "2f527b55-ffd3-401f-81d7-04f846615a2a",
   "metadata": {},
   "source": [
    "`-` 위상 정렬 문제이다\n",
    "\n",
    "`-` khan의 알고리즘 또는 DFS로 해결할 수 있다\n",
    "\n",
    "`-` 여기서는 DFS로 해결하기로 함\n",
    "\n",
    "`-` 나중에 봤을 때 이해가 안되면 알고리즘 수업 정리한거 찾아보자\n",
    "\n",
    "`-` 참고로 모든 원소에 대해 비교한건 아니므로 한 번도 등장하지 않은 원소도 잊지말고 추가해야 한다 (어디든 상관없어서 마지막에 추가하면 된다)"
   ]
  },
  {
   "cell_type": "code",
   "execution_count": 139,
   "id": "a484b183-90d2-4bdb-a8f0-a6d805227ff8",
   "metadata": {},
   "outputs": [
    {
     "name": "stdin",
     "output_type": "stream",
     "text": [
      " 4 2\n",
      " 4 2\n",
      " 2 4\n"
     ]
    },
    {
     "name": "stdout",
     "output_type": "stream",
     "text": [
      "4 2 1 3\n"
     ]
    }
   ],
   "source": [
    "import sys\n",
    "from collections import defaultdict, deque\n",
    "\n",
    "sys.setrecursionlimit(10**6)\n",
    "\n",
    "\n",
    "def dfs(graph, node, stack):\n",
    "    if node in visited:\n",
    "        return\n",
    "    visited[node] = True\n",
    "    for next_ in graph[node]:\n",
    "        if next_ not in visited:\n",
    "            dfs(graph, next_, stack)\n",
    "    stack.append(node)\n",
    "\n",
    "\n",
    "def solution():\n",
    "    global visited\n",
    "    graph = defaultdict(list)\n",
    "    visited = {}\n",
    "    N, M = map(int, input().split())\n",
    "    S = deque([])\n",
    "    for _ in range(M):\n",
    "        a, b = map(int, input().split())\n",
    "        graph[a].append(b)\n",
    "    for node in list(graph.keys()):\n",
    "        stack = []\n",
    "        dfs(graph, node, stack)\n",
    "        S.extendleft(stack)\n",
    "    for i in range(1, N + 1):\n",
    "        if i not in visited:\n",
    "            S.append(i)\n",
    "    print(*S)\n",
    "\n",
    "\n",
    "solution()\n",
    "\n",
    "# input\n",
    "# 4 2\n",
    "# 4 2\n",
    "# 3 1"
   ]
  },
  {
   "cell_type": "markdown",
   "id": "ea5dcda0-4f6a-4225-ad72-8b81079eabee",
   "metadata": {},
   "source": [
    "- 스택만 사용하여 제대로 구현한 버전"
   ]
  },
  {
   "cell_type": "markdown",
   "id": "ae2dfaf0-f504-4737-bc00-04dd4dfb732f",
   "metadata": {},
   "source": [
    "```python\n",
    "def dfs(node, graph, stack, visited):\n",
    "    if node in visited:\n",
    "        return\n",
    "    visited[node] = True\n",
    "    for next_ in graph[node]:\n",
    "        if next_ not in visited:\n",
    "            dfs(next_, graph, stack, visited)\n",
    "    stack.append(node)\n",
    "\n",
    "\n",
    "def solution():\n",
    "    global visited\n",
    "    graph = defaultdict(list)\n",
    "    N, M = map(int, input().split())\n",
    "    stack = []\n",
    "    visited = {}\n",
    "    for _ in range(M):\n",
    "        a, b = map(int, input().split())\n",
    "        graph[a].append(b)\n",
    "    for node in range(1, N + 1):\n",
    "        if node in visited:\n",
    "            continue\n",
    "        dfs(node, graph, stack, visited)\n",
    "    stack.reverse()\n",
    "    print(*stack)\n",
    "```"
   ]
  },
  {
   "cell_type": "markdown",
   "id": "0403b86b-d0b7-4feb-af04-943fe7646a44",
   "metadata": {},
   "source": [
    "## 음악프로그램\n",
    "\n",
    "- 문제 출처: [백준 2623번](https://www.acmicpc.net/problem/2623)"
   ]
  },
  {
   "cell_type": "markdown",
   "id": "67757512-c96c-48d6-b866-1318a504ac78",
   "metadata": {},
   "source": [
    "`-` 위상 정렬을 사용해 문제를 해결할 수 있다 (DFS로 구현하자)\n",
    "\n",
    "`-` 금방 끝날줄 알았는데 생각보다 오래 걸렸다 (너무 힘들었다)\n",
    "\n",
    "`-` 질문검색과 챗 지피티를 통해 반례를 얻었다 (루트 노드가 없는 경우, 다른 피디 같은 입력, 사이클과 정보 없는 가수가 같이 등장 등)\n",
    "\n",
    "`-` 보조 PD가 정한 가수 순서를 그래프에 입력한 후 이를 위상 정렬하면 된다\n",
    "\n",
    "`-` 예를 들어 담당 가수 수가 $4$이고 순서가 $6, 2, 5, 4 $라면 $6$번 노드에 $2$를 추가하고, $2$번 노드에 $5$를 추가하고, $5$번 노드에 $4$를 추가한다\n",
    "\n",
    "`-` 사이클이 없다면 그냥 위상 정렬을 수행하면 된다 (모든 방문하지 않은 노드에 대해 DFS를 수행하여 정렬)\n",
    "\n",
    "`-` 그런데 사이클이 있을 수 있으므로 이를 처리하기 위해 지나온 경로를 고려하기로 했다\n",
    "\n",
    "`-` 만약 이미 지나온 경로에 해당하는 노드를 또 방문한다면 사이클이 있는 것이다\n",
    "\n",
    "`-` 하나의 `route` 변수를 만들고 함수 시작 부분에 입력된 노드를 `route`에 추가하고 탐색 종료 부분에 입력한 노드를 다시 제거하도록 했다 (백트래킹)\n",
    "\n",
    "`-` `visited` 변수는 방문하지 않은 변수에 DFS를 수행하기 위해 전역으로 사용한다\n",
    "\n",
    "`-` 따라서 이전 DFS 함수 실행에서 갱신된 것이 그대로 남아있다 (재귀적으로 실행하는 것 말고 for문에서 명시적으로 실행시킨 것)\n",
    "\n",
    "`-` 반면 `route` 변수는 임의의 노드에서 수행한 한 번의 DFS 함수 실행에서 이미 지나온 곳을 또 지나가는지 확인하기 위해 만들었다\n",
    "\n",
    "`-` 그래서 `visited` 변수와 달리 `route` 변수는 DFS 함수가 끝나면 빈 집합이 된다 \n",
    "\n",
    "`-` 한편, 지나온 경로를 고려하기 위해 `route` 하나의 변수만 사용하고 가수의 수가 최대 $1000$명이므로 메모리를 많이 차지하지 않는다\n",
    "\n",
    "`-` 위와 같이 하면 사이클이 있는지 판단하면서도 위상 정렬을 제대로 수행할 수 있다"
   ]
  },
  {
   "cell_type": "code",
   "execution_count": 166,
   "id": "0cd247e6-12f2-4f5d-85b6-17b190d64d71",
   "metadata": {
    "tags": []
   },
   "outputs": [
    {
     "name": "stdin",
     "output_type": "stream",
     "text": [
      " 6 3\n",
      " 3 1 4 3\n",
      " 4 6 2 5 4\n",
      " 2 2 3\n"
     ]
    },
    {
     "name": "stdout",
     "output_type": "stream",
     "text": [
      "6\n",
      "2\n",
      "5\n",
      "1\n",
      "4\n",
      "3\n"
     ]
    }
   ],
   "source": [
    "import sys\n",
    "from collections import defaultdict\n",
    "\n",
    "sys.setrecursionlimit(10**6)\n",
    "\n",
    "\n",
    "def dfs(node, graph, stack, visited, route):\n",
    "    visited[node] = True\n",
    "    route.add(node)  # 이제 지나간 경로이니 추가\n",
    "    for next_node in graph[node]:\n",
    "        if next_node in route:\n",
    "            visited[impossible_mark] = True\n",
    "            return\n",
    "        if next_node in visited:\n",
    "            continue\n",
    "        dfs(next_node, graph, stack, visited, route)\n",
    "    stack.append(node)\n",
    "    route.remove(node)  # 백트래킹\n",
    "\n",
    "\n",
    "def solution():\n",
    "    global impossible_mark\n",
    "    N, M = map(int, input().split())\n",
    "    impossible_mark = -1\n",
    "    graph = defaultdict(set)\n",
    "    for _ in range(M):\n",
    "        order = list(map(int, input().split()))\n",
    "        length = order[0]\n",
    "        for i in range(1, length):\n",
    "            s, e = order[i], order[i + 1]\n",
    "            graph[s].add(e)\n",
    "    route = set()  # 이미 경로에 포함된 노드를 추가하려 시도한다면 사이클이 존재하는 것이다\n",
    "    visited = {}\n",
    "    total_order = []\n",
    "    is_impossible = False\n",
    "    for node in range(1, N + 1):\n",
    "        if node in visited:\n",
    "            continue\n",
    "        stack = []\n",
    "        dfs(node, graph, stack, visited, route)\n",
    "        total_order.extend(stack)\n",
    "        if impossible_mark in visited:\n",
    "            is_impossible = True\n",
    "    total_order.reverse()\n",
    "    if is_impossible:\n",
    "        print(0)\n",
    "        return\n",
    "    for i in total_order:\n",
    "        print(i)\n",
    "\n",
    "\n",
    "solution()\n",
    "\n",
    "# input\n",
    "# 6 3\n",
    "# 3 1 4 3\n",
    "# 4 6 2 5 4\n",
    "# 2 2 3"
   ]
  },
  {
   "cell_type": "markdown",
   "id": "876d6edd-ad95-4317-9376-1f45ee57edd6",
   "metadata": {},
   "source": [
    "## 문제집\n",
    "\n",
    "- 문제 출처: [백준 1766번](https://www.acmicpc.net/problem/1766)"
   ]
  },
  {
   "cell_type": "markdown",
   "id": "295c6c2e-bd20-42b3-87bf-18d12776ebfb",
   "metadata": {},
   "source": [
    "`-` 위상 정렬 문제이다\n",
    "\n",
    "`-` 사이클이 있는 입력은 주어지지 않는다\n",
    "\n",
    "`-` 먼저 푸는 것이 좋은 문제를 그래프 상에 나타내야 한다 (단반향 그래프)\n",
    "\n",
    "`-` 들어오는 간선의 개수가 $0$인 노드가 앞에 위치하되 이들 사이에도 순서가 있다\n",
    "\n",
    "`-` 쉬운 문제를 먼저 풀어야 하므로 들어오는 간선의 개수가 $0$인 노드 중 수가 작은 것이 우선순위가 더 높다\n",
    "\n",
    "`-` 처음에 DFS로 풀었다가 실패했다\n",
    "\n",
    "`-` khan의 알고리즘을 사용해 문제를 해결하자\n",
    "\n",
    "`-` khan의 알고리즘은 `queue`에서 노드를 `popleft`하여 해당 노드의 인접 노드를 탐색한다 (선입선출, 먼저 들어간 원소는 다른 원소보다 먼저 방문했다)\n",
    "\n",
    "`-` 해당 인접 노드를 가리키는 노드는 확정되어 순서 배열에 추가한다\n",
    "\n",
    "`-` 이는 가리켜진 노드의 `indegree`가 $1$ 감소했음을 의미하고 만약 $0$이 됐다면 `queue`에 `append`한다\n",
    "\n",
    "`-` `queue`에 아무 원소도 남지 않을 때까지 반복하면 된다\n",
    "\n",
    "`-` 처음에 `queue` 초기화는 `indegree`가 $0$인 노드를 `append`하면 된다 (이들 사이에 우선순위는 없으므로 추가하는 순서는 상관없다)\n",
    "\n",
    "`-` 그렇지 않는 노드는 함수 내에서 자연스럽게 탐색하게 된다\n",
    "\n",
    "`-` khan의 알고리즘을 통한 위상 정렬의 시간 복잡도는 $O(V+E)$이다 ($V$는 정점, $E$는 간선)\n",
    "\n",
    "`-` 그런데 이 문제는 khan의 알고리즘을 그대로 적용하면 안된다\n",
    "\n",
    "`-` 들어오는 간선의 개수가 $0$인 노드 사이에도 우선 순위가 존재한다\n",
    "\n",
    "`-` 따라서 `queue` 대신에 `heap`을 사용해서 탐색 순서를 조절하자\n",
    "\n",
    "`-` `heap`을 사용하면 들어오는 간선의 개수가 $0$인 노드 중 가장 쉬운 문제를 우선적으로 `pop` 할 수 있다"
   ]
  },
  {
   "cell_type": "code",
   "execution_count": 57,
   "id": "8e4f0d45-1f6f-4d36-a3ee-795a5071a2f5",
   "metadata": {},
   "outputs": [
    {
     "name": "stdin",
     "output_type": "stream",
     "text": [
      " 6 6\n",
      " 4 1\n",
      " 4 2\n",
      " 4 3\n",
      " 3 2\n",
      " 5 6\n",
      " 4 6\n"
     ]
    },
    {
     "name": "stdout",
     "output_type": "stream",
     "text": [
      "4 1 3 2 5 6\n"
     ]
    }
   ],
   "source": [
    "import heapq\n",
    "\n",
    "\n",
    "def topological_sort(graph, queue):\n",
    "    order = []\n",
    "    while queue:\n",
    "        node = heapq.heappop(queue)\n",
    "        order.append(node)\n",
    "        for next_node in graph[node]:\n",
    "            indegrees[next_node] -= 1\n",
    "            if indegrees[next_node] == 0:\n",
    "                heapq.heappush(queue, next_node)\n",
    "    return order\n",
    "\n",
    "\n",
    "def solution():\n",
    "    global indegrees\n",
    "    N, M = map(int, input().split())\n",
    "    graph = [set() for _ in range(N + 1)]\n",
    "    indegrees = [0 for _ in range(N + 1)]\n",
    "    for _ in range(M):\n",
    "        s, e = map(int, input().split())\n",
    "        if e not in graph[s]:\n",
    "            graph[s].add(e)\n",
    "            indegrees[e] += 1\n",
    "    queue = []\n",
    "    for v in range(1, N + 1):\n",
    "        if indegrees[v] == 0:\n",
    "            queue.append(v)\n",
    "    heapq.heapify(queue)\n",
    "    order = topological_sort(graph, queue)\n",
    "    print(*order)\n",
    "\n",
    "\n",
    "solution()\n",
    "\n",
    "# input\n",
    "# 6 6\n",
    "# 4 1\n",
    "# 4 2\n",
    "# 4 3\n",
    "# 3 2\n",
    "# 5 6\n",
    "# 4 6"
   ]
  },
  {
   "cell_type": "code",
   "execution_count": null,
   "id": "60e0e596-81d7-4308-a4ff-09e372bda22d",
   "metadata": {},
   "outputs": [],
   "source": []
  }
 ],
 "metadata": {
  "kernelspec": {
   "display_name": "Python 3 (ipykernel)",
   "language": "python",
   "name": "python3"
  },
  "language_info": {
   "codemirror_mode": {
    "name": "ipython",
    "version": 3
   },
   "file_extension": ".py",
   "mimetype": "text/x-python",
   "name": "python",
   "nbconvert_exporter": "python",
   "pygments_lexer": "ipython3",
   "version": "3.8.11"
  }
 },
 "nbformat": 4,
 "nbformat_minor": 5
}
