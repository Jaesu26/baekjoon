{
 "cells": [
  {
   "cell_type": "markdown",
   "id": "40552d94-e53c-4204-af12-3c8bc10bb5af",
   "metadata": {},
   "source": [
    "# 위상 정렬 (Topological Sorting)"
   ]
  },
  {
   "cell_type": "markdown",
   "id": "69f1b286-b9ca-4e96-8aec-f88e1a038ad9",
   "metadata": {},
   "source": [
    "## 줄 세우기\n",
    "\n",
    "- 문제 출처: [백준 2252번](https://www.acmicpc.net/problem/2252)"
   ]
  },
  {
   "cell_type": "markdown",
   "id": "2f527b55-ffd3-401f-81d7-04f846615a2a",
   "metadata": {},
   "source": [
    "`-` 위상 정렬 문제이다\n",
    "\n",
    "`-` khan의 알고리즘 또는 DFS로 해결할 수 있다\n",
    "\n",
    "`-` 여기서는 DFS로 해결하기로 함\n",
    "\n",
    "`-` 나중에 봤을 때 이해가 안되면 알고리즘 수업 정리한거 찾아보자\n",
    "\n",
    "`-` 참고로 모든 원소에 대해 비교한건 아니므로 한 번도 등장하지 않은 원소도 잊지말고 추가해야 한다 (어디든 상관없어서 마지막에 추가하면 된다)"
   ]
  },
  {
   "cell_type": "code",
   "execution_count": 2,
   "id": "a484b183-90d2-4bdb-a8f0-a6d805227ff8",
   "metadata": {},
   "outputs": [
    {
     "name": "stdin",
     "output_type": "stream",
     "text": [
      " 4 2\n",
      " 4 2\n",
      " 3 1\n"
     ]
    },
    {
     "name": "stdout",
     "output_type": "stream",
     "text": [
      "3 1 4 2\n"
     ]
    }
   ],
   "source": [
    "import sys\n",
    "from collections import defaultdict, deque\n",
    "\n",
    "sys.setrecursionlimit(10**6)\n",
    "\n",
    "\n",
    "def dfs(graph, node, stack):\n",
    "    if node in visited:\n",
    "        return\n",
    "    visited[node] = True\n",
    "    for next_ in graph[node]:\n",
    "        if next_ not in visited:\n",
    "            dfs(graph, next_, stack)\n",
    "    stack.append(node)\n",
    "\n",
    "\n",
    "def solution():\n",
    "    global visited\n",
    "    graph = defaultdict(list)\n",
    "    visited = {}\n",
    "    N, M = map(int, input().split())\n",
    "    S = deque([])\n",
    "    for _ in range(M):\n",
    "        a, b = map(int, input().split())\n",
    "        graph[a].append(b)\n",
    "    for node in list(graph.keys()):\n",
    "        stack = []\n",
    "        dfs(graph, node, stack)\n",
    "        S.extendleft(stack)\n",
    "    for i in range(1, N + 1):\n",
    "        if i not in visited:\n",
    "            S.append(i)\n",
    "    print(*S)\n",
    "\n",
    "\n",
    "solution()\n",
    "\n",
    "# input\n",
    "# 4 2\n",
    "# 4 2\n",
    "# 3 1"
   ]
  },
  {
   "cell_type": "code",
   "execution_count": null,
   "id": "838b82a5-9611-4b3d-8b3e-d9db083d045b",
   "metadata": {},
   "outputs": [],
   "source": []
  }
 ],
 "metadata": {
  "kernelspec": {
   "display_name": "Python 3 (ipykernel)",
   "language": "python",
   "name": "python3"
  },
  "language_info": {
   "codemirror_mode": {
    "name": "ipython",
    "version": 3
   },
   "file_extension": ".py",
   "mimetype": "text/x-python",
   "name": "python",
   "nbconvert_exporter": "python",
   "pygments_lexer": "ipython3",
   "version": "3.8.11"
  }
 },
 "nbformat": 4,
 "nbformat_minor": 5
}
