{
 "cells": [
  {
   "cell_type": "markdown",
   "id": "f764d2c8-9934-4db3-95fe-d80b3ba50708",
   "metadata": {},
   "source": [
    "# 분할 정복 (Devide and Conquer)"
   ]
  },
  {
   "cell_type": "markdown",
   "id": "270db603-cea8-4540-9405-d26087c0990c",
   "metadata": {},
   "source": [
    "## 곱셈\n",
    "\n",
    "- 문제 출처: [백준 1629번](https://www.acmicpc.net/problem/1629)"
   ]
  },
  {
   "cell_type": "markdown",
   "id": "b0fc8912-1c50-4ef7-811d-76a5744688bb",
   "metadata": {},
   "source": [
    "`-` $(A \\times B)\\, \\%\\, C = ((A\\, \\%\\, C) \\times (B\\, \\%\\, C))\\, \\%\\, C$\n",
    "\n",
    "`-` 머리가 바보가 돼서 공부하고 옴\n",
    "\n",
    "`-` $a^8$을 구한다고 생각해보자\n",
    "\n",
    "`-` $a^8= \\left(a^4\\right)^2 =\\left(\\left(a^2\\right)^2\\right)^2$\n",
    "\n",
    "`-` $a^8$을 구하기 위해서는 $a$를 8번 곱해야 하지만 살짝 변형하면 3번의 연산으로도 가능하다\n",
    "\n",
    "`-` 즉, 원래의 연산 횟수가 $b$라면 연산 횟수를 $\\log_{2}b$로 줄일 수 있는 것!\n",
    "\n",
    "`-` 만약 $b$가 짝수라면 위의 논리를 적용하면 된다\n",
    "\n",
    "`-` 만약 $b$가 홀수라면 $a^b=a\\times a^{b-1}$로 바꾸고 $a^{b-1}$에 대해 위의 논리를 적용하면 된다"
   ]
  },
  {
   "cell_type": "code",
   "execution_count": 53,
   "id": "679a1c5f-824a-4a6d-9f7e-9dd34e544e71",
   "metadata": {},
   "outputs": [
    {
     "name": "stdin",
     "output_type": "stream",
     "text": [
      " 10 11 12\n"
     ]
    },
    {
     "name": "stdout",
     "output_type": "stream",
     "text": [
      "4\n"
     ]
    }
   ],
   "source": [
    "def mul(a, b, c):\n",
    "    if b <= 2:\n",
    "        return (a ** b) % c \n",
    "    if b % 2 == 0:\n",
    "        x = mul(a, b//2, c) \n",
    "        x %= c\n",
    "        return x ** 2\n",
    "    else:\n",
    "        x = mul(a, (b-1)//2, c)\n",
    "        x %= c\n",
    "        return a * (x ** 2)\n",
    "\n",
    "\n",
    "A, B, C = map(int, input().split())\n",
    "print(mul(A, B, C) % C)\n",
    "\n",
    "# input\n",
    "# 10 11 12"
   ]
  },
  {
   "cell_type": "markdown",
   "id": "fa37e50f-e083-4ae6-9d54-e2fbe8fc638c",
   "metadata": {},
   "source": [
    "`-` 힘들게 풀었는데... 파이썬에서 pow(a, b, c)하면 풀린다 하더라..."
   ]
  },
  {
   "cell_type": "code",
   "execution_count": 88,
   "id": "26541594-6314-4009-9ec1-3ef222d7aa24",
   "metadata": {},
   "outputs": [
    {
     "name": "stdin",
     "output_type": "stream",
     "text": [
      " 10 11 12\n"
     ]
    },
    {
     "name": "stdout",
     "output_type": "stream",
     "text": [
      "4\n"
     ]
    }
   ],
   "source": [
    "print(pow(*map(int, input().split())))"
   ]
  },
  {
   "cell_type": "markdown",
   "id": "a109f370-a79f-40ef-8095-a88f793bce1a",
   "metadata": {},
   "source": [
    "## 색종이 만들기\n",
    "\n",
    "- 문제 출처: [백준 2630번](https://www.acmicpc.net/problem/2630)"
   ]
  },
  {
   "cell_type": "markdown",
   "id": "d7f3ab80-3844-4bf8-8fbc-67463918360b",
   "metadata": {},
   "source": [
    "`-` 재귀함수로 풀면 된다"
   ]
  },
  {
   "cell_type": "code",
   "execution_count": 59,
   "id": "69341b9c-9090-4b23-9356-4e3cab40ad36",
   "metadata": {},
   "outputs": [
    {
     "name": "stdin",
     "output_type": "stream",
     "text": [
      " 8\n",
      " 1 1 0 0 0 0 1 1\n",
      " 1 1 0 0 0 0 1 1\n",
      " 0 0 0 0 1 1 0 0\n",
      " 0 0 0 0 1 1 0 0\n",
      " 1 0 0 0 1 1 1 1\n",
      " 0 1 0 0 1 1 1 1\n",
      " 0 0 1 1 1 1 1 1\n",
      " 0 0 1 1 1 1 1 1\n"
     ]
    },
    {
     "name": "stdout",
     "output_type": "stream",
     "text": [
      "9\n",
      "7\n"
     ]
    }
   ],
   "source": [
    "def cut_square(square):\n",
    "    global white, blue\n",
    "    n = len(square)  # n*n 크기의 정사각형   \n",
    "    if sum(map(sum, square)) == 0:  # 하얀색으로만 이루어진 색종이\n",
    "        white += 1\n",
    "        return  # 모두 같은 색으로만 이루어진 색종이이므로 더 이상 cutting할 필요가 없다(=함수 끝)\n",
    "    elif sum(map(sum, square)) == n*n:   # 파랑색으로만 이루어진 색종이\n",
    "        blue += 1\n",
    "        return  # 함수 끝\n",
    "    m = n // 2   # 중심을 기준으로 나누자\n",
    "    s1 = [square[:m][i][:m] for i in range(m)]  # 좌상\n",
    "    s2 = [square[:m][i][m:] for i in range(m)]  # 우상\n",
    "    s3 = [square[m:][i][:m] for i in range(m)]  # 좌하\n",
    "    s4 = [square[m:][i][m:] for i in range(m)]  # 우하\n",
    "    for s in [s1, s2, s3, s4]:\n",
    "        cut_square(s)\n",
    "    ##################################### 설명 ##################################### \n",
    "    # 값을 다 더해서 체크를 하자, 예컨대 4*4크기의 정사각형을 중심을 기준으로 나누면\n",
    "    # 2*2크기의 정사각형 4개가 생기는데 각각의 정사각형의 값들을 더해서 나온 숫자가\n",
    "    # 0(=2*2*0)또는 4(=2*2*1)라면 불순물이 없는것이고 아니라면\n",
    "    # 2*2크기의 정사각형을 중심을 기준으로 나누어 1*1크기의 정사각형으로 만든다\n",
    "    # 1*1크기의 정사각형은 검증할 필요가 없으므로 함수를 break한다\n",
    "    ################################################################################\n",
    "\n",
    "\n",
    "N = int(input())\n",
    "square = [list(map(int, input().split())) for _ in range(N)]\n",
    "blue = 0  # 총 파란색종이 개수\n",
    "white = 0  # 총 하얀색종이 개수\n",
    "cut_square(square)\n",
    "print(white)\n",
    "print(blue)\n",
    "\n",
    "# input\n",
    "# 8\n",
    "# 1 1 0 0 0 0 1 1\n",
    "# 1 1 0 0 0 0 1 1\n",
    "# 0 0 0 0 1 1 0 0\n",
    "# 0 0 0 0 1 1 0 0\n",
    "# 1 0 0 0 1 1 1 1\n",
    "# 0 1 0 0 1 1 1 1\n",
    "# 0 0 1 1 1 1 1 1\n",
    "# 0 0 1 1 1 1 1 1"
   ]
  },
  {
   "cell_type": "markdown",
   "id": "16ef23a1-a53b-4b9a-b5b0-42d3a282cc40",
   "metadata": {},
   "source": [
    "## Z\n",
    "\n",
    "- 문제 출처: [백준 1074번](https://www.acmicpc.net/problem/1074)"
   ]
  },
  {
   "cell_type": "markdown",
   "id": "634c9d27-edfa-4abe-89f4-8e7cea89bd7c",
   "metadata": {},
   "source": [
    "`-` 방문은 좌상 $\\to$ 우상 $\\to$ 좌하 $\\to$ 우하 순이다\n",
    "\n",
    "`-` 그냥 수학 공식을 유도해서 풀 수 있을 것 같지만 생각하다 때려쳤다\n",
    "\n",
    "`-` $2^n\\times 2^n$ 배열($0 \\sim 2^{2n}-1$)에 대해 방문하면서 배열에 방문순서를 기록한다\n",
    "\n",
    "`-` 그러면 방문을 마친 뒤 인덱싱을 통해 $r$행 $c$열을 몇 번째로 방문했는지 알 수 있다\n",
    "\n",
    "`-` 그런데 생각해보니 위에 방식대로 하면 $n=15$인 경우에 대해선 제한시간 안에 해결할 수 없다\n",
    "\n",
    "`-` $2^{15}\\times 2^{15}\\approx 10억$이므로 $0.5$초 안에 해결 불가능함\n",
    "\n",
    "- 그래서 다시 수학적으로 접근하기로 함\n",
    "\n",
    "`-` 우선 $2^n\\times 2^n$ 배열에서 $(r,c)$가 좌상, 우상, 좌하, 우하 중 어디에 속하는지 파악하자\n",
    "\n",
    "`-` 만약 좌하에 속한다면 $(r,c)$의 방문 순서는 $\\frac{2}{4}\\left(2^{2n}\\right)$와 $\\frac{3}{4}\\left(2^{2n}\\right) - 1$ 사이에 속한다\n",
    "\n",
    "`-` 다시 말하자면  $(r,c)$의 방문 순서는  $\\frac{2}{4}\\left(2^{2n}\\right)+\\{0\\}$과  $\\frac{2}{4}\\left(2^{2n}\\right)+\\left\\{2^{n-1}\\times 2^{n-1} - 1\\right\\}$ 사이에 속한다\n",
    "\n",
    "`-` 즉, 기존의 배열에서 $(r,c)$가 좌하에 위치했으므로 새로운 배열 $2^{n-1}\\times 2^{n-1}$에서 $\\left(r-\\frac{n}{2},c\\right)$의 방문 순서를 구한 뒤 $\\frac{2}{4}\\left(2^{2n}\\right)$를 더해주면 된다\n",
    "\n",
    "`-` 위에서는 모든 배열에 대해 방문 순서를 계산했지만 분할정복을 통해 필요한 좌표의 방문 순서만 계산\n",
    "\n",
    "- Bit Shift 연산(<<, >>)\n",
    "\n",
    "`-` `a << x`는 $a\\times 2^x$를 의미\n",
    "\n",
    "`-` 파이썬은 `**` 쓰면 되지만 C++은 `pow`를 써야하는데 값이 클 경우 오차 문제가 생길 수 있음"
   ]
  },
  {
   "cell_type": "code",
   "execution_count": 111,
   "id": "b356a9ad-f8d8-4f82-a0ed-d8b5fc9e1fef",
   "metadata": {},
   "outputs": [
    {
     "name": "stdin",
     "output_type": "stream",
     "text": [
      " 4 7 7\n"
     ]
    },
    {
     "name": "stdout",
     "output_type": "stream",
     "text": [
      "63\n"
     ]
    }
   ],
   "source": [
    "def Z(n, r, c):  # 2^n X 2^n 배열에서 (r,c)의 방문순서를 찾자(탐색은 Z순서)\n",
    "    global seq  # 방문 순서\n",
    "    if n == 0: \n",
    "        return 0  # 2^0 X 2^0(=1 X 1) 배열에서 방문 순서는 0이다\n",
    "    # (r,c)가 상, 하, 좌, 우 중에서 어디에 속하는지 확인\n",
    "    m = 1 << (n - 1)  # 2^(n-1)과 동일함\n",
    "    if r <= m:\n",
    "        if c <= m:  # 좌상\n",
    "            seq += Z(n - 1, r, c)\n",
    "        else:  # 우상\n",
    "            seq += (1 * 2**(2*n - 2) + Z(n - 1, r, c - m))\n",
    "    else:\n",
    "        if c <= m:  # 좌하 \n",
    "            seq += (2 * 2**(2*n - 2) + Z(n - 1, r - m, c))\n",
    "        else:  # 우하\n",
    "            seq += (3 * 2**(2*n - 2) + Z(n - 1, r - m, c - m))\n",
    "    return seq\n",
    "\n",
    "\n",
    "seq = 0  # 방문 순서\n",
    "n, r, c = map(int, input().split())\n",
    "print(Z(n, r + 1, c + 1))\n",
    "\n",
    "# input\n",
    "# 4 7 7"
   ]
  },
  {
   "cell_type": "markdown",
   "id": "ccd20d93-2233-4f20-a750-bb91e5bfaaec",
   "metadata": {},
   "source": [
    "## 쿼드트리\n",
    "\n",
    "- 문제 출처: [백준 1992번](https://www.acmicpc.net/problem/1992)"
   ]
  },
  {
   "cell_type": "markdown",
   "id": "2e33e6a9-add0-4907-a6e0-a878543d7b64",
   "metadata": {},
   "source": [
    "`-` 기본적인 분할정복 문제"
   ]
  },
  {
   "cell_type": "code",
   "execution_count": 70,
   "id": "d158d4f9-fdb8-4409-8272-af7d2bc1c39e",
   "metadata": {},
   "outputs": [
    {
     "name": "stdin",
     "output_type": "stream",
     "text": [
      " 2\n",
      " 00\n",
      " 00\n"
     ]
    },
    {
     "name": "stdout",
     "output_type": "stream",
     "text": [
      "0\n"
     ]
    }
   ],
   "source": [
    "def compress(quadtree):\n",
    "    n = len(quadtree)  # n X n 크기의 쿼드트리\n",
    "    total = sum(map(sum, quadtree))\n",
    "    if total == 0:  # only white\n",
    "        return '0'\n",
    "    elif total == n * n:  # only black\n",
    "        return '1'\n",
    "    # 쿼드트리가 한가지 색으로 압축되지 않으므로 사분할\n",
    "    m = n // 2\n",
    "    left_up = [quadtree[:m][i][:m] for i in range(m)]  # 좌상\n",
    "    right_up = [quadtree[:m][i][m:] for i in range(m)]  # 우상\n",
    "    left_down = [quadtree[m:][i][:m] for i in range(m)]  # 좌하\n",
    "    right_down = [quadtree[m:][i][m:] for i in range(m)]  # 우하\n",
    "    # 쿼드트리 압축\n",
    "    qt1 = compress(left_up)\n",
    "    qt2 = compress(right_up)\n",
    "    qt3 = compress(left_down)\n",
    "    qt4 = compress(right_down)\n",
    "    compressed_quadtree = ''.join(['(', qt1, qt2, qt3, qt4, ')'])\n",
    "    return compressed_quadtree\n",
    "\n",
    "\n",
    "N = int(input())\n",
    "quadtree = [[*map(int, input())] for _ in range(N)]\n",
    "print(compress(quadtree))"
   ]
  },
  {
   "cell_type": "markdown",
   "id": "8af98323-2776-4901-80f7-b1a34cdf7c76",
   "metadata": {},
   "source": [
    "## 종이의 개수\n",
    "\n",
    "- 문제 출처: [백준 1780번](https://www.acmicpc.net/problem/1780)"
   ]
  },
  {
   "cell_type": "markdown",
   "id": "a2ce6179-f060-4ecc-baf6-c16e2d3bab7e",
   "metadata": {},
   "source": [
    "`-` 기본적인 분할정복 문제, 그런데 이제 경우의 수가 3개로 늘어난\n",
    "\n",
    "`-` $0$으로만 채워진 종이를 판단할 때 전체 합을 기준으로 하면 안됨($1$과 $-1$의 개수가 동일하면 합이 $0$이다)"
   ]
  },
  {
   "cell_type": "code",
   "execution_count": 329,
   "id": "90c0682d-9e9e-4297-8a32-0bee488c2909",
   "metadata": {},
   "outputs": [
    {
     "name": "stdin",
     "output_type": "stream",
     "text": [
      " 9\n",
      " 0 0 0 1 1 1 -1 -1 -1\n",
      " 0 0 0 1 1 1 -1 -1 -1\n",
      " 0 0 0 1 1 1 -1 -1 -1\n",
      " 1 1 1 0 0 0 0 0 0\n",
      " 1 1 1 0 0 0 0 0 0\n",
      " 1 1 1 0 0 0 0 0 0\n",
      " 0 1 -1 0 1 -1 0 1 -1\n",
      " 0 -1 1 0 1 -1 0 1 -1\n",
      " 0 1 -1 1 0 -1 0 1 -1\n"
     ]
    },
    {
     "name": "stdout",
     "output_type": "stream",
     "text": [
      "10\n",
      "12\n",
      "11\n"
     ]
    }
   ],
   "source": [
    "def cut_paper(papers):\n",
    "    global minus_paper, plus_paper, zero_pape   \n",
    "    n = len(papers)  # n X n 크기\n",
    "    cnt1, cnt2, cnt3 = 0, 0, 0\n",
    "    for i in range(n):\n",
    "        for j in range(n):\n",
    "            if papers[i][j] == -1:\n",
    "                cnt1 += 1\n",
    "            elif papers[i][j] == 0:\n",
    "                cnt2 += 1\n",
    "            else:\n",
    "                cnt3 += 1\n",
    "    if cnt1 == n*n:\n",
    "        minus_paper += 1\n",
    "        return\n",
    "    elif cnt2 == n*n:\n",
    "        zero_paper += 1\n",
    "        return\n",
    "    elif cnt3 == n*n:\n",
    "        plus_paper += 1\n",
    "        return\n",
    "    # 기준점\n",
    "    m1 = n // 3\n",
    "    m2 = 2 * m1\n",
    "    # 종이 9분할\n",
    "    p1 = [papers[:m1][i][:m1] for i in range(m1)]\n",
    "    p2 = [papers[:m1][i][m1:m2] for i in range(m1)]\n",
    "    p3 = [papers[:m1][i][m2:] for i in range(m1)]\n",
    "    p4 = [papers[m1:m2][i][:m1] for i in range(m1)]\n",
    "    p5 = [papers[m1:m2][i][m1:m2] for i in range(m1)]\n",
    "    p6 = [papers[m1:m2][i][m2:] for i in range(m1)]\n",
    "    p7 = [papers[m2:][i][:m1] for i in range(m1)]\n",
    "    p8 = [papers[m2:][i][m1:m2] for i in range(m1)]\n",
    "    p9 = [papers[m2:][i][m2:] for i in range(m1)]\n",
    "    for p in [p1, p2, p3, p4, p5, p6, p7, p8, p9]:\n",
    "        cut_paper(p)\n",
    "\n",
    "\n",
    "N = int(input())\n",
    "paper = [[*map(int, input().split())] for _ in range(N)]\n",
    "minus_paper = 0  # -1 종이의 개수\n",
    "plus_paper = 0  # +1 종이의 개수\n",
    "zero_paper = 0  # 0 종이의 개수\n",
    "cut_paper(paper)\n",
    "print('\\n'.join(map(str, [minus_paper, zero_paper, plus_paper])))\n",
    "\n",
    "# input\n",
    "# 9\n",
    "# 0 0 0 1 1 1 -1 -1 -1\n",
    "# 0 0 0 1 1 1 -1 -1 -1\n",
    "# 0 0 0 1 1 1 -1 -1 -1\n",
    "# 1 1 1 0 0 0 0 0 0\n",
    "# 1 1 1 0 0 0 0 0 0\n",
    "# 1 1 1 0 0 0 0 0 0\n",
    "# 0 1 -1 0 1 -1 0 1 -1\n",
    "# 0 -1 1 0 1 -1 0 1 -1\n",
    "# 0 1 -1 1 0 -1 0 1 -1"
   ]
  },
  {
   "cell_type": "markdown",
   "id": "4ebd5a71-e8bb-43c9-a7c9-4f167a0c260d",
   "metadata": {},
   "source": [
    "## 행렬 제곱\n",
    "\n",
    "- 문제 출처: [백준 10830번](https://www.acmicpc.net/problem/10830)"
   ]
  },
  {
   "cell_type": "markdown",
   "id": "25b9da21-c90e-418c-a4d3-259d2ade9eac",
   "metadata": {},
   "source": [
    "`-` [곱셈](https://www.acmicpc.net/problem/1629) 문제와 동일한 매커니즘이다\n",
    "\n",
    "`-` 크기가 $N\\times N$인 행렬 $\\bf{A}$에 대해서 $\\bf{A}^B$를 계산하는 문제이다\n",
    "\n",
    "`-` $\\bf{A}^B = \\overbrace{A\\times A\\times \\cdots\\times A\\times A}^{\\text{$B$ times}}$ $\\longrightarrow O(B)$\n",
    "\n",
    "`-` 그런데 $B$는 최대 $1000$억이므로 위의 방법으로는 문제를 해결할 수 없다\n",
    "\n",
    "`-` $\\bf{A}^B$를 조금 수정하면 다음과 같이 나타낼 수 있다\n",
    "\n",
    "`-` 예컨대 $B=8$이면 $\\bf{A}^8=\\left({\\bf{A}^4}\\right)^2=\\left(\\left({\\bf{A}^2}\\right)^2\\right)^2$\n",
    "\n",
    "`-` $\\bf{A_2}=\\bf{A}^2,\\,\\bf{A_3}=\\bf{A_2}^2,\\;\\bf{A_3}=\\bf{A_2}^2$와 같이 $\\bf{A}^8$(=$\\bf{A_3}$)를 계산할 수 있다\n",
    "\n",
    "`-` 원래는 $8$번의 연산이 필요했지만 약간의 수정으로 $\\log_{2}8$번의 연산만 필요해진다\n",
    "\n",
    "`-` 즉, 원래의 연산 횟수가 $B$라면 연산 횟수를 $\\log_{2}B$로 줄일 수 있다\n",
    "\n",
    "`-` 만약 $B$가 짝수라면 위의 논리를 적용하면 된다\n",
    "\n",
    "`-` 만약 $B$가 홀수라면 $\\bf{A}^B=\\bf{A}\\times \\bf{A}^{B-1}$로 바꾸고 $\\bf{A}^{B-1}$에 대해 위의 논리를 적용하면 된다"
   ]
  },
  {
   "cell_type": "code",
   "execution_count": 47,
   "id": "a21b71a7-be79-411f-9d58-49518f2e0e39",
   "metadata": {},
   "outputs": [
    {
     "name": "stdin",
     "output_type": "stream",
     "text": [
      " 3 3\n",
      " 1 2 3\n",
      " 4 5 6\n",
      " 7 8 9\n"
     ]
    },
    {
     "name": "stdout",
     "output_type": "stream",
     "text": [
      "468 576 684\n",
      "62 305 548\n",
      "656 34 412\n"
     ]
    }
   ],
   "source": [
    "def matrix_multiple(mat1, mat2):\n",
    "    matrix = [[0] * N for _ in range(N)]\n",
    "    for i in range(N):\n",
    "        for j in range(N):\n",
    "            mat = 0\n",
    "            for k in range(N):\n",
    "                mat += (mat1[i][k] * mat2[k][j]) % 1000\n",
    "            matrix[i][j] = mat % 1000\n",
    "    return matrix\n",
    "\n",
    "\n",
    "def matrix_pow(mat, power):\n",
    "    if power == 1:\n",
    "        return matrix_multiple(mat, I) ## 각 원소를 1000의 나머지로 만들기 위함\n",
    "    elif power % 2 == 0:\n",
    "        matrix = matrix_pow(mat, power // 2)\n",
    "        return matrix_multiple(matrix, matrix)\n",
    "    else:\n",
    "        matrix = matrix_pow(mat, power - 1)\n",
    "        return matrix_multiple(mat, matrix)\n",
    "\n",
    "\n",
    "N, B = map(int, input().split())\n",
    "A = [list(map(int, input().split())) for _ in range(N)]\n",
    "I = [[0]*i + [1] + [0]*(N - i - 1) for i in range(N)]  # N X N 크기의 단위행렬\n",
    "matrix = matrix_pow(A, B)\n",
    "for mat in matrix:\n",
    "    print(*mat)\n",
    "    \n",
    "# input\n",
    "# 3 3\n",
    "# 1 2 3\n",
    "# 4 5 6\n",
    "# 7 8 9"
   ]
  },
  {
   "cell_type": "markdown",
   "id": "86ced5e5-8ec8-4826-bb18-f0e692abcedd",
   "metadata": {},
   "source": [
    "## 피보나치 수 6\n",
    "\n",
    "- 문제 출처: [백준 11444번](https://www.acmicpc.net/problem/11444)"
   ]
  },
  {
   "cell_type": "markdown",
   "id": "2b6d81b6-1c6e-43c7-979e-823d2ccebf75",
   "metadata": {},
   "source": [
    "`-` $N$번째 피보나치 수를 구하면 된다\n",
    "\n",
    "`-` 그런데 $N$이 최대 $1,000,000,000,000,000,000$이므로 코드의 시간복잡도는 $O(\\log N)$이어야 한다\n",
    "\n",
    "`-` $1,000,000,007$으로 나눈 결과를 출력하면 되는데 이 수가 매우 크므로 [피사노 주기](https://en.wikipedia.org/wiki/Pisano_period)로는 해결할 수 없다\n",
    "\n",
    "`-` 피보나치 수열의 점화식: $F_{n} = F_{n-1}+F_{n-2},\\;(n\\geq 2, F_0=0,F_1=1)$\n",
    "\n",
    "`-` 피보나치 수열의 점화식을 행렬로 표현하면 다음과 같다\n",
    "\n",
    "`-` $\\begin{pmatrix}F_{n+2} \\\\ F_{n+1}\\end{pmatrix}=\\begin{pmatrix}1 & 1\\\\ 1 & 0\\end{pmatrix}\\begin{pmatrix} F_{n+1} \\\\  F_{n}\\end{pmatrix},\\quad$ 참고: https://en.wikipedia.org/wiki/Fibonacci_number#Matrix_form\n",
    "\n",
    "`-` 이를 조금 수정하면 $\\begin{pmatrix}F_{k+1} \\\\ F_{k}\\end{pmatrix}={\\begin{pmatrix}1 & 1\\\\ 1 & 0\\end{pmatrix}}^k\\begin{pmatrix} F_{1} \\\\  F_{0}\\end{pmatrix}$이다\n",
    "\n",
    "`-` 그런데 분할정복을 이용하여 행렬의 거듭제곱을 계산하면 $\\bf{A}^k$는 $\\log_2 k$번의 연산만으로 계산가능하다\n",
    "\n",
    "`-` 따라서 $F_n$을 $O(\\log N)$의 시간복잡도로 계산할 수 있다\n",
    "\n",
    "`-` 이 문제의 핵심은 `1. 피보나치 수열의 점화식을 행렬로 표현하는 것`, `2. 분할정복을 사용해 행렬의 거듭제곱을 O(log N)에 계산하는 것`"
   ]
  },
  {
   "cell_type": "code",
   "execution_count": 43,
   "id": "c08fc704-54ef-4b03-98a1-2922853f02c3",
   "metadata": {},
   "outputs": [
    {
     "name": "stdin",
     "output_type": "stream",
     "text": [
      " 1000\n"
     ]
    },
    {
     "name": "stdout",
     "output_type": "stream",
     "text": [
      "517691607\n"
     ]
    }
   ],
   "source": [
    "def matrix_multiple(mat1, mat2):  # mat1은 a x b, mat2는 b x c\n",
    "    a = len(mat1)\n",
    "    b = len(mat2)\n",
    "    c = len([*zip(*mat2)])\n",
    "    matrix = [[0] * c for _ in range(a)]\n",
    "    for i in range(a):\n",
    "        for j in range(c):\n",
    "            mat = 0\n",
    "            for k in range(b):\n",
    "                mat += (mat1[i][k] * mat2[k][j]) % 1000000007\n",
    "            matrix[i][j] = mat % 1000000007\n",
    "    return matrix\n",
    "\n",
    "\n",
    "def matrix_pow(mat, power):\n",
    "    if power == 1:\n",
    "        return mat\n",
    "    elif power % 2 == 0:\n",
    "        matrix = matrix_pow(mat, power // 2)\n",
    "        return matrix_multiple(matrix, matrix)\n",
    "    else:\n",
    "        matrix = matrix_pow(mat, power - 1)\n",
    "        return matrix_multiple(mat, matrix)\n",
    "\n",
    "\n",
    "N = int(input())\n",
    "F0 = 0\n",
    "F1 = 1\n",
    "F_n = -1\n",
    "fibonacci_matrix = [[1, 1], [1, 0]]  # 2 X 2\n",
    "init_matrix = [[F1], [F0]]  # 2 X 1\n",
    "# 간단한 경우\n",
    "if N == 0:\n",
    "    F_n = 0\n",
    "elif N == 1:\n",
    "    F_n = 1\n",
    "if F_n == -1:\n",
    "    mat = matrix_pow(fibonacci_matrix, N)\n",
    "    mat2 = matrix_multiple(mat, init_matrix)\n",
    "    F_n = mat2[1][0]\n",
    "print(F_n)\n",
    "\n",
    "# input\n",
    "# 1000"
   ]
  },
  {
   "cell_type": "markdown",
   "id": "4189a6ba-8400-4281-aa1f-c42805dd740e",
   "metadata": {},
   "source": [
    "## 타일 채우기 2\n",
    "\n",
    "- 문제 출처: [백준 13976번](https://www.acmicpc.net/problem/13976)"
   ]
  },
  {
   "cell_type": "markdown",
   "id": "26235842-dab9-4a08-a8ad-f665da658099",
   "metadata": {},
   "source": [
    "`-` [타일 채우기](https://www.acmicpc.net/problem/2133) 문제에서 $N$이 매우 큰 버전이다\n",
    "\n",
    "`-` `a_n`을 $3\\times n$ 타일을 채우는 경우의 수라고 하자\n",
    "\n",
    "`-` $3\\times n$ 타일은 $3\\times (n-2)$ 타일 우측에 고유한 $3\\times 2$ 타일을 추가하는 방법, $3\\times (n-4)$ 타일 우측에 고유한 $3\\times 4$ 타일을 추가하는 방법과 같이 전개된다\n",
    "\n",
    "`-` $3\\times 2$ 타일을 채우는 고유한 방법은 $3$가지, $ N >2$인 나머지 $3\\times N$ 타일을 채우는 고유한 방법은 $2$가지이다\n",
    "\n",
    "`-` 따라서 $a_n = 3a_{n-2} + 2a_{n-4}+\\cdots$이다\n",
    "\n",
    "`-` 우측에만 추가하는 이유는 중복되는 경우를 방지하기 위함이다 (좌측에도 추가하면 중복되는 경우가 생긴다)\n",
    "\n",
    "`-` 우측에만 추가해도 $3\\times N$ 타일을 채우는 모든 방법을 탐지할 수 있으므로 상관 없다\n",
    "\n",
    "`-` $n$대신 $n-2$를 대입하면 $a_{n-2} = 3a_{n-4} + 2a_{n-6}+\\cdots$이고 $a_n-a_{n-2}$를 계산하면 다음과 같다\n",
    "\n",
    "`-` $a_n-a_{n-2} = 3a_{n-2} + 2a_{n-4}+\\cdots - (3a_{n-4} + 2a_{n-6}+\\cdots)$\n",
    "\n",
    "`-` $a_n-a_{n-2} = 3a_{n-2}  - a_{n-4} \\Longrightarrow a_n = 4a_{n-2}  - a_{n-4}$\n",
    "\n",
    "`-` [피보나치 수 6](https://www.acmicpc.net/problem/11444) 문제와 비슷하게 위의 점화식을 행렬로 나타낼 수 있다\n",
    "\n",
    "`-` 점화식을 행렬로 나타내면 다음과 같다\n",
    "\n",
    "`-` $\\begin{pmatrix}a_{n+2} \\\\ a_n\\end{pmatrix}=\\begin{pmatrix}4 & -1\\\\ 1 & 0\\end{pmatrix}\\begin{pmatrix} a_{n} \\\\  a_{n-2}\\end{pmatrix}$\n",
    "\n",
    "`-` $\\begin{pmatrix}4 & -1\\\\ 1 & 0\\end{pmatrix}$을 계속 곱해주면 점화식이 전개되므로 식을 조금 수정하면 아래와 같다\n",
    "\n",
    "`-` $\\begin{pmatrix}a_{2k+4} \\\\ a_{2k+2}\\end{pmatrix}=\\begin{pmatrix}4 & -1\\\\ 1 & 0\\end{pmatrix}^k\\begin{pmatrix} a_{4} \\\\  a_{2}\\end{pmatrix}$\n",
    "\n",
    "`-` 거듭제곱은 분할 정복을 통해 $O(\\log k)$에 계산할 수 있다\n",
    "\n",
    "`-` $a_2=3, a_4=11$이므로 행렬을 $k=\\frac{N-2}{2}$번 제곱한 뒤 $\\begin{pmatrix} a_{4} \\\\  a_{2}\\end{pmatrix}$와의 행렬곱을 계산한 결과의 $2$행, $1$열에서 $a_N$을 구할 수 있다"
   ]
  },
  {
   "cell_type": "code",
   "execution_count": 9,
   "id": "722757d7-f991-4d79-85b6-e2c808b2018c",
   "metadata": {},
   "outputs": [
    {
     "name": "stdin",
     "output_type": "stream",
     "text": [
      " 100\n"
     ]
    },
    {
     "name": "stdout",
     "output_type": "stream",
     "text": [
      "436252889\n"
     ]
    }
   ],
   "source": [
    "def mutiply(x, y):\n",
    "    return x * y\n",
    "\n",
    "\n",
    "def matrix_multiple(matrix1, matrix2, mod):\n",
    "    n = len(matrix1)\n",
    "    m = len(matrix2[0])\n",
    "    matrix = [[0 for _ in range(m)] for _ in range(n)]\n",
    "    for i, vector1 in enumerate(matrix1):\n",
    "        for j, vector2 in enumerate(zip(*matrix2)):\n",
    "            matrix[i][j] += sum(map(mutiply, vector1, vector2)) % mod\n",
    "    return matrix\n",
    "\n",
    "\n",
    "def matrix_pow(matrix, power, mod):\n",
    "    if power == 1:\n",
    "        return matrix\n",
    "    half = matrix_pow(matrix, power // 2, mod)\n",
    "    result = matrix_multiple(half, half, mod)\n",
    "    if power % 2 == 1:\n",
    "        result = matrix_multiple(matrix, result, mod)\n",
    "    return result\n",
    "\n",
    "\n",
    "def solution():\n",
    "    N = int(input())\n",
    "    if N % 2 == 1:\n",
    "        print(0)\n",
    "        return\n",
    "    if N == 2:\n",
    "        print(3)\n",
    "        return\n",
    "    P = 1000000007\n",
    "    matrix = [[4, -1], [1, 0]]\n",
    "    a4_a2 = [[11], [3]]\n",
    "    k = (N - 2) // 2\n",
    "    result = matrix_pow(matrix, k, P)\n",
    "    result = matrix_multiple(result, a4_a2, P)  # 2 X 1 행렬\n",
    "    a_n = result[1][0] % P\n",
    "    print(a_n)\n",
    "\n",
    "\n",
    "solution()\n",
    "\n",
    "# input\n",
    "# 100"
   ]
  },
  {
   "cell_type": "markdown",
   "id": "68d1915c-1a7a-46f0-a0de-8cc5791297b0",
   "metadata": {},
   "source": [
    "## 사전 순 최대 공통 부분 수열\n",
    "\n",
    "- 문제 출처: [백준 30805번](https://www.acmicpc.net/problem/30805)"
   ]
  },
  {
   "cell_type": "markdown",
   "id": "8cce96a2-1774-4bfc-a834-82804bb2adae",
   "metadata": {},
   "source": [
    "`-` 공통 부분 수열을 구해야 하므로 $A_n$과 $B_M$의 공통 원소가 아닌 원소는 모두 제거하자\n",
    "\n",
    "`-` 최대 공통 부분 수열 중 사전 순으로 나중일려면 무조건 공통 원소의 최댓값으로 시작해야 된다\n",
    "\n",
    "`-` 공통 원소의 최댓값을 구하자\n",
    "\n",
    "`-` 그 후 각 수열에서 최댓값이 가장 먼저 나타나는 인덱스를 찾자\n",
    "\n",
    "`-` 일단 정답은 해당 최댓값으로 시작한다\n",
    "\n",
    "`-` 인덱스 이후의 $A_n$과 $B_m$에 대해 재귀적으로 위의 과정을 반복하면 된다\n",
    "\n",
    "`-` 매 분할 정복마다 $O(N)$의 시간 복잡도를 가지고 최악의 경우 이를 $N$번 반복하므로 전체 알고리즘의 시간 복잡도는 $O\\left(N^2\\right)$이다"
   ]
  },
  {
   "cell_type": "code",
   "execution_count": 11,
   "id": "9be6571b-b94c-4104-ad33-c41f108b0533",
   "metadata": {},
   "outputs": [
    {
     "name": "stdin",
     "output_type": "stream",
     "text": [
      " 4\n",
      " 1 9 7 3\n",
      " 5\n",
      " 1 8 7 5 3\n"
     ]
    },
    {
     "name": "stdout",
     "output_type": "stream",
     "text": [
      "2\n",
      "7 3\n"
     ]
    }
   ],
   "source": [
    "def leave_common_elements(A_n, B_n):\n",
    "    an_set = set(A_n)\n",
    "    bn_set = set(B_n)\n",
    "    An_tmp = []\n",
    "    for a in A_n:\n",
    "        if a not in bn_set:\n",
    "            continue\n",
    "        An_tmp.append(a)\n",
    "    A_n = An_tmp\n",
    "    Bn_tmp = []\n",
    "    for b in B_n:\n",
    "        if b not in an_set:\n",
    "            continue\n",
    "        Bn_tmp.append(b)\n",
    "    B_n = Bn_tmp\n",
    "    return A_n, B_n\n",
    "\n",
    "\n",
    "def find_biggest_common_subsequence(A_n, B_n, bcs):\n",
    "    A_n, B_n = leave_common_elements(A_n, B_n)\n",
    "    if not (A_n and B_n):\n",
    "        return\n",
    "    max_value = max(A_n)\n",
    "    for i, a in enumerate(A_n):\n",
    "        if a == max_value:\n",
    "            break\n",
    "    for j, b in enumerate(B_n):\n",
    "        if b == max_value:\n",
    "            break\n",
    "    bcs.append(max_value)\n",
    "    find_biggest_common_subsequence(A_n[i + 1:], B_n[j + 1:], bcs)\n",
    "    \n",
    "\n",
    "def solution():\n",
    "    N = int(input())\n",
    "    A_n = list(map(int, input().split()))\n",
    "    M = int(input())\n",
    "    B_n = list(map(int, input().split()))\n",
    "    bcs = []\n",
    "    find_biggest_common_subsequence(A_n, B_n, bcs)\n",
    "    print(len(bcs))\n",
    "    print(*bcs)\n",
    "\n",
    "\n",
    "solution()\n",
    "\n",
    "# input\n",
    "# 4\n",
    "# 1 9 7 3\n",
    "# 5\n",
    "# 1 8 7 5 3"
   ]
  },
  {
   "cell_type": "markdown",
   "id": "4f46235f-8cfb-4c90-b646-cc59759fca59",
   "metadata": {},
   "source": [
    "## 파도반 수열 2\n",
    "\n",
    "- 문제 출처: [백준 27435번](https://www.acmicpc.net/problem/27435)"
   ]
  },
  {
   "cell_type": "markdown",
   "id": "54c9b3b3-5546-4121-978e-8d76fd3e78e4",
   "metadata": {},
   "source": [
    "`-` [파도반 수열](https://www.acmicpc.net/problem/9461) 문제에서 $N$이 매우 커진 버전이다\n",
    "\n",
    "`-` 어떤 정삼각형에서 $4$번째 뒤에 위치한 정삼각형은 해당 정삼각형과 일직선을 이룬다\n",
    "\n",
    "`-` $N$번째 정삼각형은 $N-1$번째 정삼각형과 그로부터 $4$번째 이전인 $N-5$번째 정삼각형으로부터 만들어진다\n",
    "\n",
    "`-` 따라서 $P(N)$을 $N$번째 정삼각형의 길이라고 할 때 $P(N) = P(N-1) + P(N-5)$이다\n",
    "\n",
    "`-` $N$이 클 때 $P(N)$을 빠르게 계산하기 위해 점화식을 행렬 형태로 바꾸고 거듭 제곱을 활용해야 한다\n",
    "\n",
    "`-` 그런데 위의 점화식을 행렬로 바꾸지 못하겠다\n",
    "\n",
    "`-` $P(N-1)$과 $P(N-5)$로 $P(N)$을 만드는데 $P(N)$뿐만아니라 $P(N-4)$도 만들어야 행렬로 나타낼 수 있다\n",
    "\n",
    "`-` 그래야 $P(N)$과 $P(N-4)$를 바탕으로 $P(N+1)$과 $P(N-3)$을 만들고 이를 재귀적으로 이어나갈 수 있다\n",
    "\n",
    "`-` 그런데 $P(N-4)$를 표현할 방법이 도저히 떠오르지 않는다\n",
    "\n",
    "`-` 그래서 내가 예전에 [파도반 수열](https://www.acmicpc.net/problem/9461) 문제를 어떻게 풀었는지 확인했다\n",
    "\n",
    "`-` 예전엔 점화식으로 $P(N) = P(N-2) + P(N-3)$을 사용했다\n",
    "\n",
    "`-` 점화식에서 항들의 간격이 같아야 내 능력 선에서 행렬로 나타낼 수 있을 것 같다\n",
    "\n",
    "`-` $N, N-1,N-5$와 $N,N-2,N-3$ 둘 다 간격이 동일하지 않다\n",
    "\n",
    "`-` 식을 어떻게든 변형하여 항들의 간격을 동일하게 만들어보자\n",
    "\n",
    "`-` 두 점화식으로부터 $P(N-2) + P(N-3) = P(N-1) + P(N-5)$\n",
    "\n",
    "`-` $N-2$ 대신 $N$을 대입하면 $P(N) + P(N-1) = P(N+1) + P(N-3)$\n",
    "\n",
    "`-` 그런데 $P(N) = P(N-1) + P(N-5)$이므로 $P(N-1) + P(N-5) + P(N-1) = P(N+1) + P(N-3)$\n",
    "\n",
    "`-` $P(N+1) = 2P(N-1) - P(N-3) + P(N-5)$이고 $N+1$ 대신 $N$을 대입하면 $P(N) = 2P(N-2) - P(N-4) + P(N-6)$이다\n",
    "\n",
    "`-` 항들의 간격이 모두 $2$로 같다\n",
    "\n",
    "`-` 이 점화식을 행렬로 나타내면 다음과 같다\n",
    "\n",
    "`-` $\\begin{pmatrix}p_{n} \\\\ p_{n-2} \\\\ p_{n-4}\\end{pmatrix}=\\begin{pmatrix}2 & -1 & 1\\\\ 1 & 0 & 0 \\\\ 0 & 1 & 0\\end{pmatrix}\\begin{pmatrix} p_{n-2} \\\\  p_{n-4} \\\\ p_{n-6}\\end{pmatrix}$\n",
    "\n",
    "`-` $\\begin{pmatrix}2 & -1 & 1\\\\ 1 & 0 & 0 \\\\ 0 & 1 & 0\\end{pmatrix}$과 계속 곱해나가면 점화식이 전개되므로 아래와 같이 나타낼 수 있다\n",
    "\n",
    "`-` $\\begin{pmatrix}p_{2k+5} \\\\ p_{2k+3} \\\\ p_{2k+1}\\end{pmatrix}=\\begin{pmatrix}2 & -1 & 1\\\\ 1 & 0 & 0 \\\\ 0 & 1 & 0\\end{pmatrix}^k\\begin{pmatrix} p_5 \\\\  p_3 \\\\ p_1\\end{pmatrix}$\n",
    "\n",
    "`-` $\\begin{pmatrix}p_{2k+6} \\\\ p_{2k+4} \\\\ p_{2k+2}\\end{pmatrix}=\\begin{pmatrix}2 & -1 & 1\\\\ 1 & 0 & 0 \\\\ 0 & 1 & 0\\end{pmatrix}^k\\begin{pmatrix} p_6 \\\\  p_4 \\\\ p_2\\end{pmatrix}$\n",
    "\n",
    "`-` $N$이 홀수이고 $k=\\frac{N-5}{2}$일 때 $P(N)$은 $\\begin{pmatrix}2 & -1 & 1\\\\ 1 & 0 & 0 \\\\ 0 & 1 & 0\\end{pmatrix}^k\\begin{pmatrix} p_5 \\\\  p_3 \\\\ p_1\\end{pmatrix}$의 첫 번째 행의 값이다\n",
    "\n",
    "`-` $p_1=1, p_3=1, p_5=2$이다\n",
    "\n",
    "`-` $N$이 짝수이고 $k=\\frac{N-6}{2}$일 때 $P(N)$은 $\\begin{pmatrix}2 & -1 & 1\\\\ 1 & 0 & 0 \\\\ 0 & 1 & 0\\end{pmatrix}^k\\begin{pmatrix} p_6 \\\\  p_4 \\\\ p_2\\end{pmatrix}$의 첫 번째 행의 값이다\n",
    "\n",
    "`-` $p_2=1, p_4=2, p_6=3$이다\n",
    "\n",
    "`-` 행렬의 거듭 제곱은 분할 정복을 통해 $O(\\log N)$에 계산 가능하다"
   ]
  },
  {
   "cell_type": "code",
   "execution_count": 5,
   "id": "6fc596d7-be09-4d15-b692-759da60a8f3e",
   "metadata": {},
   "outputs": [
    {
     "name": "stdin",
     "output_type": "stream",
     "text": [
      " 3\n",
      " 6\n"
     ]
    },
    {
     "name": "stdout",
     "output_type": "stream",
     "text": [
      "3\n"
     ]
    },
    {
     "name": "stdin",
     "output_type": "stream",
     "text": [
      " 12\n"
     ]
    },
    {
     "name": "stdout",
     "output_type": "stream",
     "text": [
      "16\n"
     ]
    },
    {
     "name": "stdin",
     "output_type": "stream",
     "text": [
      " 100\n"
     ]
    },
    {
     "name": "stdout",
     "output_type": "stream",
     "text": [
      "417590727\n"
     ]
    }
   ],
   "source": [
    "def mutiply(x, y):\n",
    "    return x * y\n",
    "\n",
    "\n",
    "def matrix_multiple(matrix1, matrix2, mod):\n",
    "    n = len(matrix1)\n",
    "    m = len(matrix2[0])\n",
    "    matrix = [[0 for _ in range(m)] for _ in range(n)]\n",
    "    for i, vector1 in enumerate(matrix1):\n",
    "        for j, vector2 in enumerate(zip(*matrix2)):\n",
    "            matrix[i][j] += sum(map(mutiply, vector1, vector2)) % mod\n",
    "        matrix[i][j] %= mod\n",
    "    return matrix\n",
    "\n",
    "\n",
    "def matrix_pow(matrix, power, mod):\n",
    "    if power == 1:\n",
    "        return matrix\n",
    "    half = matrix_pow(matrix, power // 2, mod)\n",
    "    result = matrix_multiple(half, half, mod)\n",
    "    if power % 2 == 1:\n",
    "        result = matrix_multiple(matrix, result, mod)\n",
    "    return result\n",
    "\n",
    "\n",
    "def solve_testcase():\n",
    "    N = int(input())\n",
    "    p_n = [0, 1, 1, 1, 2, 2, 3]\n",
    "    if N <= 6:\n",
    "        print(p_n[N])\n",
    "        return\n",
    "    P = 998244353\n",
    "    matrix = [[2, -1, 1], [1, 0, 0], [0, 1, 0]]\n",
    "    odd_matrix = [[2], [1], [1]]\n",
    "    even_matrix = [[3], [2], [1]]\n",
    "    if N % 2 == 1:\n",
    "        k = (N - 5) // 2\n",
    "        pn_matrix = odd_matrix\n",
    "    else:\n",
    "        k = (N - 6) // 2\n",
    "        pn_matrix = even_matrix\n",
    "    result = matrix_pow(matrix, k, P)\n",
    "    result = matrix_multiple(result, pn_matrix, P)  # 3 X 1 행렬\n",
    "    answer = result[0][0]\n",
    "    print(answer)\n",
    "\n",
    "\n",
    "def solution():\n",
    "    T = int(input())\n",
    "    for _ in range(T):\n",
    "        solve_testcase()\n",
    "\n",
    "\n",
    "solution()\n",
    "\n",
    "# input\n",
    "# 3\n",
    "# 6\n",
    "# 12\n",
    "# 100"
   ]
  },
  {
   "cell_type": "markdown",
   "id": "bd54a3d4-5d20-42e1-ae83-2e32e38b94bb",
   "metadata": {},
   "source": [
    "## 너 봄에는 캡사이신이 맛있단다\n",
    "\n",
    "- 문제 출처: [백준 15824번](https://www.acmicpc.net/problem/15824)"
   ]
  },
  {
   "cell_type": "markdown",
   "id": "e00e8e62-09d9-4ee4-8f15-05ae654294ab",
   "metadata": {},
   "source": [
    "`-` 두 스코빌 지수의 차이만큼 매운맛을 느끼므로 $1$개의 메뉴만 고르는 것은 의미 없다\n",
    "\n",
    "`-` 각 메뉴는 임의의 조합에 대해 최댓값이거나 최솟값이거나 아무것도 아니다\n",
    "\n",
    "`-` $\\text{주헌고통지수} = \\text{최댓값} - \\text{최솟값}$이므로 최댓값이라면 스코빌 지수를 총 주헌고통지수에 더해주고 최솟값이라면 차감한다\n",
    "\n",
    "`-` 스코빌 지수에 따라 메뉴를 오름차순 정렬하자\n",
    "\n",
    "`-` 고유한 스코빌 지수를 가진 메뉴가 총 $N$개일 때 스코빌 지수가 가장 높은 메뉴가 조합에 포함되는 것을 생각해보자\n",
    "\n",
    "`-` 가장 매운 메뉴와 $N-1$개의 메뉴를 어떻게 조합하더라도 스코빌 지수의 최댓값은 가장 매운 메뉴이다\n",
    "\n",
    "`-` 조합에는 적어도 $2$개가 있어야 하므로 $N-1$개의 메뉴에서 $1$개부터 $N-1$개까지 선택해 조합을 구성할 수 있다\n",
    "\n",
    "`-` 이는 ${_{N-1}\\rm C_{1}} + {_{N-1}\\rm C_{2}} + \\cdots + {_{N-1}\\rm C}_{N-1} = 2^{N-1}-{_{N-1}\\rm C_{0}} = 2^{N-1}-1$이다\n",
    "\n",
    "`-` $N-1$개의 원소에서 $x$를 뽑는 조합을 고려하자\n",
    "\n",
    "`-` $x$는 $0$부터 $N-1$까지 가능하며 이들을 모두 더하면 가능한 모든 조합을 고려한 것이다\n",
    "\n",
    "`-` $N-1$개의 원소 각각은 뽑히거나 뽑히지 않거나 둘 중 하나이다\n",
    "\n",
    "`-` 따라서 $2$가지의 상태를 가지니 총 경우의 수는 $2^{N-1}$이다\n",
    "\n",
    "`-` 메뉴 구성에선 적어도 $1$개의 원소를 골라야 하므로 $0$개의 원소를 고르는 사건만 총 경우의 수에서 제외하면 이와 동일하다\n",
    "\n",
    "`-` 결과적으로 가장 매운 메뉴를 포함한 조합은 $2^{N-1}-1$개 존재하니 해당 메뉴의 스코빌 지수를 $s$라 할 때 $s2^{N-1}-s$만큼 총 주헌고통지수에 합산된다\n",
    "\n",
    "`-` 이를 일반화하면 $N$개의 메뉴 중 $k$번째로 매운 메뉴가 조합에서 가장 매운 것인 경우의 수는 $2^{N-k}-1$이다\n",
    "\n",
    "`-` 가장 안 매운 메뉴는 총 주헌고통지수에서 해당 메뉴의 스코빌 지수만큼 차감해야 한다\n",
    "\n",
    "`-` 이는 가장 매운 메뉴를 고려한 것과 거의 비슷하게 수행할 수 있다\n",
    "\n",
    "`-` $N$개의 메뉴 중 $k$번째로 안 매운 메뉴가 조합에서 가장 안 매운 것인 경우의 수는 $2^{N-k}-1$이다\n",
    "\n",
    "`-` 경우의 수와 스코빌 지수를 곱한 값을 총 주헌고통지수에서 차감하면 된다\n",
    "\n",
    "`-` $2^N$계산은 분할 정복을 통해 $O(\\log N)$에 계산 가능하다\n",
    "\n",
    "`-` 총 $N$개의 메뉴에 대해 거듭 제곱을 계산해야 하므로 총 알고리즘의 시간 복잡도는 $O(N\\log N)$이다\n",
    "\n",
    "`-` 계속 틀려서 질문 검색에서 반례를 찾아봤다\n",
    "\n",
    "`-` 반례를 찾긴 했는데 원인을 20분 동안 못 찾다가 드디어 알아냈다\n",
    "\n",
    "`-` 스코빌 지수를 입력받을 때 $P=10^9+7$로 나눈 나머지로 입력을 받았다\n",
    "\n",
    "`-` 근데 그러면 $P$보다 큰 값은 $P$보다 작아지게 되고 원래의 스코빌 지수 순서가 바뀌게 된다\n",
    "\n",
    "`-` 당연히 올바른 정답을 도출할 수 없게 된다\n",
    "\n",
    "`-` 그래서 정렬을 한 뒤 $P$로 나누게 바꿨다\n",
    "\n",
    "`-` 근데 시간 초과로 틀렸다\n",
    "\n",
    "`-` 조합의 최댓값과 최솟값을 계산할 때 $2^k$를 계산하는데 사실 최댓값에 대해서 $2^k$을 계산했으면 최솟값은 미리 계산해둔 값을 사용하면 된다\n",
    "\n",
    "`-` $2^1$부터 탐색하냐 $2^{N-1}$부터 탐색하냐의 차이이므로 값의 차이는 없다\n",
    "\n",
    "`-` 계산한 값을 메모이제이션 해서 시간 초과를 면했다"
   ]
  },
  {
   "cell_type": "code",
   "execution_count": 89,
   "id": "41459cc2-d0af-4949-b24e-06263511b9d2",
   "metadata": {},
   "outputs": [
    {
     "name": "stdin",
     "output_type": "stream",
     "text": [
      " 6\n",
      " 1 4 5 5 6 10\n"
     ]
    },
    {
     "name": "stdout",
     "output_type": "stream",
     "text": [
      "307\n"
     ]
    }
   ],
   "source": [
    "def power(a, b, c, dp):\n",
    "    if(a, b) in dp:\n",
    "        return dp[(a, b)]\n",
    "    a = a % c\n",
    "    if b == 0:\n",
    "        return 1 % c\n",
    "    if b == 1:\n",
    "        return a\n",
    "    half = power(a, b // 2, c, dp)\n",
    "    result = (half * half) % c\n",
    "    if b % 2 == 0:\n",
    "        return result\n",
    "    return (a * result) % c\n",
    "\n",
    "\n",
    "def solution():\n",
    "    N = int(input())\n",
    "    P = 10**9 + 7\n",
    "    dp = {}\n",
    "    scores = list(map(int, input().split()))\n",
    "    scores.sort()\n",
    "    total = 0\n",
    "    for k, s in enumerate(scores, start=1):\n",
    "        s = s % P\n",
    "        dp[(2, k - 1)] = power(2, k - 1, P, dp)\n",
    "        dp[(2, N - k)] = power(2, N - k, P, dp)\n",
    "        total += s * (dp[(2, k - 1)] - 1)\n",
    "        total -= s * (dp[(2, N - k)] - 1)\n",
    "        total %= P\n",
    "    print(total)\n",
    "\n",
    "\n",
    "solution()\n",
    "\n",
    "# input\n",
    "# 6\n",
    "# 1 4 5 5 6 10"
   ]
  },
  {
   "cell_type": "markdown",
   "id": "32c911ab-1fba-4f2e-991f-e7b6db496f0f",
   "metadata": {},
   "source": [
    "## 공장\n",
    "\n",
    "- 문제 출처: [백준 7578번](https://www.acmicpc.net/problem/7578)"
   ]
  },
  {
   "cell_type": "markdown",
   "id": "c842cffc-dc7b-473d-a2db-75391d49dfcc",
   "metadata": {},
   "source": [
    "`-` 보자마자 바로 counting inversions 문제인 걸 알았다\n",
    "\n",
    "`-` 식별번호를 $A$에서 해당 식별번호가 등장한 인덱스로 변경할 것이다\n",
    "\n",
    "`-` 어차피 같은 식별번호의 기계가 케이블로 연결되어 있으니 번호를 바꾸는 건 상관없다 (둘 다 바꾸는 것)\n",
    "\n",
    "`-` 즉, $A$에서 처음 등장한 식별번호는 $0$이 되며 $N$번째 등장한 식별번호는 $N-1$이 된다\n",
    "\n",
    "`-` 이를 바탕으로 $B$의 식별번호를 재지정하자\n",
    "\n",
    "`-` 예컨대 $4, 0, 1, 3, 2, 5$와 같이 될 수 있다\n",
    "\n",
    "`-` 이제 $B$의 식별번호에서 인버젼의 개수를 세면 된다\n",
    "\n",
    "`-` 인버젼이란 배열에서 인덱스 $i,j$에 대해 $i < j$일 때 $B[i] > B[j]$를 만족하는 $(i,j)$이다 \n",
    "\n",
    "`-` 인버젼의 개수는 병합 정렬에서 왼쪽, 오른쪽 그룹을 병합할 때 셀 수 있다 (병합 정렬은 stable)\n",
    "\n",
    "`-` 오름차순으로 정렬되어 있다면 왼쪽 그룹을 모두 넣고 오른쪽 그룹을 넣겠지만 인버젼이 존재하면 왼쪽 그룹의 원소가 남았어도 오른쪽 그룹의 원소를 넣을 것이다\n",
    "\n",
    "`-` 즉, 오른쪽 그룹의 원소를 넣었다면 남아있는 왼쪽 그룹의 원소 개수만큼 인버젼이 존재한다\n",
    "\n",
    "`-` 왜냐하면 남아있는 왼쪽 그룹의 모든 원소가 지금 넣는 오른쪽 그룹의 원소보다 큰데 오른쪽 그룹의 원소는 왼쪽 그룹의 원소보다 오른쪽에 있기 때문이다\n",
    "\n",
    "`-` 병합 정렬의 시간 복잡도는 $O(N\\log N)$이다"
   ]
  },
  {
   "cell_type": "code",
   "execution_count": 1,
   "id": "4b76f61f-a1f4-40bc-9892-b26cbe31c676",
   "metadata": {},
   "outputs": [
    {
     "name": "stdin",
     "output_type": "stream",
     "text": [
      " 5\n",
      " 132 392 311 351 231\n",
      " 392 351 132 311 231\n"
     ]
    },
    {
     "name": "stdout",
     "output_type": "stream",
     "text": [
      "3\n"
     ]
    }
   ],
   "source": [
    "def merge_sort(array, start, end):\n",
    "    if end <= start:\n",
    "        return array[start:end + 1]\n",
    "    mid = (start + end) // 2\n",
    "    left = merge_sort(array, start, mid)\n",
    "    right = merge_sort(array, mid + 1, end)\n",
    "    return merge(left, right)\n",
    "\n",
    "\n",
    "def merge(left, right):\n",
    "    global NUM_INVERSIONS\n",
    "    i = 0\n",
    "    j = 0\n",
    "    sorted_array = []\n",
    "    while i < len(left) and j < len(right):\n",
    "        if left[i] <= right[j]:\n",
    "            sorted_array.append(left[i])\n",
    "            i += 1\n",
    "        else:\n",
    "            sorted_array.append(right[j])\n",
    "            j += 1\n",
    "            NUM_INVERSIONS += len(left) - i\n",
    "    while i < len(left):\n",
    "        sorted_array.append(left[i])\n",
    "        i += 1\n",
    "    while j < len(right):\n",
    "        sorted_array.append(right[j])\n",
    "        j += 1\n",
    "    return sorted_array\n",
    "\n",
    "\n",
    "def solution():\n",
    "    global NUM_INVERSIONS\n",
    "    N = int(input())\n",
    "    A = list(map(int, input().split()))\n",
    "    B = list(map(int, input().split()))\n",
    "    A = {a: i for i, a in enumerate(A)}\n",
    "    B = [A[b] for b in B]\n",
    "    NUM_INVERSIONS = 0\n",
    "    merge_sort(B, 0, N - 1)\n",
    "    print(NUM_INVERSIONS)\n",
    "\n",
    "\n",
    "solution()\n",
    "\n",
    "# input\n",
    "# 5\n",
    "# 132 392 311 351 231\n",
    "# 392 351 132 311 231"
   ]
  },
  {
   "cell_type": "code",
   "execution_count": null,
   "id": "d34d0d78-54d4-4da2-a276-3d0ed88bceeb",
   "metadata": {},
   "outputs": [],
   "source": []
  }
 ],
 "metadata": {
  "kernelspec": {
   "display_name": "Python 3 (ipykernel)",
   "language": "python",
   "name": "python3"
  },
  "language_info": {
   "codemirror_mode": {
    "name": "ipython",
    "version": 3
   },
   "file_extension": ".py",
   "mimetype": "text/x-python",
   "name": "python",
   "nbconvert_exporter": "python",
   "pygments_lexer": "ipython3",
   "version": "3.8.11"
  }
 },
 "nbformat": 4,
 "nbformat_minor": 5
}
