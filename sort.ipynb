{
 "cells": [
  {
   "cell_type": "markdown",
   "id": "89702790-8a4c-4ac5-a3ec-11d531f852aa",
   "metadata": {},
   "source": [
    "# 정렬 (Sort)"
   ]
  },
  {
   "cell_type": "markdown",
   "id": "7ed758a1-9114-4464-b3af-335b907adb58",
   "metadata": {},
   "source": [
    "## 수 정렬하기 1\n",
    "\n",
    "`-` N개의 수가 주어졌을 때, 이를 오름차순으로 정렬하는 프로그램을 작성하시오"
   ]
  },
  {
   "cell_type": "markdown",
   "id": "03498d3d-3394-4452-8270-c68b45fc0e82",
   "metadata": {},
   "source": [
    "`-` 선택 정렬"
   ]
  },
  {
   "cell_type": "code",
   "execution_count": 4,
   "id": "b0a96c32-3530-4ff5-8f0b-7e3a9fd83ce1",
   "metadata": {},
   "outputs": [
    {
     "name": "stdin",
     "output_type": "stream",
     "text": [
      " 5\n",
      " 5\n",
      " 2\n",
      " 3\n",
      " 4\n",
      " 1\n"
     ]
    },
    {
     "name": "stdout",
     "output_type": "stream",
     "text": [
      "1\n",
      "2\n",
      "3\n",
      "4\n",
      "5\n"
     ]
    }
   ],
   "source": [
    "N = int(input())\n",
    "List = []\n",
    "\n",
    "for i in range(N):\n",
    "    num = int(input())\n",
    "    List.append(num)\n",
    "\n",
    "n = len(List)\n",
    "\n",
    "for j in range(n):\n",
    "    min_idx = j\n",
    "    \n",
    "    for k in range(j + 1, n):\n",
    "        if List[k] < List[min_idx]:\n",
    "            min_idx = k\n",
    "            \n",
    "    List[j], List[min_idx] = List[min_idx], List[j]\n",
    "    \n",
    "    print(List[j])\n",
    "    \n",
    "# input\n",
    "# 5\n",
    "# 5\n",
    "# 2\n",
    "# 3\n",
    "# 4\n",
    "# 1"
   ]
  },
  {
   "cell_type": "markdown",
   "id": "55cb5248-1d14-440d-93b5-f99f4468aaf4",
   "metadata": {},
   "source": [
    "`-` 내장 함수 `?.sort()`"
   ]
  },
  {
   "cell_type": "code",
   "execution_count": 5,
   "id": "19d3f83e-b010-44fd-867e-1be2b25c5a41",
   "metadata": {},
   "outputs": [
    {
     "name": "stdin",
     "output_type": "stream",
     "text": [
      " 5\n",
      " 5\n",
      " 4\n",
      " 3\n",
      " 1\n",
      " 2\n"
     ]
    },
    {
     "name": "stdout",
     "output_type": "stream",
     "text": [
      "1\n",
      "2\n",
      "3\n",
      "4\n",
      "5\n"
     ]
    }
   ],
   "source": [
    "N = int(input())\n",
    "List = []\n",
    "\n",
    "for i in range(N):\n",
    "    num = int(input())\n",
    "    List.append(num)\n",
    "\n",
    "List.sort()\n",
    "\n",
    "for j in range(len(List)):\n",
    "    print(List[j])\n",
    "    \n",
    "# input은 위와 동일"
   ]
  },
  {
   "cell_type": "markdown",
   "id": "176833b7-d406-4a64-8e4d-b309a7de9754",
   "metadata": {},
   "source": [
    "## 수 정렬하기 2\n",
    "\n",
    "- N개의 수가 주어졌을 때, 이를 오름차순으로 정렬하는 프로그램을 작성하시오"
   ]
  },
  {
   "cell_type": "markdown",
   "id": "c12deafb-bb44-457d-89e5-1c0b73382d0c",
   "metadata": {},
   "source": [
    "`-` 아래의 병합 정렬 코드는 시간초과임\n",
    "\n",
    "`-` 왜냐하면 리스트의 길이가 매우 긴데 재귀 함수를 사용했기 때문\n",
    "\n",
    "`-` 재귀 함수 호출이 매우 많이 일어나서 시간이 오래 걸림\n",
    "\n",
    "`-` 그래서 재귀 함수 없는 코드로 짜봤는데 시간 초과 ---> 그냥 파이썬이 느림\n",
    "\n",
    "`-` pop(0)이 문제였음 ---> $O(N)$\n",
    "\n",
    "`-` 그래서 pop()를 안쓰고 코드를 구성"
   ]
  },
  {
   "cell_type": "markdown",
   "id": "df4260b7-997e-4837-8748-6c9e943c5dbf",
   "metadata": {},
   "source": [
    "```python\n",
    "N = int(input())\n",
    "\n",
    "unsorted_list = []\n",
    "for i in range(N):\n",
    "    unsorted_list.append(int(input()))\n",
    "    \n",
    "def merge_sort(x):\n",
    "    if len(x) <= 1:\n",
    "        return x\n",
    "    \n",
    "    mid = len(x) // 2\n",
    "    left = x[:mid]\n",
    "    right = x[mid:]\n",
    "    \n",
    "    left1 = merge_sort(left)\n",
    "    right1 = merge_sort(right)\n",
    "    return merge(left1, right1)\n",
    "\n",
    "def merge(left, right):\n",
    "    sorted_list = []\n",
    "    \n",
    "    while left and right:\n",
    "        if left[0] < right[0]:\n",
    "            sorted_list.append(left.pop(0))\n",
    "        else:\n",
    "            sorted_list.append(right.pop(0))\n",
    "            \n",
    "    while left:\n",
    "        sorted_list.append(left.pop(0))\n",
    "        \n",
    "    while right:\n",
    "        sorted_list.append(right.pop(0))\n",
    "        \n",
    "    return sorted_list\n",
    "\n",
    "sort_list = merge_sort(unsorted_list)\n",
    "\n",
    "for i in range(N):\n",
    "    print(sort_list[i])\n",
    "```    "
   ]
  },
  {
   "cell_type": "markdown",
   "id": "fdb471a8-24ee-402a-9170-dd38a0762549",
   "metadata": {},
   "source": [
    "`-` python은 시간 초과여서 pypy3로 제출해서 맞춤\n",
    "\n",
    "`-` 위 코드는 pypy3로 제출해도 시간 초과임"
   ]
  },
  {
   "cell_type": "code",
   "execution_count": 1,
   "id": "f83a2f66-424f-4447-a98a-dd5b8d660541",
   "metadata": {},
   "outputs": [
    {
     "name": "stdin",
     "output_type": "stream",
     "text": [
      " 5\n",
      " 5\n",
      " 4\n",
      " 3\n",
      " 2\n",
      " 1\n"
     ]
    },
    {
     "name": "stdout",
     "output_type": "stream",
     "text": [
      "1\n",
      "2\n",
      "3\n",
      "4\n",
      "5\n"
     ]
    }
   ],
   "source": [
    "N = int(input())\n",
    "\n",
    "unsorted_list = []\n",
    "for i in range(N):\n",
    "    unsorted_list.append(int(input()))\n",
    "    \n",
    "def mergeSort(x): ## 나누기\n",
    "    n = len(x)\n",
    "    if n <= 1:\n",
    "        return x\n",
    "    \n",
    "    mid = n // 2\n",
    "    left = x[:mid] ## mid를 기준으로 왼쪽\n",
    "    right = x[mid:] ## mid를 기준으로 오른쪽\n",
    "    \n",
    "    next_left = mergeSort(left) ## 재귀적으로 나누기\n",
    "    next_right = mergeSort(right) ## 재귀적으로 나누기\n",
    "    \n",
    "    return merge(next_left, next_right)\n",
    "\n",
    "\n",
    "def merge(left, right): ## 병합하기\n",
    "    i = 0 \n",
    "    j = 0\n",
    "    sorted_list = list()  \n",
    "    \n",
    "    while i < len(left) and j < len(right): ## left와 right중 더 작은 값 넣기\n",
    "        if left[i] < right[j]:\n",
    "            sorted_list.append(left[i])\n",
    "            i += 1\n",
    "        else:\n",
    "            sorted_list.append(right[j])\n",
    "            j += 1\n",
    "            \n",
    "    ## left와 right 중 남은 값을 넣어주기    \n",
    "    while i < len(left):\n",
    "        sorted_list.append(left[i])\n",
    "        i += 1\n",
    "        \n",
    "    while j < len(right):\n",
    "        sorted_list.append(right[j])\n",
    "        j += 1\n",
    "        \n",
    "    return sorted_list\n",
    "   \n",
    "sort_list = mergeSort(unsorted_list)\n",
    "\n",
    "for i in range(N):\n",
    "    print(sort_list[i])\n",
    "    \n",
    "# input\n",
    "# 5\n",
    "# 5\n",
    "# 4\n",
    "# 3\n",
    "# 2\n",
    "# 1"
   ]
  },
  {
   "cell_type": "markdown",
   "id": "73b2f82a-afd5-4700-8ccd-f28d293f0c5e",
   "metadata": {},
   "source": [
    "## 수 정렬하기 3\n",
    "\n",
    "`-` N개의 수가 주어졌을 때, 이를 오름차순으로 정렬하는 프로그램을 작성하시오\n",
    "\n",
    "`-` N은 최대 10000000, 10000보다 작거나 같은 자연수\n",
    "\n",
    "`-` 수 정렬하기 2와 다르게 메모리 제한이 있다"
   ]
  },
  {
   "cell_type": "markdown",
   "id": "3d95b6df-5ead-40c2-ab0e-f86e7962ff00",
   "metadata": {},
   "source": [
    "`-` 수 정렬하기 2에서 사용했던 코드는 메모리 제한에 걸림\n",
    "\n",
    "`-` 힌트를 보고 생각했음\n",
    "\n",
    "`-` 그런데 생각해보면 메모리가 8MB 이다\n",
    "\n",
    "`-` N이 최대 10000000이면 short형(2byte, c언어)를 쓰더라도 20000000byte로 20MB이다 ---> 메모리 초과\n",
    "\n",
    "`-` 근데 N이 10000000이라고 하면 적어도 어느 자연수 하나는 1000번 이상 등장함(비둘기집 원리)\n",
    "\n",
    "`-` 그러면 1~10000까지 번호를 새긴 깡통을 만들어두고 input으로 등장한 숫자와 같은 번호의 깡통에 투표를 하는 매커니즘으로 생각하면 어떨까\n",
    "\n",
    "`-` [0]*10001인 리스트를 만듦. 등장한 숫자가 i라면 list의 i번째 요소의 값을 1씩 증가시킴\n",
    "\n",
    "`-` 최종적으로 리스트의 처음 인덱스부터 끝까지 value만큼 출력한다\n",
    "\n",
    "`-` 10000000크기의 list를 만드는 대신에 10000크기의 list를 만듦 ---> 메모리 소비 줄임\n",
    "\n",
    "`-` `input()` 대신 `sys.stdin.readline()` 사용, 근데 왜 나는 `sys.stdin.readline()`가 error가 날까... ---> 그래서 사용을 안하는 버릇생김 \n",
    "\n",
    "`-` `Test는 input()으로 해도 제출은 sys.stdin.readline()로 하는 습관 가지기`"
   ]
  },
  {
   "cell_type": "markdown",
   "id": "02646a1b-d5e2-440d-9009-11f0df362c9e",
   "metadata": {},
   "source": [
    "- 이 코드는 메모리 초과임\n",
    "\n",
    "`-` arr[i] = 0이어도 뒤에 for문을 실행한다\n",
    "\n",
    "`-` arr[i] = 0이면 pass 하도록 아래와 같이 코드를 바꿨다"
   ]
  },
  {
   "cell_type": "code",
   "execution_count": 15,
   "id": "7444ea82-5f0f-44f5-9036-1ec100b1d667",
   "metadata": {},
   "outputs": [
    {
     "name": "stdin",
     "output_type": "stream",
     "text": [
      " 5\n",
      " 1\n",
      " 5\n",
      " 5\n",
      " 2\n",
      " 4\n"
     ]
    },
    {
     "name": "stdout",
     "output_type": "stream",
     "text": [
      "1\n",
      "2\n",
      "4\n",
      "5\n",
      "5\n"
     ]
    }
   ],
   "source": [
    "arr = [0] * 10001\n",
    "\n",
    "N = int(input())\n",
    "for i in range(N):\n",
    "    arr[int(input())] += 1\n",
    "\n",
    "for i in range(1, 10001):\n",
    "    for j in range(arr[i]):\n",
    "        print(i)\n",
    "\n",
    "# input\n",
    "# 5\n",
    "# 1\n",
    "# 5\n",
    "# 5\n",
    "# 2\n",
    "# 4"
   ]
  },
  {
   "cell_type": "markdown",
   "id": "dae1ee8d-0112-4c49-bc3a-acfd9c44c83c",
   "metadata": {},
   "source": [
    "`-` 문제를 보니 카운팅 정렬로 해결하는 문제였다 ---> 카운팅 정렬 공부해야지"
   ]
  },
  {
   "cell_type": "markdown",
   "id": "0a3d3825-a591-4d98-81e6-5a1e22a08010",
   "metadata": {},
   "source": [
    "## 통계학\n",
    "\n",
    "- 문제 출처:[백준 2108번](https://www.acmicpc.net/problem/2108)"
   ]
  },
  {
   "cell_type": "markdown",
   "id": "2b46ae75-2428-473c-be3d-9e0db84fb3d2",
   "metadata": {},
   "source": [
    "`-` 이 코드는 잘못된 코드임\n",
    "\n",
    "`-` while문에서 빠져나오지 못함\n",
    "\n",
    "`-` 처음에는 while문만 보다가 while문은 이상한점이 없어서 처음부터 다시 봤음\n",
    "\n",
    "`-` 처음에 입력을 받는 부분이 잘못됨. 양수와 음수를 구별하는 if-else코드가 for문안에 들어가야 한다\n",
    "\n",
    "`-` 그렇지 않으면 입력을 받아 저장하는 x가 counting되지 않음\n",
    "\n",
    "`-` 또 문제가 있음 while문에서 k+1을 쓰면 무한loop에 빠지고 4001을 써야함(이유는 자고 일어나서..)\n",
    "\n",
    "`-` 이유를 찾았다\n",
    "```python\n",
    "for k in range(neg_nums[i]):\n",
    "    val_sum -= i\n",
    "```\n",
    "\n",
    "`-` for문에 변수로 k를 사용해서 k값이 4000에서 다른값으로 변한 것 ---> 변수명 안겹치게 하기"
   ]
  },
  {
   "cell_type": "code",
   "execution_count": 5,
   "id": "ad5b173a-45fa-45e0-86bc-eba37687f448",
   "metadata": {},
   "outputs": [
    {
     "name": "stdout",
     "output_type": "stream",
     "text": [
      "for문을 통과하기 전 x값은 10이다\n",
      "for문을 통과한 후 x값은 4이다\n"
     ]
    }
   ],
   "source": [
    "x = 10\n",
    "print(f'for문을 통과하기 전 x값은 {x}이다')\n",
    "for x in range(5):\n",
    "    pass\n",
    "print(f'for문을 통과한 후 x값은 {x}이다') ## 기존의 x는 10이었지만 for문을 거치고 4로 변했다"
   ]
  },
  {
   "cell_type": "markdown",
   "id": "dc6d1569-cbf5-4474-9b2b-5b31dc7e434a",
   "metadata": {},
   "source": [
    "`-` 또 문제가 있다\n",
    "\n",
    "`-` 중앙값이 제대로 출력되지 않음. 입력으로 1, 3, 8, -2, 2를 주어졌을 때 중앙값으로 8이 출력됨\n",
    "\n",
    "`-` while문에서 num < mid일 때만 수행하라고 했는데 왜지?? num이 mid보다 커져도 for문이 계속 작동하여 median = 8을 store함\n",
    "\n",
    "`-` 이유를 알고보니까 이런 거임. 내가 일을 시키는 입장인데 내가 주는 업무를 수행하는데 12시간 넘으면 쉬라고 명령함\n",
    "\n",
    "`-` 근데 업무로 일 40시간 하기를 시킴..\n",
    "\n",
    "`-` while문에서는 num < mid이면 탈출하라고 했음. True일 동안 for i in range(4001)을 수행해야 함\n",
    "\n",
    "`-` 근데 시킨 업무가 range(4001)여서 i가 0 부터 4000이 될동안 num도 mid보다 커지지만 일단 시킨 업무가 for i in range(4001)이라 멈출 수 없고 다 끝낸 뒤 num >= min여서 while문 탈출\n",
    "\n",
    "`-` 또 문제가 있음...\n",
    "\n",
    "`-` 파이썬 round()를 하면 대부분 잘 작동함 근데 -1.5, -3.5같이 -?.5 (?은 홀수)의 경우에 제대로 값을 반환하지 않음\n",
    "\n",
    "`-` 또 2.5, 4.5 같이 ?.5(?은 짝수)의 경우 제대로 값을 반환하지 않음\n",
    "\n",
    "`-` -1.5를 반올림하면 -1이 맞지만 round(-1.5)는 -2를 return한다. 또 2.5를 반올림하면 2가 맞지만 round(2.5)는 2를 return한다\n",
    "\n",
    "`-` 파이썬에서는 반올림 자리가 5인 경우, 앞자리가 홀수면 올림, 짝수면 버림을 한다. 이를 고려해주어야 한다\n",
    "\n",
    "`-` 진짜 마지막으로 에러가 하나 있었다\n",
    "\n",
    "`-` 범위를 구하는 곳에서 오류가 있었는데 입력으로 0, 0, 0, -1, -2 가 주어지면 2가 출력되야 하지만 1이 출력됐다\n",
    "\n",
    "`-` 왜냐하면 양수로 0이 입력됐지만 max_pos = 0이기 때문\n",
    "\n",
    "`-` 그래서 양수는 입력되지 않았다고 판단하여 -1 - (-2) = 1을 범위로 output함"
   ]
  },
  {
   "cell_type": "markdown",
   "id": "5e2d6c44-d094-4c32-a327-ed27cc640c46",
   "metadata": {},
   "source": [
    "```python\n",
    "N = int(input())\n",
    "k = 4000\n",
    "pos_nums = [0] * (k+1) \n",
    "neg_nums = [0] * (k+1)\n",
    "\n",
    "for _ in range(N):\n",
    "    x = int(input())\n",
    "if x >= 0:\n",
    "    pos_nums[x] += 1\n",
    "    \n",
    "else:\n",
    "    neg_nums[-x] += 1\n",
    "\n",
    "val_sum = 0\n",
    "min_pos = 0\n",
    "max_neg = 0\n",
    "max_pos = 0\n",
    "min_neg = 0\n",
    "\n",
    "for i in range(k+1):\n",
    "    if pos_nums[i] != 0:\n",
    "        max_pos = i\n",
    "        if min_pos == 0:\n",
    "            min_pos += i\n",
    "        for j in range(pos_nums[i]):\n",
    "            val_sum += i\n",
    "            \n",
    "for i in range(k+1):            \n",
    "    if neg_nums[i] != 0:\n",
    "        min_neg = -i\n",
    "        if max_neg == 0:\n",
    "            max_neg -= i\n",
    "        for k in range(neg_nums[i]):\n",
    "            val_sum -= i\n",
    "            \n",
    "mean = val_sum / N\n",
    "num_pos = sum(pos_nums)\n",
    "num_neg = sum(neg_nums)\n",
    "\n",
    "mid = (N + 1) // 2\n",
    "num = 0\n",
    "\n",
    "if num_pos >= num_neg:\n",
    "    mid -= num_neg\n",
    "    while num < mid:\n",
    "        for i in range(k+1):\n",
    "            if pos_nums[i] != 0:\n",
    "                for j in range(pos_nums[i]):\n",
    "                    num += 1 \n",
    "                median = i\n",
    "            \n",
    "else:\n",
    "    mid -= num_pos\n",
    "    while num < mid:\n",
    "        for i in range(k+1):\n",
    "            if neg_nums[i] != 0:\n",
    "                for j in range(neg_nums[i]):\n",
    "                    num += 1\n",
    "                median = -i\n",
    "\n",
    "range_ = 0\n",
    "if max_pos != 0 and min_neg != 0:\n",
    "    range_ = max_pos - min_neg\n",
    "    \n",
    "elif max_pos == 0:\n",
    "    range_ = max_neg - min_neg\n",
    "    \n",
    "elif min_neg == 0:\n",
    "    range_ = max_pos - min_pos\n",
    "    \n",
    "mode = []\n",
    "\n",
    "freq = max(pos_nums + neg_nums) \n",
    "\n",
    "for i in range(k+1):\n",
    "    if pos_nums[i] == freq:\n",
    "        mode.append(i)\n",
    "    if neg_nums[i] == freq:\n",
    "        mode.append(-i)\n",
    "\n",
    "if mode:\n",
    "    mode.remove(min(mode))\n",
    "    mode_ = min(mode)\n",
    "    \n",
    "else:\n",
    "    mode_ = min(mode)\n",
    "    \n",
    "print(mean)\n",
    "print(median)\n",
    "print(mode)\n",
    "print(range_)\n",
    "```"
   ]
  },
  {
   "cell_type": "markdown",
   "id": "b5c2ba1a-1509-4e78-82f7-2925555f0a42",
   "metadata": {},
   "source": [
    "`-` 위에서 잘못된 부분을 디버깅한 코드\n",
    "\n",
    "`-` 디버깅은 print()를 사용했는데 나중에 이에 대해 다뤄보자\n",
    "\n",
    "`-` 시간 초과 ---> input() 말고 sys.stdin.readline()써야함\n",
    "\n",
    "`-` 입력구문을 바꾸니 맞았다\n",
    "\n",
    "`-` 디버깅하느라 힘들었음"
   ]
  },
  {
   "cell_type": "code",
   "execution_count": 93,
   "id": "f8326fce-0a2e-4c2c-bef7-e7ab11109695",
   "metadata": {},
   "outputs": [
    {
     "name": "stdin",
     "output_type": "stream",
     "text": [
      " 5\n",
      " 1\n",
      " 3\n",
      " 8\n",
      " -2\n",
      " 2\n"
     ]
    },
    {
     "name": "stdout",
     "output_type": "stream",
     "text": [
      "2\n",
      "2\n",
      "1\n",
      "10\n"
     ]
    }
   ],
   "source": [
    "N = int(input())\n",
    "k = 4000\n",
    "pos_nums = [0] * (k+1) \n",
    "neg_nums = [0] * (k+1)\n",
    "\n",
    "for _ in range(N):\n",
    "    x = int(input())\n",
    "    \n",
    "    if x >= 0:\n",
    "        pos_nums[x] += 1\n",
    "    else:\n",
    "        neg_nums[-x] += 1\n",
    "    \n",
    "val_sum = 0\n",
    "min_pos = []\n",
    "max_neg = 0\n",
    "max_pos = 0\n",
    "min_neg = 0\n",
    "\n",
    "for i in range(k+1):\n",
    "    if pos_nums[i] != 0:\n",
    "        max_pos = i\n",
    "        if len(min_pos) < 1:\n",
    "            min_pos.append(i)\n",
    "        for j in range(pos_nums[i]):\n",
    "            val_sum += i\n",
    "            \n",
    "for i in range(1, k+1):            \n",
    "    if neg_nums[i] != 0:\n",
    "        min_neg = -i\n",
    "        if max_neg == 0:\n",
    "            max_neg -= i\n",
    "        for m in range(neg_nums[i]):\n",
    "            val_sum -= i\n",
    "\n",
    "## 산술평균\n",
    "\n",
    "def round2(number):\n",
    "    if number >= 0:\n",
    "        if number - int(number) >= 0.5:\n",
    "            a = 1\n",
    "        else:\n",
    "            a = 0\n",
    "        return int(number) + a\n",
    "    \n",
    "    else:\n",
    "        if int(number) - number > 0.5:\n",
    "            a = -1\n",
    "        else:\n",
    "            a = 0\n",
    "        return int(number) + a\n",
    "    \n",
    "mean = round2(val_sum / N)\n",
    "\n",
    "## 중앙값\n",
    "num_pos = sum(pos_nums)\n",
    "num_neg = sum(neg_nums)\n",
    "mid = (N + 1) // 2\n",
    "num = 0\n",
    "\n",
    "if num_pos >= num_neg:\n",
    "    mid -= num_neg\n",
    "    for i in range(k+1):\n",
    "        if pos_nums[i] != 0:\n",
    "            for j in range(pos_nums[i]):\n",
    "                num += 1 \n",
    "            median = i\n",
    "            if num >= mid:\n",
    "                break\n",
    "                \n",
    "else:\n",
    "    mid -= num_pos\n",
    "    for i in range(k+1):\n",
    "        if neg_nums[i] != 0:\n",
    "            for j in range(neg_nums[i]):\n",
    "                num += 1\n",
    "            median = -i\n",
    "            if num >= mid:\n",
    "                break\n",
    "\n",
    "## 범위\n",
    "range_ = 0\n",
    "if min_pos and min_neg != 0:\n",
    "    range_ = max_pos - min_neg\n",
    "    \n",
    "elif len(min_pos) < 1:\n",
    "    range_ = max_neg - min_neg\n",
    "    \n",
    "elif min_neg == 0:\n",
    "    range_ = max_pos - min_pos[0]\n",
    "\n",
    "## 최빈값    \n",
    "mode = []\n",
    "freq = max(pos_nums + neg_nums) \n",
    "\n",
    "for i in range(4001):\n",
    "    if pos_nums[i] == freq:\n",
    "        mode.append(i)\n",
    "    if neg_nums[i] == freq:\n",
    "        mode.append(-i)\n",
    "\n",
    "if len(mode) > 1:\n",
    "    mode.remove(min(mode))\n",
    "    mode_ = min(mode)\n",
    "    \n",
    "else: \n",
    "    mode_ = min(mode)\n",
    "    \n",
    "print(mean)\n",
    "print(median)\n",
    "print(mode_)\n",
    "print(range_)\n",
    "\n",
    "# input\n",
    "# 5\n",
    "# 1\n",
    "# 3\n",
    "# 8\n",
    "# -2\n",
    "# 2"
   ]
  },
  {
   "cell_type": "markdown",
   "id": "5736bf40-03b2-43dc-acdb-18a3064596ed",
   "metadata": {},
   "source": [
    "## 나이순 정렬\n",
    "- 문제 출처: [백준 10814번](https://www.acmicpc.net/problem/10814)"
   ]
  },
  {
   "cell_type": "code",
   "execution_count": 9,
   "id": "c99c011a-5654-4223-9f80-ace345e7e42d",
   "metadata": {},
   "outputs": [
    {
     "name": "stdin",
     "output_type": "stream",
     "text": [
      " 3\n",
      " 21 Junkyu\n",
      " 21 Dohyun\n",
      " 20 Sunyoung\n"
     ]
    },
    {
     "name": "stdout",
     "output_type": "stream",
     "text": [
      "20 Sunyoung\n",
      "21 Junkyu\n",
      "21 Dohyun\n"
     ]
    }
   ],
   "source": [
    "N = int(input())\n",
    "data = []\n",
    "\n",
    "for i in range(N):\n",
    "    member = list(input().split()) + [i]\n",
    "    member[0] = int(member[0])\n",
    "    data.append(member)\n",
    "    \n",
    "data.sort(key = lambda x: (x[0], x[2]))\n",
    "\n",
    "for j in range(N):\n",
    "    print(data[j][0], data[j][1])\n",
    "    \n",
    "# input\n",
    "# 3\n",
    "# 21 Junkyu\n",
    "# 21 Dohyun\n",
    "# 20 Sunyoung"
   ]
  },
  {
   "cell_type": "markdown",
   "id": "28e26a17-80cf-47ca-8dfa-c8ce2cec7b43",
   "metadata": {},
   "source": [
    "## 좌표 정렬하기\n",
    "\n",
    "- 문제 출처: [백준 11650번](https://www.acmicpc.net/problem/11650)"
   ]
  },
  {
   "cell_type": "code",
   "execution_count": 49,
   "id": "ccf907d4-5224-407b-a869-dd98039b8fcb",
   "metadata": {},
   "outputs": [
    {
     "name": "stdin",
     "output_type": "stream",
     "text": [
      " 5\n",
      " 3 4\n",
      " 1 1\n",
      " 1 -1\n",
      " 2 2\n",
      " 3 3\n"
     ]
    },
    {
     "name": "stdout",
     "output_type": "stream",
     "text": [
      "1 -1\n",
      "1 1\n",
      "2 2\n",
      "3 3\n",
      "3 4\n"
     ]
    }
   ],
   "source": [
    "n = int(input())\n",
    "x = sorted([list(map(int, input().split())) for _ in range(n)], key = lambda x: (x[0], x[1])) ## x[0]을 기준으로 오름차순, x[0]이 같으면 x[1]을 기준으로 오름차순\n",
    "for a, b in x:\n",
    "    print(a, b)"
   ]
  },
  {
   "cell_type": "markdown",
   "id": "9107fb12-0ceb-4152-a9f6-d208c4a31c7a",
   "metadata": {},
   "source": [
    "## 좌표 정렬하기2\n",
    "\n",
    "- 문제 출처: [백준 11651번](https://www.acmicpc.net/problem/11651)"
   ]
  },
  {
   "cell_type": "code",
   "execution_count": 51,
   "id": "bb9adf6f-b43c-469b-82b1-44392e7f9bf9",
   "metadata": {},
   "outputs": [
    {
     "name": "stdin",
     "output_type": "stream",
     "text": [
      " 5\n",
      " 0 4\n",
      " 1 2\n",
      " 1 -1\n",
      " 2 2\n",
      " 3 3\n"
     ]
    },
    {
     "name": "stdout",
     "output_type": "stream",
     "text": [
      "1 -1\n",
      "1 2\n",
      "2 2\n",
      "3 3\n",
      "0 4\n"
     ]
    }
   ],
   "source": [
    "n = int(input())\n",
    "x = sorted([list(map(int, input().split())) for _ in range(n)], key = lambda x: (x[1], x[0])) ## x[1]을 기준으로 오름차순, x[1]이 같으면 x[0]을 기준으로 오름차순\n",
    "for a, b in x:\n",
    "    print(a, b)"
   ]
  },
  {
   "cell_type": "markdown",
   "id": "d0039b70-5a7b-4fc9-b285-67c350cff3e4",
   "metadata": {},
   "source": [
    "## 좌표 압축\n",
    "\n",
    "- 문제 출처: [백준 18870번](https://www.acmicpc.net/problem/18870)"
   ]
  },
  {
   "cell_type": "code",
   "execution_count": 15,
   "id": "7f37d1a5-28ac-471e-8928-086d68b642d1",
   "metadata": {},
   "outputs": [
    {
     "name": "stdin",
     "output_type": "stream",
     "text": [
      " 5\n",
      " 2 4 -10 4 -9\n"
     ]
    },
    {
     "name": "stdout",
     "output_type": "stream",
     "text": [
      "2 3 0 3 1\n"
     ]
    }
   ],
   "source": [
    "N = input()\n",
    "x_n = list(map(int, input().split()))\n",
    "sorted_xn = sorted(x_n) ## 진짜 sort는 사기다\n",
    "mapping = {}\n",
    "count = 0\n",
    "\n",
    "for x in sorted_xn:\n",
    "    if x not in mapping: ## 서로 다른 좌표의 개수가 중요하므로 이미 나왔던 수는 건너뛴다  \n",
    "        mapping[x] = count ## x보다 작은 서로 다른 수의 개수\n",
    "        count += 1 \n",
    "    \n",
    "print(*[mapping[x] for x in x_n])"
   ]
  },
  {
   "cell_type": "markdown",
   "id": "68313bb2-3907-46e4-a1d6-8e78782f0d74",
   "metadata": {},
   "source": [
    "## Counting Inversions\n",
    "\n",
    "- 문제 출처: [백준 10090번](https://www.acmicpc.net/problem/10090)"
   ]
  },
  {
   "cell_type": "markdown",
   "id": "485793fc-9741-465f-ac14-c313a28bd268",
   "metadata": {},
   "source": [
    "`-` $i < j$일 때 $A[i] > A[j]$이면 $(i,j)$를 inversion이라고 한다\n",
    "\n",
    "`-` merge_sort로 inversion의 개수를 셀 수 있다(stable 하므로 가능)\n",
    "\n",
    "`-` split하고 merge할 때 왼쪽 배열($i$)과 오른쪽 배열($j$) 중에서 $i$를 넣는다면 $i$가 $j$보다 작다는 것이고 이는 inversion이 아니다\n",
    "\n",
    "`-` 그런데 $j$를 넣으면 inversion이고 이 때 발생하는 inversion 쌍의 개수는 $i$에 남아있는 원소 개수만큼이다\n",
    "\n",
    "`-` 이를 다 카운팅하면 최종 inversion 쌍의 개수가 나온다"
   ]
  },
  {
   "cell_type": "code",
   "execution_count": 21,
   "id": "faedb7e3-aedd-4db5-ac46-71731d004578",
   "metadata": {},
   "outputs": [
    {
     "name": "stdin",
     "output_type": "stream",
     "text": [
      " 7\n",
      " 4 2 7 1 5 6 3\n"
     ]
    },
    {
     "name": "stdout",
     "output_type": "stream",
     "text": [
      "10\n"
     ]
    }
   ],
   "source": [
    "def merge_sort(arr):\n",
    "    global inversion\n",
    "    n = len(arr)\n",
    "    if n <= 1:\n",
    "        return arr\n",
    "    \n",
    "    mid = n // 2\n",
    "    left_arr = arr[:mid]\n",
    "    right_arr = arr[mid:]\n",
    "\n",
    "    sorted_left_arr = merge_sort(left_arr)\n",
    "    sorted_right_arr = merge_sort(right_arr)\n",
    "    \n",
    "    return merge(sorted_left_arr, sorted_right_arr)\n",
    "    \n",
    "def merge(left_arr, right_arr):\n",
    "    global inversion\n",
    "    sorted_list = list()\n",
    "    left_arr_idx = 0\n",
    "    right_arr_idx = 0\n",
    "\n",
    "    while left_arr_idx < len(left_arr) and right_arr_idx < len(right_arr):\n",
    "        if left_arr[left_arr_idx] <= right_arr[right_arr_idx]:\n",
    "            sorted_list.append(left_arr[left_arr_idx])\n",
    "            left_arr_idx += 1\n",
    "        else:\n",
    "            sorted_list.append(right_arr[right_arr_idx])\n",
    "            right_arr_idx += 1\n",
    "            inversion += (len(left_arr) - left_arr_idx) ## count inversion \n",
    "            \n",
    "    while left_arr_idx < len(left_arr):\n",
    "        sorted_list.append(left_arr[left_arr_idx])\n",
    "        left_arr_idx += 1\n",
    "        \n",
    "    while right_arr_idx < len(right_arr):\n",
    "        sorted_list.append(right_arr[right_arr_idx])\n",
    "        right_arr_idx += 1\n",
    "\n",
    "    return sorted_list\n",
    "\n",
    "\n",
    "N = int(input())\n",
    "array = list(map(int, input().split()))\n",
    "inversion = 0\n",
    "sorted_array = merge_sort(array)\n",
    "print(inversion)\n",
    "\n",
    "# input\n",
    "# 7\n",
    "# 4 2 7 1 5 6 3"
   ]
  },
  {
   "cell_type": "markdown",
   "id": "d079cfbb-4759-4b52-907a-63076860ec79",
   "metadata": {},
   "source": [
    "## 영단어 암기는 괴로워\n",
    "\n",
    "- 문제 출처: [백준 20920번](https://www.acmicpc.net/problem/20920)"
   ]
  },
  {
   "cell_type": "markdown",
   "id": "8fd57827-47a3-41d6-af58-c5f4ab11ee86",
   "metadata": {},
   "source": [
    "`-` 문제에서 주어진 조건을 차례대로 적용하면 되는 문제이다\n",
    "\n",
    "`-` 입력을 받을 때 단어 길이가 $M$ 이상인 단어만 딕셔너리에 저장한다\n",
    "\n",
    "`-` 해당 딕셔너리를 (단어, 등장 횟수)와 같은 쌍으로 만든 후 조건대로 정렬하면 된다"
   ]
  },
  {
   "cell_type": "code",
   "execution_count": 18,
   "id": "cb075c5b-332b-471f-a8df-a70cf769a5b5",
   "metadata": {},
   "outputs": [
    {
     "name": "stdin",
     "output_type": "stream",
     "text": [
      " 7 4\n",
      " apple\n",
      " ant\n",
      " sand\n",
      " apple\n",
      " append\n",
      " sand\n",
      " sand\n"
     ]
    },
    {
     "name": "stdout",
     "output_type": "stream",
     "text": [
      "sand\n",
      "apple\n",
      "append\n"
     ]
    }
   ],
   "source": [
    "N, M = map(int, input().split())\n",
    "word2count = {}\n",
    "for _ in range(N):\n",
    "    word = input()\n",
    "    if len(word) < M:\n",
    "        continue\n",
    "    if word not in word2count:\n",
    "        word2count[word] = 1\n",
    "    else:\n",
    "        word2count[word] += 1\n",
    "answer = sorted(word2count.items(), key=lambda x: (-x[1], -len(x[0]), x[0]))\n",
    "print(\"\\n\".join(a[0] for a in answer))\n",
    "\n",
    "# input\n",
    "# 7 4\n",
    "# apple\n",
    "# ant\n",
    "# sand\n",
    "# apple\n",
    "# append\n",
    "# sand\n",
    "# sand"
   ]
  },
  {
   "cell_type": "markdown",
   "id": "b8cc7171-cb35-409e-85c1-ea8421d9af01",
   "metadata": {},
   "source": [
    "## 국영수\n",
    "\n",
    "- 문제 출처: [백준 10825번](https://www.acmicpc.net/problem/10825)"
   ]
  },
  {
   "cell_type": "code",
   "execution_count": 3,
   "id": "e60986c2-f46c-4f55-be42-ff3ad34c3003",
   "metadata": {},
   "outputs": [
    {
     "name": "stdin",
     "output_type": "stream",
     "text": [
      " 12\n",
      " Junkyu 50 60 100\n",
      " Sangkeun 80 60 50\n",
      " Sunyoung 80 70 100\n",
      " Soong 50 60 90\n",
      " Haebin 50 60 100\n",
      " Kangsoo 60 80 100\n",
      " Donghyuk 80 60 100\n",
      " Sei 70 70 70\n",
      " Wonseob 70 70 90\n",
      " Sanghyun 70 70 80\n",
      " nsj 80 80 80\n",
      " Taewhan 50 60 90\n"
     ]
    },
    {
     "name": "stdout",
     "output_type": "stream",
     "text": [
      "Donghyuk\n",
      "Sangkeun\n",
      "Sunyoung\n",
      "nsj\n",
      "Wonseob\n",
      "Sanghyun\n",
      "Sei\n",
      "Kangsoo\n",
      "Haebin\n",
      "Junkyu\n",
      "Soong\n",
      "Taewhan\n"
     ]
    }
   ],
   "source": [
    "def solution():\n",
    "    N = int(input())\n",
    "    students = []\n",
    "    for _ in range(N):\n",
    "        name, ko, en, math = input().split()\n",
    "        ko, en, math = int(ko), int(en), int(math)\n",
    "        students.append([name, ko, en, math])\n",
    "    students.sort(key=lambda x: (-x[1], x[2], -x[3], x[0]))\n",
    "    for s in students:\n",
    "        print(s[0])\n",
    "\n",
    "solution()\n",
    "\n",
    "# input\n",
    "# 12\n",
    "# Junkyu 50 60 100\n",
    "# Sangkeun 80 60 50\n",
    "# Sunyoung 80 70 100\n",
    "# Soong 50 60 90\n",
    "# Haebin 50 60 100\n",
    "# Kangsoo 60 80 100\n",
    "# Donghyuk 80 60 100\n",
    "# Sei 70 70 70\n",
    "# Wonseob 70 70 90\n",
    "# Sanghyun 70 70 80\n",
    "# nsj 80 80 80\n",
    "# Taewhan 50 60 90"
   ]
  },
  {
   "cell_type": "code",
   "execution_count": null,
   "id": "33d47499-6501-4019-aee8-821825941e6e",
   "metadata": {},
   "outputs": [],
   "source": []
  }
 ],
 "metadata": {
  "kernelspec": {
   "display_name": "Python 3 (ipykernel)",
   "language": "python",
   "name": "python3"
  },
  "language_info": {
   "codemirror_mode": {
    "name": "ipython",
    "version": 3
   },
   "file_extension": ".py",
   "mimetype": "text/x-python",
   "name": "python",
   "nbconvert_exporter": "python",
   "pygments_lexer": "ipython3",
   "version": "3.8.11"
  }
 },
 "nbformat": 4,
 "nbformat_minor": 5
}
