{
 "cells": [
  {
   "cell_type": "markdown",
   "id": "b2968dee-af21-4da4-9b0e-6e99c1626fea",
   "metadata": {},
   "source": [
    "# 그래프 탐색 (Graph Traversal)"
   ]
  },
  {
   "cell_type": "markdown",
   "id": "cae64447-7861-455f-9e5a-837ef7996642",
   "metadata": {},
   "source": [
    "## DFS와 BFS\n",
    "\n",
    "- 문제 출처: [백준 1260번](https://www.acmicpc.net/problem/1260)"
   ]
  },
  {
   "cell_type": "markdown",
   "id": "d3d4772e-a7e9-4ce1-b374-f8a607bf2a75",
   "metadata": {},
   "source": [
    "`-` 시작 노드가 그래프에 없는 경우를 고려해줘야 한다(이것때문에 2번 틀림...)"
   ]
  },
  {
   "cell_type": "code",
   "execution_count": 66,
   "id": "94bac957-4e75-4788-85e7-c4ad926260e5",
   "metadata": {},
   "outputs": [
    {
     "name": "stdin",
     "output_type": "stream",
     "text": [
      " 4 5 1\n",
      " 1 2\n",
      " 1 3\n",
      " 1 4\n",
      " 2 4\n",
      " 3 4\n"
     ]
    },
    {
     "name": "stdout",
     "output_type": "stream",
     "text": [
      "1 2 4 3\n",
      "1 2 3 4\n"
     ]
    }
   ],
   "source": [
    "def DFS(graph, start_node):\n",
    "    visited = {} ## 방문한 노드\n",
    "    stack = [] ## 방문할 노드\n",
    "    stack.append(start_node) ## 방문할 노드에 시작 노드 추가\n",
    "    if start_node not in graph: ## 시작 노드가 그래프에 존재하지 않는다면\n",
    "        return [start_node]\n",
    "\n",
    "    while stack:  ## 방문할 노드가 있다면(리스트에 원소가 있으면 True)\n",
    "        node = stack.pop() ## 마지막 노드 추가(스택 구조 사용) \n",
    "        if node not in visited:  ## 만약 아직 방문한 노드가 아니라면\n",
    "            visited[node] = True  ## 이제 방문했으니까 방문한 노드에 추가\n",
    "            stack.extend(reversed(graph[node])) ## 방문한 노드에 연결된 노드를 탐색해보자\n",
    "            \n",
    "    return list(visited.keys()) ## 방문한 노드를 반환\n",
    "\n",
    "def BFS(graph, start_node):\n",
    "    from collections import deque ## deque패키지 import\n",
    "    visited = {} ## 방문한 노드\n",
    "    queue = deque() ## 방문할 노드\n",
    "    queue.append(start_node) ## 방문할 노드에 시작 노드 추가\n",
    "    if start_node not in graph: ## 시작 노드가 그래프에 존재하지 않는다면\n",
    "        return [start_node]\n",
    "\n",
    "    while queue:  ## 방문할 노드가 있다면(리스트에 원소가 있으면 True)\n",
    "        node = queue.popleft() ## 첫번째 노드 추가(큐 구조 사용)   \n",
    "        if node not in visited:  ## 만약 아직 방문한 노드가 아니라면\n",
    "            visited[node] = True  ## 이제 방문했으니까 방문한 노드에 추가\n",
    "            queue.extend(graph[node]) ## 방문한 노드에 연결된 노드를 탐색해보자\n",
    "\n",
    "    return list(visited.keys()) ## 방문한 노드를 반환\n",
    "\n",
    "N, M, V = map(int, input().split())\n",
    "graph = {}\n",
    "\n",
    "for _ in range(M):\n",
    "    keys = list(map(int, input().split()))\n",
    "    for i in range(2):\n",
    "        if keys[-i] in graph:\n",
    "            graph[keys[-i]] = sorted(list(set(graph[keys[-i]] + [keys[-(i+1)]]))) ## grahp에 처음 등장하는 노드가 아닐 때\n",
    "        else:\n",
    "            graph[keys[-i]] = [keys[-(i+1)]] ## grahp에 처음 등장하는 노드일 때\n",
    "            \n",
    "print(*DFS(graph, V))\n",
    "print(*BFS(graph, V))\n",
    "\n",
    "# input\n",
    "# 4 5 1\n",
    "# 1 2\n",
    "# 1 3\n",
    "# 1 4\n",
    "# 2 4\n",
    "# 3 4"
   ]
  },
  {
   "cell_type": "markdown",
   "id": "4866181c-7af8-4473-8baf-20d4500f1458",
   "metadata": {},
   "source": [
    "## 바이러스\n",
    "\n",
    "- 문제 출처: [백준 2606번](https://www.acmicpc.net/problem/2606)"
   ]
  },
  {
   "cell_type": "markdown",
   "id": "f448fd58-de88-4ea6-ae04-130aaf6778fc",
   "metadata": {},
   "source": [
    "`-` DFS로 풀자"
   ]
  },
  {
   "cell_type": "code",
   "execution_count": 68,
   "id": "8b074e74-0f57-487e-928d-be37c6f3bb76",
   "metadata": {},
   "outputs": [
    {
     "name": "stdin",
     "output_type": "stream",
     "text": [
      " 7\n",
      " 6\n",
      " 1 2\n",
      " 2 3\n",
      " 1 5\n",
      " 5 2\n",
      " 5 6\n",
      " 4 7\n"
     ]
    },
    {
     "name": "stdout",
     "output_type": "stream",
     "text": [
      "4\n"
     ]
    }
   ],
   "source": [
    "def DFS(graph, start_node = 1):\n",
    "    visited = {} ## 탐색한 노드는 1번 컴퓨터와 직접적이든 간접적이든 연결되었다\n",
    "    stack = [start_node]\n",
    "    if start_node not in graph: ## 1번 컴퓨터와 연결된 컴퓨터가 없다면\n",
    "        return [start_node]\n",
    "    \n",
    "    while stack:\n",
    "        node = stack.pop()\n",
    "        if node not in visited:\n",
    "            visited[node] = True\n",
    "            stack.extend(reversed(graph[node]))\n",
    "            \n",
    "    return list(visited.keys())\n",
    "\n",
    "graph = {}\n",
    "N = int(input())\n",
    "M = int(input())\n",
    "\n",
    "for _ in range(M):\n",
    "    keys = list(map(int, input().split()))\n",
    "    for i in range(2):\n",
    "        if keys[-i] in graph:\n",
    "            graph[keys[-i]] = sorted(list(set(graph[keys[-i]] + [keys[-(i+1)]]))) ## grahp에 처음 등장하는 노드가 아닐 때\n",
    "        else:\n",
    "            graph[keys[-i]] = [keys[-(i+1)]] ## grahp에 처음 등장하는 노드일 때\n",
    "\n",
    "print(len(DFS(graph)) - 1) ## 1번 컴퓨터를 통해 바이러스에 걸리는 컴퓨터 수이므로 1번 컴퓨터는 제외한다\n",
    "\n",
    "# input\n",
    "# 7\n",
    "# 6\n",
    "# 1 2\n",
    "# 2 3\n",
    "# 1 5\n",
    "# 5 2\n",
    "# 5 6\n",
    "# 4 7"
   ]
  },
  {
   "cell_type": "markdown",
   "id": "0de78edb-c7ee-497a-9773-04afe6803440",
   "metadata": {},
   "source": [
    "## 미로 탐색\n",
    "\n",
    "- 문제 출처: [백준 2178번](https://www.acmicpc.net/problem/2178)"
   ]
  },
  {
   "cell_type": "markdown",
   "id": "8a072dfd-2c29-4371-be90-57c2b02d4691",
   "metadata": {},
   "source": [
    "`-` $(1,1)$부터 시작하여 $(N,M)$까지 이동할 수 있는 좌표들을 BFS를 통해 최단 거리를 구하면 된다\n",
    "\n",
    "`-` BFS이므로(각각의 경로에서 출발하여 한 칸씩 움직인다) 제일 먼저 $(N,M)$에 도착하는 경로가 최단 거리이므로 그 때의 거리를 기록하면 된다"
   ]
  },
  {
   "cell_type": "code",
   "execution_count": 115,
   "id": "8874d702-4c90-4784-afcc-ce246ea96aed",
   "metadata": {},
   "outputs": [
    {
     "name": "stdin",
     "output_type": "stream",
     "text": [
      " 2 25\n",
      " 1011101110111011101110111\n",
      " 1110111011101110111011101\n"
     ]
    },
    {
     "name": "stdout",
     "output_type": "stream",
     "text": [
      "38\n"
     ]
    }
   ],
   "source": [
    "from collections import deque\n",
    "N, M = map(int, input().split())\n",
    "ls = [list(input()) for _ in range(N)]\n",
    "graph = {}\n",
    "\n",
    "## BFS\n",
    "def BFS(graph : dict, start_node : list) -> int:\n",
    "    visited = {}\n",
    "    queue = deque(start_node) \n",
    "    distance = 0\n",
    "    \n",
    "    while queue:\n",
    "        queue_size = len(queue) ## 현재 queue에 저장된 개수(같은 높이의 정점)\n",
    "        while queue_size:  ## 같은 높이의 정점들을 탐색, 값이 0이 되면 다음 층(높이) 탐색\n",
    "            node = queue.popleft()\n",
    "            if node[-1] == '1': ## 1은 이동 가능, 0은 이동 불가능  \n",
    "                if node == (N-1, M-1, '1'): ## 목표지점(N,M)에 도착\n",
    "                    return (distance + 1) ## 최단 경로 = 이때의 그래프에서 좌표의 높이\n",
    "                if node not in visited:\n",
    "                    visited[node] = True\n",
    "                    queue.extend(graph[node])\n",
    "            queue_size -= 1\n",
    "        distance += 1              \n",
    "    return False \n",
    "\n",
    "## 무지성 그래프(미로) 기록\n",
    "for i in range(N):\n",
    "    for j in range(M):\n",
    "        if i == 0:  ## 1층\n",
    "            if j == 0:\n",
    "                graph[(i, j, ls[i][j])] = [(i, j+1, ls[i][j+1]), (i+1, j, ls[i+1][j])] ## 우, 하\n",
    "            elif j == M-1:\n",
    "                graph[(i, j, ls[i][j])] = [(i, j-1, ls[i][j-1]), (i+1, j, ls[i+1][j])] ## 좌, 하\n",
    "            else:\n",
    "                graph[(i, j, ls[i][j])] = [(i, j-1, ls[i][j-1]), (i, j+1, ls[i][j+1]), (i+1, j, ls[i+1][j])] ## 좌, 우, 하\n",
    "                \n",
    "        elif i == N-1:  ## 마지막층\n",
    "            if j == 0:\n",
    "                graph[(i, j, ls[i][j])] = [(i, j+1, ls[i][j+1]), (i-1, j, ls[i-1][j])] ## 우, 상\n",
    "            elif j == M-1:\n",
    "                graph[(i, j, ls[i][j])] = [(i, j-1, ls[i][j-1]), (i-1, j, ls[i-1][j])] ## 좌, 상\n",
    "            else:\n",
    "                graph[(i, j, ls[i][j])] = [(i, j-1, ls[i][j-1]), (i, j+1, ls[i][j+1]), (i-1, j, ls[i-1][j])] ## 좌, 우, 상\n",
    "                \n",
    "        else:  ## 나머지층\n",
    "            if j == 0:\n",
    "                graph[(i, j, ls[i][j])] = [(i, j+1, ls[i][j+1]), (i-1, j, ls[i-1][j]), (i+1, j, ls[i+1][j])] ## 우, 상, 하\n",
    "            elif j == M-1:\n",
    "                graph[(i, j, ls[i][j])] = [(i, j-1, ls[i][j-1]), (i-1, j, ls[i-1][j]), (i+1, j, ls[i+1][j])] ## 좌, 상, 하\n",
    "            else:\n",
    "                graph[(i, j, ls[i][j])] = [(i, j-1, ls[i][j-1]), (i, j+1, ls[i][j+1]), (i-1, j, ls[i-1][j]), (i+1, j, ls[i+1][j])] ## 좌, 우, 상, 하\n",
    "                \n",
    "print(BFS(graph, [(0, 0, '1')]))\n",
    "\n",
    "# input\n",
    "# 2 25\n",
    "# 1011101110111011101110111\n",
    "# 1110111011101110111011101"
   ]
  },
  {
   "cell_type": "markdown",
   "id": "2f6d8e41-2391-4a45-a10b-c87ce84ab146",
   "metadata": {},
   "source": [
    "## 숨바꼭질\n",
    "\n",
    "- 문제 출처: [백준 1697번](https://www.acmicpc.net/problem/1697)"
   ]
  },
  {
   "cell_type": "markdown",
   "id": "5816d25f-1159-40cb-a96b-0ee5b63c0110",
   "metadata": {
    "tags": []
   },
   "source": [
    "`-` [미로 탐색](https://www.acmicpc.net/problem/2178)과 비슷한 유형(그래프 탐색)의 문제이다\n",
    "\n",
    "`-` 위의 미로 탐색 문제를 풀 땐 그래프 기록을 힘들게 했는데\n",
    "\n",
    "`-` 이번 문제는 미로 탐색 문제보다 간단하게 풀어보자\n",
    "\n",
    "`-` `수빈의 위치 > 동생의 위치`이면 `최단 시간`은 `수빈의 위치 - 동생의 위치`이다\n",
    "\n",
    "`-` $\\text{dp[$x$]}$는 처음 수빈의 위치 $N$에서 $x$까지 가는데 걸리는 최소 시간으로 정의하고 BFS 수행하면 된다\n",
    "\n",
    "`-` 이미 방문한 위치를 또 방문하는 경우는 다음 사이클로 넘어가면 되는데 왜냐하면 BFS이므로 먼저 방문했을때의 시간이 더 짧거나 같다\n",
    "\n",
    "- 보충 설명\n",
    "\n",
    "`-` 처음 수빈의 위치에서 시작하여 사이클이 주어지고 해당 위치에서 $(+1,\\, -1,\\, \\times 2)$를 수행하는데\n",
    "\n",
    "`-` 해당 위치에서 $(+1,\\, -1,\\, \\times 2)$ 사이클을 마쳐야 계산된 숫자에 대해서 사이클을 시작한다\n",
    "\n",
    "`-` ex) 수빈의 위치는 $5$이고 동생의 위치는 $11$이라고 하자\n",
    "\n",
    "`-` $5$에 대해 $(+1,\\, -1,\\, \\times 2)$을 실행함 ---> $(6, 4, 10)$이 되고 해당 위치에 시간을 기록한다\n",
    "\n",
    "`-` $(6, 4, 10)$에 대해 차례대로 $(+1,\\, -1,\\, \\times 2)$을 실행함 ---> $(7, 5, 12), (5, 3, 8), (11, 9, 20)$이 된다\n",
    "\n",
    "`-` $10$에서 $+1$을 수행하여 $11$이 되었으므로 탐색을 마친다\n",
    "\n",
    "`-` ??? : 시간이 더 짧은 경로가 있을 수 있지 않나?\n",
    "\n",
    "`-` 수빈의 위치를 루트 노드라 하면 동생의 위치까지의 경로들을 그래프로 나타낼 수 있는데\n",
    "\n",
    "`-` 최단 시간을 가지는 경로는 그래프상에서 제일 낮은 레벨(해당 노드의 높이)에 위치한다(위의 예시에서는 2)\n",
    "\n",
    "`-` 동생의 위치까지 가는 모든 경로의 출발점은 수빈의 위치(루트 노드)이고 각각의 경로마다 다음 위치로 한 칸씩 이동한다(너비 우선 탐색)\n",
    "\n",
    "`-` 동일하게 한 칸씩 이동하므로 제일 먼저 동생의 위치에 도착한 경로는 자연스럽게 최단 시간을 가지게 된다"
   ]
  },
  {
   "cell_type": "code",
   "execution_count": 34,
   "id": "a1a2ae6b-c3de-47e8-83b9-7db8955470dd",
   "metadata": {},
   "outputs": [
    {
     "name": "stdin",
     "output_type": "stream",
     "text": [
      " 5 17\n"
     ]
    },
    {
     "name": "stdout",
     "output_type": "stream",
     "text": [
      "4\n"
     ]
    }
   ],
   "source": [
    "from collections import deque\n",
    "N, K = map(int, input().split()) ## 수빈의 위치, 동생의 위치\n",
    "queue = deque([N]) \n",
    "dp = [0] * 100002 ## 0~100001\n",
    "\n",
    "while True: ## 목표지점에 다다르기 전까지\n",
    "    ## while not dp[K]로만 판단하는 것은 틀렸는데 왜냐하면 N=K인 경우 return값이 2이기 때문이다(-1하고 다시 +1)\n",
    "    node = queue.popleft()\n",
    "    if node == K: ## 목표지점에 도착 ## N=k인 경우 입구컷\n",
    "        break\n",
    "\n",
    "    if node < K: ## x+1\n",
    "        if dp[node+1] == 0: ## 처음 방문했는지 판단 ## 처음 방문한 경로가 최단 경로이므로 이미 방문했다면 방문할 필요가 없다(시간 감소)\n",
    "            dp[node+1] = dp[node] + 1 \n",
    "            queue.append(node+1)\n",
    "            \n",
    "    if node*2 <= K + 1: \n",
    "    ## ex) n = 50, k = 99 : n*2 -> n-1\n",
    "    ## ex) n = 50, k = 98 : n*2 -> n-1 -> n-1 ---> 3 sec but n-1 -> n*2 is 2 sec\n",
    "        if dp[node*2] == 0: ## 처음 방문함\n",
    "            dp[node*2] = dp[node] + 1\n",
    "            queue.append(node*2)\n",
    "    \n",
    "    ## x-1\n",
    "    if node > 0: ## node가 0인데 뒤로가는건 말도 안된다, 적어도 1은 되야함\n",
    "        if dp[node-1] == 0: ## 처음 방문함\n",
    "            dp[node-1] = dp[node] + 1\n",
    "            queue.append(node-1)\n",
    "            \n",
    "print(dp[K])\n",
    "\n",
    "# input\n",
    "# 5 17"
   ]
  },
  {
   "cell_type": "markdown",
   "id": "392935e1-bb32-40cb-8178-e6d2402372f2",
   "metadata": {},
   "source": [
    "## 숨바꼭질 4\n",
    "\n",
    "- 문제 출처: [백준 13913번](https://www.acmicpc.net/problem/13913)"
   ]
  },
  {
   "cell_type": "markdown",
   "id": "0280d0c5-f15a-4ec7-8306-bbed391380ff",
   "metadata": {},
   "source": [
    "`-` 기존의 [숨바꼭질](https://www.acmicpc.net/problem/1697) 문제에서 경로만 추가하면 된다\n",
    "\n",
    "`-` 경로는 해시테이블을 이용해서 구한다(연결리스트?)"
   ]
  },
  {
   "cell_type": "code",
   "execution_count": 32,
   "id": "0a212e53-9ab7-46f5-a0fb-4641708a047a",
   "metadata": {},
   "outputs": [
    {
     "name": "stdin",
     "output_type": "stream",
     "text": [
      " 5 17\n"
     ]
    },
    {
     "name": "stdout",
     "output_type": "stream",
     "text": [
      "4\n",
      "5 10 9 18 17\n"
     ]
    }
   ],
   "source": [
    "from collections import deque\n",
    "N, K = map(int, input().split()) ## 수빈의 위치, 동생의 위치\n",
    "k = K\n",
    "route = deque([K])\n",
    "queue = deque([N]) \n",
    "dp = [0] * 100002 ## 0~100002\n",
    "visited = {} ## 해시테이블 \n",
    "## 만약 N = 5, K = 11이라면 5 -> 10 -> 11 경로가 최단시간이다\n",
    "## 이때 visited에는 전의 경로를 기록한다 ---> visited[11] = 10, visited[10] = 5 (연결리스트??)\n",
    "## route는 K(11) -> visited[K] -> visited[visited[K]]의 역순이다\n",
    "\n",
    "while True: ## 목표지점에 다다르기 전까지\n",
    "    node = queue.popleft()\n",
    "    if node == K: ## 목표지점에 도착\n",
    "        break\n",
    "    \n",
    "    if node < K: ## x+1\n",
    "        if dp[node+1] == 0: ## 처음 방문함\n",
    "            dp[node+1] = dp[node] + 1 \n",
    "            visited[node+1] = node \n",
    "            queue.append(node+1)\n",
    "            \n",
    "    if node*2 <= K + 1: \n",
    "    ## ex) n = 50, k = 99 : n*2 -> n-1\n",
    "    ## ex) n = 50, k = 98 : n*2 -> n-1 -> n-1 ---> 3 sec but n-1 -> n*2 is 2 sec\n",
    "        if dp[node*2] == 0: ## 처음 방문함\n",
    "            dp[node*2] = dp[node] + 1\n",
    "            visited[node*2] = node\n",
    "            queue.append(node*2)\n",
    "    \n",
    "    ## x-1\n",
    "    if node > 0: ## node가 0인데 뒤로가는건 말도 안된다, 적어도 1은 되야함\n",
    "        if dp[node-1] == 0: ## 처음 방문함\n",
    "            dp[node-1] = dp[node] + 1\n",
    "            visited[node-1] = node\n",
    "            queue.append(node-1)\n",
    "            \n",
    "## 경로 \n",
    "while N != k:\n",
    "    route.appendleft(visited[k])\n",
    "    k = visited[k]\n",
    "\n",
    "print(dp[K])\n",
    "print(*route)\n",
    "\n",
    "# input\n",
    "# 5 17"
   ]
  },
  {
   "cell_type": "markdown",
   "id": "9a0e19d4-f069-4246-b57a-c86013042043",
   "metadata": {},
   "source": [
    "## 최소 스패닝 트리\n",
    "\n",
    "- 문제 출처: [백준 1197번](https://www.acmicpc.net/problem/1197)"
   ]
  },
  {
   "cell_type": "markdown",
   "id": "d92f271e-7e64-40b1-b2db-61a8ea8e76bb",
   "metadata": {},
   "source": [
    "`-` `Kruskal Algorithm`을 사용하여 문제를 해결하겠다(`Prim Algorithm`도 있음!!)\n",
    "\n",
    "`step 1` w(노드 u와 노드v 사이 간선의 가중치)를 기준으로 (u, v, w)를 오름차순 정렬한다\n",
    "\n",
    "`step 2` 가장 작은 간선 가중치를 가지는 (노드 u, 노드 v)를 pop하고 u와 v가 연결됐을 때 MST가 사이클을 형성하지 않는다면 u와 v를 연결 \n",
    "\n",
    "`step 3` spanning tree가 완성될 때까지 `step 2`를 반복 ---> 완성된 spanning tree는 minimum spanning tree(MST)!"
   ]
  },
  {
   "cell_type": "code",
   "execution_count": 2,
   "id": "6d0f13c1-5ad9-4088-aeb3-6d888604c1eb",
   "metadata": {},
   "outputs": [
    {
     "name": "stdin",
     "output_type": "stream",
     "text": [
      " 3 3\n",
      " 1 2 1\n",
      " 2 3 2\n",
      " 1 3 3\n"
     ]
    },
    {
     "name": "stdout",
     "output_type": "stream",
     "text": [
      "3\n"
     ]
    }
   ],
   "source": [
    "import sys\n",
    "sys.setrecursionlimit(10**6)\n",
    "\n",
    "\n",
    "# cycle여부를 판단하기 위한 disjoint-set\n",
    "def make_set(u):\n",
    "    p[u] = u  # 각 노드가 자기자신을 가리키게 한다 (u -> u)\n",
    "    rank[u] = 0\n",
    "\n",
    "\n",
    "def find_set(u):  # u가 포함된 tree의 부모 노드를 찾아준다\n",
    "    if p[u] != u:  # u가 자기자신을 가리키지 않으면 (=자식 노드)\n",
    "        p[u] = find_set(p[u])  # flatten tree, original: (1 -> 3, 3 -> 5, 5 -> 7, 7 -> 7), new: (1 -> 7, 3-> 7, 5 -> 7, 7 -> 7)\n",
    "    return p[u]\n",
    "\n",
    "\n",
    "def union_set(u, v):\n",
    "    uu = find_set(u)\n",
    "    vv = find_set(v)\n",
    "    if uu == vv:  # uu와 vv가 같다면 이미 같은 tree에 속하므로 union할 이유가 없다\n",
    "        return\n",
    "    rank_u = rank[uu]\n",
    "    rank_v = rank[vv]\n",
    "    if rank_u > rank_v:  # v -> u\n",
    "        p[vv] = uu\n",
    "    elif rank_u == rank_v:  # v -> u(u -> v도 가능) and rank에 +1\n",
    "        p[vv] = uu\n",
    "        rank[vv] += 1\n",
    "    else:  # u -> v\n",
    "        p[uu] = vv\n",
    "\n",
    "\n",
    "def kruskal(graph):\n",
    "    mst_cost = 0\n",
    "    for w, u, v in graph: \n",
    "        if find_set(u) == find_set(v):\n",
    "            continue\n",
    "        # cycle을 형성하지 않는다면\n",
    "        union_set(u, v)\n",
    "        mst_cost += w\n",
    "    return mst_cost\n",
    "\n",
    "\n",
    "def prepare_graph(E):\n",
    "    graph = []\n",
    "    for _ in range(E):\n",
    "        u, v, w = map(int, input().split())\n",
    "        graph.append([w, u, v]) \n",
    "    graph.sort()  # 가중치를 기준으로 오름차순 정렬\n",
    "    return graph\n",
    "\n",
    "\n",
    "def solution():\n",
    "    global p, rank\n",
    "    V, E = map(int, input().split())\n",
    "    p = [0 for _ in range(V + 1)]  # node[i]는 i번 노드가 가리키는(point) 노드를 나타냄\n",
    "    rank = [0 for _ in range(V + 1)]  # rank[i]는 i번 노드의 rank 상한을 나타냄  \n",
    "    graph = prepare_graph(E)\n",
    "    for i in range(1, V + 1):\n",
    "        make_set(i)\n",
    "    mst_cost = kruskal(graph)\n",
    "    print(mst_cost)\n",
    "\n",
    "\n",
    "solution()\n",
    "\n",
    "# input\n",
    "# 3 3\n",
    "# 1 2 1\n",
    "# 2 3 2\n",
    "# 1 3 3"
   ]
  },
  {
   "cell_type": "markdown",
   "id": "5914dec5-1be9-4fe3-9bfe-e01f2bc1917f",
   "metadata": {},
   "source": [
    "`-` 왜 올바르게 동작하는지는 다음 링크 참고: https://en.wikipedia.org/wiki/Kruskal%27s_algorithm#Proof_of_correctness"
   ]
  },
  {
   "cell_type": "markdown",
   "id": "c195948f-29fc-447b-9725-c03c3d8d1227",
   "metadata": {},
   "source": [
    "## 유기농 배추\n",
    "\n",
    "- 문제 출처: [백준 1012번](https://www.acmicpc.net/problem/1012)"
   ]
  },
  {
   "cell_type": "markdown",
   "id": "e6bc94a5-7017-4f88-8519-bca03632f5c1",
   "metadata": {},
   "source": [
    "`-` DFS 또는 BFS를 사용하면 임의의 배추와 인접한 다른 배추를 모두 탐색할 수 있음\n",
    "\n",
    "`-` 모든 좌표에서 DFS를 함으로써 문제를 해결할 수 있을 듯\n",
    "\n",
    "`-` 일단 좌표값이 0(배추 X)인 경우는 pass한다\n",
    "\n",
    "`-` 만약 1(배추 O)인 경우 DFS를 수행해서 1(배추 O)를 0(이미 탐색)으로 바꾸고 count를 +1한다\n",
    "\n",
    "`-` 이를 모든 좌표에 대해서 반복한 후 count의 값이 배추 그룹의 수이다\n",
    "\n",
    "`-` 재귀를 사용해 DFS를 구현하니 재귀 오류가 발생해서 재귀 깊이를 늘려줬다(재귀를 쓰지않는 BFS를 사용해도 된다)"
   ]
  },
  {
   "cell_type": "code",
   "execution_count": 70,
   "id": "3738ec9e-f009-4e4f-9379-45f19e923e28",
   "metadata": {},
   "outputs": [
    {
     "name": "stdin",
     "output_type": "stream",
     "text": [
      " 1\n",
      " 5 3 6\n",
      " 0 2\n",
      " 1 2\n",
      " 2 2\n",
      " 3 2\n",
      " 4 2\n",
      " 4 0\n"
     ]
    },
    {
     "name": "stdout",
     "output_type": "stream",
     "text": [
      "2\n"
     ]
    }
   ],
   "source": [
    "#### import sys\n",
    "sys.setrecursionlimit(10**6)\n",
    "\n",
    "T = int(input())\n",
    "for _ in range(T):\n",
    "    M, N, K = map(int, input().split()) ## 가로, 높이, 배추 개수\n",
    "    A = [[0] * M for _ in range(N)] ## 0으로 초기화된 M X N 배열\n",
    "\n",
    "    ## 배추가 있는 좌표값을 1로 지정\n",
    "    for _ in range(K):\n",
    "        x, y = map(int, input().split())\n",
    "        A[y][x] = 1 ## (y, x)에 배추가 존재(1)\n",
    "\n",
    "    ## DFS\n",
    "    def DFS(x, y):\n",
    "        if A[x][y] == 0: ## 만약 배추가 존재하지 않거나 이미 탐색했으면 dfs을 멈춘다\n",
    "            return 0\n",
    "        A[x][y] = 0 ## 이제 탐색했으니 0으로 바꿔준다\n",
    "\n",
    "        ## (x, y)를 기준으로 상하좌우 탐색\n",
    "        if x < N - 1: ## 위로 탐색이 가능하면\n",
    "            DFS(x + 1, y) ## 상\n",
    "        if x > 0: ## 아래로 탐색이 가능하면\n",
    "            DFS(x - 1, y) ## 하\n",
    "        if y > 0: ## 왼쪽으로 탐색이 가능하면\n",
    "            DFS(x, y - 1) ## 좌\n",
    "        if y < M - 1: ## 오른쪽으로 탐색이 가능하면\n",
    "            DFS(x, y + 1) ## 우\n",
    "        return 1 ## dfs(x, y)가 0을 return하면 (x, y)에 배추가 없다는 것이며 1을 return한 것은 (x, y)에 배추가 있고 이와 인접한 배추도 모두 탐색했다는 것\n",
    "\n",
    "    count = 0 ## 배추 군집의 개수\n",
    "    for i in range(N):\n",
    "        for j in range(M):\n",
    "            count += DFS(i, j)\n",
    "\n",
    "    print(count)\n",
    "    \n",
    "# input\n",
    "# 1\n",
    "# 5 3 6\n",
    "# 0 2\n",
    "# 1 2\n",
    "# 2 2\n",
    "# 3 2\n",
    "# 4 2\n",
    "# 4 0"
   ]
  },
  {
   "cell_type": "markdown",
   "id": "29225d48-9c56-4568-9bc0-265a784bd670",
   "metadata": {},
   "source": [
    "## 토마토\n",
    "\n",
    "- 문제 출처: [백준 7576번](https://www.acmicpc.net/problem/7576)"
   ]
  },
  {
   "cell_type": "code",
   "execution_count": 59,
   "id": "44fb3be7-2c44-47a7-871d-6d476ca7ec57",
   "metadata": {},
   "outputs": [
    {
     "name": "stdin",
     "output_type": "stream",
     "text": [
      " 5 5\n",
      " -1 1 0 0 0\n",
      " 0 -1 -1 -1 0\n",
      " 0 -1 -1 -1 0\n",
      " 0 -1 -1 -1 0\n",
      " 0 0 0 0 0\n"
     ]
    },
    {
     "name": "stdout",
     "output_type": "stream",
     "text": [
      "14\n"
     ]
    }
   ],
   "source": [
    "from collections import deque\n",
    "M, N = map(int, input().split()) ## 가로, 세로\n",
    "A = [list(map(int, input().split())) for _ in range(N)] ## 상자에 저장된 토마토 정보\n",
    "queue = deque([]) ## (x, y)를 인자로 가진다\n",
    "visited = dict()    \n",
    "need_day = -1 ## 초기값(BFS를 수행하면 적어도 +1은 되니 최솟값 0을 만족함(=안익은 토마토가 없으면 최소 날짜는 0))\n",
    "\n",
    "## 익은 토마토의 좌표를 queue에 insert\n",
    "for i in range(N):\n",
    "    for j in range(M):\n",
    "        if A[i][j] == 1:\n",
    "            queue.append((i, j))\n",
    "            A[i][j] = 0 ## 어차피 BFS에서 방문하면서 다시 1로 만들거니 상관없다\n",
    "            \n",
    "def BFS(queue, visited): \n",
    "    global need_day\n",
    "    while queue: ## 더 이상 방문할 수 있는 곳이 남지 않을 때까지\n",
    "        queue_size = len(queue) ## 현재 queue에 저장된 개수(같은 높이의 정점)\n",
    "        value = False ## (x, y)가 토마토를 익게 만드는데 기여했는지 확인(=need_day에 +1 가치가 있는지 확인)\n",
    "        while queue_size: # 같은 높이의 정점들을 탐색, 값이 0이 되면 다음 층(높이) 탐색\n",
    "            x, y = queue.popleft() \n",
    "            if (x, y) not in visited: ## 이미 방문했으면 확인할 가치 X\n",
    "                visited[(x, y)] = True ## 이제 방문했다\n",
    "                \n",
    "                ## A[x][y]의 토마토 상태 확인\n",
    "                if A[x][y] == 0:\n",
    "                    A[x][y] = 1\n",
    "                    value = True ## 익지 않은 토마토를 익게 만들었으므로 최소 날짜에 +1할 가치가 있음\n",
    "                    \n",
    "                    ## 가장 먼저 (x, y)의 토마토를 익게 만들었으므로(현재까지 최단 경로이므로) (x, y)를 기준으로 상하좌우 좌표를 append\n",
    "                    if x < N - 1: ## 위로 탐색이 가능하면\n",
    "                        queue.append((x + 1, y)) ## 상\n",
    "                    if x > 0: ## 아래로 탐색이 가능하면\n",
    "                        queue.append((x - 1, y)) ## 하\n",
    "                    if y > 0: ## 왼쪽으로 탐색이 가능하면\n",
    "                        queue.append((x, y - 1)) ## 좌\n",
    "                    if y < M - 1: ## 오른쪽으로 탐색이 가능하면\n",
    "                        queue.append((x, y + 1)) ## 우\n",
    "                else:\n",
    "                    pass ## -1은 방문이 불가능하므로 pass, 1은 먼저 방문한 경우가 있으니 pass(최소경로가 될 수 없음)\n",
    "            queue_size -= 1\n",
    "        \n",
    "        ## 토마토를 익게 만들었다면\n",
    "        if value:\n",
    "            need_day += 1\n",
    "        \n",
    "    ## 탐색 끝, 익지 않은 토마토가 있는지 확인\n",
    "    for i in range(N):\n",
    "        for j in range(M):\n",
    "            if A[i][j] == 0:\n",
    "                return -1 ## 모든 토마토를 익은 토마토로 만드는 것은 불가능\n",
    "            \n",
    "    return need_day ## 최소 날짜\n",
    "\n",
    "## BFS\n",
    "print(BFS(queue, visited))\n",
    "\n",
    "# input\n",
    "# 5 5\n",
    "# -1 1 0 0 0\n",
    "# 0 -1 -1 -1 0\n",
    "# 0 -1 -1 -1 0\n",
    "# 0 -1 -1 -1 0\n",
    "# 0 0 0 0 0"
   ]
  },
  {
   "cell_type": "markdown",
   "id": "1251ab7b-8118-4f21-8d41-dd0b18d90194",
   "metadata": {},
   "source": [
    "## 토마토\n",
    "\n",
    "- 문제 출처: [백준 7569번](https://www.acmicpc.net/problem/7569)"
   ]
  },
  {
   "cell_type": "markdown",
   "id": "e5f45dc2-2a1b-4f37-9780-d75d86ad70cc",
   "metadata": {},
   "source": [
    "`-` 토마토 보관 창고가 2차원에서 3차원이 됐다\n",
    "\n",
    "`-` 기존에 탐색한 앞, 뒤, 왼쪽, 오른쪽 외에도 위와 아래를 탐색해야 한다"
   ]
  },
  {
   "cell_type": "code",
   "execution_count": 35,
   "id": "7d7f5511-1bf8-4134-a189-e2db92c0b188",
   "metadata": {},
   "outputs": [
    {
     "name": "stdin",
     "output_type": "stream",
     "text": [
      " 5 3 2\n",
      " 0 0 0 0 0\n",
      " 0 0 0 0 0\n",
      " 0 0 0 0 0\n",
      " 0 0 0 0 0\n",
      " 0 0 1 0 0 \n",
      " 0 0 0 0 0\n"
     ]
    },
    {
     "name": "stdout",
     "output_type": "stream",
     "text": [
      "4\n"
     ]
    }
   ],
   "source": [
    "from collections import deque\n",
    "M, N, H = map(int, input().split()) ## 가로, 세로, 높이\n",
    "A = list(reversed([[list(map(int, input().split())) for _ in range(N)] for __ in range(H)])) ## 상자에 저장된 토마토 정보 (높이 X 세로 X 가로)\n",
    "queue = deque([]) ## (x, y, z)를 인자로 가진다\n",
    "visited = dict()    \n",
    "need_day = -1 ## 초기값(BFS를 수행하면 적어도 +1은 되니 최솟값 0을 만족함(=안익은 토마토가 없으면 최소 날짜는 0))\n",
    "\n",
    "## 상하좌우전후\n",
    "dx = [0, 0, -1, 1, 0, 0] ## 가로\n",
    "dy = [0, 0, 0, 0, 1, -1] ## 세로 \n",
    "dz = [1, -1, 0, 0, 0, 0] ## 높이\n",
    "\n",
    "## 익은 토마토의 좌표를 queue에 insert\n",
    "for i in range(H):\n",
    "    for j in range(N):\n",
    "        for k in range(M):\n",
    "            if A[i][j][k] == 1:\n",
    "                queue.append((i, j, k)) ## (높이, 세로, 가로)\n",
    "                A[i][j][k] = 0 ## 어차피 BFS에서 방문하면서 다시 1로 만들거니 상관없다\n",
    "            \n",
    "def BFS(queue, visited): \n",
    "    global need_day\n",
    "    while queue: ## 더 이상 방문할 수 있는 곳이 남지 않을 때까지\n",
    "        queue_size = len(queue) ## 현재 queue에 저장된 개수(같은 높이의 정점)\n",
    "        value = False ## (z, y, x)가 토마토를 익게 만드는데 기여했는지 확인(=need_day에 +1 가치가 있는지 확인)\n",
    "        while queue_size: # 같은 높이의 정점들을 탐색, 값이 0이 되면 다음 층(높이) 탐색\n",
    "            z, y, x = queue.popleft()\n",
    "                \n",
    "            if (z, y, x) not in visited: ## 이미 방문했으면 확인할 가치 X\n",
    "                visited[(z, y, x)] = True ## 이제 방문했다\n",
    "                \n",
    "                ## A[z][y][x]의 토마토 상태 확인\n",
    "                if A[z][y][x] == 0:\n",
    "                    A[z][y][x] = 1\n",
    "                    value = True ## 익지 않은 토마토를 익게 만들었으므로 최소 날짜에 +1할 가치가 있음\n",
    "                    \n",
    "                    ## 가장 먼저 (z, y, x)의 토마토를 익게 만들었으므로(현재까지 최단 경로이므로) (z, y, x)를 기준으로 상하좌우전후 좌표를 append\n",
    "                    for i in range(6):\n",
    "                        zz = z + dz[i]\n",
    "                        yy = y + dy[i]\n",
    "                        xx = x + dx[i]\n",
    "                        if (0 <= zz < H) and (0 <= yy < N) and (0 <= xx < M): ## 탐색이 가능한 방향이면 queue에 append\n",
    "                            queue.append((zz, yy, xx)) \n",
    "                else:\n",
    "                    pass ## -1은 방문이 불가능하므로 pass, 1은 먼저 방문한 경우가 있으니 pass(최소경로가 될 수 없음)\n",
    "            queue_size -= 1\n",
    "        \n",
    "        ## 토마토를 익게 만들었다면\n",
    "        if value:\n",
    "            need_day += 1\n",
    "        \n",
    "    ## 탐색 끝, 익지 않은 토마토가 있는지 확인\n",
    "    for i in range(H):\n",
    "        for j in range(N):\n",
    "            for k in range(M):\n",
    "                if A[i][j][k] == 0:\n",
    "                    return -1 ## 모든 토마토를 익은 토마토로 만드는 것은 불가능\n",
    "                \n",
    "    return need_day ## 최소 날짜\n",
    "\n",
    "## BFS\n",
    "print(BFS(queue, visited))\n",
    "\n",
    "# input\n",
    "# 5 3 2\n",
    "# 0 0 0 0 0\n",
    "# 0 0 0 0 0\n",
    "# 0 0 0 0 0\n",
    "# 0 0 0 0 0\n",
    "# 0 0 1 0 0\n",
    "# 0 0 0 0 0"
   ]
  },
  {
   "cell_type": "markdown",
   "id": "e6859653-cbc9-4ef4-af7a-301b8aaf2570",
   "metadata": {},
   "source": [
    "## 적록색약\n",
    "\n",
    "- 문제 출처: [백준 10026번](https://www.acmicpc.net/problem/10026)"
   ]
  },
  {
   "cell_type": "markdown",
   "id": "4fc2297b-334d-4ca3-9615-e0960332224c",
   "metadata": {},
   "source": [
    "`-` 한 번의 탐색으로 적록색약인 사람과 그렇지 않은 사람이 봤을 때의 구역 개수를 구하는 방법은 딱 떠오르지 않음\n",
    "\n",
    "`-` 그래서 두 번의 탐색으로 문제를 풀기로 함\n",
    "\n",
    "`-` 적록색약이 아닌 경우 전체 영역에 대해 DFS를 해서 군집 개수를 찾을 수 있다\n",
    "\n",
    "- 예시 \n",
    "\n",
    "`-` 예컨대 $(1,1)$은 R(빨강)이고 $(1,1)$에서 DFS를 수행하여 $(1,1)$과 연결된 모든 R을 찾고 이를 하나의 군집으로 묶고 군집 개수를 하나 늘림\n",
    "\n",
    "`-` 만약 $(1,2)$가 아직 방문되지 않았다면 $(1,2)$에 대해 $(1,1)$에서 했던 것과 동일한 작업을 수행\n",
    "\n",
    "`-` 이를 모든 좌표에 대해서 수행하고 최종 군집 개수를 출력하면 된다\n",
    "\n",
    "`-` 적록색약인 경우 G(초록)를 R(빨강)으로 바꾸고 적록색약이 아닌 경우로 생각하여 탐색을 수행하면 된다"
   ]
  },
  {
   "cell_type": "code",
   "execution_count": 122,
   "id": "d2c0f273-2530-4f82-a86e-2bfc0e031bee",
   "metadata": {},
   "outputs": [
    {
     "name": "stdin",
     "output_type": "stream",
     "text": [
      " 5\n",
      " RRRBB\n",
      " GGBBB\n",
      " BBBRR\n",
      " BBRRR\n",
      " RRRRR\n"
     ]
    },
    {
     "name": "stdout",
     "output_type": "stream",
     "text": [
      "4 3\n"
     ]
    }
   ],
   "source": [
    "import sys\n",
    "sys.setrecursionlimit(10**6)\n",
    "\n",
    "## DFS\n",
    "def DFS(x, y, c, blindness=False):\n",
    "    ## c는 R or G or B (=대문자)\n",
    "    if A[x][y].islower(): ## 이미 탐색(소문자)했으면 dfs을 멈춘다\n",
    "        return 0\n",
    "    if blindness: ## 적록색약이면 R과 G가 동일\n",
    "        if c == 'B':\n",
    "            if A[x][y] != c: ## 적록색약도 파랑은 구분한다\n",
    "                return 0\n",
    "        else:\n",
    "            if A[x][y] == 'B':\n",
    "                return 0\n",
    "    else: ## 적록색약 X\n",
    "        if A[x][y] != c: ## 색깔이 다르다\n",
    "            return 0\n",
    "     \n",
    "    color = A[x][y] ## color는 대문자\n",
    "    A[x][y] = A[x][y].lower() ## 이제 탐색했으니 visited로 바꿔준다 (대문자 -> 소문자)\n",
    "\n",
    "    ## (x, y)를 기준으로 상하좌우 탐색\n",
    "    if x < N - 1: ## 위로 탐색이 가능하면\n",
    "        DFS(x + 1, y, color, blindness) ## 상\n",
    "    if x > 0: ## 아래로 탐색이 가능하면\n",
    "        DFS(x - 1, y, color, blindness) ## 하\n",
    "    if y > 0: ## 왼쪽으로 탐색이 가능하면\n",
    "        DFS(x, y - 1, color, blindness) ## 좌\n",
    "    if y < N - 1: ## 오른쪽으로 탐색이 가능하면\n",
    "        DFS(x, y + 1, color, blindness) ## 우\n",
    "    return 1 ## (x, y)와 동일한 색상을 가진 인접 구역을 모두 탐색\n",
    "\n",
    "N = int(input())\n",
    "A = [list(input()) for _ in range(N)] ## 적록색약 없음 (R, G, B)\n",
    "cnt1, cnt2 = 0, 0 ## cnt1은 적록색약이 없을 때의 그룹 수, cnt2는 적록색약이 있을 때의 그룹 수\n",
    "\n",
    "## 출력 부분 (메모리 초과 때문에 배열은 A 하나만 쓸 것임, 근데 이게 문제가 아니었음..., pypy문제임)\n",
    "### 적록색약 X\n",
    "for i in range(N):\n",
    "    for j in range(N):\n",
    "        cnt1 += DFS(i, j, A[i][j], blindness=False)\n",
    "        \n",
    "### A를 원래대로 초기화\n",
    "A = [[x.upper() for x in xx] for xx in A]\n",
    "\n",
    "### 적록색약 O \n",
    "for i in range(N):\n",
    "    for j in range(N):\n",
    "        cnt2 += DFS(i, j, A[i][j], blindness=True)\n",
    "        \n",
    "print(cnt1, cnt2)\n",
    "\n",
    "# input\n",
    "# 5\n",
    "# RRRBB\n",
    "# GGBBB\n",
    "# BBBRR\n",
    "# BBRRR\n",
    "# RRRRR"
   ]
  },
  {
   "cell_type": "markdown",
   "id": "2fc06c5c-93ef-4a63-9a86-5fed4efdf064",
   "metadata": {},
   "source": [
    "## 리모컨\n",
    "\n",
    "- 문제 출처: [백준 1107번](https://www.acmicpc.net/problem/1107)"
   ]
  },
  {
   "cell_type": "markdown",
   "id": "e04a57ed-413a-4d1d-b050-11249c42ef91",
   "metadata": {},
   "source": [
    "`-` BFS를 통해 현재 채널 $100$에서 $N$으로 가기 위한 최소 클릭횟수를 구하자(DFS도 가능)\n",
    "\n",
    "`-` 리모컨에 버튼이 $0$부터 $9$까지 있으므로 이론상 모든 숫자를 표현할 수 있지만 일부 버튼이 고장났다\n",
    "\n",
    "`-` $0\\sim 500000$까지의 버튼을 생성 $\\to$ 고장난 버튼을 포함한 숫자를 제외\n",
    "\n",
    "`-` 입력 가능한 숫자에서 시작해 $+,-$ 버튼을 통해 이동 $\\to$ 만약 기존의 입력횟수보다 많다면 멈추고 적다면 변경한다\n",
    "\n",
    "- 예외 상황\n",
    "\n",
    "`-` $50$만보다 큰 버튼이 필요할 수 있다\n",
    "\n",
    "`-` 예컨대 $N=50$만인데 $4$와 $9$가 고장났다면 $500001$을 입력한 후 $-$버튼을 누르는 것이 최소 입력횟수이다\n",
    "\n",
    "`-` 시작 위치는 $100$이고 $N$은 최대$50$만이므로 대칭성에 의해 버튼을 $100$만(=$2N$)까지 만들어놓으면 모든 경우를 cover할 수 있다"
   ]
  },
  {
   "cell_type": "code",
   "execution_count": 128,
   "id": "c74018bd-ddb6-4966-8e2a-c45487a4044e",
   "metadata": {},
   "outputs": [
    {
     "name": "stdin",
     "output_type": "stream",
     "text": [
      " 97\n",
      " 3\n",
      " 6 7 8\n"
     ]
    },
    {
     "name": "stdout",
     "output_type": "stream",
     "text": [
      "3\n"
     ]
    }
   ],
   "source": [
    "from collections import deque\n",
    "\n",
    "N = int(input())\n",
    "M = int(input())\n",
    "INF = 1e6\n",
    "if M > 0:\n",
    "    broken_buttons = list(map(int, input().split()))\n",
    "else:\n",
    "    broken_buttons = []\n",
    "visited = [INF] * max((2*N + 1), 101) ## 0 ~ 2N번 까지, 시작 위치가 100이므로 적어도 0 ~ 100까지는 있어야 함\n",
    "\n",
    "## 입력 가능한 버튼 list\n",
    "buttons = []\n",
    "for i in range(max(101, 2*N + 1)): ## 시작지점이 100이므로 0 ~ 100과 0 ~ 2N중 더 넓은 범위 선택 \n",
    "    include = True\n",
    "    for bb in broken_buttons:\n",
    "        if str(bb) in str(i):\n",
    "            include = False\n",
    "    if include:\n",
    "        buttons.append(i)\n",
    "\n",
    "## initiate visited\n",
    "for b in buttons:\n",
    "    visited[b] = len(str(b))\n",
    "    \n",
    "if 100 not in buttons:\n",
    "    buttons.append(100) ## 100을 추가안하면 틀림!\n",
    "visited[100] = 0 ## 시작 버튼\n",
    "\n",
    "def BFS(x): ## x는 현재 버튼\n",
    "    queue = deque([])\n",
    "    queue.append(x)\n",
    "    while queue:\n",
    "        channel = queue.popleft()\n",
    "        up = channel + 1\n",
    "        down = channel - 1\n",
    "        \n",
    "        ## + 1 버튼\n",
    "        if up <= 2*N: ## buttons 외에 값 탐색은 무의미\n",
    "            if visited[up] > visited[channel] + 1: ## 더 작은 클릭 횟수가 존재한다면\n",
    "                queue.append(up)\n",
    "                visited[up] = visited[channel] + 1\n",
    "                \n",
    "        ## - 1 버튼\n",
    "        if down >= 0: ## buttons 외에 값 탐색은 무의미\n",
    "            if visited[down] > visited[channel] + 1: ## 더 작은 클릭 횟수가 존재한다면\n",
    "                queue.append(down)\n",
    "                visited[down] = visited[channel] + 1\n",
    "    return None\n",
    "\n",
    "## search\n",
    "for b in buttons:\n",
    "    if visited[b] == len(str(b)) or b == 100:\n",
    "        BFS(b)\n",
    "\n",
    "## print\n",
    "print(visited[N])\n",
    "\n",
    "# input\n",
    "# 97\n",
    "# 3\n",
    "# 6 7 8"
   ]
  },
  {
   "cell_type": "markdown",
   "id": "39ce4010-14fd-4b41-8b32-07ef737f70d3",
   "metadata": {},
   "source": [
    "## 아기 상어\n",
    "\n",
    "- 문제 출처: [백준 16236번](https://www.acmicpc.net/problem/16236)"
   ]
  },
  {
   "cell_type": "markdown",
   "id": "2af45ce6-6d41-41df-8c88-93f9b2b62cab",
   "metadata": {},
   "source": [
    "`-` 아기 상어가 먹을 수 있는 물고기의 좌표를 얻은 후 거기로 이동이 가능하지 파악\n",
    "\n",
    "`-` 불가능하다면 엄마 상어를 부르고 가능하다면 해당 좌표로 이동 후 물고기를 먹고 다시 이를 반복하면 된다\n",
    "\n",
    "`-` 자세한 내용은 주석에 달아놨다 (이게 더 편함...)\n",
    "\n",
    "`-` 시간초과에 고통받다가 다음 링크를 참고하여 해결함: https://www.acmicpc.net/board/view/35531"
   ]
  },
  {
   "cell_type": "markdown",
   "id": "ab1aaba6-c2c5-4af5-8eeb-11f305e66e34",
   "metadata": {},
   "source": [
    "- BFS 구현 시 주의사항\n",
    "\n",
    "`-` `queue`에서 `popleft`한 뒤에 방문 여부를 확인하는 것이 아닌 `append` 하기 전에 확인해야 한다\n",
    "\n",
    "`-` 그렇지 않으면 중복 방문을 하게 된다 (물론 `if문`에서 걸러지지만 이를 하나의 좌표에 대해 중복해서 처리해야 된다)"
   ]
  },
  {
   "cell_type": "code",
   "execution_count": 64,
   "id": "bb53cab5-75aa-4389-9f1c-b834a8e10e03",
   "metadata": {},
   "outputs": [
    {
     "name": "stdin",
     "output_type": "stream",
     "text": [
      " 6\n",
      " 1 1 1 1 1 1\n",
      " 2 2 6 2 2 3\n",
      " 2 2 5 2 2 3\n",
      " 2 2 2 4 6 3\n",
      " 0 0 0 0 0 6\n",
      " 0 0 0 0 0 9\n"
     ]
    },
    {
     "name": "stdout",
     "output_type": "stream",
     "text": [
      "39\n"
     ]
    }
   ],
   "source": [
    "from collections import deque\n",
    "\n",
    "## 함수\n",
    "def get_shark_position(arr): \n",
    "    for i in range(N):\n",
    "        for j in range(N):\n",
    "            if arr[i][j] == 9:\n",
    "                return [i, j] ## 아기 상어의 좌표\n",
    "\n",
    "def BFS(x, y): \n",
    "    global visited\n",
    "    queue = deque([[x, y]]) ## 아기 상어의 좌표\n",
    "    visited = [[-1] * N for _ in range(N)] ## 방문 여부를 기록\n",
    "    visited[x][y] = 0 ## 아기 상어는 방문으로 처리\n",
    "    distance = 0\n",
    "    fishes = []\n",
    "    \n",
    "    while queue:\n",
    "        if fishes: ## A[x][y]에서 가장 가까운 물고기들 좌표를 구했으면 while문 종료\n",
    "            break\n",
    "            \n",
    "        queue_size = len(queue)\n",
    "        distance += 1\n",
    "        while queue_size:\n",
    "            qx, qy = queue.popleft() ## 맨 처음에 pop되는 좌표는 현재 아기 상어의 좌표이다\n",
    "            \n",
    "            ## 만약 아래의 if문을 그냥 shark_size로 코딩하면 상어 크기가 9보다 커질 때 제자리만 맴도는 무한루프에 빠진다\n",
    "            if 0 < A[qx][qy] < min(7, shark_size): ## 아기 상어가 먹을 수 있는 물고기 (물고기 크기는 최대 6)\n",
    "                fishes.append([visited[qx][qy], qx, qy]) ## 물고기 좌표 append\n",
    "\n",
    "            for i in range(4):\n",
    "                xx = dx[i] + qx\n",
    "                yy = dy[i] + qy\n",
    "\n",
    "                if (0 <= xx < N) and (0 <= yy < N) and (A[xx][yy] <= shark_size): ## 아기 상어가 이동할 수 있다면\n",
    "                    if visited[xx][yy] == -1: ## 아직 방문하지 않았다면\n",
    "                        queue.append([xx, yy])\n",
    "                        visited[xx][yy] = distance ## 이제 방문함\n",
    "            queue_size -= 1\n",
    "    \n",
    "    ## 목적지까지 도달 가능한지 판단\n",
    "    if fishes:\n",
    "        fishes.sort(key = lambda x: (x[0], x[1], x[2])) ## 거리가 가장 가까운 물고기 중 가장 위에 있고 가장 왼쪽에 있는 순으로 정렬\n",
    "        return fishes[0] ## A[x][y]에서 goal까지의 거리와 좌표\n",
    "    return INF\n",
    "\n",
    "## 입력\n",
    "N = int(input())\n",
    "A = [list(map(int, input().split())) for _ in range(N)] ## 아기 상어와 물고기의 상태를 나타낸 배열 \n",
    "shark_size = 2 ## 아기 상어의 크기 ## 2부터 시작\n",
    "stack = 0 ## shark가 다음 size로 진화하기 위해 먹어야 할 남은 물고기 개수\n",
    "time = 0 ## 아기 상어가 엄마 상어에게 도움을 요청하지 않고 물고기를 잡아먹을 수 있는 시간\n",
    "INF = 1e6\n",
    "dx = [1,-1, 0, 0] ## 상하좌우\n",
    "dy = [0, 0, -1, 1] ## 상하좌우\n",
    "\n",
    "## 초기값\n",
    "shark_position = get_shark_position(A) ## 현재 아기 상어의 위치\n",
    "\n",
    "## 아기 상어의 size보다 작은 물고기들 중 먹을 수 있는 물고기 색출\n",
    "while True: ## while문은 O(N^2) 만큼 돌아간다\n",
    "    i, j = shark_position ## 행, 열\n",
    "    fish_dist = BFS(i, j) ## A[i][j]와 fish 사이의 거리와 좌표\n",
    "\n",
    "    if fish_dist != INF: \n",
    "        d, x, y = fish_dist ## 아기 상어와 거리가 가장 가까운 물고기들 중 조건을 충족하는 물고기 한 마리 \n",
    "        time += d ## 이동하는데 걸리 시간을 더해줌\n",
    "        A[i][j] = 0 ## 아기 상어는 물고기를 먹으러 위치를 옮김 (A[i][j] -> A[x][y])\n",
    "        A[x][y] = 9 ## 물고기는 아기 상어가 해치웠으니 안심하라구 \n",
    "        shark_position = [x, y]\n",
    "        stack += 1 ## 아기 상어가 물고기를 잡아 먹었으므로 스택을 쌓음\n",
    "        \n",
    "        if stack == shark_size: ## 아기 상어 level up 가능여부 check\n",
    "            shark_size += 1 \n",
    "            stack = 0\n",
    "    else:\n",
    "        break ## 아기 상어가 먹을 수 있는 물고기가 없으므로 엄마 상어에게 도움을 요청\n",
    "\n",
    "print(time)\n",
    "\n",
    "# input\n",
    "# 6\n",
    "# 1 1 1 1 1 1\n",
    "# 2 2 6 2 2 3\n",
    "# 2 2 5 2 2 3\n",
    "# 2 2 2 4 6 3\n",
    "# 0 0 0 0 0 6\n",
    "# 0 0 0 0 0 9"
   ]
  },
  {
   "cell_type": "markdown",
   "id": "79fddc2d-2dca-4fb5-b916-9f66b1fe5faa",
   "metadata": {},
   "source": [
    "## 뱀과 사다리 게임\n",
    "\n",
    "- 문제 출처: [백준 16928번](https://www.acmicpc.net/problem/16928)"
   ]
  },
  {
   "cell_type": "markdown",
   "id": "cdd38e71-bf63-4df5-8ca9-e3912cd31f8d",
   "metadata": {},
   "source": [
    "`-` 어디로 이동할지를 나타내는 딕셔너리를 만들자\n",
    "\n",
    "`-` 뱀과 사다리를 딕셔너리에 기입 (한 칸에 뱀과 사다리가 중복되지는 않는다)\n",
    "\n",
    "`-` 그리고 $1$번 부터 시작하여 $1\\sim 6$칸 까지 이동을 한다\n",
    "\n",
    "`-` 도착한 위치에 뱀 또는 사다리가 있으면 이를 타고 움직인다\n",
    "\n",
    "`-` 이를 BFS를 통해 구현하면 된다\n",
    "\n",
    "`-` BFS이므로 $100$번에 가장 먼저 도착하는 경로가 주사위를 굴려야 하는 횟수의 최솟값이다"
   ]
  },
  {
   "cell_type": "code",
   "execution_count": 75,
   "id": "c59e4013-640b-445a-bb08-8f2fe22a18e5",
   "metadata": {},
   "outputs": [
    {
     "name": "stdin",
     "output_type": "stream",
     "text": [
      " 4 9\n",
      " 8 52\n",
      " 6 80\n",
      " 26 42\n",
      " 2 72\n",
      " 51 19\n",
      " 39 11\n",
      " 37 29\n",
      " 81 3\n",
      " 59 5\n",
      " 79 23\n",
      " 53 7\n",
      " 43 33\n",
      " 77 21\n"
     ]
    },
    {
     "name": "stdout",
     "output_type": "stream",
     "text": [
      "5\n"
     ]
    }
   ],
   "source": [
    "from collections import deque\n",
    "N, M = map(int, input().split())\n",
    "board = {i:i for i in range(1, 101)} ## 게임판을 나타내는 딕셔러니 (key : value는 key -> value를 나타냄)\n",
    "dice = list(range(1, 7))\n",
    "\n",
    "## 사다리\n",
    "for _ in range(N):\n",
    "    x, y = map(int, input().split())\n",
    "    board[x] = y \n",
    "    \n",
    "## 뱀\n",
    "for _ in range(M):\n",
    "    x, y = map(int, input().split())\n",
    "    board[x] = y \n",
    "    \n",
    "## BFS\n",
    "def BFS(start_number):\n",
    "    queue = deque()\n",
    "    queue.append(start_number)\n",
    "    visited = {}\n",
    "    visited[start_number] = 0 ## visited[i] => start_number에서 i까지 도달하기 위해 굴려야 하는 최소 주사위 횟수\n",
    "    \n",
    "    while queue: ## 갈 곳이 남아있다면\n",
    "        number = queue.popleft()\n",
    "        if number == 100: ## 목표 달성!\n",
    "            break\n",
    "\n",
    "        for d in dice: ## 주사위를 굴리자\n",
    "            next_number = number + d ## 주사위를 굴려서 나온 눈만큼 앞으로 전진\n",
    "            if next_number <= 100: ## 100번보다 큰 숫자의 번호는 없다\n",
    "                move_number = board[next_number]  ## 뱀 or 사다리를 타고 가보자\n",
    "                if next_number not in visited: ## 아직 가보지 못했다면\n",
    "                    if move_number not in visited: ## move_number는 next_number에서 사다리 or 뱀타고 갈 수도 있고 그냥 주사위 굴려서만 갈 수도 있다\n",
    "                        visited[move_number] =  visited[number] + 1 ## 사다리 or 뱀을 통해서 이동\n",
    "                        queue.append(move_number) \n",
    "                    visited[next_number] = visited[number] + 1 ## 현재 위치에서 주사위 굴려서 나온 만큼 앞으로 간다\n",
    "                    ## next_number에 뱀 or 사다리가 있다면 next_number -> move_number가 확정이지만\n",
    "                    ## move_number에 도달했다고 해서 항상 next_number에서 사다리 or 뱀을 타고 온 것은 아니다\n",
    "                    ## ex) 17 ->(사디리) 80, 하지만 74 ->(주사위 6) 80을 통해서 80에 도달할 수 도 있음\n",
    "                    ## 그렇지만 17번에 도달하면 무조건 80번으로 가야하므로 1:1함수는 아니다\n",
    "\n",
    "    return visited[100]\n",
    "                \n",
    "print(BFS(1))\n",
    "\n",
    "# input\n",
    "# 4 9\n",
    "# 8 52\n",
    "# 6 80\n",
    "# 26 42\n",
    "# 2 72\n",
    "# 51 19\n",
    "# 39 11\n",
    "# 37 29\n",
    "# 81 3\n",
    "# 59 5\n",
    "# 79 23\n",
    "# 53 7\n",
    "# 43 33\n",
    "# 77 21"
   ]
  },
  {
   "cell_type": "markdown",
   "id": "ec2f1095-3d5e-408d-91c2-1fd7608eaa61",
   "metadata": {},
   "source": [
    "## 단지번호붙이기\n",
    "\n",
    "- 문제 출처: [백준 2667번](https://www.acmicpc.net/problem/2667)"
   ]
  },
  {
   "cell_type": "markdown",
   "id": "8efa945e-2f2a-430e-8b4e-de20e67d269c",
   "metadata": {},
   "source": [
    "`-` 단지 수를 찾고 각 단지에 속하는 집의 수를 DFS 또는 BFS를 통해 찾으면 된다"
   ]
  },
  {
   "cell_type": "code",
   "execution_count": 39,
   "id": "1dfa3b90-ef8b-4bd1-8e32-66251db20be9",
   "metadata": {},
   "outputs": [
    {
     "name": "stdin",
     "output_type": "stream",
     "text": [
      " 7\n",
      " 0110100\n",
      " 0110101\n",
      " 1110101\n",
      " 0000111\n",
      " 0100000\n",
      " 0111110\n",
      " 0111000\n"
     ]
    },
    {
     "name": "stdout",
     "output_type": "stream",
     "text": [
      "3\n",
      "7\n",
      "8\n",
      "9\n"
     ]
    }
   ],
   "source": [
    "N = int(input())\n",
    "houses = [list(input()) for _ in range(N)] ## '1'은 집이 있고 '0'은 집이 없다\n",
    "visited = [[False] * N for _ in range(N)]\n",
    "dx = [1, -1, 0, 0] ## 상하좌우\n",
    "dy = [0, 0, -1, 1] ## 상하좌우\n",
    "\n",
    "def DFS(x, y): ## houses[x][y]와 인접한 집을 탐색\n",
    "    global count\n",
    "    global visited\n",
    "    \n",
    "    visited[x][y] = True ## houses[x][y] 방문\n",
    "    count += 1 ## 단지내 집의 수 + 1\n",
    "    \n",
    "    for i in range(4):\n",
    "        xx = x + dx[i]\n",
    "        yy = y + dy[i]\n",
    "        if (0 <= xx < N) and (0 <= yy < N): ## 좌표를 벗어나지 않는 선에서\n",
    "            if not visited[xx][yy] and houses[xx][yy] == '1': ## 아직 방문하지 않았고 해당 위치에 집이 존재한다면\n",
    "                DFS(xx, yy)\n",
    "    return count \n",
    "   \n",
    "## solve\n",
    "counts = []\n",
    "group = 0\n",
    "for i in range(N):\n",
    "    for j in range(N):\n",
    "        if houses[i][j] == '1' and not visited[i][j]:\n",
    "            group += 1\n",
    "            count = 0 ## 단지 내 집의 수\n",
    "            counts.append(DFS(i, j)) ## 각 단지 내 집의 수\n",
    "            \n",
    "\n",
    "print('\\n'.join(list(map(str, ([group] + sorted(counts))))))\n",
    "\n",
    "# input\n",
    "# 7\n",
    "# 0110100\n",
    "# 0110101\n",
    "# 1110101\n",
    "# 0000111\n",
    "# 0100000\n",
    "# 0111110\n",
    "# 0111000"
   ]
  },
  {
   "cell_type": "markdown",
   "id": "87ebe55e-35f8-4525-ab29-f8ef633dfbc9",
   "metadata": {},
   "source": [
    "## DSLR\n",
    "\n",
    "- 문제 출처: [백준 9019번](https://www.acmicpc.net/problem/9019)"
   ]
  },
  {
   "cell_type": "markdown",
   "id": "1ba82fd4-f11a-448f-951b-771f77c959ee",
   "metadata": {},
   "source": [
    "`-` BFS를 통해 최단경로를 찾는 문제이다\n",
    "\n",
    "`-` `L`과 `R` 연산을 `str()` 함수를 이용해 수행하면 시간초과에 걸리는 점을 유의해야 한다 (질문검색에서 확인함)"
   ]
  },
  {
   "cell_type": "markdown",
   "id": "bf1dab19-08d8-4d73-8fdc-3237a7af05db",
   "metadata": {},
   "source": [
    "- `str` 함수 사용 version"
   ]
  },
  {
   "cell_type": "markdown",
   "id": "3cb69d2a-52da-4552-a91a-f88dbeeb3ca0",
   "metadata": {},
   "source": [
    "```python\n",
    "def int2str(n: int) -> str:\n",
    "    str_n = str(n)\n",
    "    len_n = len(str_n)\n",
    "    nn =''.join(['0' * (4 - len_n), str_n])\n",
    "    return nn\n",
    "\n",
    "def L(n: int) -> int:\n",
    "    n = int2str(n)\n",
    "    d1, d2, d3, d4 = n\n",
    "    nn = ''.join([d2, d3, d4, d1])\n",
    "    nn = int(nn)\n",
    "    return nn\n",
    "\n",
    "def R(n: int) -> int:\n",
    "    n = int2str(n)\n",
    "    d1, d2, d3, d4 = n\n",
    "    nn = ''.join([d4, d1, d2, d3])\n",
    "    nn = int(nn)\n",
    "    return nn\n",
    "```"
   ]
  },
  {
   "cell_type": "markdown",
   "id": "e9be631c-c37b-429a-b5b5-c1da4d54d2a2",
   "metadata": {},
   "source": [
    "`-` 위와 같이 함수를 구현하면 시간초과에 걸린다\n",
    "\n",
    "`-` `str(n)`은 $O(\\log N)$, `len(n)`과 `join`은 $O(N)$이다 ($N$은 $n$의 자릿수 길이)\n",
    "\n",
    "`-` 하지만 아래의 코드와 같이 $O(1)$에 구현할 수 있다"
   ]
  },
  {
   "cell_type": "code",
   "execution_count": 192,
   "id": "15b9fc5b-2b74-4616-a510-8dd7cd6cac6d",
   "metadata": {
    "tags": []
   },
   "outputs": [
    {
     "name": "stdin",
     "output_type": "stream",
     "text": [
      " 3\n",
      " 1234 3412\n"
     ]
    },
    {
     "name": "stdout",
     "output_type": "stream",
     "text": [
      "LL\n"
     ]
    },
    {
     "name": "stdin",
     "output_type": "stream",
     "text": [
      " 1000 1\n"
     ]
    },
    {
     "name": "stdout",
     "output_type": "stream",
     "text": [
      "L\n"
     ]
    },
    {
     "name": "stdin",
     "output_type": "stream",
     "text": [
      " 1 16\n"
     ]
    },
    {
     "name": "stdout",
     "output_type": "stream",
     "text": [
      "DDDD\n"
     ]
    }
   ],
   "source": [
    "from collections import deque\n",
    "\n",
    "def D(n: int) -> int:\n",
    "    nn = n << 1 ## n * 2^1 ## 수가 작을 땐 곱하기 연산보다 비트연산자(bit shift 사용)가 더 빠르다\n",
    "    if nn > 9999:\n",
    "        nn %= 10000\n",
    "    return nn\n",
    "\n",
    "def S(n: int) -> int:\n",
    "    nn = n - 1\n",
    "    if n == 0:\n",
    "        return 9999\n",
    "    return nn\n",
    "\n",
    "def L(n: int) -> int:\n",
    "    ## n = 1000*d1 + 100*d2 + 10*d3 + d4의 형태이다\n",
    "    ## 1000*d2 + 100*d3 + 10*d4 + d1의 형태로 바꾸자\n",
    "    ## 10*n = 10000*d1 + 1000*d2 + 100*d3 + 10*d4이고 여기서 10000*d1을 d1으로 바꾸면 원하는 값이 된다\n",
    "    ## 1000*d2 + 100*d3 + 10*d4은 10000미만이고 10000*d1은 10000이상이므로  10*n // 10000은 d1이 된다\n",
    "    ## 또한 1000*d2 + 100*d3 + 10*d4은 10000미만이므로 10*n % 10000은 1000*d2 + 100*d3 + 10*d4이 된다\n",
    "    ## 즉, n에 L 변환을 한 결과는 {(10*n % 10000) + (10*n // 10000)}이 된다\n",
    "    \n",
    "    nn = 10 * n\n",
    "    return (nn % 10000) + (nn // 10000)\n",
    "\n",
    "def R(n: int) -> int:\n",
    "    ## n = 1000*d1 + 100*d2 + 10*d3 + d4의 형태이다\n",
    "    ## 1000*d4 + 100*d1 + 10*d2 + d3의 형태로 바꾸자\n",
    "    ## n = 10(100*d1 + 10*d2 + *d3) + d4 이므로 n % 10은 d4가 된다\n",
    "    ## n//10 = 100*d1 + 10*d2 + d3이 된다\n",
    "    ## 즉, n에 R 변환을 한 결과는 1000*(n % 10) + (n // 10)이 된다\n",
    "\n",
    "    return 1000*(n % 10) + (n // 10) \n",
    "\n",
    "def BFS(A: int, B: int):\n",
    "    queue = deque()\n",
    "    queue.append(A) ## 시작 숫자\n",
    "    operations = {} ## opertaion[n] = D, S, L, R 중 하나 => 이전의 number에서 function을 적용해 n이 되었음을 의미\n",
    "    visited = {} ## visited[n] = k는 k --(D, S, L, R 중 하나)--> n을 의미\n",
    "    visited[A] = A  \n",
    "    \n",
    "    while queue:\n",
    "        num = queue.popleft()\n",
    "        if num == B: ## B는 목표 숫자\n",
    "            break\n",
    "        \n",
    "        ## 함수를 사용하면 호출하는 시간만큼 손해이다\n",
    "        ## 매번 4번씩 함수가 호출되어 stack에 쌓이므로 시간이 꽤 걸림\n",
    "        for func_str in ['D', 'S', 'L', 'R']:\n",
    "            if func_str == 'D':\n",
    "                new_num = num << 1\n",
    "                if new_num > 9999:\n",
    "                    new_num %= 10000\n",
    "            elif func_str == 'S':\n",
    "                new_num = num - 1\n",
    "                if new_num == -1:\n",
    "                    new_num = 9999\n",
    "            elif func_str == 'L':\n",
    "                nn = 10 * num\n",
    "                new_num = nn % 10000 + nn // 10000\n",
    "            else:\n",
    "                new_num = 1000*(num % 10) + (num // 10)\n",
    "\n",
    "            if new_num not in visited: ## 아직 방문하지 않았다면\n",
    "                visited[new_num] = num ## 이제 방문함\n",
    "                operations[new_num] = func_str\n",
    "                queue.append(new_num) ## 방문 처리를 하고 append\n",
    "\n",
    "    return visited, operations\n",
    "\n",
    "def get_command_list(visited, operations, start, end):\n",
    "    command_list = deque()\n",
    "    while start != end:\n",
    "        ## previous_num --(operation)--> end\n",
    "        previous_num = visited[end]\n",
    "        operation = operations[end]\n",
    "        command_list.appendleft(operation)\n",
    "        end = previous_num\n",
    "    return command_list\n",
    "\n",
    "## 입력\n",
    "T = int(input())\n",
    "for _ in range(T):\n",
    "    A, B = map(int, input().split())\n",
    "    visited, operations = BFS(A, B)\n",
    "    command_list = get_command_list(visited, operations, A, B)\n",
    "    print(''.join(command_list))\n",
    "    \n",
    "# input\n",
    "# 3\n",
    "# 1234 3412\n",
    "# 1000 1\n",
    "# 1 16"
   ]
  },
  {
   "cell_type": "markdown",
   "id": "66cc4cc0-c2c5-495a-80ab-65af67aac9a8",
   "metadata": {},
   "source": [
    "## 케빈 베이컨의 6단계 법칙\n",
    "\n",
    "- 문제 출처: [백준 1389번](https://www.acmicpc.net/problem/1389)"
   ]
  },
  {
   "cell_type": "markdown",
   "id": "60b20640-3c17-4588-ac01-c4fa728985e5",
   "metadata": {},
   "source": [
    "`-` `BFS`를 통해 케빈 베이컨의 수를 구하면 된다\n",
    "\n",
    "`-` `DFS`는 방문순서와 거리가 일치하지 않으므로  `BFS`를 사용해야 함"
   ]
  },
  {
   "cell_type": "code",
   "execution_count": 23,
   "id": "cc47513e-deed-4d90-8117-65b6a561056b",
   "metadata": {},
   "outputs": [
    {
     "name": "stdin",
     "output_type": "stream",
     "text": [
      " 5 5\n",
      " 1 3\n",
      " 1 4\n",
      " 4 5\n",
      " 4 3\n",
      " 3 2\n"
     ]
    },
    {
     "name": "stdout",
     "output_type": "stream",
     "text": [
      "3\n"
     ]
    }
   ],
   "source": [
    "from collections import deque\n",
    "\n",
    "def BFS(user, graph):\n",
    "    queue = deque()\n",
    "    queue.append(user) ## start\n",
    "    visited = {}\n",
    "    visited[user] = 0 ## 나와 나 사이의 케빈 베이컨의 수는 0\n",
    "    state = 0 ## 케빈 베이컨의 수\n",
    "    \n",
    "    while queue: ## 남은 친구가 있을 때까지\n",
    "        queue_size = len(queue)\n",
    "        state += 1\n",
    "        while queue_size: ## e.g. 1:[2,3], 2:[1,4], 3:[1],4:[2] ---> 1부터 시작, 2와 3은 1단계, 4는 2단계\n",
    "            friend = queue.popleft()\n",
    "            for fof in graph[friend]:\n",
    "                if fof not in visited: ## 아직 만나지 않은 친구라면\n",
    "                    queue.append(fof) ## 이제 만나야지\n",
    "                    visited[fof] = state ## user와 fof사이의 케빈 베이컨의 수\n",
    "            queue_size -= 1\n",
    "    \n",
    "    ## user의 케빈 베이컨의 수를 계산\n",
    "    number = 0 \n",
    "    for i in range(1, N + 1):\n",
    "        number += visited[i]\n",
    "    return number\n",
    "\n",
    "## 입력\n",
    "N, M = map(int, input().split()) ## N은 유저의 수(=노드), M은 친구 관계의 수(=간선)\n",
    "graph = {} ## 양방향 그래프\n",
    "\n",
    "for _ in range(M):\n",
    "    user1, user2 = map(int, input().split())\n",
    "    \n",
    "    ## user1\n",
    "    if user1 not in graph:\n",
    "        graph[user1] = [user2]\n",
    "    else:\n",
    "        graph[user1].append(user2)\n",
    "        \n",
    "    ## user2\n",
    "    if user2 not in graph:\n",
    "        graph[user2] = [user1]\n",
    "    else:\n",
    "        graph[user2].append(user1)\n",
    "    \n",
    "## solve\n",
    "user_number_list = [0]\n",
    "for i in range(1, N + 1):\n",
    "    user_number = BFS(i, graph)\n",
    "    user_number_list.append(user_number)\n",
    "    \n",
    "### 케빈 베이컨의 수가 가장 작으면서 번호도 작은 사람을 찾자\n",
    "number = 1e6\n",
    "for j in range(1, N + 1):\n",
    "    user_number = user_number_list[j]\n",
    "    if user_number < number:\n",
    "        number = user_number\n",
    "        user = j\n",
    "        \n",
    "print(user)\n",
    "\n",
    "# input\n",
    "# 5 5\n",
    "# 1 3\n",
    "# 1 4\n",
    "# 4 5\n",
    "# 4 3\n",
    "# 3 2"
   ]
  },
  {
   "cell_type": "markdown",
   "id": "130ae80c-b1d4-49c7-8af4-199a183a75bc",
   "metadata": {},
   "source": [
    "## 경로 찾기\n",
    "\n",
    "- 문제 출처: [백준 11403번](https://www.acmicpc.net/problem/11403)"
   ]
  },
  {
   "cell_type": "markdown",
   "id": "0b77d7f3-4693-4728-81c3-4b3ae0a769c7",
   "metadata": {},
   "source": [
    "`-` 플로이드-워셜 알고리즘 사용하여 해결하면 된다"
   ]
  },
  {
   "cell_type": "code",
   "execution_count": 32,
   "id": "cdfdbe6c-9bc9-4c69-9a65-7203cdde2bbb",
   "metadata": {},
   "outputs": [
    {
     "name": "stdin",
     "output_type": "stream",
     "text": [
      " 7\n",
      " 0 0 0 1 0 0 0\n",
      " 0 0 0 0 0 0 1\n",
      " 0 0 0 0 0 0 0\n",
      " 0 0 0 0 1 1 0\n",
      " 1 0 0 0 0 0 0\n",
      " 0 0 0 0 0 0 1\n",
      " 0 0 1 0 0 0 0\n"
     ]
    },
    {
     "name": "stdout",
     "output_type": "stream",
     "text": [
      "1 0 1 1 1 1 1\n",
      "0 0 1 0 0 0 1\n",
      "0 0 0 0 0 0 0\n",
      "1 0 1 1 1 1 1\n",
      "1 0 1 1 1 1 1\n",
      "0 0 1 0 0 0 1\n",
      "0 0 1 0 0 0 0\n"
     ]
    }
   ],
   "source": [
    "def floyd_warsahll(dist):\n",
    "    for k in range(N): ## 경유지: {0, 1, 2, ..., k-2}\n",
    "        for i in range(N):\n",
    "            for j in range(N):\n",
    "                if dist[i][j] > dist[i][k] + dist[k][j]: ## 기존의 i -> j보다 더 짧은 경로가 존재하면\n",
    "                    dist[i][j] = dist[i][k] + dist[k][j] ## relaxation     \n",
    "    \n",
    "    for i in range(N):\n",
    "        for j in range(N):\n",
    "            if dist[i][j] == INF:  \n",
    "                dist[i][j] = 0 ## 경로가 없음\n",
    "            else:\n",
    "                dist[i][j] = 1 ## 경로가 있음\n",
    "    \n",
    "    return dist\n",
    "                    \n",
    "## 입력\n",
    "N = int(input())\n",
    "INF = 1e9\n",
    "dist = [list(map(int, input().split())) for _ in range(N)]\n",
    "\n",
    "## 간선이 존재하지 않는 경우에 대해 INF로 초기화\n",
    "for i in range(N):\n",
    "    for j in range(N):\n",
    "        if dist[i][j] == 0: ## i = j일 때도 INF로 초기화(i -> ... -> i로 가는 간선은 아직 없음)\n",
    "            dist[i][j] = INF\n",
    "\n",
    "## solve\n",
    "result = floyd_warsahll(dist)\n",
    "\n",
    "for r in result:\n",
    "    print(*r)\n",
    "    \n",
    "# input\n",
    "# 7\n",
    "# 0 0 0 1 0 0 0\n",
    "# 0 0 0 0 0 0 1\n",
    "# 0 0 0 0 0 0 0\n",
    "# 0 0 0 0 1 1 0\n",
    "# 1 0 0 0 0 0 0\n",
    "# 0 0 0 0 0 0 1\n",
    "# 0 0 1 0 0 0 0"
   ]
  },
  {
   "cell_type": "markdown",
   "id": "e31a4b36-7cf2-49ac-97a3-8364c1d62e71",
   "metadata": {},
   "source": [
    "## 숨바꼭질 3\n",
    "\n",
    "- 문제 출처: [백준 13549번](https://www.acmicpc.net/problem/13549)"
   ]
  },
  {
   "cell_type": "markdown",
   "id": "f9affdf5-27f2-4cee-8bb1-263d07a82231",
   "metadata": {},
   "source": [
    "`-` BFS를 사용해 최단 거리를 구하면 된다\n",
    "\n",
    "`-` 수빈의 위치를 $x$, 동생의 위치를 $y$라 할 때 $2x\\leq y+1$일 때만 순간이동을 해야 시간 손해가 아니다\n",
    "\n",
    "`-` 만약 $2x>y+1$이라고 하면 $x$에서 순간이동을 하고 뒤로 한 칸씩 이동하기 보단 뒤로 한 칸씩 이동하고 순간이동을 하는 것이 시간이 더 단축된다\n",
    "\n",
    "`-` 왜냐하면 순간이동을 하고 뒤로 한 칸 이동은 딱 한 칸이지만 한 칸 뒤로 이동을 하고 순간이동을 하면 곱하기 2가 되므로 실질적으로 두 칸을 뒤로 이동한 것이기 때문이다 \n",
    "\n",
    "`-` 예컨대 $x=52, y=98$일 때 순간이동을 하고 뒤로 가면 총 6초가 걸린다\n",
    "\n",
    "`-` 하지만 뒤로 3칸을 가고 순간이동을 하면 총 3초가 걸린다\n",
    "\n",
    "- 탐색 순서\n",
    "\n",
    "`-` 이 문제에서는 간선마다 가중치가 다르다 (순간이동은 0초임)\n",
    "\n",
    "`-` 기존의 BFS는 이동 횟수가 최단 경로이지만 여기서는 가중치가 다르므로 아니다\n",
    "\n",
    "`-` 왜냐하면 순간이동이 0초이므로 연산자의 사용횟수가 최단 거리가 아니기 때문이다\n",
    "\n",
    "`-` 예컨대 순간이동을 7번하여 동생을 잡았다고 해서 최단 시간이 7초가 아니다 (0초이다)\n",
    "\n",
    "`-` 그래서 탐색순서를 순간이동부터 해야 한다\n",
    "\n",
    "- 문제점\n",
    "\n",
    "`-` 순간이동을 탐색하고 앞으로 한 칸을 탐색하냐 뒤로 한 칸을 탐색하냐에 따라 정답이냐 아니냐가 갈린다\n",
    "\n",
    "`-` 앞으로 한 칸보다 뒤로 한 칸을 먼저 탐색해야 한다\n",
    "\n",
    "`-` 정확한 이유는 모르겠다 \n",
    "\n",
    "`-` 이 문제에 대해 찾아보니 `0-1 너비 우선 탐색`을 이용해 해결할 수 있다고 한다"
   ]
  },
  {
   "cell_type": "markdown",
   "id": "b84cb51c-5c5a-4031-ab2a-6a72ae091a0a",
   "metadata": {},
   "source": [
    "- 단순 `BFS`"
   ]
  },
  {
   "cell_type": "code",
   "execution_count": 1,
   "id": "0e7e774d-6957-49cc-b99b-b6ee7b10d77a",
   "metadata": {},
   "outputs": [
    {
     "name": "stdin",
     "output_type": "stream",
     "text": [
      " 5 17\n"
     ]
    },
    {
     "name": "stdout",
     "output_type": "stream",
     "text": [
      "2\n"
     ]
    }
   ],
   "source": [
    "from collections import deque\n",
    "\n",
    "def BFS(x): ## x는 수빈의 현재 위치\n",
    "    queue = deque()\n",
    "    queue.append(x)\n",
    "    position = {} \n",
    "    position[x] = 0 ## start\n",
    "    \n",
    "    while queue:\n",
    "        pos = queue.popleft()\n",
    "        if pos == K:\n",
    "            break\n",
    "        \n",
    "        ## BFS이므로 먼저 도착한게 아니라면 최단 거리가 아님\n",
    "        ## 아지만 가중치가 다름(순간이동은 0초)\n",
    "        ## 기존의 경로보다 더 빠르면 방문하도록 코딩하든가\n",
    "        ## 아니면 순간이동을 먼저 탐색하든가 해야 한다\n",
    "        ## 만약 순간이동을 마지막에 한다면 x=1이고 K=2일 때 1초가 걸린다(앞으로 한 칸)\n",
    "        ## 하지만 정답은 순간이동을 사용해 0초만에 이동 가능하다\n",
    "        \n",
    "        if pos * 2 <= K + 1:\n",
    "            if pos * 2 not in position: \n",
    "                if pos > 0: ## 0은 *2 해도 0이다\n",
    "                    position[pos * 2] = position[pos] \n",
    "                    queue.append(pos * 2)\n",
    "                \n",
    "        if pos >=0 : ## 뒤로 한 칸 이동\n",
    "            if pos - 1 not in position:  \n",
    "                position[pos - 1] = position[pos] + 1\n",
    "                queue.append(pos - 1)\n",
    "                \n",
    "        if pos < K: ## 수빈의 위치보다 큰 경우 앞으로 한 칸 이동할 이유가 없음\n",
    "            if pos + 1 not in position:\n",
    "                position[pos + 1] = position[pos] + 1\n",
    "                queue.append(pos + 1)\n",
    "                \n",
    "    return position[K] ## 수빈이가 동생을 찾는데 걸린 최단 시간\n",
    "\n",
    "## 입력\n",
    "N, K = map(int, input().split())\n",
    "print(BFS(N))\n",
    "\n",
    "# input\n",
    "# 5 17"
   ]
  },
  {
   "cell_type": "markdown",
   "id": "347ebf3b-9ab6-4012-88c0-f83a94f59746",
   "metadata": {},
   "source": [
    "- `0-1 너비 우선 탐색`"
   ]
  },
  {
   "cell_type": "markdown",
   "id": "84ffee3f-11b6-4195-a87e-65daf090da92",
   "metadata": {},
   "source": [
    "`-` 문제를 해결함에 있어 원하는 점은 순간이동의 가중치가 0이므로 순간이동 탐색을 먼저하길 바라는 것이다\n",
    "\n",
    "`-` 즉, 현재 수빈의 위치를 $x$라 할 때 $x<\\frac{2y}{3}$을 만족할 때까지 순간이동만 계속하고 (비용이 0이니까 시간 손해가 없다)\n",
    "\n",
    "`-` 순간이동을 끝냈으면 앞으로 한 칸, 뒤로 한 칸을 가고나서 $x-1$과 $x+1$ 각각에 대해 순간이동을 할 수 있는만큼 순간이동만 계속하는 것이다\n",
    "\n",
    "`-` 그리고 또 다시 해당 위치에 대해 이를 반복하는 것이다\n",
    "\n",
    "`-` 그래서 순간이동을 먼저 탐색하기로 했지만 그 다음에 앞으로 한 칸을 탐색하냐 뒤로 한 칸을 탐색햐냐를 신경써야만 했다\n",
    "\n",
    "`-` 이는 쉽게 해결할 수 있는데 `queue`에 순간이동한 위치를 `append`할 때 `queue의 뒤가 아닌 앞에 삽입`하는 것이다\n",
    "\n",
    "`-` 그러면 해당 위치에서 순간이동을 할 수 있는만큼 반복하고 이를 끝낸 후 앞으로 한 칸, 뒤로 한 칸을 가고나서 또 다시 순간이동을 반복하게 된다\n",
    "\n",
    "`-` 최악의 경우 모든 간선을 확인하고 모든 정점을 방문하므로 시간복잡도 역시 `BFS`와 마찬가지로 $O(V+E)$이다 ($V$는 정점, $E$는 간선)"
   ]
  },
  {
   "cell_type": "code",
   "execution_count": 2,
   "id": "d21ffc9f-dd8a-4cb3-82f6-fa929696313b",
   "metadata": {},
   "outputs": [
    {
     "name": "stdin",
     "output_type": "stream",
     "text": [
      " 5 17\n"
     ]
    },
    {
     "name": "stdout",
     "output_type": "stream",
     "text": [
      "2\n"
     ]
    }
   ],
   "source": [
    "from collections import deque\n",
    "\n",
    "def BFS(x): ## x는 수빈의 현재 위치\n",
    "    queue = deque()\n",
    "    queue.append(x)\n",
    "    position = {} \n",
    "    position[x] = 0 ## start\n",
    "    \n",
    "    while queue:\n",
    "        pos = queue.popleft()\n",
    "        if pos == K:\n",
    "            break\n",
    "        \n",
    "        ## 0-1 BFS\n",
    "        if 2 * pos <= K + 1:\n",
    "            if pos * 2 not in position: \n",
    "                if pos > 0: ## 0인 경우 *2 해도 0이다\n",
    "                    position[pos * 2] = position[pos] \n",
    "                    queue.appendleft(pos * 2) ## 가중치가 0인 간선을 우선 탐색하고 싶으므로 큐에 앞에 삽입하여 바로 popleft하자!\n",
    "\n",
    "        if pos < K: ## 순간이동 다음에 앞으로 한 칸을 탐색해도 문제 없다!\n",
    "            if pos + 1 not in position:\n",
    "                position[pos + 1] = position[pos] + 1\n",
    "                queue.append(pos + 1)\n",
    "                \n",
    "        if pos >= 0 : ## 뒤로 한 칸 이동\n",
    "            if pos - 1 not in position:  \n",
    "                position[pos - 1] = position[pos] + 1\n",
    "                queue.append(pos - 1)\n",
    "                \n",
    "    return position[K] ## 수빈이가 동생을 찾는데 걸린 최단 시간\n",
    "\n",
    "## 입력\n",
    "N, K = map(int, input().split())\n",
    "print(BFS(N))\n",
    "\n",
    "# input\n",
    "# 5 17"
   ]
  },
  {
   "cell_type": "markdown",
   "id": "576cd79f-aebc-4514-be08-f9596baabdc9",
   "metadata": {},
   "source": [
    "## 숨바꼭질 2\n",
    "\n",
    "- [백준 12851번](https://www.acmicpc.net/problem/12851)"
   ]
  },
  {
   "cell_type": "markdown",
   "id": "19bcd3a3-1246-444b-88df-5568d25b4301",
   "metadata": {},
   "source": [
    "`-` 다른 숨바꼭질 문제들과 비슷하다\n",
    "\n",
    "`-` 단, 가장 빠른 시간으로 찾는 방법이 몇 가지인지 계산해야 한다\n",
    "\n",
    "`-` 이미 방문했어도 걸리는 시간이 동일하면 `visited[x]`에 1을 더해준다\n",
    "\n",
    "`-` 굳이 방문해서 cost 낭비를 할 필요는 없다\n",
    "\n",
    "`-` 예컨대 $x_1,x_2$ 각각에서 시작하여 $y$에 동시간에 도착했다고 하자\n",
    "\n",
    "`-` 그러면 $y$까지의 최단 경로는 2가지이다\n",
    "\n",
    "`-` $y$에서 할 수 있는 행동은 어차피 순간이동, 앞으로 한 칸, 뒤로 한 칸이다\n",
    "\n",
    "`-` 즉, $x_1$에서 시작했든 $x_2$에서 시작했든 $y$에 도착하고 나서 할 수 있는 행동이 동일하므로 둘다 방문한다고 해서 달라지는 것이 없다\n",
    "\n",
    "`-` cost를 줄이기 위해 하나만 방문하면 된다\n",
    "\n",
    "`-` $[\\star]$ 그 대신에 $y$에서 이동할 때 몸이 하나가 아닌 둘이므로 $y$에서 이동해 도착한 지점의 `visited[yy]`에는 1이 아닌 `visited[y]`를 더해줘야 한다 $[\\star]$"
   ]
  },
  {
   "cell_type": "code",
   "execution_count": 64,
   "id": "6a8c6064-3624-4349-b0cf-7964c046b79c",
   "metadata": {},
   "outputs": [
    {
     "name": "stdin",
     "output_type": "stream",
     "text": [
      " 5 237\n"
     ]
    },
    {
     "name": "stdout",
     "output_type": "stream",
     "text": [
      "10\n",
      "5\n"
     ]
    }
   ],
   "source": [
    "from collections import deque\n",
    "\n",
    "def BFS(x): ## x는 수빈의 현재 위치\n",
    "    queue = deque()\n",
    "    queue.append(x)\n",
    "    position = {} ## 해당 지점까지 도달하는데 걸리는 최단 시간\n",
    "    position[x] = 0 ## start\n",
    "    visited = [0] * (max(N, K) + 2) ## 해당 지점까지 최단 시간에 도달할 수 있는 경로의 개수\n",
    "    visited[x] = 1 ## init\n",
    "    min_time = INF\n",
    "    patience = True\n",
    "    \n",
    "    while queue:\n",
    "        pos = queue.popleft()\n",
    "        if pos == K:\n",
    "            min_time = position[K]\n",
    "            patience = False\n",
    "            \n",
    "        if not patience:\n",
    "            if min_time + 1 in position.values():\n",
    "                break\n",
    "        \n",
    "        if pos > 0 and pos*2 <= K + 1: ## 순간이동\n",
    "            if pos*2 not in position: ## 아직 방문하지 않았으면 최단 경로\n",
    "                position[pos*2] = position[pos] + 1\n",
    "                visited[pos*2] = visited[pos]\n",
    "                queue.append(pos*2)\n",
    "            else: ## 이미 방문했어도 최단 경로일 수 있다 (걸리는 시간이 동일하면)\n",
    "                if position[pos*2] == position[pos] + 1:\n",
    "                    visited[pos*2] += visited[pos] ## (1이 아니라 visited[pos]를 더해줘야 함을 잊지말자)\n",
    "                \n",
    "        if pos >=0 : ## 뒤로 한 칸 이동\n",
    "            if pos - 1 not in position:  \n",
    "                position[pos-1] = position[pos] + 1\n",
    "                visited[pos-1] = visited[pos]\n",
    "                queue.append(pos-1)\n",
    "            else:\n",
    "                if position[pos-1] == position[pos] + 1:\n",
    "                    visited[pos-1] += visited[pos]\n",
    "                \n",
    "        if pos < K: ## 수빈의 위치보다 큰 경우 앞으로 한 칸 이동할 이유가 없음\n",
    "            if pos + 1 not in position:\n",
    "                position[pos+1] = position[pos] + 1\n",
    "                visited[pos+1] = visited[pos]\n",
    "                queue.append(pos+1)\n",
    "            else:\n",
    "                if position[pos+1] == position[pos] + 1:\n",
    "                    visited[pos+1] += visited[pos]\n",
    "                \n",
    "    return position[K], visited[K] ## 수빈이가 동생을 찾는데 걸린 최단 시간과 최단 경로의 개수\n",
    "\n",
    "## 입력\n",
    "N, K = map(int, input().split())\n",
    "INF = 1e6\n",
    "print('\\n'.join(map(str, BFS(N))))\n",
    "\n",
    "# input\n",
    "# 5 237"
   ]
  },
  {
   "cell_type": "markdown",
   "id": "b0b95c71-1046-478d-bcb4-b8f6186c8a8e",
   "metadata": {
    "tags": []
   },
   "source": [
    "## 벽 부수고 이동하기\n",
    "\n",
    "- 문제 출처: [백준 2206번](https://www.acmicpc.net/problem/2206)"
   ]
  },
  {
   "cell_type": "markdown",
   "id": "67b22ff8-b843-4769-9d2f-e8cd79eb37a2",
   "metadata": {},
   "source": [
    "`-` 벽을 한 번까지는 부수고 갈 수 있으므로 이미 방문한 지점이 최단 경로가 아닐 수 있다\n",
    "\n",
    "`-` 벽을 부순 횟수가 0일 때와 1일 때를 구분하여 visited를 설계해야 한다"
   ]
  },
  {
   "cell_type": "code",
   "execution_count": 112,
   "id": "68d6cdb3-455c-4710-9f1d-1b5be3eaded3",
   "metadata": {},
   "outputs": [
    {
     "name": "stdin",
     "output_type": "stream",
     "text": [
      " 6 4\n",
      " 0100\n",
      " 1110\n",
      " 1000\n",
      " 0000\n",
      " 0111\n",
      " 0000\n"
     ]
    },
    {
     "name": "stdout",
     "output_type": "stream",
     "text": [
      "15\n"
     ]
    }
   ],
   "source": [
    "from collections import deque\n",
    "\n",
    "INF = 1e6\n",
    "N, M = map(int, input().split())\n",
    "wall = [list(map(int, input())) for _ in range(N)]\n",
    "visited = [[[INF] * 2 for _  in range(M)] for __ in range(N)] ## 벽을 부순 횟수가 0일 때와 1일 때의 최단 경로\n",
    "dx = [-1, 1, 0, 0]\n",
    "dy = [0, 0, -1, 1]\n",
    "\n",
    "def BFS(a, b):\n",
    "    queue = deque([])\n",
    "    queue.append([a, b, 0]) ## 0은 벽을 부순 횟수를 나타냄\n",
    "    visited[a][b][0] = 1\n",
    "    \n",
    "    while queue:\n",
    "        x, y, broken_wall = queue.popleft()\n",
    "        if x == N - 1 and y == M - 1: ## 도착\n",
    "            return visited[x][y][broken_wall]\n",
    "            \n",
    "        for i in range(4):\n",
    "            nx = x + dx[i]\n",
    "            ny = y + dy[i]\n",
    "            if 0 <= nx < N and 0 <= ny < M: ## 맵을 벗어나지 않으면\n",
    "                if wall[nx][ny] == 0: ## 벽이 없으면 벽을 부순적이 없든 있든 통과할 수 있다\n",
    "                    if visited[nx][ny][broken_wall] == INF: ## 아직 방문 안했으면\n",
    "                        visited[nx][ny][broken_wall] = visited[x][y][broken_wall] + 1\n",
    "                        queue.append([nx, ny, broken_wall])\n",
    "                elif wall[nx][ny] == 1: ## 벽이 있으면\n",
    "                    if visited[nx][ny][1] == INF: ## 아직 방문 안했으면\n",
    "                        if broken_wall == 0: ## 아직 벽을 부수지 않았다면 통과하자\n",
    "                            visited[nx][ny][1] = visited[x][y][0] + 1\n",
    "                            queue.append([nx, ny, 1])\n",
    "\n",
    "    return -1 ## 도착지점까지 갈 수 있는 경로가 존재하지 않음\n",
    "\n",
    "print(BFS(0, 0))\n",
    "\n",
    "# input\n",
    "# 6 4\n",
    "# 0100\n",
    "# 1110\n",
    "# 1000\n",
    "# 0000\n",
    "# 0111\n",
    "# 0000"
   ]
  },
  {
   "cell_type": "markdown",
   "id": "ced8f12e-f2a5-47b4-acbe-3f468845be5e",
   "metadata": {},
   "source": [
    "## 나이트의 이동\n",
    "\n",
    "- 문제 출처: [백준 7562번](https://www.acmicpc.net/problem/7562)"
   ]
  },
  {
   "cell_type": "markdown",
   "id": "468dac28-06c2-4ab9-b4c2-21c7728f6ed0",
   "metadata": {},
   "source": [
    "`-` 기본적인 BFS 문제이다\n",
    "\n",
    "`-` 1차원 영역에서 2차원 영역으로 수정하면 된다"
   ]
  },
  {
   "cell_type": "code",
   "execution_count": 27,
   "id": "3a612e2b-f0b5-429f-9cb0-9cf2ff86bae7",
   "metadata": {},
   "outputs": [
    {
     "name": "stdin",
     "output_type": "stream",
     "text": [
      " 3\n",
      " 8\n",
      " 0 0\n",
      " 7 0\n"
     ]
    },
    {
     "name": "stdout",
     "output_type": "stream",
     "text": [
      "5\n"
     ]
    },
    {
     "name": "stdin",
     "output_type": "stream",
     "text": [
      " 100\n",
      " 0 0\n",
      " 30 50\n"
     ]
    },
    {
     "name": "stdout",
     "output_type": "stream",
     "text": [
      "28\n"
     ]
    },
    {
     "name": "stdin",
     "output_type": "stream",
     "text": [
      " 10\n",
      " 1 1\n",
      " 1 1\n"
     ]
    },
    {
     "name": "stdout",
     "output_type": "stream",
     "text": [
      "0\n"
     ]
    }
   ],
   "source": [
    "from collections import deque\n",
    "\n",
    "\n",
    "def bfs(start_pos, goal_pos, length):\n",
    "    visited = {start_pos: 0}\n",
    "    queue = deque([start_pos])\n",
    "    while queue:\n",
    "        node = queue.popleft()\n",
    "        x, y = node\n",
    "        for dx, dy in [(-2, -1), (-2, 1), (-1, -2), (-1, 2), (1, -2), (1, 2), (2, -1), (2, 1)]:\n",
    "            next_x = x + dx\n",
    "            next_y = y + dy\n",
    "            if 0 <= next_x < length and 0 <= next_y < length and (next_x, next_y) not in visited:\n",
    "                visited[(next_x, next_y)] = visited[node] + 1\n",
    "                queue.append((next_x, next_y))\n",
    "    return visited[goal_pos]\n",
    "        \n",
    "\n",
    "for _ in range(int(input())):\n",
    "    length = int(input())\n",
    "    start = tuple(map(int, input().split()))\n",
    "    goal = tuple(map(int, input().split()))\n",
    "    answer = bfs(start, goal, length)\n",
    "    print(answer)\n",
    "\n",
    "# input\n",
    "# 3\n",
    "# 8\n",
    "# 0 0\n",
    "# 7 0\n",
    "# 100\n",
    "# 0 0\n",
    "# 30 50\n",
    "# 10\n",
    "# 1 1\n",
    "# 1 1"
   ]
  },
  {
   "cell_type": "markdown",
   "id": "6f41ab6d-b101-4f7a-8c55-5a3f2fe150a4",
   "metadata": {},
   "source": [
    "## 숨바꼭질 5\n",
    "\n",
    "- 문제 출처: [백준 17071번](https://www.acmicpc.net/problem/17071)"
   ]
  },
  {
   "cell_type": "markdown",
   "id": "7ed6b87d-9dc1-466c-b7e8-49be38f758cb",
   "metadata": {},
   "source": [
    "`-` 동생의 위치가 시점마다 달라지기 때문에 이미 방문한 곳이더라도 다시 방문을 해야 할 수 있다\n",
    "\n",
    "`-` 그런데 이미 방문한 곳을 다시 방문하는 것은 시간초과에 걸리게 된다 (BFS는 방문한 곳을 또 방문하지 않음)\n",
    "\n",
    "`-` 곰곰히 생각을 해보면 수빈이는 -1 또는 +1씩 움직일 수 있기 때문에 -1과 +1을 반복하면 제자리에 있을 수 있다\n",
    "\n",
    "`-` 또한, 수빈이가 동생을 찾는 것이 아닌 동생이 수빈이를 찾는 것으로도 생각할 수 있다\n",
    "\n",
    "`-` 만약 동생이 6시점에 수빈이가 2시점에 방문한 곳에 도착했다면 둘은 4시점 차이가 난다\n",
    "\n",
    "`-` 그런데 2시점의 수빈이는 -1, +1을 반복함으로써 6시점에도 같은 곳에 위치할 수 있다\n",
    "\n",
    "`-` 즉 임의의 위치 $x$에 대하여 수빈이가 $x$를 방문한 시점 $t_1$과 동생이 $x$를 방문한 시점 $t_2$에 대하여\n",
    "\n",
    "`-` $|t_1 - t_2|$가 짝수라면 수빈이는 $t_2$ 시간만에 동생을 찾을 수 있다\n",
    "\n",
    "`-` 하지만 두 시점의 차이가 홀수라면 수빈이가 제자리에 있는 것이 불가능하므로 동생을 찾을 수 없다\n",
    "\n",
    "`-` 이를 위해 그래프를 시점에 따라 짝수 그래프와 홀수 그래프로 나눈다\n",
    "\n",
    "`-` 일반적인 BFS와의 차이점은 그래프(queue)를 수빈이의 방문 시점에 따라 짝수, 홀수로 나누고 \n",
    "\n",
    "`-` 수빈이가 방문한 시점과 동생의 방문 시점 차이가 짝수면 수빈이가 동생을 찾은 것이다"
   ]
  },
  {
   "cell_type": "code",
   "execution_count": 198,
   "id": "6e4a63b3-03bd-4344-b30f-c318ab3d7f83",
   "metadata": {},
   "outputs": [
    {
     "name": "stdin",
     "output_type": "stream",
     "text": [
      " 16 50\n"
     ]
    },
    {
     "name": "stdout",
     "output_type": "stream",
     "text": [
      "4\n"
     ]
    }
   ],
   "source": [
    "from collections import deque\n",
    "\n",
    "\n",
    "# both 처리를 꼼꼼하게 해줘야 한다 (이것 때문에 고통받음)\n",
    "def bfs(start, goal):\n",
    "    if start == goal:\n",
    "        return 0\n",
    "    visited = {start: \"even\"}  # even, odd, both\n",
    "    queue = deque([start])\n",
    "    turn = 0\n",
    "    while queue:\n",
    "        size = len(queue)\n",
    "        while size:\n",
    "            node = queue.popleft()\n",
    "            for next_node in [node - 1, node + 1, node * 2]:\n",
    "                if not (0 <= next_node <= 500000):  # 수빈이의 영역을 벗어남\n",
    "                    continue\n",
    "                if next_node in visited:  # 이미 방문했더라도 시점이 다르면 다시 방문할 수 있다\n",
    "                    if visited[next_node] != \"both\" and (visited[node] == visited[next_node] or visited[node] == \"both\"):\n",
    "                        visited[next_node] = \"both\"\n",
    "                        queue.append(next_node)\n",
    "                else:\n",
    "                    if visited[node] == \"both\":\n",
    "                        visited[next_node] = \"both\"\n",
    "                    elif visited[node] == \"even\":\n",
    "                        visited[next_node] = \"odd\"\n",
    "                    else:\n",
    "                        visited[next_node] = \"even\"\n",
    "                    queue.append(next_node)\n",
    "            size -= 1\n",
    "        turn += 1\n",
    "        goal += turn\n",
    "        if goal > 500000:\n",
    "            return -1\n",
    "        if goal in visited and turn % 2 == 0 and (visited[goal] == \"even\" or visited[goal] == \"both\"):\n",
    "            return turn\n",
    "        if goal in visited and turn % 2 == 1 and (visited[goal] == \"odd\" or visited[goal] == \"both\"):\n",
    "            return turn\n",
    "    return -1\n",
    "\n",
    "\n",
    "N, K = map(int, input().split())\n",
    "answer = bfs(N, K)\n",
    "print(answer)\n",
    "\n",
    "# input\n",
    "# 16 50"
   ]
  },
  {
   "cell_type": "markdown",
   "id": "be8f2ce2-e0f5-407a-9936-8fcca785a00d",
   "metadata": {},
   "source": [
    "## 헌내기는 친구가 필요해\n",
    "\n",
    "- 문제 출처: [백준 21736번](https://www.acmicpc.net/problem/21736)"
   ]
  },
  {
   "cell_type": "markdown",
   "id": "23ca1a2c-c412-4462-8824-8405ccae4598",
   "metadata": {},
   "source": [
    "`-` DFS 또는 BFS를 이용하는 기본적인 그래프 탐색 문제이다\n",
    "\n",
    "`-` 최단 거리를 구할 필요가 없어서 오랜만에 DFS로 구현했다"
   ]
  },
  {
   "cell_type": "code",
   "execution_count": 5,
   "id": "d3c231b5-7c34-439f-85bb-df4a3a3497bb",
   "metadata": {},
   "outputs": [
    {
     "name": "stdin",
     "output_type": "stream",
     "text": [
      " 3 5\n",
      " OOOPO\n",
      " OIOOX\n",
      " OOOXP\n"
     ]
    },
    {
     "name": "stdout",
     "output_type": "stream",
     "text": [
      "1\n"
     ]
    }
   ],
   "source": [
    "def get_my_position(campus):\n",
    "    for x in range(M):\n",
    "        for y in range(N):\n",
    "            if campus[y][x] == \"I\":\n",
    "                return x, y\n",
    "\n",
    "            \n",
    "def dfs(campus):\n",
    "    my_position = get_my_position(campus)\n",
    "    meet = 0\n",
    "    visited = {}\n",
    "    stack = [my_position]\n",
    "    while stack:\n",
    "        x, y = stack.pop()\n",
    "        for dx, dy in [(1, 0), (0, 1), (-1, 0), (0, -1)]:\n",
    "            x_next = x + dx\n",
    "            y_next = y + dy\n",
    "            in_range = 0 <= x_next < M and 0 <= y_next < N\n",
    "            need_to_move = in_range and (x_next, y_next) not in visited and campus[y_next][x_next] != \"X\"\n",
    "            if need_to_move:\n",
    "                stack.append((x_next, y_next))\n",
    "                visited[(x_next, y_next)] = True\n",
    "                if campus[y_next][x_next] == \"P\":\n",
    "                    meet += 1\n",
    "    if meet:\n",
    "        return meet\n",
    "    return \"TT\"\n",
    "    \n",
    "\n",
    "N, M = map(int, input().split())\n",
    "campus = [list(input()) for _ in range(N)]\n",
    "answer = dfs(campus)\n",
    "print(answer)\n",
    "\n",
    "# input\n",
    "# 3 5\n",
    "# OOOPO\n",
    "# OIOOX\n",
    "# OOOXP"
   ]
  },
  {
   "cell_type": "markdown",
   "id": "063c3f84-7aa8-4356-8780-bbf3fc409334",
   "metadata": {},
   "source": [
    "## 쉬운 최단거리\n",
    "\n",
    "- 문제 출처: [백준 14940번](https://www.acmicpc.net/problem/14940)"
   ]
  },
  {
   "cell_type": "markdown",
   "id": "6dc1596e-9ae1-4711-80ba-58033447d2a4",
   "metadata": {},
   "source": [
    "`-` 목표 지점을 시작 노드로 하여 전체 그래프를 탐색하면 된다\n",
    "\n",
    "`-` 목표 지점과 각 지점간의 최단 거리를 구해야 하므로 BFS를 해야 한다"
   ]
  },
  {
   "cell_type": "code",
   "execution_count": 5,
   "id": "acd1751a-00a1-4a9c-8614-0e40458a0509",
   "metadata": {},
   "outputs": [
    {
     "name": "stdin",
     "output_type": "stream",
     "text": [
      " 2 2\n",
      " 2 1\n",
      " 1 1\n"
     ]
    },
    {
     "name": "stdout",
     "output_type": "stream",
     "text": [
      "0 1\n",
      "1 2\n"
     ]
    }
   ],
   "source": [
    "from collections import deque\n",
    "\n",
    "\n",
    "def get_start_position(graph, n, m):\n",
    "    for x in range(m):\n",
    "        for y in range(n):\n",
    "            if graph[y][x] == 2:\n",
    "                return x, y\n",
    "\n",
    "\n",
    "def bfs(graph, n, m):\n",
    "    start = get_start_position(graph, n, m)\n",
    "    visited = [[0 for _ in range(m)] for _ in range(n)]\n",
    "    queue = deque([start])\n",
    "    while queue:\n",
    "        x, y = queue.popleft()\n",
    "        for dx, dy in [(0, 1), (0, -1), (1, 0), (-1, 0)]:\n",
    "            x_next = x + dx\n",
    "            y_next = y + dy\n",
    "            is_in_range = 0 <= x_next < m and 0 <= y_next < n \n",
    "            need_to_move = is_in_range and visited[y_next][x_next] == 0 and graph[y_next][x_next] == 1\n",
    "            if not need_to_move:\n",
    "                continue\n",
    "            queue.append((x_next, y_next))\n",
    "            visited[y_next][x_next] = visited[y][x] + 1\n",
    "    return visited\n",
    "\n",
    "\n",
    "def postprocess_visited(graph, visited, n, m):\n",
    "    for x in range(m):\n",
    "        for y in range(n):\n",
    "            if visited[y][x] == 0 and graph[y][x] == 1:\n",
    "                visited[y][x] = -1\n",
    "    return visited\n",
    "\n",
    "\n",
    "def solution():\n",
    "    n, m = map(int, input().split())\n",
    "    graph = [list(map(int, input().split())) for _ in range(n)]\n",
    "    visited = bfs(graph, n, m)\n",
    "    answer = postprocess_visited(graph, visited, n, m)\n",
    "    for a in answer:\n",
    "        print(*a)\n",
    "        \n",
    "solution()\n",
    "\n",
    "# input\n",
    "# 2 2\n",
    "# 2 1\n",
    "# 1 1"
   ]
  },
  {
   "cell_type": "markdown",
   "id": "35bb3078-57f1-4f08-bb9a-0013460f6e60",
   "metadata": {},
   "source": [
    "## 연구소\n",
    "\n",
    "- 문제 출처: [백준 14502번](https://www.acmicpc.net/problem/14502)"
   ]
  },
  {
   "cell_type": "markdown",
   "id": "20c5cab2-d243-4267-a5f9-ae2eeaf74bae",
   "metadata": {},
   "source": [
    "`-` 일반적인 bfs 방식을 통해서 바이러스를 전개하면 된다\n",
    "\n",
    "`-` 차이점은 벽 3개를 추가로 세워야 한다는 것이다\n",
    "\n",
    "`-` 맵의 최대 크기는 64칸이다\n",
    "\n",
    "`-` 하지만 바이러스는 최소 2개이므로 빈 칸의 최대 개수는 62이다\n",
    "\n",
    "`-` 벽 3개를 세울 때 겹칠수는 없으므로 최대 가능 개수는 $_{62}C_{3} = \\cfrac{62\\cdot 61 \\cdot 60}{3!} = 37820$이다\n",
    "\n",
    "`-` BFS 알고리즘의 시간 복잡도는 $O(V+E)$이다 (V는 노드, E는 간섭)\n",
    "\n",
    "`-` 노드의 개수는 최대 64개이고 간섭의 개수는 최대 112개이므로 둘이 합쳐 176이다\n",
    "\n",
    "`-` 대략적으로 $176 \\cdot 37820 = 6656320$이다\n",
    "\n",
    "`-` 바이러스가 이미 있는 부분은 탐색하지 않아도 되고 벽이 최소 3개는 있으므로 2초 안에 충분히 가능하다\n",
    "\n",
    "`-` 주의사항: 벽 3개를 설정할 때 순열이 아닌 조합을 사용해야 한다"
   ]
  },
  {
   "cell_type": "code",
   "execution_count": 4,
   "id": "87a538b0-7017-45df-94e9-3be1f4786439",
   "metadata": {},
   "outputs": [
    {
     "name": "stdin",
     "output_type": "stream",
     "text": [
      " 4 6\n",
      " 0 0 0 0 0 0\n",
      " 1 0 0 0 0 2\n",
      " 1 1 1 0 0 2\n",
      " 0 0 0 0 0 2\n"
     ]
    },
    {
     "name": "stdout",
     "output_type": "stream",
     "text": [
      "9\n"
     ]
    }
   ],
   "source": [
    "from collections import deque\n",
    "\n",
    "BLANK = 0\n",
    "WALL = 1\n",
    "VIRUS = 2\n",
    "\n",
    "\n",
    "def deepcopy_graph(graph):\n",
    "    return [[x for x in xs] for xs in graph]\n",
    "\n",
    "\n",
    "def get_category_positions(graph, category):\n",
    "    positions = []\n",
    "    for y, xs in enumerate(graph):\n",
    "        for x, class_ in enumerate(xs):\n",
    "            if class_ == category:\n",
    "                positions.append((x, y))\n",
    "    return positions\n",
    "\n",
    "\n",
    "def bfs(graph_, n, m):\n",
    "    graph = deepcopy_graph(graph_)\n",
    "    virus_positions = get_category_positions(graph, VIRUS)\n",
    "    queue = deque(virus_positions)\n",
    "    while queue:\n",
    "        x, y = queue.popleft()\n",
    "        for dx, dy in [(0, 1), (0, -1), (1, 0), (-1, 0)]:\n",
    "            x_next = x + dx\n",
    "            y_next = y + dy\n",
    "            is_in_range = 0 <= x_next < m and 0 <= y_next < n \n",
    "            need_to_move = is_in_range and graph[y_next][x_next] == BLANK\n",
    "            if not need_to_move:\n",
    "                continue\n",
    "            queue.append((x_next, y_next))\n",
    "            graph[y_next][x_next] = VIRUS\n",
    "    return graph\n",
    "\n",
    "\n",
    "def compute_blank_area(graph):\n",
    "    blank_area = 0\n",
    "    for xs in graph:\n",
    "        for x in xs:\n",
    "            if x == BLANK:\n",
    "                blank_area += 1\n",
    "    return blank_area\n",
    "\n",
    "\n",
    "def simulate(graph_, n, m):\n",
    "    max_blank_area = 0\n",
    "    graph = deepcopy_graph(graph_)\n",
    "    all_blank_positions = get_category_positions(graph, BLANK)\n",
    "    num_blank_positions = len(all_blank_positions)\n",
    "    blank_positions = []\n",
    "    # 벽 3개 조합(순열 아님에 주의) 찾기\n",
    "    for p1 in range(num_blank_positions):\n",
    "        for p2 in range(p1 + 1, num_blank_positions):\n",
    "            for p3 in range(p2 + 1, num_blank_positions):\n",
    "                blank_positions.append((all_blank_positions[p1], all_blank_positions[p2], all_blank_positions[p3]))   \n",
    "    for (x1, y1), (x2, y2), (x3, y3) in blank_positions:\n",
    "        graph[y1][x1] = WALL\n",
    "        graph[y2][x2] = WALL\n",
    "        graph[y3][x3] = WALL\n",
    "        simulated_graph = bfs(graph, n, m)\n",
    "        blank_area = compute_blank_area(simulated_graph)\n",
    "        max_blank_area = max(blank_area, max_blank_area)\n",
    "        graph[y1][x1] = BLANK\n",
    "        graph[y2][x2] = BLANK\n",
    "        graph[y3][x3] = BLANK\n",
    "    return max_blank_area    \n",
    "\n",
    "\n",
    "def solution():\n",
    "    n, m = map(int, input().split())\n",
    "    graph = [list(map(int, input().split())) for _ in range(n)]\n",
    "    max_blank_area = simulate(graph, n, m)\n",
    "    print(max_blank_area)\n",
    "\n",
    "\n",
    "solution()\n",
    "\n",
    "# input\n",
    "# 4 6\n",
    "# 0 0 0 0 0 0\n",
    "# 1 0 0 0 0 2\n",
    "# 1 1 1 0 0 2\n",
    "# 0 0 0 0 0 2"
   ]
  },
  {
   "cell_type": "markdown",
   "id": "371d5b4b-67e6-42e6-bd3d-823d9d3cc4c3",
   "metadata": {},
   "source": [
    "## 플로이드\n",
    "\n",
    "- 문제 출처: [백준 11404번](https://www.acmicpc.net/problem/11404)"
   ]
  },
  {
   "cell_type": "markdown",
   "id": "f22db3cf-0689-4755-91b5-e6b34fd08c6c",
   "metadata": {},
   "source": [
    "`-` [플로이드-워셜](https://jaesu26.github.io/study-blog/algorithm/2022/06/29/%ED%94%8C%EB%A1%9C%EC%9D%B4%EB%93%9C%EC%9B%8C%EC%85%9C-%EC%95%8C%EA%B3%A0%EB%A6%AC%EC%A6%98.html) 알고리즘을 통해 문제를 해결할 수 있다\n",
    "\n",
    "`-` 출발지와 도착지를 지나는 버스는 여러 대일 수 있으므로 주의해야 한다 "
   ]
  },
  {
   "cell_type": "code",
   "execution_count": 15,
   "id": "13e27452-07b2-4a3e-a635-6693fe028494",
   "metadata": {},
   "outputs": [
    {
     "name": "stdin",
     "output_type": "stream",
     "text": [
      " 5\n",
      " 14\n",
      " 1 2 2\n",
      " 1 3 3\n",
      " 1 4 1\n",
      " 1 5 10\n",
      " 2 4 2\n",
      " 3 4 1\n",
      " 3 5 1\n",
      " 4 5 3\n",
      " 3 5 10\n",
      " 3 1 8\n",
      " 1 4 2\n",
      " 5 1 7\n",
      " 3 4 2\n",
      " 5 2 4\n"
     ]
    },
    {
     "name": "stdout",
     "output_type": "stream",
     "text": [
      "0 2 3 1 4\n",
      "12 0 15 2 5\n",
      "8 5 0 1 1\n",
      "10 7 13 0 3\n",
      "7 4 10 6 0\n"
     ]
    }
   ],
   "source": [
    "def floyd_warshall(dist, n):\n",
    "    for k in range(n):\n",
    "        for i in range(n):\n",
    "            for j in range(n):\n",
    "                dist[i][j] = min(dist[i][j], dist[i][k] + dist[k][j])\n",
    "    return dist\n",
    "\n",
    "\n",
    "def solution():\n",
    "    n = int(input())\n",
    "    m = int(input())\n",
    "    INF = int(1e9)\n",
    "    dist = [[INF for _ in range(n)] for _ in range(n)]\n",
    "    for _ in range(m):\n",
    "        u, v, w = map(int, input().split())\n",
    "        dist[u - 1][v - 1] = min(dist[u - 1][v - 1], w) \n",
    "    for i in range(n):\n",
    "        dist[i][i] = 0\n",
    "    dist = floyd_warshall(dist, n)\n",
    "    for i in range(n):\n",
    "        for j in range(n):\n",
    "            if dist[i][j] == INF:\n",
    "                dist[i][j] = 0\n",
    "    for d in dist:\n",
    "        print(*d)\n",
    "\n",
    "\n",
    "solution()\n",
    "\n",
    "# input\n",
    "# 5\n",
    "# 14\n",
    "# 1 2 2\n",
    "# 1 3 3\n",
    "# 1 4 1\n",
    "# 1 5 10\n",
    "# 2 4 2\n",
    "# 3 4 1\n",
    "# 3 5 1\n",
    "# 4 5 3\n",
    "# 3 5 10\n",
    "# 3 1 8\n",
    "# 1 4 2\n",
    "# 5 1 7\n",
    "# 3 4 2\n",
    "# 5 2 4"
   ]
  },
  {
   "cell_type": "markdown",
   "id": "fd15f725-f7b1-434f-a2a0-b2ae8ad2cddc",
   "metadata": {},
   "source": [
    "## 웜홀\n",
    "\n",
    "- 문제 출처: [1865번](https://www.acmicpc.net/problem/1865)"
   ]
  },
  {
   "cell_type": "markdown",
   "id": "1df22c76-4421-4c7e-b5dd-a23135dd735c",
   "metadata": {},
   "source": [
    "`-` 플로이드-워셜 알고리즘을 사용하여 문제를 해결할 수 있다\n",
    "\n",
    "`-` 플로이드-워셜 알고리즘을 적용 후 임의의 노드 $u$에 대해 $u\\to u$의 가중치가 음수라면 음수 사이클이 존재하는 것이다\n",
    "\n",
    "`-` 이는 웜홀을 통해 시간이 되돌아 가는 경우가 있음을 뜻한다\n",
    "\n",
    "`-` 플로이드-워셜 알고리즘에서 $u\\to u$의 가중치는 $0$으로 초기화하고 시작한다\n",
    "\n",
    "`-` 그런데 이것이 음수가 됐다는 것은 $u\\to k + k \\to u$가 $0$보다 작다는 뜻이다\n",
    "\n",
    "`-` 즉, $u$에서 $u$로 가는 음수 사이클이 존재한다는 것이다\n",
    "\n",
    "`-` 그런데 안타깝게도 91%에서 시간 초과가 발생한다\n",
    "\n",
    "`-` 다른 방법으로 알고리즘 시간에 배운 [벨만-포드](https://en.wikipedia.org/wiki/Bellman%E2%80%93Ford_algorithm) 알고리즘을 사용했다\n",
    "\n",
    "`-` 음수 간선이 있어도 사용 가능하며 만약 알고리즘이 끝난 후에도 경로 갱신이 가능하다면 음수 사이클이 내부에 존재한다는 것이다\n",
    "\n",
    "`-` 벨만-포드 알고리즘의 시간 복잡도는 $O(VE)$이다\n",
    "\n",
    "`-` 시작 노드와의 연결 유무 상관 없이 모든 간선에 대해 최단 경로를 업데이트 하므로 어느 하나의 노드에 대해서 벨만-포드 알고리즘을 한 번만 적용하면 된다"
   ]
  },
  {
   "cell_type": "code",
   "execution_count": 49,
   "id": "2bf3be24-c471-48cc-b046-7a23f209dfbd",
   "metadata": {
    "tags": []
   },
   "outputs": [
    {
     "name": "stdin",
     "output_type": "stream",
     "text": [
      " 2\n",
      " 3 3 1\n",
      " 1 2 2\n",
      " 1 3 4\n",
      " 2 3 1\n",
      " 3 1 3\n"
     ]
    },
    {
     "name": "stdout",
     "output_type": "stream",
     "text": [
      "NO\n"
     ]
    },
    {
     "name": "stdin",
     "output_type": "stream",
     "text": [
      " 3 2 1\n",
      " 1 2 3\n",
      " 2 3 4\n",
      " 3 1 8\n"
     ]
    },
    {
     "name": "stdout",
     "output_type": "stream",
     "text": [
      "YES\n"
     ]
    }
   ],
   "source": [
    "def has_negative_cycle(start, adj_list):\n",
    "    # 벨만-포드 알고리즘\n",
    "    dist = [INF for _ in range(N + 1)]\n",
    "    dist[start] = 0\n",
    "    for _ in range(N + 1):  # 더 최적화 하려면 노드 개수를 직접 세면 된다 (중복 노드가 입력될 수 있다)\n",
    "        for (s, e), t in adj_list.items():\n",
    "            if dist[s] + t < dist[e]:\n",
    "                dist[e] = dist[s] + t\n",
    "    # 음수 사이클 확인\n",
    "    answer = \"NO\"\n",
    "    for (s, e), t in adj_list.items():\n",
    "        if dist[s] + t < dist[e]:\n",
    "            answer = \"YES\"\n",
    "            break\n",
    "    return answer\n",
    "\n",
    "\n",
    "def solve_testcase():\n",
    "    global N, INF\n",
    "    N, M, W = map(int, input().split())\n",
    "    INF = 1e9  # float(\"inf\") 사용하면 안된다, float(\"inf\")와의 상수 연산은 float(\"inf\")이므로 갱신이 안됨\n",
    "    adj_list = {}\n",
    "    for _ in range(M):\n",
    "        s, e, t = map(int, input().split())\n",
    "        adj_list[(s, e)] = t if (s, e) not in adj_list else min(adj_list[(s, e)], t)\n",
    "        adj_list[(e, s)] = t if (e, s) not in adj_list else min(adj_list[(e, s)], t)\n",
    "    for _ in range(W):\n",
    "        s, e, t = map(int, input().split())\n",
    "        adj_list[(s, e)] = -t\n",
    "    print(has_negative_cycle(1, adj_list))\n",
    "\n",
    "\n",
    "def solution():\n",
    "    TC = int(input())\n",
    "    for _ in range(TC):\n",
    "        solve_testcase()\n",
    "\n",
    "\n",
    "solution()\n",
    "\n",
    "# input\n",
    "# 2\n",
    "# 3 3 1\n",
    "# 1 2 2\n",
    "# 1 3 4\n",
    "# 2 3 1\n",
    "# 3 1 3\n",
    "# 3 2 1\n",
    "# 1 2 3\n",
    "# 2 3 4\n",
    "# 3 1 8"
   ]
  },
  {
   "cell_type": "code",
   "execution_count": null,
   "id": "05298f44-582d-4247-bb45-982972daa4d9",
   "metadata": {},
   "outputs": [],
   "source": []
  }
 ],
 "metadata": {
  "kernelspec": {
   "display_name": "Python 3 (ipykernel)",
   "language": "python",
   "name": "python3"
  },
  "language_info": {
   "codemirror_mode": {
    "name": "ipython",
    "version": 3
   },
   "file_extension": ".py",
   "mimetype": "text/x-python",
   "name": "python",
   "nbconvert_exporter": "python",
   "pygments_lexer": "ipython3",
   "version": "3.8.11"
  }
 },
 "nbformat": 4,
 "nbformat_minor": 5
}
