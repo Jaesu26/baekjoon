{
 "cells": [
  {
   "cell_type": "markdown",
   "id": "d5967562-8e73-42bb-ab01-6d4ce3c64c24",
   "metadata": {},
   "source": [
    "# 두 포인터 (Two Pointers)"
   ]
  },
  {
   "cell_type": "markdown",
   "id": "28cb2898-93b4-4d15-8702-2a918aea1fb2",
   "metadata": {},
   "source": [
    "## 두 수의 합\n",
    "\n",
    "- 문제 출처: [백준 3273번](https://www.acmicpc.net/problem/3273)"
   ]
  },
  {
   "cell_type": "markdown",
   "id": "113dfa91-e4e2-4093-b298-9ff7566e8480",
   "metadata": {},
   "source": [
    "`-` 배열을 오름차순으로 정렬한다\n",
    "\n",
    "`-` 그리고 양 끝을 가리키는 포인터 2개를 고려하자\n",
    "\n",
    "`-` $a_1+a_n>x$ 라면 합을 더 작게 해야하므로 $a_n$ 대신 $a_{n-1}$을 고려한다\n",
    "\n",
    "`-` $a_1+a_n<x$ 라면 합을 더 크게 해야하므로 $a_1$ 대신 $a_2$를 고려한다\n",
    "\n",
    "`-` $a_1+a_n=x$ 라면 조건을 만족하는 쌍을 찾은 것이다\n",
    "\n",
    "`-` 다른 쌍도 찾기 위해 $a_1$ 대신 $a_2$를 고려하든지 $a_n$ 대신 $a_{n-1}$를 고려하면 된다"
   ]
  },
  {
   "cell_type": "code",
   "execution_count": 7,
   "id": "31dff949-1324-4a8b-8bdc-192722ac0a45",
   "metadata": {},
   "outputs": [
    {
     "name": "stdin",
     "output_type": "stream",
     "text": [
      " 9\n",
      " 5 12 7 10 9 1 2 3 11\n",
      " 13\n"
     ]
    },
    {
     "name": "stdout",
     "output_type": "stream",
     "text": [
      "3\n"
     ]
    }
   ],
   "source": [
    "n = int(input())\n",
    "A = list(map(int, input().split()))\n",
    "x = int(input())  # a_i + a_j = x\n",
    "A.sort()  # 배열을 오름차순 정렬\n",
    "count = 0  # a_i + a_j = x을 만족하는 (i, j)의 개수\n",
    "left = 0  # 배열의 시작\n",
    "right = n - 1  # 배열의 끝\n",
    "while left < right:\n",
    "    if A[left] + A[right] > x:\n",
    "        right -= 1\n",
    "    elif A[left] + A[right] < x:\n",
    "        left += 1\n",
    "    else:\n",
    "        count += 1\n",
    "        right -= 1  # left += 1 또한 가능하다\n",
    "print(count)\n",
    "\n",
    "# input\n",
    "# 9\n",
    "# 5 12 7 10 9 1 2 3 11\n",
    "# 13"
   ]
  },
  {
   "cell_type": "markdown",
   "id": "c75d4fd1-90d4-4d26-9e6d-9130eaf3d36d",
   "metadata": {},
   "source": [
    "- Hash Set을 이용한 풀이\n",
    "\n",
    "`-` 난이도 기여 페이지를 봤는데 해시 테이블을 이용해서 풀 수도 있음을 알게 됨\n",
    "\n",
    "`-` 해시 테이블에 배열의 원소를 하나하나 입력한다\n",
    "\n",
    "`-` 원소를 $a_i$라고 한다면 해시 테이블에 $x-a_i$가 존재하는지를 check하여 순서 쌍의 개수를 찾을 수 있다"
   ]
  },
  {
   "cell_type": "code",
   "execution_count": 14,
   "id": "439950c7-2c3b-493b-a86b-5066b594469f",
   "metadata": {},
   "outputs": [
    {
     "name": "stdin",
     "output_type": "stream",
     "text": [
      " 9\n",
      " 5 12 7 10 9 1 2 3 11\n",
      " 13\n"
     ]
    },
    {
     "name": "stdout",
     "output_type": "stream",
     "text": [
      "3\n"
     ]
    }
   ],
   "source": [
    "n = int(input())\n",
    "A = list(map(int, input().split()))\n",
    "x = int(input())  # a_i + a_j = x\n",
    "count = 0  # a_i + a_j = x을 만족하는 (i, j)의 개수\n",
    "hash_set = {}\n",
    "for a in A:\n",
    "    hash_set[a] = True\n",
    "for a in A:\n",
    "    if x - a in hash_set:\n",
    "        count += 1\n",
    "print(count // 2)\n",
    "\n",
    "# input\n",
    "# 9\n",
    "# 5 12 7 10 9 1 2 3 11\n",
    "# 13"
   ]
  },
  {
   "cell_type": "markdown",
   "id": "6f8af442-de41-421c-8e73-93a050091dbd",
   "metadata": {},
   "source": [
    "`-` 참고로 아래와 같이 하면 틀린다"
   ]
  },
  {
   "cell_type": "markdown",
   "id": "382a0099-a4c4-4f51-b8fc-e2256544b3ac",
   "metadata": {},
   "source": [
    "```python\n",
    "for a in A:\n",
    "    hash_set[a] = True\n",
    "    if x - a in hash_set:\n",
    "        count += 1\n",
    "```"
   ]
  },
  {
   "cell_type": "markdown",
   "id": "1d5b88cd-37e5-4b85-a2ac-82c83ecd0eb4",
   "metadata": {},
   "source": [
    "`-` 만약 $x$가 $10$이고 hash_set에 $7$이 $100$개가 있는데 입력으로 $3$이 들어온다면\n",
    "\n",
    "`-` count에 `+ 100`을 해야하지만 위의 코드에 따르면 `+ 1`밖에 하지 않는다"
   ]
  },
  {
   "cell_type": "markdown",
   "id": "dc0fcf32-4a9a-4ebe-9b5a-d5b224f0c86b",
   "metadata": {},
   "source": [
    "## 과일 탕후루\n",
    "\n",
    "- 문제 출처: [백준 30804번](https://www.acmicpc.net/problem/30804)"
   ]
  },
  {
   "cell_type": "markdown",
   "id": "f3d29f7e-5cca-47a7-9785-aa7eb5190d40",
   "metadata": {},
   "source": [
    "`-` 양 끝에서 과일을 제거해서 최종적으로 $2$종류만 남겨야 한다\n",
    "\n",
    "`-` 역으로 생각하여 최초의 $2$개 과일을 선택하여 영역을 확장시키자\n",
    "\n",
    "`-` 이 $2$개의 과일은 서로 붙어있어야 한다\n",
    "\n",
    "`-` $1,2 \\to 2,3 \\to 3,4 \\to \\cdots \\to N-1,N$번째 과일을 돌아가며 선택하자\n",
    "\n",
    "`-` 시작할 때 과일 $2$개만 고려하니 $2$종류를 초과하지 않는다\n",
    "\n",
    "`-` 이제 과일을 확장시키는 방향이 왼쪽, 오른쪽 $2$가지 존재한다\n",
    "\n",
    "`-` 시작은 $1$번째, $2$번째 과일을 선택한 후 확장하므로 오른쪽 방향을 선택해야 된다\n",
    "\n",
    "`-` 과일 $2$종류를 초과하지 않는 선에서 확장해 나간다\n",
    "\n",
    "`-` 만약 $5$번째 과일까지 확장했다고 해보자\n",
    "\n",
    "`-` 그러면 다음 시작은 $2,3$번째 과일이 아니다 (이미 포함하고 있기 때문)\n",
    "\n",
    "`-` 다음 시작은 $5,6$번째 과일이며 왼쪽부터 탐색한다\n",
    "\n",
    "`-` 만약 오른쪽으로 탐색이 안된다면 다음엔 $6,7$번째 과일을 탐색하니 자연스럽게 오른쪽 먼저 탐색하는 경우로 넘어간다\n",
    "\n",
    "`-` 이를 끝까지 반복하면 된다"
   ]
  },
  {
   "cell_type": "code",
   "execution_count": 1,
   "id": "7d6b59c5-f53a-4e1e-811e-d86e56fe3225",
   "metadata": {},
   "outputs": [
    {
     "name": "stdin",
     "output_type": "stream",
     "text": [
      " 5\n",
      " 5 1 1 2 1\n"
     ]
    },
    {
     "name": "stdout",
     "output_type": "stream",
     "text": [
      "4\n"
     ]
    }
   ],
   "source": [
    "def solution():\n",
    "    N = int(input())\n",
    "    fruit = list(map(int, input().split()))\n",
    "    visited = 0\n",
    "    max_length = 1\n",
    "    for i in range(N - 1):  # 투 포인터에서 오른쪽 포인터를 담당하는 거였음 (빨간약)\n",
    "        if i + 1 < visited:\n",
    "            continue\n",
    "        length = 2\n",
    "        a, b = fruit[i], fruit[i + 1]\n",
    "        left, right = i, i + 1\n",
    "        species = {a: True}\n",
    "        s_len = 1\n",
    "        if b not in species:\n",
    "            species[b] = True\n",
    "            s_len += 1\n",
    "        for left in range(i - 1, -1, -1):  # 0 ~ i-1  # 얘는 왼쪽 포인터\n",
    "            a_left = fruit[left]\n",
    "            if a_left in species:\n",
    "                length += 1\n",
    "                continue\n",
    "            if s_len < 2:\n",
    "                species[a_left] = True\n",
    "                length += 1\n",
    "                s_len += 1\n",
    "            else:\n",
    "                break\n",
    "        for right in range(i + 2, N):  # i+2 ~ N-1  # 애는 사실 원래 할 꺼 미리 땡겨쓴거임\n",
    "            b_right = fruit[right]\n",
    "            if b_right in species:\n",
    "                length += 1\n",
    "                continue\n",
    "            if s_len < 2:\n",
    "                species[b_right] = True\n",
    "                length += 1\n",
    "                s_len += 1\n",
    "            else:\n",
    "                break\n",
    "        if length > max_length:\n",
    "            max_length = length\n",
    "        visited = right\n",
    "    print(max_length)\n",
    "\n",
    "\n",
    "solution()"
   ]
  },
  {
   "cell_type": "markdown",
   "id": "cbb8144a-8b11-4295-bb1b-3a555ac2c0cc",
   "metadata": {},
   "source": [
    "## 용액\n",
    "\n",
    "- 문제 출처: [백준 2467번](https://www.acmicpc.net/problem/2467)"
   ]
  },
  {
   "cell_type": "markdown",
   "id": "2c0a5a4d-c833-4a7b-9d42-7f6505248879",
   "metadata": {},
   "source": [
    "`-` 양 끝에 포인터를 놓고 탐색할 것이다\n",
    "\n",
    "`-` 두 특성값을 더해서 $0$이 되면 탐색 종료이다\n",
    "\n",
    "`-` 그런데 꼭 $0$이 될 필요는 없고 $0$과 가깝기만 하면 된다\n",
    "\n",
    "`-` 따라서 현재 $0$과 가장 가까운 특성값과 그 때의 두 용액을 기록한다\n",
    "\n",
    "`-` 두 용액의 특성값을 더해서 기존의 특성값보다 $0$과 더 가까우면 특성값과 두 용액을 갱신한다\n",
    "\n",
    "`-` 그리고 추가로 해당 특성값이 $0$보다 크면 값을 줄이기 위해 오른쪽 포인터를 왼쪽으로 한 칸 옮긴다\n",
    "\n",
    "`-` 만약, $0$보다 작다면 값을 늘리기 위해 왼쪽 포인터를 오른쪽으로 한 칸 옮긴다\n",
    "\n",
    "`-` 왼쪽 포인터가 오른쪽 포인터와 동일한 곳에 위치하거나 더 오른쪽에 위치하면 탐색을 종료한다\n",
    "\n",
    "`-` 최악의 경우 왼쪽 포인터가 오른쪽 포인터를 만날때까지 탐색하므로 시간 복잡도는 $O(N)$이다"
   ]
  },
  {
   "cell_type": "code",
   "execution_count": 3,
   "id": "cc3b2e82-54fb-46dd-aa4a-e4c50d5fa9dc",
   "metadata": {},
   "outputs": [
    {
     "name": "stdin",
     "output_type": "stream",
     "text": [
      " 5\n",
      " -99 -2 -1 4 98\n"
     ]
    },
    {
     "name": "stdout",
     "output_type": "stream",
     "text": [
      "-99 98\n"
     ]
    }
   ],
   "source": [
    "def solution():\n",
    "    N = int(input())\n",
    "    INF = 1e10\n",
    "    values = list(map(int, input().split()))\n",
    "    value_closest2zero = INF\n",
    "    value_small, value_big = values[0], values[N - 1]\n",
    "    left = 0\n",
    "    right = N - 1\n",
    "    while left < right:\n",
    "        value_left, value_right = values[left], values[right]\n",
    "        generated_value = value_left + value_right\n",
    "        if abs(generated_value) < abs(value_closest2zero):\n",
    "            value_closest2zero = generated_value\n",
    "            value_small, value_big = value_left, value_right\n",
    "        if generated_value == 0:  # 정답\n",
    "            break\n",
    "        if generated_value < 0:\n",
    "            left += 1\n",
    "        else:\n",
    "            right -= 1\n",
    "    print(value_small, value_big)\n",
    "\n",
    "\n",
    "solution()\n",
    "\n",
    "# input\n",
    "# 5\n",
    "# -99 -2 -1 4 98"
   ]
  },
  {
   "cell_type": "markdown",
   "id": "7f28f5cc-b96a-4182-b72c-3717c643c943",
   "metadata": {},
   "source": [
    "## 세 용액\n",
    "\n",
    "- 문제 출처: [백준 2473번](https://www.acmicpc.net/problem/2473)"
   ]
  },
  {
   "cell_type": "markdown",
   "id": "1dd137e3-b434-4495-a23c-322287b17233",
   "metadata": {},
   "source": [
    "`-` 용액 하나는 임의로 고정시킨 뒤 양 끝에서 포인터를 사용하면 된다\n",
    "\n",
    "`-` 포인터를 사용해 탐색하는데 $O(N)$이고 하나의 용액을 고정시키는 작업을 $N$번 하므로 시간 복잡도는 $O\\left(N^2\\right)$이다\n",
    "\n",
    "`-` 입력이 정렬되지 않았으므로 오름차순 정렬을 해줘야 한다"
   ]
  },
  {
   "cell_type": "code",
   "execution_count": 40,
   "id": "ef989ade-4ca2-4529-8351-d8432ee205f7",
   "metadata": {},
   "outputs": [
    {
     "name": "stdin",
     "output_type": "stream",
     "text": [
      " 7\n",
      " -2 -3 -24 -6 98 100 61\n"
     ]
    },
    {
     "name": "stdout",
     "output_type": "stream",
     "text": [
      "-6 -3 -2\n"
     ]
    }
   ],
   "source": [
    "def two_pointers(values, criteria):\n",
    "    value_closest2zero = INF\n",
    "    value_small, value_big = values[0], values[N - 1]\n",
    "    left = 0\n",
    "    right = N - 1\n",
    "    while left < right:\n",
    "        value_left, value_right = values[left], values[right]\n",
    "        if value_left == criteria:  # 특성값이 같은 경우는 없다 (기준과 겹침)\n",
    "            left += 1\n",
    "            continue\n",
    "        if value_right == criteria:  # 특성값이 같은 경우는 없다 (기준과 겹침)\n",
    "            right -= 1\n",
    "            continue\n",
    "        generated_value = value_left + value_right + criteria\n",
    "        if abs(generated_value) < abs(value_closest2zero):\n",
    "            value_closest2zero = generated_value\n",
    "            value_small, value_big = value_left, value_right\n",
    "        if generated_value == 0:  # 정답\n",
    "            break\n",
    "        if generated_value < 0:\n",
    "            left += 1\n",
    "        else:\n",
    "            right -= 1\n",
    "    return value_small, value_big\n",
    "\n",
    "\n",
    "def solution():\n",
    "    global N, INF\n",
    "    N = int(input())\n",
    "    INF = 1e10\n",
    "    values = sorted(list(map(int, input().split())))\n",
    "    value_closest2zero = INF\n",
    "    value_left, value_mid, value_right = values[0], values[1], values[2]\n",
    "    for criteria in values:\n",
    "        value_small, value_big = two_pointers(values, criteria)\n",
    "        generated_value = value_small + value_big + criteria\n",
    "        if abs(generated_value) < abs(value_closest2zero):\n",
    "            value_left, value_mid, value_right = value_small, criteria, value_big\n",
    "            value_closest2zero = generated_value\n",
    "    print(*sorted([value_left, value_mid, value_right]))\n",
    "\n",
    "\n",
    "solution()\n",
    "\n",
    "# input\n",
    "# 7\n",
    "# -2 -3 -24 -6 98 100 61"
   ]
  },
  {
   "cell_type": "markdown",
   "id": "5c87485a-6a60-44d5-9b85-4ae7a3f75537",
   "metadata": {
    "tags": []
   },
   "source": [
    "## 부분합\n",
    "\n",
    "- 문제 출처: [백준 1806번](https://www.acmicpc.net/problem/1806)"
   ]
  },
  {
   "cell_type": "markdown",
   "id": "54186121-9d8f-4df7-85b4-31fbd97af9e5",
   "metadata": {},
   "source": [
    "`-` 누적 합 배열을 바탕으로 어떻게 하면 좋을지 순간적으로 생각이 안나서 급발진으로 알고리즘 분류를 봤다\n",
    "\n",
    "`-` 누적 합과 투 포인터를 사용하면 된다 (참을성이 부족했다)\n",
    "\n",
    "`-` [용액 2](https://www.acmicpc.net/problem/32178) 문제와 [과일 탕후루](https://www.acmicpc.net/problem/30804) 문제를 섞은 느낌이다\n",
    "\n",
    "`-` 일단 누적 합을 계산하고 $0$번째까지의 누적 합을 나타내기 위해 $0$을 앞에 추가한다\n",
    "\n",
    "`-` 모든 원소는 자연수이므로 누적 합은 오름차순으로 정렬되어 있다\n",
    "\n",
    "`-` 합이 $S$ 이상인 것들을 추려내기 위해 투 포인터를 사용할 것이다\n",
    "\n",
    "`-` 누적 합에서 왼쪽 포인터는 첫 번째 값을 가리키고 오른쪽 포인터는 두 번째 값을 가리킨다 (첫 번째 값은 $0$이다)\n",
    "\n",
    "`-` 만약 초기 상태에서 부분 합이 $S$이상이라면 더 이상 탐색할 필요가 없다 (길이가 $1$이다)\n",
    "\n",
    "`-` 합이 $S$보다 작다면 값을 키우기 위해 오른쪽 포인터를 합이 $S$보다 클 때까지 오른쪽으로 옮긴다\n",
    "\n",
    "`-` 여기서 오른쪽 포인터를 오른쪽으로 더 옮기는 것은 어차피 정답이 될 수 없으므로 의미가 없다\n",
    "\n",
    "`-` 이제 $S$보다 크면서 부분 합의 길이를 작게 하기 위해 왼쪽 포인터를 오른쪽으로 옮길 것이다\n",
    "\n",
    "`-` 값이 $S$보다 크면서 오른쪽 포인터와 만나기 전까지 왼쪽 포인터를 오른쪽으로 옮긴다\n",
    "\n",
    "`-` 두 포인터가 움직일 수 없을 때까지 위를 반복하면 된다\n",
    "\n",
    "`-` 탐색 종료 후 부분 합이 $S$보다 작다면 $S$를 만드는 것이 불가능하다\n",
    "\n",
    "`-` 탐색 중 부분 합이 $S$보다 크다면 둘의 인덱스 차이를 계산하고 정답을 갱신한다\n",
    "\n",
    "`-` 왼쪽 포인터가 오른쪽 포인터의 왼쪽에 있을 동안 반복한다\n",
    "\n",
    "`-` 탐색 한 번 당 두 포인터 중 하나가 한 칸 움직이며 이 둘은 각각 최대 $N$칸 오른쪽으로 움직일 수 있다\n",
    "\n",
    "`-` 따라서 시간 복잡도는 $O(N)$이다\n",
    "\n",
    "`-` 위와 같이 하면 정답이 되는 경우를 항상 탐색할 수 있다\n",
    "\n",
    "`-` 정답이 $a$번째 수부터 $b$번째 수까지의 부분합의 길이라고 해보자\n",
    "\n",
    "`-` 처음에 첫 번째 값인 $0$과 두 번째 값부터 시작하는데 이로 부터 $a$번째 수와 $b$번째 수를 만들 수 있다\n",
    "\n",
    "`-` $a,b$가 정답의 부분 합이므로 $1\\sim b$의 부분 합은 당연히 $S$이상이니 알고리즘에 따라 오른쪽 포인터는 $b$를 넘어가지 않는다\n",
    "\n",
    "`-` 이제 $S$를 줄이기 위해 왼쪽 포인터를 움직이는데 오른쪽 포인터가 $b$를 가리키므로 왼쪽 포인터는 결국 $a$를 가리키게 된다\n",
    "\n",
    "`-` $a$를 만나기 전까진 값이 $S$이상이며 $a$의 오른쪽을 가리키면 값이 $S$보다 작아진다\n",
    "\n",
    "`-` 정답이 $a,b$라고 가정했으므로 이 이후를 탐색하는 것은 의미 없으며 따라서 정답을 항상 탐색할 수 있다"
   ]
  },
  {
   "cell_type": "code",
   "execution_count": 12,
   "id": "021dd106-1312-4f9d-a2a0-b03d256eeca6",
   "metadata": {},
   "outputs": [
    {
     "name": "stdin",
     "output_type": "stream",
     "text": [
      " 10 15\n",
      " 5 1 3 5 10 7 4 9 2 8\n"
     ]
    },
    {
     "name": "stdout",
     "output_type": "stream",
     "text": [
      "2\n"
     ]
    }
   ],
   "source": [
    "def solution():\n",
    "    N, S = map(int, input().split())\n",
    "    a_n = list(map(int, input().split()))\n",
    "    prefix_sum = [0 for _ in range(N)]\n",
    "    prefix_sum[0] = a_n[0]\n",
    "    for i in range(1, N):\n",
    "        prefix_sum[i] = a_n[i] + prefix_sum[i - 1]\n",
    "    prefix_sum = [0] + prefix_sum\n",
    "    IMPOSSIBLE = N + 1\n",
    "    left = 0\n",
    "    right = 1\n",
    "    answer = IMPOSSIBLE\n",
    "    while left < right and right <= N:\n",
    "        value_left = prefix_sum[left]\n",
    "        value_right = prefix_sum[right]\n",
    "        value_new = value_right - value_left\n",
    "        gap = right - left\n",
    "        if value_new < S:\n",
    "            right += 1\n",
    "        else:\n",
    "            left += 1\n",
    "            answer = min(answer, gap)\n",
    "        if answer == 1:\n",
    "            break\n",
    "    if answer == IMPOSSIBLE:\n",
    "        answer = 0\n",
    "    print(answer)\n",
    "\n",
    "\n",
    "solution()\n",
    "\n",
    "# input\n",
    "# 10 15\n",
    "# 5 1 3 5 10 7 4 9 2 8"
   ]
  },
  {
   "cell_type": "markdown",
   "id": "105876a3-f131-47f9-8d36-b1e16a8ee8c9",
   "metadata": {},
   "source": [
    "## 소수의 연속합\n",
    "\n",
    "- 문제 출처: [백준 1644번](https://www.acmicpc.net/problem/1644)"
   ]
  },
  {
   "cell_type": "markdown",
   "id": "9b270a31-ba8c-4c7d-b7ec-a410e0cd5e6f",
   "metadata": {},
   "source": [
    "`-` 에라스토테네스의 체를 사용해 $2$부터 $N$까지의 소수를 계산한다\n",
    "\n",
    "`-` 소수의 누적 합 배열을 만든다 (이는 오름차순 정렬되어 있다)\n",
    "\n",
    "`-` 누적 합 앞에 $0$을 추가한다 ($0$번째까지의 누적 합을 나타내기 위함)\n",
    "\n",
    "`-` 누적 합 첫 번째와 두 번째에 포인터를 두고 값이 둘이 가리키는 소수의 합이 $N$보다 작으면 오른쪽 포인터를 오른쪽으로 한 칸 옮긴다\n",
    "\n",
    "`-` $N$보다 크면 왼쪽 포인터를 오른쪽으로 한 칸 옮긴다\n",
    "\n",
    "`-` 만약 $N$이라면 카운팅한 후 오른쪽 포인터를 오른쪽으로 한 칸 옮긴다\n",
    "\n",
    "`-` 왼쪽 포인터가 오른쪽 포인터와 만나면 탐색을 중지한다 (해가 더 이상 없다)\n",
    "\n",
    "`-` 예외 처리로 $N=1$이면 $0$을 출력한다\n",
    "\n",
    "`-` 위와 같이 하면 합이 $N$이 되는 소수의 부분 합을 모두 탐색할 수 있으므로 정답을 계산할 수 있다"
   ]
  },
  {
   "cell_type": "code",
   "execution_count": 47,
   "id": "f50edc20-8e8a-492a-9422-88dde003e57c",
   "metadata": {},
   "outputs": [
    {
     "name": "stdin",
     "output_type": "stream",
     "text": [
      " 41\n"
     ]
    },
    {
     "name": "stdout",
     "output_type": "stream",
     "text": [
      "3\n"
     ]
    }
   ],
   "source": [
    "def solution():\n",
    "    N = int(input())\n",
    "    if N == 1:\n",
    "        print(0)\n",
    "        return\n",
    "    num2is_prime = [False, False] + [True] * (N - 1)  # 0부터 시작\n",
    "    a = int(N ** 0.5) + 1\n",
    "    for i in range(2, a):\n",
    "        if not num2is_prime[i]:\n",
    "            continue\n",
    "        for j in range(2 * i, N + 1, i):\n",
    "            num2is_prime[j] = False\n",
    "    prime_nums = [prime_num for prime_num, is_prime in enumerate(num2is_prime) if is_prime]\n",
    "    num_primes = len(prime_nums)\n",
    "    prefix_sum = [0 for _ in range(num_primes)]\n",
    "    prefix_sum[0] = prime_nums[0]\n",
    "    for i in range(1, num_primes):\n",
    "        prefix_sum[i] = prime_nums[i] + prefix_sum[i - 1]\n",
    "    prefix_sum = [0] + prefix_sum\n",
    "    left = 0\n",
    "    right = 1\n",
    "    answer = 0\n",
    "    while left < right and right <= num_primes:\n",
    "        value_left = prefix_sum[left]\n",
    "        value_right = prefix_sum[right]\n",
    "        value_new = value_right - value_left\n",
    "        if value_new > N:\n",
    "            left += 1\n",
    "        elif value_new < N:\n",
    "            right += 1\n",
    "        else:\n",
    "            answer += 1\n",
    "            right += 1\n",
    "    print(answer)\n",
    "\n",
    "\n",
    "solution()\n",
    "\n",
    "# input\n",
    "# 41"
   ]
  },
  {
   "cell_type": "markdown",
   "id": "c181b1be-20a3-4675-84cb-b55a9c1d37c0",
   "metadata": {},
   "source": [
    "## 합이 0\n",
    "\n",
    "- 문제 출처: [백준 3151번](https://www.acmicpc.net/problem/3151)"
   ]
  },
  {
   "cell_type": "markdown",
   "id": "4d9ac48a-937f-4e23-8c41-d52e433f8047",
   "metadata": {},
   "source": [
    "`-` [세 용액](https://www.acmicpc.net/problem/2473) 문제와 비슷하게 해결할 수 있다 (라고 생각했었다)\n",
    "\n",
    "`-` 한 명은 고정시키고 나머지 두 명을 투 포인터를 사용해 탐색하자\n",
    "\n",
    "`-` 한 명을 고정시키는 작업을 $N$번 하고 투 포인터를 통한 탐색은 $O(N)$이므로 총 알고리즘의 시간 복잡도는 $O\\left(N^2\\right)$이다"
   ]
  },
  {
   "cell_type": "markdown",
   "id": "cc9f4659-a835-4425-a062-37c51806fe3a",
   "metadata": {},
   "source": [
    "`1.` 첫 번째 시도\n",
    "\n",
    "`-` 한 명을 고정시킨 후 정답으로 가능한 다른 두 명을 찾는다\n",
    "\n",
    "`-` 추후 정답으로 가능한 다른 두 명 중 하나를 고정시킨 후 탐색을 할 때 전에 찾은 조합을 또 찾게 된다\n",
    "\n",
    "`-` 이미 찾은 조합을 또 찾지 않도록 하기 위해 집합에 조합 인덱스를 넣어 관리할 수도 있다\n",
    "\n",
    "`-` 하지만 이렇게 하면 주어진 메모리를 초과하게 된다 (틀리고 옴)"
   ]
  },
  {
   "cell_type": "markdown",
   "id": "4d1458e7-ed7a-4aea-a27e-cec5e6928227",
   "metadata": {},
   "source": [
    "`2.` 두 번째 시도\n",
    "\n",
    "`-` 만약 모든 값이 $0$이라고 해보자\n",
    "\n",
    "`-` 그러면 어떤 조합이든 정답으로 가능하므로 $\\binom{10000}{3}$이 정답이며 이 수만큼 집합에 기록해야 하는데 당연히 메모리 초과이다\n",
    "\n",
    "`-` 다른 방식으로 값은 같지만 인덱스는 다른 조합 쌍을 기록해보자\n",
    "\n",
    "`-` 일단 같은 값이 여러 개 들어올 수 있다\n",
    "\n",
    "`-` 예로 $2$가 10개, $-4$가 3개, $-1$이 2개 있다고 해보자\n",
    "\n",
    "`-` $(2,2,-4), (-1,-1,2)$ 조합만이 합이 $0$이 된다\n",
    "\n",
    "`-` 그런데 이러한 조합이 하나만 있는 건 아니고 인덱스가 다르므로 모두 고려해야 한다\n",
    "\n",
    "`-` 동일한 수는 $0$을 제외하곤 $3$개 이상 필요 없다\n",
    "\n",
    "`-` 총 $3$명을 골라야 하는데 $0$을 제외하면 같은 수에 $3$을 곱해서 $0$을 만들 수 없다\n",
    "\n",
    "`-` 같은 수가 여러 개 입력으로 들어오면 $0$은 $3$개까지 나머지는 $2$개까지만 배열에 기록하자\n",
    "\n",
    "`-` 위의 예시에선 $2, -4, -1$ 모두 $2$개만 배열에 기록한다\n",
    "\n",
    "`-` $(2,2-4)$를 완성하기 위해 $2$가 2개, $-4$가 1개 필요하다\n",
    "\n",
    "`-` 10개 중에 2개를 고르는 것이므로 $\\binom{10}{2} = \\frac{10\\cdot 9}{2\\cdot 1}$이고\n",
    "\n",
    "`-` 3개 중에 1개를 고르는 것이므로 $\\binom{3}{1} = \\frac{3}{1}$이다\n",
    "\n",
    "`-` 이 둘을 곱하면 $135$로 서로 다른 $(2,2-4)$ 조합은 총 $135$개다\n",
    "\n",
    "`-` 같은 방법으로 계산하면 $(-1,-1,2)$ 조합은 $10$개 존재한다\n",
    "\n",
    "`-` 정답 숫자 쌍을 집합에 기록하자\n",
    "\n",
    "`-` $0$을 기준으로 값이 대칭이라면 $5000$개가 존재하며 이 것이 최댓값이다\n",
    "\n",
    "`-` 인덱스와 상관 없이 숫자 쌍만 기록함에 유의하자\n",
    "\n",
    "`-` 모든 값이 $0$이라면 집합에는 $(0,0,0)$만 존재한다\n",
    "\n",
    "`-` 모든 정답 숫자 쌍에 대해 개수를 계산한 후 더하면 정답이다\n",
    "\n",
    "`-` 개수를 세는 것은 위에서 든 예시와 같이 조합을 사용하면 된다\n",
    "\n",
    "`-` `2`번째 방법은 `1`번째 방법보다 메모리를 적게 먹지만 메모리를 초과하는건 동일하다"
   ]
  },
  {
   "cell_type": "markdown",
   "id": "d4694bfe-323b-4de4-b806-ae140206941a",
   "metadata": {},
   "source": [
    "`3.` 세 번째 시도\n",
    "\n",
    "`-` 근본적으로 기존의 숫자 배열외의 배열을 사용하는 것은 정답을 중복 카운팅 하지 않기 위함이다\n",
    "\n",
    "`-` 한 명을 고정시키고 다른 두 명을 투 포인터로 찾는 과정에서 중복된 답이 나오는 이유는 인덱스 제약이 투 포인터에만 있기 때문이다\n",
    "\n",
    "`-` 고정시킨 한 명을 $a$ 나머지 둘을 $b,c$라고 해보자\n",
    "\n",
    "`-` 투 포인터로 $b,c$를 찾을 때 왼쪽 포인터는 오른쪽 포인터를 넘지 못한다\n",
    "\n",
    "`-` 따라서 $i_b < i_c$이다\n",
    "\n",
    "`-` 둘이 아닌 셋을 구분하기 위해 $i_a < i_b < i_c$ 제약을 고려하자\n",
    "\n",
    "`-` 이 제약에 의해 동일한 인덱스 조합을 두 번 이상 탐색하지 않는다 (인덱스를 정렬한 결과는 유일하므로 한 번만 탐색한다)\n",
    "\n",
    "`-` $a$는 첫 번째 원소부터 마지막 원소까지 바꿔가며 탐색할 것이기 때문에 정답으로 가능한 모든 조합을 찾을 수 있다\n",
    "\n",
    "`-` 또한 세 포인터는 대소 관계에 따라 나뉘어져 있으므로 정답을 중복 카운팅하지 않는다\n",
    "\n",
    "`-` 따라서 기존의 숫자 배열외의 다른 배열은 필요 없고 $i_a < i_b < i_c$ 제약만 있으면 된다\n",
    "\n",
    "`-` 합이 $0$이 되는 경우를 찾았을 때 또 다른 조합을 찾기 위해 왼쪽 포인터 또는 오른쪽 포인터를 움직여야 한다\n",
    "\n",
    "`-` 같은 값이 여러 개 있을 수 있으니 아무렇게나 움직이면 안된다\n",
    "\n",
    "`-` 왼쪽 포인터를 옮겨도 되고 오른쪽 포인터를 옮겨도 된다\n",
    "\n",
    "`-` 배열이 $0,0,0,0,0$이라고 해보자\n",
    "\n",
    "`-` 그러면 정답은 $10$이다\n",
    "\n",
    "`-` 합이 $0$이 되는 경우를 찾으면 왼쪽 포인터를 오른쪽으로 한 칸 옮겨도 같은 값인지 확인한다\n",
    "\n",
    "`-` 같은 값이면 정답으로 카운팅하고 또 다시 오른쪽으로 한 칸 옮겨도 같은 값인지 확인한다\n",
    "\n",
    "`-` 이를 배열 인덱스를 초과하지 않고 오른쪽 포인터를 넘지 않을 때까지 반복한다\n",
    "\n",
    "`-` 그 후 오른쪽 포인터를 왼쪽으로 한 칸 옮긴다\n",
    "\n",
    "`-` 그러면 동일한 값들에 대해 인덱스만 다른 정답 숫자 쌍을 모두 탐색할 수 있다\n",
    "\n",
    "`-` 이를 코드로 나타내면 아래와 같다\n",
    "\n",
    "```python\n",
    "left_tmp = left\n",
    "while left_tmp + 1 < N and left_tmp < right:\n",
    "    answer += 1\n",
    "    if a_n[left_tmp] != a_n[left_tmp + 1]:\n",
    "        break\n",
    "    left_tmp += 1\n",
    "right -= 1\n",
    "```\n",
    "\n",
    "`-` 처음으로 메모리 초과가 아닌 $22\\%$ 부근에서 시간 초과를 받았다"
   ]
  },
  {
   "cell_type": "markdown",
   "id": "6b8eb741-0981-4805-8bf5-9dff95d83b25",
   "metadata": {},
   "source": [
    "`4.` 네 번째 시도\n",
    "\n",
    "`-` `3`번째 방법이 시간 초과를 받은 이유는 배열의 원소가 모두 $0$인 경우 시간 복잡도가 $O\\left(N^3\\right)$이기 때문이다\n",
    "\n",
    "`-` 꼭 $0$이 아니라도 하나의 정답 숫자 쌍을 구성하는 숫자가 배열에 많이 존재하면 이들 모두를 찾기 위해 $O\\left(N^2\\right)$에 근접하는 시간을 소비한다\n",
    "\n",
    "`-` 고정시킨 사람당 $O\\left(N^2\\right)$의 시간을 소비하고 고정시킬 사람을 $N-2$번 바꾸므로 시간 복잡도는 $O\\left(N^3\\right)$이다\n",
    "\n",
    "`-` 중복되는 경우를 없애기 위해선 압축을 해야 한다\n",
    "\n",
    "`-` `방법 2`에서 말했듯이 근본적으로 같은 수는 $0$인 경우 3개, 나머지는 최대 2개만 있으면 된다\n",
    "\n",
    "`-` 만약 배열에 중복되는 원소가 없다면 아주 간단하게 투 포인터로 문제를 해결할 수 있다\n",
    "\n",
    "`-` $0$이 아닌 어떤 원소 $a$를 2번 사용하여 $0$을 만들었다고 하자\n",
    "\n",
    "`-` 그러면 조합은 $(a,a,-2a)$가 된다\n",
    "\n",
    "`-` 배열을 가지고 카운터 딕셔너리를 만들자\n",
    "\n",
    "`-` 2번 이상 등장한 원소가 있다면 $-2a$가 카운터 딕셔너리에 있는지 판단하자 (상수 시간이면 판단 가능하다)\n",
    "\n",
    "`-` 만약 $-2a$가 있다면 합이 $0$이 되는 조합을 몇 번 만들 수 있을까?\n",
    "\n",
    "`-` $a$가 $n_a$개, $b=-2a$가 $n_b$개 있다면 $n_{ab} = n_b \\times \\binom{n_a}{2}=\\dfrac{n_b n_a(n_a-1)}{2}$번 만들 수 있다\n",
    "\n",
    "`-` $n_{ab}$는 상수 시간에 계산가능하며 이를 정답에 카운팅하기만 하면 된다\n",
    "\n",
    "`-` 그러면 $a$를 2번 사용해서 만들 수 있는 정답 조합을 이미 고려했으므로 투 포인터로 탐색할 배열에는 $a$가 1개만 있어도 된다!\n",
    "\n",
    "`-` 투 포인터로 배열을 탐색하면서 $a$가 포함된 정답 조합을 찾을 때마다 정답에 $n_a$만큼 카운팅하면 된다 (인덱스가 다른 $a$가 $n_a$개 있다)\n",
    "\n",
    "`-` 좀 더 정확히 하면 다음과 같다\n",
    "\n",
    "`-` 투 포인터로 배열을 탐색하면서 정답 조합 $(a,b,c)$를 찾았다고 해보자\n",
    "\n",
    "`-` 그러면 정답에 $n_a n_b n_c$만큼 카운팅하면 된다\n",
    "\n",
    "`-` 참고로 고정된 포인터의 인덱스를 $i_a$, 왼쪽 포인터의 인덱스를 $i_b$, 오른쪽 포인터의 인덱스를 $i_c$라고 하면 $i_a < i_b <i_c$이다\n",
    "\n",
    "`-` 위의 작업을 통해 배열의 모든 중복되는 원소를 없앴으므로 동일한 인덱스 정답 쌍을 중복 탐색하지 않는다\n",
    "\n",
    "`-` 한편, 정답 조합에 $0$이 들어가는 경우 $0$은 1개 또는 3개이다 (2개일수는 없다, 나머지 하나도 $0$이어야 한다)\n",
    "\n",
    "`-` 따라서 $0$이 배열에 $n_z \\ge 3$개 있다면 $(0,0,0)$ 조합은 $\\dfrac{n_z(n_z-1)(n_z-2)}{6}$개 존재한다\n",
    "\n",
    "`-` 네 번째 시도 끝에 정답을 맞혔다"
   ]
  },
  {
   "cell_type": "code",
   "execution_count": 12,
   "id": "2632767b-7628-49c1-825e-5890a4c20384",
   "metadata": {},
   "outputs": [
    {
     "name": "stdin",
     "output_type": "stream",
     "text": [
      " 10\n",
      " 2 -5 2 3 -4 7 -4 0 1 -6\n"
     ]
    },
    {
     "name": "stdout",
     "output_type": "stream",
     "text": [
      "6\n"
     ]
    }
   ],
   "source": [
    "from collections import Counter\n",
    "\n",
    "\n",
    "def solution():\n",
    "    N = int(input())\n",
    "    a_n = list(map(int, input().split()))\n",
    "    answer = 0\n",
    "    counter = Counter(a_n)\n",
    "    a_n = list(counter.keys())\n",
    "    a_n.sort()\n",
    "    n = len(a_n)\n",
    "    for value, count in counter.items():\n",
    "        if value == 0 and count >= 3:\n",
    "            answer += (count * (count - 1) * (count - 2)) // 6\n",
    "        elif value != 0 and count >= 2:\n",
    "            other = -2 * value\n",
    "            if other not in counter:\n",
    "                continue\n",
    "            count_other = counter[other]\n",
    "            answer += (count * (count - 1) * count_other) // 2\n",
    "    for fixed_index in range(n - 2):  # fixed_index < left < right\n",
    "        left = fixed_index + 1\n",
    "        right = n - 1\n",
    "        a_fixed = a_n[fixed_index]\n",
    "        while fixed_index < left < right:\n",
    "            a_left = a_n[left]\n",
    "            a_right = a_n[right]\n",
    "            a_new = a_fixed + a_left + a_right\n",
    "            if a_new < 0:\n",
    "                left += 1\n",
    "            elif a_new > 0:\n",
    "                right -= 1\n",
    "            else:\n",
    "                answer += counter[a_fixed] * counter[a_left] * counter[a_right]\n",
    "                right -= 1  # `left += 1`도 가능\n",
    "    print(answer)\n",
    "\n",
    "\n",
    "solution()\n",
    "\n",
    "# input\n",
    "# 10\n",
    "# 2 -5 2 3 -4 7 -4 0 1 -6"
   ]
  },
  {
   "cell_type": "code",
   "execution_count": null,
   "id": "0003018b-3fca-42e8-aa4b-bb4e5068a8a8",
   "metadata": {},
   "outputs": [],
   "source": []
  }
 ],
 "metadata": {
  "kernelspec": {
   "display_name": "Python 3 (ipykernel)",
   "language": "python",
   "name": "python3"
  },
  "language_info": {
   "codemirror_mode": {
    "name": "ipython",
    "version": 3
   },
   "file_extension": ".py",
   "mimetype": "text/x-python",
   "name": "python",
   "nbconvert_exporter": "python",
   "pygments_lexer": "ipython3",
   "version": "3.8.11"
  }
 },
 "nbformat": 4,
 "nbformat_minor": 5
}
