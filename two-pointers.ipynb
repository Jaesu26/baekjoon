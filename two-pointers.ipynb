{
 "cells": [
  {
   "cell_type": "markdown",
   "id": "d5967562-8e73-42bb-ab01-6d4ce3c64c24",
   "metadata": {},
   "source": [
    "# 두 포인터 (Two Pointers)"
   ]
  },
  {
   "cell_type": "markdown",
   "id": "28cb2898-93b4-4d15-8702-2a918aea1fb2",
   "metadata": {},
   "source": [
    "## 두 수의 합\n",
    "\n",
    "- 문제 출처: [백준 3273번](https://www.acmicpc.net/problem/3273)"
   ]
  },
  {
   "cell_type": "markdown",
   "id": "113dfa91-e4e2-4093-b298-9ff7566e8480",
   "metadata": {},
   "source": [
    "`-` 배열을 오름차순으로 정렬한다\n",
    "\n",
    "`-` 그리고 양 끝을 가리키는 포인터 2개를 고려하자\n",
    "\n",
    "`-` $a_1+a_n>x$ 라면 합을 더 작게 해야하므로 $a_n$ 대신 $a_{n-1}$을 고려한다\n",
    "\n",
    "`-` $a_1+a_n<x$ 라면 합을 더 크게 해야하므로 $a_1$ 대신 $a_2$를 고려한다\n",
    "\n",
    "`-` $a_1+a_n=x$ 라면 조건을 만족하는 쌍을 찾은 것이다\n",
    "\n",
    "`-` 다른 쌍도 찾기 위해 $a_1$ 대신 $a_2$를 고려하든지 $a_n$ 대신 $a_{n-1}$를 고려하면 된다"
   ]
  },
  {
   "cell_type": "code",
   "execution_count": 7,
   "id": "31dff949-1324-4a8b-8bdc-192722ac0a45",
   "metadata": {},
   "outputs": [
    {
     "name": "stdin",
     "output_type": "stream",
     "text": [
      " 9\n",
      " 5 12 7 10 9 1 2 3 11\n",
      " 13\n"
     ]
    },
    {
     "name": "stdout",
     "output_type": "stream",
     "text": [
      "3\n"
     ]
    }
   ],
   "source": [
    "n = int(input())\n",
    "A = list(map(int, input().split()))\n",
    "x = int(input()) ## a_i + a_j = x\n",
    "\n",
    "A.sort() ## 배열을 오름차순 정렬\n",
    "count = 0 ## a_i + a_j = x을 만족하는 (i, j)의 개수\n",
    "left = 0 ## 배열의 시작\n",
    "right = n - 1 ## 배열의 끝\n",
    "while left < right:\n",
    "    if A[left] + A[right] > x:\n",
    "        right -= 1\n",
    "    elif A[left] + A[right] < x:\n",
    "        left += 1\n",
    "    else:\n",
    "        count += 1\n",
    "        right -= 1 ## left += 1 또한 가능하다\n",
    "        \n",
    "print(count)\n",
    "\n",
    "# input\n",
    "# 9\n",
    "# 5 12 7 10 9 1 2 3 11\n",
    "# 13"
   ]
  },
  {
   "cell_type": "markdown",
   "id": "c75d4fd1-90d4-4d26-9e6d-9130eaf3d36d",
   "metadata": {},
   "source": [
    "- Hash Set을 이용한 풀이\n",
    "\n",
    "`-` 난이도 기여 페이지를 봤는데 해시 테이블을 이용해서 풀 수도 있음을 알게 됨\n",
    "\n",
    "`-` 해시 테이블에 배열의 원소를 하나하나 입력한다\n",
    "\n",
    "`-` 원소를 $a_i$라고 한다면 해시 테이블에 $x-a_i$가 존재하는지를 check하여 순서 쌍의 개수를 찾을 수 있다"
   ]
  },
  {
   "cell_type": "code",
   "execution_count": 14,
   "id": "439950c7-2c3b-493b-a86b-5066b594469f",
   "metadata": {},
   "outputs": [
    {
     "name": "stdin",
     "output_type": "stream",
     "text": [
      " 9\n",
      " 5 12 7 10 9 1 2 3 11\n",
      " 13\n"
     ]
    },
    {
     "name": "stdout",
     "output_type": "stream",
     "text": [
      "3\n"
     ]
    }
   ],
   "source": [
    "n = int(input())\n",
    "A = list(map(int, input().split()))\n",
    "x = int(input()) ## a_i + a_j = x\n",
    "\n",
    "count = 0 ## a_i + a_j = x을 만족하는 (i, j)의 개수\n",
    "hash_set = {}\n",
    "for a in A:\n",
    "    hash_set[a] = True\n",
    "\n",
    "for a in A:\n",
    "    if x - a in hash_set:\n",
    "        count += 1\n",
    "        \n",
    "print(count // 2)\n",
    "\n",
    "# input\n",
    "# 9\n",
    "# 5 12 7 10 9 1 2 3 11\n",
    "# 13"
   ]
  },
  {
   "cell_type": "markdown",
   "id": "6f8af442-de41-421c-8e73-93a050091dbd",
   "metadata": {},
   "source": [
    "`-` 참고로 아래와 같이 하면 틀린다"
   ]
  },
  {
   "cell_type": "markdown",
   "id": "382a0099-a4c4-4f51-b8fc-e2256544b3ac",
   "metadata": {},
   "source": [
    "```python\n",
    "for a in A:\n",
    "    hash_set[a] = True\n",
    "    if x - a in hash_set:\n",
    "        count += 1\n",
    "```"
   ]
  },
  {
   "cell_type": "markdown",
   "id": "1d5b88cd-37e5-4b85-a2ac-82c83ecd0eb4",
   "metadata": {},
   "source": [
    "`-` 만약 $x$가 $10$이고 hash_set에 $7$이 $100$개가 있는데 입력으로 $3$이 들어온다면\n",
    "\n",
    "`-` count에 `+ 100`을 해야하지만 위의 코드에 따르면 `+ 1`밖에 하지 않는다"
   ]
  },
  {
   "cell_type": "markdown",
   "id": "dc0fcf32-4a9a-4ebe-9b5a-d5b224f0c86b",
   "metadata": {},
   "source": [
    "## 과일 탕후루\n",
    "\n",
    "- 문제 출처: [백준 30804번](https://www.acmicpc.net/problem/30804)"
   ]
  },
  {
   "cell_type": "code",
   "execution_count": 50,
   "id": "7d6b59c5-f53a-4e1e-811e-d86e56fe3225",
   "metadata": {},
   "outputs": [
    {
     "name": "stdin",
     "output_type": "stream",
     "text": [
      " 1\n",
      " 1\n"
     ]
    },
    {
     "name": "stdout",
     "output_type": "stream",
     "text": [
      "1\n"
     ]
    }
   ],
   "source": [
    "N = int(input())\n",
    "fruit = list(map(int, input().split()))\n",
    "visited = 0\n",
    "max_length = 1\n",
    "for i in range(N - 1):  # 투 포인터에서 오른쪽 포인터를 담당하는 거였음 (빨간약)\n",
    "    if i + 1 < visited:\n",
    "        continue\n",
    "    length = 2\n",
    "    a, b = fruit[i], fruit[i + 1]\n",
    "    left, right = i, i + 1\n",
    "    species = {a: True}\n",
    "    s_len = 1\n",
    "    if b not in species:\n",
    "        species[b] = True\n",
    "        s_len += 1\n",
    "    for left in range(i - 1, -1, -1):  # 0 ~ i-1  # 얘는 왼쪽 포인터\n",
    "        a_left = fruit[left]\n",
    "        if a_left in species:\n",
    "            length += 1\n",
    "            continue\n",
    "        if s_len < 2:\n",
    "            species[a_left] = True\n",
    "            length += 1\n",
    "            s_len += 1\n",
    "        else:\n",
    "            break\n",
    "    for right in range(i + 2, N):  # i+2 ~ N-1  # 애는 사실 원래 할 꺼 미리 땡겨쓴거임\n",
    "        b_right = fruit[right]\n",
    "        if b_right in species:\n",
    "            length += 1\n",
    "            continue\n",
    "        if s_len < 2:\n",
    "            species[b_right] = True\n",
    "            length += 1\n",
    "            s_len += 1\n",
    "        else:\n",
    "            break\n",
    "    if length > max_length:\n",
    "        max_length = length\n",
    "    visited = right\n",
    "\n",
    "print(max_length)"
   ]
  },
  {
   "cell_type": "code",
   "execution_count": null,
   "id": "793af8eb-4f9a-4666-93d4-711fd60fef71",
   "metadata": {},
   "outputs": [],
   "source": [
    "11,11,13 =>4\n",
    "34\n",
    "1113 => 4\n",
    "11134x\n",
    "5\n",
    "4x"
   ]
  },
  {
   "cell_type": "code",
   "execution_count": null,
   "id": "290869c0-2943-431c-ba2a-c075d9a3c00b",
   "metadata": {},
   "outputs": [],
   "source": [
    "5311411111\n",
    "\n"
   ]
  },
  {
   "cell_type": "markdown",
   "id": "f3d29f7e-5cca-47a7-9785-aa7eb5190d40",
   "metadata": {},
   "source": [
    "`-` 로직 추후 추가\n",
    "\n",
    "`-` 러프하게 설명\n",
    "\n",
    "`-` 1,2 -> 2,3 -> 3,4 -> ... N-1,N에서 시작\n",
    "\n",
    "`-` 시작할 때 과일 2개만 고려하니 두 종류 초과 당연하게도 안함\n",
    "\n",
    "`-` 여기서 확장해나감\n",
    "\n",
    "`-` 방법이 2개 존재함\n",
    "\n",
    "일단 중복 안되는 선에서 왼쪽이랑 오른쪽으로 영역전개함\n",
    "\n",
    "만약 둘 다 중복된다 해보자\n",
    "\n",
    "예를 들어 지금 1,1,1,1 이런 상태임\n",
    "\n",
    "근데 왼쪽 과일은 3이고 오른쪽은 5라고 해보자\n",
    "\n",
    "그럼 둘 중 하나밖에 못 얻음\n",
    "\n",
    "왜냐하면 종류 2개 유지해야 함\n",
    "\n",
    "이제 왼쪽을 택하는거랑 오른쪽을 택하는거 두 개 있음\n",
    "\n",
    "근데 왼쪽을 먼저 택해야 됨\n",
    "\n",
    "왜냐하면 1,2 -> 2,3과 같이 원소를 증가시키는 방향으로 탐색하기 때문 (만약 거꾸로했다면 오른쪽을 먼저 택해야 됨)\n",
    "\n",
    "왜 왼쪽 먼저 택해야 되냐면 왼쪽은 이미 탐색한 원소들임 (당연하죠), 오른쪽은 미지 영역임, 그리고 왼쪽은 for문 돌면서 재껴짐)\n",
    "\n",
    "예시: 1,2 탐색함\n",
    "\n",
    "근데 확장 못 시킨다 해보자 왜냐하면 3번째 과일 추가 못함, 3종류 돼서\n",
    "\n",
    "2,3으로 넘어가겠죠? 그럼 이제 1을 탐색하겠죠? 왜냐하면 왼쪽 먼저 본다고 했으니까\n",
    "\n",
    "근데 당연히 1을 추가못함, 만약 1을 추가할 수 있다면 애초에 1,2 탐색했을 때 3번을 추가했을 거임\n",
    "\n",
    "그럼 왼쪽 탐색 코드 없애도 되는거아님? 근데 없애니까 11%에서 틀림...\n",
    "\n",
    "아무튼 이제 오른쪽 탐색 ㄱㄱ\n",
    "\n",
    "추가할 수도 있고 못할 수도 있음\n",
    "\n",
    "2,3,4,5번까지 가능하다고 해보자. 6번째 과일은 추가 못함, 두 종류 넘어감\n",
    "\n",
    "자 그러면 맥스 길이는 4임\n",
    "\n",
    "다음 탐색을 뭘까?\n",
    "\n",
    "2,3했으니까 3,4해야겠죠? 근데 할 필요 없음, 2~5의 서브 셋임\n",
    "\n",
    "그럼 뭘 해야 됨? 5,6으로 넘어가야 함\n",
    "\n",
    "자 5,6에서 왼쪽 탐색해서 4추가 가능? 되겠냐?\n",
    "\n",
    "사실 가능함\n",
    "\n",
    "????\n",
    "\n",
    "4랑 5가 같은 종류의 과일이면 왼쪽 추가 가능! 2,3에서 1을 추가 못한건 당연히 1,2,3이 다른 종류이기 때문임\n",
    "\n",
    "만약 2만 다르면 3,4,5 추가 가능! -> 즉, 다른 원소만날때까지 추가가능!\n",
    "\n",
    "이거 조금만 더 발전시키면 투 포인터임\n",
    "\n",
    "굳이 왼쪽을 모두 탐색해야 될까?\n",
    "\n",
    "그냥 오른쪽 원소 하나 추가한다 해보자 (가능한선까지)\n",
    "\n",
    "그리고 이제 추가 못한다 해보자 -> 왜냐하면 추가하면 3종류 됨\n",
    "\n",
    "그럼 가장 왼쪽 없애버림 (어차피 그래야 됨)\n",
    "\n",
    "왼쪽 없애서 종류가 1개 줄었다면 다시 ㄱㄱ 언제까지? 오른쪽 추가 못할때까지\n",
    "\n",
    "이거 계속 반복해서 최대 길이가 정답임\n",
    "\n",
    "`-` 이거 잘 정리하자"
   ]
  }
 ],
 "metadata": {
  "kernelspec": {
   "display_name": "Python 3 (ipykernel)",
   "language": "python",
   "name": "python3"
  },
  "language_info": {
   "codemirror_mode": {
    "name": "ipython",
    "version": 3
   },
   "file_extension": ".py",
   "mimetype": "text/x-python",
   "name": "python",
   "nbconvert_exporter": "python",
   "pygments_lexer": "ipython3",
   "version": "3.8.11"
  }
 },
 "nbformat": 4,
 "nbformat_minor": 5
}
