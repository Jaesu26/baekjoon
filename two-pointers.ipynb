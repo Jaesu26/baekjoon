{
 "cells": [
  {
   "cell_type": "markdown",
   "id": "d5967562-8e73-42bb-ab01-6d4ce3c64c24",
   "metadata": {},
   "source": [
    "# 두 포인터 (Two Pointers)"
   ]
  },
  {
   "cell_type": "markdown",
   "id": "28cb2898-93b4-4d15-8702-2a918aea1fb2",
   "metadata": {},
   "source": [
    "## 두 수의 합\n",
    "\n",
    "- 문제 출처: [백준 3273번](https://www.acmicpc.net/problem/3273)"
   ]
  },
  {
   "cell_type": "markdown",
   "id": "113dfa91-e4e2-4093-b298-9ff7566e8480",
   "metadata": {},
   "source": [
    "`-` 배열을 오름차순으로 정렬한다\n",
    "\n",
    "`-` 그리고 양 끝을 가리키는 포인터 2개를 고려하자\n",
    "\n",
    "`-` $a_1+a_n>x$ 라면 합을 더 작게 해야하므로 $a_n$ 대신 $a_{n-1}$을 고려한다\n",
    "\n",
    "`-` $a_1+a_n<x$ 라면 합을 더 크게 해야하므로 $a_1$ 대신 $a_2$를 고려한다\n",
    "\n",
    "`-` $a_1+a_n=x$ 라면 조건을 만족하는 쌍을 찾은 것이다\n",
    "\n",
    "`-` 다른 쌍도 찾기 위해 $a_1$ 대신 $a_2$를 고려하든지 $a_n$ 대신 $a_{n-1}$를 고려하면 된다"
   ]
  },
  {
   "cell_type": "code",
   "execution_count": 7,
   "id": "31dff949-1324-4a8b-8bdc-192722ac0a45",
   "metadata": {},
   "outputs": [
    {
     "name": "stdin",
     "output_type": "stream",
     "text": [
      " 9\n",
      " 5 12 7 10 9 1 2 3 11\n",
      " 13\n"
     ]
    },
    {
     "name": "stdout",
     "output_type": "stream",
     "text": [
      "3\n"
     ]
    }
   ],
   "source": [
    "n = int(input())\n",
    "A = list(map(int, input().split()))\n",
    "x = int(input()) ## a_i + a_j = x\n",
    "\n",
    "A.sort() ## 배열을 오름차순 정렬\n",
    "count = 0 ## a_i + a_j = x을 만족하는 (i, j)의 개수\n",
    "left = 0 ## 배열의 시작\n",
    "right = n - 1 ## 배열의 끝\n",
    "while left < right:\n",
    "    if A[left] + A[right] > x:\n",
    "        right -= 1\n",
    "    elif A[left] + A[right] < x:\n",
    "        left += 1\n",
    "    else:\n",
    "        count += 1\n",
    "        right -= 1 ## left += 1 또한 가능하다\n",
    "        \n",
    "print(count)\n",
    "\n",
    "# input\n",
    "# 9\n",
    "# 5 12 7 10 9 1 2 3 11\n",
    "# 13"
   ]
  },
  {
   "cell_type": "markdown",
   "id": "c75d4fd1-90d4-4d26-9e6d-9130eaf3d36d",
   "metadata": {},
   "source": [
    "- Hash Set을 이용한 풀이\n",
    "\n",
    "`-` 난이도 기여 페이지를 봤는데 해시 테이블을 이용해서 풀 수도 있음을 알게 됨\n",
    "\n",
    "`-` 해시 테이블에 배열의 원소를 하나하나 입력한다\n",
    "\n",
    "`-` 원소를 $a_i$라고 한다면 해시 테이블에 $x-a_i$가 존재하는지를 check하여 순서 쌍의 개수를 찾을 수 있다"
   ]
  },
  {
   "cell_type": "code",
   "execution_count": 14,
   "id": "439950c7-2c3b-493b-a86b-5066b594469f",
   "metadata": {},
   "outputs": [
    {
     "name": "stdin",
     "output_type": "stream",
     "text": [
      " 9\n",
      " 5 12 7 10 9 1 2 3 11\n",
      " 13\n"
     ]
    },
    {
     "name": "stdout",
     "output_type": "stream",
     "text": [
      "3\n"
     ]
    }
   ],
   "source": [
    "n = int(input())\n",
    "A = list(map(int, input().split()))\n",
    "x = int(input()) ## a_i + a_j = x\n",
    "\n",
    "count = 0 ## a_i + a_j = x을 만족하는 (i, j)의 개수\n",
    "hash_set = {}\n",
    "for a in A:\n",
    "    hash_set[a] = True\n",
    "\n",
    "for a in A:\n",
    "    if x - a in hash_set:\n",
    "        count += 1\n",
    "        \n",
    "print(count // 2)\n",
    "\n",
    "# input\n",
    "# 9\n",
    "# 5 12 7 10 9 1 2 3 11\n",
    "# 13"
   ]
  },
  {
   "cell_type": "markdown",
   "id": "6f8af442-de41-421c-8e73-93a050091dbd",
   "metadata": {},
   "source": [
    "`-` 참고로 아래와 같이 하면 틀린다"
   ]
  },
  {
   "cell_type": "markdown",
   "id": "382a0099-a4c4-4f51-b8fc-e2256544b3ac",
   "metadata": {},
   "source": [
    "```python\n",
    "for a in A:\n",
    "    hash_set[a] = True\n",
    "    if x - a in hash_set:\n",
    "        count += 1\n",
    "```"
   ]
  },
  {
   "cell_type": "markdown",
   "id": "1d5b88cd-37e5-4b85-a2ac-82c83ecd0eb4",
   "metadata": {},
   "source": [
    "`-` 만약 $x$가 $10$이고 hash_set에 $7$이 $100$개가 있는데 입력으로 $3$이 들어온다면\n",
    "\n",
    "`-` count에 `+ 100`을 해야하지만 위의 코드에 따르면 `+ 1`밖에 하지 않는다"
   ]
  },
  {
   "cell_type": "code",
   "execution_count": null,
   "id": "528e1ad9-d4d9-4ec9-aed1-71399ec5790f",
   "metadata": {},
   "outputs": [],
   "source": []
  }
 ],
 "metadata": {
  "kernelspec": {
   "display_name": "Python 3 (ipykernel)",
   "language": "python",
   "name": "python3"
  },
  "language_info": {
   "codemirror_mode": {
    "name": "ipython",
    "version": 3
   },
   "file_extension": ".py",
   "mimetype": "text/x-python",
   "name": "python",
   "nbconvert_exporter": "python",
   "pygments_lexer": "ipython3",
   "version": "3.8.11"
  }
 },
 "nbformat": 4,
 "nbformat_minor": 5
}
