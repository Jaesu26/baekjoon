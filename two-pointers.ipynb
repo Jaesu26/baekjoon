{
 "cells": [
  {
   "cell_type": "markdown",
   "id": "d5967562-8e73-42bb-ab01-6d4ce3c64c24",
   "metadata": {},
   "source": [
    "# 두 포인터 (Two Pointers)"
   ]
  },
  {
   "cell_type": "markdown",
   "id": "28cb2898-93b4-4d15-8702-2a918aea1fb2",
   "metadata": {},
   "source": [
    "## 두 수의 합\n",
    "\n",
    "- 문제 출처: [백준 3273번](https://www.acmicpc.net/problem/3273)"
   ]
  },
  {
   "cell_type": "markdown",
   "id": "113dfa91-e4e2-4093-b298-9ff7566e8480",
   "metadata": {},
   "source": [
    "`-` 배열을 오름차순으로 정렬한다\n",
    "\n",
    "`-` 그리고 양 끝을 가리키는 포인터 2개를 고려하자\n",
    "\n",
    "`-` $a_1+a_n>x$ 라면 합을 더 작게 해야하므로 $a_n$ 대신 $a_{n-1}$을 고려한다\n",
    "\n",
    "`-` $a_1+a_n<x$ 라면 합을 더 크게 해야하므로 $a_1$ 대신 $a_2$를 고려한다\n",
    "\n",
    "`-` $a_1+a_n=x$ 라면 조건을 만족하는 쌍을 찾은 것이다\n",
    "\n",
    "`-` 다른 쌍도 찾기 위해 $a_1$ 대신 $a_2$를 고려하든지 $a_n$ 대신 $a_{n-1}$를 고려하면 된다"
   ]
  },
  {
   "cell_type": "code",
   "execution_count": 7,
   "id": "31dff949-1324-4a8b-8bdc-192722ac0a45",
   "metadata": {},
   "outputs": [
    {
     "name": "stdin",
     "output_type": "stream",
     "text": [
      " 9\n",
      " 5 12 7 10 9 1 2 3 11\n",
      " 13\n"
     ]
    },
    {
     "name": "stdout",
     "output_type": "stream",
     "text": [
      "3\n"
     ]
    }
   ],
   "source": [
    "n = int(input())\n",
    "A = list(map(int, input().split()))\n",
    "x = int(input()) ## a_i + a_j = x\n",
    "\n",
    "A.sort() ## 배열을 오름차순 정렬\n",
    "count = 0 ## a_i + a_j = x을 만족하는 (i, j)의 개수\n",
    "left = 0 ## 배열의 시작\n",
    "right = n - 1 ## 배열의 끝\n",
    "while left < right:\n",
    "    if A[left] + A[right] > x:\n",
    "        right -= 1\n",
    "    elif A[left] + A[right] < x:\n",
    "        left += 1\n",
    "    else:\n",
    "        count += 1\n",
    "        right -= 1 ## left += 1 또한 가능하다\n",
    "        \n",
    "print(count)\n",
    "\n",
    "# input\n",
    "# 9\n",
    "# 5 12 7 10 9 1 2 3 11\n",
    "# 13"
   ]
  },
  {
   "cell_type": "markdown",
   "id": "c75d4fd1-90d4-4d26-9e6d-9130eaf3d36d",
   "metadata": {},
   "source": [
    "- Hash Set을 이용한 풀이\n",
    "\n",
    "`-` 난이도 기여 페이지를 봤는데 해시 테이블을 이용해서 풀 수도 있음을 알게 됨\n",
    "\n",
    "`-` 해시 테이블에 배열의 원소를 하나하나 입력한다\n",
    "\n",
    "`-` 원소를 $a_i$라고 한다면 해시 테이블에 $x-a_i$가 존재하는지를 check하여 순서 쌍의 개수를 찾을 수 있다"
   ]
  },
  {
   "cell_type": "code",
   "execution_count": 14,
   "id": "439950c7-2c3b-493b-a86b-5066b594469f",
   "metadata": {},
   "outputs": [
    {
     "name": "stdin",
     "output_type": "stream",
     "text": [
      " 9\n",
      " 5 12 7 10 9 1 2 3 11\n",
      " 13\n"
     ]
    },
    {
     "name": "stdout",
     "output_type": "stream",
     "text": [
      "3\n"
     ]
    }
   ],
   "source": [
    "n = int(input())\n",
    "A = list(map(int, input().split()))\n",
    "x = int(input()) ## a_i + a_j = x\n",
    "\n",
    "count = 0 ## a_i + a_j = x을 만족하는 (i, j)의 개수\n",
    "hash_set = {}\n",
    "for a in A:\n",
    "    hash_set[a] = True\n",
    "\n",
    "for a in A:\n",
    "    if x - a in hash_set:\n",
    "        count += 1\n",
    "        \n",
    "print(count // 2)\n",
    "\n",
    "# input\n",
    "# 9\n",
    "# 5 12 7 10 9 1 2 3 11\n",
    "# 13"
   ]
  },
  {
   "cell_type": "markdown",
   "id": "6f8af442-de41-421c-8e73-93a050091dbd",
   "metadata": {},
   "source": [
    "`-` 참고로 아래와 같이 하면 틀린다"
   ]
  },
  {
   "cell_type": "markdown",
   "id": "382a0099-a4c4-4f51-b8fc-e2256544b3ac",
   "metadata": {},
   "source": [
    "```python\n",
    "for a in A:\n",
    "    hash_set[a] = True\n",
    "    if x - a in hash_set:\n",
    "        count += 1\n",
    "```"
   ]
  },
  {
   "cell_type": "markdown",
   "id": "1d5b88cd-37e5-4b85-a2ac-82c83ecd0eb4",
   "metadata": {},
   "source": [
    "`-` 만약 $x$가 $10$이고 hash_set에 $7$이 $100$개가 있는데 입력으로 $3$이 들어온다면\n",
    "\n",
    "`-` count에 `+ 100`을 해야하지만 위의 코드에 따르면 `+ 1`밖에 하지 않는다"
   ]
  },
  {
   "cell_type": "markdown",
   "id": "dc0fcf32-4a9a-4ebe-9b5a-d5b224f0c86b",
   "metadata": {},
   "source": [
    "## 과일 탕후루\n",
    "\n",
    "- 문제 출처: [백준 30804번](https://www.acmicpc.net/problem/30804)"
   ]
  },
  {
   "cell_type": "markdown",
   "id": "f3d29f7e-5cca-47a7-9785-aa7eb5190d40",
   "metadata": {},
   "source": [
    "`-` 양 끝에서 과일을 제거해서 최종적으로 2종류만 남겨야 한다\n",
    "\n",
    "`-` 역으로 생각하여 최초의 2개 과일을 선택하여 영역을 확장시키자\n",
    "\n",
    "`-` 이 2개의 과일은 서로 붙어있어야 한다\n",
    "\n",
    "`-` $1,2 \\to 2,3 \\to 3,4 \\to \\cdots \\to N-1,N$번째 과일을 돌아가며 선택하자\n",
    "\n",
    "`-` 시작할 때 과일 2개만 고려하니 2종류를 초과하지 않는다\n",
    "\n",
    "`-` 이제 과일을 확장시키는 방향이 왼쪽, 오른쪽 2가지 존재한다\n",
    "\n",
    "`-` 시작은 1번째, 2번째 과일을 선택한 후 확장하므로 오른쪽 방향을 선택해야 된다\n",
    "\n",
    "`-` 과일 2종류를 초과하지 않는 선에서 확장해 나간다\n",
    "\n",
    "`-` 만약 5번째 과일까지 확장했다고 해보자\n",
    "\n",
    "`-` 그러면 다음 시작은 $2,3$번째 과일이 아니다 (이미 포함하고 있기 때문)\n",
    "\n",
    "`-` 다음 시작은 $5,6$번째 과일이며 왼쪽부터 탐색한다\n",
    "\n",
    "`-` 만약 오른쪽으로 탐색이 안된다면 다음엔 $6,7$번째 과일을 탐색하니 자연스럽게 오른쪽 먼저 탐색하는 경우로 넘어간다\n",
    "\n",
    "`-` 이를 끝까지 반복하면 된다"
   ]
  },
  {
   "cell_type": "code",
   "execution_count": 1,
   "id": "7d6b59c5-f53a-4e1e-811e-d86e56fe3225",
   "metadata": {},
   "outputs": [
    {
     "name": "stdin",
     "output_type": "stream",
     "text": [
      " 5\n",
      " 5 1 1 2 1\n"
     ]
    },
    {
     "name": "stdout",
     "output_type": "stream",
     "text": [
      "4\n"
     ]
    }
   ],
   "source": [
    "def solution():\n",
    "    N = int(input())\n",
    "    fruit = list(map(int, input().split()))\n",
    "    visited = 0\n",
    "    max_length = 1\n",
    "    for i in range(N - 1):  # 투 포인터에서 오른쪽 포인터를 담당하는 거였음 (빨간약)\n",
    "        if i + 1 < visited:\n",
    "            continue\n",
    "        length = 2\n",
    "        a, b = fruit[i], fruit[i + 1]\n",
    "        left, right = i, i + 1\n",
    "        species = {a: True}\n",
    "        s_len = 1\n",
    "        if b not in species:\n",
    "            species[b] = True\n",
    "            s_len += 1\n",
    "        for left in range(i - 1, -1, -1):  # 0 ~ i-1  # 얘는 왼쪽 포인터\n",
    "            a_left = fruit[left]\n",
    "            if a_left in species:\n",
    "                length += 1\n",
    "                continue\n",
    "            if s_len < 2:\n",
    "                species[a_left] = True\n",
    "                length += 1\n",
    "                s_len += 1\n",
    "            else:\n",
    "                break\n",
    "        for right in range(i + 2, N):  # i+2 ~ N-1  # 애는 사실 원래 할 꺼 미리 땡겨쓴거임\n",
    "            b_right = fruit[right]\n",
    "            if b_right in species:\n",
    "                length += 1\n",
    "                continue\n",
    "            if s_len < 2:\n",
    "                species[b_right] = True\n",
    "                length += 1\n",
    "                s_len += 1\n",
    "            else:\n",
    "                break\n",
    "        if length > max_length:\n",
    "            max_length = length\n",
    "        visited = right\n",
    "    print(max_length)\n",
    "\n",
    "\n",
    "solution()"
   ]
  },
  {
   "cell_type": "code",
   "execution_count": null,
   "id": "fcec3bf3-c1bf-4423-8797-25fcbe4f6aec",
   "metadata": {},
   "outputs": [],
   "source": []
  }
 ],
 "metadata": {
  "kernelspec": {
   "display_name": "Python 3 (ipykernel)",
   "language": "python",
   "name": "python3"
  },
  "language_info": {
   "codemirror_mode": {
    "name": "ipython",
    "version": 3
   },
   "file_extension": ".py",
   "mimetype": "text/x-python",
   "name": "python",
   "nbconvert_exporter": "python",
   "pygments_lexer": "ipython3",
   "version": "3.8.11"
  }
 },
 "nbformat": 4,
 "nbformat_minor": 5
}
