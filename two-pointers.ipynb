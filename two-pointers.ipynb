{
 "cells": [
  {
   "cell_type": "markdown",
   "id": "d5967562-8e73-42bb-ab01-6d4ce3c64c24",
   "metadata": {},
   "source": [
    "# 두 포인터 (Two Pointers)"
   ]
  },
  {
   "cell_type": "markdown",
   "id": "28cb2898-93b4-4d15-8702-2a918aea1fb2",
   "metadata": {},
   "source": [
    "## 두 수의 합\n",
    "\n",
    "- 문제 출처: [백준 3273번](https://www.acmicpc.net/problem/3273)"
   ]
  },
  {
   "cell_type": "markdown",
   "id": "113dfa91-e4e2-4093-b298-9ff7566e8480",
   "metadata": {},
   "source": [
    "`-` 배열을 오름차순으로 정렬한다\n",
    "\n",
    "`-` 그리고 양 끝을 가리키는 포인터 2개를 고려하자\n",
    "\n",
    "`-` $a_1+a_n>x$ 라면 합을 더 작게 해야하므로 $a_n$ 대신 $a_{n-1}$을 고려한다\n",
    "\n",
    "`-` $a_1+a_n<x$ 라면 합을 더 크게 해야하므로 $a_1$ 대신 $a_2$를 고려한다\n",
    "\n",
    "`-` $a_1+a_n=x$ 라면 조건을 만족하는 쌍을 찾은 것이다\n",
    "\n",
    "`-` 다른 쌍도 찾기 위해 $a_1$ 대신 $a_2$를 고려하든지 $a_n$ 대신 $a_{n-1}$를 고려하면 된다"
   ]
  },
  {
   "cell_type": "code",
   "execution_count": 7,
   "id": "31dff949-1324-4a8b-8bdc-192722ac0a45",
   "metadata": {},
   "outputs": [
    {
     "name": "stdin",
     "output_type": "stream",
     "text": [
      " 9\n",
      " 5 12 7 10 9 1 2 3 11\n",
      " 13\n"
     ]
    },
    {
     "name": "stdout",
     "output_type": "stream",
     "text": [
      "3\n"
     ]
    }
   ],
   "source": [
    "n = int(input())\n",
    "A = list(map(int, input().split()))\n",
    "x = int(input())  # a_i + a_j = x\n",
    "\n",
    "A.sort()  # 배열을 오름차순 정렬\n",
    "count = 0  # a_i + a_j = x을 만족하는 (i, j)의 개수\n",
    "left = 0  # 배열의 시작\n",
    "right = n - 1  # 배열의 끝\n",
    "while left < right:\n",
    "    if A[left] + A[right] > x:\n",
    "        right -= 1\n",
    "    elif A[left] + A[right] < x:\n",
    "        left += 1\n",
    "    else:\n",
    "        count += 1\n",
    "        right -= 1  # left += 1 또한 가능하다\n",
    "        \n",
    "print(count)\n",
    "\n",
    "# input\n",
    "# 9\n",
    "# 5 12 7 10 9 1 2 3 11\n",
    "# 13"
   ]
  },
  {
   "cell_type": "markdown",
   "id": "c75d4fd1-90d4-4d26-9e6d-9130eaf3d36d",
   "metadata": {},
   "source": [
    "- Hash Set을 이용한 풀이\n",
    "\n",
    "`-` 난이도 기여 페이지를 봤는데 해시 테이블을 이용해서 풀 수도 있음을 알게 됨\n",
    "\n",
    "`-` 해시 테이블에 배열의 원소를 하나하나 입력한다\n",
    "\n",
    "`-` 원소를 $a_i$라고 한다면 해시 테이블에 $x-a_i$가 존재하는지를 check하여 순서 쌍의 개수를 찾을 수 있다"
   ]
  },
  {
   "cell_type": "code",
   "execution_count": 14,
   "id": "439950c7-2c3b-493b-a86b-5066b594469f",
   "metadata": {},
   "outputs": [
    {
     "name": "stdin",
     "output_type": "stream",
     "text": [
      " 9\n",
      " 5 12 7 10 9 1 2 3 11\n",
      " 13\n"
     ]
    },
    {
     "name": "stdout",
     "output_type": "stream",
     "text": [
      "3\n"
     ]
    }
   ],
   "source": [
    "n = int(input())\n",
    "A = list(map(int, input().split()))\n",
    "x = int(input()) ## a_i + a_j = x\n",
    "\n",
    "count = 0  # a_i + a_j = x을 만족하는 (i, j)의 개수\n",
    "hash_set = {}\n",
    "for a in A:\n",
    "    hash_set[a] = True\n",
    "\n",
    "for a in A:\n",
    "    if x - a in hash_set:\n",
    "        count += 1\n",
    "        \n",
    "print(count // 2)\n",
    "\n",
    "# input\n",
    "# 9\n",
    "# 5 12 7 10 9 1 2 3 11\n",
    "# 13"
   ]
  },
  {
   "cell_type": "markdown",
   "id": "6f8af442-de41-421c-8e73-93a050091dbd",
   "metadata": {},
   "source": [
    "`-` 참고로 아래와 같이 하면 틀린다"
   ]
  },
  {
   "cell_type": "markdown",
   "id": "382a0099-a4c4-4f51-b8fc-e2256544b3ac",
   "metadata": {},
   "source": [
    "```python\n",
    "for a in A:\n",
    "    hash_set[a] = True\n",
    "    if x - a in hash_set:\n",
    "        count += 1\n",
    "```"
   ]
  },
  {
   "cell_type": "markdown",
   "id": "1d5b88cd-37e5-4b85-a2ac-82c83ecd0eb4",
   "metadata": {},
   "source": [
    "`-` 만약 $x$가 $10$이고 hash_set에 $7$이 $100$개가 있는데 입력으로 $3$이 들어온다면\n",
    "\n",
    "`-` count에 `+ 100`을 해야하지만 위의 코드에 따르면 `+ 1`밖에 하지 않는다"
   ]
  },
  {
   "cell_type": "markdown",
   "id": "dc0fcf32-4a9a-4ebe-9b5a-d5b224f0c86b",
   "metadata": {},
   "source": [
    "## 과일 탕후루\n",
    "\n",
    "- 문제 출처: [백준 30804번](https://www.acmicpc.net/problem/30804)"
   ]
  },
  {
   "cell_type": "markdown",
   "id": "f3d29f7e-5cca-47a7-9785-aa7eb5190d40",
   "metadata": {},
   "source": [
    "`-` 양 끝에서 과일을 제거해서 최종적으로 2종류만 남겨야 한다\n",
    "\n",
    "`-` 역으로 생각하여 최초의 2개 과일을 선택하여 영역을 확장시키자\n",
    "\n",
    "`-` 이 2개의 과일은 서로 붙어있어야 한다\n",
    "\n",
    "`-` $1,2 \\to 2,3 \\to 3,4 \\to \\cdots \\to N-1,N$번째 과일을 돌아가며 선택하자\n",
    "\n",
    "`-` 시작할 때 과일 2개만 고려하니 2종류를 초과하지 않는다\n",
    "\n",
    "`-` 이제 과일을 확장시키는 방향이 왼쪽, 오른쪽 2가지 존재한다\n",
    "\n",
    "`-` 시작은 1번째, 2번째 과일을 선택한 후 확장하므로 오른쪽 방향을 선택해야 된다\n",
    "\n",
    "`-` 과일 2종류를 초과하지 않는 선에서 확장해 나간다\n",
    "\n",
    "`-` 만약 5번째 과일까지 확장했다고 해보자\n",
    "\n",
    "`-` 그러면 다음 시작은 $2,3$번째 과일이 아니다 (이미 포함하고 있기 때문)\n",
    "\n",
    "`-` 다음 시작은 $5,6$번째 과일이며 왼쪽부터 탐색한다\n",
    "\n",
    "`-` 만약 오른쪽으로 탐색이 안된다면 다음엔 $6,7$번째 과일을 탐색하니 자연스럽게 오른쪽 먼저 탐색하는 경우로 넘어간다\n",
    "\n",
    "`-` 이를 끝까지 반복하면 된다"
   ]
  },
  {
   "cell_type": "code",
   "execution_count": 1,
   "id": "7d6b59c5-f53a-4e1e-811e-d86e56fe3225",
   "metadata": {},
   "outputs": [
    {
     "name": "stdin",
     "output_type": "stream",
     "text": [
      " 5\n",
      " 5 1 1 2 1\n"
     ]
    },
    {
     "name": "stdout",
     "output_type": "stream",
     "text": [
      "4\n"
     ]
    }
   ],
   "source": [
    "def solution():\n",
    "    N = int(input())\n",
    "    fruit = list(map(int, input().split()))\n",
    "    visited = 0\n",
    "    max_length = 1\n",
    "    for i in range(N - 1):  # 투 포인터에서 오른쪽 포인터를 담당하는 거였음 (빨간약)\n",
    "        if i + 1 < visited:\n",
    "            continue\n",
    "        length = 2\n",
    "        a, b = fruit[i], fruit[i + 1]\n",
    "        left, right = i, i + 1\n",
    "        species = {a: True}\n",
    "        s_len = 1\n",
    "        if b not in species:\n",
    "            species[b] = True\n",
    "            s_len += 1\n",
    "        for left in range(i - 1, -1, -1):  # 0 ~ i-1  # 얘는 왼쪽 포인터\n",
    "            a_left = fruit[left]\n",
    "            if a_left in species:\n",
    "                length += 1\n",
    "                continue\n",
    "            if s_len < 2:\n",
    "                species[a_left] = True\n",
    "                length += 1\n",
    "                s_len += 1\n",
    "            else:\n",
    "                break\n",
    "        for right in range(i + 2, N):  # i+2 ~ N-1  # 애는 사실 원래 할 꺼 미리 땡겨쓴거임\n",
    "            b_right = fruit[right]\n",
    "            if b_right in species:\n",
    "                length += 1\n",
    "                continue\n",
    "            if s_len < 2:\n",
    "                species[b_right] = True\n",
    "                length += 1\n",
    "                s_len += 1\n",
    "            else:\n",
    "                break\n",
    "        if length > max_length:\n",
    "            max_length = length\n",
    "        visited = right\n",
    "    print(max_length)\n",
    "\n",
    "\n",
    "solution()"
   ]
  },
  {
   "cell_type": "markdown",
   "id": "cbb8144a-8b11-4295-bb1b-3a555ac2c0cc",
   "metadata": {},
   "source": [
    "## 용액\n",
    "\n",
    "- 문제 출처: [백준 2467번](https://www.acmicpc.net/problem/2467)"
   ]
  },
  {
   "cell_type": "markdown",
   "id": "2c0a5a4d-c833-4a7b-9d42-7f6505248879",
   "metadata": {},
   "source": [
    "`-` 양 끝에 포인터를 놓고 탐색할 것이다\n",
    "\n",
    "`-` 두 특성값을 더해서 $0$이 되면 탐색 종료이다\n",
    "\n",
    "`-` 그런데 꼭 $0$이 될 필요는 없고 $0$과 가깝기만 하면 된다\n",
    "\n",
    "`-` 따라서 현재 $0$과 가장 가까운 특성값과 그 때의 두 용액을 기록한다\n",
    "\n",
    "`-` 두 용액의 특성값을 더해서 기존의 특성값보다 $0$과 더 가까우면 특성값과 두 용액을 갱신한다\n",
    "\n",
    "`-` 그리고 추가로 해당 특성값이 $0$보다 크면 값을 줄이기 위해 오른쪽 포인터를 왼쪽으로 한 칸 옮긴다\n",
    "\n",
    "`-` 만약, $0$보다 작다면 값을 늘리기 위해 왼쪽 포인터를 오른쪽으로 한 칸 옮긴다\n",
    "\n",
    "`-` 왼쪽 포인터가 오른쪽 포인터와 동일한 곳에 위치하거나 더 오른쪽에 위치하면 탐색을 종료한다\n",
    "\n",
    "`-` 최악의 경우 왼쪽 포인터가 오른쪽 포인터를 만날때까지 탐색하므로 시간 복잡도는 $O(N)$이다"
   ]
  },
  {
   "cell_type": "code",
   "execution_count": 3,
   "id": "cc3b2e82-54fb-46dd-aa4a-e4c50d5fa9dc",
   "metadata": {},
   "outputs": [
    {
     "name": "stdin",
     "output_type": "stream",
     "text": [
      " 5\n",
      " -99 -2 -1 4 98\n"
     ]
    },
    {
     "name": "stdout",
     "output_type": "stream",
     "text": [
      "-99 98\n"
     ]
    }
   ],
   "source": [
    "def solution():\n",
    "    N = int(input())\n",
    "    INF = 1e10\n",
    "    values = list(map(int, input().split()))\n",
    "    value_closest2zero = INF\n",
    "    value_small, value_big = values[0], values[N - 1]\n",
    "    left = 0\n",
    "    right = N - 1\n",
    "    while left < right:\n",
    "        value_left, value_right = values[left], values[right]\n",
    "        generated_value = value_left + value_right\n",
    "        if abs(generated_value) < abs(value_closest2zero):\n",
    "            value_closest2zero = generated_value\n",
    "            value_small, value_big = value_left, value_right\n",
    "        if generated_value == 0:  # 정답\n",
    "            break\n",
    "        if generated_value < 0:\n",
    "            left += 1\n",
    "        else:\n",
    "            right -= 1\n",
    "    print(value_small, value_big)\n",
    "\n",
    "\n",
    "solution()\n",
    "\n",
    "# input\n",
    "# 5\n",
    "# -99 -2 -1 4 98"
   ]
  },
  {
   "cell_type": "markdown",
   "id": "7f28f5cc-b96a-4182-b72c-3717c643c943",
   "metadata": {},
   "source": [
    "## 세 용액\n",
    "\n",
    "- 문제 출처: [백준 2473번](https://www.acmicpc.net/problem/2473)"
   ]
  },
  {
   "cell_type": "markdown",
   "id": "1dd137e3-b434-4495-a23c-322287b17233",
   "metadata": {},
   "source": [
    "`-` 용액 하나는 임의로 고정시킨 뒤 양 끝에서 포인터를 사용하면 된다\n",
    "\n",
    "`-` 포인터를 사용해 탐색하는데 $O(N)$이고 하나의 용액을 고정시키는 작업을 $N$번 하므로 시간 복잡도는 $O\\left(N^2\\right)$이다\n",
    "\n",
    "`-` 입력이 정렬되지 않았으므로 오름차순 정렬을 해줘야 한다"
   ]
  },
  {
   "cell_type": "code",
   "execution_count": 40,
   "id": "ef989ade-4ca2-4529-8351-d8432ee205f7",
   "metadata": {},
   "outputs": [
    {
     "name": "stdin",
     "output_type": "stream",
     "text": [
      " 7\n",
      " -2 -3 -24 -6 98 100 61\n"
     ]
    },
    {
     "name": "stdout",
     "output_type": "stream",
     "text": [
      "-6 -3 -2\n"
     ]
    }
   ],
   "source": [
    "def two_pointers(values, criteria):\n",
    "    value_closest2zero = INF\n",
    "    value_small, value_big = values[0], values[N - 1]\n",
    "    left = 0\n",
    "    right = N - 1\n",
    "    while left < right:\n",
    "        value_left, value_right = values[left], values[right]\n",
    "        if value_left == criteria:  # 특성값이 같은 경우는 없다 (기준과 겹침)\n",
    "            left += 1\n",
    "            continue\n",
    "        if value_right == criteria:  # 특성값이 같은 경우는 없다 (기준과 겹침)\n",
    "            right -= 1\n",
    "            continue\n",
    "        generated_value = value_left + value_right + criteria\n",
    "        if abs(generated_value) < abs(value_closest2zero):\n",
    "            value_closest2zero = generated_value\n",
    "            value_small, value_big = value_left, value_right\n",
    "        if generated_value == 0:  # 정답\n",
    "            break\n",
    "        if generated_value < 0:\n",
    "            left += 1\n",
    "        else:\n",
    "            right -= 1\n",
    "    return value_small, value_big\n",
    "\n",
    "\n",
    "def solution():\n",
    "    global N, INF\n",
    "    N = int(input())\n",
    "    INF = 1e10\n",
    "    values = sorted(list(map(int, input().split())))\n",
    "    value_closest2zero = INF\n",
    "    value_left, value_mid, value_right = values[0], values[1], values[2]\n",
    "    for criteria in values:\n",
    "        value_small, value_big = two_pointers(values, criteria)\n",
    "        generated_value = value_small + value_big + criteria\n",
    "        if abs(generated_value) < abs(value_closest2zero):\n",
    "            value_left, value_mid, value_right = value_small, criteria, value_big\n",
    "            value_closest2zero = generated_value\n",
    "    print(*sorted([value_left, value_mid, value_right]))\n",
    "\n",
    "\n",
    "solution()\n",
    "\n",
    "# input\n",
    "# 7\n",
    "# -2 -3 -24 -6 98 100 61"
   ]
  },
  {
   "cell_type": "markdown",
   "id": "5c87485a-6a60-44d5-9b85-4ae7a3f75537",
   "metadata": {
    "tags": []
   },
   "source": [
    "## 부분합\n",
    "\n",
    "- 문제 출처: [백준 1806번](https://www.acmicpc.net/problem/1806)"
   ]
  },
  {
   "cell_type": "markdown",
   "id": "54186121-9d8f-4df7-85b4-31fbd97af9e5",
   "metadata": {},
   "source": [
    "`-` 누적 합 배열을 바탕으로 어떻게 하면 좋을지 순간적으로 생각이 안나서 급발진으로 알고리즘 분류를 봤다\n",
    "\n",
    "`-` 누적 합과 투 포인터를 사용하면 된다 (참을성이 부족했다)\n",
    "\n",
    "`-` [용액 2](https://www.acmicpc.net/problem/32178) 문제와 [과일 탕후루](https://www.acmicpc.net/problem/30804) 문제를 섞은 느낌이다\n",
    "\n",
    "`-` 일단 누적 합을 계산하고 $0$번째까지의 누적 합을 나타내기 위해 $0$을 앞에 추가한다\n",
    "\n",
    "`-` 모든 원소는 자연수이므로 누적 합은 오름차순으로 정렬되어 있다\n",
    "\n",
    "`-` 합이 $S$ 이상인 것들을 추려내기 위해 투 포인터를 사용할 것이다\n",
    "\n",
    "`-` 누적 합에서 왼쪽 포인터는 첫 번째 값을 가리키고 오른쪽 포인터는 두 번째 값을 가리킨다 (첫 번째 값은 $0$이다)\n",
    "\n",
    "`-` 만약 초기 상태에서 부분 합이 $S$이상이라면 더 이상 탐색할 필요가 없다 (길이가 $1$이다)\n",
    "\n",
    "`-` 합이 $S$보다 작다면 값을 키우기 위해 오른쪽 포인터를 합이 $S$보다 클 때까지 오른쪽으로 옮긴다\n",
    "\n",
    "`-` 여기서 오른쪽 포인터를 오른쪽으로 더 옮기는 것은 어차피 정답이 될 수 없으므로 의미가 없다\n",
    "\n",
    "`-` 이제 $S$보다 크면서 부분 합의 길이를 작게 하기 위해 왼쪽 포인터를 오른쪽으로 옮길 것이다\n",
    "\n",
    "`-` 값이 $S$보다 크면서 오른쪽 포인터와 만나기 전까지 왼쪽 포인터를 오른쪽으로 옮긴다\n",
    "\n",
    "`-` 두 포인터가 움직일 수 없을 때까지 위를 반복하면 된다\n",
    "\n",
    "`-` 탐색 종료 후 부분 합이 $S$보다 작다면 $S$를 만드는 것이 불가능하다\n",
    "\n",
    "`-` 탐색 중 부분 합이 $S$보다 크다면 둘의 인덱스 차이를 계산하고 정답을 갱신한다\n",
    "\n",
    "`-` 왼쪽 포인터가 오른쪽 포인터의 왼쪽에 있을 동안 반복한다\n",
    "\n",
    "`-` 탐색 한 번 당 두 포인터 중 하나가 한 칸 움직이며 이 둘은 각각 최대 $N$칸 오른쪽으로 움직일 수 있다\n",
    "\n",
    "`-` 따라서 시간 복잡도는 $O(N)$이다\n",
    "\n",
    "`-` 위와 같이 하면 정답이 되는 경우를 항상 탐색할 수 있다\n",
    "\n",
    "`-` 정답이 $a$번째 수부터 $b$번째 수까지의 부분합의 길이라고 해보자\n",
    "\n",
    "`-` 처음에 첫 번째 값인 $0$과 두 번째 값부터 시작하는데 이로 부터 $a$번째 수와 $b$번째 수를 만들 수 있다\n",
    "\n",
    "`-` $a,b$가 정답의 부분 합이므로 $1\\sim b$의 부분 합은 당연히 $S$이상이니 알고리즘에 따라 오른쪽 포인터는 $b$를 넘어가지 않는다\n",
    "\n",
    "`-` 이제 $S$를 줄이기 위해 왼쪽 포인터를 움직이는데 오른쪽 포인터가 $b$를 가리키므로 왼쪽 포인터는 결국 $a$를 가리키게 된다\n",
    "\n",
    "`-` $a$를 만나기 전까진 값이 $S$이상이며 $a$의 오른쪽을 가리키면 값이 $S$보다 작아진다\n",
    "\n",
    "`-` 정답이 $a,b$라고 가정했으므로 이 이후를 탐색하는 것은 의미 없으며 따라서 정답을 항상 탐색할 수 있다"
   ]
  },
  {
   "cell_type": "code",
   "execution_count": 12,
   "id": "021dd106-1312-4f9d-a2a0-b03d256eeca6",
   "metadata": {},
   "outputs": [
    {
     "name": "stdin",
     "output_type": "stream",
     "text": [
      " 10 15\n",
      " 5 1 3 5 10 7 4 9 2 8\n"
     ]
    },
    {
     "name": "stdout",
     "output_type": "stream",
     "text": [
      "2\n"
     ]
    }
   ],
   "source": [
    "def solution():\n",
    "    N, S = map(int, input().split())\n",
    "    a_n = list(map(int, input().split()))\n",
    "    prefix_sum = [0 for _ in range(N)]\n",
    "    prefix_sum[0] = a_n[0]\n",
    "    for i in range(1, N):\n",
    "        prefix_sum[i] = a_n[i] + prefix_sum[i - 1]\n",
    "    prefix_sum = [0] + prefix_sum\n",
    "    IMPOSSIBLE = N + 1\n",
    "    left = 0\n",
    "    right = 1\n",
    "    answer = IMPOSSIBLE\n",
    "    while left < right and right <= N:\n",
    "        value_left = prefix_sum[left]\n",
    "        value_right = prefix_sum[right]\n",
    "        value_new = value_right - value_left\n",
    "        gap = right - left\n",
    "        if value_new < S:\n",
    "            right += 1\n",
    "        else:\n",
    "            left += 1\n",
    "            answer = min(answer, gap)\n",
    "        if answer == 1:\n",
    "            break\n",
    "    if answer == IMPOSSIBLE:\n",
    "        answer = 0\n",
    "    print(answer)\n",
    "\n",
    "\n",
    "solution()\n",
    "\n",
    "# input\n",
    "# 10 15\n",
    "# 5 1 3 5 10 7 4 9 2 8"
   ]
  },
  {
   "cell_type": "markdown",
   "id": "105876a3-f131-47f9-8d36-b1e16a8ee8c9",
   "metadata": {},
   "source": [
    "## 소수의 연속합\n",
    "\n",
    "- 문제 출처: [백준 1644번](https://www.acmicpc.net/problem/1644)"
   ]
  },
  {
   "cell_type": "markdown",
   "id": "9b270a31-ba8c-4c7d-b7ec-a410e0cd5e6f",
   "metadata": {},
   "source": [
    "`-` 에라스토테네스의 체를 사용해 $2$부터 $N$까지의 소수를 계산한다\n",
    "\n",
    "`-` 소수의 누적 합 배열을 만든다 (이는 오름차순 정렬되어 있다)\n",
    "\n",
    "`-` 누적 합 앞에 $0$을 추가한다 ($0$번째까지의 누적 합을 나타내기 위함)\n",
    "\n",
    "`-` 누적 합 첫 번째와 두 번째에 포인터를 두고 값이 둘이 가리키는 소수의 합이 $N$보다 작으면 오른쪽 포인터를 오른쪽으로 한 칸 옮긴다\n",
    "\n",
    "`-` $N$보다 크면 왼쪽 포인터를 오른쪽으로 한 칸 옮긴다\n",
    "\n",
    "`-` 만약 $N$이라면 카운팅한 후 오른쪽 포인터를 오른쪽으로 한 칸 옮긴다\n",
    "\n",
    "`-` 왼쪽 포인터가 오른쪽 포인터와 만나면 탐색을 중지한다 (해가 더 이상 없다)\n",
    "\n",
    "`-` 예외 처리로 $N=1$이면 $0$을 출력한다\n",
    "\n",
    "`-` 위와 같이 하면 합이 $N$이 되는 소수의 부분 합을 모두 탐색할 수 있으므로 정답을 계산할 수 있다"
   ]
  },
  {
   "cell_type": "code",
   "execution_count": 47,
   "id": "f50edc20-8e8a-492a-9422-88dde003e57c",
   "metadata": {},
   "outputs": [
    {
     "name": "stdin",
     "output_type": "stream",
     "text": [
      " 41\n"
     ]
    },
    {
     "name": "stdout",
     "output_type": "stream",
     "text": [
      "3\n"
     ]
    }
   ],
   "source": [
    "def solution():\n",
    "    N = int(input())\n",
    "    if N == 1:\n",
    "        print(0)\n",
    "        return\n",
    "    num2is_prime = [False, False] + [True] * (N - 1)  # 0부터 시작\n",
    "    a = int(N ** 0.5) + 1\n",
    "    for i in range(2, a):\n",
    "        if not num2is_prime[i]:\n",
    "            continue\n",
    "        for j in range(2 * i, N + 1, i):\n",
    "            num2is_prime[j] = False\n",
    "    prime_nums = [prime_num for prime_num, is_prime in enumerate(num2is_prime) if is_prime]\n",
    "    num_primes = len(prime_nums)\n",
    "    prefix_sum = [0 for _ in range(num_primes)]\n",
    "    prefix_sum[0] = prime_nums[0]\n",
    "    for i in range(1, num_primes):\n",
    "        prefix_sum[i] = prime_nums[i] + prefix_sum[i - 1]\n",
    "    prefix_sum = [0] + prefix_sum\n",
    "    left = 0\n",
    "    right = 1\n",
    "    answer = 0\n",
    "    while left < right and right <= num_primes:\n",
    "        value_left = prefix_sum[left]\n",
    "        value_right = prefix_sum[right]\n",
    "        value_new = value_right - value_left\n",
    "        if value_new > N:\n",
    "            left += 1\n",
    "        elif value_new < N:\n",
    "            right += 1\n",
    "        else:\n",
    "            answer += 1\n",
    "            right += 1\n",
    "    print(answer)\n",
    "\n",
    "\n",
    "solution()\n",
    "\n",
    "# input\n",
    "# 41"
   ]
  },
  {
   "cell_type": "markdown",
   "id": "deb6a995-1d0c-4a1d-82b8-c1f78c2c7aa5",
   "metadata": {},
   "source": [
    " "
   ]
  }
 ],
 "metadata": {
  "kernelspec": {
   "display_name": "Python 3 (ipykernel)",
   "language": "python",
   "name": "python3"
  },
  "language_info": {
   "codemirror_mode": {
    "name": "ipython",
    "version": 3
   },
   "file_extension": ".py",
   "mimetype": "text/x-python",
   "name": "python",
   "nbconvert_exporter": "python",
   "pygments_lexer": "ipython3",
   "version": "3.8.11"
  }
 },
 "nbformat": 4,
 "nbformat_minor": 5
}
