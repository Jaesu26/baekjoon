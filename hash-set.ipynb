{
 "cells": [
  {
   "cell_type": "markdown",
   "id": "3eedc94a-99f6-48aa-b949-0844aece9f50",
   "metadata": {},
   "source": [
    "# Hash Set"
   ]
  },
  {
   "cell_type": "markdown",
   "id": "ba8aacdf-a4b8-497a-bf43-98f5a6a12048",
   "metadata": {},
   "source": [
    "## 숫자카드 2\n",
    "\n",
    "- 문제 출처: [백준 10816번](https://www.acmicpc.net/problem/10816)"
   ]
  },
  {
   "cell_type": "markdown",
   "id": "890b3064-9bf6-40f2-b120-38bc34ebcba0",
   "metadata": {},
   "source": [
    "`-` 해시테이블로 해결했는데 그냥 배열로 풀어도 됨\n",
    "\n",
    "`-` 이분탐색도 된다"
   ]
  },
  {
   "cell_type": "code",
   "execution_count": 68,
   "id": "1ad9dca5-2637-404c-9330-77876f9f98ec",
   "metadata": {},
   "outputs": [
    {
     "name": "stdin",
     "output_type": "stream",
     "text": [
      " 10\n",
      " 6 3 2 10 10 10 -10 -10 7 3\n",
      " 8\n",
      " 10 9 -5 2 3 4 5 -10\n"
     ]
    },
    {
     "name": "stdout",
     "output_type": "stream",
     "text": [
      "3 0 0 1 2 0 0 2\n"
     ]
    }
   ],
   "source": [
    "n = int(input())\n",
    "nums = list(map(int, input().split()))\n",
    "m = int(input())\n",
    "nums2 = list(map(int, input().split()))\n",
    "dict_ = {} ## 빈 딕셔너리(해쉬테이블) 선언\n",
    "\n",
    "for num in nums:\n",
    "    if num not in dict_:\n",
    "        dict_[num] = 1 ## 처음 등장한 수는 1로 초기화\n",
    "    else:\n",
    "        dict_[num] += 1 ## 1번 등장할 때마다 1씩 더해준다\n",
    "        \n",
    "print(*[dict_[num] if num in dict_ else 0 for num in nums2]) ## 만약 nums2가 dict_에 존재하지 않으면 0으로 출력(당연함)\n",
    "\n",
    "# input\n",
    "# 10\n",
    "# 6 3 2 10 10 10 -10 -10 7 3\n",
    "# 8\n",
    "# 10 9 -5 2 3 4 5 -10"
   ]
  },
  {
   "cell_type": "markdown",
   "id": "6036e0e9-c0ce-4d35-b87b-e84cf60c0aab",
   "metadata": {},
   "source": [
    "## 비밀번호 찾기\n",
    "\n",
    "- 문제 출처: [백준 17219번](https://www.acmicpc.net/problem/17219)\n",
    "\n",
    "`-` 해시테이블을 사용하면 된다"
   ]
  },
  {
   "cell_type": "code",
   "execution_count": 5,
   "id": "f3f7e3f9-d5a1-47c7-bc24-e1cfd2b92cff",
   "metadata": {},
   "outputs": [
    {
     "name": "stdin",
     "output_type": "stream",
     "text": [
      " 2 1\n",
      " acmicpc.net UAENA\n",
      " noj.am IU\n",
      " noj.am\n"
     ]
    },
    {
     "name": "stdout",
     "output_type": "stream",
     "text": [
      "IU\n"
     ]
    }
   ],
   "source": [
    "dict_ = {}\n",
    "n, m = map(int, input().split())\n",
    "\n",
    "for i in range(n):\n",
    "    site, password = input().split()\n",
    "    dict_[site] = password\n",
    "    \n",
    "for j in range(m):\n",
    "    print(dict_[input()])\n",
    "    \n",
    "# input\n",
    "# 2 1\n",
    "# acmicpc.net UAENA\n",
    "# noj.am IU\n",
    "# noj.am    "
   ]
  },
  {
   "cell_type": "markdown",
   "id": "cc233be0-75a3-43e4-a254-b7065ca7f3cc",
   "metadata": {},
   "source": [
    "`-` `input()`대신에 `import sys`를 실행하고 `sys.stdin.readline().rstrip()`을 사용해야 된다"
   ]
  },
  {
   "cell_type": "markdown",
   "id": "7594d413-c15c-4944-a8ae-2a96e0b99675",
   "metadata": {},
   "source": [
    "## 패션왕 신해빈\n",
    "\n",
    "- 문제 출처: [백준 9375번](https://www.acmicpc.net/problem/9375)"
   ]
  },
  {
   "cell_type": "markdown",
   "id": "6b63d1e6-69d4-455d-9b55-a8f80f768303",
   "metadata": {},
   "source": [
    "`-` 공식을 알아야 풀 수 있다... 나는 몰랐다...\n",
    "\n",
    "`-` $(A+1)(B+1)(C+1)-1=(ABC)+(AB+BC+CA)+(A+B+C)$\n",
    "\n",
    "`-` 참고 : https://www.acmicpc.net/board/view/20819"
   ]
  },
  {
   "cell_type": "code",
   "execution_count": 60,
   "id": "0ed43c32-6436-4a6e-b13d-6b5657b81d74",
   "metadata": {},
   "outputs": [
    {
     "name": "stdin",
     "output_type": "stream",
     "text": [
      " 2\n",
      " 3\n",
      " hat headgear\n",
      " sunglasses eyewear\n",
      " turban headgear\n"
     ]
    },
    {
     "name": "stdout",
     "output_type": "stream",
     "text": [
      "5\n"
     ]
    },
    {
     "name": "stdin",
     "output_type": "stream",
     "text": [
      " 3\n",
      " mask face\n",
      " sunglasses face\n",
      " makeup face\n"
     ]
    },
    {
     "name": "stdout",
     "output_type": "stream",
     "text": [
      "3\n"
     ]
    }
   ],
   "source": [
    "n = int(input())\n",
    "for _ in range(n):\n",
    "    k = int(input())\n",
    "    dict_ = {}\n",
    "    \n",
    "    if k == 0:   ## 옷이 없으면 당연히 0\n",
    "        print(0)\n",
    "    else:\n",
    "        for __ in range(k):\n",
    "            clothes = input().split()[1]\n",
    "            if clothes not in dict_:\n",
    "                dict_[clothes] = 1\n",
    "            else:\n",
    "                dict_[clothes] += 1\n",
    "\n",
    "        clothes_num = eval('*'.join(map(lambda x: str(x+1), list(dict_.values())))) - 1 ## 리스트 원소에 1씩 더하고 서로 곱하고 1을 뺀다\n",
    "        print(clothes_num)\n",
    "    \n",
    "# input\n",
    "# 2\n",
    "# 3\n",
    "# hat headgear\n",
    "# sunglasses eyewear\n",
    "# turban headgear\n",
    "# 3\n",
    "# mask face\n",
    "# sunglasses face\n",
    "# makeup face"
   ]
  },
  {
   "cell_type": "markdown",
   "id": "2682d5ab-e171-4f00-bfbd-0c0b3b65708b",
   "metadata": {},
   "source": [
    "## 나는야 포켓몬 마스터 이다솜\n",
    "\n",
    "- 문제 출처: [백준 1620번](https://www.acmicpc.net/problem/1620)"
   ]
  },
  {
   "cell_type": "markdown",
   "id": "d8aa770f-64ee-40c4-9ad0-d11f500fcc69",
   "metadata": {},
   "source": [
    "`-` 해시테이블로 풀면 된다"
   ]
  },
  {
   "cell_type": "code",
   "execution_count": 166,
   "id": "d1eb0b37-180b-4237-96b1-426a1e528507",
   "metadata": {},
   "outputs": [
    {
     "name": "stdin",
     "output_type": "stream",
     "text": [
      " 3 1\n",
      " Arbok\n",
      " Fearow\n",
      " Pikachu\n",
      " 3\n"
     ]
    },
    {
     "name": "stdout",
     "output_type": "stream",
     "text": [
      "Pikachu\n"
     ]
    }
   ],
   "source": [
    "n, m = map(int, input().split())\n",
    "dict_ = {}\n",
    "\n",
    "for i in range(1, n+1):\n",
    "    pokemon = input()\n",
    "    dict_[str(i)] = pokemon\n",
    "    dict_[pokemon] = i\n",
    "    \n",
    "for i in range(m):\n",
    "    print(dict_[input()])\n",
    "    \n",
    "# input\n",
    "# 3 1\n",
    "# Arbok\n",
    "# Fearow\n",
    "# Pikachu\n",
    "# 3"
   ]
  },
  {
   "cell_type": "markdown",
   "id": "436f400c-a145-495b-9e10-ec3087620f31",
   "metadata": {},
   "source": [
    "## 듣보잡\n",
    "\n",
    "- 문제 출처: [백준 1764번](https://www.acmicpc.net/problem/1764)"
   ]
  },
  {
   "cell_type": "markdown",
   "id": "33679716-06bc-4457-bf2e-a564aa960b8e",
   "metadata": {},
   "source": [
    "`-` 집합으로 풀면 된다"
   ]
  },
  {
   "cell_type": "code",
   "execution_count": 203,
   "id": "3a4ee147-2f56-42cb-ac65-9609aca42003",
   "metadata": {},
   "outputs": [
    {
     "name": "stdin",
     "output_type": "stream",
     "text": [
      " 3 4\n",
      " ohhenrie\n",
      " charlie\n",
      " baesangwook\n",
      " obama\n",
      " baesangwook\n",
      " ohhenrie\n",
      " clinton\n"
     ]
    },
    {
     "name": "stdout",
     "output_type": "stream",
     "text": [
      "2\n",
      "baesangwook\n",
      "ohhenrie\n"
     ]
    }
   ],
   "source": [
    "n, m = map(int, input().split())\n",
    "x = list()\n",
    "y = list()\n",
    "\n",
    "for _ in range(n):\n",
    "    x.append(input())\n",
    "    \n",
    "for _ in range(m):\n",
    "    y.append(input())\n",
    "    \n",
    "a = sorted(list(set(x) & set(y))) ## 교집합을 구한다\n",
    "print('\\n'.join([str(len(a))] + a)) ## 듣보잡의 수와 명단을 한줄씩 출력 \n",
    "\n",
    "# input\n",
    "# 3 4\n",
    "# ohhenrie\n",
    "# charlie\n",
    "# baesangwook\n",
    "# obama\n",
    "# baesangwook\n",
    "# ohhenrie\n",
    "# clinton"
   ]
  },
  {
   "cell_type": "markdown",
   "id": "377ed81e-20a8-46a9-b390-ae6a94130c8c",
   "metadata": {},
   "source": [
    "## 집합\n",
    "\n",
    "- 문제 출처: [백준 11723번](https://www.acmicpc.net/problem/11723)"
   ]
  },
  {
   "cell_type": "markdown",
   "id": "402ca435-02c7-43e9-8523-22c0876324e6",
   "metadata": {},
   "source": [
    "`-` 비트마스킹을 의도한 문제인데 안쓰고 풀었다..\n",
    "\n",
    "`-` `[0]*20` 배열을 만들고 값이 존재하면 1, 없으면 0으로 나타내면 된다(비트마스킹)"
   ]
  },
  {
   "cell_type": "code",
   "execution_count": 27,
   "id": "84102df2-91dd-4edc-9ca9-10bc09e742d3",
   "metadata": {},
   "outputs": [
    {
     "name": "stdin",
     "output_type": "stream",
     "text": [
      " 5\n",
      " add 1\n",
      " check 1\n"
     ]
    },
    {
     "name": "stdout",
     "output_type": "stream",
     "text": [
      "1\n"
     ]
    },
    {
     "name": "stdin",
     "output_type": "stream",
     "text": [
      " all\n",
      " check 10\n"
     ]
    },
    {
     "name": "stdout",
     "output_type": "stream",
     "text": [
      "1\n"
     ]
    },
    {
     "name": "stdin",
     "output_type": "stream",
     "text": [
      " check 20\n"
     ]
    },
    {
     "name": "stdout",
     "output_type": "stream",
     "text": [
      "1\n"
     ]
    }
   ],
   "source": [
    "m = int(input())\n",
    "S = set()\n",
    "\n",
    "for _ in range(m):\n",
    "    lst = input().split()\n",
    "    \n",
    "    if lst[0] == 'add':\n",
    "        S.add(int(lst[1]))\n",
    "        \n",
    "    elif lst[0] == 'remove':\n",
    "        try:\n",
    "            S.remove(int(lst[1]))\n",
    "        except:\n",
    "            pass\n",
    "        \n",
    "    elif lst[0] == 'check':\n",
    "        if int(lst[1]) in S:\n",
    "            print(1)\n",
    "        else:\n",
    "            print(0)\n",
    "            \n",
    "    elif lst[0] == 'toggle':\n",
    "        if int(lst[1]) in S:\n",
    "            S.remove(int(lst[1]))\n",
    "        else:\n",
    "            S.add(int(lst[1]))\n",
    "            \n",
    "    elif lst[0] == 'all':\n",
    "        S = set(range(1,21))\n",
    "        \n",
    "    elif lst[0] == 'empty':\n",
    "        S = set()      \n",
    "        \n",
    "# input\n",
    "# 5\n",
    "# add 1\n",
    "# check 1\n",
    "# all\n",
    "# check 10\n",
    "# check 20"
   ]
  },
  {
   "cell_type": "code",
   "execution_count": null,
   "id": "3999af98-00c7-4edc-a210-a36766ae6d1c",
   "metadata": {},
   "outputs": [],
   "source": []
  }
 ],
 "metadata": {
  "kernelspec": {
   "display_name": "Python 3 (ipykernel)",
   "language": "python",
   "name": "python3"
  },
  "language_info": {
   "codemirror_mode": {
    "name": "ipython",
    "version": 3
   },
   "file_extension": ".py",
   "mimetype": "text/x-python",
   "name": "python",
   "nbconvert_exporter": "python",
   "pygments_lexer": "ipython3",
   "version": "3.8.11"
  }
 },
 "nbformat": 4,
 "nbformat_minor": 5
}
