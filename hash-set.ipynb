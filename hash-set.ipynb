{
 "cells": [
  {
   "cell_type": "markdown",
   "id": "3eedc94a-99f6-48aa-b949-0844aece9f50",
   "metadata": {},
   "source": [
    "# 해시를 사용한 집합과 맵 (Hash Set)"
   ]
  },
  {
   "cell_type": "markdown",
   "id": "ba8aacdf-a4b8-497a-bf43-98f5a6a12048",
   "metadata": {},
   "source": [
    "## 숫자카드 2\n",
    "\n",
    "- 문제 출처: [백준 10816번](https://www.acmicpc.net/problem/10816)"
   ]
  },
  {
   "cell_type": "markdown",
   "id": "890b3064-9bf6-40f2-b120-38bc34ebcba0",
   "metadata": {},
   "source": [
    "`-` 해시테이블로 해결했는데 그냥 배열로 풀어도 됨\n",
    "\n",
    "`-` 이분탐색도 된다"
   ]
  },
  {
   "cell_type": "code",
   "execution_count": 68,
   "id": "1ad9dca5-2637-404c-9330-77876f9f98ec",
   "metadata": {},
   "outputs": [
    {
     "name": "stdin",
     "output_type": "stream",
     "text": [
      " 10\n",
      " 6 3 2 10 10 10 -10 -10 7 3\n",
      " 8\n",
      " 10 9 -5 2 3 4 5 -10\n"
     ]
    },
    {
     "name": "stdout",
     "output_type": "stream",
     "text": [
      "3 0 0 1 2 0 0 2\n"
     ]
    }
   ],
   "source": [
    "n = int(input())\n",
    "nums = list(map(int, input().split()))\n",
    "m = int(input())\n",
    "nums2 = list(map(int, input().split()))\n",
    "dict_ = {} ## 빈 딕셔너리(해쉬테이블) 선언\n",
    "\n",
    "for num in nums:\n",
    "    if num not in dict_:\n",
    "        dict_[num] = 1 ## 처음 등장한 수는 1로 초기화\n",
    "    else:\n",
    "        dict_[num] += 1 ## 1번 등장할 때마다 1씩 더해준다\n",
    "        \n",
    "print(*[dict_[num] if num in dict_ else 0 for num in nums2]) ## 만약 nums2가 dict_에 존재하지 않으면 0으로 출력(당연함)\n",
    "\n",
    "# input\n",
    "# 10\n",
    "# 6 3 2 10 10 10 -10 -10 7 3\n",
    "# 8\n",
    "# 10 9 -5 2 3 4 5 -10"
   ]
  },
  {
   "cell_type": "markdown",
   "id": "6036e0e9-c0ce-4d35-b87b-e84cf60c0aab",
   "metadata": {},
   "source": [
    "## 비밀번호 찾기\n",
    "\n",
    "- 문제 출처: [백준 17219번](https://www.acmicpc.net/problem/17219)\n",
    "\n",
    "`-` 해시테이블을 사용하면 된다"
   ]
  },
  {
   "cell_type": "code",
   "execution_count": 5,
   "id": "f3f7e3f9-d5a1-47c7-bc24-e1cfd2b92cff",
   "metadata": {},
   "outputs": [
    {
     "name": "stdin",
     "output_type": "stream",
     "text": [
      " 2 1\n",
      " acmicpc.net UAENA\n",
      " noj.am IU\n",
      " noj.am\n"
     ]
    },
    {
     "name": "stdout",
     "output_type": "stream",
     "text": [
      "IU\n"
     ]
    }
   ],
   "source": [
    "dict_ = {}\n",
    "n, m = map(int, input().split())\n",
    "\n",
    "for i in range(n):\n",
    "    site, password = input().split()\n",
    "    dict_[site] = password\n",
    "    \n",
    "for j in range(m):\n",
    "    print(dict_[input()])\n",
    "    \n",
    "# input\n",
    "# 2 1\n",
    "# acmicpc.net UAENA\n",
    "# noj.am IU\n",
    "# noj.am    "
   ]
  },
  {
   "cell_type": "markdown",
   "id": "cc233be0-75a3-43e4-a254-b7065ca7f3cc",
   "metadata": {},
   "source": [
    "`-` `input()`대신에 `import sys`를 실행하고 `sys.stdin.readline().rstrip()`을 사용해야 된다"
   ]
  },
  {
   "cell_type": "markdown",
   "id": "7594d413-c15c-4944-a8ae-2a96e0b99675",
   "metadata": {},
   "source": [
    "## 패션왕 신해빈\n",
    "\n",
    "- 문제 출처: [백준 9375번](https://www.acmicpc.net/problem/9375)"
   ]
  },
  {
   "cell_type": "markdown",
   "id": "6b63d1e6-69d4-455d-9b55-a8f80f768303",
   "metadata": {},
   "source": [
    "`-` 공식을 알아야 풀 수 있다... 나는 몰랐다...\n",
    "\n",
    "`-` $(A+1)(B+1)(C+1)-1=(ABC)+(AB+BC+CA)+(A+B+C)$\n",
    "\n",
    "`-` 참고 : https://www.acmicpc.net/board/view/20819"
   ]
  },
  {
   "cell_type": "code",
   "execution_count": 60,
   "id": "0ed43c32-6436-4a6e-b13d-6b5657b81d74",
   "metadata": {},
   "outputs": [
    {
     "name": "stdin",
     "output_type": "stream",
     "text": [
      " 2\n",
      " 3\n",
      " hat headgear\n",
      " sunglasses eyewear\n",
      " turban headgear\n"
     ]
    },
    {
     "name": "stdout",
     "output_type": "stream",
     "text": [
      "5\n"
     ]
    },
    {
     "name": "stdin",
     "output_type": "stream",
     "text": [
      " 3\n",
      " mask face\n",
      " sunglasses face\n",
      " makeup face\n"
     ]
    },
    {
     "name": "stdout",
     "output_type": "stream",
     "text": [
      "3\n"
     ]
    }
   ],
   "source": [
    "n = int(input())\n",
    "for _ in range(n):\n",
    "    k = int(input())\n",
    "    dict_ = {}\n",
    "    \n",
    "    if k == 0:   ## 옷이 없으면 당연히 0\n",
    "        print(0)\n",
    "    else:\n",
    "        for __ in range(k):\n",
    "            clothes = input().split()[1]\n",
    "            if clothes not in dict_:\n",
    "                dict_[clothes] = 1\n",
    "            else:\n",
    "                dict_[clothes] += 1\n",
    "\n",
    "        clothes_num = eval('*'.join(map(lambda x: str(x+1), list(dict_.values())))) - 1 ## 리스트 원소에 1씩 더하고 서로 곱하고 1을 뺀다\n",
    "        print(clothes_num)\n",
    "    \n",
    "# input\n",
    "# 2\n",
    "# 3\n",
    "# hat headgear\n",
    "# sunglasses eyewear\n",
    "# turban headgear\n",
    "# 3\n",
    "# mask face\n",
    "# sunglasses face\n",
    "# makeup face"
   ]
  },
  {
   "cell_type": "markdown",
   "id": "2682d5ab-e171-4f00-bfbd-0c0b3b65708b",
   "metadata": {},
   "source": [
    "## 나는야 포켓몬 마스터 이다솜\n",
    "\n",
    "- 문제 출처: [백준 1620번](https://www.acmicpc.net/problem/1620)"
   ]
  },
  {
   "cell_type": "markdown",
   "id": "d8aa770f-64ee-40c4-9ad0-d11f500fcc69",
   "metadata": {},
   "source": [
    "`-` 해시테이블로 풀면 된다"
   ]
  },
  {
   "cell_type": "code",
   "execution_count": 166,
   "id": "d1eb0b37-180b-4237-96b1-426a1e528507",
   "metadata": {},
   "outputs": [
    {
     "name": "stdin",
     "output_type": "stream",
     "text": [
      " 3 1\n",
      " Arbok\n",
      " Fearow\n",
      " Pikachu\n",
      " 3\n"
     ]
    },
    {
     "name": "stdout",
     "output_type": "stream",
     "text": [
      "Pikachu\n"
     ]
    }
   ],
   "source": [
    "n, m = map(int, input().split())\n",
    "dict_ = {}\n",
    "\n",
    "for i in range(1, n+1):\n",
    "    pokemon = input()\n",
    "    dict_[str(i)] = pokemon\n",
    "    dict_[pokemon] = i\n",
    "    \n",
    "for i in range(m):\n",
    "    print(dict_[input()])\n",
    "    \n",
    "# input\n",
    "# 3 1\n",
    "# Arbok\n",
    "# Fearow\n",
    "# Pikachu\n",
    "# 3"
   ]
  },
  {
   "cell_type": "markdown",
   "id": "436f400c-a145-495b-9e10-ec3087620f31",
   "metadata": {},
   "source": [
    "## 듣보잡\n",
    "\n",
    "- 문제 출처: [백준 1764번](https://www.acmicpc.net/problem/1764)"
   ]
  },
  {
   "cell_type": "markdown",
   "id": "33679716-06bc-4457-bf2e-a564aa960b8e",
   "metadata": {},
   "source": [
    "`-` 집합으로 풀면 된다"
   ]
  },
  {
   "cell_type": "code",
   "execution_count": 203,
   "id": "3a4ee147-2f56-42cb-ac65-9609aca42003",
   "metadata": {},
   "outputs": [
    {
     "name": "stdin",
     "output_type": "stream",
     "text": [
      " 3 4\n",
      " ohhenrie\n",
      " charlie\n",
      " baesangwook\n",
      " obama\n",
      " baesangwook\n",
      " ohhenrie\n",
      " clinton\n"
     ]
    },
    {
     "name": "stdout",
     "output_type": "stream",
     "text": [
      "2\n",
      "baesangwook\n",
      "ohhenrie\n"
     ]
    }
   ],
   "source": [
    "n, m = map(int, input().split())\n",
    "x = list()\n",
    "y = list()\n",
    "\n",
    "for _ in range(n):\n",
    "    x.append(input())\n",
    "    \n",
    "for _ in range(m):\n",
    "    y.append(input())\n",
    "    \n",
    "a = sorted(list(set(x) & set(y))) ## 교집합을 구한다\n",
    "print('\\n'.join([str(len(a))] + a)) ## 듣보잡의 수와 명단을 한줄씩 출력 \n",
    "\n",
    "# input\n",
    "# 3 4\n",
    "# ohhenrie\n",
    "# charlie\n",
    "# baesangwook\n",
    "# obama\n",
    "# baesangwook\n",
    "# ohhenrie\n",
    "# clinton"
   ]
  },
  {
   "cell_type": "markdown",
   "id": "377ed81e-20a8-46a9-b390-ae6a94130c8c",
   "metadata": {},
   "source": [
    "## 집합\n",
    "\n",
    "- 문제 출처: [백준 11723번](https://www.acmicpc.net/problem/11723)"
   ]
  },
  {
   "cell_type": "markdown",
   "id": "402ca435-02c7-43e9-8523-22c0876324e6",
   "metadata": {},
   "source": [
    "`-` 비트마스킹을 의도한 문제인데 안쓰고 풀었다..\n",
    "\n",
    "`-` `[0]*20` 배열을 만들고 값이 존재하면 1, 없으면 0으로 나타내면 된다(비트마스킹)"
   ]
  },
  {
   "cell_type": "code",
   "execution_count": 27,
   "id": "84102df2-91dd-4edc-9ca9-10bc09e742d3",
   "metadata": {},
   "outputs": [
    {
     "name": "stdin",
     "output_type": "stream",
     "text": [
      " 5\n",
      " add 1\n",
      " check 1\n"
     ]
    },
    {
     "name": "stdout",
     "output_type": "stream",
     "text": [
      "1\n"
     ]
    },
    {
     "name": "stdin",
     "output_type": "stream",
     "text": [
      " all\n",
      " check 10\n"
     ]
    },
    {
     "name": "stdout",
     "output_type": "stream",
     "text": [
      "1\n"
     ]
    },
    {
     "name": "stdin",
     "output_type": "stream",
     "text": [
      " check 20\n"
     ]
    },
    {
     "name": "stdout",
     "output_type": "stream",
     "text": [
      "1\n"
     ]
    }
   ],
   "source": [
    "m = int(input())\n",
    "S = set()\n",
    "\n",
    "for _ in range(m):\n",
    "    lst = input().split()\n",
    "    \n",
    "    if lst[0] == 'add':\n",
    "        S.add(int(lst[1]))\n",
    "    elif lst[0] == 'remove':\n",
    "        try:\n",
    "            S.remove(int(lst[1]))\n",
    "        except:\n",
    "            pass\n",
    "    elif lst[0] == 'check':\n",
    "        if int(lst[1]) in S:\n",
    "            print(1)\n",
    "        else:\n",
    "            print(0) \n",
    "    elif lst[0] == 'toggle':\n",
    "        if int(lst[1]) in S:\n",
    "            S.remove(int(lst[1]))\n",
    "        else:\n",
    "            S.add(int(lst[1]))\n",
    "    elif lst[0] == 'all':\n",
    "        S = set(range(1,21))\n",
    "    elif lst[0] == 'empty':\n",
    "        S = set()      \n",
    "        \n",
    "# input\n",
    "# 5\n",
    "# add 1\n",
    "# check 1\n",
    "# all\n",
    "# check 10\n",
    "# check 20"
   ]
  },
  {
   "cell_type": "markdown",
   "id": "f5f00bb7-876a-403c-964b-92ac909763d9",
   "metadata": {},
   "source": [
    "## 대칭 차집합\n",
    "\n",
    "- 문제 출처: [백준 1269번](https://www.acmicpc.net/problem/1269)"
   ]
  },
  {
   "cell_type": "markdown",
   "id": "b25317b5-16e7-406a-a36e-6c2ce1fdc796",
   "metadata": {},
   "source": [
    "`-` 집합을 이용하여 쉽게 해결할 수 있다"
   ]
  },
  {
   "cell_type": "code",
   "execution_count": 5,
   "id": "1382fb4b-d451-420b-bd88-c0e8167cb0cb",
   "metadata": {},
   "outputs": [
    {
     "name": "stdin",
     "output_type": "stream",
     "text": [
      " 3 5\n",
      " 1 2 4\n",
      " 2 3 4 5 6\n"
     ]
    },
    {
     "name": "stdout",
     "output_type": "stream",
     "text": [
      "4\n"
     ]
    }
   ],
   "source": [
    "_, _ = input().split()\n",
    "A = set(map(int, input().split()))\n",
    "B = set(map(int, input().split()))  \n",
    "A_B = A - B\n",
    "B_A = B - A\n",
    "answer_set = A_B | B_A\n",
    "print(len(answer_set))"
   ]
  },
  {
   "cell_type": "code",
   "execution_count": 1,
   "id": "13bf404e-d62e-4447-a7f5-d4ecd4160659",
   "metadata": {},
   "outputs": [
    {
     "name": "stdin",
     "output_type": "stream",
     "text": [
      " 5\n",
      " 1\n",
      " 5\n",
      " 5\n",
      " 7\n",
      " 8\n"
     ]
    },
    {
     "name": "stdout",
     "output_type": "stream",
     "text": [
      "3\n"
     ]
    }
   ],
   "source": [
    "n = int(input())\n",
    "scores = [int(input()) for _ in range(n)]\n",
    "scores.sort()\n",
    "ignore = round(n * 0.15)\n",
    "mean_score = round(sum(scores[ignore : n - ignore]) / n) if n != 0 else 0\n",
    "print(mean_score)"
   ]
  },
  {
   "cell_type": "code",
   "execution_count": 2,
   "id": "08ce0374-1ac9-4630-be24-99d5d3866288",
   "metadata": {},
   "outputs": [
    {
     "data": {
      "text/plain": [
       "[5, 5, 7]"
      ]
     },
     "execution_count": 2,
     "metadata": {},
     "output_type": "execute_result"
    }
   ],
   "source": [
    "scores[ignore : n - ignore]"
   ]
  },
  {
   "cell_type": "markdown",
   "id": "aa94777f-b879-453a-8a57-15b279dd1227",
   "metadata": {},
   "source": [
    "## 숫자 카드\n",
    "\n",
    "- 문제 출처: [백준 10815번](https://www.acmicpc.net/problem/10815)"
   ]
  },
  {
   "cell_type": "markdown",
   "id": "2967463c-9c56-48da-aad4-da39b51660d0",
   "metadata": {},
   "source": [
    "`-` 상근이의 숫자 카드를 set 또는 dict 자료구조로 구현해야 한다\n",
    "\n",
    "`-` 만약 list로 구현할 경우 시간복잡도가 $O(NM)$이므로 시간 초과에 걸리게 된다\n",
    "\n",
    "`-` set 또는 dict로 구현하면 원소의 포함 유무를 검사하는데 $O(1)$의 시간이 걸리므로 시간복잡도가 $O(M)$이다"
   ]
  },
  {
   "cell_type": "code",
   "execution_count": 2,
   "id": "9159e2aa-f24a-4056-a4a0-581e27d2cd3c",
   "metadata": {},
   "outputs": [
    {
     "name": "stdin",
     "output_type": "stream",
     "text": [
      " 5\n",
      " 6 3 2 10 -10\n",
      " 8\n",
      " 10 9 -5 2 3 4 5 -10\n"
     ]
    },
    {
     "name": "stdout",
     "output_type": "stream",
     "text": [
      "1 0 0 1 1 0 0 1\n"
     ]
    }
   ],
   "source": [
    "N = int(input())\n",
    "my_cards = set(map(int, input().split()))\n",
    "M = int(input())\n",
    "your_cards = list(map(int, input().split()))\n",
    "is_in = [int(card in my_cards) for card in your_cards]\n",
    "print(*is_in)"
   ]
  },
  {
   "cell_type": "markdown",
   "id": "e1d192af-3a4a-44ba-b31b-7a0f15cf5afb",
   "metadata": {},
   "source": [
    "## 회사에 있는 사람\n",
    "\n",
    "- 문제 출처: [백준 7785번](https://www.acmicpc.net/problem/7785)"
   ]
  },
  {
   "cell_type": "markdown",
   "id": "7952f800-42ec-45e0-bcc7-53e2632edc03",
   "metadata": {},
   "source": [
    "`-` 간단한 문제이지만 주의할 점은 회사에 있는 사람을 list에 저장하면 안된다는 것이다\n",
    "\n",
    "`-` 추가하는 것은 append 메서드를 사용하면 $O(1)$ 시간에 처리할 수 있지만\n",
    "\n",
    "`-` 제거하는 것은 remove 메서드를 사용해야 하는데 이는 $O(N)$의 시간이 걸리게 되고 아를 최대 $N$번 반복할 수 있으므로 $O(N^2)$으로 시간 초과에 걸린다\n",
    "\n",
    "`-` list 대신에 set을 사용하면 제거하는데 $O(1)$의 시간이 걸린다"
   ]
  },
  {
   "cell_type": "code",
   "execution_count": 27,
   "id": "ea776b7e-929e-4661-8038-b5bccb717ae5",
   "metadata": {},
   "outputs": [
    {
     "name": "stdin",
     "output_type": "stream",
     "text": [
      " 4\n",
      " Baha enter\n",
      " Askar enter\n",
      " Baha leave\n",
      " Artem enter\n"
     ]
    },
    {
     "name": "stdout",
     "output_type": "stream",
     "text": [
      "Askar\n",
      "Artem\n"
     ]
    }
   ],
   "source": [
    "N = int(input())\n",
    "people = set()\n",
    "for _ in range(N):\n",
    "    name, attr = input().split()\n",
    "    if attr == \"enter\":\n",
    "        people.add(name)\n",
    "    elif attr == \"leave\":\n",
    "        people.remove(name)\n",
    "print(\"\\n\".join(sorted(people, reverse=True)))\n",
    "\n",
    "# input\n",
    "# 4\n",
    "# Baha enter\n",
    "# Askar enter\n",
    "# Baha leave\n",
    "# Artem enter"
   ]
  },
  {
   "cell_type": "markdown",
   "id": "ab99592b-1da4-4fbf-a5c0-586940ee210c",
   "metadata": {},
   "source": [
    "## 문자열 집합\n",
    "\n",
    "- 문제 출처: [백준 14425번](https://www.acmicpc.net/problem/14425)"
   ]
  },
  {
   "cell_type": "code",
   "execution_count": 1,
   "id": "28772b9b-d16d-42dd-ba0d-0185c26b78d7",
   "metadata": {},
   "outputs": [
    {
     "name": "stdin",
     "output_type": "stream",
     "text": [
      " 1 2\n",
      " baekjoononlinejudge\n",
      " baekjoononlinejudge\n",
      " startlink\n"
     ]
    },
    {
     "name": "stdout",
     "output_type": "stream",
     "text": [
      "1\n"
     ]
    }
   ],
   "source": [
    "N, M = map(int, input().split())\n",
    "S = set([input() for _ in range(N)])\n",
    "answer = 0\n",
    "for _ in range(M):\n",
    "    string = input()\n",
    "    if string in S:\n",
    "        answer += 1\n",
    "print(answer)\n",
    "\n",
    "# input\n",
    "# 1 2\n",
    "# baekjoononlinejudge\n",
    "# baekjoononlinejudge\n",
    "# startlink"
   ]
  },
  {
   "cell_type": "markdown",
   "id": "007f011d-b918-4429-a639-fa142c1a8887",
   "metadata": {},
   "source": [
    "## 인사성 밝은 곰곰이\n",
    "\n",
    "- 문제 출처: [백준 25192번](https://www.acmicpc.net/problem/25192)"
   ]
  },
  {
   "cell_type": "markdown",
   "id": "9f509de4-43ea-4b88-b5b7-6f590ff60ac9",
   "metadata": {},
   "source": [
    "`-` 입력되는 원소를 저장할 변수 set과 곰곰티콘이 사용된 횟수를 나타내는 count 변수를 고려하겠다\n",
    "\n",
    "`-` ENTER가 입력으로 들어오면 set을 초기화하고 ENTER가 다시 입력으로 들어오거나 입력이 끝날 때까지 원소를 set에 추가한다\n",
    "\n",
    "`-` 그리고 set에 들어있는 원소 개수를 count 변수에 더한다\n",
    "\n",
    "`-` 주의: `input` 대신에 `sys.stdin.readline`을 사용할 경우 `rstrip` 메서드와 함께 사용해야 함"
   ]
  },
  {
   "cell_type": "code",
   "execution_count": 12,
   "id": "09a6a1d6-12b3-4035-8e94-60293020b4c7",
   "metadata": {},
   "outputs": [
    {
     "name": "stdin",
     "output_type": "stream",
     "text": [
      " 3\n",
      " ENTER\n",
      " lms0806\n",
      " lms0806\n"
     ]
    },
    {
     "name": "stdout",
     "output_type": "stream",
     "text": [
      "1\n"
     ]
    }
   ],
   "source": [
    "N = int(input())\n",
    "count = 0\n",
    "records = set()\n",
    "for _ in range(N):\n",
    "    chat = input()\n",
    "    if chat == \"ENTER\":\n",
    "        count += len(records)\n",
    "        records.clear()\n",
    "    else:\n",
    "        records.add(chat)\n",
    "count += len(records)\n",
    "print(count)\n",
    "\n",
    "# input\n",
    "# 3\n",
    "# ENTER\n",
    "# lms0806\n",
    "# lms0806"
   ]
  },
  {
   "cell_type": "markdown",
   "id": "52ff460a-c944-481c-9711-2f5675be2a17",
   "metadata": {},
   "source": [
    "## 카드\n",
    "\n",
    "- 문제 출처: [백준 11652번](https://www.acmicpc.net/problem/11652)"
   ]
  },
  {
   "cell_type": "markdown",
   "id": "c3126f54-f62a-4b91-8ee5-93a588cca315",
   "metadata": {},
   "source": [
    "`-` 숫자 카드에 적힐 수 있는 수는 굉장히 클 수 있으므로 이를 직접적으로 이용하는 것은 어렵다\n",
    "\n",
    "`-` 가장 많이 가지고 있는 정수만 알면 되므로 딕셔너리에 (정수, 개수) 쌍으로 저장하면 된다\n",
    "\n",
    "`-` 개수가 같은 경우 가장 작은 정수를 출력해야 하므로 정렬할 필요가 있다\n",
    "\n",
    "`-` 이때 $N$이 최대 $100000$이므로 $O(N\\log N)$ 정렬을 사용해야 한다"
   ]
  },
  {
   "cell_type": "code",
   "execution_count": 6,
   "id": "99bdb578-9d2e-4663-a2bf-c72615067c0d",
   "metadata": {},
   "outputs": [
    {
     "name": "stdin",
     "output_type": "stream",
     "text": [
      " 5\n",
      " 1\n",
      " 2\n",
      " 1\n",
      " 2\n",
      " 1\n"
     ]
    },
    {
     "name": "stdout",
     "output_type": "stream",
     "text": [
      "1\n"
     ]
    }
   ],
   "source": [
    "def solution():\n",
    "    N = int(input())\n",
    "    num2count = {}\n",
    "    for _ in range(N):\n",
    "        num = int(input())\n",
    "        if num not in num2count:\n",
    "            num2count[num] = 1\n",
    "        else:\n",
    "            num2count[num] += 1\n",
    "    num2count = num2count.items()\n",
    "    answer = sorted(num2count, key=lambda x: (-x[1], x[0]))[0][0]\n",
    "    print(answer)\n",
    "\n",
    "solution()\n",
    "\n",
    "# input\n",
    "# 5\n",
    "# 1\n",
    "# 2\n",
    "# 1\n",
    "# 2\n",
    "# 1"
   ]
  },
  {
   "cell_type": "markdown",
   "id": "1eb9ed05-8398-4bfc-bbfa-f5b9d86ba9e5",
   "metadata": {},
   "source": [
    "## 붙임성 좋은 총총이\n",
    "\n",
    "- 문제 출처: [백준 26069번](https://www.acmicpc.net/problem/26069)"
   ]
  },
  {
   "cell_type": "code",
   "execution_count": 10,
   "id": "8a54a744-2a6b-4f03-ae95-f8839b6be2d3",
   "metadata": {},
   "outputs": [
    {
     "name": "stdin",
     "output_type": "stream",
     "text": [
      " 12\n",
      " bnb2011 chansol\n",
      " chansol chogahui05\n",
      " chogahui05 jthis\n",
      " jthis ChongChong\n",
      " jthis jyheo98\n",
      " jyheo98 lms0806\n",
      " lms0806 pichulia\n",
      " pichulia pjshwa\n",
      " pjshwa r4pidstart\n",
      " r4pidstart swoon\n",
      " swoon tony9402\n",
      " tony9402 bnb2011\n"
     ]
    },
    {
     "name": "stdout",
     "output_type": "stream",
     "text": [
      "10\n"
     ]
    }
   ],
   "source": [
    "def solution():\n",
    "    N = int(input())\n",
    "    name2is_dance = {\"ChongChong\": True}\n",
    "    for _ in range(N):\n",
    "        a, b = input().split()\n",
    "        if not name2is_dance.get(a, False) and not name2is_dance.get(b, False):\n",
    "            continue\n",
    "        name2is_dance[a] = True\n",
    "        name2is_dance[b] = True\n",
    "    print(len(name2is_dance))\n",
    "\n",
    "solution()\n",
    "\n",
    "# input\n",
    "# 12\n",
    "# bnb2011 chansol\n",
    "# chansol chogahui05\n",
    "# chogahui05 jthis\n",
    "# jthis ChongChong\n",
    "# jthis jyheo98\n",
    "# jyheo98 lms0806\n",
    "# lms0806 pichulia\n",
    "# pichulia pjshwa\n",
    "# pjshwa r4pidstart\n",
    "# r4pidstart swoon\n",
    "# swoon tony9402\n",
    "# tony9402 bnb2011"
   ]
  },
  {
   "cell_type": "markdown",
   "id": "8e2bb5ae-e8f6-4144-b0b3-c07a190fb2b9",
   "metadata": {},
   "source": [
    "## 암기왕\n",
    "\n",
    "- 문제 출처: [백준 2776번](https://www.acmicpc.net/problem/2776)"
   ]
  },
  {
   "cell_type": "markdown",
   "id": "439fb4f9-bfdd-4b60-922c-3fc0bf1c498e",
   "metadata": {},
   "source": [
    "`-` 수첩 $1$을 딕셔너리 또는 집합 자료구조로 되어 있어야 수첩 $2$에 있는 원소가 수첩 $1$에 존재하는지 확인하는데 $O(1)$의 시간이 걸리도록 할 수 있다"
   ]
  },
  {
   "cell_type": "code",
   "execution_count": 1,
   "id": "9dd11296-45e2-45c3-aff1-3e93e7b79506",
   "metadata": {},
   "outputs": [
    {
     "name": "stdin",
     "output_type": "stream",
     "text": [
      " 1\n",
      " 5\n",
      " 4 1 5 2 3\n",
      " 5\n",
      " 1 3 7 9 5\n"
     ]
    },
    {
     "name": "stdout",
     "output_type": "stream",
     "text": [
      "1\n",
      "1\n",
      "0\n",
      "0\n",
      "1\n"
     ]
    }
   ],
   "source": [
    "def solution():\n",
    "    T = int(input())\n",
    "    for _ in range(T):\n",
    "        N = int(input())\n",
    "        nums1 = set(map(int, input().split()))\n",
    "        M = int(input())\n",
    "        nums2 = list(map(int, input().split()))\n",
    "        for n in nums2:\n",
    "            if n in nums1:\n",
    "                print(1)\n",
    "            else:\n",
    "                print(0)\n",
    "\n",
    "solution()\n",
    "\n",
    "# input\n",
    "# 1\n",
    "# 5\n",
    "# 4 1 5 2 3\n",
    "# 5\n",
    "# 1 3 7 9 5"
   ]
  },
  {
   "cell_type": "markdown",
   "id": "edb6f559-9701-4105-a908-f4fbfddd6c89",
   "metadata": {},
   "source": [
    "## 베스트셀러\n",
    "\n",
    "- 문제 출처: [백준 1302번](https://www.acmicpc.net/problem/1302)"
   ]
  },
  {
   "cell_type": "code",
   "execution_count": 8,
   "id": "ad11b2f8-5e06-4458-ab2b-6d1d54bf17e7",
   "metadata": {},
   "outputs": [
    {
     "name": "stdin",
     "output_type": "stream",
     "text": [
      " 6\n",
      " a\n",
      " a\n",
      " a\n",
      " b\n",
      " b\n",
      " b\n"
     ]
    },
    {
     "name": "stdout",
     "output_type": "stream",
     "text": [
      "a\n"
     ]
    }
   ],
   "source": [
    "def solution():\n",
    "    N = int(input())\n",
    "    name2sold = {}\n",
    "    for _ in range(N):\n",
    "        name = input()\n",
    "        if name not in name2sold:\n",
    "            name2sold[name] = 1\n",
    "        else:\n",
    "            name2sold[name] += 1\n",
    "    books = name2sold.items()\n",
    "    answer = sorted(books, key=lambda x: (-x[1], x[0]))[0][0]\n",
    "    print(answer)\n",
    "\n",
    "solution()\n",
    "\n",
    "# input\n",
    "# 6\n",
    "# a\n",
    "# a\n",
    "# a\n",
    "# b\n",
    "# b\n",
    "# b"
   ]
  },
  {
   "cell_type": "code",
   "execution_count": null,
   "id": "3638712c-9914-40a0-a4fe-7841b1d241ce",
   "metadata": {},
   "outputs": [],
   "source": []
  }
 ],
 "metadata": {
  "kernelspec": {
   "display_name": "Python 3 (ipykernel)",
   "language": "python",
   "name": "python3"
  },
  "language_info": {
   "codemirror_mode": {
    "name": "ipython",
    "version": 3
   },
   "file_extension": ".py",
   "mimetype": "text/x-python",
   "name": "python",
   "nbconvert_exporter": "python",
   "pygments_lexer": "ipython3",
   "version": "3.8.11"
  }
 },
 "nbformat": 4,
 "nbformat_minor": 5
}
