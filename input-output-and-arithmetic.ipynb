{
 "cells": [
  {
   "cell_type": "markdown",
   "id": "dafc3838-3a90-4fc3-a4b1-4247c3a8ea4e",
   "metadata": {
    "tags": []
   },
   "source": [
    "# 입출력과 사칙연산"
   ]
  },
  {
   "cell_type": "markdown",
   "id": "c7417629-4f7e-48e4-937d-5d7405e33be2",
   "metadata": {},
   "source": [
    "## 사칙연산 출력"
   ]
  },
  {
   "cell_type": "code",
   "execution_count": 4,
   "id": "6812e81e-5871-4ec3-a643-5933764c066b",
   "metadata": {},
   "outputs": [
    {
     "name": "stdin",
     "output_type": "stream",
     "text": [
      " 7 3\n"
     ]
    },
    {
     "name": "stdout",
     "output_type": "stream",
     "text": [
      "10\n",
      "4\n",
      "21\n",
      "2\n",
      "1\n"
     ]
    }
   ],
   "source": [
    "a, b = map(int, input().split())\n",
    "print(a+b)\n",
    "print(a-b)\n",
    "print(a*b)\n",
    "print(a//b)\n",
    "print(a%b)"
   ]
  },
  {
   "cell_type": "markdown",
   "id": "30dec1d7-f514-411b-ae5a-dcfa30aabf5f",
   "metadata": {},
   "source": [
    "## A+B - 1"
   ]
  },
  {
   "cell_type": "code",
   "execution_count": 3,
   "id": "4f394afb-e2fa-4e6d-915b-0fc2b04e10d2",
   "metadata": {},
   "outputs": [
    {
     "name": "stdin",
     "output_type": "stream",
     "text": [
      " 10 2\n"
     ]
    },
    {
     "name": "stdout",
     "output_type": "stream",
     "text": [
      "12\n"
     ]
    }
   ],
   "source": [
    "a, b = map(int, input().split())\n",
    "print(a+b)"
   ]
  },
  {
   "cell_type": "markdown",
   "id": "67ddf1f4-6856-4795-b903-aad3e24bf4ed",
   "metadata": {},
   "source": [
    "## 나머지\n",
    "\n",
    "`-` (A+B)%C는 ((A%C) + (B%C))%C 와 같을까?\n",
    "\n",
    "`-` (A×B)%C는 ((A%C) × (B%C))%C 와 같을까?\n",
    "\n",
    "`-` 세 수 A, B, C가 주어졌을 때, 위의 네 가지 값을 구하는 프로그램을 작성하시오"
   ]
  },
  {
   "cell_type": "code",
   "execution_count": 54,
   "id": "d9f33012-5877-405c-a952-e0be0b7b3695",
   "metadata": {},
   "outputs": [
    {
     "name": "stdin",
     "output_type": "stream",
     "text": [
      " 5 8 4\n"
     ]
    },
    {
     "name": "stdout",
     "output_type": "stream",
     "text": [
      "1\n",
      "1\n",
      "0\n",
      "0\n"
     ]
    }
   ],
   "source": [
    "A, B, C = map(int, input().split())\n",
    "print((A+B)%C)\n",
    "print(((A%C) + (B%C))%C)\n",
    "print((A*B)%C)\n",
    "print(((A%C) * (B%C))%C)"
   ]
  },
  {
   "cell_type": "markdown",
   "id": "60f3833d-d106-426f-a224-2e27dc83726b",
   "metadata": {},
   "source": [
    "## 곱하기"
   ]
  },
  {
   "cell_type": "code",
   "execution_count": 64,
   "id": "9b72056b-95da-417b-9729-d1681c704139",
   "metadata": {},
   "outputs": [
    {
     "name": "stdin",
     "output_type": "stream",
     "text": [
      " 472\n",
      " 385\n"
     ]
    },
    {
     "name": "stdout",
     "output_type": "stream",
     "text": [
      "2360\n",
      "3776\n",
      "1416\n",
      "181720\n"
     ]
    }
   ],
   "source": [
    "a = str(input())\n",
    "b = str(input())\n",
    "result = ([int(a) * int(b[2-x]) for x in range(3)])\n",
    "for i in range(3):\n",
    "    print(result[i])\n",
    "    \n",
    "print(int(a)*int(b))"
   ]
  },
  {
   "cell_type": "markdown",
   "id": "4341bf52-9958-4d2b-ab2a-3f4d2c1ae430",
   "metadata": {},
   "source": [
    "## 평균은 넘겠지 \n",
    "\n",
    "`-` 각 케이스마다 한 줄씩 평균을 넘는 학생들의 비율을 반올림하여 소수점 셋째 자리까지 출력한다"
   ]
  },
  {
   "cell_type": "code",
   "execution_count": 4,
   "id": "28f00840-b47b-4554-9617-cee12253be52",
   "metadata": {},
   "outputs": [
    {
     "name": "stdin",
     "output_type": "stream",
     "text": [
      " 1\n",
      " 7 100 95 90 80 70 60 50\n"
     ]
    },
    {
     "name": "stdout",
     "output_type": "stream",
     "text": [
      "57.143%\n"
     ]
    }
   ],
   "source": [
    "C = int(input())\n",
    "for i in range(C):\n",
    "    line = list(map(int, input().split()))\n",
    "    mean = sum(line[1:]) / line[0]\n",
    "    over_mean = [x for x in range(1, len(line)) if line[x] > mean]\n",
    "    over_mean_percent = len(over_mean) * 100 / line[0]\n",
    "    \n",
    "    print('{:.3f}%'.format(over_mean_percent))\n",
    "    "
   ]
  },
  {
   "cell_type": "markdown",
   "id": "42724c3c-de09-4b40-97ef-6357d7126b4f",
   "metadata": {},
   "source": [
    "## 고양이 출력"
   ]
  },
  {
   "cell_type": "markdown",
   "id": "63ba63b8-2cb1-4e8a-b54b-31d667c182a4",
   "metadata": {},
   "source": [
    "`-` 문자열은 `' '`로 둘러 싸임\n",
    "\n",
    "`-` `\\`를 출력하고 싶으면 `\\\\`\n",
    "\n",
    "`-` `'`을 출력하고 싶으면`\\'` 또는 문자열을 `\" \"`로 감싸기\n",
    "\n",
    "`-` 정규표현식의 일종임 ---> 정규표현식 공부하기"
   ]
  },
  {
   "cell_type": "code",
   "execution_count": 28,
   "id": "d747970f-e62d-401e-b0bc-c76b7cca741c",
   "metadata": {},
   "outputs": [
    {
     "ename": "SyntaxError",
     "evalue": "EOL while scanning string literal (<ipython-input-28-eaac87876c3b>, line 1)",
     "output_type": "error",
     "traceback": [
      "\u001b[1;36m  File \u001b[1;32m\"<ipython-input-28-eaac87876c3b>\"\u001b[1;36m, line \u001b[1;32m1\u001b[0m\n\u001b[1;33m    print('\\')\u001b[0m\n\u001b[1;37m              ^\u001b[0m\n\u001b[1;31mSyntaxError\u001b[0m\u001b[1;31m:\u001b[0m EOL while scanning string literal\n"
     ]
    }
   ],
   "source": [
    "print('\\')"
   ]
  },
  {
   "cell_type": "code",
   "execution_count": 29,
   "id": "3ed65096-2f4a-4795-a337-7edf2fd9ee53",
   "metadata": {},
   "outputs": [
    {
     "name": "stdout",
     "output_type": "stream",
     "text": [
      "\\\n"
     ]
    }
   ],
   "source": [
    "print('\\\\')"
   ]
  },
  {
   "cell_type": "code",
   "execution_count": 33,
   "id": "f09fcb1d-b394-4d73-9d2c-5f8717273547",
   "metadata": {},
   "outputs": [
    {
     "ename": "SyntaxError",
     "evalue": "EOF while scanning triple-quoted string literal (<ipython-input-33-c6d045ece466>, line 1)",
     "output_type": "error",
     "traceback": [
      "\u001b[1;36m  File \u001b[1;32m\"<ipython-input-33-c6d045ece466>\"\u001b[1;36m, line \u001b[1;32m1\u001b[0m\n\u001b[1;33m    print(''')\u001b[0m\n\u001b[1;37m              ^\u001b[0m\n\u001b[1;31mSyntaxError\u001b[0m\u001b[1;31m:\u001b[0m EOF while scanning triple-quoted string literal\n"
     ]
    }
   ],
   "source": [
    "print(''')"
   ]
  },
  {
   "cell_type": "code",
   "execution_count": 34,
   "id": "bea26b80-3bdf-4fab-a22a-7277c2909e01",
   "metadata": {},
   "outputs": [
    {
     "name": "stdout",
     "output_type": "stream",
     "text": [
      "'\n"
     ]
    }
   ],
   "source": [
    "print('\\'')"
   ]
  },
  {
   "cell_type": "code",
   "execution_count": 41,
   "id": "1b5e889e-a612-4a0b-8e87-fe8aaf3e2470",
   "metadata": {},
   "outputs": [
    {
     "name": "stdout",
     "output_type": "stream",
     "text": [
      "'\n"
     ]
    }
   ],
   "source": [
    "print(\"'\")"
   ]
  },
  {
   "cell_type": "code",
   "execution_count": 38,
   "id": "5b692c05-c379-4d0f-9bfc-ca90658e5437",
   "metadata": {},
   "outputs": [
    {
     "name": "stdout",
     "output_type": "stream",
     "text": [
      "\\    /\\\n",
      " )  ( ')\n",
      "(  /  )\n",
      " \\(__)|\n"
     ]
    }
   ],
   "source": [
    "print('\\    /\\\\\\n )  ( \\')\\n(  /  )\\n \\(__)|')"
   ]
  },
  {
   "cell_type": "markdown",
   "id": "8e98bd7a-0055-4da5-9547-33a324629319",
   "metadata": {},
   "source": [
    "## 강아지 "
   ]
  },
  {
   "cell_type": "markdown",
   "id": "4bcfb51d-747b-435a-ab25-95d1d85a86e7",
   "metadata": {},
   "source": [
    "`-` 문자열에서 `\" \"`를 표현하고 싶으면 `' '`로 감싸기"
   ]
  },
  {
   "cell_type": "markdown",
   "id": "a2763300-90a9-4ad6-8676-39d3975340a2",
   "metadata": {},
   "source": [
    "`-` 또는 문자열을 `''' '''`로 감싸는 방법도 있음"
   ]
  },
  {
   "cell_type": "code",
   "execution_count": 46,
   "id": "c26b3901-970f-44ab-85a3-a8dc27e02c7b",
   "metadata": {},
   "outputs": [
    {
     "ename": "SyntaxError",
     "evalue": "EOF while scanning triple-quoted string literal (<ipython-input-46-3f29872ceae9>, line 1)",
     "output_type": "error",
     "traceback": [
      "\u001b[1;36m  File \u001b[1;32m\"<ipython-input-46-3f29872ceae9>\"\u001b[1;36m, line \u001b[1;32m1\u001b[0m\n\u001b[1;33m    print(\"\"\")\u001b[0m\n\u001b[1;37m              ^\u001b[0m\n\u001b[1;31mSyntaxError\u001b[0m\u001b[1;31m:\u001b[0m EOF while scanning triple-quoted string literal\n"
     ]
    }
   ],
   "source": [
    "print(\"\"\")"
   ]
  },
  {
   "cell_type": "code",
   "execution_count": 45,
   "id": "cd8c8072-2370-46ac-96b2-a1eb74e1248e",
   "metadata": {},
   "outputs": [
    {
     "name": "stdout",
     "output_type": "stream",
     "text": [
      "\"\n"
     ]
    }
   ],
   "source": [
    "print('\"')"
   ]
  },
  {
   "cell_type": "code",
   "execution_count": 53,
   "id": "60403c54-8094-4c2c-bfa8-0675a033b78e",
   "metadata": {},
   "outputs": [
    {
     "name": "stdout",
     "output_type": "stream",
     "text": [
      "\n",
      "|\\_/|\n",
      "|q p|   /}\n",
      "( 0 )\"\"\"\\\n",
      "|\"^\"`    |\n",
      "||_/=\\\\__|\n",
      "\n"
     ]
    }
   ],
   "source": [
    "print('''\n",
    "|\\\\_/|\\n|q p|   /}\\n( 0 )\"\"\"\\\\\\n|\"^\"`    |\\n||_/=\\\\\\\\__|\n",
    "''')"
   ]
  },
  {
   "cell_type": "markdown",
   "id": "552bec21-4a4d-47d1-9fb6-efb77d3369a5",
   "metadata": {},
   "source": [
    "`-` ''' '''로 감쌀 때 앞의 ''' 앞에 r을 적으면 문자열을 원시 문자열로 처리함"
   ]
  },
  {
   "cell_type": "markdown",
   "id": "9a5c7c54-e429-47dd-b26e-be2d337aba01",
   "metadata": {},
   "source": [
    "`-` `\\`를 표현하기 위해 `\\\\`로 하지 않고 그냥 역슬래시만 해도 가능"
   ]
  },
  {
   "cell_type": "code",
   "execution_count": 44,
   "id": "de8a418e-7b74-4d35-8c7c-46c9ab2d5984",
   "metadata": {},
   "outputs": [
    {
     "name": "stdout",
     "output_type": "stream",
     "text": [
      "|\\_/|\n",
      "|q p|   /}\n",
      "( 0 )\"\"\"\\\n",
      "|\"^\"`    |\n",
      "||_/=\\\\__|\n"
     ]
    }
   ],
   "source": [
    "print('|\\\\_/|\\n|q p|   /}\\n( 0 )\"\"\"\\\\\\n|\"^\"`    |\\n||_/=\\\\\\\\__|')"
   ]
  },
  {
   "cell_type": "code",
   "execution_count": 51,
   "id": "561ae173-cdc4-4149-bd0b-aeacd758693e",
   "metadata": {},
   "outputs": [
    {
     "name": "stdout",
     "output_type": "stream",
     "text": [
      "|\\_/|\n",
      "|q p|   /}\n",
      "( 0 )\"\"\"\\\n",
      "|\"^\"`    |\n",
      "||_/=\\\\__|\n"
     ]
    }
   ],
   "source": [
    "print(r'''|\\_/|\n",
    "|q p|   /}\n",
    "( 0 )\"\"\"\\\n",
    "|\"^\"`    |\n",
    "||_/=\\\\__|''')"
   ]
  },
  {
   "cell_type": "markdown",
   "id": "63caef9f-86c3-47cf-a2eb-99d73794f5ee",
   "metadata": {},
   "source": [
    "## 나머지\n",
    "\n",
    "- 문제 출처: [백준 3052번](https://www.acmicpc.net/problem/3052)\n",
    "\n",
    "`-` 서로 다른 값의 개수를 구하라는 것은 중복되는 값을 없애고 남은 숫자의 개수를 세라는 말이다\n",
    "\n",
    "`-` 집합(set)을 사용하면 중복되는 숫자를 없앨 수 있다!"
   ]
  },
  {
   "cell_type": "code",
   "execution_count": 9,
   "id": "9d30a311-22a8-4222-a1ba-238e5e8c4935",
   "metadata": {},
   "outputs": [
    {
     "name": "stdin",
     "output_type": "stream",
     "text": [
      " 1\n",
      " 2\n",
      " 3\n",
      " 4\n",
      " 5\n",
      " 6\n",
      " 7\n",
      " 8\n",
      " 9\n",
      " 10\n"
     ]
    },
    {
     "name": "stdout",
     "output_type": "stream",
     "text": [
      "10\n"
     ]
    }
   ],
   "source": [
    "x = []\n",
    "for _ in range(10):\n",
    "    x.append(int(input()) % 42)\n",
    "    \n",
    "print(len(set(x))) ## set()을 사용하여 x에서 중복되는 원소를 하나만 남기고 나머지를 제외한다\n",
    "## 처음부터 x를 set으로 만들어도 된다\n",
    "\n",
    "# input\n",
    "# 1\n",
    "# 2\n",
    "# 3\n",
    "# 4\n",
    "# 5\n",
    "# 6\n",
    "# 7\n",
    "# 8\n",
    "# 9\n",
    "# 10"
   ]
  },
  {
   "cell_type": "markdown",
   "id": "21f4f3db-374d-448e-8b37-a3ee79300130",
   "metadata": {},
   "source": [
    "## 평균\n",
    "\n",
    "- 문제 출처: [백준 1546번](https://www.acmicpc.net/problem/1546)"
   ]
  },
  {
   "cell_type": "code",
   "execution_count": 9,
   "id": "1c780904-0220-4cab-9f86-cf9393c078c7",
   "metadata": {},
   "outputs": [
    {
     "name": "stdin",
     "output_type": "stream",
     "text": [
      " 3\n",
      " 40 80 60\n"
     ]
    },
    {
     "name": "stdout",
     "output_type": "stream",
     "text": [
      "75.0\n"
     ]
    }
   ],
   "source": [
    "N = int(input())\n",
    "scores = list(map(int, input().split()))\n",
    "M = max(scores)\n",
    "print(sum([scores[i]*100/M for i in range(N)]) / N)\n",
    "\n",
    "# input\n",
    "# 3\n",
    "# 40 80 60"
   ]
  },
  {
   "cell_type": "markdown",
   "id": "224979cb-1563-4dc4-8be1-21536eae8795",
   "metadata": {},
   "source": [
    "## OX 퀴즈\n",
    "\n",
    "- 문제 출처: [백준 8985번](https://www.acmicpc.net/problem/8958)"
   ]
  },
  {
   "cell_type": "code",
   "execution_count": 9,
   "id": "85a36a87-e044-4b8c-a860-104e40661d59",
   "metadata": {},
   "outputs": [
    {
     "name": "stdin",
     "output_type": "stream",
     "text": [
      " 1\n",
      " OOXXOXXOOO\n"
     ]
    },
    {
     "name": "stdout",
     "output_type": "stream",
     "text": [
      "10\n"
     ]
    }
   ],
   "source": [
    "k = int(input())\n",
    "for _ in range(k):\n",
    "    score = 0\n",
    "    x = 0\n",
    "    char = input()\n",
    "    \n",
    "    for i in range(len(char)):\n",
    "        if char[i] == 'O':\n",
    "            x += 1\n",
    "            score += x\n",
    "        else:\n",
    "            x = 0\n",
    "    print(score)\n",
    "    \n",
    "# input\n",
    "# 1\n",
    "# OOXXOXXOOO"
   ]
  },
  {
   "cell_type": "markdown",
   "id": "f9e47337-2416-46b6-9eae-9cdacd3ef0f0",
   "metadata": {},
   "source": [
    "## 검증수\n",
    "\n",
    "- 문제 출처: [백준 2475번](https://www.acmicpc.net/problem/2475)"
   ]
  },
  {
   "cell_type": "code",
   "execution_count": 2,
   "id": "41d8ffd7-b5fc-477b-b440-4afef9b2af21",
   "metadata": {},
   "outputs": [
    {
     "name": "stdin",
     "output_type": "stream",
     "text": [
      " 0 4 2 5 6\n"
     ]
    },
    {
     "name": "stdout",
     "output_type": "stream",
     "text": [
      "1\n"
     ]
    }
   ],
   "source": [
    "print(sum(map(lambda x: int(x) ** 2, input().split())) % 10)\n",
    "# input\n",
    "# 0 4 2 5 6"
   ]
  },
  {
   "cell_type": "code",
   "execution_count": null,
   "id": "5bf3ebe3-c5bd-4f42-ae60-c45c2184b819",
   "metadata": {},
   "outputs": [],
   "source": []
  }
 ],
 "metadata": {
  "kernelspec": {
   "display_name": "Python 3 (ipykernel)",
   "language": "python",
   "name": "python3"
  },
  "language_info": {
   "codemirror_mode": {
    "name": "ipython",
    "version": 3
   },
   "file_extension": ".py",
   "mimetype": "text/x-python",
   "name": "python",
   "nbconvert_exporter": "python",
   "pygments_lexer": "ipython3",
   "version": "3.8.11"
  }
 },
 "nbformat": 4,
 "nbformat_minor": 5
}
