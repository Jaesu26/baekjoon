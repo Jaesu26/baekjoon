{
 "cells": [
  {
   "cell_type": "markdown",
   "id": "c9d94204-8a59-4836-b6d9-2f23352a8f08",
   "metadata": {},
   "source": [
    "# 소수 판정 (Primality Test)"
   ]
  },
  {
   "cell_type": "markdown",
   "id": "8311312d-f9eb-4851-8fc9-8b7df6aba95c",
   "metadata": {},
   "source": [
    "## 소수 찾기\n",
    "\n",
    "- 문제 출처: [백준 1978번](https://www.acmicpc.net/problem/1978)"
   ]
  },
  {
   "cell_type": "code",
   "execution_count": 9,
   "id": "197895a8-b459-46d5-8ebc-155c8ec3af0a",
   "metadata": {},
   "outputs": [
    {
     "name": "stdin",
     "output_type": "stream",
     "text": [
      " 4\n",
      " 1 3 5 7\n"
     ]
    },
    {
     "name": "stdout",
     "output_type": "stream",
     "text": [
      "3\n"
     ]
    }
   ],
   "source": [
    "def Is_prime_num(x):\n",
    "    if x == 1:\n",
    "        return False\n",
    "    for i in range(2, int(x**0.5) + 1):\n",
    "        if x % i == 0:\n",
    "            return False\n",
    "    return True\n",
    "\n",
    "\n",
    "N = int(input())\n",
    "prime_num = 0 \n",
    "num_list = list(map(int, input().split()))\n",
    "for i in range(N):\n",
    "    if Is_prime_num(num_list[i]) == True:\n",
    "        prime_num += 1\n",
    "print(prime_num)\n",
    "\n",
    "# input\n",
    "# 4\n",
    "# 1 3 5 7"
   ]
  },
  {
   "cell_type": "markdown",
   "id": "1ac46d66-5b47-4d2d-8a28-7b854bbbbf32",
   "metadata": {},
   "source": [
    "## 소수\n",
    "\n",
    "- 문제 출처: [백준 2581번](https://www.acmicpc.net/problem/2581)"
   ]
  },
  {
   "cell_type": "code",
   "execution_count": 2,
   "id": "bc21ac87-8e90-46ea-b21a-a73f0217c8bf",
   "metadata": {},
   "outputs": [
    {
     "name": "stdin",
     "output_type": "stream",
     "text": [
      " 64\n",
      " 65\n"
     ]
    },
    {
     "name": "stdout",
     "output_type": "stream",
     "text": [
      "-1\n"
     ]
    }
   ],
   "source": [
    "N = int(input())\n",
    "M = int(input())\n",
    "\n",
    "def Is_prime_num(x):\n",
    "    if x == 1:\n",
    "        return False\n",
    "    for i in range(2, int(x**0.5) + 1):\n",
    "        if x % i == 0:\n",
    "            return False\n",
    "    return True\n",
    "\n",
    "\n",
    "prime_list = []\n",
    "for j in range(N, M + 1):\n",
    "    if Is_prime_num(j) == True:\n",
    "        prime_list.append(j)\n",
    "if len(prime_list) == 0:\n",
    "    print(-1)\n",
    "else:\n",
    "    print(sum(prime_list))\n",
    "    print(min(prime_list))\n",
    "    \n",
    "# input\n",
    "# 60\n",
    "# 100"
   ]
  },
  {
   "cell_type": "markdown",
   "id": "56526e82-8091-44cd-ba28-54d4e1f582e1",
   "metadata": {},
   "source": [
    "- 에라토스테네스의 체를 통한 소수 찾기"
   ]
  },
  {
   "cell_type": "markdown",
   "id": "6cd00e49-762e-4cb9-a1ff-5c843be8a441",
   "metadata": {},
   "source": [
    "`-` $N$과 $M$은 $10000$이하의 자연수 이므로 미리 에라토스테네스의 체를 통해 소수를 구해놓자 "
   ]
  },
  {
   "cell_type": "code",
   "execution_count": 3,
   "id": "9ed40105-e5b6-4d94-baf8-abf71349c117",
   "metadata": {},
   "outputs": [
    {
     "name": "stdin",
     "output_type": "stream",
     "text": [
      " 60\n",
      " 100\n"
     ]
    },
    {
     "name": "stdout",
     "output_type": "stream",
     "text": [
      "620\n",
      "61\n"
     ]
    }
   ],
   "source": [
    "N = int(input())\n",
    "M = int(input())\n",
    "n = 10000\n",
    "m = int(n**0.5)\n",
    "prime_list = [False, False] + [True] * (n-1)\n",
    "for i in range(2, m + 1):\n",
    "    if prime_list[i] == True:\n",
    "        for j in range(2 * i, n + 1, i):\n",
    "            prime_list[j] = False\n",
    "prime_num_list = [ x for x in range(N, M+1) if prime_list[x] == True]\n",
    "if len(prime_num_list) == 0:\n",
    "    print(-1)\n",
    "else:\n",
    "    print(sum(prime_num_list))\n",
    "    print(min(prime_num_list))\n",
    "    \n",
    "# input은 위와 동일"
   ]
  },
  {
   "cell_type": "markdown",
   "id": "dd66aca2-2f91-4234-b3c4-d51d42265268",
   "metadata": {},
   "source": [
    "```python\n",
    "if prime_list[i] == True:\n",
    "```\n",
    "\n",
    "`-` 위 부분은 아래와 같이 해도 됨\n",
    "\n",
    "```python\n",
    "if prime_list[i]:\n",
    "```\n",
    "\n",
    "`-` `prime_list[i]` 자체가 `True` 또는 `False`임"
   ]
  },
  {
   "cell_type": "markdown",
   "id": "6d5cff54-e883-4a49-89cd-c7fd86389157",
   "metadata": {},
   "source": [
    "## 소인수분해\n",
    "\n",
    "- 문제 출처: [백준 11653번](https://www.acmicpc.net/problem/11653)"
   ]
  },
  {
   "cell_type": "code",
   "execution_count": 7,
   "id": "edf5f6bc-a0ca-4946-ba64-d90bc3f90c56",
   "metadata": {},
   "outputs": [
    {
     "name": "stdin",
     "output_type": "stream",
     "text": [
      " 1001\n"
     ]
    },
    {
     "name": "stdout",
     "output_type": "stream",
     "text": [
      "7\n",
      "11\n",
      "13\n"
     ]
    }
   ],
   "source": [
    "def factorization_into_primes(x): \n",
    "    if x == 1:\n",
    "        return\n",
    "    stack = 0\n",
    "    mul = 1\n",
    "    for k in range(2, M + 1):\n",
    "        if prime_nums[k] == False:\n",
    "            continue\n",
    "        else:\n",
    "            l = x / k\n",
    "            while l == int(l):\n",
    "                print(k)\n",
    "                mul *= k\n",
    "                stack += 1\n",
    "                l = l/k\n",
    "    if stack == 0:\n",
    "        print(x)\n",
    "    elif mul != N:\n",
    "        print(int(x / mul))\n",
    "\n",
    "\n",
    "n = 3164\n",
    "m = int(n**0.5)\n",
    "prime_nums = [False, False] + [True] * (n - 1)\n",
    "for i in range(2, m + 1):\n",
    "    if prime_nums[i] == True:\n",
    "        for j in range(2 * i, n + 1, i):\n",
    "            prime_nums[j] = False\n",
    "N = int(input())\n",
    "M = int(N**0.5)\n",
    "factorization_into_primes(N)\n",
    "\n",
    "# input\n",
    "# 1001"
   ]
  },
  {
   "cell_type": "markdown",
   "id": "d1ff64a0-d9cd-4651-882d-be4d9e679ebf",
   "metadata": {},
   "source": [
    "## 소수 구하기\n",
    "\n",
    "- 문제 출처: [백준 1929번](https://www.acmicpc.net/problem/1929)"
   ]
  },
  {
   "cell_type": "code",
   "execution_count": 7,
   "id": "3e518eea-1a89-44a2-9ea4-20fefb351531",
   "metadata": {},
   "outputs": [
    {
     "name": "stdin",
     "output_type": "stream",
     "text": [
      " 3 16\n"
     ]
    },
    {
     "name": "stdout",
     "output_type": "stream",
     "text": [
      "3\n",
      "5\n",
      "7\n",
      "11\n",
      "13\n"
     ]
    }
   ],
   "source": [
    "n = 1000000\n",
    "m = int(n**0.5)\n",
    "prime_num_list = [False, False] + [True] * (n - 1)\n",
    "for i in range(2, m + 1):\n",
    "    if prime_num_list[i] == True:\n",
    "        for j in range(2 * i, n + 1, i):\n",
    "            prime_num_list[j] = False\n",
    "M, N = map(int, input().split())\n",
    "prime_num = [x for x in range(M, N + 1) if prime_num_list[x] == True]\n",
    "for k in range(len(prime_num)):\n",
    "    print(prime_num[k])\n",
    "          \n",
    "# input\n",
    "# 3 16"
   ]
  },
  {
   "cell_type": "markdown",
   "id": "d8de7429-de39-4055-98c7-c31af3d7dde5",
   "metadata": {},
   "source": [
    "## 베르트랑 공준\n",
    "\n",
    "- 문제 출처: [백준 4948번](https://www.acmicpc.net/problem/4948)"
   ]
  },
  {
   "cell_type": "code",
   "execution_count": 25,
   "id": "9f1b8ad3-f85b-4c22-9d77-cda48e770a69",
   "metadata": {},
   "outputs": [
    {
     "name": "stdin",
     "output_type": "stream",
     "text": [
      " 1\n"
     ]
    },
    {
     "name": "stdout",
     "output_type": "stream",
     "text": [
      "1\n"
     ]
    },
    {
     "name": "stdin",
     "output_type": "stream",
     "text": [
      " 10\n"
     ]
    },
    {
     "name": "stdout",
     "output_type": "stream",
     "text": [
      "4\n"
     ]
    },
    {
     "name": "stdin",
     "output_type": "stream",
     "text": [
      " 13\n"
     ]
    },
    {
     "name": "stdout",
     "output_type": "stream",
     "text": [
      "3\n"
     ]
    },
    {
     "name": "stdin",
     "output_type": "stream",
     "text": [
      " 100\n"
     ]
    },
    {
     "name": "stdout",
     "output_type": "stream",
     "text": [
      "21\n"
     ]
    },
    {
     "name": "stdin",
     "output_type": "stream",
     "text": [
      " 1000\n"
     ]
    },
    {
     "name": "stdout",
     "output_type": "stream",
     "text": [
      "135\n"
     ]
    },
    {
     "name": "stdin",
     "output_type": "stream",
     "text": [
      " 10000\n"
     ]
    },
    {
     "name": "stdout",
     "output_type": "stream",
     "text": [
      "1033\n"
     ]
    },
    {
     "name": "stdin",
     "output_type": "stream",
     "text": [
      " 100000\n"
     ]
    },
    {
     "name": "stdout",
     "output_type": "stream",
     "text": [
      "8392\n"
     ]
    },
    {
     "name": "stdin",
     "output_type": "stream",
     "text": [
      " 0\n"
     ]
    }
   ],
   "source": [
    "def prime_number(num):\n",
    "    print(len([x for x in range(num + 1, 2 * num + 1) if prime_nums[x] == True]))\n",
    "\n",
    "\n",
    "n = 123456 * 2\n",
    "m = int(n**0.5)\n",
    "prime_nums = [False, False] + [True] * (n-1)\n",
    "for i in range(2, m + 1):\n",
    "    if prime_nums[i] == True:\n",
    "        for j in range(2 * i, n + 1, i):\n",
    "            prime_nums[j] = False                 \n",
    "while True:\n",
    "    n = int(input())   \n",
    "    if n == 0:\n",
    "        break\n",
    "    prime_number(n)\n",
    "\n",
    "# input\n",
    "# 1\n",
    "# 10\n",
    "# 13\n",
    "# 100\n",
    "# 1000\n",
    "# 10000\n",
    "# 100000\n",
    "# 0"
   ]
  },
  {
   "cell_type": "markdown",
   "id": "2a55fae5-799b-4312-9004-a95b1dac44c6",
   "metadata": {},
   "source": [
    "## 골드바흐의 추측\n",
    "\n",
    "- 문제 출처: [백준 9020번](https://www.acmicpc.net/problem/9020)"
   ]
  },
  {
   "cell_type": "markdown",
   "id": "ae9cd66b-cac2-4d68-9cdc-f91361ea5033",
   "metadata": {},
   "source": [
    "`-` 신기한점\n",
    "\n",
    "```python\n",
    "n = 10000\n",
    "m = int(n**0.5)\n",
    "prime_num_list = [False, False] + [True] * (n - 1)\n",
    "for i in range(2, m + 1):\n",
    "    if prime_num_list[i] == True:\n",
    "        for j in range(2 * i, n + 1, i):\n",
    "            prime_num_list[j] = False\n",
    "prime_num = [x for x in range(2, n + 1) if prime_num_list[x] == True]\n",
    "\n",
    " 여기까지 동일\n",
    "\n",
    "last_prime_num = [x for x in range(2, 5000) if prime_num_list[x] == True].reverse()\n",
    "type(last_prime_num)\n",
    "```\n",
    "`-` 위의 코드에서 `type(last_prime_num)`의 결과는 `Nonetype`임\n",
    "\n",
    "```python\n",
    "# 동일 부분 생략\n",
    "last_prime_num = [x for x in range(2, 5000) if prime_num_list[x] == True]\n",
    "last_prime_num.reverse()\n",
    "type(last_prime_num)\n",
    "```\n",
    "`-` 위의 코드에서 `type(last_prime_num)`의 결과는 `list`임\n",
    "\n",
    "`-` 무슨 차이일까?"
   ]
  },
  {
   "cell_type": "code",
   "execution_count": 71,
   "id": "cffc672f-1c07-4c7a-a2a9-904d920d4659",
   "metadata": {},
   "outputs": [
    {
     "name": "stdin",
     "output_type": "stream",
     "text": [
      " 1\n",
      " 12\n"
     ]
    },
    {
     "name": "stdout",
     "output_type": "stream",
     "text": [
      "5 7\n"
     ]
    }
   ],
   "source": [
    "n = 10000\n",
    "m = int(n**0.5)\n",
    "prime_num_list = [False, False] + [True] * (n - 1)\n",
    "for i in range(2, m + 1):\n",
    "    if prime_num_list[i] == True:\n",
    "        for j in range(2 * i, n + 1, i):\n",
    "            prime_num_list[j] = False\n",
    "prime_num = [x for x in range(2, n + 1) if prime_num_list[x] == True]\n",
    "last_prime_num = [x for x in range(2, 5000) if prime_num_list[x] == True]\n",
    "last_prime_num.reverse()\n",
    "p = len(prime_num)\n",
    "T = int(input())\n",
    "for i in range(T):\n",
    "    N = int(input())\n",
    "    for j in range(N // 2, N + 1):\n",
    "        if j in prime_num and N - j in prime_num:\n",
    "            print(N - j, j)\n",
    "            break\n",
    "\n",
    "# input\n",
    "# 1\n",
    "# 12"
   ]
  },
  {
   "cell_type": "markdown",
   "id": "59aa42da-849c-40e3-b5bc-1b20240f13af",
   "metadata": {},
   "source": [
    "`-` 위의 코드는 시간이 매우 오래 걸린다\n",
    "\n",
    "`-` 새로 만들었음\n",
    "\n",
    "`-` 시간이 $\\frac{1}{4}$이 됐다 : 2344ms ---> 556ms"
   ]
  },
  {
   "cell_type": "code",
   "execution_count": 78,
   "id": "67e6bb1b-bcfb-4376-a52e-d6d18dd6d720",
   "metadata": {},
   "outputs": [
    {
     "name": "stdin",
     "output_type": "stream",
     "text": [
      " 1\n",
      " 12\n"
     ]
    },
    {
     "name": "stdout",
     "output_type": "stream",
     "text": [
      "5 7\n"
     ]
    }
   ],
   "source": [
    "import sys\n",
    "\n",
    "n = 10000\n",
    "m = int(n**0.5)\n",
    "prime_num_list = [False, False] + [True] * (n - 1)\n",
    "for i in range(2, m + 1):\n",
    "    if prime_num_list[i]:\n",
    "        for j in range(2 * i, n + 1, i):\n",
    "            prime_num_list[j] = False\n",
    "T = int(input())\n",
    "for i in range(T):\n",
    "    N = int(sys.stdin.readline())\n",
    "    for j in range(N // 2, N + 1):\n",
    "        if prime_num_list[j] and prime_num_list[N - j]:\n",
    "            print(N - j, j)\n",
    "            break\n",
    "\n",
    "# input\n",
    "# 1\n",
    "# 12"
   ]
  },
  {
   "cell_type": "markdown",
   "id": "db05da18-ca60-437f-9045-ab4bab65e58f",
   "metadata": {},
   "source": [
    "`-` 더 줄이고 싶다\n",
    "\n",
    "`-` 시간이 96ms로 단축됨\n",
    "\n",
    "`-` [$\\star\\star\\star$] 여러번 반복하여 입력을 받는 경우에는 `input()` 대신 `sys.stdin.readline()` 사용 [$\\star\\star\\star$]"
   ]
  },
  {
   "cell_type": "markdown",
   "id": "890df627-9568-4476-aa0c-207885a5869e",
   "metadata": {},
   "source": [
    "## 아파트 임대\n",
    "\n",
    "- 문제 출처: [백준 5615번](https://www.acmicpc.net/problem/5615)"
   ]
  },
  {
   "cell_type": "markdown",
   "id": "099dfc0c-8cb3-46a6-8565-1d746296c140",
   "metadata": {},
   "source": [
    "`-` 면적 $A = 2xy + x + y$이다 ($x,y$는 양의 정수)\n",
    "\n",
    "`-` 따라서 $2A + 1 = 4xy + 2x + 2y + 1 = (2x + 1)(2y+1)$으로 합성수이다\n",
    "\n",
    "`-` 즉, $n=2A+1$이 소수라면 존재할 수 없는 면적을 가진 아파트이다\n",
    "\n",
    "`-` 소수인지 검사할 수가 매우 커서 $O\\left(\\sqrt{n}\\right)$의 소수 판정이 아닌 [밀러-라빈 소수판별법](https://en.wikipedia.org/wiki/Miller%E2%80%93Rabin_primality_test)을 사용해야 한다\n",
    "\n",
    "`-` 입력될 수의 최댓값은 $2^{32} - 1$이다\n",
    "\n",
    "`-` $2^{32} - 1 \\le 4759123141$이므로 bases로 $2,7,61$에 대해서만 검사하면 결정론적으로 소수인지 판정할 수 있다\n",
    "\n",
    "- 간단한 로직\n",
    "\n",
    "`-` $n$이 소수라면 $1 < a < n-1$인 $a$에 대해 $a^{n-1} \\equiv 1 \\pmod n$이 성립\n",
    "\n",
    "`-` 위의 식이 성립하지 않는다면 $n$이 합성수라는 것이다\n",
    "\n",
    "`-` $x^2 \\equiv 1 \\pmod n$이라 해보자\n",
    "\n",
    "`-` 그럼 $x^2 - 1 = (x+1)(x-1)\\equiv 0 \\pmod n$\n",
    "\n",
    "`-` 즉, $x+1$와 $x-1$ 중 하나는 $n$의 배수이므로 $x \\equiv \\pm 1 \\pmod n$이다\n",
    "\n",
    "`-` $a^{n-1} = a^{2^r d} = \\left(a^{2^{r-1} d}\\right)^2$\n",
    "\n",
    "`-` 즉, $n$이 소수라면 $a^{2^{r-1} d} \\equiv \\pm 1 \\pmod n$이고 이를 만족하지 않으면 $n$은 분명하게 합성수이다\n",
    "\n",
    "`-` 만약 $a^{2^{r-1} d} \\equiv 1 \\pmod n$이면 $\\left(a^{2^{r-2} d}\\right)^2 \\equiv 1 \\pmod n$이므로 재귀적으로 검증을 반복하면 된다\n",
    "\n",
    "`-` $a^{2^{r-1} d} \\equiv -1 \\pmod n$이면 $\\left(a^{2^{r-2} d}\\right)^2 \\equiv -1 \\pmod n$이고 $x^2 + 1\\equiv 0 \\pmod n$인데 $x^2+1$은 정수 범위에서 인수분해가 되지 않는다\n",
    "\n",
    "`-` 따라서 검증을 더 이상 할 수 없고 합성수라는 증거를 찾지 못했으므로 소수라는 강한 증거를 얻게 된다\n",
    "\n",
    "`-` 만약 나머지가 $-1$이 아니라 계속 $1$이 된다면 결국엔 $a^d \\equiv 1 \\pmod n$이 되어야 한다\n",
    "\n",
    "`-` 직전에서 $\\left(a^d\\right)^2 \\equiv 1 \\pmod n$였을테니 $a^d$을 $n$으로 나눈 나머지는 $1$ 또는 $-1$이어야 한다\n",
    "\n",
    "`-` 그런데 $-1$이 아니라 했으므로 $1$이 된다\n",
    "\n",
    "`-` 그렇지 않으면 $n$은 합성수이다"
   ]
  },
  {
   "cell_type": "code",
   "execution_count": 7,
   "id": "6a107d36-a3f8-4191-8efd-f7341e74aa72",
   "metadata": {},
   "outputs": [
    {
     "name": "stdin",
     "output_type": "stream",
     "text": [
      " 1\n",
      " 7\n"
     ]
    },
    {
     "name": "stdout",
     "output_type": "stream",
     "text": [
      "0\n"
     ]
    }
   ],
   "source": [
    "def miller_rabin_primality_test(n):\n",
    "    bases = [2, 7, 61]\n",
    "    for a in bases:\n",
    "        if a >= n - 1:\n",
    "            continue\n",
    "        is_composite_number = True\n",
    "        x = n - 1\n",
    "        while x % 2 == 0:\n",
    "            x //= 2\n",
    "            if pow(a, x, n) == n - 1:\n",
    "                is_composite_number = False\n",
    "                break\n",
    "        if not is_composite_number:\n",
    "            continue\n",
    "        if pow(a, x, n) != 1:\n",
    "            return False\n",
    "    return True\n",
    "\n",
    "\n",
    "def solution():\n",
    "    N = int(input())\n",
    "    answer = 0\n",
    "    for _ in range(N):\n",
    "        area = int(input())\n",
    "        n = 2 * area + 1\n",
    "        if miller_rabin_primality_test(n):\n",
    "            answer += 1\n",
    "    print(answer)\n",
    "\n",
    "\n",
    "solution()\n",
    "\n",
    "# input\n",
    "# 1\n",
    "# 7"
   ]
  },
  {
   "cell_type": "code",
   "execution_count": null,
   "id": "5eaa4e76-3df7-4c25-83dd-b635e285c5b7",
   "metadata": {},
   "outputs": [],
   "source": []
  }
 ],
 "metadata": {
  "kernelspec": {
   "display_name": "Python 3 (ipykernel)",
   "language": "python",
   "name": "python3"
  },
  "language_info": {
   "codemirror_mode": {
    "name": "ipython",
    "version": 3
   },
   "file_extension": ".py",
   "mimetype": "text/x-python",
   "name": "python",
   "nbconvert_exporter": "python",
   "pygments_lexer": "ipython3",
   "version": "3.8.11"
  }
 },
 "nbformat": 4,
 "nbformat_minor": 5
}
