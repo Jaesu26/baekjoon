{
 "cells": [
  {
   "cell_type": "markdown",
   "id": "c9d94204-8a59-4836-b6d9-2f23352a8f08",
   "metadata": {},
   "source": [
    "# 소수 판정 (Primality Test)"
   ]
  },
  {
   "cell_type": "markdown",
   "id": "798aed2c-a2a8-4c6b-91ea-0eb1920cde47",
   "metadata": {},
   "source": [
    "## 아파트 임대(5615번) ---> 시간 초과 pass"
   ]
  },
  {
   "cell_type": "markdown",
   "id": "7b1e5671-e16d-437a-b31f-a95981c673ca",
   "metadata": {},
   "source": [
    "`-` 아파트 면적은 $2xy+x+y = k$ ---> 2k+1 = (2x+1)(2y+1) , $x,y$는 양의 정수\n",
    "\n",
    "`-` 즉, 아파트 면적을 k라 할 때 2k+1은 합성수이다\n",
    "\n",
    "`-` 만약, $2k+1$이 소수라면 잘못된 아파트 면적이다"
   ]
  },
  {
   "cell_type": "markdown",
   "id": "1b7b0821-a748-458c-a322-64f5b0777060",
   "metadata": {},
   "source": [
    "### 소수 판별\n",
    "```python\n",
    "def Is_prime_number(a):\n",
    "    from math import sqrt\n",
    "    for i in range(2,int(sqrt(a)+1)):\n",
    "        if a%i==0:\n",
    "            return True\n",
    "        else:\n",
    "            return False\n",
    "```   "
   ]
  },
  {
   "cell_type": "markdown",
   "id": "8a57dc4b-2840-479e-a70f-6a40c8a64889",
   "metadata": {},
   "source": [
    "```python\n",
    "from math import sqrt\n",
    "\n",
    "def Is_prime_number(a):\n",
    "    for i in range(2, int(sqrt(a))+1):\n",
    "        if a % i == 0:\n",
    "            return False\n",
    "        else:\n",
    "            return True\n",
    "        \n",
    "def apart(n):\n",
    "    sum = 0\n",
    "    for i in range(n):\n",
    "        x = int(input())\n",
    "        if Is_prime_number(2*x+1) == True:\n",
    "            sum +=1\n",
    "    return(sum)\n",
    "\n",
    "N = int(input())\n",
    "\n",
    "apart(N)\n",
    "```\n",
    "\n",
    "`-` `error` : 이렇게 코드를 짜면 N에 어떤 수를 대입해도 `if Is_prime_number(2*x+1) == True` 부분이 항상 참이여서 `sum += 1`이 실행된다 (원인불명)"
   ]
  },
  {
   "cell_type": "markdown",
   "id": "25cb10d1-42e5-4c41-b9b0-00923d3d180c",
   "metadata": {},
   "source": [
    "```python\n",
    "from math import sqrt\n",
    "\n",
    "def Is_prime_number(a):\n",
    "    for i in range(2, int(sqrt(a))+1):\n",
    "        if a % i == 0:\n",
    "            return 0\n",
    "        else:\n",
    "            return 1\n",
    "        \n",
    "def apart(n):\n",
    "    sum = 0\n",
    "    for i in range(n):\n",
    "        x = int(input())\n",
    "        if Is_prime_number(2*x+1) == 1:\n",
    "            sum += 1\n",
    "    return(sum)\n",
    "\n",
    "N = int(input())\n",
    "\n",
    "apart(N)\n",
    "```\n",
    "\n",
    "`-` `error` : 이렇게 코드를 짜면 N에 어떤 수를 대입해도 `if Is_prime_number(2*x+1) == True` 부분이 항상 참이여서 `sum += 1`이 실행된다 (마찬가지로 원인불명)"
   ]
  },
  {
   "cell_type": "markdown",
   "id": "aa262873-eb69-4aa1-84f6-70ab4e1f8fe2",
   "metadata": {},
   "source": [
    "`-` 아파트 임대 ---> 시간 초과 코드"
   ]
  },
  {
   "cell_type": "code",
   "execution_count": 55,
   "id": "d8df5fce-fe4c-4bce-b206-2d53818d5f95",
   "metadata": {},
   "outputs": [
    {
     "name": "stdin",
     "output_type": "stream",
     "text": [
      " 10\n",
      " 4\n",
      " 7\n",
      " 9\n",
      " 10\n",
      " 12\n",
      " 13\n",
      " 16\n",
      " 17\n",
      " 19\n",
      " 20\n"
     ]
    },
    {
     "data": {
      "text/plain": [
       "2"
      ]
     },
     "execution_count": 55,
     "metadata": {},
     "output_type": "execute_result"
    }
   ],
   "source": [
    "import sys\n",
    "from math import sqrt \n",
    "\n",
    "def Is_prime_number(a):\n",
    "    for i in range(2, int(sqrt(a))+1):\n",
    "        if a % i == 0:\n",
    "            return False\n",
    "    return True\n",
    "        \n",
    "def apart(n):\n",
    "    sum = 0\n",
    "    for i in range(n):\n",
    "        x = int(sys.stdin.readline())\n",
    "        if Is_prime_number(2*x+1) == 1:\n",
    "            sum += 1\n",
    "    return(sum)\n",
    "\n",
    "N = int(input())\n",
    "\n",
    "apart(N)\n",
    "\n",
    "# input\n",
    "# 10\n",
    "# 4\n",
    "# 7\n",
    "# 9\n",
    "# 10\n",
    "# 12\n",
    "# 13\n",
    "# 16\n",
    "# 17\n",
    "# 19\n",
    "# 20"
   ]
  },
  {
   "cell_type": "markdown",
   "id": "656ce15e-6385-4269-b2f7-46fee5bdd44b",
   "metadata": {},
   "source": [
    "### 소수판정 의문점"
   ]
  },
  {
   "cell_type": "markdown",
   "id": "6988a0bd-831d-45a2-8908-392aa96ebb79",
   "metadata": {},
   "source": [
    "```python\n",
    "def is_prime_number(x):\n",
    "    # 2부터 x의 제곱근까지의 모든 수를 확인하며\n",
    "    for i in range(2, int(sqrt(x)) + 1):\n",
    "        # x가 해당 수로 나누어떨어진다면\n",
    "        if x % i == 0:\n",
    "            return False # 소수가 아님\n",
    "    return True # 소수임\n",
    "```    \n",
    "\n",
    "`-` 위에 코드는 문제가 없다 \n",
    "\n",
    "`-` x에 2나 3을 넣어도 잘 작동함"
   ]
  },
  {
   "cell_type": "markdown",
   "id": "c8c83850-879f-40ff-a932-959eb4b4cb89",
   "metadata": {},
   "source": [
    "```python\n",
    "def is_prime_number(x):\n",
    "    # 2부터 x의 제곱근까지의 모든 수를 확인하며\n",
    "    for i in range(2, int(sqrt(x)) + 1):\n",
    "        # x가 해당 수로 나누어떨어진다면\n",
    "        if x % i == 0:\n",
    "            return False # 소수가 아님\n",
    "        else:\n",
    "            return True # 소수임\n",
    "```    \n",
    "`-` 위에 코드는 문제가 있다 ---> x에 2나 3을 넣으면 return이 없다\n",
    "\n",
    "`-` 아마 2나 3을 넣으면 `range(2,1)` 이 돼서 그럴 것이다"
   ]
  },
  {
   "cell_type": "markdown",
   "id": "f694dc48-6ab9-4e31-ac63-446e2d88a509",
   "metadata": {},
   "source": [
    "### 파이썬 코드 실행 시간 측정"
   ]
  },
  {
   "cell_type": "markdown",
   "id": "df72ee5c-c483-455e-8a51-c2e18c452388",
   "metadata": {},
   "source": [
    "```python\n",
    "import time\n",
    "\n",
    "start = time.time() ## 시작 시간 저장\n",
    "\n",
    "## -----작업 코드-----\n",
    "\n",
    "print(\"time :\", time.time() - start)\n",
    "```"
   ]
  },
  {
   "cell_type": "markdown",
   "id": "8311312d-f9eb-4851-8fc9-8b7df6aba95c",
   "metadata": {},
   "source": [
    "## 소수 찾기1\n",
    "\n",
    "`-` 주어진 수 N개 중에서 소수가 몇 개인지 찾아서 출력하는 프로그램을 작성하시오"
   ]
  },
  {
   "cell_type": "code",
   "execution_count": 9,
   "id": "197895a8-b459-46d5-8ebc-155c8ec3af0a",
   "metadata": {},
   "outputs": [
    {
     "name": "stdin",
     "output_type": "stream",
     "text": [
      " 4\n",
      " 1 3 5 7\n"
     ]
    },
    {
     "name": "stdout",
     "output_type": "stream",
     "text": [
      "3\n"
     ]
    }
   ],
   "source": [
    "N = int(input())\n",
    "\n",
    "def Is_prime_num(x):\n",
    "    if x == 1:\n",
    "        return False\n",
    "    \n",
    "    for i in range(2, int(x**0.5) + 1):\n",
    "        if x % i == 0:\n",
    "            return False\n",
    "        \n",
    "    return True\n",
    "\n",
    "prime_num = 0 \n",
    "\n",
    "num_list = list(map(int, input().split()))\n",
    "\n",
    "for i in range(N):\n",
    "    if Is_prime_num(num_list[i]) == True:\n",
    "        prime_num += 1\n",
    "\n",
    "print(prime_num)\n",
    "\n",
    "# input\n",
    "# 4\n",
    "# 1 3 5 7"
   ]
  },
  {
   "cell_type": "markdown",
   "id": "1ac46d66-5b47-4d2d-8a28-7b854bbbbf32",
   "metadata": {},
   "source": [
    "## 소수 찾기2\n",
    "\n",
    "`-` 자연수 M과 N이 주어질 때 M이상 N이하의 자연수 중 소수인 것을 모두 골라 이들 소수의 합과 최솟값을 찾는 프로그램을 작성하시오\n",
    "\n",
    "`-` 만약 N과 M사이에 소수가 없다면 1을 출력하시오"
   ]
  },
  {
   "cell_type": "code",
   "execution_count": 16,
   "id": "bc21ac87-8e90-46ea-b21a-a73f0217c8bf",
   "metadata": {},
   "outputs": [
    {
     "name": "stdin",
     "output_type": "stream",
     "text": [
      " 60\n",
      " 100\n"
     ]
    },
    {
     "name": "stdout",
     "output_type": "stream",
     "text": [
      "620\n",
      "61\n"
     ]
    }
   ],
   "source": [
    "N = int(input())\n",
    "M = int(input())\n",
    "\n",
    "def Is_prime_num(x):\n",
    "    if x == 1:\n",
    "        return False\n",
    "    \n",
    "    for i in range(2, int(x**0.5)+1):\n",
    "        if x % i == 0:\n",
    "            return False\n",
    "    return True\n",
    "\n",
    "prime_list = []\n",
    "for j in range(N, M+1):\n",
    "    if Is_prime_num(j) == True:\n",
    "        prime_list.append(j)\n",
    "\n",
    "if len(prime_list) == 0:\n",
    "    print(-1)\n",
    "else:\n",
    "    print(sum(prime_list))\n",
    "    print(min(prime_list))\n",
    "    \n",
    "# input\n",
    "# 60\n",
    "# 100"
   ]
  },
  {
   "cell_type": "markdown",
   "id": "56526e82-8091-44cd-ba28-54d4e1f582e1",
   "metadata": {},
   "source": [
    "## 에라토스테네스의 체를 통한 소수 찾기(소수 찾기2 다른 풀이)"
   ]
  },
  {
   "cell_type": "markdown",
   "id": "6cd00e49-762e-4cb9-a1ff-5c843be8a441",
   "metadata": {},
   "source": [
    "`-` N과M은 10000이하의 자연수 이므로 미리 에라토스테네스의 체를 통해 소수를 구해놓자 "
   ]
  },
  {
   "cell_type": "code",
   "execution_count": 19,
   "id": "9ed40105-e5b6-4d94-baf8-abf71349c117",
   "metadata": {},
   "outputs": [
    {
     "name": "stdin",
     "output_type": "stream",
     "text": [
      " 60\n",
      " 100\n"
     ]
    },
    {
     "name": "stdout",
     "output_type": "stream",
     "text": [
      "620\n",
      "61\n"
     ]
    }
   ],
   "source": [
    "N = int(input())\n",
    "M = int(input())\n",
    "\n",
    "n = 10000\n",
    "m = int(n**0.5)\n",
    "prime_list = [False, False] + [True] * (n-1)\n",
    "\n",
    "for i in range(2, m+1):\n",
    "    if prime_list[i] == True:\n",
    "        for j in range(2*i, n+1, i):\n",
    "            prime_list[j] = False\n",
    "            \n",
    "prime_num_list = [ x for x in range(N, M+1) if prime_list[x] == True]\n",
    "\n",
    "if len(prime_num_list) == 0:\n",
    "    print(-1)\n",
    "\n",
    "else:\n",
    "    print(sum(prime_num_list))\n",
    "    print(min(prime_num_list))\n",
    "    \n",
    "# input은 위와 동일"
   ]
  },
  {
   "cell_type": "markdown",
   "id": "dd66aca2-2f91-4234-b3c4-d51d42265268",
   "metadata": {},
   "source": [
    "```python\n",
    "if prime_list[i] == True:\n",
    "```\n",
    "`-` 위 부분은 아래와 같이 해도 됨\n",
    "```python\n",
    "if prime_list[i]:\n",
    "```\n",
    "```python \n",
    "prime_list[i] 자체가 True or False임\n",
    "```"
   ]
  },
  {
   "cell_type": "markdown",
   "id": "6d5cff54-e883-4a49-89cd-c7fd86389157",
   "metadata": {},
   "source": [
    "## 소인수분해\n",
    "\n",
    "`-` 정수 N이 주어졌을 때, 소인수분해하는 프로그램을 작성하시오"
   ]
  },
  {
   "cell_type": "code",
   "execution_count": 66,
   "id": "edf5f6bc-a0ca-4946-ba64-d90bc3f90c56",
   "metadata": {},
   "outputs": [
    {
     "name": "stdin",
     "output_type": "stream",
     "text": [
      " 1001\n"
     ]
    },
    {
     "name": "stdout",
     "output_type": "stream",
     "text": [
      "7\n",
      "11\n",
      "13\n"
     ]
    }
   ],
   "source": [
    "import sys\n",
    "\n",
    "n = 3164\n",
    "m = int(n**0.5)\n",
    "prime_nums = [False, False] + [True]*(n-1)\n",
    "\n",
    "for i in range(2, m+1):\n",
    "    if prime_nums[i] == True:\n",
    "        for j in range(2*i, n+1, i):\n",
    "            prime_nums[j] = False\n",
    "            \n",
    "N = int(input())\n",
    "M = int(N**0.5)\n",
    "\n",
    "\n",
    "def factorization_into_primes(x): \n",
    "    if x == 1:\n",
    "        sys.exit(0)\n",
    "        \n",
    "    stack = 0\n",
    "    mul = 1\n",
    "    for k in range(2, M+1):\n",
    "        if prime_nums[k] == False:\n",
    "            continue\n",
    "        \n",
    "        else:\n",
    "            l = x/k\n",
    "            while l == int(l):\n",
    "                print(k)\n",
    "                mul *= k\n",
    "                stack += 1\n",
    "                l = l/k\n",
    "\n",
    "    if stack == 0:\n",
    "        print(x)\n",
    "\n",
    "    elif mul != N:\n",
    "        print(int(x/mul))\n",
    "\n",
    "# input\n",
    "# 1001"
   ]
  },
  {
   "cell_type": "markdown",
   "id": "d1ff64a0-d9cd-4651-882d-be4d9e679ebf",
   "metadata": {},
   "source": [
    "## 소수 구하기\n",
    "\n",
    "`-` M이상 N이하의 소수를 모두 출력하는 프로그램을 작성하시오"
   ]
  },
  {
   "cell_type": "code",
   "execution_count": 7,
   "id": "3e518eea-1a89-44a2-9ea4-20fefb351531",
   "metadata": {},
   "outputs": [
    {
     "name": "stdin",
     "output_type": "stream",
     "text": [
      " 3 16\n"
     ]
    },
    {
     "name": "stdout",
     "output_type": "stream",
     "text": [
      "3\n",
      "5\n",
      "7\n",
      "11\n",
      "13\n"
     ]
    }
   ],
   "source": [
    "n = 1000000\n",
    "m = int(n**0.5)\n",
    "prime_num_list = [False, False] + [True]*(n-1)\n",
    "\n",
    "for i in range(2, m+1):\n",
    "    if prime_num_list[i] == True:\n",
    "        \n",
    "        for j in range(2*i, n+1, i):\n",
    "            prime_num_list[j] = False\n",
    "            \n",
    "M, N = map(int, input().split())\n",
    "\n",
    "prime_num = [x for x in range(M, N+1) if prime_num_list[x] == True]\n",
    "\n",
    "for k in range(len(prime_num)):\n",
    "    print(prime_num[k])\n",
    "          \n",
    "# input\n",
    "# 3 16"
   ]
  },
  {
   "cell_type": "markdown",
   "id": "d8de7429-de39-4055-98c7-c31af3d7dde5",
   "metadata": {},
   "source": [
    "## 베르트랑 공준\n",
    "\n",
    "`-` 베르트랑 공준은 임의의 자연수 n에 대하여, n보다 크고, 2n보다 작거나 같은 소수는 적어도 하나 존재한다는 내용을 담고 있다\n",
    "\n",
    "`-` 예를 들어, 10보다 크고, 20보다 작거나 같은 소수는 4개가 있다 (11, 13, 17, 19)\n",
    "\n",
    "`-` 또, 14보다 크고, 28보다 작거나 같은 소수는 3개가 있다 (17,19, 23)\n",
    "\n",
    "`-` 자연수 n이 주어졌을 때, n보다 크고, 2n보다 작거나 같은 소수의 개수를 구하는 프로그램을 작성하시오"
   ]
  },
  {
   "cell_type": "code",
   "execution_count": 25,
   "id": "9f1b8ad3-f85b-4c22-9d77-cda48e770a69",
   "metadata": {},
   "outputs": [
    {
     "name": "stdin",
     "output_type": "stream",
     "text": [
      " 1\n"
     ]
    },
    {
     "name": "stdout",
     "output_type": "stream",
     "text": [
      "1\n"
     ]
    },
    {
     "name": "stdin",
     "output_type": "stream",
     "text": [
      " 10\n"
     ]
    },
    {
     "name": "stdout",
     "output_type": "stream",
     "text": [
      "4\n"
     ]
    },
    {
     "name": "stdin",
     "output_type": "stream",
     "text": [
      " 13\n"
     ]
    },
    {
     "name": "stdout",
     "output_type": "stream",
     "text": [
      "3\n"
     ]
    },
    {
     "name": "stdin",
     "output_type": "stream",
     "text": [
      " 100\n"
     ]
    },
    {
     "name": "stdout",
     "output_type": "stream",
     "text": [
      "21\n"
     ]
    },
    {
     "name": "stdin",
     "output_type": "stream",
     "text": [
      " 1000\n"
     ]
    },
    {
     "name": "stdout",
     "output_type": "stream",
     "text": [
      "135\n"
     ]
    },
    {
     "name": "stdin",
     "output_type": "stream",
     "text": [
      " 10000\n"
     ]
    },
    {
     "name": "stdout",
     "output_type": "stream",
     "text": [
      "1033\n"
     ]
    },
    {
     "name": "stdin",
     "output_type": "stream",
     "text": [
      " 100000\n"
     ]
    },
    {
     "name": "stdout",
     "output_type": "stream",
     "text": [
      "8392\n"
     ]
    },
    {
     "name": "stdin",
     "output_type": "stream",
     "text": [
      " 0\n"
     ]
    }
   ],
   "source": [
    "n = 123456 * 2\n",
    "m = int(n**0.5)\n",
    "prime_nums = [False, False] + [True]*(n-1)\n",
    "\n",
    "for i in range(2, m+1):\n",
    "    if prime_nums[i] == True:\n",
    "        \n",
    "        for j in range(2*i, n+1, i):\n",
    "            prime_nums[j] = False\n",
    "            \n",
    "def prime_number(num):\n",
    "    print(len([x for x in range(num+1, 2*num+1) if prime_nums[x] == True])) \n",
    "                  \n",
    "while True:\n",
    "    n = int(input())   \n",
    "    if n == 0:\n",
    "        break\n",
    "    prime_number(n)\n",
    "\n",
    "# input\n",
    "# 1\n",
    "# 10\n",
    "# 13\n",
    "# 100\n",
    "# 1000\n",
    "# 10000\n",
    "# 100000\n",
    "# 0"
   ]
  },
  {
   "cell_type": "markdown",
   "id": "2a55fae5-799b-4312-9004-a95b1dac44c6",
   "metadata": {},
   "source": [
    "## 골드바흐의 추측\n",
    "\n",
    "`-` 짝수를 두 소수의 합으로 나타내는 표현을 그 수의 골드바흐 파티션이라고 한다\n",
    "\n",
    "`-` 2보다 큰 짝수 n이 주어졌을 때, n의 골드바흐 파티션을 출력하는 프로그램을 작성하시오\n",
    "\n",
    "`-` 만약 가능한 n의 골드바흐 파티션이 여러 가지인 경우에는 두 소수의 차이가 가장 작은 것을 출력한다"
   ]
  },
  {
   "cell_type": "markdown",
   "id": "ae9cd66b-cac2-4d68-9cdc-f91361ea5033",
   "metadata": {},
   "source": [
    "`-` 신기한점\n",
    "\n",
    "```python\n",
    "n = 10000\n",
    "m = int(n**0.5)\n",
    "prime_num_list = [False, False] + [True]*(n-1)\n",
    "\n",
    "for i in range(2, m+1):\n",
    "    if prime_num_list[i] == True:\n",
    "        \n",
    "        for j in range(2*i, n+1, i):\n",
    "            prime_num_list[j] = False\n",
    "\n",
    "prime_num = [x for x in range(2, n+1) if prime_num_list[x] == True]\n",
    "\n",
    "### 여기까지 동일\n",
    "\n",
    "last_prime_num = [x for x in range(2, 5000) if prime_num_list[x] == True].reverse()\n",
    "type(last_prime_num)\n",
    "```\n",
    "`-` 위의 코드에서 `type(last_prime_num)`의 결과는 `Nonetype`임\n",
    "\n",
    "```python\n",
    "### 동일 부분 생략\n",
    "\n",
    "last_prime_num = [x for x in range(2, 5000) if prime_num_list[x] == True]\n",
    "last_prime_num.reverse()\n",
    "type(last_prime_num)\n",
    "```\n",
    "`-` 위의 코드에서 `type(last_prime_num)`의 결과는 `list`임\n",
    "\n",
    "`-` 무슨 차이일까?"
   ]
  },
  {
   "cell_type": "code",
   "execution_count": 71,
   "id": "cffc672f-1c07-4c7a-a2a9-904d920d4659",
   "metadata": {},
   "outputs": [
    {
     "name": "stdin",
     "output_type": "stream",
     "text": [
      " 1\n",
      " 12\n"
     ]
    },
    {
     "name": "stdout",
     "output_type": "stream",
     "text": [
      "5 7\n"
     ]
    }
   ],
   "source": [
    "n = 10000\n",
    "m = int(n**0.5)\n",
    "prime_num_list = [False, False] + [True]*(n-1)\n",
    "\n",
    "for i in range(2, m+1):\n",
    "    if prime_num_list[i] == True:\n",
    "        \n",
    "        for j in range(2*i, n+1, i):\n",
    "            prime_num_list[j] = False\n",
    "\n",
    "prime_num = [x for x in range(2, n+1) if prime_num_list[x] == True]\n",
    "\n",
    "\n",
    "last_prime_num = [x for x in range(2, 5000) if prime_num_list[x] == True]\n",
    "last_prime_num.reverse()\n",
    "p = len(prime_num)\n",
    "\n",
    "T = int(input())\n",
    "for i in range(T):\n",
    "    N = int(input())\n",
    "    \n",
    "    for j in range(N//2, N+1):\n",
    "        if j in prime_num and N - j in prime_num:\n",
    "            print(N - j, j)\n",
    "            break\n",
    "\n",
    "# input\n",
    "# 1\n",
    "# 12"
   ]
  },
  {
   "cell_type": "markdown",
   "id": "59aa42da-849c-40e3-b5bc-1b20240f13af",
   "metadata": {},
   "source": [
    "`-` 위의 코드는 시간이 매우 오래 걸린다"
   ]
  },
  {
   "cell_type": "markdown",
   "id": "687d0545-b88f-4d66-86cf-8313b25b7d01",
   "metadata": {},
   "source": [
    "`-` 새로 만들었음"
   ]
  },
  {
   "cell_type": "markdown",
   "id": "4e4272a4-2880-4bb1-9651-4db42069f9da",
   "metadata": {},
   "source": [
    "`-` 시간이 $\\frac{1}{4}$이 됐다 : 2344ms --> 556ms"
   ]
  },
  {
   "cell_type": "code",
   "execution_count": 78,
   "id": "67e6bb1b-bcfb-4376-a52e-d6d18dd6d720",
   "metadata": {},
   "outputs": [
    {
     "name": "stdin",
     "output_type": "stream",
     "text": [
      " 1\n",
      " 12\n"
     ]
    },
    {
     "name": "stdout",
     "output_type": "stream",
     "text": [
      "5 7\n"
     ]
    }
   ],
   "source": [
    "import sys\n",
    "\n",
    "n = 10000\n",
    "m = int(n**0.5)\n",
    "prime_num_list = [False, False] + [True]*(n-1)\n",
    "\n",
    "for i in range(2, m+1):\n",
    "    if prime_num_list[i]:\n",
    "        \n",
    "        for j in range(2*i, n+1, i):\n",
    "            prime_num_list[j] = False\n",
    "\n",
    "T = int(input())\n",
    "for i in range(T):\n",
    "    N = int(sys.stdin.readline())\n",
    "    \n",
    "    for j in range(N//2, N+1):\n",
    "        if prime_num_list[j] and prime_num_list[N - j]:\n",
    "            print(N - j, j)\n",
    "            break\n",
    "\n",
    "# input\n",
    "# 1\n",
    "# 12"
   ]
  },
  {
   "cell_type": "markdown",
   "id": "db05da18-ca60-437f-9045-ab4bab65e58f",
   "metadata": {},
   "source": [
    "`-` 더 줄이고 싶다\n",
    "\n",
    "`-` 시간이 96ms로 단축됨\n",
    "\n",
    "`-` [$\\star\\star\\star$] 여러번 반복하여 입력을 받는 경우에는 `input()` 대신 `sys.stdin.readline()` 사용 [$\\star\\star\\star$]"
   ]
  },
  {
   "cell_type": "code",
   "execution_count": null,
   "id": "5eaa4e76-3df7-4c25-83dd-b635e285c5b7",
   "metadata": {},
   "outputs": [],
   "source": []
  }
 ],
 "metadata": {
  "kernelspec": {
   "display_name": "Python 3 (ipykernel)",
   "language": "python",
   "name": "python3"
  },
  "language_info": {
   "codemirror_mode": {
    "name": "ipython",
    "version": 3
   },
   "file_extension": ".py",
   "mimetype": "text/x-python",
   "name": "python",
   "nbconvert_exporter": "python",
   "pygments_lexer": "ipython3",
   "version": "3.8.11"
  }
 },
 "nbformat": 4,
 "nbformat_minor": 5
}
