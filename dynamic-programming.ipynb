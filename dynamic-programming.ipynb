{
 "cells": [
  {
   "cell_type": "markdown",
   "id": "cd95e575-8122-45f9-924b-8145997b4df5",
   "metadata": {},
   "source": [
    "# 동적 계획법 (Dynamic Programming)"
   ]
  },
  {
   "cell_type": "markdown",
   "id": "63c6d7de-cbfd-41a5-af25-3ce29ed00dba",
   "metadata": {},
   "source": [
    "## 피보나치 함수\n",
    "- 문제가 길어서 출처를 남김: [백준 피보나치 함수 문제](https://www.acmicpc.net/problem/1003)"
   ]
  },
  {
   "cell_type": "markdown",
   "id": "0e73f5b0-404b-4cc4-899f-3f0063131fdf",
   "metadata": {},
   "source": [
    "`-` 직접 0과 1이 몇번 출력되는지 계산해도 된다\n",
    "\n",
    "`-` 근데 규칙을 보면 출력되는 횟수의 합이 피보나치 수열을 따름\n",
    "\n",
    "`-` 그리고 0이 출력되는 횟수가 1이 출력되는 횟수보다 1이 더 작다 (fibo(3) 이상 부터)\n",
    "\n",
    "`-` fibo(1) = 5이므로 0은 5 // 2 번 1은 5 - 5 // 2번 출력됨"
   ]
  },
  {
   "cell_type": "markdown",
   "id": "ef4469ec-eaa2-4b71-b1c2-1b9b2bc899f8",
   "metadata": {},
   "source": [
    "```python\n",
    "T = int(input())\n",
    "\n",
    "def fibo(n):\n",
    "    fir_fibo = 0\n",
    "    sec_fibo = 1\n",
    "    \n",
    "    for i in range(n):\n",
    "        next_fibo = fir_fibo + sec_fibo\n",
    "        fir_fibo = sec_fibo\n",
    "        sec_fibo = next_fibo\n",
    "        \n",
    "    return next_fibo\n",
    "\n",
    "for i in range(T):\n",
    "    N = int(input())\n",
    "    \n",
    "    if N == 0:\n",
    "        print(1, 0)\n",
    "    elif N == 1:\n",
    "        print(0, 1) \n",
    "    elif N > 1:\n",
    "        fibo_N = fibo(N)\n",
    "        print(fibo_N // 2, fibo_N - (fibo_N // 2))\n",
    "```        "
   ]
  },
  {
   "cell_type": "markdown",
   "id": "229f80a3-8c77-4507-8c40-2d88255af76e",
   "metadata": {},
   "source": [
    "`-` 위의 코드는 틀렸다\n",
    "\n",
    "`-` 계산해보니 0출력 횟수와 1출력 횟수 차이는 1이 아니었음\n",
    "\n",
    "`-` fibo(5)의 경우 0은 3번, 1은 5번 출력함\n",
    "\n",
    "`-` fibo(n)일 떄 0은 fibo(n-1)번 1은 fibo(n)번 출력함 (n > 1)"
   ]
  },
  {
   "cell_type": "code",
   "execution_count": 42,
   "id": "a3f7885e-63f0-4d51-8b29-078583849e9d",
   "metadata": {},
   "outputs": [
    {
     "name": "stdin",
     "output_type": "stream",
     "text": [
      " 3\n",
      " 0\n"
     ]
    },
    {
     "name": "stdout",
     "output_type": "stream",
     "text": [
      "1 0\n"
     ]
    },
    {
     "name": "stdin",
     "output_type": "stream",
     "text": [
      " 1\n"
     ]
    },
    {
     "name": "stdout",
     "output_type": "stream",
     "text": [
      "0 1\n"
     ]
    },
    {
     "name": "stdin",
     "output_type": "stream",
     "text": [
      " 3\n"
     ]
    },
    {
     "name": "stdout",
     "output_type": "stream",
     "text": [
      "1 2\n"
     ]
    }
   ],
   "source": [
    "T = int(input())\n",
    "\n",
    "def fibo(n):\n",
    "    if n <= 1:\n",
    "        return n\n",
    "    \n",
    "    fir_fibo = 0\n",
    "    sec_fibo = 1\n",
    "    \n",
    "    for i in range(n-1):\n",
    "        next_fibo = fir_fibo + sec_fibo\n",
    "        fir_fibo = sec_fibo\n",
    "        sec_fibo = next_fibo\n",
    "        \n",
    "    return next_fibo\n",
    "\n",
    "for i in range(T):\n",
    "    N = int(input())\n",
    "    \n",
    "    if N == 0:\n",
    "        print(1, 0) \n",
    "    elif N == 1:\n",
    "        print(0, 1)       \n",
    "    elif N > 1:\n",
    "        print(fibo(N-1), fibo(N)) "
   ]
  },
  {
   "cell_type": "markdown",
   "id": "f041bdff-23b7-44ce-953b-92be544074fd",
   "metadata": {},
   "source": [
    "## 신나는 함수 실행\n",
    "\n",
    "- 문제 출처: [백준 9184번](https://www.acmicpc.net/problem/9184)"
   ]
  },
  {
   "cell_type": "code",
   "execution_count": 24,
   "id": "322b12bf-60fb-46e9-9117-7932a3914177",
   "metadata": {},
   "outputs": [
    {
     "name": "stdin",
     "output_type": "stream",
     "text": [
      " 1 1 1\n"
     ]
    },
    {
     "name": "stdout",
     "output_type": "stream",
     "text": [
      "w(1, 1, 1) = 2\n"
     ]
    },
    {
     "name": "stdin",
     "output_type": "stream",
     "text": [
      " 2 2 2\n"
     ]
    },
    {
     "name": "stdout",
     "output_type": "stream",
     "text": [
      "w(2, 2, 2) = 4\n"
     ]
    },
    {
     "name": "stdin",
     "output_type": "stream",
     "text": [
      " 10 4 6\n"
     ]
    },
    {
     "name": "stdout",
     "output_type": "stream",
     "text": [
      "w(10, 4, 6) = 523\n"
     ]
    },
    {
     "name": "stdin",
     "output_type": "stream",
     "text": [
      " 50 50 50\n"
     ]
    },
    {
     "name": "stdout",
     "output_type": "stream",
     "text": [
      "w(50, 50, 50) = 1048576\n"
     ]
    },
    {
     "name": "stdin",
     "output_type": "stream",
     "text": [
      " -1 7 18\n"
     ]
    },
    {
     "name": "stdout",
     "output_type": "stream",
     "text": [
      "w(-1, 7, 18) = 1\n"
     ]
    },
    {
     "name": "stdin",
     "output_type": "stream",
     "text": [
      " -1 -1 -1\n"
     ]
    }
   ],
   "source": [
    "w_dict = {(0,0,0):1}\n",
    "\n",
    "def w(a, b, c):\n",
    "    if (a, b, c) in w_dict:\n",
    "        return w_dict[(a, b, c)]\n",
    "    \n",
    "    if a <= 0 or b <= 0 or c <= 0:\n",
    "        return 1\n",
    "    elif a > 20 or b > 20 or c > 20:\n",
    "        return w(20, 20, 20)\n",
    "    elif a < b and b < c:\n",
    "        w_dict[(a, b, c)] = w(a, b, c-1) + w(a, b-1, c-1) - w(a, b-1, c)\n",
    "    else:\n",
    "        w_dict[(a, b, c)] =  w(a-1, b, c) + w(a-1, b-1, c) + w(a-1, b, c-1) - w(a-1, b-1, c-1)\n",
    "    \n",
    "    return w_dict[(a, b, c)]\n",
    "\n",
    "while True:\n",
    "    A, B, C = map(int, input().split())\n",
    "    \n",
    "    if A == B == C == -1:\n",
    "        break\n",
    "    \n",
    "    print('w(%s, %s, %s) = %s' % (A, B, C, w(A, B, C)))"
   ]
  },
  {
   "cell_type": "markdown",
   "id": "afa1f0f7-eb57-4752-a7c8-f47d7e4f22c2",
   "metadata": {
    "tags": []
   },
   "source": [
    "## 파도반 수열\n",
    "\n",
    "- 문제 출처: [백준 9461번](https://www.acmicpc.net/problem/9461)"
   ]
  },
  {
   "cell_type": "markdown",
   "id": "ba200620-8a47-4dbf-8a8b-39bcf09ed4d3",
   "metadata": {},
   "source": [
    "`-` 점화식: $f(n) = f(n-2)+f(n-3)$"
   ]
  },
  {
   "cell_type": "code",
   "execution_count": 25,
   "id": "075f4a04-3f07-4721-ba39-fd8332e630d6",
   "metadata": {},
   "outputs": [
    {
     "name": "stdin",
     "output_type": "stream",
     "text": [
      " 2\n",
      " 6\n"
     ]
    },
    {
     "name": "stdout",
     "output_type": "stream",
     "text": [
      "3\n"
     ]
    },
    {
     "name": "stdin",
     "output_type": "stream",
     "text": [
      " 12\n"
     ]
    },
    {
     "name": "stdout",
     "output_type": "stream",
     "text": [
      "16\n"
     ]
    }
   ],
   "source": [
    "padoban_sequence_dict = {1:1, 2:1, 3:1}\n",
    "\n",
    "def padoban_sequence(n):\n",
    "    if n in padoban_sequence_dict:\n",
    "        return padoban_sequence_dict[n]\n",
    "    \n",
    "    padoban_sequence_dict[n] = padoban_sequence(n-3) + padoban_sequence(n-2)\n",
    "    return  padoban_sequence_dict[n]\n",
    "\n",
    "T = int(input())\n",
    "for _ in range(T):\n",
    "    N = int(input())\n",
    "    print(padoban_sequence(N))"
   ]
  },
  {
   "cell_type": "markdown",
   "id": "8f405791-caf0-4216-8625-3d5b6a44b40e",
   "metadata": {},
   "source": [
    "## 01타일\n",
    "- 문제 출처: [백준 1904번](https://www.acmicpc.net/problem/1904)"
   ]
  },
  {
   "cell_type": "markdown",
   "id": "10d49b67-3e2e-48e6-903f-588e6565cfad",
   "metadata": {},
   "source": [
    "`-` 점화식 노가다로 구했음 ---> 만약 노가다로 찾을 수 없는 문제를 해결해야 한다면...\n",
    "\n",
    "`-` 피보나치 수열의 점화식과 동일함\n",
    "\n",
    "`-` 점화식: $f(n) = f(n-1) + f(n-2)$"
   ]
  },
  {
   "cell_type": "markdown",
   "id": "21a45fb9-324b-4630-9b5c-c12e0dc8e0af",
   "metadata": {},
   "source": [
    "- 이 코드는 재귀함수를 사용해 top-down으로 구현함\n",
    "\n",
    "`-` RecursionError 발생 ---> 재귀 깊이 초과\n",
    "\n",
    "`-` 그래서 재귀 깊이를 크게 하려고 했는데 조건을 보니 N이 최대 $10^6$ 이다\n",
    "\n",
    "`-` 그래서 그냥 bottom-up방식으로 코드를 짜기로 함\n",
    "\n",
    "`-` 재귀 깊이를 크게 했더니 ---> 시간 초과"
   ]
  },
  {
   "cell_type": "markdown",
   "id": "f1dd27b1-e658-4fd8-9cc9-eff367cf8dce",
   "metadata": {},
   "source": [
    "- top-down 코드"
   ]
  },
  {
   "cell_type": "code",
   "execution_count": 31,
   "id": "e8b92635-33b7-4d72-a424-b85c18e80e06",
   "metadata": {},
   "outputs": [
    {
     "name": "stdin",
     "output_type": "stream",
     "text": [
      " 4\n"
     ]
    },
    {
     "name": "stdout",
     "output_type": "stream",
     "text": [
      "5\n"
     ]
    }
   ],
   "source": [
    "tile_dict = {1:1, 2:2}\n",
    "\n",
    "def tile(n):\n",
    "    if n in tile_dict:\n",
    "        return tile_dict[n]\n",
    "    \n",
    "    tile_dict[n] = tile(n-1) + tile(n-2)\n",
    "    return tile_dict[n]\n",
    "\n",
    "N = int(input())\n",
    "print((tile(N) % 15746))"
   ]
  },
  {
   "cell_type": "markdown",
   "id": "a89ff072-479f-471e-a05f-905c2fa88cd5",
   "metadata": {},
   "source": [
    "- bottom-up 코드"
   ]
  },
  {
   "cell_type": "markdown",
   "id": "e8ef6f5a-8e06-4931-b65e-32529055217b",
   "metadata": {},
   "source": [
    "`-` 메모리 초과 ---> 왜? 이유 모름 "
   ]
  },
  {
   "cell_type": "code",
   "execution_count": 42,
   "id": "4fe60323-42f3-4d6e-88e0-371fc9ce43f6",
   "metadata": {},
   "outputs": [
    {
     "name": "stdin",
     "output_type": "stream",
     "text": [
      " 4\n"
     ]
    },
    {
     "name": "stdout",
     "output_type": "stream",
     "text": [
      "5\n"
     ]
    }
   ],
   "source": [
    "N = int(input())\n",
    "x = 10**6\n",
    "tile_list = [1, 1, 2] + [0]*(x-2)\n",
    "\n",
    "for i in range(3, N+1):\n",
    "    tile_list[i] = tile_list[i-1] + tile_list[i-2]\n",
    "\n",
    "print((tile_list[N] % 15746))"
   ]
  },
  {
   "cell_type": "markdown",
   "id": "88b16149-3604-4ddd-902c-3557e3c89510",
   "metadata": {},
   "source": [
    "`-` 그래서 다른 방법으로 코드 구현했음"
   ]
  },
  {
   "cell_type": "markdown",
   "id": "95245dd9-dfc0-4232-894d-57bd5e60d6e0",
   "metadata": {},
   "source": [
    "`-` 시간 초과(0.75초) ---> 왜?"
   ]
  },
  {
   "cell_type": "code",
   "execution_count": 52,
   "id": "982eb20b-95c2-4359-b848-f214c21ff51b",
   "metadata": {},
   "outputs": [
    {
     "name": "stdin",
     "output_type": "stream",
     "text": [
      " 4\n"
     ]
    },
    {
     "name": "stdout",
     "output_type": "stream",
     "text": [
      "5\n"
     ]
    }
   ],
   "source": [
    "N = int(input())\n",
    "\n",
    "if N <= 2:\n",
    "    print(N)\n",
    "else:\n",
    "    fir = 1\n",
    "    sec = 2\n",
    "    for i in range(N-2):\n",
    "        next_ = fir + sec\n",
    "        fir = sec\n",
    "        sec = next_\n",
    "    print(next_ % 15746)"
   ]
  },
  {
   "cell_type": "markdown",
   "id": "4ee89eb4-68fa-4b2a-85fd-9d5026b605df",
   "metadata": {},
   "source": [
    "`-` 참고: [https://m.blog.naver.com/hankrah/221863365092](https://m.blog.naver.com/hankrah/221863365092)\n",
    "\n",
    "`-` map()함수 사용\n",
    "\n",
    "`-` 메모리 초과 ---> append() 때문인 듯"
   ]
  },
  {
   "cell_type": "code",
   "execution_count": 56,
   "id": "52a21a1c-cc84-4dcc-a3b9-a7eaa93308e2",
   "metadata": {},
   "outputs": [
    {
     "name": "stdin",
     "output_type": "stream",
     "text": [
      " 4\n"
     ]
    },
    {
     "data": {
      "text/plain": [
       "5"
      ]
     },
     "execution_count": 56,
     "metadata": {},
     "output_type": "execute_result"
    }
   ],
   "source": [
    "N = int(input())\n",
    "\n",
    "def fibonacci(n):\n",
    "    fibo = [1, 2]\n",
    "    [*map(lambda _: fibo.append(sum(fibo[-2:])), range(2, n))]  ## tuple unpacking\n",
    "    return fibo[n-1]\n",
    "\n",
    "print(fibonacci(N) % 15746)"
   ]
  },
  {
   "cell_type": "markdown",
   "id": "813d0d38-d8f1-4130-94ad-132b286ca2f5",
   "metadata": {},
   "source": [
    "`-` 아래 코드는 정답임\n",
    "\n",
    "`-` 일단 재귀 함수로 구현한 top-down방식은 시간이 오래걸린다\n",
    "\n",
    "`-` 그러므로 bottom-up 방식을 사용했다\n",
    "\n",
    "`-` 근데 메모리초과가 발생했다 ---> 이유가 뭐지??\n",
    "\n",
    "`-` 처음엔 몰랐는데 생각해보니 나는 숫자를 다 계산한 다음에 15746으로 나눈 나머지를 구했다\n",
    "\n",
    "`-` N = 1000000 이라면 백만번째 피보나치 항의 값을 구하는 것인데 수가 얼마나 크나면 겁나 큼 ---> 수가 너무 커서 메모리 터짐\n",
    "\n",
    "`-` 그래서 N 번째 피보나치 수열을 구한 뒤에 15746으로 나누지 않고 15746으로 나눈 값들을 더해나갔다 ---> 이게 왜 성립함??\n",
    "\n",
    "`-` 편의를 위해 15746대신 7000을 쓰자\n",
    "\n",
    "`-` 다음은 피보나치 수열의 점화식과 같은 형태임\n",
    "\n",
    "`-` 10000 + 20000 = 30000, 20000 + 30000 = 50000\n",
    "\n",
    "`-` 일단 최종 결과인 50000을 7000으로 나눈 나머지는 1000 이다\n",
    "\n",
    "`-` 30000을 7000으로 나눈 나머지는 2000이다. 그러면 20000 + 30000 에서 30000 대신 2000을 써도 식이 성립할까?\n",
    "\n",
    "`-` 20000 + 2000 = 22000, 22000을 7000으로 나눈 나머지는 1000 이다 ---> 식이 성립함\n",
    "\n",
    "`-` 왜 성립하냐면 50000을 7000으로 나눌 것인데 50000을 20000과 30000으로 쪼갤 수 있음\n",
    "\n",
    "`-` (20000 + 30000) % 7000은 20000을 7000으로 나눈 나머지와 30000을 7000으로 나눈 나머지를 더한 것임 ---> 근데 더한 값이 7000보다 클 수 도 있으니 더한 값을 7000으로 또 나눠준다\n",
    "\n",
    "`-` 동그란 케잌으로 생각하자 한 번에 7000만큼의 케잌을 조각내어 퍼갈 수 있음(피자 8등분 하듯이 50000중에 7000만큼 조각 케잌 모양으로 퍼감) \n",
    "\n",
    "`-` 케잌크기가 50000이라면 7번 퍼가면 1000이 남는다\n",
    "\n",
    "`-` 근데 50000을 20000과 30000으로 나눈뒤에(50000만 크기의 동그란 케잌을 각각 20000, 30000크기인 반원형 케잌으로 cut) 20000에서 7000만큼 퍼가고 30000에서 7000만큼 퍼가도 된다\n",
    "\n",
    "`-` 20000에서 퍼가고 남은 케잌 조각과 30000에서 퍼가고 남은 케잌 조각을 합쳐서 다시 케잌을 만들고 이 케잌에서 7000을 퍼가면 결과적으로 50000에서 7000을 퍼간것과 동일함"
   ]
  },
  {
   "cell_type": "code",
   "execution_count": 57,
   "id": "9a2dc2fa-d483-4664-80a4-cbdc8ec6ebfd",
   "metadata": {},
   "outputs": [
    {
     "name": "stdin",
     "output_type": "stream",
     "text": [
      " 4\n"
     ]
    },
    {
     "name": "stdout",
     "output_type": "stream",
     "text": [
      "5\n"
     ]
    }
   ],
   "source": [
    "N = int(input())\n",
    "x = 10**6\n",
    "tile_list = [0]*(x+1)\n",
    "tile_list[1] = 1\n",
    "tile_list[2] = 2\n",
    "\n",
    "for i in range(3, N+1):\n",
    "    tile_list[i] = (tile_list[i-1] + tile_list[i-2]) % 15746\n",
    "    \n",
    "print(tile_list[N])"
   ]
  },
  {
   "cell_type": "markdown",
   "id": "2f064eb4-2dbe-4612-a5fe-e028d6f285c9",
   "metadata": {},
   "source": [
    "## RGB거리\n",
    "- 문제 출처: [백준 1149번](https://www.acmicpc.net/problem/1149)"
   ]
  },
  {
   "cell_type": "markdown",
   "id": "f01b6f4a-35e4-4187-aa2e-2f51fed943f9",
   "metadata": {},
   "source": [
    "`-` N = 10이라면 10개를 최소 비용으로 칠하는 방법은 9개까지 칠하는 방법이 여러개 있음(일단 $dp[9]$라고 하자) + 10번째 칠하는 방법은 3가지\n",
    "\n",
    "`-` $dp[9]+P_{10}$의 최소값이 $dp[10]$이 된다\n",
    "\n",
    "`-` 일반화하면 $\\min(dp[i-1]+P_i) = dp[i]$ ---> 아닌듯\n",
    "\n",
    "`-` `위의 논리`는 `그리디 알고리즘`이다. 항상 최소가 되는 비용을 선택하면 전체적으로도 비용이 최소가 되기를 바라는 것이다 ---> 하지만 틀렸다\n",
    "\n",
    "`-` $dp[10]$은 10개까지 색칠하는 여러 방법 ---> $\\min(dp[10]+P_{11}) \\to dp[11]$\n",
    "\n",
    "`-` $dp[11]$은 최소값 -> 100원이라 하자, 다음으로 싼게 110원\n",
    "\n",
    "`-` $dp[11]+P_{12} \\to dp[12]$ 이미 $dp[11]$이 최소값 --> 100원을 골라서 $dp[12]$는 200원임 다른건 뭐냐? 1원이 있고 1000원, 근데 1원은 이미 고른 색이어서 못 고름 \n",
    "\n",
    "`-` $dp[12]$는 200이 아니라 111원임 $dp[11]$이 최소지만 $dp[12]$는 최소가 아니었음 \n",
    "\n",
    "`-` 그럼 남음 방법 뭐임??\n",
    "\n",
    "`-` $dp[11]$을 최소값으로 골랐지만 $dp[12]$가 최소가 아닌 이유는 중복되는 색깔을 선택하지 못하기 때문\n",
    "\n",
    "`-` 그러면 $dp[11]$을 전체의 최소값으로 선택하지 말고 색깔마다 최소값을 고르자 ---> 11번째 색이 각각 (빨,초,파)인 경우에 최소값을 구하자 ---> 총 3가지가 존재함\n",
    "\n",
    "`-` 이제 $dp[12]$는 어떻게 구하냐면 $dp[11]$과 $P_{12}$의 조합이 총 6가지 존재\n",
    "\n",
    "`-` 6개 중에서 12번째 색이 빨, 파, 초가 존재하는데 각각 2개씩 있다 ---> 각각 2개 중에서 더 적은 비용을 고른다\n",
    "\n",
    "`-` 그러면 이제 12번째 색이 빨, 파, 초 일때의 전체 비용의 최소값이 존재 ---> $dp[12]$는 색깔별로 존재하니까 총 3개\n",
    "\n",
    "`-` 위와 같은 논리로 마지막 N번째까지 최소비용으로 선택하면 된다"
   ]
  },
  {
   "cell_type": "markdown",
   "id": "51ab4cd5-4e25-4305-b367-56ce7666b23c",
   "metadata": {},
   "source": [
    "- 처음 짠 코드 \n",
    "\n",
    "`-` 이상한 값을 출력함\n",
    "\n",
    "`-` $dp[i+1][0]$의 의미는 i번째 색깔로 0을 선택했다는 의미임 ---> 즉 $\\text{house_prices[i][0]}$ 이어야함\n",
    "\n",
    "`-` 근데 $\\text{house_prices}$가 0이 아니라 $dp[i]$의 값을 0으로 선택했음 ---> $dp[i][0]$ 이라면 $dp[i+1]$은 1 or 2이다 (0이 아님)\n",
    "\n",
    "`-` 틀렸습니다 "
   ]
  },
  {
   "cell_type": "code",
   "execution_count": 15,
   "id": "fcabde8d-b750-49c5-9c5b-9e1374e633e7",
   "metadata": {},
   "outputs": [
    {
     "name": "stdin",
     "output_type": "stream",
     "text": [
      " 3\n",
      " 26 40 83\n",
      " 49 60 57\n",
      " 13 89 99\n"
     ]
    },
    {
     "name": "stdout",
     "output_type": "stream",
     "text": [
      "102\n"
     ]
    }
   ],
   "source": [
    "N = int(input())\n",
    "house_prices = []\n",
    "\n",
    "for _ in range(N):\n",
    "    house_prices.append(list(map(int, input().split())))\n",
    "    \n",
    "dp = [[0]*3 for _ in range(1001)]\n",
    "dp[1] = house_prices[0]\n",
    "for i in range(1, N):\n",
    "    dp[i+1][0] = min(dp[i][0] + house_prices[i][1], dp[i][0] + house_prices[i][2])\n",
    "    dp[i+1][1] = min(dp[i][1] + house_prices[i][0], dp[i][1] + house_prices[i][2])\n",
    "    dp[i+1][2] = min(dp[i][2] + house_prices[i][0], dp[i][2] + house_prices[i][1])\n",
    "\n",
    "print(min(dp[N]))"
   ]
  },
  {
   "cell_type": "markdown",
   "id": "fe171ec7-163f-48b0-a895-ee0b10dbdf2b",
   "metadata": {},
   "source": [
    "- 디버깅한 코드\n",
    "\n",
    "`-` 맞았습니다"
   ]
  },
  {
   "cell_type": "code",
   "execution_count": 14,
   "id": "011e0135-7b96-43d9-8adc-9ab502c3c41a",
   "metadata": {},
   "outputs": [
    {
     "name": "stdin",
     "output_type": "stream",
     "text": [
      " 3\n",
      " 26 40 83\n",
      " 49 60 57\n",
      " 13 89 99\n"
     ]
    },
    {
     "name": "stdout",
     "output_type": "stream",
     "text": [
      "96\n"
     ]
    }
   ],
   "source": [
    "N = int(input())\n",
    "house_prices = []\n",
    "\n",
    "for _ in range(N):\n",
    "    house_prices.append(list(map(int, input().split())))\n",
    "    \n",
    "dp = [[0]*3 for _ in range(1001)]\n",
    "dp[1] = house_prices[0]\n",
    "for i in range(1, N):\n",
    "    dp[i+1][0] = min(dp[i][1] + house_prices[i][0], dp[i][2] + house_prices[i][0])\n",
    "    dp[i+1][1] = min(dp[i][0] + house_prices[i][1], dp[i][2] + house_prices[i][1])\n",
    "    dp[i+1][2] = min(dp[i][0] + house_prices[i][2], dp[i][1] + house_prices[i][2])\n",
    "    \n",
    "print(min(dp[N]))"
   ]
  },
  {
   "cell_type": "markdown",
   "id": "b8112fc3-452d-426c-988a-db303509ae96",
   "metadata": {
    "tags": []
   },
   "source": [
    "## 정수 삼각형\n",
    "- 문제 출처: [백준 1932번](https://www.acmicpc.net/problem/1932)"
   ]
  },
  {
   "cell_type": "markdown",
   "id": "9a84a1c7-ba1c-4681-bfb9-072bcc66d8b5",
   "metadata": {},
   "source": [
    "`-` 위의 RGB 문제와 같은 매커니즘이다\n",
    "\n",
    "`-` 그리디 알고리즘으로 접근하면 주어진 조건하에 항상 최대값을 골라야 하지만 항상 최대값을 고른다고 전체가 최대가 되는 것이 아니다(선택에 제약이 있기 때문: 인접한 곳만 선택 가능)\n",
    "\n",
    "`-` 현재 n층 i번째에 위치하고 있다면 n+1층으로 내려갈 때 n+1층의 i번째 or i+1번째만 선택 가능\n",
    "\n",
    "`-` N = 4일 때 $dp[4]$는 무엇일까?\n",
    "\n",
    "`-` 4층은 칸이 4개가 존재 ---> 이를 인덱스로 생각하면 0\\~3\n",
    "\n",
    "`-` 그러면 4층의 0번째, 4층의 1번째, 4층의 2번째, 4층의 3번째까지 가는 방법이 각각 여러개가 있을 것이다(대각선상에 존재하는 경우는 1개)\n",
    "\n",
    "`-` 그러면 각각 그 중에서 최대값을 선택함 --> 4층의 0번째까지 가는 방법 중 최대값, 4층의 1번째까지 가는 방법 중 최대값 ---> 총 4개 존재함: 인덱스가 4개 이므로\n",
    "\n",
    "`-` 그 4가지 방법 중 최대값이 4층까지 가는 방법 중 가장 큰 값이다"
   ]
  },
  {
   "cell_type": "code",
   "execution_count": 19,
   "id": "e256e70d-96bb-46b7-a258-477a839c0109",
   "metadata": {},
   "outputs": [
    {
     "name": "stdin",
     "output_type": "stream",
     "text": [
      " 5\n",
      " 7\n",
      " 3 8 \n",
      " 8 1 0\n",
      " 2 7 4 4 \n",
      " 4 5 2 6 5\n"
     ]
    },
    {
     "name": "stdout",
     "output_type": "stream",
     "text": [
      "30\n"
     ]
    }
   ],
   "source": [
    "N = int(input())\n",
    "triangle = []\n",
    "\n",
    "for _ in range(N):\n",
    "    triangle.append(list(map(int, input().split())))\n",
    "    \n",
    "dp = [[0]*x for x in range(1,501)]\n",
    "dp[0][0] = triangle[0][0] ## 0층 꼭짓점\n",
    "\n",
    "## 1층은 왼쪽 대각선과 오른쪽 대각선만 존재하고 대각선 사이에는 데이터가 없어서 따로 처리했음\n",
    "if N > 1:\n",
    "    dp[1][0] = triangle[1][0] + dp[0][0] ## 왼쪽 대각선\n",
    "    dp[1][1] = triangle[1][1] + dp[0][0] ## 오른쪽 대각선\n",
    "\n",
    "for i in range(1, N-1):\n",
    "    for k in range(1, i+1):\n",
    "        dp[i+1][0] = dp[i][0] + triangle[i+1][0]  ## 왼쪽 대각선\n",
    "        dp[i+1][k] = max(dp[i][k-1]+triangle[i+1][k] , dp[i][k]+triangle[i+1][k]) ## 대각선 사이\n",
    "        dp[i+1][i+1] = dp[i][i] + triangle[i+1][i+1] ## 오른쪽 대각선\n",
    "        \n",
    "print(max(dp[N-1]))"
   ]
  },
  {
   "cell_type": "markdown",
   "id": "209b0317-59d1-4cba-a8d7-194d684423c5",
   "metadata": {},
   "source": [
    "`-` 재채점 되어서 확인했더니 틀렸습니다 ---> N = 1일 때를 고려하지 않아 indexerror 발생\n",
    "\n",
    "`-` N = 1일 때를 고려하도록 수정했음 ---> 맞았습니다"
   ]
  },
  {
   "cell_type": "markdown",
   "id": "cfd4042d-88dd-4e07-9ec3-9e5c32ee3300",
   "metadata": {},
   "source": [
    "## 계단 오르기\n",
    "- 문제 출처: [백준 2579번](https://www.acmicpc.net/problem/2579)"
   ]
  },
  {
   "cell_type": "markdown",
   "id": "eb9505f9-da5f-43bd-8e93-32355e6d73a4",
   "metadata": {},
   "source": [
    "`-` 계단은 최대 300개, 칸 마다 점수는 10000이하의 자연수\n",
    "\n",
    "`-` 도착 지점은 무조건 밟아야 한다\n",
    "\n",
    "`-` 그래서 출발 지점부터 시작하지말고 도착 지점부터 시작한다고 생각했음\n",
    "\n",
    "`-` $dp[i]$ ---> 마지막으로 밟은 지점이 step의 i번째 인덱스일 때 점수가 최대가 되도록 하는 경로\n",
    "\n",
    "`-` $dp[i] = \\max(step[i] + dp[i-2] , step[i] + dp[i-1])$ ---> 아닌듯, 연속해서 3번 밟을 수 없음\n",
    "\n",
    "`-` $step[i] + dp[i-2]$는 상관없지만 $step[i] + dp[i-1]$는 상관있음   \n",
    "\n",
    "`-` $dp[i] = \\max(step[i] + step[i-1] + dp[i-3]),\\; \\max(step[i] + step[i-2] + dp[i-3])$\n",
    "\n",
    "`-` i번째 계단을 밟는데 i-1번째 계단과 i-2번째 계단을 밟았는지 밟지않았는지가 중요하다\n",
    "\n",
    "`-` 만약 i-1번째와 i-2번째 계단을 둘다 밟았다면 i번째 계단을 밟을 수 없다\n",
    "\n",
    "`-` 만약 i-1번째나 i-2번째 계단 중 한 곳만 밟았다면 i번째 계단을 밟을 수 있다\n",
    "\n",
    "`-` 만약 i-1번째나 i-2번째 계단을 둘다 밟지 않았으면 i번째 계단을 밟을 수 없다\n",
    "\n",
    "`-` 하나하나씩 써보자\n",
    "\n",
    "`-` $dp[0]$ = 도착 지점의 점수\n",
    "\n",
    "`-` $dp[1] = step[1]$ (0번쨰 계단 안밟음) , $step[1] + dp[0]$ (0번째 계단 밟음)\n",
    "\n",
    "`-` $dp[2] = step[2] + dp[0]$ (1번쨰 계단 안밟음, 0번째 계단 밟음), $step[2] + dp[1] (= step[1])$ (1번째 계단 밟음, 0번째 계단 안밟음)\n",
    "\n",
    "`-` $dp[3] = step[3] + dp[2] (= step[2] + dp[0])$ (2번쨰 계단 밟음, 1번째 계단 안밟음), $step[3] + dp[1] (= step[3] + dp[1] = \\max(step[1], step[1] + dp[0])$ (2번쨰 계단 안밟음, 1번째 계단 밟음) \n",
    "\n",
    "`-` 위에 틀린 부분이 있음, 규칙상 0번째 계단(도착 지점)은 무조건 밟아야 하는데 $dp[1](= step[1])$, $dp[2](= step[2] + step[1])$ 은 0번째 계단을 밟지 않았으므로 제외해야 함"
   ]
  },
  {
   "cell_type": "code",
   "execution_count": 57,
   "id": "259549fb-a819-4fd2-a776-10f9bf3619e2",
   "metadata": {},
   "outputs": [
    {
     "name": "stdin",
     "output_type": "stream",
     "text": [
      " 6\n",
      " 10\n",
      " 20\n",
      " 15\n",
      " 25\n",
      " 10\n",
      " 20\n"
     ]
    },
    {
     "name": "stdout",
     "output_type": "stream",
     "text": [
      "75\n"
     ]
    }
   ],
   "source": [
    "N = int(input())\n",
    "step = []\n",
    "for _ in range(N):\n",
    "    step.append(int(input()))\n",
    "\n",
    "step.reverse() ## 도착부터 시작할거임 --> 미로찾기할 때 출발부터 시작안하고 도착부터 시작하듯이\n",
    "dp = [[0] * 2 for _ in range(300)] ## dp[i][0] => i-1번째를 밟고 i-2번째를 안밟음, dp[i][1] => i-1번째를 안밟고 i-2번째를 밟음\n",
    "dp[0][0] = step[0]\n",
    "dp[0][1] = step[0]\n",
    "\n",
    "if N >= 2:\n",
    "    dp[1][0] = step[1] + step[0]\n",
    "    dp[1][1] = -(3*10**6) ## 0번째 계단은 무조건 밟아야 하는데 dp[1][1]은 0번째 계단을 안 밟음 --> 그래서 의도적으로 dp[1][1]을 경유하면 절대로 최대값이 나오지 안도록 값을 조정함\n",
    "\n",
    "if N >= 3:\n",
    "    dp[2][0] = -(3*10**6) ## dp[1][1]과 마찬가지임\n",
    "    dp[2][1] = step[2] + step[0]\n",
    "    \n",
    "for i in range(3, N):\n",
    "    dp[i][0] = step[i] + dp[i-1][1]\n",
    "    dp[i][1] = step[i] + max(dp[i-2][0], dp[i-2][1])\n",
    "    \n",
    "print(max(dp[N-1][0], dp[N-1][1], dp[N-2][0], dp[N-2][1])) ## 출발지점을 밟는 길과 밟지 않는 길 중에서 점수 획득이 가장 높은 것을 선택"
   ]
  },
  {
   "cell_type": "markdown",
   "id": "dbbed4eb-0c41-49d1-a4a9-c302ec449400",
   "metadata": {},
   "source": [
    "## 1로 만들기\n",
    "- 문제 출처: [백준 1463번](https://www.acmicpc.net/problem/1463)\n",
    "\n",
    "`-` 일단 내 생각: 3으로 나누는 것이 수를 1로 만드는데 가장 효과적이라 생각했음\n",
    "\n",
    "`-` 그래서 일단 3으로 나눈다 ---> 만약 3으로 나눠지지 않는다면??\n",
    "\n",
    "`-` 만약 1을 뺀 값이 3으로 나눠지면 1을 뺀다 ---> 그렇지 않다면 2로 나눈다 ---> 만약 2로도 나눠지지 않는다면?\n",
    "\n",
    "`-` 1을 뺀다\n",
    "\n",
    "`-` 만약 2의 거듭제곱수이면 2로만 나누기\n",
    "\n",
    "`-` 틀렸습니다"
   ]
  },
  {
   "cell_type": "markdown",
   "id": "ee9acad0-2c90-4a0b-8ff6-781b4db6ca16",
   "metadata": {},
   "source": [
    "```python\n",
    "num = N = int(input())\n",
    "numbers = [0]*(1+10**6)\n",
    "\n",
    "power_of_2 = {}\n",
    "i = 2\n",
    "j = 1\n",
    "\n",
    "while i < 10**6:\n",
    "    power_of_2[i] = j\n",
    "    j += 1\n",
    "    i *= 2\n",
    "\n",
    "while True:\n",
    "    if num < 2:\n",
    "        break\n",
    "    \n",
    "    if num in power_of_2:\n",
    "        numbers[1] = numbers[num] + power_of_2[num]\n",
    "        break\n",
    "        \n",
    "    if num % 3 == 0:\n",
    "        now_num = num // 3\n",
    "        \n",
    "        if numbers[now_num] == 0:\n",
    "            numbers[now_num] += 1 + numbers[num]\n",
    "        elif numbers[now_num] > 0:\n",
    "            numbers[now_num] = min(numbers[num] + 1, numbers[now_num])  \n",
    "        num = now_num\n",
    "        continue\n",
    "        \n",
    "    elif (num-1) % 3 == 0:\n",
    "        now_num = num - 1\n",
    "        \n",
    "        if numbers[now_num] == 0:\n",
    "            numbers[now_num] += 1 + numbers[num]  \n",
    "        elif numbers[now_num] > 0:\n",
    "            numbers[now_num] = min(numbers[num] + 1, numbers[now_num])  \n",
    "        num = now_num\n",
    "        continue\n",
    "        \n",
    "    elif num % 2 == 0:\n",
    "        now_num = num // 2\n",
    "        \n",
    "        if numbers[now_num] == 0:\n",
    "            numbers[now_num] += 1 + numbers[num]   \n",
    "        elif numbers[now_num] > 0:\n",
    "            numbers[now_num] = min(numbers[num] + 1, numbers[now_num])  \n",
    "        num = now_num\n",
    "        continue\n",
    "    else:\n",
    "        now_num = num - 1\n",
    "        \n",
    "        if numbers[now_num] == 0:\n",
    "            numbers[now_num] += 1 + numbers[num]\n",
    "        elif numbers[now_num] > 0:\n",
    "            numbers[now_num] = min(numbers[num] + 1, numbers[now_num])\n",
    "        num = now_num\n",
    "        \n",
    "    if num < 2:\n",
    "        break\n",
    "    \n",
    "print(numbers[1])    \n",
    "```"
   ]
  },
  {
   "cell_type": "markdown",
   "id": "9e593e07-5f1e-4ba6-bfc4-8e313b24130c",
   "metadata": {},
   "source": [
    "`-` 만약 number가 소인수로 2와 3만을 가지는 시점이 온다면?\n",
    "\n",
    "`-` $number = 2^a\\cdot 3^b$ \n",
    "\n",
    "`-` 1까지 만드려면 2로 a번 나누고 3으로 b번 나누면 됨 ---> a+b번 필요함\n",
    "\n",
    "`-` 그냥 모든 경우를 고려한다면?\n",
    "\n",
    "`-` N이 주어지면 N을 3으로 나누고 2로 나누고 1을 뺀다\n",
    "\n",
    "`-` 각각에 대해서 또 다시 3으로 나누고 2로 나누고 1을 뺀다\n",
    "\n",
    "`-` 이를 1이 될 때까지 반복\n",
    "\n",
    "`-` 음... 어떻게 함? 재귀로?\n",
    "\n",
    "`-` 디버깅 중...\n",
    "\n",
    "`-` 근데 위와 같이 하면 $N = 10^6$일 때 연산횟수가 커서 시간초과가 발생할 것 같음"
   ]
  },
  {
   "cell_type": "markdown",
   "id": "9703b5f5-60d0-48c7-a129-b35d8e82f05d",
   "metadata": {},
   "source": [
    "```python\n",
    "\n",
    "## 시간초과 ##\n",
    "N = int(input())\n",
    "numbers = [0]*(1+10**6)\n",
    "\n",
    "def divide3(x):\n",
    "    if x == 1:\n",
    "        return numbers[1]\n",
    "        \n",
    "    if x % 3 == 0:\n",
    "        if numbers[x // 3] == 0:\n",
    "            numbers[x // 3] += (numbers[x] + 1)   \n",
    "        else:\n",
    "            numbers[x // 3] = min(numbers[x] + 1, numbers[x // 3])                    \n",
    "        x //= 3 \n",
    "        divide3(x)\n",
    "        \n",
    "    if x % 2 == 0:\n",
    "        divide2(x) \n",
    "    sub1(x)\n",
    "\n",
    "def divide2(y): \n",
    "    if y == 1:\n",
    "        return numbers[1]\n",
    "    \n",
    "    if y % 2 == 0:\n",
    "        if numbers[y // 2] == 0:\n",
    "            numbers[y // 2] += (numbers[y] + 1)  \n",
    "        else:\n",
    "            numbers[y // 2] = min(numbers[y] + 1, numbers[y // 2])                    \n",
    "        y //= 2 \n",
    "        divide2(y)\n",
    "        \n",
    "    if y % 3 == 0:\n",
    "        divide3(y) \n",
    "    sub1(y)   \n",
    "        \n",
    "def sub1(z):\n",
    "    if z == 1:\n",
    "        return numbers[1]\n",
    "    \n",
    "    if z > 1:\n",
    "        if numbers[z-1] == 0:\n",
    "            numbers[z-1] += (numbers[z] + 1)  \n",
    "        else:\n",
    "            numbers[z-1] = min(numbers[z] + 1, numbers[z-1])                       \n",
    "        z -= 1 \n",
    "    \n",
    "    if z % 3 == 0:\n",
    "        divide3(z)\n",
    "            \n",
    "    if z % 2 == 0:\n",
    "        divide2(z)    \n",
    "    sub1(z)\n",
    "    \n",
    "divide3(N)\n",
    "divide2(N)\n",
    "sub1(N)\n",
    "\n",
    "print(numbers[1])\n",
    "```"
   ]
  },
  {
   "cell_type": "markdown",
   "id": "c97c7369-dfbd-4898-8d89-6842adf63774",
   "metadata": {},
   "source": [
    "`-` 굳이 1을 빼야할까?\n",
    "\n",
    "`-` 2나 3으로 나눠지지 않을 때만 1을 빼는 것이 좋을 것 같음\n",
    "\n",
    "`-` 하지만 10에 경우 위와 같이 하면 10 - 5 - 4 - 2 - 1\n",
    "\n",
    "`-` 정답은 10 - 9 - 3 - 1\n",
    "\n",
    "`-` 만약 1을 뺀 값이 $2^a\\cdot 3^b$ 꼴이라면 1을 빼자"
   ]
  },
  {
   "cell_type": "markdown",
   "id": "b2a0aa72-f720-4788-b7df-91bc7307a22f",
   "metadata": {},
   "source": [
    "- 이것도 틀리면 질문검색 볼거임\n",
    "\n",
    "`-` 5%에서 틀렸습니다...."
   ]
  },
  {
   "cell_type": "markdown",
   "id": "dbabc3e2-8b63-4428-b406-907ea4448735",
   "metadata": {},
   "source": [
    "```python\n",
    "num = N = int(input())\n",
    "numbers = [0]*(1+10**6)\n",
    "mul_2_3 = {}\n",
    "power_of_2 = {}\n",
    "i = 2\n",
    "j = 1\n",
    "\n",
    "while i < 10**6:\n",
    "    power_of_2[i] = j\n",
    "    j += 1\n",
    "    i *= 2\n",
    "    \n",
    "power_of_3 = {}\n",
    "i = 3\n",
    "j = 1\n",
    "\n",
    "while i < 10**6:\n",
    "    power_of_3[i] = j\n",
    "    j += 1\n",
    "    i *= 3\n",
    "    \n",
    "for i in range(1,13):\n",
    "    for j in range(1,20):\n",
    "        if list(power_of_3.keys())[i-1] * list(power_of_2.keys())[j-1] < 10**6:\n",
    "            mul_2_3[list(power_of_3.keys())[i-1] * list(power_of_2.keys())[j-1]] = i+j \n",
    "\n",
    "mul_2_3.update(power_of_2)\n",
    "mul_2_3.update(power_of_3)\n",
    "\n",
    "while True:\n",
    "    if num < 2:\n",
    "        break\n",
    "    \n",
    "    if num in mul_2_3:\n",
    "        numbers[1] = numbers[num] + mul_2_3[num]\n",
    "        break\n",
    "        \n",
    "    if num % 3 == 0:\n",
    "        now_num = num // 3\n",
    "        \n",
    "        if numbers[now_num] == 0:\n",
    "            numbers[now_num] += 1 + numbers[num]   \n",
    "        elif numbers[now_num] > 0:\n",
    "            numbers[now_num] = min(numbers[num] + 1, numbers[now_num])   \n",
    "        num = now_num\n",
    "        continue\n",
    "        \n",
    "    elif (num-1) in mul_2_3:\n",
    "        now_num = num - 1\n",
    "        \n",
    "        if numbers[now_num] == 0:\n",
    "            numbers[now_num] += 1 + numbers[num]\n",
    "        elif numbers[now_num] > 0:\n",
    "            numbers[now_num] = min(numbers[num] + 1, numbers[now_num])  \n",
    "        num = now_num\n",
    "        continue\n",
    "        \n",
    "    elif num % 2 == 0:\n",
    "        now_num = num // 2\n",
    "        \n",
    "        if numbers[now_num] == 0:\n",
    "            numbers[now_num] += 1 + numbers[num] \n",
    "        elif numbers[now_num] > 0:\n",
    "            numbers[now_num] = min(numbers[num] + 1, numbers[now_num])  \n",
    "        num = now_num\n",
    "        continue\n",
    "    else:\n",
    "        now_num = num - 1\n",
    "        \n",
    "        if numbers[now_num] == 0:\n",
    "            numbers[now_num] += 1 + numbers[num]     \n",
    "        elif numbers[now_num] > 0:\n",
    "            numbers[now_num] = min(numbers[num] + 1, numbers[now_num])\n",
    "        num = now_num\n",
    "        \n",
    "    if num < 2:\n",
    "        break\n",
    "    \n",
    "print(numbers[1])    \n",
    "```"
   ]
  },
  {
   "cell_type": "markdown",
   "id": "f98ccdce-7dda-4bab-a1bc-db3eb78907c4",
   "metadata": {},
   "source": [
    "`-` 질문검색 보고 옴 ---> 모든 경우를 탐색해 보자\n",
    "\n",
    "`-` 맞았습니다!!!\n",
    "\n",
    "`-` 위에서는 어렵게 생각했는지 모든 경우를 탐색하는 코드를 각각의 경우에 대해서 설계했는데 밑에서는 i의 값을 1씩 줄여나가면서 3가지 경우에 대해 탐색하도록 코드를 구성했음"
   ]
  },
  {
   "cell_type": "code",
   "execution_count": 1,
   "id": "7e38b03e-d359-4a15-b1d4-9eb61e2e8022",
   "metadata": {},
   "outputs": [
    {
     "name": "stdin",
     "output_type": "stream",
     "text": [
      " 11\n"
     ]
    },
    {
     "name": "stdout",
     "output_type": "stream",
     "text": [
      "4\n"
     ]
    }
   ],
   "source": [
    "i = N = int(input())\n",
    "dp = [0]*(1+10**6)\n",
    "\n",
    "while i > 1:\n",
    "    if i % 3 == 0:\n",
    "        if dp[i // 3] == 0:\n",
    "            dp[i // 3] += (1 + dp[i])\n",
    "        else:\n",
    "            dp[i // 3] = min(dp[i] + 1, dp[i // 3])\n",
    "            \n",
    "    if i % 2 == 0:\n",
    "        if dp[i // 2] == 0:\n",
    "            dp[i // 2] += (1 + dp[i])\n",
    "        else:\n",
    "            dp[i // 2] = min(dp[i] + 1, dp[i // 2])\n",
    "            \n",
    " \n",
    "    if dp[i-1] == 0:\n",
    "        dp[i-1] += (1 + dp[i])\n",
    "    else:\n",
    "        dp[i-1] = min(dp[i] + 1, dp[i-1]) \n",
    "    i -= 1\n",
    "    \n",
    "print(dp[1])"
   ]
  },
  {
   "cell_type": "markdown",
   "id": "37c639e6-ce54-4168-88ad-c1694e13db76",
   "metadata": {},
   "source": [
    "## 쉬운 계단 수\n",
    "- 문제 출처: [백준10844번](https://www.acmicpc.net/problem/10844)"
   ]
  },
  {
   "cell_type": "markdown",
   "id": "8c1b9336-e84f-4283-9db6-9eb4f5fd62ec",
   "metadata": {},
   "source": [
    "`-` N = 1일 때 9, N = 2일 때 17\n",
    "\n",
    "`-` N = 3일 때 32이었음(내가 손수 구함)\n",
    "\n",
    "`-` 다음과 같은 규칙이 바로 생각났음 ---> $dp[i+1] = 2\\times dp[i] - 2^{i-1}$ \n",
    "\n",
    "`-` 위 규칙에 따르면 N = 4일 때 60인데 손수 구할 용기가 안나서 검증없이 바로 코드로 구현함\n",
    "\n",
    "`-` ^^ 틀렸습니다\n",
    "\n",
    "`-` i가 어느 정도 커지면 음수가 된다\n",
    "\n",
    "`-` 규칙을 바꿔봄 ---> $dp[i+1] = 2\\times dp[i] - i$ \n",
    "\n",
    "`-` 일단 위의 규칙은 음수가 될 일은 절대 없음\n",
    "\n",
    "`-` 위 규칙에 따르면 N = 4일 때 61인데 손수 구할 용기가 안나서 검증없이 바로 코드로 구현함\n",
    "\n",
    "`-` 틀렸습니다 ^^\n",
    "\n",
    "`-` 이제  N = 4일 때 dp를 구해보자 ---> 손수 구해보니 N = 4일 때 61임 !!!! ---> 규칙이 틀렸나?\n",
    "\n",
    "`-` 일단 직관적으로 생각하면 $dp[i] = 2^{i-1}*9$\n",
    "\n",
    "`-` 왜냐하면 옆 자릿수와 차이가 1이여야 하므로 +1 or -1임 즉 2가지 경우이므로 2를 계속 곱하고 숫자가 1\\~9까지 9개이므로 9를 곱합\n",
    "\n",
    "`-` 하지만 9에 경우 -1은 가능하지만 +1은 없음 또 0에 경우 +1은 가능하지만 -1은 존재하지 않는다 ---> 차이만큼 빼줘야함\n",
    "\n",
    "`-` 위에 기반하면 N = 1: 9 - 0, N = 2: 18 - 1, N = 3: 36 - 4, N = 4: 72 - 11 ---> 규칙이 보이지 않음\n",
    "\n",
    "`-` 그리고 또 2자리는 1자리에 기반하여 만들고 3자리는 2자리에 기반하여 만듦 ex) 23 ---> 232 or 234, 232 ---> 2321 or 2323\n",
    "\n",
    "`-` N = 5일 때 118인지 확인할까?"
   ]
  },
  {
   "cell_type": "markdown",
   "id": "a9a100ca-1225-4752-b57f-62d84d146e24",
   "metadata": {},
   "source": [
    "```python\n",
    "N = int(input())\n",
    "dp = [0]*101\n",
    "dp[1] = 9\n",
    "\n",
    "for i in range(1, 100):\n",
    "    dp[i+1] = (2*dp[i] - i) % 1000000000\n",
    "    \n",
    "print(dp[N])\n",
    "```"
   ]
  },
  {
   "cell_type": "markdown",
   "id": "09630153-3c94-43e8-9967-8b911d2c0c55",
   "metadata": {},
   "source": [
    "`-` 질문검색 보고옴\n",
    "\n",
    "`-` 코드 대충 봐보니 i-1번째에 기반하여 i번째를 만드는 것 같았음\n",
    "\n",
    "`-` 끝자리가 0이나 9인 경우에는 다음 자리에 올 수 있는 숫자가 1개 뿐이므로 이를 고려하여 코드를 구성하자\n",
    "\n",
    "`-` 아니면 끝자리가 0\\~9 까지 10개이므로 배열을 10칸으로 만들자\n",
    "\n",
    "`-` $dp[i][j]$의 의미는 자릿수가 i인데 끝자리가 j인 경우임"
   ]
  },
  {
   "cell_type": "code",
   "execution_count": 103,
   "id": "91b16fc1-a8de-4ad1-b0b4-c5fe36857b64",
   "metadata": {},
   "outputs": [
    {
     "name": "stdin",
     "output_type": "stream",
     "text": [
      " 5\n"
     ]
    },
    {
     "name": "stdout",
     "output_type": "stream",
     "text": [
      "116\n"
     ]
    }
   ],
   "source": [
    "N = int(input())\n",
    "dp = [[0]*10 for _ in range(101)]\n",
    "\n",
    "for k in range(1, 10):\n",
    "    dp[1][k] = 1\n",
    "    \n",
    "    \n",
    "for i in range(1, 100):\n",
    "    for j in range(10):\n",
    "        if j == 0:\n",
    "            dp[i+1][j] = dp[i][j+1] % 1000000000 \n",
    "        elif j == 9:\n",
    "            dp[i+1][j] = dp[i][j-1] % 1000000000\n",
    "        else:\n",
    "            dp[i+1][j] = (dp[i][j+1] + dp[i][j-1]) % 1000000000\n",
    "            \n",
    "print(sum(dp[N]) % 1000000000)"
   ]
  },
  {
   "cell_type": "markdown",
   "id": "56f0cf1d-4136-4f7e-a8ab-023c7fd8a693",
   "metadata": {},
   "source": [
    "`-` 흐음 질문검색에서 아이디어를 가져온거라 정답을 맞춘게 맞춘게 아님\n",
    "\n",
    "`-` 옛날이었으면 풀었을 듯... 요새 안하다보니 감이 떨어짐"
   ]
  },
  {
   "cell_type": "markdown",
   "id": "6fc26661-4402-4dc1-a647-20304b08dd64",
   "metadata": {},
   "source": [
    "## 포도주 시식\n",
    "\n",
    "- 문제 출처: [백준 2156번](https://www.acmicpc.net/problem/2156)\n",
    "\n",
    "`-` 문제를 보자마자 전에 풀었던 [계단오르기](https://www.acmicpc.net/problem/2579)와 유사하다고 생각이 들었음\n",
    "\n",
    "`-` $\\operatorname{dp}[i]$는 두 종류가 있음 ---> $i-1$번째 와인을 마신 경우와 $i-1$번째 와인을 마시지 않은 경우 ---> 두 경우 중 최대값이 $\\operatorname{dp}[i]$임\n",
    "\n",
    "`-` $\\operatorname{dp}[i][1] = \\operatorname{wines}[i] + \\operatorname{dp}[i-1][0]$\n",
    "\n",
    "`-` $\\operatorname{dp}[i][0] = \\max(\\operatorname{wines}[i] + \\operatorname{dp}[i-2][0], \\operatorname{wines}[i] + \\operatorname{dp}[i-2][1], \\operatorname{wines}[i] + \\operatorname{dp}[i-3][1])$\n",
    "\n",
    "`-` $\\operatorname{dp}[i][0]$은 $i-1$번째 와인을 마시지 않은 경우\n",
    "\n",
    "`-` $\\operatorname{dp}[i][1]$는 $i-1$번째 와인을 마신 경우"
   ]
  },
  {
   "cell_type": "code",
   "execution_count": 16,
   "id": "c2e10591-b59a-4dc2-9bf4-580ab8d06897",
   "metadata": {},
   "outputs": [
    {
     "name": "stdin",
     "output_type": "stream",
     "text": [
      " 6\n",
      " 6\n",
      " 10\n",
      " 13\n",
      " 9\n",
      " 8\n",
      " 1\n"
     ]
    },
    {
     "name": "stdout",
     "output_type": "stream",
     "text": [
      "33\n"
     ]
    }
   ],
   "source": [
    "N = int(input())\n",
    "dp = [[0] * 2 for __ in range(10001)]\n",
    "wines = [0]\n",
    "\n",
    "for _ in range(N):\n",
    "    wine = int(input())\n",
    "    wines.append(wine)\n",
    "    \n",
    "dp[1][0] = wines[1]\n",
    "dp[1][1] = wines[1] + wines[0]\n",
    "\n",
    "if N > 1:\n",
    "    dp[2][0] = wines[2] \n",
    "    dp[2][1] = wines[2] + wines[1]\n",
    "\n",
    "for i in range(3, N+1):\n",
    "    dp[i][0] = max(wines[i] + dp[i-2][0], wines[i] + dp[i-2][1], wines[i] + dp[i-3][1])          \n",
    "    dp[i][1] = wines[i] + dp[i-1][0] \n",
    "\n",
    "print(max(dp[N][0], dp[N][1], dp[N-1][1]))"
   ]
  },
  {
   "cell_type": "markdown",
   "id": "126f7c3f-1bd8-4ae1-8487-916b26e3deaf",
   "metadata": {},
   "source": [
    "## 가장 긴 증가하는 부분 수열\n",
    "\n",
    "- 문제 출처: [백준 11053번](https://www.acmicpc.net/problem/11053)"
   ]
  },
  {
   "cell_type": "markdown",
   "id": "9cb1f1df-e596-4aac-96e8-6e2076f8742e",
   "metadata": {},
   "source": [
    "`-` 모르겠다 공부 ㄱㄱ\n",
    "\n",
    "`-` 공부하고 왔음\n",
    "\n",
    "`-` 수열 $A: 10, 20, 30, 11, 12, 13, 14, 40, 15, 16$ 이런 수열이 있다고 해보자\n",
    "\n",
    "`-` 위에서 다룬 수열을 A라고 해보자 \n",
    "\n",
    "`-` $A[6] = 13, \\operatorname{dp}[6] = 4$이다. $\\operatorname{dp}[6] = 4$라는 뜻은 $A[6]$이 마지막 원소이고 만약 수열 $A$가 $A[5]$까지만 존재했다면 가장 긴 증가하는 부분 수열의 길이는 $3$이라는 의미이다\n",
    "\n",
    "`-` $A[6]$을 추가하는데 되도록이면 증가하는 부분 수열의 길이가 크면 좋음 ---> $A[6]$이 마지막 원소가 될 수 있는 여러개의 증가하는 부분 수열 중에서 길이가 가장 긴 것에 $A[6]$을 추가해야 함\n",
    "\n",
    "`-` 즉 $\\operatorname{dp}[1]$에서 $\\operatorname{dp}[5]$중에서 가장 큰 값에다 $A[6]$을 추가하여 새로운 $\\operatorname{dp}[6]$을 만듦 ---> `dp[i]는 i번째 인덱스 값을 수열의 마지막 원소로 가지는 증가하는 부분 수열 중 가장 길이가 긴 것`\n",
    "\n",
    "`-` 가장 긴 증가하는 부분 수열 점화식: $\\operatorname{dp}[n] = \\max(\\operatorname{dp}[i], \\operatorname{dp}[j], \\dots, \\operatorname{dp}[k]) + 1, \\quad (A[n] > A[i], A[j],\\dots,A[k])$"
   ]
  },
  {
   "cell_type": "code",
   "execution_count": 63,
   "id": "3d0d3c26-a211-4967-af74-eada04b938d1",
   "metadata": {},
   "outputs": [
    {
     "name": "stdin",
     "output_type": "stream",
     "text": [
      " 16\n",
      " 1 8 3 9 2 2 4 1 6 4 10 10 9 7 7 6\n"
     ]
    },
    {
     "name": "stdout",
     "output_type": "stream",
     "text": [
      "5\n"
     ]
    }
   ],
   "source": [
    "N = int(input())\n",
    "dp = [0] * 1001\n",
    "data = list(map(int, input().split()))\n",
    "arr = [0] + data\n",
    "    \n",
    "for i in range(1, N+1):\n",
    "    for j in range(i):\n",
    "        if arr[i] > arr[j]:\n",
    "            dp[i] = max(dp[j] + 1, dp[i])\n",
    "\n",
    "print(max(dp))\n",
    "\n",
    "# input\n",
    "# 16\n",
    "# 1 8 3 9 2 2 4 1 6 4 10 10 9 7 7 6"
   ]
  },
  {
   "cell_type": "markdown",
   "id": "b6adf5f7-6854-45c8-9d35-90abde82f20c",
   "metadata": {},
   "source": [
    "## 가장 긴 증가하는 부분 수열 2\n",
    "\n",
    "- 문제 출처: [백준 12015번](https://www.acmicpc.net/problem/12015)"
   ]
  },
  {
   "cell_type": "markdown",
   "id": "53de3c5d-11d2-412f-9b85-b166229abdcb",
   "metadata": {},
   "source": [
    "`-` [가장 긴 증가하는 부분 수열](https://www.acmicpc.net/problem/11053) 문제는 코드의 시간복잡도가 $O(N^2)$이어도 통과됐다\n",
    "\n",
    "`-` 이를 $O(N\\log N)$으로 바꿔보자\n",
    "\n",
    "`-` $\\operatorname{dp}[n] = \\max(\\operatorname{dp}[i], \\operatorname{dp}[j], \\dots, \\operatorname{dp}[k]) + 1, \\quad (A[n] > A[i], A[j],\\dots,A[k])$\n",
    "\n",
    "`-` 여기서 `dp[n]은 A[n]을 마지막 원소로 가지는 가장 긴 증가하는 부분 수열의 길이`로 정의된다\n",
    "\n",
    "`-` $\\operatorname{dp}[n]$을 계산하는데 있어서 $\\operatorname{dp}[i]$가 최대이든 $\\operatorname{dp}[j]$가 최대이든 중요하지 않다\n",
    "\n",
    "`-` 단지, $\\operatorname{dp}[i], \\operatorname{dp}[j], \\dots, \\operatorname{dp}[k]$ 중에서 최댓값만 구한 다음에 $+1$을 하면 된다\n",
    "\n",
    "`-` $\\operatorname{dp}[n]$의 최대값을 구하기위해 필요한 정보는 $A[n]$이 $A[i], \\cdots, A[j]$보다 큰지와 이를 만족하는 $A[i], \\cdots, A[j]$들 중에서 제일 큰 $\\operatorname{dp}[\\cdot]$는 무엇이냐이다\n",
    "\n",
    "`-` 만약 배열 $A$가 오름차순 정렬되어 있으면 $A[1]\\leq A[2]\\leq\\cdots\\leq A[n-1]$이 되고 $A[n]$이 들어갈 위치를 찾는데는 이분 탐색을 이용하면 $O(\\log N)$이다\n",
    "\n",
    "`-` 예컨대 $A[1]\\leq A[2]\\leq A[3]\\leq A[n]\\cdots\\leq A[n-1]$이라면 $\\operatorname{dp}[n]$은 $\\max(\\operatorname{dp}[1], \\operatorname{dp}[2],\\operatorname{dp}[3])+1$이 된다\n",
    "\n",
    "`-` $[\\star]$ 여기서 중요한 점은 $\\operatorname{dp}[1], \\operatorname{dp}[2],\\operatorname{dp}[3]$ 중에서 무엇이 최댓값인지가 아니라 최댓값이 무엇이냐는 것이다 $[\\star]$\n",
    "\n",
    "`-` `10, 20, 50`이나 `10, 25, 50`이나 `10, 45, 50`이나 증가하는 부분 수열의 길이는 모두 $3$이다\n",
    "\n",
    "- 이를 통해 가장 긴 증가하는 부분 수열을 다음과 같이 계산할 수 있다\n",
    "\n",
    "`-` `A[n]`를 원소로 가지는 빈 리스트 `lst`을 생각하자 \n",
    "\n",
    "`-` 여기서 `lst[n]`은 증가하는 부분수열의 길이가 $n$인 수열중에서 가장 작은 마지막 원소를 뜻한다\n",
    "\n",
    "`-` 첫 번째 원소부터 순차 탐색하여 `A[i]`가 `lst`의 어떤 위치에 삽입되어야 할 지 이분 탐색을 통해 찾고 해당 위치에 삽입한다 (따라서 `lst`는 오름차순으로 정렬됨)\n",
    "\n",
    "`-` 첫 번째 원소부터 순차 탐색했으므로 `lst`에 존재하는 원소들은 모두 인덱스가 `i`보다 작다 (`lst`에서 `i`가 가장 큰 인덱스이므로 `A[i]`는 증가하는 부분수열의 마지막 원소가 된다) \n",
    "\n",
    "`-` `lst`에서 `A[i]`의 인덱스를 `j`라고 하면 바로 왼쪽 원소는 `lst[j - 1]`이다 \n",
    "\n",
    "`-` `A[i] > lst[j - 1]`이고 `lst[j - 1]`은 `lst`의 정의에 의해 길이가 `j - 1`인 증가하는 부분수열중에서 가장 작은 마지막 원소이다\n",
    "\n",
    "`-` 만약 기존의 `lst[j]`가 `A[i]`보다 작다면 `lst[j]`보다 강한 조건인 `A[i]`를 사용할 이유가 없다(`A[i]`보다 크면 당연히 `lst[j]`보다도 크지만 역은 성립 안한다)\n",
    "\n",
    "`-` 만약 기존의 `lst[j]`가 `A[i]`보다 크다면 더 약한 조건인 `A[i]`로 `lst[j]`를 대체한다\n",
    "\n",
    "`-` 그런데 `A[i]`는 기존의 `lst`에서 `lst[j - 1]`보다 크고 `lst[j]`보다 작아서 `lst[j]`에 삽입되었다\n",
    "\n",
    "`-` 따라서 항상 `lst[j] <= A[i]`이므로 `lst[j]`를 `A[i]`로 갱신하면 된다\n",
    "\n",
    "`-` 위의 논리는 새로 삽입된 `A[i]`의 `dp`를 계산하는데 있어서 `무엇이 최댓값인지가 아니라 최댓값이 무엇인지가 중요`하기 때문에 성립한다"
   ]
  },
  {
   "cell_type": "code",
   "execution_count": 106,
   "id": "47bfc79f-9629-4dc0-92dd-f5032930cb86",
   "metadata": {},
   "outputs": [
    {
     "name": "stdin",
     "output_type": "stream",
     "text": [
      " 16\n",
      " 1 8 3 9 2 2 4 1 6 4 10 10 9 7 7 6\n"
     ]
    },
    {
     "name": "stdout",
     "output_type": "stream",
     "text": [
      "5\n"
     ]
    }
   ],
   "source": [
    "INF = 1e9\n",
    "N = int(input())\n",
    "arr = (list(map(int, input().split())))\n",
    "lst = [INF] * (N + 1) ## 편의상 N + 1 크기의 배열로 만듦 (파이썬은 인덱스가 0부터 시작)\n",
    "lst[0] = 0 ## 초기값\n",
    "lst[1] = arr[0] ## lst[n]은 증가하는 부분수열의 길이가 n인 것들 중에서 가장 작은 마지막 원소\n",
    "LIS = 1 ## 가장 긴 증가하는 부분 수열의 길이 (Longest Increasing Subsequence)\n",
    "\n",
    "## solve\n",
    "for i in range(1, N): ## for문은 O(N)이고 while문은 이분 탐색으로 O(log N)이므로 전체 코드의 시간복잡도는 O(N log(N))이다\n",
    "    left = 1\n",
    "    right = i ## 1 ~ i, 0을 제외하면 실질적으로 i개의 원소가 lst에 들어있음\n",
    "    mid = (left + right) // 2\n",
    "    while left <= mid: ## left와 mid가 같은 상황에서 lst[mid] < arr[i]이면 mid + 1에 삽입하고 lst[mid] >= arr[i]이면 left에 삽입하고 싶음\n",
    "        if lst[mid] < arr[i]: \n",
    "            left = mid + 1\n",
    "        else:\n",
    "            right = mid - 1\n",
    "        mid = (left + right) // 2\n",
    "    \n",
    "    ## arr[i]가 lst에 어느 위치에 들어가야 하는지를 찾았다 (lst[left]에 삽입)\n",
    "    ## lst[left]를 arr[i]로 갱신\n",
    "    ## arr[i]는 lst[left]에 삽입되므로 기존의 lst에서 lst[left-1]보단 크고 lst[left]보다 작다\n",
    "    ## 따라서 lst[left] >= arr[i]가 항상 성립한다 (등호는 동일한 원소일 떄)\n",
    "    lst[left] = arr[i]\n",
    "    if left > LIS:\n",
    "        LIS = left\n",
    "            \n",
    "## 출력\n",
    "print(LIS)\n",
    "\n",
    "# input\n",
    "# 16\n",
    "# 1 8 3 9 2 2 4 1 6 4 10 10 9 7 7 6"
   ]
  },
  {
   "cell_type": "markdown",
   "id": "8bd62250-2241-4674-b86e-7026ff525e85",
   "metadata": {},
   "source": [
    "`-` 이분 탐색으로 해결해야 된다는 것을 알고 있었는데도 5시간이나 걸렸음"
   ]
  },
  {
   "cell_type": "markdown",
   "id": "b7c54a41-aec1-4ca3-9d83-be9a3abd7f84",
   "metadata": {},
   "source": [
    "## 가장 긴 바이토닉 부분 수열\n",
    "\n",
    "- 문제 출처: [백준 11054번](https://www.acmicpc.net/problem/11054)"
   ]
  },
  {
   "cell_type": "markdown",
   "id": "976e4d69-ece1-4791-b493-cf3dda9fb203",
   "metadata": {},
   "source": [
    "`-` 질문 검색에서 아이디어 참고함\n",
    "\n",
    "`-` `증가하는 부분 수열 + 감소하는 부분 수열 - 1(겹치는 부분)`의 `최댓값`을 구하자\n",
    "\n",
    "`-` $\\operatorname{dp\\_up}[n]$은 $n$를 마지막 원소로 가지는 증가하는 부분 수열 중 길이가 가장 긴 것\n",
    "\n",
    "`-` $\\operatorname{dp\\_down}[n]$은 $n$를 첫번째 원소로 가지는 감소하는 부분 수열 중 길이가 가장 긴 것"
   ]
  },
  {
   "cell_type": "code",
   "execution_count": 38,
   "id": "77d1edbd-22d8-4108-9d2e-4f60d9c60ff6",
   "metadata": {},
   "outputs": [
    {
     "name": "stdin",
     "output_type": "stream",
     "text": [
      " 10\n",
      " 1 5 2 1 4 3 4 5 2 1\n"
     ]
    },
    {
     "name": "stdout",
     "output_type": "stream",
     "text": [
      "7\n"
     ]
    }
   ],
   "source": [
    "N = int(input())\n",
    "dp_up = [0] * 1001\n",
    "dp_down = [1] * 1001\n",
    "\n",
    "data = list(map(int, input().split()))\n",
    "arr = [0] + data\n",
    "\n",
    "## 가징 긴 바이토닉 부분 수열\n",
    "\n",
    "for i in range(1, N+1):\n",
    "    for j in range(i):\n",
    "        if arr[i] > arr[j]:\n",
    "            dp_up[i] = max(dp_up[j] + 1, dp_up[i])\n",
    "\n",
    "for i in range(N, 0, -1):\n",
    "    for j in range(N, i, -1):\n",
    "        if arr[i] > arr[j]:\n",
    "            dp_down[i] = max(dp_down[j] + 1, dp_down[i])\n",
    "\n",
    "print(max(list(map(lambda x, y: x + y, dp_up, dp_down))) - 1)"
   ]
  },
  {
   "cell_type": "markdown",
   "id": "45767896-cdfc-4bba-b1b3-a5d82ca87673",
   "metadata": {},
   "source": [
    "`-` 위에서 사용한 lambda 함수 간단히 참고"
   ]
  },
  {
   "cell_type": "code",
   "execution_count": 45,
   "id": "97b8d9b9-f934-4f96-9d3f-af759af15f38",
   "metadata": {},
   "outputs": [
    {
     "name": "stdout",
     "output_type": "stream",
     "text": [
      "10\n"
     ]
    }
   ],
   "source": [
    "a = [1, 2, 3, 4, 5]\n",
    "b = [10, 1 ,2, 3, 4]\n",
    "\n",
    "print(max(list(map(lambda x, y: x + y, a, b))) - 1)"
   ]
  },
  {
   "cell_type": "markdown",
   "id": "7634ece5-7fca-4918-a7b2-f4fe664aaedf",
   "metadata": {},
   "source": [
    "`-` 서로 동일한 index위치에 있는 값을 더한 후 최대값 - 1을 출력"
   ]
  },
  {
   "cell_type": "markdown",
   "id": "e2729c73-e38b-4e53-8c48-6c17ae612ac8",
   "metadata": {},
   "source": [
    "`-` 리스트 길이가 다르다면? "
   ]
  },
  {
   "cell_type": "code",
   "execution_count": 2,
   "id": "d67f294b-a454-4388-b36e-14cf755df958",
   "metadata": {},
   "outputs": [
    {
     "name": "stdout",
     "output_type": "stream",
     "text": [
      "12\n"
     ]
    }
   ],
   "source": [
    "a = [1, 2, 3, 20, 20]\n",
    "b = [1 ,2, 10]\n",
    "\n",
    "print(max(list(map(lambda x, y: x + y, a, b))) - 1)"
   ]
  },
  {
   "cell_type": "markdown",
   "id": "14b7ddf9-8623-4346-964f-5d427eb8f77f",
   "metadata": {},
   "source": [
    "`-` b는 길이가 3이어서 a의 4와 5 원소는 고려되지 않음"
   ]
  },
  {
   "cell_type": "markdown",
   "id": "36a1f518-59fb-48ba-ad32-ea32088a42cd",
   "metadata": {},
   "source": [
    "## 전깃줄\n",
    "\n",
    "- 문제 출처: [백준 2565번](https://www.acmicpc.net/problem/2565)"
   ]
  },
  {
   "cell_type": "markdown",
   "id": "3e887dbd-0f6e-4c12-bb47-cb9ad94257bd",
   "metadata": {},
   "source": [
    "`-` A와 B는 연결되어 있으므로 세트임\n",
    "\n",
    "`-` 우선 A, B에 대해 오름차순 정렬을 함(A, B 순서 바뀌어도 ok) ---> 전깃줄이 전봇대에 연결되는 위치는 전봇대 위에서부터 차례대로 번호가 매겨지므로\n",
    "\n",
    "`-` dp[n]은 n번째 전깃줄이 마지막에 위치하는 LIS임\n",
    "\n",
    "`-` n번째의 전깃줄은 n-1번째 전깃줄에 대해 A, B 각각 숫자가 커야함\n",
    "\n",
    "`-` dp 최대값을 구한 후 N에서 빼면 제거해야 할 전깃줄의 개수임"
   ]
  },
  {
   "cell_type": "code",
   "execution_count": 105,
   "id": "4cff7fe9-30a3-47d6-8228-06d84d0fccae",
   "metadata": {},
   "outputs": [
    {
     "name": "stdin",
     "output_type": "stream",
     "text": [
      " 8\n",
      " 1 8\n",
      " 3 9\n",
      " 2 2\n",
      " 4 1\n",
      " 6 4\n",
      " 10 10\n",
      " 9 7\n",
      " 7 6\n"
     ]
    },
    {
     "name": "stdout",
     "output_type": "stream",
     "text": [
      "3\n"
     ]
    }
   ],
   "source": [
    "N = int(input())\n",
    "arr = [[0, 0]]\n",
    "dp = [0] * 101\n",
    "\n",
    "for _ in range(N):\n",
    "    arr.append(list(map(int, input().split())))  \n",
    "\n",
    "arr1 = sorted(arr, key = lambda x: (x[0], x[1]))\n",
    "\n",
    "for i in range(1, N+1):\n",
    "    for j in range(i):\n",
    "        if arr1[i][0] > arr1[j][0] and arr1[i][1]> arr1[j][1]:\n",
    "            dp[i] = max(dp[j] + 1, dp[i])\n",
    "            \n",
    "print(N - max(dp))    "
   ]
  },
  {
   "cell_type": "markdown",
   "id": "0d5fe421-a8d5-43fc-823a-7250ebad18ae",
   "metadata": {},
   "source": [
    "## 피보나치 수 3\n",
    "\n",
    "- 문제 출처: [백준 2749번](https://www.acmicpc.net/problem/2749)"
   ]
  },
  {
   "cell_type": "markdown",
   "id": "100b6831-e505-436c-95a9-4e8638e0091b",
   "metadata": {},
   "source": [
    "`-` n은 1,000,000,000,000,000,000보다 작거나 같은 자연수\n",
    "\n",
    "`-` 아래와 같은 bottom-up 방식은 시간초과임"
   ]
  },
  {
   "cell_type": "code",
   "execution_count": 4,
   "id": "619e9654-a05a-41be-adeb-45bbabfb80ea",
   "metadata": {},
   "outputs": [
    {
     "name": "stdin",
     "output_type": "stream",
     "text": [
      " 1000\n"
     ]
    },
    {
     "name": "stdout",
     "output_type": "stream",
     "text": [
      "228875\n"
     ]
    }
   ],
   "source": [
    "N = int(input())\n",
    "\n",
    "first_fibo = 0\n",
    "second_fibo = 1\n",
    "\n",
    "for i in range(N):\n",
    "    next_fibo = (first_fibo + second_fibo) % 1000000\n",
    "    first_fibo = second_fibo % 1000000\n",
    "    second_fibo = next_fibo % 1000000\n",
    "    \n",
    "print(first_fibo)"
   ]
  },
  {
   "cell_type": "markdown",
   "id": "e16d925f-d258-44a7-ab63-034f7192c5e5",
   "metadata": {},
   "source": [
    "`-` 곰곰이 생각해보니 n이 최대 100경이라 for문 써도 컴퓨터 터지고 배열로 만들어도 컴퓨터 터짐\n",
    "\n",
    "`-` 피보나치 수열의 일반항이 생각나서 검색해봄\n",
    "\n",
    "`-` 근데 n이 너무 커서 overflow 때문에 불가능"
   ]
  },
  {
   "cell_type": "markdown",
   "id": "c0932d02-1a42-4238-8b18-a670a58759a5",
   "metadata": {},
   "source": [
    "`-` 위의 방법을 사용하지 않으면 어떻게 푸는지 모르겠어서 질문 검색을 보니 `피사노 주기` 를 이용하여 푼다고 한다\n",
    "\n",
    "`-` 참고: [피보나치 수를 구하는 여러가지 방법](https://www.acmicpc.net/blog/view/28)\n",
    "\n",
    "`-` 아무튼 그래서 피사노 주기를 통해서 문제를 해결함"
   ]
  },
  {
   "cell_type": "code",
   "execution_count": 11,
   "id": "507e66e5-cf42-4cf5-bb60-c8e48f66705a",
   "metadata": {},
   "outputs": [
    {
     "name": "stdin",
     "output_type": "stream",
     "text": [
      " 1000\n"
     ]
    },
    {
     "name": "stdout",
     "output_type": "stream",
     "text": [
      "228875\n"
     ]
    }
   ],
   "source": [
    "N = int(input())\n",
    "m = 10**6\n",
    "P = 15 * (10**5)\n",
    "M = N % P\n",
    "fibo = {0:0, 1:1}\n",
    "\n",
    "for i in range(M):\n",
    "    fibo[i+2] = (fibo[i] % m + fibo[i+1] % m) % m\n",
    "\n",
    "print(fibo[M])"
   ]
  },
  {
   "cell_type": "markdown",
   "id": "8fea1192-69d6-4f7d-bb56-cdafa64f772d",
   "metadata": {},
   "source": [
    "## LCS\n",
    "\n",
    "- 문제 출처: [백준 9251번](https://www.acmicpc.net/problem/9251)"
   ]
  },
  {
   "cell_type": "markdown",
   "id": "8cd57362-98b0-4b74-9024-52d4852e606e",
   "metadata": {},
   "source": [
    "`-` 머리가 멍청해짐 ---> 어려워서 공부하고 옴\n",
    "\n",
    "`-` a와 b 두 문자열이 있음\n",
    "\n",
    "`-` 두 문자열의 길이가 각각 n과 m이라고 해보자\n",
    "\n",
    "`-` 만약 `a[ i ]`와 `b[ j ]` 문자가 서로 같다면 `dp[ i ][ j ] = dp[ i-1 ][ j-1 ] + 1`과 동일함\n",
    "\n",
    "`-` 만약 문자가 서로 다르다면 `dp[ i ][ j ] = max(dp[ i-1 ][ j ], dp[ i ][ j-1 ])`"
   ]
  },
  {
   "cell_type": "code",
   "execution_count": 47,
   "id": "0c1c061b-c50c-447b-a1c7-1bb802b0fd4d",
   "metadata": {},
   "outputs": [
    {
     "name": "stdin",
     "output_type": "stream",
     "text": [
      " ACAYKP\n",
      " CAPCAK\n"
     ]
    },
    {
     "name": "stdout",
     "output_type": "stream",
     "text": [
      "4\n"
     ]
    }
   ],
   "source": [
    "a = input()\n",
    "b = input()\n",
    "    \n",
    "dp = [[0] * (len(b)+1) for _ in range(len(a)+1)]\n",
    "\n",
    "for i in range(1, len(a)+1):\n",
    "    for j in range(1, len(b)+1):\n",
    "        if a[i-1] == b[j-1]:\n",
    "            dp[i][j] = dp[i-1][j-1] + 1\n",
    "    \n",
    "        else:\n",
    "            dp[i][j] = max(dp[i][j-1], dp[i-1][j])\n",
    "    \n",
    "print(dp[len(a)][len(b)])\n",
    "\n",
    "## input\n",
    "## ACAYKP\n",
    "## CAPCAK"
   ]
  },
  {
   "cell_type": "markdown",
   "id": "4b6d1409-d255-4ed2-98ae-4b13bd2d4943",
   "metadata": {},
   "source": [
    "## 연속합\n",
    "\n",
    "- 문제 출처: [백준 1912번](https://www.acmicpc.net/problem/1912)"
   ]
  },
  {
   "cell_type": "markdown",
   "id": "6dc53a82-5db3-4c5d-a840-408a43ca748a",
   "metadata": {},
   "source": [
    "`-` 규칙을 떠올리기 은근 어려웠다\n",
    "\n",
    "`-` 위치상 연속된 원소들에 초점을 맞춰 생각하다가 $n$번째 원소를 마지막으로 가지는 연속합에 대해 생각하여 규칙을 떠올렸다\n",
    "\n",
    "`-` $\\text{dp[$n$]}$을 마지막 원소로 $n$번째 원소를 가지는 연속합중 최댓값이라고 하자\n",
    "\n",
    "`-` 그러면 $\\text{dp[$n$]} = \\max(n,\\,n+\\text{dp[$n-1$]})$이 성립한다 $\\cdots (1)$\n",
    "\n",
    "`-` 왜?\n",
    "\n",
    "`-` 마지막 원소로 $n$번째 원소를 가지는 연속합으로 가능한 경우는 아래와 같다\n",
    "\n",
    "`-` $[a_n[1]+\\cdots+a_n[n]],\\,[a_n[2]+ \\cdots + a_n[n]],\\, \\cdots,\\, [a_n[n-1]+a_n[n]],\\, [a_n[n]]$\n",
    "\n",
    "`-` 위의 연속합을 첫 번째부터 $b_1, b_2,\\cdots,b_n$이라고 하자\n",
    "\n",
    "`-` 이들은 모두 $a_n[n]$을 포함하고있어 각각의 연속합에 대해 $a_n[n]$을 차감하더라도 이들의 대소관계는 변하지 않는다\n",
    "\n",
    "`-` 그러므로 식 $(1)$이 자연스럽게 성립한다\n",
    "\n",
    "`-` 즉 $n$번째 원소를 마지막으로 가지는 연속합중 최댓값을 얻기위해선 $n-1$번째 원소를 마지막으로 가지는 연속합 중에서 최댓값을 사용해야 한다\n",
    "\n",
    "`-` 아래의 수열에서 연속합중 최댓값을 구해보자\n",
    "\n",
    "`-` $10, -4, 3, -35, 21, -1$\n",
    "\n",
    "`-` $\\text{dp[$1$]} = 10$ ---> 당연한 결과이다\n",
    "\n",
    "`-` $\\text{dp[$2$]} = \\max(-4, -4 + \\text{dp[$1$]}) = 6$ \n",
    "\n",
    "`-` $\\text{dp[$3$]} = \\max(3, 3 + \\text{dp[$2$]}) = 9$ \n",
    "\n",
    "`-` $\\text{dp[$4$]} = \\max(-35, -35 + \\text{dp[$3$]}) = -26$ \n",
    "\n",
    "`-` $\\text{dp[$5$]} = \\max(21, 21 + \\text{dp[$4$]}) = 21$\n",
    "\n",
    "`-` $\\text{dp[$6$]} = \\max(-1, -1 + \\text{dp[$5$]}) = 20$ \n",
    "\n",
    "`-` $\\text{dp[$n$]}$의 최댓값은 $21$이다 "
   ]
  },
  {
   "cell_type": "code",
   "execution_count": 6,
   "id": "d857e386-7866-48a5-8079-bce1c18575fd",
   "metadata": {},
   "outputs": [
    {
     "name": "stdin",
     "output_type": "stream",
     "text": [
      " 10\n",
      " 10 -4 3 1 5 6 -35 12 21 -1\n"
     ]
    },
    {
     "name": "stdout",
     "output_type": "stream",
     "text": [
      "33\n"
     ]
    }
   ],
   "source": [
    "n = int(input())\n",
    "a_n = list(map(int, input().split()))\n",
    "dp = [0] * n\n",
    "dp[0] = a_n[0]\n",
    "\n",
    "for i in range(1, n):\n",
    "    dp[i] = max(a_n[i], a_n[i] + dp[i-1])\n",
    "\n",
    "print(max(dp))\n",
    "\n",
    "# input\n",
    "# 10\n",
    "# 10 -4 3 1 5 6 -35 12 21 -1"
   ]
  },
  {
   "cell_type": "markdown",
   "id": "c3efba13-b3c0-46fd-90d2-469126b0ad28",
   "metadata": {},
   "source": [
    "## 평범한 배낭\n",
    "\n",
    "- 문제 출처: [백준 12865번](https://www.acmicpc.net/problem/12865)"
   ]
  },
  {
   "cell_type": "markdown",
   "id": "ffcfdb7b-5b34-4701-91a2-f8afae99181f",
   "metadata": {},
   "source": [
    "`-` 어떻게 접근할지 생각이 안난다\n",
    "\n",
    "`-` why?\n",
    "\n",
    "`-` $n$개의 아이템을 사용하여 가방을 챙길 때 단순히 무게를 최소화 시키거나 가치를 최대화 시키는 것은 답이 아니다\n",
    "\n",
    "`-` 그래서 무게와 가치를 저울질 해가며 판단해야 되는데 어떻게 판단할지 생각이 안난다\n",
    "\n",
    "`-` 기준이 있어야 점화식을 세우는데 기준을 어떻게 잡아야 할지(가치? 무게? 물건의 개수?) 몰랐다\n",
    "\n",
    "`-` 그래서 검색하고 왔는데 기준을 가방의 번호로 잡는다고 하더라(그냥 번호만 매기면 된다; `무거운 것부터 1번` $\\to$ 이럴필요 없음)\n",
    "\n",
    "`-` 물건의 개수와 비슷한데 다른 점이 있다\n",
    "\n",
    "`-` 나는 물건의 개수로 기준을 세울려고 했는데 실패했다(왜냐하면 어떤 물건들로 구성하는지 떠오르지 않았기 때문)\n",
    "\n",
    "`-` $N$개의 물건을 사용하는데 예컨대 $50$개라면 $50$개를 어떤 물건으로 구성해야 할지 몰랐음(무게와 가치를 저울질 해야하는데 어떻게 하지??)\n",
    "\n",
    "`-` 그런데 물건에 번호를 매김으로써 $N$개의 물건을 어떻게 구성할지 생각하지 않아도 된다!!\n",
    "\n",
    "`-` $N=50$이라면 $1$번부터 $50$번까지의 물건을 사용하면 된다\n",
    "\n",
    "`-` 그런데 번호는 어떤 기준으로 매길건데?? ---> 상관이 없다고 한다(key point)\n",
    "\n",
    "`-` 두 번째 key point는 무게가 $w(1\\leq w \\leq k)$인 임시 배낭을 고려하는 것이다($k$는 기존 배낭의 수용 무게) \n",
    "\n",
    "`-` 이제 위의 내용을 바탕으로 점화식을 세우자\n",
    "\n",
    "`-` 우선 물건에 $1$부터 $n$(물건 개수)까지 번호를 매긴다(순서는 상관없다)\n",
    "\n",
    "`-` 그리고 $\\text{dp[$n$][$w$]}$를 $1$번부터 $n$번까지의 물건을 사용하여 현재 임시 배낭의 수용 무게가 $w$일 때 최대화 시킬 수 있는 가치 $v$라고 하자\n",
    "\n",
    "`-` 만약 $n-1$번째까지의 물건을 고려한 상황이라면 $n$번째 물건을 배낭에 넣거나 안넣거나 둘 중 하나이다\n",
    "\n",
    "`-` 만약 $n$번째 물건을 배낭에 넣지 않으면 $\\text{dp[$n$][$w$]} = \\text{dp[$n-1$][$w$]}$이다\n",
    "\n",
    "`-` 만약 $n$번째 물건을 배낭에 넣으면 $\\text{dp[$n$][$w$]} = \\text{dp[$n-1$][$w-w_n$]} + v_n$이다 ($w_n$과 $v_n$은 각각 $n$번째 물건의 무게와 가치)\n",
    "\n",
    "`-` 그런데 이제 배낭의 가치를 최대화해야 하므로 $\\text{dp[$n$][$w$]} = \\max(\\text{dp[$n-1$][$w-w_n$]},\\, \\text{dp[$n-1$][$w$]})$\n",
    "\n",
    "`-` base case($n=1$)를 정하고 위의 점화식을 적용하면 문제를 해결할 수 있다 "
   ]
  },
  {
   "cell_type": "code",
   "execution_count": 27,
   "id": "08b036c5-55ef-4121-89e8-3f9b2b2946f0",
   "metadata": {},
   "outputs": [
    {
     "name": "stdin",
     "output_type": "stream",
     "text": [
      " 4 7\n",
      " 6 13\n",
      " 4 8\n",
      " 3 6\n",
      " 5 12\n"
     ]
    },
    {
     "name": "stdout",
     "output_type": "stream",
     "text": [
      "14\n"
     ]
    }
   ],
   "source": [
    "N, K = map(int, input().split()) ## 물건의 개수와 수용 가능한 무게\n",
    "items = [[0, 0]] + [list(map(int, input().split())) for _ in range(N)] ## 무게(W)와 가치(V)\n",
    "dp = [[0] * (K+1) for _ in range(N+1)] ## 배낭의 가치\n",
    "\n",
    "for i in range(1, N+1): ## 1번 물건부터 i번 물건까지 임시 가방에 넣는 것을 고려 \n",
    "    for j in range(1, K+1): ## 임시 가방의 수용 무게는 1부터 K까지\n",
    "        if j >= items[i][0]: ## 만약 넣을 물건(n번째 물건)이 배낭의 수용 무게를 초과하지 않는다면\n",
    "            dp[i][j] = max(dp[i-1][j-items[i][0]] + items[i][1], dp[i-1][j]) \n",
    "        else: ## 수용 무게를 초과\n",
    "            dp[i][j] = dp[i-1][j] ## 물건의 무게 때문에 가방에 넣지 못한다\n",
    "        \n",
    "print(dp[N][K])\n",
    "\n",
    "# input\n",
    "# 4 7\n",
    "# 6 13\n",
    "# 4 8\n",
    "# 3 6\n",
    "# 5 12"
   ]
  },
  {
   "cell_type": "code",
   "execution_count": 30,
   "id": "6eeeab70-b81e-4ea2-9578-4d924cfd08fc",
   "metadata": {},
   "outputs": [
    {
     "data": {
      "text/plain": [
       "[[0, 0, 0, 0, 0, 0, 0, 0],\n",
       " [0, 0, 0, 0, 0, 0, 13, 13],\n",
       " [0, 0, 0, 0, 8, 8, 13, 13],\n",
       " [0, 0, 0, 6, 8, 8, 13, 14],\n",
       " [0, 0, 0, 6, 8, 12, 13, 14]]"
      ]
     },
     "execution_count": 30,
     "metadata": {},
     "output_type": "execute_result"
    }
   ],
   "source": [
    "dp ## 5*8 (왜냐하면 파이썬에서 인덱스는 0부터라 편의상 패딩 했다, 무게가 0부터 K까지이고 N도 마찬가지)\n",
    "## 근데 무게 0은 어차피 아무것도 못 넣으니까 가치가 0이다(개수도 마찬가지; 0개면 아무것도 못 넣는다)"
   ]
  },
  {
   "cell_type": "markdown",
   "id": "cdc0ca00-d5f0-4cf4-9c6d-731d4cbb0ae2",
   "metadata": {},
   "source": [
    "## Four Squares\n",
    "\n",
    "- 문제 출처: [백준 17626번](https://www.acmicpc.net/problem/17626)"
   ]
  },
  {
   "cell_type": "markdown",
   "id": "84b55af8-0a83-46ab-ba14-a5129ed13a35",
   "metadata": {},
   "source": [
    "`-` 자연수 $n$의 범위는 $1\\leq n \\leq 50000$이므로 제곱수 $x$의 범위는 $\\sqrt{1}\\leq x \\leq \\sqrt{50000}$이다\n",
    "\n",
    "`-` 만약 $n$이 제곱수라면 $1$개의 제곱수로 $n$을 표현할 수 있다\n",
    "\n",
    "`-` 합이 $n$과 같은 제곱수의 최소 개수를 $\\text{dp[$n$]}$이라고 하자($\\text{dp[$1$]}=1$)\n",
    "\n",
    "`-` 예컨대 $n=100$이면 $100=10^2$이므로 $\\text{dp[$n$]} = 1$이다\n",
    "\n",
    "`-` 하지만 $n$이 $101$이라면 $1$개의 제곱수로 나타내지 못한다\n",
    "\n",
    "`-` $n=a^2+b^2+c^2+d^2$ (더 적은 수로 표현할 수 도 있음)\n",
    "\n",
    "`-` $n$보다 작은 제곱수($1 \\leq a^2 < n \\Longleftrightarrow \\sqrt{1} \\leq a < \\sqrt{n}$)를 $n$에서 뺀다\n",
    "\n",
    "`-` $\\text{dp[$a^2$]}$은 제곱수이므로 $1$이다\n",
    "\n",
    "`-` 즉 $\\text{dp[$n$]} = \\min(\\text{dp[$n$]},\\, \\text{dp[$n-a^2$]}+1)$\n",
    "\n",
    "`-` 시간복잡도는 $O(n\\sqrt{n})$"
   ]
  },
  {
   "cell_type": "code",
   "execution_count": 46,
   "id": "8fe7a7ba-d541-4d49-8472-1c96c1db0a4f",
   "metadata": {},
   "outputs": [
    {
     "name": "stdin",
     "output_type": "stream",
     "text": [
      " 34567\n"
     ]
    },
    {
     "name": "stdout",
     "output_type": "stream",
     "text": [
      "4\n"
     ]
    }
   ],
   "source": [
    "n = int(input())\n",
    "dp = [4 for _ in range(50001)] ## 1부터 50000 ## 모든 자연수는 4개 이하의 제곱수 합으로 표현가능\n",
    "dp[1] = 1 ## 1은 제곱수\n",
    "\n",
    "for i in range(2, n+1): ## 1부터 50000\n",
    "    if (i**0.5) % 1 < 1e-6: ## i가 제곱수라면\n",
    "        dp[i] = 1 ## 제곱수이므로 dp[i] = 1\n",
    "        \n",
    "    else:  ## i가 제곱수가 아니라면  1 <= a < n^0.5 \n",
    "        for j in range(1, int(i**0.5)+1):\n",
    "            dp[i] = min(dp[i], dp[i-j*j] + 1) \n",
    "        \n",
    "print(dp[n])"
   ]
  },
  {
   "cell_type": "markdown",
   "id": "029d2092-0b5e-4e92-a71d-53a104b12644",
   "metadata": {},
   "source": [
    "## 구간 합 구하기4\n",
    "\n",
    "- 문제 출처: [백준 11659번](https://www.acmicpc.net/problem/11659)"
   ]
  },
  {
   "cell_type": "markdown",
   "id": "e8f67561-8a14-4c5f-be40-78fb748aa24f",
   "metadata": {},
   "source": [
    "`-` 동적계획법으로 풀면 될 듯하다\n",
    "\n",
    "`-` $\\text{dp[$n$]}$을 처음부터 $n$번째까지의 구간합이라고 하자\n",
    "\n",
    "`-` $\\text{dp[$n$]} = \\text{dp[$n-1$]} + \\text{$n$번째 값}$\n",
    "\n",
    "`-` $i$번째에서 $j$번째까지의 구간합 = $\\text{dp[$j$]} - \\text{dp[$i-1$]}$"
   ]
  },
  {
   "cell_type": "code",
   "execution_count": 32,
   "id": "dbb434fa-67da-440d-8349-ce0c36de114a",
   "metadata": {},
   "outputs": [
    {
     "name": "stdin",
     "output_type": "stream",
     "text": [
      " 5 3\n",
      " 5 4 3 2 1\n",
      " 1 3\n"
     ]
    },
    {
     "name": "stdout",
     "output_type": "stream",
     "text": [
      "12\n"
     ]
    },
    {
     "name": "stdin",
     "output_type": "stream",
     "text": [
      " 2 4\n"
     ]
    },
    {
     "name": "stdout",
     "output_type": "stream",
     "text": [
      "9\n"
     ]
    },
    {
     "name": "stdin",
     "output_type": "stream",
     "text": [
      " 5 5\n"
     ]
    },
    {
     "name": "stdout",
     "output_type": "stream",
     "text": [
      "1\n"
     ]
    }
   ],
   "source": [
    "n, m = map(int, input().split())\n",
    "nums = list(map(int, input().split()))\n",
    "\n",
    "dp = [0] * (n+1)\n",
    "for i in range(n):\n",
    "    dp[i+1] = dp[i] + nums[i]\n",
    "    \n",
    "## dp = [sum(nums[:i] for i in range(1, n+1)] ---> 이렇게하면 O(0.5*n*n) = O(n^2) 이라서 시간초과\n",
    "\n",
    "for _ in range(m):\n",
    "    i, j = map(int, input().split())\n",
    "    print(dp[j] - dp[i-1])\n",
    "    \n",
    "# input\n",
    "# 5 3\n",
    "# 5 4 3 2 1\n",
    "# 1 3\n",
    "# 2 4\n",
    "# 5 5"
   ]
  },
  {
   "cell_type": "markdown",
   "id": "00121550-78b8-4186-b42e-d3fbb294ba85",
   "metadata": {},
   "source": [
    "## 1로 만들기 2\n",
    "\n",
    "- 문제 출처: [백준 12852번](https://www.acmicpc.net/problem/12852)"
   ]
  },
  {
   "cell_type": "markdown",
   "id": "b0843501-de0b-4809-9f41-e44c1d1795ce",
   "metadata": {},
   "source": [
    "`-` [1로 만들기](https://www.acmicpc.net/problem/1463) 문제를 풀 때와 비슷한 방법으로 해결 가능해 보인다\n",
    "\n",
    "`-` 다만, 1로 만드는 과정을 연산 횟수와 같이 기록해야 한다\n",
    "\n",
    "`-` 예컨대 $8 \\to 4 \\to 2 \\to 1$이라면 $\\text{dp[8] = [0, 8], dp[4] = [1, 8], dp[2] = [2, 4], dp[1] = [3, 2]}$\n",
    "\n",
    "`-` 즉 연산 횟수는 $\\text{dp[1][0](= 3)}$이며 만드는 과정은 $\\text{dp[dp[2][1]][1](=8) $\\to$ dp[dp[1][1]][1](=4) $\\to$ dp[1][1](=2) $\\to$ 1}$이다"
   ]
  },
  {
   "cell_type": "code",
   "execution_count": 105,
   "id": "ff3368bf-3da1-4b1f-8cfb-9134d3343db1",
   "metadata": {},
   "outputs": [
    {
     "name": "stdin",
     "output_type": "stream",
     "text": [
      " 100\n"
     ]
    },
    {
     "name": "stdout",
     "output_type": "stream",
     "text": [
      "7\n",
      "100 50 25 24 8 4 2 1\n"
     ]
    }
   ],
   "source": [
    "from collections import deque\n",
    "x = N = int(input())\n",
    "dp = {x:[0,x]}  ## 초기값, ## dp[?][0]은 연산 횟수, dp[?][1]은 1로 만드는데 거쳐가는 하나의 단계\n",
    "\n",
    "while x > 1:\n",
    "    if x % 3 == 0:\n",
    "        if x//3 not in dp:\n",
    "            dp[x//3] = [dp[x][0] + 1, x]\n",
    "        else:\n",
    "            dp[x//3] = min([dp[x][0] + 1, x], dp[x//3])\n",
    "            \n",
    "    if x % 2 == 0:\n",
    "        if x//2 not in dp:\n",
    "            dp[x//2] = [dp[x][0] + 1, x]\n",
    "        else:\n",
    "            dp[x//2] = min([dp[x][0] + 1, x], dp[x//2])\n",
    "            \n",
    "    if x-1 not in dp:\n",
    "        dp[x-1] = [dp[x][0] + 1, x]\n",
    "    else:\n",
    "        dp[x-1] = min([dp[x][0] + 1, x], dp[x-1])\n",
    "        \n",
    "    x -= 1\n",
    "\n",
    "## 현재 x값은 1이다\n",
    "arr = deque([1])\n",
    "while x < N:  \n",
    "    arr.appendleft(dp[x][1])\n",
    "    x = dp[x][1]\n",
    "\n",
    "print(dp[1][0])\n",
    "print(*arr)\n",
    "\n",
    "## input\n",
    "## 100"
   ]
  },
  {
   "cell_type": "markdown",
   "id": "a44efeb1-8265-4cf5-81ad-3b793bf600d6",
   "metadata": {},
   "source": [
    "## 1, 2, 3 더하기\n",
    "\n",
    "- 문제 출처: [백준 9095번](https://www.acmicpc.net/problem/9095)"
   ]
  },
  {
   "cell_type": "markdown",
   "id": "9c977abf-3cc9-4f6e-acbf-dd6196450449",
   "metadata": {},
   "source": [
    "`-` 정수 $n$을 $1,2,3$의 합으로 나타내는 방법은 \n",
    "\n",
    "`-` $n-3, n-2, n-1$ 조합에 각각 $1,2,3$을 더한 것이다\n",
    "\n",
    "`-` ex) $4$를 $1,2,3$의 합으로 나타내자 $\\to$ $1$의 조합들에 $3$더하기, $2$의 조합들에 $2$더하기, $3$의 조합들에 $1$더하기"
   ]
  },
  {
   "cell_type": "code",
   "execution_count": 181,
   "id": "75f02c08-2002-4db1-8b7b-7f501435107f",
   "metadata": {},
   "outputs": [
    {
     "name": "stdin",
     "output_type": "stream",
     "text": [
      " 3\n",
      " 4\n"
     ]
    },
    {
     "name": "stdout",
     "output_type": "stream",
     "text": [
      "7\n"
     ]
    },
    {
     "name": "stdin",
     "output_type": "stream",
     "text": [
      " 7\n"
     ]
    },
    {
     "name": "stdout",
     "output_type": "stream",
     "text": [
      "44\n"
     ]
    },
    {
     "name": "stdin",
     "output_type": "stream",
     "text": [
      " 10\n"
     ]
    },
    {
     "name": "stdout",
     "output_type": "stream",
     "text": [
      "274\n"
     ]
    }
   ],
   "source": [
    "T = int(input())\n",
    "for _ in range(T):\n",
    "    n = int(input())\n",
    "    dp = [[[]] for _ in range(n+1)] ## dp[i]에 i를 1,2,3의 합으로 나타내는 방법을 기록\n",
    "    dp[1] = [[1]] ## dp[1] 정의\n",
    "    \n",
    "    for i in range(2, n+1): ## dp[2]부터 dp[n]까지\n",
    "        ## n-3\n",
    "        if i-3 >= 0:\n",
    "            for n3 in dp[i-3]:\n",
    "                if dp[i] == [[]]: \n",
    "                    dp[i] = [n3 + [3]]\n",
    "                else:\n",
    "                    dp[i].append(n3 + [3])\n",
    "        ## n-2\n",
    "        if i-2 >= 0:\n",
    "            for n2 in dp[i-2]:\n",
    "                if dp[i] == [[]]: \n",
    "                    dp[i] = [n2 + [2]]\n",
    "                else:\n",
    "                    dp[i].append(n2 + [2])\n",
    "        ## n-1\n",
    "        if i-1 >= 0:\n",
    "            for n1 in dp[i-1]:\n",
    "                if dp[i] == [[]]: \n",
    "                    dp[i] = [n1 + [1]]\n",
    "                else:\n",
    "                    dp[i].append(n1 + [1])\n",
    "        \n",
    "    print(len(dp[n]))\n",
    "    \n",
    "# input\n",
    "# 3\n",
    "# 4\n",
    "# 7\n",
    "# 10"
   ]
  },
  {
   "cell_type": "markdown",
   "id": "80864a05-cf34-4792-9b0c-2a5bd479e098",
   "metadata": {},
   "source": [
    "## 1, 2, 3 더하기 2\n",
    "\n",
    "- 문제 출처: [백준 12101번](https://www.acmicpc.net/problem/12101)"
   ]
  },
  {
   "cell_type": "markdown",
   "id": "47f39249-dbf2-4dbc-b0c8-6c3e88c28a0a",
   "metadata": {},
   "source": [
    "`-` 기존의 [1, 2, 3 더하기](https://www.acmicpc.net/problem/9095) 문제에서 `sort()` 함수만 쓰면 풀 수 있다\n",
    "\n",
    "`-` 내장 함수에 위대함..."
   ]
  },
  {
   "cell_type": "code",
   "execution_count": 179,
   "id": "6eb0f44d-167e-4380-838c-d3bed03c73db",
   "metadata": {},
   "outputs": [
    {
     "name": "stdin",
     "output_type": "stream",
     "text": [
      " 4 3\n"
     ]
    },
    {
     "name": "stdout",
     "output_type": "stream",
     "text": [
      "1+2+1\n"
     ]
    }
   ],
   "source": [
    "n, k = map(int, input().split())\n",
    "dp = [[[]] for _ in range(n+1)] ## dp[i]에 i를 1,2,3의 합으로 나타내는 방법을 기록\n",
    "dp[1] = [[1]] ## dp[1] 정의\n",
    "\n",
    "for i in range(2, n+1): ## dp[2]부터 dp[n]까지\n",
    "    ## n-3\n",
    "    if i-3 >= 0:\n",
    "        for n3 in dp[i-3]:\n",
    "            if dp[i] == [[]]: \n",
    "                dp[i] = [n3 + [3]]\n",
    "            else:\n",
    "                dp[i].append(n3 + [3])\n",
    "    ## n-2\n",
    "    if i-2 >= 0:\n",
    "        for n2 in dp[i-2]:\n",
    "            if dp[i] == [[]]: \n",
    "                dp[i] = [n2 + [2]]\n",
    "            else:\n",
    "                dp[i].append(n2 + [2])\n",
    "    ## n-1\n",
    "    if i-1 >= 0:\n",
    "        for n1 in dp[i-1]:\n",
    "            if dp[i] == [[]]: \n",
    "                dp[i] = [n1 + [1]]\n",
    "            else:\n",
    "                dp[i].append(n1 + [1])\n",
    "\n",
    "dp[n].sort() ## dp[n]을 사전순으로 정렬 ## 치트키 수준의 함수\n",
    "try:\n",
    "    print('+'.join(map(str, dp[n][k-1])))\n",
    "except:\n",
    "    print(-1)\n",
    "\n",
    "# input\n",
    "# 4 3"
   ]
  },
  {
   "cell_type": "markdown",
   "id": "5fc7d7a6-6c31-4ffa-94af-f5a11b7d9dc0",
   "metadata": {},
   "source": [
    "## 1, 2, 3 더하기 3\n",
    "\n",
    "- 문제 출처: [백준 15988번](https://www.acmicpc.net/problem/15988)"
   ]
  },
  {
   "cell_type": "markdown",
   "id": "cfdcdda6-db57-49c7-8e03-a6c50d8fda62",
   "metadata": {},
   "source": [
    "`-` 기존의 [1, 2, 3 더하기](https://www.acmicpc.net/problem/9095) 문제에서 $n$의 범위가 더 넓어졌다\n",
    "\n",
    "`-` 기존의 코드는 $n$을 $1,2,3$으로 만드는 방법을 기록했는데 여기서는 방법의 가짓수만 기록하자\n",
    "\n",
    "`-` $\\text{dp[$n$]}$을 $1,2,3$을 통해 $n$을 만드는 방법의 가짓수라고 한다면 다음이 성립한다\n",
    "\n",
    "`-` $\\text{dp[$n$]} = \\text{dp[$n-1$]} + \\text{dp[$n-2$]} + \\text{dp[$n-3$]}$\n",
    "\n",
    "`-` $n$이 매우 크기때문에 방법을 다 기록하면 메모리 터진다"
   ]
  },
  {
   "cell_type": "code",
   "execution_count": 184,
   "id": "d3bfef71-9833-476f-892f-0209a3c9de24",
   "metadata": {},
   "outputs": [
    {
     "name": "stdin",
     "output_type": "stream",
     "text": [
      " 3\n",
      " 4\n"
     ]
    },
    {
     "name": "stdout",
     "output_type": "stream",
     "text": [
      "7\n"
     ]
    },
    {
     "name": "stdin",
     "output_type": "stream",
     "text": [
      " 7\n"
     ]
    },
    {
     "name": "stdout",
     "output_type": "stream",
     "text": [
      "44\n"
     ]
    },
    {
     "name": "stdin",
     "output_type": "stream",
     "text": [
      " 10\n"
     ]
    },
    {
     "name": "stdout",
     "output_type": "stream",
     "text": [
      "274\n"
     ]
    }
   ],
   "source": [
    "T = int(input())\n",
    "for _ in range(T):\n",
    "    n = int(input())\n",
    "    dp = [0] * (1000001) ## dp[i]에 i를 1,2,3의 합으로 나타내는 방법의 가짓수를 기록\n",
    "    ## 편의상 dp[1]부터 dp[3]까지 정의\n",
    "    dp[1] = 1 \n",
    "    dp[2] = 2\n",
    "    dp[3] = 4\n",
    "\n",
    "    for i in range(4, n+1): ## dp[4]부터 dp[n]까지\n",
    "        dp[i] = (dp[i-1] + dp[i-2] + dp[i-3]) % 1000000009 ## 문제에서 방법의 가짓수를 1,000,000,009로 나누라고 했다\n",
    "\n",
    "    print(dp[n] % 1000000009)\n",
    "\n",
    "# input\n",
    "# 3\n",
    "# 4\n",
    "# 7\n",
    "# 10"
   ]
  },
  {
   "cell_type": "markdown",
   "id": "c6f8b65f-9f07-4a70-888e-97b44c50b81e",
   "metadata": {},
   "source": [
    "## 2×n 타일링\n",
    "\n",
    "- 문제 출처: [백준 11726번](https://www.acmicpc.net/problem/11726)"
   ]
  },
  {
   "cell_type": "markdown",
   "id": "64b50c6b-8e08-4e98-8ee4-3b217a7272ae",
   "metadata": {},
   "source": [
    "`-` $2\\times n$ 크기의 직사각형을 $1\\times 2,\\, 2\\times 1$ 타일로 채우는 방법의 수를 구하기\n",
    "\n",
    "`-` 생각해보면 $2\\times 1$ 타일은 항상 2개를 사용해야 한다\n",
    "\n",
    "`-` 그러면 $2\\times 1$ 타일은  $2\\times 2$ 타일로 치환하여 생각해도 된다\n",
    "\n",
    "`-` 사실상 문제는 자연수 $n$을 $1$과 $2$의 합으로 나타내는 가지수(같은 것이 있는 순열)를 계산하는 것이 된다(높이는 어차피 전부 $2$이니까 의미가 없음)\n",
    "\n",
    "`-` $n$이 $4$일 때 $n$을 $1$과 $2$의 합으로 나타내는 방법을 생각해보자  \n",
    "\n",
    "`-` 주어진 숫자가 $1$과 $2$이므로 $4$를 만드는 방법은 $2$를 만드는 방법에 $+2$를 하는 것과 $3$을 만드는 방법에 $+1$을 하는 것이 존재함\n",
    "\n",
    "`-` 이를 일반화하면 $n$을 만드는 방법은 $n-1$을 만드는 방법에 $+1$ 하기와 $n-2$를 만드는 방법에 $+2$ 하기\n",
    "\n",
    "`-` 여기서 $f(n)$을 $n$을 만드는 방법의 수라고 하면 $f(n)=f(n-1)+f(n-2)$가 된다(조금만 생각하면 알 수 있음)"
   ]
  },
  {
   "cell_type": "code",
   "execution_count": 9,
   "id": "c36d642d-a1e7-483b-afb0-4fc70f18fa64",
   "metadata": {},
   "outputs": [
    {
     "name": "stdin",
     "output_type": "stream",
     "text": [
      " 9\n"
     ]
    },
    {
     "name": "stdout",
     "output_type": "stream",
     "text": [
      "55\n"
     ]
    }
   ],
   "source": [
    "n = int(input())\n",
    "dp = [0] * (n + 1)\n",
    "dp[1] = 1 ## 1을 만드는 방법의 수\n",
    "if n > 1:\n",
    "    dp[2] = 2 ## 2를 만드는 방법의 수\n",
    "\n",
    "for i in range(3, n + 1):\n",
    "    dp[i] = (dp[i - 1] + dp[i - 2]) % 10007 ## 문제 조건이 10007로 나눈 나머지를 출력(중간 과정마다 mod 추가해도 문제 없음)\n",
    "    \n",
    "print(dp[n] % 10007)\n",
    "\n",
    "# input\n",
    "# 9"
   ]
  },
  {
   "cell_type": "markdown",
   "id": "fae4b1e0-5b77-4319-8966-2a9d7a92307a",
   "metadata": {},
   "source": [
    "## 2×n 타일링 2\n",
    "\n",
    "- 문제 출처: [백준 11727번](https://www.acmicpc.net/problem/11727)"
   ]
  },
  {
   "cell_type": "markdown",
   "id": "312398b0-8d81-4a98-b186-827b0a747dde",
   "metadata": {},
   "source": [
    "`-` [2×n 타일링](https://www.acmicpc.net/problem/11726) 문제에서 $2\\times 2$ 타일만 추가되었다\n",
    "\n",
    "`-` $f(n)$ 을  $2\\times n$ 타일을 만드는 방법의 수라고 하면 $f(n)=f(n-1)+2f(n-2)$가 된다\n",
    "\n",
    "`-` $f(n-2)$의 계수가 $2$인 이유는 $1\\times 2$타일 2개를 사용하거나 $2\\times 2$타일을 사용할 수 있기 때문이다"
   ]
  },
  {
   "cell_type": "code",
   "execution_count": 1,
   "id": "881a7dbf-0672-4416-a0cf-6e5acb33848e",
   "metadata": {},
   "outputs": [
    {
     "name": "stdin",
     "output_type": "stream",
     "text": [
      " 12\n"
     ]
    },
    {
     "name": "stdout",
     "output_type": "stream",
     "text": [
      "2731\n"
     ]
    }
   ],
   "source": [
    "n = int(input())\n",
    "dp = [0] * (n + 1)\n",
    "dp[1] = 1 ## 2 X 1을 만드는 방법의 수\n",
    "if n > 1:\n",
    "    dp[2] = 3 ## 2 X 2를 만드는 방법의 수\n",
    "\n",
    "for i in range(3, n + 1):\n",
    "    dp[i] = (dp[i - 1] + 2*dp[i - 2]) % 10007 ## 문제 조건이 10007로 나눈 나머지를 출력(중간 과정마다 mod 추가해도 문제 없음)\n",
    "    \n",
    "print(dp[n] % 10007)\n",
    "\n",
    "# input\n",
    "# 12"
   ]
  },
  {
   "cell_type": "code",
   "execution_count": null,
   "id": "8a4862c0-ba48-4e10-bf06-91eea5e13704",
   "metadata": {},
   "outputs": [],
   "source": []
  }
 ],
 "metadata": {
  "kernelspec": {
   "display_name": "Python 3 (ipykernel)",
   "language": "python",
   "name": "python3"
  },
  "language_info": {
   "codemirror_mode": {
    "name": "ipython",
    "version": 3
   },
   "file_extension": ".py",
   "mimetype": "text/x-python",
   "name": "python",
   "nbconvert_exporter": "python",
   "pygments_lexer": "ipython3",
   "version": "3.8.11"
  }
 },
 "nbformat": 4,
 "nbformat_minor": 5
}
