{
 "cells": [
  {
   "cell_type": "markdown",
   "id": "cd95e575-8122-45f9-924b-8145997b4df5",
   "metadata": {},
   "source": [
    "# 동적 계획법 (Dynamic Programming)"
   ]
  },
  {
   "cell_type": "markdown",
   "id": "63c6d7de-cbfd-41a5-af25-3ce29ed00dba",
   "metadata": {},
   "source": [
    "## 피보나치 함수\n",
    "\n",
    "- 문제 출처: [백준 1003번](https://www.acmicpc.net/problem/1003)"
   ]
  },
  {
   "cell_type": "markdown",
   "id": "0e73f5b0-404b-4cc4-899f-3f0063131fdf",
   "metadata": {},
   "source": [
    "`-` 직접 $0$과 $1$이 몇번 출력되는지 계산해도 된다\n",
    "\n",
    "`-` 근데 규칙을 보면 출력되는 횟수의 합이 피보나치 수열을 따름\n",
    "\n",
    "`-` 그리고 $0$이 출력되는 횟수가 $1$이 출력되는 횟수보다 $1$이 더 작다 ($\\operatorname{fibo}(3)$ 이상 부터)\n",
    "\n",
    "`-` $\\operatorname{fibo}(1) = 5$이므로 $0$은 $5 // 2$번 $1$은 $5 - (5 // 2)$번 출력됨"
   ]
  },
  {
   "cell_type": "markdown",
   "id": "ef4469ec-eaa2-4b71-b1c2-1b9b2bc899f8",
   "metadata": {},
   "source": [
    "```python\n",
    "def fibo(n):\n",
    "    fir_fibo = 0\n",
    "    sec_fibo = 1\n",
    "    for i in range(n):\n",
    "        next_fibo = fir_fibo + sec_fibo\n",
    "        fir_fibo = sec_fibo\n",
    "        sec_fibo = next_fibo\n",
    "    return next_fibo\n",
    "\n",
    "\n",
    "T = int(input())\n",
    "for i in range(T):\n",
    "    N = int(input())\n",
    "    if N == 0:\n",
    "        print(1, 0)\n",
    "    elif N == 1:\n",
    "        print(0, 1) \n",
    "    elif N > 1:\n",
    "        fibo_N = fibo(N)\n",
    "        print(fibo_N // 2, fibo_N - (fibo_N // 2))\n",
    "```        "
   ]
  },
  {
   "cell_type": "markdown",
   "id": "229f80a3-8c77-4507-8c40-2d88255af76e",
   "metadata": {},
   "source": [
    "`-` 위의 코드는 틀렸다\n",
    "\n",
    "`-` 계산해보니 $0$출력 횟수와 $1$출력 횟수 차이는 $1$이 아니었음\n",
    "\n",
    "`-` $\\operatorname{fibo}(5)$의 경우 $0$은 $3$번, $1$은 $5$번 출력함\n",
    "\n",
    "`-` $\\operatorname{fibo}(n)$일 떄 $0$은 $\\operatorname{fibo}(n-1)$번, $1$은 $\\operatorname{fibo}(n)$번 출력함 ($n > 1$)"
   ]
  },
  {
   "cell_type": "code",
   "execution_count": 42,
   "id": "a3f7885e-63f0-4d51-8b29-078583849e9d",
   "metadata": {},
   "outputs": [
    {
     "name": "stdin",
     "output_type": "stream",
     "text": [
      " 3\n",
      " 0\n"
     ]
    },
    {
     "name": "stdout",
     "output_type": "stream",
     "text": [
      "1 0\n"
     ]
    },
    {
     "name": "stdin",
     "output_type": "stream",
     "text": [
      " 1\n"
     ]
    },
    {
     "name": "stdout",
     "output_type": "stream",
     "text": [
      "0 1\n"
     ]
    },
    {
     "name": "stdin",
     "output_type": "stream",
     "text": [
      " 3\n"
     ]
    },
    {
     "name": "stdout",
     "output_type": "stream",
     "text": [
      "1 2\n"
     ]
    }
   ],
   "source": [
    "def fibo(n):\n",
    "    if n <= 1:\n",
    "        return n\n",
    "    fir_fibo = 0\n",
    "    sec_fibo = 1\n",
    "    for i in range(n-1):\n",
    "        next_fibo = fir_fibo + sec_fibo\n",
    "        fir_fibo = sec_fibo\n",
    "        sec_fibo = next_fibo\n",
    "    return next_fibo\n",
    "\n",
    "\n",
    "T = int(input())\n",
    "for i in range(T):\n",
    "    N = int(input())\n",
    "    if N == 0:\n",
    "        print(1, 0) \n",
    "    elif N == 1:\n",
    "        print(0, 1)       \n",
    "    elif N > 1:\n",
    "        print(fibo(N-1), fibo(N)) "
   ]
  },
  {
   "cell_type": "markdown",
   "id": "f041bdff-23b7-44ce-953b-92be544074fd",
   "metadata": {},
   "source": [
    "## 신나는 함수 실행\n",
    "\n",
    "- 문제 출처: [백준 9184번](https://www.acmicpc.net/problem/9184)"
   ]
  },
  {
   "cell_type": "code",
   "execution_count": 24,
   "id": "322b12bf-60fb-46e9-9117-7932a3914177",
   "metadata": {},
   "outputs": [
    {
     "name": "stdin",
     "output_type": "stream",
     "text": [
      " 1 1 1\n"
     ]
    },
    {
     "name": "stdout",
     "output_type": "stream",
     "text": [
      "w(1, 1, 1) = 2\n"
     ]
    },
    {
     "name": "stdin",
     "output_type": "stream",
     "text": [
      " 2 2 2\n"
     ]
    },
    {
     "name": "stdout",
     "output_type": "stream",
     "text": [
      "w(2, 2, 2) = 4\n"
     ]
    },
    {
     "name": "stdin",
     "output_type": "stream",
     "text": [
      " 10 4 6\n"
     ]
    },
    {
     "name": "stdout",
     "output_type": "stream",
     "text": [
      "w(10, 4, 6) = 523\n"
     ]
    },
    {
     "name": "stdin",
     "output_type": "stream",
     "text": [
      " 50 50 50\n"
     ]
    },
    {
     "name": "stdout",
     "output_type": "stream",
     "text": [
      "w(50, 50, 50) = 1048576\n"
     ]
    },
    {
     "name": "stdin",
     "output_type": "stream",
     "text": [
      " -1 7 18\n"
     ]
    },
    {
     "name": "stdout",
     "output_type": "stream",
     "text": [
      "w(-1, 7, 18) = 1\n"
     ]
    },
    {
     "name": "stdin",
     "output_type": "stream",
     "text": [
      " -1 -1 -1\n"
     ]
    }
   ],
   "source": [
    "def w(a, b, c):\n",
    "    if (a, b, c) in w_dict:\n",
    "        return w_dict[(a, b, c)] \n",
    "    if a <= 0 or b <= 0 or c <= 0:\n",
    "        return 1\n",
    "    elif a > 20 or b > 20 or c > 20:\n",
    "        return w(20, 20, 20)\n",
    "    elif a < b and b < c:\n",
    "        w_dict[(a, b, c)] = w(a, b, c - 1) + w(a, b - 1, c - 1) - w(a, b - 1, c)\n",
    "    else:\n",
    "        w_dict[(a, b, c)] =  w(a - 1, b, c) + w(a - 1, b - 1, c) + w(a - 1, b, c - 1) - w(a - 1, b - 1, c - 1)\n",
    "    return w_dict[(a, b, c)]\n",
    "\n",
    "\n",
    "w_dict = {(0, 0, 0): 1}\n",
    "while True:\n",
    "    A, B, C = map(int, input().split())\n",
    "    if A == B == C == -1:\n",
    "        break\n",
    "    print('w(%s, %s, %s) = %s' % (A, B, C, w(A, B, C)))"
   ]
  },
  {
   "cell_type": "markdown",
   "id": "afa1f0f7-eb57-4752-a7c8-f47d7e4f22c2",
   "metadata": {
    "tags": []
   },
   "source": [
    "## 파도반 수열\n",
    "\n",
    "- 문제 출처: [백준 9461번](https://www.acmicpc.net/problem/9461)"
   ]
  },
  {
   "cell_type": "markdown",
   "id": "ba200620-8a47-4dbf-8a8b-39bcf09ed4d3",
   "metadata": {},
   "source": [
    "`-` 점화식: $f(n) = f(n-2)+f(n-3)$"
   ]
  },
  {
   "cell_type": "code",
   "execution_count": 25,
   "id": "075f4a04-3f07-4721-ba39-fd8332e630d6",
   "metadata": {},
   "outputs": [
    {
     "name": "stdin",
     "output_type": "stream",
     "text": [
      " 2\n",
      " 6\n"
     ]
    },
    {
     "name": "stdout",
     "output_type": "stream",
     "text": [
      "3\n"
     ]
    },
    {
     "name": "stdin",
     "output_type": "stream",
     "text": [
      " 12\n"
     ]
    },
    {
     "name": "stdout",
     "output_type": "stream",
     "text": [
      "16\n"
     ]
    }
   ],
   "source": [
    "def padoban_sequence(n):\n",
    "    if n in padoban_sequence_dict:\n",
    "        return padoban_sequence_dict[n]\n",
    "    padoban_sequence_dict[n] = padoban_sequence(n - 3) + padoban_sequence(n - 2)\n",
    "    return  padoban_sequence_dict[n]\n",
    "\n",
    "\n",
    "padoban_sequence_dict = {1: 1, 2: 1, 3: 1}\n",
    "T = int(input())\n",
    "for _ in range(T):\n",
    "    N = int(input())\n",
    "    print(padoban_sequence(N))"
   ]
  },
  {
   "cell_type": "markdown",
   "id": "8f405791-caf0-4216-8625-3d5b6a44b40e",
   "metadata": {},
   "source": [
    "## 01타일\n",
    "- 문제 출처: [백준 1904번](https://www.acmicpc.net/problem/1904)"
   ]
  },
  {
   "cell_type": "markdown",
   "id": "10d49b67-3e2e-48e6-903f-588e6565cfad",
   "metadata": {},
   "source": [
    "`-` 점화식 노가다로 구했음 ---> 만약 노가다로 찾을 수 없는 문제를 해결해야 한다면...\n",
    "\n",
    "`-` 피보나치 수열의 점화식과 동일함\n",
    "\n",
    "`-` 점화식: $f(n) = f(n-1) + f(n-2)$"
   ]
  },
  {
   "cell_type": "markdown",
   "id": "21a45fb9-324b-4630-9b5c-c12e0dc8e0af",
   "metadata": {},
   "source": [
    "- 이 코드는 재귀함수를 사용해 top-down으로 구현함\n",
    "\n",
    "`-` RecursionError 발생 ---> 재귀 깊이 초과\n",
    "\n",
    "`-` 그래서 재귀 깊이를 크게 하려고 했는데 조건을 보니 $N$이 최대 $10^6$ 이다\n",
    "\n",
    "`-` 그래서 그냥 bottom-up방식으로 코드를 짜기로 함\n",
    "\n",
    "`-` 재귀 깊이를 크게 했더니 ---> 시간 초과"
   ]
  },
  {
   "cell_type": "markdown",
   "id": "f1dd27b1-e658-4fd8-9cc9-eff367cf8dce",
   "metadata": {},
   "source": [
    "- top-down 코드"
   ]
  },
  {
   "cell_type": "code",
   "execution_count": 31,
   "id": "e8b92635-33b7-4d72-a424-b85c18e80e06",
   "metadata": {},
   "outputs": [
    {
     "name": "stdin",
     "output_type": "stream",
     "text": [
      " 4\n"
     ]
    },
    {
     "name": "stdout",
     "output_type": "stream",
     "text": [
      "5\n"
     ]
    }
   ],
   "source": [
    "def tile(n):\n",
    "    if n in tile_dict:\n",
    "        return tile_dict[n]\n",
    "    tile_dict[n] = tile(n - 1) + tile(n - 2)\n",
    "    return tile_dict[n]\n",
    "\n",
    "\n",
    "tile_dict = {1: 1, 2: 2}\n",
    "N = int(input())\n",
    "print((tile(N) % 15746))"
   ]
  },
  {
   "cell_type": "markdown",
   "id": "a89ff072-479f-471e-a05f-905c2fa88cd5",
   "metadata": {},
   "source": [
    "- bottom-up 코드"
   ]
  },
  {
   "cell_type": "markdown",
   "id": "e8ef6f5a-8e06-4931-b65e-32529055217b",
   "metadata": {},
   "source": [
    "`-` 메모리 초과 ---> 왜? 이유 모름 "
   ]
  },
  {
   "cell_type": "code",
   "execution_count": 42,
   "id": "4fe60323-42f3-4d6e-88e0-371fc9ce43f6",
   "metadata": {},
   "outputs": [
    {
     "name": "stdin",
     "output_type": "stream",
     "text": [
      " 4\n"
     ]
    },
    {
     "name": "stdout",
     "output_type": "stream",
     "text": [
      "5\n"
     ]
    }
   ],
   "source": [
    "N = int(input())\n",
    "x = 10**6\n",
    "tile_list = [1, 1, 2] + [0] * (x - 2)\n",
    "for i in range(3, N + 1):\n",
    "    tile_list[i] = tile_list[i - 1] + tile_list[i - 2]\n",
    "print((tile_list[N] % 15746))"
   ]
  },
  {
   "cell_type": "markdown",
   "id": "88b16149-3604-4ddd-902c-3557e3c89510",
   "metadata": {},
   "source": [
    "`-` 그래서 다른 방법으로 코드 구현했음"
   ]
  },
  {
   "cell_type": "markdown",
   "id": "95245dd9-dfc0-4232-894d-57bd5e60d6e0",
   "metadata": {},
   "source": [
    "`-` 시간 초과 ---> 왜?"
   ]
  },
  {
   "cell_type": "code",
   "execution_count": 52,
   "id": "982eb20b-95c2-4359-b848-f214c21ff51b",
   "metadata": {},
   "outputs": [
    {
     "name": "stdin",
     "output_type": "stream",
     "text": [
      " 4\n"
     ]
    },
    {
     "name": "stdout",
     "output_type": "stream",
     "text": [
      "5\n"
     ]
    }
   ],
   "source": [
    "N = int(input())\n",
    "if N <= 2:\n",
    "    print(N)\n",
    "else:\n",
    "    fir = 1\n",
    "    sec = 2\n",
    "    for i in range(N - 2):\n",
    "        next_ = fir + sec\n",
    "        fir = sec\n",
    "        sec = next_\n",
    "    print(next_ % 15746)"
   ]
  },
  {
   "cell_type": "markdown",
   "id": "4ee89eb4-68fa-4b2a-85fd-9d5026b605df",
   "metadata": {},
   "source": [
    "`-` 참고: [https://m.blog.naver.com/hankrah/221863365092](https://m.blog.naver.com/hankrah/221863365092)\n",
    "\n",
    "`-` map 함수 사용\n",
    "\n",
    "`-` 메모리 초과 ---> append 때문인 듯"
   ]
  },
  {
   "cell_type": "code",
   "execution_count": 56,
   "id": "52a21a1c-cc84-4dcc-a3b9-a7eaa93308e2",
   "metadata": {},
   "outputs": [
    {
     "name": "stdin",
     "output_type": "stream",
     "text": [
      " 4\n"
     ]
    },
    {
     "data": {
      "text/plain": [
       "5"
      ]
     },
     "execution_count": 56,
     "metadata": {},
     "output_type": "execute_result"
    }
   ],
   "source": [
    "def fibonacci(n):\n",
    "    fibo = [1, 2]\n",
    "    [*map(lambda _: fibo.append(sum(fibo[-2:])), range(2, n))]  # tuple unpacking\n",
    "    return fibo[n - 1]\n",
    "\n",
    "\n",
    "N = int(input())\n",
    "print(fibonacci(N) % 15746)"
   ]
  },
  {
   "cell_type": "markdown",
   "id": "813d0d38-d8f1-4130-94ad-132b286ca2f5",
   "metadata": {},
   "source": [
    "`-` 아래 코드는 정답임\n",
    "\n",
    "`-` 일단 재귀 함수로 구현한 top-down방식은 시간이 오래걸린다\n",
    "\n",
    "`-` 그러므로 bottom-up 방식을 사용했다\n",
    "\n",
    "`-` 근데 메모리초과가 발생했다 ---> 이유가 뭐지??\n",
    "\n",
    "`-` 처음엔 몰랐는데 생각해보니 나는 숫자를 다 계산한 다음에 $15746$으로 나눈 나머지를 구했다\n",
    "\n",
    "`-` $N = 1000000$이라면 백만번째 피보나치 항의 값을 구하는 것인데 수가 얼마나 크나면 겁나 큼 ---> 수가 너무 커서 메모리 터짐\n",
    "\n",
    "`-` 그래서 $N$번째 피보나치 수열을 구한 뒤에 $15746$으로 나누지 않고 $15746$으로 나눈 값들을 더해나갔다 ---> 이게 왜 성립함??\n",
    "\n",
    "`-` 편의를 위해 $15746$ 대신 $7000$을 쓰자\n",
    "\n",
    "`-` 다음은 피보나치 수열의 점화식과 같은 형태임\n",
    "\n",
    "`-` $10000 + 20000 = 30000, 20000 + 30000 = 50000$\n",
    "\n",
    "`-` 일단 최종 결과인 $50000$을 $7000$으로 나눈 나머지는 $1000$이다\n",
    "\n",
    "`-` $30000$을 $7000$으로 나눈 나머지는 $2000$이다\n",
    "\n",
    "`-` 그러면 $20000 + 30000$에서 $30000$ 대신 $2000$을 써도 식이 성립할까?\n",
    "\n",
    "`-` $20000 + 2000 = 22000$, $22000$을 $7000$으로 나눈 나머지는 $1000$이다 ---> 식이 성립함\n",
    "\n",
    "`-` 왜 성립하냐면 $50000$을 $7000$으로 나눌 것인데 $50000$을 $20000$과 $30000$으로 쪼갤 수 있음\n",
    "\n",
    "`-` $(20000 + 30000) \\% 7000$은 $20000$을 $7000$으로 나눈 나머지와 $30000$을 $7000$으로 나눈 나머지를 더한 것임\n",
    "\n",
    "`-` 근데 더한 값이 $7000$보다 클 수도 있으니 더한 값을 $7000$으로 또 나눠준다\n",
    "\n",
    "`-` 동그란 케잌으로 생각하자 한 번에 $7000$만큼의 케잌을 조각내어 퍼갈 수 있음 (피자 8등분 하듯이 $50000$중에 $7000$만큼 조각 케잌 모양으로 퍼감) \n",
    "\n",
    "`-` 케잌 크기가 $50000$이라면 $7$번 퍼가면 $1000$이 남는다\n",
    "\n",
    "`-` 근데 $50000$을 $20000$과 $30000$으로 나눈뒤에($50000$ 크기의 동그란 케잌을 각각 $20000, 30000$ 크기인 반원형 케잌으로 cut) $20000$에서 $7000$만큼 퍼가고 $30000$에서 $7000$만큼 퍼가도 된다\n",
    "\n",
    "`-` $20000$에서 퍼가고 남은 케잌 조각과 $30000$에서 퍼가고 남은 케잌 조각을 합쳐서 다시 케잌을 만들고 이 케잌에서 $7000$을 퍼가면 결과적으로 $50000$에서 $7000$을 퍼간 것과 동일함"
   ]
  },
  {
   "cell_type": "code",
   "execution_count": 57,
   "id": "9a2dc2fa-d483-4664-80a4-cbdc8ec6ebfd",
   "metadata": {},
   "outputs": [
    {
     "name": "stdin",
     "output_type": "stream",
     "text": [
      " 4\n"
     ]
    },
    {
     "name": "stdout",
     "output_type": "stream",
     "text": [
      "5\n"
     ]
    }
   ],
   "source": [
    "N = int(input())\n",
    "x = 10**6\n",
    "tile_list = [0] * (x + 1)\n",
    "tile_list[1] = 1\n",
    "tile_list[2] = 2\n",
    "for i in range(3, N + 1):\n",
    "    tile_list[i] = (tile_list[i - 1] + tile_list[i - 2]) % 15746\n",
    "print(tile_list[N])"
   ]
  },
  {
   "cell_type": "markdown",
   "id": "2f064eb4-2dbe-4612-a5fe-e028d6f285c9",
   "metadata": {},
   "source": [
    "## RGB거리\n",
    "\n",
    "- 문제 출처: [백준 1149번](https://www.acmicpc.net/problem/1149)"
   ]
  },
  {
   "cell_type": "markdown",
   "id": "f01b6f4a-35e4-4187-aa2e-2f51fed943f9",
   "metadata": {},
   "source": [
    "`-` $N = 10$이라면 10개를 최소 비용으로 칠하는 방법은 9개까지 칠하는 방법이 여러개 있음(일단 $\\operatorname{dp}[9]$라고 하자) + 10번째 칠하는 방법은 3가지\n",
    "\n",
    "`-` $\\operatorname{dp}[9]+P_{10}$의 최소값이 $\\operatorname{dp}[10]$이 된다\n",
    "\n",
    "`-` 일반화하면 $\\min(\\operatorname{dp}[i-1]+P_i) = \\operatorname{dp}[i]$ ---> 아닌듯\n",
    "\n",
    "`-` `위의 논리`는 `그리디 알고리즘`이다. 항상 최소가 되는 비용을 선택하면 전체적으로도 비용이 최소가 되기를 바라는 것이다 ---> 하지만 틀렸다\n",
    "\n",
    "`-` $\\operatorname{dp}[10]$은 10개까지 색칠하는 여러 방법 ---> $\\min(\\operatorname{dp}[10]+P_{11}) \\to \\operatorname{dp}[11]$\n",
    "\n",
    "`-` $\\operatorname{dp}[11]$은 최소값 -> 100원이라 하자, 다음으로 싼게 110원\n",
    "\n",
    "`-` $\\operatorname{dp}[11]+P_{12} \\to \\operatorname{dp}[12]$ 이미 $\\operatorname{dp}[11]$이 최소값 --> 100원을 골라서 $\\operatorname{dp}[12]$는 200원임 다른건 뭐냐? 1원이 있고 1000원, 근데 1원은 이미 고른 색이어서 못 고름 \n",
    "\n",
    "`-` $\\operatorname{dp}[12]$는 200이 아니라 111원임 $\\operatorname{dp}[11]$이 최소지만 $\\operatorname{dp}[12]$는 최소가 아니었음 \n",
    "\n",
    "`-` 그럼 남음 방법 뭐임??\n",
    "\n",
    "`-` $\\operatorname{dp}[11]$을 최소값으로 골랐지만 $\\operatorname{dp}[12]$가 최소가 아닌 이유는 중복되는 색깔을 선택하지 못하기 때문\n",
    "\n",
    "`-` 그러면 $\\operatorname{dp}[11]$을 전체의 최소값으로 선택하지 말고 색깔마다 최소값을 고르자 ---> 11번째 색이 각각 (빨,초,파)인 경우에 최소값을 구하자 ---> 총 3가지가 존재함\n",
    "\n",
    "`-` 이제 $\\operatorname{dp}[12]$는 어떻게 구하냐면 $\\operatorname{dp}[11]$과 $P_{12}$의 조합이 총 6가지 존재\n",
    "\n",
    "`-` 6개 중에서 12번째 색이 빨, 파, 초가 존재하는데 각각 2개씩 있다 ---> 각각 2개 중에서 더 적은 비용을 고른다\n",
    "\n",
    "`-` 그러면 이제 12번째 색이 빨, 파, 초 일때의 전체 비용의 최소값이 존재 ---> $\\operatorname{dp}[12]$는 색깔별로 존재하니까 총 3개\n",
    "\n",
    "`-` 위와 같은 논리로 마지막 $N$번째까지 최소비용으로 선택하면 된다"
   ]
  },
  {
   "cell_type": "markdown",
   "id": "51ab4cd5-4e25-4305-b367-56ce7666b23c",
   "metadata": {},
   "source": [
    "- 처음 구현한 코드 \n",
    "\n",
    "`-` 이상한 값을 출력함\n",
    "\n",
    "`-` $\\operatorname{dp}[i+1][0]$의 의미는 i번째 색깔로 0을 선택했다는 의미임 ---> 즉 $\\text{house_prices[i][0]}$ 이어야함\n",
    "\n",
    "`-` 근데 $\\text{house_prices}$가 0이 아니라 $\\operatorname{dp}[i]$의 값을 0으로 선택했음 ---> $\\operatorname{dp}[i][0]$ 이라면 $\\operatorname{dp}[i+1]$은 1 or 2이다 (0이 아님)\n",
    "\n",
    "`-` 틀렸습니다 "
   ]
  },
  {
   "cell_type": "code",
   "execution_count": 15,
   "id": "fcabde8d-b750-49c5-9c5b-9e1374e633e7",
   "metadata": {},
   "outputs": [
    {
     "name": "stdin",
     "output_type": "stream",
     "text": [
      " 3\n",
      " 26 40 83\n",
      " 49 60 57\n",
      " 13 89 99\n"
     ]
    },
    {
     "name": "stdout",
     "output_type": "stream",
     "text": [
      "102\n"
     ]
    }
   ],
   "source": [
    "N = int(input())\n",
    "house_prices = []\n",
    "for _ in range(N):\n",
    "    house_prices.append(list(map(int, input().split())))\n",
    "dp = [[0]*3 for _ in range(1001)]\n",
    "dp[1] = house_prices[0]\n",
    "for i in range(1, N):\n",
    "    dp[i + 1][0] = min(dp[i][0] + house_prices[i][1], dp[i][0] + house_prices[i][2])\n",
    "    dp[i + 1][1] = min(dp[i][1] + house_prices[i][0], dp[i][1] + house_prices[i][2])\n",
    "    dp[i + 1][2] = min(dp[i][2] + house_prices[i][0], dp[i][2] + house_prices[i][1])\n",
    "print(min(dp[N]))"
   ]
  },
  {
   "cell_type": "markdown",
   "id": "fe171ec7-163f-48b0-a895-ee0b10dbdf2b",
   "metadata": {},
   "source": [
    "- 디버깅한 코드\n",
    "\n",
    "`-` 맞았습니다"
   ]
  },
  {
   "cell_type": "code",
   "execution_count": 14,
   "id": "011e0135-7b96-43d9-8adc-9ab502c3c41a",
   "metadata": {},
   "outputs": [
    {
     "name": "stdin",
     "output_type": "stream",
     "text": [
      " 3\n",
      " 26 40 83\n",
      " 49 60 57\n",
      " 13 89 99\n"
     ]
    },
    {
     "name": "stdout",
     "output_type": "stream",
     "text": [
      "96\n"
     ]
    }
   ],
   "source": [
    "N = int(input())\n",
    "house_prices = []\n",
    "for _ in range(N):\n",
    "    house_prices.append(list(map(int, input().split())))\n",
    "dp = [[0] * 3 for _ in range(1001)]\n",
    "dp[1] = house_prices[0]\n",
    "for i in range(1, N):\n",
    "    dp[i + 1][0] = min(dp[i][1] + house_prices[i][0], dp[i][2] + house_prices[i][0])\n",
    "    dp[i + 1][1] = min(dp[i][0] + house_prices[i][1], dp[i][2] + house_prices[i][1])\n",
    "    dp[i + 1][2] = min(dp[i][0] + house_prices[i][2], dp[i][1] + house_prices[i][2])\n",
    "print(min(dp[N]))"
   ]
  },
  {
   "cell_type": "markdown",
   "id": "b8112fc3-452d-426c-988a-db303509ae96",
   "metadata": {
    "tags": []
   },
   "source": [
    "## 정수 삼각형\n",
    "- 문제 출처: [백준 1932번](https://www.acmicpc.net/problem/1932)"
   ]
  },
  {
   "cell_type": "markdown",
   "id": "9a84a1c7-ba1c-4681-bfb9-072bcc66d8b5",
   "metadata": {},
   "source": [
    "`-` 위의 RGB 문제와 같은 매커니즘이다\n",
    "\n",
    "`-` 그리디 알고리즘으로 접근하면 주어진 조건하에 항상 최대값을 골라야 하지만 항상 최대값을 고른다고 전체가 최대가 되는 것이 아니다 (선택에 제약이 있기 때문: 인접한 곳만 선택 가능)\n",
    "\n",
    "`-` 현재 $n$층 $i$번째에 위치하고 있다면 $n+1$층으로 내려갈 때 $n+1$층의 $i$번째 or $i+1$번째만 선택 가능\n",
    "\n",
    "`-` $N = 4$일 때 $\\operatorname{dp}[4]$는 무엇일까?\n",
    "\n",
    "`-` 4층은 칸이 4개가 존재 ---> 이를 인덱스로 생각하면 $0\\sim 3$\n",
    "\n",
    "`-` 그러면 4층의 0번째, 4층의 1번째, 4층의 2번째, 4층의 3번째까지 가는 방법이 각각 여러개가 있을 것이다(대각선상에 존재하는 경우는 1개)\n",
    "\n",
    "`-` 그러면 각각 그 중에서 최대값을 선택함 --> 4층의 0번째까지 가는 방법 중 최대값, 4층의 1번째까지 가는 방법 중 최대값 ---> 총 4개 존재함: 인덱스가 4개 이므로\n",
    "\n",
    "`-` 그 4가지 방법 중 최대값이 4층까지 가는 방법 중 가장 큰 값이다"
   ]
  },
  {
   "cell_type": "code",
   "execution_count": 19,
   "id": "e256e70d-96bb-46b7-a258-477a839c0109",
   "metadata": {},
   "outputs": [
    {
     "name": "stdin",
     "output_type": "stream",
     "text": [
      " 5\n",
      " 7\n",
      " 3 8 \n",
      " 8 1 0\n",
      " 2 7 4 4 \n",
      " 4 5 2 6 5\n"
     ]
    },
    {
     "name": "stdout",
     "output_type": "stream",
     "text": [
      "30\n"
     ]
    }
   ],
   "source": [
    "N = int(input())\n",
    "triangle = []\n",
    "for _ in range(N):\n",
    "    triangle.append(list(map(int, input().split())))\n",
    "dp = [[0] * x for x in range(1, 501)]\n",
    "dp[0][0] = triangle[0][0]  # 0층 꼭짓점\n",
    "# 1층은 왼쪽 대각선과 오른쪽 대각선만 존재하고 대각선 사이에는 데이터가 없어서 따로 처리했음\n",
    "if N > 1:\n",
    "    dp[1][0] = triangle[1][0] + dp[0][0]  # 왼쪽 대각선\n",
    "    dp[1][1] = triangle[1][1] + dp[0][0]  # 오른쪽 대각선\n",
    "for i in range(1, N - 1):\n",
    "    for k in range(1, i + 1):\n",
    "        dp[i + 1][0] = dp[i][0] + triangle[i + 1][0]  # 왼쪽 대각선\n",
    "        dp[i + 1][k] = max(dp[i][k - 1] + triangle[i + 1][k] , dp[i][k] + triangle[i + 1][k])  # 대각선 사이\n",
    "        dp[i + 1][i + 1] = dp[i][i] + triangle[i + 1][i + 1]  # 오른쪽 대각선\n",
    "print(max(dp[N - 1]))"
   ]
  },
  {
   "cell_type": "markdown",
   "id": "209b0317-59d1-4cba-a8d7-194d684423c5",
   "metadata": {},
   "source": [
    "`-` 재채점 되어서 확인했더니 틀렸습니다 ---> $N = 1$일 때를 고려하지 않아 Indexerror 발생\n",
    "\n",
    "`-` $N = 1$일 때를 고려하도록 수정했음 ---> 맞았습니다"
   ]
  },
  {
   "cell_type": "markdown",
   "id": "cfd4042d-88dd-4e07-9ec3-9e5c32ee3300",
   "metadata": {},
   "source": [
    "## 계단 오르기\n",
    "- 문제 출처: [백준 2579번](https://www.acmicpc.net/problem/2579)"
   ]
  },
  {
   "cell_type": "markdown",
   "id": "eb9505f9-da5f-43bd-8e93-32355e6d73a4",
   "metadata": {},
   "source": [
    "`-` 계단은 최대 $300$개, 칸 마다 점수는 $10000$ 이하의 자연수\n",
    "\n",
    "`-` 도착 지점은 무조건 밟아야 한다\n",
    "\n",
    "`-` 그래서 출발 지점부터 시작하지말고 도착 지점부터 시작한다고 생각했음\n",
    "\n",
    "`-` $\\operatorname{dp}[i]$ ---> 마지막으로 밟은 지점이 $\\operatorname{step}$의 $i$번째 인덱스일 때 점수가 최대가 되도록 하는 경로\n",
    "\n",
    "`-` $\\operatorname{dp}[i] = \\max(\\operatorname{step}[i] + \\operatorname{dp}[i-2] , \\operatorname{step}[i] + \\operatorname{dp}[i-1])$ ---> 아닌듯, 연속해서 $3$번 밟을 수 없음\n",
    "\n",
    "`-` $\\operatorname{step}[i] + \\operatorname{dp}[i-2]$는 상관없지만 $\\operatorname{step}[i] + \\operatorname{dp}[i-1]$는 상관있음   \n",
    "\n",
    "`-` $\\operatorname{dp}[i] = \\max(\\operatorname{step}[i] + \\operatorname{step}[i-1] + \\operatorname{dp}[i-3]),\\; \\max(\\operatorname{step}[i] + \\operatorname{step}[i-2] + \\operatorname{dp}[i-3])$\n",
    "\n",
    "`-` $i$번째 계단을 밟는데 $i-1$번째 계단과 $i-2$번째 계단을 밟았는지 밟지 않았는지가 중요하다\n",
    "\n",
    "`-` 만약 $i-1$번째와 $i-2$번째 계단을 둘다 밟았다면 $i$번째 계단을 밟을 수 없다\n",
    "\n",
    "`-` 만약 $i-1$번째나 $i-2$번째 계단 중 한 곳만 밟았다면 $i$번째 계단을 밟을 수 있다\n",
    "\n",
    "`-` 만약 $i-1$번째나 $i-2$번째 계단을 둘다 밟지 않았으면 $i$번째 계단을 밟을 수 없다\n",
    "\n",
    "`-` 하나하나씩 써보자\n",
    "\n",
    "`-` $\\operatorname{dp}[0]$ = 도착 지점의 점수\n",
    "\n",
    "`-` $\\operatorname{dp}[1] = \\operatorname{step}[1]$ ($0$번째 계단 안밟음) , $\\operatorname{step}[1] + \\operatorname{dp}[0]$ ($0$번째 계단 밟음)\n",
    "\n",
    "`-` $\\operatorname{dp}[2] = \\operatorname{step}[2] + \\operatorname{dp}[0]$ (1번쨰 계단 안밟음, 0번째 계단 밟음), $\\operatorname{step}[2] + \\operatorname{dp}[1] (= \\operatorname{step}[1])$ (1번째 계단 밟음, $0$번째 계단 안밟음)\n",
    "\n",
    "`-` $\\operatorname{dp}[3] = \\operatorname{step}[3] + \\operatorname{dp}[2] (= \\operatorname{step}[2] + \\operatorname{dp}[0])$ ($2$번째 계단 밟음, $1$번째 계단 안밟음), $\\operatorname{step}[3] + \\operatorname{dp}[1] (= step[3] + \\operatorname{dp}[1] = \\max(\\operatorname{step}[1], \\operatorname{step}[1] + \\operatorname{dp}[0])$ ($2$번쨰 계단 안밟음, $1$번째 계단 밟음) \n",
    "\n",
    "`-` 위에 틀린 부분이 있음, 규칙상 $0$번째 계단(도착 지점)은 무조건 밟아야 하는데 $\\operatorname{dp}[1](= \\operatorname{step}[1])$, $\\operatorname{dp}[2](= \\operatorname{step}[2] + \\operatorname{step}[1])$은 $0$번째 계단을 밟지 않았으므로 제외해야 함"
   ]
  },
  {
   "cell_type": "code",
   "execution_count": 57,
   "id": "259549fb-a819-4fd2-a776-10f9bf3619e2",
   "metadata": {},
   "outputs": [
    {
     "name": "stdin",
     "output_type": "stream",
     "text": [
      " 6\n",
      " 10\n",
      " 20\n",
      " 15\n",
      " 25\n",
      " 10\n",
      " 20\n"
     ]
    },
    {
     "name": "stdout",
     "output_type": "stream",
     "text": [
      "75\n"
     ]
    }
   ],
   "source": [
    "N = int(input())\n",
    "step = []\n",
    "for _ in range(N):\n",
    "    step.append(int(input()))\n",
    "step.reverse()  # 도착부터 시작할거임 --> 미로찾기할 때 출발부터 시작안하고 도착부터 시작하듯이\n",
    "dp = [[0] * 2 for _ in range(300)]  # dp[i][0] => i-1번째를 밟고 i-2번째를 안밟음, dp[i][1] => i-1번째를 안밟고 i-2번째를 밟음\n",
    "dp[0][0] = step[0]\n",
    "dp[0][1] = step[0]\n",
    "if N >= 2:\n",
    "    dp[1][0] = step[1] + step[0]\n",
    "    dp[1][1] = -(3 * 10**6)  # 0번째 계단은 무조건 밟아야 하는데 dp[1][1]은 0번째 계단을 안 밟음 ---> 그래서 의도적으로 dp[1][1]을 경유하면 절대로 최대값이 나오지 안도록 값을 조정함\n",
    "if N >= 3:\n",
    "    dp[2][0] = -(3 * 10**6)  # dp[1][1]과 마찬가지임\n",
    "    dp[2][1] = step[2] + step[0]\n",
    "for i in range(3, N):\n",
    "    dp[i][0] = step[i] + dp[i - 1][1]\n",
    "    dp[i][1] = step[i] + max(dp[i - 2][0], dp[i - 2][1])\n",
    "print(max(dp[N - 1][0], dp[N - 1][1], dp[N - 2][0], dp[N - 2][1]))  # 출발지점을 밟는 길과 밟지 않는 길 중에서 점수 획득이 가장 높은 것을 선택"
   ]
  },
  {
   "cell_type": "markdown",
   "id": "dbbed4eb-0c41-49d1-a4a9-c302ec449400",
   "metadata": {},
   "source": [
    "## 1로 만들기\n",
    "\n",
    "- 문제 출처: [백준 1463번](https://www.acmicpc.net/problem/1463)\n",
    "\n",
    "`-` 일단 내 생각: 3으로 나누는 것이 수를 1로 만드는데 가장 효과적이라 생각했음\n",
    "\n",
    "`-` 그래서 일단 3으로 나눈다 ---> 만약 3으로 나눠지지 않는다면??\n",
    "\n",
    "`-` 만약 1을 뺀 값이 3으로 나눠지면 1을 뺀다 ---> 그렇지 않다면 2로 나눈다 ---> 만약 2로도 나눠지지 않는다면?\n",
    "\n",
    "`-` 1을 뺀다\n",
    "\n",
    "`-` 만약 2의 거듭제곱수이면 2로만 나누기\n",
    "\n",
    "`-` 틀렸습니다"
   ]
  },
  {
   "cell_type": "markdown",
   "id": "ee9acad0-2c90-4a0b-8ff6-781b4db6ca16",
   "metadata": {},
   "source": [
    "```python\n",
    "num = N = int(input())\n",
    "numbers = [0] * (1 + 10**6)\n",
    "power_of_2 = {}\n",
    "i = 2\n",
    "j = 1\n",
    "while i < 10**6:\n",
    "    power_of_2[i] = j\n",
    "    j += 1\n",
    "    i *= 2\n",
    "while True:\n",
    "    if num < 2:\n",
    "        break\n",
    "    if num in power_of_2:\n",
    "        numbers[1] = numbers[num] + power_of_2[num]\n",
    "        break\n",
    "    if num % 3 == 0:\n",
    "        now_num = num // 3\n",
    "        if numbers[now_num] == 0:\n",
    "            numbers[now_num] += 1 + numbers[num]\n",
    "        elif numbers[now_num] > 0:\n",
    "            numbers[now_num] = min(numbers[num] + 1, numbers[now_num])  \n",
    "        num = now_num\n",
    "        continue\n",
    "    elif (num - 1) % 3 == 0:\n",
    "        now_num = num - 1\n",
    "        if numbers[now_num] == 0:\n",
    "            numbers[now_num] += 1 + numbers[num]  \n",
    "        elif numbers[now_num] > 0:\n",
    "            numbers[now_num] = min(numbers[num] + 1, numbers[now_num])  \n",
    "        num = now_num\n",
    "        continue\n",
    "    elif num % 2 == 0:\n",
    "        now_num = num // 2\n",
    "        if numbers[now_num] == 0:\n",
    "            numbers[now_num] += 1 + numbers[num]   \n",
    "        elif numbers[now_num] > 0:\n",
    "            numbers[now_num] = min(numbers[num] + 1, numbers[now_num])  \n",
    "        num = now_num\n",
    "        continue\n",
    "    else:\n",
    "        now_num = num - 1\n",
    "        if numbers[now_num] == 0:\n",
    "            numbers[now_num] += 1 + numbers[num]\n",
    "        elif numbers[now_num] > 0:\n",
    "            numbers[now_num] = min(numbers[num] + 1, numbers[now_num])\n",
    "        num = now_num\n",
    "    if num < 2:\n",
    "        break\n",
    "print(numbers[1])    \n",
    "```"
   ]
  },
  {
   "cell_type": "markdown",
   "id": "9e593e07-5f1e-4ba6-bfc4-8e313b24130c",
   "metadata": {},
   "source": [
    "`-` 만약 number가 소인수로 2와 3만을 가지는 시점이 온다면?\n",
    "\n",
    "`-` $\\operatorname{number} = 2^a\\cdot 3^b$ \n",
    "\n",
    "`-` 1까지 만드려면 2로 $a$번 나누고 3으로 $b$번 나누면 됨 ---> $a+b$번 필요함\n",
    "\n",
    "`-` 그냥 모든 경우를 고려한다면?\n",
    "\n",
    "`-` $N$이 주어지면 $N$을 3으로 나누고 2로 나누고 1을 뺀다\n",
    "\n",
    "`-` 각각에 대해서 또 다시 3으로 나누고 2로 나누고 1을 뺀다\n",
    "\n",
    "`-` 이를 1이 될 때까지 반복\n",
    "\n",
    "`-` 음... 어떻게 함? 재귀로?\n",
    "\n",
    "`-` 디버깅 중...\n",
    "\n",
    "`-` 근데 위와 같이 하면 $N = 10^6$일 때 연산횟수가 커서 시간초과가 발생할 것 같음"
   ]
  },
  {
   "cell_type": "markdown",
   "id": "9703b5f5-60d0-48c7-a129-b35d8e82f05d",
   "metadata": {},
   "source": [
    "```python\n",
    "\n",
    "# 시간초과\n",
    "def divide3(x):\n",
    "    if x == 1:\n",
    "        return numbers[1]\n",
    "    if x % 3 == 0:\n",
    "        if numbers[x // 3] == 0:\n",
    "            numbers[x // 3] += (numbers[x] + 1)   \n",
    "        else:\n",
    "            numbers[x // 3] = min(numbers[x] + 1, numbers[x // 3])                    \n",
    "        x //= 3 \n",
    "        divide3(x)\n",
    "    if x % 2 == 0:\n",
    "        divide2(x) \n",
    "    sub1(x)\n",
    "\n",
    "\n",
    "def divide2(y): \n",
    "    if y == 1:\n",
    "        return numbers[1]\n",
    "    if y % 2 == 0:\n",
    "        if numbers[y // 2] == 0:\n",
    "            numbers[y // 2] += (numbers[y] + 1)  \n",
    "        else:\n",
    "            numbers[y // 2] = min(numbers[y] + 1, numbers[y // 2])                    \n",
    "        y //= 2 \n",
    "        divide2(y)\n",
    "    if y % 3 == 0:\n",
    "        divide3(y) \n",
    "    sub1(y)   \n",
    "\n",
    "\n",
    "def sub1(z):\n",
    "    if z == 1:\n",
    "        return numbers[1]\n",
    "    if z > 1:\n",
    "        if numbers[z - 1] == 0:\n",
    "            numbers[z - 1] += (numbers[z] + 1)  \n",
    "        else:\n",
    "            numbers[z - 1] = min(numbers[z] + 1, numbers[z - 1])                       \n",
    "        z -= 1 \n",
    "    if z % 3 == 0:\n",
    "        divide3(z)\n",
    "    if z % 2 == 0:\n",
    "        divide2(z)    \n",
    "    sub1(z)\n",
    "\n",
    "\n",
    "N = int(input())\n",
    "numbers = [0] * (1 + 10**6)\n",
    "divide3(N)\n",
    "divide2(N)\n",
    "sub1(N)\n",
    "print(numbers[1])\n",
    "```"
   ]
  },
  {
   "cell_type": "markdown",
   "id": "c97c7369-dfbd-4898-8d89-6842adf63774",
   "metadata": {},
   "source": [
    "`-` 굳이 1을 빼야할까?\n",
    "\n",
    "`-` 2나 3으로 나눠지지 않을 때만 1을 빼는 것이 좋을 것 같음\n",
    "\n",
    "`-` 하지만 10에 경우 위와 같이 하면 `10 - 5 - 4 - 2 - 1`\n",
    "\n",
    "`-` 정답은 `10 - 9 - 3 - 1`\n",
    "\n",
    "`-` 만약 1을 뺀 값이 $2^a\\cdot 3^b$ 꼴이라면 1을 빼자"
   ]
  },
  {
   "cell_type": "markdown",
   "id": "b2a0aa72-f720-4788-b7df-91bc7307a22f",
   "metadata": {},
   "source": [
    "- 이것도 틀리면 질문검색 볼거임\n",
    "\n",
    "`-` 5%에서 틀렸습니다...."
   ]
  },
  {
   "cell_type": "markdown",
   "id": "dbabc3e2-8b63-4428-b406-907ea4448735",
   "metadata": {},
   "source": [
    "```python\n",
    "num = N = int(input())\n",
    "numbers = [0] * (1 + 10**6)\n",
    "mul_2_3 = {}\n",
    "power_of_2 = {}\n",
    "i = 2\n",
    "j = 1\n",
    "while i < 10**6:\n",
    "    power_of_2[i] = j\n",
    "    j += 1\n",
    "    i *= 2\n",
    "power_of_3 = {}\n",
    "i = 3\n",
    "j = 1\n",
    "while i < 10**6:\n",
    "    power_of_3[i] = j\n",
    "    j += 1\n",
    "    i *= 3\n",
    "for i in range(1, 13):\n",
    "    for j in range(1, 20):\n",
    "        if list(power_of_3.keys())[i-1] * list(power_of_2.keys())[j - 1] < 10**6:\n",
    "            mul_2_3[list(power_of_3.keys())[i - 1] * list(power_of_2.keys())[j - 1]] = i + j \n",
    "mul_2_3.update(power_of_2)\n",
    "mul_2_3.update(power_of_3)\n",
    "while True:\n",
    "    if num < 2:\n",
    "        break\n",
    "    if num in mul_2_3:\n",
    "        numbers[1] = numbers[num] + mul_2_3[num]\n",
    "        break\n",
    "    if num % 3 == 0:\n",
    "        now_num = num // 3\n",
    "        if numbers[now_num] == 0:\n",
    "            numbers[now_num] += 1 + numbers[num]   \n",
    "        elif numbers[now_num] > 0:\n",
    "            numbers[now_num] = min(numbers[num] + 1, numbers[now_num])   \n",
    "        num = now_num\n",
    "        continue\n",
    "    elif (num - 1) in mul_2_3:\n",
    "        now_num = num - 1\n",
    "        if numbers[now_num] == 0:\n",
    "            numbers[now_num] += 1 + numbers[num]\n",
    "        elif numbers[now_num] > 0:\n",
    "            numbers[now_num] = min(numbers[num] + 1, numbers[now_num])  \n",
    "        num = now_num\n",
    "        continue\n",
    "    elif num % 2 == 0:\n",
    "        now_num = num // 2\n",
    "        if numbers[now_num] == 0:\n",
    "            numbers[now_num] += 1 + numbers[num] \n",
    "        elif numbers[now_num] > 0:\n",
    "            numbers[now_num] = min(numbers[num] + 1, numbers[now_num])  \n",
    "        num = now_num\n",
    "        continue\n",
    "    else:\n",
    "        now_num = num - 1\n",
    "        if numbers[now_num] == 0:\n",
    "            numbers[now_num] += 1 + numbers[num]     \n",
    "        elif numbers[now_num] > 0:\n",
    "            numbers[now_num] = min(numbers[num] + 1, numbers[now_num])\n",
    "        num = now_num\n",
    "    if num < 2:\n",
    "        break\n",
    "print(numbers[1])    \n",
    "```"
   ]
  },
  {
   "cell_type": "markdown",
   "id": "f98ccdce-7dda-4bab-a1bc-db3eb78907c4",
   "metadata": {},
   "source": [
    "`-` 질문검색 보고 옴 ---> 모든 경우를 탐색해 보자\n",
    "\n",
    "`-` 맞았습니다!!!\n",
    "\n",
    "`-` 위에서는 어렵게 생각했는지 모든 경우를 탐색하는 코드를 각각의 경우에 대해서 설계했는데 밑에서는 i의 값을 1씩 줄여나가면서 3가지 경우에 대해 탐색하도록 코드를 구성했음"
   ]
  },
  {
   "cell_type": "code",
   "execution_count": 1,
   "id": "7e38b03e-d359-4a15-b1d4-9eb61e2e8022",
   "metadata": {},
   "outputs": [
    {
     "name": "stdin",
     "output_type": "stream",
     "text": [
      " 10\n"
     ]
    },
    {
     "name": "stdout",
     "output_type": "stream",
     "text": [
      "3\n"
     ]
    }
   ],
   "source": [
    "i = N = int(input())\n",
    "dp = [0] * (1 + 10**6)\n",
    "while i > 1:\n",
    "    if i % 3 == 0:\n",
    "        if dp[i // 3] == 0:\n",
    "            dp[i // 3] += (1 + dp[i])\n",
    "        else:\n",
    "            dp[i // 3] = min(dp[i] + 1, dp[i // 3])\n",
    "    if i % 2 == 0:\n",
    "        if dp[i // 2] == 0:\n",
    "            dp[i // 2] += (1 + dp[i])\n",
    "        else:\n",
    "            dp[i // 2] = min(dp[i] + 1, dp[i // 2])\n",
    "    if dp[i - 1] == 0:\n",
    "        dp[i - 1] += (1 + dp[i])\n",
    "    else:\n",
    "        dp[i - 1] = min(dp[i] + 1, dp[i - 1]) \n",
    "    i -= 1\n",
    "print(dp[1])\n",
    "\n",
    "# input\n",
    "# 10"
   ]
  },
  {
   "cell_type": "markdown",
   "id": "37c639e6-ce54-4168-88ad-c1694e13db76",
   "metadata": {},
   "source": [
    "## 쉬운 계단 수\n",
    "\n",
    "- 문제 출처: [백준10844번](https://www.acmicpc.net/problem/10844)"
   ]
  },
  {
   "cell_type": "markdown",
   "id": "8c1b9336-e84f-4283-9db6-9eb4f5fd62ec",
   "metadata": {},
   "source": [
    "`-` $N = 1$일 때 $9$, $N = 2$일 때 $17$\n",
    "\n",
    "`-` $N = 3$일 때 $32$이었음 (내가 손수 구함)\n",
    "\n",
    "`-` 다음과 같은 규칙이 바로 생각났음 ---> $\\operatorname{dp}[i+1] = 2\\times \\operatorname{dp}[i] - 2^{i-1}$ \n",
    "\n",
    "`-` 위 규칙에 따르면 $N = 4$일 때 $60$인데 손수 구할 용기가 안나서 검증없이 바로 코드로 구현함\n",
    "\n",
    "`-` ^^ 틀렸습니다\n",
    "\n",
    "`-` $i$가 어느 정도 커지면 음수가 된다\n",
    "\n",
    "`-` 규칙을 바꿔봄 ---> $\\operatorname{dp}[i+1] = 2\\times \\operatorname{dp}[i] - i$ \n",
    "\n",
    "`-` 일단 위의 규칙은 음수가 될 일은 절대 없음\n",
    "\n",
    "`-` 위 규칙에 따르면 $N = 4$일 때 $61$인데 손수 구할 용기가 안나서 검증없이 바로 코드로 구현함\n",
    "\n",
    "`-` 틀렸습니다 ^^\n",
    "\n",
    "`-` 이제 $N = 4$일 때 $\\operatorname{dp}$를 구해보자 ---> 손수 구해보니 $N = 4$일 때 $61$임 !!!! ---> 규칙이 틀렸나?\n",
    "\n",
    "`-` 일단 직관적으로 생각하면 $\\operatorname{dp}[i] = 2^{i-1}\\times 9$\n",
    "\n",
    "`-` 왜냐하면 옆 자릿수와 차이가 $1$ 이어야 하므로 +1 or -1임 즉 2가지 경우이므로 2를 계속 곱하고 숫자가 1\\~9까지 9개이므로 9를 곱합\n",
    "\n",
    "`-` 하지만 9에 경우 -1은 가능하지만 +1은 없음 또 0에 경우 +1은 가능하지만 -1은 존재하지 않는다 ---> 차이만큼 빼줘야함\n",
    "\n",
    "`-` 위에 기반하면 `N = 1: 9 - 0, N = 2: 18 - 1, N = 3: 36 - 4, N = 4: 72 - 11` ---> 규칙이 보이지 않음\n",
    "\n",
    "`-` 그리고 또 2자리는 1자리에 기반하여 만들고 3자리는 2자리에 기반하여 만듦 ex) 23 ---> 232 or 234, 232 ---> 2321 or 2323\n",
    "\n",
    "`-` $N = 5$일 때 $118$인지 확인할까?"
   ]
  },
  {
   "cell_type": "markdown",
   "id": "a9a100ca-1225-4752-b57f-62d84d146e24",
   "metadata": {},
   "source": [
    "```python\n",
    "N = int(input())\n",
    "dp = [0] * 101\n",
    "dp[1] = 9\n",
    "for i in range(1, 100):\n",
    "    dp[i + 1] = (2 * dp[i] - i) % 1000000000\n",
    "print(dp[N])\n",
    "```"
   ]
  },
  {
   "cell_type": "markdown",
   "id": "09630153-3c94-43e8-9967-8b911d2c0c55",
   "metadata": {},
   "source": [
    "`-` 질문검색 보고옴\n",
    "\n",
    "`-` 코드 대충 봐보니 $i-1$번째에 기반하여 $i$번째를 만드는 것 같았음\n",
    "\n",
    "`-` 끝자리가 $0$이나 $9$인 경우에는 다음 자리에 올 수 있는 숫자가 1개 뿐이므로 이를 고려하여 코드를 구성하자\n",
    "\n",
    "`-` 아니면 끝자리가 0\\~9 까지 10개이므로 배열을 10칸으로 만들자\n",
    "\n",
    "`-` $\\operatorname{dp}[i][j]$의 의미는 `자릿수가 i`인데 `끝자리가 j`인 경우임"
   ]
  },
  {
   "cell_type": "code",
   "execution_count": 103,
   "id": "91b16fc1-a8de-4ad1-b0b4-c5fe36857b64",
   "metadata": {},
   "outputs": [
    {
     "name": "stdin",
     "output_type": "stream",
     "text": [
      " 5\n"
     ]
    },
    {
     "name": "stdout",
     "output_type": "stream",
     "text": [
      "116\n"
     ]
    }
   ],
   "source": [
    "N = int(input())\n",
    "dp = [[0] * 10 for _ in range(101)]\n",
    "for k in range(1, 10):\n",
    "    dp[1][k] = 1\n",
    "for i in range(1, 100):\n",
    "    for j in range(10):\n",
    "        if j == 0:\n",
    "            dp[i + 1][j] = dp[i][j + 1] % 1000000000 \n",
    "        elif j == 9:\n",
    "            dp[i + 1][j] = dp[i][j - 1] % 1000000000\n",
    "        else:\n",
    "            dp[i + 1][j] = (dp[i][j + 1] + dp[i][j - 1]) % 1000000000\n",
    "print(sum(dp[N]) % 1000000000)"
   ]
  },
  {
   "cell_type": "markdown",
   "id": "56f0cf1d-4136-4f7e-a8ab-023c7fd8a693",
   "metadata": {},
   "source": [
    "`-` 흐음 질문검색에서 아이디어를 가져온거라 정답을 맞춘게 맞춘게 아님\n",
    "\n",
    "`-` 옛날이었으면 풀었을 듯... 요새 안하다보니 감이 떨어짐"
   ]
  },
  {
   "cell_type": "markdown",
   "id": "6fc26661-4402-4dc1-a647-20304b08dd64",
   "metadata": {},
   "source": [
    "## 포도주 시식\n",
    "\n",
    "- 문제 출처: [백준 2156번](https://www.acmicpc.net/problem/2156)\n",
    "\n",
    "`-` 문제를 보자마자 전에 풀었던 [계단오르기](https://www.acmicpc.net/problem/2579)와 유사하다고 생각이 들었음\n",
    "\n",
    "`-` $\\operatorname{dp}[i]$는 두 종류가 있음 ---> $i-1$번째 와인을 마신 경우와 $i-1$번째 와인을 마시지 않은 경우 ---> 두 경우 중 최대값이 $\\operatorname{dp}[i]$임\n",
    "\n",
    "`-` $\\operatorname{dp}[i][1] = \\operatorname{wines}[i] + \\operatorname{dp}[i-1][0]$\n",
    "\n",
    "`-` $\\operatorname{dp}[i][0] = \\max(\\operatorname{wines}[i] + \\operatorname{dp}[i-2][0], \\operatorname{wines}[i] + \\operatorname{dp}[i-2][1], \\operatorname{wines}[i] + \\operatorname{dp}[i-3][1])$\n",
    "\n",
    "`-` $\\operatorname{dp}[i][0]$은 $i-1$번째 와인을 마시지 않은 경우\n",
    "\n",
    "`-` $\\operatorname{dp}[i][1]$는 $i-1$번째 와인을 마신 경우"
   ]
  },
  {
   "cell_type": "code",
   "execution_count": 16,
   "id": "c2e10591-b59a-4dc2-9bf4-580ab8d06897",
   "metadata": {},
   "outputs": [
    {
     "name": "stdin",
     "output_type": "stream",
     "text": [
      " 6\n",
      " 6\n",
      " 10\n",
      " 13\n",
      " 9\n",
      " 8\n",
      " 1\n"
     ]
    },
    {
     "name": "stdout",
     "output_type": "stream",
     "text": [
      "33\n"
     ]
    }
   ],
   "source": [
    "N = int(input())\n",
    "dp = [[0] * 2 for _ in range(10001)]\n",
    "wines = [0]\n",
    "for _ in range(N):\n",
    "    wine = int(input())\n",
    "    wines.append(wine)\n",
    "dp[1][0] = wines[1]\n",
    "dp[1][1] = wines[1] + wines[0]\n",
    "if N > 1:\n",
    "    dp[2][0] = wines[2] \n",
    "    dp[2][1] = wines[2] + wines[1]\n",
    "for i in range(3, N + 1):\n",
    "    dp[i][0] = max(wines[i] + dp[i - 2][0], wines[i] + dp[i - 2][1], wines[i] + dp[i - 3][1])          \n",
    "    dp[i][1] = wines[i] + dp[i - 1][0] \n",
    "print(max(dp[N][0], dp[N][1], dp[N - 1][1]))"
   ]
  },
  {
   "cell_type": "markdown",
   "id": "0d5fe421-a8d5-43fc-823a-7250ebad18ae",
   "metadata": {},
   "source": [
    "## 피보나치 수 3\n",
    "\n",
    "- 문제 출처: [백준 2749번](https://www.acmicpc.net/problem/2749)"
   ]
  },
  {
   "cell_type": "markdown",
   "id": "100b6831-e505-436c-95a9-4e8638e0091b",
   "metadata": {},
   "source": [
    "`-` $n$은 $1000000000000000000$보다 작거나 같은 자연수\n",
    "\n",
    "`-` 아래와 같은 bottom-up 방식은 시간초과임"
   ]
  },
  {
   "cell_type": "code",
   "execution_count": 4,
   "id": "619e9654-a05a-41be-adeb-45bbabfb80ea",
   "metadata": {},
   "outputs": [
    {
     "name": "stdin",
     "output_type": "stream",
     "text": [
      " 1000\n"
     ]
    },
    {
     "name": "stdout",
     "output_type": "stream",
     "text": [
      "228875\n"
     ]
    }
   ],
   "source": [
    "N = int(input())\n",
    "first_fibo = 0\n",
    "second_fibo = 1\n",
    "for i in range(N):\n",
    "    next_fibo = (first_fibo + second_fibo) % 1000000\n",
    "    first_fibo = second_fibo % 1000000\n",
    "    second_fibo = next_fibo % 1000000\n",
    "print(first_fibo)"
   ]
  },
  {
   "cell_type": "markdown",
   "id": "e16d925f-d258-44a7-ab63-034f7192c5e5",
   "metadata": {},
   "source": [
    "`-` 곰곰이 생각해보니 $n$이 최대 100경이라 for문 써도 컴퓨터 터지고 배열로 만들어도 컴퓨터 터짐\n",
    "\n",
    "`-` 피보나치 수열의 일반항이 생각나서 검색해봄\n",
    "\n",
    "`-` 근데 $n$이 너무 커서 overflow 때문에 불가능"
   ]
  },
  {
   "cell_type": "markdown",
   "id": "c0932d02-1a42-4238-8b18-a670a58759a5",
   "metadata": {},
   "source": [
    "`-` 위의 방법을 사용하지 않으면 어떻게 푸는지 모르겠어서 질문 검색을 보니 `피사노 주기` 를 이용하여 푼다고 한다\n",
    "\n",
    "`-` 참고: [피보나치 수를 구하는 여러가지 방법](https://www.acmicpc.net/blog/view/28)\n",
    "\n",
    "`-` 아무튼 그래서 피사노 주기를 통해서 문제를 해결함"
   ]
  },
  {
   "cell_type": "code",
   "execution_count": 11,
   "id": "507e66e5-cf42-4cf5-bb60-c8e48f66705a",
   "metadata": {},
   "outputs": [
    {
     "name": "stdin",
     "output_type": "stream",
     "text": [
      " 1000\n"
     ]
    },
    {
     "name": "stdout",
     "output_type": "stream",
     "text": [
      "228875\n"
     ]
    }
   ],
   "source": [
    "N = int(input())\n",
    "m = 10**6\n",
    "P = 15 * (10**5)\n",
    "M = N % P\n",
    "fibo = {0: 0, 1: 1}\n",
    "for i in range(M):\n",
    "    fibo[i + 2] = (fibo[i] % m + fibo[i + 1] % m) % m\n",
    "print(fibo[M])"
   ]
  },
  {
   "cell_type": "markdown",
   "id": "8fea1192-69d6-4f7d-bb56-cdafa64f772d",
   "metadata": {},
   "source": [
    "## LCS\n",
    "\n",
    "- 문제 출처: [백준 9251번](https://www.acmicpc.net/problem/9251)"
   ]
  },
  {
   "cell_type": "markdown",
   "id": "8cd57362-98b0-4b74-9024-52d4852e606e",
   "metadata": {},
   "source": [
    "`-` 머리가 멍청해짐 ---> 어려워서 공부하고 옴\n",
    "\n",
    "`-` a와 b 두 문자열이 있다\n",
    "\n",
    "`-` `dp[i][j]`를 `a`의 `i`번째 원소까지와 `b`의 `j`번째 원소까지 고려했을 때 LCS의 길이라고 하자\n",
    "\n",
    "`-` 만약 `a[i]`와 `b[j]` 문자가 서로 같다면 `dp[i][j] = dp[i - 1][j - 1] + 1`과 동일하다\n",
    "\n",
    "`-` 만약 문자가 서로 다르다면 `dp[i][j] = max(dp[i - 1][j], dp[i][j - 1])`\n",
    "\n",
    "`-` 점화식이 성립하는 이유를 간단히 알아보자\n",
    "\n",
    "`-` a와 b의 마지막 문자가 동일하다고 해보자\n",
    "\n",
    "`-` 그럼 이들을 제거한 후 나머지 문자열에 대해 lcs를 구한 뒤 제거한 문자를 이어붙이면 원래의 lcs가 된다\n",
    "\n",
    "`-` 만약 a의 마지막 문자는 x, b의 마지막 문자를 y로 서로 다르다고 해보자\n",
    "\n",
    "`-` 그럼 lcs의 마지막 문자는 x이거나 x가 아니다\n",
    "\n",
    "`-` 만약 x라면 b의 마지막 문자 y는 필요 없으므로 제거해도 된다\n",
    "\n",
    "`-` 만약 lcs의 마지막 문자가 x가 아니라면 a의 마지막 문자 x는 필요 없으므로 제거해도 된다\n",
    "\n",
    "`-` 탑-다운 재귀 함수 방식을 바텀-업 방식으로 바꾼 것이 아래의 코드이다"
   ]
  },
  {
   "cell_type": "code",
   "execution_count": 47,
   "id": "0c1c061b-c50c-447b-a1c7-1bb802b0fd4d",
   "metadata": {},
   "outputs": [
    {
     "name": "stdin",
     "output_type": "stream",
     "text": [
      " ACAYKP\n",
      " CAPCAK\n"
     ]
    },
    {
     "name": "stdout",
     "output_type": "stream",
     "text": [
      "4\n"
     ]
    }
   ],
   "source": [
    "a = input()\n",
    "b = input()\n",
    "dp = [[0] * (len(b) + 1) for _ in range(len(a) + 1)]\n",
    "for i in range(1, len(a) + 1):\n",
    "    for j in range(1, len(b) + 1):\n",
    "        if a[i - 1] == b[j - 1]:\n",
    "            dp[i][j] = dp[i - 1][j - 1] + 1\n",
    "        else:\n",
    "            dp[i][j] = max(dp[i][j - 1], dp[i - 1][j])\n",
    "print(dp[len(a)][len(b)])\n",
    "\n",
    "# input\n",
    "# ACAYKP\n",
    "# CAPCAK"
   ]
  },
  {
   "cell_type": "markdown",
   "id": "4b6d1409-d255-4ed2-98ae-4b13bd2d4943",
   "metadata": {},
   "source": [
    "## 연속합\n",
    "\n",
    "- 문제 출처: [백준 1912번](https://www.acmicpc.net/problem/1912)"
   ]
  },
  {
   "cell_type": "markdown",
   "id": "6dc53a82-5db3-4c5d-a840-408a43ca748a",
   "metadata": {},
   "source": [
    "`-` 규칙을 떠올리기 은근 어려웠다\n",
    "\n",
    "`-` 위치상 연속된 원소들에 초점을 맞춰 생각하다가 $n$번째 원소를 마지막으로 가지는 연속합에 대해 생각하여 규칙을 떠올렸다\n",
    "\n",
    "`-` $\\text{dp[$n$]}$을 마지막 원소로 $n$번째 원소를 가지는 연속합중 최댓값이라고 하자\n",
    "\n",
    "`-` 그러면 $\\text{dp[$n$]} = \\max(a_n,\\,a_n+\\text{dp[$n-1$]})$이 성립한다 $\\cdots (1)$\n",
    "\n",
    "`-` 왜?\n",
    "\n",
    "`-` 마지막 원소로 $n$번째 원소를 가지는 연속합으로 가능한 경우는 아래와 같다\n",
    "\n",
    "`-` $[a_n[1]+\\cdots+a_n[n]],\\,[a_n[2]+ \\cdots + a_n[n]],\\, \\cdots,\\, [a_n[n-1]+a_n[n]],\\, [a_n[n]]$\n",
    "\n",
    "`-` 위의 연속합을 첫 번째부터 $b_1, b_2,\\cdots,b_n$이라고 하자\n",
    "\n",
    "`-` 이들은 모두 $a_n[n]$을 포함하고있어 각각의 연속합에 대해 $a_n[n]$을 차감하더라도 이들의 대소관계는 변하지 않는다\n",
    "\n",
    "`-` 그러므로 식 $(1)$이 자연스럽게 성립한다\n",
    "\n",
    "`-` 즉 $n$번째 원소를 마지막으로 가지는 연속합중 최댓값을 얻기위해선 $n-1$번째 원소를 마지막으로 가지는 연속합 중에서 최댓값을 사용해야 한다\n",
    "\n",
    "`-` 아래의 수열에서 연속합중 최댓값을 구해보자\n",
    "\n",
    "`-` $10, -4, 3, -35, 21, -1$\n",
    "\n",
    "`-` $\\text{dp[$1$]} = 10$ ---> 당연한 결과이다\n",
    "\n",
    "`-` $\\text{dp[$2$]} = \\max(-4, -4 + \\text{dp[$1$]}) = 6$ \n",
    "\n",
    "`-` $\\text{dp[$3$]} = \\max(3, 3 + \\text{dp[$2$]}) = 9$ \n",
    "\n",
    "`-` $\\text{dp[$4$]} = \\max(-35, -35 + \\text{dp[$3$]}) = -26$ \n",
    "\n",
    "`-` $\\text{dp[$5$]} = \\max(21, 21 + \\text{dp[$4$]}) = 21$\n",
    "\n",
    "`-` $\\text{dp[$6$]} = \\max(-1, -1 + \\text{dp[$5$]}) = 20$ \n",
    "\n",
    "`-` $\\text{dp[$n$]}$의 최댓값은 $21$이다 "
   ]
  },
  {
   "cell_type": "code",
   "execution_count": 6,
   "id": "d857e386-7866-48a5-8079-bce1c18575fd",
   "metadata": {},
   "outputs": [
    {
     "name": "stdin",
     "output_type": "stream",
     "text": [
      " 10\n",
      " 10 -4 3 1 5 6 -35 12 21 -1\n"
     ]
    },
    {
     "name": "stdout",
     "output_type": "stream",
     "text": [
      "33\n"
     ]
    }
   ],
   "source": [
    "n = int(input())\n",
    "a_n = list(map(int, input().split()))\n",
    "dp = [0] * n\n",
    "dp[0] = a_n[0]\n",
    "for i in range(1, n):\n",
    "    dp[i] = max(a_n[i], a_n[i] + dp[i - 1])\n",
    "print(max(dp))\n",
    "\n",
    "# input\n",
    "# 10\n",
    "# 10 -4 3 1 5 6 -35 12 21 -1"
   ]
  },
  {
   "cell_type": "markdown",
   "id": "c3efba13-b3c0-46fd-90d2-469126b0ad28",
   "metadata": {},
   "source": [
    "## 평범한 배낭\n",
    "\n",
    "- 문제 출처: [백준 12865번](https://www.acmicpc.net/problem/12865)"
   ]
  },
  {
   "cell_type": "markdown",
   "id": "ffcfdb7b-5b34-4701-91a2-f8afae99181f",
   "metadata": {},
   "source": [
    "`-` 어떻게 접근할지 생각이 안난다\n",
    "\n",
    "`-` why?\n",
    "\n",
    "`-` $n$개의 아이템을 사용하여 가방을 챙길 때 단순히 무게를 최소화 시키거나 가치를 최대화 시키는 것은 답이 아니다\n",
    "\n",
    "`-` 그래서 무게와 가치를 저울질 해가며 판단해야 되는데 어떻게 판단할지 생각이 안난다\n",
    "\n",
    "`-` 기준이 있어야 점화식을 세우는데 기준을 어떻게 잡아야 할지 (가치? 무게? 물건의 개수?) 몰랐다\n",
    "\n",
    "`-` 그래서 검색하고 왔는데 기준을 가방의 번호로 잡는다고 하더라 (그냥 번호만 매기면 된다; `무거운 것부터 1번` $\\to$ 이럴필요 없음)\n",
    "\n",
    "`-` 물건의 개수와 비슷한데 다른 점이 있다\n",
    "\n",
    "`-` 나는 물건의 개수로 기준을 세울려고 했는데 실패했다 (왜냐하면 어떤 물건들로 구성하는지 떠오르지 않았기 때문)\n",
    "\n",
    "`-` $N$개의 물건을 사용하는데 예컨대 $50$개라면 $50$개를 어떤 물건으로 구성해야 할지 몰랐음 (무게와 가치를 저울질 해야하는데 어떻게 하지??)\n",
    "\n",
    "`-` 그런데 물건에 번호를 매김으로써 $N$개의 물건을 어떻게 구성할지 생각하지 않아도 된다!!\n",
    "\n",
    "`-` $N=50$이라면 $1$번부터 $50$번까지의 물건을 사용하면 된다\n",
    "\n",
    "`-` 그런데 번호는 어떤 기준으로 매길건데?? ---> 상관이 없다고 한다 (key point)\n",
    "\n",
    "`-` 두 번째 key point는 무게가 $w(1\\leq w \\leq k)$인 임시 배낭을 고려하는 것이다 ($k$는 기존 배낭의 수용 무게) \n",
    "\n",
    "`-` 이제 위의 내용을 바탕으로 점화식을 세우자\n",
    "\n",
    "`-` 우선 물건에 $1$부터 $n$(물건 개수)까지 번호를 매긴다 (순서는 상관없다)\n",
    "\n",
    "`-` 그리고 $\\text{dp[$n$][$w$]}$를 $1$번부터 $n$번까지의 물건을 사용하여 현재 임시 배낭의 수용 무게가 $w$일 때 최대화 시킬 수 있는 가치 $v$라고 하자\n",
    "\n",
    "`-` 만약 $n-1$번째까지의 물건을 고려한 상황이라면 $n$번째 물건을 배낭에 넣거나 안넣거나 둘 중 하나이다\n",
    "\n",
    "`-` 만약 $n$번째 물건을 배낭에 넣지 않으면 $\\text{dp[$n$][$w$]} = \\text{dp[$n-1$][$w$]}$이다\n",
    "\n",
    "`-` 만약 $n$번째 물건을 배낭에 넣으면 $\\text{dp[$n$][$w$]} = \\text{dp[$n-1$][$w-w_n$]} + v_n$이다 ($w_n$과 $v_n$은 각각 $n$번째 물건의 무게와 가치)\n",
    "\n",
    "`-` 그런데 이제 배낭의 가치를 최대화해야 하므로 $\\text{dp[$n$][$w$]} = \\max(\\text{dp[$n-1$][$w-w_n$]} + v_n,\\, \\text{dp[$n-1$][$w$]})$\n",
    "\n",
    "`-` base case($n=1$)를 정하고 위의 점화식을 적용하면 문제를 해결할 수 있다 "
   ]
  },
  {
   "cell_type": "code",
   "execution_count": 27,
   "id": "08b036c5-55ef-4121-89e8-3f9b2b2946f0",
   "metadata": {},
   "outputs": [
    {
     "name": "stdin",
     "output_type": "stream",
     "text": [
      " 4 7\n",
      " 6 13\n",
      " 4 8\n",
      " 3 6\n",
      " 5 12\n"
     ]
    },
    {
     "name": "stdout",
     "output_type": "stream",
     "text": [
      "14\n"
     ]
    }
   ],
   "source": [
    "N, K = map(int, input().split())  # 물건의 개수와 수용 가능한 무게\n",
    "items = [[0, 0]] + [list(map(int, input().split())) for _ in range(N)]  # 무게(W)와 가치(V)\n",
    "dp = [[0] * (K + 1) for _ in range(N + 1)]  # 배낭의 가치\n",
    "for i in range(1, N + 1):  # 1번 물건부터 i번 물건까지 임시 가방에 넣는 것을 고려 \n",
    "    for j in range(1, K + 1):  # 임시 가방의 수용 무게는 1부터 K까지\n",
    "        if j >= items[i][0]:  # 만약 넣을 물건(n번째 물건)이 배낭의 수용 무게를 초과하지 않는다면\n",
    "            dp[i][j] = max(dp[i - 1][j - items[i][0]] + items[i][1], dp[i - 1][j]) \n",
    "        else:  # 수용 무게를 초과\n",
    "            dp[i][j] = dp[i - 1][j]  # 물건의 무게 때문에 가방에 넣지 못한다\n",
    "print(dp[N][K])\n",
    "\n",
    "# input\n",
    "# 4 7\n",
    "# 6 13\n",
    "# 4 8\n",
    "# 3 6\n",
    "# 5 12"
   ]
  },
  {
   "cell_type": "code",
   "execution_count": 30,
   "id": "6eeeab70-b81e-4ea2-9578-4d924cfd08fc",
   "metadata": {},
   "outputs": [
    {
     "data": {
      "text/plain": [
       "[[0, 0, 0, 0, 0, 0, 0, 0],\n",
       " [0, 0, 0, 0, 0, 0, 13, 13],\n",
       " [0, 0, 0, 0, 8, 8, 13, 13],\n",
       " [0, 0, 0, 6, 8, 8, 13, 14],\n",
       " [0, 0, 0, 6, 8, 12, 13, 14]]"
      ]
     },
     "execution_count": 30,
     "metadata": {},
     "output_type": "execute_result"
    }
   ],
   "source": [
    "dp\n",
    "# 5*8 (왜냐하면 파이썬에서 인덱스는 0부터라 편의상 패딩 했다, 무게가 0부터 K까지이고 N도 마찬가지)\n",
    "# 근데 무게 0은 어차피 아무것도 못 넣으니까 가치가 0이다 (개수도 마찬가지; 0개면 아무것도 못 넣는다)"
   ]
  },
  {
   "cell_type": "markdown",
   "id": "cdc0ca00-d5f0-4cf4-9c6d-731d4cbb0ae2",
   "metadata": {},
   "source": [
    "## Four Squares\n",
    "\n",
    "- 문제 출처: [백준 17626번](https://www.acmicpc.net/problem/17626)"
   ]
  },
  {
   "cell_type": "markdown",
   "id": "84b55af8-0a83-46ab-ba14-a5129ed13a35",
   "metadata": {},
   "source": [
    "`-` 자연수 $n$의 범위는 $1\\leq n \\leq 50000$이므로 제곱수 $x$의 범위는 $\\sqrt{1}\\leq x \\leq \\sqrt{50000}$이다\n",
    "\n",
    "`-` 만약 $n$이 제곱수라면 $1$개의 제곱수로 $n$을 표현할 수 있다\n",
    "\n",
    "`-` 합이 $n$과 같은 제곱수의 최소 개수를 $\\text{dp[$n$]}$이라고 하자($\\text{dp[$1$]}=1$)\n",
    "\n",
    "`-` 예컨대 $n=100$이면 $100=10^2$이므로 $\\text{dp[$n$]} = 1$이다\n",
    "\n",
    "`-` 하지만 $n$이 $101$이라면 $1$개의 제곱수로 나타내지 못한다\n",
    "\n",
    "`-` $n=a^2+b^2+c^2+d^2$ (더 적은 수로 표현할 수 도 있음)\n",
    "\n",
    "`-` $n$보다 작은 제곱수($1 \\leq a^2 < n \\Longleftrightarrow \\sqrt{1} \\leq a < \\sqrt{n}$)를 $n$에서 뺀다\n",
    "\n",
    "`-` $\\text{dp[$a^2$]}$은 제곱수이므로 $1$이다\n",
    "\n",
    "`-` 즉 $\\text{dp[$n$]} = \\min(\\text{dp[$n$]},\\, \\text{dp[$n-a^2$]}+1)$\n",
    "\n",
    "`-` 시간복잡도는 $O(n\\sqrt{n})$"
   ]
  },
  {
   "cell_type": "code",
   "execution_count": 46,
   "id": "8fe7a7ba-d541-4d49-8472-1c96c1db0a4f",
   "metadata": {},
   "outputs": [
    {
     "name": "stdin",
     "output_type": "stream",
     "text": [
      " 34567\n"
     ]
    },
    {
     "name": "stdout",
     "output_type": "stream",
     "text": [
      "4\n"
     ]
    }
   ],
   "source": [
    "n = int(input())\n",
    "dp = [4 for _ in range(50001)]  # 1부터 50000까지의 모든 자연수는 4개 이하의 제곱수 합으로 표현가능\n",
    "dp[1] = 1  # 1은 제곱수\n",
    "for i in range(2, n + 1):\n",
    "    if (i**0.5) % 1 < 1e-6:  # i가 제곱수라면\n",
    "        dp[i] = 1  # 제곱수이므로 dp[i] = 1\n",
    "    else:   # i가 제곱수가 아니라면  1 <= a < n^0.5 \n",
    "        for j in range(1, int(i**0.5) + 1):\n",
    "            dp[i] = min(dp[i], dp[i - j * j] + 1) \n",
    "print(dp[n])"
   ]
  },
  {
   "cell_type": "markdown",
   "id": "029d2092-0b5e-4e92-a71d-53a104b12644",
   "metadata": {},
   "source": [
    "## 구간 합 구하기4\n",
    "\n",
    "- 문제 출처: [백준 11659번](https://www.acmicpc.net/problem/11659)"
   ]
  },
  {
   "cell_type": "markdown",
   "id": "e8f67561-8a14-4c5f-be40-78fb748aa24f",
   "metadata": {},
   "source": [
    "`-` 동적계획법으로 풀면 될 듯하다\n",
    "\n",
    "`-` $\\text{dp[$n$]}$을 처음부터 $n$번째까지의 구간합이라고 하자\n",
    "\n",
    "`-` $\\text{dp[$n$]} = \\text{dp[$n-1$]} + \\text{$n$번째 값}$\n",
    "\n",
    "`-` $i$번째에서 $j$번째까지의 구간합 = $\\text{dp[$j$]} - \\text{dp[$i-1$]}$"
   ]
  },
  {
   "cell_type": "code",
   "execution_count": 32,
   "id": "dbb434fa-67da-440d-8349-ce0c36de114a",
   "metadata": {},
   "outputs": [
    {
     "name": "stdin",
     "output_type": "stream",
     "text": [
      " 5 3\n",
      " 5 4 3 2 1\n",
      " 1 3\n"
     ]
    },
    {
     "name": "stdout",
     "output_type": "stream",
     "text": [
      "12\n"
     ]
    },
    {
     "name": "stdin",
     "output_type": "stream",
     "text": [
      " 2 4\n"
     ]
    },
    {
     "name": "stdout",
     "output_type": "stream",
     "text": [
      "9\n"
     ]
    },
    {
     "name": "stdin",
     "output_type": "stream",
     "text": [
      " 5 5\n"
     ]
    },
    {
     "name": "stdout",
     "output_type": "stream",
     "text": [
      "1\n"
     ]
    }
   ],
   "source": [
    "n, m = map(int, input().split())\n",
    "nums = list(map(int, input().split()))\n",
    "dp = [0] * (n+1)\n",
    "for i in range(n):\n",
    "    dp[i + 1] = dp[i] + nums[i]\n",
    "# dp = [sum(nums[:i] for i in range(1, n+1)] ---> 이렇게하면 O(0.5*n*n) = O(n^2) 이라서 시간초과\n",
    "for _ in range(m):\n",
    "    i, j = map(int, input().split())\n",
    "    print(dp[j] - dp[i - 1])\n",
    "\n",
    "# input\n",
    "# 5 3\n",
    "# 5 4 3 2 1\n",
    "# 1 3\n",
    "# 2 4\n",
    "# 5 5"
   ]
  },
  {
   "cell_type": "markdown",
   "id": "00121550-78b8-4186-b42e-d3fbb294ba85",
   "metadata": {},
   "source": [
    "## 1로 만들기 2\n",
    "\n",
    "- 문제 출처: [백준 12852번](https://www.acmicpc.net/problem/12852)"
   ]
  },
  {
   "cell_type": "markdown",
   "id": "b0843501-de0b-4809-9f41-e44c1d1795ce",
   "metadata": {},
   "source": [
    "`-` [1로 만들기](https://www.acmicpc.net/problem/1463) 문제를 풀 때와 비슷한 방법으로 해결 가능해 보인다\n",
    "\n",
    "`-` 다만, 1로 만드는 과정을 연산 횟수와 같이 기록해야 한다\n",
    "\n",
    "`-` 예컨대 $8 \\to 4 \\to 2 \\to 1$이라면 $\\text{dp[8] = [0, 8], dp[4] = [1, 8], dp[2] = [2, 4], dp[1] = [3, 2]}$\n",
    "\n",
    "`-` 즉 연산 횟수는 $\\text{dp[1][0](= 3)}$이며 만드는 과정은 $\\text{dp[dp[2][1]][1](=8) $\\to$ dp[dp[1][1]][1](=4) $\\to$ dp[1][1](=2) $\\to$ 1}$이다"
   ]
  },
  {
   "cell_type": "code",
   "execution_count": 105,
   "id": "ff3368bf-3da1-4b1f-8cfb-9134d3343db1",
   "metadata": {},
   "outputs": [
    {
     "name": "stdin",
     "output_type": "stream",
     "text": [
      " 100\n"
     ]
    },
    {
     "name": "stdout",
     "output_type": "stream",
     "text": [
      "7\n",
      "100 50 25 24 8 4 2 1\n"
     ]
    }
   ],
   "source": [
    "from collections import deque\n",
    "\n",
    "x = N = int(input())\n",
    "dp = {x:[0,x]}  # 초기값, dp[?][0]은 연산 횟수, dp[?][1]은 1로 만드는데 거쳐가는 하나의 단계\n",
    "while x > 1:\n",
    "    if x % 3 == 0:\n",
    "        if x // 3 not in dp:\n",
    "            dp[x // 3] = [dp[x][0] + 1, x]\n",
    "        else:\n",
    "            dp[x // 3] = min([dp[x][0] + 1, x], dp[x // 3])\n",
    "    if x % 2 == 0:\n",
    "        if x // 2 not in dp:\n",
    "            dp[x // 2] = [dp[x][0] + 1, x]\n",
    "        else:\n",
    "            dp[x // 2] = min([dp[x][0] + 1, x], dp[x // 2])\n",
    "    if x - 1 not in dp:\n",
    "        dp[x - 1] = [dp[x][0] + 1, x]\n",
    "    else:\n",
    "        dp[x - 1] = min([dp[x][0] + 1, x], dp[x - 1])\n",
    "    x -= 1\n",
    "# 현재 x값은 1이다\n",
    "arr = deque([1])\n",
    "while x < N:  \n",
    "    arr.appendleft(dp[x][1])\n",
    "    x = dp[x][1]\n",
    "print(dp[1][0])\n",
    "print(*arr)\n",
    "\n",
    "# input\n",
    "# 100"
   ]
  },
  {
   "cell_type": "markdown",
   "id": "a44efeb1-8265-4cf5-81ad-3b793bf600d6",
   "metadata": {},
   "source": [
    "## 1, 2, 3 더하기\n",
    "\n",
    "- 문제 출처: [백준 9095번](https://www.acmicpc.net/problem/9095)"
   ]
  },
  {
   "cell_type": "markdown",
   "id": "9c977abf-3cc9-4f6e-acbf-dd6196450449",
   "metadata": {},
   "source": [
    "`-` 정수 $n$을 $1,2,3$의 합으로 나타내는 방법은 \n",
    "\n",
    "`-` $n-3, n-2, n-1$ 조합에 각각 $1,2,3$을 더한 것이다\n",
    "\n",
    "`-` ex) $4$를 $1,2,3$의 합으로 나타내자 $\\to$ $1$의 조합들에 $3$더하기, $2$의 조합들에 $2$더하기, $3$의 조합들에 $1$더하기"
   ]
  },
  {
   "cell_type": "code",
   "execution_count": 181,
   "id": "75f02c08-2002-4db1-8b7b-7f501435107f",
   "metadata": {},
   "outputs": [
    {
     "name": "stdin",
     "output_type": "stream",
     "text": [
      " 3\n",
      " 4\n"
     ]
    },
    {
     "name": "stdout",
     "output_type": "stream",
     "text": [
      "7\n"
     ]
    },
    {
     "name": "stdin",
     "output_type": "stream",
     "text": [
      " 7\n"
     ]
    },
    {
     "name": "stdout",
     "output_type": "stream",
     "text": [
      "44\n"
     ]
    },
    {
     "name": "stdin",
     "output_type": "stream",
     "text": [
      " 10\n"
     ]
    },
    {
     "name": "stdout",
     "output_type": "stream",
     "text": [
      "274\n"
     ]
    }
   ],
   "source": [
    "T = int(input())\n",
    "for _ in range(T):\n",
    "    n = int(input())\n",
    "    dp = [[[]] for _ in range(n + 1)]  # dp[i]에 i를 1,2,3의 합으로 나타내는 방법을 기록\n",
    "    dp[1] = [[1]]  # dp[1] 정의\n",
    "    for i in range(2, n + 1):  # dp[2]부터 dp[n]까지\n",
    "        # n - 3\n",
    "        if i - 3 >= 0:\n",
    "            for n3 in dp[i - 3]:\n",
    "                if dp[i] == [[]]: \n",
    "                    dp[i] = [n3 + [3]]\n",
    "                else:\n",
    "                    dp[i].append(n3 + [3])\n",
    "        # n - 2\n",
    "        if i - 2 >= 0:\n",
    "            for n2 in dp[i-2]:\n",
    "                if dp[i] == [[]]: \n",
    "                    dp[i] = [n2 + [2]]\n",
    "                else:\n",
    "                    dp[i].append(n2 + [2])\n",
    "        # n - 1\n",
    "        if i - 1 >= 0:\n",
    "            for n1 in dp[i - 1]:\n",
    "                if dp[i] == [[]]: \n",
    "                    dp[i] = [n1 + [1]]\n",
    "                else:\n",
    "                    dp[i].append(n1 + [1])\n",
    "    print(len(dp[n]))\n",
    "    \n",
    "# input\n",
    "# 3\n",
    "# 4\n",
    "# 7\n",
    "# 10"
   ]
  },
  {
   "cell_type": "markdown",
   "id": "80864a05-cf34-4792-9b0c-2a5bd479e098",
   "metadata": {},
   "source": [
    "## 1, 2, 3 더하기 2\n",
    "\n",
    "- 문제 출처: [백준 12101번](https://www.acmicpc.net/problem/12101)"
   ]
  },
  {
   "cell_type": "markdown",
   "id": "47f39249-dbf2-4dbc-b0c8-6c3e88c28a0a",
   "metadata": {},
   "source": [
    "`-` 기존의 [1, 2, 3 더하기](https://www.acmicpc.net/problem/9095) 문제에서 `sort()` 함수만 쓰면 풀 수 있다\n",
    "\n",
    "`-` 내장 함수에 위대함..."
   ]
  },
  {
   "cell_type": "code",
   "execution_count": 179,
   "id": "6eb0f44d-167e-4380-838c-d3bed03c73db",
   "metadata": {},
   "outputs": [
    {
     "name": "stdin",
     "output_type": "stream",
     "text": [
      " 4 3\n"
     ]
    },
    {
     "name": "stdout",
     "output_type": "stream",
     "text": [
      "1+2+1\n"
     ]
    }
   ],
   "source": [
    "n, k = map(int, input().split())\n",
    "dp = [[[]] for _ in range(n + 1)]  # dp[i]에 i를 1,2,3의 합으로 나타내는 방법을 기록\n",
    "dp[1] = [[1]]  # dp[1] 정의\n",
    "for i in range(2, n + 1):  # dp[2]부터 dp[n]까지\n",
    "    # n - 3\n",
    "    if i - 3 >= 0:\n",
    "        for n3 in dp[i - 3]:\n",
    "            if dp[i] == [[]]: \n",
    "                dp[i] = [n3 + [3]]\n",
    "            else:\n",
    "                dp[i].append(n3 + [3])\n",
    "    # n - 2\n",
    "    if i - 2 >= 0:\n",
    "        for n2 in dp[i - 2]:\n",
    "            if dp[i] == [[]]: \n",
    "                dp[i] = [n2 + [2]]\n",
    "            else:\n",
    "                dp[i].append(n2 + [2])\n",
    "    # n - 1\n",
    "    if i - 1 >= 0:\n",
    "        for n1 in dp[i - 1]:\n",
    "            if dp[i] == [[]]: \n",
    "                dp[i] = [n1 + [1]]\n",
    "            else:\n",
    "                dp[i].append(n1 + [1])\n",
    "dp[n].sort()  # dp[n]을 사전순으로 정렬, 치트키 수준의 함수\n",
    "try:\n",
    "    print('+'.join(map(str, dp[n][k - 1])))\n",
    "except:\n",
    "    print(-1)\n",
    "\n",
    "# input\n",
    "# 4 3"
   ]
  },
  {
   "cell_type": "markdown",
   "id": "5fc7d7a6-6c31-4ffa-94af-f5a11b7d9dc0",
   "metadata": {},
   "source": [
    "## 1, 2, 3 더하기 3\n",
    "\n",
    "- 문제 출처: [백준 15988번](https://www.acmicpc.net/problem/15988)"
   ]
  },
  {
   "cell_type": "markdown",
   "id": "cfdcdda6-db57-49c7-8e03-a6c50d8fda62",
   "metadata": {},
   "source": [
    "`-` 기존의 [1, 2, 3 더하기](https://www.acmicpc.net/problem/9095) 문제에서 $n$의 범위가 더 넓어졌다\n",
    "\n",
    "`-` 기존의 코드는 $n$을 $1,2,3$으로 만드는 방법을 기록했는데 여기서는 방법의 가짓수만 기록하자\n",
    "\n",
    "`-` $\\text{dp[$n$]}$을 $1,2,3$을 통해 $n$을 만드는 방법의 가짓수라고 한다면 다음이 성립한다\n",
    "\n",
    "`-` $\\text{dp[$n$]} = \\text{dp[$n-1$]} + \\text{dp[$n-2$]} + \\text{dp[$n-3$]}$\n",
    "\n",
    "`-` $n$이 매우 크기때문에 방법을 다 기록하면 메모리 터진다"
   ]
  },
  {
   "cell_type": "code",
   "execution_count": 184,
   "id": "d3bfef71-9833-476f-892f-0209a3c9de24",
   "metadata": {},
   "outputs": [
    {
     "name": "stdin",
     "output_type": "stream",
     "text": [
      " 3\n",
      " 4\n"
     ]
    },
    {
     "name": "stdout",
     "output_type": "stream",
     "text": [
      "7\n"
     ]
    },
    {
     "name": "stdin",
     "output_type": "stream",
     "text": [
      " 7\n"
     ]
    },
    {
     "name": "stdout",
     "output_type": "stream",
     "text": [
      "44\n"
     ]
    },
    {
     "name": "stdin",
     "output_type": "stream",
     "text": [
      " 10\n"
     ]
    },
    {
     "name": "stdout",
     "output_type": "stream",
     "text": [
      "274\n"
     ]
    }
   ],
   "source": [
    "T = int(input())\n",
    "for _ in range(T):\n",
    "    n = int(input())\n",
    "    dp = [0] * (1000001)  # dp[i]에 i를 1,2,3의 합으로 나타내는 방법의 가짓수를 기록\n",
    "    # 편의상 dp[1]부터 dp[3]까지 정의\n",
    "    dp[1] = 1 \n",
    "    dp[2] = 2\n",
    "    dp[3] = 4\n",
    "    for i in range(4, n + 1):  # dp[4]부터 dp[n]까지\n",
    "        dp[i] = (dp[i - 1] + dp[i - 2] + dp[i - 3]) % 1000000009  # 문제에서 방법의 가짓수를 1,000,000,009로 나누라고 했다\n",
    "    print(dp[n] % 1000000009)\n",
    "\n",
    "# input\n",
    "# 3\n",
    "# 4\n",
    "# 7\n",
    "# 10"
   ]
  },
  {
   "cell_type": "markdown",
   "id": "c6f8b65f-9f07-4a70-888e-97b44c50b81e",
   "metadata": {},
   "source": [
    "## 2×n 타일링\n",
    "\n",
    "- 문제 출처: [백준 11726번](https://www.acmicpc.net/problem/11726)"
   ]
  },
  {
   "cell_type": "markdown",
   "id": "64b50c6b-8e08-4e98-8ee4-3b217a7272ae",
   "metadata": {},
   "source": [
    "`-` $2\\times n$ 크기의 직사각형을 $1\\times 2,\\, 2\\times 1$ 타일로 채우는 방법의 수를 구하기\n",
    "\n",
    "`-` 생각해보면 $2\\times 1$ 타일은 항상 2개를 사용해야 한다\n",
    "\n",
    "`-` 그러면 $2\\times 1$ 타일은  $2\\times 2$ 타일로 치환하여 생각해도 된다\n",
    "\n",
    "`-` 사실상 문제는 자연수 $n$을 $1$과 $2$의 합으로 나타내는 가지수(같은 것이 있는 순열)를 계산하는 것이 된다(높이는 어차피 전부 $2$이니까 의미가 없음)\n",
    "\n",
    "`-` $n$이 $4$일 때 $n$을 $1$과 $2$의 합으로 나타내는 방법을 생각해보자  \n",
    "\n",
    "`-` 주어진 숫자가 $1$과 $2$이므로 $4$를 만드는 방법은 $2$를 만드는 방법에 $+2$를 하는 것과 $3$을 만드는 방법에 $+1$을 하는 것이 존재함\n",
    "\n",
    "`-` 이를 일반화하면 $n$을 만드는 방법은 $n-1$을 만드는 방법에 $+1$ 하기와 $n-2$를 만드는 방법에 $+2$ 하기\n",
    "\n",
    "`-` 여기서 $f(n)$을 $n$을 만드는 방법의 수라고 하면 $f(n)=f(n-1)+f(n-2)$가 된다(조금만 생각하면 알 수 있음)"
   ]
  },
  {
   "cell_type": "code",
   "execution_count": 9,
   "id": "c36d642d-a1e7-483b-afb0-4fc70f18fa64",
   "metadata": {},
   "outputs": [
    {
     "name": "stdin",
     "output_type": "stream",
     "text": [
      " 9\n"
     ]
    },
    {
     "name": "stdout",
     "output_type": "stream",
     "text": [
      "55\n"
     ]
    }
   ],
   "source": [
    "n = int(input())\n",
    "dp = [0] * (n + 1)\n",
    "dp[1] = 1  # 1을 만드는 방법의 수\n",
    "if n > 1:\n",
    "    dp[2] = 2  # 2를 만드는 방법의 수\n",
    "for i in range(3, n + 1):\n",
    "    dp[i] = (dp[i - 1] + dp[i - 2]) % 10007  # 문제 조건이 10007로 나눈 나머지를 출력 (중간 과정마다 mod 추가해도 문제 없음)\n",
    "print(dp[n] % 10007)\n",
    "\n",
    "# input\n",
    "# 9"
   ]
  },
  {
   "cell_type": "markdown",
   "id": "fae4b1e0-5b77-4319-8966-2a9d7a92307a",
   "metadata": {},
   "source": [
    "## 2×n 타일링 2\n",
    "\n",
    "- 문제 출처: [백준 11727번](https://www.acmicpc.net/problem/11727)"
   ]
  },
  {
   "cell_type": "markdown",
   "id": "312398b0-8d81-4a98-b186-827b0a747dde",
   "metadata": {},
   "source": [
    "`-` [2×n 타일링](https://www.acmicpc.net/problem/11726) 문제에서 $2\\times 2$ 타일만 추가되었다\n",
    "\n",
    "`-` $f(n)$ 을  $2\\times n$ 타일을 만드는 방법의 수라고 하면 $f(n)=f(n-1)+2f(n-2)$가 된다\n",
    "\n",
    "`-` $f(n-2)$의 계수가 $2$인 이유는 $1\\times 2$타일 2개를 사용하거나 $2\\times 2$타일을 사용할 수 있기 때문이다"
   ]
  },
  {
   "cell_type": "code",
   "execution_count": 1,
   "id": "881a7dbf-0672-4416-a0cf-6e5acb33848e",
   "metadata": {},
   "outputs": [
    {
     "name": "stdin",
     "output_type": "stream",
     "text": [
      " 12\n"
     ]
    },
    {
     "name": "stdout",
     "output_type": "stream",
     "text": [
      "2731\n"
     ]
    }
   ],
   "source": [
    "n = int(input())\n",
    "dp = [0] * (n + 1)\n",
    "dp[1] = 1  # 2 X 1을 만드는 방법의 수\n",
    "if n > 1:\n",
    "    dp[2] = 3  # 2 X 2를 만드는 방법의 수\n",
    "for i in range(3, n + 1):\n",
    "    dp[i] = (dp[i - 1] + 2 * dp[i - 2]) % 10007  # 문제 조건이 10007로 나눈 나머지를 출력 (중간 과정마다 mod 추가해도 문제 없음)\n",
    "print(dp[n] % 10007)\n",
    "\n",
    "# input\n",
    "# 12"
   ]
  },
  {
   "cell_type": "markdown",
   "id": "6b9ade3d-41cb-4190-a5c9-4d9e8b54e3b9",
   "metadata": {},
   "source": [
    "## LCS 2\n",
    "\n",
    "- 문제 출처: [백준 9252번](https://www.acmicpc.net/problem/9252)"
   ]
  },
  {
   "cell_type": "markdown",
   "id": "a2e46631-2379-4990-9c5f-2b80d0e4be32",
   "metadata": {},
   "source": [
    "`-` 기존의 LCS 문제에서 LCS의 길이뿐만 아니라 LCS 자체도 출력해야 한다\n",
    "\n",
    "`-` 만약 `a[i]`와 `b[j]` 문자가 서로 같다면 `lcs[i][j] = lcs[i - 1][j - 1] + a[i]`와 동일하다 (`a[i]`대신 `b[j]`도 상관없다)\n",
    "\n",
    "`-` 만약 문자가 서로 다르다면 `lcs[i][j]`는 `lcs[i - 1][j]`와 `lcs[i][j - 1])`중 더 긴 것으로 설정한다\n",
    "\n",
    "`-` `lcs[i][j]`는 `a`의 `i`번째 원소까지와 `b`의 `j`번째 원소까지 고려했을 때의 LCS이다"
   ]
  },
  {
   "cell_type": "code",
   "execution_count": 13,
   "id": "f5b00b7a-bf47-402c-99f2-0eb390336931",
   "metadata": {},
   "outputs": [
    {
     "name": "stdin",
     "output_type": "stream",
     "text": [
      " ACAYKP\n",
      " CAPCAK\n"
     ]
    },
    {
     "name": "stdout",
     "output_type": "stream",
     "text": [
      "4\n",
      "ACAK\n"
     ]
    }
   ],
   "source": [
    "def solution():\n",
    "    a = input()\n",
    "    b = input()\n",
    "    a_len = len(a)\n",
    "    b_len = len(b)\n",
    "    dp = [[0] * (b_len + 1) for _ in range(a_len + 1)]  # dp[i][j]는 a의 i번째 원소와 b의 j번째 원소까지 고려했을 때 lcs의 길이\n",
    "    lcs = [[\"\"] * (b_len + 1) for _ in range(a_len + 1)]  # lcs[i][j]는 a의 i번째 원소와 b의 j번째 원소까지 고려했을 때의 lcs\n",
    "    for i in range(1, a_len + 1):\n",
    "        for j in range(1, b_len + 1):\n",
    "            if a[i - 1] == b[j - 1]:\n",
    "                dp[i][j] = dp[i - 1][j - 1] + 1\n",
    "                lcs[i][j] = \"\".join([lcs[i - 1][j - 1], a[i - 1]])  # a[i - 1]과 b[j - 1]은 동일하다\n",
    "            else:\n",
    "                if dp[i][j - 1] > dp[i - 1][j]:  # 둘이 같은 경우엔 둘 중 아무거나 lcs[i][j]로 설정해도 상관없다\n",
    "                    dp[i][j] = dp[i][j - 1]\n",
    "                    lcs[i][j] = lcs[i][j - 1]\n",
    "                else:\n",
    "                    dp[i][j] = dp[i - 1][j]\n",
    "                    lcs[i][j] = lcs[i - 1][j]\n",
    "    print(dp[a_len][b_len])\n",
    "    print(lcs[a_len][b_len])\n",
    "\n",
    "\n",
    "solution()\n",
    "\n",
    "# input\n",
    "# ACAYKP\n",
    "# CAPCAK"
   ]
  },
  {
   "cell_type": "markdown",
   "id": "106aa734-3011-475c-bd98-09162443e5bc",
   "metadata": {},
   "source": [
    "## 팰린드롬?\n",
    "\n",
    "- 문제 출처: [백준 10942번](https://www.acmicpc.net/problem/10942)"
   ]
  },
  {
   "cell_type": "markdown",
   "id": "193b3488-ade8-47a1-86ae-1c759b1d4086",
   "metadata": {},
   "source": [
    "`-` `dp[a][b]`를 $a$번째 숫자부터 $b$번째 숫자까지의 팰린드롬 여부라고 하자\n",
    "\n",
    "`-` 그러면 팰린드롬의 정의상 `dp[a][b] = dp[a + 1][b - 1] * I(N_a = N_b)`이다\n",
    "\n",
    "`-` 수열 $a \\sim b$가 팰린드롬이면 $N_a$와 $N_b$가 동일하고 수열 $a+1 \\sim b-1$이 팰린드롬이다\n",
    "\n",
    "`-` $a$와 $b$가 동일하면 하나의 숫자만 있으므로 팰린드롬이다\n",
    "\n",
    "`-` $a + 1 = b$라면 $N_a$와 $N_b$가 동일해야 팰린드롬이다\n",
    "\n",
    "`-` 결국에는 $N\\times N$배열을 모두 채우므로 시간복잡도는 $O\\left(N^2\\right)$이다"
   ]
  },
  {
   "cell_type": "code",
   "execution_count": 205,
   "id": "fb5aec71-e966-41a7-aea9-9491c6fb9a6d",
   "metadata": {},
   "outputs": [
    {
     "name": "stdin",
     "output_type": "stream",
     "text": [
      " 7\n",
      " 1 2 1 3 1 2 1\n",
      " 4\n",
      " 1 3\n"
     ]
    },
    {
     "name": "stdout",
     "output_type": "stream",
     "text": [
      "1\n"
     ]
    },
    {
     "name": "stdin",
     "output_type": "stream",
     "text": [
      " 2 5\n"
     ]
    },
    {
     "name": "stdout",
     "output_type": "stream",
     "text": [
      "0\n"
     ]
    },
    {
     "name": "stdin",
     "output_type": "stream",
     "text": [
      " 3 3\n"
     ]
    },
    {
     "name": "stdout",
     "output_type": "stream",
     "text": [
      "1\n"
     ]
    },
    {
     "name": "stdin",
     "output_type": "stream",
     "text": [
      " 5 7\n"
     ]
    },
    {
     "name": "stdout",
     "output_type": "stream",
     "text": [
      "1\n"
     ]
    }
   ],
   "source": [
    "N = int(input())\n",
    "nums = [0] + list(map(int, input().split()))\n",
    "M = int(input())\n",
    "dp = [[0 for _ in range(N + 1)] for _ in range(N + 1)]  # N x N 배열, dp[a][b]는 a ~ b 수열의 팰린드롬 여부\n",
    "visited = [[False for _ in range(N + 1)] for _ in range(N + 1)]\n",
    "\n",
    "def palindrome(a, b):\n",
    "    if visited[a][b]:\n",
    "        return dp[a][b]\n",
    "    visited[a][b] = True\n",
    "    if a == b:\n",
    "        dp[a][b] = 1\n",
    "        return 1\n",
    "    if b == a + 1:\n",
    "        if nums[a] == nums[b]:\n",
    "            dp[a][b] = 1\n",
    "            return 1\n",
    "        return 0\n",
    "    result = palindrome(a + 1, b - 1) * (nums[a] == nums[b])\n",
    "    dp[a][b] = result\n",
    "    return result\n",
    "\n",
    "\n",
    "for _ in range(M):\n",
    "    S, E = map(int, input().split())\n",
    "    print(palindrome(S, E))\n",
    "\n",
    "# input\n",
    "# 7\n",
    "# 1 2 1 3 1 2 1\n",
    "# 4\n",
    "# 1 3\n",
    "# 2 5\n",
    "# 3 3\n",
    "# 5 7"
   ]
  },
  {
   "cell_type": "markdown",
   "id": "fda281f4-b37e-41dd-ac55-1cb8b9190304",
   "metadata": {},
   "source": [
    "## 팰린드롬\n",
    "\n",
    "- 문제 출처: [백준 5502번](https://www.acmicpc.net/problem/5502)"
   ]
  },
  {
   "cell_type": "markdown",
   "id": "18709ea5-b66b-48cf-bfb5-48eee9367398",
   "metadata": {},
   "source": [
    "`-` 문자를 추가하는 것은 제거하는 것과 사실상 같다\n",
    "\n",
    "`-` `ABABC`를 팰린드롬으로 만들기 위해선 앞에 `C`를 추가해야 한다\n",
    "\n",
    "`-` 이는 팰린드롬의 정의상 뒤에 있는 `C`를 없애는 것과 동일한 효과를 지닌다\n",
    "\n",
    "`-` 만약 앞의 문자와 뒤의 문자가 동일하다면 둘을 제거하면 되고 이는 정답에 카운팅되지 않는다\n",
    "\n",
    "`-` 만약 둘이 다르다면 앞 또는 뒤의 문자 중 하나를 제거해야 하고 이는 정답에 카운팅된다\n",
    "\n",
    "`-` 문자열의 길이가 $0$ 또는 $1$이 되면 팰린드롬이므로 탐색을 중지한다\n",
    "\n",
    "`-` 앞과 뒤중 어느 것을 제거해야 하는지 모르므로 둘 다 해봐야한다\n",
    "\n",
    "`-` `dp[i][j]`를 $i$부터 $j$까지의 부분 문자열을 팰린드롬으로 만들기 위해 필요한 최소 문자 삽입 개수라고 하자\n",
    "\n",
    "`-` `dp[i][j]`는 $i$번째 문자와 $j$번째 문자가 동일할 경우 `dp[i + 1][j - 1]`과 동일하다\n",
    "\n",
    "`-` 만약 $i$번째 문자와 $j$번째 문자가 동일하지 않다면 `dp[i + 1][j]`와 `dp[i][j - 1]`중 작은 것에 $1$을 더한 것이 된다\n",
    "\n",
    "`-` 왼쪽은 고정시키고 오른쪽을 움직여서 탐색하는 것은 시간 복잡도가 $O(N)$이고 왼쪽을 $N$번 바꿔가며 실행할 것이므로\n",
    "\n",
    "`-` 시간 복잡도는 $O\\left(N^2\\right)$이고 $N$은 최대 $5000$이므로 1초 안에 충분히 실행할 수 있다\n",
    "\n",
    "`-` BFS로 풀었다가 메모리 초과 발생한 건 안 비밀"
   ]
  },
  {
   "cell_type": "code",
   "execution_count": 24,
   "id": "308b4407-09b9-4ced-a7d6-3ada70db6113",
   "metadata": {},
   "outputs": [
    {
     "name": "stdin",
     "output_type": "stream",
     "text": [
      " 5\n",
      " Ab3bd\n"
     ]
    },
    {
     "name": "stdout",
     "output_type": "stream",
     "text": [
      "2\n"
     ]
    }
   ],
   "source": [
    "N = int(input())\n",
    "string = input()\n",
    "dp = [[N - 1 for _ in range(N)] for _ in range(N)]  # dp[a][b]는 a ~ b 부분문자열을 팰린드롬으로 만들기 위해 필요한 최소 문자 삽입 개수\n",
    "for i in range(N):\n",
    "    dp[i][i] = 0\n",
    "for i in range(N):\n",
    "    for j in range(N):\n",
    "        if i != j - 1:\n",
    "            continue\n",
    "        if string[i] == string[j]:\n",
    "            dp[i][j] = 0\n",
    "        else:\n",
    "            dp[i][j] = 1\n",
    "for i in range(N - 2, -1, -1):\n",
    "    for j in range(i + 1, N):\n",
    "        if i == j or i == j - 1:\n",
    "            continue\n",
    "        if string[i] == string[j]:\n",
    "            dp[i][j] = dp[i + 1][j - 1]\n",
    "        else:\n",
    "            dp[i][j] = min(dp[i + 1][j], dp[i][j - 1]) + 1\n",
    "\n",
    "print(dp[0][N - 1])\n",
    "\n",
    "# input\n",
    "# 5\n",
    "# Ab3bd"
   ]
  },
  {
   "cell_type": "markdown",
   "id": "10cca24f-7fcf-4f50-b2cd-13f9a0af31c6",
   "metadata": {},
   "source": [
    "## 변형 계단 수\n",
    "\n",
    "- 문제 출처: [백준 18244번](https://www.acmicpc.net/problem/18244)"
   ]
  },
  {
   "cell_type": "markdown",
   "id": "74f80ffb-7d72-4393-bfa4-a183f9341869",
   "metadata": {},
   "source": [
    "`-` [계단 수](https://www.acmicpc.net/problem/1562) 문제를 풀었다면 이 문제는 쉽게 해결할 수 있다"
   ]
  },
  {
   "cell_type": "code",
   "execution_count": 47,
   "id": "aecba3bf-a02f-4872-b0e8-c8e49ecd7f4d",
   "metadata": {},
   "outputs": [
    {
     "name": "stdin",
     "output_type": "stream",
     "text": [
      " 4\n"
     ]
    },
    {
     "name": "stdout",
     "output_type": "stream",
     "text": [
      "50\n"
     ]
    }
   ],
   "source": [
    "N = int(input())\n",
    "dp = [[[[0 for _ in range(2)] for _ in range(4)] for _ in range(10)] for _ in range(N + 1)]\n",
    "ASC = 1\n",
    "DESC = 0\n",
    "P = 1000000007\n",
    "# dp[n][k][step][+ or -]는 k로 끝나는 n자리 계단 수 중 + or - 방향으로 step번 움직인 것의 총 개수이다\n",
    "for k in range(10):\n",
    "    dp[1][k][0][1] += 1  # 일의 자리 숫자는 방향이 아직 정해지지 않음, 임의로 하나를 정했다\n",
    "for n in range(1, N):\n",
    "    for k in range(10):\n",
    "        for step in range(3):\n",
    "            for direction in range(2):\n",
    "                if k > 0:\n",
    "                    step_new = step + 1 if direction == DESC else 1\n",
    "                    dp[n + 1][k - 1][step_new][DESC] += dp[n][k][step][direction]\n",
    "                    dp[n + 1][k - 1][step_new][DESC] %= P\n",
    "                if k < 9:\n",
    "                    step_new = 1 if direction == DESC else step + 1\n",
    "                    dp[n + 1][k + 1][step_new][ASC] += dp[n][k][step][direction]\n",
    "                    dp[n + 1][k + 1][step_new][ASC] %= P\n",
    "answer = sum([dp[N][k][step][direction] % P for k in range(10) for step in range(3) for direction in range(2)]) % P\n",
    "print(answer)\n",
    "\n",
    "# input\n",
    "# 4"
   ]
  },
  {
   "cell_type": "markdown",
   "id": "d835b61e-b520-4fe8-9008-6ecb6e6b9743",
   "metadata": {},
   "source": [
    "## 스티커\n",
    "\n",
    "- 문제 출처: [백준 9465번](https://www.acmicpc.net/problem/9465)"
   ]
  },
  {
   "cell_type": "markdown",
   "id": "f1445241-03be-475c-b8b5-a94db8516566",
   "metadata": {},
   "source": [
    "`-` 접근 방식을 생각하기 어려웠다 (알고 보면 쉽다)\n",
    "\n",
    "`-` 위 칸을 2층, 아래 칸을 1층이라 하자\n",
    "\n",
    "`-` $n$열까지 고려했다고 해보자\n",
    "\n",
    "`-` 이제 $n + 1$열을 고려할 것이다\n",
    "\n",
    "`-` 2층 $n + 1$열의 스티커를 뗄지 말지는 2층 $n$열의 스티커 제거 여부와 1층 $n + 1$열의 스티커 제거 여부에 영향을 받으며 1층도 마찬가지다\n",
    "\n",
    "`-` [$\\star$] 따라서 $2\\times 1$크기의 직사각형 영역을 고려하자 [$\\star$]\n",
    "\n",
    "`-` $n$열의 직사각형에서 $n+1$열의 직사각형으로 확장한다고 해보자\n",
    "\n",
    "`-` $2\\times 1$크기의 직사각형에서 스티커 제거 여부는 총 $3$가지 존재한다\n",
    "\n",
    "`-` `아무 칸도 떼지 않는 경우`, `1층 스티커만 떼는 경우`, `2층 스티커만 떼는 경우`\n",
    "\n",
    "`-` 순서에 따라 숫자 $0,1,2$를 부여하면 점화식은 아래와 같다\n",
    "\n",
    "`-` `dp[n][0] = max(dp[n - 1][0], dp[n - 1][1], dp[n - 1][2])`\n",
    "\n",
    "`-` `dp[n][1] = sticker1[n] + max(dp[n - 1][0], dp[n - 1][2])`\n",
    "\n",
    "`-` `dp[n][2] = sticker2[n] + max(dp[n - 1][0], dp[n - 1][1])`\n",
    "\n",
    "`-` `dp[n][0]`은 $n$번째 열의 스티커를 떼지 않았을 때 $1\\sim n$열의 직사각형에서 얻을 수 있는 점수의 최댓값이다\n",
    "\n",
    "`-` `dp[n][1]`은 $n$번째 열의 스티커 중 1층의 스티커만 뗐을 때 $1\\sim n$열의 직사각형에서 얻을 수 있는 점수의 최댓값이다\n",
    "\n",
    "`-` `dp[n][2]`은 $n$번째 열의 스티커 중 2층의 스티커만 뗐을 때 $1\\sim n$열의 직사각형에서 얻을 수 있는 점수의 최댓값이다"
   ]
  },
  {
   "cell_type": "code",
   "execution_count": 23,
   "id": "ee87ae56-9684-4bd1-ac77-532e19b78c24",
   "metadata": {},
   "outputs": [
    {
     "name": "stdin",
     "output_type": "stream",
     "text": [
      " 2\n",
      " 5\n",
      " 50 10 100 20 40\n",
      " 30 50 70 10 60\n"
     ]
    },
    {
     "name": "stdout",
     "output_type": "stream",
     "text": [
      "260\n"
     ]
    },
    {
     "name": "stdin",
     "output_type": "stream",
     "text": [
      " 7\n",
      " 10 30 10 50 100 20 40\n",
      " 20 40 30 50 60 20 80\n"
     ]
    },
    {
     "name": "stdout",
     "output_type": "stream",
     "text": [
      "290\n"
     ]
    }
   ],
   "source": [
    "def solve_testcase():\n",
    "    n = int(input())\n",
    "    sticker2 = list(map(int, input().split()))\n",
    "    sticker1 = list(map(int, input().split()))\n",
    "    dp = [[0 for _ in range(3)] for _ in range(n)]  # 0은 아무것도 떼지 않은 것, 1은 1층만 뗀 것, 2는 2층만 뗀 것\n",
    "    dp[0][0] = 0  # 아무것도 떼지 않음\n",
    "    dp[0][1] = sticker1[0]  # 1층 스티커만 뗐다\n",
    "    dp[0][2] = sticker2[0]  # 2층 스티커만 뗐다\n",
    "    for i in range(1, n):\n",
    "        dp[i][0] = max(dp[i - 1][0], dp[i - 1][1], dp[i - 1][2])\n",
    "        dp[i][1] = sticker1[i] + max(dp[i - 1][0], dp[i - 1][2])\n",
    "        dp[i][2] = sticker2[i] + max(dp[i - 1][0], dp[i - 1][1])\n",
    "    print(max(dp[n - 1]))\n",
    "\n",
    "\n",
    "def solution():\n",
    "    T = int(input())\n",
    "    for _ in range(T):\n",
    "        solve_testcase()\n",
    "\n",
    "\n",
    "solution()\n",
    "\n",
    "# input\n",
    "# 2\n",
    "# 5\n",
    "# 50 10 100 20 40\n",
    "# 30 50 70 10 60\n",
    "# 7\n",
    "# 10 30 10 50 100 20 40\n",
    "# 20 40 30 50 60 20 80"
   ]
  },
  {
   "cell_type": "markdown",
   "id": "d3f77230-f4fe-40d3-a0c4-e4f2f7d48589",
   "metadata": {},
   "source": [
    "## 내려가기\n",
    "\n",
    "- 문제 출처: [백준 2096번](https://www.acmicpc.net/problem/2096)"
   ]
  },
  {
   "cell_type": "markdown",
   "id": "b425980e-36c0-47bd-a050-ba99bec572e5",
   "metadata": {},
   "source": [
    "`-` 메모리 제한에 유의하자\n",
    "\n",
    "`-` 다음 줄로 내려갈 때 바로 아래 또는 아래와 붙어있는 수로만 이동할 수 있다\n",
    "\n",
    "`-` 즉, 첫 번째 칸에 있으면 다음 줄의 첫 번째 칸 또는 두 번째 칸으로만 이동할 수 있다\n",
    "\n",
    "`-` `dp_max[n][i]`를 $n$줄의 $i$번째 원소를 골랐을 때 여태까지의 최대 점수라 하자 (`dp_min`은 최소 점수라 하자)\n",
    "\n",
    "`-` $dp_{max}[n][0] = a_n[n][0] + \\max(dp_{max}[n - 1][0], dp_{max}[n - 1][1])$\n",
    "\n",
    "`-` $dp_{max}[n][1] = a_n[n][1] + \\max(dp_{max}[n - 1][0], dp_{max}[n - 1][1], dp_{max}[n - 1][2])$\n",
    "\n",
    "`-` $dp_{max}[n][2] = a_n[n][2] + \\max(dp_{max}[n - 1][1], dp_{max}[n - 1][2])$\n",
    "\n",
    "`-` 자연스럽게 위의 점화식이 성립하며 `dp_min`은 위 점화식에서 `max`를 `min`으로 변경하면 된다\n",
    "\n",
    "`-` 점화식에 따르면 현재 상태를 정하기 위해 직전의 상태만 알면 되므로 모든 수열을 배열에 기록할 필요가 없다"
   ]
  },
  {
   "cell_type": "code",
   "execution_count": 8,
   "id": "59f8505b-3772-4514-80ae-88d5382529b1",
   "metadata": {},
   "outputs": [
    {
     "name": "stdin",
     "output_type": "stream",
     "text": [
      " 3\n",
      " 1 2 3\n",
      " 4 5 6\n",
      " 4 9 0\n"
     ]
    },
    {
     "name": "stdout",
     "output_type": "stream",
     "text": [
      "18 6\n"
     ]
    }
   ],
   "source": [
    "def solution():\n",
    "    N = int(input())\n",
    "    dp_max0_prev = dp_max1_prev = dp_max2_prev = 0\n",
    "    dp_min0_prev = dp_min1_prev = dp_min2_prev = 0\n",
    "    for _ in range(N):\n",
    "        a, b, c = map(int, input().split())\n",
    "        # max\n",
    "        dp_max0_now = a + max(dp_max0_prev, dp_max1_prev)\n",
    "        dp_max1_now = b + max(dp_max0_prev, dp_max1_prev, dp_max2_prev)\n",
    "        dp_max2_now = c + max(dp_max1_prev, dp_max2_prev)\n",
    "        dp_max0_prev = dp_max0_now\n",
    "        dp_max1_prev = dp_max1_now\n",
    "        dp_max2_prev = dp_max2_now\n",
    "        # min\n",
    "        dp_min0_now = a + min(dp_min0_prev, dp_min1_prev)\n",
    "        dp_min1_now = b + min(dp_min0_prev, dp_min1_prev, dp_min2_prev)\n",
    "        dp_min2_now = c + min(dp_min1_prev, dp_min2_prev)\n",
    "        dp_min0_prev = dp_min0_now\n",
    "        dp_min1_prev = dp_min1_now\n",
    "        dp_min2_prev = dp_min2_now\n",
    "    answer_max = max(dp_max0_prev, dp_max1_prev, dp_max2_prev)\n",
    "    answer_min = min(dp_min0_prev, dp_min1_prev, dp_min2_prev)\n",
    "    print(answer_max, answer_min)\n",
    "\n",
    "\n",
    "solution()\n",
    "\n",
    "# input\n",
    "# 3\n",
    "# 1 2 3\n",
    "# 4 5 6\n",
    "# 4 9 0"
   ]
  },
  {
   "cell_type": "markdown",
   "id": "aef03291-fc13-438a-9146-bf96d9b74b4a",
   "metadata": {},
   "source": [
    "## LCS 3\n",
    "\n",
    "- 문제 출처: [백준 1958번](https://www.acmicpc.net/problem/1958)"
   ]
  },
  {
   "cell_type": "markdown",
   "id": "c35b0cd8-a7ab-42b5-bc5d-889c1729e2cb",
   "metadata": {},
   "source": [
    "`-` 두 문자열의 LCS를 세 문자열로 확장시킨 버전이다\n",
    "\n",
    "`-` `dp[i][j][k]`를 첫 번째 문자열의 $i$번째 원소까지 고려하고 두 번째 문자열의 $j$번째 원소까지 고려하고 세 번째 문자열의 $k$번째 원소까지 고려했을 때의 LCS의 길이라고 하자\n",
    "\n",
    "`-` $\\operatorname{dp}[i][j][k] = \\operatorname{dp}[i-1][j-1][k-1] + 1,\\quad  \\text{if, $s_1[i]=s_2[j]=s_3[k]$}$\n",
    "\n",
    "`-` $\\operatorname{dp}[i][j][k] = \\max(\\operatorname{dp}[i][j][k-1],\\operatorname{dp}[i][j-1][k],\\operatorname{dp}[i-1][j][k],   \\quad  \\text{if not, $s_1[i]=s_2[j]=s_3[k]$}$\n",
    "\n",
    "`-` 두 개가 아닌 세 개의 문자열을 고려하므로 for문을 3번 중첩시키면 된다"
   ]
  },
  {
   "cell_type": "code",
   "execution_count": 8,
   "id": "38e39730-3ec9-4610-a4d2-2bfd5488fd96",
   "metadata": {},
   "outputs": [
    {
     "name": "stdin",
     "output_type": "stream",
     "text": [
      " abcdefghijklmn\n",
      " bdefg\n",
      " efg\n"
     ]
    },
    {
     "name": "stdout",
     "output_type": "stream",
     "text": [
      "3\n"
     ]
    }
   ],
   "source": [
    "def compute_lcs3_len(s1, s2, s3):\n",
    "    s1_len = len(s1)\n",
    "    s2_len = len(s2)\n",
    "    s3_len = len(s3)\n",
    "    dp = [[[0 for _ in range(s3_len + 1)] for _ in range(s2_len + 1)] for _ in range(s1_len + 1)]\n",
    "    for i in range(1, s1_len + 1):\n",
    "        for j in range(1, s2_len + 1):\n",
    "            for k in range(1, s3_len + 1):\n",
    "                if s1[i - 1] == s2[j - 1] == s3[k - 1]:\n",
    "                    dp[i][j][k] = dp[i - 1][j - 1][k - 1] + 1\n",
    "                else:\n",
    "                    dp[i][j][k] = max(dp[i][j][k - 1], dp[i][j - 1][k], dp[i - 1][j][k])\n",
    "    return dp[s1_len][s2_len][s3_len]\n",
    "\n",
    "                \n",
    "def solution():\n",
    "    s1 = input()\n",
    "    s2 = input()\n",
    "    s3 = input()\n",
    "    lcs_len = compute_lcs3_len(s1, s2, s3)\n",
    "    print(lcs_len)\n",
    "\n",
    "\n",
    "solution()\n",
    "\n",
    "# input\n",
    "# abcdefghijklmn\n",
    "# bdefg\n",
    "# efg"
   ]
  },
  {
   "cell_type": "markdown",
   "id": "ff91fc29-5374-4bb6-b1d8-0d56cb9077d9",
   "metadata": {},
   "source": [
    "## 하노이의 네 탑\n",
    "\n",
    "- 문제 출처: [백준 9942번](https://www.acmicpc.net/problem/9942)"
   ]
  },
  {
   "cell_type": "markdown",
   "id": "c7dfd62b-db3b-4f4e-8517-9378c68241aa",
   "metadata": {},
   "source": [
    "`-` 기둥이 3개에서 4개가 되었다\n",
    "\n",
    "`-` 여유 공간이 2개이므로 한 번에 가장 큰 원판을 2개까지 목표 기둥 $D$까지 옮길 수 있다"
   ]
  },
  {
   "cell_type": "markdown",
   "id": "1046c337-17be-4c86-9d08-303281866239",
   "metadata": {},
   "source": [
    "- 첫 번째 시도\n",
    "\n",
    "`-` 현재 $n$개의 원판이 기둥 $A$에 있다고 해보자\n",
    "\n",
    "`-` 그럼 $n-2$개의 원판을 기둥 $B$에 옮기고 2번째로 큰 원판을 $C$에 옮기고 가장 큰 원판을 $D$에 옮긴 뒤 $C$에 있는 원판을 $D$로 옮기면 된다\n",
    "\n",
    "`-` 위에서 기둥 $A,B,C$ 종류는 중요하지 않다\n",
    "\n",
    "`-` 즉, 처음에 $n$개의 원판이 기둥 $B$ 또는 $C$에 있다고 생각해도 상관없다\n",
    "\n",
    "`-` $a_n$을 기둥 $A,B,C$ 중 한 곳에 있는 $n$ 원판을 기둥 $D$로 옮기기 위해 필요한 이동 횟수의 최솟값이라고 하자\n",
    "\n",
    "`-` $n> 2$인 $a_n$에 대하여 $n$개의 원판을 목표까지 옮기기 위해 $n-2$개의 원판을 목표까지 옮기는 작업을 $2$번 한 후 남은 $2$개의 원판을 $3$번의 횟수로 옮긴다\n",
    "\n",
    "`-` 따라서 $a_n=2a_{n-2}+3,\\;(a_1=1, a_2=3)$이다\n",
    "\n",
    "`-` 틀렸습니다^^"
   ]
  },
  {
   "cell_type": "markdown",
   "id": "21a0be47-0bd2-4bd3-a543-e2139c4f61e9",
   "metadata": {},
   "source": [
    "- 두 번째 시도\n",
    "\n",
    "`-` 기둥이 하나 추가된 걸 더 유용하게 사용해보자\n",
    "\n",
    "`-` 첫 번째 시도에서 구한 점화식은 $a_n=2a_{n-2}+3,\\;(a_1=1, a_2=3)$이다\n",
    "\n",
    "`-` $n$개의 원판을 옮기는 걸 $n-2$개의 원판을 옮기는 것과 $2$개의 원판을 옮기는 것으로 나눠서 생각하는데 꼭 이래야만 할까?\n",
    "\n",
    "`-` 한번 $n-3$과 $3$으로 나누어 보자\n",
    "\n",
    "`-` 작은 원판 $n-3$개를 보조 기둥 아무대로나 옮기고 큰 원판 $3$개를 목표 기둥으로 옮기는 경우의 수는 다음과 같다\n",
    "\n",
    "`-` $a_n=2a_{n-3}+7,\\;(a_1=1, a_2=3, a_3=5)$이다\n",
    "\n",
    "`-` 그리고 이 점화식이 더 작은 값을 도출한다\n",
    "\n",
    "`-` $n$개의 원판을 큰 원판 $k$개와 작은 원판 $n-k$개로 나눈 다음 큰 원판 $k$개를 먼저 옮겨야 한다\n",
    "\n",
    "`-` 이때 큰 원판은 작은 원판 위에 놓을 수 없으므로 사실상 기둥이 $3$개인 것과 같다\n",
    "\n",
    "`-` 따라서 큰 원판 $k$개를 목표 기둥으로 옮기는 경우의 수는 $2^k-1$이다\n",
    "\n",
    "`-` 그 후 나머지 $n-k$개의 원판을 재귀적으로 목표 기둥으로 옮기면 된다\n",
    "\n",
    "`-` 나는 $k$가 언제 최적인지 모른다\n",
    "\n",
    "`-` 하지만 $k$는 $1$과 $n-1$ 사이의 값을 가지므로 이를 전부 해보고 값을 비교하자\n",
    "\n",
    "`-` 점화식은 $a_n=\\min(2a_{n-k}+2^{k}-1, a_n)$인데 $a_1,\\cdots a_k$는 이전 점화식들에서 계산한 값 중 최솟값을 사용하자\n",
    "\n",
    "`-` 맞았습니다^^"
   ]
  },
  {
   "cell_type": "code",
   "execution_count": 1,
   "id": "5bbd5bb6-452c-45b1-86af-6ad6267a6aa2",
   "metadata": {
    "tags": []
   },
   "outputs": [
    {
     "name": "stdin",
     "output_type": "stream",
     "text": [
      " 1\n"
     ]
    },
    {
     "name": "stdout",
     "output_type": "stream",
     "text": [
      "Case 1: 1\n"
     ]
    },
    {
     "name": "stdin",
     "output_type": "stream",
     "text": [
      " 3\n"
     ]
    },
    {
     "name": "stdout",
     "output_type": "stream",
     "text": [
      "Case 2: 5\n"
     ]
    },
    {
     "name": "stdin",
     "output_type": "stream",
     "text": [
      " 5\n"
     ]
    },
    {
     "name": "stdout",
     "output_type": "stream",
     "text": [
      "Case 3: 13\n"
     ]
    },
    {
     "name": "stdin",
     "output_type": "stream",
     "text": [
      " -1\n"
     ]
    }
   ],
   "source": [
    "def hanoi(n, k, a_n):\n",
    "    # a_n에 a_1부터 a_k까지의 값이 존재해야 한다\n",
    "    for i in range(k + 1, n + 1):\n",
    "        a_n[i] = min(2 * a_n[i - k] + 2**k - 1, a_n[i])  # 기존 값 또는 새로운 k의 점화식 중 최솟값을 사용\n",
    "    return a_n\n",
    "\n",
    "\n",
    "def simulate_hanoi(n):\n",
    "    history = {}\n",
    "    a_n = [INF for _ in range(n + 1)]\n",
    "    a_n[1] = 1\n",
    "    for k in range(1, n):\n",
    "        a_n = hanoi(n, k, a_n)\n",
    "        history[k] = a_n.copy()\n",
    "    return history\n",
    "\n",
    "\n",
    "def solve_testcase(n, ith):\n",
    "    if n == 1:\n",
    "        print(f\"Case {ith}: 1\")\n",
    "        return\n",
    "    history = simulate_hanoi(n)\n",
    "    answer = history[n - 1][n]  # 최솟값인 경우에만 a_n을 갱신했으므로 k = n - 1일 때의 정보는 이전의 모든 정보를 포함한 최솟값이다 \n",
    "    print(f\"Case {ith}: {answer}\")\n",
    "\n",
    "\n",
    "def solution():\n",
    "    global INF\n",
    "    ith = 1\n",
    "    test_n = -1\n",
    "    INF = float(\"inf\")\n",
    "    while True:\n",
    "        try:\n",
    "            N = int(input())\n",
    "            if N == test_n:\n",
    "                break\n",
    "            solve_testcase(N ,ith)\n",
    "        except (EOFError, ValueError):\n",
    "            break\n",
    "        ith += 1\n",
    "\n",
    "\n",
    "solution()\n",
    "\n",
    "# input\n",
    "# 1\n",
    "# 3\n",
    "# 5\n",
    "# -1  # For test"
   ]
  },
  {
   "cell_type": "markdown",
   "id": "93e63ab6-f104-4488-a75b-1a417ecea36d",
   "metadata": {
    "tags": []
   },
   "source": [
    "## 내리막 길\n",
    "\n",
    "- 문제 출처: [백준 1520번](https://www.acmicpc.net/problem/1520)"
   ]
  },
  {
   "cell_type": "markdown",
   "id": "b6eb4a6a-7150-4a79-82aa-d0a75ccbfe42",
   "metadata": {},
   "source": [
    "`-` 동적계획법으로 간단히 해결할 수 있다\n",
    "\n",
    "`-` `dp[i][j]`를 $(1,1)$에서 $(i, j)$까지 내리막길로만 이동하는 경로의 개수라고 하자\n",
    "\n",
    "`-` $(i,j)$까지 내리막길로 가는 경로에 대해 도착하기 한 칸 전에는 $(i,j)$와 인접한 $4$군데 중 하나에 있었을 것이다\n",
    "\n",
    "`-` 이들 중 내리막길이 성립하는 좌표의 배열 함숫값만 더해주면 `dp[i][j]`를 계산할 수 있다\n",
    "\n",
    "`-` 이미 방문한 경로에 대해선 저장된 배열의 값을 반환하면 된다\n",
    "\n",
    "`-` 방문 처리를 위해 따로 불리언 배열을 만들자\n",
    "\n",
    "`-` 경로의 가짓수가 $0$보다 큰지 아닌지로 방문을 판단하기에는 경로가 없을 수도 있다\n",
    "\n",
    "`-` 아니면 초기에 임의의 값으로 설정해두고 dp가 해당 값이면 방문을 아직 안한 걸로 판단할 수도 있지만 깔끔하게 처리하기 위해 방문 배열을 만들겠다"
   ]
  },
  {
   "cell_type": "code",
   "execution_count": 3,
   "id": "4677f9cc-678d-4dc7-b059-b44327b35ebf",
   "metadata": {},
   "outputs": [
    {
     "name": "stdin",
     "output_type": "stream",
     "text": [
      " 4 5\n",
      " 50 45 37 32 30\n",
      " 35 50 40 20 25\n",
      " 30 30 25 17 28\n",
      " 27 24 22 15 10\n"
     ]
    },
    {
     "name": "stdout",
     "output_type": "stream",
     "text": [
      "3\n"
     ]
    }
   ],
   "source": [
    "import sys\n",
    "\n",
    "sys.setrecursionlimit(10**6)\n",
    "\n",
    "\n",
    "def count_roads(i, j):\n",
    "    if visited[i][j]:\n",
    "        return dp[i][j]\n",
    "    visited[i][j] = True\n",
    "    for dx, dy in dxy:\n",
    "        x_prev = j + dx\n",
    "        y_prev = i + dy\n",
    "        is_in_range = 0 <= x_prev < N and 0 <= y_prev < M\n",
    "        if not is_in_range:\n",
    "            continue\n",
    "        is_decreasing = heights[i][j] < heights[y_prev][x_prev]\n",
    "        if not is_decreasing:\n",
    "            continue\n",
    "        dp[i][j] += count_roads(y_prev, x_prev)\n",
    "    return dp[i][j]\n",
    "\n",
    "\n",
    "def solution():\n",
    "    global N, M, heights, dp, visited, dxy\n",
    "    M, N = map(int, input().split())\n",
    "    heights = [list(map(int, input().split())) for _ in range(M)]\n",
    "    dp = [[0 for _ in range(N)] for _ in range(M)]\n",
    "    visited = [[False for _ in range(N)] for _ in range(M)]\n",
    "    dxy = [(0, -1), (0, 1), (-1, 0), (1, 0)]  # 상하좌우\n",
    "    dp[0][0] = 1\n",
    "    visited[0][0] = True\n",
    "    answer = count_roads(M - 1, N - 1)\n",
    "    print(answer)\n",
    "\n",
    "\n",
    "solution()\n",
    "\n",
    "# input\n",
    "# 4 5\n",
    "# 50 45 37 32 30\n",
    "# 35 50 40 20 25\n",
    "# 30 30 25 17 28\n",
    "# 27 24 22 15 10"
   ]
  },
  {
   "cell_type": "markdown",
   "id": "ca05fbcc-5ea6-4194-8e02-ffacbc9f4038",
   "metadata": {},
   "source": [
    "## 로봇 조종하기\n",
    "\n",
    "- 문제 출처: [백준 2169번](https://www.acmicpc.net/problem/2169)"
   ]
  },
  {
   "cell_type": "markdown",
   "id": "4abe742b-e99b-46e9-8cb4-6e1a6b74424d",
   "metadata": {},
   "source": [
    "`-` $a_{ij}$를 $(i,j)$ 지역의 가치라고 하자\n",
    "\n",
    "`-` `dp[i][j]`를 $(1,1)$에서 출발해 $(i,j)$까지 이동했을 때 탐사한 지역들의 가치의 합의 최댓값이라고 하자\n",
    "\n",
    "`-` 위쪽으로는 이동할 수 없으므로 $(i,j)$에 가기 위해선 직전에 $(i-1,j)$ 또는 $(i, j-1)$ 또는 $(i, j+1)$에 위치해야 한다\n",
    "\n",
    "`-` 즉, $\\operatorname{dp}[i][j] = a_{ij} + \\max(\\operatorname{dp}[i-1][j], \\operatorname{dp}[i][j-1], \\operatorname{dp}[i][j+1])$이다\n",
    "\n",
    "`-` $(i,j)$가 배열의 왼쪽, 오른쪽, 위쪽 끝에 위치하면 직전에 위치할 수 있는 지역이 $3$개보다 적으니 위치할 수 있는 지역만 고려해 최댓값을 계산하자\n",
    "\n",
    "`-` $(i,j)$를 $iM + j$로 변환하면 $1$차원 배열에 기록이 가능하여 방문 처리할 때 메모리를 아낄 수 있다\n",
    "\n",
    "`-` 첫 번째 행의 경우 왼쪽에서 오른쪽으로만 이동 가능하므로 이들의 최댓값은 누적 합 배열과 동일하다\n",
    "\n",
    "`-` 또한 지나온 길을 다시 가지 않기 위해 현재까지의 경로를 기억하고 있자\n",
    "\n",
    "`-` 경로 확인은 백트래킹을 통해 하나의 집합을 가지고 관리하겠다\n",
    "\n",
    "`-` 계속 틀려서 질문 검색 참고하고 왔다\n",
    "\n",
    "`-` 같은 지점에 위치하더라도 어떤 경로로 왔는지에 따라 답이 달라질 수 있다\n",
    "\n",
    "`-` 예를 들어 이전에 왼쪽에서 이동하여 왔으면 다음은 오른쪽 또는 아래로만 움직여야 한다\n",
    "\n",
    "`-` 반례는 아래에 적어놓았다 (어쩌다 보니 찾았음)\n",
    "\n",
    "`-` 이를 해결하려면 이동할 수 있는 방향이 $3$개이니 `dp`에 크기가 $3$인 차원을 하나 더 추가하여 최댓값을 갱신 해야 한다\n",
    "\n",
    "`-` 즉, 이미 방문한 지점이더라도 이전에 온 방향에 따라 다르게 처리한다는 뜻이다\n",
    "\n",
    "`-` 전의 위치에 따른 점화식은 아래와 같다\n",
    "\n",
    "`-` `dp[x][y][up] = max(dp[x][y - 1][up], dp[x][y - 1][left], dp[x][y - 1][right])`\n",
    "\n",
    "`-` `dp[x][y][left] = max(dp[x - 1][y][up], dp[x - 1][y][left])`\n",
    "\n",
    "`-` `dp[x][y][right] = max(dp[x + 1][y][up], dp[x + 1][y][right])`\n",
    "\n",
    "`-` 지금 위에서 내려온 경우는 이전에도 위에서 내려와도 된다\n",
    "\n",
    "`-` 지금 왼쪽에서 왔으면 전에는 오른쪽을 제외한 방향에서 와야한다\n",
    "\n",
    "`-` 지금 오른쪽에서 왔으면 전에는 왼쪽을 제외한 방향에서 와야한다\n",
    "\n",
    "`-` 그러지 않으면 이미 방문한 지점을 또 방문한 것이 된다\n",
    "\n",
    "`-` 이미 방문한 지점을 다시 방문하지 않으므로 방문 처리를 하지 않아도 된다\n",
    "\n",
    "`-` 총 지역은 $N^2$이고 간선은 $2NM - N - M$개이며 각 지역은 $3$가지 상태를 가지므로 탐색의 시간 복잡도는 $O\\left(N^2 + NM\\right)$이다\n",
    "\n",
    "`-` $N$과 $M$은 최대 $1000$이므로 제한 시간 안에 동작할 수 있다\n",
    "\n",
    "`-` 시간 초과가 발생하여 chatgpt한테 물어봄\n",
    "\n",
    "`-` 메모이제이션을 했는데도 중복 방문을 하는 경우가 있다 (테스트 케이스에 대해서 $(4, 0, 2)$를 중복 방문함)\n",
    "\n",
    "`-` 현재 재귀 함수가 진행 중인지 판단할 수 있는 변수를 만들어 이미 호출 중이라면 더 이상 호출하지 않게 만들자\n",
    "\n",
    "`-` 6시간 동안 못 품^^\n",
    "\n",
    "`-` 파이썬으로 제출하면 시간 초과이고 파이파이로 제출하면 메모리 초과이다\n",
    "\n",
    "`-` 질문 검색 보고 오니 이중 반복문을 푼 사람이 있다\n",
    "\n",
    "`-` 재귀 함수를 사용하는 걸 때려치고 `bottom-up` 방식으로 풀자 (점화식은 위에 있다)\n",
    "\n",
    "`-` 점화식 그대로 복붙하니까 맞았다ㅠㅠ\n",
    "\n",
    "`-` 최근에 푼 문제중에 역대급으로 힘들었다 (문제 슥 보고 금방 풀 것 같았는데 배신 당했다, 배가 너무 고프다)"
   ]
  },
  {
   "cell_type": "code",
   "execution_count": 140,
   "id": "f3a79f32-20db-4878-b2a2-c556cf81d4f4",
   "metadata": {},
   "outputs": [
    {
     "name": "stdin",
     "output_type": "stream",
     "text": [
      " 5 5\n",
      " 10 25 7 8 13\n",
      " 68 24 -78 63 32\n",
      " 12 -69 100 -29 -25\n",
      " -16 -22 -57 -33 99\n",
      " 7 -76 -11 77 15\n"
     ]
    },
    {
     "name": "stdout",
     "output_type": "stream",
     "text": [
      "319\n"
     ]
    }
   ],
   "source": [
    "def solution():\n",
    "    N, M = map(int, input().split())\n",
    "    regions = [list(map(int, input().split())) for _ in range(N)]\n",
    "    INF = float(\"inf\")\n",
    "    UP = 0\n",
    "    LEFT = 1\n",
    "    RIGHT = 2\n",
    "    dp = [[[-INF for _ in range(3)] for _ in range(M)] for _ in range(N)]\n",
    "    dp[0][0][UP] = regions[0][0]\n",
    "    dp[0][0][LEFT] = regions[0][0]\n",
    "    for i in range(1, M):\n",
    "        dp[0][i][LEFT] = regions[0][i] + dp[0][i - 1][LEFT]\n",
    "    for y in range(1, N):\n",
    "        # 위에서 아래로\n",
    "        for x in range(M):\n",
    "            dp[y][x][UP] = regions[y][x] + max(dp[y - 1][x][UP], dp[y - 1][x][LEFT], dp[y - 1][x][RIGHT])\n",
    "        # 왼쪽에서 오른쪽으로\n",
    "        for x in range(1, M):\n",
    "            dp[y][x][LEFT] = regions[y][x] + max(dp[y][x - 1][UP], dp[y][x - 1][LEFT])\n",
    "        # 오른쪽에서 왼쪽으로\n",
    "        for x in range(M - 2, -1, -1):\n",
    "            dp[y][x][RIGHT] = regions[y][x] + max(dp[y][x + 1][UP], dp[y][x + 1][RIGHT])\n",
    "    print(max(dp[N - 1][M - 1]))\n",
    "\n",
    "\n",
    "solution()\n",
    "\n",
    "# input\n",
    "# 5 5\n",
    "# 10 25 7 8 13\n",
    "# 68 24 -78 63 32\n",
    "# 12 -69 100 -29 -25\n",
    "# -16 -22 -57 -33 99\n",
    "# 7 -76 -11 77 15"
   ]
  },
  {
   "cell_type": "markdown",
   "id": "43bc1d89-211f-4a9d-93ef-3a04a8ca7005",
   "metadata": {},
   "source": [
    "- 반례\n",
    "\n",
    "```\n",
    "4 4\n",
    "1 1 1 1\n",
    "100 5 5 5\n",
    "-2 0 -2 0\n",
    "-2 2 2 -2\n",
    "```\n",
    "\n",
    "`-` 정답은 $119$"
   ]
  },
  {
   "cell_type": "markdown",
   "id": "e0e1ae1f-1867-4da1-aeda-8aa26b0add58",
   "metadata": {},
   "source": [
    "## 양팔저울\n",
    "\n",
    "- 문제 출처: [백준 2629번](https://www.acmicpc.net/problem/2629)"
   ]
  },
  {
   "cell_type": "markdown",
   "id": "95b72e5e-3786-404f-aae7-faf8d98bcdf8",
   "metadata": {},
   "source": [
    "`-` 구슬을 왼쪽에 놓고 추를 왼쪽 또는 오른쪽에 놓아 균형을 맞출 수 있는지 확인하는 문제이다\n",
    "\n",
    "`-` 추를 오른쪽에 놓는 것은 무게가 더해지는 것이며 왼쪽에 놓는 것은 무게가 감소하는 것이다\n",
    "\n",
    "`-` 추 $n$개에 대해 $0$부터 $n-1$까지 번호를 부여하자 (순서는 상관없다)\n",
    "\n",
    "`-` $n$번째 추를 놓아 만들 수 있는 무게는 $n-1$번째 추까지 놓아 만들 수 있는 모든 무게에 $n$번째 추의 무게만큼 더하거나 감소시키거나 그대로 두는 것이다\n",
    "\n",
    "`-` 만들 수 있는 무게는 음수가 될 수도 있으니 딕셔너리로 관리하자\n",
    "\n",
    "`-` 모든 추까지 고려해 만들 수 있는 무게를 만든 뒤 해당 딕셔너리의 구슬의 무게가 존재하면 구슬의 무게를 확인할 수 있는 것이다\n",
    "\n",
    "`-` 추의 개수를 $N$, 추의 무게를 $W$라고 하면 추로 만들 수 있는 무게를 탐색하는 알고리즘의 시간 복잡도는 $O\\left(WN^2\\right)$이다\n",
    "\n",
    "`-` 구슬의 무게를 확인할 수 있는지 판단하는 것은 상수 시간에 판단 가능하므로 쿼리의 개수를 $Q$라 할 때 시간 복잡도는 $O(Q)$이다 "
   ]
  },
  {
   "cell_type": "code",
   "execution_count": 10,
   "id": "2e96a0cc-ac53-4a41-9b91-79a22d01028a",
   "metadata": {},
   "outputs": [
    {
     "name": "stdin",
     "output_type": "stream",
     "text": [
      " 4\n",
      " 2 3 3 3\n",
      " 3\n",
      " 1 4 10\n"
     ]
    },
    {
     "name": "stdout",
     "output_type": "stream",
     "text": [
      "Y Y N\n"
     ]
    }
   ],
   "source": [
    "def bottom_up(weights, n):\n",
    "    possible_weights = {}\n",
    "    a_0 = weights[0]\n",
    "    possible_weights[0] = True\n",
    "    possible_weights[a_0] = True\n",
    "    possible_weights[-a_0] = True\n",
    "    for i in range(1, n):\n",
    "        temp = {}\n",
    "        a_i = weights[i]\n",
    "        for key in possible_weights:\n",
    "            temp[key + a_i] = True\n",
    "            temp[key - a_i] = True\n",
    "        possible_weights.update(temp)\n",
    "    return possible_weights\n",
    "\n",
    "\n",
    "def solution():\n",
    "    n = int(input())\n",
    "    weights = list(map(int, input().split()))\n",
    "    m = int(input())\n",
    "    marbles = list(map(int, input().split()))\n",
    "    possible_weights = bottom_up(weights, n)\n",
    "    answer = []\n",
    "    for marble in marbles:\n",
    "        if marble in possible_weights:\n",
    "            answer.append(\"Y\")\n",
    "            continue\n",
    "        answer.append(\"N\")\n",
    "    print(*answer)\n",
    "\n",
    "\n",
    "solution()\n",
    "\n",
    "# input\n",
    "# 4\n",
    "# 2 3 3 3\n",
    "# 3\n",
    "# 1 4 10"
   ]
  },
  {
   "cell_type": "markdown",
   "id": "fe0aab35-3fb7-4605-bd70-81881aaa4a74",
   "metadata": {},
   "source": [
    "## RGB거리 2\n",
    "\n",
    "- 문제 출처: [백준 17404번](https://www.acmicpc.net/problem/17404)"
   ]
  },
  {
   "cell_type": "markdown",
   "id": "cebf515a-a50b-46de-b444-30c78a9cd795",
   "metadata": {},
   "source": [
    "`-` [RGB거리](https://www.acmicpc.net/problem/1149) 문제에서 집의 배치가 일직선이었다면 여기선 집의 배치가 원형이다\n",
    "\n",
    "`-` $i$번 집의 색은 $i-1$번, $i+1$번 집의 색과 달라야 한다\n",
    "\n",
    "`-` $i$번 집의 색을 고려할 때 $i-1$번,$i+1$번 집의 색을 고려했다면 $i+1$번 집을 색칠할 땐 $i+2$번 집의 색만 고려하면 된다\n",
    "\n",
    "`-` 왜냐하면 $i$번 집의 색은 $i+1$번 집의 색을 고려해서 색칠했기 때문이다\n",
    "\n",
    "`-` 그러면 $i+2$번 집을 색칠할 땐 $i+3$번 집의 색만 고려하면 된다\n",
    "\n",
    "`-` 어느 한 곳이 양 쪽 집의 색을 고려해서 색칠했다면 나머지는 한 방향의 집만 고려하면 된다\n",
    "\n",
    "`-` 즉, $i$번 집을 색칠할 때 $i-1$번 집과 다르게만 색칠하면 된다\n",
    "\n",
    "`-` $i+1$번과도 달라야 하는데 이는 $i+1$번 집을 색칠할 때 $i$번 집과 다르게 색칠하면 되니 상관없다\n",
    "\n",
    "`-` 집이 원형이므로 이게 가능하려면 어느 한 집은 양쪽 집의 색을 고려해서 색칠해야 한다\n",
    "\n",
    "`-` 편의상 $1$번 집의 색을 고정시키고 위의 방법을 적용하겠다\n",
    "\n",
    "`-` 색이 총 $3$개이므로 동적 계획법을 $3$번 실행해야 한다\n",
    "\n",
    "`-` 매 실행마다 메모이제이션 배열을 초기화해야 한다\n",
    "\n",
    "`-` 간단한 예시를 들겠다\n",
    "\n",
    "`-` $1$번 집을 빨강으로 칠하면 비용이 $1$이고 나머지 둘은 비용이 $1000$이라고 하자\n",
    "\n",
    "`-` 그러면 $1$번 집이 빨강일 때 $2$번 집을 빨강으로 칠하는 비용은 $1000$이고 $1$번 집이 빨강이 아니면 비용은 $1$이다\n",
    "\n",
    "`-` 이제 $1$번 집이 빨강일 때 $3$번 집을 칠하는 경우를 살펴보자\n",
    "\n",
    "`-` $1$번 집이 빨강이 $3$번 집까지 색칠하는 비용은 적어도 $1000$ 이상이다\n",
    "\n",
    "`-` 그런데 $2$번 집이 초록이거나 파랑인 경우의 비용은 $1$번 집이 빨강이냐 아니냐에 따라 갈린다\n",
    "\n",
    "`-` $3$번 집을 색칠할 때 $1$번 집의 색을 고려하지 않으므로 $2$번 집이 초록이거나 파랑인 경우의 최솟값에 누적한다\n",
    "\n",
    "`-` 원래라면 $3$번까지 색칠하는 전체 비용이 $1000$ 이상이어야 하지만 그렇지 않게 되는 것이다"
   ]
  },
  {
   "cell_type": "code",
   "execution_count": 17,
   "id": "c9d890af-1364-4d53-a72c-c81cec933d4f",
   "metadata": {},
   "outputs": [
    {
     "name": "stdin",
     "output_type": "stream",
     "text": [
      " 3\n",
      " 26 40 83\n",
      " 49 60 57\n",
      " 13 89 99\n"
     ]
    },
    {
     "name": "stdout",
     "output_type": "stream",
     "text": [
      "110\n"
     ]
    }
   ],
   "source": [
    "def get_other_colors(color):\n",
    "    if color == RED:\n",
    "        return GREEN, BLUE\n",
    "    if color == GREEN:\n",
    "        return RED, BLUE\n",
    "    if color == BLUE:\n",
    "        return RED, GREEN\n",
    "\n",
    "\n",
    "def bottom_up(coloring_cost, first_house_color):\n",
    "    # dp[i][c]는 i번 집의 색이 c일 때 1 ~ i번째 집까지 색칠한 비용의 최솟값\n",
    "    c1 = first_house_color\n",
    "    dp = [[INF for _ in range(3)] for _ in range(N)]\n",
    "    dp[0][c1] = coloring_cost[0][c1]\n",
    "    colors = get_other_colors(c1)\n",
    "    for i in range(1, N):\n",
    "        if i == 1:\n",
    "            for c in colors:\n",
    "                dp[i][c] = dp[i - 1][c1] + coloring_cost[i][c]\n",
    "            continue\n",
    "        dp[i][RED] = min(dp[i - 1][GREEN], dp[i - 1][BLUE]) + coloring_cost[i][RED]\n",
    "        dp[i][GREEN] = min(dp[i - 1][RED], dp[i - 1][BLUE]) + coloring_cost[i][GREEN]\n",
    "        dp[i][BLUE] = min(dp[i - 1][RED], dp[i - 1][GREEN]) + coloring_cost[i][BLUE]\n",
    "    return min(dp[N - 1][c] for c in colors)\n",
    "\n",
    "\n",
    "def solution():\n",
    "    global N, INF, RED, GREEN, BLUE\n",
    "    N = int(input())\n",
    "    coloring_cost = [list(map(int, input().split())) for _ in range(N)]\n",
    "    INF = float(\"inf\")\n",
    "    RED = 0\n",
    "    GREEN = 1\n",
    "    BLUE = 2\n",
    "    answer = min(bottom_up(coloring_cost, RED), bottom_up(coloring_cost, GREEN), bottom_up(coloring_cost, BLUE))\n",
    "    print(answer)\n",
    "\n",
    "\n",
    "solution()\n",
    "\n",
    "# input\n",
    "# 3\n",
    "# 26 40 83\n",
    "# 49 60 57\n",
    "# 13 89 99"
   ]
  },
  {
   "cell_type": "markdown",
   "id": "c233eba3-9675-4d2a-a436-6c1f48672f46",
   "metadata": {},
   "source": [
    "## 무한 수열\n",
    "\n",
    "- 문제 출처: [백준 1351번](https://www.acmicpc.net/problem/1351)"
   ]
  },
  {
   "cell_type": "markdown",
   "id": "730ac854-bafb-460b-8078-3076fdd3cc38",
   "metadata": {},
   "source": [
    "`-` 딕셔너리를 사용해 이미 계산한 값을 저장한다 (값이 굉장히 큰 경우도 있어 배열로는 못 만듦)\n",
    "\n",
    "`-` $n$번째 항의 값을 알고싶은 경우 $f(n/p)$와 $f(n/q)$를 알면 된다\n",
    "\n",
    "`-` 그러므로 $f(n)$을 구하는 것은 로그 시간복잡도를 따른다"
   ]
  },
  {
   "cell_type": "code",
   "execution_count": 3,
   "id": "9a974788-5ed4-40c9-8587-2e3fa93c7558",
   "metadata": {},
   "outputs": [
    {
     "name": "stdin",
     "output_type": "stream",
     "text": [
      " 256 2 4\n"
     ]
    },
    {
     "name": "stdout",
     "output_type": "stream",
     "text": [
      "89\n"
     ]
    }
   ],
   "source": [
    "import math\n",
    "\n",
    "\n",
    "def f(n):\n",
    "    if n in a2value:\n",
    "        return a2value[n]\n",
    "    result = f(math.floor(n / P)) + f(math.floor(n / Q))\n",
    "    a2value[n] = result\n",
    "    return result\n",
    "\n",
    "\n",
    "def solution():\n",
    "    global a2value, P, Q\n",
    "    N, P, Q = map(int, input().split())\n",
    "    a2value = {0: 1}\n",
    "    print(f(N))\n",
    "\n",
    "\n",
    "solution()\n",
    "\n",
    "# input\n",
    "# 256 2 4"
   ]
  },
  {
   "cell_type": "markdown",
   "id": "e44d1597-c214-4b05-9621-98114e5cb636",
   "metadata": {},
   "source": [
    "## 파일 합치기\n",
    "\n",
    "- 문제 출처: [백준 11066번](https://www.acmicpc.net/problem/11066)"
   ]
  },
  {
   "cell_type": "markdown",
   "id": "4825d8db-60df-474a-9355-782f78fd6889",
   "metadata": {},
   "source": [
    "`-` 파일을 한 번 합칠 때마다 파일 하나가 줄어든다\n",
    "\n",
    "`-` 파일이 총 $N$장이므로 $1$장의 파일만 남기기 위해 $N-1$번의 합산이 필요하다\n",
    "\n",
    "`-` 파일이 $2$장 남았다면 두 파일을 합치는 것 말고는 방법이 없다\n",
    "\n",
    "`-` 파일이 $3$장 남았다면 첫 번째와 두 번째 파일을 합치거나 두 번째와 세 번째 파일을 합칠 수 있다\n",
    "\n",
    "`-` 이를 확장해 파일이 $N$장 남았다면 $i$번째 파일과 $i+1$번째 파일을 합칠 수 있다\n",
    "\n",
    "`-` 그런데 어떤 두 파일을 합쳐야 최선인지 모르기 때문에 전부 해봐야 한다\n",
    "\n",
    "`-` 현재 파일을 합쳐 $1$개의 파일로 만드는데 드는 최소 비용을 메모이제이션해서 중복 탐색하는 것을 막자\n",
    "\n",
    "`-` 파일을 합치는 연산은 새로운 리스트를 구성해야 되서 $O(N)$의 시간 복잡도를 가진다\n",
    "\n",
    "`-` 파일이 $N$개 있을 때 두 파일을 합치는 방법이 $N-1$개 존재하므로 함수 호출마다 $N-1$개의 함수가 추가로 호출된다\n",
    "\n",
    "`-` 이는 $O\\left(2^N\\right)$의 시간 복잡도를 가지는데 고유한 파일 배치가 많아 메모이제이션으로 해결될 것 같지 않다\n",
    "\n",
    "`-` 더 이상 진전이 되지 않아 알고리즘 시간 때 배운 동적계획법 부분을 조금 참고했다 (알고리즘 시간엔 연쇄 행렬 곱셈을 배웠었음)\n",
    "\n",
    "`-` 잘 생각해보면 파일을 합칠 때 연속된 두 파일만 합치므로 최종적으로 $2$개의 파일만 남았을 때 이 둘을 이루는 파일들의 교집합은 공집합이며 둘을 합치면 전체 파일이다 (이걸 생각을 못해서 못 풀었었다)\n",
    "\n",
    "`-` 즉, 마지막에 파일 $2$개가 남았다고 하면 가능한 경우는 다음과 같다\n",
    "\n",
    "`-` $\\{F_1, (F_2,\\cdots,F_n)\\}, \\{(F_1, F_2), (F_3,\\cdots,F_n)\\}, \\cdots, \\{(F_1, F_2, \\cdots F_{n-1}), F_n\\}$\n",
    "\n",
    "`-` $N-1$개의 경우 중 비용이 최소인 것이 정답이 되며 이를 생각해 냈다면 이후는 쉽다\n",
    "\n",
    "`-` 파일이 $1$개면 더 이상 압축할 것이 없으므로 비용이 들지 않는다\n",
    "\n",
    "`-` 파일이 $2$개면 둘을 합친 것이 비용이 된다\n",
    "\n",
    "`-` 파일이 $3$개 이상이라면 이들을 가능한 두 부분으로 나누어 비용을 계산하고 이들 중 최솟값이 파일을 $2$개까지 압축하는 최소 비용이 되며 여기에 두 파일을 합쳐 하나의 파일로 만드는 비용을 더하면 최종 비용이 된다 \n",
    "\n",
    "`-` 임의의 부분은 원래의 하위 문제이므로 파일이 $3$개 이상이라면 동일한 알고리즘 적용하여 파일을 합치는 최소 비용을 계산하면 된다\n",
    "\n",
    "`-` 동일한 부분 파일에 대해선 같은 결과를 도출하므로 메모이제이션을 하여 중복 계산을 방지하자\n",
    "\n",
    "`-` `left`, `right`를 현재 고려할 파일의 왼쪽 인덱스, 오른쪽 인덱스라고 하자\n",
    "\n",
    "`-` `n = right - left + 1`이므로 $n$이 $3$ 이상인 경우에만 두 부분으로 나눌 것이다\n",
    "\n",
    "`-` $\\operatorname{dp}[\\operatorname{left}][\\operatorname{right}]$를 $F_{\\operatorname{left}} \\sim F_{\\operatorname{right}}$ 파일을 하나의 파일로 합치는데 드는 비용의 최솟값이라고 하자\n",
    "\n",
    "`-` $F_{X\\sim Y} = \\sum\\limits_{i=X}^{Y} F_i$라고 정의하자\n",
    "\n",
    "`-` 그럼 $n\\ge 3$일 때 $\\operatorname{dp}[\\operatorname{left}][\\operatorname{right}] = F_{\\operatorname{left}\\sim \\operatorname{right}} + \\min(\\operatorname{dp}[\\operatorname{left + 1}][\\operatorname{right}], \\operatorname{dp}[\\operatorname{left}][\\operatorname{left + 1}] + \\operatorname{dp}[\\operatorname{left + 2}][\\operatorname{right}], \\cdots, \\operatorname{dp}[\\operatorname{left}][\\operatorname{right} - 1])$이다\n",
    "\n",
    "`-` 위의 점화식으로 바탕으로 재귀 함수를 구현하면 문제를 해결할 수 있다\n",
    "\n",
    "`-` 연속된 파일 크기의 합이 계속 사용되므로 구간 합 배열을 미리 만들어두어서 사용하자\n",
    "\n",
    "`-` 구간 합 배열을 만드는데 $O(N)$이고 가능한 부분 문제의 개수가 $O\\left(N^2\\right)$이며 부분 문제 안에서 $O(N)$의 for문 배열을 순회하므로 $O\\left(N^3\\right)$이다\n",
    "\n",
    "`-` 따라서 총 알고리즘의 시간 복잡도는 $O\\left(N+N^3\\right)= O\\left(N^3\\right)$이다"
   ]
  },
  {
   "cell_type": "code",
   "execution_count": 105,
   "id": "1b586d6b-72ca-4dc0-84cf-095517851036",
   "metadata": {},
   "outputs": [
    {
     "name": "stdin",
     "output_type": "stream",
     "text": [
      " 2\n",
      " 4\n",
      " 40 30 30 50\n"
     ]
    },
    {
     "name": "stdout",
     "output_type": "stream",
     "text": [
      "300\n"
     ]
    },
    {
     "name": "stdin",
     "output_type": "stream",
     "text": [
      " 15\n",
      " 1 21 3 4 5 35 5 4 3 5 98 21 14 17 32\n"
     ]
    },
    {
     "name": "stdout",
     "output_type": "stream",
     "text": [
      "864\n"
     ]
    }
   ],
   "source": [
    "def combine(prefix_sum, left, right):\n",
    "    if dp[left][right] != INF:\n",
    "        return dp[left][right]\n",
    "    n = right - left + 1\n",
    "    if n == 1:\n",
    "        dp[left][right] = 0\n",
    "        return dp[left][right]\n",
    "    if n == 2:\n",
    "        dp[left][right] = prefix_sum[right] - prefix_sum[left - 1]\n",
    "        return dp[left][right]\n",
    "    for i in range(left, right):\n",
    "        left_cost = combine(prefix_sum, left, i)\n",
    "        right_cost = combine(prefix_sum, i + 1, right)\n",
    "        result = left_cost + right_cost\n",
    "        dp[left][right] = min(result, dp[left][right])\n",
    "    dp[left][right] += prefix_sum[right] - prefix_sum[left - 1]\n",
    "    return dp[left][right]\n",
    "\n",
    "\n",
    "def solve_testcase():\n",
    "    global INF, dp\n",
    "    K = int(input())\n",
    "    files = list(map(int, input().split()))\n",
    "    prefix_sum = [0 for _ in range(K + 1)]\n",
    "    for i in range(1, K + 1):\n",
    "        prefix_sum[i] = prefix_sum[i - 1] + files[i - 1]\n",
    "    INF = float(\"inf\")\n",
    "    dp = [[INF for _ in range(K + 1)] for _ in range(K + 1)]\n",
    "    answer = combine(prefix_sum, 1, K)\n",
    "    print(answer)\n",
    "\n",
    "\n",
    "def solution():\n",
    "    T = int(input())\n",
    "    for _ in range(T):\n",
    "        solve_testcase()\n",
    "\n",
    "\n",
    "solution()\n",
    "\n",
    "# input\n",
    "# 2\n",
    "# 4\n",
    "# 40 30 30 50\n",
    "# 15\n",
    "# 1 21 3 4 5 35 5 4 3 5 98 21 14 17 32"
   ]
  },
  {
   "cell_type": "markdown",
   "id": "f6b9f4be-8de8-45cd-86d6-28e6f5b332dc",
   "metadata": {},
   "source": [
    "## 행렬 곱셈 순서\n",
    "\n",
    "- 문제 출처: [백준 11049번](https://www.acmicpc.net/problem/11049)"
   ]
  },
  {
   "cell_type": "markdown",
   "id": "9e54a21c-03e9-4e00-976b-8c4cf07a9249",
   "metadata": {},
   "source": [
    "`-` [파일 합치기](https://www.acmicpc.net/problem/11066) 문제와 같은 방법으로 해결할 수 있다\n",
    "\n",
    "`-` 차이점으론 두 파일을 합칠 땐 파일의 크기를 더하면 됐지만 $N\\times M$인 행렬 $A$와 $M \\times K$인 행렬 $B$를 곱할 땐 $N\\times M\\times K$만큼의 연산이 필요하다\n",
    "\n",
    "`-` 두 개의 행렬로 압축한 뒤 두 행렬을 곱하는 비용은 두 그룹으로 어떻게 나눴냐에 따라 다르므로 이것까지 고려하여 최소 연산 횟수를 갱신해야 한다"
   ]
  },
  {
   "cell_type": "code",
   "execution_count": 11,
   "id": "b09216fd-3eea-4f28-810e-36f0d2cb5c6a",
   "metadata": {},
   "outputs": [
    {
     "name": "stdin",
     "output_type": "stream",
     "text": [
      " 3\n",
      " 5 3\n",
      " 3 2\n",
      " 2 6\n"
     ]
    },
    {
     "name": "stdout",
     "output_type": "stream",
     "text": [
      "90\n"
     ]
    }
   ],
   "source": [
    "def matrix_multiplication_count(matrices, left, right):\n",
    "    if dp[left][right] != INF:\n",
    "        return dp[left][right]\n",
    "    n = right - left + 1\n",
    "    if n == 1:\n",
    "        dp[left][right] = 0\n",
    "        return dp[left][right]\n",
    "    if n == 2:\n",
    "        dp[left][right] = matrices[left][ROW] * matrices[left][COL] * matrices[right][COL]\n",
    "        return dp[left][right]\n",
    "    for i in range(left, right):\n",
    "        left_count = matrix_multiplication_count(matrices, left, i)\n",
    "        right_count = matrix_multiplication_count(matrices, i + 1, right)\n",
    "        result = left_count + right_count + matrices[left][ROW] * matrices[i][COL] * matrices[right][COL]\n",
    "        dp[left][right] = min(result, dp[left][right])\n",
    "    return dp[left][right]\n",
    "\n",
    "\n",
    "def solution():\n",
    "    global INF, ROW, COL, dp\n",
    "    N = int(input())\n",
    "    matrices = [list(map(int, input().split())) for _ in range(N)]\n",
    "    INF = float(\"inf\")\n",
    "    ROW = 0\n",
    "    COL = 1\n",
    "    dp = [[INF for _ in range(N)] for _ in range(N)]\n",
    "    answer = matrix_multiplication_count(matrices, 0, N - 1)\n",
    "    print(answer)\n",
    "\n",
    "\n",
    "solution()\n",
    "\n",
    "# input\n",
    "# 3\n",
    "# 5 3\n",
    "# 3 2\n",
    "# 2 6"
   ]
  },
  {
   "cell_type": "markdown",
   "id": "b28f8139-3b9b-47e2-9adc-4a518430b122",
   "metadata": {},
   "source": [
    "## 앱\n",
    "\n",
    "- 문제 출처: [백준 7579번](https://www.acmicpc.net/problem/7579)"
   ]
  },
  {
   "cell_type": "markdown",
   "id": "dc5056fd-d755-47cb-b603-542afc75341e",
   "metadata": {},
   "source": [
    "`-` 일반적인 배낭 문제와 다르게 접근해야 한다\n",
    "\n",
    "`-` 보통의 배낭 문제는 제한된 무게에서 배낭에 담을 물건의 가치를 최대화하는 것이다\n",
    "\n",
    "`-` 여기서는 일정량의 메모리를 해제하는데 드는 비용을 최소화해야 한다\n",
    "\n",
    "`-` 앱의 수를 $N$, 앱이 사용하고 있는 메모리의 바이트 수를 $m$, 앱을 재활성화할 때 드는 비용을 $c$라고 하면 변수의 범위는 다음과 같다\n",
    "\n",
    "`-` $1 \\le N\\le 100, 0\\le c \\le 100, 1 \\le m \\le 10000000$\n",
    "\n",
    "`-` $m$의 범위가 크므로 이를 이용해 배열을 만들거나 하면 시간 초과이다\n",
    "\n",
    "`-` 비용 총합의 최댓값은 $100N$이다\n",
    "\n",
    "`-` $k$를 현재 고려할 비용의 상한이라고 하자\n",
    "\n",
    "`-` `dp[n][k]`를 비용의 상한이 $k$이고 $n$번째 앱까지 비활성화를 고려할 때 해제할 수 있는 메모리의 최대 바이트 수라고 하자\n",
    "\n",
    "`-` 그럼 일반적인 배낭 문제와 동일하게 메모이제이션 배열을 채울 수 있다\n",
    "\n",
    "`-` 그 후 배열을 순회하면서 값이 $M$보다 큰 원소에 대해 $k$를 정답으로 고려하면 되며 이때 가장 작은 $k$가 정답이 된다\n",
    "\n",
    "`-` 전체 배열을 채워야하므로 알고리즘의 시간 복잡도는 $O\\left(cN^2\\right)$이다"
   ]
  },
  {
   "cell_type": "code",
   "execution_count": 2,
   "id": "5174b2b3-5772-4de6-833e-682bb8d8da43",
   "metadata": {},
   "outputs": [
    {
     "name": "stdin",
     "output_type": "stream",
     "text": [
      " 5 60\n",
      " 30 10 20 35 40\n",
      " 3 0 3 5 4\n"
     ]
    },
    {
     "name": "stdout",
     "output_type": "stream",
     "text": [
      "6\n"
     ]
    }
   ],
   "source": [
    "def solution():\n",
    "    N, M = map(int, input().split())\n",
    "    bites = list(map(int, input().split()))\n",
    "    costs = list(map(int, input().split()))\n",
    "    MAX_COST = 100\n",
    "    MAX_TOTAL_COST = MAX_COST * N\n",
    "    dp = [[0 for _ in range(MAX_TOTAL_COST)] for _ in range(N + 1)]  # dp[n][k]는 사용할 비용이 k이고 A_n까지 비활성화를 고려했을 때 해제 가능한 최대 메모리\n",
    "    answer = MAX_TOTAL_COST\n",
    "    for i in range(1, N + 1):\n",
    "        for k in range(MAX_TOTAL_COST):\n",
    "            m = bites[i - 1]\n",
    "            c = costs[i - 1]\n",
    "            if k - c >= 0:\n",
    "                dp[i][k] = max(dp[i - 1][k - c] + m, dp[i - 1][k])\n",
    "            else:\n",
    "                dp[i][k] = dp[i - 1][k]\n",
    "            if dp[i][k] >= M:\n",
    "                answer = min(k, answer)\n",
    "    print(answer)\n",
    "\n",
    "\n",
    "solution()\n",
    "\n",
    "# input\n",
    "# 5 60\n",
    "# 30 10 20 35 40\n",
    "# 3 0 3 5 4"
   ]
  },
  {
   "cell_type": "markdown",
   "id": "342bbdca-eec3-4447-963d-c6e64d46f67c",
   "metadata": {},
   "source": [
    "## 템포럴 그래프\n",
    "\n",
    "- 문제 출처: [백준 25953번](https://www.acmicpc.net/problem/25953)"
   ]
  },
  {
   "cell_type": "markdown",
   "id": "8b07ef04-fcfc-40a5-83cf-d823f3a52ec9",
   "metadata": {},
   "source": [
    "`-` $s$에서 $e$로 가는 최단 경로의 길이가 궁금하다\n",
    "\n",
    "`-` $s$에서 시작해야 하므로 가장 처음 선택된 시점은 무조건 $s$에서 출발해야 한다\n",
    "\n",
    "`-` $T$ 시점의 경로는 $T - 1$ 시점의 경로를 바탕으로 구성된다\n",
    "\n",
    "`-` $T-1$ 시점의 경로에서 $s \\to x$를 고려하자\n",
    "\n",
    "`-` $T$ 시점에서 $k$가 존재하는데 $s \\to k$, $k\\to x$를 만족한다\n",
    "\n",
    "`-` $T-1$ 시점의 경로에 $s\\to k$가 존재하고 $s \\to k \\to x$가 기존 $s \\to x$보다 작다면 갱신하자\n",
    "\n",
    "`-` `dp[x]`를 현재 시점까지 고려했을 때 $s \\to x$의 최단 경로의 비용이라 하자\n",
    "\n",
    "`-` 그럼 다음 시점에선 $a \\in x$에 대해 $a$에서 다른 곳으로 가는 모든 경로의 비용을 갱신 시도하자\n",
    "\n",
    "`-` 최종적으로 `dp[e]`가 정답이 된다\n",
    "\n",
    "`-` 시간이 증가하는 방향으로만 경로를 구성할 수 있으므로 `dp`를 갱신시켜도 항상 경로를 구성할 수 있으니 괜찮다\n",
    "\n",
    "`-` 각 시간마다 노드에 연결된 양방향 간선을 모두 확인하므로 시간 복잡도는 $O(t(n+m))$이다 (양방향이므로 2번 확인)\n",
    "\n",
    "`-` 하나의 시간대에서 간선을 $2$개 이상 사용하지 않도록 주의하자\n",
    "\n",
    "`-` `dp`를 바로 갱신하면 안되고 다음 시간대로 넘어가기 전에 갱신해야 된다"
   ]
  },
  {
   "cell_type": "code",
   "execution_count": 1,
   "id": "6a526245-97c2-4791-a43b-0d4952de9859",
   "metadata": {},
   "outputs": [
    {
     "name": "stdin",
     "output_type": "stream",
     "text": [
      " 5 4 3\n",
      " 0 4\n",
      " 0 1 1\n",
      " 0 2 1\n",
      " 2 4 3\n",
      " 0 3 3\n",
      " 1 2 3\n",
      " 3 4 2\n",
      " 0 4 5\n",
      " 1 4 4\n",
      " 2 3 4\n",
      " 0 1 2\n",
      " 1 2 3\n",
      " 2 4 2\n"
     ]
    },
    {
     "name": "stdout",
     "output_type": "stream",
     "text": [
      "3\n"
     ]
    }
   ],
   "source": [
    "from collections import defaultdict\n",
    "\n",
    "\n",
    "def solution():\n",
    "    n, t, m = map(int, input().split())\n",
    "    s, e = map(int, input().split())\n",
    "    graph = [defaultdict(list) for _ in range(t)]\n",
    "    weights = [{} for _ in range(t)]\n",
    "    for i in range(t):\n",
    "        for _ in range(m):\n",
    "            u, v, w = map(int, input().split())\n",
    "            graph[i][u].append(v)\n",
    "            graph[i][v].append(u)\n",
    "            weights[i][(u, v)] = w\n",
    "            weights[i][(v, u)] = w\n",
    "    INF = float(\"inf\")\n",
    "    dp = [INF for _ in range(n + 1)]  # dp[x]는 현재 시점까지 고려했을 때 s -> x인 최단 경로의 비용\n",
    "    dp[s] = 0  # 초깃값\n",
    "    for i in range(t):\n",
    "        temp = {}\n",
    "        for u, neighbors in graph[i].items():\n",
    "            for v in neighbors:  # t시점에 존재하는 u -> v 간선\n",
    "                temp[v] = min(dp[u] + weights[i][(u, v)], dp[v], temp.get(v, INF))\n",
    "        for u, w in temp.items():\n",
    "            dp[u] = w\n",
    "    answer = dp[e]\n",
    "    if answer == INF:\n",
    "        print(-1)\n",
    "        return\n",
    "    print(answer)\n",
    "\n",
    "\n",
    "solution()\n",
    "\n",
    "# input\n",
    "# 5 4 3\n",
    "# 0 4\n",
    "# 0 1 1\n",
    "# 0 2 1\n",
    "# 2 4 3\n",
    "# 0 3 3\n",
    "# 1 2 3\n",
    "# 3 4 2\n",
    "# 0 4 5\n",
    "# 1 4 4\n",
    "# 2 3 4\n",
    "# 0 1 2\n",
    "# 1 2 3\n",
    "# 2 4 2"
   ]
  },
  {
   "cell_type": "markdown",
   "id": "ff5eb6a3-1e64-4aea-aa82-edaa6d6a974b",
   "metadata": {},
   "source": [
    "## 장난감 조립\n",
    "\n",
    "- 문제 출처: [백준 2637번](https://www.acmicpc.net/problem/2637)"
   ]
  },
  {
   "cell_type": "markdown",
   "id": "790abdd3-a7c5-4357-9c84-52e06b7842fe",
   "metadata": {},
   "source": [
    "`-` 완제품 제작을 위한 기본 부품의 종류별 개수가 최종 정답이 된다\n",
    "\n",
    "`-` 부품 $x$를 만들기 위해 필요한 부품과 수량을 대응시킨 것을 그래프라 생각하자\n",
    "\n",
    "`-` `dp[x][b]`를 $x$를 만들기 위해 사용되는 기본 부품 $b$의 개수라고 하자\n",
    "\n",
    "`-` 함수 $f(x)$를 $x$를 만들기 위해 사용되는 기본 부품의 번호와 수량을 대응시킨 딕셔너리라고 하자\n",
    "\n",
    "`-` 그리고 $k \\times f(x)$를 함수 $f$가 반환하는 기본 부품 수량에 $k$를 곱한 것으로 정의하자\n",
    "\n",
    "`-` 어떤 부품 $x$를 만들기 위해 중간 부품 또는 기본 부품 $a_1,a_2,\\cdots,a_n$이 $k_1,k_2,\\cdots,k_n$개씩 사용된다고 하면 다음이 성립한다\n",
    "\n",
    "`-` $\\operatorname{dp}[x] = k_1f(a_1) + k_2f(a_2) +\\cdots + k_nf(a_n)$\n",
    "\n",
    "`-` 그래프를 한 번씩 탐색하므로 부품 개수를 $N$, 간선 개수를 $M$이라 할 때 위 알고리즘의 시간 복잡도는 $O(N+M)$이다"
   ]
  },
  {
   "cell_type": "code",
   "execution_count": 19,
   "id": "ab1f06e8-4faa-4d7e-a8b8-6993da64558b",
   "metadata": {},
   "outputs": [
    {
     "name": "stdin",
     "output_type": "stream",
     "text": [
      " 7\n",
      " 8\n",
      " 5 1 2\n",
      " 5 2 2\n",
      " 7 5 2\n",
      " 6 5 2\n",
      " 6 3 3\n",
      " 6 4 4\n",
      " 7 6 3\n",
      " 7 4 5\n"
     ]
    },
    {
     "name": "stdout",
     "output_type": "stream",
     "text": [
      "1 16\n",
      "2 16\n",
      "3 9\n",
      "4 17\n"
     ]
    }
   ],
   "source": [
    "def construct_toy(x, graph, dp):\n",
    "    if dp[x]:\n",
    "        return dp[x]\n",
    "    if not graph[x]:\n",
    "        dp[x] = {x: 1}\n",
    "        return dp[x]\n",
    "    for y, k in graph[x].items():\n",
    "        result = construct_toy(y, graph, dp)\n",
    "        for y_sub, k_sub in result.items():\n",
    "            if y_sub not in dp[x]:\n",
    "                dp[x][y_sub] = k_sub * k\n",
    "            else:\n",
    "                dp[x][y_sub] += k_sub * k\n",
    "    return dp[x]\n",
    "\n",
    "\n",
    "def solution():\n",
    "    global graph, dp\n",
    "    N = int(input())\n",
    "    M = int(input())\n",
    "    graph = [{} for _ in range(N + 1)]\n",
    "    for _ in range(M):\n",
    "        X, Y, K = map(int, input().split())\n",
    "        graph[X][Y] = K\n",
    "    dp = [{} for _ in range(N + 1)]  # dp[x]는 x를 만들기 위해 요구되는 기본 부품의 번호와 수량을 대응시킨 딕셔너리\n",
    "    answer = construct_toy(N, graph, dp)\n",
    "    for key in sorted(answer.keys()):\n",
    "        print(key, answer[key])\n",
    "\n",
    "\n",
    "solution()\n",
    "\n",
    "# input\n",
    "# 7\n",
    "# 8\n",
    "# 5 1 2\n",
    "# 5 2 2\n",
    "# 7 5 2\n",
    "# 6 5 2\n",
    "# 6 3 3\n",
    "# 6 4 4\n",
    "# 7 6 3\n",
    "# 7 4 5"
   ]
  },
  {
   "cell_type": "markdown",
   "id": "bf774f4c-5988-4a42-8979-4113b93699a5",
   "metadata": {},
   "source": [
    "## Dance Dance Revolution\n",
    "\n",
    "- 문제 출처: [백준 2342번](https://www.acmicpc.net/problem/2342)"
   ]
  },
  {
   "cell_type": "markdown",
   "id": "0486e7d0-febe-4532-9c30-6ba6ceb61d3a",
   "metadata": {},
   "source": [
    "`-` 두 발을 이용해 지시사항을 수행해야 된다\n",
    "\n",
    "`-` 발의 위치가 가질 수 있는 상태 공간은 $5$개이다\n",
    "\n",
    "`-` 왼발과 오른발의 위치는 서로 대칭적이다\n",
    "\n",
    "`-` 따라서 두 발이 어디에 위치해 있는지만 중요하다\n",
    "\n",
    "`-` $n$번째 지시사항 $o_n$을 수행했을 때 왼발 위치를 $l$, 오른발의 위치를 $r$이라 할 때 이때까지 사용된 힘 $\\operatorname{dp}[n][l][r]$를 고려하자\n",
    "\n",
    "`-` $\\operatorname{dp}[n][l][r]$은 가능한 모든 이전 발의 상태로부터 $(l, r)$에 위치하도록 수행했을 때 드는 비용과 여태까지의 비용 합의 최솟값으로 하면 된다\n",
    "\n",
    "`-` $\\operatorname{dp}$ 배열의 크기가 $N \\times 5 \\times 5$이므로 시간 복잡도는 $O(N)$이다"
   ]
  },
  {
   "cell_type": "code",
   "execution_count": 1,
   "id": "42c5f130-d2f3-49e3-a811-2fed08dbd2bc",
   "metadata": {},
   "outputs": [
    {
     "name": "stdin",
     "output_type": "stream",
     "text": [
      " 1 2 2 4 0\n"
     ]
    },
    {
     "name": "stdout",
     "output_type": "stream",
     "text": [
      "8\n"
     ]
    }
   ],
   "source": [
    "def compute_energy(from_pos, to_pos):\n",
    "    if from_pos == to_pos:\n",
    "        return 1\n",
    "    if from_pos == 0:\n",
    "        return 2\n",
    "    if abs(from_pos - to_pos) == 2:\n",
    "        return 4\n",
    "    return 3\n",
    "  \n",
    "\n",
    "def dance_dance_revolution(orders):    \n",
    "    n = len(orders)\n",
    "    dp = [[[INF for _ in range(5)] for _ in range(5)] for _ in range(n)]\n",
    "    dp[0][orders[0]][0] = 2\n",
    "    dp[0][0][orders[0]] = 2\n",
    "    for i in range(1, n):\n",
    "        order = orders[i]\n",
    "        order_prev = orders[i - 1]\n",
    "        for p in range(5):\n",
    "            if p == order_prev:\n",
    "                continue\n",
    "            if order_prev == order or p == order:\n",
    "                dp[i][p][order_prev] = min(dp[i - 1][order_prev][p] + 1, dp[i][p][order_prev])\n",
    "                dp[i][order_prev][p] = dp[i][p][order_prev]\n",
    "                continue\n",
    "            dp[i][p][order] = min(dp[i - 1][order_prev][p] + compute_energy(order_prev, order), dp[i][p][order])\n",
    "            dp[i][order][p] = dp[i][p][order]\n",
    "            dp[i][order][order_prev] = min(dp[i - 1][p][order_prev] + compute_energy(p, order), dp[i][order][order_prev])\n",
    "            dp[i][order_prev][order] = dp[i][order][order_prev]\n",
    "    return min(map(min, dp[n - 1]))\n",
    "\n",
    "\n",
    "def solution():\n",
    "    global INF\n",
    "    orders = list(map(int, input().split()))[:-1]\n",
    "    INF = float(\"inf\")\n",
    "    answer = dance_dance_revolution(orders)\n",
    "    print(answer)\n",
    "\n",
    "\n",
    "solution()\n",
    "\n",
    "# input\n",
    "# 1 2 2 4 0"
   ]
  },
  {
   "cell_type": "markdown",
   "id": "24439ffe-b710-45a0-bd3b-2ecdda04d034",
   "metadata": {},
   "source": [
    "`-` 풀고 나서 다른 사람 풀이를 봤다\n",
    "\n",
    "`-` $n$번째 지시사항을 수행하고 나면 한 발은 $o_n$에 위치해야 하므로 나머지 발의 상태만 기록해도 됐었다"
   ]
  },
  {
   "cell_type": "markdown",
   "id": "592c1732-5c53-40da-91bf-d6d00c5adc0f",
   "metadata": {},
   "source": [
    "## 할로윈의 양아치\n",
    "\n",
    "- 문제 출처: [백준 20303번](https://www.acmicpc.net/problem/20303)"
   ]
  },
  {
   "cell_type": "markdown",
   "id": "283294ca-d5d0-4ec9-a45e-040dfe9bf13f",
   "metadata": {},
   "source": [
    "`-` 친구의 친구도 친구다\n",
    "\n",
    "`-` `union-find`를 통해 그룹 짓자\n",
    "\n",
    "`-` 그럼 각 그룹은 몇 명을 포함하고 있는지와 사탕을 몇 개 가지고 있는지에 대한 정보를 가지게 된다\n",
    "\n",
    "`-` 이제 $K$명을 넘지 않도록 사탕을 뺏으면 된다\n",
    "\n",
    "`-` 이는 동적계획법으로 해결할 수 있다 (사람과 사탕 수는 별개이다 $\\to$ 사람이 많다고 사탕도 많은게 아님)\n",
    "\n",
    "`-` 각 그룹마다 뺏을지 말지 정해야 되며 그룹의 아이들의 합이 $K$를 넘기면 안된다\n",
    "\n",
    "`-` 이는 배낭 문제이니 배낭 문제 해결과 똑같이 하면 된다\n",
    "\n",
    "`-` 물건 가치가 사탕의 수, 물건 무게가 아이들 수, 배낭 무게가 $K$인 배낭 문제라 생각하면 된다\n",
    "\n",
    "`-` 배낭 문제를 dp로 해결할 때 시간 복잡도는 $O(NK)$이고 $N<=30000, K<=3000$이므로 제한 시간 안에 해결할 수 있다"
   ]
  },
  {
   "cell_type": "code",
   "execution_count": 1,
   "id": "743c8a06-6a79-4866-a209-8952fd42d7a1",
   "metadata": {},
   "outputs": [
    {
     "name": "stdin",
     "output_type": "stream",
     "text": [
      " 5 4 4\n",
      " 9 9 9 9 9\n",
      " 1 2\n",
      " 2 3\n",
      " 3 4\n",
      " 4 5\n"
     ]
    },
    {
     "name": "stdout",
     "output_type": "stream",
     "text": [
      "0\n"
     ]
    }
   ],
   "source": [
    "def find(u):\n",
    "    if u != p[u]:\n",
    "        p[u] = find(p[u])\n",
    "    return p[u]\n",
    "\n",
    "\n",
    "def union(u, v):\n",
    "    u_root = find(u)\n",
    "    v_root = find(v)\n",
    "    if u_root == v_root:\n",
    "        return\n",
    "    if rank[u_root] < rank[v_root]:\n",
    "        p[u_root] = v_root\n",
    "        kids_nums[v_root] += kids_nums[u_root]\n",
    "        candies_nums[v_root] += candies_nums[u_root]\n",
    "    elif rank[u_root] > rank[v_root]:\n",
    "        p[v_root] = u_root\n",
    "        kids_nums[u_root] += kids_nums[v_root]\n",
    "        candies_nums[u_root] += candies_nums[v_root]\n",
    "    else:\n",
    "        p[v_root] = u_root\n",
    "        rank[u_root] += 1\n",
    "        kids_nums[u_root] += kids_nums[v_root]\n",
    "        candies_nums[u_root] += candies_nums[v_root]\n",
    "\n",
    "\n",
    "def solution():\n",
    "    global N, K, p, rank, kids_nums, candies_nums, groups\n",
    "    N, M, K = map(int, input().split())\n",
    "    candies = [0] + list(map(int, input().split()))\n",
    "    p = [u for u in range(N + 1)]\n",
    "    rank = [0 for _ in range(N + 1)]\n",
    "    kids_nums = [1 for _ in range(N + 1)]\n",
    "    candies_nums = [candies[u] for u in range(N + 1)]\n",
    "    for _ in range(M):\n",
    "        a, b = map(int, input().split())\n",
    "        union(a, b)\n",
    "    groups = []\n",
    "    visited = set()\n",
    "    for u in range(1, N + 1):\n",
    "        root = find(u)\n",
    "        if root in visited:\n",
    "            continue\n",
    "        groups.append((kids_nums[root], candies_nums[root]))\n",
    "        visited.add(root)\n",
    "    dp = knapsack(groups)\n",
    "    print(dp[len(groups)][K - 1])\n",
    "\n",
    "\n",
    "def knapsack(groups):\n",
    "    dp = [[0 for _ in range(K)] for _ in range(len(groups) + 1)]  # dp[n][k]는 k까지 담을 수 있는 배낭에 n번째 물품까지 넣는 것을 고려했을 때 획득 가능한 사탕의 최댓값\n",
    "    for n, (w, v) in enumerate(groups, start=1):\n",
    "        w, v = groups[n - 1]\n",
    "        for k in range(K):\n",
    "            if k - w >= 0:\n",
    "                dp[n][k] = max(dp[n - 1][k - w] + v, dp[n - 1][k])\n",
    "            else:\n",
    "                dp[n][k] = dp[n - 1][k]\n",
    "    return dp\n",
    "\n",
    "\n",
    "solution()\n",
    "\n",
    "# input\n",
    "# 5 4 4\n",
    "# 9 9 9 9 9\n",
    "# 1 2\n",
    "# 2 3\n",
    "# 3 4\n",
    "# 4 5"
   ]
  },
  {
   "cell_type": "markdown",
   "id": "6c5e80c8-0d37-474d-b3a0-ca156b1074a1",
   "metadata": {},
   "source": [
    "## 방법을 출력하지 않는 숫자 맞추기\n",
    "\n",
    "- 문제 출처: [백준 13392번](https://www.acmicpc.net/problem/13392)"
   ]
  },
  {
   "cell_type": "code",
   "execution_count": 2,
   "id": "c7160ba8-4b6a-4c6f-a491-b9d097fa0718",
   "metadata": {},
   "outputs": [],
   "source": [
    "# 왼쪽 회전은 아래도 같이 왼쪽 회전\n",
    "# 오른쪽 회전은 해당 나사만 오른쪽 회전\n",
    "# 적게 움직여서 원하는 숫자 만들기\n",
    "# 326 -> 446, 4번, 1L, 2L, 3R, 3R\n",
    "# 잘 생각해보면 맨 위는 다른거에 영향 안 받음\n",
    "# 근데 효율 때문에 맨 위쪽 건드려야 할 수도 있다\n",
    "# 예컨대 455...5라하고 이를 322...2로 만들어야 된다\n",
    "# 맨 위를 왼쪽으로 3번 돌리고 오른쪽으로 2번 돌린다\n",
    "# 근데 생각해보니 이럴 필요가 없다\n",
    "# 왼쪽 회전을 노리는 그룹의 가장 윗 부분을 왼쪽으로 원하는 만큼 회전하면 된다\n",
    "# 따라서 맨 위만 회전시키면 되고 이 때 왼쪽과 오른쪽을 섞으면 손해이다\n",
    "# 왼쪽 효과를 노릴 필요가 없으니 둘이 중첩되면 제자리다\n",
    "# 즉, 왼쪽으로만 돌리거나 오른쪽으로만 돌려서 원하는 상태를 만들면 된다\n",
    "# 주어진 상태가 동일하면 결괏값도 동일하니 메모이제이션을 활용하자\n",
    "# 왼쪽 or 오른쪽 중 뭐가 좋은지 모르니 둘 다 해봐야 한다\n",
    "# D(n, S, C)를 n층 위로 완성이고 1~n층의 상태가 s이고 현재까지의 비용이 c일 때 나머지를 완성하는 비용이라 하자\n",
    "# 그럼 D(n, S, C) = min(D(n-1, S_l, C + c_l), D(n-1, S_r, C + c_r))이다\n",
    "# 매번 상태공간이 2배가 되고 비용이 적을때만 탐색하자\n",
    "# 근데 이러면 최악의 경우 마지막만 업데이트돼서 시간 복잡도가 O(2^N)이다\n",
    "# 맨 위를 오른쪽으로 돌리면 나머지 고정, 왼쪽으로 돌리면 전체가 같이 움직임\n",
    "# 그러므로 각 층의 차이는 고정이다\n",
    "# 그럼 맨 밑의 번호만 알면 상태공간을 알 수 있다\n",
    "# 왼쪽으로 돌리면 맨 밑의 번호 바꾸고 right는 냅두기\n",
    "# 즉, 0-9만 dp에 저장해서 상태 공간 파악가능, 상태공간은 10개의 상태를 가진다!\n",
    "# 이를 dp[n][s]에 저장, 크기는 10N, 따라서 O(N)이다"
   ]
  },
  {
   "cell_type": "code",
   "execution_count": 1,
   "id": "b1896f4a-b6bc-489d-86b4-043840176cb8",
   "metadata": {},
   "outputs": [
    {
     "name": "stdin",
     "output_type": "stream",
     "text": [
      " 3\n",
      " 326\n",
      " 446\n"
     ]
    },
    {
     "name": "stdout",
     "output_type": "stream",
     "text": [
      "4\n"
     ]
    }
   ],
   "source": [
    "def count_left_turn(now, goal):\n",
    "    if now >= goal:\n",
    "        return now - goal\n",
    "    return 10 + now - goal\n",
    "\n",
    "\n",
    "def count_right_turn(now, goal):\n",
    "    if goal >= now:\n",
    "        return goal - now\n",
    "    return 10 - now + goal\n",
    "\n",
    "\n",
    "def move_left(now, step):\n",
    "    if now - step >= 0:\n",
    "        return now - step\n",
    "    return 10 - step + now\n",
    "\n",
    "\n",
    "def move_right(now, step):\n",
    "    if now + step <= 9:\n",
    "        return now + step\n",
    "    return now + step - 10\n",
    "\n",
    "\n",
    "def solution():\n",
    "    global dp, gap, goal, array\n",
    "    N = int(input())\n",
    "    array = list(map(int, list(input())))\n",
    "    goal = list(map(int, list(input())))\n",
    "    array.reverse()\n",
    "    goal.reverse()\n",
    "    gap = [a - array[0] for a in array]\n",
    "    INF = float(\"inf\")\n",
    "    dp = [[INF for _ in range(10)] for _ in range(N + 1)]  # dp[n][s] -> n층 위는 클리어, 밑 층 s, 1~n층 맞추는데 드는 비용\n",
    "    for i in range(10):\n",
    "        dp[1][i] = min(count_left_turn(i, goal[0]), count_right_turn(i, goal[0]))\n",
    "    for f in range(2, N + 1):\n",
    "        for j in range(10):\n",
    "            if gap[f - 1] < 0:\n",
    "                current = move_left(j, -gap[f - 1])\n",
    "            else:\n",
    "                current = move_right(j, gap[f - 1])\n",
    "            dp[f][j] = dp[f - 1][j] + count_left_turn(current, goal[f - 1])\n",
    "            step = count_right_turn(current, goal[f - 1])\n",
    "            prev = move_right(j, step)\n",
    "            dp[f][j] = min(dp[f][j], dp[f - 1][prev] + step)\n",
    "    print(dp[N][array[0]])\n",
    "\n",
    "\n",
    "solution()\n",
    "\n",
    "# input\n",
    "# 3\n",
    "# 326\n",
    "# 446"
   ]
  },
  {
   "cell_type": "markdown",
   "id": "c01391de-2cb3-40aa-95e9-c3962dd569de",
   "metadata": {},
   "source": [
    "## 돌 게임 7\n",
    "\n",
    "- 문제 출처: [백준 9661번](https://www.acmicpc.net/problem/9661)"
   ]
  },
  {
   "cell_type": "code",
   "execution_count": 3,
   "id": "0d9d662f-9254-444b-a1e3-2b48c8a6385e",
   "metadata": {},
   "outputs": [],
   "source": [
    "# 돌을 4^K개 가져갈 수 있다\n",
    "# 마지막에 돌을 가져가는 사람이 이긴다\n",
    "# 한 번 나열해보자\n",
    "# 승리: 1, 3, 4, 6, 8, 9, 11, 13, 14, 16, 18, 19, 21, 23, ...    \n",
    "# 패배: 2, 5, 7, 10, 12, 15, 17, 20, 22, ...\n",
    "# 가장 작은 패배 개수를 y라 하자\n",
    "# y부터 시작해서 y + 3, y + 5, y + 8, ...과 같이 이전 패배에 2와 3을 번갈아가며 더한 값이 새로운 패배 개수가 된다\n",
    "# y + 5k는 패배이다, y + 5k + 3도 패배이다"
   ]
  },
  {
   "cell_type": "code",
   "execution_count": 2,
   "id": "601e9b70-283e-461f-8658-f2f64a1875ff",
   "metadata": {},
   "outputs": [
    {
     "name": "stdin",
     "output_type": "stream",
     "text": [
      " 3\n"
     ]
    },
    {
     "name": "stdout",
     "output_type": "stream",
     "text": [
      "SK\n"
     ]
    }
   ],
   "source": [
    "def solution():\n",
    "    N = int(input())\n",
    "    can_win = (N - 2) % 5 != 0 and (N - 5) % 5 != 0\n",
    "    if can_win:\n",
    "        print(\"SK\")\n",
    "    else:\n",
    "        print(\"CY\")\n",
    "\n",
    "\n",
    "solution()\n",
    "\n",
    "# input\n",
    "# 3"
   ]
  },
  {
   "cell_type": "markdown",
   "id": "25677f91-67d5-4da1-8ae9-1161484692e7",
   "metadata": {},
   "source": [
    "## 경찰차\n",
    "\n",
    "- 문제 출처: [백준 2618번](https://www.acmicpc.net/problem/2618)"
   ]
  },
  {
   "cell_type": "code",
   "execution_count": 1,
   "id": "6abc858b-7a5d-4fca-8ee4-bbc6e1779033",
   "metadata": {},
   "outputs": [
    {
     "name": "stdin",
     "output_type": "stream",
     "text": [
      " 6\n",
      " 3\n",
      " 3 5\n",
      " 5 5\n",
      " 2 3\n"
     ]
    },
    {
     "name": "stdout",
     "output_type": "stream",
     "text": [
      "9\n",
      "2\n",
      "2\n",
      "1\n"
     ]
    }
   ],
   "source": [
    "# 경찰차\n",
    "# 사건의 개수 W <= 1000, 가로 세로 N <= 1000\n",
    "# 경찰차1 -> (1,1), 경찰차2 -> (N,N)\n",
    "# 이동 경로 합의 최솟값\n",
    "# 두 차의 위치와 현재 맡은 사건이 동일하면 같은 결과를 도출한다 -> dp\n",
    "# i번째 사건을 처리했다고 하자, 그럼 하나는 당연하게 사건 i에 위치하니 나머지 차량의 위치만 알면 된다\n",
    "# 나머지 차량의 위치는 j번째 사건의 위치일 것이다 (i < j)\n",
    "# dp[i][j]를 사건 i를 해결했고 나머지 차량의 위치가 사건 j일 때 여태까지의 이동 경로 합의 최솟값이라 하자\n",
    "# 가능한 경찰차의 배치를 생각해보자\n",
    "# 사건 i를 해결했다면 사건 i-1도 해결했다\n",
    "# 다르게 말하자면 dp[i]의 모든 상태는 dp[i-1][0_a, 0_b, 1, 2, ..., i-2]로부터 결정된다 (0_a는 경찰차1의 초기 위치, 0_b는 경찰차2의 초기 위치)\n",
    "# dp[i-1][0_a, 0_b, 1, 2, ..., i-2] 각각의 상태에 대해 순회한다 -> O(W)\n",
    "# 각 상태에 대해 사건 i를 처리하는 방식이 2개씩 존재한다 (경찰차1 또는 경찰차2가 사건 i 처리)\n",
    "# 업데이트한다 2*O(W) = O(W)\n",
    "# 그럼 dp[i]의 상태를 결정하는데 O(W)이다\n",
    "# 사건이 W개이므로 O(W^2)이다\n",
    "# 이제 역추적을 해보자\n",
    "# 사건 i를 경찰차 A가 처리했는지 경찰차 B가 처리했는지 알아야 한다\n",
    "# 그러기 위해 dp[i][j][who]를 고려하자, 이는 사건 i를 who가 처리했다는 의미이다\n",
    "# 업데이트 할 때 who를 고려해서 업데이트 하면 된다 (who = 0 or 1)\n",
    "# 사건 i+1을 맡을 때 i가 움직이면 who, j가 움직이면 1 - who\n",
    "# dp[i][j][who]엔 value말고 이전 dp의 정보를 담자 (i - 1은  확정이니까 제외하면 j_prev와 who_prev가 있어야 한다)\n",
    "# 끝\n",
    "# 메모리 초과\n",
    "# 뭐든 줄여볼려고 뜯어 고쳤다\n",
    "# 사건 번호로 판단하는데 초기 위치가 거슬림, (1,1)과 (N, N)사이에는 순서가 없다\n",
    "# 정답이 있다면 그것은 처음에 경찰차1이 움직이거나 경찰차2가 움직이는 것이다\n",
    "# 각각에 대해 dp 돌리자\n",
    "# 둘 중 최솟값이 정답이 된다\n",
    "\n",
    "\n",
    "def solve_dp(x, y, who, accidents):\n",
    "    accidents[0][0] = x\n",
    "    accidents[0][1] = x\n",
    "    dp = [[INF for _ in range(i)] for i in range(W + 1)]  # dp[i][j]는 사건 i clear, 나머지는 사건 j<i 위치일 때 이동 경로 합의 최솟값\n",
    "    track = [[[None, None] for _ in range(i)] for i in range(W + 1)]  # track[i][j]는 사건 i 해결한 경찰차 종류와 사건 i-1에서 나머지 경찰차의 위치\n",
    "    # 처음 경찰차의 위치는 사건0, 사건0의 위치는 (x, x)라 하자, 즉 나머지 경찰차가 사건1을 처리하는 것이다, 나머지 경찰차의 위치는 (y,y)\n",
    "    ew, sn = accidents[1]\n",
    "    # who는 사건0 경찰차 종류(0=경찰차1, 1=경찰차2)\n",
    "    dp[1][0] = abs(ew - y) + abs(sn - y)\n",
    "    track[1][0][0] = 1 - who  # 처음이라 이전 사건이 없다\n",
    "    for i in range(1, W):\n",
    "        ew_now, sn_now = accidents[i + 1]\n",
    "        ew_prev, sn_prev = accidents[i]\n",
    "        for j in range(i):\n",
    "            ew_other, sn_other = accidents[j]\n",
    "            if dp[i + 1][i] > dp[i][j] + abs(ew_now - ew_other) + abs(sn_now - sn_other):\n",
    "                dp[i + 1][i] = dp[i][j] + abs(ew_now - ew_other) + abs(sn_now - sn_other)\n",
    "                track[i + 1][i][0] = 1 - track[i][j][0]\n",
    "                track[i + 1][i][1] = j\n",
    "            if dp[i + 1][j] > dp[i][j] + abs(ew_now - ew_prev) + abs(sn_now - sn_prev):\n",
    "                dp[i + 1][j] = dp[i][j] + abs(ew_now - ew_prev) + abs(sn_now - sn_prev)\n",
    "                track[i + 1][j][0] = track[i][j][0]\n",
    "                track[i + 1][j][1] = j\n",
    "    min_ = INF\n",
    "    for j in range(W):\n",
    "        if min_ > dp[W][j]:\n",
    "            min_ = dp[W][j]\n",
    "            who_now, other_prev = track[W][j]\n",
    "    answer = [who_now + 1]\n",
    "    for i in range(W - 1, 0, -1):\n",
    "        answer.append(track[i][other_prev][0] + 1)\n",
    "        other_prev = track[i][other_prev][1]\n",
    "    return min_, answer[::-1]\n",
    "\n",
    "\n",
    "def solution():\n",
    "    global N, W, INF\n",
    "    N = int(input())\n",
    "    W = int(input())\n",
    "    INF = float(\"inf\")\n",
    "    accidents = [[INF, INF]]\n",
    "    for _ in range(W):\n",
    "        ew, sn = map(int, input().split())\n",
    "        accidents.append([ew, sn])\n",
    "    min_, answer = solve_dp(1, N, 0, accidents)\n",
    "    min2_, answer2 = solve_dp(N, 1, 1, accidents)\n",
    "    if min_ < min2_:\n",
    "        print(min_)\n",
    "        for a in answer:\n",
    "            print(a)\n",
    "    else:\n",
    "        print(min2_)\n",
    "        for a in answer2:\n",
    "            print(a)\n",
    "\n",
    "\n",
    "solution()\n",
    "\n",
    "# input\n",
    "# 6\n",
    "# 3\n",
    "# 3 5\n",
    "# 5 5\n",
    "# 2 3"
   ]
  },
  {
   "cell_type": "code",
   "execution_count": null,
   "id": "44da1e9d-d406-47ee-90f1-96a55952c9f5",
   "metadata": {},
   "outputs": [],
   "source": []
  }
 ],
 "metadata": {
  "kernelspec": {
   "display_name": "Python 3 (ipykernel)",
   "language": "python",
   "name": "python3"
  },
  "language_info": {
   "codemirror_mode": {
    "name": "ipython",
    "version": 3
   },
   "file_extension": ".py",
   "mimetype": "text/x-python",
   "name": "python",
   "nbconvert_exporter": "python",
   "pygments_lexer": "ipython3",
   "version": "3.8.11"
  }
 },
 "nbformat": 4,
 "nbformat_minor": 5
}
