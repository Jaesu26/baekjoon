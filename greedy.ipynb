{
 "cells": [
  {
   "cell_type": "markdown",
   "id": "7f33bb83-9a42-4811-87d9-c9e71c3a74a1",
   "metadata": {},
   "source": [
    "# 그리디 알고리즘 (Greedy Algorithm)"
   ]
  },
  {
   "cell_type": "markdown",
   "id": "4921bba0-d4c7-494a-b43b-9ddf5c7a8e3e",
   "metadata": {},
   "source": [
    "## 동전 0\n",
    "\n",
    "`-` 준규가 가지고 있는 동전은 총 N종류이고, 각각의 동전을 매우 많이 가지고 있다\n",
    "\n",
    "`-` 동전을 적절히 사용해서 그 가치의 합을 K로 만들려고 한다\n",
    "\n",
    "`-` 이때 필요한 동전 개수의 최솟값을 구하는 프로그램을 작성하시오\n",
    "\n",
    "`-` 동전의 가치 Ai가 오름차순으로 주어진다 (1 ≤ Ai ≤ 1,000,000, A1 = 1, i ≥ 2인 경우에 Ai는 Ai-1의 배수)"
   ]
  },
  {
   "cell_type": "code",
   "execution_count": 15,
   "id": "55faa1af-8da1-44e1-852d-e28838dedb5e",
   "metadata": {},
   "outputs": [
    {
     "name": "stdin",
     "output_type": "stream",
     "text": [
      " 5\n",
      " 1\n",
      " 5\n",
      " 5\n",
      " 2\n",
      " 4\n"
     ]
    },
    {
     "name": "stdout",
     "output_type": "stream",
     "text": [
      "1\n",
      "2\n",
      "4\n",
      "5\n",
      "5\n"
     ]
    }
   ],
   "source": [
    "import sys\n",
    "arr = [0] * 10001\n",
    "\n",
    "N = int(input())\n",
    "for i in range(N):\n",
    "    arr[int(sys.stdin.readline())] += 1\n",
    "\n",
    "for i in range(1, 10001):\n",
    "    for j in range(arr[i]):\n",
    "        print(i)\n",
    "\n",
    "# input\n",
    "# 5\n",
    "# 1\n",
    "# 5\n",
    "# 5\n",
    "# 2\n",
    "# 4"
   ]
  },
  {
   "cell_type": "markdown",
   "id": "cd71a9a7-55b8-42d4-b62b-9fc8c33cf3d4",
   "metadata": {},
   "source": [
    "## 잃어버린 괄호\n",
    "\n",
    "`-` 세준이는 양수와 +, -, 그리고 괄호를 가지고 식을 만들고 난 후 괄호를 모두 지웠다 \n",
    "\n",
    "`-` 그리고 나서 세준이는 괄호를 적절히 쳐서 이 식의 값을 최소로 만들려고 한다"
   ]
  },
  {
   "cell_type": "markdown",
   "id": "811d09d7-9177-41c0-8447-425d2ae8c7af",
   "metadata": {},
   "source": [
    "`-` 한번만 `minus 기호`가 나오면 그 뒤에 수는 모두 빼기로 만들 수 있음"
   ]
  },
  {
   "cell_type": "markdown",
   "id": "5a114505-66b2-48bb-93b7-4d0e6aa246bd",
   "metadata": {},
   "source": [
    "`-` 50 - 70 + 80 + 90 ---> 50 - (70 + 80 + 90)"
   ]
  },
  {
   "cell_type": "markdown",
   "id": "d68efbaa-5d4e-40a4-aa31-bb25ddb52404",
   "metadata": {},
   "source": [
    "`-` `join()` , `split()` , `replace()` , `map()` 함수 사용"
   ]
  },
  {
   "cell_type": "code",
   "execution_count": 1,
   "id": "b184f0c4-4ef2-49a2-8bab-bafb8f55f78f",
   "metadata": {},
   "outputs": [
    {
     "name": "stdin",
     "output_type": "stream",
     "text": [
      " 00000+00000+00000+00000+00000+0\n"
     ]
    },
    {
     "name": "stdout",
     "output_type": "stream",
     "text": [
      "0\n"
     ]
    }
   ],
   "source": [
    "string = str(input())\n",
    "s1 = string.split('-')\n",
    "s2 = s1[0]\n",
    "s2 = s2.split('+')\n",
    "s2 = list(map(int, s2))\n",
    "\n",
    "s3 = s1[1:]\n",
    "if len(s3) > 0:\n",
    "    s3 = '-'.join(s3)\n",
    "    s3 = s3.replace('-', '+')\n",
    "    s3 = s3.split('+')\n",
    "    s3 = list(map(int, s3))\n",
    "    print(sum(s2) - sum(s3))\n",
    "else: \n",
    "    print(sum(s2))\n",
    "   \n",
    " \n",
    "# input\n",
    "# 00000+00000+00000+00000+00000+0"
   ]
  },
  {
   "cell_type": "markdown",
   "id": "655fd5f8-1840-491c-99a5-5239ba202888",
   "metadata": {
    "tags": []
   },
   "source": [
    "## ATM\n",
    "\n",
    "- 문제 출처: [백준 11399번](https://www.acmicpc.net/problem/11399)"
   ]
  },
  {
   "cell_type": "markdown",
   "id": "c9b6d9f7-8da7-4692-80d4-cd0f4e8077fd",
   "metadata": {},
   "source": [
    "`-` times를 sort()함수를 통해 오름차순으로 정렬\n",
    "\n",
    "`-` 최소값 $=$ 첫 번째 원소 $\\times$ N $+$ 두 번째 원소 $\\times$ (N-1) $+ \\dots +$ 마지막 원소 $\\times$ 1"
   ]
  },
  {
   "cell_type": "code",
   "execution_count": 1,
   "id": "551f838f-1f1c-4299-8d2d-83742f1fb726",
   "metadata": {},
   "outputs": [
    {
     "name": "stdin",
     "output_type": "stream",
     "text": [
      " 5\n",
      " 3 1 4 3 2\n"
     ]
    },
    {
     "name": "stdout",
     "output_type": "stream",
     "text": [
      "32\n"
     ]
    }
   ],
   "source": [
    "N = int(input())\n",
    "times = list(map(int, input().split()))\n",
    "times.sort()\n",
    "print(sum([times[i] * (N - i) for i in range(N)]))\n",
    "\n",
    "# input\n",
    "# 5\n",
    "# 3 1 4 3 2"
   ]
  },
  {
   "cell_type": "markdown",
   "id": "2b018f86-01db-43ac-8c76-79f430f05d62",
   "metadata": {
    "tags": []
   },
   "source": [
    "## 주유소\n",
    "\n",
    "- 문제 출처: [백준 13305번](https://www.acmicpc.net/problem/13305)"
   ]
  },
  {
   "cell_type": "markdown",
   "id": "30fa8bbc-5f80-4e62-8cee-788846310c9d",
   "metadata": {},
   "source": [
    "`-` 현재 주유소 가격보다 더 싼 주유소가 있는 곳 까지의 거리만큼만 구매하여 더 싼 주유소까지 감\n",
    "\n",
    "`-` 정확히는 현재 주유소 가격보다 더 싼 주유소 중 가장 거리가 가까운 주유소\n",
    "\n",
    "`-` 더 싼 주유소 까지 갔으면 그 주유소보다 더 싼 주유소가 있는 곳 까지의 거리만큼만 구매하여 더 싼 주유소까지 감\n",
    "\n",
    "`-` 만약 더 싼 곳이 없으면 목표지점까지 남은 거리 만큼 기름을 구매 \n",
    "\n",
    "`-` 이를 도착할 때 까지 반복함\n",
    "\n",
    "`-` 백준 문제 예시를 보자\n",
    "\n",
    "1. 기름 가격이 현재 5원 보다 더 싼 곳은 2원이므로 5원에서 2원까지 거리인 2km를 갈 수 있을 정도만 기름을 구매함(2L 구매)\n",
    "\n",
    "2. 현재 2원 보다 더 싼 곳은 1원이므로 2원에서 1원까지 거리인 4km를 갈 수 있을 정도만 기름을 구매함(4L 구매)\n",
    "\n",
    "3. 목표 지점에 도착했으므로 끝 "
   ]
  },
  {
   "cell_type": "code",
   "execution_count": 25,
   "id": "3c996bd9-a8d3-495c-811c-9a8f253d551e",
   "metadata": {},
   "outputs": [
    {
     "name": "stdin",
     "output_type": "stream",
     "text": [
      " 4\n",
      " 3 3 4\n",
      " 1 1 1 1\n"
     ]
    },
    {
     "name": "stdout",
     "output_type": "stream",
     "text": [
      "10\n"
     ]
    }
   ],
   "source": [
    "N = int(input())\n",
    "lengths = list(map(int, input().split()))\n",
    "oils = list(map(int, input().split()))\n",
    "\n",
    "idx = 0\n",
    "costs = 0\n",
    "\n",
    "for i in range(1, len(oils)):\n",
    "    if oils[i] <= oils[idx]:\n",
    "        costs += oils[idx] * lengths[i - 1]\n",
    "        idx = i\n",
    "    else:\n",
    "        costs += oils[idx] * lengths[i - 1]\n",
    "        \n",
    "print(costs)\n",
    "\n",
    "# input\n",
    "# 4\n",
    "# 3 3 4\n",
    "# 1 1 1 1"
   ]
  },
  {
   "cell_type": "markdown",
   "id": "dca73929-0959-4590-8b07-99a3bf88505e",
   "metadata": {},
   "source": [
    "`-` 아래는 더 간결한 코드(중복 부분 제거)"
   ]
  },
  {
   "cell_type": "code",
   "execution_count": 26,
   "id": "21d17eef-6b53-46f3-91d4-6905eebdc0af",
   "metadata": {},
   "outputs": [
    {
     "name": "stdin",
     "output_type": "stream",
     "text": [
      " 4\n",
      " 3 3 4\n",
      " 1 1 1 1\n"
     ]
    },
    {
     "name": "stdout",
     "output_type": "stream",
     "text": [
      "10\n"
     ]
    }
   ],
   "source": [
    "N = int(input())\n",
    "lengths = list(map(int, input().split()))\n",
    "oils = list(map(int, input().split()))\n",
    "\n",
    "idx = 0\n",
    "costs = 0\n",
    "\n",
    "for i in range(1, len(oils)):\n",
    "    costs += oils[idx] * lengths[i - 1]\n",
    "    \n",
    "    if oils[i] <= oils[idx]:\n",
    "        idx = i\n",
    "        \n",
    "print(costs)\n",
    "\n",
    "# input은 위와 동일"
   ]
  },
  {
   "cell_type": "markdown",
   "id": "e9cbfee8-5a30-48cf-9ffb-434d9990d4a6",
   "metadata": {},
   "source": [
    "## 주유소 문제 디버깅 "
   ]
  },
  {
   "cell_type": "markdown",
   "id": "ab746c57-bf19-44d2-9291-4006937daa5b",
   "metadata": {},
   "source": [
    "`-` 아래는 잘못된 코드임"
   ]
  },
  {
   "cell_type": "markdown",
   "id": "2494af69-880d-456d-b211-13247a9484d4",
   "metadata": {},
   "source": [
    "```python\n",
    "N = int(input())\n",
    "lengths = list(map(int, input().split()))\n",
    "oils = list(map(int, input().split()))\n",
    "\n",
    "idx = 0\n",
    "costs = 0\n",
    "\n",
    "for i in range(1, len(oils)):\n",
    "    if oils[i] <= oils[idx]:\n",
    "        costs += oils[idx] * lengths[idx]\n",
    "        idx = i\n",
    "    else:\n",
    "        costs += oils[idx] * lengths[i - 1]\n",
    "        \n",
    "print(costs)\n",
    "```\n",
    "`-` 아래 코드가 잘못됨\n",
    "```python\n",
    "costs += oils[idx] * lengths[idx]\n",
    "```\n",
    "`-` 아래 코드로 수정해야함\n",
    "```python\n",
    "lengths[idx] ---> lengths[i - 1]\n",
    "```"
   ]
  },
  {
   "cell_type": "markdown",
   "id": "0215f4bf-7374-44ee-926d-f10a62c70d25",
   "metadata": {},
   "source": [
    "`-` 디버깅 하면서 느낀점 : 다양한 상황을 고려하고 [$\\star$]`종이에 쓰면서`[$\\star$] 어떻게 흘러가는지 분석하자"
   ]
  },
  {
   "cell_type": "markdown",
   "id": "3b226590-7af8-46ef-aa4c-ac18fe83b0a6",
   "metadata": {},
   "source": [
    "## 회의실 배정\n",
    "\n",
    "- 문제 출처:[백준 1913번](https://www.acmicpc.net/problem/1931)"
   ]
  },
  {
   "cell_type": "markdown",
   "id": "beda5326-42d7-496f-83bf-3a1e4a022432",
   "metadata": {},
   "source": [
    "`-` 가장 빨리 끝나는 회의를 배정하는 것이 best임, 시작 시간과 종료 시간이 같은 것이 있을 수 있으므로 종료 시간이 같다면 먼저 시작하는 것을 앞에 배정함\n",
    "\n",
    "`-` 그 회의를 마치고 다음 회의를 고를 때 마찬가지로 가장 빨리 끝나는 회의를 배정함 \n",
    "\n",
    "`-` 이를 반복하면 된다\n",
    "\n",
    "`-` [1, 1]과 [0, 1]이 있다면 [0, 1]을 배정하고 [1, 1]을 해야한다\n",
    "\n",
    "`-` 순서를 바꾸면 1개가 최대임\n",
    "\n",
    "`-` 처음에는 종료 시간만 고려해서 틀림 ---> 디버깅을 합시다\n",
    "\n",
    "`-` 그래서 생각한 것이 \"아!, 시작 시간과 종료 시간 간격이 짧은 것이 더 좋겠지([5, 8]보단 [6, 8]더 좋을 거야)\"라고 했음\n",
    "\n",
    "`-` 그래서 종료 시간 기준으로 오름차순 정렬한 후 시작 시간 기준으로 내림차순 정렬을 했다. 하지만 위에서 다룬 [1, 1]과 [0, 1]의 상황에 의해 틀림\n",
    "\n",
    "`-` 종료 시간기준으로 오름차순 정렬한 후 이를 시작 시간 기준으로 오름차순 정렬해야 함 ---> 맞았습니다"
   ]
  },
  {
   "cell_type": "code",
   "execution_count": 2,
   "id": "b6a0b769-294e-4af5-9890-af0d805fe9f3",
   "metadata": {},
   "outputs": [
    {
     "name": "stdin",
     "output_type": "stream",
     "text": [
      " 11\n",
      " 1 4\n",
      " 3 5\n",
      " 0 6\n",
      " 5 7\n",
      " 3 8\n",
      " 5 9\n",
      " 6 10\n",
      " 8 11\n",
      " 8 12\n",
      " 2 13\n",
      " 12 14\n"
     ]
    },
    {
     "name": "stdout",
     "output_type": "stream",
     "text": [
      "4\n"
     ]
    }
   ],
   "source": [
    "meeting_time = []\n",
    "N = int(input())\n",
    "for i in range(N):\n",
    "    meeting_time.append(list(map(int, input().split())))\n",
    "    \n",
    "meeting_num = 1\n",
    "meeting_time.sort(key = lambda finish_time: (finish_time[1], finish_time[0])) ## 종료 시간을 기준으로 오름차순 정렬한 것을 시작 시간을 기준으로 오름차순 정렬\n",
    "fir_meeting = meeting_time[0]\n",
    "\n",
    "for i in range(1, N):\n",
    "    if meeting_time[i][0] >= fir_meeting[1]:\n",
    "        meeting_num += 1\n",
    "        fir_meeting = meeting_time[i]\n",
    "\n",
    "print(meeting_num)\n",
    "\n",
    "# input\n",
    "# 11\n",
    "# 1 4\n",
    "# 3 5\n",
    "# 0 6\n",
    "# 5 7\n",
    "# 3 8\n",
    "# 5 9\n",
    "# 6 10\n",
    "# 8 11\n",
    "# 8 12\n",
    "# 2 13\n",
    "# 12 14"
   ]
  },
  {
   "cell_type": "markdown",
   "id": "e9e944bb-f216-48b3-af0f-150545f1e984",
   "metadata": {
    "tags": []
   },
   "source": [
    "## A $\\to$ B \n",
    "\n",
    "- 문제 출처: [백준 16953번](https://www.acmicpc.net/problem/16953)"
   ]
  },
  {
   "cell_type": "markdown",
   "id": "5c5cb38c-347d-4ead-a2e7-dbd5287ed045",
   "metadata": {},
   "source": [
    "`-` 미로찾기 할 때 출발지점에서 시작하는 것보다 도착지점에서 시작하는 것이 미로 탈출을 더 쉽게 만듦\n",
    "\n",
    "`-` 이런 느낌으로 접근하자\n",
    "\n",
    "`-` A에서 B를 만드는 것 보다 역으로 B에서 A를 만든다고 생각하는 거임\n",
    "\n",
    "`-` 만약 B가 x자리수인데 x자리 숫자가 1이라면 A에서 B를 만드는 과정에서 A가 x-1자리인 순간이 있었고 그 때 마지막 자리에 1을 추가하는 연산을 했음을 알 수 있음\n",
    "\n",
    "`-` 이런식으로 생각하면 만약 B의 x자리의 숫자가 1이 아닌 홀수다 ---> A 에서 B를 만드는 것이 불가능\n",
    "\n",
    "`-` 만약 B의 x자리의 숫자가 짝수다 ---> 일단 B를 2로 나누자\n",
    "\n",
    "`-` 위에서 한 것을 반복하면 됨 \n",
    "\n",
    "`-` 그리디 알고리즘으로 풀었는데 BFS로도 풀 수 있다고 함 ---> 나중에 그래프 탐색 문제도 풀어보자"
   ]
  },
  {
   "cell_type": "code",
   "execution_count": 47,
   "id": "f8e6f3e5-54c1-4ca6-82b7-f3a5d0eec820",
   "metadata": {},
   "outputs": [
    {
     "name": "stdin",
     "output_type": "stream",
     "text": [
      " 2 162\n"
     ]
    },
    {
     "name": "stdout",
     "output_type": "stream",
     "text": [
      "5\n"
     ]
    }
   ],
   "source": [
    "A, B = map(int, input().split())\n",
    "num = 1\n",
    "\n",
    "while B != A:\n",
    "    if str(B)[-1] == '1' and B > A:\n",
    "        B = int(str(B)[:-1])\n",
    "        num += 1\n",
    "    elif B % 2 == 1 or B < A:\n",
    "        num = -1\n",
    "        break\n",
    "    else:\n",
    "        B = B // 2\n",
    "        num += 1\n",
    "        \n",
    "print(num)\n",
    "\n",
    "# input\n",
    "# 2 162"
   ]
  },
  {
   "cell_type": "markdown",
   "id": "aec401af-468e-4c92-a04c-d15e7d095daf",
   "metadata": {},
   "source": [
    "## 카드 합체 놀이\n",
    "- 문제 출처: [백준 15903번](https://www.acmicpc.net/problem/15903)"
   ]
  },
  {
   "cell_type": "markdown",
   "id": "0253a1a1-be10-404a-85eb-539834cd9dc8",
   "metadata": {},
   "source": [
    "`-` 가장 작은 카드 2장을 뽑아서 더한 값으로 초기화 함\n",
    "\n",
    "`-` 또 다시 전체 카드 중에서 가장 작은 카드 2장을 뽑아서 더한 값으로 초기화 함\n",
    "\n",
    "`-` 위를 반복하면 됨\n",
    "\n",
    "`-` 힙(Heap)자료 구조로 풀 수 있다고 함 ---> 공부하기"
   ]
  },
  {
   "cell_type": "code",
   "execution_count": 6,
   "id": "6143c404-9a7d-4cef-98e2-0a8f6129370c",
   "metadata": {},
   "outputs": [
    {
     "name": "stdin",
     "output_type": "stream",
     "text": [
      " 3 1\n",
      " 3 2 6\n"
     ]
    },
    {
     "name": "stdout",
     "output_type": "stream",
     "text": [
      "16\n"
     ]
    }
   ],
   "source": [
    "n, m = map(int, input().split())\n",
    "cards = list(map(int, input().split()))\n",
    "cards.sort()\n",
    "cnt = 0\n",
    "\n",
    "while cnt < m:\n",
    "    cards[0] = cards[1] = cards[0] + cards[1]\n",
    "    cards.sort()\n",
    "    cnt += 1\n",
    "\n",
    "print(sum(cards))\n",
    "\n",
    "# input\n",
    "# 3 1\n",
    "# 3 2 6"
   ]
  },
  {
   "cell_type": "markdown",
   "id": "e873bbf4-34d3-4e03-be38-7d096cd47004",
   "metadata": {},
   "source": [
    "## 보물\n",
    "\n",
    "- 문제 출처: [백준 1026번](https://www.acmicpc.net/problem/1026)"
   ]
  },
  {
   "cell_type": "markdown",
   "id": "ed271717-43a4-4603-9cef-d1b1bc7599a5",
   "metadata": {},
   "source": [
    "`-` 배열 A만 재배열이 가능하고 배열 B는 재배열이 불가능함\n",
    "\n",
    "`-` 제일 큰 B에 제일 작은 A를 매칭\n",
    "\n",
    "`-` 그 둘을 제외하고 다시 제일 큰 B에 제일 작은 A를 매칭\n",
    "\n",
    "`-` 이를 반복하면 될 것 같다"
   ]
  },
  {
   "cell_type": "code",
   "execution_count": 15,
   "id": "8794d7e2-44d3-400e-860a-74c92592bd0b",
   "metadata": {},
   "outputs": [
    {
     "name": "stdin",
     "output_type": "stream",
     "text": [
      " 9\n",
      " 5 15 100 31 39 0 0 3 26\n",
      " 11 12 13 2 3 4 5 9 1\n"
     ]
    },
    {
     "name": "stdout",
     "output_type": "stream",
     "text": [
      "528\n"
     ]
    }
   ],
   "source": [
    "N = int(input())\n",
    "A = list(map(int, input().split()))\n",
    "B = list(map(int, input().split()))\n",
    "S = 0\n",
    "\n",
    "while A and B:\n",
    "    S += A.pop(A.index(min(A))) * B.pop(B.index(max(B)))\n",
    "    \n",
    "print(S)\n",
    "\n",
    "# input\n",
    "# 9\n",
    "# 5 15 100 31 39 0 0 3 26\n",
    "# 11 12 13 2 3 4 5 9 1"
   ]
  },
  {
   "cell_type": "markdown",
   "id": "7f79ab37-959d-4a44-bdaa-246f6ac3aeec",
   "metadata": {},
   "source": [
    "## 거스름돈\n",
    "\n",
    "- 문제 출처: [백준 5585번](https://www.acmicpc.net/problem/5585)"
   ]
  },
  {
   "cell_type": "markdown",
   "id": "977faf97-cf30-4996-953e-fab896ba11d9",
   "metadata": {},
   "source": [
    "`-` $\\text{거스름돈 = 1000 - 지불 금액}$\n",
    "\n",
    "`-` 거스름돈 개수가 가장 작을려면 큰 금액을 잔돈으로 주면 된다\n",
    "\n",
    "`-` 500엔으로 거슬러주고 거슬러줄 돈이 500엔보다 작아지면 100엔으로 거슬러주고 이를 1엔 까지 반복하면 된다"
   ]
  },
  {
   "cell_type": "code",
   "execution_count": 28,
   "id": "4a900bdf-0a0b-43b8-8d87-c15eea036a32",
   "metadata": {},
   "outputs": [
    {
     "name": "stdin",
     "output_type": "stream",
     "text": [
      " 380\n"
     ]
    },
    {
     "name": "stdout",
     "output_type": "stream",
     "text": [
      "4\n"
     ]
    }
   ],
   "source": [
    "money = 1000 - int(input())\n",
    "num = 0\n",
    "\n",
    "for i in [500, 100, 50, 10, 5, 1]:\n",
    "    num += money // i\n",
    "    money %= i\n",
    "\n",
    "print(num)"
   ]
  },
  {
   "cell_type": "markdown",
   "id": "4052b708-acf0-4611-8115-d04f9ce30fdb",
   "metadata": {},
   "source": [
    "## 카드 정렬하기\n",
    "\n",
    "- 문제 출처: [백준 1715번](https://www.acmicpc.net/problem/1715)"
   ]
  },
  {
   "cell_type": "markdown",
   "id": "b48204b8-9699-42de-ba17-38b9abd5b017",
   "metadata": {},
   "source": [
    "`-` 카드를 2묶음씩 골라야 하는데 최소한의 비교를 위해서는 카드의 수가 가장 작은 2묶음을 고르면 된다\n",
    "\n",
    "`-` 매 선택마다 최소값 2개를 고르고 고른 후에 정렬을 한다 ---> 이를 카드뭉치가 하나 남을 때까지 반복하면 된다\n",
    "\n",
    "`-` 최소값만 고르면 되니 heap 자료구조를 사용하여 해결하면 될 것 같다"
   ]
  },
  {
   "cell_type": "code",
   "execution_count": 63,
   "id": "a84f5203-c1c9-4201-abc8-bbbd7986dda1",
   "metadata": {},
   "outputs": [
    {
     "name": "stdin",
     "output_type": "stream",
     "text": [
      " 3\n",
      " 10\n",
      " 20\n",
      " 40\n"
     ]
    },
    {
     "name": "stdout",
     "output_type": "stream",
     "text": [
      "100\n"
     ]
    }
   ],
   "source": [
    "import heapq\n",
    "\n",
    "N = int(input())\n",
    "heap = [int(input()) for _ in range(N)]\n",
    "heapq.heapify(heap)\n",
    "value = 0\n",
    "\n",
    "while len(heap) >= 2:\n",
    "    tmp = heapq.heappop(heap) + heapq.heappop(heap)\n",
    "    value += tmp\n",
    "    heapq.heappush(heap, tmp)\n",
    "\n",
    "print(value)\n",
    "\n",
    "# input\n",
    "# 3\n",
    "# 10\n",
    "# 20\n",
    "# 40"
   ]
  },
  {
   "cell_type": "markdown",
   "id": "2c745a9e-a346-45ca-a420-218e8b33dd19",
   "metadata": {},
   "source": [
    "## 로프\n",
    "\n",
    "- 문제 출처: [백준 2217번](https://www.acmicpc.net/problem/2217)"
   ]
  },
  {
   "cell_type": "markdown",
   "id": "662968bd-3d96-48e1-9d03-e73be9b4044e",
   "metadata": {},
   "source": [
    "`-` 여러개의 로프를 사용하여 무게가 $w$인 하나의 물체를 들어올리면 된다\n",
    "\n",
    "`-` 로프가 $k$개 있다고 하자\n",
    "\n",
    "`-` 로프중에서 들 수 있는 중량이 가장 낮은 로프의 중량을 $x$라고 하자\n",
    "\n",
    "`-` 그러면 $k$개의 노드를 사용하여 최대 $x\\times k$ 무게까지 들어올릴 수 있다\n",
    "\n",
    "`-` 이를 반대로 생각하여 중량이 가장 높은 로프의 중량을 $y$라고 하고\n",
    "\n",
    "`-` 그 다음으로 중량이 높은 로프의 중량을 $z$라고 했을 때\n",
    "\n",
    "`-` 하나의 노드만을 사용하여 $y$만큼 들어올리느냐 vs 두개의 노드를 사용하여 $2\\times z$만큼 들어올리느냐의 싸움이다\n",
    "\n",
    "`-` 만약 전자의 무게가 더 높다면 로프가 버틸 수 있는 최대 중량은 $y$이다\n",
    "\n",
    "`-` 후자의 무게가 더 높다면 $z$다음으로 가장 중량이 높은 로프의 중량을 $a$라고 했을 때\n",
    "\n",
    "`-` 두개의 노드를 사용하여 $2\\times z$만큼 들어올리느냐 vs 세개의 노드를 사용하여 $3\\times a$만큼 들어올리느냐의 싸움이다\n",
    "\n",
    "`-` 이를 계속 반복하면 된다\n",
    "\n",
    "`-` 리스트를 sorting한 후 위를 적용하자"
   ]
  },
  {
   "cell_type": "markdown",
   "id": "4c880303-b7c3-43dc-9867-07749365fdd0",
   "metadata": {},
   "source": [
    "```python\n",
    "n = int(input())\n",
    "w = [int(input()) for _ in range(n)]\n",
    "w.sort(reverse = True)\n",
    "weight = w[0]\n",
    "\n",
    "for i in list(range(n-1)):\n",
    "    if w[i] * (i+1) >= w[i+1] * (i+2):\n",
    "        weight = w[i] * (i+1)\n",
    "        break\n",
    "    else:\n",
    "        weight = w[i+1] * (i+2)\n",
    "        \n",
    "print(weight)\n",
    "```"
   ]
  },
  {
   "cell_type": "markdown",
   "id": "40f103f0-b1f3-4893-bb3a-3ee7e0cd1671",
   "metadata": {},
   "source": [
    "`-` 위 논리에 따라 구현한 코드가 위의 것인데 위의 코드는 틀린 코드이다\n",
    "\n",
    "`-` 위에서 두개의 노드를 사용하여 $2\\times z$만큼 들어올리느냐 vs 세개의 노드를 사용하여 $3\\times a$만큼 들어올리느냐의 싸움이라고 했었다\n",
    "\n",
    "`-` 그런데 사실 전자가 크더라도 이것이 최대값임을 보장할 수 가 없다\n",
    "\n",
    "`-` 왜냐하면 $a$다음으로 가장 큰 중량을 $b$라 할 때 네개의 노드를 사용하여 $4\\times b$ 한 것이 $2\\times z$보다 클 수 있기 때문이다\n",
    "\n",
    "`-` 이를 반영하여 탐색을 멈추지 않고 모든 노드에 대해 실행하자"
   ]
  },
  {
   "cell_type": "code",
   "execution_count": 115,
   "id": "0746480b-1219-40cc-a3bf-9b3ed0e3f996",
   "metadata": {},
   "outputs": [
    {
     "name": "stdin",
     "output_type": "stream",
     "text": [
      " 2\n",
      " 10\n",
      " 15\n"
     ]
    },
    {
     "name": "stdout",
     "output_type": "stream",
     "text": [
      "20\n"
     ]
    }
   ],
   "source": [
    "n = int(input())\n",
    "w = [int(input()) for _ in range(n)]\n",
    "w.sort(reverse = True)\n",
    "weight = w[0]\n",
    "\n",
    "for i in list(range(1, n)):\n",
    "    if weight <= w[i] * (i+1):\n",
    "        weight = w[i] * (i+1)\n",
    "    \n",
    "print(weight)\n",
    "\n",
    "# input\n",
    "# 2\n",
    "# 10\n",
    "# 15"
   ]
  },
  {
   "cell_type": "markdown",
   "id": "a21de656-4679-48c1-92d6-f6f7bab7b4e9",
   "metadata": {},
   "source": [
    "`-` 일단 위의 코드는 정답이다 \n",
    "\n",
    "`-` 그런데 왜 정답인지 모르겠다\n",
    "\n",
    "`-` 왜냐하면 노드의 수가 최대 $100000$개이다\n",
    "\n",
    "`-` sorting 하는데 $Nlog(N)$ 이고\n",
    "\n",
    "`-` for문이 $N$번 도므로 전체 코드의 시간 복잡도는 $N^2 log(N)$이다\n",
    "\n",
    "`-` 그런데 시간제한이 2초여서 시간초과일 줄 알았는데 아니다...\n",
    "\n",
    "`-` 웃긴게 걸린 시간이 0.14초이다 ㅋㅋㅋㅋ\n",
    "\n",
    "`-` 내가 바보라 잘못 생각했다....\n",
    "\n",
    "`-` sorting을 for문마다 하는것이 아니라 처음 한번만 하는것이므로 곱하기가 아니라 더하기다\n",
    "\n",
    "`-` 즉 전체 코드의 시간 복잡도는 $N+ Nlog(N)$ = $Nlog(N)$이다 \\{$N$은 Big-O 표기법에 의해 버려진다\\}"
   ]
  },
  {
   "cell_type": "markdown",
   "id": "8e17b7f3-b56f-47d9-9081-d09a0bb0f0fb",
   "metadata": {},
   "source": [
    "## 소트\n",
    "\n",
    "- 문체 출차: [백준 1083번](https://www.acmicpc.net/problem/1083)"
   ]
  },
  {
   "cell_type": "markdown",
   "id": "931667a6-d3d8-43af-8b35-5c391f5cac0b",
   "metadata": {
    "tags": []
   },
   "source": [
    "`-` 소트한 결과가 사전순으로 가장 뒷서는 것은 배열의 원소를 내림차순으로 정렬한 것이다\n",
    "\n",
    "`-` 만약 $S$가 충분히 크다면 소트한 결과가 사전순으로 가장 뒷서는 것은 내림차순 정렬된 원소이다\n",
    "\n",
    "`-` 하지만 $S$가 배열의 원소를 내림차순 정렬하기에 충분치 않다면 적당한 합의를 봐야한다\n",
    "\n",
    "`-` 사전순으로 가장 뒷서로독 해야하므로 가장 중요한 건 첫 번째 원소이다\n",
    "\n",
    "`-` 예컨대 배열 $A$인 $[5, 1, 2, 3, 4]$과 배열 $B$인 $[4, 5, 3, 2, 1]$을 사전순으로 비교하면 $A$가 $B$보다 사전순으로 뒷선다\n",
    "\n",
    "`-` 왜냐하면 사전순으로 비교는 첫 번째 원소부터 하기때문에 뒤에 원소의 크기 비교는 우선순위에서 밀리기 때문이다\n",
    "\n",
    "`-` 단순하게 생각하면 어차피 최종 목표는 내림차순 정렬된 배열이므로 일단 가장 큰 원소를 배열의 맨 앞으로 이동시키도록 한다\n",
    "\n",
    "`-` 만약 $S$가 충분치 않아 불가능하다면 다음으로 큰 원소를 배열의 맨 앞으로 이동시키도록 한다\n",
    "\n",
    "`-` 이런식으로 진행하여 배열의 첫 번째 원소를 확정지었으면 두 번째 원소부터 마지막 원소까지 같은 논리를 적용한다\n",
    "\n",
    "`-` 이를 소트한 횟수가 $S$가 되거나 배열의 원소가 내림차순으로 정렬될 때까지 반복한다\n",
    "\n",
    "`-` 참고로 두 원소를 교환하는 방법을 통해 배열의 원소를 내림차순 정렬하는덴 최악의 경우 $(n-1) + (n-2)+\\cdots + 1 = \\dfrac{n(n-1)}{2}$이므로 $S$는 이를 초과할 필요가 없다"
   ]
  },
  {
   "cell_type": "code",
   "execution_count": 18,
   "id": "c5685c0d-3b7a-4eb8-b030-f431af6028db",
   "metadata": {},
   "outputs": [
    {
     "name": "stdin",
     "output_type": "stream",
     "text": [
      " 5\n",
      " 3 5 1 2 4\n",
      " 2\n"
     ]
    },
    {
     "name": "stdout",
     "output_type": "stream",
     "text": [
      "5 3 2 1 4\n"
     ]
    }
   ],
   "source": [
    "N = int(input())\n",
    "array = list(map(int, input().split()))\n",
    "sorted_array = sorted(array, reverse=True)\n",
    "S = int(input())\n",
    "max_sort_count = (N**2 - N) // 2\n",
    "S = max_sort_count if S > max_sort_count else S\n",
    "step = 0  # 정답 배열에 원소를 추가할 때마다 +1\n",
    "answer = []\n",
    "while step < N:  # array에 남은 원소가 1개일 때까지 (1개 남으면 그대로 추가하면 됨)\n",
    "    kth = 0  # 현재 step에서 정답 배열에 추가해야할 sorted_array에서 k번째로 큰 원소\n",
    "    while True:\n",
    "        possible_max = sorted_array[kth]  # 정답 배열에 추가될 가능성이 있는 sorted_array에서 k번째로 큰 원소 \n",
    "        index_max = array.index(possible_max)  # array에서 possible_max의 인덱스\n",
    "        if index_max <= S:  # 옮기기에 S가 충분하다면\n",
    "            kth_element = array.pop(index_max)\n",
    "            answer.append(kth_element)\n",
    "            sorted_array.pop(kth)\n",
    "            S -= index_max\n",
    "            break\n",
    "        else:\n",
    "            kth += 1 \n",
    "    step += 1\n",
    "answer += array\n",
    "print(*answer)\n",
    "\n",
    "# input\n",
    "# 5\n",
    "# 3 5 1 2 4\n",
    "# 2"
   ]
  },
  {
   "cell_type": "markdown",
   "id": "a5d9e765-bc85-4fca-93d2-8ed29620d100",
   "metadata": {},
   "source": [
    "## 수들의 합\n",
    "\n",
    "- 문제 출처: [백준 1789번](https://www.acmicpc.net/problem/1789)"
   ]
  },
  {
   "cell_type": "markdown",
   "id": "d139b3df-e2fe-427f-a3ce-5adc24f5a5c9",
   "metadata": {},
   "source": [
    "`-` $N$을 최대로 크게 할려면 가장 작은 자연수부터 고려한 후 $S$에서 해당 값을 제외한 후 이를 다시 반복하면 된다\n",
    "\n",
    "`-` 만약 자연수 $x$를 고려했을 때 $S-x$가 $x$보다 작거나 같다면 $S$를 마지막 자연수로 고려하고 알고리즘을 종료한다 \n",
    "\n",
    "`-` 결과적으로 보면 $S$를 $1+2+\\cdots+x+l$로 나타내는 것이며 $N=x+1$이다\n",
    "\n",
    "`-` 왜 위와 같이 하면 $N$이 가장 커지는지 알아 보자\n",
    "\n",
    "`-` 만약 현재 상황에서 선택할 수 있는 가장 작은 수 $x$가 아닌 이보다 더 큰 $x'$을 선택했다고 하자\n",
    "\n",
    "`-` 그러나 $x'=x+k$로 모든 자연수가 선택된 후 $x'$을 $x$와 $k$로 나누고 가장 큰 수 $m$에 $k$를 더한다면 $X'$이 아닌 $x$를 선택한 것과 최소 같은 $N$을 얻게 된다\n",
    "\n",
    "`-` 또한 $m+k$를 여태까지 선택되지 않은 서로 다른 두 자연수로 나뉠 여지도 존재한다\n",
    "\n",
    "`-` 따라서 현재 상황에서 고려할 수 있는 가장 작은 작은 수를 선택하는 것이 $N$을 가장 크게 만드는 결과를 가져온다 "
   ]
  },
  {
   "cell_type": "code",
   "execution_count": 2,
   "id": "4661a499-d25f-40a7-8fb4-8f6acdabfa2b",
   "metadata": {},
   "outputs": [
    {
     "name": "stdin",
     "output_type": "stream",
     "text": [
      " 200\n"
     ]
    },
    {
     "name": "stdout",
     "output_type": "stream",
     "text": [
      "19\n"
     ]
    }
   ],
   "source": [
    "def solution():\n",
    "    S = int(input())\n",
    "    maximum = 1\n",
    "    N = 0\n",
    "    while True:\n",
    "        if S - maximum > maximum:\n",
    "            S -= maximum\n",
    "            maximum += 1\n",
    "            N += 1\n",
    "        else:\n",
    "            N += 1\n",
    "            break\n",
    "    print(N)\n",
    "\n",
    "solution()\n",
    "\n",
    "# input\n",
    "# 200"
   ]
  },
  {
   "cell_type": "markdown",
   "id": "bdfeee87-ea40-43f3-967f-9f7f8f932d99",
   "metadata": {},
   "source": [
    "## 30\n",
    "\n",
    "- 문제 출처: [백준 10610번](https://www.acmicpc.net/problem/10610)"
   ]
  },
  {
   "cell_type": "markdown",
   "id": "b0cfbb8b-5439-4d21-85b4-e8d64f13f735",
   "metadata": {},
   "source": [
    "`-` 어떤 수 $x$가 $30$의 배수일려면 $3$의 배수이면서 $10$의 배수여야 한다\n",
    "\n",
    "`-` $x$가 $10$의 배수일려면 일의 자리가 $0$이어야 하며 $3$의 배수일려면 각 자릿수의 합이 $3$의 배수여야 한다\n",
    "\n",
    "`-` 주어진 수 $x$에 $0$이 포함되면서 각 자릿수의 합이 $3$의 배수이면 $x$는 $30$이다\n",
    "\n",
    "`-` 이를 가장 크게 만들면 $30$의 배수가 되는 가장 큰 수가 되는데 이는 단순히 $0$을 일의 자리에 배치하고 가장 큰 숫자부터 맨 앞자리에 배치하면 된다 \n",
    "\n",
    "`-` 그런데 $0$은 가장 작은 숫자이므로 $x$를 각 자릿수를 기준으로 내림차순 정렬해도 괜찮다"
   ]
  },
  {
   "cell_type": "code",
   "execution_count": 9,
   "id": "2cdb9419-f838-4a52-a74b-caecba18a89e",
   "metadata": {},
   "outputs": [
    {
     "name": "stdin",
     "output_type": "stream",
     "text": [
      " 80875542\n"
     ]
    },
    {
     "name": "stdout",
     "output_type": "stream",
     "text": [
      "88755420\n"
     ]
    }
   ],
   "source": [
    "def solution():\n",
    "    N_str = input()\n",
    "    is_multiple_3 = sum(int(s) for s in N_str) % 3 == 0\n",
    "    is_multiple_10 = \"0\" in N_str \n",
    "    if not (is_multiple_3 and is_multiple_10):\n",
    "        print(-1)\n",
    "    else:\n",
    "        print(\"\".join(sorted(N_str, reverse=True)))\n",
    "\n",
    "solution()\n",
    "\n",
    "# input\n",
    "# 80875542"
   ]
  },
  {
   "cell_type": "markdown",
   "id": "0f1eb651-b7fe-4e2a-8a75-1e97deab2d55",
   "metadata": {},
   "source": [
    "## 신입 사원\n",
    "\n",
    "- 문제 출처: [백준 1946번](https://www.acmicpc.net/problem/1946)"
   ]
  },
  {
   "cell_type": "markdown",
   "id": "0112c648-913f-4094-898b-262e4c0c322c",
   "metadata": {},
   "source": [
    "`-` 나중에 풀 것"
   ]
  },
  {
   "cell_type": "markdown",
   "id": "9470884d-78bd-4a06-aeb6-4e796951c917",
   "metadata": {},
   "source": [
    "## 보석 도둑\n",
    "\n",
    "- 문제 출처: [백준 1202번](https://www.acmicpc.net/problem/1202)"
   ]
  },
  {
   "cell_type": "markdown",
   "id": "a498ac8a-6ec9-4f1f-a923-def0e099d38d",
   "metadata": {},
   "source": [
    "`-` 코딩 중\n",
    "\n",
    "`-` 쥬얼리를 가치순으로 정렬한 뒤 가장 가치가 높은 쥬얼리부터 가방의 무게를 이진 탐색을 통해 쥬얼리보다 무거운 가방 중 가장 가벼운 가방을 찾아낸다\n",
    "\n",
    "`-` 이를 $K$번 반복하면 시간복잡도 $O(\\min(N,K)\\log K)$이므로 제한 시간안에 해결할 수 있다"
   ]
  },
  {
   "cell_type": "code",
   "execution_count": 21,
   "id": "1c3d03e7-ed6c-4e18-9645-7520ee22ef6c",
   "metadata": {},
   "outputs": [
    {
     "name": "stdin",
     "output_type": "stream",
     "text": [
      " 2 1\n",
      " 5 10\n",
      " 100 100\n",
      " 11\n"
     ]
    },
    {
     "name": "stdout",
     "output_type": "stream",
     "text": [
      "10\n"
     ]
    }
   ],
   "source": [
    "import heapq\n",
    "\n",
    "\n",
    "def solution():\n",
    "    N, K = map(int, input().split())\n",
    "    jewels = []\n",
    "    for _ in range(N):\n",
    "        m, v = map(int, input().split())\n",
    "        heapq.heappush(jewels, (-v, m))\n",
    "    bags_weight = [int(input()) for _ in range(K)]\n",
    "    bags_weight.sort()\n",
    "    done = set()\n",
    "    price = 0\n",
    "    k = 0\n",
    "    while jewels and k < K:\n",
    "        v, m = heapq.heappop(jewels)\n",
    "        v = -v\n",
    "        left = 0\n",
    "        right = len(bags_weight)\n",
    "        while True:\n",
    "            mid = (left + right) // 2\n",
    "            w = bags_weight[mid]\n",
    "    print(price)\n",
    "\n",
    "solution()        "
   ]
  },
  {
   "cell_type": "markdown",
   "id": "60a83585-79af-426b-9aa0-f6ac1d7f8957",
   "metadata": {},
   "source": [
    "## 기타줄\n",
    "\n",
    "- 문제 출처: [백준 1049번](https://www.acmicpc.net/problem/1049)"
   ]
  },
  {
   "cell_type": "markdown",
   "id": "5b353f0f-35d5-481f-9847-20384d72e2c7",
   "metadata": {},
   "source": [
    "`-` 가장 싼 패키지와 가장 싼 낱개만 사용하고 나머지는 사용하지 않는 것이 비용을 최소로 할 수 있다\n",
    "\n",
    "`-` 단순하게 생각하면 가능한 패키지를 많이 사고 남는 줄은 낱개로 사는 것이 좋아보인다\n",
    "\n",
    "`-` 하지만 낱개 가격이 패키지에 비해 매우 비싼 경우, 줄을 필요한 것보다 더 사더라도 패키지로만 구매하는 것이 낫다\n",
    "\n",
    "`-` 반대로 패키지의 가격이 매우 비싼 경우, 오직 낱개로만 구매하는 것이 낫다"
   ]
  },
  {
   "cell_type": "code",
   "execution_count": 12,
   "id": "066c2349-0b8e-42d5-8de1-8d8efd70df0a",
   "metadata": {},
   "outputs": [
    {
     "name": "stdin",
     "output_type": "stream",
     "text": [
      " 4 2\n",
      " 12 3\n",
      " 15 4\n"
     ]
    },
    {
     "name": "stdout",
     "output_type": "stream",
     "text": [
      "12\n"
     ]
    }
   ],
   "source": [
    "def solution():\n",
    "    N, M = map(int, input().split())\n",
    "    INF = 1e4\n",
    "    package_min_price = INF\n",
    "    item_min_price = INF\n",
    "    for _ in range(M):\n",
    "        package_price, item_price = map(int, input().split())\n",
    "        if package_price < package_min_price:\n",
    "            package_min_price = package_price\n",
    "        if item_price < item_min_price:\n",
    "            item_min_price = item_price\n",
    "    package_only = ((N // 6) + 1) * package_min_price\n",
    "    item_only = N * item_min_price\n",
    "    general = (N // 6) * package_min_price + (N % 6) * item_min_price\n",
    "    answer = min(package_only, item_only, general)\n",
    "    print(answer)\n",
    "\n",
    "solution()\n",
    "\n",
    "# input\n",
    "# 4 2\n",
    "# 12 3\n",
    "# 15 4"
   ]
  },
  {
   "cell_type": "code",
   "execution_count": null,
   "id": "e581154b-e1d5-4ccb-858d-7cc8a72470ff",
   "metadata": {},
   "outputs": [],
   "source": []
  }
 ],
 "metadata": {
  "kernelspec": {
   "display_name": "Python 3 (ipykernel)",
   "language": "python",
   "name": "python3"
  },
  "language_info": {
   "codemirror_mode": {
    "name": "ipython",
    "version": 3
   },
   "file_extension": ".py",
   "mimetype": "text/x-python",
   "name": "python",
   "nbconvert_exporter": "python",
   "pygments_lexer": "ipython3",
   "version": "3.8.11"
  }
 },
 "nbformat": 4,
 "nbformat_minor": 5
}
