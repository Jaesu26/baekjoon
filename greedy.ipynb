{
 "cells": [
  {
   "cell_type": "markdown",
   "id": "7f33bb83-9a42-4811-87d9-c9e71c3a74a1",
   "metadata": {},
   "source": [
    "# 그리디 알고리즘 (Greedy Algorithm)"
   ]
  },
  {
   "cell_type": "markdown",
   "id": "ea619856-f16c-41f0-bbd8-a06c72a8e7dc",
   "metadata": {},
   "source": [
    "## 동전 0\n",
    "\n",
    "- 문제 출처: [백준 11047번](https://www.acmicpc.net/problem/11047)"
   ]
  },
  {
   "cell_type": "markdown",
   "id": "4921bba0-d4c7-494a-b43b-9ddf5c7a8e3e",
   "metadata": {},
   "source": [
    "`-` 준규가 가지고 있는 동전은 총 $N$ 종류이고 각각의 동전을 매우 많이 가지고 있다\n",
    "\n",
    "`-` 동전을 적절히 사용해서 그 가치의 합을 $K$로 만들려고 한다\n",
    "\n",
    "`-` 이때 필요한 동전 개수의 최솟값을 구하는 프로그램을 작성하시오\n",
    "\n",
    "`-` 동전의 가치 $A_i$가 오름차순으로 주어진다 ($1 \\le A_i \\le 1000000, A_1 = 1$, $i \\le 2$인 경우에 $A_i$는 $A_{i-1}$의 배수)"
   ]
  },
  {
   "cell_type": "code",
   "execution_count": 15,
   "id": "55faa1af-8da1-44e1-852d-e28838dedb5e",
   "metadata": {},
   "outputs": [
    {
     "name": "stdin",
     "output_type": "stream",
     "text": [
      " 5\n",
      " 1\n",
      " 5\n",
      " 5\n",
      " 2\n",
      " 4\n"
     ]
    },
    {
     "name": "stdout",
     "output_type": "stream",
     "text": [
      "1\n",
      "2\n",
      "4\n",
      "5\n",
      "5\n"
     ]
    }
   ],
   "source": [
    "arr = [0] * 10001\n",
    "N = int(input())\n",
    "for i in range(N):\n",
    "    arr[int(input())] += 1\n",
    "for i in range(1, 10001):\n",
    "    for j in range(arr[i]):\n",
    "        print(i)\n",
    "\n",
    "# input\n",
    "# 5\n",
    "# 1\n",
    "# 5\n",
    "# 5\n",
    "# 2\n",
    "# 4"
   ]
  },
  {
   "cell_type": "markdown",
   "id": "cd71a9a7-55b8-42d4-b62b-9fc8c33cf3d4",
   "metadata": {},
   "source": [
    "## 잃어버린 괄호\n",
    "\n",
    "- 문제 출처: [백준 1541번](https://www.acmicpc.net/problem/1541)"
   ]
  },
  {
   "cell_type": "markdown",
   "id": "811d09d7-9177-41c0-8447-425d2ae8c7af",
   "metadata": {},
   "source": [
    "`-` 세준이는 양수와 `+`, `-`, 그리고 괄호를 가지고 식을 만들고 난 후 괄호를 모두 지웠다 \n",
    "\n",
    "`-` 그리고 나서 세준이는 괄호를 적절히 쳐서 이 식의 값을 최소로 만들려고 한다\n",
    "\n",
    "`-` 한 번만 `minus 기호`가 나오면 그 뒤에 수는 모두 빼기로 만들 수 있음\n",
    "\n",
    "`-` $50 - 70 + 80 + 90 \\longrightarrow 50 - (70 + 80 + 90)$\n",
    "\n",
    "`-` `join()` , `split()` , `replace()` , `map()` 함수 사용"
   ]
  },
  {
   "cell_type": "code",
   "execution_count": 1,
   "id": "b184f0c4-4ef2-49a2-8bab-bafb8f55f78f",
   "metadata": {},
   "outputs": [
    {
     "name": "stdin",
     "output_type": "stream",
     "text": [
      " 00000+00000+00000+00000+00000+0\n"
     ]
    },
    {
     "name": "stdout",
     "output_type": "stream",
     "text": [
      "0\n"
     ]
    }
   ],
   "source": [
    "string = str(input())\n",
    "s1 = string.split('-')\n",
    "s2 = s1[0]\n",
    "s2 = s2.split('+')\n",
    "s2 = list(map(int, s2))\n",
    "s3 = s1[1:]\n",
    "if len(s3) > 0:\n",
    "    s3 = '-'.join(s3)\n",
    "    s3 = s3.replace('-', '+')\n",
    "    s3 = s3.split('+')\n",
    "    s3 = list(map(int, s3))\n",
    "    print(sum(s2) - sum(s3))\n",
    "else: \n",
    "    print(sum(s2))\n",
    "\n",
    "# input\n",
    "# 00000+00000+00000+00000+00000+0"
   ]
  },
  {
   "cell_type": "markdown",
   "id": "655fd5f8-1840-491c-99a5-5239ba202888",
   "metadata": {
    "tags": []
   },
   "source": [
    "## ATM\n",
    "\n",
    "- 문제 출처: [백준 11399번](https://www.acmicpc.net/problem/11399)"
   ]
  },
  {
   "cell_type": "markdown",
   "id": "c9b6d9f7-8da7-4692-80d4-cd0f4e8077fd",
   "metadata": {},
   "source": [
    "`-` 배열을 sort 함수를 통해 오름차순으로 정렬\n",
    "\n",
    "`-` $\\text{최솟값} = a_1\\times N + a_2\\times(N-1) + \\cdots + a_n \\times 1$"
   ]
  },
  {
   "cell_type": "code",
   "execution_count": 1,
   "id": "551f838f-1f1c-4299-8d2d-83742f1fb726",
   "metadata": {},
   "outputs": [
    {
     "name": "stdin",
     "output_type": "stream",
     "text": [
      " 5\n",
      " 3 1 4 3 2\n"
     ]
    },
    {
     "name": "stdout",
     "output_type": "stream",
     "text": [
      "32\n"
     ]
    }
   ],
   "source": [
    "N = int(input())\n",
    "times = list(map(int, input().split()))\n",
    "times.sort()\n",
    "print(sum([times[i] * (N - i) for i in range(N)]))\n",
    "\n",
    "# input\n",
    "# 5\n",
    "# 3 1 4 3 2"
   ]
  },
  {
   "cell_type": "markdown",
   "id": "2b018f86-01db-43ac-8c76-79f430f05d62",
   "metadata": {
    "tags": []
   },
   "source": [
    "## 주유소\n",
    "\n",
    "- 문제 출처: [백준 13305번](https://www.acmicpc.net/problem/13305)"
   ]
  },
  {
   "cell_type": "markdown",
   "id": "30fa8bbc-5f80-4e62-8cee-788846310c9d",
   "metadata": {},
   "source": [
    "`-` 현재 주유소 가격보다 더 싼 주유소가 있는 곳까지의 거리만큼만 구매하여 더 싼 주유소까지 감\n",
    "\n",
    "`-` 정확히는 현재 주유소 가격보다 더 싼 주유소 중 가장 거리가 가까운 주유소\n",
    "\n",
    "`-` 더 싼 주유소 까지 갔으면 그 주유소보다 더 싼 주유소가 있는 곳 까지의 거리만큼만 구매하여 더 싼 주유소까지 감\n",
    "\n",
    "`-` 만약 더 싼 곳이 없으면 목표지점까지 남은 거리 만큼 기름을 구매 \n",
    "\n",
    "`-` 이를 도착할 때 까지 반복함\n",
    "\n",
    "`-` 백준 문제 예시를 보자\n",
    "\n",
    "`1.` 기름 가격이 현재 $5$원 보다 더 싼 곳은 $2$원이므로 $5$원에서 $2$원까지 거리인 $2$km를 갈 수 있을 정도만 기름을 구매함 ($2$L 구매)\n",
    "\n",
    "`2.` 현재 $2$원 보다 더 싼 곳은 $1$원이므로 $2$원에서 $1$원까지 거리인 $4$km를 갈 수 있을 정도만 기름을 구매함 ($4$L 구매)\n",
    "\n",
    "`3.` 목표 지점에 도착했으므로 끝 "
   ]
  },
  {
   "cell_type": "code",
   "execution_count": 25,
   "id": "3c996bd9-a8d3-495c-811c-9a8f253d551e",
   "metadata": {},
   "outputs": [
    {
     "name": "stdin",
     "output_type": "stream",
     "text": [
      " 4\n",
      " 3 3 4\n",
      " 1 1 1 1\n"
     ]
    },
    {
     "name": "stdout",
     "output_type": "stream",
     "text": [
      "10\n"
     ]
    }
   ],
   "source": [
    "N = int(input())\n",
    "lengths = list(map(int, input().split()))\n",
    "oils = list(map(int, input().split()))\n",
    "idx = 0\n",
    "costs = 0\n",
    "for i in range(1, len(oils)):\n",
    "    costs += oils[idx] * lengths[i - 1]\n",
    "    if oils[i] <= oils[idx]:\n",
    "        idx = i\n",
    "print(costs)\n",
    "\n",
    "# input\n",
    "# 4\n",
    "# 3 3 4\n",
    "# 1 1 1 1"
   ]
  },
  {
   "cell_type": "markdown",
   "id": "e9cbfee8-5a30-48cf-9ffb-434d9990d4a6",
   "metadata": {},
   "source": [
    "## 주유소 문제 디버깅 "
   ]
  },
  {
   "cell_type": "markdown",
   "id": "ab746c57-bf19-44d2-9291-4006937daa5b",
   "metadata": {},
   "source": [
    "`-` 아래는 잘못된 코드임"
   ]
  },
  {
   "cell_type": "markdown",
   "id": "2494af69-880d-456d-b211-13247a9484d4",
   "metadata": {},
   "source": [
    "```python\n",
    "N = int(input())\n",
    "lengths = list(map(int, input().split()))\n",
    "oils = list(map(int, input().split()))\n",
    "idx = 0\n",
    "costs = 0\n",
    "for i in range(1, len(oils)):\n",
    "    if oils[i] <= oils[idx]:\n",
    "        costs += oils[idx] * lengths[idx]\n",
    "        idx = i\n",
    "    else:\n",
    "        costs += oils[idx] * lengths[i - 1]\n",
    "print(costs)\n",
    "```\n",
    "\n",
    "`-` 아래 코드가 잘못됨\n",
    "\n",
    "```python\n",
    "costs += oils[idx] * lengths[idx]\n",
    "```\n",
    "\n",
    "`-` 아래 코드로 수정해야함\n",
    "\n",
    "```python\n",
    "lengths[idx] ---> lengths[i - 1]\n",
    "```"
   ]
  },
  {
   "cell_type": "markdown",
   "id": "0215f4bf-7374-44ee-926d-f10a62c70d25",
   "metadata": {},
   "source": [
    "`-` 디버깅 하면서 느낀점: 다양한 상황을 고려하고 [$\\star$]`종이에 쓰면서`[$\\star$] 어떻게 흘러가는지 분석하자"
   ]
  },
  {
   "cell_type": "markdown",
   "id": "3b226590-7af8-46ef-aa4c-ac18fe83b0a6",
   "metadata": {},
   "source": [
    "## 회의실 배정\n",
    "\n",
    "- 문제 출처:[백준 1913번](https://www.acmicpc.net/problem/1931)"
   ]
  },
  {
   "cell_type": "markdown",
   "id": "beda5326-42d7-496f-83bf-3a1e4a022432",
   "metadata": {},
   "source": [
    "`-` 가장 빨리 끝나는 회의를 배정하는 것이 best임\n",
    "\n",
    "`-` 시작 시간과 종료 시간이 같은 것이 있을 수 있으므로 종료 시간이 같다면 먼저 시작하는 것을 앞에 배정함\n",
    "\n",
    "`-` 그 회의를 마치고 다음 회의를 고를 때 마찬가지로 가장 빨리 끝나는 회의를 배정함 \n",
    "\n",
    "`-` 이를 반복하면 된다\n",
    "\n",
    "`-` `[1, 1]`과 `[0, 1]`이 있다면 `[0, 1]`을 배정하고 `[1, 1]`을 배정 해야한다\n",
    "\n",
    "`-` 순서를 바꾸면 $1$개가 최대임\n",
    "\n",
    "`-` 처음에는 종료 시간만 고려해서 틀림 ---> 디버깅을 합시다\n",
    "\n",
    "`-` 그래서 생각한 것이 \"아!, 시작 시간과 종료 시간 간격이 짧은 것이 더 좋겠지(`[5, 8]`보단 `[6, 8]`더 좋을 거야)\"라고 했음\n",
    "\n",
    "`-` 그래서 종료 시간 기준으로 오름차순 정렬한 후 시작 시간 기준으로 내림차순 정렬을 했지만 위에서 다룬 `[1, 1]`과 `[0, 1]`의 상황에 의해 틀림\n",
    "\n",
    "`-` 종료 시간기준으로 오름차순 정렬한 후 이를 시작 시간 기준으로 오름차순 정렬해야 함 ---> 맞았습니다"
   ]
  },
  {
   "cell_type": "code",
   "execution_count": 2,
   "id": "b6a0b769-294e-4af5-9890-af0d805fe9f3",
   "metadata": {},
   "outputs": [
    {
     "name": "stdin",
     "output_type": "stream",
     "text": [
      " 11\n",
      " 1 4\n",
      " 3 5\n",
      " 0 6\n",
      " 5 7\n",
      " 3 8\n",
      " 5 9\n",
      " 6 10\n",
      " 8 11\n",
      " 8 12\n",
      " 2 13\n",
      " 12 14\n"
     ]
    },
    {
     "name": "stdout",
     "output_type": "stream",
     "text": [
      "4\n"
     ]
    }
   ],
   "source": [
    "meeting_time = []\n",
    "N = int(input())\n",
    "for i in range(N):\n",
    "    meeting_time.append(list(map(int, input().split())))\n",
    "meeting_num = 1\n",
    "meeting_time.sort(key = lambda finish_time: (finish_time[1], finish_time[0]))  # 종료 시간을 기준으로 오름차순 정렬한 것을 시작 시간을 기준으로 오름차순 정렬\n",
    "fir_meeting = meeting_time[0]\n",
    "for i in range(1, N):\n",
    "    if meeting_time[i][0] >= fir_meeting[1]:\n",
    "        meeting_num += 1\n",
    "        fir_meeting = meeting_time[i]\n",
    "print(meeting_num)\n",
    "\n",
    "# input\n",
    "# 11\n",
    "# 1 4\n",
    "# 3 5\n",
    "# 0 6\n",
    "# 5 7\n",
    "# 3 8\n",
    "# 5 9\n",
    "# 6 10\n",
    "# 8 11\n",
    "# 8 12\n",
    "# 2 13\n",
    "# 12 14"
   ]
  },
  {
   "cell_type": "markdown",
   "id": "e9e944bb-f216-48b3-af0f-150545f1e984",
   "metadata": {
    "tags": []
   },
   "source": [
    "## A $\\to$ B \n",
    "\n",
    "- 문제 출처: [백준 16953번](https://www.acmicpc.net/problem/16953)"
   ]
  },
  {
   "cell_type": "markdown",
   "id": "5c5cb38c-347d-4ead-a2e7-dbd5287ed045",
   "metadata": {},
   "source": [
    "`-` 미로찾기 할 때 출발지점에서 시작하는 것보다 도착지점에서 시작하는 것이 미로 탈출을 더 쉽게 만듦\n",
    "\n",
    "`-` 이런 느낌으로 접근하자\n",
    "\n",
    "`-` $A$에서 $B$를 만드는 것보다 역으로 $B$에서 $A$를 만든다고 생각하는 거임\n",
    "\n",
    "`-` 만약 $B$가 $x$자리수인데 $x$자리 숫자가 $1$이라면 $A$에서 $B$를 만드는 과정에서 $A$가 $x-1$자리인 순간이 있었고 그 때 마지막 자리에 $1$을 추가하는 연산을 했음을 알 수 있음\n",
    "\n",
    "`-` 이런식으로 생각하면 만약 $B$의 $x$자리의 숫자가 $1$이 아닌 홀수다 ---> $A$에서 $B$를 만드는 것이 불가능\n",
    "\n",
    "`-` 만약 $B$의 $x$자리의 숫자가 짝수다 ---> 일단 $B$를 $2$로 나누자\n",
    "\n",
    "`-` 위에서 한 것을 반복하면 됨 \n",
    "\n",
    "`-` 그리디 알고리즘으로 풀었는데 BFS로도 풀 수 있다고 함 ---> 나중에 그래프 탐색 문제도 풀어보자"
   ]
  },
  {
   "cell_type": "code",
   "execution_count": 47,
   "id": "f8e6f3e5-54c1-4ca6-82b7-f3a5d0eec820",
   "metadata": {},
   "outputs": [
    {
     "name": "stdin",
     "output_type": "stream",
     "text": [
      " 2 162\n"
     ]
    },
    {
     "name": "stdout",
     "output_type": "stream",
     "text": [
      "5\n"
     ]
    }
   ],
   "source": [
    "A, B = map(int, input().split())\n",
    "num = 1\n",
    "while B != A:\n",
    "    if str(B)[-1] == '1' and B > A:\n",
    "        B = int(str(B)[:-1])\n",
    "        num += 1\n",
    "    elif B % 2 == 1 or B < A:\n",
    "        num = -1\n",
    "        break\n",
    "    else:\n",
    "        B = B // 2\n",
    "        num += 1\n",
    "print(num)\n",
    "\n",
    "# input\n",
    "# 2 162"
   ]
  },
  {
   "cell_type": "markdown",
   "id": "aec401af-468e-4c92-a04c-d15e7d095daf",
   "metadata": {},
   "source": [
    "## 카드 합체 놀이\n",
    "- 문제 출처: [백준 15903번](https://www.acmicpc.net/problem/15903)"
   ]
  },
  {
   "cell_type": "markdown",
   "id": "0253a1a1-be10-404a-85eb-539834cd9dc8",
   "metadata": {},
   "source": [
    "`-` 가장 작은 카드 $2$장을 뽑아서 더한 값으로 초기화 함\n",
    "\n",
    "`-` 또 다시 전체 카드 중에서 가장 작은 카드 $2$장을 뽑아서 더한 값으로 초기화 함\n",
    "\n",
    "`-` 위를 반복하면 됨\n",
    "\n",
    "`-` 힙(heap) 자료구조로 풀 수 있다고 함 ---> 공부하기"
   ]
  },
  {
   "cell_type": "code",
   "execution_count": 6,
   "id": "6143c404-9a7d-4cef-98e2-0a8f6129370c",
   "metadata": {},
   "outputs": [
    {
     "name": "stdin",
     "output_type": "stream",
     "text": [
      " 3 1\n",
      " 3 2 6\n"
     ]
    },
    {
     "name": "stdout",
     "output_type": "stream",
     "text": [
      "16\n"
     ]
    }
   ],
   "source": [
    "n, m = map(int, input().split())\n",
    "cards = list(map(int, input().split()))\n",
    "cards.sort()\n",
    "cnt = 0\n",
    "while cnt < m:\n",
    "    cards[0] = cards[1] = cards[0] + cards[1]\n",
    "    cards.sort()\n",
    "    cnt += 1\n",
    "print(sum(cards))\n",
    "\n",
    "# input\n",
    "# 3 1\n",
    "# 3 2 6"
   ]
  },
  {
   "cell_type": "markdown",
   "id": "e873bbf4-34d3-4e03-be38-7d096cd47004",
   "metadata": {},
   "source": [
    "## 보물\n",
    "\n",
    "- 문제 출처: [백준 1026번](https://www.acmicpc.net/problem/1026)"
   ]
  },
  {
   "cell_type": "markdown",
   "id": "ed271717-43a4-4603-9cef-d1b1bc7599a5",
   "metadata": {},
   "source": [
    "`-` 배열 $A$만 재배열이 가능하고 배열 $B$는 재배열이 불가능함\n",
    "\n",
    "`-` 제일 큰 $B$에 제일 작은 $A$를 매칭\n",
    "\n",
    "`-` 그 둘을 제외하고 다시 제일 큰 $B$에 제일 작은 $A$를 매칭\n",
    "\n",
    "`-` 이를 반복하면 될 것 같다"
   ]
  },
  {
   "cell_type": "code",
   "execution_count": 15,
   "id": "8794d7e2-44d3-400e-860a-74c92592bd0b",
   "metadata": {},
   "outputs": [
    {
     "name": "stdin",
     "output_type": "stream",
     "text": [
      " 9\n",
      " 5 15 100 31 39 0 0 3 26\n",
      " 11 12 13 2 3 4 5 9 1\n"
     ]
    },
    {
     "name": "stdout",
     "output_type": "stream",
     "text": [
      "528\n"
     ]
    }
   ],
   "source": [
    "N = int(input())\n",
    "A = list(map(int, input().split()))\n",
    "B = list(map(int, input().split()))\n",
    "S = 0\n",
    "while A and B:\n",
    "    S += A.pop(A.index(min(A))) * B.pop(B.index(max(B)))\n",
    "print(S)\n",
    "\n",
    "# input\n",
    "# 9\n",
    "# 5 15 100 31 39 0 0 3 26\n",
    "# 11 12 13 2 3 4 5 9 1"
   ]
  },
  {
   "cell_type": "markdown",
   "id": "7f79ab37-959d-4a44-bdaa-246f6ac3aeec",
   "metadata": {},
   "source": [
    "## 거스름돈\n",
    "\n",
    "- 문제 출처: [백준 5585번](https://www.acmicpc.net/problem/5585)"
   ]
  },
  {
   "cell_type": "markdown",
   "id": "977faf97-cf30-4996-953e-fab896ba11d9",
   "metadata": {},
   "source": [
    "`-` $\\text{거스름돈 = 1000 - 지불 금액}$\n",
    "\n",
    "`-` 거스름돈 개수가 가장 작을려면 큰 금액을 잔돈으로 주면 된다\n",
    "\n",
    "`-` $500$엔으로 거슬러주고 거슬러줄 돈이 $500$엔보다 작아지면 $100$엔으로 거슬러주고 이를 $1$엔까지 반복하면 된다"
   ]
  },
  {
   "cell_type": "code",
   "execution_count": 28,
   "id": "4a900bdf-0a0b-43b8-8d87-c15eea036a32",
   "metadata": {},
   "outputs": [
    {
     "name": "stdin",
     "output_type": "stream",
     "text": [
      " 380\n"
     ]
    },
    {
     "name": "stdout",
     "output_type": "stream",
     "text": [
      "4\n"
     ]
    }
   ],
   "source": [
    "money = 1000 - int(input())\n",
    "num = 0\n",
    "for i in [500, 100, 50, 10, 5, 1]:\n",
    "    num += money // i\n",
    "    money %= i\n",
    "print(num)"
   ]
  },
  {
   "cell_type": "markdown",
   "id": "4052b708-acf0-4611-8115-d04f9ce30fdb",
   "metadata": {},
   "source": [
    "## 카드 정렬하기\n",
    "\n",
    "- 문제 출처: [백준 1715번](https://www.acmicpc.net/problem/1715)"
   ]
  },
  {
   "cell_type": "markdown",
   "id": "b48204b8-9699-42de-ba17-38b9abd5b017",
   "metadata": {},
   "source": [
    "`-` 카드를 $2$묶음씩 골라야 하는데 최소한의 비교를 위해서는 카드의 수가 가장 작은 $2$묶음을 고르면 된다\n",
    "\n",
    "`-` 매 선택마다 최솟값 $2$개를 고르고 고른 후에 정렬을 한다 ---> 이를 카드 뭉치가 하나 남을 때까지 반복하면 된다\n",
    "\n",
    "`-` 최솟값만 고르면 되니 heap 자료구조를 사용하여 해결하면 될 것 같다"
   ]
  },
  {
   "cell_type": "code",
   "execution_count": 63,
   "id": "a84f5203-c1c9-4201-abc8-bbbd7986dda1",
   "metadata": {},
   "outputs": [
    {
     "name": "stdin",
     "output_type": "stream",
     "text": [
      " 3\n",
      " 10\n",
      " 20\n",
      " 40\n"
     ]
    },
    {
     "name": "stdout",
     "output_type": "stream",
     "text": [
      "100\n"
     ]
    }
   ],
   "source": [
    "import heapq\n",
    "\n",
    "N = int(input())\n",
    "heap = [int(input()) for _ in range(N)]\n",
    "heapq.heapify(heap)\n",
    "value = 0\n",
    "while len(heap) >= 2:\n",
    "    tmp = heapq.heappop(heap) + heapq.heappop(heap)\n",
    "    value += tmp\n",
    "    heapq.heappush(heap, tmp)\n",
    "print(value)\n",
    "\n",
    "# input\n",
    "# 3\n",
    "# 10\n",
    "# 20\n",
    "# 40"
   ]
  },
  {
   "cell_type": "markdown",
   "id": "2c745a9e-a346-45ca-a420-218e8b33dd19",
   "metadata": {},
   "source": [
    "## 로프\n",
    "\n",
    "- 문제 출처: [백준 2217번](https://www.acmicpc.net/problem/2217)"
   ]
  },
  {
   "cell_type": "markdown",
   "id": "662968bd-3d96-48e1-9d03-e73be9b4044e",
   "metadata": {},
   "source": [
    "`-` 여러개의 로프를 사용하여 무게가 $w$인 하나의 물체를 들어올리면 된다\n",
    "\n",
    "`-` 로프가 $k$개 있다고 하자\n",
    "\n",
    "`-` 로프 중에서 들 수 있는 중량이 가장 낮은 로프의 중량을 $x$라고 하자\n",
    "\n",
    "`-` 그러면 $k$개의 노드를 사용하여 최대 $x\\times k$ 무게까지 들어올릴 수 있다\n",
    "\n",
    "`-` 이를 반대로 생각하여 중량이 가장 높은 로프의 중량을 $y$라고 하고\n",
    "\n",
    "`-` 그 다음으로 중량이 높은 로프의 중량을 $z$라고 했을 때\n",
    "\n",
    "`-` 하나의 노드만을 사용하여 $y$만큼 들어올리느냐 vs 두개의 노드를 사용하여 $2\\times z$만큼 들어올리느냐의 싸움이다\n",
    "\n",
    "`-` 만약 전자의 무게가 더 높다면 로프가 버틸 수 있는 최대 중량은 $y$이다\n",
    "\n",
    "`-` 후자의 무게가 더 높다면 $z$다음으로 가장 중량이 높은 로프의 중량을 $a$라고 했을 때\n",
    "\n",
    "`-` 두개의 노드를 사용하여 $2\\times z$만큼 들어올리느냐 vs 세개의 노드를 사용하여 $3\\times a$만큼 들어올리느냐의 싸움이다\n",
    "\n",
    "`-` 이를 계속 반복하면 된다\n",
    "\n",
    "`-` 리스트를 정렬한 후 위를 적용하자"
   ]
  },
  {
   "cell_type": "markdown",
   "id": "4c880303-b7c3-43dc-9867-07749365fdd0",
   "metadata": {},
   "source": [
    "```python\n",
    "n = int(input())\n",
    "w = [int(input()) for _ in range(n)]\n",
    "w.sort(reverse = True)\n",
    "weight = w[0]\n",
    "for i in list(range(n - 1)):\n",
    "    if w[i] * (i + 1) >= w[i + 1] * (i + 2):\n",
    "        weight = w[i] * (i + 1)\n",
    "        break\n",
    "    else:\n",
    "        weight = w[i + 1] * (i + 2)\n",
    "print(weight)\n",
    "```"
   ]
  },
  {
   "cell_type": "markdown",
   "id": "40f103f0-b1f3-4893-bb3a-3ee7e0cd1671",
   "metadata": {},
   "source": [
    "`-` 위 논리에 따라 구현한 코드가 위의 것인데 위의 코드는 틀린 코드이다\n",
    "\n",
    "`-` 위에서 두개의 노드를 사용하여 $2\\times z$만큼 들어올리느냐 vs 세개의 노드를 사용하여 $3\\times a$만큼 들어올리느냐의 싸움이라고 했었다\n",
    "\n",
    "`-` 그런데 사실 전자가 크더라도 이것이 최댓값임을 보장할 수 가 없다\n",
    "\n",
    "`-` 왜냐하면 $a$다음으로 가장 큰 중량을 $b$라 할 때 네개의 노드를 사용하여 $4\\times b$ 한 것이 $2\\times z$보다 클 수 있기 때문이다\n",
    "\n",
    "`-` 이를 반영하여 탐색을 멈추지 않고 모든 노드에 대해 실행하자"
   ]
  },
  {
   "cell_type": "code",
   "execution_count": 115,
   "id": "0746480b-1219-40cc-a3bf-9b3ed0e3f996",
   "metadata": {},
   "outputs": [
    {
     "name": "stdin",
     "output_type": "stream",
     "text": [
      " 2\n",
      " 10\n",
      " 15\n"
     ]
    },
    {
     "name": "stdout",
     "output_type": "stream",
     "text": [
      "20\n"
     ]
    }
   ],
   "source": [
    "n = int(input())\n",
    "w = [int(input()) for _ in range(n)]\n",
    "w.sort(reverse = True)\n",
    "weight = w[0]\n",
    "for i in list(range(1, n)):\n",
    "    if weight <= w[i] * (i + 1):\n",
    "        weight = w[i] * (i + 1)\n",
    "print(weight)\n",
    "\n",
    "# input\n",
    "# 2\n",
    "# 10\n",
    "# 15"
   ]
  },
  {
   "cell_type": "markdown",
   "id": "a21de656-4679-48c1-92d6-f6f7bab7b4e9",
   "metadata": {},
   "source": [
    "`-` 일단 위의 코드는 정답이다 \n",
    "\n",
    "`-` 그런데 왜 정답인지 모르겠다\n",
    "\n",
    "`-` 왜냐하면 노드의 수가 최대 $100000$개이다\n",
    "\n",
    "`-` 정렬하는데 $N\\log N$ 이고\n",
    "\n",
    "`-` for문이 $N$번 작동하므로 전체 코드의 시간 복잡도는 $O\\left(N^2 \\log N\\right)$이다\n",
    "\n",
    "`-` 그런데 시간제한이 $2$초여서 시간초과일 줄 알았는데 아니다...\n",
    "\n",
    "`-` 웃긴게 걸린 시간이 $0.14$초이다 ㅋㅋㅋㅋ\n",
    "\n",
    "`-` 내가 바보라 잘못 생각했다....\n",
    "\n",
    "`-` 정렬을 for문마다 하는것이 아니라 처음 한번만 하는것이므로 곱하기가 아니라 더하기다\n",
    "\n",
    "`-` 즉 전체 코드의 시간 복잡도는 $O\\left(N+ N\\log N\\right)$ = $O\\left(N\\log N\\right)$이다 ($N$은 Big-O 표기법에 의해 버려진다)"
   ]
  },
  {
   "cell_type": "markdown",
   "id": "8e17b7f3-b56f-47d9-9081-d09a0bb0f0fb",
   "metadata": {},
   "source": [
    "## 소트\n",
    "\n",
    "- 문체 출차: [백준 1083번](https://www.acmicpc.net/problem/1083)"
   ]
  },
  {
   "cell_type": "markdown",
   "id": "931667a6-d3d8-43af-8b35-5c391f5cac0b",
   "metadata": {
    "tags": []
   },
   "source": [
    "`-` 소트한 결과가 사전순으로 가장 뒷서는 것은 배열의 원소를 내림차순으로 정렬한 것이다\n",
    "\n",
    "`-` 만약 $S$가 충분히 크다면 소트한 결과가 사전순으로 가장 뒷서는 것은 내림차순 정렬된 원소이다\n",
    "\n",
    "`-` 하지만 $S$가 배열의 원소를 내림차순 정렬하기에 충분치 않다면 적당한 합의를 봐야한다\n",
    "\n",
    "`-` 사전순으로 가장 뒷서로독 해야하므로 가장 중요한 건 첫 번째 원소이다\n",
    "\n",
    "`-` 예컨대 배열 $A$인 $[5, 1, 2, 3, 4]$과 배열 $B$인 $[4, 5, 3, 2, 1]$을 사전순으로 비교하면 $A$가 $B$보다 사전순으로 뒷선다\n",
    "\n",
    "`-` 왜냐하면 사전순으로 비교는 첫 번째 원소부터 하기때문에 뒤에 원소의 크기 비교는 우선순위에서 밀리기 때문이다\n",
    "\n",
    "`-` 단순하게 생각하면 어차피 최종 목표는 내림차순 정렬된 배열이므로 일단 가장 큰 원소를 배열의 맨 앞으로 이동시키도록 한다\n",
    "\n",
    "`-` 만약 $S$가 충분치 않아 불가능하다면 다음으로 큰 원소를 배열의 맨 앞으로 이동시키도록 한다\n",
    "\n",
    "`-` 이런식으로 진행하여 배열의 첫 번째 원소를 확정지었으면 두 번째 원소부터 마지막 원소까지 같은 논리를 적용한다\n",
    "\n",
    "`-` 이를 소트한 횟수가 $S$가 되거나 배열의 원소가 내림차순으로 정렬될 때까지 반복한다\n",
    "\n",
    "`-` 참고로 두 원소를 교환하는 방법을 통해 배열의 원소를 내림차순 정렬하는덴 최악의 경우 $(n-1) + (n-2)+\\cdots + 1 = \\dfrac{n(n-1)}{2}$이므로 $S$는 이를 초과할 필요가 없다"
   ]
  },
  {
   "cell_type": "code",
   "execution_count": 18,
   "id": "c5685c0d-3b7a-4eb8-b030-f431af6028db",
   "metadata": {},
   "outputs": [
    {
     "name": "stdin",
     "output_type": "stream",
     "text": [
      " 5\n",
      " 3 5 1 2 4\n",
      " 2\n"
     ]
    },
    {
     "name": "stdout",
     "output_type": "stream",
     "text": [
      "5 3 2 1 4\n"
     ]
    }
   ],
   "source": [
    "N = int(input())\n",
    "array = list(map(int, input().split()))\n",
    "sorted_array = sorted(array, reverse=True)\n",
    "S = int(input())\n",
    "max_sort_count = (N**2 - N) // 2\n",
    "S = max_sort_count if S > max_sort_count else S\n",
    "step = 0  # 정답 배열에 원소를 추가할 때마다 +1\n",
    "answer = []\n",
    "while step < N:  # array에 남은 원소가 1개일 때까지 (1개 남으면 그대로 추가하면 됨)\n",
    "    kth = 0  # 현재 step에서 정답 배열에 추가해야할 sorted_array에서 k번째로 큰 원소\n",
    "    while True:\n",
    "        possible_max = sorted_array[kth]  # 정답 배열에 추가될 가능성이 있는 sorted_array에서 k번째로 큰 원소 \n",
    "        index_max = array.index(possible_max)  # array에서 possible_max의 인덱스\n",
    "        if index_max <= S:  # 옮기기에 S가 충분하다면\n",
    "            kth_element = array.pop(index_max)\n",
    "            answer.append(kth_element)\n",
    "            sorted_array.pop(kth)\n",
    "            S -= index_max\n",
    "            break\n",
    "        else:\n",
    "            kth += 1 \n",
    "    step += 1\n",
    "answer += array\n",
    "print(*answer)\n",
    "\n",
    "# input\n",
    "# 5\n",
    "# 3 5 1 2 4\n",
    "# 2"
   ]
  },
  {
   "cell_type": "markdown",
   "id": "a5d9e765-bc85-4fca-93d2-8ed29620d100",
   "metadata": {},
   "source": [
    "## 수들의 합\n",
    "\n",
    "- 문제 출처: [백준 1789번](https://www.acmicpc.net/problem/1789)"
   ]
  },
  {
   "cell_type": "markdown",
   "id": "d139b3df-e2fe-427f-a3ce-5adc24f5a5c9",
   "metadata": {},
   "source": [
    "`-` $N$을 최대로 크게 할려면 가장 작은 자연수부터 고려한 후 $S$에서 해당 값을 제외한 후 이를 다시 반복하면 된다\n",
    "\n",
    "`-` 만약 자연수 $x$를 고려했을 때 $S-x$가 $x$보다 작거나 같다면 $S$를 마지막 자연수로 고려하고 알고리즘을 종료한다 \n",
    "\n",
    "`-` 결과적으로 보면 $S$를 $1+2+\\cdots+x+l$로 나타내는 것이며 $N=x+1$이다\n",
    "\n",
    "`-` 왜 위와 같이 하면 $N$이 가장 커지는지 알아 보자\n",
    "\n",
    "`-` 만약 현재 상황에서 선택할 수 있는 가장 작은 수 $x$가 아닌 이보다 더 큰 $x'$을 선택했다고 하자\n",
    "\n",
    "`-` 그러나 $x'=x+k$로 모든 자연수가 선택된 후 $x'$을 $x$와 $k$로 나누고 가장 큰 수 $m$에 $k$를 더한다면 $X'$이 아닌 $x$를 선택한 것과 최소 같은 $N$을 얻게 된다\n",
    "\n",
    "`-` 또한 $m+k$를 여태까지 선택되지 않은 서로 다른 두 자연수로 나뉠 여지도 존재한다\n",
    "\n",
    "`-` 따라서 현재 상황에서 고려할 수 있는 가장 작은 작은 수를 선택하는 것이 $N$을 가장 크게 만드는 결과를 가져온다 "
   ]
  },
  {
   "cell_type": "code",
   "execution_count": 2,
   "id": "4661a499-d25f-40a7-8fb4-8f6acdabfa2b",
   "metadata": {},
   "outputs": [
    {
     "name": "stdin",
     "output_type": "stream",
     "text": [
      " 200\n"
     ]
    },
    {
     "name": "stdout",
     "output_type": "stream",
     "text": [
      "19\n"
     ]
    }
   ],
   "source": [
    "def solution():\n",
    "    S = int(input())\n",
    "    maximum = 1\n",
    "    N = 0\n",
    "    while True:\n",
    "        if S - maximum > maximum:\n",
    "            S -= maximum\n",
    "            maximum += 1\n",
    "            N += 1\n",
    "        else:\n",
    "            N += 1\n",
    "            break\n",
    "    print(N)\n",
    "\n",
    "\n",
    "solution()\n",
    "\n",
    "# input\n",
    "# 200"
   ]
  },
  {
   "cell_type": "markdown",
   "id": "bdfeee87-ea40-43f3-967f-9f7f8f932d99",
   "metadata": {},
   "source": [
    "## 30\n",
    "\n",
    "- 문제 출처: [백준 10610번](https://www.acmicpc.net/problem/10610)"
   ]
  },
  {
   "cell_type": "markdown",
   "id": "b0cfbb8b-5439-4d21-85b4-e8d64f13f735",
   "metadata": {},
   "source": [
    "`-` 어떤 수 $x$가 $30$의 배수일려면 $3$의 배수이면서 $10$의 배수여야 한다\n",
    "\n",
    "`-` $x$가 $10$의 배수일려면 일의 자리가 $0$이어야 하며 $3$의 배수일려면 각 자릿수의 합이 $3$의 배수여야 한다\n",
    "\n",
    "`-` 주어진 수 $x$에 $0$이 포함되면서 각 자릿수의 합이 $3$의 배수이면 $x$는 $30$이다\n",
    "\n",
    "`-` 이를 가장 크게 만들면 $30$의 배수가 되는 가장 큰 수가 되는데 이는 단순히 $0$을 일의 자리에 배치하고 가장 큰 숫자부터 맨 앞자리에 배치하면 된다 \n",
    "\n",
    "`-` 그런데 $0$은 가장 작은 숫자이므로 $x$를 각 자릿수를 기준으로 내림차순 정렬해도 괜찮다"
   ]
  },
  {
   "cell_type": "code",
   "execution_count": 9,
   "id": "2cdb9419-f838-4a52-a74b-caecba18a89e",
   "metadata": {},
   "outputs": [
    {
     "name": "stdin",
     "output_type": "stream",
     "text": [
      " 80875542\n"
     ]
    },
    {
     "name": "stdout",
     "output_type": "stream",
     "text": [
      "88755420\n"
     ]
    }
   ],
   "source": [
    "def solution():\n",
    "    N_str = input()\n",
    "    is_multiple_3 = sum(int(s) for s in N_str) % 3 == 0\n",
    "    is_multiple_10 = \"0\" in N_str \n",
    "    if not (is_multiple_3 and is_multiple_10):\n",
    "        print(-1)\n",
    "    else:\n",
    "        print(\"\".join(sorted(N_str, reverse=True)))\n",
    "\n",
    "\n",
    "solution()\n",
    "\n",
    "# input\n",
    "# 80875542"
   ]
  },
  {
   "cell_type": "markdown",
   "id": "60a83585-79af-426b-9aa0-f6ac1d7f8957",
   "metadata": {},
   "source": [
    "## 기타줄\n",
    "\n",
    "- 문제 출처: [백준 1049번](https://www.acmicpc.net/problem/1049)"
   ]
  },
  {
   "cell_type": "markdown",
   "id": "5b353f0f-35d5-481f-9847-20384d72e2c7",
   "metadata": {},
   "source": [
    "`-` 가장 싼 패키지와 가장 싼 낱개만 사용하고 나머지는 사용하지 않는 것이 비용을 최소로 할 수 있다\n",
    "\n",
    "`-` 단순하게 생각하면 가능한 패키지를 많이 사고 남는 줄은 낱개로 사는 것이 좋아보인다\n",
    "\n",
    "`-` 하지만 낱개 가격이 패키지에 비해 매우 비싼 경우, 줄을 필요한 것보다 더 사더라도 패키지로만 구매하는 것이 낫다\n",
    "\n",
    "`-` 반대로 패키지의 가격이 매우 비싼 경우, 오직 낱개로만 구매하는 것이 낫다"
   ]
  },
  {
   "cell_type": "code",
   "execution_count": 12,
   "id": "066c2349-0b8e-42d5-8de1-8d8efd70df0a",
   "metadata": {},
   "outputs": [
    {
     "name": "stdin",
     "output_type": "stream",
     "text": [
      " 4 2\n",
      " 12 3\n",
      " 15 4\n"
     ]
    },
    {
     "name": "stdout",
     "output_type": "stream",
     "text": [
      "12\n"
     ]
    }
   ],
   "source": [
    "def solution():\n",
    "    N, M = map(int, input().split())\n",
    "    INF = 1e4\n",
    "    package_min_price = INF\n",
    "    item_min_price = INF\n",
    "    for _ in range(M):\n",
    "        package_price, item_price = map(int, input().split())\n",
    "        if package_price < package_min_price:\n",
    "            package_min_price = package_price\n",
    "        if item_price < item_min_price:\n",
    "            item_min_price = item_price\n",
    "    package_only = ((N // 6) + 1) * package_min_price\n",
    "    item_only = N * item_min_price\n",
    "    general = (N // 6) * package_min_price + (N % 6) * item_min_price\n",
    "    answer = min(package_only, item_only, general)\n",
    "    print(answer)\n",
    "\n",
    "\n",
    "solution()\n",
    "\n",
    "# input\n",
    "# 4 2\n",
    "# 12 3\n",
    "# 15 4"
   ]
  },
  {
   "cell_type": "markdown",
   "id": "9fc5f9e6-790b-4f5b-8151-39daee01cc89",
   "metadata": {},
   "source": [
    "## 팰린드롬 만들기\n",
    "\n",
    "- 문제 출처: [백준 1213번](https://www.acmicpc.net/problem/1213)"
   ]
  },
  {
   "cell_type": "markdown",
   "id": "66c73e1b-801b-472e-bb4b-1e06f81551f6",
   "metadata": {},
   "source": [
    "`-` 이름이 짝수라면 각 알파벳의 등장 횟수도 짝수여야 한다\n",
    "\n",
    "`-` 이름이 홀수라면 하나의 알파벳은 홀수 번 등장하고 나머지 알파벳은 짝수 번 등장해야 팰린드롬을 만들 수 있다\n",
    "\n",
    "`-` 만약 위의 조건을 만족하지 않으면 팰린드롬을 만들 수 없는 것이다\n",
    "\n",
    "`-` 정답이 여러개일 경우 사전순으로 앞서는 것을 출력해야 하므로 사전순으로 앞서는 알파벳을 팰린드롬의 앞 글자로 사용해야 한다\n",
    "\n",
    "`-` 팰린드롬을 좌우 대칭이므로 가운데를 기준으로 앞에만 배치한 후 가운데에 들어갈 알파벳이 있다면 추가한 후 앞의 배치를 반전하여 이어 붙이면 된다"
   ]
  },
  {
   "cell_type": "code",
   "execution_count": 17,
   "id": "523222b3-a9ca-46d2-b17d-29f658176d69",
   "metadata": {},
   "outputs": [
    {
     "name": "stdin",
     "output_type": "stream",
     "text": [
      " AAABB\n"
     ]
    },
    {
     "name": "stdout",
     "output_type": "stream",
     "text": [
      "ABABA\n"
     ]
    }
   ],
   "source": [
    "def get_alphabet2count(name):\n",
    "    alphabet2count = {}\n",
    "    for alphabet in name:\n",
    "        if alphabet not in alphabet2count:\n",
    "            alphabet2count[alphabet] = 1\n",
    "            continue\n",
    "        alphabet2count[alphabet] += 1\n",
    "    return alphabet2count\n",
    "\n",
    "\n",
    "def solution():\n",
    "    name = input()\n",
    "    alphabet2count = get_alphabet2count(name)\n",
    "    length = len(name)\n",
    "    even = []\n",
    "    odd = []\n",
    "    for alphabet, count in alphabet2count.items():\n",
    "        if count % 2 == 0:\n",
    "            even.extend([alphabet] * (count // 2))\n",
    "        else:\n",
    "            even.extend([alphabet] * (count // 2))\n",
    "            odd.append(alphabet)   \n",
    "    even.sort()\n",
    "    odd.sort()\n",
    "    if (length % 2 == 0 and odd) or (length % 2 == 1 and len(odd) != 1):\n",
    "        print(\"I'm Sorry Hansoo\")\n",
    "        return\n",
    "    print(\"\".join([\"\".join(even), \"\".join(odd), \"\".join(even)[::-1]]))\n",
    "\n",
    "\n",
    "solution()\n",
    "\n",
    "# input\n",
    "# AAABB"
   ]
  },
  {
   "cell_type": "markdown",
   "id": "ed9b9c83-2ed0-427b-ae5c-ca0dfc9b2527",
   "metadata": {},
   "source": [
    "## 팔\n",
    "\n",
    "- 문제 출처: [백준 1105번](https://www.acmicpc.net/problem/1105)"
   ]
  },
  {
   "cell_type": "markdown",
   "id": "fb79be7e-6bb5-4e7a-b8ea-f76276c12895",
   "metadata": {},
   "source": [
    "`-` 만약 $L$과 $R$의 자릿수가 다르다면 $10^{\\lfloor\\log R \\rfloor}$은 $L$보다 크고 $R$보다 작거나 같다\n",
    "\n",
    "`-` 해당 숫자에는 $8$이 $0$개 들어있으므로 문제의 정답이다 \n",
    "\n",
    "`-` 예컨대 $L = 88, R = 150$이라면 $10^{\\lfloor\\log R \\rfloor}=100$이다\n",
    "\n",
    "`-` 만약 $L$과 $R$의 자릿수가 같다면 앞에 숫자부터 탐색한다\n",
    "\n",
    "`-` 만약 두 숫자가 동일하다면 해당 숫자를 무조건 사용해야 하며 해당 숫자가 $8$이라면 정답에 $1$을 더하면 되고 아니라면 다음 자리로 넘어가면 된다\n",
    "\n",
    "`-` 그리고 해당 자리의 숫자는 제거했다고 생각하자\n",
    "\n",
    "`-` 만약 두 숫자가 다르다면 두 수 사이에 $8$이 들어가지 않는 숫자가 무조건 존재하므로 탐색을 종료한다\n",
    "\n",
    "`-` 이유는 다음과 같은데, 일단 두 수의 차이가 크면 선택의 기회만 많아지므로 두 수의 차이가 $1$인 경우를 고려하겠다\n",
    "\n",
    "`-` $L$의 맨 앞자리가 $8$이라면 $900$을 선택하면 되고 $R$의 맨 앞자리가 $8$이라면 $799$를 선택하면 되기 때문이다\n",
    "\n",
    "`-` 예컨대 $L=799, R=800$이라면 두 수 사이에 존재하면서 $8$이 들어가지 않는 수로 $799$가 존재한다\n",
    "\n",
    "`-` $L=899, R=900$이어도 $900$을 선택하면 되므로 상관없다\n",
    "\n",
    "`-` 이외의 경우엔 가장 큰 자리에 $8$이 등장하지도 않으므로 고려할 가치가 없다"
   ]
  },
  {
   "cell_type": "code",
   "execution_count": 36,
   "id": "7b03d493-3641-47df-8d88-3cdcf1fc96d8",
   "metadata": {},
   "outputs": [
    {
     "name": "stdin",
     "output_type": "stream",
     "text": [
      " 8808 8880\n"
     ]
    },
    {
     "name": "stdout",
     "output_type": "stream",
     "text": [
      "2\n"
     ]
    }
   ],
   "source": [
    "def solution():\n",
    "    L, R = input().split()\n",
    "    if len(L) != len(R):\n",
    "        print(0)\n",
    "        return\n",
    "    answer = 0\n",
    "    for l, r in zip(L, R):\n",
    "        if l != r:\n",
    "            break\n",
    "        if l != \"8\":\n",
    "            continue\n",
    "        answer += 1\n",
    "    print(answer)\n",
    "\n",
    "\n",
    "solution()\n",
    "\n",
    "# input\n",
    "# 8808 8880"
   ]
  },
  {
   "cell_type": "markdown",
   "id": "bd3577c2-9368-4557-8023-bd4c60b930a3",
   "metadata": {},
   "source": [
    "## 접두사\n",
    "\n",
    "- 문제 출처: [백준 1141번](https://www.acmicpc.net/problem/1141)"
   ]
  },
  {
   "cell_type": "markdown",
   "id": "53f1c970-b54d-49a8-b73b-ef4507f46822",
   "metadata": {},
   "source": [
    "`-` 사전순으로 단어를 정렬한 후 현재 위치한 단어가 다음 순서 단어의 접두사인지 아닌지 확인하면 된다"
   ]
  },
  {
   "cell_type": "code",
   "execution_count": 17,
   "id": "46288899-0416-4139-b272-d6435696b00e",
   "metadata": {},
   "outputs": [
    {
     "name": "stdin",
     "output_type": "stream",
     "text": [
      " 3\n",
      " topcoder\n",
      " topcoder\n",
      " topcoding\n"
     ]
    },
    {
     "name": "stdout",
     "output_type": "stream",
     "text": [
      "2\n"
     ]
    }
   ],
   "source": [
    "def solution():\n",
    "    N = int(input())\n",
    "    words = [input() for _ in range(N)]\n",
    "    words.sort()\n",
    "    answer = N\n",
    "    for i in range(N - 1):\n",
    "        word = words[i]\n",
    "        next_word = words[i + 1]\n",
    "        if next_word.startswith(word):\n",
    "            answer -= 1\n",
    "    print(answer)\n",
    "\n",
    "\n",
    "solution()\n",
    "\n",
    "# input\n",
    "# 3\n",
    "# topcoder\n",
    "# topcoder\n",
    "# topcoding"
   ]
  },
  {
   "cell_type": "markdown",
   "id": "ec011fa4-c6d3-4c11-a97a-1d8e1fe1d0d3",
   "metadata": {},
   "source": [
    "## 뒤집기\n",
    "\n",
    "- 문제 출처: [백준 1439번](https://www.acmicpc.net/problem/1439)"
   ]
  },
  {
   "cell_type": "markdown",
   "id": "2d0d2fb4-e113-4d5b-9232-23b3d6c83410",
   "metadata": {},
   "source": [
    "`-` 같은 숫자로 이루어진 연속된 부분 문자열은 동일한 작업을 수행해야 하므로 사실상 하나의 문자열로 취급된다\n",
    "\n",
    "`-` 동일한 작업을 수행하지 않는 것은 부분 문자열을 쪼개는 행위이다\n",
    "\n",
    "`-` 그런데 모두 같은 숫자로 만들기 위해서는 위에서 쪼갠 문자열을 결국에는 원 상태로 되돌려야 한다\n",
    "\n",
    "`-` 즉, 동일한 작업을 수행해야 최소 횟수인 정답을 도출할 수 있다"
   ]
  },
  {
   "cell_type": "code",
   "execution_count": 9,
   "id": "ccb16a9a-1fc3-4ee5-ae94-22f9e0cb0aa6",
   "metadata": {},
   "outputs": [
    {
     "name": "stdin",
     "output_type": "stream",
     "text": [
      " 11101101\n"
     ]
    },
    {
     "name": "stdout",
     "output_type": "stream",
     "text": [
      "2\n"
     ]
    }
   ],
   "source": [
    "def solution():\n",
    "    S = input()\n",
    "    change_count = 0\n",
    "    S_last = S[0]\n",
    "    for s in S:\n",
    "        if S_last == s:\n",
    "            continue\n",
    "        S_last = s\n",
    "        change_count += 1\n",
    "    answer = (change_count + 1) // 2\n",
    "    print(answer)\n",
    "\n",
    "\n",
    "solution()\n",
    "\n",
    "# input\n",
    "# 11101101"
   ]
  },
  {
   "cell_type": "markdown",
   "id": "91c7430d-a2db-4acf-9c8e-6412e5c2a60a",
   "metadata": {},
   "source": [
    "## 삼각형 만들기\n",
    "\n",
    "- 문제 출처: [백준 1448번](https://www.acmicpc.net/problem/1448)"
   ]
  },
  {
   "cell_type": "markdown",
   "id": "cad086de-e2fa-40ae-bfcb-63e3a6c827ce",
   "metadata": {},
   "source": [
    "`-` 삼각형에서 가장 긴 변의 길이는 나머지 변들의 길이의 합보다 작다\n",
    "\n",
    "`-` 주어진 $N$개의 빨대를 길이를 기준으로 내림차순 정렬하자\n",
    "\n",
    "`-` 가장 긴 빨대의 길이를 $x_1$, 그 다음을 $x_2$, 그 다음을 $x_3$라고 하자\n",
    "\n",
    "`-` 주어진 $N$개의 빨대로 만들 수 있는 삼각형 세 변의 길이의 합의 최댓값은 $x_1+x_2+x_3$이다\n",
    "\n",
    "`-` 그러나 $x_1 \\ge x_2 + x_3$라면 삼각형을 만들 수 없다\n",
    "\n",
    "`-` 이 경우 $x_1$ 길이의 빨대는 삼각형을 구성하는데 사용할 수 없으므로 제외한다\n",
    "\n",
    "`-` 남은 빨대에서 길이를 기준으로 상위 $3$개의 빨대를 선별하고 삼각형이 만들어지는지 확인한다\n",
    "\n",
    "`-` 이를 삼각형이 만들어질 때까지 반복하면 된다"
   ]
  },
  {
   "cell_type": "code",
   "execution_count": 22,
   "id": "684c055d-6445-416e-96ca-72f96f356095",
   "metadata": {},
   "outputs": [
    {
     "name": "stdin",
     "output_type": "stream",
     "text": [
      " 3\n",
      " 2\n",
      " 2\n",
      " 1\n"
     ]
    },
    {
     "name": "stdout",
     "output_type": "stream",
     "text": [
      "5\n"
     ]
    }
   ],
   "source": [
    "def solution():\n",
    "    N = int(input())\n",
    "    lengths = sorted([int(input()) for _ in range(N)], reverse=True)\n",
    "    for i in range(N - 2):\n",
    "        top_1, top_2, top_3 = lengths[i], lengths[i + 1], lengths[i + 2]\n",
    "        if top_1 >= top_2 + top_3:\n",
    "            continue\n",
    "        print(top_1 + top_2 + top_3)\n",
    "        return\n",
    "    print(-1)\n",
    "\n",
    "\n",
    "solution()\n",
    "\n",
    "# input\n",
    "# 3\n",
    "# 2\n",
    "# 2\n",
    "# 1"
   ]
  },
  {
   "cell_type": "markdown",
   "id": "3e0b20b9-d566-42f7-9b8e-97e5a0a00082",
   "metadata": {},
   "source": [
    "## 합\n",
    "\n",
    "- 문제 출처: [백준 1132번](https://www.acmicpc.net/problem/1132)"
   ]
  },
  {
   "cell_type": "markdown",
   "id": "71043268-6ce2-49c9-94dc-c4eabeaa2a90",
   "metadata": {},
   "source": [
    "`-` 숫자가 알파벳으로 표현되어 있어 어떻게 최대합을 구할지 애매해 보인다\n",
    "\n",
    "`-` 하지만 알파벳으로 표현된 숫자는 각 자릿수에 따라 합으로 나타낼 수 있다\n",
    "\n",
    "`-` 예를 들어 입력된 수가 `CBA`라면 이는 사실 `100C + 10B + A`이다\n",
    "\n",
    "`-` N개의 입력에 대해 수를 위와 같은 꼴로 나타내 모두 합한다\n",
    "\n",
    "`-` 그러면 최종 결과는 `xA + yB + ...`이 될 것이다\n",
    "\n",
    "`-` 알파벳 앞의 계수가 가장 큰 것부터 $9$를 부여하면 합의 최댓값이 된다\n",
    "\n",
    "`-` 만약 알파벳이 $10$개인 경우 $0$인 알파벳이 존재한다\n",
    "\n",
    "`-` 이는 문제의 조건에 따라 수의 가장 처음에 주어지지 않은 알파벳 중 계수가 가장 작은 알파벳을 $0$으로 설정하면 된다"
   ]
  },
  {
   "cell_type": "code",
   "execution_count": 1,
   "id": "978d3a05-d3db-4ac1-ae30-8353f194dd3d",
   "metadata": {},
   "outputs": [
    {
     "name": "stdin",
     "output_type": "stream",
     "text": [
      " 1\n",
      " ABCDEFGHIJ\n"
     ]
    },
    {
     "name": "stdout",
     "output_type": "stream",
     "text": [
      "9876543210\n"
     ]
    }
   ],
   "source": [
    "from collections import defaultdict\n",
    "\n",
    "\n",
    "def solution():\n",
    "    N = int(input())\n",
    "    alphabet2count = defaultdict(int)\n",
    "    alphabet2is_zero = {}\n",
    "    for _ in range(N):\n",
    "        num = input()\n",
    "        for i, digit_index in enumerate(range(len(num) - 1, -1, -1)):\n",
    "            digit = num[digit_index]\n",
    "            if i == len(num) - 1:\n",
    "                alphabet2is_zero[digit] = False\n",
    "            alphabet2count[digit] += 10**i\n",
    "    alphabets = sorted(alphabet2count, key=alphabet2count.get, reverse=True)\n",
    "    max_digit = 9\n",
    "    result = 0\n",
    "    should_exist_zero = len(alphabet2count) == 10\n",
    "    if should_exist_zero:\n",
    "        for a in reversed(alphabets):\n",
    "            if a not in alphabet2is_zero:\n",
    "                zero_alphabet = a\n",
    "                break\n",
    "    for a in alphabets:\n",
    "        if should_exist_zero:\n",
    "            if a == zero_alphabet:\n",
    "                continue\n",
    "        result += alphabet2count[a] * max_digit\n",
    "        max_digit -= 1\n",
    "    print(result)\n",
    "\n",
    "\n",
    "solution()\n",
    "\n",
    "# input\n",
    "# 1\n",
    "# ABCDEFGHIJ"
   ]
  },
  {
   "cell_type": "markdown",
   "id": "44739880-462d-47b2-8700-1b767b6ebd60",
   "metadata": {},
   "source": [
    "## 단어 수학\n",
    "\n",
    "- 문제 출처: [백준 1339번](https://www.acmicpc.net/problem/1339)"
   ]
  },
  {
   "cell_type": "markdown",
   "id": "5db238ef-dc1a-4ab5-8743-30bf8d1ae145",
   "metadata": {},
   "source": [
    "`-` [합](https://www.acmicpc.net/problem/1132) 문제를 풀었으면 쉽게 해결할 수 있다"
   ]
  },
  {
   "cell_type": "code",
   "execution_count": 2,
   "id": "6d658b39-95dd-4675-a910-4408a93e2dbf",
   "metadata": {},
   "outputs": [
    {
     "name": "stdin",
     "output_type": "stream",
     "text": [
      " 2\n",
      " AB\n",
      " BA\n"
     ]
    },
    {
     "name": "stdout",
     "output_type": "stream",
     "text": [
      "187\n"
     ]
    }
   ],
   "source": [
    "from collections import defaultdict\n",
    "\n",
    "\n",
    "def update_alphabet2num(alphabet2num, alphabets):\n",
    "    i = 1\n",
    "    for a in alphabets[::-1]:\n",
    "        alphabet2num[a] += i\n",
    "        i *= 10\n",
    "\n",
    "\n",
    "def solution():\n",
    "    N = int(input())\n",
    "    alphabet2num = defaultdict(int)\n",
    "    for _ in range(N):\n",
    "        alphabets = input()\n",
    "        update_alphabet2num(alphabet2num, alphabets)\n",
    "    alphabet_num_pair = sorted(alphabet2num.items(), key=lambda x: -x[1])\n",
    "    answer = 0\n",
    "    i = 9\n",
    "    for alphabet, num in alphabet_num_pair:\n",
    "        answer += num * i\n",
    "        i -= 1\n",
    "    print(answer)\n",
    "\n",
    "\n",
    "solution()\n",
    "\n",
    "# input \n",
    "# 2\n",
    "# AB\n",
    "# BA"
   ]
  },
  {
   "cell_type": "markdown",
   "id": "d1c25491-cf73-4b9e-9eb6-74408f40c64a",
   "metadata": {},
   "source": [
    "## 용액 2\n",
    "\n",
    "- 문제 출처: [백준 32178번](https://www.acmicpc.net/problem/32178)"
   ]
  },
  {
   "cell_type": "markdown",
   "id": "ce635d6c-a248-450e-a549-e648456965fe",
   "metadata": {},
   "source": [
    "`-` 나는 투 포인터 문제겠거니 하고 문제의 알고리즘 분류를 확인했다\n",
    "\n",
    "`-` 그리디, 정렬, 누적 합이 보이고 풀이 방법이 떠올랐다\n",
    "\n",
    "`-` 안 보고 풀어야 되는데 이미 봐서 어쩔 수 없다\n",
    "\n",
    "`-` 일단 임의의 구간 합은 누적 합 배열을 만들어두면 $O(1)$에 확인할 수 있다\n",
    "\n",
    "`-` 가장 중성에 가까운 용액의 특성값을 찾는 방법으론 누적 합 배열에서 두 원소의 차이가 가장 $0$과 가까운 두 원소를 찾는것이 있다\n",
    "\n",
    "`-` 우선 누적 합 배열에 $0$을 추가하자 ($0$번째까지의 누적 합을 나타내기 위함)\n",
    "\n",
    "`-` 가장 가까운 두 원소를 찾기 위해 누적 합 배열을 오름차순 정렬한다\n",
    "\n",
    "`-` 그리고 연속된 두 원소를 모두 탐색하고 $0$과 가장 가까운 두 원소를 정하면 된다\n",
    "\n",
    "`-` 누적 합 배열의 원소를 정렬하면 순서가 보장되지 않을 수 있다\n",
    "\n",
    "`-` $\\operatorname{dp}[n]$을 처음부터 $n$번째까지 특성값들의 합이라고 하고 $\\operatorname{dp}[5]=10, \\operatorname{dp}[8]=-10$이라고 해보자\n",
    "\n",
    "`-` $6$에서 $8$번째까지의 부분 합은 $\\operatorname{dp}[8]-\\operatorname{dp}[5]$이지만 $\\operatorname{dp}[8]$이 더 작으므로 실제로 계산할 땐 $\\operatorname{dp}[5]- \\operatorname{dp}[8]$이 된다\n",
    "\n",
    "`-` 그런데 어차피 $0$까지의 거리를 계산하는 것이고 이를 위해 절댓값을 씌운다\n",
    "\n",
    "`-` 절댓값을 적용하면 둘 다 똑같으므로 상관없다\n",
    "\n",
    "`-` 비교는 절댓값으로 하니 상관없지만 정답을 갱신할 땐 부호를 신경써야 한다\n",
    "\n",
    "`-` 이제 모든 경우의 연속된 두 원소를 탐색하면 정답을 얻을 수 있음을 증명하자\n",
    "\n",
    "`-` 누적 합 배열을 오름차순 정렬했으므로 $a\\le b\\le c\\le d \\cdots \\le z$와 같다\n",
    "\n",
    "`-` 만약 연속되지 않은 두 원소를 $x,y$를 골랐다고 해보자\n",
    "\n",
    "`-` 두 원소 사이에는 $k_x, k_y$가 존재하며 $x\\le k_x \\le \\cdots \\le k_y \\le y$이다\n",
    "\n",
    "`-` 따라서 $x$와 $y$의 차이보다 $x$와 $k_x$ 또는 $y$와 $k_y$의 차이가 더 작으므로 $x,y$는 정답이 될 수 없다\n",
    "\n",
    "`-` 연속된 두 원소로 가능한 경우는 $N$개 존재하므로 탐색의 시간 복잡도는 $O(N)$이다"
   ]
  },
  {
   "cell_type": "code",
   "execution_count": 50,
   "id": "6839b20e-06ba-461f-813e-3ae23c8bb456",
   "metadata": {},
   "outputs": [
    {
     "name": "stdin",
     "output_type": "stream",
     "text": [
      " 4\n",
      " -1 5 7 2\n"
     ]
    },
    {
     "name": "stdout",
     "output_type": "stream",
     "text": [
      "-1\n",
      "1 1\n"
     ]
    }
   ],
   "source": [
    "def solution():\n",
    "    N = int(input())\n",
    "    s_n = list(map(int, input().split()))\n",
    "    prefix_sum = [0 for _ in range(N)]\n",
    "    prefix_sum[0] = s_n[0]\n",
    "    for i in range(1, N):\n",
    "        prefix_sum[i] = s_n[i] + prefix_sum[i - 1]\n",
    "    prefix_sum = [0] + prefix_sum\n",
    "    prefix_sum = [(value, index) for index, value in enumerate(prefix_sum)]\n",
    "    prefix_sum.sort()\n",
    "    answer = 1e10\n",
    "    left = 0\n",
    "    right = N\n",
    "    for i in range(N):\n",
    "        value_left, index_left = prefix_sum[i]\n",
    "        value_right, index_right = prefix_sum[i + 1]\n",
    "        generated_value = value_right - value_left\n",
    "        if abs(generated_value) < abs(answer):\n",
    "            answer = generated_value\n",
    "            if index_left < index_right:\n",
    "                left = index_left + 1\n",
    "                right = index_right\n",
    "            else:\n",
    "                left = index_left\n",
    "                right = index_right + 1\n",
    "                answer *= -1\n",
    "    if left == 0:\n",
    "        left += 1\n",
    "    if right == 0:\n",
    "        right += 1\n",
    "    print(answer)\n",
    "    print(*sorted([left, right]))\n",
    "\n",
    "\n",
    "solution()\n",
    "\n",
    "# input\n",
    "# 4\n",
    "# -1 5 7 2"
   ]
  },
  {
   "cell_type": "markdown",
   "id": "35dd3fa9-4230-4988-a8a3-7f0b79f69cab",
   "metadata": {},
   "source": [
    "## 수 묶기\n",
    "\n",
    "- 문제 출처: [백준 17444번](https://www.acmicpc.net/problem/1744)"
   ]
  },
  {
   "cell_type": "markdown",
   "id": "a1a6c0bf-e18b-4376-a854-9efee026b176",
   "metadata": {},
   "source": [
    "`-` 우선은 배열에 양수만 있다고 가정하자\n",
    "\n",
    "`-` $1$과 임의의 수 $x$를 고려하자\n",
    "\n",
    "`-` 둘을 곱하면 $x$이지만 각각을 더하면 $x+1$이다\n",
    "\n",
    "`-` 따라서 $1$은 곱하는데 사용하는 것보다 더하는게 무조건 이득이다\n",
    "\n",
    "`-` 따라서 $1$은 정답에 더해주고 배열에서 삭제하자\n",
    "\n",
    "`-` $1$보다 큰 수에 대해선 더하는 것보다 곱하는게 낫다\n",
    "\n",
    "`-` $xy \\ge x+y \\Longrightarrow 1 \\ge \\frac{1}{x} + \\frac{1}{y}$\n",
    "\n",
    "`-` $\\frac{1}{x} + \\frac{1}{y}$는 감소 함수이며 $x=2,y=2$일 때 등호가 성립한다\n",
    "\n",
    "`-` 따라서 이보다 더 큰 값에 대해선 부등식이 성립한다\n",
    "\n",
    "`-` 만약 배열에 홀수개의 원소가 있다면 가장 작은 원소는 더하고 나머지끼리 곱하는게 이득이다\n",
    "\n",
    "`-` 가장 작은 수를 $a$, $a$와 곱할 원소를 $x$, 홀로 남아 더해질 수를 $y$라고 하자\n",
    "\n",
    "`-` $a$를 곱하는데 사용하면 $ax + y$가 되고 $a$를 더하는데 사용하면 $xy + a$가 된다\n",
    "\n",
    "`-` $x > 1$이고 $y\\ge a$이므로 $x(y-a) \\ge y- a$이다\n",
    "\n",
    "`-` 따라서 $xy+a \\ge ax+y$이므로 가장 작은 수는 더하는데 사용하는게 이득이다\n",
    "\n",
    "`-` 이제 배열에 짝수개의 원소가 있다고 해보자\n",
    "\n",
    "`-` 가장 큰 수 $a$와 그 다음으로 큰 수 $b$를 고려하자\n",
    "\n",
    "`-` 그럼 $a$와 $b$끼리 곱하는게 이득이다\n",
    "\n",
    "`-` 둘끼리 곱하지 않고 $a$는 $x$와 $b$는 $y$와 곱하는게 더 이득이라고 해보자\n",
    "\n",
    "`-` 그런데 $b\\ge x$이고 $a \\ge y$이므로 $a(b-x) \\ge y( b- x)$이고 $ab + xy\\ge ax + by$이다\n",
    "\n",
    "`-` 따라서 가장 큰 두 수를 곱하는게 이득이다\n",
    "\n",
    "`-` 이제 음수를 고려하자\n",
    "\n",
    "`-` 음수와 양수를 곱하는 건 손해이다\n",
    "\n",
    "`-` 음수가 짝수개 있다면 서로를 곱하는게 이득이며 이때 절댓값이 큰 두 음수끼리 곱해나가야 이득이다\n",
    "\n",
    "`-` 음수가 홀수개 있다면 절댓값이 가장 작은 음수를 더하고 나머지에 대해 곱하자\n",
    "\n",
    "`-` 배열에 있는 $0$은 기본적으로 더하되 음수가 홀수개 있다면 절댓값이 가장 작은 음수와 곱하는게 이득이다\n",
    "\n",
    "`-` $n=1$인 케이스에서 print가 아니라 return을 사용해서 30분 삽질함 (너무 힘들었음)\n",
    "\n",
    "`-` `94%`에서 틀린거 보고 알았어야 했는데..."
   ]
  },
  {
   "cell_type": "code",
   "execution_count": 98,
   "id": "8147fd65-af76-4006-93d1-6726b24e90dc",
   "metadata": {},
   "outputs": [
    {
     "name": "stdin",
     "output_type": "stream",
     "text": [
      " 3\n",
      " -1\n",
      " 0\n",
      " 1\n"
     ]
    },
    {
     "name": "stdout",
     "output_type": "stream",
     "text": [
      "1\n"
     ]
    }
   ],
   "source": [
    "def find_first_positive(sorted_array):\n",
    "    for i, a in enumerate(sorted_array):\n",
    "        if a > 0:\n",
    "            return i\n",
    "\n",
    "\n",
    "def bind_positives(positives):\n",
    "    total = 0\n",
    "    n = len(positives)\n",
    "    if n <= 1:\n",
    "        return sum(positives)\n",
    "    positives.sort()\n",
    "    if n % 2 == 1:\n",
    "        total += positives.pop(0)\n",
    "    while positives:\n",
    "        big = positives.pop()\n",
    "        small = positives.pop()\n",
    "        if small <= 1:\n",
    "            total += big + small\n",
    "            continue\n",
    "        total += big * small\n",
    "    return total\n",
    "\n",
    "\n",
    "def bind_negatives(negatives):\n",
    "    total = 0\n",
    "    n = len(negatives)\n",
    "    if n <= 1:\n",
    "        return sum(negatives)\n",
    "    while len(negatives) >= 2:\n",
    "        small = negatives.pop(0)\n",
    "        big = negatives.pop(0)\n",
    "        total += big * small\n",
    "    total += sum(negatives)\n",
    "    return total\n",
    "\n",
    "\n",
    "def solution():\n",
    "    N = int(input())\n",
    "    a_n = [int(input()) for _ in range(N)]\n",
    "    if N == 1:\n",
    "        print(a_n[0])\n",
    "        return\n",
    "    a_n.sort()\n",
    "    if a_n[0] <= 0 and a_n[N - 1] > 0:\n",
    "        i = find_first_positive(a_n)\n",
    "        positives = a_n[i:]\n",
    "        negatives = a_n[:i]  # 0 포함\n",
    "    elif a_n[0] > 0 and a_n[N - 1] > 0:\n",
    "        positives = a_n\n",
    "        negatives = []  # 0 포함\n",
    "    else:\n",
    "        positives = []\n",
    "        negatives = a_n  # 0 포함\n",
    "    answer = bind_positives(positives) + bind_negatives(negatives)\n",
    "    print(answer)\n",
    "\n",
    "\n",
    "solution()\n",
    "\n",
    "# input\n",
    "# 3\n",
    "# -1\n",
    "# 0\n",
    "# 1"
   ]
  },
  {
   "cell_type": "markdown",
   "id": "9192a22c-35ce-4d3f-a0d5-710f0986f756",
   "metadata": {},
   "source": [
    "## 구두 수선공\n",
    "\n",
    "- 문제 출처: [백준 14908번](https://www.acmicpc.net/problem/14908)"
   ]
  },
  {
   "cell_type": "markdown",
   "id": "73cbb81b-e633-454d-b020-37aa1f9b4c5e",
   "metadata": {},
   "source": [
    "`-` 단계별로 풀어보기 중 그리디에 있는 문제이다\n",
    "\n",
    "`-` 단계별로 풀어보기에 등재된 문제는 문제의 핵심 태그와 간략한 접근법이 적혀있기도 해서 문제 해결이 쉬워진다\n",
    "\n",
    "`-` 이 문제의 핵심 태그는 그리디이고 간략한 접근법엔 `exchange argument 연습 문제 1`이라고 적혀있다 (근데 저게 뭔지는 모름)\n",
    "\n",
    "`-` 이 문제가 아니더라도 단계별로 풀어보기에 등재된 문제를 해결할 땐 핵심 태그와 간략한 접근법을 확인하니 읽는 사람은 인지하면 좋다 (아무런 정보 없이 푼 게 아니다)\n",
    "\n",
    "`-` 특정 작업을 수행한다는 것은 해당 작업을 제외한 나머지 작업의 보상금을 지불한다는 의미다\n",
    "\n",
    "`-` 보상금을 적게 줄려면 손실이 가장 적은 작업을 먼저 수행해야 한다\n",
    "\n",
    "`-` 즉, 작업을 수행해서 나머지 작업에 대한 보상금을 지불해야 될 때 이를 최소로 하는 작업을 먼저 수행해야 한다\n",
    "\n",
    "`-` $x, y, D$ 순서가 있다고 해보자 ($D$는 그룹)\n",
    "\n",
    "`-` 그런데 초기 상태에서 $y$를 먼저 수행하는게 보상금을 덜 지불한다고 해보자\n",
    "\n",
    "`-` 그럼 $y$랑 $x$를 바꾸는게 최적이 된다\n",
    "\n",
    "`-` $D$는 어차피 $x$와 $y$를 만드는 동안 기다려야하니 $x, y$의 순서가 바뀌어도 상관 없다\n",
    "\n",
    "`-` 초기 상태에서 $x$를 먼저하는건 $y, D$의 보상금을 지불하는 것이고 $y$를 먼저하는건 $x, D$의 보상금을 지불하는 것이다\n",
    "\n",
    "`-` 그런데 $D$는 공통이므로 제외해도 된다\n",
    "\n",
    "`-` 그런데 $y$를 먼저 수행하는게 보상금을 덜 지불하므로 이는 $x$의 보상금이 더 크다는 뜻이다\n",
    "\n",
    "`-` 따라서 $y$를 먼저하는게 맞다\n",
    "\n",
    "`-` 이를 모든 인접한 원소에 대해 원하는만큼 적용할 수 있는데 그러면 결과적으로 처음의 명제가 성립한다\n",
    "\n",
    "`-` 정확히 말하자면 나머지 작업에 대한 보상금 지불이 아닌 다음 작업에 대한 보상금 지불이다\n",
    "\n",
    "`-` 왜냐하면 $x, y, D$이든 $y, x, D$이든 $D$에 대한 보상금 지불은 공통이다\n",
    "\n",
    "`-` 따라서 $x, y$가 나은지 $y, x$가 나은지만 판단하면 된다\n",
    "\n",
    "`-` 처음에 오름차순으로 배치를 한 뒤 인접한 원소마다 순서를 바꾸는게 더 나은지 아닌지 판단하고 더 낫다면 순서를 바꾼다\n",
    "\n",
    "`-` 이를 한 사이클 반복하면 가장 뒤에 배치된 작업은 고정된다\n",
    "\n",
    "`-` 이를 $N-1$번 반복하면 된다\n",
    "\n",
    "`-` $x, y, D$ 순서에서 $D$는 영향 안 받으니 $x, y$만 비교하는 것이다\n",
    "\n",
    "`-` 왜 `exchange argument`인지 알 것 같다\n",
    "\n",
    "`-` 시간 복잡도는 $O\\left(N^2\\right)$이다"
   ]
  },
  {
   "cell_type": "code",
   "execution_count": 1,
   "id": "fffad93f-ff03-40ee-a78e-4f081dd0e709",
   "metadata": {},
   "outputs": [
    {
     "name": "stdin",
     "output_type": "stream",
     "text": [
      " 4\n",
      " 3 4\n",
      " 1 1000\n",
      " 2 2\n",
      " 5 5\n"
     ]
    },
    {
     "name": "stdout",
     "output_type": "stream",
     "text": [
      "2 1 3 4\n"
     ]
    }
   ],
   "source": [
    "def solution():\n",
    "    N = int(input())\n",
    "    durations = [0]\n",
    "    compensations = [0]\n",
    "    for _ in range(N):\n",
    "        t, s = map(int, input().split())\n",
    "        durations.append(t)\n",
    "        compensations.append(s)\n",
    "    order = list(range(1, N + 1))\n",
    "    for i in range(N - 1, 0, -1):\n",
    "        for j in range(i):\n",
    "            w1 = order[j]\n",
    "            w2 = order[j + 1]\n",
    "            if durations[w2] * compensations[w1] < durations[w1] * compensations[w2]:\n",
    "                order[j], order[j + 1] = order[j + 1], order[j]\n",
    "    print(*order)\n",
    "\n",
    "\n",
    "solution()\n",
    "\n",
    "# input\n",
    "# 4\n",
    "# 3 4\n",
    "# 1 1000\n",
    "# 2 2\n",
    "# 5 5"
   ]
  },
  {
   "cell_type": "markdown",
   "id": "0b1555da-e128-48f3-be1e-099184c57880",
   "metadata": {},
   "source": [
    "## 소가 길을 건너간 이유 4\n",
    "\n",
    "- 문제 출처: [백준 14464번](https://www.acmicpc.net/problem/14464)"
   ]
  },
  {
   "cell_type": "markdown",
   "id": "480e870e-5778-4ca1-bb89-e7c29849850d",
   "metadata": {},
   "source": [
    "`-` 단계별로 풀어보기 중 그리디에 있는 문제이다\n",
    "\n",
    "`-` 특별한 조건이 주어진 이분 매칭이라고 한다 (이분 매칭이 뭔데)\n",
    "\n",
    "`-` $j$번 소가 $i$번 닭의 도움을 받아 건너려면 $A_j \\le T_i \\le B_j$여야 한다\n",
    "\n",
    "`-` $1$마리의 소만 도움 가능하고 소는 $1$번만 도움받을 수 있다\n",
    "\n",
    "`-` 즉 일대일 매칭이다\n",
    "\n",
    "`-` 최상의 결과는 모든 닭이 도움을 주는 것이며 이때의 정답은 $C$이다\n",
    "\n",
    "`-` 각 닭에 대해 도움을 줄 수 있는 소를 골라내고 그 중 한 마리한테 도움을 주면 된다\n",
    "\n",
    "`-` $T$를 오름차순 정렬하고 $A$ 기준으로 오름차순 정렬하자\n",
    "\n",
    "`-` $A_j \\le T_i$일 때까지 pop을 하자 (소를 도울 수 있는 여지가 있다)\n",
    "\n",
    "`-` 여기서 $T_i \\le B_j$이면 합격이고 아니면 버리자 \n",
    "\n",
    "`-` 해당 소에게 도움을 줄 수 있는 닭은 없다\n",
    "\n",
    "`-` $T$를 기준으로 오름차순 정렬했으므로 진행함에 따라 $T$가 더 커진다\n",
    "\n",
    "`-` 해당 $T$를 $x$라 할 때 $x$가 도움을 줄 수 있으면 현재의 $T$도 도움 가능 ($T <= x$)\n",
    "\n",
    "`-` 따라서 어떤 소를 도운다면 $B$가 가장 작은 소를 도우는게 이득이다\n",
    "\n",
    "`-` 기준을 충족하는 소를 $B$를 기준으로 최소 힙에 넣자\n",
    "\n",
    "`-` 그리고 최솟값을 pop하자\n",
    "\n",
    "`-` 다음 닭에 대해 가능한 소를 pop해서 조건 만족하면 heap에 넣고 최솟값을 pop하자\n",
    "\n",
    "`-` 모든 닭에 대해 반복하면 된다\n",
    "\n",
    "`-` 이거 그냥 [보석 도둑](https://www.acmicpc.net/problem/1202)과 유사한 문제이다\n",
    "\n",
    "`-` 시간 복잡도는 $O(N\\log N + C\\log C)$이다\n",
    "\n",
    "`-` 소는 내림차순 정렬하고 끝에서 pop하자\n",
    "\n",
    "`-` 계속 틀려서 반례 보고 풀었다"
   ]
  },
  {
   "cell_type": "code",
   "execution_count": 1,
   "id": "26335ae5-b544-4344-afa3-731a4cd4390c",
   "metadata": {},
   "outputs": [
    {
     "name": "stdin",
     "output_type": "stream",
     "text": [
      " 5 4\n",
      " 7\n",
      " 8\n",
      " 6\n",
      " 2\n",
      " 9\n",
      " 2 5\n",
      " 4 9\n",
      " 0 3\n",
      " 8 13\n"
     ]
    },
    {
     "name": "stdout",
     "output_type": "stream",
     "text": [
      "3\n"
     ]
    }
   ],
   "source": [
    "import heapq\n",
    "\n",
    "\n",
    "def solution():\n",
    "    C, N = map(int, input().split())\n",
    "    chickens = sorted([int(input()) for _ in range(C)])\n",
    "    cows = [list(map(int, input().split())) for _ in range(N)]\n",
    "    cows.sort(key=lambda x: (-x[0], -x[1]))\n",
    "    heap = []\n",
    "    count = 0\n",
    "    for t in chickens:\n",
    "        while cows:\n",
    "            a, b = cows[-1]\n",
    "            if b < t:\n",
    "                cows.pop()\n",
    "                continue\n",
    "            if a <= t:\n",
    "                cows.pop()\n",
    "                heapq.heappush(heap, b)\n",
    "            else:\n",
    "                break\n",
    "        while heap:\n",
    "            b = heapq.heappop(heap)\n",
    "            if t <= b:\n",
    "                count += 1\n",
    "                break\n",
    "    print(count)\n",
    "\n",
    "\n",
    "solution()\n",
    "\n",
    "# input\n",
    "# 5 4\n",
    "# 7\n",
    "# 8\n",
    "# 6\n",
    "# 2\n",
    "# 9\n",
    "# 2 5\n",
    "# 4 9\n",
    "# 0 3\n",
    "# 8 13"
   ]
  },
  {
   "cell_type": "markdown",
   "id": "f586e462-fce4-42da-a793-9502d320acf0",
   "metadata": {},
   "source": [
    "## 큰 수 만들기\n",
    "\n",
    "- 문제 출처: [백준 16496번](https://www.acmicpc.net/problem/16496)"
   ]
  },
  {
   "cell_type": "markdown",
   "id": "adf531ac-2741-4e97-9c74-3a17be6e2ee9",
   "metadata": {},
   "source": [
    "`-` `exchage argument` 문제이다\n",
    "\n",
    "`-` [구두 수선공](https://www.acmicpc.net/problem/14908) 문제를 해결했다면 이 문제도 풀 수 있다\n",
    "\n",
    "`-` 나열된 숫자 $a b D$를 고려하자 ($D$는 나열된 숫자 그룹)\n",
    "\n",
    "`-` $ab$가 $ba$보다 커야 정답이다\n",
    "\n",
    "`-` 이것이 모든 인접한 원소에 대해 성립하면 정답이다\n",
    "\n",
    "`-` 만약 이게 아니라고 해보자\n",
    "\n",
    "`-` 즉 $a b D$가 정답인데 $ba$가 $ab$보다 크다 해보자\n",
    "\n",
    "`-` $abD$나 $baD$나 $a,b$의 자릿수 합은 같으므로 $D$에는 영향을 안준다 (애초에 $D$가 일의 자리부터 시작이라 자릿수 합 달라도 영향 안준다)\n",
    "\n",
    "`-` $ab$가 더 크므로 $abD$가 $baD$보다 크다\n",
    "\n",
    "`-` 이를 인접한 원소에 대해 반복적으로 적용하면 된다\n",
    "\n",
    "`-` 큰 원소를 앞으로 보내자\n",
    "\n",
    "`-` 한 사이클 돌리면 맨 앞의 원소는 고정이다\n",
    "\n",
    "`-` 이를 $N-1$번 반복하면 최적의 값이다 \n",
    "\n",
    "`-` 정답이 $0$으로 시작하면 앞에 있는 $0$을 제거하자\n",
    "\n",
    "`-` 단, 모든 원소가 $0$이면 $0$이 정답이다\n",
    "\n",
    "`-` 원소의 최댓값은 $10^9$이니 자릿수를 $d$라 하면 $d$는 최대 $10$이다\n",
    "\n",
    "`-` 두 원소의 크기 비교를 위해 문자를 결합하는데 $O(d)$이고 이걸 한 사이클 당 $O(N)$번 반복한다\n",
    "\n",
    "`-` 총 사이클은 $N-1$번이므로 전체 알고리즘의 시간 복잡도는 $O\\left(dN^2\\right)$이다"
   ]
  },
  {
   "cell_type": "code",
   "execution_count": 1,
   "id": "bf95de40-b3bb-466a-bb0a-83aaa2a1217a",
   "metadata": {},
   "outputs": [
    {
     "name": "stdin",
     "output_type": "stream",
     "text": [
      " 5\n",
      " 3 30 34 5 9\n"
     ]
    },
    {
     "name": "stdout",
     "output_type": "stream",
     "text": [
      "9534330\n"
     ]
    }
   ],
   "source": [
    "def compare(left, right):\n",
    "    s1 = int(left + right)\n",
    "    s2 = int(right + left)\n",
    "    return s2 > s1\n",
    "\n",
    "\n",
    "def solution():\n",
    "    N = int(input())\n",
    "    array = list(input().split())\n",
    "    for i in range(N - 1):\n",
    "        for j in range(N - 1, 0, -1):\n",
    "            left, right = array[j - 1], array[j]\n",
    "            if compare(left, right):\n",
    "                array[j], array[j - 1] = array[j - 1], array[j]\n",
    "    while array and array[0] == \"0\":\n",
    "        array.pop(0)\n",
    "    if not array:\n",
    "        print(0)\n",
    "        return\n",
    "    print(\"\".join(array))\n",
    "\n",
    "\n",
    "solution()\n",
    "\n",
    "# input\n",
    "# 5\n",
    "# 3 30 34 5 9"
   ]
  },
  {
   "cell_type": "markdown",
   "id": "8044ab39-a5d6-4927-9611-f593df1cb219",
   "metadata": {},
   "source": [
    "## 소방서의 고민\n",
    "\n",
    "- 문제 출처: [백준 2180번](https://www.acmicpc.net/problem/2180)"
   ]
  },
  {
   "cell_type": "markdown",
   "id": "e0dc5316-0e2a-4ff7-9ed9-7b639623d3d5",
   "metadata": {},
   "source": [
    "`-` [구두 수선공](https://www.acmicpc.net/problem/14908), [큰 수 만들기](https://www.acmicpc.net/problem/16496) 문제와 같은 `exchage argument` 문제이다\n",
    "\n",
    "`-` $x y D$ 배치라면 그룹 $D$의 입장에선 $x y$이든 $y x$이든 $t$는 동일하다\n",
    "\n",
    "`-` $x y$와 $y x$ 중 $at + b$가 더 작은 결과를 사용해야 된다\n",
    "\n",
    "`-` $x y \\to a_yb_x+b_y$, $y x \\to a_xb_y+b_x$\n",
    "\n",
    "`-` 최종적으로 순서를 정한 뒤 시간을 합산하면 되며 이는 $O(n)$의 시간 복잡도를 가진다\n",
    "\n",
    "`-` 먼저 처리해도 되는 걸 앞으로 계속 보내겠다\n",
    "\n",
    "`-` 이걸 $n-1$번 반복하면 정렬된다\n",
    "\n",
    "`-` 그럼 순서를 정하는데 $O\\left(n^2\\right)$이다\n",
    "\n",
    "`-` 생각해보니까 $n \\le 200000$이므로 $O\\left(n^2\\right)$ 알고리즘은 시간 초과이다\n",
    "\n",
    "`-` 내가 원하는건 정렬이다\n",
    "\n",
    "`-` 굳이 정렬을 $O\\left(n^2\\right)$에 할 필요 없이 $O(n\\log n)$ 알고리즘 사용해서 하면 된다\n",
    "\n",
    "`-` 내장 함수 쓰면 되고 정렬 기준만 내가 만든 compare 함수를 사용하면 된다\n",
    "\n",
    "`-` 일반적인 수 정렬은 수의 크기 비교지만 여기선 다른 대소관계를 정의했다 (비교 대상에 따라 크기가 달라짐)\n",
    "\n",
    "`-` 만약 $b$가 $0$이라면 $at + b =0$이므로 해당 화재를 처음에 진압해서 손해 없이 다른 화재 현장으로 이동할 수 있다"
   ]
  },
  {
   "cell_type": "code",
   "execution_count": 2,
   "id": "6607553b-ae7c-40d5-adcc-ea8a70523de8",
   "metadata": {},
   "outputs": [
    {
     "name": "stdin",
     "output_type": "stream",
     "text": [
      " 3\n",
      " 2 0\n",
      " 1 2\n",
      " 0 3\n"
     ]
    },
    {
     "name": "stdout",
     "output_type": "stream",
     "text": [
      "5\n"
     ]
    }
   ],
   "source": [
    "from functools import cmp_to_key\n",
    "\n",
    "\n",
    "def compare(accident_left, accident_right):\n",
    "    a_left, b_left = accident_left\n",
    "    a_right, b_right = accident_right\n",
    "    t_left_right = b_left + a_right * b_left + b_right\n",
    "    t_right_left = b_right + a_left * b_right + b_left\n",
    "    if t_left_right < t_right_left:\n",
    "        return -1\n",
    "    if t_left_right > t_right_left:\n",
    "        return 1\n",
    "    return 0\n",
    "    \n",
    "\n",
    "def accumulate_time(accidents):\n",
    "    t = 0\n",
    "    for a, b in accidents:\n",
    "        t += a * t + b\n",
    "        t %= MOD\n",
    "    return t\n",
    "\n",
    "\n",
    "def solution():\n",
    "    global MOD\n",
    "    n = int(input())\n",
    "    MOD = 40000\n",
    "    accidents = []\n",
    "    for _ in range(n):\n",
    "        a, b = map(int, input().split())\n",
    "        if b == 0:\n",
    "            continue\n",
    "        accidents.append([a, b])\n",
    "    accidents.sort(key=cmp_to_key(compare))\n",
    "    total_time = accumulate_time(accidents)\n",
    "    print(total_time)\n",
    "\n",
    "\n",
    "solution()\n",
    "\n",
    "# input\n",
    "# 3\n",
    "# 2 0\n",
    "# 1 2\n",
    "# 0 3"
   ]
  },
  {
   "cell_type": "markdown",
   "id": "d19f5ab3-ca41-4f31-b572-d3cacf9e891f",
   "metadata": {},
   "source": [
    "## 쿼리와 쿼리\n",
    "\n",
    "- 문제 출처: [백준 17082번](https://www.acmicpc.net/problem/17082)"
   ]
  },
  {
   "cell_type": "markdown",
   "id": "2d22c896-32f2-4e2a-97d8-0e267b3e6a52",
   "metadata": {},
   "source": [
    "`-` $L > R$이면 나머지 쿼리 놀이와 상관없이 최댓값은 $10^9$으로 고정이라 이런 상황을 최대한 피해야 된다\n",
    "\n",
    "`-` 종이에 적힌 수 $M$개 중 최댓값은 $M$개 쿼리 놀이에서 선택된 범위를 모두 합친 후 해당 영역에서 계산한 최댓값과 같다\n",
    "\n",
    "`-` 범위를 최대로 줄이기 위해 수열 $l$과 $r$을 오름차순 정렬하고 동일한 인덱스의 $l_i$와 $r_i$를 쿼리 게임으로 고르면 된다\n",
    "\n",
    "`-` 어차피 모든 $l_i$에 대해 $r_j$를 매칭해야 된다\n",
    "\n",
    "`-` $l_i$에 $r_j$를 매칭했는데 $r_j$보다 작은 $r_k$가 존재하면 $r_j$ 대신 $r_k$를 매칭해야 범위가 줄어들 수 있어서 이득이다\n",
    "\n",
    "`-` 이제 $a_i$에서 고려할 인덱스 $i$가 고정된다\n",
    "\n",
    "`-` 최대힙에 원소랑 인덱스랑 같이 넣는다 \n",
    "\n",
    "`-` 두 원소를 교환할 때마다 교환된 결과를 최대힙에 넣는다\n",
    "\n",
    "`-` 최댓값을 판단할 때 힙의 최댓값의 인덱스와 원소가 현재 수열에서 일치하는지 판단한다\n",
    "\n",
    "`-` 일치하면 괜찮고 아니라면 pop한다 \n",
    "\n",
    "`-` 일치할 때까지 반복한다\n",
    "\n",
    "`-` 인덱스 고르는게 문제인게 단순하게 하면 최악의 경우 $O(NM)$이다\n",
    "\n",
    "`-` 분리집합으로 관리하면 될 듯하다\n",
    "\n",
    "`-` 아니다, 굳이 분리집합 쓸 필요없이 스위핑으로 하면 될 것 같다\n",
    "\n",
    "`-` 가장 작은 첫 번째 $l_1$과 $r_1$부터 고르게 된다\n",
    "\n",
    "`-` 그 다음 $l_2$에 대해 $l_2 > r_1$이면 $[l_2, r_2]$는 더 이상 $[l_1, r_1]$과 겹칠 수 없다\n",
    "\n",
    "`-` 만약 $l_2 \\le r_1$이면 오른쪽 인덱스를 $r_1$에서 $r_2$로 바꾸면 된다\n",
    "\n",
    "`-` 즉, $r_1 + 1$부터 $r_2$까지 범위에 추가하면 된다\n",
    "\n",
    "`-` 최종적으로 선택된 범위만 고려하면 된다 (나머지는 필요없다)\n",
    "\n",
    "`-` 범위 선택은 $O(N+M)$이고 범위 안에 있는 원소를 힙에 추가하는 건 $O(N\\log N)$이다\n",
    "\n",
    "`-` 참고로 범위 선택 중 $L > R$인 경우가 나오면 모든 쿼리에서 최댓값은 $10^9$으로 고정된다 (원소만 바꿀 수 있지 인덱스를 바꿀 수는 없다)"
   ]
  },
  {
   "cell_type": "code",
   "execution_count": 8,
   "id": "269d6a83-89b0-4fc2-86c1-a70b8ce3a6bb",
   "metadata": {},
   "outputs": [
    {
     "name": "stdin",
     "output_type": "stream",
     "text": [
      " 5 2 3\n",
      " -2 0 1 2 -1\n",
      " 1 2\n",
      " 4 2\n",
      " 2 3\n"
     ]
    },
    {
     "name": "stdout",
     "output_type": "stream",
     "text": [
      "2\n"
     ]
    },
    {
     "name": "stdin",
     "output_type": "stream",
     "text": [
      " 4 5\n"
     ]
    },
    {
     "name": "stdout",
     "output_type": "stream",
     "text": [
      "1\n"
     ]
    },
    {
     "name": "stdin",
     "output_type": "stream",
     "text": [
      " 1 5\n"
     ]
    },
    {
     "name": "stdout",
     "output_type": "stream",
     "text": [
      "2\n"
     ]
    }
   ],
   "source": [
    "import heapq\n",
    "\n",
    "\n",
    "def sweeping(left, right):\n",
    "    indices = []\n",
    "    has_inversion = False\n",
    "    if left[0] > right[0]:\n",
    "        has_inversion = True\n",
    "        return indices, has_inversion\n",
    "    for j in range(left[0], right[0] + 1):\n",
    "        indices.append(j)\n",
    "    for i, (l, r) in enumerate(zip(left[1:], right[1:]), start=1):\n",
    "        if l > r:\n",
    "            has_inversion = True\n",
    "            break\n",
    "        if l > right[i - 1]:\n",
    "            start = l\n",
    "        else:\n",
    "            start = right[i - 1] + 1\n",
    "        for j in range(start, r + 1):\n",
    "            indices.append(j)\n",
    "    return indices, has_inversion\n",
    "\n",
    "\n",
    "def query(array, i, j, indices, max_heap):\n",
    "    array[i], array[j] = array[j], array[i]\n",
    "    if i in indices:\n",
    "        heapq.heappush(max_heap, (-array[i], i))\n",
    "    if j in indices:\n",
    "        heapq.heappush(max_heap, (-array[j], j))\n",
    "    while array[max_heap[0][INDEX]] != -max_heap[0][VALUE]:\n",
    "        heapq.heappop(max_heap)\n",
    "    print(-max_heap[0][VALUE])\n",
    "\n",
    "\n",
    "def solution():\n",
    "    global VALUE, INDEX\n",
    "    N, M, Q = map(int, input().split())\n",
    "    VALUE, INDEX = 0, 1\n",
    "    array = list(map(int, input().split()))\n",
    "    left = sorted(map(lambda x: int(x) - 1, input().split()))\n",
    "    right = sorted(map(lambda x: int(x) - 1, input().split()))\n",
    "    indices, has_inversion = sweeping(left, right)\n",
    "    if has_inversion:\n",
    "        for _ in range(Q):\n",
    "            print(10**9)\n",
    "        return\n",
    "    max_heap = []\n",
    "    for i in indices:\n",
    "        heapq.heappush(max_heap, (-array[i], i))\n",
    "    indices = set(indices)\n",
    "    for _ in range(Q):\n",
    "        i, j = map(lambda x: int(x) - 1, input().split())\n",
    "        query(array, i, j, indices, max_heap)\n",
    "\n",
    "\n",
    "solution()\n",
    "\n",
    "# input\n",
    "# 5 2 3\n",
    "# -2 0 1 2 -1\n",
    "# 1 2\n",
    "# 4 2\n",
    "# 2 3\n",
    "# 4 5\n",
    "# 1 5"
   ]
  },
  {
   "cell_type": "markdown",
   "id": "f5c784d6-ff8e-4762-893b-809e8a618305",
   "metadata": {},
   "source": [
    "## 숫자의 신\n",
    "\n",
    "- 문제 출처: [백준 1422번](https://www.acmicpc.net/problem/1422)"
   ]
  },
  {
   "cell_type": "markdown",
   "id": "fc558c09-f259-4a41-9c7b-5c09705bde0c",
   "metadata": {},
   "source": [
    "`-` 사용할 $N$개의 수 중 $K$개는 문제 조건에 따라 배열의 수를 하나씩 사용해야 한다\n",
    "\n",
    "`-` 나머지 $N - K$개로 어떤 수를 뽑아서 사용할지 생각해보자\n",
    "\n",
    "`-` 일단 자릿수가 커야 좋다\n",
    "\n",
    "`-` 자릿수가 동일하다고 해보자\n",
    "\n",
    "`-` 그럼 수가 더 클수록 좋다\n",
    "\n",
    "`-` 동일한 자릿수의 수들인 $x,y$에 대해 $x > y$라고 하자\n",
    "\n",
    "`-` $y$를 사용하여 만든 수에서 $y$를 $x$로 대체하면 기존보다 더 큰 수를 만들 수 있으므로 $x$를 사용해야 한다\n",
    "\n",
    "`-` 자릿수가 크면서 수의 값도 큰 것은 단순히 수의 값이 큰 것과 동일하다\n",
    "\n",
    "`-` 배열에서 가장 큰 수를 $N - K + 1$개 사용하고 배열의 나머지 $K - 1$개의 수를 하나씩 사용하여 가장 큰 수를 만들어보자\n",
    "\n",
    "`-` 눈치챘겠지만 `exchange argument` 문제이다\n",
    "\n",
    "`-` 두 정수형 문자 $a,b$에 대해 $a + b$와 $b + a$중 정수로 변환했을 때 더 큰 값의 순서를 따라야 한다\n",
    "\n",
    "`-` 즉, $a + b$를 정수로 변환한 것이 $b + a$를 정수로 변환한 것보다 크다면 $a$가 $b$보다 앞서야 한다   \n",
    "\n",
    "`-` 정렬을 수행한 뒤 이들을 순서대로 연결하면 가장 큰 수를 얻을 수 있다"
   ]
  },
  {
   "cell_type": "code",
   "execution_count": 2,
   "id": "dc46a0a6-e918-4692-9891-32ef9d0b1113",
   "metadata": {},
   "outputs": [
    {
     "name": "stdin",
     "output_type": "stream",
     "text": [
      " 3 4\n",
      " 1\n",
      " 10\n",
      " 100\n"
     ]
    },
    {
     "name": "stdout",
     "output_type": "stream",
     "text": [
      "110100100\n"
     ]
    }
   ],
   "source": [
    "from functools import cmp_to_key\n",
    "\n",
    "\n",
    "def compare(a, b):\n",
    "    ab = int(a + b)\n",
    "    ba = int(b + a)\n",
    "    if ab > ba:\n",
    "        return 1\n",
    "    if ab < ba:\n",
    "        return -1\n",
    "    return 0\n",
    "\n",
    "\n",
    "def solution():\n",
    "    K, N = map(int, input().split())\n",
    "    array = [input() for _ in range(K)]\n",
    "    array.extend([max(array, key=int)] * (N - K))\n",
    "    array.sort(key=cmp_to_key(compare), reverse=True)\n",
    "    max_ = int(\"\".join(array))\n",
    "    print(max_)\n",
    "\n",
    "\n",
    "solution()\n",
    "\n",
    "# input\n",
    "# 3 4\n",
    "# 1\n",
    "# 10\n",
    "# 100"
   ]
  },
  {
   "cell_type": "code",
   "execution_count": null,
   "id": "e3f84671-aaad-42df-9bf2-8d287de1f152",
   "metadata": {},
   "outputs": [],
   "source": []
  }
 ],
 "metadata": {
  "kernelspec": {
   "display_name": "Python 3 (ipykernel)",
   "language": "python",
   "name": "python3"
  },
  "language_info": {
   "codemirror_mode": {
    "name": "ipython",
    "version": 3
   },
   "file_extension": ".py",
   "mimetype": "text/x-python",
   "name": "python",
   "nbconvert_exporter": "python",
   "pygments_lexer": "ipython3",
   "version": "3.8.11"
  }
 },
 "nbformat": 4,
 "nbformat_minor": 5
}
