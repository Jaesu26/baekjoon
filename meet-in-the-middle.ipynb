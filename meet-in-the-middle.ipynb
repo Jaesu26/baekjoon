{
 "cells": [
  {
   "cell_type": "markdown",
   "id": "0283b45d-a195-4222-9ded-cc9c874121b7",
   "metadata": {},
   "source": [
    "## 중간에서 만나기 (Meet In The Middle)"
   ]
  },
  {
   "cell_type": "markdown",
   "id": "d108d9db-c2f7-4aba-971c-37b7bd0b54e1",
   "metadata": {},
   "source": [
    "`-` 브루트포스를 사용할 때 $N$을 한 번에 탐색하지 않고 $\\frac{N}{2}$씩 쪼개서 탐색한 후 결합하여 시간 복잡도를 줄이는 알고리즘\n",
    "\n",
    "`-` 결합하는 과정에서 $\\alpha$의 시간이 추가로 소요된다 ($\\alpha$가 작아야 의미 있다)\n",
    "\n",
    "`-` $2^N$의 연산을 $2\\cdot 2^{^{\\tfrac{N}{2}}}+\\alpha$로 줄이는 테크닉\n",
    "\n",
    "`-` $O\\left(2^N\\right)\\to O\\left(2^{^{\\tfrac{N}{2}}}\\right)$"
   ]
  },
  {
   "cell_type": "markdown",
   "id": "71ba4e64-be58-40b3-81fa-50cee22d0851",
   "metadata": {},
   "source": [
    "## 합이 0인 네 정수\n",
    "\n",
    "- 문제 출처: [백준 7543번](https://www.acmicpc.net/problem/7453)"
   ]
  },
  {
   "cell_type": "markdown",
   "id": "755b6478-471e-4c52-8726-187067ed4bf4",
   "metadata": {},
   "source": [
    "`-` [세 수의 합](https://www.acmicpc.net/problem/2295)에서 chatgpt가 알려준 풀이를 보고 며칠동안 해결 방법이 떠오르지 않은 문제를 풀 수 있게 됐다\n",
    "\n",
    "`-` 이 문제를 쉽게 생각하면 반복문을 네 번 중첩해서 풀 수 있다\n",
    "\n",
    "`-` 물론 $N$이 최대 $4000$이므로 PyPy3로 제출해도 시간 초과이다\n",
    "\n",
    "`-` 이걸 배열 두 개씩 나누어 생각하자 (배열 $4$개 대신 배열 $\\frac{4}{2}$개씩 쪼개자) \n",
    "\n",
    "`-` 어차피 우리의 목표는 각 배열에서 숫자 하나를 뽑고 더한 값이 $0$인지 판단하는 것이다\n",
    "\n",
    "`-` 즉, $a+b+c+d$가 $0$인지 판단하는 것인데 이는 $(a+b) + (c+d)$가 $0$인지 판단하는 것과 동일하다\n",
    "\n",
    "`-` 배열을 두 개씩 나누고 가능한 두 수의 합 배열을 만들고 두 수의 합 배열에서 임의의 원소 $x$를 하나 골라 나머지 배열에 $-x$가 있는지 확인하면 된다\n",
    "\n",
    "`-` 두 수의 합 배열을 만드는데 $N^2$이고 두 수의 합 배열의 길이는 $N^2$이며 원소의 포함 유무는 해시를 쓰면 상수 시간이 걸리므로 $N^2 \\cdot 1 = N^2$이다\n",
    "\n",
    "`-` 즉, $N^4$의 작업을 $N^2+N^2=2N^2$번만에 끝낼 수 있게 바꾼 것이다 ($N^k \\to 2N^{^{\\tfrac{k}{2}}}$)\n",
    "\n",
    "`-` 배열을 두 개씩 나눌 때 아무렇게나 해도 된다 (어차피 두 배열을 더하면 결국엔 $a+b+c+d$이다)\n",
    "\n",
    "`-` 따라서 $N^4$의 작업을 $2N^2$번만에 끝낼 수 있게 바꾼 것이며 이 알고리즘의 시간 복잡도는 $O\\left(N^2\\right)$이다\n",
    "\n",
    "`-` 참고로 해시 테이블로 만들 때 카운터 딕셔너리를 사용할 것이다\n",
    "\n",
    "`-` 포함 유무를 판단할 $CD$배열을 카운터 딕셔너리로 만들자\n",
    "\n",
    "`-` $AB$ 합 배열에 $x$가 있고 $CD$ 카운터 딕셔너리에 $-x$가 있다면 $CD[-x]$만큼의 정답 쌍이 존재한다"
   ]
  },
  {
   "cell_type": "code",
   "execution_count": 2,
   "id": "337a5d06-248f-4775-85c5-5260c965d2ca",
   "metadata": {},
   "outputs": [
    {
     "name": "stdin",
     "output_type": "stream",
     "text": [
      " 6\n",
      " -45 22 42 -16\n",
      " -41 -27 56 30\n",
      " -36 53 -37 77\n",
      " -36 30 -75 -46\n",
      " 26 -38 -10 62\n",
      " -32 -54 -6 45\n"
     ]
    },
    {
     "name": "stdout",
     "output_type": "stream",
     "text": [
      "5\n"
     ]
    }
   ],
   "source": [
    "from collections import Counter\n",
    "\n",
    "\n",
    "def make_possible_sum(X, Y):\n",
    "    return [x + y for x in X for y in Y]\n",
    "\n",
    "\n",
    "def solution():\n",
    "    n = int(input())\n",
    "    A, B, C, D = [], [], [], []\n",
    "    for _ in range(n):\n",
    "        a, b, c, d = map(int, input().split())\n",
    "        A.append(a)\n",
    "        B.append(b)\n",
    "        C.append(c)\n",
    "        D.append(d)\n",
    "    AB = make_possible_sum(A, B)\n",
    "    CD = make_possible_sum(C, D)\n",
    "    CD_counter = Counter(CD)\n",
    "    answer = 0\n",
    "    for x in AB:\n",
    "        if -x not in CD_counter:\n",
    "            continue\n",
    "        answer += CD_counter[-x]\n",
    "    print(answer)\n",
    "\n",
    "\n",
    "solution()\n",
    "\n",
    "# input\n",
    "# 6\n",
    "# -45 22 42 -16\n",
    "# -41 -27 56 30\n",
    "# -36 53 -37 77\n",
    "# -36 30 -75 -46\n",
    "# 26 -38 -10 62\n",
    "# -32 -54 -6 45"
   ]
  },
  {
   "cell_type": "markdown",
   "id": "4cbd0275-b140-421a-87b2-beb8e31a54d7",
   "metadata": {},
   "source": [
    "`-` 참고: $O\\left(k^N\\right) = O\\left(2^N\\right)$, $k$는 상수"
   ]
  },
  {
   "cell_type": "code",
   "execution_count": null,
   "id": "e4f637ca-02a8-4573-be76-acaee869377c",
   "metadata": {},
   "outputs": [],
   "source": []
  }
 ],
 "metadata": {
  "kernelspec": {
   "display_name": "Python 3 (ipykernel)",
   "language": "python",
   "name": "python3"
  },
  "language_info": {
   "codemirror_mode": {
    "name": "ipython",
    "version": 3
   },
   "file_extension": ".py",
   "mimetype": "text/x-python",
   "name": "python",
   "nbconvert_exporter": "python",
   "pygments_lexer": "ipython3",
   "version": "3.8.11"
  }
 },
 "nbformat": 4,
 "nbformat_minor": 5
}
