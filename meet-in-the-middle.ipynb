{
 "cells": [
  {
   "cell_type": "markdown",
   "id": "0283b45d-a195-4222-9ded-cc9c874121b7",
   "metadata": {},
   "source": [
    "## 중간에서 만나기 (Meet In The Middle)"
   ]
  },
  {
   "cell_type": "markdown",
   "id": "d108d9db-c2f7-4aba-971c-37b7bd0b54e1",
   "metadata": {},
   "source": [
    "`-` 브루트 포스를 사용할 때 $N$을 한 번에 탐색하지 않고 $\\frac{N}{2}$씩 쪼개서 탐색한 후 결합하여 시간 복잡도를 줄이는 알고리즘\n",
    "\n",
    "`-` 결합하는 과정에서 $\\alpha$의 시간이 추가로 소요된다 ($\\alpha$가 작아야 의미 있다)\n",
    "\n",
    "`-` $2^N$의 연산을 $2\\cdot 2^{^{\\tfrac{N}{2}}}+\\alpha$로 줄이는 테크닉\n",
    "\n",
    "`-` $O\\left(2^N\\right)\\to O\\left(2^{^{\\tfrac{N}{2}}}\\right)$"
   ]
  },
  {
   "cell_type": "markdown",
   "id": "71ba4e64-be58-40b3-81fa-50cee22d0851",
   "metadata": {},
   "source": [
    "## 합이 0인 네 정수\n",
    "\n",
    "- 문제 출처: [백준 7543번](https://www.acmicpc.net/problem/7453)"
   ]
  },
  {
   "cell_type": "markdown",
   "id": "755b6478-471e-4c52-8726-187067ed4bf4",
   "metadata": {},
   "source": [
    "`-` [세 수의 합](https://www.acmicpc.net/problem/2295)에서 chatgpt가 알려준 풀이를 보고 며칠동안 해결 방법이 떠오르지 않은 문제를 풀 수 있게 됐다\n",
    "\n",
    "`-` 이 문제를 쉽게 생각하면 반복문을 네 번 중첩해서 풀 수 있다\n",
    "\n",
    "`-` 물론 $N$이 최대 $4000$이므로 PyPy3로 제출해도 시간 초과이다\n",
    "\n",
    "`-` 이걸 배열 두 개씩 나누어 생각하자 (배열 $4$개 대신 배열 $\\frac{4}{2}$개씩 쪼개자) \n",
    "\n",
    "`-` 어차피 우리의 목표는 각 배열에서 숫자 하나를 뽑고 더한 값이 $0$인지 판단하는 것이다\n",
    "\n",
    "`-` 즉, $a+b+c+d$가 $0$인지 판단하는 것인데 이는 $(a+b) + (c+d)$가 $0$인지 판단하는 것과 동일하다\n",
    "\n",
    "`-` 배열을 두 개씩 나누고 가능한 두 수의 합 배열을 만들고 두 수의 합 배열에서 임의의 원소 $x$를 하나 골라 나머지 배열에 $-x$가 있는지 확인하면 된다\n",
    "\n",
    "`-` 두 수의 합 배열을 만드는데 $N^2$이고 두 수의 합 배열의 길이는 $N^2$이며 원소의 포함 유무는 해시를 쓰면 상수 시간이 걸리므로 $N^2 \\cdot 1 = N^2$이다\n",
    "\n",
    "`-` 즉, $N^4$의 작업을 $N^2+N^2=2N^2$번만에 끝낼 수 있게 바꾼 것이다 ($N^k \\to 2N^{^{\\tfrac{k}{2}}}$)\n",
    "\n",
    "`-` 배열을 두 개씩 나눌 때 아무렇게나 해도 된다 (어차피 두 배열을 더하면 결국엔 $a+b+c+d$이다)\n",
    "\n",
    "`-` 따라서 $N^4$의 작업을 $2N^2$번만에 끝낼 수 있게 바꾼 것이며 이 알고리즘의 시간 복잡도는 $O\\left(N^2\\right)$이다\n",
    "\n",
    "`-` 참고로 해시 테이블로 만들 때 카운터 딕셔너리를 사용할 것이다\n",
    "\n",
    "`-` 포함 유무를 판단할 $CD$배열을 카운터 딕셔너리로 만들자\n",
    "\n",
    "`-` $AB$ 합 배열에 $x$가 있고 $CD$ 카운터 딕셔너리에 $-x$가 있다면 $CD[-x]$만큼의 정답 쌍이 존재한다"
   ]
  },
  {
   "cell_type": "code",
   "execution_count": 2,
   "id": "337a5d06-248f-4775-85c5-5260c965d2ca",
   "metadata": {},
   "outputs": [
    {
     "name": "stdin",
     "output_type": "stream",
     "text": [
      " 6\n",
      " -45 22 42 -16\n",
      " -41 -27 56 30\n",
      " -36 53 -37 77\n",
      " -36 30 -75 -46\n",
      " 26 -38 -10 62\n",
      " -32 -54 -6 45\n"
     ]
    },
    {
     "name": "stdout",
     "output_type": "stream",
     "text": [
      "5\n"
     ]
    }
   ],
   "source": [
    "from collections import Counter\n",
    "\n",
    "\n",
    "def make_possible_sum(X, Y):\n",
    "    return [x + y for x in X for y in Y]\n",
    "\n",
    "\n",
    "def solution():\n",
    "    n = int(input())\n",
    "    A, B, C, D = [], [], [], []\n",
    "    for _ in range(n):\n",
    "        a, b, c, d = map(int, input().split())\n",
    "        A.append(a)\n",
    "        B.append(b)\n",
    "        C.append(c)\n",
    "        D.append(d)\n",
    "    AB = make_possible_sum(A, B)\n",
    "    CD = make_possible_sum(C, D)\n",
    "    CD_counter = Counter(CD)\n",
    "    answer = 0\n",
    "    for x in AB:\n",
    "        if -x not in CD_counter:\n",
    "            continue\n",
    "        answer += CD_counter[-x]\n",
    "    print(answer)\n",
    "\n",
    "\n",
    "solution()\n",
    "\n",
    "# input\n",
    "# 6\n",
    "# -45 22 42 -16\n",
    "# -41 -27 56 30\n",
    "# -36 53 -37 77\n",
    "# -36 30 -75 -46\n",
    "# 26 -38 -10 62\n",
    "# -32 -54 -6 45"
   ]
  },
  {
   "cell_type": "markdown",
   "id": "108ae488-1b45-46b7-9194-5cdd92dd4380",
   "metadata": {},
   "source": [
    "## 냅색문제\n",
    "\n",
    "- 문제 출처: [백준 1450번](https://www.acmicpc.net/problem/1450)"
   ]
  },
  {
   "cell_type": "markdown",
   "id": "88b7da61-0de4-476a-a5b5-f30dc1155879",
   "metadata": {},
   "source": [
    "`-` 일단 $C$보다 무거운 물건은 못 담으니 제거하자\n",
    "\n",
    "`-` 단순한 방법은 모든 경우의 수를 탐색하는 것인데 가방에 넣는 방법의 수는 총 $2^N$이다\n",
    "\n",
    "`-` $N$이 최대 $30$이므로 완전 탐색은 시간 초과이다\n",
    "\n",
    "`-` `meet in the middle` 알고리즘 활용 문제로 단계별로 풀어보기에 있는 문제이다\n",
    "\n",
    "`-` 나는 `meet in the middle` 알고리즘을 이미 알고있으니 이를 이용해서 풀어보자\n",
    "\n",
    "`-` 물건을 가방에 넣는 각 경우의 수에 대해 전체 물건 무게 합이 가방 용량의 무게인 $C$보다 가벼운지 무거운지만 알면 된다\n",
    "\n",
    "`-` 물건을 무게순으로 정렬한 뒤 중앙을 기준으로 가벼운 쪽과 무거운 쪽으로 $\\frac{N}{2}$씩 나누자\n",
    "\n",
    "`-` 사실 아무렇게 절반으로 나눠도 상관은 없다\n",
    "\n",
    "`-` 근데 $N$이 최대 $30$이므로 정렬하는데 얼마 안걸리고 무거운 쪽만 모으면 경우의 수 계산할 때 전체 물건 무게 합이 $C$를 초과하는 경우를 제거할 수 있는 장점이 있다\n",
    "\n",
    "`-` 각각에 대해 $O\\left(N2^{\\frac{N}{2}}\\right)$ 시간을 소요해 물건을 가방에 담는 경우의 수에 대해 물건의 무게 합을 계산할 수 있다 (무게 합 계산에 $O(N)$ 소요)\n",
    "\n",
    "`-` 가벼운 쪽 무게 합 배열과 무거운 쪽 무게 합 배열을 결합하면 전체를 기준으로 경우의 수를 탐색한 것과 같다\n",
    "\n",
    "`-` 근데 이제 결합할 때 이분 탐색을 활용해서 시간 복잡도를 줄일 것이다\n",
    "\n",
    "`-` 이분 탐색을 위해 가벼운 쪽 무게 합 배열을 정렬하자\n",
    "\n",
    "`-` 이는 $O\\left(N2^{\\frac{N}{2}}\\right)$의 시간 복잡도를 가진다\n",
    "\n",
    "`-` 그리고 무거운 쪽 무게 합 배열을 순회하며 물건을 가방에 담는 경우의 수를 계산할 것이다\n",
    "\n",
    "`-` 무거운 쪽 무게 합 배열의 원소를 $w_b$라 하자\n",
    "\n",
    "`-` 그럼 $C - w_b$가 가방의 남은 공간에 담을 수 있는 무게의 최댓값이다\n",
    "\n",
    "`-` 가벼운 쪽 무게 합 배열에서 이분 탐색으로 $C-w_b$를 넘지 않은 원소의 인덱스 찾자\n",
    "\n",
    "`-` 해당 원소의 인덱스를 $i$라 하면 $i + 1$만큼 전체 경우의 수에 추가하면 된다\n",
    "\n",
    "`-` 이분 탐색은 $O(N)$이고 이를  $O\\left(2^{\\frac{N}{2}}\\right)$번 반복하므로 전체 알고리즘의 시간 복잡도는 $O\\left(N2^{\\frac{N}{2}}\\right)$이다"
   ]
  },
  {
   "cell_type": "code",
   "execution_count": 3,
   "id": "e4f637ca-02a8-4573-be76-acaee869377c",
   "metadata": {},
   "outputs": [
    {
     "name": "stdin",
     "output_type": "stream",
     "text": [
      " 2 1\n",
      " 1 1\n"
     ]
    },
    {
     "name": "stdout",
     "output_type": "stream",
     "text": [
      "3\n"
     ]
    }
   ],
   "source": [
    "def make_bitmasks(current, n, combinations):\n",
    "    if len(current) == n:\n",
    "        combinations.append(current.copy())\n",
    "        return\n",
    "    for i in [0, 1]:\n",
    "        current.append(i)\n",
    "        make_bitmasks(current, n, combinations)\n",
    "        current.pop()\n",
    "\n",
    "\n",
    "def make_weight_powerset(weights):\n",
    "    n = len(weights)\n",
    "    bitmasks = []\n",
    "    make_bitmasks([], n, bitmasks)\n",
    "    powerset = []\n",
    "    for bitmask in bitmasks:\n",
    "        w = 0\n",
    "        for i, b in enumerate(bitmask):\n",
    "            if b != 1:\n",
    "                continue\n",
    "            w += weights[i]\n",
    "        powerset.append(w)\n",
    "    return powerset\n",
    "    \n",
    "        \n",
    "def solution():\n",
    "    N, C = map(int, input().split())\n",
    "    weights = sorted(map(int, input().split()))\n",
    "    weights = [w for w in weights if w <= C]\n",
    "    n = len(weights)\n",
    "    if n <= 1:\n",
    "        print(n + 1)\n",
    "        return\n",
    "    mid = n // 2\n",
    "    light = weights[:mid]\n",
    "    heavy = weights[mid:]\n",
    "    light_sums = make_weight_powerset(light)\n",
    "    heavy_sums = make_weight_powerset(heavy)\n",
    "    light_sums.sort()\n",
    "    count = 0\n",
    "    n_l = len(light_sums)\n",
    "    for w_h in heavy_sums:\n",
    "        reminder = C - w_h\n",
    "        if reminder < 0:\n",
    "            continue\n",
    "        left = 0\n",
    "        right = n_l - 1\n",
    "        while left <= right:\n",
    "            mid = (left + right) // 2\n",
    "            w_l = light_sums[mid]\n",
    "            if w_l <= reminder:\n",
    "                left = mid + 1\n",
    "            else:\n",
    "                right = mid - 1\n",
    "        count += left\n",
    "    print(count)\n",
    "\n",
    "\n",
    "solution()\n",
    "\n",
    "# input\n",
    "# 2 1\n",
    "# 1 1"
   ]
  },
  {
   "cell_type": "markdown",
   "id": "fa1d5858-022e-4d5e-895a-c46b30d1933d",
   "metadata": {},
   "source": [
    "# 부분수열의 합 2\n",
    "\n",
    "- 문제 출처: [백준 1208번](https://www.acmicpc.net/problem/1208)"
   ]
  },
  {
   "cell_type": "code",
   "execution_count": 1,
   "id": "cf8f5802-6768-4b71-ae3b-e2d1824a795e",
   "metadata": {},
   "outputs": [
    {
     "name": "stdin",
     "output_type": "stream",
     "text": [
      " 5 0\n",
      " -7 -3 -2 5 8\n"
     ]
    },
    {
     "name": "stdout",
     "output_type": "stream",
     "text": [
      "1\n"
     ]
    }
   ],
   "source": [
    "# meet in the middle 활용 문제이다\n",
    "# 임의의 부분 집합 A = {a_1, a_2, ..., a_n}을 고려하자\n",
    "# sum(A) = S를 만족하는 부분 집합의 개수를 세어야 한다\n",
    "# 부분 집합 A를 둘로 나눌 수 있다\n",
    "# A_1 = {a_1, ..., a_x}, A_2 = {a_x+1, ..., a_n}\n",
    "# sum(A) = sum(A_1) + sum(A_2) = S\n",
    "# 따라서 S - sum(A_1) = sum(A_2)\n",
    "# 이를 바탕으로 전체 집합을 N/2씩 나누자\n",
    "# 절반이 아니라 N-q, q라 해보자\n",
    "# 그럼 부분집합의 크기가 2^{N-q}, 2^q인데 q가 작거나 크면 2^N에 근접해져 시간면에서 이득이 없다\n",
    "# 그래서 절반씩 나눈다\n",
    "# 각각 B_1, B_2라 하자\n",
    "# 각 집합에 대해 가능한 부분 집합을 만들고 합을 구하자\n",
    "# 합을 딕셔너리로 관리할 건데 key가 합, value가 등장 횟수이다\n",
    "# B_1의 딕셔너리 임의의 원소 b_1에 대해 S - key_{b_1}이 B_2의 딕셔너리에 존재하면 둘이 더해서 S가 된다\n",
    "# 이때 value_{b_1} * value_{b_2}만큼 합이 S가 되는 경우의 수가 존재하고 이를 정답에 누적하면 된다\n",
    "# 각각의 부분집합을 만드는데 2^{N/2}이고 딕셔너리 순회에 2^{N/2}이다 -> O(2^{N/2})\n",
    "# 합 구하는게 문제다 -> 나 냅색문제땐 어케했냐? 배열 2^N개 구해놓고 각각 sum했냐? 이러면 O(N 2^{N/2})임\n",
    "# 백트래킹하면서 리스트에 원소 추가가 아닌 덧셈 ,뺄셈으로 구현하자\n",
    "# 크기가 양수여야 하니 아무것도 안골랐을 때 생기는 0 하나를 차감해야 한다\n",
    "# 아무것도 안골르는걸 없앴기 때문에 N/2의 부분집합 내에서 생기는 S는 고려가 안된다\n",
    "# 따라서 각 집합에 S가 있으면 추가로 더해주자\n",
    "\n",
    "\n",
    "\n",
    "def combine(array, index, total, power_set):\n",
    "    if index == len(array):\n",
    "        power_set.append(total)\n",
    "        return\n",
    "    for value in [0, array[index]]:\n",
    "        total += value\n",
    "        combine(array, index + 1, total, power_set)\n",
    "        total -= value\n",
    "\n",
    "\n",
    "def solution():\n",
    "    global power_sub1, power_sub2, d1, d2\n",
    "    N, S = map(int, input().split())\n",
    "    array = list(map(int, input().split()))\n",
    "    mid = N // 2\n",
    "    sub1 = array[:mid]\n",
    "    sub2 = array[mid:]\n",
    "    power_sub1 = []\n",
    "    power_sub2 = []\n",
    "    combine(sub1, 0, 0, power_sub1)\n",
    "    combine(sub2, 0, 0, power_sub2)\n",
    "    d1 = {}\n",
    "    d2 = {}\n",
    "    for a in power_sub1:\n",
    "        if a not in d1:\n",
    "            d1[a] = 1\n",
    "        else:\n",
    "            d1[a] += 1\n",
    "    for a in power_sub2:\n",
    "        if a not in d2:\n",
    "            d2[a] = 1\n",
    "        else:\n",
    "            d2[a] += 1\n",
    "    d1[0] -= 1\n",
    "    d2[0] -= 1\n",
    "    answer = 0\n",
    "    for total, count in d1.items():\n",
    "        if S - total not in d2:\n",
    "            continue\n",
    "        answer += count * d2[S - total]\n",
    "    answer += d1.get(S, 0) + d2.get(S, 0)\n",
    "    print(answer)\n",
    "\n",
    "\n",
    "solution()\n",
    "\n",
    "# input\n",
    "# 5 0\n",
    "# -7 -3 -2 5 8"
   ]
  },
  {
   "cell_type": "code",
   "execution_count": null,
   "id": "adf33995-e015-443a-b8ab-ac1a3c7dc183",
   "metadata": {},
   "outputs": [],
   "source": []
  }
 ],
 "metadata": {
  "kernelspec": {
   "display_name": "Python 3 (ipykernel)",
   "language": "python",
   "name": "python3"
  },
  "language_info": {
   "codemirror_mode": {
    "name": "ipython",
    "version": 3
   },
   "file_extension": ".py",
   "mimetype": "text/x-python",
   "name": "python",
   "nbconvert_exporter": "python",
   "pygments_lexer": "ipython3",
   "version": "3.8.11"
  }
 },
 "nbformat": 4,
 "nbformat_minor": 5
}
